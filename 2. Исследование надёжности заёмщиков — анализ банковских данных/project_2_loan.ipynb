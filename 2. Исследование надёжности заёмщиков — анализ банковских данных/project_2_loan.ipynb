{
 "cells": [
  {
   "cell_type": "markdown",
   "id": "02d0ea78",
   "metadata": {},
   "source": [
    "# Исследование надежности заемщиков."
   ]
  },
  {
   "cell_type": "markdown",
   "id": "c8aa9457",
   "metadata": {},
   "source": [
    "Заказчик — кредитный отдел банка. Нужно разобраться, влияет ли семейное положение и количество детей клиента на факт погашения кредита в срок. Входные данные от банка — статистика о платёжеспособности клиентов.\n",
    "\n",
    "Результаты исследования будут учтены при построении модели кредитного скоринга — специальной системы, которая оценивает способность потенциального заёмщика вернуть кредит банку."
   ]
  },
  {
   "cell_type": "markdown",
   "id": "82d156fa",
   "metadata": {},
   "source": [
    "### Шаг 1. Обзор данных"
   ]
  },
  {
   "cell_type": "markdown",
   "id": "1c264ca2",
   "metadata": {},
   "source": [
    "Описание данных\n",
    "\n",
    "- children — количество детей в семье\n",
    "- days_employed — общий трудовой стаж в днях\n",
    "- dob_years — возраст клиента в годах\n",
    "- education — уровень образования клиента\n",
    "- education_id — идентификатор уровня образования\n",
    "- family_status — семейное положение\n",
    "- family_status_id — идентификатор семейного положения\n",
    "- gender — пол клиента\n",
    "- income_type — тип занятости\n",
    "- debt — имел ли задолженность по возврату кредитов\n",
    "- total_income — ежемесячный доход\n",
    "- purpose — цель получения кредита"
   ]
  },
  {
   "cell_type": "markdown",
   "id": "a966bd6f",
   "metadata": {},
   "source": [
    "Импортируем файл и изучим общую информацию"
   ]
  },
  {
   "cell_type": "code",
   "execution_count": 1,
   "id": "e7190b44",
   "metadata": {},
   "outputs": [],
   "source": [
    "import pandas as pd"
   ]
  },
  {
   "cell_type": "code",
   "execution_count": 2,
   "id": "5ba1fbe4",
   "metadata": {},
   "outputs": [
    {
     "data": {
      "text/html": [
       "<div>\n",
       "<style scoped>\n",
       "    .dataframe tbody tr th:only-of-type {\n",
       "        vertical-align: middle;\n",
       "    }\n",
       "\n",
       "    .dataframe tbody tr th {\n",
       "        vertical-align: top;\n",
       "    }\n",
       "\n",
       "    .dataframe thead th {\n",
       "        text-align: right;\n",
       "    }\n",
       "</style>\n",
       "<table border=\"1\" class=\"dataframe\">\n",
       "  <thead>\n",
       "    <tr style=\"text-align: right;\">\n",
       "      <th></th>\n",
       "      <th>children</th>\n",
       "      <th>days_employed</th>\n",
       "      <th>dob_years</th>\n",
       "      <th>education</th>\n",
       "      <th>education_id</th>\n",
       "      <th>family_status</th>\n",
       "      <th>family_status_id</th>\n",
       "      <th>gender</th>\n",
       "      <th>income_type</th>\n",
       "      <th>debt</th>\n",
       "      <th>total_income</th>\n",
       "      <th>purpose</th>\n",
       "    </tr>\n",
       "  </thead>\n",
       "  <tbody>\n",
       "    <tr>\n",
       "      <th>0</th>\n",
       "      <td>1</td>\n",
       "      <td>-8437.673028</td>\n",
       "      <td>42</td>\n",
       "      <td>высшее</td>\n",
       "      <td>0</td>\n",
       "      <td>женат / замужем</td>\n",
       "      <td>0</td>\n",
       "      <td>F</td>\n",
       "      <td>сотрудник</td>\n",
       "      <td>0</td>\n",
       "      <td>253875.639453</td>\n",
       "      <td>покупка жилья</td>\n",
       "    </tr>\n",
       "    <tr>\n",
       "      <th>1</th>\n",
       "      <td>1</td>\n",
       "      <td>-4024.803754</td>\n",
       "      <td>36</td>\n",
       "      <td>среднее</td>\n",
       "      <td>1</td>\n",
       "      <td>женат / замужем</td>\n",
       "      <td>0</td>\n",
       "      <td>F</td>\n",
       "      <td>сотрудник</td>\n",
       "      <td>0</td>\n",
       "      <td>112080.014102</td>\n",
       "      <td>приобретение автомобиля</td>\n",
       "    </tr>\n",
       "    <tr>\n",
       "      <th>2</th>\n",
       "      <td>0</td>\n",
       "      <td>-5623.422610</td>\n",
       "      <td>33</td>\n",
       "      <td>Среднее</td>\n",
       "      <td>1</td>\n",
       "      <td>женат / замужем</td>\n",
       "      <td>0</td>\n",
       "      <td>M</td>\n",
       "      <td>сотрудник</td>\n",
       "      <td>0</td>\n",
       "      <td>145885.952297</td>\n",
       "      <td>покупка жилья</td>\n",
       "    </tr>\n",
       "    <tr>\n",
       "      <th>3</th>\n",
       "      <td>3</td>\n",
       "      <td>-4124.747207</td>\n",
       "      <td>32</td>\n",
       "      <td>среднее</td>\n",
       "      <td>1</td>\n",
       "      <td>женат / замужем</td>\n",
       "      <td>0</td>\n",
       "      <td>M</td>\n",
       "      <td>сотрудник</td>\n",
       "      <td>0</td>\n",
       "      <td>267628.550329</td>\n",
       "      <td>дополнительное образование</td>\n",
       "    </tr>\n",
       "    <tr>\n",
       "      <th>4</th>\n",
       "      <td>0</td>\n",
       "      <td>340266.072047</td>\n",
       "      <td>53</td>\n",
       "      <td>среднее</td>\n",
       "      <td>1</td>\n",
       "      <td>гражданский брак</td>\n",
       "      <td>1</td>\n",
       "      <td>F</td>\n",
       "      <td>пенсионер</td>\n",
       "      <td>0</td>\n",
       "      <td>158616.077870</td>\n",
       "      <td>сыграть свадьбу</td>\n",
       "    </tr>\n",
       "    <tr>\n",
       "      <th>5</th>\n",
       "      <td>0</td>\n",
       "      <td>-926.185831</td>\n",
       "      <td>27</td>\n",
       "      <td>высшее</td>\n",
       "      <td>0</td>\n",
       "      <td>гражданский брак</td>\n",
       "      <td>1</td>\n",
       "      <td>M</td>\n",
       "      <td>компаньон</td>\n",
       "      <td>0</td>\n",
       "      <td>255763.565419</td>\n",
       "      <td>покупка жилья</td>\n",
       "    </tr>\n",
       "    <tr>\n",
       "      <th>6</th>\n",
       "      <td>0</td>\n",
       "      <td>-2879.202052</td>\n",
       "      <td>43</td>\n",
       "      <td>высшее</td>\n",
       "      <td>0</td>\n",
       "      <td>женат / замужем</td>\n",
       "      <td>0</td>\n",
       "      <td>F</td>\n",
       "      <td>компаньон</td>\n",
       "      <td>0</td>\n",
       "      <td>240525.971920</td>\n",
       "      <td>операции с жильем</td>\n",
       "    </tr>\n",
       "    <tr>\n",
       "      <th>7</th>\n",
       "      <td>0</td>\n",
       "      <td>-152.779569</td>\n",
       "      <td>50</td>\n",
       "      <td>СРЕДНЕЕ</td>\n",
       "      <td>1</td>\n",
       "      <td>женат / замужем</td>\n",
       "      <td>0</td>\n",
       "      <td>M</td>\n",
       "      <td>сотрудник</td>\n",
       "      <td>0</td>\n",
       "      <td>135823.934197</td>\n",
       "      <td>образование</td>\n",
       "    </tr>\n",
       "    <tr>\n",
       "      <th>8</th>\n",
       "      <td>2</td>\n",
       "      <td>-6929.865299</td>\n",
       "      <td>35</td>\n",
       "      <td>ВЫСШЕЕ</td>\n",
       "      <td>0</td>\n",
       "      <td>гражданский брак</td>\n",
       "      <td>1</td>\n",
       "      <td>F</td>\n",
       "      <td>сотрудник</td>\n",
       "      <td>0</td>\n",
       "      <td>95856.832424</td>\n",
       "      <td>на проведение свадьбы</td>\n",
       "    </tr>\n",
       "    <tr>\n",
       "      <th>9</th>\n",
       "      <td>0</td>\n",
       "      <td>-2188.756445</td>\n",
       "      <td>41</td>\n",
       "      <td>среднее</td>\n",
       "      <td>1</td>\n",
       "      <td>женат / замужем</td>\n",
       "      <td>0</td>\n",
       "      <td>M</td>\n",
       "      <td>сотрудник</td>\n",
       "      <td>0</td>\n",
       "      <td>144425.938277</td>\n",
       "      <td>покупка жилья для семьи</td>\n",
       "    </tr>\n",
       "    <tr>\n",
       "      <th>10</th>\n",
       "      <td>2</td>\n",
       "      <td>-4171.483647</td>\n",
       "      <td>36</td>\n",
       "      <td>высшее</td>\n",
       "      <td>0</td>\n",
       "      <td>женат / замужем</td>\n",
       "      <td>0</td>\n",
       "      <td>M</td>\n",
       "      <td>компаньон</td>\n",
       "      <td>0</td>\n",
       "      <td>113943.491460</td>\n",
       "      <td>покупка недвижимости</td>\n",
       "    </tr>\n",
       "    <tr>\n",
       "      <th>11</th>\n",
       "      <td>0</td>\n",
       "      <td>-792.701887</td>\n",
       "      <td>40</td>\n",
       "      <td>среднее</td>\n",
       "      <td>1</td>\n",
       "      <td>женат / замужем</td>\n",
       "      <td>0</td>\n",
       "      <td>F</td>\n",
       "      <td>сотрудник</td>\n",
       "      <td>0</td>\n",
       "      <td>77069.234271</td>\n",
       "      <td>покупка коммерческой недвижимости</td>\n",
       "    </tr>\n",
       "    <tr>\n",
       "      <th>12</th>\n",
       "      <td>0</td>\n",
       "      <td>NaN</td>\n",
       "      <td>65</td>\n",
       "      <td>среднее</td>\n",
       "      <td>1</td>\n",
       "      <td>гражданский брак</td>\n",
       "      <td>1</td>\n",
       "      <td>M</td>\n",
       "      <td>пенсионер</td>\n",
       "      <td>0</td>\n",
       "      <td>NaN</td>\n",
       "      <td>сыграть свадьбу</td>\n",
       "    </tr>\n",
       "    <tr>\n",
       "      <th>13</th>\n",
       "      <td>0</td>\n",
       "      <td>-1846.641941</td>\n",
       "      <td>54</td>\n",
       "      <td>неоконченное высшее</td>\n",
       "      <td>2</td>\n",
       "      <td>женат / замужем</td>\n",
       "      <td>0</td>\n",
       "      <td>F</td>\n",
       "      <td>сотрудник</td>\n",
       "      <td>0</td>\n",
       "      <td>130458.228857</td>\n",
       "      <td>приобретение автомобиля</td>\n",
       "    </tr>\n",
       "    <tr>\n",
       "      <th>14</th>\n",
       "      <td>0</td>\n",
       "      <td>-1844.956182</td>\n",
       "      <td>56</td>\n",
       "      <td>высшее</td>\n",
       "      <td>0</td>\n",
       "      <td>гражданский брак</td>\n",
       "      <td>1</td>\n",
       "      <td>F</td>\n",
       "      <td>компаньон</td>\n",
       "      <td>1</td>\n",
       "      <td>165127.911772</td>\n",
       "      <td>покупка жилой недвижимости</td>\n",
       "    </tr>\n",
       "    <tr>\n",
       "      <th>15</th>\n",
       "      <td>1</td>\n",
       "      <td>-972.364419</td>\n",
       "      <td>26</td>\n",
       "      <td>среднее</td>\n",
       "      <td>1</td>\n",
       "      <td>женат / замужем</td>\n",
       "      <td>0</td>\n",
       "      <td>F</td>\n",
       "      <td>сотрудник</td>\n",
       "      <td>0</td>\n",
       "      <td>116820.904450</td>\n",
       "      <td>строительство собственной недвижимости</td>\n",
       "    </tr>\n",
       "    <tr>\n",
       "      <th>16</th>\n",
       "      <td>0</td>\n",
       "      <td>-1719.934226</td>\n",
       "      <td>35</td>\n",
       "      <td>среднее</td>\n",
       "      <td>1</td>\n",
       "      <td>женат / замужем</td>\n",
       "      <td>0</td>\n",
       "      <td>F</td>\n",
       "      <td>сотрудник</td>\n",
       "      <td>0</td>\n",
       "      <td>289202.704229</td>\n",
       "      <td>недвижимость</td>\n",
       "    </tr>\n",
       "    <tr>\n",
       "      <th>17</th>\n",
       "      <td>0</td>\n",
       "      <td>-2369.999720</td>\n",
       "      <td>33</td>\n",
       "      <td>высшее</td>\n",
       "      <td>0</td>\n",
       "      <td>гражданский брак</td>\n",
       "      <td>1</td>\n",
       "      <td>M</td>\n",
       "      <td>сотрудник</td>\n",
       "      <td>0</td>\n",
       "      <td>90410.586745</td>\n",
       "      <td>строительство недвижимости</td>\n",
       "    </tr>\n",
       "    <tr>\n",
       "      <th>18</th>\n",
       "      <td>0</td>\n",
       "      <td>400281.136913</td>\n",
       "      <td>53</td>\n",
       "      <td>среднее</td>\n",
       "      <td>1</td>\n",
       "      <td>вдовец / вдова</td>\n",
       "      <td>2</td>\n",
       "      <td>F</td>\n",
       "      <td>пенсионер</td>\n",
       "      <td>0</td>\n",
       "      <td>56823.777243</td>\n",
       "      <td>на покупку подержанного автомобиля</td>\n",
       "    </tr>\n",
       "    <tr>\n",
       "      <th>19</th>\n",
       "      <td>0</td>\n",
       "      <td>-10038.818549</td>\n",
       "      <td>48</td>\n",
       "      <td>СРЕДНЕЕ</td>\n",
       "      <td>1</td>\n",
       "      <td>в разводе</td>\n",
       "      <td>3</td>\n",
       "      <td>F</td>\n",
       "      <td>сотрудник</td>\n",
       "      <td>0</td>\n",
       "      <td>242831.107982</td>\n",
       "      <td>на покупку своего автомобиля</td>\n",
       "    </tr>\n",
       "  </tbody>\n",
       "</table>\n",
       "</div>"
      ],
      "text/plain": [
       "    children  days_employed  dob_years            education  education_id  \\\n",
       "0          1   -8437.673028         42               высшее             0   \n",
       "1          1   -4024.803754         36              среднее             1   \n",
       "2          0   -5623.422610         33              Среднее             1   \n",
       "3          3   -4124.747207         32              среднее             1   \n",
       "4          0  340266.072047         53              среднее             1   \n",
       "5          0    -926.185831         27               высшее             0   \n",
       "6          0   -2879.202052         43               высшее             0   \n",
       "7          0    -152.779569         50              СРЕДНЕЕ             1   \n",
       "8          2   -6929.865299         35               ВЫСШЕЕ             0   \n",
       "9          0   -2188.756445         41              среднее             1   \n",
       "10         2   -4171.483647         36               высшее             0   \n",
       "11         0    -792.701887         40              среднее             1   \n",
       "12         0            NaN         65              среднее             1   \n",
       "13         0   -1846.641941         54  неоконченное высшее             2   \n",
       "14         0   -1844.956182         56               высшее             0   \n",
       "15         1    -972.364419         26              среднее             1   \n",
       "16         0   -1719.934226         35              среднее             1   \n",
       "17         0   -2369.999720         33               высшее             0   \n",
       "18         0  400281.136913         53              среднее             1   \n",
       "19         0  -10038.818549         48              СРЕДНЕЕ             1   \n",
       "\n",
       "       family_status  family_status_id gender income_type  debt  \\\n",
       "0    женат / замужем                 0      F   сотрудник     0   \n",
       "1    женат / замужем                 0      F   сотрудник     0   \n",
       "2    женат / замужем                 0      M   сотрудник     0   \n",
       "3    женат / замужем                 0      M   сотрудник     0   \n",
       "4   гражданский брак                 1      F   пенсионер     0   \n",
       "5   гражданский брак                 1      M   компаньон     0   \n",
       "6    женат / замужем                 0      F   компаньон     0   \n",
       "7    женат / замужем                 0      M   сотрудник     0   \n",
       "8   гражданский брак                 1      F   сотрудник     0   \n",
       "9    женат / замужем                 0      M   сотрудник     0   \n",
       "10   женат / замужем                 0      M   компаньон     0   \n",
       "11   женат / замужем                 0      F   сотрудник     0   \n",
       "12  гражданский брак                 1      M   пенсионер     0   \n",
       "13   женат / замужем                 0      F   сотрудник     0   \n",
       "14  гражданский брак                 1      F   компаньон     1   \n",
       "15   женат / замужем                 0      F   сотрудник     0   \n",
       "16   женат / замужем                 0      F   сотрудник     0   \n",
       "17  гражданский брак                 1      M   сотрудник     0   \n",
       "18    вдовец / вдова                 2      F   пенсионер     0   \n",
       "19         в разводе                 3      F   сотрудник     0   \n",
       "\n",
       "     total_income                                 purpose  \n",
       "0   253875.639453                           покупка жилья  \n",
       "1   112080.014102                 приобретение автомобиля  \n",
       "2   145885.952297                           покупка жилья  \n",
       "3   267628.550329              дополнительное образование  \n",
       "4   158616.077870                         сыграть свадьбу  \n",
       "5   255763.565419                           покупка жилья  \n",
       "6   240525.971920                       операции с жильем  \n",
       "7   135823.934197                             образование  \n",
       "8    95856.832424                   на проведение свадьбы  \n",
       "9   144425.938277                 покупка жилья для семьи  \n",
       "10  113943.491460                    покупка недвижимости  \n",
       "11   77069.234271       покупка коммерческой недвижимости  \n",
       "12            NaN                         сыграть свадьбу  \n",
       "13  130458.228857                 приобретение автомобиля  \n",
       "14  165127.911772              покупка жилой недвижимости  \n",
       "15  116820.904450  строительство собственной недвижимости  \n",
       "16  289202.704229                            недвижимость  \n",
       "17   90410.586745              строительство недвижимости  \n",
       "18   56823.777243      на покупку подержанного автомобиля  \n",
       "19  242831.107982            на покупку своего автомобиля  "
      ]
     },
     "metadata": {},
     "output_type": "display_data"
    },
    {
     "name": "stdout",
     "output_type": "stream",
     "text": [
      "<class 'pandas.core.frame.DataFrame'>\n",
      "RangeIndex: 21525 entries, 0 to 21524\n",
      "Data columns (total 12 columns):\n",
      " #   Column            Non-Null Count  Dtype  \n",
      "---  ------            --------------  -----  \n",
      " 0   children          21525 non-null  int64  \n",
      " 1   days_employed     19351 non-null  float64\n",
      " 2   dob_years         21525 non-null  int64  \n",
      " 3   education         21525 non-null  object \n",
      " 4   education_id      21525 non-null  int64  \n",
      " 5   family_status     21525 non-null  object \n",
      " 6   family_status_id  21525 non-null  int64  \n",
      " 7   gender            21525 non-null  object \n",
      " 8   income_type       21525 non-null  object \n",
      " 9   debt              21525 non-null  int64  \n",
      " 10  total_income      19351 non-null  float64\n",
      " 11  purpose           21525 non-null  object \n",
      "dtypes: float64(2), int64(5), object(5)\n",
      "memory usage: 2.0+ MB\n"
     ]
    }
   ],
   "source": [
    "df = pd.read_csv('/datasets/data.csv')\n",
    "\n",
    "display(df.head(20))\n",
    "df.info()"
   ]
  },
  {
   "cell_type": "code",
   "execution_count": 3,
   "id": "c0458a4f",
   "metadata": {
    "scrolled": true
   },
   "outputs": [
    {
     "data": {
      "text/plain": [
       "children               0\n",
       "days_employed       2174\n",
       "dob_years              0\n",
       "education              0\n",
       "education_id           0\n",
       "family_status          0\n",
       "family_status_id       0\n",
       "gender                 0\n",
       "income_type            0\n",
       "debt                   0\n",
       "total_income        2174\n",
       "purpose                0\n",
       "dtype: int64"
      ]
     },
     "execution_count": 3,
     "metadata": {},
     "output_type": "execute_result"
    }
   ],
   "source": [
    "df.isna().sum()"
   ]
  },
  {
   "cell_type": "markdown",
   "id": "fba5b910",
   "metadata": {},
   "source": [
    "Из полученных данных видно что:\n",
    "1. имеются пропущенные значения в столбцах 'days_employed' и 'total_income'\n",
    "2. в столбце 'days_employed' есть как положительные так и отрицательные значения.\n",
    "3. присутствует разный регистр в данных столбца 'education'\n",
    "4. столбец 'purpose' потребуется разбить на категории"
   ]
  },
  {
   "cell_type": "markdown",
   "id": "6da9e914",
   "metadata": {},
   "source": [
    "### Шаг 2.1 Заполнение пропусков"
   ]
  },
  {
   "cell_type": "markdown",
   "id": "0f3ca3af",
   "metadata": {},
   "source": [
    "Выведем данные cо строками с пропущенными данными:"
   ]
  },
  {
   "cell_type": "code",
   "execution_count": 4,
   "id": "2ea2c23b",
   "metadata": {
    "scrolled": false
   },
   "outputs": [
    {
     "data": {
      "text/html": [
       "<div>\n",
       "<style scoped>\n",
       "    .dataframe tbody tr th:only-of-type {\n",
       "        vertical-align: middle;\n",
       "    }\n",
       "\n",
       "    .dataframe tbody tr th {\n",
       "        vertical-align: top;\n",
       "    }\n",
       "\n",
       "    .dataframe thead th {\n",
       "        text-align: right;\n",
       "    }\n",
       "</style>\n",
       "<table border=\"1\" class=\"dataframe\">\n",
       "  <thead>\n",
       "    <tr style=\"text-align: right;\">\n",
       "      <th></th>\n",
       "      <th>children</th>\n",
       "      <th>days_employed</th>\n",
       "      <th>dob_years</th>\n",
       "      <th>education</th>\n",
       "      <th>education_id</th>\n",
       "      <th>family_status</th>\n",
       "      <th>family_status_id</th>\n",
       "      <th>gender</th>\n",
       "      <th>income_type</th>\n",
       "      <th>debt</th>\n",
       "      <th>total_income</th>\n",
       "      <th>purpose</th>\n",
       "    </tr>\n",
       "  </thead>\n",
       "  <tbody>\n",
       "    <tr>\n",
       "      <th>12</th>\n",
       "      <td>0</td>\n",
       "      <td>NaN</td>\n",
       "      <td>65</td>\n",
       "      <td>среднее</td>\n",
       "      <td>1</td>\n",
       "      <td>гражданский брак</td>\n",
       "      <td>1</td>\n",
       "      <td>M</td>\n",
       "      <td>пенсионер</td>\n",
       "      <td>0</td>\n",
       "      <td>NaN</td>\n",
       "      <td>сыграть свадьбу</td>\n",
       "    </tr>\n",
       "    <tr>\n",
       "      <th>26</th>\n",
       "      <td>0</td>\n",
       "      <td>NaN</td>\n",
       "      <td>41</td>\n",
       "      <td>среднее</td>\n",
       "      <td>1</td>\n",
       "      <td>женат / замужем</td>\n",
       "      <td>0</td>\n",
       "      <td>M</td>\n",
       "      <td>госслужащий</td>\n",
       "      <td>0</td>\n",
       "      <td>NaN</td>\n",
       "      <td>образование</td>\n",
       "    </tr>\n",
       "    <tr>\n",
       "      <th>29</th>\n",
       "      <td>0</td>\n",
       "      <td>NaN</td>\n",
       "      <td>63</td>\n",
       "      <td>среднее</td>\n",
       "      <td>1</td>\n",
       "      <td>Не женат / не замужем</td>\n",
       "      <td>4</td>\n",
       "      <td>F</td>\n",
       "      <td>пенсионер</td>\n",
       "      <td>0</td>\n",
       "      <td>NaN</td>\n",
       "      <td>строительство жилой недвижимости</td>\n",
       "    </tr>\n",
       "    <tr>\n",
       "      <th>41</th>\n",
       "      <td>0</td>\n",
       "      <td>NaN</td>\n",
       "      <td>50</td>\n",
       "      <td>среднее</td>\n",
       "      <td>1</td>\n",
       "      <td>женат / замужем</td>\n",
       "      <td>0</td>\n",
       "      <td>F</td>\n",
       "      <td>госслужащий</td>\n",
       "      <td>0</td>\n",
       "      <td>NaN</td>\n",
       "      <td>сделка с подержанным автомобилем</td>\n",
       "    </tr>\n",
       "    <tr>\n",
       "      <th>55</th>\n",
       "      <td>0</td>\n",
       "      <td>NaN</td>\n",
       "      <td>54</td>\n",
       "      <td>среднее</td>\n",
       "      <td>1</td>\n",
       "      <td>гражданский брак</td>\n",
       "      <td>1</td>\n",
       "      <td>F</td>\n",
       "      <td>пенсионер</td>\n",
       "      <td>1</td>\n",
       "      <td>NaN</td>\n",
       "      <td>сыграть свадьбу</td>\n",
       "    </tr>\n",
       "    <tr>\n",
       "      <th>65</th>\n",
       "      <td>0</td>\n",
       "      <td>NaN</td>\n",
       "      <td>21</td>\n",
       "      <td>среднее</td>\n",
       "      <td>1</td>\n",
       "      <td>Не женат / не замужем</td>\n",
       "      <td>4</td>\n",
       "      <td>M</td>\n",
       "      <td>компаньон</td>\n",
       "      <td>0</td>\n",
       "      <td>NaN</td>\n",
       "      <td>операции с коммерческой недвижимостью</td>\n",
       "    </tr>\n",
       "    <tr>\n",
       "      <th>67</th>\n",
       "      <td>0</td>\n",
       "      <td>NaN</td>\n",
       "      <td>52</td>\n",
       "      <td>высшее</td>\n",
       "      <td>0</td>\n",
       "      <td>женат / замужем</td>\n",
       "      <td>0</td>\n",
       "      <td>F</td>\n",
       "      <td>пенсионер</td>\n",
       "      <td>0</td>\n",
       "      <td>NaN</td>\n",
       "      <td>покупка жилья для семьи</td>\n",
       "    </tr>\n",
       "    <tr>\n",
       "      <th>72</th>\n",
       "      <td>1</td>\n",
       "      <td>NaN</td>\n",
       "      <td>32</td>\n",
       "      <td>высшее</td>\n",
       "      <td>0</td>\n",
       "      <td>женат / замужем</td>\n",
       "      <td>0</td>\n",
       "      <td>M</td>\n",
       "      <td>госслужащий</td>\n",
       "      <td>0</td>\n",
       "      <td>NaN</td>\n",
       "      <td>операции с коммерческой недвижимостью</td>\n",
       "    </tr>\n",
       "    <tr>\n",
       "      <th>82</th>\n",
       "      <td>2</td>\n",
       "      <td>NaN</td>\n",
       "      <td>50</td>\n",
       "      <td>высшее</td>\n",
       "      <td>0</td>\n",
       "      <td>женат / замужем</td>\n",
       "      <td>0</td>\n",
       "      <td>F</td>\n",
       "      <td>сотрудник</td>\n",
       "      <td>0</td>\n",
       "      <td>NaN</td>\n",
       "      <td>жилье</td>\n",
       "    </tr>\n",
       "    <tr>\n",
       "      <th>83</th>\n",
       "      <td>0</td>\n",
       "      <td>NaN</td>\n",
       "      <td>52</td>\n",
       "      <td>среднее</td>\n",
       "      <td>1</td>\n",
       "      <td>женат / замужем</td>\n",
       "      <td>0</td>\n",
       "      <td>M</td>\n",
       "      <td>сотрудник</td>\n",
       "      <td>0</td>\n",
       "      <td>NaN</td>\n",
       "      <td>жилье</td>\n",
       "    </tr>\n",
       "    <tr>\n",
       "      <th>90</th>\n",
       "      <td>2</td>\n",
       "      <td>NaN</td>\n",
       "      <td>35</td>\n",
       "      <td>высшее</td>\n",
       "      <td>0</td>\n",
       "      <td>женат / замужем</td>\n",
       "      <td>0</td>\n",
       "      <td>F</td>\n",
       "      <td>сотрудник</td>\n",
       "      <td>0</td>\n",
       "      <td>NaN</td>\n",
       "      <td>операции с жильем</td>\n",
       "    </tr>\n",
       "    <tr>\n",
       "      <th>94</th>\n",
       "      <td>1</td>\n",
       "      <td>NaN</td>\n",
       "      <td>34</td>\n",
       "      <td>высшее</td>\n",
       "      <td>0</td>\n",
       "      <td>гражданский брак</td>\n",
       "      <td>1</td>\n",
       "      <td>F</td>\n",
       "      <td>компаньон</td>\n",
       "      <td>0</td>\n",
       "      <td>NaN</td>\n",
       "      <td>на проведение свадьбы</td>\n",
       "    </tr>\n",
       "    <tr>\n",
       "      <th>96</th>\n",
       "      <td>0</td>\n",
       "      <td>NaN</td>\n",
       "      <td>44</td>\n",
       "      <td>СРЕДНЕЕ</td>\n",
       "      <td>1</td>\n",
       "      <td>женат / замужем</td>\n",
       "      <td>0</td>\n",
       "      <td>F</td>\n",
       "      <td>сотрудник</td>\n",
       "      <td>0</td>\n",
       "      <td>NaN</td>\n",
       "      <td>покупка жилой недвижимости</td>\n",
       "    </tr>\n",
       "    <tr>\n",
       "      <th>97</th>\n",
       "      <td>0</td>\n",
       "      <td>NaN</td>\n",
       "      <td>47</td>\n",
       "      <td>высшее</td>\n",
       "      <td>0</td>\n",
       "      <td>женат / замужем</td>\n",
       "      <td>0</td>\n",
       "      <td>F</td>\n",
       "      <td>сотрудник</td>\n",
       "      <td>0</td>\n",
       "      <td>NaN</td>\n",
       "      <td>профильное образование</td>\n",
       "    </tr>\n",
       "    <tr>\n",
       "      <th>120</th>\n",
       "      <td>0</td>\n",
       "      <td>NaN</td>\n",
       "      <td>46</td>\n",
       "      <td>среднее</td>\n",
       "      <td>1</td>\n",
       "      <td>женат / замужем</td>\n",
       "      <td>0</td>\n",
       "      <td>F</td>\n",
       "      <td>сотрудник</td>\n",
       "      <td>0</td>\n",
       "      <td>NaN</td>\n",
       "      <td>высшее образование</td>\n",
       "    </tr>\n",
       "    <tr>\n",
       "      <th>121</th>\n",
       "      <td>0</td>\n",
       "      <td>NaN</td>\n",
       "      <td>29</td>\n",
       "      <td>высшее</td>\n",
       "      <td>0</td>\n",
       "      <td>женат / замужем</td>\n",
       "      <td>0</td>\n",
       "      <td>F</td>\n",
       "      <td>компаньон</td>\n",
       "      <td>0</td>\n",
       "      <td>NaN</td>\n",
       "      <td>автомобиль</td>\n",
       "    </tr>\n",
       "    <tr>\n",
       "      <th>135</th>\n",
       "      <td>0</td>\n",
       "      <td>NaN</td>\n",
       "      <td>27</td>\n",
       "      <td>среднее</td>\n",
       "      <td>1</td>\n",
       "      <td>женат / замужем</td>\n",
       "      <td>0</td>\n",
       "      <td>M</td>\n",
       "      <td>компаньон</td>\n",
       "      <td>0</td>\n",
       "      <td>NaN</td>\n",
       "      <td>жилье</td>\n",
       "    </tr>\n",
       "    <tr>\n",
       "      <th>141</th>\n",
       "      <td>0</td>\n",
       "      <td>NaN</td>\n",
       "      <td>39</td>\n",
       "      <td>среднее</td>\n",
       "      <td>1</td>\n",
       "      <td>гражданский брак</td>\n",
       "      <td>1</td>\n",
       "      <td>M</td>\n",
       "      <td>сотрудник</td>\n",
       "      <td>0</td>\n",
       "      <td>NaN</td>\n",
       "      <td>свадьба</td>\n",
       "    </tr>\n",
       "    <tr>\n",
       "      <th>145</th>\n",
       "      <td>0</td>\n",
       "      <td>NaN</td>\n",
       "      <td>62</td>\n",
       "      <td>среднее</td>\n",
       "      <td>1</td>\n",
       "      <td>женат / замужем</td>\n",
       "      <td>0</td>\n",
       "      <td>M</td>\n",
       "      <td>пенсионер</td>\n",
       "      <td>0</td>\n",
       "      <td>NaN</td>\n",
       "      <td>строительство недвижимости</td>\n",
       "    </tr>\n",
       "    <tr>\n",
       "      <th>174</th>\n",
       "      <td>0</td>\n",
       "      <td>NaN</td>\n",
       "      <td>55</td>\n",
       "      <td>высшее</td>\n",
       "      <td>0</td>\n",
       "      <td>вдовец / вдова</td>\n",
       "      <td>2</td>\n",
       "      <td>F</td>\n",
       "      <td>компаньон</td>\n",
       "      <td>0</td>\n",
       "      <td>NaN</td>\n",
       "      <td>свой автомобиль</td>\n",
       "    </tr>\n",
       "  </tbody>\n",
       "</table>\n",
       "</div>"
      ],
      "text/plain": [
       "     children  days_employed  dob_years education  education_id  \\\n",
       "12          0            NaN         65   среднее             1   \n",
       "26          0            NaN         41   среднее             1   \n",
       "29          0            NaN         63   среднее             1   \n",
       "41          0            NaN         50   среднее             1   \n",
       "55          0            NaN         54   среднее             1   \n",
       "65          0            NaN         21   среднее             1   \n",
       "67          0            NaN         52    высшее             0   \n",
       "72          1            NaN         32    высшее             0   \n",
       "82          2            NaN         50    высшее             0   \n",
       "83          0            NaN         52   среднее             1   \n",
       "90          2            NaN         35    высшее             0   \n",
       "94          1            NaN         34    высшее             0   \n",
       "96          0            NaN         44   СРЕДНЕЕ             1   \n",
       "97          0            NaN         47    высшее             0   \n",
       "120         0            NaN         46   среднее             1   \n",
       "121         0            NaN         29    высшее             0   \n",
       "135         0            NaN         27   среднее             1   \n",
       "141         0            NaN         39   среднее             1   \n",
       "145         0            NaN         62   среднее             1   \n",
       "174         0            NaN         55    высшее             0   \n",
       "\n",
       "             family_status  family_status_id gender  income_type  debt  \\\n",
       "12        гражданский брак                 1      M    пенсионер     0   \n",
       "26         женат / замужем                 0      M  госслужащий     0   \n",
       "29   Не женат / не замужем                 4      F    пенсионер     0   \n",
       "41         женат / замужем                 0      F  госслужащий     0   \n",
       "55        гражданский брак                 1      F    пенсионер     1   \n",
       "65   Не женат / не замужем                 4      M    компаньон     0   \n",
       "67         женат / замужем                 0      F    пенсионер     0   \n",
       "72         женат / замужем                 0      M  госслужащий     0   \n",
       "82         женат / замужем                 0      F    сотрудник     0   \n",
       "83         женат / замужем                 0      M    сотрудник     0   \n",
       "90         женат / замужем                 0      F    сотрудник     0   \n",
       "94        гражданский брак                 1      F    компаньон     0   \n",
       "96         женат / замужем                 0      F    сотрудник     0   \n",
       "97         женат / замужем                 0      F    сотрудник     0   \n",
       "120        женат / замужем                 0      F    сотрудник     0   \n",
       "121        женат / замужем                 0      F    компаньон     0   \n",
       "135        женат / замужем                 0      M    компаньон     0   \n",
       "141       гражданский брак                 1      M    сотрудник     0   \n",
       "145        женат / замужем                 0      M    пенсионер     0   \n",
       "174         вдовец / вдова                 2      F    компаньон     0   \n",
       "\n",
       "     total_income                                purpose  \n",
       "12            NaN                        сыграть свадьбу  \n",
       "26            NaN                            образование  \n",
       "29            NaN       строительство жилой недвижимости  \n",
       "41            NaN       сделка с подержанным автомобилем  \n",
       "55            NaN                        сыграть свадьбу  \n",
       "65            NaN  операции с коммерческой недвижимостью  \n",
       "67            NaN                покупка жилья для семьи  \n",
       "72            NaN  операции с коммерческой недвижимостью  \n",
       "82            NaN                                  жилье  \n",
       "83            NaN                                  жилье  \n",
       "90            NaN                      операции с жильем  \n",
       "94            NaN                  на проведение свадьбы  \n",
       "96            NaN             покупка жилой недвижимости  \n",
       "97            NaN                 профильное образование  \n",
       "120           NaN                     высшее образование  \n",
       "121           NaN                             автомобиль  \n",
       "135           NaN                                  жилье  \n",
       "141           NaN                                свадьба  \n",
       "145           NaN             строительство недвижимости  \n",
       "174           NaN                        свой автомобиль  "
      ]
     },
     "execution_count": 4,
     "metadata": {},
     "output_type": "execute_result"
    }
   ],
   "source": [
    "df[df['total_income'].isna() == True].head(20)"
   ]
  },
  {
   "cell_type": "markdown",
   "id": "03e6ae19",
   "metadata": {},
   "source": [
    "Отсутствующие значения в столбцах 'days_employed' и 'total_income' совпадают по строкам, проверим это:"
   ]
  },
  {
   "cell_type": "code",
   "execution_count": 5,
   "id": "ab03d0b0",
   "metadata": {},
   "outputs": [
    {
     "data": {
      "text/plain": [
       "children            0.0\n",
       "days_employed       0.0\n",
       "dob_years           0.0\n",
       "education           0.0\n",
       "education_id        0.0\n",
       "family_status       0.0\n",
       "family_status_id    0.0\n",
       "gender              0.0\n",
       "income_type         0.0\n",
       "debt                0.0\n",
       "total_income        0.0\n",
       "purpose             0.0\n",
       "dtype: float64"
      ]
     },
     "execution_count": 5,
     "metadata": {},
     "output_type": "execute_result"
    }
   ],
   "source": [
    "df.loc[(df['total_income'].isna() == True) & (df['days_employed'].isna() == False)].sum()"
   ]
  },
  {
   "cell_type": "code",
   "execution_count": 6,
   "id": "e9d2832f",
   "metadata": {
    "scrolled": true
   },
   "outputs": [
    {
     "data": {
      "text/plain": [
       "'10.1%'"
      ]
     },
     "execution_count": 6,
     "metadata": {},
     "output_type": "execute_result"
    }
   ],
   "source": [
    "'{:.1%}'.format(len(df[df['total_income'].isna() == True]) / len(df))"
   ]
  },
  {
   "cell_type": "markdown",
   "id": "72fe21f9",
   "metadata": {},
   "source": [
    "Отсутствует 10 процентов данных, что существенно повлияет на результат исследования. Потребуется заполнить эти пропуски данных.\n",
    "Оба столбца имеют тип float64, оценим диапазоны значений в этих столбцам"
   ]
  },
  {
   "cell_type": "code",
   "execution_count": 7,
   "id": "e26114f0",
   "metadata": {},
   "outputs": [
    {
     "data": {
      "text/plain": [
       "children            0.000000\n",
       "days_employed       0.100999\n",
       "dob_years           0.000000\n",
       "education           0.000000\n",
       "education_id        0.000000\n",
       "family_status       0.000000\n",
       "family_status_id    0.000000\n",
       "gender              0.000000\n",
       "income_type         0.000000\n",
       "debt                0.000000\n",
       "total_income        0.100999\n",
       "purpose             0.000000\n",
       "dtype: float64"
      ]
     },
     "execution_count": 7,
     "metadata": {},
     "output_type": "execute_result"
    }
   ],
   "source": [
    "df.isna().mean()"
   ]
  },
  {
   "cell_type": "code",
   "execution_count": 8,
   "id": "a85a630b",
   "metadata": {},
   "outputs": [
    {
     "data": {
      "text/plain": [
       "401755.40047533"
      ]
     },
     "metadata": {},
     "output_type": "display_data"
    },
    {
     "data": {
      "text/plain": [
       "-18388.949900568383"
      ]
     },
     "metadata": {},
     "output_type": "display_data"
    },
    {
     "data": {
      "text/plain": [
       "2265604.028722744"
      ]
     },
     "metadata": {},
     "output_type": "display_data"
    },
    {
     "data": {
      "text/plain": [
       "20667.26379327158"
      ]
     },
     "metadata": {},
     "output_type": "display_data"
    }
   ],
   "source": [
    "display(df['days_employed'].max())\n",
    "display(df['days_employed'].min())\n",
    "display(df['total_income'].max())\n",
    "display(df['total_income'].min())"
   ]
  },
  {
   "cell_type": "markdown",
   "id": "202cf997",
   "metadata": {},
   "source": [
    "данные в столбце 'total_income' можно заполнить медианными значениям.\n",
    "в столбце days_employed — общий трудовой стаж в днях, имеются отрицательные значения, определим какие строки соответствуют отрицательным значениям а какие положительным:"
   ]
  },
  {
   "cell_type": "code",
   "execution_count": 9,
   "id": "7192d9a3",
   "metadata": {},
   "outputs": [
    {
     "data": {
      "text/html": [
       "<div>\n",
       "<style scoped>\n",
       "    .dataframe tbody tr th:only-of-type {\n",
       "        vertical-align: middle;\n",
       "    }\n",
       "\n",
       "    .dataframe tbody tr th {\n",
       "        vertical-align: top;\n",
       "    }\n",
       "\n",
       "    .dataframe thead th {\n",
       "        text-align: right;\n",
       "    }\n",
       "</style>\n",
       "<table border=\"1\" class=\"dataframe\">\n",
       "  <thead>\n",
       "    <tr style=\"text-align: right;\">\n",
       "      <th></th>\n",
       "      <th>children</th>\n",
       "      <th>days_employed</th>\n",
       "      <th>dob_years</th>\n",
       "      <th>education</th>\n",
       "      <th>education_id</th>\n",
       "      <th>family_status</th>\n",
       "      <th>family_status_id</th>\n",
       "      <th>gender</th>\n",
       "      <th>income_type</th>\n",
       "      <th>debt</th>\n",
       "      <th>total_income</th>\n",
       "      <th>purpose</th>\n",
       "    </tr>\n",
       "  </thead>\n",
       "  <tbody>\n",
       "    <tr>\n",
       "      <th>4</th>\n",
       "      <td>0</td>\n",
       "      <td>340266.072047</td>\n",
       "      <td>53</td>\n",
       "      <td>среднее</td>\n",
       "      <td>1</td>\n",
       "      <td>гражданский брак</td>\n",
       "      <td>1</td>\n",
       "      <td>F</td>\n",
       "      <td>пенсионер</td>\n",
       "      <td>0</td>\n",
       "      <td>158616.077870</td>\n",
       "      <td>сыграть свадьбу</td>\n",
       "    </tr>\n",
       "    <tr>\n",
       "      <th>18</th>\n",
       "      <td>0</td>\n",
       "      <td>400281.136913</td>\n",
       "      <td>53</td>\n",
       "      <td>среднее</td>\n",
       "      <td>1</td>\n",
       "      <td>вдовец / вдова</td>\n",
       "      <td>2</td>\n",
       "      <td>F</td>\n",
       "      <td>пенсионер</td>\n",
       "      <td>0</td>\n",
       "      <td>56823.777243</td>\n",
       "      <td>на покупку подержанного автомобиля</td>\n",
       "    </tr>\n",
       "    <tr>\n",
       "      <th>24</th>\n",
       "      <td>1</td>\n",
       "      <td>338551.952911</td>\n",
       "      <td>57</td>\n",
       "      <td>среднее</td>\n",
       "      <td>1</td>\n",
       "      <td>Не женат / не замужем</td>\n",
       "      <td>4</td>\n",
       "      <td>F</td>\n",
       "      <td>пенсионер</td>\n",
       "      <td>0</td>\n",
       "      <td>290547.235997</td>\n",
       "      <td>операции с коммерческой недвижимостью</td>\n",
       "    </tr>\n",
       "    <tr>\n",
       "      <th>25</th>\n",
       "      <td>0</td>\n",
       "      <td>363548.489348</td>\n",
       "      <td>67</td>\n",
       "      <td>среднее</td>\n",
       "      <td>1</td>\n",
       "      <td>женат / замужем</td>\n",
       "      <td>0</td>\n",
       "      <td>M</td>\n",
       "      <td>пенсионер</td>\n",
       "      <td>0</td>\n",
       "      <td>55112.757732</td>\n",
       "      <td>покупка недвижимости</td>\n",
       "    </tr>\n",
       "    <tr>\n",
       "      <th>30</th>\n",
       "      <td>1</td>\n",
       "      <td>335581.668515</td>\n",
       "      <td>62</td>\n",
       "      <td>среднее</td>\n",
       "      <td>1</td>\n",
       "      <td>женат / замужем</td>\n",
       "      <td>0</td>\n",
       "      <td>F</td>\n",
       "      <td>пенсионер</td>\n",
       "      <td>0</td>\n",
       "      <td>171456.067993</td>\n",
       "      <td>операции с коммерческой недвижимостью</td>\n",
       "    </tr>\n",
       "    <tr>\n",
       "      <th>...</th>\n",
       "      <td>...</td>\n",
       "      <td>...</td>\n",
       "      <td>...</td>\n",
       "      <td>...</td>\n",
       "      <td>...</td>\n",
       "      <td>...</td>\n",
       "      <td>...</td>\n",
       "      <td>...</td>\n",
       "      <td>...</td>\n",
       "      <td>...</td>\n",
       "      <td>...</td>\n",
       "      <td>...</td>\n",
       "    </tr>\n",
       "    <tr>\n",
       "      <th>21505</th>\n",
       "      <td>0</td>\n",
       "      <td>338904.866406</td>\n",
       "      <td>53</td>\n",
       "      <td>среднее</td>\n",
       "      <td>1</td>\n",
       "      <td>гражданский брак</td>\n",
       "      <td>1</td>\n",
       "      <td>M</td>\n",
       "      <td>пенсионер</td>\n",
       "      <td>0</td>\n",
       "      <td>75439.993167</td>\n",
       "      <td>сыграть свадьбу</td>\n",
       "    </tr>\n",
       "    <tr>\n",
       "      <th>21508</th>\n",
       "      <td>0</td>\n",
       "      <td>386497.714078</td>\n",
       "      <td>62</td>\n",
       "      <td>среднее</td>\n",
       "      <td>1</td>\n",
       "      <td>женат / замужем</td>\n",
       "      <td>0</td>\n",
       "      <td>M</td>\n",
       "      <td>пенсионер</td>\n",
       "      <td>0</td>\n",
       "      <td>72638.590915</td>\n",
       "      <td>недвижимость</td>\n",
       "    </tr>\n",
       "    <tr>\n",
       "      <th>21509</th>\n",
       "      <td>0</td>\n",
       "      <td>362161.054124</td>\n",
       "      <td>59</td>\n",
       "      <td>высшее</td>\n",
       "      <td>0</td>\n",
       "      <td>женат / замужем</td>\n",
       "      <td>0</td>\n",
       "      <td>M</td>\n",
       "      <td>пенсионер</td>\n",
       "      <td>0</td>\n",
       "      <td>73029.059379</td>\n",
       "      <td>операции с недвижимостью</td>\n",
       "    </tr>\n",
       "    <tr>\n",
       "      <th>21518</th>\n",
       "      <td>0</td>\n",
       "      <td>373995.710838</td>\n",
       "      <td>59</td>\n",
       "      <td>СРЕДНЕЕ</td>\n",
       "      <td>1</td>\n",
       "      <td>женат / замужем</td>\n",
       "      <td>0</td>\n",
       "      <td>F</td>\n",
       "      <td>пенсионер</td>\n",
       "      <td>0</td>\n",
       "      <td>153864.650328</td>\n",
       "      <td>сделка с автомобилем</td>\n",
       "    </tr>\n",
       "    <tr>\n",
       "      <th>21521</th>\n",
       "      <td>0</td>\n",
       "      <td>343937.404131</td>\n",
       "      <td>67</td>\n",
       "      <td>среднее</td>\n",
       "      <td>1</td>\n",
       "      <td>женат / замужем</td>\n",
       "      <td>0</td>\n",
       "      <td>F</td>\n",
       "      <td>пенсионер</td>\n",
       "      <td>0</td>\n",
       "      <td>155999.806512</td>\n",
       "      <td>сделка с автомобилем</td>\n",
       "    </tr>\n",
       "  </tbody>\n",
       "</table>\n",
       "<p>3445 rows × 12 columns</p>\n",
       "</div>"
      ],
      "text/plain": [
       "       children  days_employed  dob_years education  education_id  \\\n",
       "4             0  340266.072047         53   среднее             1   \n",
       "18            0  400281.136913         53   среднее             1   \n",
       "24            1  338551.952911         57   среднее             1   \n",
       "25            0  363548.489348         67   среднее             1   \n",
       "30            1  335581.668515         62   среднее             1   \n",
       "...         ...            ...        ...       ...           ...   \n",
       "21505         0  338904.866406         53   среднее             1   \n",
       "21508         0  386497.714078         62   среднее             1   \n",
       "21509         0  362161.054124         59    высшее             0   \n",
       "21518         0  373995.710838         59   СРЕДНЕЕ             1   \n",
       "21521         0  343937.404131         67   среднее             1   \n",
       "\n",
       "               family_status  family_status_id gender income_type  debt  \\\n",
       "4           гражданский брак                 1      F   пенсионер     0   \n",
       "18            вдовец / вдова                 2      F   пенсионер     0   \n",
       "24     Не женат / не замужем                 4      F   пенсионер     0   \n",
       "25           женат / замужем                 0      M   пенсионер     0   \n",
       "30           женат / замужем                 0      F   пенсионер     0   \n",
       "...                      ...               ...    ...         ...   ...   \n",
       "21505       гражданский брак                 1      M   пенсионер     0   \n",
       "21508        женат / замужем                 0      M   пенсионер     0   \n",
       "21509        женат / замужем                 0      M   пенсионер     0   \n",
       "21518        женат / замужем                 0      F   пенсионер     0   \n",
       "21521        женат / замужем                 0      F   пенсионер     0   \n",
       "\n",
       "        total_income                                purpose  \n",
       "4      158616.077870                        сыграть свадьбу  \n",
       "18      56823.777243     на покупку подержанного автомобиля  \n",
       "24     290547.235997  операции с коммерческой недвижимостью  \n",
       "25      55112.757732                   покупка недвижимости  \n",
       "30     171456.067993  операции с коммерческой недвижимостью  \n",
       "...              ...                                    ...  \n",
       "21505   75439.993167                        сыграть свадьбу  \n",
       "21508   72638.590915                           недвижимость  \n",
       "21509   73029.059379               операции с недвижимостью  \n",
       "21518  153864.650328                   сделка с автомобилем  \n",
       "21521  155999.806512                   сделка с автомобилем  \n",
       "\n",
       "[3445 rows x 12 columns]"
      ]
     },
     "execution_count": 9,
     "metadata": {},
     "output_type": "execute_result"
    }
   ],
   "source": [
    "df.loc[(df['days_employed'] > 0)]"
   ]
  },
  {
   "cell_type": "code",
   "execution_count": 10,
   "id": "7c1766fd",
   "metadata": {},
   "outputs": [
    {
     "data": {
      "text/plain": [
       "array(['пенсионер', 'безработный'], dtype=object)"
      ]
     },
     "execution_count": 10,
     "metadata": {},
     "output_type": "execute_result"
    }
   ],
   "source": [
    "df[df['days_employed'] > 0]['income_type'].unique()"
   ]
  },
  {
   "cell_type": "code",
   "execution_count": 11,
   "id": "17ab9805",
   "metadata": {},
   "outputs": [
    {
     "data": {
      "text/plain": [
       "array(['сотрудник', 'компаньон', 'госслужащий', 'студент',\n",
       "       'предприниматель', 'в декрете'], dtype=object)"
      ]
     },
     "execution_count": 11,
     "metadata": {},
     "output_type": "execute_result"
    }
   ],
   "source": [
    "df[df['days_employed'] < 0]['income_type'].unique()"
   ]
  },
  {
   "cell_type": "markdown",
   "id": "40c4bb7e",
   "metadata": {},
   "source": [
    "Положительные значения присвоены безработным и пенсионерам.\n",
    "Присвоим этим ячейкам пустые значения, а отрицательные значения переведем в положительные"
   ]
  },
  {
   "cell_type": "code",
   "execution_count": 12,
   "id": "7d560bf4",
   "metadata": {},
   "outputs": [],
   "source": [
    "df.loc[df['days_employed'] > 0, 'days_employed'] = None\n",
    "df.loc[df['days_employed'] < 0, 'days_employed'] = abs(df['days_employed'])"
   ]
  },
  {
   "cell_type": "code",
   "execution_count": 13,
   "id": "5231b9aa",
   "metadata": {},
   "outputs": [
    {
     "data": {
      "text/plain": [
       "18388.949900568383"
      ]
     },
     "metadata": {},
     "output_type": "display_data"
    },
    {
     "data": {
      "text/plain": [
       "24.14163324048118"
      ]
     },
     "metadata": {},
     "output_type": "display_data"
    },
    {
     "data": {
      "text/plain": [
       "2265604.028722744"
      ]
     },
     "metadata": {},
     "output_type": "display_data"
    },
    {
     "data": {
      "text/plain": [
       "20667.26379327158"
      ]
     },
     "metadata": {},
     "output_type": "display_data"
    }
   ],
   "source": [
    "display(df['days_employed'].max())\n",
    "display(df['days_employed'].min())\n",
    "display(df['total_income'].max())\n",
    "display(df['total_income'].min())"
   ]
  },
  {
   "cell_type": "markdown",
   "id": "1c9c82b7",
   "metadata": {},
   "source": [
    "Заполним пропуски медианными значениями:"
   ]
  },
  {
   "cell_type": "code",
   "execution_count": 14,
   "id": "cadd23f3",
   "metadata": {},
   "outputs": [],
   "source": [
    "df['days_employed'].fillna(df['days_employed'].median(), inplace=True)"
   ]
  },
  {
   "cell_type": "code",
   "execution_count": 15,
   "id": "6d33ecdd",
   "metadata": {},
   "outputs": [],
   "source": [
    "df['total_income'] = df['total_income'].fillna(df.groupby('income_type')['total_income'].transform(\"median\"))"
   ]
  },
  {
   "cell_type": "code",
   "execution_count": 16,
   "id": "dc6c9162",
   "metadata": {},
   "outputs": [
    {
     "data": {
      "text/plain": [
       "children            0\n",
       "days_employed       0\n",
       "dob_years           0\n",
       "education           0\n",
       "education_id        0\n",
       "family_status       0\n",
       "family_status_id    0\n",
       "gender              0\n",
       "income_type         0\n",
       "debt                0\n",
       "total_income        0\n",
       "purpose             0\n",
       "dtype: int64"
      ]
     },
     "execution_count": 16,
     "metadata": {},
     "output_type": "execute_result"
    }
   ],
   "source": [
    "df.isna().sum()"
   ]
  },
  {
   "cell_type": "markdown",
   "id": "5061f6b6",
   "metadata": {},
   "source": [
    "Пропуски данных устранены"
   ]
  },
  {
   "cell_type": "markdown",
   "id": "fc814e45",
   "metadata": {},
   "source": [
    "### Шаг 2.2 Проверка данных на аномалии и исправления."
   ]
  },
  {
   "cell_type": "markdown",
   "id": "9886a6e1",
   "metadata": {},
   "source": [
    "После общей оценки было замечено что:<br/> \n",
    "-присутствует разный регистр в данных столбца 'education'<br/> \n",
    "-в столбце 'purpose' имеются неявные дубликаты.<br/> \n",
    "Кроме того проведем проверку на явные дубликаты и на наличие аномальных данных и устраним их"
   ]
  },
  {
   "cell_type": "markdown",
   "id": "3579a332",
   "metadata": {},
   "source": [
    "Оценим значения в стобцах, для определения неявных дубликатов и аномальных значений"
   ]
  },
  {
   "cell_type": "code",
   "execution_count": 17,
   "id": "9e4609b6",
   "metadata": {},
   "outputs": [
    {
     "name": "stdout",
     "output_type": "stream",
     "text": [
      "children [ 1  0  3  2 -1  4 20  5]\n",
      "-----\n",
      "days_employed [8437.67302776 4024.80375385 5623.42261023 ... 2113.3468877  3112.4817052\n",
      " 1984.50758853]\n",
      "-----\n",
      "dob_years [42 36 33 32 53 27 43 50 35 41 40 65 54 56 26 48 24 21 57 67 28 63 62 47\n",
      " 34 68 25 31 30 20 49 37 45 61 64 44 52 46 23 38 39 51  0 59 29 60 55 58\n",
      " 71 22 73 66 69 19 72 70 74 75]\n",
      "-----\n",
      "education ['высшее' 'среднее' 'Среднее' 'СРЕДНЕЕ' 'ВЫСШЕЕ' 'неоконченное высшее'\n",
      " 'начальное' 'Высшее' 'НЕОКОНЧЕННОЕ ВЫСШЕЕ' 'Неоконченное высшее'\n",
      " 'НАЧАЛЬНОЕ' 'Начальное' 'Ученая степень' 'УЧЕНАЯ СТЕПЕНЬ'\n",
      " 'ученая степень']\n",
      "-----\n",
      "education_id [0 1 2 3 4]\n",
      "-----\n",
      "family_status ['женат / замужем' 'гражданский брак' 'вдовец / вдова' 'в разводе'\n",
      " 'Не женат / не замужем']\n",
      "-----\n",
      "family_status_id [0 1 2 3 4]\n",
      "-----\n",
      "gender ['F' 'M' 'XNA']\n",
      "-----\n",
      "income_type ['сотрудник' 'пенсионер' 'компаньон' 'госслужащий' 'безработный'\n",
      " 'предприниматель' 'студент' 'в декрете']\n",
      "-----\n",
      "debt [0 1]\n",
      "-----\n",
      "total_income [253875.6394526  112080.01410244 145885.95229686 ...  89672.56115303\n",
      " 244093.05050043  82047.41889948]\n",
      "-----\n",
      "purpose ['покупка жилья' 'приобретение автомобиля' 'дополнительное образование'\n",
      " 'сыграть свадьбу' 'операции с жильем' 'образование'\n",
      " 'на проведение свадьбы' 'покупка жилья для семьи' 'покупка недвижимости'\n",
      " 'покупка коммерческой недвижимости' 'покупка жилой недвижимости'\n",
      " 'строительство собственной недвижимости' 'недвижимость'\n",
      " 'строительство недвижимости' 'на покупку подержанного автомобиля'\n",
      " 'на покупку своего автомобиля' 'операции с коммерческой недвижимостью'\n",
      " 'строительство жилой недвижимости' 'жилье'\n",
      " 'операции со своей недвижимостью' 'автомобили' 'заняться образованием'\n",
      " 'сделка с подержанным автомобилем' 'получение образования' 'автомобиль'\n",
      " 'свадьба' 'получение дополнительного образования' 'покупка своего жилья'\n",
      " 'операции с недвижимостью' 'получение высшего образования'\n",
      " 'свой автомобиль' 'сделка с автомобилем' 'профильное образование'\n",
      " 'высшее образование' 'покупка жилья для сдачи' 'на покупку автомобиля'\n",
      " 'ремонт жилью' 'заняться высшим образованием']\n",
      "-----\n"
     ]
    }
   ],
   "source": [
    "for n in df.columns:\n",
    "    print(n, df[n].unique())\n",
    "    print('-----')"
   ]
  },
  {
   "cell_type": "markdown",
   "id": "ed7835c1",
   "metadata": {},
   "source": [
    "в столбце 'children' присутсвует отрицательное значение, и малореальное 20, проверим какой процент данных они занимают"
   ]
  },
  {
   "cell_type": "code",
   "execution_count": 18,
   "id": "09b9e8b3",
   "metadata": {
    "scrolled": true
   },
   "outputs": [
    {
     "data": {
      "text/plain": [
       "'0.6%'"
      ]
     },
     "execution_count": 18,
     "metadata": {},
     "output_type": "execute_result"
    }
   ],
   "source": [
    "'{:.1%}'.format(df[(df['children'] == -1) | (df['children'] == 20)]['children'].count() / len(df['children']))"
   ]
  },
  {
   "cell_type": "markdown",
   "id": "c54e378c",
   "metadata": {},
   "source": [
    "Процент незначительный, поэтому исключим эти строки:"
   ]
  },
  {
   "cell_type": "code",
   "execution_count": 19,
   "id": "21ef5e72",
   "metadata": {},
   "outputs": [],
   "source": [
    "df = df.drop(df[(df['children'] == -1) | (df['children'] == 20)]['children'].index, axis=0).reset_index(drop=True)"
   ]
  },
  {
   "cell_type": "markdown",
   "id": "3b99f873",
   "metadata": {},
   "source": [
    "Приведем к единому регистру столбец 'education'"
   ]
  },
  {
   "cell_type": "code",
   "execution_count": 20,
   "id": "f28cc105",
   "metadata": {},
   "outputs": [],
   "source": [
    "df['education'] = df['education'].str.lower()"
   ]
  },
  {
   "cell_type": "markdown",
   "id": "b7703f2b",
   "metadata": {},
   "source": [
    "в столбце 'dob_years' — возраст клиента в годах имеется значение 0, проверим процент этих значений"
   ]
  },
  {
   "cell_type": "code",
   "execution_count": 21,
   "id": "be58205e",
   "metadata": {},
   "outputs": [
    {
     "data": {
      "text/plain": [
       "'0.5%'"
      ]
     },
     "execution_count": 21,
     "metadata": {},
     "output_type": "execute_result"
    }
   ],
   "source": [
    "'{:.1%}'.format(df[df['dob_years'] == 0]['dob_years'].count() / len(df['dob_years']))"
   ]
  },
  {
   "cell_type": "markdown",
   "id": "c861eec5",
   "metadata": {},
   "source": [
    "Процент незначительный, поэтому исключим эти строки"
   ]
  },
  {
   "cell_type": "code",
   "execution_count": 22,
   "id": "da3a6abc",
   "metadata": {},
   "outputs": [],
   "source": [
    "df = df.drop(df[df['dob_years'] == 0]['dob_years'].index, axis=0).reset_index(drop=True)"
   ]
  },
  {
   "cell_type": "markdown",
   "id": "caf89a15",
   "metadata": {},
   "source": [
    "в столбце 'gender' имеется значение 'XNA'"
   ]
  },
  {
   "cell_type": "code",
   "execution_count": 23,
   "id": "ab37fce2",
   "metadata": {},
   "outputs": [
    {
     "data": {
      "text/plain": [
       "'0.004694%'"
      ]
     },
     "execution_count": 23,
     "metadata": {},
     "output_type": "execute_result"
    }
   ],
   "source": [
    "'{:%}'.format(df[df['gender'] == 'XNA']['gender'].count() / len(df['gender']))"
   ]
  },
  {
   "cell_type": "code",
   "execution_count": 24,
   "id": "7ce6a4ee",
   "metadata": {},
   "outputs": [],
   "source": [
    "df = df.drop(df[df['gender'] == 'XNA']['gender'].index, axis=0).reset_index(drop=True)"
   ]
  },
  {
   "cell_type": "markdown",
   "id": "00fc8c18",
   "metadata": {},
   "source": [
    "Приведем к единому регистру столбец family_status"
   ]
  },
  {
   "cell_type": "code",
   "execution_count": 25,
   "id": "e8227912",
   "metadata": {},
   "outputs": [],
   "source": [
    "df['family_status'] = df['family_status'].str.lower()"
   ]
  },
  {
   "cell_type": "markdown",
   "id": "0c9ef4c3",
   "metadata": {},
   "source": [
    "### Шаг 2.3. Изменение типов данных."
   ]
  },
  {
   "cell_type": "markdown",
   "id": "1fda6880",
   "metadata": {},
   "source": [
    "Изменим тип данных в столбцах total_income, dob_years, days_employed в тип int64 (целочисленный)"
   ]
  },
  {
   "cell_type": "code",
   "execution_count": 26,
   "id": "bbe13df1",
   "metadata": {},
   "outputs": [],
   "source": [
    "df['total_income'] = df['total_income'].astype('int')\n",
    "df['dob_years'] = df['dob_years'].astype('int')\n",
    "df['days_employed'] = df['days_employed'].astype('int')"
   ]
  },
  {
   "cell_type": "markdown",
   "id": "5f6e53ad",
   "metadata": {},
   "source": [
    "### Шаг 2.4. Удаление дубликатов."
   ]
  },
  {
   "cell_type": "markdown",
   "id": "50159d4f",
   "metadata": {},
   "source": [
    "в части проверки данных на аномалии, данные таблицы были приведены к единому формату.\n",
    "выполним проверку на явные дубликаты после обработки таблицы."
   ]
  },
  {
   "cell_type": "code",
   "execution_count": 27,
   "id": "7346c76c",
   "metadata": {},
   "outputs": [
    {
     "data": {
      "text/plain": [
       "71"
      ]
     },
     "execution_count": 27,
     "metadata": {},
     "output_type": "execute_result"
    }
   ],
   "source": [
    "df.duplicated().sum()"
   ]
  },
  {
   "cell_type": "code",
   "execution_count": 28,
   "id": "66359569",
   "metadata": {},
   "outputs": [],
   "source": [
    "df = df.drop_duplicates().reset_index(drop=True)"
   ]
  },
  {
   "cell_type": "code",
   "execution_count": 29,
   "id": "01e1277c",
   "metadata": {
    "scrolled": true
   },
   "outputs": [
    {
     "data": {
      "text/plain": [
       "0"
      ]
     },
     "execution_count": 29,
     "metadata": {},
     "output_type": "execute_result"
    }
   ],
   "source": [
    "df.duplicated().sum()"
   ]
  },
  {
   "cell_type": "markdown",
   "id": "59ba1fcc",
   "metadata": {},
   "source": [
    "Дубликаты устранены.\n",
    "Причинами дубликатов изначально были явные дубликаты в таблице, кроме того дубликаты появились после приведения данных в столбцах таблицы к единому формату."
   ]
  },
  {
   "cell_type": "markdown",
   "id": "9cb433c6",
   "metadata": {},
   "source": [
    "### Шаг 2.5. Формирование дополнительных датафреймов словарей, декомпозиция исходного датафрейма."
   ]
  },
  {
   "cell_type": "code",
   "execution_count": 30,
   "id": "36c80162",
   "metadata": {},
   "outputs": [
    {
     "data": {
      "text/html": [
       "<div>\n",
       "<style scoped>\n",
       "    .dataframe tbody tr th:only-of-type {\n",
       "        vertical-align: middle;\n",
       "    }\n",
       "\n",
       "    .dataframe tbody tr th {\n",
       "        vertical-align: top;\n",
       "    }\n",
       "\n",
       "    .dataframe thead th {\n",
       "        text-align: right;\n",
       "    }\n",
       "</style>\n",
       "<table border=\"1\" class=\"dataframe\">\n",
       "  <thead>\n",
       "    <tr style=\"text-align: right;\">\n",
       "      <th></th>\n",
       "      <th>education</th>\n",
       "      <th>education_id</th>\n",
       "    </tr>\n",
       "  </thead>\n",
       "  <tbody>\n",
       "    <tr>\n",
       "      <th>0</th>\n",
       "      <td>высшее</td>\n",
       "      <td>0</td>\n",
       "    </tr>\n",
       "    <tr>\n",
       "      <th>1</th>\n",
       "      <td>среднее</td>\n",
       "      <td>1</td>\n",
       "    </tr>\n",
       "    <tr>\n",
       "      <th>2</th>\n",
       "      <td>среднее</td>\n",
       "      <td>1</td>\n",
       "    </tr>\n",
       "    <tr>\n",
       "      <th>3</th>\n",
       "      <td>среднее</td>\n",
       "      <td>1</td>\n",
       "    </tr>\n",
       "    <tr>\n",
       "      <th>4</th>\n",
       "      <td>среднее</td>\n",
       "      <td>1</td>\n",
       "    </tr>\n",
       "    <tr>\n",
       "      <th>...</th>\n",
       "      <td>...</td>\n",
       "      <td>...</td>\n",
       "    </tr>\n",
       "    <tr>\n",
       "      <th>21225</th>\n",
       "      <td>среднее</td>\n",
       "      <td>1</td>\n",
       "    </tr>\n",
       "    <tr>\n",
       "      <th>21226</th>\n",
       "      <td>среднее</td>\n",
       "      <td>1</td>\n",
       "    </tr>\n",
       "    <tr>\n",
       "      <th>21227</th>\n",
       "      <td>среднее</td>\n",
       "      <td>1</td>\n",
       "    </tr>\n",
       "    <tr>\n",
       "      <th>21228</th>\n",
       "      <td>среднее</td>\n",
       "      <td>1</td>\n",
       "    </tr>\n",
       "    <tr>\n",
       "      <th>21229</th>\n",
       "      <td>среднее</td>\n",
       "      <td>1</td>\n",
       "    </tr>\n",
       "  </tbody>\n",
       "</table>\n",
       "<p>21230 rows × 2 columns</p>\n",
       "</div>"
      ],
      "text/plain": [
       "      education  education_id\n",
       "0        высшее             0\n",
       "1       среднее             1\n",
       "2       среднее             1\n",
       "3       среднее             1\n",
       "4       среднее             1\n",
       "...         ...           ...\n",
       "21225   среднее             1\n",
       "21226   среднее             1\n",
       "21227   среднее             1\n",
       "21228   среднее             1\n",
       "21229   среднее             1\n",
       "\n",
       "[21230 rows x 2 columns]"
      ]
     },
     "metadata": {},
     "output_type": "display_data"
    },
    {
     "data": {
      "text/html": [
       "<div>\n",
       "<style scoped>\n",
       "    .dataframe tbody tr th:only-of-type {\n",
       "        vertical-align: middle;\n",
       "    }\n",
       "\n",
       "    .dataframe tbody tr th {\n",
       "        vertical-align: top;\n",
       "    }\n",
       "\n",
       "    .dataframe thead th {\n",
       "        text-align: right;\n",
       "    }\n",
       "</style>\n",
       "<table border=\"1\" class=\"dataframe\">\n",
       "  <thead>\n",
       "    <tr style=\"text-align: right;\">\n",
       "      <th></th>\n",
       "      <th>family_status</th>\n",
       "      <th>family_status_id</th>\n",
       "    </tr>\n",
       "  </thead>\n",
       "  <tbody>\n",
       "    <tr>\n",
       "      <th>0</th>\n",
       "      <td>женат / замужем</td>\n",
       "      <td>0</td>\n",
       "    </tr>\n",
       "    <tr>\n",
       "      <th>1</th>\n",
       "      <td>женат / замужем</td>\n",
       "      <td>0</td>\n",
       "    </tr>\n",
       "    <tr>\n",
       "      <th>2</th>\n",
       "      <td>женат / замужем</td>\n",
       "      <td>0</td>\n",
       "    </tr>\n",
       "    <tr>\n",
       "      <th>3</th>\n",
       "      <td>женат / замужем</td>\n",
       "      <td>0</td>\n",
       "    </tr>\n",
       "    <tr>\n",
       "      <th>4</th>\n",
       "      <td>гражданский брак</td>\n",
       "      <td>1</td>\n",
       "    </tr>\n",
       "    <tr>\n",
       "      <th>...</th>\n",
       "      <td>...</td>\n",
       "      <td>...</td>\n",
       "    </tr>\n",
       "    <tr>\n",
       "      <th>21225</th>\n",
       "      <td>гражданский брак</td>\n",
       "      <td>1</td>\n",
       "    </tr>\n",
       "    <tr>\n",
       "      <th>21226</th>\n",
       "      <td>женат / замужем</td>\n",
       "      <td>0</td>\n",
       "    </tr>\n",
       "    <tr>\n",
       "      <th>21227</th>\n",
       "      <td>гражданский брак</td>\n",
       "      <td>1</td>\n",
       "    </tr>\n",
       "    <tr>\n",
       "      <th>21228</th>\n",
       "      <td>женат / замужем</td>\n",
       "      <td>0</td>\n",
       "    </tr>\n",
       "    <tr>\n",
       "      <th>21229</th>\n",
       "      <td>женат / замужем</td>\n",
       "      <td>0</td>\n",
       "    </tr>\n",
       "  </tbody>\n",
       "</table>\n",
       "<p>21230 rows × 2 columns</p>\n",
       "</div>"
      ],
      "text/plain": [
       "          family_status  family_status_id\n",
       "0       женат / замужем                 0\n",
       "1       женат / замужем                 0\n",
       "2       женат / замужем                 0\n",
       "3       женат / замужем                 0\n",
       "4      гражданский брак                 1\n",
       "...                 ...               ...\n",
       "21225  гражданский брак                 1\n",
       "21226   женат / замужем                 0\n",
       "21227  гражданский брак                 1\n",
       "21228   женат / замужем                 0\n",
       "21229   женат / замужем                 0\n",
       "\n",
       "[21230 rows x 2 columns]"
      ]
     },
     "metadata": {},
     "output_type": "display_data"
    },
    {
     "data": {
      "text/html": [
       "<div>\n",
       "<style scoped>\n",
       "    .dataframe tbody tr th:only-of-type {\n",
       "        vertical-align: middle;\n",
       "    }\n",
       "\n",
       "    .dataframe tbody tr th {\n",
       "        vertical-align: top;\n",
       "    }\n",
       "\n",
       "    .dataframe thead th {\n",
       "        text-align: right;\n",
       "    }\n",
       "</style>\n",
       "<table border=\"1\" class=\"dataframe\">\n",
       "  <thead>\n",
       "    <tr style=\"text-align: right;\">\n",
       "      <th></th>\n",
       "      <th>children</th>\n",
       "      <th>days_employed</th>\n",
       "      <th>dob_years</th>\n",
       "      <th>education_id</th>\n",
       "      <th>family_status_id</th>\n",
       "      <th>gender</th>\n",
       "      <th>income_type</th>\n",
       "      <th>debt</th>\n",
       "      <th>total_income</th>\n",
       "      <th>purpose</th>\n",
       "    </tr>\n",
       "  </thead>\n",
       "  <tbody>\n",
       "    <tr>\n",
       "      <th>0</th>\n",
       "      <td>1</td>\n",
       "      <td>8437</td>\n",
       "      <td>42</td>\n",
       "      <td>0</td>\n",
       "      <td>0</td>\n",
       "      <td>F</td>\n",
       "      <td>сотрудник</td>\n",
       "      <td>0</td>\n",
       "      <td>253875</td>\n",
       "      <td>покупка жилья</td>\n",
       "    </tr>\n",
       "    <tr>\n",
       "      <th>1</th>\n",
       "      <td>1</td>\n",
       "      <td>4024</td>\n",
       "      <td>36</td>\n",
       "      <td>1</td>\n",
       "      <td>0</td>\n",
       "      <td>F</td>\n",
       "      <td>сотрудник</td>\n",
       "      <td>0</td>\n",
       "      <td>112080</td>\n",
       "      <td>приобретение автомобиля</td>\n",
       "    </tr>\n",
       "    <tr>\n",
       "      <th>2</th>\n",
       "      <td>0</td>\n",
       "      <td>5623</td>\n",
       "      <td>33</td>\n",
       "      <td>1</td>\n",
       "      <td>0</td>\n",
       "      <td>M</td>\n",
       "      <td>сотрудник</td>\n",
       "      <td>0</td>\n",
       "      <td>145885</td>\n",
       "      <td>покупка жилья</td>\n",
       "    </tr>\n",
       "    <tr>\n",
       "      <th>3</th>\n",
       "      <td>3</td>\n",
       "      <td>4124</td>\n",
       "      <td>32</td>\n",
       "      <td>1</td>\n",
       "      <td>0</td>\n",
       "      <td>M</td>\n",
       "      <td>сотрудник</td>\n",
       "      <td>0</td>\n",
       "      <td>267628</td>\n",
       "      <td>дополнительное образование</td>\n",
       "    </tr>\n",
       "    <tr>\n",
       "      <th>4</th>\n",
       "      <td>0</td>\n",
       "      <td>1630</td>\n",
       "      <td>53</td>\n",
       "      <td>1</td>\n",
       "      <td>1</td>\n",
       "      <td>F</td>\n",
       "      <td>пенсионер</td>\n",
       "      <td>0</td>\n",
       "      <td>158616</td>\n",
       "      <td>сыграть свадьбу</td>\n",
       "    </tr>\n",
       "    <tr>\n",
       "      <th>5</th>\n",
       "      <td>0</td>\n",
       "      <td>926</td>\n",
       "      <td>27</td>\n",
       "      <td>0</td>\n",
       "      <td>1</td>\n",
       "      <td>M</td>\n",
       "      <td>компаньон</td>\n",
       "      <td>0</td>\n",
       "      <td>255763</td>\n",
       "      <td>покупка жилья</td>\n",
       "    </tr>\n",
       "    <tr>\n",
       "      <th>6</th>\n",
       "      <td>0</td>\n",
       "      <td>2879</td>\n",
       "      <td>43</td>\n",
       "      <td>0</td>\n",
       "      <td>0</td>\n",
       "      <td>F</td>\n",
       "      <td>компаньон</td>\n",
       "      <td>0</td>\n",
       "      <td>240525</td>\n",
       "      <td>операции с жильем</td>\n",
       "    </tr>\n",
       "    <tr>\n",
       "      <th>7</th>\n",
       "      <td>0</td>\n",
       "      <td>152</td>\n",
       "      <td>50</td>\n",
       "      <td>1</td>\n",
       "      <td>0</td>\n",
       "      <td>M</td>\n",
       "      <td>сотрудник</td>\n",
       "      <td>0</td>\n",
       "      <td>135823</td>\n",
       "      <td>образование</td>\n",
       "    </tr>\n",
       "    <tr>\n",
       "      <th>8</th>\n",
       "      <td>2</td>\n",
       "      <td>6929</td>\n",
       "      <td>35</td>\n",
       "      <td>0</td>\n",
       "      <td>1</td>\n",
       "      <td>F</td>\n",
       "      <td>сотрудник</td>\n",
       "      <td>0</td>\n",
       "      <td>95856</td>\n",
       "      <td>на проведение свадьбы</td>\n",
       "    </tr>\n",
       "    <tr>\n",
       "      <th>9</th>\n",
       "      <td>0</td>\n",
       "      <td>2188</td>\n",
       "      <td>41</td>\n",
       "      <td>1</td>\n",
       "      <td>0</td>\n",
       "      <td>M</td>\n",
       "      <td>сотрудник</td>\n",
       "      <td>0</td>\n",
       "      <td>144425</td>\n",
       "      <td>покупка жилья для семьи</td>\n",
       "    </tr>\n",
       "    <tr>\n",
       "      <th>10</th>\n",
       "      <td>2</td>\n",
       "      <td>4171</td>\n",
       "      <td>36</td>\n",
       "      <td>0</td>\n",
       "      <td>0</td>\n",
       "      <td>M</td>\n",
       "      <td>компаньон</td>\n",
       "      <td>0</td>\n",
       "      <td>113943</td>\n",
       "      <td>покупка недвижимости</td>\n",
       "    </tr>\n",
       "    <tr>\n",
       "      <th>11</th>\n",
       "      <td>0</td>\n",
       "      <td>792</td>\n",
       "      <td>40</td>\n",
       "      <td>1</td>\n",
       "      <td>0</td>\n",
       "      <td>F</td>\n",
       "      <td>сотрудник</td>\n",
       "      <td>0</td>\n",
       "      <td>77069</td>\n",
       "      <td>покупка коммерческой недвижимости</td>\n",
       "    </tr>\n",
       "    <tr>\n",
       "      <th>12</th>\n",
       "      <td>0</td>\n",
       "      <td>1630</td>\n",
       "      <td>65</td>\n",
       "      <td>1</td>\n",
       "      <td>1</td>\n",
       "      <td>M</td>\n",
       "      <td>пенсионер</td>\n",
       "      <td>0</td>\n",
       "      <td>118514</td>\n",
       "      <td>сыграть свадьбу</td>\n",
       "    </tr>\n",
       "    <tr>\n",
       "      <th>13</th>\n",
       "      <td>0</td>\n",
       "      <td>1846</td>\n",
       "      <td>54</td>\n",
       "      <td>2</td>\n",
       "      <td>0</td>\n",
       "      <td>F</td>\n",
       "      <td>сотрудник</td>\n",
       "      <td>0</td>\n",
       "      <td>130458</td>\n",
       "      <td>приобретение автомобиля</td>\n",
       "    </tr>\n",
       "    <tr>\n",
       "      <th>14</th>\n",
       "      <td>0</td>\n",
       "      <td>1844</td>\n",
       "      <td>56</td>\n",
       "      <td>0</td>\n",
       "      <td>1</td>\n",
       "      <td>F</td>\n",
       "      <td>компаньон</td>\n",
       "      <td>1</td>\n",
       "      <td>165127</td>\n",
       "      <td>покупка жилой недвижимости</td>\n",
       "    </tr>\n",
       "    <tr>\n",
       "      <th>15</th>\n",
       "      <td>1</td>\n",
       "      <td>972</td>\n",
       "      <td>26</td>\n",
       "      <td>1</td>\n",
       "      <td>0</td>\n",
       "      <td>F</td>\n",
       "      <td>сотрудник</td>\n",
       "      <td>0</td>\n",
       "      <td>116820</td>\n",
       "      <td>строительство собственной недвижимости</td>\n",
       "    </tr>\n",
       "    <tr>\n",
       "      <th>16</th>\n",
       "      <td>0</td>\n",
       "      <td>1719</td>\n",
       "      <td>35</td>\n",
       "      <td>1</td>\n",
       "      <td>0</td>\n",
       "      <td>F</td>\n",
       "      <td>сотрудник</td>\n",
       "      <td>0</td>\n",
       "      <td>289202</td>\n",
       "      <td>недвижимость</td>\n",
       "    </tr>\n",
       "    <tr>\n",
       "      <th>17</th>\n",
       "      <td>0</td>\n",
       "      <td>2369</td>\n",
       "      <td>33</td>\n",
       "      <td>0</td>\n",
       "      <td>1</td>\n",
       "      <td>M</td>\n",
       "      <td>сотрудник</td>\n",
       "      <td>0</td>\n",
       "      <td>90410</td>\n",
       "      <td>строительство недвижимости</td>\n",
       "    </tr>\n",
       "    <tr>\n",
       "      <th>18</th>\n",
       "      <td>0</td>\n",
       "      <td>1630</td>\n",
       "      <td>53</td>\n",
       "      <td>1</td>\n",
       "      <td>2</td>\n",
       "      <td>F</td>\n",
       "      <td>пенсионер</td>\n",
       "      <td>0</td>\n",
       "      <td>56823</td>\n",
       "      <td>на покупку подержанного автомобиля</td>\n",
       "    </tr>\n",
       "    <tr>\n",
       "      <th>19</th>\n",
       "      <td>0</td>\n",
       "      <td>10038</td>\n",
       "      <td>48</td>\n",
       "      <td>1</td>\n",
       "      <td>3</td>\n",
       "      <td>F</td>\n",
       "      <td>сотрудник</td>\n",
       "      <td>0</td>\n",
       "      <td>242831</td>\n",
       "      <td>на покупку своего автомобиля</td>\n",
       "    </tr>\n",
       "  </tbody>\n",
       "</table>\n",
       "</div>"
      ],
      "text/plain": [
       "    children  days_employed  dob_years  education_id  family_status_id gender  \\\n",
       "0          1           8437         42             0                 0      F   \n",
       "1          1           4024         36             1                 0      F   \n",
       "2          0           5623         33             1                 0      M   \n",
       "3          3           4124         32             1                 0      M   \n",
       "4          0           1630         53             1                 1      F   \n",
       "5          0            926         27             0                 1      M   \n",
       "6          0           2879         43             0                 0      F   \n",
       "7          0            152         50             1                 0      M   \n",
       "8          2           6929         35             0                 1      F   \n",
       "9          0           2188         41             1                 0      M   \n",
       "10         2           4171         36             0                 0      M   \n",
       "11         0            792         40             1                 0      F   \n",
       "12         0           1630         65             1                 1      M   \n",
       "13         0           1846         54             2                 0      F   \n",
       "14         0           1844         56             0                 1      F   \n",
       "15         1            972         26             1                 0      F   \n",
       "16         0           1719         35             1                 0      F   \n",
       "17         0           2369         33             0                 1      M   \n",
       "18         0           1630         53             1                 2      F   \n",
       "19         0          10038         48             1                 3      F   \n",
       "\n",
       "   income_type  debt  total_income                                 purpose  \n",
       "0    сотрудник     0        253875                           покупка жилья  \n",
       "1    сотрудник     0        112080                 приобретение автомобиля  \n",
       "2    сотрудник     0        145885                           покупка жилья  \n",
       "3    сотрудник     0        267628              дополнительное образование  \n",
       "4    пенсионер     0        158616                         сыграть свадьбу  \n",
       "5    компаньон     0        255763                           покупка жилья  \n",
       "6    компаньон     0        240525                       операции с жильем  \n",
       "7    сотрудник     0        135823                             образование  \n",
       "8    сотрудник     0         95856                   на проведение свадьбы  \n",
       "9    сотрудник     0        144425                 покупка жилья для семьи  \n",
       "10   компаньон     0        113943                    покупка недвижимости  \n",
       "11   сотрудник     0         77069       покупка коммерческой недвижимости  \n",
       "12   пенсионер     0        118514                         сыграть свадьбу  \n",
       "13   сотрудник     0        130458                 приобретение автомобиля  \n",
       "14   компаньон     1        165127              покупка жилой недвижимости  \n",
       "15   сотрудник     0        116820  строительство собственной недвижимости  \n",
       "16   сотрудник     0        289202                            недвижимость  \n",
       "17   сотрудник     0         90410              строительство недвижимости  \n",
       "18   пенсионер     0         56823      на покупку подержанного автомобиля  \n",
       "19   сотрудник     0        242831            на покупку своего автомобиля  "
      ]
     },
     "metadata": {},
     "output_type": "display_data"
    }
   ],
   "source": [
    "df_education_id = pd.DataFrame({'education': df['education'], 'education_id': df['education_id']})\n",
    "df_family_status_id = pd.DataFrame({'family_status': df['family_status'], 'family_status_id': df['family_status_id']})\n",
    "df = df.drop(['education', 'family_status'], axis=1)\n",
    "display(df_education_id)\n",
    "display(df_family_status_id)\n",
    "display(df.head(20))"
   ]
  },
  {
   "cell_type": "markdown",
   "id": "f236a59e",
   "metadata": {},
   "source": [
    "### Шаг 2.6. Категоризация дохода."
   ]
  },
  {
   "cell_type": "markdown",
   "id": "b346a400",
   "metadata": {},
   "source": [
    "Создадим и применим функцию для категоризации столбца 'total_income' по уровню дохода, добавим полученный стоолбец в таблицу df:"
   ]
  },
  {
   "cell_type": "code",
   "execution_count": 31,
   "id": "5fdedcbc",
   "metadata": {},
   "outputs": [],
   "source": [
    "def income_cat(income):\n",
    "    if 0 <= income <= 30000:\n",
    "        return 'E'\n",
    "    elif 30001 <= income <= 50000:\n",
    "        return 'D'\n",
    "    elif 50001 <= income <= 200000:\n",
    "        return 'C'\n",
    "    elif 200001 <= income <= 1000000:\n",
    "        return 'B'\n",
    "    elif 1000001  <= income:\n",
    "        return 'A'\n",
    "\n",
    "    "
   ]
  },
  {
   "cell_type": "code",
   "execution_count": 32,
   "id": "27fe74ea",
   "metadata": {},
   "outputs": [],
   "source": [
    "df['total_income_category'] = df['total_income'].apply(income_cat)"
   ]
  },
  {
   "cell_type": "markdown",
   "id": "755dcadf",
   "metadata": {},
   "source": [
    "### Шаг 2.7. Категоризация целей кредита."
   ]
  },
  {
   "cell_type": "markdown",
   "id": "70a87c52",
   "metadata": {},
   "source": [
    "Создадим и применим функцию для категоризации столбца 'purpose' цели получения кредита, добавим полученный стоолбец в таблицу df:"
   ]
  },
  {
   "cell_type": "code",
   "execution_count": 33,
   "id": "e5062be4",
   "metadata": {},
   "outputs": [],
   "source": [
    "def purpose_cat(purpose):\n",
    "    if ('недвиж' in purpose) or 'жиль' in purpose:\n",
    "         return 'операции с недвижимостью'\n",
    "    elif 'автомобил' in purpose:\n",
    "         return 'операции с автомобилем'   \n",
    "    elif 'свадьб' in purpose:\n",
    "         return 'проведение свадьбы'\n",
    "    elif 'образован' in purpose:\n",
    "         return 'получение образования'"
   ]
  },
  {
   "cell_type": "code",
   "execution_count": 34,
   "id": "45efe8ab",
   "metadata": {},
   "outputs": [],
   "source": [
    "df['purpose_category'] = df['purpose'].apply(purpose_cat)"
   ]
  },
  {
   "cell_type": "markdown",
   "id": "ec75dda2",
   "metadata": {},
   "source": [
    "отобразим финальную таблицу"
   ]
  },
  {
   "cell_type": "code",
   "execution_count": 35,
   "id": "dff25baa",
   "metadata": {},
   "outputs": [
    {
     "data": {
      "text/html": [
       "<div>\n",
       "<style scoped>\n",
       "    .dataframe tbody tr th:only-of-type {\n",
       "        vertical-align: middle;\n",
       "    }\n",
       "\n",
       "    .dataframe tbody tr th {\n",
       "        vertical-align: top;\n",
       "    }\n",
       "\n",
       "    .dataframe thead th {\n",
       "        text-align: right;\n",
       "    }\n",
       "</style>\n",
       "<table border=\"1\" class=\"dataframe\">\n",
       "  <thead>\n",
       "    <tr style=\"text-align: right;\">\n",
       "      <th></th>\n",
       "      <th>children</th>\n",
       "      <th>days_employed</th>\n",
       "      <th>dob_years</th>\n",
       "      <th>education_id</th>\n",
       "      <th>family_status_id</th>\n",
       "      <th>gender</th>\n",
       "      <th>income_type</th>\n",
       "      <th>debt</th>\n",
       "      <th>total_income</th>\n",
       "      <th>purpose</th>\n",
       "      <th>total_income_category</th>\n",
       "      <th>purpose_category</th>\n",
       "    </tr>\n",
       "  </thead>\n",
       "  <tbody>\n",
       "    <tr>\n",
       "      <th>0</th>\n",
       "      <td>1</td>\n",
       "      <td>8437</td>\n",
       "      <td>42</td>\n",
       "      <td>0</td>\n",
       "      <td>0</td>\n",
       "      <td>F</td>\n",
       "      <td>сотрудник</td>\n",
       "      <td>0</td>\n",
       "      <td>253875</td>\n",
       "      <td>покупка жилья</td>\n",
       "      <td>B</td>\n",
       "      <td>операции с недвижимостью</td>\n",
       "    </tr>\n",
       "    <tr>\n",
       "      <th>1</th>\n",
       "      <td>1</td>\n",
       "      <td>4024</td>\n",
       "      <td>36</td>\n",
       "      <td>1</td>\n",
       "      <td>0</td>\n",
       "      <td>F</td>\n",
       "      <td>сотрудник</td>\n",
       "      <td>0</td>\n",
       "      <td>112080</td>\n",
       "      <td>приобретение автомобиля</td>\n",
       "      <td>C</td>\n",
       "      <td>операции с автомобилем</td>\n",
       "    </tr>\n",
       "    <tr>\n",
       "      <th>2</th>\n",
       "      <td>0</td>\n",
       "      <td>5623</td>\n",
       "      <td>33</td>\n",
       "      <td>1</td>\n",
       "      <td>0</td>\n",
       "      <td>M</td>\n",
       "      <td>сотрудник</td>\n",
       "      <td>0</td>\n",
       "      <td>145885</td>\n",
       "      <td>покупка жилья</td>\n",
       "      <td>C</td>\n",
       "      <td>операции с недвижимостью</td>\n",
       "    </tr>\n",
       "    <tr>\n",
       "      <th>3</th>\n",
       "      <td>3</td>\n",
       "      <td>4124</td>\n",
       "      <td>32</td>\n",
       "      <td>1</td>\n",
       "      <td>0</td>\n",
       "      <td>M</td>\n",
       "      <td>сотрудник</td>\n",
       "      <td>0</td>\n",
       "      <td>267628</td>\n",
       "      <td>дополнительное образование</td>\n",
       "      <td>B</td>\n",
       "      <td>получение образования</td>\n",
       "    </tr>\n",
       "    <tr>\n",
       "      <th>4</th>\n",
       "      <td>0</td>\n",
       "      <td>1630</td>\n",
       "      <td>53</td>\n",
       "      <td>1</td>\n",
       "      <td>1</td>\n",
       "      <td>F</td>\n",
       "      <td>пенсионер</td>\n",
       "      <td>0</td>\n",
       "      <td>158616</td>\n",
       "      <td>сыграть свадьбу</td>\n",
       "      <td>C</td>\n",
       "      <td>проведение свадьбы</td>\n",
       "    </tr>\n",
       "    <tr>\n",
       "      <th>...</th>\n",
       "      <td>...</td>\n",
       "      <td>...</td>\n",
       "      <td>...</td>\n",
       "      <td>...</td>\n",
       "      <td>...</td>\n",
       "      <td>...</td>\n",
       "      <td>...</td>\n",
       "      <td>...</td>\n",
       "      <td>...</td>\n",
       "      <td>...</td>\n",
       "      <td>...</td>\n",
       "      <td>...</td>\n",
       "    </tr>\n",
       "    <tr>\n",
       "      <th>21225</th>\n",
       "      <td>1</td>\n",
       "      <td>4529</td>\n",
       "      <td>43</td>\n",
       "      <td>1</td>\n",
       "      <td>1</td>\n",
       "      <td>F</td>\n",
       "      <td>компаньон</td>\n",
       "      <td>0</td>\n",
       "      <td>224791</td>\n",
       "      <td>операции с жильем</td>\n",
       "      <td>B</td>\n",
       "      <td>операции с недвижимостью</td>\n",
       "    </tr>\n",
       "    <tr>\n",
       "      <th>21226</th>\n",
       "      <td>0</td>\n",
       "      <td>1630</td>\n",
       "      <td>67</td>\n",
       "      <td>1</td>\n",
       "      <td>0</td>\n",
       "      <td>F</td>\n",
       "      <td>пенсионер</td>\n",
       "      <td>0</td>\n",
       "      <td>155999</td>\n",
       "      <td>сделка с автомобилем</td>\n",
       "      <td>C</td>\n",
       "      <td>операции с автомобилем</td>\n",
       "    </tr>\n",
       "    <tr>\n",
       "      <th>21227</th>\n",
       "      <td>1</td>\n",
       "      <td>2113</td>\n",
       "      <td>38</td>\n",
       "      <td>1</td>\n",
       "      <td>1</td>\n",
       "      <td>M</td>\n",
       "      <td>сотрудник</td>\n",
       "      <td>1</td>\n",
       "      <td>89672</td>\n",
       "      <td>недвижимость</td>\n",
       "      <td>C</td>\n",
       "      <td>операции с недвижимостью</td>\n",
       "    </tr>\n",
       "    <tr>\n",
       "      <th>21228</th>\n",
       "      <td>3</td>\n",
       "      <td>3112</td>\n",
       "      <td>38</td>\n",
       "      <td>1</td>\n",
       "      <td>0</td>\n",
       "      <td>M</td>\n",
       "      <td>сотрудник</td>\n",
       "      <td>1</td>\n",
       "      <td>244093</td>\n",
       "      <td>на покупку своего автомобиля</td>\n",
       "      <td>B</td>\n",
       "      <td>операции с автомобилем</td>\n",
       "    </tr>\n",
       "    <tr>\n",
       "      <th>21229</th>\n",
       "      <td>2</td>\n",
       "      <td>1984</td>\n",
       "      <td>40</td>\n",
       "      <td>1</td>\n",
       "      <td>0</td>\n",
       "      <td>F</td>\n",
       "      <td>сотрудник</td>\n",
       "      <td>0</td>\n",
       "      <td>82047</td>\n",
       "      <td>на покупку автомобиля</td>\n",
       "      <td>C</td>\n",
       "      <td>операции с автомобилем</td>\n",
       "    </tr>\n",
       "  </tbody>\n",
       "</table>\n",
       "<p>21230 rows × 12 columns</p>\n",
       "</div>"
      ],
      "text/plain": [
       "       children  days_employed  dob_years  education_id  family_status_id  \\\n",
       "0             1           8437         42             0                 0   \n",
       "1             1           4024         36             1                 0   \n",
       "2             0           5623         33             1                 0   \n",
       "3             3           4124         32             1                 0   \n",
       "4             0           1630         53             1                 1   \n",
       "...         ...            ...        ...           ...               ...   \n",
       "21225         1           4529         43             1                 1   \n",
       "21226         0           1630         67             1                 0   \n",
       "21227         1           2113         38             1                 1   \n",
       "21228         3           3112         38             1                 0   \n",
       "21229         2           1984         40             1                 0   \n",
       "\n",
       "      gender income_type  debt  total_income                       purpose  \\\n",
       "0          F   сотрудник     0        253875                 покупка жилья   \n",
       "1          F   сотрудник     0        112080       приобретение автомобиля   \n",
       "2          M   сотрудник     0        145885                 покупка жилья   \n",
       "3          M   сотрудник     0        267628    дополнительное образование   \n",
       "4          F   пенсионер     0        158616               сыграть свадьбу   \n",
       "...      ...         ...   ...           ...                           ...   \n",
       "21225      F   компаньон     0        224791             операции с жильем   \n",
       "21226      F   пенсионер     0        155999          сделка с автомобилем   \n",
       "21227      M   сотрудник     1         89672                  недвижимость   \n",
       "21228      M   сотрудник     1        244093  на покупку своего автомобиля   \n",
       "21229      F   сотрудник     0         82047         на покупку автомобиля   \n",
       "\n",
       "      total_income_category          purpose_category  \n",
       "0                         B  операции с недвижимостью  \n",
       "1                         C    операции с автомобилем  \n",
       "2                         C  операции с недвижимостью  \n",
       "3                         B     получение образования  \n",
       "4                         C        проведение свадьбы  \n",
       "...                     ...                       ...  \n",
       "21225                     B  операции с недвижимостью  \n",
       "21226                     C    операции с автомобилем  \n",
       "21227                     C  операции с недвижимостью  \n",
       "21228                     B    операции с автомобилем  \n",
       "21229                     C    операции с автомобилем  \n",
       "\n",
       "[21230 rows x 12 columns]"
      ]
     },
     "execution_count": 35,
     "metadata": {},
     "output_type": "execute_result"
    }
   ],
   "source": [
    "df"
   ]
  },
  {
   "cell_type": "markdown",
   "id": "15874b5b",
   "metadata": {},
   "source": [
    "### Ответы на вопросы."
   ]
  },
  {
   "cell_type": "markdown",
   "id": "ba76c93b",
   "metadata": {},
   "source": [
    "создадим сводную таблицу для оценки влияния количества детей на выплату кредита, и оценим полученные данные"
   ]
  },
  {
   "cell_type": "markdown",
   "id": "b53445f7",
   "metadata": {},
   "source": [
    "##### Вопрос 1: Есть ли зависимость между количеством детей и возвратом кредита в срок?"
   ]
  },
  {
   "cell_type": "code",
   "execution_count": 36,
   "id": "41177fea",
   "metadata": {},
   "outputs": [
    {
     "data": {
      "text/html": [
       "<div>\n",
       "<style scoped>\n",
       "    .dataframe tbody tr th:only-of-type {\n",
       "        vertical-align: middle;\n",
       "    }\n",
       "\n",
       "    .dataframe tbody tr th {\n",
       "        vertical-align: top;\n",
       "    }\n",
       "\n",
       "    .dataframe thead th {\n",
       "        text-align: right;\n",
       "    }\n",
       "</style>\n",
       "<table border=\"1\" class=\"dataframe\">\n",
       "  <thead>\n",
       "    <tr style=\"text-align: right;\">\n",
       "      <th>children</th>\n",
       "      <th>0</th>\n",
       "      <th>1</th>\n",
       "      <th>2</th>\n",
       "      <th>3</th>\n",
       "      <th>4</th>\n",
       "      <th>5</th>\n",
       "    </tr>\n",
       "    <tr>\n",
       "      <th>debt</th>\n",
       "      <th></th>\n",
       "      <th></th>\n",
       "      <th></th>\n",
       "      <th></th>\n",
       "      <th></th>\n",
       "      <th></th>\n",
       "    </tr>\n",
       "  </thead>\n",
       "  <tbody>\n",
       "    <tr>\n",
       "      <th>0</th>\n",
       "      <td>12963.0</td>\n",
       "      <td>4351.0</td>\n",
       "      <td>1845.0</td>\n",
       "      <td>301.0</td>\n",
       "      <td>37.0</td>\n",
       "      <td>9.0</td>\n",
       "    </tr>\n",
       "    <tr>\n",
       "      <th>1</th>\n",
       "      <td>1058.0</td>\n",
       "      <td>441.0</td>\n",
       "      <td>194.0</td>\n",
       "      <td>27.0</td>\n",
       "      <td>4.0</td>\n",
       "      <td>0.0</td>\n",
       "    </tr>\n",
       "  </tbody>\n",
       "</table>\n",
       "</div>"
      ],
      "text/plain": [
       "children        0       1       2      3     4    5\n",
       "debt                                               \n",
       "0         12963.0  4351.0  1845.0  301.0  37.0  9.0\n",
       "1          1058.0   441.0   194.0   27.0   4.0  0.0"
      ]
     },
     "metadata": {},
     "output_type": "display_data"
    },
    {
     "name": "stdout",
     "output_type": "stream",
     "text": [
      "процент возврата кредита при отсутсвии детей 92.5% \n",
      "процент возврата кредита при наличии 1 ребенка 90.8% \n",
      "процент возврата кредита при наличии 2 детей 90.5% \n",
      "процент возврата кредита при наличии 3 детей 91.8% \n",
      "процент возврата кредита при наличии 4 детей 90.2% \n",
      "процент возврата кредита при наличии 5 детей 100.0% \n"
     ]
    }
   ],
   "source": [
    "children_pivot = df.pivot_table(index=['debt'], columns='children', values = 'total_income', aggfunc='count')\n",
    "children_pivot = children_pivot.fillna(0)\n",
    "display(children_pivot)\n",
    "print('процент возврата кредита при отсутсвии детей {:.1f}% '.format(children_pivot[0][0]/(children_pivot[0][0]+children_pivot[0][1])*100))\n",
    "print('процент возврата кредита при наличии 1 ребенка {:.1f}% '.format(children_pivot[1][0]/(children_pivot[1][0]+children_pivot[1][1])*100))\n",
    "print('процент возврата кредита при наличии 2 детей {:.1f}% '.format(children_pivot[2][0]/(children_pivot[2][0]+children_pivot[2][1])*100))\n",
    "print('процент возврата кредита при наличии 3 детей {:.1f}% '.format(children_pivot[3][0]/(children_pivot[3][0]+children_pivot[3][1])*100))\n",
    "print('процент возврата кредита при наличии 4 детей {:.1f}% '.format(children_pivot[4][0]/(children_pivot[4][0]+children_pivot[4][1])*100))\n",
    "print('процент возврата кредита при наличии 5 детей {:.1f}% '.format(children_pivot[5][0]/(children_pivot[5][0]+children_pivot[5][1])*100))\n"
   ]
  },
  {
   "cell_type": "markdown",
   "id": "c490e2a9",
   "metadata": {},
   "source": [
    "##### Вывод 1:"
   ]
  },
  {
   "cell_type": "markdown",
   "id": "394b3504",
   "metadata": {},
   "source": [
    "- С большей вероятностью выплачиают кредит в срок люди без детей (кроме случев с наличием 5 детей, по этой категории слишком малая выборка данных, чтобы оценить надежность этой категории требуется больше данных)\n",
    "- Наличие детей снижает вероятность выплаты кредита в срок (на 0,7 - 2,3 процента)\n",
    "- Чаще берут кредит люди с меньшим колчичеством детей. \n",
    "- При наличимм 3 детей и более количество взятых кредитов резко сокращается.\n",
    "- Подавляющее число заемщиков не имеет детей."
   ]
  },
  {
   "cell_type": "markdown",
   "id": "b4c6e069",
   "metadata": {},
   "source": [
    "<div class=\"alert alert-success\">\n",
    "<b>✔️ Комментарий ревьюера v1:</b> \n",
    "<br>Верно! \n",
    "</div>"
   ]
  },
  {
   "cell_type": "markdown",
   "id": "eec2e971",
   "metadata": {},
   "source": [
    "##### Вопрос 2: Есть ли зависимость между семейным положением и возвратом кредита в срок?"
   ]
  },
  {
   "cell_type": "markdown",
   "id": "2aa221a3",
   "metadata": {},
   "source": [
    "создадим сводную таблицу для оценки влияния семейного положения на выплату кредита, и оценим полученные данные"
   ]
  },
  {
   "cell_type": "code",
   "execution_count": 37,
   "id": "6c9164f9",
   "metadata": {},
   "outputs": [
    {
     "data": {
      "text/html": [
       "<div>\n",
       "<style scoped>\n",
       "    .dataframe tbody tr th:only-of-type {\n",
       "        vertical-align: middle;\n",
       "    }\n",
       "\n",
       "    .dataframe tbody tr th {\n",
       "        vertical-align: top;\n",
       "    }\n",
       "\n",
       "    .dataframe thead th {\n",
       "        text-align: right;\n",
       "    }\n",
       "</style>\n",
       "<table border=\"1\" class=\"dataframe\">\n",
       "  <thead>\n",
       "    <tr style=\"text-align: right;\">\n",
       "      <th>family_status_id</th>\n",
       "      <th>0</th>\n",
       "      <th>1</th>\n",
       "      <th>2</th>\n",
       "      <th>3</th>\n",
       "      <th>4</th>\n",
       "    </tr>\n",
       "    <tr>\n",
       "      <th>debt</th>\n",
       "      <th></th>\n",
       "      <th></th>\n",
       "      <th></th>\n",
       "      <th></th>\n",
       "      <th></th>\n",
       "    </tr>\n",
       "  </thead>\n",
       "  <tbody>\n",
       "    <tr>\n",
       "      <th>0</th>\n",
       "      <td>11290</td>\n",
       "      <td>3729</td>\n",
       "      <td>884</td>\n",
       "      <td>1095</td>\n",
       "      <td>2508</td>\n",
       "    </tr>\n",
       "    <tr>\n",
       "      <th>1</th>\n",
       "      <td>923</td>\n",
       "      <td>383</td>\n",
       "      <td>62</td>\n",
       "      <td>84</td>\n",
       "      <td>272</td>\n",
       "    </tr>\n",
       "  </tbody>\n",
       "</table>\n",
       "</div>"
      ],
      "text/plain": [
       "family_status_id      0     1    2     3     4\n",
       "debt                                          \n",
       "0                 11290  3729  884  1095  2508\n",
       "1                   923   383   62    84   272"
      ]
     },
     "metadata": {},
     "output_type": "display_data"
    },
    {
     "name": "stdout",
     "output_type": "stream",
     "text": [
      "процент возврата кредита в семейном статусе женат / замужем 92.4% \n",
      "процент возврата кредита в семейном статусе гражданский брак 90.7% \n",
      "процент возврата кредита в семейном статусе вдовец / вдова 93.4% \n",
      "процент возврата кредита в семейном статусе в разводе 92.9% \n",
      "процент возврата кредита в семейном статусе не женат / не замужем 90.2% \n"
     ]
    }
   ],
   "source": [
    "family_status_pivot = df.pivot_table(index=['debt'], columns='family_status_id', values = 'children',aggfunc='count')\n",
    "display(family_status_pivot)\n",
    "print('процент возврата кредита в семейном статусе женат / замужем {:.1f}% '.format(family_status_pivot[0][0]/(family_status_pivot[0][0]+family_status_pivot[0][1])*100))\n",
    "print('процент возврата кредита в семейном статусе гражданский брак {:.1f}% '.format(family_status_pivot[1][0]/(family_status_pivot[1][0]+family_status_pivot[1][1])*100))\n",
    "print('процент возврата кредита в семейном статусе вдовец / вдова {:.1f}% '.format(family_status_pivot[2][0]/(family_status_pivot[2][0]+family_status_pivot[2][1])*100))\n",
    "print('процент возврата кредита в семейном статусе в разводе {:.1f}% '.format(family_status_pivot[3][0]/(family_status_pivot[3][0]+family_status_pivot[3][1])*100))\n",
    "print('процент возврата кредита в семейном статусе не женат / не замужем {:.1f}% '.format(family_status_pivot[4][0]/(family_status_pivot[4][0]+family_status_pivot[4][1])*100))\n",
    "\n"
   ]
  },
  {
   "cell_type": "markdown",
   "id": "c62d65a4",
   "metadata": {},
   "source": [
    "<div class=\"alert alert-success\">\n",
    "<b>✔️ Комментарий ревьюера v1:</b> \n",
    "<br>Согласен! Идём дальше)\n",
    "</div>"
   ]
  },
  {
   "cell_type": "markdown",
   "id": "63737b0a",
   "metadata": {},
   "source": [
    "##### Вывод 2:"
   ]
  },
  {
   "cell_type": "markdown",
   "id": "0ab8e88b",
   "metadata": {},
   "source": [
    "##### Вопрос 3: Как разные цели кредита влияют на его возврат в срок?"
   ]
  },
  {
   "cell_type": "markdown",
   "id": "df2a0afd",
   "metadata": {},
   "source": [
    "- чаще всего креди в срок выплачивают люди в семейном статусе вдовец / вдова, в статусе в разводе или в статусе женат / замужем, среднем на 2,5 процента чаще чем в статусе гражданский брак и не женат / не замужем\n",
    "- БОльшую часть заемщиков составляют заемщики в статусе женат / замужем.\n",
    "- Реже всего кредит берут в семейном статусе вдовец / вдова и в статусе в разводе"
   ]
  },
  {
   "cell_type": "markdown",
   "id": "efb6f3bf",
   "metadata": {},
   "source": [
    "создадим сводную таблицу для оценки влияния уровня дохода на выплату кредита, и оценим полученные данные"
   ]
  },
  {
   "cell_type": "code",
   "execution_count": 38,
   "id": "62138ecb",
   "metadata": {},
   "outputs": [
    {
     "data": {
      "text/html": [
       "<div>\n",
       "<style scoped>\n",
       "    .dataframe tbody tr th:only-of-type {\n",
       "        vertical-align: middle;\n",
       "    }\n",
       "\n",
       "    .dataframe tbody tr th {\n",
       "        vertical-align: top;\n",
       "    }\n",
       "\n",
       "    .dataframe thead th {\n",
       "        text-align: right;\n",
       "    }\n",
       "</style>\n",
       "<table border=\"1\" class=\"dataframe\">\n",
       "  <thead>\n",
       "    <tr style=\"text-align: right;\">\n",
       "      <th>total_income_category</th>\n",
       "      <th>A</th>\n",
       "      <th>B</th>\n",
       "      <th>C</th>\n",
       "      <th>D</th>\n",
       "      <th>E</th>\n",
       "    </tr>\n",
       "    <tr>\n",
       "      <th>debt</th>\n",
       "      <th></th>\n",
       "      <th></th>\n",
       "      <th></th>\n",
       "      <th></th>\n",
       "      <th></th>\n",
       "    </tr>\n",
       "  </thead>\n",
       "  <tbody>\n",
       "    <tr>\n",
       "      <th>0</th>\n",
       "      <td>23</td>\n",
       "      <td>4634</td>\n",
       "      <td>14503</td>\n",
       "      <td>326</td>\n",
       "      <td>20</td>\n",
       "    </tr>\n",
       "    <tr>\n",
       "      <th>1</th>\n",
       "      <td>2</td>\n",
       "      <td>353</td>\n",
       "      <td>1346</td>\n",
       "      <td>21</td>\n",
       "      <td>2</td>\n",
       "    </tr>\n",
       "  </tbody>\n",
       "</table>\n",
       "</div>"
      ],
      "text/plain": [
       "total_income_category   A     B      C    D   E\n",
       "debt                                           \n",
       "0                      23  4634  14503  326  20\n",
       "1                       2   353   1346   21   2"
      ]
     },
     "metadata": {},
     "output_type": "display_data"
    },
    {
     "name": "stdout",
     "output_type": "stream",
     "text": [
      "процент возврата кредита при уровне дохода 0–30000 92.0% \n",
      "процент возврата кредита при уровне дохода 30001–50000  92.9% \n",
      "процент возврата кредита при уровне дохода 50001–200000 91.5% \n",
      "процент возврата кредита при уровне дохода 200001–1000000 93.9% \n",
      "процент возврата кредита при уровне дохода 1000001 и выше 90.9% \n"
     ]
    }
   ],
   "source": [
    "total_income_pivot = df.pivot_table(index=['debt'], columns='total_income_category', values = 'total_income',aggfunc='count')\n",
    "display(total_income_pivot)\n",
    "\n",
    "print('процент возврата кредита при уровне дохода 0–30000 {:.1f}% '.format(total_income_pivot['A'][0]/(total_income_pivot['A'][0]+total_income_pivot['A'][1])*100))\n",
    "print('процент возврата кредита при уровне дохода 30001–50000  {:.1f}% '.format(total_income_pivot['B'][0]/(total_income_pivot['B'][0]+total_income_pivot['B'][1])*100))\n",
    "print('процент возврата кредита при уровне дохода 50001–200000 {:.1f}% '.format(total_income_pivot['C'][0]/(total_income_pivot['C'][0]+total_income_pivot['C'][1])*100))\n",
    "print('процент возврата кредита при уровне дохода 200001–1000000 {:.1f}% '.format(total_income_pivot['D'][0]/(total_income_pivot['D'][0]+total_income_pivot['D'][1])*100))\n",
    "print('процент возврата кредита при уровне дохода 1000001 и выше {:.1f}% '.format(total_income_pivot['E'][0]/(total_income_pivot['E'][0]+total_income_pivot['E'][1])*100))"
   ]
  },
  {
   "cell_type": "markdown",
   "id": "a814ad31",
   "metadata": {},
   "source": [
    "##### Вывод 3:"
   ]
  },
  {
   "cell_type": "markdown",
   "id": "a960cfbf",
   "metadata": {},
   "source": [
    "- люди с самым низким доходом (0–30000) и с самым высоким (1000001 и выше) практические не берут кредиты\n",
    "- чаще всего выплачивают кредит в срок люди с доходом 200001–1000000\n",
    "- основная часть заемщиков имеет доход 30001–200000, при увеличении дохода в этих границах процент выплаты кредита в срок снижается"
   ]
  },
  {
   "cell_type": "markdown",
   "id": "1e63c9d8",
   "metadata": {},
   "source": [
    "##### Вопрос 4: Как разные цели кредита влияют на его возврат в срок?"
   ]
  },
  {
   "cell_type": "markdown",
   "id": "7060fcde",
   "metadata": {},
   "source": [
    "создадим сводную таблицу для оценки зависимости цели займа на выплату кредита, и оценим полученные данные"
   ]
  },
  {
   "cell_type": "code",
   "execution_count": 39,
   "id": "2dc12455",
   "metadata": {},
   "outputs": [
    {
     "data": {
      "text/html": [
       "<div>\n",
       "<style scoped>\n",
       "    .dataframe tbody tr th:only-of-type {\n",
       "        vertical-align: middle;\n",
       "    }\n",
       "\n",
       "    .dataframe tbody tr th {\n",
       "        vertical-align: top;\n",
       "    }\n",
       "\n",
       "    .dataframe thead th {\n",
       "        text-align: right;\n",
       "    }\n",
       "</style>\n",
       "<table border=\"1\" class=\"dataframe\">\n",
       "  <thead>\n",
       "    <tr style=\"text-align: right;\">\n",
       "      <th>purpose_category</th>\n",
       "      <th>операции с автомобилем</th>\n",
       "      <th>операции с недвижимостью</th>\n",
       "      <th>получение образования</th>\n",
       "      <th>проведение свадьбы</th>\n",
       "    </tr>\n",
       "    <tr>\n",
       "      <th>debt</th>\n",
       "      <th></th>\n",
       "      <th></th>\n",
       "      <th></th>\n",
       "      <th></th>\n",
       "    </tr>\n",
       "  </thead>\n",
       "  <tbody>\n",
       "    <tr>\n",
       "      <th>0</th>\n",
       "      <td>3861</td>\n",
       "      <td>9926</td>\n",
       "      <td>3601</td>\n",
       "      <td>2118</td>\n",
       "    </tr>\n",
       "    <tr>\n",
       "      <th>1</th>\n",
       "      <td>397</td>\n",
       "      <td>777</td>\n",
       "      <td>369</td>\n",
       "      <td>181</td>\n",
       "    </tr>\n",
       "  </tbody>\n",
       "</table>\n",
       "</div>"
      ],
      "text/plain": [
       "purpose_category  операции с автомобилем  операции с недвижимостью  \\\n",
       "debt                                                                 \n",
       "0                                   3861                      9926   \n",
       "1                                    397                       777   \n",
       "\n",
       "purpose_category  получение образования  проведение свадьбы  \n",
       "debt                                                         \n",
       "0                                  3601                2118  \n",
       "1                                   369                 181  "
      ]
     },
     "metadata": {},
     "output_type": "display_data"
    },
    {
     "name": "stdout",
     "output_type": "stream",
     "text": [
      "процент возврата кредита при цели займа: операции с автомобилем  90.7% \n",
      "процент возврата кредита при цели займа: операции с недвижимостью 92.7% \n",
      "процент возврата кредита при цели займа: получение образования 90.7% \n",
      "процент возврата кредита при цели займа: проведение свадьбы  92.1% \n"
     ]
    }
   ],
   "source": [
    "total_income_pivot = df.pivot_table(index=['debt'], columns='purpose_category', values = 'purpose',aggfunc='count')\n",
    "display(total_income_pivot)\n",
    "print('процент возврата кредита при цели займа: операции с автомобилем  {:.1f}% '.format(total_income_pivot['операции с автомобилем'][0]/(total_income_pivot['операции с автомобилем'][0]+total_income_pivot['операции с автомобилем'][1])*100))\n",
    "print('процент возврата кредита при цели займа: операции с недвижимостью {:.1f}% '.format(total_income_pivot['операции с недвижимостью'][0]/(total_income_pivot['операции с недвижимостью'][0]+total_income_pivot['операции с недвижимостью'][1])*100))\n",
    "print('процент возврата кредита при цели займа: получение образования {:.1f}% '.format(total_income_pivot['получение образования'][0]/(total_income_pivot['получение образования'][0]+total_income_pivot['получение образования'][1])*100))\n",
    "print('процент возврата кредита при цели займа: проведение свадьбы  {:.1f}% '.format(total_income_pivot['проведение свадьбы'][0]/(total_income_pivot['проведение свадьбы'][0]+total_income_pivot['проведение свадьбы'][1])*100))"
   ]
  },
  {
   "cell_type": "markdown",
   "id": "bfaf5461",
   "metadata": {},
   "source": [
    "##### Вывод 4:"
   ]
  },
  {
   "cell_type": "markdown",
   "id": "87f92d01",
   "metadata": {},
   "source": [
    "- Люди чаще выплачивают кредит в срок если он взят на операции недвижимостью или на проведение свадьбы.\n",
    "- БОльшая часть кредитов берется на операции с недвижимостью"
   ]
  },
  {
   "cell_type": "markdown",
   "id": "ae2dc2c7",
   "metadata": {},
   "source": [
    "## Общий вывод:"
   ]
  },
  {
   "cell_type": "markdown",
   "id": "54804a27",
   "metadata": {},
   "source": [
    "Была выполнена обработка исходных данных в ходе которой были устранены аномальные данные, значения по столбцам приведены к единому формату, были удалены дубликаты, выполнена категоризация данных.\n",
    "\n",
    "По результатам исследования наиболее кредитоспособными клиентами являются:\n",
    "- клиенты без детей\n",
    "- клиенты с доходом 200001–1000000\n",
    "- в семейном статусе вдовец / вдова\n",
    "- с целью займа на операции с недвижимостью"
   ]
  }
 ],
 "metadata": {
  "ExecuteTimeLog": [
   {
    "duration": 468,
    "start_time": "2022-04-19T18:35:59.812Z"
   },
   {
    "duration": 68,
    "start_time": "2022-04-19T18:36:52.394Z"
   },
   {
    "duration": 74,
    "start_time": "2022-04-19T18:37:10.907Z"
   },
   {
    "duration": 18,
    "start_time": "2022-04-19T18:41:18.867Z"
   },
   {
    "duration": 9,
    "start_time": "2022-04-19T18:41:29.900Z"
   },
   {
    "duration": 6,
    "start_time": "2022-04-19T18:44:23.316Z"
   },
   {
    "duration": 58,
    "start_time": "2022-04-19T18:44:57.654Z"
   },
   {
    "duration": 10,
    "start_time": "2022-04-19T18:45:04.830Z"
   },
   {
    "duration": 20,
    "start_time": "2022-04-19T18:45:16.653Z"
   },
   {
    "duration": 19,
    "start_time": "2022-04-19T18:45:43.589Z"
   },
   {
    "duration": 13,
    "start_time": "2022-04-19T18:46:02.110Z"
   },
   {
    "duration": 9,
    "start_time": "2022-04-19T18:46:08.213Z"
   },
   {
    "duration": 21,
    "start_time": "2022-04-19T18:47:58.813Z"
   },
   {
    "duration": 10,
    "start_time": "2022-04-19T18:49:38.078Z"
   },
   {
    "duration": 8,
    "start_time": "2022-04-19T18:49:56.533Z"
   },
   {
    "duration": 18,
    "start_time": "2022-04-19T18:50:03.570Z"
   },
   {
    "duration": 21,
    "start_time": "2022-04-19T18:50:21.431Z"
   },
   {
    "duration": 9,
    "start_time": "2022-04-19T18:50:47.007Z"
   },
   {
    "duration": 19,
    "start_time": "2022-04-19T18:51:05.486Z"
   },
   {
    "duration": 19,
    "start_time": "2022-04-19T18:51:15.479Z"
   },
   {
    "duration": 1662,
    "start_time": "2022-04-19T18:52:47.976Z"
   },
   {
    "duration": 1519,
    "start_time": "2022-04-19T18:53:00.976Z"
   },
   {
    "duration": 18,
    "start_time": "2022-04-19T18:55:28.584Z"
   },
   {
    "duration": 8,
    "start_time": "2022-04-19T18:55:30.937Z"
   },
   {
    "duration": 18,
    "start_time": "2022-04-19T18:57:09.443Z"
   },
   {
    "duration": 8,
    "start_time": "2022-04-19T18:57:27.362Z"
   },
   {
    "duration": 9,
    "start_time": "2022-04-19T18:57:37.793Z"
   },
   {
    "duration": 7,
    "start_time": "2022-04-19T18:59:42.939Z"
   },
   {
    "duration": 17,
    "start_time": "2022-04-19T19:00:01.645Z"
   },
   {
    "duration": 8,
    "start_time": "2022-04-19T19:00:22.763Z"
   },
   {
    "duration": 17,
    "start_time": "2022-04-19T19:00:28.763Z"
   },
   {
    "duration": 9,
    "start_time": "2022-04-19T19:00:45.461Z"
   },
   {
    "duration": 11,
    "start_time": "2022-04-19T19:00:53.003Z"
   },
   {
    "duration": 13,
    "start_time": "2022-04-19T19:01:11.235Z"
   },
   {
    "duration": 194,
    "start_time": "2022-04-19T19:01:25.508Z"
   },
   {
    "duration": 196,
    "start_time": "2022-04-19T19:01:31.172Z"
   },
   {
    "duration": 5,
    "start_time": "2022-04-19T19:01:39.980Z"
   },
   {
    "duration": 181,
    "start_time": "2022-04-19T19:02:50.772Z"
   },
   {
    "duration": 5,
    "start_time": "2022-04-19T19:03:00.036Z"
   },
   {
    "duration": 6,
    "start_time": "2022-04-19T19:03:28.181Z"
   },
   {
    "duration": 6,
    "start_time": "2022-04-19T19:03:53.813Z"
   },
   {
    "duration": 6,
    "start_time": "2022-04-19T19:05:05.525Z"
   },
   {
    "duration": 18,
    "start_time": "2022-04-19T19:07:04.855Z"
   },
   {
    "duration": 225,
    "start_time": "2022-04-19T19:08:32.623Z"
   },
   {
    "duration": 7,
    "start_time": "2022-04-19T19:09:15.873Z"
   },
   {
    "duration": 18,
    "start_time": "2022-04-19T19:09:24.727Z"
   },
   {
    "duration": 12,
    "start_time": "2022-04-19T19:09:36.399Z"
   },
   {
    "duration": 9,
    "start_time": "2022-04-19T19:14:56.994Z"
   },
   {
    "duration": 19,
    "start_time": "2022-04-19T19:15:34.378Z"
   },
   {
    "duration": 12,
    "start_time": "2022-04-19T19:15:47.843Z"
   },
   {
    "duration": 6,
    "start_time": "2022-04-19T19:16:01.740Z"
   },
   {
    "duration": 65,
    "start_time": "2022-04-19T19:16:29.107Z"
   },
   {
    "duration": 14,
    "start_time": "2022-04-19T19:16:37.977Z"
   },
   {
    "duration": 19,
    "start_time": "2022-04-19T19:17:01.211Z"
   },
   {
    "duration": 8,
    "start_time": "2022-04-19T19:18:21.131Z"
   },
   {
    "duration": 18,
    "start_time": "2022-04-19T19:19:01.259Z"
   },
   {
    "duration": 7,
    "start_time": "2022-04-19T19:19:19.691Z"
   },
   {
    "duration": 4,
    "start_time": "2022-04-19T19:20:17.452Z"
   },
   {
    "duration": 19,
    "start_time": "2022-04-19T19:20:34.884Z"
   },
   {
    "duration": 6,
    "start_time": "2022-04-19T19:20:36.396Z"
   },
   {
    "duration": 19,
    "start_time": "2022-04-19T19:20:49.660Z"
   },
   {
    "duration": 19,
    "start_time": "2022-04-19T19:21:34.308Z"
   },
   {
    "duration": 20,
    "start_time": "2022-04-19T19:21:49.724Z"
   },
   {
    "duration": 6,
    "start_time": "2022-04-19T19:22:45.030Z"
   },
   {
    "duration": 4,
    "start_time": "2022-04-19T19:29:36.008Z"
   },
   {
    "duration": 6,
    "start_time": "2022-04-19T19:30:22.744Z"
   },
   {
    "duration": 7,
    "start_time": "2022-04-19T19:30:30.752Z"
   },
   {
    "duration": 11,
    "start_time": "2022-04-19T19:33:32.834Z"
   },
   {
    "duration": 4,
    "start_time": "2022-04-19T19:39:50.437Z"
   },
   {
    "duration": 6,
    "start_time": "2022-04-19T19:39:52.820Z"
   },
   {
    "duration": 6,
    "start_time": "2022-04-19T19:46:49.384Z"
   },
   {
    "duration": 8,
    "start_time": "2022-04-19T19:47:25.488Z"
   },
   {
    "duration": 9,
    "start_time": "2022-04-19T19:48:26.416Z"
   },
   {
    "duration": 17,
    "start_time": "2022-04-19T19:48:49.353Z"
   },
   {
    "duration": 11,
    "start_time": "2022-04-19T19:49:23.192Z"
   },
   {
    "duration": 19,
    "start_time": "2022-04-19T19:49:24.806Z"
   },
   {
    "duration": 7,
    "start_time": "2022-04-19T19:52:58.609Z"
   },
   {
    "duration": 18,
    "start_time": "2022-04-19T19:53:01.130Z"
   },
   {
    "duration": 9,
    "start_time": "2022-04-19T19:54:47.858Z"
   },
   {
    "duration": 19,
    "start_time": "2022-04-19T19:54:49.330Z"
   },
   {
    "duration": 17,
    "start_time": "2022-04-19T19:54:51.997Z"
   },
   {
    "duration": 5,
    "start_time": "2022-04-19T19:55:24.642Z"
   },
   {
    "duration": 20,
    "start_time": "2022-04-19T19:55:27.771Z"
   },
   {
    "duration": 4,
    "start_time": "2022-04-19T19:55:39.786Z"
   },
   {
    "duration": 19,
    "start_time": "2022-04-19T19:55:42.971Z"
   },
   {
    "duration": 6,
    "start_time": "2022-04-19T19:56:01.394Z"
   },
   {
    "duration": 27,
    "start_time": "2022-04-19T19:56:03.427Z"
   },
   {
    "duration": 4,
    "start_time": "2022-04-19T19:56:23.387Z"
   },
   {
    "duration": 20,
    "start_time": "2022-04-19T19:56:24.867Z"
   },
   {
    "duration": 19,
    "start_time": "2022-04-19T19:56:28.836Z"
   },
   {
    "duration": 19,
    "start_time": "2022-04-19T19:56:34.123Z"
   },
   {
    "duration": 7,
    "start_time": "2022-04-19T19:57:05.779Z"
   },
   {
    "duration": 8,
    "start_time": "2022-04-19T19:57:29.338Z"
   },
   {
    "duration": 19,
    "start_time": "2022-04-19T19:58:00.116Z"
   },
   {
    "duration": 70,
    "start_time": "2022-04-19T19:58:20.326Z"
   },
   {
    "duration": 12,
    "start_time": "2022-04-19T19:58:20.398Z"
   },
   {
    "duration": 9,
    "start_time": "2022-04-19T19:58:20.412Z"
   },
   {
    "duration": 18,
    "start_time": "2022-04-19T19:58:20.422Z"
   },
   {
    "duration": 6,
    "start_time": "2022-04-19T19:58:20.442Z"
   },
   {
    "duration": 4,
    "start_time": "2022-04-19T19:58:20.450Z"
   },
   {
    "duration": 19,
    "start_time": "2022-04-19T19:58:20.455Z"
   },
   {
    "duration": 5,
    "start_time": "2022-04-19T19:58:20.500Z"
   },
   {
    "duration": 4,
    "start_time": "2022-04-19T19:58:20.507Z"
   },
   {
    "duration": 5,
    "start_time": "2022-04-19T19:58:20.513Z"
   },
   {
    "duration": 6,
    "start_time": "2022-04-19T19:58:20.520Z"
   },
   {
    "duration": 4,
    "start_time": "2022-04-19T19:58:20.527Z"
   },
   {
    "duration": 18,
    "start_time": "2022-04-19T19:58:20.533Z"
   },
   {
    "duration": 414,
    "start_time": "2022-04-19T19:58:40.944Z"
   },
   {
    "duration": 14,
    "start_time": "2022-04-19T19:58:41.361Z"
   },
   {
    "duration": 9,
    "start_time": "2022-04-19T19:58:41.377Z"
   },
   {
    "duration": 28,
    "start_time": "2022-04-19T19:58:41.388Z"
   },
   {
    "duration": 7,
    "start_time": "2022-04-19T19:58:41.418Z"
   },
   {
    "duration": 9,
    "start_time": "2022-04-19T19:58:41.426Z"
   },
   {
    "duration": 19,
    "start_time": "2022-04-19T19:58:41.436Z"
   },
   {
    "duration": 5,
    "start_time": "2022-04-19T19:58:41.457Z"
   },
   {
    "duration": 6,
    "start_time": "2022-04-19T19:58:41.463Z"
   },
   {
    "duration": 6,
    "start_time": "2022-04-19T19:58:41.500Z"
   },
   {
    "duration": 6,
    "start_time": "2022-04-19T19:58:41.508Z"
   },
   {
    "duration": 5,
    "start_time": "2022-04-19T19:58:41.515Z"
   },
   {
    "duration": 18,
    "start_time": "2022-04-19T19:58:41.521Z"
   },
   {
    "duration": 20,
    "start_time": "2022-04-19T20:00:19.062Z"
   },
   {
    "duration": 21,
    "start_time": "2022-04-19T20:00:38.918Z"
   },
   {
    "duration": 9,
    "start_time": "2022-04-19T20:00:56.287Z"
   },
   {
    "duration": 9,
    "start_time": "2022-04-19T20:01:03.086Z"
   },
   {
    "duration": 62,
    "start_time": "2022-04-19T20:02:20.782Z"
   },
   {
    "duration": 234,
    "start_time": "2022-04-19T20:05:51.531Z"
   },
   {
    "duration": 21,
    "start_time": "2022-04-19T20:05:56.783Z"
   },
   {
    "duration": 19,
    "start_time": "2022-04-19T20:06:09.072Z"
   },
   {
    "duration": 22,
    "start_time": "2022-04-19T20:06:15.880Z"
   },
   {
    "duration": 13,
    "start_time": "2022-04-19T20:07:30.178Z"
   },
   {
    "duration": 11,
    "start_time": "2022-04-19T20:08:11.544Z"
   },
   {
    "duration": 9,
    "start_time": "2022-04-19T20:08:27.225Z"
   },
   {
    "duration": 9,
    "start_time": "2022-04-19T20:08:57.937Z"
   },
   {
    "duration": 9,
    "start_time": "2022-04-19T20:08:59.825Z"
   },
   {
    "duration": 8,
    "start_time": "2022-04-19T20:10:49.355Z"
   },
   {
    "duration": 9,
    "start_time": "2022-04-19T20:10:51.479Z"
   },
   {
    "duration": 459,
    "start_time": "2022-04-19T20:11:06.954Z"
   },
   {
    "duration": 14,
    "start_time": "2022-04-19T20:11:07.415Z"
   },
   {
    "duration": 9,
    "start_time": "2022-04-19T20:11:07.430Z"
   },
   {
    "duration": 24,
    "start_time": "2022-04-19T20:11:07.440Z"
   },
   {
    "duration": 8,
    "start_time": "2022-04-19T20:11:07.467Z"
   },
   {
    "duration": 26,
    "start_time": "2022-04-19T20:11:07.476Z"
   },
   {
    "duration": 20,
    "start_time": "2022-04-19T20:11:07.503Z"
   },
   {
    "duration": 5,
    "start_time": "2022-04-19T20:11:07.525Z"
   },
   {
    "duration": 7,
    "start_time": "2022-04-19T20:11:07.531Z"
   },
   {
    "duration": 9,
    "start_time": "2022-04-19T20:11:07.539Z"
   },
   {
    "duration": 6,
    "start_time": "2022-04-19T20:11:07.549Z"
   },
   {
    "duration": 5,
    "start_time": "2022-04-19T20:11:07.556Z"
   },
   {
    "duration": 46,
    "start_time": "2022-04-19T20:11:07.563Z"
   },
   {
    "duration": 10,
    "start_time": "2022-04-19T20:11:07.611Z"
   },
   {
    "duration": 8,
    "start_time": "2022-04-19T20:12:16.016Z"
   },
   {
    "duration": 10,
    "start_time": "2022-04-19T20:12:18.002Z"
   },
   {
    "duration": 9,
    "start_time": "2022-04-19T20:12:54.912Z"
   },
   {
    "duration": 12,
    "start_time": "2022-04-19T20:13:09.232Z"
   },
   {
    "duration": 183,
    "start_time": "2022-04-19T20:14:02.609Z"
   },
   {
    "duration": 4,
    "start_time": "2022-04-19T20:14:10.336Z"
   },
   {
    "duration": 0,
    "start_time": "2022-04-19T20:14:30.186Z"
   },
   {
    "duration": 3,
    "start_time": "2022-04-19T20:14:40.592Z"
   },
   {
    "duration": 9,
    "start_time": "2022-04-19T20:14:55.520Z"
   },
   {
    "duration": 11,
    "start_time": "2022-04-19T20:15:41.090Z"
   },
   {
    "duration": 4,
    "start_time": "2022-04-19T20:15:46.713Z"
   },
   {
    "duration": 10,
    "start_time": "2022-04-19T20:15:48.802Z"
   },
   {
    "duration": 80,
    "start_time": "2022-04-19T20:16:21.149Z"
   },
   {
    "duration": 14,
    "start_time": "2022-04-19T20:16:21.231Z"
   },
   {
    "duration": 9,
    "start_time": "2022-04-19T20:16:21.247Z"
   },
   {
    "duration": 24,
    "start_time": "2022-04-19T20:16:21.257Z"
   },
   {
    "duration": 8,
    "start_time": "2022-04-19T20:16:21.299Z"
   },
   {
    "duration": 7,
    "start_time": "2022-04-19T20:16:21.309Z"
   },
   {
    "duration": 19,
    "start_time": "2022-04-19T20:16:21.317Z"
   },
   {
    "duration": 5,
    "start_time": "2022-04-19T20:16:21.338Z"
   },
   {
    "duration": 9,
    "start_time": "2022-04-19T20:16:21.344Z"
   },
   {
    "duration": 9,
    "start_time": "2022-04-19T20:16:21.354Z"
   },
   {
    "duration": 11,
    "start_time": "2022-04-19T20:16:21.364Z"
   },
   {
    "duration": 4,
    "start_time": "2022-04-19T20:16:26.585Z"
   },
   {
    "duration": 4,
    "start_time": "2022-04-19T20:16:30.602Z"
   },
   {
    "duration": 10,
    "start_time": "2022-04-19T20:16:34.521Z"
   },
   {
    "duration": 12,
    "start_time": "2022-04-19T20:16:40.025Z"
   },
   {
    "duration": 4,
    "start_time": "2022-04-19T20:16:42.745Z"
   },
   {
    "duration": 11,
    "start_time": "2022-04-19T20:16:50.361Z"
   },
   {
    "duration": 3012,
    "start_time": "2022-04-19T20:17:29.306Z"
   },
   {
    "duration": 0,
    "start_time": "2022-04-19T20:17:32.320Z"
   },
   {
    "duration": 12,
    "start_time": "2022-04-19T20:17:37.634Z"
   },
   {
    "duration": 12,
    "start_time": "2022-04-19T20:18:06.417Z"
   },
   {
    "duration": 3138,
    "start_time": "2022-04-19T20:18:27.922Z"
   },
   {
    "duration": 0,
    "start_time": "2022-04-19T20:18:31.062Z"
   },
   {
    "duration": 0,
    "start_time": "2022-04-19T20:18:31.063Z"
   },
   {
    "duration": 11,
    "start_time": "2022-04-19T20:18:41.483Z"
   },
   {
    "duration": 11,
    "start_time": "2022-04-19T20:22:50.493Z"
   },
   {
    "duration": 6,
    "start_time": "2022-04-19T20:23:01.981Z"
   },
   {
    "duration": 5,
    "start_time": "2022-04-19T20:23:10.888Z"
   },
   {
    "duration": 4,
    "start_time": "2022-04-19T20:23:10.942Z"
   },
   {
    "duration": 5,
    "start_time": "2022-04-19T20:23:16.938Z"
   },
   {
    "duration": 8,
    "start_time": "2022-04-19T20:23:32.444Z"
   },
   {
    "duration": 11,
    "start_time": "2022-04-19T20:23:51.972Z"
   },
   {
    "duration": 8,
    "start_time": "2022-04-19T20:24:00.029Z"
   },
   {
    "duration": 8,
    "start_time": "2022-04-19T20:24:12.293Z"
   },
   {
    "duration": 9,
    "start_time": "2022-04-19T20:24:17.236Z"
   },
   {
    "duration": 8,
    "start_time": "2022-04-19T20:24:23.029Z"
   },
   {
    "duration": 11,
    "start_time": "2022-04-19T20:24:49.652Z"
   },
   {
    "duration": 9,
    "start_time": "2022-04-19T20:25:08.781Z"
   },
   {
    "duration": 10,
    "start_time": "2022-04-19T20:25:11.104Z"
   },
   {
    "duration": 5,
    "start_time": "2022-04-19T20:25:27.365Z"
   },
   {
    "duration": 7,
    "start_time": "2022-04-19T20:26:04.277Z"
   },
   {
    "duration": 5,
    "start_time": "2022-04-19T20:26:18.029Z"
   },
   {
    "duration": 10,
    "start_time": "2022-04-19T20:26:20.973Z"
   },
   {
    "duration": 3,
    "start_time": "2022-04-19T20:26:25.422Z"
   },
   {
    "duration": 4,
    "start_time": "2022-04-19T20:26:38.318Z"
   },
   {
    "duration": 9,
    "start_time": "2022-04-19T20:26:59.998Z"
   },
   {
    "duration": 9,
    "start_time": "2022-04-19T20:27:21.438Z"
   },
   {
    "duration": 9,
    "start_time": "2022-04-19T20:27:42.286Z"
   },
   {
    "duration": 8,
    "start_time": "2022-04-19T20:27:51.366Z"
   },
   {
    "duration": 9,
    "start_time": "2022-04-19T20:27:59.942Z"
   },
   {
    "duration": 75,
    "start_time": "2022-04-19T20:28:12.248Z"
   },
   {
    "duration": 13,
    "start_time": "2022-04-19T20:28:12.326Z"
   },
   {
    "duration": 10,
    "start_time": "2022-04-19T20:28:12.341Z"
   },
   {
    "duration": 19,
    "start_time": "2022-04-19T20:28:12.353Z"
   },
   {
    "duration": 34,
    "start_time": "2022-04-19T20:28:12.373Z"
   },
   {
    "duration": 8,
    "start_time": "2022-04-19T20:28:12.409Z"
   },
   {
    "duration": 20,
    "start_time": "2022-04-19T20:28:12.419Z"
   },
   {
    "duration": 6,
    "start_time": "2022-04-19T20:28:12.441Z"
   },
   {
    "duration": 6,
    "start_time": "2022-04-19T20:28:12.449Z"
   },
   {
    "duration": 44,
    "start_time": "2022-04-19T20:28:12.457Z"
   },
   {
    "duration": 7,
    "start_time": "2022-04-19T20:28:12.503Z"
   },
   {
    "duration": 7,
    "start_time": "2022-04-19T20:28:12.511Z"
   },
   {
    "duration": 6,
    "start_time": "2022-04-19T20:28:17.616Z"
   },
   {
    "duration": 9,
    "start_time": "2022-04-19T20:28:28.814Z"
   },
   {
    "duration": 11,
    "start_time": "2022-04-19T20:30:07.824Z"
   },
   {
    "duration": 11,
    "start_time": "2022-04-19T20:30:44.559Z"
   },
   {
    "duration": 16,
    "start_time": "2022-04-19T20:30:54.479Z"
   },
   {
    "duration": 10,
    "start_time": "2022-04-19T20:31:05.616Z"
   },
   {
    "duration": 185,
    "start_time": "2022-04-19T20:31:13.608Z"
   },
   {
    "duration": 64,
    "start_time": "2022-04-19T20:31:27.994Z"
   },
   {
    "duration": 12,
    "start_time": "2022-04-19T20:31:28.060Z"
   },
   {
    "duration": 9,
    "start_time": "2022-04-19T20:31:28.073Z"
   },
   {
    "duration": 28,
    "start_time": "2022-04-19T20:31:28.084Z"
   },
   {
    "duration": 7,
    "start_time": "2022-04-19T20:31:28.114Z"
   },
   {
    "duration": 4,
    "start_time": "2022-04-19T20:31:28.122Z"
   },
   {
    "duration": 16,
    "start_time": "2022-04-19T20:31:28.128Z"
   },
   {
    "duration": 4,
    "start_time": "2022-04-19T20:31:28.146Z"
   },
   {
    "duration": 4,
    "start_time": "2022-04-19T20:31:28.151Z"
   },
   {
    "duration": 13,
    "start_time": "2022-04-19T20:31:28.157Z"
   },
   {
    "duration": 29,
    "start_time": "2022-04-19T20:31:28.172Z"
   },
   {
    "duration": 5,
    "start_time": "2022-04-19T20:31:28.202Z"
   },
   {
    "duration": 22,
    "start_time": "2022-04-19T20:31:37.191Z"
   },
   {
    "duration": 200,
    "start_time": "2022-04-19T20:31:58.640Z"
   },
   {
    "duration": 181,
    "start_time": "2022-04-19T20:32:03.464Z"
   },
   {
    "duration": 22,
    "start_time": "2022-04-19T20:32:09.968Z"
   },
   {
    "duration": 194,
    "start_time": "2022-04-19T20:32:17.112Z"
   },
   {
    "duration": 21,
    "start_time": "2022-04-19T20:32:23.520Z"
   },
   {
    "duration": 14,
    "start_time": "2022-04-19T20:32:34.050Z"
   },
   {
    "duration": 483,
    "start_time": "2022-04-19T20:33:15.254Z"
   },
   {
    "duration": 14,
    "start_time": "2022-04-19T20:33:15.738Z"
   },
   {
    "duration": 9,
    "start_time": "2022-04-19T20:33:15.753Z"
   },
   {
    "duration": 39,
    "start_time": "2022-04-19T20:33:15.763Z"
   },
   {
    "duration": 9,
    "start_time": "2022-04-19T20:33:15.804Z"
   },
   {
    "duration": 6,
    "start_time": "2022-04-19T20:33:15.814Z"
   },
   {
    "duration": 19,
    "start_time": "2022-04-19T20:33:15.821Z"
   },
   {
    "duration": 6,
    "start_time": "2022-04-19T20:33:15.841Z"
   },
   {
    "duration": 5,
    "start_time": "2022-04-19T20:33:15.848Z"
   },
   {
    "duration": 6,
    "start_time": "2022-04-19T20:33:15.855Z"
   },
   {
    "duration": 43,
    "start_time": "2022-04-19T20:33:15.862Z"
   },
   {
    "duration": 9,
    "start_time": "2022-04-19T20:33:15.906Z"
   },
   {
    "duration": 12,
    "start_time": "2022-04-19T20:33:23.139Z"
   },
   {
    "duration": 17,
    "start_time": "2022-04-19T20:34:54.059Z"
   },
   {
    "duration": 8,
    "start_time": "2022-04-19T20:35:14.658Z"
   },
   {
    "duration": 9,
    "start_time": "2022-04-19T20:35:49.797Z"
   },
   {
    "duration": 10,
    "start_time": "2022-04-19T20:36:17.054Z"
   },
   {
    "duration": 8,
    "start_time": "2022-04-19T20:36:29.259Z"
   },
   {
    "duration": 7,
    "start_time": "2022-04-19T20:37:28.757Z"
   },
   {
    "duration": 6,
    "start_time": "2022-04-19T20:42:01.054Z"
   },
   {
    "duration": 7,
    "start_time": "2022-04-19T20:42:50.319Z"
   },
   {
    "duration": 7,
    "start_time": "2022-04-19T20:43:09.303Z"
   },
   {
    "duration": 10,
    "start_time": "2022-04-19T20:44:51.560Z"
   },
   {
    "duration": 6,
    "start_time": "2022-04-19T20:44:57.712Z"
   },
   {
    "duration": 6,
    "start_time": "2022-04-19T20:45:06.272Z"
   },
   {
    "duration": 6,
    "start_time": "2022-04-19T20:45:24.072Z"
   },
   {
    "duration": 5,
    "start_time": "2022-04-19T20:45:26.536Z"
   },
   {
    "duration": 10,
    "start_time": "2022-04-19T20:46:47.625Z"
   },
   {
    "duration": 7,
    "start_time": "2022-04-19T20:47:12.664Z"
   },
   {
    "duration": 3,
    "start_time": "2022-04-19T20:47:24.705Z"
   },
   {
    "duration": 9,
    "start_time": "2022-04-19T20:47:47.001Z"
   },
   {
    "duration": 7,
    "start_time": "2022-04-19T20:48:04.208Z"
   },
   {
    "duration": 10,
    "start_time": "2022-04-19T20:48:06.592Z"
   },
   {
    "duration": 7,
    "start_time": "2022-04-19T20:48:09.541Z"
   },
   {
    "duration": 65,
    "start_time": "2022-04-19T20:48:20.012Z"
   },
   {
    "duration": 12,
    "start_time": "2022-04-19T20:48:20.079Z"
   },
   {
    "duration": 8,
    "start_time": "2022-04-19T20:48:20.093Z"
   },
   {
    "duration": 17,
    "start_time": "2022-04-19T20:48:20.102Z"
   },
   {
    "duration": 7,
    "start_time": "2022-04-19T20:48:20.121Z"
   },
   {
    "duration": 7,
    "start_time": "2022-04-19T20:48:20.129Z"
   },
   {
    "duration": 21,
    "start_time": "2022-04-19T20:48:20.137Z"
   },
   {
    "duration": 5,
    "start_time": "2022-04-19T20:48:20.159Z"
   },
   {
    "duration": 5,
    "start_time": "2022-04-19T20:48:20.166Z"
   },
   {
    "duration": 33,
    "start_time": "2022-04-19T20:48:20.172Z"
   },
   {
    "duration": 6,
    "start_time": "2022-04-19T20:48:20.207Z"
   },
   {
    "duration": 10,
    "start_time": "2022-04-19T20:48:20.214Z"
   },
   {
    "duration": 9,
    "start_time": "2022-04-19T20:48:20.226Z"
   },
   {
    "duration": 472,
    "start_time": "2022-04-19T20:48:53.380Z"
   },
   {
    "duration": 14,
    "start_time": "2022-04-19T20:48:53.853Z"
   },
   {
    "duration": 8,
    "start_time": "2022-04-19T20:48:53.869Z"
   },
   {
    "duration": 32,
    "start_time": "2022-04-19T20:48:53.878Z"
   },
   {
    "duration": 8,
    "start_time": "2022-04-19T20:48:53.912Z"
   },
   {
    "duration": 4,
    "start_time": "2022-04-19T20:48:53.921Z"
   },
   {
    "duration": 18,
    "start_time": "2022-04-19T20:48:53.927Z"
   },
   {
    "duration": 5,
    "start_time": "2022-04-19T20:48:53.946Z"
   },
   {
    "duration": 5,
    "start_time": "2022-04-19T20:48:53.952Z"
   },
   {
    "duration": 6,
    "start_time": "2022-04-19T20:48:53.958Z"
   },
   {
    "duration": 38,
    "start_time": "2022-04-19T20:48:53.966Z"
   },
   {
    "duration": 7,
    "start_time": "2022-04-19T20:48:54.005Z"
   },
   {
    "duration": 10,
    "start_time": "2022-04-19T20:48:54.013Z"
   },
   {
    "duration": 9,
    "start_time": "2022-04-19T20:50:13.056Z"
   },
   {
    "duration": 475,
    "start_time": "2022-04-19T21:17:12.785Z"
   },
   {
    "duration": 14,
    "start_time": "2022-04-19T21:17:16.496Z"
   },
   {
    "duration": 9,
    "start_time": "2022-04-19T21:17:19.816Z"
   },
   {
    "duration": 19,
    "start_time": "2022-04-19T21:17:23.425Z"
   },
   {
    "duration": 9,
    "start_time": "2022-04-19T21:17:34.872Z"
   },
   {
    "duration": 6,
    "start_time": "2022-04-19T21:17:38.879Z"
   },
   {
    "duration": 18,
    "start_time": "2022-04-19T21:17:44.568Z"
   },
   {
    "duration": 6,
    "start_time": "2022-04-19T21:18:01.832Z"
   },
   {
    "duration": 5,
    "start_time": "2022-04-19T21:18:04.321Z"
   },
   {
    "duration": 3,
    "start_time": "2022-04-19T21:24:18.347Z"
   },
   {
    "duration": 225,
    "start_time": "2022-04-19T21:24:24.995Z"
   },
   {
    "duration": 3099,
    "start_time": "2022-04-19T21:24:52.411Z"
   },
   {
    "duration": 0,
    "start_time": "2022-04-19T21:24:55.512Z"
   },
   {
    "duration": 11,
    "start_time": "2022-04-19T21:25:03.236Z"
   },
   {
    "duration": 239,
    "start_time": "2022-04-19T21:27:48.196Z"
   },
   {
    "duration": 192,
    "start_time": "2022-04-19T21:27:57.284Z"
   },
   {
    "duration": 6,
    "start_time": "2022-04-19T21:28:02.021Z"
   },
   {
    "duration": 20,
    "start_time": "2022-04-19T21:31:00.294Z"
   },
   {
    "duration": 7,
    "start_time": "2022-04-19T21:31:41.294Z"
   },
   {
    "duration": 15,
    "start_time": "2022-04-19T21:31:49.001Z"
   },
   {
    "duration": 13,
    "start_time": "2022-04-19T21:31:55.190Z"
   },
   {
    "duration": 13,
    "start_time": "2022-04-19T21:32:17.319Z"
   },
   {
    "duration": 440,
    "start_time": "2022-04-19T21:32:28.516Z"
   },
   {
    "duration": 14,
    "start_time": "2022-04-19T21:32:28.958Z"
   },
   {
    "duration": 8,
    "start_time": "2022-04-19T21:32:28.974Z"
   },
   {
    "duration": 26,
    "start_time": "2022-04-19T21:32:28.983Z"
   },
   {
    "duration": 7,
    "start_time": "2022-04-19T21:32:29.011Z"
   },
   {
    "duration": 4,
    "start_time": "2022-04-19T21:32:29.019Z"
   },
   {
    "duration": 6,
    "start_time": "2022-04-19T21:32:29.025Z"
   },
   {
    "duration": 91,
    "start_time": "2022-04-19T21:32:29.032Z"
   },
   {
    "duration": 8,
    "start_time": "2022-04-19T21:32:45.602Z"
   },
   {
    "duration": 19,
    "start_time": "2022-04-19T21:32:52.515Z"
   },
   {
    "duration": 8,
    "start_time": "2022-04-19T21:33:57.475Z"
   },
   {
    "duration": 19,
    "start_time": "2022-04-19T21:34:10.763Z"
   },
   {
    "duration": 19,
    "start_time": "2022-04-19T21:34:27.027Z"
   },
   {
    "duration": 11,
    "start_time": "2022-04-19T21:34:55.012Z"
   },
   {
    "duration": 14,
    "start_time": "2022-04-19T21:35:13.730Z"
   },
   {
    "duration": 10,
    "start_time": "2022-04-19T21:35:22.244Z"
   },
   {
    "duration": 14,
    "start_time": "2022-04-19T21:35:38.707Z"
   },
   {
    "duration": 6,
    "start_time": "2022-04-19T21:37:57.405Z"
   },
   {
    "duration": 6,
    "start_time": "2022-04-19T21:38:03.396Z"
   },
   {
    "duration": 5,
    "start_time": "2022-04-19T21:38:19.244Z"
   },
   {
    "duration": 5,
    "start_time": "2022-04-19T21:38:26.716Z"
   },
   {
    "duration": 6,
    "start_time": "2022-04-19T21:42:56.418Z"
   },
   {
    "duration": 7,
    "start_time": "2022-04-19T21:43:34.439Z"
   },
   {
    "duration": 10,
    "start_time": "2022-04-19T21:43:48.927Z"
   },
   {
    "duration": 8,
    "start_time": "2022-04-19T21:44:01.584Z"
   },
   {
    "duration": 8,
    "start_time": "2022-04-19T21:44:07.079Z"
   },
   {
    "duration": 6,
    "start_time": "2022-04-19T21:44:10.335Z"
   },
   {
    "duration": 4,
    "start_time": "2022-04-19T21:45:21.913Z"
   },
   {
    "duration": 6,
    "start_time": "2022-04-19T21:45:55.416Z"
   },
   {
    "duration": 7,
    "start_time": "2022-04-19T21:46:10.033Z"
   },
   {
    "duration": 8,
    "start_time": "2022-04-19T21:46:19.176Z"
   },
   {
    "duration": 6,
    "start_time": "2022-04-19T21:46:21.980Z"
   },
   {
    "duration": 18,
    "start_time": "2022-04-19T21:47:30.801Z"
   },
   {
    "duration": 2991,
    "start_time": "2022-04-19T21:50:09.554Z"
   },
   {
    "duration": 0,
    "start_time": "2022-04-19T21:50:12.547Z"
   },
   {
    "duration": 32,
    "start_time": "2022-04-19T21:50:36.324Z"
   },
   {
    "duration": 127,
    "start_time": "2022-04-19T21:50:53.866Z"
   },
   {
    "duration": 57,
    "start_time": "2022-04-19T21:51:51.339Z"
   },
   {
    "duration": 9,
    "start_time": "2022-04-19T21:52:46.995Z"
   },
   {
    "duration": 8,
    "start_time": "2022-04-19T21:52:56.819Z"
   },
   {
    "duration": 12,
    "start_time": "2022-04-19T21:53:21.820Z"
   },
   {
    "duration": 7,
    "start_time": "2022-04-19T21:53:40.620Z"
   },
   {
    "duration": 10,
    "start_time": "2022-04-19T21:54:17.043Z"
   },
   {
    "duration": 8,
    "start_time": "2022-04-19T21:54:27.179Z"
   },
   {
    "duration": 8,
    "start_time": "2022-04-19T21:54:36.492Z"
   },
   {
    "duration": 11,
    "start_time": "2022-04-19T21:54:45.900Z"
   },
   {
    "duration": 10,
    "start_time": "2022-04-19T21:55:23.900Z"
   },
   {
    "duration": 9,
    "start_time": "2022-04-19T21:56:01.341Z"
   },
   {
    "duration": 20,
    "start_time": "2022-04-19T21:56:14.428Z"
   },
   {
    "duration": 206,
    "start_time": "2022-04-19T21:57:20.254Z"
   },
   {
    "duration": 16,
    "start_time": "2022-04-19T21:57:32.621Z"
   },
   {
    "duration": 11,
    "start_time": "2022-04-19T21:57:39.996Z"
   },
   {
    "duration": 7,
    "start_time": "2022-04-19T21:58:08.622Z"
   },
   {
    "duration": 8,
    "start_time": "2022-04-19T21:59:24.631Z"
   },
   {
    "duration": 2359,
    "start_time": "2022-04-19T22:00:01.159Z"
   },
   {
    "duration": 484,
    "start_time": "2022-04-19T22:00:48.864Z"
   },
   {
    "duration": 14,
    "start_time": "2022-04-19T22:00:49.350Z"
   },
   {
    "duration": 9,
    "start_time": "2022-04-19T22:00:49.365Z"
   },
   {
    "duration": 26,
    "start_time": "2022-04-19T22:00:49.376Z"
   },
   {
    "duration": 7,
    "start_time": "2022-04-19T22:00:49.404Z"
   },
   {
    "duration": 10,
    "start_time": "2022-04-19T22:00:49.412Z"
   },
   {
    "duration": 5,
    "start_time": "2022-04-19T22:00:49.423Z"
   },
   {
    "duration": 20,
    "start_time": "2022-04-19T22:00:49.429Z"
   },
   {
    "duration": 2392,
    "start_time": "2022-04-19T22:00:49.450Z"
   },
   {
    "duration": 2281,
    "start_time": "2022-04-19T22:01:12.783Z"
   },
   {
    "duration": 2306,
    "start_time": "2022-04-19T22:01:15.431Z"
   },
   {
    "duration": 2306,
    "start_time": "2022-04-19T22:01:45.360Z"
   },
   {
    "duration": 2256,
    "start_time": "2022-04-19T22:02:46.159Z"
   },
   {
    "duration": 2384,
    "start_time": "2022-04-19T22:02:59.136Z"
   },
   {
    "duration": 2269,
    "start_time": "2022-04-19T22:03:29.367Z"
   },
   {
    "duration": 5,
    "start_time": "2022-04-19T22:03:43.720Z"
   },
   {
    "duration": 69,
    "start_time": "2022-04-19T22:04:09.031Z"
   },
   {
    "duration": 15,
    "start_time": "2022-04-19T22:04:12.519Z"
   },
   {
    "duration": 9,
    "start_time": "2022-04-19T22:04:14.655Z"
   },
   {
    "duration": 19,
    "start_time": "2022-04-19T22:04:17.112Z"
   },
   {
    "duration": 8,
    "start_time": "2022-04-19T22:04:19.727Z"
   },
   {
    "duration": 6,
    "start_time": "2022-04-19T22:04:22.783Z"
   },
   {
    "duration": 6,
    "start_time": "2022-04-19T22:04:31.072Z"
   },
   {
    "duration": 18,
    "start_time": "2022-04-19T22:04:57.089Z"
   },
   {
    "duration": 2436,
    "start_time": "2022-04-19T22:05:16.488Z"
   },
   {
    "duration": 67,
    "start_time": "2022-04-19T22:05:43.961Z"
   },
   {
    "duration": 27,
    "start_time": "2022-04-19T22:05:48.544Z"
   },
   {
    "duration": 64,
    "start_time": "2022-04-19T22:06:24.424Z"
   },
   {
    "duration": 43,
    "start_time": "2022-04-19T22:06:27.864Z"
   },
   {
    "duration": 2436,
    "start_time": "2022-04-19T22:06:38.473Z"
   },
   {
    "duration": 2368,
    "start_time": "2022-04-19T22:06:45.929Z"
   },
   {
    "duration": 63,
    "start_time": "2022-04-19T22:06:51.593Z"
   },
   {
    "duration": 18,
    "start_time": "2022-04-19T22:06:57.001Z"
   },
   {
    "duration": 45,
    "start_time": "2022-04-19T22:07:32.536Z"
   },
   {
    "duration": 73,
    "start_time": "2022-04-19T22:07:54.309Z"
   },
   {
    "duration": 42,
    "start_time": "2022-04-19T22:08:48.538Z"
   },
   {
    "duration": 4,
    "start_time": "2022-04-19T22:09:14.042Z"
   },
   {
    "duration": 36,
    "start_time": "2022-04-19T22:09:19.074Z"
   },
   {
    "duration": 13,
    "start_time": "2022-04-19T22:10:35.434Z"
   },
   {
    "duration": 11,
    "start_time": "2022-04-19T22:10:49.322Z"
   },
   {
    "duration": 5,
    "start_time": "2022-04-19T22:11:17.675Z"
   },
   {
    "duration": 10,
    "start_time": "2022-04-19T22:11:26.378Z"
   },
   {
    "duration": 11,
    "start_time": "2022-04-19T22:11:38.226Z"
   },
   {
    "duration": 10,
    "start_time": "2022-04-19T22:11:40.571Z"
   },
   {
    "duration": 9,
    "start_time": "2022-04-19T22:12:54.330Z"
   },
   {
    "duration": 8,
    "start_time": "2022-04-19T22:13:29.068Z"
   },
   {
    "duration": 13,
    "start_time": "2022-04-19T22:13:56.748Z"
   },
   {
    "duration": 8,
    "start_time": "2022-04-19T22:14:31.468Z"
   },
   {
    "duration": 9,
    "start_time": "2022-04-19T22:14:40.268Z"
   },
   {
    "duration": 9,
    "start_time": "2022-04-19T22:14:50.343Z"
   },
   {
    "duration": 6,
    "start_time": "2022-04-19T22:15:03.213Z"
   },
   {
    "duration": 5,
    "start_time": "2022-04-19T22:15:06.044Z"
   },
   {
    "duration": 10,
    "start_time": "2022-04-19T22:15:22.485Z"
   },
   {
    "duration": 70,
    "start_time": "2022-04-19T22:15:25.287Z"
   },
   {
    "duration": 14,
    "start_time": "2022-04-19T22:15:25.360Z"
   },
   {
    "duration": 13,
    "start_time": "2022-04-19T22:15:25.376Z"
   },
   {
    "duration": 22,
    "start_time": "2022-04-19T22:15:25.400Z"
   },
   {
    "duration": 9,
    "start_time": "2022-04-19T22:15:25.424Z"
   },
   {
    "duration": 6,
    "start_time": "2022-04-19T22:15:25.434Z"
   },
   {
    "duration": 9,
    "start_time": "2022-04-19T22:15:25.441Z"
   },
   {
    "duration": 52,
    "start_time": "2022-04-19T22:15:25.451Z"
   },
   {
    "duration": 7,
    "start_time": "2022-04-19T22:15:25.505Z"
   },
   {
    "duration": 8,
    "start_time": "2022-04-19T22:15:25.514Z"
   },
   {
    "duration": 5,
    "start_time": "2022-04-19T22:15:45.988Z"
   },
   {
    "duration": 64,
    "start_time": "2022-04-19T22:16:13.574Z"
   },
   {
    "duration": 15,
    "start_time": "2022-04-19T22:16:13.640Z"
   },
   {
    "duration": 9,
    "start_time": "2022-04-19T22:16:13.656Z"
   },
   {
    "duration": 17,
    "start_time": "2022-04-19T22:16:13.667Z"
   },
   {
    "duration": 7,
    "start_time": "2022-04-19T22:16:13.700Z"
   },
   {
    "duration": 5,
    "start_time": "2022-04-19T22:16:13.709Z"
   },
   {
    "duration": 6,
    "start_time": "2022-04-19T22:16:13.716Z"
   },
   {
    "duration": 17,
    "start_time": "2022-04-19T22:16:13.724Z"
   },
   {
    "duration": 8,
    "start_time": "2022-04-19T22:16:13.743Z"
   },
   {
    "duration": 12,
    "start_time": "2022-04-19T22:17:42.022Z"
   },
   {
    "duration": 15,
    "start_time": "2022-04-19T22:17:53.727Z"
   },
   {
    "duration": 6,
    "start_time": "2022-04-19T22:17:59.932Z"
   },
   {
    "duration": 13,
    "start_time": "2022-04-19T22:18:18.382Z"
   },
   {
    "duration": 9,
    "start_time": "2022-04-19T22:18:47.310Z"
   },
   {
    "duration": 5,
    "start_time": "2022-04-19T22:19:00.422Z"
   },
   {
    "duration": 10,
    "start_time": "2022-04-19T22:19:03.478Z"
   },
   {
    "duration": 6,
    "start_time": "2022-04-19T22:19:05.469Z"
   },
   {
    "duration": 11,
    "start_time": "2022-04-19T22:20:01.910Z"
   },
   {
    "duration": 64,
    "start_time": "2022-04-19T22:20:18.760Z"
   },
   {
    "duration": 13,
    "start_time": "2022-04-19T22:20:18.826Z"
   },
   {
    "duration": 9,
    "start_time": "2022-04-19T22:20:18.840Z"
   },
   {
    "duration": 17,
    "start_time": "2022-04-19T22:20:18.851Z"
   },
   {
    "duration": 8,
    "start_time": "2022-04-19T22:20:18.869Z"
   },
   {
    "duration": 6,
    "start_time": "2022-04-19T22:20:18.900Z"
   },
   {
    "duration": 5,
    "start_time": "2022-04-19T22:20:18.907Z"
   },
   {
    "duration": 18,
    "start_time": "2022-04-19T22:20:18.914Z"
   },
   {
    "duration": 10,
    "start_time": "2022-04-19T22:20:18.934Z"
   },
   {
    "duration": 5,
    "start_time": "2022-04-19T22:20:18.947Z"
   },
   {
    "duration": 5,
    "start_time": "2022-04-19T22:20:23.606Z"
   },
   {
    "duration": 9,
    "start_time": "2022-04-19T22:20:48.398Z"
   },
   {
    "duration": 7,
    "start_time": "2022-04-19T22:21:15.663Z"
   },
   {
    "duration": 5,
    "start_time": "2022-04-19T22:21:19.143Z"
   },
   {
    "duration": 9,
    "start_time": "2022-04-19T22:21:21.007Z"
   },
   {
    "duration": 69,
    "start_time": "2022-04-19T22:21:42.585Z"
   },
   {
    "duration": 13,
    "start_time": "2022-04-19T22:21:42.656Z"
   },
   {
    "duration": 9,
    "start_time": "2022-04-19T22:21:42.671Z"
   },
   {
    "duration": 31,
    "start_time": "2022-04-19T22:21:42.682Z"
   },
   {
    "duration": 8,
    "start_time": "2022-04-19T22:21:42.715Z"
   },
   {
    "duration": 5,
    "start_time": "2022-04-19T22:21:42.725Z"
   },
   {
    "duration": 7,
    "start_time": "2022-04-19T22:21:42.731Z"
   },
   {
    "duration": 18,
    "start_time": "2022-04-19T22:21:42.740Z"
   },
   {
    "duration": 45,
    "start_time": "2022-04-19T22:21:42.760Z"
   },
   {
    "duration": 6,
    "start_time": "2022-04-19T22:21:42.806Z"
   },
   {
    "duration": 11,
    "start_time": "2022-04-19T22:21:42.814Z"
   },
   {
    "duration": 10,
    "start_time": "2022-04-19T22:22:18.040Z"
   },
   {
    "duration": 5,
    "start_time": "2022-04-19T22:22:20.248Z"
   },
   {
    "duration": 9,
    "start_time": "2022-04-19T22:22:23.112Z"
   },
   {
    "duration": 8,
    "start_time": "2022-04-19T22:23:17.129Z"
   },
   {
    "duration": 7,
    "start_time": "2022-04-19T22:23:42.250Z"
   },
   {
    "duration": 65,
    "start_time": "2022-04-19T22:23:51.843Z"
   },
   {
    "duration": 13,
    "start_time": "2022-04-19T22:23:51.910Z"
   },
   {
    "duration": 9,
    "start_time": "2022-04-19T22:23:51.925Z"
   },
   {
    "duration": 18,
    "start_time": "2022-04-19T22:23:51.935Z"
   },
   {
    "duration": 7,
    "start_time": "2022-04-19T22:23:51.955Z"
   },
   {
    "duration": 5,
    "start_time": "2022-04-19T22:23:51.963Z"
   },
   {
    "duration": 32,
    "start_time": "2022-04-19T22:23:51.969Z"
   },
   {
    "duration": 17,
    "start_time": "2022-04-19T22:23:52.002Z"
   },
   {
    "duration": 5,
    "start_time": "2022-04-19T22:23:52.020Z"
   },
   {
    "duration": 10,
    "start_time": "2022-04-19T22:23:52.026Z"
   },
   {
    "duration": 10,
    "start_time": "2022-04-19T22:24:09.240Z"
   },
   {
    "duration": 7,
    "start_time": "2022-04-19T22:24:17.576Z"
   },
   {
    "duration": 10,
    "start_time": "2022-04-19T22:24:41.873Z"
   },
   {
    "duration": 11,
    "start_time": "2022-04-19T22:25:12.161Z"
   },
   {
    "duration": 7,
    "start_time": "2022-04-19T22:25:16.201Z"
   },
   {
    "duration": 9,
    "start_time": "2022-04-19T22:25:18.601Z"
   },
   {
    "duration": 10,
    "start_time": "2022-04-19T22:26:32.426Z"
   },
   {
    "duration": 11,
    "start_time": "2022-04-19T22:27:05.794Z"
   },
   {
    "duration": 23,
    "start_time": "2022-04-19T22:28:11.050Z"
   },
   {
    "duration": 68,
    "start_time": "2022-04-20T14:58:43.785Z"
   },
   {
    "duration": 501,
    "start_time": "2022-04-20T14:58:53.635Z"
   },
   {
    "duration": 19,
    "start_time": "2022-04-20T14:58:54.138Z"
   },
   {
    "duration": 10,
    "start_time": "2022-04-20T14:58:54.159Z"
   },
   {
    "duration": 51,
    "start_time": "2022-04-20T14:58:54.171Z"
   },
   {
    "duration": 18,
    "start_time": "2022-04-20T14:58:54.224Z"
   },
   {
    "duration": 7,
    "start_time": "2022-04-20T14:58:54.244Z"
   },
   {
    "duration": 6,
    "start_time": "2022-04-20T14:58:54.252Z"
   },
   {
    "duration": 20,
    "start_time": "2022-04-20T14:58:54.260Z"
   },
   {
    "duration": 68,
    "start_time": "2022-04-20T14:58:54.281Z"
   },
   {
    "duration": 8,
    "start_time": "2022-04-20T14:58:54.351Z"
   },
   {
    "duration": 13,
    "start_time": "2022-04-20T14:58:54.361Z"
   },
   {
    "duration": 16,
    "start_time": "2022-04-20T15:00:52.642Z"
   },
   {
    "duration": 20,
    "start_time": "2022-04-20T15:00:56.497Z"
   },
   {
    "duration": 14,
    "start_time": "2022-04-20T15:01:04.105Z"
   },
   {
    "duration": 5,
    "start_time": "2022-04-20T15:01:30.888Z"
   },
   {
    "duration": 19,
    "start_time": "2022-04-20T15:01:41.008Z"
   },
   {
    "duration": 35,
    "start_time": "2022-04-20T15:03:04.594Z"
   },
   {
    "duration": 19,
    "start_time": "2022-04-20T15:03:14.139Z"
   },
   {
    "duration": 473,
    "start_time": "2022-04-20T15:03:37.433Z"
   },
   {
    "duration": 25,
    "start_time": "2022-04-20T15:03:37.910Z"
   },
   {
    "duration": 14,
    "start_time": "2022-04-20T15:03:37.938Z"
   },
   {
    "duration": 33,
    "start_time": "2022-04-20T15:03:37.953Z"
   },
   {
    "duration": 25,
    "start_time": "2022-04-20T15:03:37.989Z"
   },
   {
    "duration": 12,
    "start_time": "2022-04-20T15:03:38.015Z"
   },
   {
    "duration": 12,
    "start_time": "2022-04-20T15:03:38.029Z"
   },
   {
    "duration": 26,
    "start_time": "2022-04-20T15:03:38.043Z"
   },
   {
    "duration": 13,
    "start_time": "2022-04-20T15:03:38.071Z"
   },
   {
    "duration": 29,
    "start_time": "2022-04-20T15:03:38.086Z"
   },
   {
    "duration": 33,
    "start_time": "2022-04-20T15:03:38.117Z"
   },
   {
    "duration": 539,
    "start_time": "2022-04-20T15:03:50.159Z"
   },
   {
    "duration": 26,
    "start_time": "2022-04-20T15:03:50.700Z"
   },
   {
    "duration": 20,
    "start_time": "2022-04-20T15:03:50.733Z"
   },
   {
    "duration": 29,
    "start_time": "2022-04-20T15:03:50.755Z"
   },
   {
    "duration": 10,
    "start_time": "2022-04-20T15:03:50.787Z"
   },
   {
    "duration": 20,
    "start_time": "2022-04-20T15:03:50.800Z"
   },
   {
    "duration": 10,
    "start_time": "2022-04-20T15:03:50.822Z"
   },
   {
    "duration": 23,
    "start_time": "2022-04-20T15:03:57.013Z"
   },
   {
    "duration": 5,
    "start_time": "2022-04-20T15:03:59.245Z"
   },
   {
    "duration": 37,
    "start_time": "2022-04-20T15:04:37.997Z"
   },
   {
    "duration": 20,
    "start_time": "2022-04-20T15:05:23.527Z"
   },
   {
    "duration": 10,
    "start_time": "2022-04-20T15:06:06.454Z"
   },
   {
    "duration": 589,
    "start_time": "2022-04-20T15:06:15.018Z"
   },
   {
    "duration": 29,
    "start_time": "2022-04-20T15:06:15.609Z"
   },
   {
    "duration": 17,
    "start_time": "2022-04-20T15:06:15.641Z"
   },
   {
    "duration": 25,
    "start_time": "2022-04-20T15:06:15.660Z"
   },
   {
    "duration": 18,
    "start_time": "2022-04-20T15:06:15.709Z"
   },
   {
    "duration": 9,
    "start_time": "2022-04-20T15:06:15.731Z"
   },
   {
    "duration": 7,
    "start_time": "2022-04-20T15:06:15.746Z"
   },
   {
    "duration": 23,
    "start_time": "2022-04-20T15:06:24.912Z"
   },
   {
    "duration": 22,
    "start_time": "2022-04-20T15:06:33.255Z"
   },
   {
    "duration": 14,
    "start_time": "2022-04-20T15:07:29.160Z"
   },
   {
    "duration": 46,
    "start_time": "2022-04-20T15:07:36.152Z"
   },
   {
    "duration": 38,
    "start_time": "2022-04-20T15:07:51.513Z"
   },
   {
    "duration": 23,
    "start_time": "2022-04-20T15:08:14.513Z"
   },
   {
    "duration": 6,
    "start_time": "2022-04-20T15:08:22.152Z"
   },
   {
    "duration": 45,
    "start_time": "2022-04-21T17:42:50.903Z"
   },
   {
    "duration": 452,
    "start_time": "2022-04-21T17:42:57.360Z"
   },
   {
    "duration": 13,
    "start_time": "2022-04-21T17:42:57.814Z"
   },
   {
    "duration": 9,
    "start_time": "2022-04-21T17:42:57.829Z"
   },
   {
    "duration": 18,
    "start_time": "2022-04-21T17:42:57.847Z"
   },
   {
    "duration": 8,
    "start_time": "2022-04-21T17:42:57.867Z"
   },
   {
    "duration": 5,
    "start_time": "2022-04-21T17:42:57.876Z"
   },
   {
    "duration": 5,
    "start_time": "2022-04-21T17:42:57.882Z"
   },
   {
    "duration": 19,
    "start_time": "2022-04-21T17:42:57.888Z"
   },
   {
    "duration": 40,
    "start_time": "2022-04-21T17:42:57.908Z"
   },
   {
    "duration": 8,
    "start_time": "2022-04-21T17:43:01.061Z"
   },
   {
    "duration": 9,
    "start_time": "2022-04-21T17:43:32.558Z"
   },
   {
    "duration": 9,
    "start_time": "2022-04-21T17:44:53.759Z"
   },
   {
    "duration": 9,
    "start_time": "2022-04-21T17:44:58.695Z"
   },
   {
    "duration": 9,
    "start_time": "2022-04-21T17:45:23.191Z"
   },
   {
    "duration": 10,
    "start_time": "2022-04-21T17:45:27.703Z"
   },
   {
    "duration": 10,
    "start_time": "2022-04-21T17:45:31.334Z"
   },
   {
    "duration": 28,
    "start_time": "2022-04-21T17:45:46.926Z"
   },
   {
    "duration": 10,
    "start_time": "2022-04-21T17:45:56.170Z"
   },
   {
    "duration": 10,
    "start_time": "2022-04-21T17:45:58.551Z"
   },
   {
    "duration": 9,
    "start_time": "2022-04-21T17:46:23.176Z"
   },
   {
    "duration": 9,
    "start_time": "2022-04-21T17:46:32.024Z"
   },
   {
    "duration": 6,
    "start_time": "2022-04-21T17:46:43.304Z"
   },
   {
    "duration": 101,
    "start_time": "2022-04-21T17:46:54.879Z"
   },
   {
    "duration": 7,
    "start_time": "2022-04-21T17:46:59.848Z"
   },
   {
    "duration": 111,
    "start_time": "2022-04-21T17:47:34.968Z"
   },
   {
    "duration": 101,
    "start_time": "2022-04-21T17:47:56.303Z"
   },
   {
    "duration": 12,
    "start_time": "2022-04-21T17:48:33.863Z"
   },
   {
    "duration": 11,
    "start_time": "2022-04-21T17:49:13.232Z"
   },
   {
    "duration": 9,
    "start_time": "2022-04-21T17:49:18.177Z"
   },
   {
    "duration": 8,
    "start_time": "2022-04-21T17:49:41.343Z"
   },
   {
    "duration": 10,
    "start_time": "2022-04-21T17:49:42.808Z"
   },
   {
    "duration": 433,
    "start_time": "2022-04-21T17:49:48.979Z"
   },
   {
    "duration": 14,
    "start_time": "2022-04-21T17:49:49.414Z"
   },
   {
    "duration": 19,
    "start_time": "2022-04-21T17:49:49.429Z"
   },
   {
    "duration": 20,
    "start_time": "2022-04-21T17:49:49.450Z"
   },
   {
    "duration": 9,
    "start_time": "2022-04-21T17:49:49.472Z"
   },
   {
    "duration": 6,
    "start_time": "2022-04-21T17:49:49.483Z"
   },
   {
    "duration": 6,
    "start_time": "2022-04-21T17:49:49.491Z"
   },
   {
    "duration": 59,
    "start_time": "2022-04-21T17:49:49.499Z"
   },
   {
    "duration": 12,
    "start_time": "2022-04-21T17:49:49.559Z"
   },
   {
    "duration": 9,
    "start_time": "2022-04-21T17:49:49.572Z"
   },
   {
    "duration": 9,
    "start_time": "2022-04-21T17:49:53.359Z"
   },
   {
    "duration": 3,
    "start_time": "2022-04-21T17:50:48.960Z"
   },
   {
    "duration": 10,
    "start_time": "2022-04-21T17:51:01.153Z"
   },
   {
    "duration": 8,
    "start_time": "2022-04-21T17:51:46.368Z"
   },
   {
    "duration": 9,
    "start_time": "2022-04-21T17:51:47.385Z"
   },
   {
    "duration": 9,
    "start_time": "2022-04-21T17:51:49.217Z"
   },
   {
    "duration": 9,
    "start_time": "2022-04-21T17:52:19.537Z"
   },
   {
    "duration": 10,
    "start_time": "2022-04-21T17:52:21.817Z"
   },
   {
    "duration": 46,
    "start_time": "2022-04-21T17:53:46.205Z"
   },
   {
    "duration": 479,
    "start_time": "2022-04-21T17:53:51.936Z"
   },
   {
    "duration": 15,
    "start_time": "2022-04-21T17:53:52.417Z"
   },
   {
    "duration": 14,
    "start_time": "2022-04-21T17:53:52.434Z"
   },
   {
    "duration": 20,
    "start_time": "2022-04-21T17:53:52.450Z"
   },
   {
    "duration": 8,
    "start_time": "2022-04-21T17:53:52.473Z"
   },
   {
    "duration": 7,
    "start_time": "2022-04-21T17:53:52.483Z"
   },
   {
    "duration": 6,
    "start_time": "2022-04-21T17:53:52.492Z"
   },
   {
    "duration": 61,
    "start_time": "2022-04-21T17:53:52.500Z"
   },
   {
    "duration": 5,
    "start_time": "2022-04-21T17:53:55.357Z"
   },
   {
    "duration": 451,
    "start_time": "2022-04-21T17:54:12.609Z"
   },
   {
    "duration": 15,
    "start_time": "2022-04-21T17:54:13.062Z"
   },
   {
    "duration": 10,
    "start_time": "2022-04-21T17:54:13.078Z"
   },
   {
    "duration": 18,
    "start_time": "2022-04-21T17:54:13.089Z"
   },
   {
    "duration": 7,
    "start_time": "2022-04-21T17:54:13.110Z"
   },
   {
    "duration": 31,
    "start_time": "2022-04-21T17:54:13.119Z"
   },
   {
    "duration": 5,
    "start_time": "2022-04-21T17:54:13.152Z"
   },
   {
    "duration": 20,
    "start_time": "2022-04-21T17:54:13.159Z"
   },
   {
    "duration": 4,
    "start_time": "2022-04-21T17:54:13.180Z"
   },
   {
    "duration": 16,
    "start_time": "2022-04-21T17:54:13.185Z"
   },
   {
    "duration": 4,
    "start_time": "2022-04-21T17:54:13.203Z"
   },
   {
    "duration": 47,
    "start_time": "2022-04-21T17:54:13.208Z"
   },
   {
    "duration": 69,
    "start_time": "2022-04-21T17:54:29.238Z"
   },
   {
    "duration": 4,
    "start_time": "2022-04-21T17:54:49.006Z"
   },
   {
    "duration": 3,
    "start_time": "2022-04-21T17:55:07.166Z"
   },
   {
    "duration": 5,
    "start_time": "2022-04-21T17:55:28.413Z"
   },
   {
    "duration": 452,
    "start_time": "2022-04-21T18:06:22.574Z"
   },
   {
    "duration": 15,
    "start_time": "2022-04-21T18:06:23.029Z"
   },
   {
    "duration": 10,
    "start_time": "2022-04-21T18:06:23.046Z"
   },
   {
    "duration": 20,
    "start_time": "2022-04-21T18:06:23.057Z"
   },
   {
    "duration": 9,
    "start_time": "2022-04-21T18:06:23.079Z"
   },
   {
    "duration": 6,
    "start_time": "2022-04-21T18:06:23.090Z"
   },
   {
    "duration": 6,
    "start_time": "2022-04-21T18:06:23.098Z"
   },
   {
    "duration": 56,
    "start_time": "2022-04-21T18:06:23.105Z"
   },
   {
    "duration": 28,
    "start_time": "2022-04-21T18:08:23.637Z"
   },
   {
    "duration": 137,
    "start_time": "2022-04-21T18:09:01.630Z"
   },
   {
    "duration": 35,
    "start_time": "2022-04-21T18:09:11.366Z"
   },
   {
    "duration": 67,
    "start_time": "2022-04-21T18:09:28.125Z"
   },
   {
    "duration": 39,
    "start_time": "2022-04-21T18:09:40.325Z"
   },
   {
    "duration": 132,
    "start_time": "2022-04-21T18:10:11.982Z"
   },
   {
    "duration": 29,
    "start_time": "2022-04-21T18:10:17.318Z"
   },
   {
    "duration": 9,
    "start_time": "2022-04-21T18:14:22.272Z"
   },
   {
    "duration": 118,
    "start_time": "2022-04-21T18:14:31.944Z"
   },
   {
    "duration": 111,
    "start_time": "2022-04-21T18:16:50.337Z"
   },
   {
    "duration": 105,
    "start_time": "2022-04-21T18:16:55.234Z"
   },
   {
    "duration": 108,
    "start_time": "2022-04-21T18:17:30.170Z"
   },
   {
    "duration": 135,
    "start_time": "2022-04-21T18:17:33.800Z"
   },
   {
    "duration": 7,
    "start_time": "2022-04-21T18:19:10.138Z"
   },
   {
    "duration": 104,
    "start_time": "2022-04-21T18:20:24.441Z"
   },
   {
    "duration": 4,
    "start_time": "2022-04-21T18:20:47.412Z"
   },
   {
    "duration": 4,
    "start_time": "2022-04-21T18:20:50.026Z"
   },
   {
    "duration": 9,
    "start_time": "2022-04-21T18:21:36.771Z"
   },
   {
    "duration": 4,
    "start_time": "2022-04-21T18:22:01.939Z"
   },
   {
    "duration": 9,
    "start_time": "2022-04-21T18:22:03.747Z"
   },
   {
    "duration": 7,
    "start_time": "2022-04-21T18:32:17.960Z"
   },
   {
    "duration": 6,
    "start_time": "2022-04-21T18:32:26.129Z"
   },
   {
    "duration": 7,
    "start_time": "2022-04-21T18:32:48.296Z"
   },
   {
    "duration": 18,
    "start_time": "2022-04-21T18:33:03.169Z"
   },
   {
    "duration": 5,
    "start_time": "2022-04-21T18:34:09.859Z"
   },
   {
    "duration": 18,
    "start_time": "2022-04-21T18:34:29.666Z"
   },
   {
    "duration": 16,
    "start_time": "2022-04-21T18:34:42.737Z"
   },
   {
    "duration": 19,
    "start_time": "2022-04-21T18:34:45.505Z"
   },
   {
    "duration": 18,
    "start_time": "2022-04-21T18:35:05.731Z"
   },
   {
    "duration": 6,
    "start_time": "2022-04-21T18:35:42.210Z"
   },
   {
    "duration": 9,
    "start_time": "2022-04-21T18:35:49.626Z"
   },
   {
    "duration": 7,
    "start_time": "2022-04-21T18:36:22.683Z"
   },
   {
    "duration": 7,
    "start_time": "2022-04-21T18:36:26.459Z"
   },
   {
    "duration": 4,
    "start_time": "2022-04-21T18:36:55.875Z"
   },
   {
    "duration": 14,
    "start_time": "2022-04-21T18:37:47.891Z"
   },
   {
    "duration": 15,
    "start_time": "2022-04-21T18:38:16.483Z"
   },
   {
    "duration": 24,
    "start_time": "2022-04-21T18:38:22.619Z"
   },
   {
    "duration": 17,
    "start_time": "2022-04-21T18:39:01.941Z"
   },
   {
    "duration": 22,
    "start_time": "2022-04-21T18:39:25.204Z"
   },
   {
    "duration": 8,
    "start_time": "2022-04-21T18:45:33.647Z"
   },
   {
    "duration": 1718,
    "start_time": "2022-04-21T18:45:45.191Z"
   },
   {
    "duration": 8,
    "start_time": "2022-04-21T18:45:56.574Z"
   },
   {
    "duration": 7,
    "start_time": "2022-04-21T18:46:51.961Z"
   },
   {
    "duration": 118,
    "start_time": "2022-04-21T18:47:51.944Z"
   },
   {
    "duration": 14,
    "start_time": "2022-04-21T18:48:11.944Z"
   },
   {
    "duration": 5,
    "start_time": "2022-04-21T18:49:37.312Z"
   },
   {
    "duration": 7,
    "start_time": "2022-04-21T18:50:04.432Z"
   },
   {
    "duration": 3,
    "start_time": "2022-04-21T18:52:40.129Z"
   },
   {
    "duration": 3,
    "start_time": "2022-04-21T18:53:13.579Z"
   },
   {
    "duration": 12,
    "start_time": "2022-04-21T18:53:22.050Z"
   },
   {
    "duration": 11,
    "start_time": "2022-04-21T18:53:32.259Z"
   },
   {
    "duration": 107,
    "start_time": "2022-04-21T18:53:40.417Z"
   },
   {
    "duration": 114,
    "start_time": "2022-04-21T18:53:43.882Z"
   },
   {
    "duration": 7,
    "start_time": "2022-04-21T18:53:54.475Z"
   },
   {
    "duration": 5,
    "start_time": "2022-04-21T18:54:00.930Z"
   },
   {
    "duration": 7,
    "start_time": "2022-04-21T18:54:51.818Z"
   },
   {
    "duration": 9,
    "start_time": "2022-04-21T18:55:09.524Z"
   },
   {
    "duration": 114,
    "start_time": "2022-04-21T18:55:30.356Z"
   },
   {
    "duration": 112,
    "start_time": "2022-04-21T18:59:30.605Z"
   },
   {
    "duration": 119,
    "start_time": "2022-04-21T18:59:50.357Z"
   },
   {
    "duration": 108,
    "start_time": "2022-04-21T18:59:54.317Z"
   },
   {
    "duration": 545,
    "start_time": "2022-04-21T19:00:10.420Z"
   },
   {
    "duration": 5,
    "start_time": "2022-04-21T19:00:23.980Z"
   },
   {
    "duration": 4,
    "start_time": "2022-04-21T19:00:26.772Z"
   },
   {
    "duration": 19,
    "start_time": "2022-04-21T19:00:50.628Z"
   },
   {
    "duration": 18,
    "start_time": "2022-04-21T19:04:52.397Z"
   },
   {
    "duration": 18,
    "start_time": "2022-04-21T19:05:18.366Z"
   },
   {
    "duration": 22,
    "start_time": "2022-04-21T19:05:29.062Z"
   },
   {
    "duration": 5,
    "start_time": "2022-04-21T19:05:42.920Z"
   },
   {
    "duration": 18,
    "start_time": "2022-04-21T19:05:58.840Z"
   },
   {
    "duration": 20,
    "start_time": "2022-04-21T19:06:14.270Z"
   },
   {
    "duration": 6,
    "start_time": "2022-04-21T19:06:17.510Z"
   },
   {
    "duration": 18,
    "start_time": "2022-04-21T19:06:35.561Z"
   },
   {
    "duration": 112,
    "start_time": "2022-04-21T19:08:24.168Z"
   },
   {
    "duration": 6,
    "start_time": "2022-04-21T19:08:47.392Z"
   },
   {
    "duration": 109,
    "start_time": "2022-04-21T19:09:07.463Z"
   },
   {
    "duration": 98,
    "start_time": "2022-04-21T19:09:37.529Z"
   },
   {
    "duration": 108,
    "start_time": "2022-04-21T19:09:42.872Z"
   },
   {
    "duration": 6,
    "start_time": "2022-04-21T19:09:53.719Z"
   },
   {
    "duration": 8,
    "start_time": "2022-04-21T19:10:06.000Z"
   },
   {
    "duration": 4,
    "start_time": "2022-04-21T19:10:15.256Z"
   },
   {
    "duration": 5,
    "start_time": "2022-04-21T19:10:23.009Z"
   },
   {
    "duration": 6,
    "start_time": "2022-04-21T19:10:31.928Z"
   },
   {
    "duration": 6,
    "start_time": "2022-04-21T19:10:52.687Z"
   },
   {
    "duration": 4,
    "start_time": "2022-04-21T19:11:23.312Z"
   },
   {
    "duration": 6,
    "start_time": "2022-04-21T19:11:33.568Z"
   },
   {
    "duration": 9,
    "start_time": "2022-04-21T19:11:54.537Z"
   },
   {
    "duration": 6,
    "start_time": "2022-04-21T19:12:01.794Z"
   },
   {
    "duration": 13,
    "start_time": "2022-04-21T19:29:58.719Z"
   },
   {
    "duration": 13,
    "start_time": "2022-04-21T19:30:18.432Z"
   },
   {
    "duration": 13,
    "start_time": "2022-04-21T19:30:25.480Z"
   },
   {
    "duration": 110,
    "start_time": "2022-04-21T19:31:19.081Z"
   },
   {
    "duration": 112,
    "start_time": "2022-04-21T19:32:09.369Z"
   },
   {
    "duration": 13,
    "start_time": "2022-04-21T19:32:40.593Z"
   },
   {
    "duration": 107,
    "start_time": "2022-04-21T19:38:52.932Z"
   },
   {
    "duration": 8,
    "start_time": "2022-04-21T19:39:43.068Z"
   },
   {
    "duration": 21,
    "start_time": "2022-04-21T19:40:20.285Z"
   },
   {
    "duration": 21,
    "start_time": "2022-04-21T19:40:22.973Z"
   },
   {
    "duration": 8,
    "start_time": "2022-04-21T19:40:33.269Z"
   },
   {
    "duration": 7,
    "start_time": "2022-04-21T19:40:46.288Z"
   },
   {
    "duration": 7,
    "start_time": "2022-04-21T19:40:51.237Z"
   },
   {
    "duration": 8,
    "start_time": "2022-04-21T19:41:27.525Z"
   },
   {
    "duration": 8,
    "start_time": "2022-04-21T19:41:33.101Z"
   },
   {
    "duration": 13,
    "start_time": "2022-04-21T19:42:21.094Z"
   },
   {
    "duration": 12,
    "start_time": "2022-04-21T19:42:46.222Z"
   },
   {
    "duration": 11,
    "start_time": "2022-04-21T19:42:51.422Z"
   },
   {
    "duration": 13,
    "start_time": "2022-04-21T19:43:11.375Z"
   },
   {
    "duration": 6,
    "start_time": "2022-04-21T19:43:26.317Z"
   },
   {
    "duration": 19,
    "start_time": "2022-04-21T19:43:44.743Z"
   },
   {
    "duration": 4,
    "start_time": "2022-04-21T19:43:56.510Z"
   },
   {
    "duration": 17,
    "start_time": "2022-04-21T19:46:05.239Z"
   },
   {
    "duration": 15,
    "start_time": "2022-04-21T19:46:18.888Z"
   },
   {
    "duration": 9,
    "start_time": "2022-04-21T19:46:31.624Z"
   },
   {
    "duration": 425,
    "start_time": "2022-04-21T19:46:56.397Z"
   },
   {
    "duration": 15,
    "start_time": "2022-04-21T19:46:56.824Z"
   },
   {
    "duration": 15,
    "start_time": "2022-04-21T19:46:56.841Z"
   },
   {
    "duration": 24,
    "start_time": "2022-04-21T19:46:56.858Z"
   },
   {
    "duration": 113,
    "start_time": "2022-04-21T19:46:56.884Z"
   },
   {
    "duration": 0,
    "start_time": "2022-04-21T19:46:56.999Z"
   },
   {
    "duration": 0,
    "start_time": "2022-04-21T19:46:57.001Z"
   },
   {
    "duration": 0,
    "start_time": "2022-04-21T19:46:57.003Z"
   },
   {
    "duration": 0,
    "start_time": "2022-04-21T19:46:57.004Z"
   },
   {
    "duration": 0,
    "start_time": "2022-04-21T19:46:57.005Z"
   },
   {
    "duration": 0,
    "start_time": "2022-04-21T19:46:57.006Z"
   },
   {
    "duration": 0,
    "start_time": "2022-04-21T19:46:57.007Z"
   },
   {
    "duration": 0,
    "start_time": "2022-04-21T19:46:57.008Z"
   },
   {
    "duration": 0,
    "start_time": "2022-04-21T19:46:57.009Z"
   },
   {
    "duration": 0,
    "start_time": "2022-04-21T19:46:57.010Z"
   },
   {
    "duration": 0,
    "start_time": "2022-04-21T19:46:57.011Z"
   },
   {
    "duration": 0,
    "start_time": "2022-04-21T19:46:57.012Z"
   },
   {
    "duration": 0,
    "start_time": "2022-04-21T19:46:57.013Z"
   },
   {
    "duration": 0,
    "start_time": "2022-04-21T19:46:57.014Z"
   },
   {
    "duration": 0,
    "start_time": "2022-04-21T19:46:57.014Z"
   },
   {
    "duration": 0,
    "start_time": "2022-04-21T19:46:57.015Z"
   },
   {
    "duration": 70,
    "start_time": "2022-04-21T19:47:26.459Z"
   },
   {
    "duration": 3,
    "start_time": "2022-04-21T19:47:39.684Z"
   },
   {
    "duration": 7,
    "start_time": "2022-04-21T19:48:05.795Z"
   },
   {
    "duration": 6,
    "start_time": "2022-04-21T19:48:13.108Z"
   },
   {
    "duration": 20,
    "start_time": "2022-04-21T19:48:25.396Z"
   },
   {
    "duration": 12,
    "start_time": "2022-04-21T19:48:41.700Z"
   },
   {
    "duration": 10,
    "start_time": "2022-04-21T19:48:54.699Z"
   },
   {
    "duration": 21,
    "start_time": "2022-04-21T19:49:01.852Z"
   },
   {
    "duration": 7,
    "start_time": "2022-04-21T19:49:16.156Z"
   },
   {
    "duration": 13,
    "start_time": "2022-04-21T19:49:58.252Z"
   },
   {
    "duration": 23,
    "start_time": "2022-04-21T19:50:10.020Z"
   },
   {
    "duration": 6,
    "start_time": "2022-04-21T19:50:20.876Z"
   },
   {
    "duration": 1750,
    "start_time": "2022-04-21T19:50:30.085Z"
   },
   {
    "duration": 25,
    "start_time": "2022-04-21T19:50:36.092Z"
   },
   {
    "duration": 21,
    "start_time": "2022-04-21T19:53:20.623Z"
   },
   {
    "duration": 1628,
    "start_time": "2022-04-21T19:53:51.966Z"
   },
   {
    "duration": 23,
    "start_time": "2022-04-21T19:53:58.015Z"
   },
   {
    "duration": 6,
    "start_time": "2022-04-21T19:54:04.750Z"
   },
   {
    "duration": 102,
    "start_time": "2022-04-21T19:54:20.838Z"
   },
   {
    "duration": 6,
    "start_time": "2022-04-21T19:54:24.341Z"
   },
   {
    "duration": 4,
    "start_time": "2022-04-21T19:54:47.997Z"
   },
   {
    "duration": 2053,
    "start_time": "2022-04-21T19:55:01.750Z"
   },
   {
    "duration": 16,
    "start_time": "2022-04-21T19:55:17.022Z"
   },
   {
    "duration": 6,
    "start_time": "2022-04-21T19:55:41.029Z"
   },
   {
    "duration": 7,
    "start_time": "2022-04-21T19:55:48.295Z"
   },
   {
    "duration": 3,
    "start_time": "2022-04-21T19:56:44.927Z"
   },
   {
    "duration": 98,
    "start_time": "2022-04-21T19:57:20.697Z"
   },
   {
    "duration": 101,
    "start_time": "2022-04-21T19:57:29.783Z"
   },
   {
    "duration": 110,
    "start_time": "2022-04-21T19:57:48.015Z"
   },
   {
    "duration": 8,
    "start_time": "2022-04-21T19:58:21.425Z"
   },
   {
    "duration": 107,
    "start_time": "2022-04-21T19:58:41.007Z"
   },
   {
    "duration": 5,
    "start_time": "2022-04-21T19:59:06.329Z"
   },
   {
    "duration": 7,
    "start_time": "2022-04-21T19:59:14.760Z"
   },
   {
    "duration": 8,
    "start_time": "2022-04-21T19:59:33.967Z"
   },
   {
    "duration": 8,
    "start_time": "2022-04-21T19:59:55.231Z"
   },
   {
    "duration": 7,
    "start_time": "2022-04-21T20:00:06.080Z"
   },
   {
    "duration": 6,
    "start_time": "2022-04-21T20:00:10.528Z"
   },
   {
    "duration": 6,
    "start_time": "2022-04-21T20:00:13.759Z"
   },
   {
    "duration": 5,
    "start_time": "2022-04-21T20:00:16.880Z"
   },
   {
    "duration": 13,
    "start_time": "2022-04-21T20:00:42.689Z"
   },
   {
    "duration": 6,
    "start_time": "2022-04-21T20:00:50.001Z"
   },
   {
    "duration": 7,
    "start_time": "2022-04-21T20:00:57.216Z"
   },
   {
    "duration": 7,
    "start_time": "2022-04-21T20:02:04.833Z"
   },
   {
    "duration": 5,
    "start_time": "2022-04-21T20:02:09.145Z"
   },
   {
    "duration": 6,
    "start_time": "2022-04-21T20:02:15.281Z"
   },
   {
    "duration": 13,
    "start_time": "2022-04-21T20:02:47.826Z"
   },
   {
    "duration": 15,
    "start_time": "2022-04-21T20:03:16.578Z"
   },
   {
    "duration": 5,
    "start_time": "2022-04-21T20:03:20.026Z"
   },
   {
    "duration": 14,
    "start_time": "2022-04-21T20:03:25.777Z"
   },
   {
    "duration": 6,
    "start_time": "2022-04-21T20:03:34.889Z"
   },
   {
    "duration": 105,
    "start_time": "2022-04-21T20:03:57.723Z"
   },
   {
    "duration": 16,
    "start_time": "2022-04-21T20:04:37.867Z"
   },
   {
    "duration": 1803,
    "start_time": "2022-04-21T20:12:25.774Z"
   },
   {
    "duration": 10,
    "start_time": "2022-04-21T20:12:49.661Z"
   },
   {
    "duration": 9,
    "start_time": "2022-04-21T20:13:06.869Z"
   },
   {
    "duration": 8,
    "start_time": "2022-04-21T20:13:10.925Z"
   },
   {
    "duration": 16,
    "start_time": "2022-04-21T20:16:18.167Z"
   },
   {
    "duration": 6,
    "start_time": "2022-04-21T20:16:56.519Z"
   },
   {
    "duration": 5,
    "start_time": "2022-04-21T20:17:15.312Z"
   },
   {
    "duration": 14,
    "start_time": "2022-04-21T20:18:58.256Z"
   },
   {
    "duration": 1841,
    "start_time": "2022-04-21T20:19:32.184Z"
   },
   {
    "duration": 8,
    "start_time": "2022-04-21T20:19:45.772Z"
   },
   {
    "duration": 12,
    "start_time": "2022-04-21T20:23:43.939Z"
   },
   {
    "duration": 8,
    "start_time": "2022-04-21T20:24:03.962Z"
   },
   {
    "duration": 16,
    "start_time": "2022-04-21T20:24:11.164Z"
   },
   {
    "duration": 13,
    "start_time": "2022-04-21T20:24:49.219Z"
   },
   {
    "duration": 40,
    "start_time": "2022-04-21T20:25:14.139Z"
   },
   {
    "duration": 12,
    "start_time": "2022-04-21T20:25:26.875Z"
   },
   {
    "duration": 9,
    "start_time": "2022-04-21T20:25:30.226Z"
   },
   {
    "duration": 9,
    "start_time": "2022-04-21T20:25:42.860Z"
   },
   {
    "duration": 490,
    "start_time": "2022-04-21T20:26:01.471Z"
   },
   {
    "duration": 14,
    "start_time": "2022-04-21T20:26:01.963Z"
   },
   {
    "duration": 10,
    "start_time": "2022-04-21T20:26:01.978Z"
   },
   {
    "duration": 20,
    "start_time": "2022-04-21T20:26:01.990Z"
   },
   {
    "duration": 108,
    "start_time": "2022-04-21T20:26:02.013Z"
   },
   {
    "duration": 0,
    "start_time": "2022-04-21T20:26:02.123Z"
   },
   {
    "duration": 0,
    "start_time": "2022-04-21T20:26:02.125Z"
   },
   {
    "duration": 0,
    "start_time": "2022-04-21T20:26:02.126Z"
   },
   {
    "duration": 0,
    "start_time": "2022-04-21T20:26:02.127Z"
   },
   {
    "duration": 0,
    "start_time": "2022-04-21T20:26:02.128Z"
   },
   {
    "duration": 0,
    "start_time": "2022-04-21T20:26:02.129Z"
   },
   {
    "duration": 0,
    "start_time": "2022-04-21T20:26:02.130Z"
   },
   {
    "duration": 0,
    "start_time": "2022-04-21T20:26:02.131Z"
   },
   {
    "duration": 0,
    "start_time": "2022-04-21T20:26:02.132Z"
   },
   {
    "duration": 0,
    "start_time": "2022-04-21T20:26:02.133Z"
   },
   {
    "duration": 0,
    "start_time": "2022-04-21T20:26:02.134Z"
   },
   {
    "duration": 0,
    "start_time": "2022-04-21T20:26:02.135Z"
   },
   {
    "duration": 0,
    "start_time": "2022-04-21T20:26:02.135Z"
   },
   {
    "duration": 0,
    "start_time": "2022-04-21T20:26:02.136Z"
   },
   {
    "duration": 0,
    "start_time": "2022-04-21T20:26:02.137Z"
   },
   {
    "duration": 0,
    "start_time": "2022-04-21T20:26:02.138Z"
   },
   {
    "duration": 0,
    "start_time": "2022-04-21T20:26:02.139Z"
   },
   {
    "duration": 0,
    "start_time": "2022-04-21T20:26:02.140Z"
   },
   {
    "duration": 61,
    "start_time": "2022-04-21T20:26:12.375Z"
   },
   {
    "duration": 14,
    "start_time": "2022-04-21T20:26:12.437Z"
   },
   {
    "duration": 9,
    "start_time": "2022-04-21T20:26:12.452Z"
   },
   {
    "duration": 18,
    "start_time": "2022-04-21T20:26:12.463Z"
   },
   {
    "duration": 113,
    "start_time": "2022-04-21T20:26:12.483Z"
   },
   {
    "duration": 0,
    "start_time": "2022-04-21T20:26:12.598Z"
   },
   {
    "duration": 0,
    "start_time": "2022-04-21T20:26:12.600Z"
   },
   {
    "duration": 0,
    "start_time": "2022-04-21T20:26:12.601Z"
   },
   {
    "duration": 0,
    "start_time": "2022-04-21T20:26:12.602Z"
   },
   {
    "duration": 0,
    "start_time": "2022-04-21T20:26:12.603Z"
   },
   {
    "duration": 0,
    "start_time": "2022-04-21T20:26:12.604Z"
   },
   {
    "duration": 0,
    "start_time": "2022-04-21T20:26:12.605Z"
   },
   {
    "duration": 0,
    "start_time": "2022-04-21T20:26:12.606Z"
   },
   {
    "duration": 0,
    "start_time": "2022-04-21T20:26:12.606Z"
   },
   {
    "duration": 0,
    "start_time": "2022-04-21T20:26:12.607Z"
   },
   {
    "duration": 0,
    "start_time": "2022-04-21T20:26:12.608Z"
   },
   {
    "duration": 0,
    "start_time": "2022-04-21T20:26:12.609Z"
   },
   {
    "duration": 0,
    "start_time": "2022-04-21T20:26:12.610Z"
   },
   {
    "duration": 0,
    "start_time": "2022-04-21T20:26:12.611Z"
   },
   {
    "duration": 0,
    "start_time": "2022-04-21T20:26:12.612Z"
   },
   {
    "duration": 0,
    "start_time": "2022-04-21T20:26:12.612Z"
   },
   {
    "duration": 0,
    "start_time": "2022-04-21T20:26:12.613Z"
   },
   {
    "duration": 59,
    "start_time": "2022-04-21T20:26:27.656Z"
   },
   {
    "duration": 12,
    "start_time": "2022-04-21T20:26:27.717Z"
   },
   {
    "duration": 19,
    "start_time": "2022-04-21T20:26:27.731Z"
   },
   {
    "duration": 17,
    "start_time": "2022-04-21T20:26:27.752Z"
   },
   {
    "duration": 2,
    "start_time": "2022-04-21T20:26:27.771Z"
   },
   {
    "duration": 7,
    "start_time": "2022-04-21T20:26:27.774Z"
   },
   {
    "duration": 5,
    "start_time": "2022-04-21T20:26:27.783Z"
   },
   {
    "duration": 85,
    "start_time": "2022-04-21T20:26:27.790Z"
   },
   {
    "duration": 0,
    "start_time": "2022-04-21T20:26:27.876Z"
   },
   {
    "duration": 0,
    "start_time": "2022-04-21T20:26:27.878Z"
   },
   {
    "duration": 0,
    "start_time": "2022-04-21T20:26:27.879Z"
   },
   {
    "duration": 0,
    "start_time": "2022-04-21T20:26:27.880Z"
   },
   {
    "duration": 0,
    "start_time": "2022-04-21T20:26:27.881Z"
   },
   {
    "duration": 0,
    "start_time": "2022-04-21T20:26:27.882Z"
   },
   {
    "duration": 0,
    "start_time": "2022-04-21T20:26:27.883Z"
   },
   {
    "duration": 0,
    "start_time": "2022-04-21T20:26:27.884Z"
   },
   {
    "duration": 0,
    "start_time": "2022-04-21T20:26:27.885Z"
   },
   {
    "duration": 0,
    "start_time": "2022-04-21T20:26:27.886Z"
   },
   {
    "duration": 0,
    "start_time": "2022-04-21T20:26:27.886Z"
   },
   {
    "duration": 0,
    "start_time": "2022-04-21T20:26:27.887Z"
   },
   {
    "duration": 0,
    "start_time": "2022-04-21T20:26:27.888Z"
   },
   {
    "duration": 0,
    "start_time": "2022-04-21T20:26:27.889Z"
   },
   {
    "duration": 0,
    "start_time": "2022-04-21T20:26:27.890Z"
   },
   {
    "duration": 61,
    "start_time": "2022-04-21T20:26:39.497Z"
   },
   {
    "duration": 13,
    "start_time": "2022-04-21T20:26:39.559Z"
   },
   {
    "duration": 9,
    "start_time": "2022-04-21T20:26:39.573Z"
   },
   {
    "duration": 18,
    "start_time": "2022-04-21T20:26:39.584Z"
   },
   {
    "duration": 2,
    "start_time": "2022-04-21T20:26:39.604Z"
   },
   {
    "duration": 7,
    "start_time": "2022-04-21T20:26:39.608Z"
   },
   {
    "duration": 34,
    "start_time": "2022-04-21T20:26:39.617Z"
   },
   {
    "duration": 8,
    "start_time": "2022-04-21T20:26:39.653Z"
   },
   {
    "duration": 4,
    "start_time": "2022-04-21T20:26:39.663Z"
   },
   {
    "duration": 10,
    "start_time": "2022-04-21T20:26:39.668Z"
   },
   {
    "duration": 16,
    "start_time": "2022-04-21T20:26:39.679Z"
   },
   {
    "duration": 19,
    "start_time": "2022-04-21T20:26:39.697Z"
   },
   {
    "duration": 47,
    "start_time": "2022-04-21T20:26:39.717Z"
   },
   {
    "duration": 5,
    "start_time": "2022-04-21T20:26:39.767Z"
   },
   {
    "duration": 4,
    "start_time": "2022-04-21T20:26:39.774Z"
   },
   {
    "duration": 19,
    "start_time": "2022-04-21T20:26:39.779Z"
   },
   {
    "duration": 3,
    "start_time": "2022-04-21T20:26:39.800Z"
   },
   {
    "duration": 53,
    "start_time": "2022-04-21T20:26:39.804Z"
   },
   {
    "duration": 6,
    "start_time": "2022-04-21T20:26:39.858Z"
   },
   {
    "duration": 6,
    "start_time": "2022-04-21T20:26:39.865Z"
   },
   {
    "duration": 17,
    "start_time": "2022-04-21T20:26:39.872Z"
   },
   {
    "duration": 12,
    "start_time": "2022-04-21T20:26:39.890Z"
   },
   {
    "duration": 10,
    "start_time": "2022-04-21T20:26:46.348Z"
   },
   {
    "duration": 4,
    "start_time": "2022-04-21T20:26:58.597Z"
   },
   {
    "duration": 60,
    "start_time": "2022-04-21T20:27:06.551Z"
   },
   {
    "duration": 13,
    "start_time": "2022-04-21T20:27:06.613Z"
   },
   {
    "duration": 25,
    "start_time": "2022-04-21T20:27:06.627Z"
   },
   {
    "duration": 20,
    "start_time": "2022-04-21T20:27:06.654Z"
   },
   {
    "duration": 2,
    "start_time": "2022-04-21T20:27:06.675Z"
   },
   {
    "duration": 7,
    "start_time": "2022-04-21T20:27:06.678Z"
   },
   {
    "duration": 6,
    "start_time": "2022-04-21T20:27:06.686Z"
   },
   {
    "duration": 4,
    "start_time": "2022-04-21T20:27:06.693Z"
   },
   {
    "duration": 5,
    "start_time": "2022-04-21T20:27:06.698Z"
   },
   {
    "duration": 42,
    "start_time": "2022-04-21T20:27:06.706Z"
   },
   {
    "duration": 16,
    "start_time": "2022-04-21T20:27:06.750Z"
   },
   {
    "duration": 18,
    "start_time": "2022-04-21T20:27:06.767Z"
   },
   {
    "duration": 19,
    "start_time": "2022-04-21T20:27:06.786Z"
   },
   {
    "duration": 6,
    "start_time": "2022-04-21T20:27:06.806Z"
   },
   {
    "duration": 35,
    "start_time": "2022-04-21T20:27:06.813Z"
   },
   {
    "duration": 18,
    "start_time": "2022-04-21T20:27:06.850Z"
   },
   {
    "duration": 4,
    "start_time": "2022-04-21T20:27:06.870Z"
   },
   {
    "duration": 18,
    "start_time": "2022-04-21T20:27:06.875Z"
   },
   {
    "duration": 6,
    "start_time": "2022-04-21T20:27:06.895Z"
   },
   {
    "duration": 6,
    "start_time": "2022-04-21T20:27:06.902Z"
   },
   {
    "duration": 18,
    "start_time": "2022-04-21T20:27:10.108Z"
   },
   {
    "duration": 19,
    "start_time": "2022-04-21T20:27:26.268Z"
   },
   {
    "duration": 23,
    "start_time": "2022-04-21T20:27:28.933Z"
   },
   {
    "duration": 21,
    "start_time": "2022-04-21T20:28:20.365Z"
   },
   {
    "duration": 131,
    "start_time": "2022-04-21T20:28:57.302Z"
   },
   {
    "duration": 8,
    "start_time": "2022-04-21T20:29:02.486Z"
   },
   {
    "duration": 65,
    "start_time": "2022-04-21T20:29:32.296Z"
   },
   {
    "duration": 14,
    "start_time": "2022-04-21T20:29:32.362Z"
   },
   {
    "duration": 9,
    "start_time": "2022-04-21T20:29:32.378Z"
   },
   {
    "duration": 21,
    "start_time": "2022-04-21T20:29:32.388Z"
   },
   {
    "duration": 2,
    "start_time": "2022-04-21T20:29:32.411Z"
   },
   {
    "duration": 9,
    "start_time": "2022-04-21T20:29:32.414Z"
   },
   {
    "duration": 24,
    "start_time": "2022-04-21T20:29:32.424Z"
   },
   {
    "duration": 6,
    "start_time": "2022-04-21T20:29:32.450Z"
   },
   {
    "duration": 4,
    "start_time": "2022-04-21T20:29:32.458Z"
   },
   {
    "duration": 9,
    "start_time": "2022-04-21T20:29:32.465Z"
   },
   {
    "duration": 16,
    "start_time": "2022-04-21T20:29:32.476Z"
   },
   {
    "duration": 17,
    "start_time": "2022-04-21T20:29:32.493Z"
   },
   {
    "duration": 51,
    "start_time": "2022-04-21T20:29:32.512Z"
   },
   {
    "duration": 6,
    "start_time": "2022-04-21T20:29:32.565Z"
   },
   {
    "duration": 4,
    "start_time": "2022-04-21T20:29:32.572Z"
   },
   {
    "duration": 18,
    "start_time": "2022-04-21T20:29:32.578Z"
   },
   {
    "duration": 4,
    "start_time": "2022-04-21T20:29:32.597Z"
   },
   {
    "duration": 51,
    "start_time": "2022-04-21T20:29:32.603Z"
   },
   {
    "duration": 6,
    "start_time": "2022-04-21T20:29:32.655Z"
   },
   {
    "duration": 7,
    "start_time": "2022-04-21T20:29:32.663Z"
   },
   {
    "duration": 17,
    "start_time": "2022-04-21T20:29:32.671Z"
   },
   {
    "duration": 13,
    "start_time": "2022-04-21T20:29:32.689Z"
   },
   {
    "duration": 29,
    "start_time": "2022-04-21T20:29:38.893Z"
   },
   {
    "duration": 13,
    "start_time": "2022-04-21T20:30:12.566Z"
   },
   {
    "duration": 8,
    "start_time": "2022-04-21T20:30:14.686Z"
   },
   {
    "duration": 8,
    "start_time": "2022-04-21T20:30:29.882Z"
   },
   {
    "duration": 4,
    "start_time": "2022-04-21T20:30:43.118Z"
   },
   {
    "duration": 1818,
    "start_time": "2022-04-21T20:32:13.087Z"
   },
   {
    "duration": 421,
    "start_time": "2022-04-21T20:32:21.115Z"
   },
   {
    "duration": 20,
    "start_time": "2022-04-21T20:32:21.538Z"
   },
   {
    "duration": 12,
    "start_time": "2022-04-21T20:32:21.561Z"
   },
   {
    "duration": 18,
    "start_time": "2022-04-21T20:32:21.575Z"
   },
   {
    "duration": 2,
    "start_time": "2022-04-21T20:32:21.595Z"
   },
   {
    "duration": 6,
    "start_time": "2022-04-21T20:32:21.599Z"
   },
   {
    "duration": 8,
    "start_time": "2022-04-21T20:32:21.607Z"
   },
   {
    "duration": 36,
    "start_time": "2022-04-21T20:32:21.616Z"
   },
   {
    "duration": 6,
    "start_time": "2022-04-21T20:32:21.655Z"
   },
   {
    "duration": 12,
    "start_time": "2022-04-21T20:32:21.663Z"
   },
   {
    "duration": 17,
    "start_time": "2022-04-21T20:32:21.676Z"
   },
   {
    "duration": 18,
    "start_time": "2022-04-21T20:32:21.695Z"
   },
   {
    "duration": 52,
    "start_time": "2022-04-21T20:32:21.715Z"
   },
   {
    "duration": 6,
    "start_time": "2022-04-21T20:32:21.769Z"
   },
   {
    "duration": 4,
    "start_time": "2022-04-21T20:32:21.777Z"
   },
   {
    "duration": 19,
    "start_time": "2022-04-21T20:32:21.782Z"
   },
   {
    "duration": 3,
    "start_time": "2022-04-21T20:32:21.803Z"
   },
   {
    "duration": 56,
    "start_time": "2022-04-21T20:32:21.808Z"
   },
   {
    "duration": 6,
    "start_time": "2022-04-21T20:32:21.866Z"
   },
   {
    "duration": 10,
    "start_time": "2022-04-21T20:32:21.873Z"
   },
   {
    "duration": 31,
    "start_time": "2022-04-21T20:32:21.885Z"
   },
   {
    "duration": 40,
    "start_time": "2022-04-21T20:32:21.918Z"
   },
   {
    "duration": 19,
    "start_time": "2022-04-21T20:32:21.961Z"
   },
   {
    "duration": 19,
    "start_time": "2022-04-21T20:32:21.982Z"
   },
   {
    "duration": 9,
    "start_time": "2022-04-21T20:33:06.881Z"
   },
   {
    "duration": 7,
    "start_time": "2022-04-21T20:33:28.032Z"
   },
   {
    "duration": 66,
    "start_time": "2022-04-21T20:33:31.204Z"
   },
   {
    "duration": 19,
    "start_time": "2022-04-21T20:33:31.272Z"
   },
   {
    "duration": 11,
    "start_time": "2022-04-21T20:33:31.293Z"
   },
   {
    "duration": 49,
    "start_time": "2022-04-21T20:33:31.306Z"
   },
   {
    "duration": 3,
    "start_time": "2022-04-21T20:33:31.357Z"
   },
   {
    "duration": 10,
    "start_time": "2022-04-21T20:33:31.362Z"
   },
   {
    "duration": 11,
    "start_time": "2022-04-21T20:33:31.374Z"
   },
   {
    "duration": 5,
    "start_time": "2022-04-21T20:33:31.387Z"
   },
   {
    "duration": 15,
    "start_time": "2022-04-21T20:33:31.394Z"
   },
   {
    "duration": 16,
    "start_time": "2022-04-21T20:33:31.411Z"
   },
   {
    "duration": 30,
    "start_time": "2022-04-21T20:33:31.448Z"
   },
   {
    "duration": 28,
    "start_time": "2022-04-21T20:33:31.480Z"
   },
   {
    "duration": 51,
    "start_time": "2022-04-21T20:33:31.510Z"
   },
   {
    "duration": 8,
    "start_time": "2022-04-21T20:33:31.565Z"
   },
   {
    "duration": 18,
    "start_time": "2022-04-21T20:33:31.575Z"
   },
   {
    "duration": 22,
    "start_time": "2022-04-21T20:33:31.595Z"
   },
   {
    "duration": 3,
    "start_time": "2022-04-21T20:33:31.619Z"
   },
   {
    "duration": 46,
    "start_time": "2022-04-21T20:33:31.624Z"
   },
   {
    "duration": 5,
    "start_time": "2022-04-21T20:33:31.671Z"
   },
   {
    "duration": 8,
    "start_time": "2022-04-21T20:33:31.678Z"
   },
   {
    "duration": 28,
    "start_time": "2022-04-21T20:33:31.687Z"
   },
   {
    "duration": 42,
    "start_time": "2022-04-21T20:33:31.716Z"
   },
   {
    "duration": 25,
    "start_time": "2022-04-21T20:33:31.759Z"
   },
   {
    "duration": 11,
    "start_time": "2022-04-21T20:33:35.705Z"
   },
   {
    "duration": 434,
    "start_time": "2022-04-21T20:33:43.780Z"
   },
   {
    "duration": 23,
    "start_time": "2022-04-21T20:33:44.217Z"
   },
   {
    "duration": 18,
    "start_time": "2022-04-21T20:33:44.242Z"
   },
   {
    "duration": 33,
    "start_time": "2022-04-21T20:33:44.262Z"
   },
   {
    "duration": 3,
    "start_time": "2022-04-21T20:33:44.298Z"
   },
   {
    "duration": 7,
    "start_time": "2022-04-21T20:33:44.302Z"
   },
   {
    "duration": 6,
    "start_time": "2022-04-21T20:33:44.311Z"
   },
   {
    "duration": 6,
    "start_time": "2022-04-21T20:33:44.348Z"
   },
   {
    "duration": 4,
    "start_time": "2022-04-21T20:33:44.356Z"
   },
   {
    "duration": 10,
    "start_time": "2022-04-21T20:33:44.361Z"
   },
   {
    "duration": 18,
    "start_time": "2022-04-21T20:33:44.372Z"
   },
   {
    "duration": 17,
    "start_time": "2022-04-21T20:33:44.392Z"
   },
   {
    "duration": 53,
    "start_time": "2022-04-21T20:33:44.410Z"
   },
   {
    "duration": 6,
    "start_time": "2022-04-21T20:33:44.465Z"
   },
   {
    "duration": 4,
    "start_time": "2022-04-21T20:33:44.473Z"
   },
   {
    "duration": 19,
    "start_time": "2022-04-21T20:33:44.478Z"
   },
   {
    "duration": 4,
    "start_time": "2022-04-21T20:33:44.498Z"
   },
   {
    "duration": 19,
    "start_time": "2022-04-21T20:33:44.548Z"
   },
   {
    "duration": 6,
    "start_time": "2022-04-21T20:33:44.569Z"
   },
   {
    "duration": 7,
    "start_time": "2022-04-21T20:33:44.576Z"
   },
   {
    "duration": 63,
    "start_time": "2022-04-21T20:33:44.585Z"
   },
   {
    "duration": 13,
    "start_time": "2022-04-21T20:33:44.649Z"
   },
   {
    "duration": 19,
    "start_time": "2022-04-21T20:33:44.664Z"
   },
   {
    "duration": 62,
    "start_time": "2022-04-21T20:33:59.936Z"
   },
   {
    "duration": 13,
    "start_time": "2022-04-21T20:34:04.201Z"
   },
   {
    "duration": 11,
    "start_time": "2022-04-21T20:34:16.065Z"
   },
   {
    "duration": 18,
    "start_time": "2022-04-21T20:34:19.364Z"
   },
   {
    "duration": 38,
    "start_time": "2022-04-21T20:35:00.578Z"
   },
   {
    "duration": 1701,
    "start_time": "2022-04-21T20:36:47.282Z"
   },
   {
    "duration": 8,
    "start_time": "2022-04-21T20:37:18.019Z"
   },
   {
    "duration": 7,
    "start_time": "2022-04-21T20:37:25.763Z"
   },
   {
    "duration": 8,
    "start_time": "2022-04-21T20:37:49.916Z"
   },
   {
    "duration": 50,
    "start_time": "2022-04-21T20:39:03.661Z"
   },
   {
    "duration": 24,
    "start_time": "2022-04-21T20:39:53.981Z"
   },
   {
    "duration": 18,
    "start_time": "2022-04-21T20:40:00.781Z"
   },
   {
    "duration": 3,
    "start_time": "2022-04-21T20:40:15.109Z"
   },
   {
    "duration": 12,
    "start_time": "2022-04-21T20:40:18.284Z"
   },
   {
    "duration": 121,
    "start_time": "2022-04-21T22:09:45.798Z"
   },
   {
    "duration": 110,
    "start_time": "2022-04-21T22:11:03.630Z"
   },
   {
    "duration": 143,
    "start_time": "2022-04-21T22:11:32.507Z"
   },
   {
    "duration": 99,
    "start_time": "2022-04-21T22:11:49.891Z"
   },
   {
    "duration": 101,
    "start_time": "2022-04-21T22:12:31.404Z"
   },
   {
    "duration": 64,
    "start_time": "2022-04-21T22:12:46.683Z"
   },
   {
    "duration": 618,
    "start_time": "2022-04-21T22:12:59.316Z"
   },
   {
    "duration": 98,
    "start_time": "2022-04-21T22:13:17.635Z"
   },
   {
    "duration": 17,
    "start_time": "2022-04-21T22:13:27.253Z"
   },
   {
    "duration": 56,
    "start_time": "2022-04-21T22:13:33.796Z"
   },
   {
    "duration": 13,
    "start_time": "2022-04-21T22:13:50.061Z"
   },
   {
    "duration": 10,
    "start_time": "2022-04-21T22:14:33.109Z"
   },
   {
    "duration": 10,
    "start_time": "2022-04-21T22:15:17.708Z"
   },
   {
    "duration": 9,
    "start_time": "2022-04-21T22:15:29.653Z"
   },
   {
    "duration": 9,
    "start_time": "2022-04-21T22:15:34.182Z"
   },
   {
    "duration": 11,
    "start_time": "2022-04-21T22:15:47.901Z"
   },
   {
    "duration": 101,
    "start_time": "2022-04-21T22:19:23.438Z"
   },
   {
    "duration": 103,
    "start_time": "2022-04-21T22:19:30.574Z"
   },
   {
    "duration": 109,
    "start_time": "2022-04-21T22:21:35.607Z"
   },
   {
    "duration": 111,
    "start_time": "2022-04-21T22:21:41.607Z"
   },
   {
    "duration": 101,
    "start_time": "2022-04-21T22:21:51.367Z"
   },
   {
    "duration": 10,
    "start_time": "2022-04-21T22:22:17.671Z"
   },
   {
    "duration": 6,
    "start_time": "2022-04-21T22:22:23.352Z"
   },
   {
    "duration": 37,
    "start_time": "2022-04-21T22:22:27.223Z"
   },
   {
    "duration": 13,
    "start_time": "2022-04-21T22:22:56.872Z"
   },
   {
    "duration": 35,
    "start_time": "2022-04-21T22:23:26.400Z"
   },
   {
    "duration": 13,
    "start_time": "2022-04-21T22:23:30.528Z"
   },
   {
    "duration": 9,
    "start_time": "2022-04-21T22:24:20.103Z"
   },
   {
    "duration": 8,
    "start_time": "2022-04-21T22:25:00.978Z"
   },
   {
    "duration": 9,
    "start_time": "2022-04-21T22:25:08.793Z"
   },
   {
    "duration": 13,
    "start_time": "2022-04-21T22:25:39.305Z"
   },
   {
    "duration": 9,
    "start_time": "2022-04-21T22:26:08.745Z"
   },
   {
    "duration": 9,
    "start_time": "2022-04-21T22:26:22.861Z"
   },
   {
    "duration": 4,
    "start_time": "2022-04-21T22:26:40.385Z"
   },
   {
    "duration": 5,
    "start_time": "2022-04-21T22:26:48.738Z"
   },
   {
    "duration": 8,
    "start_time": "2022-04-21T22:26:55.977Z"
   },
   {
    "duration": 11,
    "start_time": "2022-04-21T22:27:03.546Z"
   },
   {
    "duration": 9,
    "start_time": "2022-04-21T22:27:31.825Z"
   },
   {
    "duration": 11,
    "start_time": "2022-04-21T22:27:55.465Z"
   },
   {
    "duration": 8,
    "start_time": "2022-04-21T22:28:02.714Z"
   },
   {
    "duration": 10,
    "start_time": "2022-04-21T22:28:08.939Z"
   },
   {
    "duration": 9,
    "start_time": "2022-04-21T22:28:59.506Z"
   },
   {
    "duration": 9,
    "start_time": "2022-04-21T22:29:02.011Z"
   },
   {
    "duration": 43,
    "start_time": "2022-04-21T22:29:07.450Z"
   },
   {
    "duration": 42,
    "start_time": "2022-04-21T22:30:14.140Z"
   },
   {
    "duration": 50,
    "start_time": "2022-04-21T22:35:31.197Z"
   },
   {
    "duration": 16,
    "start_time": "2022-04-21T22:36:01.150Z"
   },
   {
    "duration": 9,
    "start_time": "2022-04-21T22:36:29.374Z"
   },
   {
    "duration": 11,
    "start_time": "2022-04-21T22:36:34.542Z"
   },
   {
    "duration": 100,
    "start_time": "2022-04-21T22:36:58.309Z"
   },
   {
    "duration": 10,
    "start_time": "2022-04-21T22:37:09.934Z"
   },
   {
    "duration": 17,
    "start_time": "2022-04-21T22:37:54.045Z"
   },
   {
    "duration": 18,
    "start_time": "2022-04-21T22:38:04.470Z"
   },
   {
    "duration": 16,
    "start_time": "2022-04-21T22:38:21.485Z"
   },
   {
    "duration": 110,
    "start_time": "2022-04-21T22:38:35.069Z"
   },
   {
    "duration": 107,
    "start_time": "2022-04-21T22:38:43.735Z"
   },
   {
    "duration": 16,
    "start_time": "2022-04-21T22:39:07.078Z"
   },
   {
    "duration": 24,
    "start_time": "2022-04-21T22:42:15.365Z"
   },
   {
    "duration": 22,
    "start_time": "2022-04-21T22:42:40.408Z"
   },
   {
    "duration": 16,
    "start_time": "2022-04-21T22:42:46.992Z"
   },
   {
    "duration": 18,
    "start_time": "2022-04-21T22:42:53.487Z"
   },
   {
    "duration": 9,
    "start_time": "2022-04-21T22:42:58.624Z"
   },
   {
    "duration": 17,
    "start_time": "2022-04-21T22:43:01.920Z"
   },
   {
    "duration": 16,
    "start_time": "2022-04-21T22:43:38.176Z"
   },
   {
    "duration": 15,
    "start_time": "2022-04-21T22:43:47.169Z"
   },
   {
    "duration": 16,
    "start_time": "2022-04-21T22:44:00.440Z"
   },
   {
    "duration": 137,
    "start_time": "2022-04-21T22:44:15.200Z"
   },
   {
    "duration": 9,
    "start_time": "2022-04-21T22:44:25.857Z"
   },
   {
    "duration": 12,
    "start_time": "2022-04-21T22:45:09.241Z"
   },
   {
    "duration": 12,
    "start_time": "2022-04-21T22:45:21.241Z"
   },
   {
    "duration": 13,
    "start_time": "2022-04-21T22:45:44.049Z"
   },
   {
    "duration": 97,
    "start_time": "2022-04-21T22:46:15.682Z"
   },
   {
    "duration": 15,
    "start_time": "2022-04-21T22:47:08.283Z"
   },
   {
    "duration": 17,
    "start_time": "2022-04-21T22:47:46.938Z"
   },
   {
    "duration": 39,
    "start_time": "2022-04-21T22:48:12.234Z"
   },
   {
    "duration": 14,
    "start_time": "2022-04-21T22:48:32.106Z"
   },
   {
    "duration": 51,
    "start_time": "2022-04-21T22:49:05.979Z"
   },
   {
    "duration": 42,
    "start_time": "2022-04-21T22:49:16.994Z"
   },
   {
    "duration": 12,
    "start_time": "2022-04-21T22:49:18.155Z"
   },
   {
    "duration": 87,
    "start_time": "2022-04-21T22:49:31.299Z"
   },
   {
    "duration": 40,
    "start_time": "2022-04-21T22:49:34.883Z"
   },
   {
    "duration": 13,
    "start_time": "2022-04-21T22:49:37.010Z"
   },
   {
    "duration": 19,
    "start_time": "2022-04-21T22:49:56.395Z"
   },
   {
    "duration": 45,
    "start_time": "2022-04-21T22:50:01.596Z"
   },
   {
    "duration": 38,
    "start_time": "2022-04-21T22:50:16.051Z"
   },
   {
    "duration": 13,
    "start_time": "2022-04-21T22:50:17.411Z"
   },
   {
    "duration": 13,
    "start_time": "2022-04-21T22:50:18.179Z"
   },
   {
    "duration": 13,
    "start_time": "2022-04-21T22:50:20.498Z"
   },
   {
    "duration": 49,
    "start_time": "2022-04-21T22:50:42.659Z"
   },
   {
    "duration": 163,
    "start_time": "2022-04-21T22:51:42.636Z"
   },
   {
    "duration": 6,
    "start_time": "2022-04-21T22:51:54.636Z"
   },
   {
    "duration": 14,
    "start_time": "2022-04-21T22:52:13.341Z"
   },
   {
    "duration": 24,
    "start_time": "2022-04-21T22:52:45.620Z"
   },
   {
    "duration": 94,
    "start_time": "2022-04-21T22:53:03.444Z"
   },
   {
    "duration": 13,
    "start_time": "2022-04-21T22:53:13.837Z"
   },
   {
    "duration": 25,
    "start_time": "2022-04-21T22:53:23.373Z"
   },
   {
    "duration": 24,
    "start_time": "2022-04-21T22:53:26.836Z"
   },
   {
    "duration": 21,
    "start_time": "2022-04-21T22:53:38.660Z"
   },
   {
    "duration": 25,
    "start_time": "2022-04-21T22:53:51.485Z"
   },
   {
    "duration": 22,
    "start_time": "2022-04-21T22:54:10.279Z"
   },
   {
    "duration": 25,
    "start_time": "2022-04-21T22:55:18.181Z"
   },
   {
    "duration": 24,
    "start_time": "2022-04-21T22:55:37.774Z"
   },
   {
    "duration": 25,
    "start_time": "2022-04-21T22:55:45.701Z"
   },
   {
    "duration": 24,
    "start_time": "2022-04-21T22:55:57.773Z"
   },
   {
    "duration": 1655,
    "start_time": "2022-04-21T23:00:18.791Z"
   },
   {
    "duration": 94,
    "start_time": "2022-04-21T23:00:53.697Z"
   },
   {
    "duration": 789,
    "start_time": "2022-04-21T23:01:04.052Z"
   },
   {
    "duration": 97,
    "start_time": "2022-04-21T23:01:14.580Z"
   },
   {
    "duration": 13,
    "start_time": "2022-04-21T23:01:20.133Z"
   },
   {
    "duration": 1569,
    "start_time": "2022-04-21T23:01:22.772Z"
   },
   {
    "duration": 23,
    "start_time": "2022-04-21T23:01:41.948Z"
   },
   {
    "duration": 1586,
    "start_time": "2022-04-21T23:01:58.877Z"
   },
   {
    "duration": 18,
    "start_time": "2022-04-21T23:02:17.629Z"
   },
   {
    "duration": 102,
    "start_time": "2022-04-21T23:02:38.637Z"
   },
   {
    "duration": 6,
    "start_time": "2022-04-21T23:02:48.636Z"
   },
   {
    "duration": 131,
    "start_time": "2022-04-21T23:04:33.934Z"
   },
   {
    "duration": 15,
    "start_time": "2022-04-21T23:04:40.766Z"
   },
   {
    "duration": 16,
    "start_time": "2022-04-21T23:05:10.838Z"
   },
   {
    "duration": 9,
    "start_time": "2022-04-21T23:05:37.296Z"
   },
   {
    "duration": 7,
    "start_time": "2022-04-21T23:05:44.526Z"
   },
   {
    "duration": 6,
    "start_time": "2022-04-21T23:05:49.398Z"
   },
   {
    "duration": 6,
    "start_time": "2022-04-21T23:05:52.510Z"
   },
   {
    "duration": 17,
    "start_time": "2022-04-21T23:06:46.894Z"
   },
   {
    "duration": 26,
    "start_time": "2022-04-21T23:07:44.856Z"
   },
   {
    "duration": 23,
    "start_time": "2022-04-21T23:08:10.024Z"
   },
   {
    "duration": 10,
    "start_time": "2022-04-21T23:08:15.222Z"
   },
   {
    "duration": 11,
    "start_time": "2022-04-21T23:08:25.351Z"
   },
   {
    "duration": 11,
    "start_time": "2022-04-21T23:08:44.872Z"
   },
   {
    "duration": 25,
    "start_time": "2022-04-21T23:09:07.440Z"
   },
   {
    "duration": 16,
    "start_time": "2022-04-21T23:10:23.136Z"
   },
   {
    "duration": 16,
    "start_time": "2022-04-21T23:10:28.816Z"
   },
   {
    "duration": 45,
    "start_time": "2022-04-21T23:10:40.529Z"
   },
   {
    "duration": 99,
    "start_time": "2022-04-21T23:10:59.922Z"
   },
   {
    "duration": 25,
    "start_time": "2022-04-21T23:11:07.800Z"
   },
   {
    "duration": 14,
    "start_time": "2022-04-21T23:11:12.521Z"
   },
   {
    "duration": 12,
    "start_time": "2022-04-21T23:11:29.640Z"
   },
   {
    "duration": 11,
    "start_time": "2022-04-21T23:11:41.753Z"
   },
   {
    "duration": 1702,
    "start_time": "2022-04-21T23:12:11.618Z"
   },
   {
    "duration": 17,
    "start_time": "2022-04-21T23:12:27.066Z"
   },
   {
    "duration": 16,
    "start_time": "2022-04-21T23:12:58.404Z"
   },
   {
    "duration": 15,
    "start_time": "2022-04-21T23:13:11.713Z"
   },
   {
    "duration": 17,
    "start_time": "2022-04-21T23:13:26.450Z"
   },
   {
    "duration": 16,
    "start_time": "2022-04-21T23:13:47.041Z"
   },
   {
    "duration": 10,
    "start_time": "2022-04-21T23:14:08.193Z"
   },
   {
    "duration": 14,
    "start_time": "2022-04-21T23:14:09.586Z"
   },
   {
    "duration": 12,
    "start_time": "2022-04-21T23:14:10.618Z"
   },
   {
    "duration": 47,
    "start_time": "2022-04-22T06:32:17.299Z"
   },
   {
    "duration": 6,
    "start_time": "2022-04-22T06:33:03.538Z"
   },
   {
    "duration": 452,
    "start_time": "2022-04-22T06:33:14.517Z"
   },
   {
    "duration": 14,
    "start_time": "2022-04-22T06:33:14.970Z"
   },
   {
    "duration": 8,
    "start_time": "2022-04-22T06:33:14.985Z"
   },
   {
    "duration": 20,
    "start_time": "2022-04-22T06:33:14.995Z"
   },
   {
    "duration": 9,
    "start_time": "2022-04-22T06:33:15.018Z"
   },
   {
    "duration": 6,
    "start_time": "2022-04-22T06:33:15.048Z"
   },
   {
    "duration": 11,
    "start_time": "2022-04-22T06:33:15.055Z"
   },
   {
    "duration": 28,
    "start_time": "2022-04-22T06:33:15.068Z"
   },
   {
    "duration": 0,
    "start_time": "2022-04-22T06:33:15.098Z"
   },
   {
    "duration": 0,
    "start_time": "2022-04-22T06:33:15.099Z"
   },
   {
    "duration": 0,
    "start_time": "2022-04-22T06:33:15.100Z"
   },
   {
    "duration": 0,
    "start_time": "2022-04-22T06:33:15.101Z"
   },
   {
    "duration": 0,
    "start_time": "2022-04-22T06:33:15.102Z"
   },
   {
    "duration": 0,
    "start_time": "2022-04-22T06:33:15.103Z"
   },
   {
    "duration": 0,
    "start_time": "2022-04-22T06:33:15.104Z"
   },
   {
    "duration": 0,
    "start_time": "2022-04-22T06:33:15.105Z"
   },
   {
    "duration": 0,
    "start_time": "2022-04-22T06:33:15.106Z"
   },
   {
    "duration": 0,
    "start_time": "2022-04-22T06:33:15.107Z"
   },
   {
    "duration": 0,
    "start_time": "2022-04-22T06:33:15.108Z"
   },
   {
    "duration": 0,
    "start_time": "2022-04-22T06:33:15.109Z"
   },
   {
    "duration": 0,
    "start_time": "2022-04-22T06:33:15.110Z"
   },
   {
    "duration": 0,
    "start_time": "2022-04-22T06:33:15.111Z"
   },
   {
    "duration": 0,
    "start_time": "2022-04-22T06:33:15.112Z"
   },
   {
    "duration": 0,
    "start_time": "2022-04-22T06:33:15.148Z"
   },
   {
    "duration": 0,
    "start_time": "2022-04-22T06:33:15.149Z"
   },
   {
    "duration": 0,
    "start_time": "2022-04-22T06:33:15.150Z"
   },
   {
    "duration": 0,
    "start_time": "2022-04-22T06:33:15.151Z"
   },
   {
    "duration": 0,
    "start_time": "2022-04-22T06:33:15.152Z"
   },
   {
    "duration": 0,
    "start_time": "2022-04-22T06:33:15.152Z"
   },
   {
    "duration": 0,
    "start_time": "2022-04-22T06:33:15.153Z"
   },
   {
    "duration": 2596,
    "start_time": "2022-04-22T06:33:41.203Z"
   },
   {
    "duration": 468,
    "start_time": "2022-04-23T06:26:40.859Z"
   },
   {
    "duration": 61,
    "start_time": "2022-04-23T06:29:28.300Z"
   },
   {
    "duration": 73,
    "start_time": "2022-04-23T06:29:49.083Z"
   },
   {
    "duration": 17,
    "start_time": "2022-04-23T06:45:08.437Z"
   },
   {
    "duration": 20,
    "start_time": "2022-04-23T06:48:03.034Z"
   },
   {
    "duration": 9,
    "start_time": "2022-04-23T06:48:10.882Z"
   },
   {
    "duration": 103,
    "start_time": "2022-04-23T06:49:54.852Z"
   },
   {
    "duration": 112,
    "start_time": "2022-04-23T06:50:10.131Z"
   },
   {
    "duration": 126,
    "start_time": "2022-04-23T06:50:30.779Z"
   },
   {
    "duration": 107,
    "start_time": "2022-04-23T06:53:16.732Z"
   },
   {
    "duration": 6,
    "start_time": "2022-04-23T06:53:27.548Z"
   },
   {
    "duration": 8,
    "start_time": "2022-04-23T06:54:52.588Z"
   },
   {
    "duration": 109,
    "start_time": "2022-04-23T06:54:57.620Z"
   },
   {
    "duration": 7,
    "start_time": "2022-04-23T06:55:03.382Z"
   },
   {
    "duration": 6,
    "start_time": "2022-04-23T06:55:13.893Z"
   },
   {
    "duration": 6,
    "start_time": "2022-04-23T06:55:22.797Z"
   },
   {
    "duration": 6,
    "start_time": "2022-04-23T06:55:25.748Z"
   },
   {
    "duration": 6,
    "start_time": "2022-04-23T06:55:29.876Z"
   },
   {
    "duration": 6,
    "start_time": "2022-04-23T06:55:33.531Z"
   },
   {
    "duration": 5,
    "start_time": "2022-04-23T06:55:37.501Z"
   },
   {
    "duration": 6,
    "start_time": "2022-04-23T06:55:40.108Z"
   },
   {
    "duration": 7,
    "start_time": "2022-04-23T06:55:46.719Z"
   },
   {
    "duration": 126,
    "start_time": "2022-04-23T07:01:53.471Z"
   },
   {
    "duration": 5,
    "start_time": "2022-04-23T07:02:34.520Z"
   },
   {
    "duration": 93,
    "start_time": "2022-04-23T07:04:57.489Z"
   },
   {
    "duration": 11,
    "start_time": "2022-04-23T07:05:35.321Z"
   },
   {
    "duration": 9,
    "start_time": "2022-04-23T07:05:49.809Z"
   },
   {
    "duration": 5,
    "start_time": "2022-04-23T07:10:21.035Z"
   },
   {
    "duration": 8,
    "start_time": "2022-04-23T07:10:54.323Z"
   },
   {
    "duration": 73,
    "start_time": "2022-04-23T07:10:59.393Z"
   },
   {
    "duration": 8,
    "start_time": "2022-04-23T07:11:07.475Z"
   },
   {
    "duration": 19,
    "start_time": "2022-04-23T07:11:12.915Z"
   },
   {
    "duration": 6,
    "start_time": "2022-04-23T07:11:47.019Z"
   },
   {
    "duration": 7,
    "start_time": "2022-04-23T07:11:59.980Z"
   },
   {
    "duration": 15,
    "start_time": "2022-04-23T07:12:49.379Z"
   },
   {
    "duration": 5,
    "start_time": "2022-04-23T07:13:34.648Z"
   },
   {
    "duration": 11,
    "start_time": "2022-04-23T07:13:48.932Z"
   },
   {
    "duration": 5,
    "start_time": "2022-04-23T07:14:18.916Z"
   },
   {
    "duration": 7,
    "start_time": "2022-04-23T07:24:09.585Z"
   },
   {
    "duration": 10,
    "start_time": "2022-04-23T07:24:21.016Z"
   },
   {
    "duration": 10,
    "start_time": "2022-04-23T07:25:35.737Z"
   },
   {
    "duration": 4,
    "start_time": "2022-04-23T07:25:39.313Z"
   },
   {
    "duration": 4,
    "start_time": "2022-04-23T07:25:41.145Z"
   },
   {
    "duration": 11,
    "start_time": "2022-04-23T07:25:43.161Z"
   },
   {
    "duration": 25,
    "start_time": "2022-04-23T07:31:19.868Z"
   },
   {
    "duration": 18,
    "start_time": "2022-04-23T07:31:33.443Z"
   },
   {
    "duration": 48,
    "start_time": "2022-04-23T07:31:40.412Z"
   },
   {
    "duration": 18,
    "start_time": "2022-04-23T07:39:08.367Z"
   },
   {
    "duration": 460,
    "start_time": "2022-04-23T07:41:01.597Z"
   },
   {
    "duration": 10,
    "start_time": "2022-04-23T07:41:02.059Z"
   },
   {
    "duration": 17,
    "start_time": "2022-04-23T07:41:02.070Z"
   },
   {
    "duration": 8,
    "start_time": "2022-04-23T07:41:02.089Z"
   },
   {
    "duration": 9,
    "start_time": "2022-04-23T07:41:02.100Z"
   },
   {
    "duration": 42,
    "start_time": "2022-04-23T07:41:02.111Z"
   },
   {
    "duration": 22,
    "start_time": "2022-04-23T07:41:02.155Z"
   },
   {
    "duration": 6,
    "start_time": "2022-04-23T07:41:02.178Z"
   },
   {
    "duration": 7,
    "start_time": "2022-04-23T07:41:10.592Z"
   },
   {
    "duration": 10,
    "start_time": "2022-04-23T07:41:13.048Z"
   },
   {
    "duration": 4,
    "start_time": "2022-04-23T07:41:23.057Z"
   },
   {
    "duration": 5,
    "start_time": "2022-04-23T07:41:24.776Z"
   },
   {
    "duration": 10,
    "start_time": "2022-04-23T07:41:25.536Z"
   },
   {
    "duration": 18,
    "start_time": "2022-04-23T07:41:31.833Z"
   },
   {
    "duration": 31,
    "start_time": "2022-04-23T07:41:34.120Z"
   },
   {
    "duration": 20,
    "start_time": "2022-04-23T07:41:36.025Z"
   },
   {
    "duration": 24,
    "start_time": "2022-04-23T07:42:06.385Z"
   },
   {
    "duration": 79,
    "start_time": "2022-04-23T07:42:24.532Z"
   },
   {
    "duration": 10,
    "start_time": "2022-04-23T07:42:24.612Z"
   },
   {
    "duration": 38,
    "start_time": "2022-04-23T07:42:24.623Z"
   },
   {
    "duration": 8,
    "start_time": "2022-04-23T07:42:24.663Z"
   },
   {
    "duration": 6,
    "start_time": "2022-04-23T07:42:24.674Z"
   },
   {
    "duration": 10,
    "start_time": "2022-04-23T07:42:24.681Z"
   },
   {
    "duration": 56,
    "start_time": "2022-04-23T07:42:24.692Z"
   },
   {
    "duration": 6,
    "start_time": "2022-04-23T07:42:24.750Z"
   },
   {
    "duration": 8,
    "start_time": "2022-04-23T07:42:24.758Z"
   },
   {
    "duration": 12,
    "start_time": "2022-04-23T07:42:24.768Z"
   },
   {
    "duration": 18,
    "start_time": "2022-04-23T07:42:24.781Z"
   },
   {
    "duration": 5,
    "start_time": "2022-04-23T07:42:24.801Z"
   },
   {
    "duration": 5,
    "start_time": "2022-04-23T07:42:24.808Z"
   },
   {
    "duration": 14,
    "start_time": "2022-04-23T07:42:24.849Z"
   },
   {
    "duration": 25,
    "start_time": "2022-04-23T07:42:24.865Z"
   },
   {
    "duration": 68,
    "start_time": "2022-04-23T07:42:24.892Z"
   },
   {
    "duration": 26,
    "start_time": "2022-04-23T07:42:24.962Z"
   },
   {
    "duration": 7,
    "start_time": "2022-04-23T07:42:24.990Z"
   },
   {
    "duration": 13,
    "start_time": "2022-04-23T07:42:24.999Z"
   },
   {
    "duration": 68,
    "start_time": "2022-04-23T07:42:25.014Z"
   },
   {
    "duration": 18,
    "start_time": "2022-04-23T07:42:25.084Z"
   },
   {
    "duration": 60,
    "start_time": "2022-04-23T07:42:25.104Z"
   },
   {
    "duration": 16,
    "start_time": "2022-04-23T07:42:25.166Z"
   },
   {
    "duration": 8,
    "start_time": "2022-04-23T07:42:25.184Z"
   },
   {
    "duration": 23,
    "start_time": "2022-04-23T07:42:38.810Z"
   },
   {
    "duration": 6,
    "start_time": "2022-04-23T07:50:01.086Z"
   },
   {
    "duration": 23,
    "start_time": "2022-04-23T07:50:55.021Z"
   },
   {
    "duration": 14,
    "start_time": "2022-04-23T07:51:25.684Z"
   },
   {
    "duration": 1909,
    "start_time": "2022-04-23T07:51:29.852Z"
   },
   {
    "duration": 2116,
    "start_time": "2022-04-23T07:51:43.629Z"
   },
   {
    "duration": 1905,
    "start_time": "2022-04-23T07:51:58.773Z"
   },
   {
    "duration": 74,
    "start_time": "2022-04-23T07:52:05.024Z"
   },
   {
    "duration": 11,
    "start_time": "2022-04-23T07:52:05.100Z"
   },
   {
    "duration": 35,
    "start_time": "2022-04-23T07:52:05.112Z"
   },
   {
    "duration": 10,
    "start_time": "2022-04-23T07:52:05.150Z"
   },
   {
    "duration": 9,
    "start_time": "2022-04-23T07:52:05.162Z"
   },
   {
    "duration": 9,
    "start_time": "2022-04-23T07:52:05.172Z"
   },
   {
    "duration": 20,
    "start_time": "2022-04-23T07:52:05.183Z"
   },
   {
    "duration": 6,
    "start_time": "2022-04-23T07:52:05.205Z"
   },
   {
    "duration": 8,
    "start_time": "2022-04-23T07:52:05.248Z"
   },
   {
    "duration": 7,
    "start_time": "2022-04-23T07:52:05.259Z"
   },
   {
    "duration": 12,
    "start_time": "2022-04-23T07:52:05.267Z"
   },
   {
    "duration": 4,
    "start_time": "2022-04-23T07:52:05.281Z"
   },
   {
    "duration": 8,
    "start_time": "2022-04-23T07:52:05.286Z"
   },
   {
    "duration": 13,
    "start_time": "2022-04-23T07:52:05.296Z"
   },
   {
    "duration": 47,
    "start_time": "2022-04-23T07:52:05.311Z"
   },
   {
    "duration": 32,
    "start_time": "2022-04-23T07:52:05.360Z"
   },
   {
    "duration": 17,
    "start_time": "2022-04-23T07:52:05.393Z"
   },
   {
    "duration": 123,
    "start_time": "2022-04-23T07:52:05.412Z"
   },
   {
    "duration": 0,
    "start_time": "2022-04-23T07:52:05.537Z"
   },
   {
    "duration": 0,
    "start_time": "2022-04-23T07:52:05.539Z"
   },
   {
    "duration": 0,
    "start_time": "2022-04-23T07:52:05.540Z"
   },
   {
    "duration": 16,
    "start_time": "2022-04-23T07:52:16.340Z"
   },
   {
    "duration": 27,
    "start_time": "2022-04-23T07:52:24.740Z"
   },
   {
    "duration": 22,
    "start_time": "2022-04-23T07:52:45.533Z"
   },
   {
    "duration": 8,
    "start_time": "2022-04-23T07:54:12.781Z"
   },
   {
    "duration": 79,
    "start_time": "2022-04-23T07:54:55.202Z"
   },
   {
    "duration": 9,
    "start_time": "2022-04-23T07:54:55.283Z"
   },
   {
    "duration": 15,
    "start_time": "2022-04-23T07:54:55.294Z"
   },
   {
    "duration": 8,
    "start_time": "2022-04-23T07:54:55.311Z"
   },
   {
    "duration": 28,
    "start_time": "2022-04-23T07:54:55.321Z"
   },
   {
    "duration": 11,
    "start_time": "2022-04-23T07:54:55.350Z"
   },
   {
    "duration": 25,
    "start_time": "2022-04-23T07:54:55.363Z"
   },
   {
    "duration": 6,
    "start_time": "2022-04-23T07:54:55.390Z"
   },
   {
    "duration": 8,
    "start_time": "2022-04-23T07:54:55.398Z"
   },
   {
    "duration": 44,
    "start_time": "2022-04-23T07:54:55.408Z"
   },
   {
    "duration": 11,
    "start_time": "2022-04-23T07:54:55.453Z"
   },
   {
    "duration": 4,
    "start_time": "2022-04-23T07:54:55.466Z"
   },
   {
    "duration": 4,
    "start_time": "2022-04-23T07:54:55.472Z"
   },
   {
    "duration": 10,
    "start_time": "2022-04-23T07:54:55.479Z"
   },
   {
    "duration": 57,
    "start_time": "2022-04-23T07:54:55.491Z"
   },
   {
    "duration": 33,
    "start_time": "2022-04-23T07:54:55.550Z"
   },
   {
    "duration": 18,
    "start_time": "2022-04-23T07:54:55.585Z"
   },
   {
    "duration": 7,
    "start_time": "2022-04-23T07:54:55.605Z"
   },
   {
    "duration": 22,
    "start_time": "2022-04-23T07:55:02.191Z"
   },
   {
    "duration": 19,
    "start_time": "2022-04-23T07:55:17.670Z"
   },
   {
    "duration": 26,
    "start_time": "2022-04-23T07:55:20.246Z"
   },
   {
    "duration": 20,
    "start_time": "2022-04-23T07:55:31.207Z"
   },
   {
    "duration": 18,
    "start_time": "2022-04-23T07:55:49.471Z"
   },
   {
    "duration": 9,
    "start_time": "2022-04-23T07:59:23.195Z"
   },
   {
    "duration": 6,
    "start_time": "2022-04-23T07:59:32.856Z"
   },
   {
    "duration": 7,
    "start_time": "2022-04-23T07:59:47.784Z"
   },
   {
    "duration": 19,
    "start_time": "2022-04-23T08:01:17.658Z"
   },
   {
    "duration": 139,
    "start_time": "2022-04-23T08:01:38.253Z"
   },
   {
    "duration": 17,
    "start_time": "2022-04-23T08:01:45.184Z"
   },
   {
    "duration": 16,
    "start_time": "2022-04-23T08:02:19.082Z"
   },
   {
    "duration": 6,
    "start_time": "2022-04-23T08:03:56.393Z"
   },
   {
    "duration": 5,
    "start_time": "2022-04-23T08:04:00.730Z"
   },
   {
    "duration": 9,
    "start_time": "2022-04-23T08:04:54.986Z"
   },
   {
    "duration": 12,
    "start_time": "2022-04-23T08:05:01.195Z"
   },
   {
    "duration": 11,
    "start_time": "2022-04-23T08:18:47.656Z"
   },
   {
    "duration": 17,
    "start_time": "2022-04-23T08:19:24.121Z"
   },
   {
    "duration": 19,
    "start_time": "2022-04-23T08:19:52.634Z"
   },
   {
    "duration": 15,
    "start_time": "2022-04-23T08:20:03.722Z"
   },
   {
    "duration": 8,
    "start_time": "2022-04-23T08:20:33.122Z"
   },
   {
    "duration": 19,
    "start_time": "2022-04-23T08:20:59.801Z"
   },
   {
    "duration": 12,
    "start_time": "2022-04-23T08:21:47.074Z"
   },
   {
    "duration": 20,
    "start_time": "2022-04-23T08:21:54.522Z"
   },
   {
    "duration": 16,
    "start_time": "2022-04-23T08:22:07.563Z"
   },
   {
    "duration": 17,
    "start_time": "2022-04-23T08:24:44.571Z"
   },
   {
    "duration": 20,
    "start_time": "2022-04-23T08:24:46.155Z"
   },
   {
    "duration": 18,
    "start_time": "2022-04-23T08:24:48.011Z"
   },
   {
    "duration": 4,
    "start_time": "2022-04-23T08:28:28.572Z"
   },
   {
    "duration": 4,
    "start_time": "2022-04-23T08:28:30.596Z"
   },
   {
    "duration": 4,
    "start_time": "2022-04-23T08:28:32.485Z"
   },
   {
    "duration": 5,
    "start_time": "2022-04-23T08:42:21.378Z"
   },
   {
    "duration": 6,
    "start_time": "2022-04-23T08:42:32.666Z"
   },
   {
    "duration": 7,
    "start_time": "2022-04-23T08:42:37.195Z"
   },
   {
    "duration": 8,
    "start_time": "2022-04-23T08:42:46.067Z"
   },
   {
    "duration": 4,
    "start_time": "2022-04-23T08:42:55.787Z"
   },
   {
    "duration": 4,
    "start_time": "2022-04-23T08:42:59.947Z"
   },
   {
    "duration": 5,
    "start_time": "2022-04-23T08:43:04.755Z"
   },
   {
    "duration": 4,
    "start_time": "2022-04-23T08:43:10.051Z"
   },
   {
    "duration": 4,
    "start_time": "2022-04-23T08:51:10.295Z"
   },
   {
    "duration": 13,
    "start_time": "2022-04-23T08:51:14.726Z"
   },
   {
    "duration": 11,
    "start_time": "2022-04-23T08:51:24.060Z"
   },
   {
    "duration": 12,
    "start_time": "2022-04-23T08:55:29.137Z"
   },
   {
    "duration": 13,
    "start_time": "2022-04-23T09:00:30.948Z"
   },
   {
    "duration": 119,
    "start_time": "2022-04-23T09:00:42.651Z"
   },
   {
    "duration": 10,
    "start_time": "2022-04-23T09:01:34.500Z"
   },
   {
    "duration": 17,
    "start_time": "2022-04-23T09:01:45.539Z"
   },
   {
    "duration": 10,
    "start_time": "2022-04-23T09:03:34.628Z"
   },
   {
    "duration": 10,
    "start_time": "2022-04-23T09:03:42.893Z"
   },
   {
    "duration": 12,
    "start_time": "2022-04-23T09:03:54.404Z"
   },
   {
    "duration": 14,
    "start_time": "2022-04-23T09:04:00.948Z"
   },
   {
    "duration": 17,
    "start_time": "2022-04-23T09:06:30.017Z"
   },
   {
    "duration": 14,
    "start_time": "2022-04-23T09:06:36.805Z"
   },
   {
    "duration": 20,
    "start_time": "2022-04-23T09:06:57.950Z"
   },
   {
    "duration": 26,
    "start_time": "2022-04-23T09:07:37.910Z"
   },
   {
    "duration": 8,
    "start_time": "2022-04-23T09:08:07.838Z"
   },
   {
    "duration": 7,
    "start_time": "2022-04-23T09:10:24.998Z"
   },
   {
    "duration": 102,
    "start_time": "2022-04-23T09:10:37.751Z"
   },
   {
    "duration": 117,
    "start_time": "2022-04-23T09:39:49.082Z"
   },
   {
    "duration": 4,
    "start_time": "2022-04-23T09:40:11.418Z"
   },
   {
    "duration": 8,
    "start_time": "2022-04-23T09:45:02.382Z"
   },
   {
    "duration": 1717,
    "start_time": "2022-04-23T09:45:08.396Z"
   },
   {
    "duration": 437,
    "start_time": "2022-04-23T09:46:01.303Z"
   },
   {
    "duration": 510,
    "start_time": "2022-04-23T09:46:19.998Z"
   },
   {
    "duration": 14,
    "start_time": "2022-04-23T09:46:24.743Z"
   },
   {
    "duration": 469,
    "start_time": "2022-04-23T09:48:49.687Z"
   },
   {
    "duration": 424,
    "start_time": "2022-04-23T09:49:13.208Z"
   },
   {
    "duration": 23,
    "start_time": "2022-04-23T09:50:04.391Z"
   },
   {
    "duration": 4,
    "start_time": "2022-04-23T09:53:20.346Z"
   },
   {
    "duration": 4,
    "start_time": "2022-04-23T09:54:19.353Z"
   },
   {
    "duration": 10,
    "start_time": "2022-04-23T09:54:28.290Z"
   },
   {
    "duration": 29,
    "start_time": "2022-04-23T09:54:33.217Z"
   },
   {
    "duration": 119,
    "start_time": "2022-04-23T10:00:50.933Z"
   },
   {
    "duration": 4,
    "start_time": "2022-04-23T10:01:05.767Z"
   },
   {
    "duration": 4,
    "start_time": "2022-04-23T10:04:18.413Z"
   },
   {
    "duration": 3,
    "start_time": "2022-04-23T10:07:17.423Z"
   },
   {
    "duration": 9,
    "start_time": "2022-04-23T10:07:19.527Z"
   },
   {
    "duration": 15,
    "start_time": "2022-04-23T10:07:29.055Z"
   },
   {
    "duration": 16,
    "start_time": "2022-04-23T10:08:10.424Z"
   },
   {
    "duration": 1778,
    "start_time": "2022-04-23T10:09:10.433Z"
   },
   {
    "duration": 9,
    "start_time": "2022-04-23T10:09:26.184Z"
   },
   {
    "duration": 13,
    "start_time": "2022-04-23T10:10:09.745Z"
   },
   {
    "duration": 2230,
    "start_time": "2022-04-23T10:10:33.489Z"
   },
   {
    "duration": 12,
    "start_time": "2022-04-23T10:12:43.342Z"
   },
   {
    "duration": 1729,
    "start_time": "2022-04-23T10:12:50.682Z"
   },
   {
    "duration": 12,
    "start_time": "2022-04-23T10:12:54.763Z"
   },
   {
    "duration": 110,
    "start_time": "2022-04-23T10:12:58.369Z"
   },
   {
    "duration": 12,
    "start_time": "2022-04-23T10:13:02.529Z"
   },
   {
    "duration": 5,
    "start_time": "2022-04-23T10:19:30.732Z"
   },
   {
    "duration": 14,
    "start_time": "2022-04-23T10:19:36.764Z"
   },
   {
    "duration": 12,
    "start_time": "2022-04-23T10:19:39.965Z"
   },
   {
    "duration": 11,
    "start_time": "2022-04-23T10:21:52.973Z"
   },
   {
    "duration": 10,
    "start_time": "2022-04-23T10:21:59.709Z"
   },
   {
    "duration": 9,
    "start_time": "2022-04-23T10:22:02.663Z"
   },
   {
    "duration": 17,
    "start_time": "2022-04-23T10:22:13.919Z"
   },
   {
    "duration": 10,
    "start_time": "2022-04-23T10:44:34.575Z"
   },
   {
    "duration": 12,
    "start_time": "2022-04-23T10:44:48.175Z"
   },
   {
    "duration": 45,
    "start_time": "2022-04-23T10:45:01.728Z"
   },
   {
    "duration": 33,
    "start_time": "2022-04-23T10:45:06.846Z"
   },
   {
    "duration": 28,
    "start_time": "2022-04-23T10:46:42.008Z"
   },
   {
    "duration": 4,
    "start_time": "2022-04-23T10:47:09.243Z"
   },
   {
    "duration": 19,
    "start_time": "2022-04-23T10:47:14.424Z"
   },
   {
    "duration": 34,
    "start_time": "2022-04-23T10:48:12.880Z"
   },
   {
    "duration": 18,
    "start_time": "2022-04-23T10:48:30.506Z"
   },
   {
    "duration": 15,
    "start_time": "2022-04-23T10:50:01.218Z"
   },
   {
    "duration": 14,
    "start_time": "2022-04-23T10:52:52.835Z"
   },
   {
    "duration": 16,
    "start_time": "2022-04-23T10:54:05.148Z"
   },
   {
    "duration": 15,
    "start_time": "2022-04-23T10:54:10.011Z"
   },
   {
    "duration": 13,
    "start_time": "2022-04-23T10:54:27.828Z"
   },
   {
    "duration": 31,
    "start_time": "2022-04-23T11:02:48.363Z"
   },
   {
    "duration": 16,
    "start_time": "2022-04-23T11:03:12.665Z"
   },
   {
    "duration": 12,
    "start_time": "2022-04-23T11:03:27.176Z"
   },
   {
    "duration": 17,
    "start_time": "2022-04-23T11:04:01.600Z"
   },
   {
    "duration": 13,
    "start_time": "2022-04-23T11:05:10.561Z"
   },
   {
    "duration": 8,
    "start_time": "2022-04-23T11:25:38.578Z"
   },
   {
    "duration": 11,
    "start_time": "2022-04-23T11:25:54.409Z"
   },
   {
    "duration": 9,
    "start_time": "2022-04-23T11:26:24.484Z"
   },
   {
    "duration": 11,
    "start_time": "2022-04-23T11:27:13.802Z"
   },
   {
    "duration": 8,
    "start_time": "2022-04-23T11:27:29.403Z"
   },
   {
    "duration": 5,
    "start_time": "2022-04-23T11:27:36.674Z"
   },
   {
    "duration": 8,
    "start_time": "2022-04-23T11:28:08.948Z"
   },
   {
    "duration": 14,
    "start_time": "2022-04-23T11:28:15.690Z"
   },
   {
    "duration": 495,
    "start_time": "2022-04-23T18:28:19.989Z"
   },
   {
    "duration": 62,
    "start_time": "2022-04-23T18:39:50.194Z"
   },
   {
    "duration": 17,
    "start_time": "2022-04-23T18:40:16.175Z"
   },
   {
    "duration": 11,
    "start_time": "2022-04-23T18:40:59.927Z"
   },
   {
    "duration": 7,
    "start_time": "2022-04-23T18:43:43.347Z"
   },
   {
    "duration": 120,
    "start_time": "2022-04-23T18:44:32.712Z"
   },
   {
    "duration": 18,
    "start_time": "2022-04-23T18:45:37.424Z"
   },
   {
    "duration": 26,
    "start_time": "2022-04-23T18:45:39.616Z"
   },
   {
    "duration": 25,
    "start_time": "2022-04-23T18:45:41.337Z"
   },
   {
    "duration": 13,
    "start_time": "2022-04-23T18:45:53.512Z"
   },
   {
    "duration": 20,
    "start_time": "2022-04-23T18:45:55.385Z"
   },
   {
    "duration": 25,
    "start_time": "2022-04-23T18:47:05.537Z"
   },
   {
    "duration": 1806,
    "start_time": "2022-04-23T18:48:38.355Z"
   },
   {
    "duration": 549,
    "start_time": "2022-04-23T18:49:17.130Z"
   },
   {
    "duration": 15,
    "start_time": "2022-04-23T18:49:17.682Z"
   },
   {
    "duration": 32,
    "start_time": "2022-04-23T18:49:17.699Z"
   },
   {
    "duration": 17,
    "start_time": "2022-04-23T18:49:17.734Z"
   },
   {
    "duration": 12,
    "start_time": "2022-04-23T18:49:17.752Z"
   },
   {
    "duration": 13,
    "start_time": "2022-04-23T18:49:17.774Z"
   },
   {
    "duration": 29,
    "start_time": "2022-04-23T18:49:17.789Z"
   },
   {
    "duration": 7,
    "start_time": "2022-04-23T18:49:17.820Z"
   },
   {
    "duration": 10,
    "start_time": "2022-04-23T18:49:17.828Z"
   },
   {
    "duration": 31,
    "start_time": "2022-04-23T18:49:17.842Z"
   },
   {
    "duration": 9,
    "start_time": "2022-04-23T18:49:17.875Z"
   },
   {
    "duration": 6,
    "start_time": "2022-04-23T18:49:17.885Z"
   },
   {
    "duration": 43,
    "start_time": "2022-04-23T18:49:17.893Z"
   },
   {
    "duration": 25,
    "start_time": "2022-04-23T18:49:17.938Z"
   },
   {
    "duration": 19,
    "start_time": "2022-04-23T18:49:17.965Z"
   },
   {
    "duration": 6,
    "start_time": "2022-04-23T18:49:17.986Z"
   },
   {
    "duration": 24,
    "start_time": "2022-04-23T18:49:17.994Z"
   },
   {
    "duration": 14,
    "start_time": "2022-04-23T18:49:18.020Z"
   },
   {
    "duration": 11,
    "start_time": "2022-04-23T18:49:18.036Z"
   },
   {
    "duration": 24,
    "start_time": "2022-04-23T18:49:18.049Z"
   },
   {
    "duration": 6,
    "start_time": "2022-04-23T18:49:18.075Z"
   },
   {
    "duration": 13,
    "start_time": "2022-04-23T18:49:18.083Z"
   },
   {
    "duration": 14,
    "start_time": "2022-04-23T18:49:18.098Z"
   },
   {
    "duration": 11,
    "start_time": "2022-04-23T18:49:18.114Z"
   },
   {
    "duration": 48,
    "start_time": "2022-04-23T18:49:18.126Z"
   },
   {
    "duration": 23,
    "start_time": "2022-04-23T18:49:18.176Z"
   },
   {
    "duration": 25,
    "start_time": "2022-04-23T18:49:18.201Z"
   },
   {
    "duration": 53,
    "start_time": "2022-04-23T18:49:18.230Z"
   },
   {
    "duration": 5,
    "start_time": "2022-04-23T18:49:18.285Z"
   },
   {
    "duration": 24,
    "start_time": "2022-04-23T18:49:18.292Z"
   },
   {
    "duration": 6,
    "start_time": "2022-04-23T18:49:18.318Z"
   },
   {
    "duration": 20,
    "start_time": "2022-04-23T18:49:18.326Z"
   },
   {
    "duration": 18,
    "start_time": "2022-04-23T18:49:18.348Z"
   },
   {
    "duration": 15,
    "start_time": "2022-04-23T18:49:18.374Z"
   },
   {
    "duration": 83,
    "start_time": "2022-04-23T18:49:18.391Z"
   },
   {
    "duration": 0,
    "start_time": "2022-04-23T18:49:18.477Z"
   },
   {
    "duration": 0,
    "start_time": "2022-04-23T18:49:18.478Z"
   },
   {
    "duration": 0,
    "start_time": "2022-04-23T18:49:18.479Z"
   },
   {
    "duration": 0,
    "start_time": "2022-04-23T18:49:18.481Z"
   },
   {
    "duration": 472,
    "start_time": "2022-04-23T18:49:28.403Z"
   },
   {
    "duration": 11,
    "start_time": "2022-04-23T18:49:28.877Z"
   },
   {
    "duration": 19,
    "start_time": "2022-04-23T18:49:28.890Z"
   },
   {
    "duration": 10,
    "start_time": "2022-04-23T18:49:28.911Z"
   },
   {
    "duration": 6,
    "start_time": "2022-04-23T18:49:28.922Z"
   },
   {
    "duration": 48,
    "start_time": "2022-04-23T18:49:28.930Z"
   },
   {
    "duration": 21,
    "start_time": "2022-04-23T18:49:28.980Z"
   },
   {
    "duration": 6,
    "start_time": "2022-04-23T18:49:29.003Z"
   },
   {
    "duration": 21,
    "start_time": "2022-04-23T18:49:29.011Z"
   },
   {
    "duration": 7,
    "start_time": "2022-04-23T18:49:29.035Z"
   },
   {
    "duration": 37,
    "start_time": "2022-04-23T18:49:29.043Z"
   },
   {
    "duration": 8,
    "start_time": "2022-04-23T18:49:29.081Z"
   },
   {
    "duration": 8,
    "start_time": "2022-04-23T18:49:29.091Z"
   },
   {
    "duration": 31,
    "start_time": "2022-04-23T18:49:29.101Z"
   },
   {
    "duration": 34,
    "start_time": "2022-04-23T18:49:29.134Z"
   },
   {
    "duration": 6,
    "start_time": "2022-04-23T18:49:29.170Z"
   },
   {
    "duration": 14,
    "start_time": "2022-04-23T18:49:29.177Z"
   },
   {
    "duration": 10,
    "start_time": "2022-04-23T18:49:29.193Z"
   },
   {
    "duration": 8,
    "start_time": "2022-04-23T18:49:29.205Z"
   },
   {
    "duration": 9,
    "start_time": "2022-04-23T18:49:29.214Z"
   },
   {
    "duration": 6,
    "start_time": "2022-04-23T18:49:29.225Z"
   },
   {
    "duration": 40,
    "start_time": "2022-04-23T18:49:29.233Z"
   },
   {
    "duration": 13,
    "start_time": "2022-04-23T18:49:29.275Z"
   },
   {
    "duration": 25,
    "start_time": "2022-04-23T18:49:29.290Z"
   },
   {
    "duration": 46,
    "start_time": "2022-04-23T18:49:29.317Z"
   },
   {
    "duration": 26,
    "start_time": "2022-04-23T18:49:29.365Z"
   },
   {
    "duration": 25,
    "start_time": "2022-04-23T18:49:29.394Z"
   },
   {
    "duration": 27,
    "start_time": "2022-04-23T18:49:29.423Z"
   },
   {
    "duration": 22,
    "start_time": "2022-04-23T18:49:29.452Z"
   },
   {
    "duration": 28,
    "start_time": "2022-04-23T18:49:29.476Z"
   },
   {
    "duration": 11,
    "start_time": "2022-04-23T18:49:29.506Z"
   },
   {
    "duration": 13,
    "start_time": "2022-04-23T18:49:29.518Z"
   },
   {
    "duration": 18,
    "start_time": "2022-04-23T18:49:29.533Z"
   },
   {
    "duration": 22,
    "start_time": "2022-04-23T18:49:29.553Z"
   },
   {
    "duration": 72,
    "start_time": "2022-04-23T18:49:29.576Z"
   },
   {
    "duration": 0,
    "start_time": "2022-04-23T18:49:29.649Z"
   },
   {
    "duration": 0,
    "start_time": "2022-04-23T18:49:29.650Z"
   },
   {
    "duration": 0,
    "start_time": "2022-04-23T18:49:29.651Z"
   },
   {
    "duration": 0,
    "start_time": "2022-04-23T18:49:29.673Z"
   },
   {
    "duration": 16,
    "start_time": "2022-04-23T18:54:38.791Z"
   },
   {
    "duration": 9,
    "start_time": "2022-04-23T18:55:20.282Z"
   },
   {
    "duration": 13,
    "start_time": "2022-04-23T18:55:32.720Z"
   },
   {
    "duration": 15,
    "start_time": "2022-04-23T18:55:39.993Z"
   },
   {
    "duration": 12,
    "start_time": "2022-04-23T18:56:21.400Z"
   },
   {
    "duration": 15,
    "start_time": "2022-04-23T18:57:12.825Z"
   },
   {
    "duration": 14,
    "start_time": "2022-04-23T18:57:18.137Z"
   },
   {
    "duration": 4,
    "start_time": "2022-04-23T18:58:17.793Z"
   },
   {
    "duration": 10,
    "start_time": "2022-04-23T18:58:31.058Z"
   },
   {
    "duration": 6,
    "start_time": "2022-04-23T18:58:40.330Z"
   },
   {
    "duration": 112,
    "start_time": "2022-04-23T18:58:55.209Z"
   },
   {
    "duration": 9,
    "start_time": "2022-04-23T18:59:03.210Z"
   },
   {
    "duration": 8,
    "start_time": "2022-04-23T18:59:09.874Z"
   },
   {
    "duration": 14,
    "start_time": "2022-04-23T18:59:22.233Z"
   },
   {
    "duration": 13,
    "start_time": "2022-04-23T18:59:29.866Z"
   },
   {
    "duration": 21,
    "start_time": "2022-04-23T19:01:17.650Z"
   },
   {
    "duration": 16,
    "start_time": "2022-04-23T19:02:39.538Z"
   },
   {
    "duration": 21,
    "start_time": "2022-04-23T19:02:43.435Z"
   },
   {
    "duration": 42,
    "start_time": "2022-04-23T19:03:01.085Z"
   },
   {
    "duration": 21,
    "start_time": "2022-04-23T19:03:16.355Z"
   },
   {
    "duration": 8,
    "start_time": "2022-04-23T19:15:10.249Z"
   },
   {
    "duration": 20,
    "start_time": "2022-04-23T19:15:15.800Z"
   },
   {
    "duration": 13,
    "start_time": "2022-04-23T19:15:26.380Z"
   },
   {
    "duration": 14,
    "start_time": "2022-04-23T19:15:31.959Z"
   },
   {
    "duration": 20,
    "start_time": "2022-04-23T19:15:34.497Z"
   },
   {
    "duration": 14,
    "start_time": "2022-04-23T19:17:37.122Z"
   },
   {
    "duration": 17,
    "start_time": "2022-04-23T19:17:46.865Z"
   },
   {
    "duration": 16,
    "start_time": "2022-04-23T19:18:33.810Z"
   },
   {
    "duration": 18,
    "start_time": "2022-04-23T19:18:41.082Z"
   },
   {
    "duration": 21,
    "start_time": "2022-04-23T19:19:00.609Z"
   },
   {
    "duration": 18,
    "start_time": "2022-04-23T19:19:30.115Z"
   },
   {
    "duration": 19,
    "start_time": "2022-04-23T19:19:38.090Z"
   },
   {
    "duration": 17,
    "start_time": "2022-04-23T19:19:41.642Z"
   },
   {
    "duration": 18,
    "start_time": "2022-04-23T19:19:51.442Z"
   },
   {
    "duration": 26,
    "start_time": "2022-04-23T19:19:57.370Z"
   },
   {
    "duration": 18,
    "start_time": "2022-04-23T19:20:42.731Z"
   },
   {
    "duration": 19,
    "start_time": "2022-04-23T19:22:17.244Z"
   },
   {
    "duration": 19,
    "start_time": "2022-04-23T19:22:25.427Z"
   },
   {
    "duration": 18,
    "start_time": "2022-04-23T19:22:30.818Z"
   },
   {
    "duration": 21,
    "start_time": "2022-04-23T19:22:39.187Z"
   },
   {
    "duration": 21,
    "start_time": "2022-04-23T19:22:46.356Z"
   },
   {
    "duration": 23,
    "start_time": "2022-04-23T19:22:49.531Z"
   },
   {
    "duration": 22,
    "start_time": "2022-04-23T19:22:56.748Z"
   },
   {
    "duration": 19,
    "start_time": "2022-04-23T19:23:01.892Z"
   },
   {
    "duration": 17,
    "start_time": "2022-04-23T19:23:05.541Z"
   },
   {
    "duration": 16,
    "start_time": "2022-04-23T19:23:11.396Z"
   },
   {
    "duration": 17,
    "start_time": "2022-04-23T19:23:17.197Z"
   },
   {
    "duration": 17,
    "start_time": "2022-04-23T19:23:19.772Z"
   },
   {
    "duration": 22,
    "start_time": "2022-04-23T19:23:27.091Z"
   },
   {
    "duration": 18,
    "start_time": "2022-04-23T19:23:34.443Z"
   },
   {
    "duration": 16,
    "start_time": "2022-04-23T19:23:42.948Z"
   },
   {
    "duration": 17,
    "start_time": "2022-04-23T19:24:00.492Z"
   },
   {
    "duration": 16,
    "start_time": "2022-04-23T19:24:07.188Z"
   },
   {
    "duration": 19,
    "start_time": "2022-04-23T19:24:35.644Z"
   },
   {
    "duration": 16,
    "start_time": "2022-04-23T19:24:40.044Z"
   },
   {
    "duration": 20,
    "start_time": "2022-04-23T19:26:34.645Z"
   },
   {
    "duration": 20,
    "start_time": "2022-04-23T19:27:33.062Z"
   },
   {
    "duration": 21,
    "start_time": "2022-04-23T19:28:08.582Z"
   },
   {
    "duration": 19,
    "start_time": "2022-04-23T19:28:17.206Z"
   },
   {
    "duration": 23,
    "start_time": "2022-04-23T19:28:21.878Z"
   },
   {
    "duration": 22,
    "start_time": "2022-04-23T19:28:49.471Z"
   },
   {
    "duration": 21,
    "start_time": "2022-04-23T19:28:59.015Z"
   },
   {
    "duration": 23,
    "start_time": "2022-04-23T19:29:11.046Z"
   },
   {
    "duration": 28,
    "start_time": "2022-04-23T19:30:14.166Z"
   },
   {
    "duration": 17,
    "start_time": "2022-04-23T19:30:52.224Z"
   },
   {
    "duration": 26,
    "start_time": "2022-04-23T19:30:56.351Z"
   },
   {
    "duration": 17,
    "start_time": "2022-04-23T19:31:03.206Z"
   },
   {
    "duration": 65,
    "start_time": "2022-04-23T19:32:20.879Z"
   },
   {
    "duration": 23,
    "start_time": "2022-04-23T19:32:45.970Z"
   },
   {
    "duration": 25,
    "start_time": "2022-04-23T19:32:58.944Z"
   },
   {
    "duration": 23,
    "start_time": "2022-04-23T19:33:10.752Z"
   },
   {
    "duration": 31,
    "start_time": "2022-04-23T19:33:22.415Z"
   },
   {
    "duration": 22,
    "start_time": "2022-04-23T19:34:05.752Z"
   },
   {
    "duration": 22,
    "start_time": "2022-04-23T19:34:12.401Z"
   },
   {
    "duration": 22,
    "start_time": "2022-04-23T19:34:23.033Z"
   },
   {
    "duration": 14,
    "start_time": "2022-04-23T19:36:10.185Z"
   },
   {
    "duration": 22,
    "start_time": "2022-04-23T19:36:24.360Z"
   },
   {
    "duration": 14,
    "start_time": "2022-04-23T19:36:27.376Z"
   },
   {
    "duration": 19,
    "start_time": "2022-04-23T19:36:33.785Z"
   },
   {
    "duration": 16,
    "start_time": "2022-04-23T19:37:18.169Z"
   },
   {
    "duration": 16,
    "start_time": "2022-04-23T19:37:55.449Z"
   },
   {
    "duration": 79,
    "start_time": "2022-04-23T19:38:06.038Z"
   },
   {
    "duration": 10,
    "start_time": "2022-04-23T19:38:06.119Z"
   },
   {
    "duration": 23,
    "start_time": "2022-04-23T19:38:06.131Z"
   },
   {
    "duration": 9,
    "start_time": "2022-04-23T19:38:06.173Z"
   },
   {
    "duration": 14,
    "start_time": "2022-04-23T19:38:06.184Z"
   },
   {
    "duration": 12,
    "start_time": "2022-04-23T19:38:06.199Z"
   },
   {
    "duration": 20,
    "start_time": "2022-04-23T19:38:06.213Z"
   },
   {
    "duration": 7,
    "start_time": "2022-04-23T19:38:06.235Z"
   },
   {
    "duration": 8,
    "start_time": "2022-04-23T19:38:06.273Z"
   },
   {
    "duration": 7,
    "start_time": "2022-04-23T19:38:06.283Z"
   },
   {
    "duration": 15,
    "start_time": "2022-04-23T19:38:06.291Z"
   },
   {
    "duration": 4,
    "start_time": "2022-04-23T19:38:06.308Z"
   },
   {
    "duration": 8,
    "start_time": "2022-04-23T19:38:06.314Z"
   },
   {
    "duration": 11,
    "start_time": "2022-04-23T19:38:06.324Z"
   },
   {
    "duration": 47,
    "start_time": "2022-04-23T19:38:06.336Z"
   },
   {
    "duration": 7,
    "start_time": "2022-04-23T19:38:06.384Z"
   },
   {
    "duration": 10,
    "start_time": "2022-04-23T19:38:06.392Z"
   },
   {
    "duration": 11,
    "start_time": "2022-04-23T19:38:06.404Z"
   },
   {
    "duration": 7,
    "start_time": "2022-04-23T19:38:06.417Z"
   },
   {
    "duration": 8,
    "start_time": "2022-04-23T19:38:06.426Z"
   },
   {
    "duration": 38,
    "start_time": "2022-04-23T19:38:06.436Z"
   },
   {
    "duration": 13,
    "start_time": "2022-04-23T19:38:06.477Z"
   },
   {
    "duration": 21,
    "start_time": "2022-04-23T19:38:06.492Z"
   },
   {
    "duration": 6,
    "start_time": "2022-04-23T19:38:06.515Z"
   },
   {
    "duration": 22,
    "start_time": "2022-04-23T19:38:06.523Z"
   },
   {
    "duration": 45,
    "start_time": "2022-04-23T19:38:06.547Z"
   },
   {
    "duration": 17,
    "start_time": "2022-04-23T19:38:06.594Z"
   },
   {
    "duration": 31,
    "start_time": "2022-04-23T19:38:06.614Z"
   },
   {
    "duration": 29,
    "start_time": "2022-04-23T19:38:06.646Z"
   },
   {
    "duration": 15,
    "start_time": "2022-04-23T19:38:06.676Z"
   },
   {
    "duration": 7,
    "start_time": "2022-04-23T19:38:06.693Z"
   },
   {
    "duration": 12,
    "start_time": "2022-04-23T19:38:06.701Z"
   },
   {
    "duration": 20,
    "start_time": "2022-04-23T19:38:06.715Z"
   },
   {
    "duration": 113,
    "start_time": "2022-04-23T19:38:06.737Z"
   },
   {
    "duration": 0,
    "start_time": "2022-04-23T19:38:06.852Z"
   },
   {
    "duration": 19,
    "start_time": "2022-04-23T19:38:12.761Z"
   },
   {
    "duration": 18,
    "start_time": "2022-04-23T19:38:32.666Z"
   },
   {
    "duration": 17,
    "start_time": "2022-04-23T19:39:15.426Z"
   },
   {
    "duration": 23,
    "start_time": "2022-04-23T19:39:35.731Z"
   },
   {
    "duration": 13,
    "start_time": "2022-04-23T19:40:05.562Z"
   },
   {
    "duration": 16,
    "start_time": "2022-04-23T19:40:12.034Z"
   },
   {
    "duration": 18,
    "start_time": "2022-04-23T19:41:08.884Z"
   },
   {
    "duration": 1787,
    "start_time": "2022-04-23T19:42:12.308Z"
   },
   {
    "duration": 1723,
    "start_time": "2022-04-23T19:42:51.941Z"
   },
   {
    "duration": 26,
    "start_time": "2022-04-23T19:42:59.821Z"
   },
   {
    "duration": 71,
    "start_time": "2022-04-24T06:08:28.339Z"
   },
   {
    "duration": 635,
    "start_time": "2022-04-24T06:08:34.507Z"
   },
   {
    "duration": 12,
    "start_time": "2022-04-24T06:08:35.145Z"
   },
   {
    "duration": 45,
    "start_time": "2022-04-24T06:08:35.159Z"
   },
   {
    "duration": 12,
    "start_time": "2022-04-24T06:08:35.207Z"
   },
   {
    "duration": 19,
    "start_time": "2022-04-24T06:08:35.221Z"
   },
   {
    "duration": 22,
    "start_time": "2022-04-24T06:08:35.242Z"
   },
   {
    "duration": 55,
    "start_time": "2022-04-24T06:08:35.266Z"
   },
   {
    "duration": 9,
    "start_time": "2022-04-24T06:08:35.324Z"
   },
   {
    "duration": 12,
    "start_time": "2022-04-24T06:08:35.335Z"
   },
   {
    "duration": 48,
    "start_time": "2022-04-24T06:08:35.351Z"
   },
   {
    "duration": 16,
    "start_time": "2022-04-24T06:08:35.401Z"
   },
   {
    "duration": 7,
    "start_time": "2022-04-24T06:08:35.420Z"
   },
   {
    "duration": 6,
    "start_time": "2022-04-24T06:08:35.430Z"
   },
   {
    "duration": 64,
    "start_time": "2022-04-24T06:08:35.438Z"
   },
   {
    "duration": 28,
    "start_time": "2022-04-24T06:08:35.504Z"
   },
   {
    "duration": 9,
    "start_time": "2022-04-24T06:08:35.535Z"
   },
   {
    "duration": 56,
    "start_time": "2022-04-24T06:08:35.547Z"
   },
   {
    "duration": 16,
    "start_time": "2022-04-24T06:08:35.605Z"
   },
   {
    "duration": 10,
    "start_time": "2022-04-24T06:08:35.624Z"
   },
   {
    "duration": 12,
    "start_time": "2022-04-24T06:08:35.636Z"
   },
   {
    "duration": 47,
    "start_time": "2022-04-24T06:08:35.651Z"
   },
   {
    "duration": 22,
    "start_time": "2022-04-24T06:08:35.701Z"
   },
   {
    "duration": 18,
    "start_time": "2022-04-24T06:08:35.726Z"
   },
   {
    "duration": 14,
    "start_time": "2022-04-24T06:08:35.747Z"
   },
   {
    "duration": 55,
    "start_time": "2022-04-24T06:08:35.764Z"
   },
   {
    "duration": 29,
    "start_time": "2022-04-24T06:08:35.822Z"
   },
   {
    "duration": 56,
    "start_time": "2022-04-24T06:08:35.853Z"
   },
   {
    "duration": 46,
    "start_time": "2022-04-24T06:08:35.916Z"
   },
   {
    "duration": 30,
    "start_time": "2022-04-24T06:08:35.965Z"
   },
   {
    "duration": 19,
    "start_time": "2022-04-24T06:08:35.998Z"
   },
   {
    "duration": 18,
    "start_time": "2022-04-24T06:08:36.019Z"
   },
   {
    "duration": 26,
    "start_time": "2022-04-24T06:08:36.040Z"
   },
   {
    "duration": 41,
    "start_time": "2022-04-24T06:08:36.068Z"
   },
   {
    "duration": 197,
    "start_time": "2022-04-24T06:08:36.112Z"
   },
   {
    "duration": 0,
    "start_time": "2022-04-24T06:08:36.312Z"
   },
   {
    "duration": 0,
    "start_time": "2022-04-24T06:08:36.315Z"
   },
   {
    "duration": 0,
    "start_time": "2022-04-24T06:08:36.317Z"
   },
   {
    "duration": 0,
    "start_time": "2022-04-24T06:08:36.319Z"
   },
   {
    "duration": 0,
    "start_time": "2022-04-24T06:08:36.321Z"
   },
   {
    "duration": 32,
    "start_time": "2022-04-24T06:09:20.185Z"
   },
   {
    "duration": 54,
    "start_time": "2022-04-24T06:09:31.304Z"
   },
   {
    "duration": 30,
    "start_time": "2022-04-24T06:10:08.025Z"
   },
   {
    "duration": 74,
    "start_time": "2022-04-24T06:14:58.156Z"
   },
   {
    "duration": 583,
    "start_time": "2022-04-24T06:15:12.226Z"
   },
   {
    "duration": 13,
    "start_time": "2022-04-24T06:15:12.811Z"
   },
   {
    "duration": 27,
    "start_time": "2022-04-24T06:15:12.826Z"
   },
   {
    "duration": 40,
    "start_time": "2022-04-24T06:15:12.855Z"
   },
   {
    "duration": 8,
    "start_time": "2022-04-24T06:15:12.898Z"
   },
   {
    "duration": 14,
    "start_time": "2022-04-24T06:15:12.908Z"
   },
   {
    "duration": 74,
    "start_time": "2022-04-24T06:15:12.924Z"
   },
   {
    "duration": 9,
    "start_time": "2022-04-24T06:15:13.000Z"
   },
   {
    "duration": 11,
    "start_time": "2022-04-24T06:15:13.011Z"
   },
   {
    "duration": 9,
    "start_time": "2022-04-24T06:15:13.023Z"
   },
   {
    "duration": 62,
    "start_time": "2022-04-24T06:15:13.034Z"
   },
   {
    "duration": 5,
    "start_time": "2022-04-24T06:15:13.098Z"
   },
   {
    "duration": 8,
    "start_time": "2022-04-24T06:15:13.105Z"
   },
   {
    "duration": 12,
    "start_time": "2022-04-24T06:15:13.118Z"
   },
   {
    "duration": 67,
    "start_time": "2022-04-24T06:15:13.133Z"
   },
   {
    "duration": 8,
    "start_time": "2022-04-24T06:15:13.202Z"
   },
   {
    "duration": 14,
    "start_time": "2022-04-24T06:15:13.212Z"
   },
   {
    "duration": 15,
    "start_time": "2022-04-24T06:15:13.228Z"
   },
   {
    "duration": 12,
    "start_time": "2022-04-24T06:15:13.245Z"
   },
   {
    "duration": 40,
    "start_time": "2022-04-24T06:15:13.260Z"
   },
   {
    "duration": 9,
    "start_time": "2022-04-24T06:15:13.302Z"
   },
   {
    "duration": 14,
    "start_time": "2022-04-24T06:15:13.312Z"
   },
   {
    "duration": 17,
    "start_time": "2022-04-24T06:15:13.328Z"
   },
   {
    "duration": 7,
    "start_time": "2022-04-24T06:15:13.347Z"
   },
   {
    "duration": 63,
    "start_time": "2022-04-24T06:15:13.356Z"
   },
   {
    "duration": 28,
    "start_time": "2022-04-24T06:15:13.421Z"
   },
   {
    "duration": 48,
    "start_time": "2022-04-24T06:15:13.452Z"
   },
   {
    "duration": 42,
    "start_time": "2022-04-24T06:15:13.502Z"
   },
   {
    "duration": 5,
    "start_time": "2022-04-24T06:15:13.547Z"
   },
   {
    "duration": 49,
    "start_time": "2022-04-24T06:15:13.554Z"
   },
   {
    "duration": 6,
    "start_time": "2022-04-24T06:15:13.605Z"
   },
   {
    "duration": 14,
    "start_time": "2022-04-24T06:15:13.613Z"
   },
   {
    "duration": 24,
    "start_time": "2022-04-24T06:15:13.629Z"
   },
   {
    "duration": 54,
    "start_time": "2022-04-24T06:15:13.656Z"
   },
   {
    "duration": 641,
    "start_time": "2022-04-24T06:15:23.558Z"
   },
   {
    "duration": 13,
    "start_time": "2022-04-24T06:15:24.201Z"
   },
   {
    "duration": 24,
    "start_time": "2022-04-24T06:15:24.216Z"
   },
   {
    "duration": 12,
    "start_time": "2022-04-24T06:15:24.242Z"
   },
   {
    "duration": 41,
    "start_time": "2022-04-24T06:15:24.257Z"
   },
   {
    "duration": 12,
    "start_time": "2022-04-24T06:15:24.300Z"
   },
   {
    "duration": 32,
    "start_time": "2022-04-24T06:15:24.314Z"
   },
   {
    "duration": 50,
    "start_time": "2022-04-24T06:15:24.348Z"
   },
   {
    "duration": 12,
    "start_time": "2022-04-24T06:15:24.400Z"
   },
   {
    "duration": 8,
    "start_time": "2022-04-24T06:15:24.414Z"
   },
   {
    "duration": 15,
    "start_time": "2022-04-24T06:15:24.425Z"
   },
   {
    "duration": 5,
    "start_time": "2022-04-24T06:15:24.442Z"
   },
   {
    "duration": 48,
    "start_time": "2022-04-24T06:15:24.449Z"
   },
   {
    "duration": 19,
    "start_time": "2022-04-24T06:15:24.501Z"
   },
   {
    "duration": 26,
    "start_time": "2022-04-24T06:15:24.522Z"
   },
   {
    "duration": 8,
    "start_time": "2022-04-24T06:15:24.550Z"
   },
   {
    "duration": 13,
    "start_time": "2022-04-24T06:15:24.594Z"
   },
   {
    "duration": 15,
    "start_time": "2022-04-24T06:15:24.609Z"
   },
   {
    "duration": 11,
    "start_time": "2022-04-24T06:15:24.626Z"
   },
   {
    "duration": 10,
    "start_time": "2022-04-24T06:15:24.639Z"
   },
   {
    "duration": 46,
    "start_time": "2022-04-24T06:15:24.651Z"
   },
   {
    "duration": 13,
    "start_time": "2022-04-24T06:15:24.699Z"
   },
   {
    "duration": 20,
    "start_time": "2022-04-24T06:15:24.714Z"
   },
   {
    "duration": 10,
    "start_time": "2022-04-24T06:15:24.736Z"
   },
   {
    "duration": 55,
    "start_time": "2022-04-24T06:15:24.748Z"
   },
   {
    "duration": 26,
    "start_time": "2022-04-24T06:15:24.805Z"
   },
   {
    "duration": 24,
    "start_time": "2022-04-24T06:15:24.834Z"
   },
   {
    "duration": 67,
    "start_time": "2022-04-24T06:15:24.859Z"
   },
   {
    "duration": 5,
    "start_time": "2022-04-24T06:15:24.928Z"
   },
   {
    "duration": 18,
    "start_time": "2022-04-24T06:15:24.935Z"
   },
   {
    "duration": 4,
    "start_time": "2022-04-24T06:15:24.955Z"
   },
   {
    "duration": 39,
    "start_time": "2022-04-24T06:15:24.961Z"
   },
   {
    "duration": 26,
    "start_time": "2022-04-24T06:15:25.002Z"
   },
   {
    "duration": 32,
    "start_time": "2022-04-24T06:15:25.030Z"
   },
   {
    "duration": 600,
    "start_time": "2022-04-24T06:15:55.006Z"
   },
   {
    "duration": 13,
    "start_time": "2022-04-24T06:15:55.608Z"
   },
   {
    "duration": 26,
    "start_time": "2022-04-24T06:15:55.623Z"
   },
   {
    "duration": 12,
    "start_time": "2022-04-24T06:15:55.651Z"
   },
   {
    "duration": 8,
    "start_time": "2022-04-24T06:15:55.694Z"
   },
   {
    "duration": 16,
    "start_time": "2022-04-24T06:15:55.704Z"
   },
   {
    "duration": 69,
    "start_time": "2022-04-24T06:15:55.723Z"
   },
   {
    "duration": 9,
    "start_time": "2022-04-24T06:15:55.795Z"
   },
   {
    "duration": 11,
    "start_time": "2022-04-24T06:15:55.807Z"
   },
   {
    "duration": 9,
    "start_time": "2022-04-24T06:15:55.820Z"
   },
   {
    "duration": 16,
    "start_time": "2022-04-24T06:15:55.832Z"
   },
   {
    "duration": 47,
    "start_time": "2022-04-24T06:15:55.850Z"
   },
   {
    "duration": 7,
    "start_time": "2022-04-24T06:15:55.900Z"
   },
   {
    "duration": 13,
    "start_time": "2022-04-24T06:15:55.912Z"
   },
   {
    "duration": 66,
    "start_time": "2022-04-24T06:15:55.927Z"
   },
   {
    "duration": 9,
    "start_time": "2022-04-24T06:15:55.995Z"
   },
   {
    "duration": 14,
    "start_time": "2022-04-24T06:15:56.006Z"
   },
   {
    "duration": 15,
    "start_time": "2022-04-24T06:15:56.022Z"
   },
   {
    "duration": 10,
    "start_time": "2022-04-24T06:15:56.039Z"
   },
   {
    "duration": 47,
    "start_time": "2022-04-24T06:15:56.051Z"
   },
   {
    "duration": 8,
    "start_time": "2022-04-24T06:15:56.101Z"
   },
   {
    "duration": 14,
    "start_time": "2022-04-24T06:15:56.111Z"
   },
   {
    "duration": 18,
    "start_time": "2022-04-24T06:15:56.127Z"
   },
   {
    "duration": 10,
    "start_time": "2022-04-24T06:15:56.148Z"
   },
   {
    "duration": 55,
    "start_time": "2022-04-24T06:15:56.160Z"
   },
   {
    "duration": 26,
    "start_time": "2022-04-24T06:15:56.217Z"
   },
   {
    "duration": 54,
    "start_time": "2022-04-24T06:15:56.245Z"
   },
   {
    "duration": 43,
    "start_time": "2022-04-24T06:15:56.301Z"
   },
   {
    "duration": 5,
    "start_time": "2022-04-24T06:15:56.346Z"
   },
   {
    "duration": 47,
    "start_time": "2022-04-24T06:15:56.353Z"
   },
   {
    "duration": 4,
    "start_time": "2022-04-24T06:15:56.402Z"
   },
   {
    "duration": 18,
    "start_time": "2022-04-24T06:15:56.408Z"
   },
   {
    "duration": 24,
    "start_time": "2022-04-24T06:15:56.429Z"
   },
   {
    "duration": 61,
    "start_time": "2022-04-24T06:15:56.455Z"
   },
   {
    "duration": 69,
    "start_time": "2022-04-24T06:17:22.162Z"
   },
   {
    "duration": 677,
    "start_time": "2022-04-24T06:17:26.343Z"
   },
   {
    "duration": 13,
    "start_time": "2022-04-24T06:17:27.022Z"
   },
   {
    "duration": 27,
    "start_time": "2022-04-24T06:17:27.037Z"
   },
   {
    "duration": 34,
    "start_time": "2022-04-24T06:17:27.067Z"
   },
   {
    "duration": 8,
    "start_time": "2022-04-24T06:17:27.103Z"
   },
   {
    "duration": 14,
    "start_time": "2022-04-24T06:17:27.113Z"
   },
   {
    "duration": 68,
    "start_time": "2022-04-24T06:17:27.129Z"
   },
   {
    "duration": 8,
    "start_time": "2022-04-24T06:17:27.199Z"
   },
   {
    "duration": 10,
    "start_time": "2022-04-24T06:17:27.209Z"
   },
   {
    "duration": 8,
    "start_time": "2022-04-24T06:17:27.223Z"
   },
   {
    "duration": 12,
    "start_time": "2022-04-24T06:17:27.233Z"
   },
   {
    "duration": 5,
    "start_time": "2022-04-24T06:17:27.294Z"
   },
   {
    "duration": 11,
    "start_time": "2022-04-24T06:17:27.301Z"
   },
   {
    "duration": 21,
    "start_time": "2022-04-24T06:17:27.314Z"
   },
   {
    "duration": 27,
    "start_time": "2022-04-24T06:17:27.337Z"
   },
   {
    "duration": 33,
    "start_time": "2022-04-24T06:17:27.366Z"
   },
   {
    "duration": 13,
    "start_time": "2022-04-24T06:17:27.401Z"
   },
   {
    "duration": 15,
    "start_time": "2022-04-24T06:17:27.416Z"
   },
   {
    "duration": 9,
    "start_time": "2022-04-24T06:17:27.433Z"
   },
   {
    "duration": 9,
    "start_time": "2022-04-24T06:17:27.444Z"
   },
   {
    "duration": 46,
    "start_time": "2022-04-24T06:17:27.455Z"
   },
   {
    "duration": 17,
    "start_time": "2022-04-24T06:17:27.503Z"
   },
   {
    "duration": 18,
    "start_time": "2022-04-24T06:17:27.522Z"
   },
   {
    "duration": 9,
    "start_time": "2022-04-24T06:17:27.543Z"
   },
   {
    "duration": 62,
    "start_time": "2022-04-24T06:17:27.555Z"
   },
   {
    "duration": 30,
    "start_time": "2022-04-24T06:17:27.620Z"
   },
   {
    "duration": 59,
    "start_time": "2022-04-24T06:17:27.652Z"
   },
   {
    "duration": 41,
    "start_time": "2022-04-24T06:17:27.718Z"
   },
   {
    "duration": 32,
    "start_time": "2022-04-24T06:17:27.761Z"
   },
   {
    "duration": 15,
    "start_time": "2022-04-24T06:17:27.795Z"
   },
   {
    "duration": 4,
    "start_time": "2022-04-24T06:17:27.812Z"
   },
   {
    "duration": 14,
    "start_time": "2022-04-24T06:17:27.819Z"
   },
   {
    "duration": 24,
    "start_time": "2022-04-24T06:17:27.835Z"
   },
   {
    "duration": 31,
    "start_time": "2022-04-24T06:17:27.893Z"
   },
   {
    "duration": 586,
    "start_time": "2022-04-24T06:17:38.111Z"
   },
   {
    "duration": 91,
    "start_time": "2022-04-24T06:17:51.444Z"
   },
   {
    "duration": 43,
    "start_time": "2022-04-24T06:18:11.092Z"
   },
   {
    "duration": 40,
    "start_time": "2022-04-24T06:18:22.139Z"
   },
   {
    "duration": 69,
    "start_time": "2022-04-24T06:18:57.491Z"
   },
   {
    "duration": 3,
    "start_time": "2022-04-24T06:21:54.141Z"
   },
   {
    "duration": 3,
    "start_time": "2022-04-24T06:21:55.492Z"
   },
   {
    "duration": 650,
    "start_time": "2022-04-24T06:22:59.065Z"
   },
   {
    "duration": 14,
    "start_time": "2022-04-24T06:22:59.719Z"
   },
   {
    "duration": 26,
    "start_time": "2022-04-24T06:22:59.736Z"
   },
   {
    "duration": 14,
    "start_time": "2022-04-24T06:22:59.794Z"
   },
   {
    "duration": 9,
    "start_time": "2022-04-24T06:22:59.811Z"
   },
   {
    "duration": 16,
    "start_time": "2022-04-24T06:22:59.822Z"
   },
   {
    "duration": 82,
    "start_time": "2022-04-24T06:22:59.841Z"
   },
   {
    "duration": 10,
    "start_time": "2022-04-24T06:22:59.925Z"
   },
   {
    "duration": 12,
    "start_time": "2022-04-24T06:22:59.938Z"
   },
   {
    "duration": 45,
    "start_time": "2022-04-24T06:22:59.953Z"
   },
   {
    "duration": 19,
    "start_time": "2022-04-24T06:23:00.000Z"
   },
   {
    "duration": 9,
    "start_time": "2022-04-24T06:23:00.021Z"
   },
   {
    "duration": 6,
    "start_time": "2022-04-24T06:23:00.032Z"
   },
   {
    "duration": 22,
    "start_time": "2022-04-24T06:23:00.040Z"
   },
   {
    "duration": 52,
    "start_time": "2022-04-24T06:23:00.064Z"
   },
   {
    "duration": 8,
    "start_time": "2022-04-24T06:23:00.118Z"
   },
   {
    "duration": 22,
    "start_time": "2022-04-24T06:23:00.128Z"
   },
   {
    "duration": 41,
    "start_time": "2022-04-24T06:23:00.152Z"
   },
   {
    "duration": 7,
    "start_time": "2022-04-24T06:23:00.196Z"
   },
   {
    "duration": 18,
    "start_time": "2022-04-24T06:23:00.205Z"
   },
   {
    "duration": 11,
    "start_time": "2022-04-24T06:23:00.225Z"
   },
   {
    "duration": 25,
    "start_time": "2022-04-24T06:23:00.239Z"
   },
   {
    "duration": 29,
    "start_time": "2022-04-24T06:23:00.266Z"
   },
   {
    "duration": 11,
    "start_time": "2022-04-24T06:23:00.297Z"
   },
   {
    "duration": 31,
    "start_time": "2022-04-24T06:23:00.310Z"
   },
   {
    "duration": 27,
    "start_time": "2022-04-24T06:23:00.343Z"
   },
   {
    "duration": 25,
    "start_time": "2022-04-24T06:23:00.394Z"
   },
   {
    "duration": 41,
    "start_time": "2022-04-24T06:23:00.424Z"
   },
   {
    "duration": 5,
    "start_time": "2022-04-24T06:23:00.493Z"
   },
   {
    "duration": 25,
    "start_time": "2022-04-24T06:23:00.500Z"
   },
   {
    "duration": 24,
    "start_time": "2022-04-24T06:23:00.527Z"
   },
   {
    "duration": 22,
    "start_time": "2022-04-24T06:23:00.553Z"
   },
   {
    "duration": 36,
    "start_time": "2022-04-24T06:23:00.577Z"
   },
   {
    "duration": 32,
    "start_time": "2022-04-24T06:23:00.615Z"
   },
   {
    "duration": 46,
    "start_time": "2022-04-24T06:23:00.649Z"
   },
   {
    "duration": 619,
    "start_time": "2022-04-24T06:23:13.906Z"
   },
   {
    "duration": 13,
    "start_time": "2022-04-24T06:23:14.528Z"
   },
   {
    "duration": 25,
    "start_time": "2022-04-24T06:23:14.543Z"
   },
   {
    "duration": 13,
    "start_time": "2022-04-24T06:23:14.593Z"
   },
   {
    "duration": 8,
    "start_time": "2022-04-24T06:23:14.609Z"
   },
   {
    "duration": 16,
    "start_time": "2022-04-24T06:23:14.619Z"
   },
   {
    "duration": 80,
    "start_time": "2022-04-24T06:23:14.638Z"
   },
   {
    "duration": 8,
    "start_time": "2022-04-24T06:23:14.720Z"
   },
   {
    "duration": 14,
    "start_time": "2022-04-24T06:23:14.730Z"
   },
   {
    "duration": 8,
    "start_time": "2022-04-24T06:23:14.746Z"
   },
   {
    "duration": 13,
    "start_time": "2022-04-24T06:23:14.793Z"
   },
   {
    "duration": 6,
    "start_time": "2022-04-24T06:23:14.807Z"
   },
   {
    "duration": 6,
    "start_time": "2022-04-24T06:23:14.814Z"
   },
   {
    "duration": 12,
    "start_time": "2022-04-24T06:23:14.824Z"
   },
   {
    "duration": 71,
    "start_time": "2022-04-24T06:23:14.838Z"
   },
   {
    "duration": 8,
    "start_time": "2022-04-24T06:23:14.912Z"
   },
   {
    "duration": 15,
    "start_time": "2022-04-24T06:23:14.922Z"
   },
   {
    "duration": 15,
    "start_time": "2022-04-24T06:23:14.939Z"
   },
   {
    "duration": 38,
    "start_time": "2022-04-24T06:23:14.956Z"
   },
   {
    "duration": 14,
    "start_time": "2022-04-24T06:23:14.996Z"
   },
   {
    "duration": 16,
    "start_time": "2022-04-24T06:23:15.013Z"
   },
   {
    "duration": 23,
    "start_time": "2022-04-24T06:23:15.031Z"
   },
   {
    "duration": 37,
    "start_time": "2022-04-24T06:23:15.056Z"
   },
   {
    "duration": 7,
    "start_time": "2022-04-24T06:23:15.095Z"
   },
   {
    "duration": 28,
    "start_time": "2022-04-24T06:23:15.104Z"
   },
   {
    "duration": 27,
    "start_time": "2022-04-24T06:23:15.134Z"
   },
   {
    "duration": 54,
    "start_time": "2022-04-24T06:23:15.163Z"
   },
   {
    "duration": 41,
    "start_time": "2022-04-24T06:23:15.219Z"
   },
   {
    "duration": 6,
    "start_time": "2022-04-24T06:23:15.293Z"
   },
   {
    "duration": 19,
    "start_time": "2022-04-24T06:23:15.300Z"
   },
   {
    "duration": 6,
    "start_time": "2022-04-24T06:23:15.321Z"
   },
   {
    "duration": 14,
    "start_time": "2022-04-24T06:23:15.329Z"
   },
   {
    "duration": 50,
    "start_time": "2022-04-24T06:23:15.345Z"
   },
   {
    "duration": 31,
    "start_time": "2022-04-24T06:23:15.398Z"
   },
   {
    "duration": 20,
    "start_time": "2022-04-24T06:23:15.431Z"
   },
   {
    "duration": 58,
    "start_time": "2022-04-24T06:23:15.453Z"
   },
   {
    "duration": 76,
    "start_time": "2022-04-24T06:24:43.391Z"
   },
   {
    "duration": 668,
    "start_time": "2022-04-24T06:24:46.683Z"
   },
   {
    "duration": 13,
    "start_time": "2022-04-24T06:24:47.354Z"
   },
   {
    "duration": 44,
    "start_time": "2022-04-24T06:24:47.370Z"
   },
   {
    "duration": 13,
    "start_time": "2022-04-24T06:24:47.416Z"
   },
   {
    "duration": 8,
    "start_time": "2022-04-24T06:24:47.432Z"
   },
   {
    "duration": 15,
    "start_time": "2022-04-24T06:24:47.442Z"
   },
   {
    "duration": 35,
    "start_time": "2022-04-24T06:24:47.494Z"
   },
   {
    "duration": 10,
    "start_time": "2022-04-24T06:24:47.531Z"
   },
   {
    "duration": 11,
    "start_time": "2022-04-24T06:24:47.543Z"
   },
   {
    "duration": 42,
    "start_time": "2022-04-24T06:24:47.556Z"
   },
   {
    "duration": 13,
    "start_time": "2022-04-24T06:24:47.600Z"
   },
   {
    "duration": 5,
    "start_time": "2022-04-24T06:24:47.615Z"
   },
   {
    "duration": 5,
    "start_time": "2022-04-24T06:24:47.622Z"
   },
   {
    "duration": 14,
    "start_time": "2022-04-24T06:24:47.632Z"
   },
   {
    "duration": 71,
    "start_time": "2022-04-24T06:24:47.648Z"
   },
   {
    "duration": 8,
    "start_time": "2022-04-24T06:24:47.721Z"
   },
   {
    "duration": 18,
    "start_time": "2022-04-24T06:24:47.731Z"
   },
   {
    "duration": 47,
    "start_time": "2022-04-24T06:24:47.752Z"
   },
   {
    "duration": 16,
    "start_time": "2022-04-24T06:24:47.801Z"
   },
   {
    "duration": 11,
    "start_time": "2022-04-24T06:24:47.819Z"
   },
   {
    "duration": 9,
    "start_time": "2022-04-24T06:24:47.832Z"
   },
   {
    "duration": 15,
    "start_time": "2022-04-24T06:24:47.843Z"
   },
   {
    "duration": 48,
    "start_time": "2022-04-24T06:24:47.860Z"
   },
   {
    "duration": 7,
    "start_time": "2022-04-24T06:24:47.910Z"
   },
   {
    "duration": 32,
    "start_time": "2022-04-24T06:24:47.919Z"
   },
   {
    "duration": 59,
    "start_time": "2022-04-24T06:24:47.954Z"
   },
   {
    "duration": 26,
    "start_time": "2022-04-24T06:24:48.016Z"
   },
   {
    "duration": 66,
    "start_time": "2022-04-24T06:24:48.045Z"
   },
   {
    "duration": 6,
    "start_time": "2022-04-24T06:24:48.114Z"
   },
   {
    "duration": 19,
    "start_time": "2022-04-24T06:24:48.121Z"
   },
   {
    "duration": 9,
    "start_time": "2022-04-24T06:24:48.142Z"
   },
   {
    "duration": 40,
    "start_time": "2022-04-24T06:24:48.153Z"
   },
   {
    "duration": 29,
    "start_time": "2022-04-24T06:24:48.195Z"
   },
   {
    "duration": 31,
    "start_time": "2022-04-24T06:24:48.226Z"
   },
   {
    "duration": 45,
    "start_time": "2022-04-24T06:24:48.259Z"
   },
   {
    "duration": 61,
    "start_time": "2022-04-24T06:24:48.306Z"
   },
   {
    "duration": 27,
    "start_time": "2022-04-24T06:25:13.933Z"
   },
   {
    "duration": 255,
    "start_time": "2022-04-24T06:25:28.509Z"
   },
   {
    "duration": 26,
    "start_time": "2022-04-24T06:27:11.263Z"
   },
   {
    "duration": 28,
    "start_time": "2022-04-24T06:27:29.166Z"
   },
   {
    "duration": 22,
    "start_time": "2022-04-24T06:38:50.554Z"
   },
   {
    "duration": 199,
    "start_time": "2022-04-24T06:39:16.188Z"
   },
   {
    "duration": 19,
    "start_time": "2022-04-24T06:40:29.490Z"
   },
   {
    "duration": 23,
    "start_time": "2022-04-24T06:40:54.071Z"
   },
   {
    "duration": 3225,
    "start_time": "2022-04-24T06:42:20.317Z"
   },
   {
    "duration": 23,
    "start_time": "2022-04-24T06:43:08.085Z"
   },
   {
    "duration": 3223,
    "start_time": "2022-04-24T06:43:20.917Z"
   },
   {
    "duration": 3283,
    "start_time": "2022-04-24T06:43:32.126Z"
   },
   {
    "duration": 3262,
    "start_time": "2022-04-24T06:43:43.191Z"
   },
   {
    "duration": 28,
    "start_time": "2022-04-24T06:44:54.247Z"
   },
   {
    "duration": 25,
    "start_time": "2022-04-24T06:45:10.006Z"
   },
   {
    "duration": 28,
    "start_time": "2022-04-24T06:49:58.274Z"
   },
   {
    "duration": 22,
    "start_time": "2022-04-24T06:51:04.522Z"
   },
   {
    "duration": 24,
    "start_time": "2022-04-24T06:51:14.721Z"
   },
   {
    "duration": 28,
    "start_time": "2022-04-24T06:51:33.336Z"
   },
   {
    "duration": 37,
    "start_time": "2022-04-24T06:52:10.435Z"
   },
   {
    "duration": 5263,
    "start_time": "2022-04-24T06:52:19.499Z"
   },
   {
    "duration": 3298,
    "start_time": "2022-04-24T06:52:36.619Z"
   },
   {
    "duration": 41,
    "start_time": "2022-04-24T06:52:46.262Z"
   },
   {
    "duration": 35,
    "start_time": "2022-04-24T06:54:03.124Z"
   },
   {
    "duration": 33,
    "start_time": "2022-04-24T06:56:44.892Z"
   },
   {
    "duration": 30,
    "start_time": "2022-04-24T06:56:57.844Z"
   },
   {
    "duration": 28,
    "start_time": "2022-04-24T06:57:03.980Z"
   },
   {
    "duration": 34,
    "start_time": "2022-04-24T06:57:28.668Z"
   },
   {
    "duration": 36,
    "start_time": "2022-04-24T06:57:35.748Z"
   },
   {
    "duration": 35,
    "start_time": "2022-04-24T06:57:38.524Z"
   },
   {
    "duration": 35,
    "start_time": "2022-04-24T06:57:45.149Z"
   },
   {
    "duration": 3,
    "start_time": "2022-04-24T06:59:09.475Z"
   },
   {
    "duration": 640,
    "start_time": "2022-04-24T07:16:26.172Z"
   },
   {
    "duration": 634,
    "start_time": "2022-04-24T07:16:38.019Z"
   },
   {
    "duration": 195,
    "start_time": "2022-04-24T07:16:58.117Z"
   },
   {
    "duration": 49,
    "start_time": "2022-04-24T07:17:04.004Z"
   },
   {
    "duration": 189,
    "start_time": "2022-04-24T07:17:25.181Z"
   },
   {
    "duration": 46,
    "start_time": "2022-04-24T07:17:28.804Z"
   },
   {
    "duration": 71,
    "start_time": "2022-04-24T07:17:46.284Z"
   },
   {
    "duration": 34,
    "start_time": "2022-04-24T07:18:03.085Z"
   },
   {
    "duration": 35,
    "start_time": "2022-04-24T07:18:10.277Z"
   },
   {
    "duration": 28,
    "start_time": "2022-04-24T07:18:41.222Z"
   },
   {
    "duration": 36,
    "start_time": "2022-04-24T07:27:22.552Z"
   },
   {
    "duration": 34,
    "start_time": "2022-04-24T07:27:48.471Z"
   },
   {
    "duration": 33,
    "start_time": "2022-04-24T07:27:59.286Z"
   },
   {
    "duration": 661,
    "start_time": "2022-04-24T07:31:12.990Z"
   },
   {
    "duration": 14,
    "start_time": "2022-04-24T07:31:13.654Z"
   },
   {
    "duration": 46,
    "start_time": "2022-04-24T07:31:13.670Z"
   },
   {
    "duration": 13,
    "start_time": "2022-04-24T07:31:13.719Z"
   },
   {
    "duration": 8,
    "start_time": "2022-04-24T07:31:13.735Z"
   },
   {
    "duration": 53,
    "start_time": "2022-04-24T07:31:13.746Z"
   },
   {
    "duration": 32,
    "start_time": "2022-04-24T07:31:13.801Z"
   },
   {
    "duration": 9,
    "start_time": "2022-04-24T07:31:13.835Z"
   },
   {
    "duration": 52,
    "start_time": "2022-04-24T07:31:13.846Z"
   },
   {
    "duration": 9,
    "start_time": "2022-04-24T07:31:13.901Z"
   },
   {
    "duration": 15,
    "start_time": "2022-04-24T07:31:13.912Z"
   },
   {
    "duration": 6,
    "start_time": "2022-04-24T07:31:13.929Z"
   },
   {
    "duration": 7,
    "start_time": "2022-04-24T07:31:13.937Z"
   },
   {
    "duration": 14,
    "start_time": "2022-04-24T07:31:13.994Z"
   },
   {
    "duration": 31,
    "start_time": "2022-04-24T07:31:14.010Z"
   },
   {
    "duration": 9,
    "start_time": "2022-04-24T07:31:14.043Z"
   },
   {
    "duration": 55,
    "start_time": "2022-04-24T07:31:14.054Z"
   },
   {
    "duration": 23,
    "start_time": "2022-04-24T07:31:14.112Z"
   },
   {
    "duration": 10,
    "start_time": "2022-04-24T07:31:14.138Z"
   },
   {
    "duration": 44,
    "start_time": "2022-04-24T07:31:14.151Z"
   },
   {
    "duration": 10,
    "start_time": "2022-04-24T07:31:14.197Z"
   },
   {
    "duration": 14,
    "start_time": "2022-04-24T07:31:14.210Z"
   },
   {
    "duration": 26,
    "start_time": "2022-04-24T07:31:14.227Z"
   },
   {
    "duration": 41,
    "start_time": "2022-04-24T07:31:14.256Z"
   },
   {
    "duration": 30,
    "start_time": "2022-04-24T07:31:14.300Z"
   },
   {
    "duration": 28,
    "start_time": "2022-04-24T07:31:14.332Z"
   },
   {
    "duration": 55,
    "start_time": "2022-04-24T07:31:14.362Z"
   },
   {
    "duration": 44,
    "start_time": "2022-04-24T07:31:14.420Z"
   },
   {
    "duration": 7,
    "start_time": "2022-04-24T07:31:14.494Z"
   },
   {
    "duration": 17,
    "start_time": "2022-04-24T07:31:14.504Z"
   },
   {
    "duration": 9,
    "start_time": "2022-04-24T07:31:14.523Z"
   },
   {
    "duration": 15,
    "start_time": "2022-04-24T07:31:14.534Z"
   },
   {
    "duration": 64,
    "start_time": "2022-04-24T07:31:14.552Z"
   },
   {
    "duration": 35,
    "start_time": "2022-04-24T07:31:14.619Z"
   },
   {
    "duration": 188,
    "start_time": "2022-04-24T07:31:14.656Z"
   },
   {
    "duration": 0,
    "start_time": "2022-04-24T07:31:14.847Z"
   },
   {
    "duration": 0,
    "start_time": "2022-04-24T07:31:14.849Z"
   },
   {
    "duration": 0,
    "start_time": "2022-04-24T07:31:14.851Z"
   },
   {
    "duration": 666,
    "start_time": "2022-04-24T07:31:42.455Z"
   },
   {
    "duration": 14,
    "start_time": "2022-04-24T07:31:43.123Z"
   },
   {
    "duration": 56,
    "start_time": "2022-04-24T07:31:43.140Z"
   },
   {
    "duration": 16,
    "start_time": "2022-04-24T07:31:43.198Z"
   },
   {
    "duration": 9,
    "start_time": "2022-04-24T07:31:43.218Z"
   },
   {
    "duration": 63,
    "start_time": "2022-04-24T07:31:43.230Z"
   },
   {
    "duration": 51,
    "start_time": "2022-04-24T07:31:43.297Z"
   },
   {
    "duration": 10,
    "start_time": "2022-04-24T07:31:43.351Z"
   },
   {
    "duration": 39,
    "start_time": "2022-04-24T07:31:43.364Z"
   },
   {
    "duration": 12,
    "start_time": "2022-04-24T07:31:43.406Z"
   },
   {
    "duration": 13,
    "start_time": "2022-04-24T07:31:43.421Z"
   },
   {
    "duration": 6,
    "start_time": "2022-04-24T07:31:43.437Z"
   },
   {
    "duration": 6,
    "start_time": "2022-04-24T07:31:43.493Z"
   },
   {
    "duration": 14,
    "start_time": "2022-04-24T07:31:43.504Z"
   },
   {
    "duration": 30,
    "start_time": "2022-04-24T07:31:43.521Z"
   },
   {
    "duration": 47,
    "start_time": "2022-04-24T07:31:43.553Z"
   },
   {
    "duration": 15,
    "start_time": "2022-04-24T07:31:43.602Z"
   },
   {
    "duration": 15,
    "start_time": "2022-04-24T07:31:43.619Z"
   },
   {
    "duration": 11,
    "start_time": "2022-04-24T07:31:43.637Z"
   },
   {
    "duration": 48,
    "start_time": "2022-04-24T07:31:43.650Z"
   },
   {
    "duration": 10,
    "start_time": "2022-04-24T07:31:43.700Z"
   },
   {
    "duration": 14,
    "start_time": "2022-04-24T07:31:43.713Z"
   },
   {
    "duration": 18,
    "start_time": "2022-04-24T07:31:43.730Z"
   },
   {
    "duration": 43,
    "start_time": "2022-04-24T07:31:43.750Z"
   },
   {
    "duration": 30,
    "start_time": "2022-04-24T07:31:43.796Z"
   },
   {
    "duration": 29,
    "start_time": "2022-04-24T07:31:43.828Z"
   },
   {
    "duration": 56,
    "start_time": "2022-04-24T07:31:43.859Z"
   },
   {
    "duration": 55,
    "start_time": "2022-04-24T07:31:43.917Z"
   },
   {
    "duration": 22,
    "start_time": "2022-04-24T07:31:43.974Z"
   },
   {
    "duration": 31,
    "start_time": "2022-04-24T07:31:43.998Z"
   },
   {
    "duration": 7,
    "start_time": "2022-04-24T07:31:44.031Z"
   },
   {
    "duration": 16,
    "start_time": "2022-04-24T07:31:44.040Z"
   },
   {
    "duration": 36,
    "start_time": "2022-04-24T07:31:44.058Z"
   },
   {
    "duration": 38,
    "start_time": "2022-04-24T07:31:44.097Z"
   },
   {
    "duration": 61,
    "start_time": "2022-04-24T07:31:44.137Z"
   },
   {
    "duration": 33,
    "start_time": "2022-04-24T07:31:44.200Z"
   },
   {
    "duration": 60,
    "start_time": "2022-04-24T07:31:44.236Z"
   },
   {
    "duration": 197,
    "start_time": "2022-04-24T07:38:05.837Z"
   },
   {
    "duration": 198,
    "start_time": "2022-04-24T07:38:16.276Z"
   },
   {
    "duration": 203,
    "start_time": "2022-04-24T07:39:53.398Z"
   },
   {
    "duration": 201,
    "start_time": "2022-04-24T07:39:58.845Z"
   },
   {
    "duration": 1060,
    "start_time": "2022-04-24T07:40:09.052Z"
   },
   {
    "duration": 22,
    "start_time": "2022-04-24T07:40:14.284Z"
   },
   {
    "duration": 38,
    "start_time": "2022-04-24T07:40:25.031Z"
   },
   {
    "duration": 37,
    "start_time": "2022-04-24T07:40:31.149Z"
   },
   {
    "duration": 209,
    "start_time": "2022-04-24T07:40:46.268Z"
   },
   {
    "duration": 52,
    "start_time": "2022-04-24T07:40:55.078Z"
   },
   {
    "duration": 56,
    "start_time": "2022-04-24T07:41:43.358Z"
   },
   {
    "duration": 53,
    "start_time": "2022-04-24T07:41:54.728Z"
   },
   {
    "duration": 66,
    "start_time": "2022-04-24T07:42:40.806Z"
   },
   {
    "duration": 719,
    "start_time": "2022-04-24T07:55:04.958Z"
   },
   {
    "duration": 18,
    "start_time": "2022-04-24T07:55:05.680Z"
   },
   {
    "duration": 30,
    "start_time": "2022-04-24T07:55:05.700Z"
   },
   {
    "duration": 13,
    "start_time": "2022-04-24T07:55:05.732Z"
   },
   {
    "duration": 46,
    "start_time": "2022-04-24T07:55:05.748Z"
   },
   {
    "duration": 16,
    "start_time": "2022-04-24T07:55:05.797Z"
   },
   {
    "duration": 38,
    "start_time": "2022-04-24T07:55:05.818Z"
   },
   {
    "duration": 10,
    "start_time": "2022-04-24T07:55:05.894Z"
   },
   {
    "duration": 13,
    "start_time": "2022-04-24T07:55:05.907Z"
   },
   {
    "duration": 9,
    "start_time": "2022-04-24T07:55:05.922Z"
   },
   {
    "duration": 60,
    "start_time": "2022-04-24T07:55:05.934Z"
   },
   {
    "duration": 6,
    "start_time": "2022-04-24T07:55:05.996Z"
   },
   {
    "duration": 7,
    "start_time": "2022-04-24T07:55:06.004Z"
   },
   {
    "duration": 15,
    "start_time": "2022-04-24T07:55:06.013Z"
   },
   {
    "duration": 63,
    "start_time": "2022-04-24T07:55:06.030Z"
   },
   {
    "duration": 9,
    "start_time": "2022-04-24T07:55:06.095Z"
   },
   {
    "duration": 19,
    "start_time": "2022-04-24T07:55:06.106Z"
   },
   {
    "duration": 17,
    "start_time": "2022-04-24T07:55:06.127Z"
   },
   {
    "duration": 8,
    "start_time": "2022-04-24T07:55:06.146Z"
   },
   {
    "duration": 43,
    "start_time": "2022-04-24T07:55:06.156Z"
   },
   {
    "duration": 9,
    "start_time": "2022-04-24T07:55:06.201Z"
   },
   {
    "duration": 13,
    "start_time": "2022-04-24T07:55:06.212Z"
   },
   {
    "duration": 17,
    "start_time": "2022-04-24T07:55:06.227Z"
   },
   {
    "duration": 47,
    "start_time": "2022-04-24T07:55:06.247Z"
   },
   {
    "duration": 29,
    "start_time": "2022-04-24T07:55:06.296Z"
   },
   {
    "duration": 27,
    "start_time": "2022-04-24T07:55:06.328Z"
   },
   {
    "duration": 53,
    "start_time": "2022-04-24T07:55:06.357Z"
   },
   {
    "duration": 42,
    "start_time": "2022-04-24T07:55:06.415Z"
   },
   {
    "duration": 5,
    "start_time": "2022-04-24T07:55:06.459Z"
   },
   {
    "duration": 14,
    "start_time": "2022-04-24T07:55:06.494Z"
   },
   {
    "duration": 14,
    "start_time": "2022-04-24T07:55:06.510Z"
   },
   {
    "duration": 73,
    "start_time": "2022-04-24T07:55:06.526Z"
   },
   {
    "duration": 37,
    "start_time": "2022-04-24T07:55:06.601Z"
   },
   {
    "duration": 44,
    "start_time": "2022-04-24T07:55:06.640Z"
   },
   {
    "duration": 30,
    "start_time": "2022-04-24T07:55:06.686Z"
   },
   {
    "duration": 32,
    "start_time": "2022-04-24T07:55:06.718Z"
   },
   {
    "duration": 63,
    "start_time": "2022-04-24T07:55:06.752Z"
   },
   {
    "duration": 5,
    "start_time": "2022-04-24T07:57:09.803Z"
   },
   {
    "duration": 612,
    "start_time": "2022-04-24T07:57:17.740Z"
   },
   {
    "duration": 15,
    "start_time": "2022-04-24T07:57:18.356Z"
   },
   {
    "duration": 44,
    "start_time": "2022-04-24T07:57:18.373Z"
   },
   {
    "duration": 13,
    "start_time": "2022-04-24T07:57:18.421Z"
   },
   {
    "duration": 9,
    "start_time": "2022-04-24T07:57:18.437Z"
   },
   {
    "duration": 57,
    "start_time": "2022-04-24T07:57:18.448Z"
   },
   {
    "duration": 35,
    "start_time": "2022-04-24T07:57:18.507Z"
   },
   {
    "duration": 8,
    "start_time": "2022-04-24T07:57:18.544Z"
   },
   {
    "duration": 11,
    "start_time": "2022-04-24T07:57:18.594Z"
   },
   {
    "duration": 9,
    "start_time": "2022-04-24T07:57:18.608Z"
   },
   {
    "duration": 14,
    "start_time": "2022-04-24T07:57:18.619Z"
   },
   {
    "duration": 6,
    "start_time": "2022-04-24T07:57:18.635Z"
   },
   {
    "duration": 50,
    "start_time": "2022-04-24T07:57:18.643Z"
   },
   {
    "duration": 612,
    "start_time": "2022-04-24T07:57:35.881Z"
   },
   {
    "duration": 14,
    "start_time": "2022-04-24T07:57:36.495Z"
   },
   {
    "duration": 26,
    "start_time": "2022-04-24T07:57:36.511Z"
   },
   {
    "duration": 13,
    "start_time": "2022-04-24T07:57:36.541Z"
   },
   {
    "duration": 10,
    "start_time": "2022-04-24T07:57:36.592Z"
   },
   {
    "duration": 16,
    "start_time": "2022-04-24T07:57:36.605Z"
   },
   {
    "duration": 78,
    "start_time": "2022-04-24T07:57:36.623Z"
   },
   {
    "duration": 10,
    "start_time": "2022-04-24T07:57:36.704Z"
   },
   {
    "duration": 10,
    "start_time": "2022-04-24T07:57:36.717Z"
   },
   {
    "duration": 9,
    "start_time": "2022-04-24T07:57:36.731Z"
   },
   {
    "duration": 61,
    "start_time": "2022-04-24T07:57:36.742Z"
   },
   {
    "duration": 8,
    "start_time": "2022-04-24T07:57:36.805Z"
   },
   {
    "duration": 5,
    "start_time": "2022-04-24T07:57:47.795Z"
   },
   {
    "duration": 906,
    "start_time": "2022-04-24T07:58:58.180Z"
   },
   {
    "duration": 782,
    "start_time": "2022-04-24T07:59:16.951Z"
   },
   {
    "duration": 106,
    "start_time": "2022-04-24T07:59:22.374Z"
   },
   {
    "duration": 5,
    "start_time": "2022-04-24T07:59:53.644Z"
   },
   {
    "duration": 800,
    "start_time": "2022-04-24T07:59:56.221Z"
   },
   {
    "duration": 10,
    "start_time": "2022-04-24T08:00:22.877Z"
   },
   {
    "duration": 5,
    "start_time": "2022-04-24T08:00:43.528Z"
   },
   {
    "duration": 14,
    "start_time": "2022-04-24T08:00:57.680Z"
   },
   {
    "duration": 13,
    "start_time": "2022-04-24T08:01:06.264Z"
   },
   {
    "duration": 37,
    "start_time": "2022-04-24T08:01:14.273Z"
   },
   {
    "duration": 22,
    "start_time": "2022-04-24T08:01:30.693Z"
   },
   {
    "duration": 115,
    "start_time": "2022-04-24T08:01:41.814Z"
   },
   {
    "duration": 15,
    "start_time": "2022-04-24T08:01:58.181Z"
   },
   {
    "duration": 14,
    "start_time": "2022-04-24T08:03:42.527Z"
   },
   {
    "duration": 35,
    "start_time": "2022-04-24T08:03:55.727Z"
   },
   {
    "duration": 5,
    "start_time": "2022-04-24T08:04:21.448Z"
   },
   {
    "duration": 31,
    "start_time": "2022-04-24T08:04:24.150Z"
   },
   {
    "duration": 14,
    "start_time": "2022-04-24T08:04:31.520Z"
   },
   {
    "duration": 13,
    "start_time": "2022-04-24T08:04:43.073Z"
   },
   {
    "duration": 14,
    "start_time": "2022-04-24T08:05:00.056Z"
   },
   {
    "duration": 10,
    "start_time": "2022-04-24T08:05:12.689Z"
   },
   {
    "duration": 15,
    "start_time": "2022-04-24T08:05:41.269Z"
   },
   {
    "duration": 48,
    "start_time": "2022-04-24T08:05:48.469Z"
   },
   {
    "duration": 39,
    "start_time": "2022-04-24T08:06:02.293Z"
   },
   {
    "duration": 4,
    "start_time": "2022-04-24T08:06:39.575Z"
   },
   {
    "duration": 36,
    "start_time": "2022-04-24T08:06:42.413Z"
   },
   {
    "duration": 189,
    "start_time": "2022-04-24T08:07:06.535Z"
   },
   {
    "duration": 34,
    "start_time": "2022-04-24T08:07:13.396Z"
   },
   {
    "duration": 9,
    "start_time": "2022-04-24T08:08:59.499Z"
   },
   {
    "duration": 39,
    "start_time": "2022-04-24T08:09:06.480Z"
   },
   {
    "duration": 20,
    "start_time": "2022-04-24T08:09:25.178Z"
   },
   {
    "duration": 201,
    "start_time": "2022-04-24T08:34:21.170Z"
   },
   {
    "duration": 7,
    "start_time": "2022-04-24T08:34:25.899Z"
   },
   {
    "duration": 659,
    "start_time": "2022-04-24T08:34:57.466Z"
   },
   {
    "duration": 14,
    "start_time": "2022-04-24T08:34:58.128Z"
   },
   {
    "duration": 30,
    "start_time": "2022-04-24T08:34:58.144Z"
   },
   {
    "duration": 13,
    "start_time": "2022-04-24T08:34:58.194Z"
   },
   {
    "duration": 10,
    "start_time": "2022-04-24T08:34:58.209Z"
   },
   {
    "duration": 14,
    "start_time": "2022-04-24T08:34:58.221Z"
   },
   {
    "duration": 74,
    "start_time": "2022-04-24T08:34:58.238Z"
   },
   {
    "duration": 10,
    "start_time": "2022-04-24T08:34:58.315Z"
   },
   {
    "duration": 12,
    "start_time": "2022-04-24T08:34:58.328Z"
   },
   {
    "duration": 49,
    "start_time": "2022-04-24T08:34:58.346Z"
   },
   {
    "duration": 17,
    "start_time": "2022-04-24T08:34:58.398Z"
   },
   {
    "duration": 6,
    "start_time": "2022-04-24T08:34:58.417Z"
   },
   {
    "duration": 5,
    "start_time": "2022-04-24T08:34:58.426Z"
   },
   {
    "duration": 61,
    "start_time": "2022-04-24T08:34:58.433Z"
   },
   {
    "duration": 14,
    "start_time": "2022-04-24T08:34:58.497Z"
   },
   {
    "duration": 32,
    "start_time": "2022-04-24T08:34:58.513Z"
   },
   {
    "duration": 48,
    "start_time": "2022-04-24T08:34:58.547Z"
   },
   {
    "duration": 19,
    "start_time": "2022-04-24T08:34:58.597Z"
   },
   {
    "duration": 16,
    "start_time": "2022-04-24T08:34:58.619Z"
   },
   {
    "duration": 8,
    "start_time": "2022-04-24T08:34:58.638Z"
   },
   {
    "duration": 45,
    "start_time": "2022-04-24T08:34:58.648Z"
   },
   {
    "duration": 10,
    "start_time": "2022-04-24T08:34:58.695Z"
   },
   {
    "duration": 14,
    "start_time": "2022-04-24T08:34:58.707Z"
   },
   {
    "duration": 17,
    "start_time": "2022-04-24T08:34:58.723Z"
   },
   {
    "duration": 8,
    "start_time": "2022-04-24T08:34:58.743Z"
   },
   {
    "duration": 65,
    "start_time": "2022-04-24T08:34:58.753Z"
   },
   {
    "duration": 27,
    "start_time": "2022-04-24T08:34:58.820Z"
   },
   {
    "duration": 50,
    "start_time": "2022-04-24T08:34:58.851Z"
   },
   {
    "duration": 45,
    "start_time": "2022-04-24T08:34:58.903Z"
   },
   {
    "duration": 5,
    "start_time": "2022-04-24T08:34:58.950Z"
   },
   {
    "duration": 43,
    "start_time": "2022-04-24T08:34:58.957Z"
   },
   {
    "duration": 6,
    "start_time": "2022-04-24T08:34:59.003Z"
   },
   {
    "duration": 18,
    "start_time": "2022-04-24T08:34:59.011Z"
   },
   {
    "duration": 26,
    "start_time": "2022-04-24T08:34:59.031Z"
   },
   {
    "duration": 67,
    "start_time": "2022-04-24T08:34:59.060Z"
   },
   {
    "duration": 30,
    "start_time": "2022-04-24T08:34:59.129Z"
   },
   {
    "duration": 61,
    "start_time": "2022-04-24T08:34:59.162Z"
   },
   {
    "duration": 34,
    "start_time": "2022-04-24T08:34:59.227Z"
   },
   {
    "duration": 628,
    "start_time": "2022-04-24T08:37:08.487Z"
   },
   {
    "duration": 13,
    "start_time": "2022-04-24T08:37:09.118Z"
   },
   {
    "duration": 29,
    "start_time": "2022-04-24T08:37:09.133Z"
   },
   {
    "duration": 37,
    "start_time": "2022-04-24T08:37:09.164Z"
   },
   {
    "duration": 8,
    "start_time": "2022-04-24T08:37:09.203Z"
   },
   {
    "duration": 13,
    "start_time": "2022-04-24T08:37:09.213Z"
   },
   {
    "duration": 74,
    "start_time": "2022-04-24T08:37:09.228Z"
   },
   {
    "duration": 11,
    "start_time": "2022-04-24T08:37:09.304Z"
   },
   {
    "duration": 11,
    "start_time": "2022-04-24T08:37:09.317Z"
   },
   {
    "duration": 8,
    "start_time": "2022-04-24T08:37:09.332Z"
   },
   {
    "duration": 57,
    "start_time": "2022-04-24T08:37:09.343Z"
   },
   {
    "duration": 6,
    "start_time": "2022-04-24T08:37:09.402Z"
   },
   {
    "duration": 8,
    "start_time": "2022-04-24T08:37:09.410Z"
   },
   {
    "duration": 20,
    "start_time": "2022-04-24T08:37:09.420Z"
   },
   {
    "duration": 13,
    "start_time": "2022-04-24T08:37:09.442Z"
   },
   {
    "duration": 60,
    "start_time": "2022-04-24T08:37:09.457Z"
   },
   {
    "duration": 9,
    "start_time": "2022-04-24T08:37:09.519Z"
   },
   {
    "duration": 14,
    "start_time": "2022-04-24T08:37:09.530Z"
   },
   {
    "duration": 55,
    "start_time": "2022-04-24T08:37:09.546Z"
   },
   {
    "duration": 8,
    "start_time": "2022-04-24T08:37:09.603Z"
   },
   {
    "duration": 13,
    "start_time": "2022-04-24T08:37:09.613Z"
   },
   {
    "duration": 11,
    "start_time": "2022-04-24T08:37:09.629Z"
   },
   {
    "duration": 50,
    "start_time": "2022-04-24T08:37:09.643Z"
   },
   {
    "duration": 27,
    "start_time": "2022-04-24T08:37:09.696Z"
   },
   {
    "duration": 9,
    "start_time": "2022-04-24T08:37:09.726Z"
   },
   {
    "duration": 56,
    "start_time": "2022-04-24T08:37:09.738Z"
   },
   {
    "duration": 31,
    "start_time": "2022-04-24T08:37:09.796Z"
   },
   {
    "duration": 26,
    "start_time": "2022-04-24T08:37:09.834Z"
   },
   {
    "duration": 74,
    "start_time": "2022-04-24T08:37:09.862Z"
   },
   {
    "duration": 6,
    "start_time": "2022-04-24T08:37:09.939Z"
   },
   {
    "duration": 50,
    "start_time": "2022-04-24T08:37:09.947Z"
   },
   {
    "duration": 5,
    "start_time": "2022-04-24T08:37:09.999Z"
   },
   {
    "duration": 24,
    "start_time": "2022-04-24T08:37:10.007Z"
   },
   {
    "duration": 30,
    "start_time": "2022-04-24T08:37:10.033Z"
   },
   {
    "duration": 60,
    "start_time": "2022-04-24T08:37:10.066Z"
   },
   {
    "duration": 29,
    "start_time": "2022-04-24T08:37:10.129Z"
   },
   {
    "duration": 58,
    "start_time": "2022-04-24T08:37:10.160Z"
   },
   {
    "duration": 33,
    "start_time": "2022-04-24T08:37:10.220Z"
   },
   {
    "duration": 6,
    "start_time": "2022-04-24T08:40:47.026Z"
   },
   {
    "duration": 6,
    "start_time": "2022-04-24T08:40:48.306Z"
   },
   {
    "duration": 14,
    "start_time": "2022-04-24T08:40:51.707Z"
   },
   {
    "duration": 602,
    "start_time": "2022-04-24T08:43:05.505Z"
   },
   {
    "duration": 13,
    "start_time": "2022-04-24T08:43:06.109Z"
   },
   {
    "duration": 36,
    "start_time": "2022-04-24T08:43:06.124Z"
   },
   {
    "duration": 12,
    "start_time": "2022-04-24T08:43:06.163Z"
   },
   {
    "duration": 20,
    "start_time": "2022-04-24T08:43:06.177Z"
   },
   {
    "duration": 28,
    "start_time": "2022-04-24T08:43:06.200Z"
   },
   {
    "duration": 34,
    "start_time": "2022-04-24T08:43:06.230Z"
   },
   {
    "duration": 29,
    "start_time": "2022-04-24T08:43:06.266Z"
   },
   {
    "duration": 11,
    "start_time": "2022-04-24T08:43:06.297Z"
   },
   {
    "duration": 25,
    "start_time": "2022-04-24T08:43:06.312Z"
   },
   {
    "duration": 12,
    "start_time": "2022-04-24T08:43:06.340Z"
   },
   {
    "duration": 11,
    "start_time": "2022-04-24T08:43:06.354Z"
   },
   {
    "duration": 31,
    "start_time": "2022-04-24T08:43:06.366Z"
   },
   {
    "duration": 14,
    "start_time": "2022-04-24T08:43:06.399Z"
   },
   {
    "duration": 27,
    "start_time": "2022-04-24T08:43:06.415Z"
   },
   {
    "duration": 8,
    "start_time": "2022-04-24T08:43:06.444Z"
   },
   {
    "duration": 14,
    "start_time": "2022-04-24T08:43:06.494Z"
   },
   {
    "duration": 19,
    "start_time": "2022-04-24T08:43:06.511Z"
   },
   {
    "duration": 24,
    "start_time": "2022-04-24T08:43:06.533Z"
   },
   {
    "duration": 17,
    "start_time": "2022-04-24T08:43:06.560Z"
   },
   {
    "duration": 22,
    "start_time": "2022-04-24T08:43:06.579Z"
   },
   {
    "duration": 15,
    "start_time": "2022-04-24T08:43:06.603Z"
   },
   {
    "duration": 27,
    "start_time": "2022-04-24T08:43:06.620Z"
   },
   {
    "duration": 19,
    "start_time": "2022-04-24T08:43:06.649Z"
   },
   {
    "duration": 44,
    "start_time": "2022-04-24T08:43:06.670Z"
   },
   {
    "duration": 30,
    "start_time": "2022-04-24T08:43:06.716Z"
   },
   {
    "duration": 47,
    "start_time": "2022-04-24T08:43:06.748Z"
   },
   {
    "duration": 44,
    "start_time": "2022-04-24T08:43:06.801Z"
   },
   {
    "duration": 5,
    "start_time": "2022-04-24T08:43:06.847Z"
   },
   {
    "duration": 46,
    "start_time": "2022-04-24T08:43:06.855Z"
   },
   {
    "duration": 16,
    "start_time": "2022-04-24T08:43:06.903Z"
   },
   {
    "duration": 24,
    "start_time": "2022-04-24T08:43:06.922Z"
   },
   {
    "duration": 30,
    "start_time": "2022-04-24T08:43:06.948Z"
   },
   {
    "duration": 44,
    "start_time": "2022-04-24T08:43:06.981Z"
   },
   {
    "duration": 43,
    "start_time": "2022-04-24T08:43:07.028Z"
   },
   {
    "duration": 62,
    "start_time": "2022-04-24T08:43:07.073Z"
   },
   {
    "duration": 69,
    "start_time": "2022-04-24T08:43:07.137Z"
   },
   {
    "duration": 109,
    "start_time": "2022-04-24T08:46:05.454Z"
   },
   {
    "duration": 34,
    "start_time": "2022-04-24T08:46:05.566Z"
   },
   {
    "duration": 25,
    "start_time": "2022-04-24T08:46:05.603Z"
   },
   {
    "duration": 14,
    "start_time": "2022-04-24T08:46:05.631Z"
   },
   {
    "duration": 12,
    "start_time": "2022-04-24T08:46:05.647Z"
   },
   {
    "duration": 15,
    "start_time": "2022-04-24T08:46:05.693Z"
   },
   {
    "duration": 31,
    "start_time": "2022-04-24T08:46:05.710Z"
   },
   {
    "duration": 8,
    "start_time": "2022-04-24T08:46:05.744Z"
   },
   {
    "duration": 11,
    "start_time": "2022-04-24T08:46:05.794Z"
   },
   {
    "duration": 9,
    "start_time": "2022-04-24T08:46:05.808Z"
   },
   {
    "duration": 12,
    "start_time": "2022-04-24T08:46:05.819Z"
   },
   {
    "duration": 5,
    "start_time": "2022-04-24T08:46:05.833Z"
   },
   {
    "duration": 13,
    "start_time": "2022-04-24T08:46:05.840Z"
   },
   {
    "duration": 21,
    "start_time": "2022-04-24T08:46:05.893Z"
   },
   {
    "duration": 29,
    "start_time": "2022-04-24T08:46:05.916Z"
   },
   {
    "duration": 9,
    "start_time": "2022-04-24T08:46:05.947Z"
   },
   {
    "duration": 48,
    "start_time": "2022-04-24T08:46:05.958Z"
   },
   {
    "duration": 15,
    "start_time": "2022-04-24T08:46:06.009Z"
   },
   {
    "duration": 12,
    "start_time": "2022-04-24T08:46:06.026Z"
   },
   {
    "duration": 13,
    "start_time": "2022-04-24T08:46:06.041Z"
   },
   {
    "duration": 42,
    "start_time": "2022-04-24T08:46:06.056Z"
   },
   {
    "duration": 19,
    "start_time": "2022-04-24T08:46:06.101Z"
   },
   {
    "duration": 27,
    "start_time": "2022-04-24T08:46:06.123Z"
   },
   {
    "duration": 41,
    "start_time": "2022-04-24T08:46:06.152Z"
   },
   {
    "duration": 42,
    "start_time": "2022-04-24T08:46:06.195Z"
   },
   {
    "duration": 53,
    "start_time": "2022-04-24T08:46:06.240Z"
   },
   {
    "duration": 28,
    "start_time": "2022-04-24T08:46:06.296Z"
   },
   {
    "duration": 71,
    "start_time": "2022-04-24T08:46:06.329Z"
   },
   {
    "duration": 5,
    "start_time": "2022-04-24T08:46:06.402Z"
   },
   {
    "duration": 21,
    "start_time": "2022-04-24T08:46:06.409Z"
   },
   {
    "duration": 4,
    "start_time": "2022-04-24T08:46:06.432Z"
   },
   {
    "duration": 19,
    "start_time": "2022-04-24T08:46:06.438Z"
   },
   {
    "duration": 54,
    "start_time": "2022-04-24T08:46:06.459Z"
   },
   {
    "duration": 46,
    "start_time": "2022-04-24T08:46:06.515Z"
   },
   {
    "duration": 46,
    "start_time": "2022-04-24T08:46:06.563Z"
   },
   {
    "duration": 32,
    "start_time": "2022-04-24T08:46:06.611Z"
   },
   {
    "duration": 61,
    "start_time": "2022-04-24T08:46:06.646Z"
   },
   {
    "duration": 675,
    "start_time": "2022-04-24T08:46:20.330Z"
   },
   {
    "duration": 14,
    "start_time": "2022-04-24T08:46:21.007Z"
   },
   {
    "duration": 26,
    "start_time": "2022-04-24T08:46:21.024Z"
   },
   {
    "duration": 13,
    "start_time": "2022-04-24T08:46:21.052Z"
   },
   {
    "duration": 30,
    "start_time": "2022-04-24T08:46:21.069Z"
   },
   {
    "duration": 16,
    "start_time": "2022-04-24T08:46:21.102Z"
   },
   {
    "duration": 75,
    "start_time": "2022-04-24T08:46:21.121Z"
   },
   {
    "duration": 8,
    "start_time": "2022-04-24T08:46:21.198Z"
   },
   {
    "duration": 15,
    "start_time": "2022-04-24T08:46:21.208Z"
   },
   {
    "duration": 11,
    "start_time": "2022-04-24T08:46:21.226Z"
   },
   {
    "duration": 55,
    "start_time": "2022-04-24T08:46:21.240Z"
   },
   {
    "duration": 6,
    "start_time": "2022-04-24T08:46:21.297Z"
   },
   {
    "duration": 6,
    "start_time": "2022-04-24T08:46:21.305Z"
   },
   {
    "duration": 13,
    "start_time": "2022-04-24T08:46:21.315Z"
   },
   {
    "duration": 68,
    "start_time": "2022-04-24T08:46:21.330Z"
   },
   {
    "duration": 9,
    "start_time": "2022-04-24T08:46:21.401Z"
   },
   {
    "duration": 16,
    "start_time": "2022-04-24T08:46:21.412Z"
   },
   {
    "duration": 16,
    "start_time": "2022-04-24T08:46:21.430Z"
   },
   {
    "duration": 48,
    "start_time": "2022-04-24T08:46:21.449Z"
   },
   {
    "duration": 12,
    "start_time": "2022-04-24T08:46:21.499Z"
   },
   {
    "duration": 10,
    "start_time": "2022-04-24T08:46:21.513Z"
   },
   {
    "duration": 17,
    "start_time": "2022-04-24T08:46:21.525Z"
   },
   {
    "duration": 62,
    "start_time": "2022-04-24T08:46:21.544Z"
   },
   {
    "duration": 8,
    "start_time": "2022-04-24T08:46:21.609Z"
   },
   {
    "duration": 40,
    "start_time": "2022-04-24T08:46:21.620Z"
   },
   {
    "duration": 57,
    "start_time": "2022-04-24T08:46:21.663Z"
   },
   {
    "duration": 24,
    "start_time": "2022-04-24T08:46:21.723Z"
   },
   {
    "duration": 66,
    "start_time": "2022-04-24T08:46:21.749Z"
   },
   {
    "duration": 5,
    "start_time": "2022-04-24T08:46:21.817Z"
   },
   {
    "duration": 29,
    "start_time": "2022-04-24T08:46:21.824Z"
   },
   {
    "duration": 6,
    "start_time": "2022-04-24T08:46:21.855Z"
   },
   {
    "duration": 39,
    "start_time": "2022-04-24T08:46:21.863Z"
   },
   {
    "duration": 25,
    "start_time": "2022-04-24T08:46:21.904Z"
   },
   {
    "duration": 68,
    "start_time": "2022-04-24T08:46:21.931Z"
   },
   {
    "duration": 29,
    "start_time": "2022-04-24T08:46:22.001Z"
   },
   {
    "duration": 65,
    "start_time": "2022-04-24T08:46:22.032Z"
   },
   {
    "duration": 33,
    "start_time": "2022-04-24T08:46:22.098Z"
   },
   {
    "duration": 211,
    "start_time": "2022-04-24T08:53:51.418Z"
   },
   {
    "duration": 13,
    "start_time": "2022-04-24T08:53:51.632Z"
   },
   {
    "duration": 49,
    "start_time": "2022-04-24T08:53:51.647Z"
   },
   {
    "duration": 12,
    "start_time": "2022-04-24T08:53:51.699Z"
   },
   {
    "duration": 9,
    "start_time": "2022-04-24T08:53:51.713Z"
   },
   {
    "duration": 14,
    "start_time": "2022-04-24T08:53:51.724Z"
   },
   {
    "duration": 78,
    "start_time": "2022-04-24T08:53:51.740Z"
   },
   {
    "duration": 8,
    "start_time": "2022-04-24T08:53:51.820Z"
   },
   {
    "duration": 12,
    "start_time": "2022-04-24T08:53:51.830Z"
   },
   {
    "duration": 8,
    "start_time": "2022-04-24T08:53:51.846Z"
   },
   {
    "duration": 47,
    "start_time": "2022-04-24T08:53:51.856Z"
   },
   {
    "duration": 10,
    "start_time": "2022-04-24T08:53:51.906Z"
   },
   {
    "duration": 11,
    "start_time": "2022-04-24T08:53:51.918Z"
   },
   {
    "duration": 23,
    "start_time": "2022-04-24T08:53:51.932Z"
   },
   {
    "duration": 70,
    "start_time": "2022-04-24T08:53:51.957Z"
   },
   {
    "duration": 9,
    "start_time": "2022-04-24T08:53:52.029Z"
   },
   {
    "duration": 15,
    "start_time": "2022-04-24T08:53:52.040Z"
   },
   {
    "duration": 47,
    "start_time": "2022-04-24T08:53:52.058Z"
   },
   {
    "duration": 12,
    "start_time": "2022-04-24T08:53:52.107Z"
   },
   {
    "duration": 12,
    "start_time": "2022-04-24T08:53:52.121Z"
   },
   {
    "duration": 9,
    "start_time": "2022-04-24T08:53:52.136Z"
   },
   {
    "duration": 53,
    "start_time": "2022-04-24T08:53:52.147Z"
   },
   {
    "duration": 18,
    "start_time": "2022-04-24T08:53:52.202Z"
   },
   {
    "duration": 10,
    "start_time": "2022-04-24T08:53:52.222Z"
   },
   {
    "duration": 36,
    "start_time": "2022-04-24T08:53:52.234Z"
   },
   {
    "duration": 30,
    "start_time": "2022-04-24T08:53:52.293Z"
   },
   {
    "duration": 26,
    "start_time": "2022-04-24T08:53:52.325Z"
   },
   {
    "duration": 73,
    "start_time": "2022-04-24T08:53:52.355Z"
   },
   {
    "duration": 4,
    "start_time": "2022-04-24T08:53:52.431Z"
   },
   {
    "duration": 21,
    "start_time": "2022-04-24T08:53:52.437Z"
   },
   {
    "duration": 5,
    "start_time": "2022-04-24T08:53:52.460Z"
   },
   {
    "duration": 38,
    "start_time": "2022-04-24T08:53:52.467Z"
   },
   {
    "duration": 27,
    "start_time": "2022-04-24T08:53:52.507Z"
   },
   {
    "duration": 79,
    "start_time": "2022-04-24T08:53:52.536Z"
   },
   {
    "duration": 30,
    "start_time": "2022-04-24T08:53:52.618Z"
   },
   {
    "duration": 60,
    "start_time": "2022-04-24T08:53:52.650Z"
   },
   {
    "duration": 33,
    "start_time": "2022-04-24T08:53:52.713Z"
   },
   {
    "duration": 632,
    "start_time": "2022-04-24T08:54:46.262Z"
   },
   {
    "duration": 16,
    "start_time": "2022-04-24T08:54:46.896Z"
   },
   {
    "duration": 26,
    "start_time": "2022-04-24T08:54:46.915Z"
   },
   {
    "duration": 13,
    "start_time": "2022-04-24T08:54:46.944Z"
   },
   {
    "duration": 10,
    "start_time": "2022-04-24T08:54:46.993Z"
   },
   {
    "duration": 19,
    "start_time": "2022-04-24T08:54:47.006Z"
   },
   {
    "duration": 84,
    "start_time": "2022-04-24T08:54:47.027Z"
   },
   {
    "duration": 10,
    "start_time": "2022-04-24T08:54:47.113Z"
   },
   {
    "duration": 15,
    "start_time": "2022-04-24T08:54:47.125Z"
   },
   {
    "duration": 9,
    "start_time": "2022-04-24T08:54:47.145Z"
   },
   {
    "duration": 48,
    "start_time": "2022-04-24T08:54:47.156Z"
   },
   {
    "duration": 6,
    "start_time": "2022-04-24T08:54:47.207Z"
   },
   {
    "duration": 10,
    "start_time": "2022-04-24T08:54:47.215Z"
   },
   {
    "duration": 19,
    "start_time": "2022-04-24T08:54:47.227Z"
   },
   {
    "duration": 72,
    "start_time": "2022-04-24T08:54:47.248Z"
   },
   {
    "duration": 9,
    "start_time": "2022-04-24T08:54:47.322Z"
   },
   {
    "duration": 16,
    "start_time": "2022-04-24T08:54:47.333Z"
   },
   {
    "duration": 45,
    "start_time": "2022-04-24T08:54:47.351Z"
   },
   {
    "duration": 11,
    "start_time": "2022-04-24T08:54:47.398Z"
   },
   {
    "duration": 10,
    "start_time": "2022-04-24T08:54:47.412Z"
   },
   {
    "duration": 9,
    "start_time": "2022-04-24T08:54:47.425Z"
   },
   {
    "duration": 13,
    "start_time": "2022-04-24T08:54:47.437Z"
   },
   {
    "duration": 55,
    "start_time": "2022-04-24T08:54:47.452Z"
   },
   {
    "duration": 8,
    "start_time": "2022-04-24T08:54:47.509Z"
   },
   {
    "duration": 31,
    "start_time": "2022-04-24T08:54:47.520Z"
   },
   {
    "duration": 59,
    "start_time": "2022-04-24T08:54:47.554Z"
   },
   {
    "duration": 25,
    "start_time": "2022-04-24T08:54:47.615Z"
   },
   {
    "duration": 67,
    "start_time": "2022-04-24T08:54:47.645Z"
   },
   {
    "duration": 5,
    "start_time": "2022-04-24T08:54:47.714Z"
   },
   {
    "duration": 25,
    "start_time": "2022-04-24T08:54:47.722Z"
   },
   {
    "duration": 6,
    "start_time": "2022-04-24T08:54:47.750Z"
   },
   {
    "duration": 20,
    "start_time": "2022-04-24T08:54:47.793Z"
   },
   {
    "duration": 42,
    "start_time": "2022-04-24T08:54:47.815Z"
   },
   {
    "duration": 72,
    "start_time": "2022-04-24T08:54:47.860Z"
   },
   {
    "duration": 60,
    "start_time": "2022-04-24T08:54:47.934Z"
   },
   {
    "duration": 32,
    "start_time": "2022-04-24T08:54:47.997Z"
   },
   {
    "duration": 61,
    "start_time": "2022-04-24T08:54:48.031Z"
   },
   {
    "duration": 587,
    "start_time": "2022-04-30T17:50:31.781Z"
   },
   {
    "duration": 14,
    "start_time": "2022-04-30T17:50:32.371Z"
   },
   {
    "duration": 40,
    "start_time": "2022-04-30T17:50:32.387Z"
   },
   {
    "duration": 23,
    "start_time": "2022-04-30T17:50:32.430Z"
   },
   {
    "duration": 19,
    "start_time": "2022-04-30T17:50:32.455Z"
   },
   {
    "duration": 17,
    "start_time": "2022-04-30T17:50:32.476Z"
   },
   {
    "duration": 44,
    "start_time": "2022-04-30T17:50:32.495Z"
   },
   {
    "duration": 18,
    "start_time": "2022-04-30T17:50:32.541Z"
   },
   {
    "duration": 17,
    "start_time": "2022-04-30T17:50:32.562Z"
   },
   {
    "duration": 12,
    "start_time": "2022-04-30T17:50:32.585Z"
   },
   {
    "duration": 17,
    "start_time": "2022-04-30T17:50:32.599Z"
   },
   {
    "duration": 6,
    "start_time": "2022-04-30T17:50:32.653Z"
   },
   {
    "duration": 24,
    "start_time": "2022-04-30T17:50:32.661Z"
   },
   {
    "duration": 36,
    "start_time": "2022-04-30T17:50:32.687Z"
   },
   {
    "duration": 31,
    "start_time": "2022-04-30T17:50:32.725Z"
   },
   {
    "duration": 8,
    "start_time": "2022-04-30T17:50:32.758Z"
   },
   {
    "duration": 14,
    "start_time": "2022-04-30T17:50:32.768Z"
   },
   {
    "duration": 16,
    "start_time": "2022-04-30T17:50:32.785Z"
   },
   {
    "duration": 22,
    "start_time": "2022-04-30T17:50:32.804Z"
   },
   {
    "duration": 32,
    "start_time": "2022-04-30T17:50:32.828Z"
   },
   {
    "duration": 9,
    "start_time": "2022-04-30T17:50:32.862Z"
   },
   {
    "duration": 25,
    "start_time": "2022-04-30T17:50:32.873Z"
   },
   {
    "duration": 18,
    "start_time": "2022-04-30T17:50:32.900Z"
   },
   {
    "duration": 32,
    "start_time": "2022-04-30T17:50:32.920Z"
   },
   {
    "duration": 50,
    "start_time": "2022-04-30T17:50:32.954Z"
   },
   {
    "duration": 30,
    "start_time": "2022-04-30T17:50:33.005Z"
   },
   {
    "duration": 33,
    "start_time": "2022-04-30T17:50:33.037Z"
   },
   {
    "duration": 42,
    "start_time": "2022-04-30T17:50:33.074Z"
   },
   {
    "duration": 4,
    "start_time": "2022-04-30T17:50:33.118Z"
   },
   {
    "duration": 16,
    "start_time": "2022-04-30T17:50:33.151Z"
   },
   {
    "duration": 7,
    "start_time": "2022-04-30T17:50:33.169Z"
   },
   {
    "duration": 15,
    "start_time": "2022-04-30T17:50:33.178Z"
   },
   {
    "duration": 30,
    "start_time": "2022-04-30T17:50:33.195Z"
   },
   {
    "duration": 57,
    "start_time": "2022-04-30T17:50:33.227Z"
   },
   {
    "duration": 28,
    "start_time": "2022-04-30T17:50:33.287Z"
   },
   {
    "duration": 63,
    "start_time": "2022-04-30T17:50:33.317Z"
   },
   {
    "duration": 52,
    "start_time": "2022-04-30T17:50:33.382Z"
   },
   {
    "duration": 14,
    "start_time": "2022-04-30T17:52:20.985Z"
   },
   {
    "duration": 81,
    "start_time": "2022-05-04T14:46:10.534Z"
   },
   {
    "duration": 521,
    "start_time": "2022-05-04T14:46:15.734Z"
   },
   {
    "duration": 132,
    "start_time": "2022-05-04T14:46:16.258Z"
   },
   {
    "duration": 14,
    "start_time": "2022-05-04T14:46:16.394Z"
   },
   {
    "duration": 26,
    "start_time": "2022-05-04T14:46:16.411Z"
   },
   {
    "duration": 12,
    "start_time": "2022-05-04T14:46:16.439Z"
   },
   {
    "duration": 9,
    "start_time": "2022-05-04T14:46:16.491Z"
   },
   {
    "duration": 16,
    "start_time": "2022-05-04T14:46:16.502Z"
   },
   {
    "duration": 16,
    "start_time": "2022-05-04T14:46:16.520Z"
   },
   {
    "duration": 79,
    "start_time": "2022-05-04T14:46:16.539Z"
   },
   {
    "duration": 9,
    "start_time": "2022-05-04T14:46:16.622Z"
   },
   {
    "duration": 12,
    "start_time": "2022-05-04T14:46:16.633Z"
   },
   {
    "duration": 49,
    "start_time": "2022-05-04T14:46:16.647Z"
   },
   {
    "duration": 16,
    "start_time": "2022-05-04T14:46:16.698Z"
   },
   {
    "duration": 6,
    "start_time": "2022-05-04T14:46:16.716Z"
   },
   {
    "duration": 7,
    "start_time": "2022-05-04T14:46:16.724Z"
   },
   {
    "duration": 57,
    "start_time": "2022-05-04T14:46:16.734Z"
   },
   {
    "duration": 34,
    "start_time": "2022-05-04T14:46:16.794Z"
   },
   {
    "duration": 8,
    "start_time": "2022-05-04T14:46:16.831Z"
   },
   {
    "duration": 15,
    "start_time": "2022-05-04T14:46:16.841Z"
   },
   {
    "duration": 44,
    "start_time": "2022-05-04T14:46:16.858Z"
   },
   {
    "duration": 10,
    "start_time": "2022-05-04T14:46:16.904Z"
   },
   {
    "duration": 20,
    "start_time": "2022-05-04T14:46:16.916Z"
   },
   {
    "duration": 9,
    "start_time": "2022-05-04T14:46:16.939Z"
   },
   {
    "duration": 41,
    "start_time": "2022-05-04T14:46:16.949Z"
   },
   {
    "duration": 21,
    "start_time": "2022-05-04T14:46:16.993Z"
   },
   {
    "duration": 16,
    "start_time": "2022-05-04T14:46:17.016Z"
   },
   {
    "duration": 42,
    "start_time": "2022-05-04T14:46:17.034Z"
   },
   {
    "duration": 33,
    "start_time": "2022-05-04T14:46:17.085Z"
   },
   {
    "duration": 25,
    "start_time": "2022-05-04T14:46:17.121Z"
   },
   {
    "duration": 72,
    "start_time": "2022-05-04T14:46:17.149Z"
   },
   {
    "duration": 4,
    "start_time": "2022-05-04T14:46:17.223Z"
   },
   {
    "duration": 18,
    "start_time": "2022-05-04T14:46:17.229Z"
   },
   {
    "duration": 7,
    "start_time": "2022-05-04T14:46:17.249Z"
   },
   {
    "duration": 14,
    "start_time": "2022-05-04T14:46:17.287Z"
   },
   {
    "duration": 26,
    "start_time": "2022-05-04T14:46:17.303Z"
   },
   {
    "duration": 71,
    "start_time": "2022-05-04T14:46:17.331Z"
   },
   {
    "duration": 30,
    "start_time": "2022-05-04T14:46:17.404Z"
   },
   {
    "duration": 53,
    "start_time": "2022-05-04T14:46:17.436Z"
   },
   {
    "duration": 34,
    "start_time": "2022-05-04T14:46:17.491Z"
   },
   {
    "duration": 11,
    "start_time": "2022-05-04T14:52:05.452Z"
   },
   {
    "duration": 537,
    "start_time": "2022-05-04T14:52:18.080Z"
   },
   {
    "duration": 128,
    "start_time": "2022-05-04T14:52:18.619Z"
   },
   {
    "duration": 13,
    "start_time": "2022-05-04T14:52:18.749Z"
   },
   {
    "duration": 42,
    "start_time": "2022-05-04T14:52:18.765Z"
   },
   {
    "duration": 13,
    "start_time": "2022-05-04T14:52:18.812Z"
   },
   {
    "duration": 7,
    "start_time": "2022-05-04T14:52:18.827Z"
   },
   {
    "duration": 55,
    "start_time": "2022-05-04T14:52:18.836Z"
   },
   {
    "duration": 22,
    "start_time": "2022-05-04T14:52:18.894Z"
   },
   {
    "duration": 32,
    "start_time": "2022-05-04T14:52:18.918Z"
   },
   {
    "duration": 41,
    "start_time": "2022-05-04T14:52:18.952Z"
   },
   {
    "duration": 22,
    "start_time": "2022-05-04T14:52:18.996Z"
   },
   {
    "duration": 9,
    "start_time": "2022-05-04T14:52:19.023Z"
   },
   {
    "duration": 13,
    "start_time": "2022-05-04T14:52:19.034Z"
   },
   {
    "duration": 7,
    "start_time": "2022-05-04T14:52:19.087Z"
   },
   {
    "duration": 14,
    "start_time": "2022-05-04T14:52:19.096Z"
   },
   {
    "duration": 14,
    "start_time": "2022-05-04T14:52:19.113Z"
   },
   {
    "duration": 70,
    "start_time": "2022-05-04T14:52:19.129Z"
   },
   {
    "duration": 12,
    "start_time": "2022-05-04T14:52:19.202Z"
   },
   {
    "duration": 14,
    "start_time": "2022-05-04T14:52:19.217Z"
   },
   {
    "duration": 16,
    "start_time": "2022-05-04T14:52:19.234Z"
   },
   {
    "duration": 15,
    "start_time": "2022-05-04T14:52:19.284Z"
   },
   {
    "duration": 13,
    "start_time": "2022-05-04T14:52:19.301Z"
   },
   {
    "duration": 9,
    "start_time": "2022-05-04T14:52:19.316Z"
   },
   {
    "duration": 16,
    "start_time": "2022-05-04T14:52:19.327Z"
   },
   {
    "duration": 58,
    "start_time": "2022-05-04T14:52:19.345Z"
   },
   {
    "duration": 826,
    "start_time": "2022-05-04T14:52:19.405Z"
   },
   {
    "duration": 0,
    "start_time": "2022-05-04T14:52:20.234Z"
   },
   {
    "duration": 0,
    "start_time": "2022-05-04T14:52:20.236Z"
   },
   {
    "duration": 0,
    "start_time": "2022-05-04T14:52:20.238Z"
   },
   {
    "duration": 0,
    "start_time": "2022-05-04T14:52:20.240Z"
   },
   {
    "duration": 0,
    "start_time": "2022-05-04T14:52:20.242Z"
   },
   {
    "duration": 0,
    "start_time": "2022-05-04T14:52:20.243Z"
   },
   {
    "duration": 0,
    "start_time": "2022-05-04T14:52:20.244Z"
   },
   {
    "duration": 0,
    "start_time": "2022-05-04T14:52:20.246Z"
   },
   {
    "duration": 0,
    "start_time": "2022-05-04T14:52:20.248Z"
   },
   {
    "duration": 0,
    "start_time": "2022-05-04T14:52:20.250Z"
   },
   {
    "duration": 0,
    "start_time": "2022-05-04T14:52:20.251Z"
   },
   {
    "duration": 0,
    "start_time": "2022-05-04T14:52:20.253Z"
   },
   {
    "duration": 0,
    "start_time": "2022-05-04T14:52:20.255Z"
   },
   {
    "duration": 4,
    "start_time": "2022-05-04T14:52:25.213Z"
   },
   {
    "duration": 126,
    "start_time": "2022-05-04T14:52:25.220Z"
   },
   {
    "duration": 38,
    "start_time": "2022-05-04T14:52:25.349Z"
   },
   {
    "duration": 27,
    "start_time": "2022-05-04T14:52:25.390Z"
   },
   {
    "duration": 12,
    "start_time": "2022-05-04T14:52:25.420Z"
   },
   {
    "duration": 13,
    "start_time": "2022-05-04T14:52:25.434Z"
   },
   {
    "duration": 17,
    "start_time": "2022-05-04T14:52:25.487Z"
   },
   {
    "duration": 15,
    "start_time": "2022-05-04T14:52:25.507Z"
   },
   {
    "duration": 76,
    "start_time": "2022-05-04T14:52:25.525Z"
   },
   {
    "duration": 8,
    "start_time": "2022-05-04T14:52:25.604Z"
   },
   {
    "duration": 14,
    "start_time": "2022-05-04T14:52:25.616Z"
   },
   {
    "duration": 8,
    "start_time": "2022-05-04T14:52:25.632Z"
   },
   {
    "duration": 50,
    "start_time": "2022-05-04T14:52:25.642Z"
   },
   {
    "duration": 6,
    "start_time": "2022-05-04T14:52:25.695Z"
   },
   {
    "duration": 12,
    "start_time": "2022-05-04T14:52:25.703Z"
   },
   {
    "duration": 14,
    "start_time": "2022-05-04T14:52:25.717Z"
   },
   {
    "duration": 72,
    "start_time": "2022-05-04T14:52:25.733Z"
   },
   {
    "duration": 12,
    "start_time": "2022-05-04T14:52:25.808Z"
   },
   {
    "duration": 16,
    "start_time": "2022-05-04T14:52:25.822Z"
   },
   {
    "duration": 54,
    "start_time": "2022-05-04T14:52:25.840Z"
   },
   {
    "duration": 12,
    "start_time": "2022-05-04T14:52:25.897Z"
   },
   {
    "duration": 12,
    "start_time": "2022-05-04T14:52:25.911Z"
   },
   {
    "duration": 8,
    "start_time": "2022-05-04T14:52:25.925Z"
   },
   {
    "duration": 15,
    "start_time": "2022-05-04T14:52:25.935Z"
   },
   {
    "duration": 51,
    "start_time": "2022-05-04T14:52:25.952Z"
   },
   {
    "duration": 418,
    "start_time": "2022-05-04T14:52:26.006Z"
   },
   {
    "duration": 0,
    "start_time": "2022-05-04T14:52:26.427Z"
   },
   {
    "duration": 0,
    "start_time": "2022-05-04T14:52:26.428Z"
   },
   {
    "duration": 0,
    "start_time": "2022-05-04T14:52:26.429Z"
   },
   {
    "duration": 0,
    "start_time": "2022-05-04T14:52:26.430Z"
   },
   {
    "duration": 0,
    "start_time": "2022-05-04T14:52:26.432Z"
   },
   {
    "duration": 0,
    "start_time": "2022-05-04T14:52:26.433Z"
   },
   {
    "duration": 0,
    "start_time": "2022-05-04T14:52:26.434Z"
   },
   {
    "duration": 0,
    "start_time": "2022-05-04T14:52:26.436Z"
   },
   {
    "duration": 0,
    "start_time": "2022-05-04T14:52:26.438Z"
   },
   {
    "duration": 0,
    "start_time": "2022-05-04T14:52:26.440Z"
   },
   {
    "duration": 0,
    "start_time": "2022-05-04T14:52:26.441Z"
   },
   {
    "duration": 0,
    "start_time": "2022-05-04T14:52:26.443Z"
   },
   {
    "duration": 0,
    "start_time": "2022-05-04T14:52:26.444Z"
   },
   {
    "duration": 566,
    "start_time": "2022-05-04T14:53:08.994Z"
   },
   {
    "duration": 137,
    "start_time": "2022-05-04T14:53:09.563Z"
   },
   {
    "duration": 15,
    "start_time": "2022-05-04T14:53:09.703Z"
   },
   {
    "duration": 26,
    "start_time": "2022-05-04T14:53:09.721Z"
   },
   {
    "duration": 51,
    "start_time": "2022-05-04T14:53:09.749Z"
   },
   {
    "duration": 11,
    "start_time": "2022-05-04T14:53:09.803Z"
   },
   {
    "duration": 13,
    "start_time": "2022-05-04T14:53:09.817Z"
   },
   {
    "duration": 58,
    "start_time": "2022-05-04T14:53:09.832Z"
   },
   {
    "duration": 37,
    "start_time": "2022-05-04T14:53:09.895Z"
   },
   {
    "duration": 9,
    "start_time": "2022-05-04T14:53:09.937Z"
   },
   {
    "duration": 41,
    "start_time": "2022-05-04T14:53:09.948Z"
   },
   {
    "duration": 13,
    "start_time": "2022-05-04T14:53:09.993Z"
   },
   {
    "duration": 16,
    "start_time": "2022-05-04T14:53:10.008Z"
   },
   {
    "duration": 6,
    "start_time": "2022-05-04T14:53:10.026Z"
   },
   {
    "duration": 55,
    "start_time": "2022-05-04T14:53:10.034Z"
   },
   {
    "duration": 27,
    "start_time": "2022-05-04T14:53:10.091Z"
   },
   {
    "duration": 27,
    "start_time": "2022-05-04T14:53:10.120Z"
   },
   {
    "duration": 37,
    "start_time": "2022-05-04T14:53:10.150Z"
   },
   {
    "duration": 18,
    "start_time": "2022-05-04T14:53:10.190Z"
   },
   {
    "duration": 15,
    "start_time": "2022-05-04T14:53:10.211Z"
   },
   {
    "duration": 12,
    "start_time": "2022-05-04T14:53:10.228Z"
   },
   {
    "duration": 55,
    "start_time": "2022-05-04T14:53:10.242Z"
   },
   {
    "duration": 11,
    "start_time": "2022-05-04T14:53:10.300Z"
   },
   {
    "duration": 14,
    "start_time": "2022-05-04T14:53:10.313Z"
   },
   {
    "duration": 18,
    "start_time": "2022-05-04T14:53:10.329Z"
   },
   {
    "duration": 558,
    "start_time": "2022-05-04T14:53:10.350Z"
   },
   {
    "duration": 0,
    "start_time": "2022-05-04T14:53:10.912Z"
   },
   {
    "duration": 0,
    "start_time": "2022-05-04T14:53:10.914Z"
   },
   {
    "duration": 0,
    "start_time": "2022-05-04T14:53:10.916Z"
   },
   {
    "duration": 0,
    "start_time": "2022-05-04T14:53:10.919Z"
   },
   {
    "duration": 0,
    "start_time": "2022-05-04T14:53:10.921Z"
   },
   {
    "duration": 0,
    "start_time": "2022-05-04T14:53:10.924Z"
   },
   {
    "duration": 0,
    "start_time": "2022-05-04T14:53:10.926Z"
   },
   {
    "duration": 0,
    "start_time": "2022-05-04T14:53:10.929Z"
   },
   {
    "duration": 1,
    "start_time": "2022-05-04T14:53:10.931Z"
   },
   {
    "duration": 0,
    "start_time": "2022-05-04T14:53:10.934Z"
   },
   {
    "duration": 0,
    "start_time": "2022-05-04T14:53:10.936Z"
   },
   {
    "duration": 0,
    "start_time": "2022-05-04T14:53:10.938Z"
   },
   {
    "duration": 0,
    "start_time": "2022-05-04T14:53:10.941Z"
   },
   {
    "duration": 16,
    "start_time": "2022-05-04T14:54:02.927Z"
   },
   {
    "duration": 544,
    "start_time": "2022-05-04T14:54:18.595Z"
   },
   {
    "duration": 135,
    "start_time": "2022-05-04T14:54:19.142Z"
   },
   {
    "duration": 20,
    "start_time": "2022-05-04T14:54:19.280Z"
   },
   {
    "duration": 28,
    "start_time": "2022-05-04T14:54:19.302Z"
   },
   {
    "duration": 13,
    "start_time": "2022-05-04T14:54:19.334Z"
   },
   {
    "duration": 24,
    "start_time": "2022-05-04T14:54:19.381Z"
   },
   {
    "duration": 14,
    "start_time": "2022-05-04T14:54:19.407Z"
   },
   {
    "duration": 16,
    "start_time": "2022-05-04T14:54:19.423Z"
   },
   {
    "duration": 74,
    "start_time": "2022-05-04T14:54:19.441Z"
   },
   {
    "duration": 9,
    "start_time": "2022-05-04T14:54:19.518Z"
   },
   {
    "duration": 14,
    "start_time": "2022-05-04T14:54:19.530Z"
   },
   {
    "duration": 39,
    "start_time": "2022-05-04T14:54:19.546Z"
   },
   {
    "duration": 20,
    "start_time": "2022-05-04T14:54:19.587Z"
   },
   {
    "duration": 6,
    "start_time": "2022-05-04T14:54:19.611Z"
   },
   {
    "duration": 12,
    "start_time": "2022-05-04T14:54:19.619Z"
   },
   {
    "duration": 58,
    "start_time": "2022-05-04T14:54:19.633Z"
   },
   {
    "duration": 34,
    "start_time": "2022-05-04T14:54:19.694Z"
   },
   {
    "duration": 10,
    "start_time": "2022-05-04T14:54:19.730Z"
   },
   {
    "duration": 52,
    "start_time": "2022-05-04T14:54:19.742Z"
   },
   {
    "duration": 16,
    "start_time": "2022-05-04T14:54:19.797Z"
   },
   {
    "duration": 10,
    "start_time": "2022-05-04T14:54:19.816Z"
   },
   {
    "duration": 14,
    "start_time": "2022-05-04T14:54:19.828Z"
   },
   {
    "duration": 41,
    "start_time": "2022-05-04T14:54:19.845Z"
   },
   {
    "duration": 25,
    "start_time": "2022-05-04T14:54:19.889Z"
   },
   {
    "duration": 18,
    "start_time": "2022-05-04T14:54:19.916Z"
   },
   {
    "duration": 8,
    "start_time": "2022-05-04T14:54:19.936Z"
   },
   {
    "duration": 58,
    "start_time": "2022-05-04T14:54:19.946Z"
   },
   {
    "duration": 28,
    "start_time": "2022-05-04T14:54:20.006Z"
   },
   {
    "duration": 55,
    "start_time": "2022-05-04T14:54:20.036Z"
   },
   {
    "duration": 59,
    "start_time": "2022-05-04T14:54:20.095Z"
   },
   {
    "duration": 39,
    "start_time": "2022-05-04T14:54:20.157Z"
   },
   {
    "duration": 22,
    "start_time": "2022-05-04T14:54:20.200Z"
   },
   {
    "duration": 12,
    "start_time": "2022-05-04T14:54:20.225Z"
   },
   {
    "duration": 23,
    "start_time": "2022-05-04T14:54:20.240Z"
   },
   {
    "duration": 54,
    "start_time": "2022-05-04T14:54:20.266Z"
   },
   {
    "duration": 66,
    "start_time": "2022-05-04T14:54:20.322Z"
   },
   {
    "duration": 45,
    "start_time": "2022-05-04T14:54:20.392Z"
   },
   {
    "duration": 67,
    "start_time": "2022-05-04T14:54:20.439Z"
   },
   {
    "duration": 37,
    "start_time": "2022-05-04T14:54:20.509Z"
   },
   {
    "duration": 43,
    "start_time": "2022-05-04T14:57:32.147Z"
   },
   {
    "duration": 560,
    "start_time": "2022-05-04T14:57:40.999Z"
   },
   {
    "duration": 138,
    "start_time": "2022-05-04T14:57:41.562Z"
   },
   {
    "duration": 15,
    "start_time": "2022-05-04T14:57:41.703Z"
   },
   {
    "duration": 29,
    "start_time": "2022-05-04T14:57:41.723Z"
   },
   {
    "duration": 47,
    "start_time": "2022-05-04T14:57:41.754Z"
   },
   {
    "duration": 11,
    "start_time": "2022-05-04T14:57:41.804Z"
   },
   {
    "duration": 17,
    "start_time": "2022-05-04T14:57:41.818Z"
   },
   {
    "duration": 49,
    "start_time": "2022-05-04T14:57:41.837Z"
   },
   {
    "duration": 44,
    "start_time": "2022-05-04T14:57:41.889Z"
   },
   {
    "duration": 8,
    "start_time": "2022-05-04T14:57:41.936Z"
   },
   {
    "duration": 60,
    "start_time": "2022-05-04T14:57:41.946Z"
   },
   {
    "duration": 9,
    "start_time": "2022-05-04T14:57:42.008Z"
   },
   {
    "duration": 15,
    "start_time": "2022-05-04T14:57:42.019Z"
   },
   {
    "duration": 10,
    "start_time": "2022-05-04T14:57:42.037Z"
   },
   {
    "duration": 31,
    "start_time": "2022-05-04T14:57:44.508Z"
   },
   {
    "duration": 13,
    "start_time": "2022-05-04T14:58:03.237Z"
   },
   {
    "duration": 9,
    "start_time": "2022-05-04T14:59:51.016Z"
   },
   {
    "duration": 12,
    "start_time": "2022-05-04T14:59:54.344Z"
   },
   {
    "duration": 566,
    "start_time": "2022-05-04T15:04:53.468Z"
   },
   {
    "duration": 136,
    "start_time": "2022-05-04T15:04:54.037Z"
   },
   {
    "duration": 25,
    "start_time": "2022-05-04T15:04:54.175Z"
   },
   {
    "duration": 30,
    "start_time": "2022-05-04T15:04:54.203Z"
   },
   {
    "duration": 52,
    "start_time": "2022-05-04T15:04:54.236Z"
   },
   {
    "duration": 9,
    "start_time": "2022-05-04T15:04:54.292Z"
   },
   {
    "duration": 25,
    "start_time": "2022-05-04T15:04:54.303Z"
   },
   {
    "duration": 15,
    "start_time": "2022-05-04T15:04:54.330Z"
   },
   {
    "duration": 69,
    "start_time": "2022-05-04T15:04:54.347Z"
   },
   {
    "duration": 7,
    "start_time": "2022-05-04T15:04:54.420Z"
   },
   {
    "duration": 23,
    "start_time": "2022-05-04T15:04:54.429Z"
   },
   {
    "duration": 8,
    "start_time": "2022-05-04T15:04:54.455Z"
   },
   {
    "duration": 33,
    "start_time": "2022-05-04T15:04:54.466Z"
   },
   {
    "duration": 18,
    "start_time": "2022-05-04T15:04:54.502Z"
   },
   {
    "duration": 16,
    "start_time": "2022-05-04T15:04:54.522Z"
   },
   {
    "duration": 29,
    "start_time": "2022-05-04T15:04:54.540Z"
   },
   {
    "duration": 56,
    "start_time": "2022-05-04T15:04:54.571Z"
   },
   {
    "duration": 8,
    "start_time": "2022-05-04T15:04:54.629Z"
   },
   {
    "duration": 15,
    "start_time": "2022-05-04T15:04:54.639Z"
   },
   {
    "duration": 30,
    "start_time": "2022-05-04T15:04:54.657Z"
   },
   {
    "duration": 19,
    "start_time": "2022-05-04T15:04:54.690Z"
   },
   {
    "duration": 12,
    "start_time": "2022-05-04T15:04:54.712Z"
   },
   {
    "duration": 11,
    "start_time": "2022-05-04T15:04:54.727Z"
   },
   {
    "duration": 48,
    "start_time": "2022-05-04T15:04:54.741Z"
   },
   {
    "duration": 25,
    "start_time": "2022-05-04T15:04:54.792Z"
   },
   {
    "duration": 10,
    "start_time": "2022-05-04T15:04:54.819Z"
   },
   {
    "duration": 35,
    "start_time": "2022-05-04T15:04:54.831Z"
   },
   {
    "duration": 30,
    "start_time": "2022-05-04T15:04:54.889Z"
   },
   {
    "duration": 26,
    "start_time": "2022-05-04T15:04:54.921Z"
   },
   {
    "duration": 70,
    "start_time": "2022-05-04T15:04:54.949Z"
   },
   {
    "duration": 5,
    "start_time": "2022-05-04T15:04:55.021Z"
   },
   {
    "duration": 21,
    "start_time": "2022-05-04T15:04:55.029Z"
   },
   {
    "duration": 46,
    "start_time": "2022-05-04T15:04:55.053Z"
   },
   {
    "duration": 24,
    "start_time": "2022-05-04T15:04:55.102Z"
   },
   {
    "duration": 27,
    "start_time": "2022-05-04T15:04:55.128Z"
   },
   {
    "duration": 60,
    "start_time": "2022-05-04T15:04:55.158Z"
   },
   {
    "duration": 30,
    "start_time": "2022-05-04T15:04:55.220Z"
   },
   {
    "duration": 60,
    "start_time": "2022-05-04T15:04:55.252Z"
   },
   {
    "duration": 34,
    "start_time": "2022-05-04T15:04:55.314Z"
   }
  ],
  "kernelspec": {
   "display_name": "Python 3 (ipykernel)",
   "language": "python",
   "name": "python3"
  },
  "language_info": {
   "codemirror_mode": {
    "name": "ipython",
    "version": 3
   },
   "file_extension": ".py",
   "mimetype": "text/x-python",
   "name": "python",
   "nbconvert_exporter": "python",
   "pygments_lexer": "ipython3",
   "version": "3.9.7"
  },
  "toc": {
   "base_numbering": 1,
   "nav_menu": {},
   "number_sections": true,
   "sideBar": true,
   "skip_h1_title": true,
   "title_cell": "Table of Contents",
   "title_sidebar": "Contents",
   "toc_cell": false,
   "toc_position": {},
   "toc_section_display": true,
   "toc_window_display": false
  }
 },
 "nbformat": 4,
 "nbformat_minor": 5
}
