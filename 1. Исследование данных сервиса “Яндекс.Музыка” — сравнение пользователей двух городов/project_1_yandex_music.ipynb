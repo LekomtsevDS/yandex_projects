{
 "cells": [
  {
   "cell_type": "markdown",
   "metadata": {
    "id": "VUC88oWjTJw2"
   },
   "source": [
    "# Исследование данных сервиса “Яндекс.Музыка” — сравнение пользователей двух городов\n",
    "\n",
    "**Цель исследования** — На данных Яндекс.Музыки необходимо проверить три гипотезы:\n",
    "1. Активность пользователей зависит от дня недели. Причём в Москве и Петербурге это проявляется по-разному.\n",
    "2. В понедельник утром в Москве преобладают одни жанры, а в Петербурге — другие. Так же и вечером пятницы преобладают разные жанры — в зависимости от города. \n",
    "3. Москва и Петербург предпочитают разные жанры музыки. В Москве чаще слушают поп-музыку, в Петербурге — русский рэп."
   ]
  },
  {
   "cell_type": "markdown",
   "metadata": {
    "id": "Ml1hmfXC_Zcs"
   },
   "source": [
    "## Обзор данных\n",
    "\n",
    "Изучим данные, предоставленные сервисом для проекта."
   ]
  },
  {
   "cell_type": "code",
   "execution_count": 1,
   "metadata": {
    "id": "AXN7PHPN_Zcs"
   },
   "outputs": [],
   "source": [
    "import pandas as pd"
   ]
  },
  {
   "cell_type": "code",
   "execution_count": 2,
   "metadata": {
    "id": "fFVu7vqh_Zct"
   },
   "outputs": [],
   "source": [
    "df = pd.read_csv('/datasets/yandex_music_project.csv')"
   ]
  },
  {
   "cell_type": "markdown",
   "metadata": {
    "id": "rDoOMd3uTqnZ"
   },
   "source": [
    "Получение первых 10 строк таблицы."
   ]
  },
  {
   "cell_type": "code",
   "execution_count": 3,
   "metadata": {
    "id": "oWTVX3gW_Zct"
   },
   "outputs": [
    {
     "data": {
      "text/html": [
       "<div>\n",
       "<style scoped>\n",
       "    .dataframe tbody tr th:only-of-type {\n",
       "        vertical-align: middle;\n",
       "    }\n",
       "\n",
       "    .dataframe tbody tr th {\n",
       "        vertical-align: top;\n",
       "    }\n",
       "\n",
       "    .dataframe thead th {\n",
       "        text-align: right;\n",
       "    }\n",
       "</style>\n",
       "<table border=\"1\" class=\"dataframe\">\n",
       "  <thead>\n",
       "    <tr style=\"text-align: right;\">\n",
       "      <th></th>\n",
       "      <th>userID</th>\n",
       "      <th>Track</th>\n",
       "      <th>artist</th>\n",
       "      <th>genre</th>\n",
       "      <th>City</th>\n",
       "      <th>time</th>\n",
       "      <th>Day</th>\n",
       "    </tr>\n",
       "  </thead>\n",
       "  <tbody>\n",
       "    <tr>\n",
       "      <th>0</th>\n",
       "      <td>FFB692EC</td>\n",
       "      <td>Kamigata To Boots</td>\n",
       "      <td>The Mass Missile</td>\n",
       "      <td>rock</td>\n",
       "      <td>Saint-Petersburg</td>\n",
       "      <td>20:28:33</td>\n",
       "      <td>Wednesday</td>\n",
       "    </tr>\n",
       "    <tr>\n",
       "      <th>1</th>\n",
       "      <td>55204538</td>\n",
       "      <td>Delayed Because of Accident</td>\n",
       "      <td>Andreas Rönnberg</td>\n",
       "      <td>rock</td>\n",
       "      <td>Moscow</td>\n",
       "      <td>14:07:09</td>\n",
       "      <td>Friday</td>\n",
       "    </tr>\n",
       "    <tr>\n",
       "      <th>2</th>\n",
       "      <td>20EC38</td>\n",
       "      <td>Funiculì funiculà</td>\n",
       "      <td>Mario Lanza</td>\n",
       "      <td>pop</td>\n",
       "      <td>Saint-Petersburg</td>\n",
       "      <td>20:58:07</td>\n",
       "      <td>Wednesday</td>\n",
       "    </tr>\n",
       "    <tr>\n",
       "      <th>3</th>\n",
       "      <td>A3DD03C9</td>\n",
       "      <td>Dragons in the Sunset</td>\n",
       "      <td>Fire + Ice</td>\n",
       "      <td>folk</td>\n",
       "      <td>Saint-Petersburg</td>\n",
       "      <td>08:37:09</td>\n",
       "      <td>Monday</td>\n",
       "    </tr>\n",
       "    <tr>\n",
       "      <th>4</th>\n",
       "      <td>E2DC1FAE</td>\n",
       "      <td>Soul People</td>\n",
       "      <td>Space Echo</td>\n",
       "      <td>dance</td>\n",
       "      <td>Moscow</td>\n",
       "      <td>08:34:34</td>\n",
       "      <td>Monday</td>\n",
       "    </tr>\n",
       "    <tr>\n",
       "      <th>5</th>\n",
       "      <td>842029A1</td>\n",
       "      <td>Преданная</td>\n",
       "      <td>IMPERVTOR</td>\n",
       "      <td>rusrap</td>\n",
       "      <td>Saint-Petersburg</td>\n",
       "      <td>13:09:41</td>\n",
       "      <td>Friday</td>\n",
       "    </tr>\n",
       "    <tr>\n",
       "      <th>6</th>\n",
       "      <td>4CB90AA5</td>\n",
       "      <td>True</td>\n",
       "      <td>Roman Messer</td>\n",
       "      <td>dance</td>\n",
       "      <td>Moscow</td>\n",
       "      <td>13:00:07</td>\n",
       "      <td>Wednesday</td>\n",
       "    </tr>\n",
       "    <tr>\n",
       "      <th>7</th>\n",
       "      <td>F03E1C1F</td>\n",
       "      <td>Feeling This Way</td>\n",
       "      <td>Polina Griffith</td>\n",
       "      <td>dance</td>\n",
       "      <td>Moscow</td>\n",
       "      <td>20:47:49</td>\n",
       "      <td>Wednesday</td>\n",
       "    </tr>\n",
       "    <tr>\n",
       "      <th>8</th>\n",
       "      <td>8FA1D3BE</td>\n",
       "      <td>И вновь продолжается бой</td>\n",
       "      <td>NaN</td>\n",
       "      <td>ruspop</td>\n",
       "      <td>Moscow</td>\n",
       "      <td>09:17:40</td>\n",
       "      <td>Friday</td>\n",
       "    </tr>\n",
       "    <tr>\n",
       "      <th>9</th>\n",
       "      <td>E772D5C0</td>\n",
       "      <td>Pessimist</td>\n",
       "      <td>NaN</td>\n",
       "      <td>dance</td>\n",
       "      <td>Saint-Petersburg</td>\n",
       "      <td>21:20:49</td>\n",
       "      <td>Wednesday</td>\n",
       "    </tr>\n",
       "  </tbody>\n",
       "</table>\n",
       "</div>"
      ],
      "text/plain": [
       "     userID                        Track            artist   genre  \\\n",
       "0  FFB692EC            Kamigata To Boots  The Mass Missile    rock   \n",
       "1  55204538  Delayed Because of Accident  Andreas Rönnberg    rock   \n",
       "2    20EC38            Funiculì funiculà       Mario Lanza     pop   \n",
       "3  A3DD03C9        Dragons in the Sunset        Fire + Ice    folk   \n",
       "4  E2DC1FAE                  Soul People        Space Echo   dance   \n",
       "5  842029A1                    Преданная         IMPERVTOR  rusrap   \n",
       "6  4CB90AA5                         True      Roman Messer   dance   \n",
       "7  F03E1C1F             Feeling This Way   Polina Griffith   dance   \n",
       "8  8FA1D3BE     И вновь продолжается бой               NaN  ruspop   \n",
       "9  E772D5C0                    Pessimist               NaN   dance   \n",
       "\n",
       "             City        time        Day  \n",
       "0  Saint-Petersburg  20:28:33  Wednesday  \n",
       "1            Moscow  14:07:09     Friday  \n",
       "2  Saint-Petersburg  20:58:07  Wednesday  \n",
       "3  Saint-Petersburg  08:37:09     Monday  \n",
       "4            Moscow  08:34:34     Monday  \n",
       "5  Saint-Petersburg  13:09:41     Friday  \n",
       "6            Moscow  13:00:07  Wednesday  \n",
       "7            Moscow  20:47:49  Wednesday  \n",
       "8            Moscow  09:17:40     Friday  \n",
       "9  Saint-Petersburg  21:20:49  Wednesday  "
      ]
     },
     "execution_count": 3,
     "metadata": {},
     "output_type": "execute_result"
    }
   ],
   "source": [
    "df.head(10)"
   ]
  },
  {
   "cell_type": "markdown",
   "metadata": {
    "id": "EO73Kwic_Zct"
   },
   "source": [
    "Общая информация о данных таблицы"
   ]
  },
  {
   "cell_type": "code",
   "execution_count": 4,
   "metadata": {
    "id": "DSf2kIb-_Zct"
   },
   "outputs": [
    {
     "name": "stdout",
     "output_type": "stream",
     "text": [
      "<class 'pandas.core.frame.DataFrame'>\n",
      "RangeIndex: 65079 entries, 0 to 65078\n",
      "Data columns (total 7 columns):\n",
      " #   Column    Non-Null Count  Dtype \n",
      "---  ------    --------------  ----- \n",
      " 0     userID  65079 non-null  object\n",
      " 1   Track     63848 non-null  object\n",
      " 2   artist    57876 non-null  object\n",
      " 3   genre     63881 non-null  object\n",
      " 4     City    65079 non-null  object\n",
      " 5   time      65079 non-null  object\n",
      " 6   Day       65079 non-null  object\n",
      "dtypes: object(7)\n",
      "memory usage: 3.5+ MB\n"
     ]
    }
   ],
   "source": [
    "df.info()"
   ]
  },
  {
   "cell_type": "markdown",
   "metadata": {
    "id": "TaQ2Iwbr_Zct"
   },
   "source": [
    "Итак, в таблице семь столбцов. Тип данных во всех столбцах — `object`.\n",
    "\n",
    "Согласно документации к данным:\n",
    "* `userID` — идентификатор пользователя;\n",
    "* `Track` — название трека;  \n",
    "* `artist` — имя исполнителя;\n",
    "* `genre` — название жанра;\n",
    "* `City` — город пользователя;\n",
    "* `time` — время начала прослушивания;\n",
    "* `Day` — день недели.\n",
    "\n",
    "В названиях колонок видны три нарушения стиля:\n",
    "1. Строчные буквы сочетаются с прописными.\n",
    "2. Встречаются пробелы.\n",
    "3. Не используется змейный регистр в оглавлении колонок.\n",
    "\n",
    "\n",
    "\n",
    "Количество значений в столбцах различается. Значит, в данных есть пропущенные значения.\n"
   ]
  },
  {
   "cell_type": "markdown",
   "metadata": {
    "id": "MCB6-dXG_Zct"
   },
   "source": [
    "**Выводы**\n",
    "\n",
    "В каждой строке таблицы — данные о прослушанном треке. Часть колонок описывает саму композицию: название, исполнителя и жанр. Остальные данные рассказывают о пользователе: из какого он города, когда он слушал музыку. \n",
    "\n",
    "Предварительно можно утверждать, что, данных достаточно для проверки гипотез. Но встречаются пропуски в данных, а в названиях колонок — расхождения с хорошим стилем."
   ]
  },
  {
   "cell_type": "markdown",
   "metadata": {
    "id": "SjYF6Ub9_Zct"
   },
   "source": [
    "## Предобработка данных"
   ]
  },
  {
   "cell_type": "markdown",
   "metadata": {
    "id": "dIaKXr29_Zct"
   },
   "source": [
    "Исключим пропуски, переименуем столбцы, а также проверим данные на наличие дубликатов."
   ]
  },
  {
   "cell_type": "code",
   "execution_count": 5,
   "metadata": {
    "id": "oKOTdF_Q_Zct"
   },
   "outputs": [
    {
     "data": {
      "text/plain": [
       "Index(['  userID', 'Track', 'artist', 'genre', '  City  ', 'time', 'Day'], dtype='object')"
      ]
     },
     "execution_count": 5,
     "metadata": {},
     "output_type": "execute_result"
    }
   ],
   "source": [
    "df.columns"
   ]
  },
  {
   "cell_type": "code",
   "execution_count": 6,
   "metadata": {
    "id": "ISlFqs5y_Zct"
   },
   "outputs": [],
   "source": [
    "df = df.rename(\n",
    "    columns={\n",
    "        '  userID': 'user_id',\n",
    "        'Track': 'track',\n",
    "        '  City  ': 'city',\n",
    "        'Day': 'day',\n",
    "        }\n",
    "    )"
   ]
  },
  {
   "cell_type": "code",
   "execution_count": 7,
   "metadata": {
    "id": "d4NOAmTW_Zct"
   },
   "outputs": [
    {
     "data": {
      "text/plain": [
       "Index(['user_id', 'track', 'artist', 'genre', 'city', 'time', 'day'], dtype='object')"
      ]
     },
     "execution_count": 7,
     "metadata": {},
     "output_type": "execute_result"
    }
   ],
   "source": [
    "df.columns"
   ]
  },
  {
   "cell_type": "markdown",
   "metadata": {
    "id": "5ISfbcfY_Zct"
   },
   "source": [
    "### Пропуски значений"
   ]
  },
  {
   "cell_type": "code",
   "execution_count": 8,
   "metadata": {
    "id": "RskX29qr_Zct"
   },
   "outputs": [
    {
     "data": {
      "text/plain": [
       "user_id       0\n",
       "track      1231\n",
       "artist     7203\n",
       "genre      1198\n",
       "city          0\n",
       "time          0\n",
       "day           0\n",
       "dtype: int64"
      ]
     },
     "execution_count": 8,
     "metadata": {},
     "output_type": "execute_result"
    }
   ],
   "source": [
    "df.isna().sum()"
   ]
  },
  {
   "cell_type": "markdown",
   "metadata": {
    "id": "qubhgnlO_Zct"
   },
   "source": [
    "Не все пропущенные значения влияют на исследование. Так в `track` и `artist` пропуски не важны для работы. Достаточно заменить их явными обозначениями.\n",
    "\n",
    "Но пропуски в `genre` могут помешать сравнению музыкальных вкусов в Москве и Санкт-Петербурге. \n",
    "\n",
    "Заменяем пропущенные значения в столбцах с названием трека и исполнителя на строку 'unknown'."
   ]
  },
  {
   "cell_type": "code",
   "execution_count": 9,
   "metadata": {
    "id": "KplB5qWs_Zct"
   },
   "outputs": [],
   "source": [
    "columns_to_replace = ['track', 'artist', 'genre']\n",
    "\n",
    "for column in columns_to_replace:    \n",
    "    df[column] = df[column].fillna('unknown')"
   ]
  },
  {
   "cell_type": "markdown",
   "metadata": {
    "id": "Ilsm-MZo_Zct"
   },
   "source": [
    "Убедимся, что в таблице не осталось пропусков."
   ]
  },
  {
   "cell_type": "code",
   "execution_count": 10,
   "metadata": {
    "id": "Tq4nYRX4_Zct"
   },
   "outputs": [
    {
     "data": {
      "text/plain": [
       "user_id    0\n",
       "track      0\n",
       "artist     0\n",
       "genre      0\n",
       "city       0\n",
       "time       0\n",
       "day        0\n",
       "dtype: int64"
      ]
     },
     "execution_count": 10,
     "metadata": {},
     "output_type": "execute_result"
    }
   ],
   "source": [
    "df.isna().sum()"
   ]
  },
  {
   "cell_type": "markdown",
   "metadata": {
    "id": "BWKRtBJ3_Zct"
   },
   "source": [
    "### Дубликаты"
   ]
  },
  {
   "cell_type": "code",
   "execution_count": 11,
   "metadata": {
    "id": "36eES_S0_Zct"
   },
   "outputs": [
    {
     "data": {
      "text/plain": [
       "3826"
      ]
     },
     "execution_count": 11,
     "metadata": {},
     "output_type": "execute_result"
    }
   ],
   "source": [
    "df.duplicated().sum()"
   ]
  },
  {
   "cell_type": "code",
   "execution_count": 12,
   "metadata": {
    "id": "exFHq6tt_Zct"
   },
   "outputs": [],
   "source": [
    "df = df.drop_duplicates().reset_index(drop=True)"
   ]
  },
  {
   "cell_type": "markdown",
   "metadata": {
    "id": "Ot25h6XR_Zct"
   },
   "source": [
    "Удалим дубликаты"
   ]
  },
  {
   "cell_type": "code",
   "execution_count": 13,
   "metadata": {
    "id": "-8PuNWQ0_Zct"
   },
   "outputs": [
    {
     "data": {
      "text/plain": [
       "0"
      ]
     },
     "execution_count": 13,
     "metadata": {},
     "output_type": "execute_result"
    }
   ],
   "source": [
    "df.duplicated().sum()"
   ]
  },
  {
   "cell_type": "markdown",
   "metadata": {
    "id": "QlFBsxAr_Zct"
   },
   "source": [
    "Избавимся от неявных дубликатов в колонке `genre`."
   ]
  },
  {
   "cell_type": "code",
   "execution_count": 14,
   "metadata": {
    "id": "JIUcqzZN_Zct"
   },
   "outputs": [
    {
     "data": {
      "text/plain": [
       "array(['rock', 'pop', 'folk', 'dance', 'rusrap', 'ruspop', 'world',\n",
       "       'electronic', 'unknown', 'alternative', 'children', 'rnb', 'hip',\n",
       "       'jazz', 'postrock', 'latin', 'classical', 'metal', 'reggae',\n",
       "       'tatar', 'blues', 'instrumental', 'rusrock', 'dnb', 'türk', 'post',\n",
       "       'country', 'psychedelic', 'conjazz', 'indie', 'posthardcore',\n",
       "       'local', 'avantgarde', 'punk', 'videogame', 'techno', 'house',\n",
       "       'christmas', 'melodic', 'caucasian', 'reggaeton', 'soundtrack',\n",
       "       'singer', 'ska', 'shanson', 'ambient', 'film', 'western', 'rap',\n",
       "       'beats', \"hard'n'heavy\", 'progmetal', 'minimal', 'contemporary',\n",
       "       'new', 'soul', 'holiday', 'german', 'tropical', 'fairytail',\n",
       "       'spiritual', 'urban', 'gospel', 'nujazz', 'folkmetal', 'trance',\n",
       "       'miscellaneous', 'anime', 'hardcore', 'progressive', 'chanson',\n",
       "       'numetal', 'vocal', 'estrada', 'russian', 'classicmetal',\n",
       "       'dubstep', 'club', 'deep', 'southern', 'black', 'folkrock',\n",
       "       'fitness', 'french', 'disco', 'religious', 'hiphop', 'drum',\n",
       "       'extrememetal', 'türkçe', 'experimental', 'easy', 'metalcore',\n",
       "       'modern', 'argentinetango', 'old', 'breaks', 'eurofolk',\n",
       "       'stonerrock', 'industrial', 'funk', 'jpop', 'middle', 'variété',\n",
       "       'other', 'adult', 'christian', 'gothic', 'international', 'muslim',\n",
       "       'relax', 'schlager', 'caribbean', 'ukrrock', 'nu', 'breakbeat',\n",
       "       'comedy', 'chill', 'newage', 'specialty', 'uzbek', 'k-pop',\n",
       "       'balkan', 'chinese', 'meditative', 'dub', 'power', 'death',\n",
       "       'grime', 'arabesk', 'romance', 'flamenco', 'leftfield', 'european',\n",
       "       'tech', 'newwave', 'dancehall', 'mpb', 'piano', 'top', 'bigroom',\n",
       "       'opera', 'celtic', 'tradjazz', 'acoustic', 'epicmetal', 'hip-hop',\n",
       "       'historisch', 'downbeat', 'downtempo', 'africa', 'audiobook',\n",
       "       'jewish', 'sängerportrait', 'deutschrock', 'eastern', 'action',\n",
       "       'future', 'electropop', 'folklore', 'bollywood', 'marschmusik',\n",
       "       'rnr', 'karaoke', 'indian', 'rancheras', 'электроника',\n",
       "       'afrikaans', 'tango', 'rhythm', 'sound', 'deutschspr', 'trip',\n",
       "       'lovers', 'choral', 'dancepop', 'podcasts', 'retro', 'smooth',\n",
       "       'mexican', 'brazilian', 'ïîï', 'mood', 'surf', 'author', 'gangsta',\n",
       "       'triphop', 'inspirational', 'idm', 'ethnic', 'bluegrass',\n",
       "       'broadway', 'animated', 'americana', 'karadeniz', 'rockabilly',\n",
       "       'colombian', 'self', 'hop', 'synthrock', 'sertanejo', 'japanese',\n",
       "       'canzone', 'swing', 'lounge', 'sport', 'korean', 'ragga',\n",
       "       'traditional', 'gitarre', 'frankreich', 'alternativepunk', 'emo',\n",
       "       'laiko', 'cantopop', 'glitch', 'documentary', 'rockalternative',\n",
       "       'thrash', 'hymn', 'oceania', 'rockother', 'popeurodance', 'dark',\n",
       "       'vi', 'grunge', 'hardstyle', 'samba', 'garage', 'soft', 'art',\n",
       "       'folktronica', 'entehno', 'mediterranean', 'chamber', 'cuban',\n",
       "       'taraftar', 'rockindie', 'gypsy', 'hardtechno', 'shoegazing',\n",
       "       'skarock', 'bossa', 'salsa', 'latino', 'worldbeat', 'malaysian',\n",
       "       'baile', 'ghazal', 'loungeelectronic', 'arabic', 'popelectronic',\n",
       "       'acid', 'kayokyoku', 'neoklassik', 'tribal', 'tanzorchester',\n",
       "       'native', 'independent', 'cantautori', 'handsup', 'poprussian',\n",
       "       'punjabi', 'synthpop', 'rave', 'französisch', 'quebecois',\n",
       "       'speech', 'soulful', 'teen', 'jam', 'ram', 'horror', 'scenic',\n",
       "       'orchestral', 'neue', 'roots', 'slow', 'jungle', 'indipop', 'axé',\n",
       "       'fado', 'showtunes', 'arena', 'irish', 'mandopop', 'forró',\n",
       "       'popdance', 'dirty', 'regional'], dtype=object)"
      ]
     },
     "execution_count": 14,
     "metadata": {},
     "output_type": "execute_result"
    }
   ],
   "source": [
    "df['genre'].unique()"
   ]
  },
  {
   "cell_type": "markdown",
   "metadata": {
    "id": "qej-Qmuo_Zct"
   },
   "source": [
    "Чтобы очистить от них таблицу, используем функцию `replace_wrong_genres()` с двумя параметрами: \n",
    "* `wrong_genres` — список дубликатов,\n",
    "* `correct_genre` — строка с правильным значением."
   ]
  },
  {
   "cell_type": "code",
   "execution_count": 15,
   "metadata": {
    "id": "ErNDkmns_Zct"
   },
   "outputs": [],
   "source": [
    "def replace_wrong_genres(wrong_genres, correct_genre,):\n",
    "    df['genre'] = df['genre'].replace(wrong, correct)"
   ]
  },
  {
   "cell_type": "code",
   "execution_count": 16,
   "metadata": {
    "id": "YN5i2hpmSo09"
   },
   "outputs": [],
   "source": [
    "wrong = ['hip', 'hop', 'hip-hop']\n",
    "correct = 'hiphop'\n",
    "\n",
    "replace_wrong_genres(wrong, correct)"
   ]
  },
  {
   "cell_type": "markdown",
   "metadata": {
    "id": "zQKF16_RG15m"
   },
   "source": [
    "Проверим результат"
   ]
  },
  {
   "cell_type": "code",
   "execution_count": 17,
   "metadata": {
    "id": "wvixALnFG15m"
   },
   "outputs": [
    {
     "data": {
      "text/plain": [
       "array(['acid', 'acoustic', 'action', 'adult', 'africa', 'afrikaans',\n",
       "       'alternative', 'alternativepunk', 'ambient', 'americana',\n",
       "       'animated', 'anime', 'arabesk', 'arabic', 'arena',\n",
       "       'argentinetango', 'art', 'audiobook', 'author', 'avantgarde',\n",
       "       'axé', 'baile', 'balkan', 'beats', 'bigroom', 'black', 'bluegrass',\n",
       "       'blues', 'bollywood', 'bossa', 'brazilian', 'breakbeat', 'breaks',\n",
       "       'broadway', 'cantautori', 'cantopop', 'canzone', 'caribbean',\n",
       "       'caucasian', 'celtic', 'chamber', 'chanson', 'children', 'chill',\n",
       "       'chinese', 'choral', 'christian', 'christmas', 'classical',\n",
       "       'classicmetal', 'club', 'colombian', 'comedy', 'conjazz',\n",
       "       'contemporary', 'country', 'cuban', 'dance', 'dancehall',\n",
       "       'dancepop', 'dark', 'death', 'deep', 'deutschrock', 'deutschspr',\n",
       "       'dirty', 'disco', 'dnb', 'documentary', 'downbeat', 'downtempo',\n",
       "       'drum', 'dub', 'dubstep', 'eastern', 'easy', 'electronic',\n",
       "       'electropop', 'emo', 'entehno', 'epicmetal', 'estrada', 'ethnic',\n",
       "       'eurofolk', 'european', 'experimental', 'extrememetal', 'fado',\n",
       "       'fairytail', 'film', 'fitness', 'flamenco', 'folk', 'folklore',\n",
       "       'folkmetal', 'folkrock', 'folktronica', 'forró', 'frankreich',\n",
       "       'französisch', 'french', 'funk', 'future', 'gangsta', 'garage',\n",
       "       'german', 'ghazal', 'gitarre', 'glitch', 'gospel', 'gothic',\n",
       "       'grime', 'grunge', 'gypsy', 'handsup', \"hard'n'heavy\", 'hardcore',\n",
       "       'hardstyle', 'hardtechno', 'hiphop', 'historisch', 'holiday',\n",
       "       'horror', 'house', 'hymn', 'idm', 'independent', 'indian', 'indie',\n",
       "       'indipop', 'industrial', 'inspirational', 'instrumental',\n",
       "       'international', 'irish', 'jam', 'japanese', 'jazz', 'jewish',\n",
       "       'jpop', 'jungle', 'k-pop', 'karadeniz', 'karaoke', 'kayokyoku',\n",
       "       'korean', 'laiko', 'latin', 'latino', 'leftfield', 'local',\n",
       "       'lounge', 'loungeelectronic', 'lovers', 'malaysian', 'mandopop',\n",
       "       'marschmusik', 'meditative', 'mediterranean', 'melodic', 'metal',\n",
       "       'metalcore', 'mexican', 'middle', 'minimal', 'miscellaneous',\n",
       "       'modern', 'mood', 'mpb', 'muslim', 'native', 'neoklassik', 'neue',\n",
       "       'new', 'newage', 'newwave', 'nu', 'nujazz', 'numetal', 'oceania',\n",
       "       'old', 'opera', 'orchestral', 'other', 'piano', 'podcasts', 'pop',\n",
       "       'popdance', 'popelectronic', 'popeurodance', 'poprussian', 'post',\n",
       "       'posthardcore', 'postrock', 'power', 'progmetal', 'progressive',\n",
       "       'psychedelic', 'punjabi', 'punk', 'quebecois', 'ragga', 'ram',\n",
       "       'rancheras', 'rap', 'rave', 'reggae', 'reggaeton', 'regional',\n",
       "       'relax', 'religious', 'retro', 'rhythm', 'rnb', 'rnr', 'rock',\n",
       "       'rockabilly', 'rockalternative', 'rockindie', 'rockother',\n",
       "       'romance', 'roots', 'ruspop', 'rusrap', 'rusrock', 'russian',\n",
       "       'salsa', 'samba', 'scenic', 'schlager', 'self', 'sertanejo',\n",
       "       'shanson', 'shoegazing', 'showtunes', 'singer', 'ska', 'skarock',\n",
       "       'slow', 'smooth', 'soft', 'soul', 'soulful', 'sound', 'soundtrack',\n",
       "       'southern', 'specialty', 'speech', 'spiritual', 'sport',\n",
       "       'stonerrock', 'surf', 'swing', 'synthpop', 'synthrock',\n",
       "       'sängerportrait', 'tango', 'tanzorchester', 'taraftar', 'tatar',\n",
       "       'tech', 'techno', 'teen', 'thrash', 'top', 'traditional',\n",
       "       'tradjazz', 'trance', 'tribal', 'trip', 'triphop', 'tropical',\n",
       "       'türk', 'türkçe', 'ukrrock', 'unknown', 'urban', 'uzbek',\n",
       "       'variété', 'vi', 'videogame', 'vocal', 'western', 'world',\n",
       "       'worldbeat', 'ïîï', 'электроника'], dtype=object)"
      ]
     },
     "execution_count": 17,
     "metadata": {},
     "output_type": "execute_result"
    }
   ],
   "source": [
    "df['genre'].sort_values().unique()"
   ]
  },
  {
   "cell_type": "markdown",
   "metadata": {
    "id": "WttZHXH0SqKk"
   },
   "source": [
    "## Проверка гипотез"
   ]
  },
  {
   "cell_type": "markdown",
   "metadata": {
    "id": "Im936VVi_Zcu"
   },
   "source": [
    "### Сравнение поведения пользователей двух столиц"
   ]
  },
  {
   "cell_type": "markdown",
   "metadata": {
    "id": "nwt_MuaL_Zcu"
   },
   "source": [
    "Гиротеза: Активность пользователей зависит от дня недели. Причём в Москве и Петербурге это проявляется по-разному.<br>\n",
    "Проверим это предположение по данным о трёх днях недели — понедельнике, среде и пятнице."
   ]
  },
  {
   "cell_type": "code",
   "execution_count": 1,
   "metadata": {
    "id": "0_Qs96oh_Zcu"
   },
   "outputs": [
    {
     "ename": "NameError",
     "evalue": "name 'df' is not defined",
     "output_type": "error",
     "traceback": [
      "\u001b[0;31m---------------------------------------------------------------------------\u001b[0m",
      "\u001b[0;31mNameError\u001b[0m                                 Traceback (most recent call last)",
      "\u001b[0;32m/tmp/ipykernel_36/2548662909.py\u001b[0m in \u001b[0;36m<module>\u001b[0;34m\u001b[0m\n\u001b[1;32m      1\u001b[0m \u001b[0;31m# Активность пользователей по городам:\u001b[0m\u001b[0;34m\u001b[0m\u001b[0;34m\u001b[0m\u001b[0;34m\u001b[0m\u001b[0m\n\u001b[1;32m      2\u001b[0m \u001b[0;34m\u001b[0m\u001b[0m\n\u001b[0;32m----> 3\u001b[0;31m \u001b[0mdf\u001b[0m\u001b[0;34m.\u001b[0m\u001b[0mgroupby\u001b[0m\u001b[0;34m(\u001b[0m\u001b[0;34m'city'\u001b[0m\u001b[0;34m)\u001b[0m\u001b[0;34m[\u001b[0m\u001b[0;34m[\u001b[0m\u001b[0;34m'track'\u001b[0m\u001b[0;34m]\u001b[0m\u001b[0;34m]\u001b[0m\u001b[0;34m.\u001b[0m\u001b[0mcount\u001b[0m\u001b[0;34m(\u001b[0m\u001b[0;34m)\u001b[0m\u001b[0;34m\u001b[0m\u001b[0;34m\u001b[0m\u001b[0m\n\u001b[0m",
      "\u001b[0;31mNameError\u001b[0m: name 'df' is not defined"
     ]
    }
   ],
   "source": [
    "df.groupby('city')[['track']].count()"
   ]
  },
  {
   "cell_type": "markdown",
   "metadata": {
    "id": "dzli3w8o_Zcu"
   },
   "source": [
    "В Москве прослушиваний больше, чем в Петербурге.Так как самих пользователей в Москве больше.\n",
    "\n",
    "Сгруппируем данные по дню недели и подсчитаем прослушивания в понедельник, среду и пятницу."
   ]
  },
  {
   "cell_type": "code",
   "execution_count": 19,
   "metadata": {
    "id": "uZMKjiJz_Zcu"
   },
   "outputs": [
    {
     "data": {
      "text/plain": [
       "day\n",
       "Friday       21840\n",
       "Monday       21354\n",
       "Wednesday    18059\n",
       "Name: track, dtype: int64"
      ]
     },
     "execution_count": 19,
     "metadata": {},
     "output_type": "execute_result"
    }
   ],
   "source": [
    "df.groupby('day')['track'].count()"
   ]
  },
  {
   "cell_type": "markdown",
   "metadata": {
    "id": "cC2tNrlL_Zcu"
   },
   "source": [
    "В среднем пользователи из двух городов менее активны по средам. Но картина может измениться, если рассмотреть каждый город в отдельности."
   ]
  },
  {
   "cell_type": "code",
   "execution_count": 20,
   "metadata": {
    "id": "Nz3GdQB1_Zcu"
   },
   "outputs": [],
   "source": [
    "def number_tracks(day, city):\n",
    "    track_list = df[df['day'] == day]\n",
    "    track_list = track_list[track_list['city'] == city]\n",
    "    track_list_count = track_list['user_id'].count()\n",
    "    return track_list_count"
   ]
  },
  {
   "cell_type": "markdown",
   "metadata": {
    "id": "ytf7xFrFJQ2r"
   },
   "source": [
    "Получим данные для каждого города в каждый из трёх дней."
   ]
  },
  {
   "cell_type": "code",
   "execution_count": 21,
   "metadata": {
    "id": "rJcRATNQ_Zcu"
   },
   "outputs": [
    {
     "data": {
      "text/plain": [
       "15740"
      ]
     },
     "execution_count": 21,
     "metadata": {},
     "output_type": "execute_result"
    }
   ],
   "source": [
    "number_tracks('Monday', 'Moscow')"
   ]
  },
  {
   "cell_type": "code",
   "execution_count": 22,
   "metadata": {
    "id": "hq_ncZ5T_Zcu"
   },
   "outputs": [
    {
     "data": {
      "text/plain": [
       "5614"
      ]
     },
     "execution_count": 22,
     "metadata": {},
     "output_type": "execute_result"
    }
   ],
   "source": [
    "number_tracks('Monday', 'Saint-Petersburg')"
   ]
  },
  {
   "cell_type": "code",
   "execution_count": 23,
   "metadata": {
    "id": "_NTy2VPU_Zcu"
   },
   "outputs": [
    {
     "data": {
      "text/plain": [
       "11056"
      ]
     },
     "execution_count": 23,
     "metadata": {},
     "output_type": "execute_result"
    }
   ],
   "source": [
    "number_tracks('Wednesday', 'Moscow')"
   ]
  },
  {
   "cell_type": "code",
   "execution_count": 24,
   "metadata": {
    "id": "j2y3TAwo_Zcu"
   },
   "outputs": [
    {
     "data": {
      "text/plain": [
       "7003"
      ]
     },
     "execution_count": 24,
     "metadata": {},
     "output_type": "execute_result"
    }
   ],
   "source": [
    "number_tracks('Wednesday', 'Saint-Petersburg')"
   ]
  },
  {
   "cell_type": "code",
   "execution_count": 25,
   "metadata": {
    "id": "vYDw5u_K_Zcu"
   },
   "outputs": [
    {
     "data": {
      "text/plain": [
       "15945"
      ]
     },
     "execution_count": 25,
     "metadata": {},
     "output_type": "execute_result"
    }
   ],
   "source": [
    "number_tracks('Friday', 'Moscow')"
   ]
  },
  {
   "cell_type": "code",
   "execution_count": 26,
   "metadata": {
    "id": "8_yzFtW3_Zcu"
   },
   "outputs": [
    {
     "data": {
      "text/plain": [
       "5895"
      ]
     },
     "execution_count": 26,
     "metadata": {},
     "output_type": "execute_result"
    }
   ],
   "source": [
    "number_tracks('Friday', 'Saint-Petersburg')"
   ]
  },
  {
   "cell_type": "code",
   "execution_count": 27,
   "metadata": {
    "id": "APAcLpOr_Zcu"
   },
   "outputs": [
    {
     "data": {
      "text/html": [
       "<div>\n",
       "<style scoped>\n",
       "    .dataframe tbody tr th:only-of-type {\n",
       "        vertical-align: middle;\n",
       "    }\n",
       "\n",
       "    .dataframe tbody tr th {\n",
       "        vertical-align: top;\n",
       "    }\n",
       "\n",
       "    .dataframe thead th {\n",
       "        text-align: right;\n",
       "    }\n",
       "</style>\n",
       "<table border=\"1\" class=\"dataframe\">\n",
       "  <thead>\n",
       "    <tr style=\"text-align: right;\">\n",
       "      <th></th>\n",
       "      <th>city</th>\n",
       "      <th>monday</th>\n",
       "      <th>wednesday</th>\n",
       "      <th>friday</th>\n",
       "    </tr>\n",
       "  </thead>\n",
       "  <tbody>\n",
       "    <tr>\n",
       "      <th>0</th>\n",
       "      <td>Moscow</td>\n",
       "      <td>15740</td>\n",
       "      <td>11056</td>\n",
       "      <td>15945</td>\n",
       "    </tr>\n",
       "    <tr>\n",
       "      <th>1</th>\n",
       "      <td>Saint-Petersburg</td>\n",
       "      <td>5614</td>\n",
       "      <td>7003</td>\n",
       "      <td>5895</td>\n",
       "    </tr>\n",
       "  </tbody>\n",
       "</table>\n",
       "</div>"
      ],
      "text/plain": [
       "               city  monday  wednesday  friday\n",
       "0            Moscow   15740      11056   15945\n",
       "1  Saint-Petersburg    5614       7003    5895"
      ]
     },
     "execution_count": 27,
     "metadata": {},
     "output_type": "execute_result"
    }
   ],
   "source": [
    "columns = ['city', 'monday', 'wednesday', 'friday']\n",
    "data = [['Moscow', \n",
    "         number_tracks('Monday', 'Moscow'), number_tracks('Wednesday', 'Moscow'), number_tracks('Friday', 'Moscow')],\n",
    "        ['Saint-Petersburg',\n",
    "         number_tracks('Monday', 'Saint-Petersburg'), number_tracks('Wednesday', 'Saint-Petersburg'), number_tracks('Friday', 'Saint-Petersburg')]]\n",
    "\n",
    "\n",
    "pd.DataFrame(data = data, columns = columns)"
   ]
  },
  {
   "cell_type": "markdown",
   "metadata": {
    "id": "-EgPIHYu_Zcu"
   },
   "source": [
    "**Выводы**\n",
    "\n",
    "Данные показывают разницу поведения пользователей:\n",
    "\n",
    "- В Москве пик прослушиваний приходится на понедельник и пятницу, а в среду заметен спад.\n",
    "- В Петербурге, наоборот, больше слушают музыку по средам. Активность в понедельник и пятницу здесь почти в равной мере уступает среде.\n",
    "\n",
    "Значит, данные говорят в пользу первой гипотезы."
   ]
  },
  {
   "cell_type": "markdown",
   "metadata": {
    "id": "atZAxtq4_Zcu"
   },
   "source": [
    "### Музыка в начале и в конце недели"
   ]
  },
  {
   "cell_type": "markdown",
   "metadata": {
    "id": "eXrQqXFH_Zcu"
   },
   "source": [
    "Гипотеза: В понедельник утром в Москве преобладают одни жанры, а в Петербурге — другие. Так же и вечером пятницы преобладают разные жанры — в зависимости от города."
   ]
  },
  {
   "cell_type": "code",
   "execution_count": 28,
   "metadata": {
    "id": "qeaFfM_P_Zcu"
   },
   "outputs": [],
   "source": [
    "moscow_general = df[df['city'] == 'Moscow']"
   ]
  },
  {
   "cell_type": "code",
   "execution_count": 29,
   "metadata": {
    "id": "ORaVRKto_Zcu"
   },
   "outputs": [],
   "source": [
    "spb_general = df[df['city'] == 'Saint-Petersburg']"
   ]
  },
  {
   "cell_type": "code",
   "execution_count": 30,
   "metadata": {
    "id": "laJT9BYl_Zcu"
   },
   "outputs": [],
   "source": [
    "def genre_weekday(table, day, time1, time2):\n",
    "    genre_df = table[table['day'] == day]\n",
    "    genre_df = genre_df[genre_df['time'] > time1]\n",
    "    genre_df = genre_df[genre_df['time'] < time2]\n",
    "    genre_df_count = genre_df.groupby('genre')['genre'].count()\n",
    "    genre_df_sorted = genre_df_count.sort_values(ascending=False)\n",
    "    return genre_df_sorted[:10]"
   ]
  },
  {
   "cell_type": "markdown",
   "metadata": {
    "id": "la2s2_PF_Zcu"
   },
   "source": [
    "Cравним результаты функции `genre_weekday()` для Москвы и Санкт-Петербурга в понедельник утром (с 7:00 до 11:00) и в пятницу вечером (с 17:00 до 23:00):"
   ]
  },
  {
   "cell_type": "markdown",
   "metadata": {},
   "source": [
    "Топ 10 популярных жанров для Москвы в понедельник утром (с 7:00 до 11:00):"
   ]
  },
  {
   "cell_type": "code",
   "execution_count": 31,
   "metadata": {
    "id": "yz7itPUQ_Zcu"
   },
   "outputs": [
    {
     "data": {
      "text/plain": [
       "genre\n",
       "pop            781\n",
       "dance          549\n",
       "electronic     480\n",
       "rock           474\n",
       "hiphop         286\n",
       "ruspop         186\n",
       "world          181\n",
       "rusrap         175\n",
       "alternative    164\n",
       "unknown        161\n",
       "Name: genre, dtype: int64"
      ]
     },
     "execution_count": 31,
     "metadata": {},
     "output_type": "execute_result"
    }
   ],
   "source": [
    "genre_weekday(moscow_general, 'Monday', '07:00:00', '11:00:00')"
   ]
  },
  {
   "cell_type": "markdown",
   "metadata": {},
   "source": [
    "Топ 10 популярных жанров для Санкт-Петербурга в понедельник утром (с 7:00 до 11:00):"
   ]
  },
  {
   "cell_type": "code",
   "execution_count": 32,
   "metadata": {
    "id": "kwUcHPdy_Zcu"
   },
   "outputs": [
    {
     "data": {
      "text/plain": [
       "genre\n",
       "pop            218\n",
       "dance          182\n",
       "rock           162\n",
       "electronic     147\n",
       "hiphop          80\n",
       "ruspop          64\n",
       "alternative     58\n",
       "rusrap          55\n",
       "jazz            44\n",
       "classical       40\n",
       "Name: genre, dtype: int64"
      ]
     },
     "execution_count": 32,
     "metadata": {},
     "output_type": "execute_result"
    }
   ],
   "source": [
    "genre_weekday(spb_general, 'Monday', '07:00:00', '11:00:00')"
   ]
  },
  {
   "cell_type": "markdown",
   "metadata": {},
   "source": [
    "Топ 10 популярных жанров для Москвы в пятницу вечером (с 17:00 до 23:00):"
   ]
  },
  {
   "cell_type": "code",
   "execution_count": 33,
   "metadata": {
    "id": "EzXVRE1o_Zcu"
   },
   "outputs": [
    {
     "data": {
      "text/plain": [
       "genre\n",
       "pop            713\n",
       "rock           517\n",
       "dance          495\n",
       "electronic     482\n",
       "hiphop         273\n",
       "world          208\n",
       "ruspop         170\n",
       "alternative    163\n",
       "classical      163\n",
       "rusrap         142\n",
       "Name: genre, dtype: int64"
      ]
     },
     "execution_count": 33,
     "metadata": {},
     "output_type": "execute_result"
    }
   ],
   "source": [
    "genre_weekday(moscow_general, 'Friday', '17:00:00', '23:00:00')"
   ]
  },
  {
   "cell_type": "markdown",
   "metadata": {},
   "source": [
    "Топ 10 популярных жанров для Санкт-Петербурга в пятницу вечером (с 17:00 до 23:00):"
   ]
  },
  {
   "cell_type": "code",
   "execution_count": 34,
   "metadata": {
    "id": "JZaEKu5v_Zcu"
   },
   "outputs": [
    {
     "data": {
      "text/plain": [
       "genre\n",
       "pop            256\n",
       "electronic     216\n",
       "rock           216\n",
       "dance          210\n",
       "hiphop          97\n",
       "alternative     63\n",
       "jazz            61\n",
       "classical       60\n",
       "rusrap          59\n",
       "world           54\n",
       "Name: genre, dtype: int64"
      ]
     },
     "execution_count": 34,
     "metadata": {},
     "output_type": "execute_result"
    }
   ],
   "source": [
    "\n",
    "genre_weekday(spb_general, 'Friday', '17:00:00', '23:00:00')"
   ]
  },
  {
   "cell_type": "markdown",
   "metadata": {
    "id": "wrCe4MNX_Zcu"
   },
   "source": [
    "**Выводы**\n",
    "\n",
    "Если сравнить топ-10 жанров в понедельник утром, можно сделать такие выводы:\n",
    "\n",
    "1. В Москве и Петербурге слушают похожую музыку. Единственное отличие — в московский рейтинг вошёл жанр “world”, а в петербургский — джаз и классика.\n",
    "\n",
    "2. В Москве пропущенных значений оказалось так много, что значение `'unknown'` заняло десятое место среди самых популярных жанров. Значит, пропущенные значения занимают существенную долю в данных и угрожают достоверности исследования.\n",
    "\n",
    "Вечер пятницы не меняет эту картину. Некоторые жанры поднимаются немного выше, другие спускаются, но в целом топ-10 остаётся тем же самым.\n",
    "\n",
    "Таким образом, вторая гипотеза подтвердилась лишь частично:\n",
    "* Пользователи слушают похожую музыку в начале недели и в конце.\n",
    "* Разница между Москвой и Петербургом не слишком выражена. В Москве чаще слушают русскую популярную музыку, в Петербурге — джаз.\n",
    "\n",
    "Однако пропуски в данных ставят под сомнение этот результат. В Москве их так много, что рейтинг топ-10 мог бы выглядеть иначе, если бы не утерянные  данные о жанрах."
   ]
  },
  {
   "cell_type": "markdown",
   "metadata": {
    "id": "JolODAqr_Zcu"
   },
   "source": [
    "### Жанровые предпочтения в Москве и Петербурге\n",
    "\n",
    "Гипотеза: Москва и Петербург предпочитают разные жанры музыки. В Москве чаще слушают поп-музыку, в Петербурге — русский рэп."
   ]
  },
  {
   "cell_type": "markdown",
   "metadata": {
    "id": "DlegSvaT_Zcu"
   },
   "source": [
    "Сгруппируем таблицу `moscow_general` по жанру и посчитаем прослушивания треков каждого жанра."
   ]
  },
  {
   "cell_type": "code",
   "execution_count": 35,
   "metadata": {
    "id": "r19lIPke_Zcu"
   },
   "outputs": [],
   "source": [
    "moscow_genres = moscow_general.groupby('genre')['genre'].count().sort_values(ascending=False)"
   ]
  },
  {
   "cell_type": "markdown",
   "metadata": {},
   "source": [
    "Топ 10 популярных жанров для Москвы:"
   ]
  },
  {
   "cell_type": "code",
   "execution_count": 36,
   "metadata": {
    "id": "WhCSooF8_Zcv"
   },
   "outputs": [
    {
     "data": {
      "text/plain": [
       "genre\n",
       "pop            5892\n",
       "dance          4435\n",
       "rock           3965\n",
       "electronic     3786\n",
       "hiphop         2096\n",
       "classical      1616\n",
       "world          1432\n",
       "alternative    1379\n",
       "ruspop         1372\n",
       "rusrap         1161\n",
       "Name: genre, dtype: int64"
      ]
     },
     "execution_count": 36,
     "metadata": {},
     "output_type": "execute_result"
    }
   ],
   "source": [
    "moscow_genres.head(10)"
   ]
  },
  {
   "cell_type": "code",
   "execution_count": 37,
   "metadata": {
    "id": "gluLIpE7_Zcv"
   },
   "outputs": [],
   "source": [
    "spb_genres = spb_general.groupby('genre')['genre'].count().sort_values(ascending=False)"
   ]
  },
  {
   "cell_type": "markdown",
   "metadata": {},
   "source": [
    "Топ 10 популярных жанров для Санкт-Петербурга:"
   ]
  },
  {
   "cell_type": "code",
   "execution_count": 38,
   "metadata": {
    "id": "uaGJHjVU_Zcv"
   },
   "outputs": [
    {
     "data": {
      "text/plain": [
       "genre\n",
       "pop            2431\n",
       "dance          1932\n",
       "rock           1879\n",
       "electronic     1736\n",
       "hiphop          960\n",
       "alternative     649\n",
       "classical       646\n",
       "rusrap          564\n",
       "ruspop          538\n",
       "world           515\n",
       "Name: genre, dtype: int64"
      ]
     },
     "execution_count": 38,
     "metadata": {},
     "output_type": "execute_result"
    }
   ],
   "source": [
    "spb_genres.head(10)"
   ]
  },
  {
   "cell_type": "markdown",
   "metadata": {
    "id": "RY51YJYu_Zcv"
   },
   "source": [
    "**Выводы**"
   ]
  },
  {
   "cell_type": "markdown",
   "metadata": {
    "id": "nVhnJEm__Zcv"
   },
   "source": [
    "Гипотеза частично подтвердилась:\n",
    "* Поп-музыка — самый популярный жанр в Москве, как и предполагала гипотеза. Более того, в топ-10 жанров встречается близкий жанр — русская популярная музыка.\n",
    "* Вопреки ожиданиям, рэп одинаково популярен в Москве и Петербурге. \n"
   ]
  },
  {
   "cell_type": "markdown",
   "metadata": {
    "id": "ykKQ0N65_Zcv"
   },
   "source": [
    "## Итоги исследования"
   ]
  },
  {
   "cell_type": "markdown",
   "metadata": {
    "id": "tjUwbHb3_Zcv"
   },
   "source": [
    "1. День недели по-разному влияет на активность пользователей в Москве и Петербурге. \n",
    "\n",
    "Первая гипотеза полностью подтвердилась.\n",
    "\n",
    "2. Музыкальные предпочтения не сильно меняются в течение недели — будь то Москва или Петербург. Небольшие различия заметны в начале недели, по понедельникам:\n",
    "* в Москве слушают музыку жанра “world”,\n",
    "* в Петербурге — джаз и классику.\n",
    "\n",
    "Таким образом, вторая гипотеза подтвердилась лишь отчасти. Этот результат мог оказаться иным, если бы не пропуски в данных.\n",
    "\n",
    "3. Во вкусах пользователей Москвы и Петербурга больше общего чем различий. Вопреки ожиданиям, предпочтения жанров в Петербурге напоминают московские.\n",
    "\n",
    "Третья гипотеза не подтвердилась. Если различия в предпочтениях и существуют, на основной массе пользователей они незаметны."
   ]
  }
 ],
 "metadata": {
  "ExecuteTimeLog": [
   {
    "duration": 56,
    "start_time": "2022-03-29T05:12:01.900Z"
   },
   {
    "duration": 134,
    "start_time": "2022-03-29T05:12:06.881Z"
   },
   {
    "duration": 626,
    "start_time": "2022-03-29T05:12:10.170Z"
   },
   {
    "duration": 132,
    "start_time": "2022-03-29T05:12:30.937Z"
   },
   {
    "duration": 299,
    "start_time": "2022-03-29T05:12:46.051Z"
   },
   {
    "duration": 4,
    "start_time": "2022-03-29T05:12:49.667Z"
   },
   {
    "duration": 30,
    "start_time": "2022-03-29T05:13:09.019Z"
   },
   {
    "duration": 607,
    "start_time": "2022-03-29T05:13:39.064Z"
   },
   {
    "duration": 277,
    "start_time": "2022-03-29T05:13:39.675Z"
   },
   {
    "duration": 31,
    "start_time": "2022-03-29T05:13:39.955Z"
   },
   {
    "duration": 4,
    "start_time": "2022-03-29T05:13:40.000Z"
   },
   {
    "duration": 6,
    "start_time": "2022-03-29T05:13:40.007Z"
   },
   {
    "duration": 5,
    "start_time": "2022-03-29T05:13:40.016Z"
   },
   {
    "duration": 7,
    "start_time": "2022-03-29T05:13:40.022Z"
   },
   {
    "duration": 7,
    "start_time": "2022-03-29T05:13:40.031Z"
   },
   {
    "duration": 7,
    "start_time": "2022-03-29T05:13:40.040Z"
   },
   {
    "duration": 8,
    "start_time": "2022-03-29T05:13:40.050Z"
   },
   {
    "duration": 9,
    "start_time": "2022-03-29T05:13:40.059Z"
   },
   {
    "duration": 7,
    "start_time": "2022-03-29T05:13:40.070Z"
   },
   {
    "duration": 5,
    "start_time": "2022-03-29T05:13:40.100Z"
   },
   {
    "duration": 7,
    "start_time": "2022-03-29T05:13:40.107Z"
   },
   {
    "duration": 7,
    "start_time": "2022-03-29T05:13:40.116Z"
   },
   {
    "duration": 7,
    "start_time": "2022-03-29T05:13:40.125Z"
   },
   {
    "duration": 8,
    "start_time": "2022-03-29T05:13:40.134Z"
   },
   {
    "duration": 7,
    "start_time": "2022-03-29T05:13:40.144Z"
   },
   {
    "duration": 6,
    "start_time": "2022-03-29T05:13:40.153Z"
   },
   {
    "duration": 9,
    "start_time": "2022-03-29T05:13:40.161Z"
   },
   {
    "duration": 12,
    "start_time": "2022-03-29T05:13:40.172Z"
   },
   {
    "duration": 3,
    "start_time": "2022-03-29T05:13:40.202Z"
   },
   {
    "duration": 7,
    "start_time": "2022-03-29T05:13:40.208Z"
   },
   {
    "duration": 8,
    "start_time": "2022-03-29T05:13:40.217Z"
   },
   {
    "duration": 10,
    "start_time": "2022-03-29T05:13:40.227Z"
   },
   {
    "duration": 15,
    "start_time": "2022-03-29T05:13:40.238Z"
   },
   {
    "duration": 6,
    "start_time": "2022-03-29T05:13:40.257Z"
   },
   {
    "duration": 9,
    "start_time": "2022-03-29T05:13:40.270Z"
   },
   {
    "duration": 9,
    "start_time": "2022-03-29T05:13:40.282Z"
   },
   {
    "duration": 6,
    "start_time": "2022-03-29T05:13:40.300Z"
   },
   {
    "duration": 13,
    "start_time": "2022-03-29T05:13:40.309Z"
   },
   {
    "duration": 9,
    "start_time": "2022-03-29T05:13:40.324Z"
   },
   {
    "duration": 10,
    "start_time": "2022-03-29T05:13:40.336Z"
   },
   {
    "duration": 10,
    "start_time": "2022-03-29T05:13:40.349Z"
   },
   {
    "duration": 10,
    "start_time": "2022-03-29T05:13:40.362Z"
   },
   {
    "duration": 7,
    "start_time": "2022-03-29T05:13:40.375Z"
   },
   {
    "duration": 6,
    "start_time": "2022-03-29T05:13:40.385Z"
   },
   {
    "duration": 7,
    "start_time": "2022-03-29T05:13:40.394Z"
   },
   {
    "duration": 15,
    "start_time": "2022-03-29T05:14:13.023Z"
   },
   {
    "duration": 14,
    "start_time": "2022-03-29T05:17:09.825Z"
   },
   {
    "duration": 7,
    "start_time": "2022-03-29T05:17:57.367Z"
   },
   {
    "duration": 14,
    "start_time": "2022-03-29T05:18:16.680Z"
   },
   {
    "duration": 6,
    "start_time": "2022-03-29T05:19:29.809Z"
   },
   {
    "duration": 6,
    "start_time": "2022-03-29T05:21:15.009Z"
   },
   {
    "duration": 6,
    "start_time": "2022-03-29T05:24:40.860Z"
   },
   {
    "duration": 18,
    "start_time": "2022-03-29T05:24:56.971Z"
   },
   {
    "duration": 7,
    "start_time": "2022-03-29T05:24:59.619Z"
   },
   {
    "duration": 51,
    "start_time": "2022-03-29T05:25:33.843Z"
   },
   {
    "duration": 49,
    "start_time": "2022-03-29T05:28:06.500Z"
   },
   {
    "duration": 118,
    "start_time": "2022-03-29T05:28:17.476Z"
   },
   {
    "duration": 32,
    "start_time": "2022-03-29T05:28:27.629Z"
   },
   {
    "duration": 3,
    "start_time": "2022-03-29T05:28:57.578Z"
   },
   {
    "duration": 309,
    "start_time": "2022-03-29T05:28:57.585Z"
   },
   {
    "duration": 21,
    "start_time": "2022-03-29T05:28:57.896Z"
   },
   {
    "duration": 19,
    "start_time": "2022-03-29T05:28:57.921Z"
   },
   {
    "duration": 10,
    "start_time": "2022-03-29T05:28:57.942Z"
   },
   {
    "duration": 14,
    "start_time": "2022-03-29T05:28:57.955Z"
   },
   {
    "duration": 31,
    "start_time": "2022-03-29T05:28:57.972Z"
   },
   {
    "duration": 47,
    "start_time": "2022-03-29T05:28:58.006Z"
   },
   {
    "duration": 52,
    "start_time": "2022-03-29T05:28:58.056Z"
   },
   {
    "duration": 0,
    "start_time": "2022-03-29T05:28:58.112Z"
   },
   {
    "duration": 0,
    "start_time": "2022-03-29T05:28:58.114Z"
   },
   {
    "duration": 0,
    "start_time": "2022-03-29T05:28:58.116Z"
   },
   {
    "duration": 0,
    "start_time": "2022-03-29T05:28:58.117Z"
   },
   {
    "duration": 0,
    "start_time": "2022-03-29T05:28:58.119Z"
   },
   {
    "duration": 0,
    "start_time": "2022-03-29T05:28:58.121Z"
   },
   {
    "duration": 0,
    "start_time": "2022-03-29T05:28:58.123Z"
   },
   {
    "duration": 0,
    "start_time": "2022-03-29T05:28:58.124Z"
   },
   {
    "duration": 0,
    "start_time": "2022-03-29T05:28:58.126Z"
   },
   {
    "duration": 0,
    "start_time": "2022-03-29T05:28:58.129Z"
   },
   {
    "duration": 0,
    "start_time": "2022-03-29T05:28:58.130Z"
   },
   {
    "duration": 0,
    "start_time": "2022-03-29T05:28:58.132Z"
   },
   {
    "duration": 0,
    "start_time": "2022-03-29T05:28:58.133Z"
   },
   {
    "duration": 0,
    "start_time": "2022-03-29T05:28:58.136Z"
   },
   {
    "duration": 0,
    "start_time": "2022-03-29T05:28:58.137Z"
   },
   {
    "duration": 0,
    "start_time": "2022-03-29T05:28:58.139Z"
   },
   {
    "duration": 0,
    "start_time": "2022-03-29T05:28:58.141Z"
   },
   {
    "duration": 0,
    "start_time": "2022-03-29T05:28:58.142Z"
   },
   {
    "duration": 0,
    "start_time": "2022-03-29T05:28:58.144Z"
   },
   {
    "duration": 0,
    "start_time": "2022-03-29T05:28:58.146Z"
   },
   {
    "duration": 0,
    "start_time": "2022-03-29T05:28:58.148Z"
   },
   {
    "duration": 1,
    "start_time": "2022-03-29T05:28:58.201Z"
   },
   {
    "duration": 1,
    "start_time": "2022-03-29T05:28:58.203Z"
   },
   {
    "duration": 0,
    "start_time": "2022-03-29T05:28:58.205Z"
   },
   {
    "duration": 0,
    "start_time": "2022-03-29T05:28:58.207Z"
   },
   {
    "duration": 0,
    "start_time": "2022-03-29T05:28:58.209Z"
   },
   {
    "duration": 0,
    "start_time": "2022-03-29T05:28:58.211Z"
   },
   {
    "duration": 0,
    "start_time": "2022-03-29T05:28:58.213Z"
   },
   {
    "duration": 0,
    "start_time": "2022-03-29T05:28:58.214Z"
   },
   {
    "duration": 621,
    "start_time": "2022-03-29T05:29:22.839Z"
   },
   {
    "duration": 284,
    "start_time": "2022-03-29T05:29:23.464Z"
   },
   {
    "duration": 30,
    "start_time": "2022-03-29T05:29:23.751Z"
   },
   {
    "duration": 27,
    "start_time": "2022-03-29T05:29:23.785Z"
   },
   {
    "duration": 6,
    "start_time": "2022-03-29T05:29:23.814Z"
   },
   {
    "duration": 19,
    "start_time": "2022-03-29T05:29:23.822Z"
   },
   {
    "duration": 8,
    "start_time": "2022-03-29T05:29:23.844Z"
   },
   {
    "duration": 78,
    "start_time": "2022-03-29T05:29:23.854Z"
   },
   {
    "duration": 142,
    "start_time": "2022-03-29T05:29:23.934Z"
   },
   {
    "duration": 0,
    "start_time": "2022-03-29T05:29:24.080Z"
   },
   {
    "duration": 0,
    "start_time": "2022-03-29T05:29:24.082Z"
   },
   {
    "duration": 0,
    "start_time": "2022-03-29T05:29:24.084Z"
   },
   {
    "duration": 0,
    "start_time": "2022-03-29T05:29:24.101Z"
   },
   {
    "duration": 0,
    "start_time": "2022-03-29T05:29:24.104Z"
   },
   {
    "duration": 0,
    "start_time": "2022-03-29T05:29:24.106Z"
   },
   {
    "duration": 0,
    "start_time": "2022-03-29T05:29:24.107Z"
   },
   {
    "duration": 0,
    "start_time": "2022-03-29T05:29:24.113Z"
   },
   {
    "duration": 0,
    "start_time": "2022-03-29T05:29:24.114Z"
   },
   {
    "duration": 0,
    "start_time": "2022-03-29T05:29:24.116Z"
   },
   {
    "duration": 0,
    "start_time": "2022-03-29T05:29:24.118Z"
   },
   {
    "duration": 0,
    "start_time": "2022-03-29T05:29:24.120Z"
   },
   {
    "duration": 1,
    "start_time": "2022-03-29T05:29:24.121Z"
   },
   {
    "duration": 0,
    "start_time": "2022-03-29T05:29:24.123Z"
   },
   {
    "duration": 0,
    "start_time": "2022-03-29T05:29:24.125Z"
   },
   {
    "duration": 0,
    "start_time": "2022-03-29T05:29:24.127Z"
   },
   {
    "duration": 0,
    "start_time": "2022-03-29T05:29:24.128Z"
   },
   {
    "duration": 0,
    "start_time": "2022-03-29T05:29:24.130Z"
   },
   {
    "duration": 0,
    "start_time": "2022-03-29T05:29:24.132Z"
   },
   {
    "duration": 0,
    "start_time": "2022-03-29T05:29:24.134Z"
   },
   {
    "duration": 0,
    "start_time": "2022-03-29T05:29:24.135Z"
   },
   {
    "duration": 0,
    "start_time": "2022-03-29T05:29:24.137Z"
   },
   {
    "duration": 0,
    "start_time": "2022-03-29T05:29:24.139Z"
   },
   {
    "duration": 0,
    "start_time": "2022-03-29T05:29:24.140Z"
   },
   {
    "duration": 0,
    "start_time": "2022-03-29T05:29:24.142Z"
   },
   {
    "duration": 0,
    "start_time": "2022-03-29T05:29:24.200Z"
   },
   {
    "duration": 0,
    "start_time": "2022-03-29T05:29:24.203Z"
   },
   {
    "duration": 0,
    "start_time": "2022-03-29T05:29:24.205Z"
   },
   {
    "duration": 0,
    "start_time": "2022-03-29T05:29:24.207Z"
   },
   {
    "duration": 16,
    "start_time": "2022-03-29T05:30:35.388Z"
   },
   {
    "duration": 15,
    "start_time": "2022-03-29T05:30:58.780Z"
   },
   {
    "duration": 35,
    "start_time": "2022-03-29T05:31:23.531Z"
   },
   {
    "duration": 14,
    "start_time": "2022-03-29T05:31:26.357Z"
   },
   {
    "duration": 15,
    "start_time": "2022-03-29T05:31:58.740Z"
   },
   {
    "duration": 17,
    "start_time": "2022-03-29T05:32:17.164Z"
   },
   {
    "duration": 11,
    "start_time": "2022-03-29T05:33:09.628Z"
   },
   {
    "duration": 11,
    "start_time": "2022-03-29T05:33:46.244Z"
   },
   {
    "duration": 8,
    "start_time": "2022-03-29T05:33:56.124Z"
   },
   {
    "duration": 5,
    "start_time": "2022-03-29T05:34:06.357Z"
   },
   {
    "duration": 9,
    "start_time": "2022-03-29T05:34:32.669Z"
   },
   {
    "duration": 3,
    "start_time": "2022-03-29T05:34:41.425Z"
   },
   {
    "duration": 191,
    "start_time": "2022-03-29T05:34:41.430Z"
   },
   {
    "duration": 13,
    "start_time": "2022-03-29T05:34:41.623Z"
   },
   {
    "duration": 12,
    "start_time": "2022-03-29T05:34:41.638Z"
   },
   {
    "duration": 5,
    "start_time": "2022-03-29T05:34:41.653Z"
   },
   {
    "duration": 43,
    "start_time": "2022-03-29T05:34:41.659Z"
   },
   {
    "duration": 4,
    "start_time": "2022-03-29T05:34:41.704Z"
   },
   {
    "duration": 29,
    "start_time": "2022-03-29T05:34:41.710Z"
   },
   {
    "duration": 5,
    "start_time": "2022-03-29T05:34:41.741Z"
   },
   {
    "duration": 5,
    "start_time": "2022-03-29T05:34:41.748Z"
   },
   {
    "duration": 5,
    "start_time": "2022-03-29T05:34:41.755Z"
   },
   {
    "duration": 7,
    "start_time": "2022-03-29T05:34:41.761Z"
   },
   {
    "duration": 3,
    "start_time": "2022-03-29T05:34:41.804Z"
   },
   {
    "duration": 6,
    "start_time": "2022-03-29T05:34:41.809Z"
   },
   {
    "duration": 8,
    "start_time": "2022-03-29T05:34:41.817Z"
   },
   {
    "duration": 8,
    "start_time": "2022-03-29T05:34:41.827Z"
   },
   {
    "duration": 8,
    "start_time": "2022-03-29T05:34:41.837Z"
   },
   {
    "duration": 8,
    "start_time": "2022-03-29T05:34:41.846Z"
   },
   {
    "duration": 7,
    "start_time": "2022-03-29T05:34:41.857Z"
   },
   {
    "duration": 9,
    "start_time": "2022-03-29T05:34:41.866Z"
   },
   {
    "duration": 7,
    "start_time": "2022-03-29T05:34:41.877Z"
   },
   {
    "duration": 3,
    "start_time": "2022-03-29T05:34:41.902Z"
   },
   {
    "duration": 8,
    "start_time": "2022-03-29T05:34:41.907Z"
   },
   {
    "duration": 8,
    "start_time": "2022-03-29T05:34:41.917Z"
   },
   {
    "duration": 11,
    "start_time": "2022-03-29T05:34:41.927Z"
   },
   {
    "duration": 7,
    "start_time": "2022-03-29T05:34:41.940Z"
   },
   {
    "duration": 8,
    "start_time": "2022-03-29T05:34:41.949Z"
   },
   {
    "duration": 7,
    "start_time": "2022-03-29T05:34:41.959Z"
   },
   {
    "duration": 8,
    "start_time": "2022-03-29T05:34:41.968Z"
   },
   {
    "duration": 10,
    "start_time": "2022-03-29T05:34:41.979Z"
   },
   {
    "duration": 11,
    "start_time": "2022-03-29T05:34:41.991Z"
   },
   {
    "duration": 11,
    "start_time": "2022-03-29T05:34:42.004Z"
   },
   {
    "duration": 7,
    "start_time": "2022-03-29T05:34:42.018Z"
   },
   {
    "duration": 6,
    "start_time": "2022-03-29T05:34:42.027Z"
   },
   {
    "duration": 7,
    "start_time": "2022-03-29T05:34:42.036Z"
   },
   {
    "duration": 9,
    "start_time": "2022-03-29T05:34:42.045Z"
   },
   {
    "duration": 6,
    "start_time": "2022-03-29T05:34:42.058Z"
   },
   {
    "duration": 28,
    "start_time": "2022-03-29T05:35:21.205Z"
   },
   {
    "duration": 29,
    "start_time": "2022-03-29T05:35:24.389Z"
   },
   {
    "duration": 18,
    "start_time": "2022-03-29T05:35:32.365Z"
   },
   {
    "duration": 8,
    "start_time": "2022-03-29T05:35:46.335Z"
   },
   {
    "duration": 51,
    "start_time": "2022-03-29T05:36:40.471Z"
   },
   {
    "duration": 425,
    "start_time": "2022-03-29T05:36:50.698Z"
   },
   {
    "duration": 163,
    "start_time": "2022-03-29T05:36:51.125Z"
   },
   {
    "duration": 26,
    "start_time": "2022-03-29T05:36:51.290Z"
   },
   {
    "duration": 10,
    "start_time": "2022-03-29T05:36:51.318Z"
   },
   {
    "duration": 8,
    "start_time": "2022-03-29T05:36:51.331Z"
   },
   {
    "duration": 12,
    "start_time": "2022-03-29T05:36:51.341Z"
   },
   {
    "duration": 13,
    "start_time": "2022-03-29T05:36:51.355Z"
   },
   {
    "duration": 29,
    "start_time": "2022-03-29T05:36:51.402Z"
   },
   {
    "duration": 31,
    "start_time": "2022-03-29T05:36:51.433Z"
   },
   {
    "duration": 2533,
    "start_time": "2022-03-29T05:37:05.175Z"
   },
   {
    "duration": 7,
    "start_time": "2022-03-29T05:37:25.363Z"
   },
   {
    "duration": 3,
    "start_time": "2022-03-29T05:37:56.729Z"
   },
   {
    "duration": 4,
    "start_time": "2022-03-29T05:38:03.095Z"
   },
   {
    "duration": 9,
    "start_time": "2022-03-29T05:38:13.183Z"
   },
   {
    "duration": 196,
    "start_time": "2022-03-29T05:38:53.960Z"
   },
   {
    "duration": 9,
    "start_time": "2022-03-29T05:39:01.520Z"
   },
   {
    "duration": 9,
    "start_time": "2022-03-29T05:39:03.817Z"
   },
   {
    "duration": 20,
    "start_time": "2022-03-29T05:40:22.153Z"
   },
   {
    "duration": 421,
    "start_time": "2022-03-29T05:40:38.142Z"
   },
   {
    "duration": 169,
    "start_time": "2022-03-29T05:40:38.565Z"
   },
   {
    "duration": 20,
    "start_time": "2022-03-29T05:40:38.736Z"
   },
   {
    "duration": 10,
    "start_time": "2022-03-29T05:40:38.758Z"
   },
   {
    "duration": 31,
    "start_time": "2022-03-29T05:40:38.771Z"
   },
   {
    "duration": 13,
    "start_time": "2022-03-29T05:40:38.804Z"
   },
   {
    "duration": 13,
    "start_time": "2022-03-29T05:40:38.820Z"
   },
   {
    "duration": 31,
    "start_time": "2022-03-29T05:40:38.835Z"
   },
   {
    "duration": 142,
    "start_time": "2022-03-29T05:40:38.868Z"
   },
   {
    "duration": 54,
    "start_time": "2022-03-30T16:29:00.520Z"
   },
   {
    "duration": 443,
    "start_time": "2022-03-30T16:29:12.022Z"
   },
   {
    "duration": 197,
    "start_time": "2022-03-30T16:29:12.468Z"
   },
   {
    "duration": 38,
    "start_time": "2022-03-30T16:29:12.668Z"
   },
   {
    "duration": 17,
    "start_time": "2022-03-30T16:29:12.709Z"
   },
   {
    "duration": 6,
    "start_time": "2022-03-30T16:29:12.728Z"
   },
   {
    "duration": 16,
    "start_time": "2022-03-30T16:29:12.737Z"
   },
   {
    "duration": 9,
    "start_time": "2022-03-30T16:29:12.756Z"
   },
   {
    "duration": 80,
    "start_time": "2022-03-30T16:29:12.768Z"
   },
   {
    "duration": 28,
    "start_time": "2022-03-30T16:29:12.850Z"
   },
   {
    "duration": 27,
    "start_time": "2022-03-30T16:29:17.949Z"
   },
   {
    "duration": 29,
    "start_time": "2022-03-30T16:29:33.135Z"
   },
   {
    "duration": 40,
    "start_time": "2022-03-30T16:31:19.686Z"
   },
   {
    "duration": 31,
    "start_time": "2022-03-30T16:33:16.598Z"
   },
   {
    "duration": 20,
    "start_time": "2022-03-30T16:35:02.406Z"
   },
   {
    "duration": 28,
    "start_time": "2022-03-30T16:35:17.932Z"
   },
   {
    "duration": 31,
    "start_time": "2022-03-30T16:35:50.084Z"
   },
   {
    "duration": 46,
    "start_time": "2022-03-30T16:38:46.166Z"
   },
   {
    "duration": 26,
    "start_time": "2022-03-30T16:38:55.485Z"
   },
   {
    "duration": 28,
    "start_time": "2022-03-30T16:38:59.734Z"
   },
   {
    "duration": 81,
    "start_time": "2022-03-30T16:39:20.734Z"
   },
   {
    "duration": 146,
    "start_time": "2022-03-30T16:40:13.566Z"
   },
   {
    "duration": 112,
    "start_time": "2022-03-30T16:40:28.558Z"
   },
   {
    "duration": 13,
    "start_time": "2022-03-30T16:41:02.135Z"
   },
   {
    "duration": 33,
    "start_time": "2022-03-30T16:45:54.758Z"
   },
   {
    "duration": 3,
    "start_time": "2022-03-30T16:46:28.661Z"
   },
   {
    "duration": 176,
    "start_time": "2022-03-30T16:46:28.666Z"
   },
   {
    "duration": 11,
    "start_time": "2022-03-30T16:46:28.844Z"
   },
   {
    "duration": 12,
    "start_time": "2022-03-30T16:46:28.857Z"
   },
   {
    "duration": 30,
    "start_time": "2022-03-30T16:46:28.872Z"
   },
   {
    "duration": 9,
    "start_time": "2022-03-30T16:46:28.904Z"
   },
   {
    "duration": 5,
    "start_time": "2022-03-30T16:46:28.915Z"
   },
   {
    "duration": 30,
    "start_time": "2022-03-30T16:46:28.922Z"
   },
   {
    "duration": 55,
    "start_time": "2022-03-30T16:46:28.954Z"
   },
   {
    "duration": 27,
    "start_time": "2022-03-30T16:46:29.010Z"
   },
   {
    "duration": 93,
    "start_time": "2022-03-30T16:46:29.040Z"
   },
   {
    "duration": 131,
    "start_time": "2022-03-30T16:46:29.135Z"
   },
   {
    "duration": 112,
    "start_time": "2022-03-30T16:46:29.270Z"
   },
   {
    "duration": 21,
    "start_time": "2022-03-30T16:46:29.384Z"
   },
   {
    "duration": 187,
    "start_time": "2022-03-30T16:49:48.610Z"
   },
   {
    "duration": 54,
    "start_time": "2022-03-30T16:50:08.578Z"
   },
   {
    "duration": 4,
    "start_time": "2022-03-30T16:53:04.796Z"
   },
   {
    "duration": 54,
    "start_time": "2022-03-30T17:04:05.662Z"
   },
   {
    "duration": 446,
    "start_time": "2022-03-30T17:04:09.589Z"
   },
   {
    "duration": 186,
    "start_time": "2022-03-30T17:04:10.037Z"
   },
   {
    "duration": 20,
    "start_time": "2022-03-30T17:04:10.225Z"
   },
   {
    "duration": 10,
    "start_time": "2022-03-30T17:04:10.247Z"
   },
   {
    "duration": 6,
    "start_time": "2022-03-30T17:04:10.259Z"
   },
   {
    "duration": 40,
    "start_time": "2022-03-30T17:04:10.267Z"
   },
   {
    "duration": 11,
    "start_time": "2022-03-30T17:04:10.309Z"
   },
   {
    "duration": 32,
    "start_time": "2022-03-30T17:04:10.322Z"
   },
   {
    "duration": 31,
    "start_time": "2022-03-30T17:04:10.356Z"
   },
   {
    "duration": 35,
    "start_time": "2022-03-30T17:04:10.389Z"
   },
   {
    "duration": 92,
    "start_time": "2022-03-30T17:04:10.426Z"
   },
   {
    "duration": 100,
    "start_time": "2022-03-30T17:04:10.520Z"
   },
   {
    "duration": 78,
    "start_time": "2022-03-30T17:04:10.623Z"
   },
   {
    "duration": 9,
    "start_time": "2022-03-30T17:04:10.703Z"
   },
   {
    "duration": 4,
    "start_time": "2022-03-30T17:04:10.714Z"
   },
   {
    "duration": 15,
    "start_time": "2022-03-30T17:04:10.719Z"
   },
   {
    "duration": 9,
    "start_time": "2022-03-30T17:04:10.736Z"
   },
   {
    "duration": 50,
    "start_time": "2022-03-30T17:04:35.076Z"
   },
   {
    "duration": 11,
    "start_time": "2022-03-30T17:05:39.108Z"
   },
   {
    "duration": 56,
    "start_time": "2022-03-30T17:05:48.005Z"
   },
   {
    "duration": 43,
    "start_time": "2022-03-30T17:06:03.487Z"
   },
   {
    "duration": 8,
    "start_time": "2022-03-30T17:08:35.511Z"
   },
   {
    "duration": 12,
    "start_time": "2022-03-30T17:09:22.230Z"
   },
   {
    "duration": 6,
    "start_time": "2022-03-30T17:10:24.608Z"
   },
   {
    "duration": 8,
    "start_time": "2022-03-30T17:10:31.976Z"
   },
   {
    "duration": 3,
    "start_time": "2022-03-30T17:10:46.692Z"
   },
   {
    "duration": 174,
    "start_time": "2022-03-30T17:10:46.697Z"
   },
   {
    "duration": 12,
    "start_time": "2022-03-30T17:10:46.873Z"
   },
   {
    "duration": 19,
    "start_time": "2022-03-30T17:10:46.887Z"
   },
   {
    "duration": 6,
    "start_time": "2022-03-30T17:10:46.908Z"
   },
   {
    "duration": 11,
    "start_time": "2022-03-30T17:10:46.916Z"
   },
   {
    "duration": 4,
    "start_time": "2022-03-30T17:10:46.929Z"
   },
   {
    "duration": 28,
    "start_time": "2022-03-30T17:10:46.935Z"
   },
   {
    "duration": 44,
    "start_time": "2022-03-30T17:10:46.966Z"
   },
   {
    "duration": 26,
    "start_time": "2022-03-30T17:10:47.013Z"
   },
   {
    "duration": 91,
    "start_time": "2022-03-30T17:10:47.040Z"
   },
   {
    "duration": 90,
    "start_time": "2022-03-30T17:10:47.133Z"
   },
   {
    "duration": 62,
    "start_time": "2022-03-30T17:10:47.225Z"
   },
   {
    "duration": 17,
    "start_time": "2022-03-30T17:10:47.288Z"
   },
   {
    "duration": 4,
    "start_time": "2022-03-30T17:10:47.306Z"
   },
   {
    "duration": 14,
    "start_time": "2022-03-30T17:10:47.311Z"
   },
   {
    "duration": 8,
    "start_time": "2022-03-30T17:10:51.271Z"
   },
   {
    "duration": 6,
    "start_time": "2022-03-30T17:11:47.775Z"
   },
   {
    "duration": 10,
    "start_time": "2022-03-30T17:11:54.718Z"
   },
   {
    "duration": 8,
    "start_time": "2022-03-30T17:12:03.592Z"
   },
   {
    "duration": 9,
    "start_time": "2022-03-30T17:12:22.880Z"
   },
   {
    "duration": 7,
    "start_time": "2022-03-30T17:12:25.911Z"
   },
   {
    "duration": 8,
    "start_time": "2022-03-30T17:13:16.415Z"
   },
   {
    "duration": 6,
    "start_time": "2022-03-30T17:13:27.385Z"
   },
   {
    "duration": 7,
    "start_time": "2022-03-30T17:14:08.416Z"
   },
   {
    "duration": 6,
    "start_time": "2022-03-30T17:14:14.720Z"
   },
   {
    "duration": 9,
    "start_time": "2022-03-30T17:14:19.151Z"
   },
   {
    "duration": 12,
    "start_time": "2022-03-30T17:16:11.626Z"
   },
   {
    "duration": 8,
    "start_time": "2022-03-30T17:16:36.074Z"
   },
   {
    "duration": 6,
    "start_time": "2022-03-30T17:16:44.185Z"
   },
   {
    "duration": 42,
    "start_time": "2022-03-30T17:17:10.170Z"
   },
   {
    "duration": 46,
    "start_time": "2022-03-30T17:17:21.034Z"
   },
   {
    "duration": 11,
    "start_time": "2022-03-30T17:50:12.649Z"
   },
   {
    "duration": 9,
    "start_time": "2022-03-30T17:51:42.146Z"
   },
   {
    "duration": 8,
    "start_time": "2022-03-30T17:52:23.891Z"
   },
   {
    "duration": 8,
    "start_time": "2022-03-30T17:52:29.387Z"
   },
   {
    "duration": 134,
    "start_time": "2022-03-30T17:52:36.205Z"
   },
   {
    "duration": 3,
    "start_time": "2022-03-30T17:52:46.426Z"
   },
   {
    "duration": 4,
    "start_time": "2022-03-30T17:53:18.795Z"
   },
   {
    "duration": 5,
    "start_time": "2022-03-30T17:53:37.195Z"
   },
   {
    "duration": 3,
    "start_time": "2022-03-30T17:53:40.905Z"
   },
   {
    "duration": 189,
    "start_time": "2022-03-30T17:53:40.910Z"
   },
   {
    "duration": 12,
    "start_time": "2022-03-30T17:53:41.101Z"
   },
   {
    "duration": 12,
    "start_time": "2022-03-30T17:53:41.115Z"
   },
   {
    "duration": 16,
    "start_time": "2022-03-30T17:53:41.130Z"
   },
   {
    "duration": 12,
    "start_time": "2022-03-30T17:53:41.147Z"
   },
   {
    "duration": 5,
    "start_time": "2022-03-30T17:53:41.161Z"
   },
   {
    "duration": 58,
    "start_time": "2022-03-30T17:53:41.167Z"
   },
   {
    "duration": 22,
    "start_time": "2022-03-30T17:53:41.227Z"
   },
   {
    "duration": 30,
    "start_time": "2022-03-30T17:53:41.251Z"
   },
   {
    "duration": 94,
    "start_time": "2022-03-30T17:53:41.282Z"
   },
   {
    "duration": 88,
    "start_time": "2022-03-30T17:53:41.378Z"
   },
   {
    "duration": 82,
    "start_time": "2022-03-30T17:53:41.468Z"
   },
   {
    "duration": 10,
    "start_time": "2022-03-30T17:53:41.554Z"
   },
   {
    "duration": 4,
    "start_time": "2022-03-30T17:53:41.566Z"
   },
   {
    "duration": 36,
    "start_time": "2022-03-30T17:53:41.572Z"
   },
   {
    "duration": 49,
    "start_time": "2022-03-30T17:53:41.610Z"
   },
   {
    "duration": 5,
    "start_time": "2022-03-30T17:53:41.661Z"
   },
   {
    "duration": 5,
    "start_time": "2022-03-30T17:53:41.668Z"
   },
   {
    "duration": 29,
    "start_time": "2022-03-30T17:53:41.675Z"
   },
   {
    "duration": 8,
    "start_time": "2022-03-30T17:53:41.706Z"
   },
   {
    "duration": 6,
    "start_time": "2022-03-30T17:53:41.716Z"
   },
   {
    "duration": 9,
    "start_time": "2022-03-30T17:53:41.724Z"
   },
   {
    "duration": 10,
    "start_time": "2022-03-30T17:53:41.735Z"
   },
   {
    "duration": 9,
    "start_time": "2022-03-30T17:53:41.748Z"
   },
   {
    "duration": 11,
    "start_time": "2022-03-30T17:53:41.759Z"
   },
   {
    "duration": 9,
    "start_time": "2022-03-30T17:53:41.772Z"
   },
   {
    "duration": 11,
    "start_time": "2022-03-30T17:53:41.783Z"
   },
   {
    "duration": 9,
    "start_time": "2022-03-30T17:53:41.797Z"
   },
   {
    "duration": 10,
    "start_time": "2022-03-30T17:53:41.808Z"
   },
   {
    "duration": 25,
    "start_time": "2022-03-30T17:53:41.819Z"
   },
   {
    "duration": 9,
    "start_time": "2022-03-30T17:53:41.846Z"
   },
   {
    "duration": 12,
    "start_time": "2022-03-30T17:53:41.857Z"
   },
   {
    "duration": 11,
    "start_time": "2022-03-30T17:53:41.871Z"
   },
   {
    "duration": 8,
    "start_time": "2022-03-30T17:53:41.884Z"
   },
   {
    "duration": 7,
    "start_time": "2022-03-30T17:53:41.894Z"
   },
   {
    "duration": 8,
    "start_time": "2022-03-30T17:53:41.903Z"
   },
   {
    "duration": 8,
    "start_time": "2022-03-30T17:53:41.913Z"
   },
   {
    "duration": 5,
    "start_time": "2022-03-30T17:53:51.515Z"
   },
   {
    "duration": 6,
    "start_time": "2022-03-30T17:56:19.510Z"
   },
   {
    "duration": 6,
    "start_time": "2022-03-30T18:02:19.855Z"
   },
   {
    "duration": 37,
    "start_time": "2022-03-30T18:05:19.040Z"
   },
   {
    "duration": 14,
    "start_time": "2022-03-30T18:06:22.008Z"
   },
   {
    "duration": 5,
    "start_time": "2022-03-30T18:06:44.369Z"
   },
   {
    "duration": 14,
    "start_time": "2022-03-30T18:06:47.170Z"
   },
   {
    "duration": 14,
    "start_time": "2022-03-30T18:12:51.979Z"
   },
   {
    "duration": 18,
    "start_time": "2022-03-30T18:17:28.142Z"
   },
   {
    "duration": 418,
    "start_time": "2022-03-30T19:27:41.663Z"
   },
   {
    "duration": 150,
    "start_time": "2022-03-30T19:27:42.083Z"
   },
   {
    "duration": 18,
    "start_time": "2022-03-30T19:27:42.234Z"
   },
   {
    "duration": 8,
    "start_time": "2022-03-30T19:27:42.254Z"
   },
   {
    "duration": 12,
    "start_time": "2022-03-30T19:27:42.263Z"
   },
   {
    "duration": 12,
    "start_time": "2022-03-30T19:27:42.276Z"
   },
   {
    "duration": 7,
    "start_time": "2022-03-30T19:27:42.290Z"
   },
   {
    "duration": 54,
    "start_time": "2022-03-30T19:27:42.298Z"
   },
   {
    "duration": 18,
    "start_time": "2022-03-30T19:27:42.354Z"
   },
   {
    "duration": 24,
    "start_time": "2022-03-30T19:27:42.375Z"
   },
   {
    "duration": 83,
    "start_time": "2022-03-30T19:27:42.401Z"
   },
   {
    "duration": 90,
    "start_time": "2022-03-30T19:27:42.486Z"
   },
   {
    "duration": 67,
    "start_time": "2022-03-30T19:27:42.577Z"
   },
   {
    "duration": 8,
    "start_time": "2022-03-30T19:27:42.645Z"
   },
   {
    "duration": 9,
    "start_time": "2022-03-30T19:27:42.654Z"
   },
   {
    "duration": 16,
    "start_time": "2022-03-30T19:27:42.665Z"
   },
   {
    "duration": 52,
    "start_time": "2022-03-30T19:27:42.683Z"
   },
   {
    "duration": 16,
    "start_time": "2022-03-30T19:27:42.736Z"
   },
   {
    "duration": 14,
    "start_time": "2022-03-30T19:27:42.754Z"
   },
   {
    "duration": 4,
    "start_time": "2022-03-30T19:27:42.770Z"
   },
   {
    "duration": 17,
    "start_time": "2022-03-30T19:27:42.775Z"
   },
   {
    "duration": 42,
    "start_time": "2022-03-30T19:27:42.794Z"
   },
   {
    "duration": 20,
    "start_time": "2022-03-30T19:27:42.838Z"
   },
   {
    "duration": 18,
    "start_time": "2022-03-30T19:27:42.860Z"
   },
   {
    "duration": 16,
    "start_time": "2022-03-30T19:27:42.879Z"
   },
   {
    "duration": 21,
    "start_time": "2022-03-30T19:28:05.914Z"
   },
   {
    "duration": 22,
    "start_time": "2022-03-30T19:28:30.569Z"
   },
   {
    "duration": 3,
    "start_time": "2022-03-30T19:28:42.672Z"
   },
   {
    "duration": 22,
    "start_time": "2022-03-30T19:28:44.816Z"
   },
   {
    "duration": 2,
    "start_time": "2022-03-30T19:29:28.101Z"
   },
   {
    "duration": 163,
    "start_time": "2022-03-30T19:29:28.105Z"
   },
   {
    "duration": 10,
    "start_time": "2022-03-30T19:29:28.270Z"
   },
   {
    "duration": 16,
    "start_time": "2022-03-30T19:29:28.281Z"
   },
   {
    "duration": 7,
    "start_time": "2022-03-30T19:29:28.299Z"
   },
   {
    "duration": 25,
    "start_time": "2022-03-30T19:29:28.308Z"
   },
   {
    "duration": 4,
    "start_time": "2022-03-30T19:29:28.334Z"
   },
   {
    "duration": 30,
    "start_time": "2022-03-30T19:29:28.340Z"
   },
   {
    "duration": 17,
    "start_time": "2022-03-30T19:29:28.371Z"
   },
   {
    "duration": 45,
    "start_time": "2022-03-30T19:29:28.390Z"
   },
   {
    "duration": 69,
    "start_time": "2022-03-30T19:29:28.438Z"
   },
   {
    "duration": 80,
    "start_time": "2022-03-30T19:29:28.508Z"
   },
   {
    "duration": 70,
    "start_time": "2022-03-30T19:29:28.589Z"
   },
   {
    "duration": 8,
    "start_time": "2022-03-30T19:29:28.660Z"
   },
   {
    "duration": 6,
    "start_time": "2022-03-30T19:29:28.669Z"
   },
   {
    "duration": 17,
    "start_time": "2022-03-30T19:29:28.676Z"
   },
   {
    "duration": 52,
    "start_time": "2022-03-30T19:29:28.695Z"
   },
   {
    "duration": 13,
    "start_time": "2022-03-30T19:29:28.749Z"
   },
   {
    "duration": 11,
    "start_time": "2022-03-30T19:29:28.764Z"
   },
   {
    "duration": 4,
    "start_time": "2022-03-30T19:29:28.777Z"
   },
   {
    "duration": 55,
    "start_time": "2022-03-30T19:29:28.782Z"
   },
   {
    "duration": 19,
    "start_time": "2022-03-30T19:29:28.839Z"
   },
   {
    "duration": 28,
    "start_time": "2022-03-30T19:29:28.859Z"
   },
   {
    "duration": 19,
    "start_time": "2022-03-30T19:29:28.889Z"
   },
   {
    "duration": 43,
    "start_time": "2022-03-30T19:29:28.910Z"
   },
   {
    "duration": 20,
    "start_time": "2022-03-30T19:29:32.263Z"
   },
   {
    "duration": 3,
    "start_time": "2022-03-30T19:31:18.058Z"
   },
   {
    "duration": 23,
    "start_time": "2022-03-30T19:31:20.281Z"
   },
   {
    "duration": 22,
    "start_time": "2022-03-30T19:31:23.561Z"
   },
   {
    "duration": 22,
    "start_time": "2022-03-30T19:31:24.097Z"
   },
   {
    "duration": 21,
    "start_time": "2022-03-30T19:31:24.673Z"
   },
   {
    "duration": 25,
    "start_time": "2022-03-30T19:31:25.313Z"
   },
   {
    "duration": 69,
    "start_time": "2022-03-30T19:38:35.203Z"
   },
   {
    "duration": 14,
    "start_time": "2022-03-30T19:38:52.659Z"
   },
   {
    "duration": 12,
    "start_time": "2022-03-30T19:40:35.557Z"
   },
   {
    "duration": 15,
    "start_time": "2022-03-30T19:40:40.020Z"
   },
   {
    "duration": 3,
    "start_time": "2022-03-30T19:41:33.816Z"
   },
   {
    "duration": 175,
    "start_time": "2022-03-30T19:41:33.820Z"
   },
   {
    "duration": 10,
    "start_time": "2022-03-30T19:41:33.997Z"
   },
   {
    "duration": 52,
    "start_time": "2022-03-30T19:41:34.008Z"
   },
   {
    "duration": 9,
    "start_time": "2022-03-30T19:41:34.061Z"
   },
   {
    "duration": 12,
    "start_time": "2022-03-30T19:41:34.072Z"
   },
   {
    "duration": 6,
    "start_time": "2022-03-30T19:41:34.086Z"
   },
   {
    "duration": 27,
    "start_time": "2022-03-30T19:41:34.094Z"
   },
   {
    "duration": 25,
    "start_time": "2022-03-30T19:41:34.123Z"
   },
   {
    "duration": 24,
    "start_time": "2022-03-30T19:41:34.152Z"
   },
   {
    "duration": 84,
    "start_time": "2022-03-30T19:41:34.177Z"
   },
   {
    "duration": 87,
    "start_time": "2022-03-30T19:41:34.263Z"
   },
   {
    "duration": 57,
    "start_time": "2022-03-30T19:41:34.352Z"
   },
   {
    "duration": 23,
    "start_time": "2022-03-30T19:41:34.411Z"
   },
   {
    "duration": 8,
    "start_time": "2022-03-30T19:41:34.437Z"
   },
   {
    "duration": 14,
    "start_time": "2022-03-30T19:41:34.448Z"
   },
   {
    "duration": 40,
    "start_time": "2022-03-30T19:41:34.464Z"
   },
   {
    "duration": 40,
    "start_time": "2022-03-30T19:41:34.506Z"
   },
   {
    "duration": 12,
    "start_time": "2022-03-30T19:41:34.548Z"
   },
   {
    "duration": 30,
    "start_time": "2022-03-30T19:41:34.561Z"
   },
   {
    "duration": 26,
    "start_time": "2022-03-30T19:41:34.593Z"
   },
   {
    "duration": 28,
    "start_time": "2022-03-30T19:41:34.621Z"
   },
   {
    "duration": 24,
    "start_time": "2022-03-30T19:41:34.651Z"
   },
   {
    "duration": 20,
    "start_time": "2022-03-30T19:41:34.677Z"
   },
   {
    "duration": 58,
    "start_time": "2022-03-30T19:41:34.699Z"
   },
   {
    "duration": 18,
    "start_time": "2022-03-30T19:41:34.759Z"
   },
   {
    "duration": 12,
    "start_time": "2022-03-30T19:41:34.779Z"
   },
   {
    "duration": 0,
    "start_time": "2022-03-30T19:41:34.792Z"
   },
   {
    "duration": 0,
    "start_time": "2022-03-30T19:41:34.794Z"
   },
   {
    "duration": 0,
    "start_time": "2022-03-30T19:41:34.796Z"
   },
   {
    "duration": 0,
    "start_time": "2022-03-30T19:41:34.797Z"
   },
   {
    "duration": 0,
    "start_time": "2022-03-30T19:41:34.799Z"
   },
   {
    "duration": 0,
    "start_time": "2022-03-30T19:41:34.800Z"
   },
   {
    "duration": 0,
    "start_time": "2022-03-30T19:41:34.801Z"
   },
   {
    "duration": 0,
    "start_time": "2022-03-30T19:41:34.833Z"
   },
   {
    "duration": 0,
    "start_time": "2022-03-30T19:41:34.835Z"
   },
   {
    "duration": 0,
    "start_time": "2022-03-30T19:41:34.837Z"
   },
   {
    "duration": 0,
    "start_time": "2022-03-30T19:41:34.839Z"
   },
   {
    "duration": 8,
    "start_time": "2022-03-30T19:45:13.869Z"
   },
   {
    "duration": 12,
    "start_time": "2022-03-30T19:45:57.197Z"
   },
   {
    "duration": 20,
    "start_time": "2022-03-30T19:46:13.182Z"
   },
   {
    "duration": 12,
    "start_time": "2022-03-30T19:46:15.646Z"
   },
   {
    "duration": 3,
    "start_time": "2022-03-30T19:46:21.894Z"
   },
   {
    "duration": 11,
    "start_time": "2022-03-30T19:46:24.413Z"
   },
   {
    "duration": 3,
    "start_time": "2022-03-30T19:46:35.550Z"
   },
   {
    "duration": 28,
    "start_time": "2022-03-30T19:46:38.125Z"
   },
   {
    "duration": 24,
    "start_time": "2022-03-30T19:47:36.597Z"
   },
   {
    "duration": 20,
    "start_time": "2022-03-30T19:47:37.597Z"
   },
   {
    "duration": 20,
    "start_time": "2022-03-30T19:47:49.974Z"
   },
   {
    "duration": 22,
    "start_time": "2022-03-30T19:47:50.701Z"
   },
   {
    "duration": 19,
    "start_time": "2022-03-30T19:47:51.301Z"
   },
   {
    "duration": 3,
    "start_time": "2022-03-30T19:48:02.830Z"
   },
   {
    "duration": 23,
    "start_time": "2022-03-30T19:48:04.351Z"
   },
   {
    "duration": 20,
    "start_time": "2022-03-30T19:48:04.966Z"
   },
   {
    "duration": 23,
    "start_time": "2022-03-30T19:48:05.470Z"
   },
   {
    "duration": 21,
    "start_time": "2022-03-30T19:48:05.990Z"
   },
   {
    "duration": 23,
    "start_time": "2022-03-30T19:48:06.654Z"
   },
   {
    "duration": 20,
    "start_time": "2022-03-30T19:48:07.278Z"
   },
   {
    "duration": 3,
    "start_time": "2022-03-30T19:48:34.203Z"
   },
   {
    "duration": 21,
    "start_time": "2022-03-30T19:48:35.141Z"
   },
   {
    "duration": 21,
    "start_time": "2022-03-30T19:48:35.669Z"
   },
   {
    "duration": 23,
    "start_time": "2022-03-30T19:48:36.410Z"
   },
   {
    "duration": 19,
    "start_time": "2022-03-30T19:48:36.590Z"
   },
   {
    "duration": 23,
    "start_time": "2022-03-30T19:48:36.910Z"
   },
   {
    "duration": 21,
    "start_time": "2022-03-30T19:48:37.725Z"
   },
   {
    "duration": 3,
    "start_time": "2022-03-30T19:49:26.230Z"
   },
   {
    "duration": 12,
    "start_time": "2022-03-30T19:49:27.975Z"
   },
   {
    "duration": 3,
    "start_time": "2022-03-30T19:50:11.751Z"
   },
   {
    "duration": 22,
    "start_time": "2022-03-30T19:50:12.751Z"
   },
   {
    "duration": 3,
    "start_time": "2022-03-30T19:50:32.390Z"
   },
   {
    "duration": 20,
    "start_time": "2022-03-30T19:50:33.615Z"
   },
   {
    "duration": 18,
    "start_time": "2022-03-30T19:50:37.814Z"
   },
   {
    "duration": 3,
    "start_time": "2022-03-30T19:50:55.803Z"
   },
   {
    "duration": 143,
    "start_time": "2022-03-30T19:50:55.807Z"
   },
   {
    "duration": 10,
    "start_time": "2022-03-30T19:50:55.952Z"
   },
   {
    "duration": 12,
    "start_time": "2022-03-30T19:50:55.963Z"
   },
   {
    "duration": 10,
    "start_time": "2022-03-30T19:50:55.977Z"
   },
   {
    "duration": 12,
    "start_time": "2022-03-30T19:50:55.989Z"
   },
   {
    "duration": 8,
    "start_time": "2022-03-30T19:50:56.003Z"
   },
   {
    "duration": 38,
    "start_time": "2022-03-30T19:50:56.012Z"
   },
   {
    "duration": 20,
    "start_time": "2022-03-30T19:50:56.052Z"
   },
   {
    "duration": 24,
    "start_time": "2022-03-30T19:50:56.074Z"
   },
   {
    "duration": 79,
    "start_time": "2022-03-30T19:50:56.101Z"
   },
   {
    "duration": 79,
    "start_time": "2022-03-30T19:50:56.182Z"
   },
   {
    "duration": 55,
    "start_time": "2022-03-30T19:50:56.263Z"
   },
   {
    "duration": 15,
    "start_time": "2022-03-30T19:50:56.320Z"
   },
   {
    "duration": 3,
    "start_time": "2022-03-30T19:50:56.336Z"
   },
   {
    "duration": 14,
    "start_time": "2022-03-30T19:50:56.340Z"
   },
   {
    "duration": 40,
    "start_time": "2022-03-30T19:50:56.356Z"
   },
   {
    "duration": 41,
    "start_time": "2022-03-30T19:50:56.398Z"
   },
   {
    "duration": 12,
    "start_time": "2022-03-30T19:50:56.440Z"
   },
   {
    "duration": 4,
    "start_time": "2022-03-30T19:50:59.718Z"
   },
   {
    "duration": 22,
    "start_time": "2022-03-30T19:51:01.479Z"
   },
   {
    "duration": 20,
    "start_time": "2022-03-30T19:51:15.559Z"
   },
   {
    "duration": 3,
    "start_time": "2022-03-30T19:51:47.379Z"
   },
   {
    "duration": 149,
    "start_time": "2022-03-30T19:51:47.384Z"
   },
   {
    "duration": 10,
    "start_time": "2022-03-30T19:51:47.535Z"
   },
   {
    "duration": 10,
    "start_time": "2022-03-30T19:51:47.546Z"
   },
   {
    "duration": 6,
    "start_time": "2022-03-30T19:51:47.557Z"
   },
   {
    "duration": 10,
    "start_time": "2022-03-30T19:51:47.565Z"
   },
   {
    "duration": 5,
    "start_time": "2022-03-30T19:51:47.576Z"
   },
   {
    "duration": 55,
    "start_time": "2022-03-30T19:51:47.582Z"
   },
   {
    "duration": 18,
    "start_time": "2022-03-30T19:51:47.639Z"
   },
   {
    "duration": 24,
    "start_time": "2022-03-30T19:51:47.659Z"
   },
   {
    "duration": 83,
    "start_time": "2022-03-30T19:51:47.686Z"
   },
   {
    "duration": 77,
    "start_time": "2022-03-30T19:51:47.771Z"
   },
   {
    "duration": 54,
    "start_time": "2022-03-30T19:51:47.850Z"
   },
   {
    "duration": 7,
    "start_time": "2022-03-30T19:51:47.906Z"
   },
   {
    "duration": 20,
    "start_time": "2022-03-30T19:51:47.914Z"
   },
   {
    "duration": 16,
    "start_time": "2022-03-30T19:51:47.935Z"
   },
   {
    "duration": 38,
    "start_time": "2022-03-30T19:51:47.952Z"
   },
   {
    "duration": 12,
    "start_time": "2022-03-30T19:51:47.991Z"
   },
   {
    "duration": 35,
    "start_time": "2022-03-30T19:51:48.004Z"
   },
   {
    "duration": 3,
    "start_time": "2022-03-30T19:51:48.041Z"
   },
   {
    "duration": 23,
    "start_time": "2022-03-30T19:51:48.045Z"
   },
   {
    "duration": 22,
    "start_time": "2022-03-30T19:51:48.070Z"
   },
   {
    "duration": 19,
    "start_time": "2022-03-30T19:51:48.094Z"
   },
   {
    "duration": 18,
    "start_time": "2022-03-30T19:51:48.133Z"
   },
   {
    "duration": 21,
    "start_time": "2022-03-30T19:51:48.153Z"
   },
   {
    "duration": 19,
    "start_time": "2022-03-30T19:51:48.175Z"
   },
   {
    "duration": 9,
    "start_time": "2022-03-30T19:51:48.195Z"
   },
   {
    "duration": 2,
    "start_time": "2022-03-30T19:51:48.234Z"
   },
   {
    "duration": 3,
    "start_time": "2022-03-30T19:51:48.239Z"
   },
   {
    "duration": 4,
    "start_time": "2022-03-30T19:51:48.244Z"
   },
   {
    "duration": 6,
    "start_time": "2022-03-30T19:51:48.249Z"
   },
   {
    "duration": 4,
    "start_time": "2022-03-30T19:51:48.257Z"
   },
   {
    "duration": 8,
    "start_time": "2022-03-30T19:51:48.262Z"
   },
   {
    "duration": 4,
    "start_time": "2022-03-30T19:51:48.272Z"
   },
   {
    "duration": 3,
    "start_time": "2022-03-30T19:51:48.278Z"
   },
   {
    "duration": 4,
    "start_time": "2022-03-30T19:51:48.283Z"
   },
   {
    "duration": 4,
    "start_time": "2022-03-30T19:51:48.289Z"
   },
   {
    "duration": 5,
    "start_time": "2022-03-30T19:51:48.294Z"
   },
   {
    "duration": 21,
    "start_time": "2022-03-30T19:52:11.945Z"
   },
   {
    "duration": 3,
    "start_time": "2022-03-30T19:52:27.281Z"
   },
   {
    "duration": 22,
    "start_time": "2022-03-30T19:52:28.545Z"
   },
   {
    "duration": 2,
    "start_time": "2022-03-30T19:52:40.162Z"
   },
   {
    "duration": 23,
    "start_time": "2022-03-30T19:52:41.082Z"
   },
   {
    "duration": 20,
    "start_time": "2022-03-30T19:52:42.186Z"
   },
   {
    "duration": 22,
    "start_time": "2022-03-30T19:52:42.754Z"
   },
   {
    "duration": 18,
    "start_time": "2022-03-30T19:52:43.218Z"
   },
   {
    "duration": 23,
    "start_time": "2022-03-30T19:52:43.778Z"
   },
   {
    "duration": 19,
    "start_time": "2022-03-30T19:52:44.385Z"
   },
   {
    "duration": 3,
    "start_time": "2022-03-30T19:53:06.913Z"
   },
   {
    "duration": 22,
    "start_time": "2022-03-30T19:53:08.321Z"
   },
   {
    "duration": 20,
    "start_time": "2022-03-30T19:53:09.210Z"
   },
   {
    "duration": 24,
    "start_time": "2022-03-30T19:53:10.009Z"
   },
   {
    "duration": 20,
    "start_time": "2022-03-30T19:53:10.521Z"
   },
   {
    "duration": 24,
    "start_time": "2022-03-30T19:53:11.033Z"
   },
   {
    "duration": 21,
    "start_time": "2022-03-30T19:53:11.522Z"
   },
   {
    "duration": 23,
    "start_time": "2022-03-30T19:53:30.794Z"
   },
   {
    "duration": 21,
    "start_time": "2022-03-30T19:53:31.337Z"
   },
   {
    "duration": 23,
    "start_time": "2022-03-30T19:53:31.737Z"
   },
   {
    "duration": 3,
    "start_time": "2022-03-30T19:53:35.721Z"
   },
   {
    "duration": 23,
    "start_time": "2022-03-30T19:53:36.521Z"
   },
   {
    "duration": 20,
    "start_time": "2022-03-30T19:53:37.201Z"
   },
   {
    "duration": 23,
    "start_time": "2022-03-30T19:53:38.753Z"
   },
   {
    "duration": 3,
    "start_time": "2022-03-30T19:54:14.876Z"
   },
   {
    "duration": 24,
    "start_time": "2022-03-30T19:54:15.496Z"
   },
   {
    "duration": 20,
    "start_time": "2022-03-30T19:54:15.713Z"
   },
   {
    "duration": 23,
    "start_time": "2022-03-30T19:54:16.402Z"
   },
   {
    "duration": 19,
    "start_time": "2022-03-30T19:54:17.650Z"
   },
   {
    "duration": 23,
    "start_time": "2022-03-30T19:54:17.994Z"
   },
   {
    "duration": 20,
    "start_time": "2022-03-30T19:54:18.842Z"
   },
   {
    "duration": 3,
    "start_time": "2022-03-30T19:54:56.002Z"
   },
   {
    "duration": 3,
    "start_time": "2022-03-30T19:54:58.290Z"
   },
   {
    "duration": 17,
    "start_time": "2022-03-30T19:55:04.330Z"
   },
   {
    "duration": 14,
    "start_time": "2022-03-30T19:55:04.843Z"
   },
   {
    "duration": 15,
    "start_time": "2022-03-30T19:55:05.314Z"
   },
   {
    "duration": 14,
    "start_time": "2022-03-30T19:55:05.666Z"
   },
   {
    "duration": 17,
    "start_time": "2022-03-30T19:55:06.106Z"
   },
   {
    "duration": 17,
    "start_time": "2022-03-30T19:55:09.042Z"
   },
   {
    "duration": 13,
    "start_time": "2022-03-30T19:56:07.919Z"
   },
   {
    "duration": 108,
    "start_time": "2022-03-30T19:57:43.444Z"
   },
   {
    "duration": 3,
    "start_time": "2022-03-30T19:58:03.590Z"
   },
   {
    "duration": 15,
    "start_time": "2022-03-30T19:58:09.877Z"
   },
   {
    "duration": 3,
    "start_time": "2022-03-30T19:59:14.487Z"
   },
   {
    "duration": 15,
    "start_time": "2022-03-30T19:59:21.453Z"
   },
   {
    "duration": 103,
    "start_time": "2022-03-30T19:59:57.806Z"
   },
   {
    "duration": 3,
    "start_time": "2022-03-30T20:00:04.638Z"
   },
   {
    "duration": 34,
    "start_time": "2022-03-30T20:00:07.982Z"
   },
   {
    "duration": 2,
    "start_time": "2022-03-30T20:01:32.894Z"
   },
   {
    "duration": 17,
    "start_time": "2022-03-30T20:01:33.334Z"
   },
   {
    "duration": 16,
    "start_time": "2022-03-30T20:01:33.550Z"
   },
   {
    "duration": 16,
    "start_time": "2022-03-30T20:01:33.886Z"
   },
   {
    "duration": 14,
    "start_time": "2022-03-30T20:01:34.134Z"
   },
   {
    "duration": 17,
    "start_time": "2022-03-30T20:01:34.374Z"
   },
   {
    "duration": 17,
    "start_time": "2022-03-30T20:01:37.430Z"
   },
   {
    "duration": 13,
    "start_time": "2022-03-30T20:01:44.974Z"
   },
   {
    "duration": 12,
    "start_time": "2022-03-30T20:01:53.087Z"
   },
   {
    "duration": 9,
    "start_time": "2022-03-30T20:02:50.207Z"
   },
   {
    "duration": 71,
    "start_time": "2022-03-30T20:04:56.497Z"
   },
   {
    "duration": 61,
    "start_time": "2022-03-31T16:33:46.689Z"
   },
   {
    "duration": 432,
    "start_time": "2022-03-31T16:33:54.105Z"
   },
   {
    "duration": 166,
    "start_time": "2022-03-31T16:33:54.539Z"
   },
   {
    "duration": 26,
    "start_time": "2022-03-31T16:33:54.707Z"
   },
   {
    "duration": 8,
    "start_time": "2022-03-31T16:33:54.735Z"
   },
   {
    "duration": 8,
    "start_time": "2022-03-31T16:33:54.745Z"
   },
   {
    "duration": 16,
    "start_time": "2022-03-31T16:33:54.754Z"
   },
   {
    "duration": 8,
    "start_time": "2022-03-31T16:33:54.772Z"
   },
   {
    "duration": 31,
    "start_time": "2022-03-31T16:33:54.782Z"
   },
   {
    "duration": 21,
    "start_time": "2022-03-31T16:33:54.814Z"
   },
   {
    "duration": 25,
    "start_time": "2022-03-31T16:33:54.838Z"
   },
   {
    "duration": 74,
    "start_time": "2022-03-31T16:33:54.865Z"
   },
   {
    "duration": 84,
    "start_time": "2022-03-31T16:33:54.941Z"
   },
   {
    "duration": 67,
    "start_time": "2022-03-31T16:33:55.027Z"
   },
   {
    "duration": 8,
    "start_time": "2022-03-31T16:33:55.095Z"
   },
   {
    "duration": 12,
    "start_time": "2022-03-31T16:33:55.105Z"
   },
   {
    "duration": 33,
    "start_time": "2022-03-31T16:33:55.119Z"
   },
   {
    "duration": 42,
    "start_time": "2022-03-31T16:33:55.154Z"
   },
   {
    "duration": 13,
    "start_time": "2022-03-31T16:33:55.198Z"
   },
   {
    "duration": 12,
    "start_time": "2022-03-31T16:33:55.213Z"
   },
   {
    "duration": 3,
    "start_time": "2022-03-31T16:33:55.227Z"
   },
   {
    "duration": 28,
    "start_time": "2022-03-31T16:33:55.231Z"
   },
   {
    "duration": 14,
    "start_time": "2022-03-31T16:33:55.261Z"
   },
   {
    "duration": 14,
    "start_time": "2022-03-31T16:33:55.277Z"
   },
   {
    "duration": 13,
    "start_time": "2022-03-31T16:33:55.293Z"
   },
   {
    "duration": 17,
    "start_time": "2022-03-31T16:33:55.308Z"
   },
   {
    "duration": 15,
    "start_time": "2022-03-31T16:33:55.327Z"
   },
   {
    "duration": 73,
    "start_time": "2022-03-31T16:33:55.344Z"
   },
   {
    "duration": 27,
    "start_time": "2022-03-31T16:34:04.061Z"
   },
   {
    "duration": 4,
    "start_time": "2022-03-31T16:40:13.280Z"
   },
   {
    "duration": 36,
    "start_time": "2022-03-31T16:45:27.344Z"
   },
   {
    "duration": 36,
    "start_time": "2022-03-31T16:45:37.099Z"
   },
   {
    "duration": 46,
    "start_time": "2022-03-31T16:46:02.371Z"
   },
   {
    "duration": 14,
    "start_time": "2022-03-31T16:49:03.437Z"
   },
   {
    "duration": 20,
    "start_time": "2022-03-31T16:52:32.040Z"
   },
   {
    "duration": 21,
    "start_time": "2022-03-31T16:52:48.135Z"
   },
   {
    "duration": 5,
    "start_time": "2022-03-31T16:55:19.223Z"
   },
   {
    "duration": 9,
    "start_time": "2022-03-31T16:55:37.543Z"
   },
   {
    "duration": 11,
    "start_time": "2022-03-31T16:55:43.104Z"
   },
   {
    "duration": 15,
    "start_time": "2022-03-31T16:55:55.789Z"
   },
   {
    "duration": 14,
    "start_time": "2022-03-31T16:56:07.880Z"
   },
   {
    "duration": 10,
    "start_time": "2022-03-31T16:56:18.352Z"
   },
   {
    "duration": 5,
    "start_time": "2022-03-31T16:56:32.560Z"
   },
   {
    "duration": 13,
    "start_time": "2022-03-31T16:56:39.704Z"
   },
   {
    "duration": 16,
    "start_time": "2022-03-31T16:57:48.338Z"
   },
   {
    "duration": 4,
    "start_time": "2022-03-31T16:58:09.729Z"
   },
   {
    "duration": 168,
    "start_time": "2022-03-31T16:58:24.298Z"
   },
   {
    "duration": 0,
    "start_time": "2022-03-31T16:59:09.369Z"
   },
   {
    "duration": 9,
    "start_time": "2022-03-31T17:00:30.091Z"
   },
   {
    "duration": 21,
    "start_time": "2022-03-31T17:01:57.698Z"
   },
   {
    "duration": 32,
    "start_time": "2022-03-31T17:02:05.036Z"
   },
   {
    "duration": 19,
    "start_time": "2022-03-31T17:02:45.579Z"
   },
   {
    "duration": 17,
    "start_time": "2022-03-31T17:02:47.820Z"
   },
   {
    "duration": 15,
    "start_time": "2022-03-31T17:02:58.083Z"
   },
   {
    "duration": 18,
    "start_time": "2022-03-31T17:03:04.171Z"
   },
   {
    "duration": 20,
    "start_time": "2022-03-31T17:03:16.836Z"
   },
   {
    "duration": 23,
    "start_time": "2022-03-31T17:03:40.924Z"
   },
   {
    "duration": 13,
    "start_time": "2022-03-31T17:03:59.835Z"
   },
   {
    "duration": 2706,
    "start_time": "2022-03-31T17:04:02.283Z"
   },
   {
    "duration": 0,
    "start_time": "2022-03-31T17:04:04.991Z"
   },
   {
    "duration": 12,
    "start_time": "2022-03-31T17:04:08.916Z"
   },
   {
    "duration": 24,
    "start_time": "2022-03-31T17:04:29.132Z"
   },
   {
    "duration": 20,
    "start_time": "2022-03-31T17:04:40.621Z"
   },
   {
    "duration": 19,
    "start_time": "2022-03-31T17:05:21.260Z"
   },
   {
    "duration": 28,
    "start_time": "2022-03-31T17:05:46.277Z"
   },
   {
    "duration": 2847,
    "start_time": "2022-03-31T17:06:12.789Z"
   },
   {
    "duration": 4,
    "start_time": "2022-03-31T17:06:31.053Z"
   },
   {
    "duration": 2679,
    "start_time": "2022-03-31T17:06:33.990Z"
   },
   {
    "duration": 3,
    "start_time": "2022-03-31T17:07:38.086Z"
   },
   {
    "duration": 2801,
    "start_time": "2022-03-31T17:07:40.894Z"
   },
   {
    "duration": 2669,
    "start_time": "2022-03-31T17:07:45.110Z"
   },
   {
    "duration": 0,
    "start_time": "2022-03-31T17:07:47.781Z"
   },
   {
    "duration": 2679,
    "start_time": "2022-03-31T17:07:57.056Z"
   },
   {
    "duration": 172,
    "start_time": "2022-03-31T17:09:07.951Z"
   },
   {
    "duration": 4,
    "start_time": "2022-03-31T17:09:20.646Z"
   },
   {
    "duration": 2722,
    "start_time": "2022-03-31T17:09:24.807Z"
   },
   {
    "duration": 21,
    "start_time": "2022-03-31T17:09:46.719Z"
   },
   {
    "duration": 3,
    "start_time": "2022-03-31T17:10:33.031Z"
   },
   {
    "duration": 2656,
    "start_time": "2022-03-31T17:10:36.039Z"
   },
   {
    "duration": 9,
    "start_time": "2022-03-31T17:12:38.335Z"
   },
   {
    "duration": 9,
    "start_time": "2022-03-31T17:12:50.879Z"
   },
   {
    "duration": 11,
    "start_time": "2022-03-31T17:13:02.144Z"
   },
   {
    "duration": 16,
    "start_time": "2022-03-31T17:13:43.816Z"
   },
   {
    "duration": 27,
    "start_time": "2022-03-31T17:14:18.536Z"
   },
   {
    "duration": 18,
    "start_time": "2022-03-31T17:14:42.385Z"
   },
   {
    "duration": 21,
    "start_time": "2022-03-31T17:14:52.840Z"
   },
   {
    "duration": 21,
    "start_time": "2022-03-31T17:15:01.792Z"
   },
   {
    "duration": 2725,
    "start_time": "2022-03-31T17:15:40.969Z"
   },
   {
    "duration": 20,
    "start_time": "2022-03-31T17:15:58.969Z"
   },
   {
    "duration": 4,
    "start_time": "2022-03-31T17:16:12.953Z"
   },
   {
    "duration": 18,
    "start_time": "2022-03-31T17:16:15.793Z"
   },
   {
    "duration": 13,
    "start_time": "2022-03-31T17:16:41.011Z"
   },
   {
    "duration": 17,
    "start_time": "2022-03-31T17:17:09.809Z"
   },
   {
    "duration": 13,
    "start_time": "2022-03-31T17:17:10.545Z"
   },
   {
    "duration": 7,
    "start_time": "2022-03-31T17:20:00.097Z"
   },
   {
    "duration": 32,
    "start_time": "2022-03-31T17:20:58.514Z"
   },
   {
    "duration": 11,
    "start_time": "2022-03-31T17:21:23.571Z"
   },
   {
    "duration": 5,
    "start_time": "2022-03-31T17:21:59.395Z"
   },
   {
    "duration": 9,
    "start_time": "2022-03-31T17:22:44.803Z"
   },
   {
    "duration": 5,
    "start_time": "2022-03-31T17:22:46.842Z"
   },
   {
    "duration": 9,
    "start_time": "2022-03-31T17:23:31.378Z"
   },
   {
    "duration": 5,
    "start_time": "2022-03-31T17:23:34.475Z"
   },
   {
    "duration": 6,
    "start_time": "2022-03-31T17:23:40.100Z"
   },
   {
    "duration": 5,
    "start_time": "2022-03-31T17:23:42.811Z"
   },
   {
    "duration": 14,
    "start_time": "2022-03-31T17:26:45.939Z"
   },
   {
    "duration": 13,
    "start_time": "2022-03-31T17:26:57.180Z"
   },
   {
    "duration": 13,
    "start_time": "2022-03-31T17:28:11.092Z"
   },
   {
    "duration": 10,
    "start_time": "2022-03-31T17:33:07.798Z"
   },
   {
    "duration": 11,
    "start_time": "2022-03-31T17:33:09.924Z"
   },
   {
    "duration": 432,
    "start_time": "2022-03-31T17:37:57.392Z"
   },
   {
    "duration": 189,
    "start_time": "2022-03-31T17:37:57.827Z"
   },
   {
    "duration": 20,
    "start_time": "2022-03-31T17:37:58.018Z"
   },
   {
    "duration": 9,
    "start_time": "2022-03-31T17:37:58.040Z"
   },
   {
    "duration": 9,
    "start_time": "2022-03-31T17:37:58.051Z"
   },
   {
    "duration": 15,
    "start_time": "2022-03-31T17:37:58.062Z"
   },
   {
    "duration": 8,
    "start_time": "2022-03-31T17:37:58.079Z"
   },
   {
    "duration": 65,
    "start_time": "2022-03-31T17:37:58.089Z"
   },
   {
    "duration": 28,
    "start_time": "2022-03-31T17:37:58.156Z"
   },
   {
    "duration": 28,
    "start_time": "2022-03-31T17:37:58.185Z"
   },
   {
    "duration": 77,
    "start_time": "2022-03-31T17:37:58.231Z"
   },
   {
    "duration": 121,
    "start_time": "2022-03-31T17:37:58.310Z"
   },
   {
    "duration": 70,
    "start_time": "2022-03-31T17:37:58.433Z"
   },
   {
    "duration": 10,
    "start_time": "2022-03-31T17:37:58.507Z"
   },
   {
    "duration": 3,
    "start_time": "2022-03-31T17:37:58.532Z"
   },
   {
    "duration": 18,
    "start_time": "2022-03-31T17:37:58.537Z"
   },
   {
    "duration": 44,
    "start_time": "2022-03-31T17:37:58.557Z"
   },
   {
    "duration": 36,
    "start_time": "2022-03-31T17:37:58.603Z"
   },
   {
    "duration": 17,
    "start_time": "2022-03-31T17:37:58.640Z"
   },
   {
    "duration": 3,
    "start_time": "2022-03-31T17:37:58.659Z"
   },
   {
    "duration": 21,
    "start_time": "2022-03-31T17:37:58.664Z"
   },
   {
    "duration": 46,
    "start_time": "2022-03-31T17:37:58.687Z"
   },
   {
    "duration": 19,
    "start_time": "2022-03-31T17:37:58.735Z"
   },
   {
    "duration": 20,
    "start_time": "2022-03-31T17:37:58.756Z"
   },
   {
    "duration": 25,
    "start_time": "2022-03-31T17:37:58.777Z"
   },
   {
    "duration": 19,
    "start_time": "2022-03-31T17:37:58.832Z"
   },
   {
    "duration": 108,
    "start_time": "2022-03-31T17:37:58.854Z"
   },
   {
    "duration": 12,
    "start_time": "2022-03-31T17:37:58.964Z"
   },
   {
    "duration": 15,
    "start_time": "2022-03-31T17:37:58.979Z"
   },
   {
    "duration": 4,
    "start_time": "2022-03-31T17:37:58.997Z"
   },
   {
    "duration": 43,
    "start_time": "2022-03-31T17:37:59.003Z"
   },
   {
    "duration": 15,
    "start_time": "2022-03-31T17:37:59.048Z"
   },
   {
    "duration": 21,
    "start_time": "2022-03-31T17:37:59.064Z"
   },
   {
    "duration": 14,
    "start_time": "2022-03-31T17:37:59.087Z"
   },
   {
    "duration": 37,
    "start_time": "2022-03-31T17:37:59.103Z"
   },
   {
    "duration": 6,
    "start_time": "2022-03-31T17:37:59.142Z"
   },
   {
    "duration": 14,
    "start_time": "2022-03-31T17:37:59.150Z"
   },
   {
    "duration": 10,
    "start_time": "2022-03-31T17:37:59.166Z"
   },
   {
    "duration": 14,
    "start_time": "2022-03-31T17:40:01.494Z"
   },
   {
    "duration": 15,
    "start_time": "2022-03-31T17:40:09.790Z"
   },
   {
    "duration": 14,
    "start_time": "2022-03-31T17:40:16.031Z"
   },
   {
    "duration": 75,
    "start_time": "2022-03-31T17:41:21.535Z"
   },
   {
    "duration": 2875,
    "start_time": "2022-03-31T17:41:32.219Z"
   },
   {
    "duration": 2703,
    "start_time": "2022-03-31T17:41:35.271Z"
   },
   {
    "duration": 15,
    "start_time": "2022-03-31T17:41:40.183Z"
   },
   {
    "duration": 453,
    "start_time": "2022-03-31T17:46:32.101Z"
   },
   {
    "duration": 170,
    "start_time": "2022-03-31T17:46:32.556Z"
   },
   {
    "duration": 19,
    "start_time": "2022-03-31T17:46:32.728Z"
   },
   {
    "duration": 9,
    "start_time": "2022-03-31T17:46:32.749Z"
   },
   {
    "duration": 10,
    "start_time": "2022-03-31T17:46:32.760Z"
   },
   {
    "duration": 15,
    "start_time": "2022-03-31T17:46:32.772Z"
   },
   {
    "duration": 9,
    "start_time": "2022-03-31T17:46:32.788Z"
   },
   {
    "duration": 47,
    "start_time": "2022-03-31T17:46:32.799Z"
   },
   {
    "duration": 21,
    "start_time": "2022-03-31T17:46:32.848Z"
   },
   {
    "duration": 26,
    "start_time": "2022-03-31T17:46:32.872Z"
   },
   {
    "duration": 89,
    "start_time": "2022-03-31T17:46:32.899Z"
   },
   {
    "duration": 90,
    "start_time": "2022-03-31T17:46:32.990Z"
   },
   {
    "duration": 73,
    "start_time": "2022-03-31T17:46:33.082Z"
   },
   {
    "duration": 10,
    "start_time": "2022-03-31T17:46:33.156Z"
   },
   {
    "duration": 3,
    "start_time": "2022-03-31T17:46:33.168Z"
   },
   {
    "duration": 15,
    "start_time": "2022-03-31T17:46:33.173Z"
   },
   {
    "duration": 59,
    "start_time": "2022-03-31T17:46:33.189Z"
   },
   {
    "duration": 15,
    "start_time": "2022-03-31T17:46:33.250Z"
   },
   {
    "duration": 14,
    "start_time": "2022-03-31T17:46:33.266Z"
   },
   {
    "duration": 4,
    "start_time": "2022-03-31T17:46:33.281Z"
   },
   {
    "duration": 47,
    "start_time": "2022-03-31T17:46:33.286Z"
   },
   {
    "duration": 17,
    "start_time": "2022-03-31T17:46:33.335Z"
   },
   {
    "duration": 17,
    "start_time": "2022-03-31T17:46:33.354Z"
   },
   {
    "duration": 19,
    "start_time": "2022-03-31T17:46:33.373Z"
   },
   {
    "duration": 50,
    "start_time": "2022-03-31T17:46:33.394Z"
   },
   {
    "duration": 18,
    "start_time": "2022-03-31T17:46:33.447Z"
   },
   {
    "duration": 97,
    "start_time": "2022-03-31T17:46:33.467Z"
   },
   {
    "duration": 11,
    "start_time": "2022-03-31T17:46:33.569Z"
   },
   {
    "duration": 12,
    "start_time": "2022-03-31T17:46:33.582Z"
   },
   {
    "duration": 5,
    "start_time": "2022-03-31T17:46:33.595Z"
   },
   {
    "duration": 46,
    "start_time": "2022-03-31T17:46:33.602Z"
   },
   {
    "duration": 14,
    "start_time": "2022-03-31T17:46:33.650Z"
   },
   {
    "duration": 18,
    "start_time": "2022-03-31T17:46:33.667Z"
   },
   {
    "duration": 46,
    "start_time": "2022-03-31T17:46:33.687Z"
   },
   {
    "duration": 10,
    "start_time": "2022-03-31T17:46:33.736Z"
   },
   {
    "duration": 9,
    "start_time": "2022-03-31T17:46:33.748Z"
   },
   {
    "duration": 9,
    "start_time": "2022-03-31T17:46:33.759Z"
   },
   {
    "duration": 7,
    "start_time": "2022-03-31T17:46:33.769Z"
   },
   {
    "duration": 211,
    "start_time": "2022-04-05T10:49:48.904Z"
   },
   {
    "duration": 410,
    "start_time": "2022-04-05T10:50:39.255Z"
   },
   {
    "duration": 150,
    "start_time": "2022-04-05T10:50:39.667Z"
   },
   {
    "duration": 28,
    "start_time": "2022-04-05T10:50:39.821Z"
   },
   {
    "duration": 8,
    "start_time": "2022-04-05T10:50:39.852Z"
   },
   {
    "duration": 5,
    "start_time": "2022-04-05T10:50:39.861Z"
   },
   {
    "duration": 14,
    "start_time": "2022-04-05T10:50:39.868Z"
   },
   {
    "duration": 9,
    "start_time": "2022-04-05T10:50:39.884Z"
   },
   {
    "duration": 49,
    "start_time": "2022-04-05T10:50:39.894Z"
   },
   {
    "duration": 20,
    "start_time": "2022-04-05T10:50:39.945Z"
   },
   {
    "duration": 24,
    "start_time": "2022-04-05T10:50:39.967Z"
   },
   {
    "duration": 98,
    "start_time": "2022-04-05T10:50:39.993Z"
   },
   {
    "duration": 93,
    "start_time": "2022-04-05T10:50:40.093Z"
   },
   {
    "duration": 74,
    "start_time": "2022-04-05T10:50:40.189Z"
   },
   {
    "duration": 9,
    "start_time": "2022-04-05T10:50:40.264Z"
   },
   {
    "duration": 3,
    "start_time": "2022-04-05T10:50:40.274Z"
   },
   {
    "duration": 13,
    "start_time": "2022-04-05T10:50:40.278Z"
   },
   {
    "duration": 66,
    "start_time": "2022-04-05T10:50:40.292Z"
   },
   {
    "duration": 12,
    "start_time": "2022-04-05T10:50:40.360Z"
   },
   {
    "duration": 12,
    "start_time": "2022-04-05T10:50:40.374Z"
   },
   {
    "duration": 2,
    "start_time": "2022-04-05T10:50:40.388Z"
   },
   {
    "duration": 42,
    "start_time": "2022-04-05T10:50:40.392Z"
   },
   {
    "duration": 19,
    "start_time": "2022-04-05T10:50:40.436Z"
   },
   {
    "duration": 16,
    "start_time": "2022-04-05T10:50:40.457Z"
   },
   {
    "duration": 15,
    "start_time": "2022-04-05T10:50:40.475Z"
   },
   {
    "duration": 57,
    "start_time": "2022-04-05T10:50:40.492Z"
   },
   {
    "duration": 15,
    "start_time": "2022-04-05T10:50:40.552Z"
   },
   {
    "duration": 97,
    "start_time": "2022-04-05T10:50:40.568Z"
   },
   {
    "duration": 11,
    "start_time": "2022-04-05T10:50:40.667Z"
   },
   {
    "duration": 11,
    "start_time": "2022-04-05T10:50:40.680Z"
   },
   {
    "duration": 5,
    "start_time": "2022-04-05T10:50:40.692Z"
   },
   {
    "duration": 53,
    "start_time": "2022-04-05T10:50:40.698Z"
   },
   {
    "duration": 12,
    "start_time": "2022-04-05T10:50:40.754Z"
   },
   {
    "duration": 16,
    "start_time": "2022-04-05T10:50:40.768Z"
   },
   {
    "duration": 11,
    "start_time": "2022-04-05T10:50:40.786Z"
   },
   {
    "duration": 38,
    "start_time": "2022-04-05T10:50:40.799Z"
   },
   {
    "duration": 6,
    "start_time": "2022-04-05T10:50:40.840Z"
   },
   {
    "duration": 12,
    "start_time": "2022-04-05T10:50:40.848Z"
   },
   {
    "duration": 7,
    "start_time": "2022-04-05T10:50:40.862Z"
   },
   {
    "duration": 10,
    "start_time": "2022-04-05T10:51:13.794Z"
   },
   {
    "duration": 5,
    "start_time": "2022-04-05T10:51:28.194Z"
   },
   {
    "duration": 29,
    "start_time": "2022-04-05T10:51:35.391Z"
   },
   {
    "duration": 27,
    "start_time": "2022-04-05T10:55:30.275Z"
   },
   {
    "duration": 124,
    "start_time": "2022-04-05T17:05:09.125Z"
   },
   {
    "duration": 65,
    "start_time": "2022-04-05T17:12:36.162Z"
   },
   {
    "duration": 540,
    "start_time": "2022-04-05T17:12:45.363Z"
   },
   {
    "duration": 215,
    "start_time": "2022-04-05T17:12:45.905Z"
   },
   {
    "duration": 27,
    "start_time": "2022-04-05T17:12:46.123Z"
   },
   {
    "duration": 63,
    "start_time": "2022-04-05T17:12:51.714Z"
   },
   {
    "duration": 12,
    "start_time": "2022-04-05T17:13:24.963Z"
   },
   {
    "duration": 40,
    "start_time": "2022-04-05T17:15:44.712Z"
   },
   {
    "duration": 1649,
    "start_time": "2022-04-05T17:46:24.009Z"
   },
   {
    "duration": 1526,
    "start_time": "2022-04-05T17:46:25.859Z"
   },
   {
    "duration": 3,
    "start_time": "2022-04-05T17:47:14.684Z"
   },
   {
    "duration": 231,
    "start_time": "2022-04-05T17:47:14.690Z"
   },
   {
    "duration": 15,
    "start_time": "2022-04-05T17:47:14.924Z"
   },
   {
    "duration": 53,
    "start_time": "2022-04-05T17:47:14.942Z"
   },
   {
    "duration": 5,
    "start_time": "2022-04-05T17:47:14.998Z"
   },
   {
    "duration": 23,
    "start_time": "2022-04-05T17:47:15.005Z"
   },
   {
    "duration": 17,
    "start_time": "2022-04-05T17:47:15.030Z"
   },
   {
    "duration": 61,
    "start_time": "2022-04-05T17:47:15.049Z"
   },
   {
    "duration": 26,
    "start_time": "2022-04-05T17:47:15.112Z"
   },
   {
    "duration": 42,
    "start_time": "2022-04-05T17:47:15.140Z"
   },
   {
    "duration": 115,
    "start_time": "2022-04-05T17:47:15.187Z"
   },
   {
    "duration": 128,
    "start_time": "2022-04-05T17:47:15.304Z"
   },
   {
    "duration": 104,
    "start_time": "2022-04-05T17:47:15.434Z"
   },
   {
    "duration": 12,
    "start_time": "2022-04-05T17:47:15.540Z"
   },
   {
    "duration": 20,
    "start_time": "2022-04-05T17:47:15.554Z"
   },
   {
    "duration": 19,
    "start_time": "2022-04-05T17:47:15.577Z"
   },
   {
    "duration": 77,
    "start_time": "2022-04-05T17:47:15.598Z"
   },
   {
    "duration": 19,
    "start_time": "2022-04-05T17:47:15.677Z"
   },
   {
    "duration": 20,
    "start_time": "2022-04-05T17:47:15.698Z"
   },
   {
    "duration": 4,
    "start_time": "2022-04-05T17:47:15.721Z"
   },
   {
    "duration": 60,
    "start_time": "2022-04-05T17:47:15.728Z"
   },
   {
    "duration": 20,
    "start_time": "2022-04-05T17:47:15.790Z"
   },
   {
    "duration": 19,
    "start_time": "2022-04-05T17:47:15.812Z"
   },
   {
    "duration": 43,
    "start_time": "2022-04-05T17:47:15.833Z"
   },
   {
    "duration": 22,
    "start_time": "2022-04-05T17:47:15.878Z"
   },
   {
    "duration": 21,
    "start_time": "2022-04-05T17:47:15.902Z"
   },
   {
    "duration": 134,
    "start_time": "2022-04-05T17:47:15.925Z"
   },
   {
    "duration": 19,
    "start_time": "2022-04-05T17:47:16.061Z"
   },
   {
    "duration": 13,
    "start_time": "2022-04-05T17:47:16.085Z"
   },
   {
    "duration": 5,
    "start_time": "2022-04-05T17:47:16.100Z"
   },
   {
    "duration": 27,
    "start_time": "2022-04-05T17:47:16.107Z"
   },
   {
    "duration": 46,
    "start_time": "2022-04-05T17:47:16.136Z"
   },
   {
    "duration": 22,
    "start_time": "2022-04-05T17:47:16.184Z"
   },
   {
    "duration": 16,
    "start_time": "2022-04-05T17:47:16.208Z"
   },
   {
    "duration": 48,
    "start_time": "2022-04-05T17:47:16.226Z"
   },
   {
    "duration": 7,
    "start_time": "2022-04-05T17:47:16.276Z"
   },
   {
    "duration": 22,
    "start_time": "2022-04-05T17:47:16.285Z"
   },
   {
    "duration": 15,
    "start_time": "2022-04-05T17:47:16.309Z"
   },
   {
    "duration": 6,
    "start_time": "2022-04-05T18:38:24.190Z"
   },
   {
    "duration": 23,
    "start_time": "2022-04-05T18:38:28.227Z"
   },
   {
    "duration": 6,
    "start_time": "2022-04-05T18:39:14.032Z"
   },
   {
    "duration": 26,
    "start_time": "2022-04-05T18:39:21.737Z"
   },
   {
    "duration": 5,
    "start_time": "2022-04-05T18:39:43.985Z"
   },
   {
    "duration": 4,
    "start_time": "2022-04-05T18:42:17.188Z"
   },
   {
    "duration": 238,
    "start_time": "2022-04-05T18:42:17.197Z"
   },
   {
    "duration": 15,
    "start_time": "2022-04-05T18:42:17.438Z"
   },
   {
    "duration": 57,
    "start_time": "2022-04-05T18:42:17.455Z"
   },
   {
    "duration": 5,
    "start_time": "2022-04-05T18:42:17.515Z"
   },
   {
    "duration": 13,
    "start_time": "2022-04-05T18:42:17.522Z"
   },
   {
    "duration": 8,
    "start_time": "2022-04-05T18:42:17.537Z"
   },
   {
    "duration": 62,
    "start_time": "2022-04-05T18:42:17.546Z"
   },
   {
    "duration": 23,
    "start_time": "2022-04-05T18:42:17.611Z"
   },
   {
    "duration": 63,
    "start_time": "2022-04-05T18:42:17.636Z"
   },
   {
    "duration": 114,
    "start_time": "2022-04-05T18:42:17.702Z"
   },
   {
    "duration": 114,
    "start_time": "2022-04-05T18:42:17.818Z"
   },
   {
    "duration": 102,
    "start_time": "2022-04-05T18:42:17.936Z"
   },
   {
    "duration": 11,
    "start_time": "2022-04-05T18:42:18.041Z"
   },
   {
    "duration": 20,
    "start_time": "2022-04-05T18:42:18.054Z"
   },
   {
    "duration": 35,
    "start_time": "2022-04-05T18:42:18.075Z"
   },
   {
    "duration": 53,
    "start_time": "2022-04-05T18:42:18.112Z"
   },
   {
    "duration": 29,
    "start_time": "2022-04-05T18:42:18.167Z"
   },
   {
    "duration": 17,
    "start_time": "2022-04-05T18:42:18.198Z"
   },
   {
    "duration": 5,
    "start_time": "2022-04-05T18:42:18.217Z"
   },
   {
    "duration": 51,
    "start_time": "2022-04-05T18:42:18.224Z"
   },
   {
    "duration": 23,
    "start_time": "2022-04-05T18:42:18.277Z"
   },
   {
    "duration": 20,
    "start_time": "2022-04-05T18:42:18.302Z"
   },
   {
    "duration": 51,
    "start_time": "2022-04-05T18:42:18.324Z"
   },
   {
    "duration": 26,
    "start_time": "2022-04-05T18:42:18.377Z"
   },
   {
    "duration": 19,
    "start_time": "2022-04-05T18:42:18.405Z"
   },
   {
    "duration": 129,
    "start_time": "2022-04-05T18:42:18.426Z"
   },
   {
    "duration": 27,
    "start_time": "2022-04-05T18:42:18.557Z"
   },
   {
    "duration": 15,
    "start_time": "2022-04-05T18:42:18.586Z"
   },
   {
    "duration": 6,
    "start_time": "2022-04-05T18:42:18.603Z"
   },
   {
    "duration": 26,
    "start_time": "2022-04-05T18:42:18.611Z"
   },
   {
    "duration": 48,
    "start_time": "2022-04-05T18:42:18.639Z"
   },
   {
    "duration": 22,
    "start_time": "2022-04-05T18:42:18.689Z"
   },
   {
    "duration": 15,
    "start_time": "2022-04-05T18:42:18.713Z"
   },
   {
    "duration": 51,
    "start_time": "2022-04-05T18:42:18.730Z"
   },
   {
    "duration": 6,
    "start_time": "2022-04-05T18:42:18.783Z"
   },
   {
    "duration": 11,
    "start_time": "2022-04-05T18:42:18.794Z"
   },
   {
    "duration": 6,
    "start_time": "2022-04-05T18:42:18.807Z"
   },
   {
    "duration": 489,
    "start_time": "2022-04-05T18:42:46.602Z"
   },
   {
    "duration": 214,
    "start_time": "2022-04-05T18:42:47.094Z"
   },
   {
    "duration": 28,
    "start_time": "2022-04-05T18:42:47.310Z"
   },
   {
    "duration": 67,
    "start_time": "2022-04-05T18:42:47.342Z"
   },
   {
    "duration": 6,
    "start_time": "2022-04-05T18:42:47.411Z"
   },
   {
    "duration": 17,
    "start_time": "2022-04-05T18:42:47.419Z"
   },
   {
    "duration": 10,
    "start_time": "2022-04-05T18:42:47.438Z"
   },
   {
    "duration": 60,
    "start_time": "2022-04-05T18:42:47.450Z"
   },
   {
    "duration": 26,
    "start_time": "2022-04-05T18:42:47.512Z"
   },
   {
    "duration": 63,
    "start_time": "2022-04-05T18:42:47.542Z"
   },
   {
    "duration": 114,
    "start_time": "2022-04-05T18:42:47.607Z"
   },
   {
    "duration": 128,
    "start_time": "2022-04-05T18:42:47.723Z"
   },
   {
    "duration": 99,
    "start_time": "2022-04-05T18:42:47.854Z"
   },
   {
    "duration": 23,
    "start_time": "2022-04-05T18:42:47.955Z"
   },
   {
    "duration": 10,
    "start_time": "2022-04-05T18:42:47.980Z"
   },
   {
    "duration": 27,
    "start_time": "2022-04-05T18:42:47.992Z"
   },
   {
    "duration": 74,
    "start_time": "2022-04-05T18:42:48.021Z"
   },
   {
    "duration": 21,
    "start_time": "2022-04-05T18:42:48.098Z"
   },
   {
    "duration": 21,
    "start_time": "2022-04-05T18:42:48.121Z"
   },
   {
    "duration": 32,
    "start_time": "2022-04-05T18:42:48.144Z"
   },
   {
    "duration": 31,
    "start_time": "2022-04-05T18:42:48.178Z"
   },
   {
    "duration": 21,
    "start_time": "2022-04-05T18:42:48.211Z"
   },
   {
    "duration": 45,
    "start_time": "2022-04-05T18:42:48.234Z"
   },
   {
    "duration": 26,
    "start_time": "2022-04-05T18:42:48.281Z"
   },
   {
    "duration": 24,
    "start_time": "2022-04-05T18:42:48.310Z"
   },
   {
    "duration": 57,
    "start_time": "2022-04-05T18:42:48.335Z"
   },
   {
    "duration": 111,
    "start_time": "2022-04-05T18:42:48.394Z"
   },
   {
    "duration": 15,
    "start_time": "2022-04-05T18:42:48.509Z"
   },
   {
    "duration": 12,
    "start_time": "2022-04-05T18:42:48.527Z"
   },
   {
    "duration": 5,
    "start_time": "2022-04-05T18:42:48.542Z"
   },
   {
    "duration": 53,
    "start_time": "2022-04-05T18:42:48.549Z"
   },
   {
    "duration": 16,
    "start_time": "2022-04-05T18:42:48.603Z"
   },
   {
    "duration": 20,
    "start_time": "2022-04-05T18:42:48.621Z"
   },
   {
    "duration": 48,
    "start_time": "2022-04-05T18:42:48.644Z"
   },
   {
    "duration": 14,
    "start_time": "2022-04-05T18:42:48.694Z"
   },
   {
    "duration": 8,
    "start_time": "2022-04-05T18:42:48.710Z"
   },
   {
    "duration": 17,
    "start_time": "2022-04-05T18:42:48.721Z"
   },
   {
    "duration": 40,
    "start_time": "2022-04-05T18:42:48.740Z"
   },
   {
    "duration": 174,
    "start_time": "2022-04-06T06:32:15.946Z"
   },
   {
    "duration": 46,
    "start_time": "2022-04-10T15:23:47.510Z"
   }
  ],
  "colab": {
   "collapsed_sections": [
    "E0vqbgi9ay0H",
    "VUC88oWjTJw2"
   ],
   "name": "yandex_music_project.ipynb",
   "provenance": []
  },
  "kernelspec": {
   "display_name": "Python 3 (ipykernel)",
   "language": "python",
   "name": "python3"
  },
  "language_info": {
   "codemirror_mode": {
    "name": "ipython",
    "version": 3
   },
   "file_extension": ".py",
   "mimetype": "text/x-python",
   "name": "python",
   "nbconvert_exporter": "python",
   "pygments_lexer": "ipython3",
   "version": "3.9.7"
  },
  "toc": {
   "base_numbering": 1,
   "nav_menu": {},
   "number_sections": true,
   "sideBar": true,
   "skip_h1_title": true,
   "title_cell": "Table of Contents",
   "title_sidebar": "Contents",
   "toc_cell": false,
   "toc_position": {
    "height": "calc(100% - 180px)",
    "left": "10px",
    "top": "150px",
    "width": "165px"
   },
   "toc_section_display": true,
   "toc_window_display": true
  }
 },
 "nbformat": 4,
 "nbformat_minor": 1
}
