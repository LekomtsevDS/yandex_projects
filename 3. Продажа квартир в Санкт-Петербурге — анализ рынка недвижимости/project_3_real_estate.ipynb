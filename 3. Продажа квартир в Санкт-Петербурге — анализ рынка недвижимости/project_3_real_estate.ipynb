{
 "cells": [
  {
   "cell_type": "markdown",
   "metadata": {},
   "source": [
    "# Исследование объявлений о продаже квартир\n",
    "\n",
    "В вашем распоряжении данные сервиса Яндекc Недвижимость — архив объявлений о продаже квартир в Санкт-Петербурге и соседних населённых пунктах за несколько лет. Нужно научиться определять рыночную стоимость объектов недвижимости. Ваша задача — установить параметры. Это позволит построить автоматизированную систему: она отследит аномалии и мошенническую деятельность. \n",
    "\n",
    "По каждой квартире на продажу доступны два вида данных. Первые вписаны пользователем, вторые получены автоматически на основе картографических данных. Например, расстояние до центра, аэропорта, ближайшего парка и водоёма. "
   ]
  },
  {
   "cell_type": "markdown",
   "metadata": {},
   "source": [
    "## Изучение данных из файла"
   ]
  },
  {
   "cell_type": "code",
   "execution_count": 1,
   "metadata": {
    "scrolled": true
   },
   "outputs": [],
   "source": [
    "import pandas as pd\n",
    "import matplotlib.pyplot as plt\n",
    "import numpy as np\n",
    "pd.options.display.float_format = '{:,.2f}'.format"
   ]
  },
  {
   "cell_type": "code",
   "execution_count": 2,
   "metadata": {},
   "outputs": [
    {
     "data": {
      "text/html": [
       "<div>\n",
       "<style scoped>\n",
       "    .dataframe tbody tr th:only-of-type {\n",
       "        vertical-align: middle;\n",
       "    }\n",
       "\n",
       "    .dataframe tbody tr th {\n",
       "        vertical-align: top;\n",
       "    }\n",
       "\n",
       "    .dataframe thead th {\n",
       "        text-align: right;\n",
       "    }\n",
       "</style>\n",
       "<table border=\"1\" class=\"dataframe\">\n",
       "  <thead>\n",
       "    <tr style=\"text-align: right;\">\n",
       "      <th></th>\n",
       "      <th>total_images</th>\n",
       "      <th>last_price</th>\n",
       "      <th>total_area</th>\n",
       "      <th>first_day_exposition</th>\n",
       "      <th>rooms</th>\n",
       "      <th>ceiling_height</th>\n",
       "      <th>floors_total</th>\n",
       "      <th>living_area</th>\n",
       "      <th>floor</th>\n",
       "      <th>is_apartment</th>\n",
       "      <th>...</th>\n",
       "      <th>kitchen_area</th>\n",
       "      <th>balcony</th>\n",
       "      <th>locality_name</th>\n",
       "      <th>airports_nearest</th>\n",
       "      <th>cityCenters_nearest</th>\n",
       "      <th>parks_around3000</th>\n",
       "      <th>parks_nearest</th>\n",
       "      <th>ponds_around3000</th>\n",
       "      <th>ponds_nearest</th>\n",
       "      <th>days_exposition</th>\n",
       "    </tr>\n",
       "  </thead>\n",
       "  <tbody>\n",
       "    <tr>\n",
       "      <th>0</th>\n",
       "      <td>20</td>\n",
       "      <td>13,000,000.00</td>\n",
       "      <td>108.00</td>\n",
       "      <td>2019-03-07T00:00:00</td>\n",
       "      <td>3</td>\n",
       "      <td>2.70</td>\n",
       "      <td>16.00</td>\n",
       "      <td>51.00</td>\n",
       "      <td>8</td>\n",
       "      <td>NaN</td>\n",
       "      <td>...</td>\n",
       "      <td>25.00</td>\n",
       "      <td>NaN</td>\n",
       "      <td>Санкт-Петербург</td>\n",
       "      <td>18,863.00</td>\n",
       "      <td>16,028.00</td>\n",
       "      <td>1.00</td>\n",
       "      <td>482.00</td>\n",
       "      <td>2.00</td>\n",
       "      <td>755.00</td>\n",
       "      <td>NaN</td>\n",
       "    </tr>\n",
       "    <tr>\n",
       "      <th>1</th>\n",
       "      <td>7</td>\n",
       "      <td>3,350,000.00</td>\n",
       "      <td>40.40</td>\n",
       "      <td>2018-12-04T00:00:00</td>\n",
       "      <td>1</td>\n",
       "      <td>NaN</td>\n",
       "      <td>11.00</td>\n",
       "      <td>18.60</td>\n",
       "      <td>1</td>\n",
       "      <td>NaN</td>\n",
       "      <td>...</td>\n",
       "      <td>11.00</td>\n",
       "      <td>2.00</td>\n",
       "      <td>посёлок Шушары</td>\n",
       "      <td>12,817.00</td>\n",
       "      <td>18,603.00</td>\n",
       "      <td>0.00</td>\n",
       "      <td>NaN</td>\n",
       "      <td>0.00</td>\n",
       "      <td>NaN</td>\n",
       "      <td>81.00</td>\n",
       "    </tr>\n",
       "    <tr>\n",
       "      <th>2</th>\n",
       "      <td>10</td>\n",
       "      <td>5,196,000.00</td>\n",
       "      <td>56.00</td>\n",
       "      <td>2015-08-20T00:00:00</td>\n",
       "      <td>2</td>\n",
       "      <td>NaN</td>\n",
       "      <td>5.00</td>\n",
       "      <td>34.30</td>\n",
       "      <td>4</td>\n",
       "      <td>NaN</td>\n",
       "      <td>...</td>\n",
       "      <td>8.30</td>\n",
       "      <td>0.00</td>\n",
       "      <td>Санкт-Петербург</td>\n",
       "      <td>21,741.00</td>\n",
       "      <td>13,933.00</td>\n",
       "      <td>1.00</td>\n",
       "      <td>90.00</td>\n",
       "      <td>2.00</td>\n",
       "      <td>574.00</td>\n",
       "      <td>558.00</td>\n",
       "    </tr>\n",
       "    <tr>\n",
       "      <th>3</th>\n",
       "      <td>0</td>\n",
       "      <td>64,900,000.00</td>\n",
       "      <td>159.00</td>\n",
       "      <td>2015-07-24T00:00:00</td>\n",
       "      <td>3</td>\n",
       "      <td>NaN</td>\n",
       "      <td>14.00</td>\n",
       "      <td>NaN</td>\n",
       "      <td>9</td>\n",
       "      <td>NaN</td>\n",
       "      <td>...</td>\n",
       "      <td>NaN</td>\n",
       "      <td>0.00</td>\n",
       "      <td>Санкт-Петербург</td>\n",
       "      <td>28,098.00</td>\n",
       "      <td>6,800.00</td>\n",
       "      <td>2.00</td>\n",
       "      <td>84.00</td>\n",
       "      <td>3.00</td>\n",
       "      <td>234.00</td>\n",
       "      <td>424.00</td>\n",
       "    </tr>\n",
       "    <tr>\n",
       "      <th>4</th>\n",
       "      <td>2</td>\n",
       "      <td>10,000,000.00</td>\n",
       "      <td>100.00</td>\n",
       "      <td>2018-06-19T00:00:00</td>\n",
       "      <td>2</td>\n",
       "      <td>3.03</td>\n",
       "      <td>14.00</td>\n",
       "      <td>32.00</td>\n",
       "      <td>13</td>\n",
       "      <td>NaN</td>\n",
       "      <td>...</td>\n",
       "      <td>41.00</td>\n",
       "      <td>NaN</td>\n",
       "      <td>Санкт-Петербург</td>\n",
       "      <td>31,856.00</td>\n",
       "      <td>8,098.00</td>\n",
       "      <td>2.00</td>\n",
       "      <td>112.00</td>\n",
       "      <td>1.00</td>\n",
       "      <td>48.00</td>\n",
       "      <td>121.00</td>\n",
       "    </tr>\n",
       "    <tr>\n",
       "      <th>5</th>\n",
       "      <td>10</td>\n",
       "      <td>2,890,000.00</td>\n",
       "      <td>30.40</td>\n",
       "      <td>2018-09-10T00:00:00</td>\n",
       "      <td>1</td>\n",
       "      <td>NaN</td>\n",
       "      <td>12.00</td>\n",
       "      <td>14.40</td>\n",
       "      <td>5</td>\n",
       "      <td>NaN</td>\n",
       "      <td>...</td>\n",
       "      <td>9.10</td>\n",
       "      <td>NaN</td>\n",
       "      <td>городской посёлок Янино-1</td>\n",
       "      <td>NaN</td>\n",
       "      <td>NaN</td>\n",
       "      <td>NaN</td>\n",
       "      <td>NaN</td>\n",
       "      <td>NaN</td>\n",
       "      <td>NaN</td>\n",
       "      <td>55.00</td>\n",
       "    </tr>\n",
       "    <tr>\n",
       "      <th>6</th>\n",
       "      <td>6</td>\n",
       "      <td>3,700,000.00</td>\n",
       "      <td>37.30</td>\n",
       "      <td>2017-11-02T00:00:00</td>\n",
       "      <td>1</td>\n",
       "      <td>NaN</td>\n",
       "      <td>26.00</td>\n",
       "      <td>10.60</td>\n",
       "      <td>6</td>\n",
       "      <td>NaN</td>\n",
       "      <td>...</td>\n",
       "      <td>14.40</td>\n",
       "      <td>1.00</td>\n",
       "      <td>посёлок Парголово</td>\n",
       "      <td>52,996.00</td>\n",
       "      <td>19,143.00</td>\n",
       "      <td>0.00</td>\n",
       "      <td>NaN</td>\n",
       "      <td>0.00</td>\n",
       "      <td>NaN</td>\n",
       "      <td>155.00</td>\n",
       "    </tr>\n",
       "    <tr>\n",
       "      <th>7</th>\n",
       "      <td>5</td>\n",
       "      <td>7,915,000.00</td>\n",
       "      <td>71.60</td>\n",
       "      <td>2019-04-18T00:00:00</td>\n",
       "      <td>2</td>\n",
       "      <td>NaN</td>\n",
       "      <td>24.00</td>\n",
       "      <td>NaN</td>\n",
       "      <td>22</td>\n",
       "      <td>NaN</td>\n",
       "      <td>...</td>\n",
       "      <td>18.90</td>\n",
       "      <td>2.00</td>\n",
       "      <td>Санкт-Петербург</td>\n",
       "      <td>23,982.00</td>\n",
       "      <td>11,634.00</td>\n",
       "      <td>0.00</td>\n",
       "      <td>NaN</td>\n",
       "      <td>0.00</td>\n",
       "      <td>NaN</td>\n",
       "      <td>NaN</td>\n",
       "    </tr>\n",
       "    <tr>\n",
       "      <th>8</th>\n",
       "      <td>20</td>\n",
       "      <td>2,900,000.00</td>\n",
       "      <td>33.16</td>\n",
       "      <td>2018-05-23T00:00:00</td>\n",
       "      <td>1</td>\n",
       "      <td>NaN</td>\n",
       "      <td>27.00</td>\n",
       "      <td>15.43</td>\n",
       "      <td>26</td>\n",
       "      <td>NaN</td>\n",
       "      <td>...</td>\n",
       "      <td>8.81</td>\n",
       "      <td>NaN</td>\n",
       "      <td>посёлок Мурино</td>\n",
       "      <td>NaN</td>\n",
       "      <td>NaN</td>\n",
       "      <td>NaN</td>\n",
       "      <td>NaN</td>\n",
       "      <td>NaN</td>\n",
       "      <td>NaN</td>\n",
       "      <td>189.00</td>\n",
       "    </tr>\n",
       "    <tr>\n",
       "      <th>9</th>\n",
       "      <td>18</td>\n",
       "      <td>5,400,000.00</td>\n",
       "      <td>61.00</td>\n",
       "      <td>2017-02-26T00:00:00</td>\n",
       "      <td>3</td>\n",
       "      <td>2.50</td>\n",
       "      <td>9.00</td>\n",
       "      <td>43.60</td>\n",
       "      <td>7</td>\n",
       "      <td>NaN</td>\n",
       "      <td>...</td>\n",
       "      <td>6.50</td>\n",
       "      <td>2.00</td>\n",
       "      <td>Санкт-Петербург</td>\n",
       "      <td>50,898.00</td>\n",
       "      <td>15,008.00</td>\n",
       "      <td>0.00</td>\n",
       "      <td>NaN</td>\n",
       "      <td>0.00</td>\n",
       "      <td>NaN</td>\n",
       "      <td>289.00</td>\n",
       "    </tr>\n",
       "  </tbody>\n",
       "</table>\n",
       "<p>10 rows × 22 columns</p>\n",
       "</div>"
      ],
      "text/plain": [
       "   total_images    last_price  total_area first_day_exposition  rooms  \\\n",
       "0            20 13,000,000.00      108.00  2019-03-07T00:00:00      3   \n",
       "1             7  3,350,000.00       40.40  2018-12-04T00:00:00      1   \n",
       "2            10  5,196,000.00       56.00  2015-08-20T00:00:00      2   \n",
       "3             0 64,900,000.00      159.00  2015-07-24T00:00:00      3   \n",
       "4             2 10,000,000.00      100.00  2018-06-19T00:00:00      2   \n",
       "5            10  2,890,000.00       30.40  2018-09-10T00:00:00      1   \n",
       "6             6  3,700,000.00       37.30  2017-11-02T00:00:00      1   \n",
       "7             5  7,915,000.00       71.60  2019-04-18T00:00:00      2   \n",
       "8            20  2,900,000.00       33.16  2018-05-23T00:00:00      1   \n",
       "9            18  5,400,000.00       61.00  2017-02-26T00:00:00      3   \n",
       "\n",
       "   ceiling_height  floors_total  living_area  floor is_apartment  ...  \\\n",
       "0            2.70         16.00        51.00      8          NaN  ...   \n",
       "1             NaN         11.00        18.60      1          NaN  ...   \n",
       "2             NaN          5.00        34.30      4          NaN  ...   \n",
       "3             NaN         14.00          NaN      9          NaN  ...   \n",
       "4            3.03         14.00        32.00     13          NaN  ...   \n",
       "5             NaN         12.00        14.40      5          NaN  ...   \n",
       "6             NaN         26.00        10.60      6          NaN  ...   \n",
       "7             NaN         24.00          NaN     22          NaN  ...   \n",
       "8             NaN         27.00        15.43     26          NaN  ...   \n",
       "9            2.50          9.00        43.60      7          NaN  ...   \n",
       "\n",
       "   kitchen_area  balcony              locality_name  airports_nearest  \\\n",
       "0         25.00      NaN            Санкт-Петербург         18,863.00   \n",
       "1         11.00     2.00             посёлок Шушары         12,817.00   \n",
       "2          8.30     0.00            Санкт-Петербург         21,741.00   \n",
       "3           NaN     0.00            Санкт-Петербург         28,098.00   \n",
       "4         41.00      NaN            Санкт-Петербург         31,856.00   \n",
       "5          9.10      NaN  городской посёлок Янино-1               NaN   \n",
       "6         14.40     1.00          посёлок Парголово         52,996.00   \n",
       "7         18.90     2.00            Санкт-Петербург         23,982.00   \n",
       "8          8.81      NaN             посёлок Мурино               NaN   \n",
       "9          6.50     2.00            Санкт-Петербург         50,898.00   \n",
       "\n",
       "  cityCenters_nearest  parks_around3000  parks_nearest  ponds_around3000  \\\n",
       "0           16,028.00              1.00         482.00              2.00   \n",
       "1           18,603.00              0.00            NaN              0.00   \n",
       "2           13,933.00              1.00          90.00              2.00   \n",
       "3            6,800.00              2.00          84.00              3.00   \n",
       "4            8,098.00              2.00         112.00              1.00   \n",
       "5                 NaN               NaN            NaN               NaN   \n",
       "6           19,143.00              0.00            NaN              0.00   \n",
       "7           11,634.00              0.00            NaN              0.00   \n",
       "8                 NaN               NaN            NaN               NaN   \n",
       "9           15,008.00              0.00            NaN              0.00   \n",
       "\n",
       "   ponds_nearest  days_exposition  \n",
       "0         755.00              NaN  \n",
       "1            NaN            81.00  \n",
       "2         574.00           558.00  \n",
       "3         234.00           424.00  \n",
       "4          48.00           121.00  \n",
       "5            NaN            55.00  \n",
       "6            NaN           155.00  \n",
       "7            NaN              NaN  \n",
       "8            NaN           189.00  \n",
       "9            NaN           289.00  \n",
       "\n",
       "[10 rows x 22 columns]"
      ]
     },
     "execution_count": 2,
     "metadata": {},
     "output_type": "execute_result"
    }
   ],
   "source": [
    "data_origin = pd.read_csv('/datasets/real_estate_data.csv', sep = '\\t')\n",
    "data = pd.read_csv('/datasets/real_estate_data.csv', sep = '\\t')\n",
    "data.head(10)"
   ]
  },
  {
   "cell_type": "markdown",
   "metadata": {},
   "source": [
    "Описание данных<br/>\n",
    "<br/>\n",
    "airports_nearest — расстояние до ближайшего аэропорта в метрах (м)<br/>\n",
    "balcony — число балконов<br/>\n",
    "ceiling_height — высота потолков (м)<br/>\n",
    "cityCenters_nearest — расстояние до центра города (м)<br/>\n",
    "days_exposition — сколько дней было размещено объявление (от публикации до снятия)<br/>\n",
    "first_day_exposition — дата публикации<br/>\n",
    "floor — этаж<br/>\n",
    "floors_total — всего этажей в доме<br/>\n",
    "is_apartment — апартаменты (булев тип)<br/>\n",
    "kitchen_area — площадь кухни в квадратных метрах (м²)<br/>\n",
    "last_price — цена на момент снятия с публикации<br/>\n",
    "living_area — жилая площадь в квадратных метрах (м²)<br/>\n",
    "locality_name — название населённого пункта<br/>\n",
    "open_plan — свободная планировка (булев тип)<br/>\n",
    "parks_around3000 — число парков в радиусе 3 км<br/>\n",
    "parks_nearest — расстояние до ближайшего парка (м)<br/>\n",
    "ponds_around3000 — число водоёмов в радиусе 3 км<br/>\n",
    "ponds_nearest — расстояние до ближайшего водоёма (м)<br/>\n",
    "rooms — число комнат<br/>\n",
    "studio — квартира-студия (булев тип)<br/>\n",
    "total_area — площадь квартиры в квадратных метрах (м²)<br/>\n",
    "total_images — число фотографий квартиры в объявлении<br/>"
   ]
  },
  {
   "cell_type": "code",
   "execution_count": 3,
   "metadata": {
    "scrolled": false
   },
   "outputs": [
    {
     "name": "stdout",
     "output_type": "stream",
     "text": [
      "<class 'pandas.core.frame.DataFrame'>\n",
      "RangeIndex: 23699 entries, 0 to 23698\n",
      "Data columns (total 22 columns):\n",
      " #   Column                Non-Null Count  Dtype  \n",
      "---  ------                --------------  -----  \n",
      " 0   total_images          23699 non-null  int64  \n",
      " 1   last_price            23699 non-null  float64\n",
      " 2   total_area            23699 non-null  float64\n",
      " 3   first_day_exposition  23699 non-null  object \n",
      " 4   rooms                 23699 non-null  int64  \n",
      " 5   ceiling_height        14504 non-null  float64\n",
      " 6   floors_total          23613 non-null  float64\n",
      " 7   living_area           21796 non-null  float64\n",
      " 8   floor                 23699 non-null  int64  \n",
      " 9   is_apartment          2775 non-null   object \n",
      " 10  studio                23699 non-null  bool   \n",
      " 11  open_plan             23699 non-null  bool   \n",
      " 12  kitchen_area          21421 non-null  float64\n",
      " 13  balcony               12180 non-null  float64\n",
      " 14  locality_name         23650 non-null  object \n",
      " 15  airports_nearest      18157 non-null  float64\n",
      " 16  cityCenters_nearest   18180 non-null  float64\n",
      " 17  parks_around3000      18181 non-null  float64\n",
      " 18  parks_nearest         8079 non-null   float64\n",
      " 19  ponds_around3000      18181 non-null  float64\n",
      " 20  ponds_nearest         9110 non-null   float64\n",
      " 21  days_exposition       20518 non-null  float64\n",
      "dtypes: bool(2), float64(14), int64(3), object(3)\n",
      "memory usage: 3.7+ MB\n"
     ]
    }
   ],
   "source": [
    "data.info()"
   ]
  },
  {
   "cell_type": "markdown",
   "metadata": {},
   "source": [
    "Наблюдения по типам и пропускам данных:<br/>\n",
    "<br/>\n",
    "first_day_exposition - тип данных должен быть datetime<br/>\n",
    "ceiling_height - имеются пустые значения<br/>\n",
    "floors_total - имеются пустые значения<br/>\n",
    "living_area - имеются нулевые значения<br/>\n",
    "is_apartment - тип данных должен быть bool, имеются пустые значения<br/>\n",
    "kitchen_area - имеются нпустые значения<br/>\n",
    "balcony - тип данных должен быть int, имеются пустые значения<br/>\n",
    "locality_name - имеются пустые значения<br/>\n",
    "airports_nearest - имеются пустые значения<br/>\n",
    "cityCenters_nearest - имеются пустые значения<br/>\n",
    "parks_around3000 - тип данных должен быть int, имеются пустые значения<br/>\n",
    "parks_nearest - имеются пустые значения<br/>\n",
    "ponds_around3000 - тип данных должен быть int, имеются пустые значения<br/>\n",
    "ponds_nearest - имеются пустые значения<br/>\n",
    "days_exposition - тип данных должен быть int, имеются пустые значения<br/>"
   ]
  },
  {
   "cell_type": "code",
   "execution_count": 4,
   "metadata": {
    "scrolled": false
   },
   "outputs": [
    {
     "data": {
      "text/html": [
       "<div>\n",
       "<style scoped>\n",
       "    .dataframe tbody tr th:only-of-type {\n",
       "        vertical-align: middle;\n",
       "    }\n",
       "\n",
       "    .dataframe tbody tr th {\n",
       "        vertical-align: top;\n",
       "    }\n",
       "\n",
       "    .dataframe thead th {\n",
       "        text-align: right;\n",
       "    }\n",
       "</style>\n",
       "<table border=\"1\" class=\"dataframe\">\n",
       "  <thead>\n",
       "    <tr style=\"text-align: right;\">\n",
       "      <th></th>\n",
       "      <th>count</th>\n",
       "      <th>unique</th>\n",
       "      <th>top</th>\n",
       "      <th>freq</th>\n",
       "      <th>mean</th>\n",
       "      <th>std</th>\n",
       "      <th>min</th>\n",
       "      <th>25%</th>\n",
       "      <th>50%</th>\n",
       "      <th>75%</th>\n",
       "      <th>max</th>\n",
       "    </tr>\n",
       "  </thead>\n",
       "  <tbody>\n",
       "    <tr>\n",
       "      <th>total_images</th>\n",
       "      <td>23,699.00</td>\n",
       "      <td>NaN</td>\n",
       "      <td>NaN</td>\n",
       "      <td>NaN</td>\n",
       "      <td>9.86</td>\n",
       "      <td>5.68</td>\n",
       "      <td>0.00</td>\n",
       "      <td>6.00</td>\n",
       "      <td>9.00</td>\n",
       "      <td>14.00</td>\n",
       "      <td>50.00</td>\n",
       "    </tr>\n",
       "    <tr>\n",
       "      <th>last_price</th>\n",
       "      <td>23,699.00</td>\n",
       "      <td>NaN</td>\n",
       "      <td>NaN</td>\n",
       "      <td>NaN</td>\n",
       "      <td>6,541,548.77</td>\n",
       "      <td>10,887,013.27</td>\n",
       "      <td>12,190.00</td>\n",
       "      <td>3,400,000.00</td>\n",
       "      <td>4,650,000.00</td>\n",
       "      <td>6,800,000.00</td>\n",
       "      <td>763,000,000.00</td>\n",
       "    </tr>\n",
       "    <tr>\n",
       "      <th>total_area</th>\n",
       "      <td>23,699.00</td>\n",
       "      <td>NaN</td>\n",
       "      <td>NaN</td>\n",
       "      <td>NaN</td>\n",
       "      <td>60.35</td>\n",
       "      <td>35.65</td>\n",
       "      <td>12.00</td>\n",
       "      <td>40.00</td>\n",
       "      <td>52.00</td>\n",
       "      <td>69.90</td>\n",
       "      <td>900.00</td>\n",
       "    </tr>\n",
       "    <tr>\n",
       "      <th>first_day_exposition</th>\n",
       "      <td>23699</td>\n",
       "      <td>1491</td>\n",
       "      <td>2018-02-01T00:00:00</td>\n",
       "      <td>368</td>\n",
       "      <td>NaN</td>\n",
       "      <td>NaN</td>\n",
       "      <td>NaN</td>\n",
       "      <td>NaN</td>\n",
       "      <td>NaN</td>\n",
       "      <td>NaN</td>\n",
       "      <td>NaN</td>\n",
       "    </tr>\n",
       "    <tr>\n",
       "      <th>rooms</th>\n",
       "      <td>23,699.00</td>\n",
       "      <td>NaN</td>\n",
       "      <td>NaN</td>\n",
       "      <td>NaN</td>\n",
       "      <td>2.07</td>\n",
       "      <td>1.08</td>\n",
       "      <td>0.00</td>\n",
       "      <td>1.00</td>\n",
       "      <td>2.00</td>\n",
       "      <td>3.00</td>\n",
       "      <td>19.00</td>\n",
       "    </tr>\n",
       "    <tr>\n",
       "      <th>ceiling_height</th>\n",
       "      <td>14,504.00</td>\n",
       "      <td>NaN</td>\n",
       "      <td>NaN</td>\n",
       "      <td>NaN</td>\n",
       "      <td>2.77</td>\n",
       "      <td>1.26</td>\n",
       "      <td>1.00</td>\n",
       "      <td>2.52</td>\n",
       "      <td>2.65</td>\n",
       "      <td>2.80</td>\n",
       "      <td>100.00</td>\n",
       "    </tr>\n",
       "    <tr>\n",
       "      <th>floors_total</th>\n",
       "      <td>23,613.00</td>\n",
       "      <td>NaN</td>\n",
       "      <td>NaN</td>\n",
       "      <td>NaN</td>\n",
       "      <td>10.67</td>\n",
       "      <td>6.60</td>\n",
       "      <td>1.00</td>\n",
       "      <td>5.00</td>\n",
       "      <td>9.00</td>\n",
       "      <td>16.00</td>\n",
       "      <td>60.00</td>\n",
       "    </tr>\n",
       "    <tr>\n",
       "      <th>living_area</th>\n",
       "      <td>21,796.00</td>\n",
       "      <td>NaN</td>\n",
       "      <td>NaN</td>\n",
       "      <td>NaN</td>\n",
       "      <td>34.46</td>\n",
       "      <td>22.03</td>\n",
       "      <td>2.00</td>\n",
       "      <td>18.60</td>\n",
       "      <td>30.00</td>\n",
       "      <td>42.30</td>\n",
       "      <td>409.70</td>\n",
       "    </tr>\n",
       "    <tr>\n",
       "      <th>floor</th>\n",
       "      <td>23,699.00</td>\n",
       "      <td>NaN</td>\n",
       "      <td>NaN</td>\n",
       "      <td>NaN</td>\n",
       "      <td>5.89</td>\n",
       "      <td>4.89</td>\n",
       "      <td>1.00</td>\n",
       "      <td>2.00</td>\n",
       "      <td>4.00</td>\n",
       "      <td>8.00</td>\n",
       "      <td>33.00</td>\n",
       "    </tr>\n",
       "    <tr>\n",
       "      <th>is_apartment</th>\n",
       "      <td>2775</td>\n",
       "      <td>2</td>\n",
       "      <td>False</td>\n",
       "      <td>2725</td>\n",
       "      <td>NaN</td>\n",
       "      <td>NaN</td>\n",
       "      <td>NaN</td>\n",
       "      <td>NaN</td>\n",
       "      <td>NaN</td>\n",
       "      <td>NaN</td>\n",
       "      <td>NaN</td>\n",
       "    </tr>\n",
       "    <tr>\n",
       "      <th>studio</th>\n",
       "      <td>23699</td>\n",
       "      <td>2</td>\n",
       "      <td>False</td>\n",
       "      <td>23550</td>\n",
       "      <td>NaN</td>\n",
       "      <td>NaN</td>\n",
       "      <td>NaN</td>\n",
       "      <td>NaN</td>\n",
       "      <td>NaN</td>\n",
       "      <td>NaN</td>\n",
       "      <td>NaN</td>\n",
       "    </tr>\n",
       "    <tr>\n",
       "      <th>open_plan</th>\n",
       "      <td>23699</td>\n",
       "      <td>2</td>\n",
       "      <td>False</td>\n",
       "      <td>23632</td>\n",
       "      <td>NaN</td>\n",
       "      <td>NaN</td>\n",
       "      <td>NaN</td>\n",
       "      <td>NaN</td>\n",
       "      <td>NaN</td>\n",
       "      <td>NaN</td>\n",
       "      <td>NaN</td>\n",
       "    </tr>\n",
       "    <tr>\n",
       "      <th>kitchen_area</th>\n",
       "      <td>21,421.00</td>\n",
       "      <td>NaN</td>\n",
       "      <td>NaN</td>\n",
       "      <td>NaN</td>\n",
       "      <td>10.57</td>\n",
       "      <td>5.91</td>\n",
       "      <td>1.30</td>\n",
       "      <td>7.00</td>\n",
       "      <td>9.10</td>\n",
       "      <td>12.00</td>\n",
       "      <td>112.00</td>\n",
       "    </tr>\n",
       "    <tr>\n",
       "      <th>balcony</th>\n",
       "      <td>12,180.00</td>\n",
       "      <td>NaN</td>\n",
       "      <td>NaN</td>\n",
       "      <td>NaN</td>\n",
       "      <td>1.15</td>\n",
       "      <td>1.07</td>\n",
       "      <td>0.00</td>\n",
       "      <td>0.00</td>\n",
       "      <td>1.00</td>\n",
       "      <td>2.00</td>\n",
       "      <td>5.00</td>\n",
       "    </tr>\n",
       "    <tr>\n",
       "      <th>locality_name</th>\n",
       "      <td>23650</td>\n",
       "      <td>364</td>\n",
       "      <td>Санкт-Петербург</td>\n",
       "      <td>15721</td>\n",
       "      <td>NaN</td>\n",
       "      <td>NaN</td>\n",
       "      <td>NaN</td>\n",
       "      <td>NaN</td>\n",
       "      <td>NaN</td>\n",
       "      <td>NaN</td>\n",
       "      <td>NaN</td>\n",
       "    </tr>\n",
       "    <tr>\n",
       "      <th>airports_nearest</th>\n",
       "      <td>18,157.00</td>\n",
       "      <td>NaN</td>\n",
       "      <td>NaN</td>\n",
       "      <td>NaN</td>\n",
       "      <td>28,793.67</td>\n",
       "      <td>12,630.88</td>\n",
       "      <td>0.00</td>\n",
       "      <td>18,585.00</td>\n",
       "      <td>26,726.00</td>\n",
       "      <td>37,273.00</td>\n",
       "      <td>84,869.00</td>\n",
       "    </tr>\n",
       "    <tr>\n",
       "      <th>cityCenters_nearest</th>\n",
       "      <td>18,180.00</td>\n",
       "      <td>NaN</td>\n",
       "      <td>NaN</td>\n",
       "      <td>NaN</td>\n",
       "      <td>14,191.28</td>\n",
       "      <td>8,608.39</td>\n",
       "      <td>181.00</td>\n",
       "      <td>9,238.00</td>\n",
       "      <td>13,098.50</td>\n",
       "      <td>16,293.00</td>\n",
       "      <td>65,968.00</td>\n",
       "    </tr>\n",
       "    <tr>\n",
       "      <th>parks_around3000</th>\n",
       "      <td>18,181.00</td>\n",
       "      <td>NaN</td>\n",
       "      <td>NaN</td>\n",
       "      <td>NaN</td>\n",
       "      <td>0.61</td>\n",
       "      <td>0.80</td>\n",
       "      <td>0.00</td>\n",
       "      <td>0.00</td>\n",
       "      <td>0.00</td>\n",
       "      <td>1.00</td>\n",
       "      <td>3.00</td>\n",
       "    </tr>\n",
       "    <tr>\n",
       "      <th>parks_nearest</th>\n",
       "      <td>8,079.00</td>\n",
       "      <td>NaN</td>\n",
       "      <td>NaN</td>\n",
       "      <td>NaN</td>\n",
       "      <td>490.80</td>\n",
       "      <td>342.32</td>\n",
       "      <td>1.00</td>\n",
       "      <td>288.00</td>\n",
       "      <td>455.00</td>\n",
       "      <td>612.00</td>\n",
       "      <td>3,190.00</td>\n",
       "    </tr>\n",
       "    <tr>\n",
       "      <th>ponds_around3000</th>\n",
       "      <td>18,181.00</td>\n",
       "      <td>NaN</td>\n",
       "      <td>NaN</td>\n",
       "      <td>NaN</td>\n",
       "      <td>0.77</td>\n",
       "      <td>0.94</td>\n",
       "      <td>0.00</td>\n",
       "      <td>0.00</td>\n",
       "      <td>1.00</td>\n",
       "      <td>1.00</td>\n",
       "      <td>3.00</td>\n",
       "    </tr>\n",
       "    <tr>\n",
       "      <th>ponds_nearest</th>\n",
       "      <td>9,110.00</td>\n",
       "      <td>NaN</td>\n",
       "      <td>NaN</td>\n",
       "      <td>NaN</td>\n",
       "      <td>517.98</td>\n",
       "      <td>277.72</td>\n",
       "      <td>13.00</td>\n",
       "      <td>294.00</td>\n",
       "      <td>502.00</td>\n",
       "      <td>729.00</td>\n",
       "      <td>1,344.00</td>\n",
       "    </tr>\n",
       "    <tr>\n",
       "      <th>days_exposition</th>\n",
       "      <td>20,518.00</td>\n",
       "      <td>NaN</td>\n",
       "      <td>NaN</td>\n",
       "      <td>NaN</td>\n",
       "      <td>180.89</td>\n",
       "      <td>219.73</td>\n",
       "      <td>1.00</td>\n",
       "      <td>45.00</td>\n",
       "      <td>95.00</td>\n",
       "      <td>232.00</td>\n",
       "      <td>1,580.00</td>\n",
       "    </tr>\n",
       "  </tbody>\n",
       "</table>\n",
       "</div>"
      ],
      "text/plain": [
       "                         count unique                  top   freq  \\\n",
       "total_images         23,699.00    NaN                  NaN    NaN   \n",
       "last_price           23,699.00    NaN                  NaN    NaN   \n",
       "total_area           23,699.00    NaN                  NaN    NaN   \n",
       "first_day_exposition     23699   1491  2018-02-01T00:00:00    368   \n",
       "rooms                23,699.00    NaN                  NaN    NaN   \n",
       "ceiling_height       14,504.00    NaN                  NaN    NaN   \n",
       "floors_total         23,613.00    NaN                  NaN    NaN   \n",
       "living_area          21,796.00    NaN                  NaN    NaN   \n",
       "floor                23,699.00    NaN                  NaN    NaN   \n",
       "is_apartment              2775      2                False   2725   \n",
       "studio                   23699      2                False  23550   \n",
       "open_plan                23699      2                False  23632   \n",
       "kitchen_area         21,421.00    NaN                  NaN    NaN   \n",
       "balcony              12,180.00    NaN                  NaN    NaN   \n",
       "locality_name            23650    364      Санкт-Петербург  15721   \n",
       "airports_nearest     18,157.00    NaN                  NaN    NaN   \n",
       "cityCenters_nearest  18,180.00    NaN                  NaN    NaN   \n",
       "parks_around3000     18,181.00    NaN                  NaN    NaN   \n",
       "parks_nearest         8,079.00    NaN                  NaN    NaN   \n",
       "ponds_around3000     18,181.00    NaN                  NaN    NaN   \n",
       "ponds_nearest         9,110.00    NaN                  NaN    NaN   \n",
       "days_exposition      20,518.00    NaN                  NaN    NaN   \n",
       "\n",
       "                             mean           std       min          25%  \\\n",
       "total_images                 9.86          5.68      0.00         6.00   \n",
       "last_price           6,541,548.77 10,887,013.27 12,190.00 3,400,000.00   \n",
       "total_area                  60.35         35.65     12.00        40.00   \n",
       "first_day_exposition          NaN           NaN       NaN          NaN   \n",
       "rooms                        2.07          1.08      0.00         1.00   \n",
       "ceiling_height               2.77          1.26      1.00         2.52   \n",
       "floors_total                10.67          6.60      1.00         5.00   \n",
       "living_area                 34.46         22.03      2.00        18.60   \n",
       "floor                        5.89          4.89      1.00         2.00   \n",
       "is_apartment                  NaN           NaN       NaN          NaN   \n",
       "studio                        NaN           NaN       NaN          NaN   \n",
       "open_plan                     NaN           NaN       NaN          NaN   \n",
       "kitchen_area                10.57          5.91      1.30         7.00   \n",
       "balcony                      1.15          1.07      0.00         0.00   \n",
       "locality_name                 NaN           NaN       NaN          NaN   \n",
       "airports_nearest        28,793.67     12,630.88      0.00    18,585.00   \n",
       "cityCenters_nearest     14,191.28      8,608.39    181.00     9,238.00   \n",
       "parks_around3000             0.61          0.80      0.00         0.00   \n",
       "parks_nearest              490.80        342.32      1.00       288.00   \n",
       "ponds_around3000             0.77          0.94      0.00         0.00   \n",
       "ponds_nearest              517.98        277.72     13.00       294.00   \n",
       "days_exposition            180.89        219.73      1.00        45.00   \n",
       "\n",
       "                              50%          75%            max  \n",
       "total_images                 9.00        14.00          50.00  \n",
       "last_price           4,650,000.00 6,800,000.00 763,000,000.00  \n",
       "total_area                  52.00        69.90         900.00  \n",
       "first_day_exposition          NaN          NaN            NaN  \n",
       "rooms                        2.00         3.00          19.00  \n",
       "ceiling_height               2.65         2.80         100.00  \n",
       "floors_total                 9.00        16.00          60.00  \n",
       "living_area                 30.00        42.30         409.70  \n",
       "floor                        4.00         8.00          33.00  \n",
       "is_apartment                  NaN          NaN            NaN  \n",
       "studio                        NaN          NaN            NaN  \n",
       "open_plan                     NaN          NaN            NaN  \n",
       "kitchen_area                 9.10        12.00         112.00  \n",
       "balcony                      1.00         2.00           5.00  \n",
       "locality_name                 NaN          NaN            NaN  \n",
       "airports_nearest        26,726.00    37,273.00      84,869.00  \n",
       "cityCenters_nearest     13,098.50    16,293.00      65,968.00  \n",
       "parks_around3000             0.00         1.00           3.00  \n",
       "parks_nearest              455.00       612.00       3,190.00  \n",
       "ponds_around3000             1.00         1.00           3.00  \n",
       "ponds_nearest              502.00       729.00       1,344.00  \n",
       "days_exposition             95.00       232.00       1,580.00  "
      ]
     },
     "execution_count": 4,
     "metadata": {},
     "output_type": "execute_result"
    }
   ],
   "source": [
    "data.describe(include = 'all').T"
   ]
  },
  {
   "cell_type": "code",
   "execution_count": 5,
   "metadata": {},
   "outputs": [
    {
     "data": {
      "text/plain": [
       "array([2.34, 2.  , 2.3 , 1.2 , 2.2 , 1.75, 2.25, 1.  ])"
      ]
     },
     "execution_count": 5,
     "metadata": {},
     "output_type": "execute_result"
    }
   ],
   "source": [
    "data.query('ceiling_height < 2.4')['ceiling_height'].unique()"
   ]
  },
  {
   "cell_type": "markdown",
   "metadata": {},
   "source": [
    "Наблюдения по содержанию данных:<br/>\n",
    "rooms - имеются квартиры с числом комнат равным 0<br/>\n",
    "ceiling_height - имеются кваритры с выстотой потолка ниже 2,4 м, есть квартиры выстой потолка 1 м и 100 м <br/>"
   ]
  },
  {
   "cell_type": "markdown",
   "metadata": {},
   "source": [
    "### Вывод"
   ]
  },
  {
   "cell_type": "markdown",
   "metadata": {},
   "source": [
    "В представленных данных имеются пропуски значений, неверные типы данных, а также аномальные значения в данных.<br/>\n",
    "Требуется исправить типы данных, проанализировать и обработать пропуски и аномальные значения."
   ]
  },
  {
   "cell_type": "markdown",
   "metadata": {},
   "source": [
    "## Предобработка данных"
   ]
  },
  {
   "cell_type": "markdown",
   "metadata": {},
   "source": [
    "Обработаем аномалии и пропуски в данных:"
   ]
  },
  {
   "cell_type": "markdown",
   "metadata": {},
   "source": [
    "first_day_exposition - тип данных должен быть datetime<br/>\n",
    "Переведем в верный формат"
   ]
  },
  {
   "cell_type": "code",
   "execution_count": 6,
   "metadata": {},
   "outputs": [],
   "source": [
    "data['first_day_exposition'] = pd.to_datetime(data['first_day_exposition'], format = '%Y-%m-%d')"
   ]
  },
  {
   "cell_type": "markdown",
   "metadata": {},
   "source": [
    "ceiling_height - имеются пустые значения, имеются кваритры с выстотой потолка ниже 2,4 м, есть квартиры выстой потолка 1 м и 100 м"
   ]
  },
  {
   "cell_type": "code",
   "execution_count": 7,
   "metadata": {},
   "outputs": [
    {
     "data": {
      "text/plain": [
       "0.38799105447487237"
      ]
     },
     "execution_count": 7,
     "metadata": {},
     "output_type": "execute_result"
    }
   ],
   "source": [
    "data['ceiling_height'].isna().sum() / len(data['ceiling_height'])"
   ]
  },
  {
   "cell_type": "markdown",
   "metadata": {},
   "source": [
    "Отсутствует 38 процентов данных<br/>\n",
    "в среднем высота потолков квартир имеет небольшой разброс по величине поэтому заполним отсутствующие данные медианным значением"
   ]
  },
  {
   "cell_type": "code",
   "execution_count": 8,
   "metadata": {},
   "outputs": [],
   "source": [
    "data['ceiling_height'] = data['ceiling_height'].fillna(data['ceiling_height'].median())"
   ]
  },
  {
   "cell_type": "code",
   "execution_count": 9,
   "metadata": {},
   "outputs": [
    {
     "data": {
      "text/plain": [
       "0.03128148867040803"
      ]
     },
     "execution_count": 9,
     "metadata": {},
     "output_type": "execute_result"
    }
   ],
   "source": [
    "data.query('ceiling_height < 2.4 or ceiling_height > 10 ')['ceiling_height'].sum() / len(data['ceiling_height'])"
   ]
  },
  {
   "cell_type": "markdown",
   "metadata": {},
   "source": [
    "аномальные значения содержатся в 3 процентах данных, оставим их без правок"
   ]
  },
  {
   "cell_type": "markdown",
   "metadata": {},
   "source": [
    "floors_total - тип данных должен быть int, имеются пустые значения"
   ]
  },
  {
   "cell_type": "code",
   "execution_count": 10,
   "metadata": {},
   "outputs": [
    {
     "data": {
      "text/plain": [
       "0.0036288450989493226"
      ]
     },
     "execution_count": 10,
     "metadata": {},
     "output_type": "execute_result"
    }
   ],
   "source": [
    "data['floors_total'].isna().sum() / len(data['floors_total'])"
   ]
  },
  {
   "cell_type": "markdown",
   "metadata": {},
   "source": [
    "пустые значения присутствуют в незначительно количестве, изменения не будем вносить"
   ]
  },
  {
   "cell_type": "markdown",
   "metadata": {},
   "source": [
    "living_area - имеются нулевые значения"
   ]
  },
  {
   "cell_type": "code",
   "execution_count": 11,
   "metadata": {
    "scrolled": false
   },
   "outputs": [
    {
     "data": {
      "text/plain": [
       "0.08029874678256467"
      ]
     },
     "execution_count": 11,
     "metadata": {},
     "output_type": "execute_result"
    }
   ],
   "source": [
    "data['living_area'].isna().sum() / len(data['living_area'])"
   ]
  },
  {
   "cell_type": "code",
   "execution_count": 12,
   "metadata": {},
   "outputs": [
    {
     "data": {
      "text/html": [
       "<div>\n",
       "<style scoped>\n",
       "    .dataframe tbody tr th:only-of-type {\n",
       "        vertical-align: middle;\n",
       "    }\n",
       "\n",
       "    .dataframe tbody tr th {\n",
       "        vertical-align: top;\n",
       "    }\n",
       "\n",
       "    .dataframe thead th {\n",
       "        text-align: right;\n",
       "    }\n",
       "</style>\n",
       "<table border=\"1\" class=\"dataframe\">\n",
       "  <thead>\n",
       "    <tr style=\"text-align: right;\">\n",
       "      <th></th>\n",
       "      <th>total_images</th>\n",
       "      <th>last_price</th>\n",
       "      <th>total_area</th>\n",
       "      <th>first_day_exposition</th>\n",
       "      <th>rooms</th>\n",
       "      <th>ceiling_height</th>\n",
       "      <th>floors_total</th>\n",
       "      <th>living_area</th>\n",
       "      <th>floor</th>\n",
       "      <th>is_apartment</th>\n",
       "      <th>...</th>\n",
       "      <th>kitchen_area</th>\n",
       "      <th>balcony</th>\n",
       "      <th>locality_name</th>\n",
       "      <th>airports_nearest</th>\n",
       "      <th>cityCenters_nearest</th>\n",
       "      <th>parks_around3000</th>\n",
       "      <th>parks_nearest</th>\n",
       "      <th>ponds_around3000</th>\n",
       "      <th>ponds_nearest</th>\n",
       "      <th>days_exposition</th>\n",
       "    </tr>\n",
       "  </thead>\n",
       "  <tbody>\n",
       "    <tr>\n",
       "      <th>3</th>\n",
       "      <td>0</td>\n",
       "      <td>64,900,000.00</td>\n",
       "      <td>159.00</td>\n",
       "      <td>2015-07-24</td>\n",
       "      <td>3</td>\n",
       "      <td>2.65</td>\n",
       "      <td>14.00</td>\n",
       "      <td>NaN</td>\n",
       "      <td>9</td>\n",
       "      <td>NaN</td>\n",
       "      <td>...</td>\n",
       "      <td>NaN</td>\n",
       "      <td>0.00</td>\n",
       "      <td>Санкт-Петербург</td>\n",
       "      <td>28,098.00</td>\n",
       "      <td>6,800.00</td>\n",
       "      <td>2.00</td>\n",
       "      <td>84.00</td>\n",
       "      <td>3.00</td>\n",
       "      <td>234.00</td>\n",
       "      <td>424.00</td>\n",
       "    </tr>\n",
       "    <tr>\n",
       "      <th>7</th>\n",
       "      <td>5</td>\n",
       "      <td>7,915,000.00</td>\n",
       "      <td>71.60</td>\n",
       "      <td>2019-04-18</td>\n",
       "      <td>2</td>\n",
       "      <td>2.65</td>\n",
       "      <td>24.00</td>\n",
       "      <td>NaN</td>\n",
       "      <td>22</td>\n",
       "      <td>NaN</td>\n",
       "      <td>...</td>\n",
       "      <td>18.90</td>\n",
       "      <td>2.00</td>\n",
       "      <td>Санкт-Петербург</td>\n",
       "      <td>23,982.00</td>\n",
       "      <td>11,634.00</td>\n",
       "      <td>0.00</td>\n",
       "      <td>NaN</td>\n",
       "      <td>0.00</td>\n",
       "      <td>NaN</td>\n",
       "      <td>NaN</td>\n",
       "    </tr>\n",
       "    <tr>\n",
       "      <th>30</th>\n",
       "      <td>12</td>\n",
       "      <td>2,200,000.00</td>\n",
       "      <td>32.80</td>\n",
       "      <td>2018-02-19</td>\n",
       "      <td>1</td>\n",
       "      <td>2.65</td>\n",
       "      <td>9.00</td>\n",
       "      <td>NaN</td>\n",
       "      <td>2</td>\n",
       "      <td>NaN</td>\n",
       "      <td>...</td>\n",
       "      <td>NaN</td>\n",
       "      <td>NaN</td>\n",
       "      <td>Коммунар</td>\n",
       "      <td>NaN</td>\n",
       "      <td>NaN</td>\n",
       "      <td>NaN</td>\n",
       "      <td>NaN</td>\n",
       "      <td>NaN</td>\n",
       "      <td>NaN</td>\n",
       "      <td>63.00</td>\n",
       "    </tr>\n",
       "    <tr>\n",
       "      <th>37</th>\n",
       "      <td>10</td>\n",
       "      <td>1,990,000.00</td>\n",
       "      <td>45.80</td>\n",
       "      <td>2017-10-28</td>\n",
       "      <td>2</td>\n",
       "      <td>2.50</td>\n",
       "      <td>5.00</td>\n",
       "      <td>NaN</td>\n",
       "      <td>1</td>\n",
       "      <td>NaN</td>\n",
       "      <td>...</td>\n",
       "      <td>NaN</td>\n",
       "      <td>NaN</td>\n",
       "      <td>поселок городского типа Красный Бор</td>\n",
       "      <td>NaN</td>\n",
       "      <td>NaN</td>\n",
       "      <td>NaN</td>\n",
       "      <td>NaN</td>\n",
       "      <td>NaN</td>\n",
       "      <td>NaN</td>\n",
       "      <td>196.00</td>\n",
       "    </tr>\n",
       "    <tr>\n",
       "      <th>44</th>\n",
       "      <td>13</td>\n",
       "      <td>5,350,000.00</td>\n",
       "      <td>40.00</td>\n",
       "      <td>2018-11-18</td>\n",
       "      <td>1</td>\n",
       "      <td>2.65</td>\n",
       "      <td>22.00</td>\n",
       "      <td>NaN</td>\n",
       "      <td>3</td>\n",
       "      <td>NaN</td>\n",
       "      <td>...</td>\n",
       "      <td>NaN</td>\n",
       "      <td>1.00</td>\n",
       "      <td>Санкт-Петербург</td>\n",
       "      <td>30,471.00</td>\n",
       "      <td>11,603.00</td>\n",
       "      <td>1.00</td>\n",
       "      <td>620.00</td>\n",
       "      <td>1.00</td>\n",
       "      <td>1,152.00</td>\n",
       "      <td>NaN</td>\n",
       "    </tr>\n",
       "    <tr>\n",
       "      <th>...</th>\n",
       "      <td>...</td>\n",
       "      <td>...</td>\n",
       "      <td>...</td>\n",
       "      <td>...</td>\n",
       "      <td>...</td>\n",
       "      <td>...</td>\n",
       "      <td>...</td>\n",
       "      <td>...</td>\n",
       "      <td>...</td>\n",
       "      <td>...</td>\n",
       "      <td>...</td>\n",
       "      <td>...</td>\n",
       "      <td>...</td>\n",
       "      <td>...</td>\n",
       "      <td>...</td>\n",
       "      <td>...</td>\n",
       "      <td>...</td>\n",
       "      <td>...</td>\n",
       "      <td>...</td>\n",
       "      <td>...</td>\n",
       "      <td>...</td>\n",
       "    </tr>\n",
       "    <tr>\n",
       "      <th>23642</th>\n",
       "      <td>14</td>\n",
       "      <td>5,950,000.00</td>\n",
       "      <td>80.30</td>\n",
       "      <td>2018-07-03</td>\n",
       "      <td>3</td>\n",
       "      <td>2.70</td>\n",
       "      <td>12.00</td>\n",
       "      <td>NaN</td>\n",
       "      <td>5</td>\n",
       "      <td>NaN</td>\n",
       "      <td>...</td>\n",
       "      <td>NaN</td>\n",
       "      <td>NaN</td>\n",
       "      <td>Колпино</td>\n",
       "      <td>27,933.00</td>\n",
       "      <td>33,719.00</td>\n",
       "      <td>0.00</td>\n",
       "      <td>NaN</td>\n",
       "      <td>2.00</td>\n",
       "      <td>562.00</td>\n",
       "      <td>60.00</td>\n",
       "    </tr>\n",
       "    <tr>\n",
       "      <th>23663</th>\n",
       "      <td>12</td>\n",
       "      <td>6,400,000.00</td>\n",
       "      <td>88.00</td>\n",
       "      <td>2018-01-12</td>\n",
       "      <td>4</td>\n",
       "      <td>2.55</td>\n",
       "      <td>10.00</td>\n",
       "      <td>NaN</td>\n",
       "      <td>1</td>\n",
       "      <td>NaN</td>\n",
       "      <td>...</td>\n",
       "      <td>NaN</td>\n",
       "      <td>NaN</td>\n",
       "      <td>Санкт-Петербург</td>\n",
       "      <td>33,642.00</td>\n",
       "      <td>13,943.00</td>\n",
       "      <td>0.00</td>\n",
       "      <td>NaN</td>\n",
       "      <td>2.00</td>\n",
       "      <td>844.00</td>\n",
       "      <td>59.00</td>\n",
       "    </tr>\n",
       "    <tr>\n",
       "      <th>23670</th>\n",
       "      <td>9</td>\n",
       "      <td>2,450,000.00</td>\n",
       "      <td>45.60</td>\n",
       "      <td>2018-02-08</td>\n",
       "      <td>1</td>\n",
       "      <td>2.80</td>\n",
       "      <td>9.00</td>\n",
       "      <td>NaN</td>\n",
       "      <td>2</td>\n",
       "      <td>NaN</td>\n",
       "      <td>...</td>\n",
       "      <td>NaN</td>\n",
       "      <td>NaN</td>\n",
       "      <td>поселок городского типа Синявино</td>\n",
       "      <td>NaN</td>\n",
       "      <td>NaN</td>\n",
       "      <td>NaN</td>\n",
       "      <td>NaN</td>\n",
       "      <td>NaN</td>\n",
       "      <td>NaN</td>\n",
       "      <td>45.00</td>\n",
       "    </tr>\n",
       "    <tr>\n",
       "      <th>23679</th>\n",
       "      <td>0</td>\n",
       "      <td>2,500,000.00</td>\n",
       "      <td>35.00</td>\n",
       "      <td>2017-12-08</td>\n",
       "      <td>1</td>\n",
       "      <td>2.65</td>\n",
       "      <td>9.00</td>\n",
       "      <td>NaN</td>\n",
       "      <td>4</td>\n",
       "      <td>NaN</td>\n",
       "      <td>...</td>\n",
       "      <td>NaN</td>\n",
       "      <td>NaN</td>\n",
       "      <td>Сосновый Бор</td>\n",
       "      <td>NaN</td>\n",
       "      <td>NaN</td>\n",
       "      <td>NaN</td>\n",
       "      <td>NaN</td>\n",
       "      <td>NaN</td>\n",
       "      <td>NaN</td>\n",
       "      <td>45.00</td>\n",
       "    </tr>\n",
       "    <tr>\n",
       "      <th>23697</th>\n",
       "      <td>13</td>\n",
       "      <td>11,475,000.00</td>\n",
       "      <td>76.75</td>\n",
       "      <td>2017-03-28</td>\n",
       "      <td>2</td>\n",
       "      <td>3.00</td>\n",
       "      <td>17.00</td>\n",
       "      <td>NaN</td>\n",
       "      <td>12</td>\n",
       "      <td>NaN</td>\n",
       "      <td>...</td>\n",
       "      <td>23.30</td>\n",
       "      <td>2.00</td>\n",
       "      <td>Санкт-Петербург</td>\n",
       "      <td>39,140.00</td>\n",
       "      <td>10,364.00</td>\n",
       "      <td>2.00</td>\n",
       "      <td>173.00</td>\n",
       "      <td>3.00</td>\n",
       "      <td>196.00</td>\n",
       "      <td>602.00</td>\n",
       "    </tr>\n",
       "  </tbody>\n",
       "</table>\n",
       "<p>1903 rows × 22 columns</p>\n",
       "</div>"
      ],
      "text/plain": [
       "       total_images    last_price  total_area first_day_exposition  rooms  \\\n",
       "3                 0 64,900,000.00      159.00           2015-07-24      3   \n",
       "7                 5  7,915,000.00       71.60           2019-04-18      2   \n",
       "30               12  2,200,000.00       32.80           2018-02-19      1   \n",
       "37               10  1,990,000.00       45.80           2017-10-28      2   \n",
       "44               13  5,350,000.00       40.00           2018-11-18      1   \n",
       "...             ...           ...         ...                  ...    ...   \n",
       "23642            14  5,950,000.00       80.30           2018-07-03      3   \n",
       "23663            12  6,400,000.00       88.00           2018-01-12      4   \n",
       "23670             9  2,450,000.00       45.60           2018-02-08      1   \n",
       "23679             0  2,500,000.00       35.00           2017-12-08      1   \n",
       "23697            13 11,475,000.00       76.75           2017-03-28      2   \n",
       "\n",
       "       ceiling_height  floors_total  living_area  floor is_apartment  ...  \\\n",
       "3                2.65         14.00          NaN      9          NaN  ...   \n",
       "7                2.65         24.00          NaN     22          NaN  ...   \n",
       "30               2.65          9.00          NaN      2          NaN  ...   \n",
       "37               2.50          5.00          NaN      1          NaN  ...   \n",
       "44               2.65         22.00          NaN      3          NaN  ...   \n",
       "...               ...           ...          ...    ...          ...  ...   \n",
       "23642            2.70         12.00          NaN      5          NaN  ...   \n",
       "23663            2.55         10.00          NaN      1          NaN  ...   \n",
       "23670            2.80          9.00          NaN      2          NaN  ...   \n",
       "23679            2.65          9.00          NaN      4          NaN  ...   \n",
       "23697            3.00         17.00          NaN     12          NaN  ...   \n",
       "\n",
       "       kitchen_area  balcony                        locality_name  \\\n",
       "3               NaN     0.00                      Санкт-Петербург   \n",
       "7             18.90     2.00                      Санкт-Петербург   \n",
       "30              NaN      NaN                             Коммунар   \n",
       "37              NaN      NaN  поселок городского типа Красный Бор   \n",
       "44              NaN     1.00                      Санкт-Петербург   \n",
       "...             ...      ...                                  ...   \n",
       "23642           NaN      NaN                              Колпино   \n",
       "23663           NaN      NaN                      Санкт-Петербург   \n",
       "23670           NaN      NaN     поселок городского типа Синявино   \n",
       "23679           NaN      NaN                         Сосновый Бор   \n",
       "23697         23.30     2.00                      Санкт-Петербург   \n",
       "\n",
       "       airports_nearest cityCenters_nearest  parks_around3000  parks_nearest  \\\n",
       "3             28,098.00            6,800.00              2.00          84.00   \n",
       "7             23,982.00           11,634.00              0.00            NaN   \n",
       "30                  NaN                 NaN               NaN            NaN   \n",
       "37                  NaN                 NaN               NaN            NaN   \n",
       "44            30,471.00           11,603.00              1.00         620.00   \n",
       "...                 ...                 ...               ...            ...   \n",
       "23642         27,933.00           33,719.00              0.00            NaN   \n",
       "23663         33,642.00           13,943.00              0.00            NaN   \n",
       "23670               NaN                 NaN               NaN            NaN   \n",
       "23679               NaN                 NaN               NaN            NaN   \n",
       "23697         39,140.00           10,364.00              2.00         173.00   \n",
       "\n",
       "       ponds_around3000  ponds_nearest  days_exposition  \n",
       "3                  3.00         234.00           424.00  \n",
       "7                  0.00            NaN              NaN  \n",
       "30                  NaN            NaN            63.00  \n",
       "37                  NaN            NaN           196.00  \n",
       "44                 1.00       1,152.00              NaN  \n",
       "...                 ...            ...              ...  \n",
       "23642              2.00         562.00            60.00  \n",
       "23663              2.00         844.00            59.00  \n",
       "23670               NaN            NaN            45.00  \n",
       "23679               NaN            NaN            45.00  \n",
       "23697              3.00         196.00           602.00  \n",
       "\n",
       "[1903 rows x 22 columns]"
      ]
     },
     "execution_count": 12,
     "metadata": {},
     "output_type": "execute_result"
    }
   ],
   "source": [
    "data[data['living_area'].isna()]"
   ]
  },
  {
   "cell_type": "markdown",
   "metadata": {},
   "source": [
    "пустые значения присутствуют в 8 процентах данных, закономерность в отсутствующих данных не наблюдается, и разброс значений в них может быть большим, восстановить эти данные с достаточной достоверностью мы не сможем, поэтому оставим пропуски без изменений"
   ]
  },
  {
   "cell_type": "markdown",
   "metadata": {},
   "source": [
    "is_apartment - тип данных должен быть bool, имеются пустые значения"
   ]
  },
  {
   "cell_type": "code",
   "execution_count": 13,
   "metadata": {
    "scrolled": true
   },
   "outputs": [
    {
     "data": {
      "text/plain": [
       "0.8829064517490189"
      ]
     },
     "execution_count": 13,
     "metadata": {},
     "output_type": "execute_result"
    }
   ],
   "source": [
    "data['is_apartment'].isna().sum() / len(data['is_apartment'])"
   ]
  },
  {
   "cell_type": "code",
   "execution_count": 14,
   "metadata": {},
   "outputs": [
    {
     "data": {
      "text/html": [
       "<div>\n",
       "<style scoped>\n",
       "    .dataframe tbody tr th:only-of-type {\n",
       "        vertical-align: middle;\n",
       "    }\n",
       "\n",
       "    .dataframe tbody tr th {\n",
       "        vertical-align: top;\n",
       "    }\n",
       "\n",
       "    .dataframe thead th {\n",
       "        text-align: right;\n",
       "    }\n",
       "</style>\n",
       "<table border=\"1\" class=\"dataframe\">\n",
       "  <thead>\n",
       "    <tr style=\"text-align: right;\">\n",
       "      <th></th>\n",
       "      <th>total_images</th>\n",
       "      <th>last_price</th>\n",
       "      <th>total_area</th>\n",
       "      <th>first_day_exposition</th>\n",
       "      <th>rooms</th>\n",
       "      <th>ceiling_height</th>\n",
       "      <th>floors_total</th>\n",
       "      <th>living_area</th>\n",
       "      <th>floor</th>\n",
       "      <th>is_apartment</th>\n",
       "      <th>...</th>\n",
       "      <th>kitchen_area</th>\n",
       "      <th>balcony</th>\n",
       "      <th>locality_name</th>\n",
       "      <th>airports_nearest</th>\n",
       "      <th>cityCenters_nearest</th>\n",
       "      <th>parks_around3000</th>\n",
       "      <th>parks_nearest</th>\n",
       "      <th>ponds_around3000</th>\n",
       "      <th>ponds_nearest</th>\n",
       "      <th>days_exposition</th>\n",
       "    </tr>\n",
       "  </thead>\n",
       "  <tbody>\n",
       "    <tr>\n",
       "      <th>0</th>\n",
       "      <td>20</td>\n",
       "      <td>13,000,000.00</td>\n",
       "      <td>108.00</td>\n",
       "      <td>2019-03-07</td>\n",
       "      <td>3</td>\n",
       "      <td>2.70</td>\n",
       "      <td>16.00</td>\n",
       "      <td>51.00</td>\n",
       "      <td>8</td>\n",
       "      <td>NaN</td>\n",
       "      <td>...</td>\n",
       "      <td>25.00</td>\n",
       "      <td>NaN</td>\n",
       "      <td>Санкт-Петербург</td>\n",
       "      <td>18,863.00</td>\n",
       "      <td>16,028.00</td>\n",
       "      <td>1.00</td>\n",
       "      <td>482.00</td>\n",
       "      <td>2.00</td>\n",
       "      <td>755.00</td>\n",
       "      <td>NaN</td>\n",
       "    </tr>\n",
       "    <tr>\n",
       "      <th>1</th>\n",
       "      <td>7</td>\n",
       "      <td>3,350,000.00</td>\n",
       "      <td>40.40</td>\n",
       "      <td>2018-12-04</td>\n",
       "      <td>1</td>\n",
       "      <td>2.65</td>\n",
       "      <td>11.00</td>\n",
       "      <td>18.60</td>\n",
       "      <td>1</td>\n",
       "      <td>NaN</td>\n",
       "      <td>...</td>\n",
       "      <td>11.00</td>\n",
       "      <td>2.00</td>\n",
       "      <td>посёлок Шушары</td>\n",
       "      <td>12,817.00</td>\n",
       "      <td>18,603.00</td>\n",
       "      <td>0.00</td>\n",
       "      <td>NaN</td>\n",
       "      <td>0.00</td>\n",
       "      <td>NaN</td>\n",
       "      <td>81.00</td>\n",
       "    </tr>\n",
       "    <tr>\n",
       "      <th>2</th>\n",
       "      <td>10</td>\n",
       "      <td>5,196,000.00</td>\n",
       "      <td>56.00</td>\n",
       "      <td>2015-08-20</td>\n",
       "      <td>2</td>\n",
       "      <td>2.65</td>\n",
       "      <td>5.00</td>\n",
       "      <td>34.30</td>\n",
       "      <td>4</td>\n",
       "      <td>NaN</td>\n",
       "      <td>...</td>\n",
       "      <td>8.30</td>\n",
       "      <td>0.00</td>\n",
       "      <td>Санкт-Петербург</td>\n",
       "      <td>21,741.00</td>\n",
       "      <td>13,933.00</td>\n",
       "      <td>1.00</td>\n",
       "      <td>90.00</td>\n",
       "      <td>2.00</td>\n",
       "      <td>574.00</td>\n",
       "      <td>558.00</td>\n",
       "    </tr>\n",
       "    <tr>\n",
       "      <th>3</th>\n",
       "      <td>0</td>\n",
       "      <td>64,900,000.00</td>\n",
       "      <td>159.00</td>\n",
       "      <td>2015-07-24</td>\n",
       "      <td>3</td>\n",
       "      <td>2.65</td>\n",
       "      <td>14.00</td>\n",
       "      <td>NaN</td>\n",
       "      <td>9</td>\n",
       "      <td>NaN</td>\n",
       "      <td>...</td>\n",
       "      <td>NaN</td>\n",
       "      <td>0.00</td>\n",
       "      <td>Санкт-Петербург</td>\n",
       "      <td>28,098.00</td>\n",
       "      <td>6,800.00</td>\n",
       "      <td>2.00</td>\n",
       "      <td>84.00</td>\n",
       "      <td>3.00</td>\n",
       "      <td>234.00</td>\n",
       "      <td>424.00</td>\n",
       "    </tr>\n",
       "    <tr>\n",
       "      <th>4</th>\n",
       "      <td>2</td>\n",
       "      <td>10,000,000.00</td>\n",
       "      <td>100.00</td>\n",
       "      <td>2018-06-19</td>\n",
       "      <td>2</td>\n",
       "      <td>3.03</td>\n",
       "      <td>14.00</td>\n",
       "      <td>32.00</td>\n",
       "      <td>13</td>\n",
       "      <td>NaN</td>\n",
       "      <td>...</td>\n",
       "      <td>41.00</td>\n",
       "      <td>NaN</td>\n",
       "      <td>Санкт-Петербург</td>\n",
       "      <td>31,856.00</td>\n",
       "      <td>8,098.00</td>\n",
       "      <td>2.00</td>\n",
       "      <td>112.00</td>\n",
       "      <td>1.00</td>\n",
       "      <td>48.00</td>\n",
       "      <td>121.00</td>\n",
       "    </tr>\n",
       "    <tr>\n",
       "      <th>...</th>\n",
       "      <td>...</td>\n",
       "      <td>...</td>\n",
       "      <td>...</td>\n",
       "      <td>...</td>\n",
       "      <td>...</td>\n",
       "      <td>...</td>\n",
       "      <td>...</td>\n",
       "      <td>...</td>\n",
       "      <td>...</td>\n",
       "      <td>...</td>\n",
       "      <td>...</td>\n",
       "      <td>...</td>\n",
       "      <td>...</td>\n",
       "      <td>...</td>\n",
       "      <td>...</td>\n",
       "      <td>...</td>\n",
       "      <td>...</td>\n",
       "      <td>...</td>\n",
       "      <td>...</td>\n",
       "      <td>...</td>\n",
       "      <td>...</td>\n",
       "    </tr>\n",
       "    <tr>\n",
       "      <th>23694</th>\n",
       "      <td>9</td>\n",
       "      <td>9,700,000.00</td>\n",
       "      <td>133.81</td>\n",
       "      <td>2017-03-21</td>\n",
       "      <td>3</td>\n",
       "      <td>3.70</td>\n",
       "      <td>5.00</td>\n",
       "      <td>73.30</td>\n",
       "      <td>3</td>\n",
       "      <td>NaN</td>\n",
       "      <td>...</td>\n",
       "      <td>13.83</td>\n",
       "      <td>NaN</td>\n",
       "      <td>Санкт-Петербург</td>\n",
       "      <td>24,665.00</td>\n",
       "      <td>4,232.00</td>\n",
       "      <td>1.00</td>\n",
       "      <td>796.00</td>\n",
       "      <td>3.00</td>\n",
       "      <td>381.00</td>\n",
       "      <td>NaN</td>\n",
       "    </tr>\n",
       "    <tr>\n",
       "      <th>23695</th>\n",
       "      <td>14</td>\n",
       "      <td>3,100,000.00</td>\n",
       "      <td>59.00</td>\n",
       "      <td>2018-01-15</td>\n",
       "      <td>3</td>\n",
       "      <td>2.65</td>\n",
       "      <td>5.00</td>\n",
       "      <td>38.00</td>\n",
       "      <td>4</td>\n",
       "      <td>NaN</td>\n",
       "      <td>...</td>\n",
       "      <td>8.50</td>\n",
       "      <td>NaN</td>\n",
       "      <td>Тосно</td>\n",
       "      <td>NaN</td>\n",
       "      <td>NaN</td>\n",
       "      <td>NaN</td>\n",
       "      <td>NaN</td>\n",
       "      <td>NaN</td>\n",
       "      <td>NaN</td>\n",
       "      <td>45.00</td>\n",
       "    </tr>\n",
       "    <tr>\n",
       "      <th>23696</th>\n",
       "      <td>18</td>\n",
       "      <td>2,500,000.00</td>\n",
       "      <td>56.70</td>\n",
       "      <td>2018-02-11</td>\n",
       "      <td>2</td>\n",
       "      <td>2.65</td>\n",
       "      <td>3.00</td>\n",
       "      <td>29.70</td>\n",
       "      <td>1</td>\n",
       "      <td>NaN</td>\n",
       "      <td>...</td>\n",
       "      <td>NaN</td>\n",
       "      <td>NaN</td>\n",
       "      <td>село Рождествено</td>\n",
       "      <td>NaN</td>\n",
       "      <td>NaN</td>\n",
       "      <td>NaN</td>\n",
       "      <td>NaN</td>\n",
       "      <td>NaN</td>\n",
       "      <td>NaN</td>\n",
       "      <td>NaN</td>\n",
       "    </tr>\n",
       "    <tr>\n",
       "      <th>23697</th>\n",
       "      <td>13</td>\n",
       "      <td>11,475,000.00</td>\n",
       "      <td>76.75</td>\n",
       "      <td>2017-03-28</td>\n",
       "      <td>2</td>\n",
       "      <td>3.00</td>\n",
       "      <td>17.00</td>\n",
       "      <td>NaN</td>\n",
       "      <td>12</td>\n",
       "      <td>NaN</td>\n",
       "      <td>...</td>\n",
       "      <td>23.30</td>\n",
       "      <td>2.00</td>\n",
       "      <td>Санкт-Петербург</td>\n",
       "      <td>39,140.00</td>\n",
       "      <td>10,364.00</td>\n",
       "      <td>2.00</td>\n",
       "      <td>173.00</td>\n",
       "      <td>3.00</td>\n",
       "      <td>196.00</td>\n",
       "      <td>602.00</td>\n",
       "    </tr>\n",
       "    <tr>\n",
       "      <th>23698</th>\n",
       "      <td>4</td>\n",
       "      <td>1,350,000.00</td>\n",
       "      <td>32.30</td>\n",
       "      <td>2017-07-21</td>\n",
       "      <td>1</td>\n",
       "      <td>2.50</td>\n",
       "      <td>5.00</td>\n",
       "      <td>12.30</td>\n",
       "      <td>1</td>\n",
       "      <td>NaN</td>\n",
       "      <td>...</td>\n",
       "      <td>9.00</td>\n",
       "      <td>NaN</td>\n",
       "      <td>поселок Новый Учхоз</td>\n",
       "      <td>NaN</td>\n",
       "      <td>NaN</td>\n",
       "      <td>NaN</td>\n",
       "      <td>NaN</td>\n",
       "      <td>NaN</td>\n",
       "      <td>NaN</td>\n",
       "      <td>NaN</td>\n",
       "    </tr>\n",
       "  </tbody>\n",
       "</table>\n",
       "<p>20924 rows × 22 columns</p>\n",
       "</div>"
      ],
      "text/plain": [
       "       total_images    last_price  total_area first_day_exposition  rooms  \\\n",
       "0                20 13,000,000.00      108.00           2019-03-07      3   \n",
       "1                 7  3,350,000.00       40.40           2018-12-04      1   \n",
       "2                10  5,196,000.00       56.00           2015-08-20      2   \n",
       "3                 0 64,900,000.00      159.00           2015-07-24      3   \n",
       "4                 2 10,000,000.00      100.00           2018-06-19      2   \n",
       "...             ...           ...         ...                  ...    ...   \n",
       "23694             9  9,700,000.00      133.81           2017-03-21      3   \n",
       "23695            14  3,100,000.00       59.00           2018-01-15      3   \n",
       "23696            18  2,500,000.00       56.70           2018-02-11      2   \n",
       "23697            13 11,475,000.00       76.75           2017-03-28      2   \n",
       "23698             4  1,350,000.00       32.30           2017-07-21      1   \n",
       "\n",
       "       ceiling_height  floors_total  living_area  floor is_apartment  ...  \\\n",
       "0                2.70         16.00        51.00      8          NaN  ...   \n",
       "1                2.65         11.00        18.60      1          NaN  ...   \n",
       "2                2.65          5.00        34.30      4          NaN  ...   \n",
       "3                2.65         14.00          NaN      9          NaN  ...   \n",
       "4                3.03         14.00        32.00     13          NaN  ...   \n",
       "...               ...           ...          ...    ...          ...  ...   \n",
       "23694            3.70          5.00        73.30      3          NaN  ...   \n",
       "23695            2.65          5.00        38.00      4          NaN  ...   \n",
       "23696            2.65          3.00        29.70      1          NaN  ...   \n",
       "23697            3.00         17.00          NaN     12          NaN  ...   \n",
       "23698            2.50          5.00        12.30      1          NaN  ...   \n",
       "\n",
       "       kitchen_area  balcony        locality_name  airports_nearest  \\\n",
       "0             25.00      NaN      Санкт-Петербург         18,863.00   \n",
       "1             11.00     2.00       посёлок Шушары         12,817.00   \n",
       "2              8.30     0.00      Санкт-Петербург         21,741.00   \n",
       "3               NaN     0.00      Санкт-Петербург         28,098.00   \n",
       "4             41.00      NaN      Санкт-Петербург         31,856.00   \n",
       "...             ...      ...                  ...               ...   \n",
       "23694         13.83      NaN      Санкт-Петербург         24,665.00   \n",
       "23695          8.50      NaN                Тосно               NaN   \n",
       "23696           NaN      NaN     село Рождествено               NaN   \n",
       "23697         23.30     2.00      Санкт-Петербург         39,140.00   \n",
       "23698          9.00      NaN  поселок Новый Учхоз               NaN   \n",
       "\n",
       "      cityCenters_nearest  parks_around3000  parks_nearest  ponds_around3000  \\\n",
       "0               16,028.00              1.00         482.00              2.00   \n",
       "1               18,603.00              0.00            NaN              0.00   \n",
       "2               13,933.00              1.00          90.00              2.00   \n",
       "3                6,800.00              2.00          84.00              3.00   \n",
       "4                8,098.00              2.00         112.00              1.00   \n",
       "...                   ...               ...            ...               ...   \n",
       "23694            4,232.00              1.00         796.00              3.00   \n",
       "23695                 NaN               NaN            NaN               NaN   \n",
       "23696                 NaN               NaN            NaN               NaN   \n",
       "23697           10,364.00              2.00         173.00              3.00   \n",
       "23698                 NaN               NaN            NaN               NaN   \n",
       "\n",
       "       ponds_nearest  days_exposition  \n",
       "0             755.00              NaN  \n",
       "1                NaN            81.00  \n",
       "2             574.00           558.00  \n",
       "3             234.00           424.00  \n",
       "4              48.00           121.00  \n",
       "...              ...              ...  \n",
       "23694         381.00              NaN  \n",
       "23695            NaN            45.00  \n",
       "23696            NaN              NaN  \n",
       "23697         196.00           602.00  \n",
       "23698            NaN              NaN  \n",
       "\n",
       "[20924 rows x 22 columns]"
      ]
     },
     "execution_count": 14,
     "metadata": {},
     "output_type": "execute_result"
    }
   ],
   "source": [
    "data[data['is_apartment'].isna()]"
   ]
  },
  {
   "cell_type": "code",
   "execution_count": 15,
   "metadata": {
    "scrolled": true
   },
   "outputs": [
    {
     "data": {
      "text/plain": [
       "False    2725\n",
       "True       50\n",
       "Name: is_apartment, dtype: int64"
      ]
     },
     "execution_count": 15,
     "metadata": {},
     "output_type": "execute_result"
    }
   ],
   "source": [
    "data['is_apartment'].value_counts()"
   ]
  },
  {
   "cell_type": "markdown",
   "metadata": {},
   "source": [
    "похоже пустые значения означают что жилплощадь не является аппартаментами, заменим пустые значения на False"
   ]
  },
  {
   "cell_type": "code",
   "execution_count": 16,
   "metadata": {},
   "outputs": [],
   "source": [
    "data['is_apartment'] = data['is_apartment'].fillna(False)"
   ]
  },
  {
   "cell_type": "markdown",
   "metadata": {},
   "source": [
    "kitchen_area - имеются пустые значения"
   ]
  },
  {
   "cell_type": "code",
   "execution_count": 17,
   "metadata": {
    "scrolled": true
   },
   "outputs": [
    {
     "data": {
      "text/plain": [
       "0.09612219924891345"
      ]
     },
     "execution_count": 17,
     "metadata": {},
     "output_type": "execute_result"
    }
   ],
   "source": [
    "data['kitchen_area'].isna().sum() / len(data['kitchen_area'])"
   ]
  },
  {
   "cell_type": "markdown",
   "metadata": {},
   "source": [
    "по аналогии с living_area оставим пропуски без изменений"
   ]
  },
  {
   "cell_type": "markdown",
   "metadata": {},
   "source": [
    "balcony - тип данных должен быть int, имеются пустые значения"
   ]
  },
  {
   "cell_type": "code",
   "execution_count": 18,
   "metadata": {},
   "outputs": [
    {
     "data": {
      "text/plain": [
       "0.4860542638929913"
      ]
     },
     "execution_count": 18,
     "metadata": {},
     "output_type": "execute_result"
    }
   ],
   "source": [
    "data['balcony'].isna().sum() / len(data['balcony'])"
   ]
  },
  {
   "cell_type": "code",
   "execution_count": 19,
   "metadata": {},
   "outputs": [
    {
     "data": {
      "text/html": [
       "<div>\n",
       "<style scoped>\n",
       "    .dataframe tbody tr th:only-of-type {\n",
       "        vertical-align: middle;\n",
       "    }\n",
       "\n",
       "    .dataframe tbody tr th {\n",
       "        vertical-align: top;\n",
       "    }\n",
       "\n",
       "    .dataframe thead th {\n",
       "        text-align: right;\n",
       "    }\n",
       "</style>\n",
       "<table border=\"1\" class=\"dataframe\">\n",
       "  <thead>\n",
       "    <tr style=\"text-align: right;\">\n",
       "      <th></th>\n",
       "      <th>total_images</th>\n",
       "      <th>last_price</th>\n",
       "      <th>total_area</th>\n",
       "      <th>first_day_exposition</th>\n",
       "      <th>rooms</th>\n",
       "      <th>ceiling_height</th>\n",
       "      <th>floors_total</th>\n",
       "      <th>living_area</th>\n",
       "      <th>floor</th>\n",
       "      <th>is_apartment</th>\n",
       "      <th>...</th>\n",
       "      <th>kitchen_area</th>\n",
       "      <th>balcony</th>\n",
       "      <th>locality_name</th>\n",
       "      <th>airports_nearest</th>\n",
       "      <th>cityCenters_nearest</th>\n",
       "      <th>parks_around3000</th>\n",
       "      <th>parks_nearest</th>\n",
       "      <th>ponds_around3000</th>\n",
       "      <th>ponds_nearest</th>\n",
       "      <th>days_exposition</th>\n",
       "    </tr>\n",
       "  </thead>\n",
       "  <tbody>\n",
       "    <tr>\n",
       "      <th>0</th>\n",
       "      <td>20</td>\n",
       "      <td>13,000,000.00</td>\n",
       "      <td>108.00</td>\n",
       "      <td>2019-03-07</td>\n",
       "      <td>3</td>\n",
       "      <td>2.70</td>\n",
       "      <td>16.00</td>\n",
       "      <td>51.00</td>\n",
       "      <td>8</td>\n",
       "      <td>False</td>\n",
       "      <td>...</td>\n",
       "      <td>25.00</td>\n",
       "      <td>NaN</td>\n",
       "      <td>Санкт-Петербург</td>\n",
       "      <td>18,863.00</td>\n",
       "      <td>16,028.00</td>\n",
       "      <td>1.00</td>\n",
       "      <td>482.00</td>\n",
       "      <td>2.00</td>\n",
       "      <td>755.00</td>\n",
       "      <td>NaN</td>\n",
       "    </tr>\n",
       "    <tr>\n",
       "      <th>4</th>\n",
       "      <td>2</td>\n",
       "      <td>10,000,000.00</td>\n",
       "      <td>100.00</td>\n",
       "      <td>2018-06-19</td>\n",
       "      <td>2</td>\n",
       "      <td>3.03</td>\n",
       "      <td>14.00</td>\n",
       "      <td>32.00</td>\n",
       "      <td>13</td>\n",
       "      <td>False</td>\n",
       "      <td>...</td>\n",
       "      <td>41.00</td>\n",
       "      <td>NaN</td>\n",
       "      <td>Санкт-Петербург</td>\n",
       "      <td>31,856.00</td>\n",
       "      <td>8,098.00</td>\n",
       "      <td>2.00</td>\n",
       "      <td>112.00</td>\n",
       "      <td>1.00</td>\n",
       "      <td>48.00</td>\n",
       "      <td>121.00</td>\n",
       "    </tr>\n",
       "    <tr>\n",
       "      <th>5</th>\n",
       "      <td>10</td>\n",
       "      <td>2,890,000.00</td>\n",
       "      <td>30.40</td>\n",
       "      <td>2018-09-10</td>\n",
       "      <td>1</td>\n",
       "      <td>2.65</td>\n",
       "      <td>12.00</td>\n",
       "      <td>14.40</td>\n",
       "      <td>5</td>\n",
       "      <td>False</td>\n",
       "      <td>...</td>\n",
       "      <td>9.10</td>\n",
       "      <td>NaN</td>\n",
       "      <td>городской посёлок Янино-1</td>\n",
       "      <td>NaN</td>\n",
       "      <td>NaN</td>\n",
       "      <td>NaN</td>\n",
       "      <td>NaN</td>\n",
       "      <td>NaN</td>\n",
       "      <td>NaN</td>\n",
       "      <td>55.00</td>\n",
       "    </tr>\n",
       "    <tr>\n",
       "      <th>8</th>\n",
       "      <td>20</td>\n",
       "      <td>2,900,000.00</td>\n",
       "      <td>33.16</td>\n",
       "      <td>2018-05-23</td>\n",
       "      <td>1</td>\n",
       "      <td>2.65</td>\n",
       "      <td>27.00</td>\n",
       "      <td>15.43</td>\n",
       "      <td>26</td>\n",
       "      <td>False</td>\n",
       "      <td>...</td>\n",
       "      <td>8.81</td>\n",
       "      <td>NaN</td>\n",
       "      <td>посёлок Мурино</td>\n",
       "      <td>NaN</td>\n",
       "      <td>NaN</td>\n",
       "      <td>NaN</td>\n",
       "      <td>NaN</td>\n",
       "      <td>NaN</td>\n",
       "      <td>NaN</td>\n",
       "      <td>189.00</td>\n",
       "    </tr>\n",
       "    <tr>\n",
       "      <th>10</th>\n",
       "      <td>5</td>\n",
       "      <td>5,050,000.00</td>\n",
       "      <td>39.60</td>\n",
       "      <td>2017-11-16</td>\n",
       "      <td>1</td>\n",
       "      <td>2.67</td>\n",
       "      <td>12.00</td>\n",
       "      <td>20.30</td>\n",
       "      <td>3</td>\n",
       "      <td>False</td>\n",
       "      <td>...</td>\n",
       "      <td>8.50</td>\n",
       "      <td>NaN</td>\n",
       "      <td>Санкт-Петербург</td>\n",
       "      <td>38,357.00</td>\n",
       "      <td>13,878.00</td>\n",
       "      <td>1.00</td>\n",
       "      <td>310.00</td>\n",
       "      <td>2.00</td>\n",
       "      <td>553.00</td>\n",
       "      <td>137.00</td>\n",
       "    </tr>\n",
       "    <tr>\n",
       "      <th>...</th>\n",
       "      <td>...</td>\n",
       "      <td>...</td>\n",
       "      <td>...</td>\n",
       "      <td>...</td>\n",
       "      <td>...</td>\n",
       "      <td>...</td>\n",
       "      <td>...</td>\n",
       "      <td>...</td>\n",
       "      <td>...</td>\n",
       "      <td>...</td>\n",
       "      <td>...</td>\n",
       "      <td>...</td>\n",
       "      <td>...</td>\n",
       "      <td>...</td>\n",
       "      <td>...</td>\n",
       "      <td>...</td>\n",
       "      <td>...</td>\n",
       "      <td>...</td>\n",
       "      <td>...</td>\n",
       "      <td>...</td>\n",
       "      <td>...</td>\n",
       "    </tr>\n",
       "    <tr>\n",
       "      <th>23692</th>\n",
       "      <td>2</td>\n",
       "      <td>1,350,000.00</td>\n",
       "      <td>30.00</td>\n",
       "      <td>2017-07-07</td>\n",
       "      <td>1</td>\n",
       "      <td>2.65</td>\n",
       "      <td>5.00</td>\n",
       "      <td>17.50</td>\n",
       "      <td>4</td>\n",
       "      <td>False</td>\n",
       "      <td>...</td>\n",
       "      <td>6.00</td>\n",
       "      <td>NaN</td>\n",
       "      <td>Тихвин</td>\n",
       "      <td>NaN</td>\n",
       "      <td>NaN</td>\n",
       "      <td>NaN</td>\n",
       "      <td>NaN</td>\n",
       "      <td>NaN</td>\n",
       "      <td>NaN</td>\n",
       "      <td>413.00</td>\n",
       "    </tr>\n",
       "    <tr>\n",
       "      <th>23694</th>\n",
       "      <td>9</td>\n",
       "      <td>9,700,000.00</td>\n",
       "      <td>133.81</td>\n",
       "      <td>2017-03-21</td>\n",
       "      <td>3</td>\n",
       "      <td>3.70</td>\n",
       "      <td>5.00</td>\n",
       "      <td>73.30</td>\n",
       "      <td>3</td>\n",
       "      <td>False</td>\n",
       "      <td>...</td>\n",
       "      <td>13.83</td>\n",
       "      <td>NaN</td>\n",
       "      <td>Санкт-Петербург</td>\n",
       "      <td>24,665.00</td>\n",
       "      <td>4,232.00</td>\n",
       "      <td>1.00</td>\n",
       "      <td>796.00</td>\n",
       "      <td>3.00</td>\n",
       "      <td>381.00</td>\n",
       "      <td>NaN</td>\n",
       "    </tr>\n",
       "    <tr>\n",
       "      <th>23695</th>\n",
       "      <td>14</td>\n",
       "      <td>3,100,000.00</td>\n",
       "      <td>59.00</td>\n",
       "      <td>2018-01-15</td>\n",
       "      <td>3</td>\n",
       "      <td>2.65</td>\n",
       "      <td>5.00</td>\n",
       "      <td>38.00</td>\n",
       "      <td>4</td>\n",
       "      <td>False</td>\n",
       "      <td>...</td>\n",
       "      <td>8.50</td>\n",
       "      <td>NaN</td>\n",
       "      <td>Тосно</td>\n",
       "      <td>NaN</td>\n",
       "      <td>NaN</td>\n",
       "      <td>NaN</td>\n",
       "      <td>NaN</td>\n",
       "      <td>NaN</td>\n",
       "      <td>NaN</td>\n",
       "      <td>45.00</td>\n",
       "    </tr>\n",
       "    <tr>\n",
       "      <th>23696</th>\n",
       "      <td>18</td>\n",
       "      <td>2,500,000.00</td>\n",
       "      <td>56.70</td>\n",
       "      <td>2018-02-11</td>\n",
       "      <td>2</td>\n",
       "      <td>2.65</td>\n",
       "      <td>3.00</td>\n",
       "      <td>29.70</td>\n",
       "      <td>1</td>\n",
       "      <td>False</td>\n",
       "      <td>...</td>\n",
       "      <td>NaN</td>\n",
       "      <td>NaN</td>\n",
       "      <td>село Рождествено</td>\n",
       "      <td>NaN</td>\n",
       "      <td>NaN</td>\n",
       "      <td>NaN</td>\n",
       "      <td>NaN</td>\n",
       "      <td>NaN</td>\n",
       "      <td>NaN</td>\n",
       "      <td>NaN</td>\n",
       "    </tr>\n",
       "    <tr>\n",
       "      <th>23698</th>\n",
       "      <td>4</td>\n",
       "      <td>1,350,000.00</td>\n",
       "      <td>32.30</td>\n",
       "      <td>2017-07-21</td>\n",
       "      <td>1</td>\n",
       "      <td>2.50</td>\n",
       "      <td>5.00</td>\n",
       "      <td>12.30</td>\n",
       "      <td>1</td>\n",
       "      <td>False</td>\n",
       "      <td>...</td>\n",
       "      <td>9.00</td>\n",
       "      <td>NaN</td>\n",
       "      <td>поселок Новый Учхоз</td>\n",
       "      <td>NaN</td>\n",
       "      <td>NaN</td>\n",
       "      <td>NaN</td>\n",
       "      <td>NaN</td>\n",
       "      <td>NaN</td>\n",
       "      <td>NaN</td>\n",
       "      <td>NaN</td>\n",
       "    </tr>\n",
       "  </tbody>\n",
       "</table>\n",
       "<p>11519 rows × 22 columns</p>\n",
       "</div>"
      ],
      "text/plain": [
       "       total_images    last_price  total_area first_day_exposition  rooms  \\\n",
       "0                20 13,000,000.00      108.00           2019-03-07      3   \n",
       "4                 2 10,000,000.00      100.00           2018-06-19      2   \n",
       "5                10  2,890,000.00       30.40           2018-09-10      1   \n",
       "8                20  2,900,000.00       33.16           2018-05-23      1   \n",
       "10                5  5,050,000.00       39.60           2017-11-16      1   \n",
       "...             ...           ...         ...                  ...    ...   \n",
       "23692             2  1,350,000.00       30.00           2017-07-07      1   \n",
       "23694             9  9,700,000.00      133.81           2017-03-21      3   \n",
       "23695            14  3,100,000.00       59.00           2018-01-15      3   \n",
       "23696            18  2,500,000.00       56.70           2018-02-11      2   \n",
       "23698             4  1,350,000.00       32.30           2017-07-21      1   \n",
       "\n",
       "       ceiling_height  floors_total  living_area  floor  is_apartment  ...  \\\n",
       "0                2.70         16.00        51.00      8         False  ...   \n",
       "4                3.03         14.00        32.00     13         False  ...   \n",
       "5                2.65         12.00        14.40      5         False  ...   \n",
       "8                2.65         27.00        15.43     26         False  ...   \n",
       "10               2.67         12.00        20.30      3         False  ...   \n",
       "...               ...           ...          ...    ...           ...  ...   \n",
       "23692            2.65          5.00        17.50      4         False  ...   \n",
       "23694            3.70          5.00        73.30      3         False  ...   \n",
       "23695            2.65          5.00        38.00      4         False  ...   \n",
       "23696            2.65          3.00        29.70      1         False  ...   \n",
       "23698            2.50          5.00        12.30      1         False  ...   \n",
       "\n",
       "       kitchen_area  balcony              locality_name  airports_nearest  \\\n",
       "0             25.00      NaN            Санкт-Петербург         18,863.00   \n",
       "4             41.00      NaN            Санкт-Петербург         31,856.00   \n",
       "5              9.10      NaN  городской посёлок Янино-1               NaN   \n",
       "8              8.81      NaN             посёлок Мурино               NaN   \n",
       "10             8.50      NaN            Санкт-Петербург         38,357.00   \n",
       "...             ...      ...                        ...               ...   \n",
       "23692          6.00      NaN                     Тихвин               NaN   \n",
       "23694         13.83      NaN            Санкт-Петербург         24,665.00   \n",
       "23695          8.50      NaN                      Тосно               NaN   \n",
       "23696           NaN      NaN           село Рождествено               NaN   \n",
       "23698          9.00      NaN        поселок Новый Учхоз               NaN   \n",
       "\n",
       "      cityCenters_nearest  parks_around3000  parks_nearest  ponds_around3000  \\\n",
       "0               16,028.00              1.00         482.00              2.00   \n",
       "4                8,098.00              2.00         112.00              1.00   \n",
       "5                     NaN               NaN            NaN               NaN   \n",
       "8                     NaN               NaN            NaN               NaN   \n",
       "10              13,878.00              1.00         310.00              2.00   \n",
       "...                   ...               ...            ...               ...   \n",
       "23692                 NaN               NaN            NaN               NaN   \n",
       "23694            4,232.00              1.00         796.00              3.00   \n",
       "23695                 NaN               NaN            NaN               NaN   \n",
       "23696                 NaN               NaN            NaN               NaN   \n",
       "23698                 NaN               NaN            NaN               NaN   \n",
       "\n",
       "       ponds_nearest  days_exposition  \n",
       "0             755.00              NaN  \n",
       "4              48.00           121.00  \n",
       "5                NaN            55.00  \n",
       "8                NaN           189.00  \n",
       "10            553.00           137.00  \n",
       "...              ...              ...  \n",
       "23692            NaN           413.00  \n",
       "23694         381.00              NaN  \n",
       "23695            NaN            45.00  \n",
       "23696            NaN              NaN  \n",
       "23698            NaN              NaN  \n",
       "\n",
       "[11519 rows x 22 columns]"
      ]
     },
     "execution_count": 19,
     "metadata": {},
     "output_type": "execute_result"
    }
   ],
   "source": [
    "data[data['balcony'].isna()]"
   ]
  },
  {
   "cell_type": "markdown",
   "metadata": {},
   "source": [
    "Заменим пропуски на 0 и изменим тип данных"
   ]
  },
  {
   "cell_type": "code",
   "execution_count": 20,
   "metadata": {},
   "outputs": [],
   "source": [
    "data['balcony'] = data['balcony'].fillna(0)\n",
    "data['balcony'] = data['balcony'].astype('int')"
   ]
  },
  {
   "cell_type": "markdown",
   "metadata": {},
   "source": [
    "locality_name - имеются пустые значения"
   ]
  },
  {
   "cell_type": "code",
   "execution_count": 21,
   "metadata": {
    "scrolled": true
   },
   "outputs": [
    {
     "data": {
      "text/plain": [
       "0.002067597788936242"
      ]
     },
     "execution_count": 21,
     "metadata": {},
     "output_type": "execute_result"
    }
   ],
   "source": [
    "data['locality_name'].isna().sum() / len(data['locality_name'])"
   ]
  },
  {
   "cell_type": "markdown",
   "metadata": {},
   "source": [
    "не будем трогать эти пропуски, так как их незначительное количество"
   ]
  },
  {
   "cell_type": "markdown",
   "metadata": {},
   "source": [
    "Эти столбцы не понадобятся нам для исследования, поэтому не будем их трогать<br/>\n",
    "airports_nearest  <br/>\n",
    "parks_around3000  <br/>\n",
    "parks_nearest <br/>\n",
    "ponds_around3000 <br/>\n",
    "ponds_nearest <br/>"
   ]
  },
  {
   "cell_type": "markdown",
   "metadata": {},
   "source": [
    "days_exposition - имеются пустые значения"
   ]
  },
  {
   "cell_type": "code",
   "execution_count": 22,
   "metadata": {
    "scrolled": true
   },
   "outputs": [
    {
     "data": {
      "text/plain": [
       "0.13422507278788134"
      ]
     },
     "execution_count": 22,
     "metadata": {},
     "output_type": "execute_result"
    }
   ],
   "source": [
    "data['days_exposition'].isna().sum() / len(data['locality_name'])"
   ]
  },
  {
   "cell_type": "code",
   "execution_count": 23,
   "metadata": {},
   "outputs": [
    {
     "data": {
      "text/html": [
       "<div>\n",
       "<style scoped>\n",
       "    .dataframe tbody tr th:only-of-type {\n",
       "        vertical-align: middle;\n",
       "    }\n",
       "\n",
       "    .dataframe tbody tr th {\n",
       "        vertical-align: top;\n",
       "    }\n",
       "\n",
       "    .dataframe thead th {\n",
       "        text-align: right;\n",
       "    }\n",
       "</style>\n",
       "<table border=\"1\" class=\"dataframe\">\n",
       "  <thead>\n",
       "    <tr style=\"text-align: right;\">\n",
       "      <th></th>\n",
       "      <th>total_images</th>\n",
       "      <th>last_price</th>\n",
       "      <th>total_area</th>\n",
       "      <th>first_day_exposition</th>\n",
       "      <th>rooms</th>\n",
       "      <th>ceiling_height</th>\n",
       "      <th>floors_total</th>\n",
       "      <th>living_area</th>\n",
       "      <th>floor</th>\n",
       "      <th>is_apartment</th>\n",
       "      <th>...</th>\n",
       "      <th>kitchen_area</th>\n",
       "      <th>balcony</th>\n",
       "      <th>locality_name</th>\n",
       "      <th>airports_nearest</th>\n",
       "      <th>cityCenters_nearest</th>\n",
       "      <th>parks_around3000</th>\n",
       "      <th>parks_nearest</th>\n",
       "      <th>ponds_around3000</th>\n",
       "      <th>ponds_nearest</th>\n",
       "      <th>days_exposition</th>\n",
       "    </tr>\n",
       "  </thead>\n",
       "  <tbody>\n",
       "    <tr>\n",
       "      <th>0</th>\n",
       "      <td>20</td>\n",
       "      <td>13,000,000.00</td>\n",
       "      <td>108.00</td>\n",
       "      <td>2019-03-07</td>\n",
       "      <td>3</td>\n",
       "      <td>2.70</td>\n",
       "      <td>16.00</td>\n",
       "      <td>51.00</td>\n",
       "      <td>8</td>\n",
       "      <td>False</td>\n",
       "      <td>...</td>\n",
       "      <td>25.00</td>\n",
       "      <td>0</td>\n",
       "      <td>Санкт-Петербург</td>\n",
       "      <td>18,863.00</td>\n",
       "      <td>16,028.00</td>\n",
       "      <td>1.00</td>\n",
       "      <td>482.00</td>\n",
       "      <td>2.00</td>\n",
       "      <td>755.00</td>\n",
       "      <td>NaN</td>\n",
       "    </tr>\n",
       "    <tr>\n",
       "      <th>7</th>\n",
       "      <td>5</td>\n",
       "      <td>7,915,000.00</td>\n",
       "      <td>71.60</td>\n",
       "      <td>2019-04-18</td>\n",
       "      <td>2</td>\n",
       "      <td>2.65</td>\n",
       "      <td>24.00</td>\n",
       "      <td>NaN</td>\n",
       "      <td>22</td>\n",
       "      <td>False</td>\n",
       "      <td>...</td>\n",
       "      <td>18.90</td>\n",
       "      <td>2</td>\n",
       "      <td>Санкт-Петербург</td>\n",
       "      <td>23,982.00</td>\n",
       "      <td>11,634.00</td>\n",
       "      <td>0.00</td>\n",
       "      <td>NaN</td>\n",
       "      <td>0.00</td>\n",
       "      <td>NaN</td>\n",
       "      <td>NaN</td>\n",
       "    </tr>\n",
       "    <tr>\n",
       "      <th>44</th>\n",
       "      <td>13</td>\n",
       "      <td>5,350,000.00</td>\n",
       "      <td>40.00</td>\n",
       "      <td>2018-11-18</td>\n",
       "      <td>1</td>\n",
       "      <td>2.65</td>\n",
       "      <td>22.00</td>\n",
       "      <td>NaN</td>\n",
       "      <td>3</td>\n",
       "      <td>False</td>\n",
       "      <td>...</td>\n",
       "      <td>NaN</td>\n",
       "      <td>1</td>\n",
       "      <td>Санкт-Петербург</td>\n",
       "      <td>30,471.00</td>\n",
       "      <td>11,603.00</td>\n",
       "      <td>1.00</td>\n",
       "      <td>620.00</td>\n",
       "      <td>1.00</td>\n",
       "      <td>1,152.00</td>\n",
       "      <td>NaN</td>\n",
       "    </tr>\n",
       "    <tr>\n",
       "      <th>45</th>\n",
       "      <td>17</td>\n",
       "      <td>5,200,000.00</td>\n",
       "      <td>50.60</td>\n",
       "      <td>2018-12-02</td>\n",
       "      <td>2</td>\n",
       "      <td>2.65</td>\n",
       "      <td>9.00</td>\n",
       "      <td>30.30</td>\n",
       "      <td>7</td>\n",
       "      <td>False</td>\n",
       "      <td>...</td>\n",
       "      <td>7.00</td>\n",
       "      <td>0</td>\n",
       "      <td>Санкт-Петербург</td>\n",
       "      <td>30,011.00</td>\n",
       "      <td>12,872.00</td>\n",
       "      <td>0.00</td>\n",
       "      <td>NaN</td>\n",
       "      <td>0.00</td>\n",
       "      <td>NaN</td>\n",
       "      <td>NaN</td>\n",
       "    </tr>\n",
       "    <tr>\n",
       "      <th>46</th>\n",
       "      <td>17</td>\n",
       "      <td>6,600,000.00</td>\n",
       "      <td>52.10</td>\n",
       "      <td>2019-01-31</td>\n",
       "      <td>2</td>\n",
       "      <td>2.60</td>\n",
       "      <td>24.00</td>\n",
       "      <td>29.70</td>\n",
       "      <td>9</td>\n",
       "      <td>False</td>\n",
       "      <td>...</td>\n",
       "      <td>8.30</td>\n",
       "      <td>2</td>\n",
       "      <td>Санкт-Петербург</td>\n",
       "      <td>15,114.00</td>\n",
       "      <td>12,702.00</td>\n",
       "      <td>0.00</td>\n",
       "      <td>NaN</td>\n",
       "      <td>0.00</td>\n",
       "      <td>NaN</td>\n",
       "      <td>NaN</td>\n",
       "    </tr>\n",
       "    <tr>\n",
       "      <th>...</th>\n",
       "      <td>...</td>\n",
       "      <td>...</td>\n",
       "      <td>...</td>\n",
       "      <td>...</td>\n",
       "      <td>...</td>\n",
       "      <td>...</td>\n",
       "      <td>...</td>\n",
       "      <td>...</td>\n",
       "      <td>...</td>\n",
       "      <td>...</td>\n",
       "      <td>...</td>\n",
       "      <td>...</td>\n",
       "      <td>...</td>\n",
       "      <td>...</td>\n",
       "      <td>...</td>\n",
       "      <td>...</td>\n",
       "      <td>...</td>\n",
       "      <td>...</td>\n",
       "      <td>...</td>\n",
       "      <td>...</td>\n",
       "      <td>...</td>\n",
       "    </tr>\n",
       "    <tr>\n",
       "      <th>23684</th>\n",
       "      <td>20</td>\n",
       "      <td>21,400,000.00</td>\n",
       "      <td>145.00</td>\n",
       "      <td>2018-11-02</td>\n",
       "      <td>4</td>\n",
       "      <td>3.00</td>\n",
       "      <td>26.00</td>\n",
       "      <td>71.40</td>\n",
       "      <td>17</td>\n",
       "      <td>False</td>\n",
       "      <td>...</td>\n",
       "      <td>15.60</td>\n",
       "      <td>0</td>\n",
       "      <td>Санкт-Петербург</td>\n",
       "      <td>11,827.00</td>\n",
       "      <td>11,459.00</td>\n",
       "      <td>0.00</td>\n",
       "      <td>NaN</td>\n",
       "      <td>0.00</td>\n",
       "      <td>NaN</td>\n",
       "      <td>NaN</td>\n",
       "    </tr>\n",
       "    <tr>\n",
       "      <th>23685</th>\n",
       "      <td>15</td>\n",
       "      <td>2,490,000.00</td>\n",
       "      <td>31.00</td>\n",
       "      <td>2019-01-24</td>\n",
       "      <td>1</td>\n",
       "      <td>2.50</td>\n",
       "      <td>5.00</td>\n",
       "      <td>17.30</td>\n",
       "      <td>5</td>\n",
       "      <td>False</td>\n",
       "      <td>...</td>\n",
       "      <td>5.60</td>\n",
       "      <td>1</td>\n",
       "      <td>Ломоносов</td>\n",
       "      <td>48,393.00</td>\n",
       "      <td>51,818.00</td>\n",
       "      <td>0.00</td>\n",
       "      <td>NaN</td>\n",
       "      <td>0.00</td>\n",
       "      <td>NaN</td>\n",
       "      <td>NaN</td>\n",
       "    </tr>\n",
       "    <tr>\n",
       "      <th>23694</th>\n",
       "      <td>9</td>\n",
       "      <td>9,700,000.00</td>\n",
       "      <td>133.81</td>\n",
       "      <td>2017-03-21</td>\n",
       "      <td>3</td>\n",
       "      <td>3.70</td>\n",
       "      <td>5.00</td>\n",
       "      <td>73.30</td>\n",
       "      <td>3</td>\n",
       "      <td>False</td>\n",
       "      <td>...</td>\n",
       "      <td>13.83</td>\n",
       "      <td>0</td>\n",
       "      <td>Санкт-Петербург</td>\n",
       "      <td>24,665.00</td>\n",
       "      <td>4,232.00</td>\n",
       "      <td>1.00</td>\n",
       "      <td>796.00</td>\n",
       "      <td>3.00</td>\n",
       "      <td>381.00</td>\n",
       "      <td>NaN</td>\n",
       "    </tr>\n",
       "    <tr>\n",
       "      <th>23696</th>\n",
       "      <td>18</td>\n",
       "      <td>2,500,000.00</td>\n",
       "      <td>56.70</td>\n",
       "      <td>2018-02-11</td>\n",
       "      <td>2</td>\n",
       "      <td>2.65</td>\n",
       "      <td>3.00</td>\n",
       "      <td>29.70</td>\n",
       "      <td>1</td>\n",
       "      <td>False</td>\n",
       "      <td>...</td>\n",
       "      <td>NaN</td>\n",
       "      <td>0</td>\n",
       "      <td>село Рождествено</td>\n",
       "      <td>NaN</td>\n",
       "      <td>NaN</td>\n",
       "      <td>NaN</td>\n",
       "      <td>NaN</td>\n",
       "      <td>NaN</td>\n",
       "      <td>NaN</td>\n",
       "      <td>NaN</td>\n",
       "    </tr>\n",
       "    <tr>\n",
       "      <th>23698</th>\n",
       "      <td>4</td>\n",
       "      <td>1,350,000.00</td>\n",
       "      <td>32.30</td>\n",
       "      <td>2017-07-21</td>\n",
       "      <td>1</td>\n",
       "      <td>2.50</td>\n",
       "      <td>5.00</td>\n",
       "      <td>12.30</td>\n",
       "      <td>1</td>\n",
       "      <td>False</td>\n",
       "      <td>...</td>\n",
       "      <td>9.00</td>\n",
       "      <td>0</td>\n",
       "      <td>поселок Новый Учхоз</td>\n",
       "      <td>NaN</td>\n",
       "      <td>NaN</td>\n",
       "      <td>NaN</td>\n",
       "      <td>NaN</td>\n",
       "      <td>NaN</td>\n",
       "      <td>NaN</td>\n",
       "      <td>NaN</td>\n",
       "    </tr>\n",
       "  </tbody>\n",
       "</table>\n",
       "<p>3181 rows × 22 columns</p>\n",
       "</div>"
      ],
      "text/plain": [
       "       total_images    last_price  total_area first_day_exposition  rooms  \\\n",
       "0                20 13,000,000.00      108.00           2019-03-07      3   \n",
       "7                 5  7,915,000.00       71.60           2019-04-18      2   \n",
       "44               13  5,350,000.00       40.00           2018-11-18      1   \n",
       "45               17  5,200,000.00       50.60           2018-12-02      2   \n",
       "46               17  6,600,000.00       52.10           2019-01-31      2   \n",
       "...             ...           ...         ...                  ...    ...   \n",
       "23684            20 21,400,000.00      145.00           2018-11-02      4   \n",
       "23685            15  2,490,000.00       31.00           2019-01-24      1   \n",
       "23694             9  9,700,000.00      133.81           2017-03-21      3   \n",
       "23696            18  2,500,000.00       56.70           2018-02-11      2   \n",
       "23698             4  1,350,000.00       32.30           2017-07-21      1   \n",
       "\n",
       "       ceiling_height  floors_total  living_area  floor  is_apartment  ...  \\\n",
       "0                2.70         16.00        51.00      8         False  ...   \n",
       "7                2.65         24.00          NaN     22         False  ...   \n",
       "44               2.65         22.00          NaN      3         False  ...   \n",
       "45               2.65          9.00        30.30      7         False  ...   \n",
       "46               2.60         24.00        29.70      9         False  ...   \n",
       "...               ...           ...          ...    ...           ...  ...   \n",
       "23684            3.00         26.00        71.40     17         False  ...   \n",
       "23685            2.50          5.00        17.30      5         False  ...   \n",
       "23694            3.70          5.00        73.30      3         False  ...   \n",
       "23696            2.65          3.00        29.70      1         False  ...   \n",
       "23698            2.50          5.00        12.30      1         False  ...   \n",
       "\n",
       "       kitchen_area  balcony        locality_name  airports_nearest  \\\n",
       "0             25.00        0      Санкт-Петербург         18,863.00   \n",
       "7             18.90        2      Санкт-Петербург         23,982.00   \n",
       "44              NaN        1      Санкт-Петербург         30,471.00   \n",
       "45             7.00        0      Санкт-Петербург         30,011.00   \n",
       "46             8.30        2      Санкт-Петербург         15,114.00   \n",
       "...             ...      ...                  ...               ...   \n",
       "23684         15.60        0      Санкт-Петербург         11,827.00   \n",
       "23685          5.60        1            Ломоносов         48,393.00   \n",
       "23694         13.83        0      Санкт-Петербург         24,665.00   \n",
       "23696           NaN        0     село Рождествено               NaN   \n",
       "23698          9.00        0  поселок Новый Учхоз               NaN   \n",
       "\n",
       "      cityCenters_nearest  parks_around3000  parks_nearest  ponds_around3000  \\\n",
       "0               16,028.00              1.00         482.00              2.00   \n",
       "7               11,634.00              0.00            NaN              0.00   \n",
       "44              11,603.00              1.00         620.00              1.00   \n",
       "45              12,872.00              0.00            NaN              0.00   \n",
       "46              12,702.00              0.00            NaN              0.00   \n",
       "...                   ...               ...            ...               ...   \n",
       "23684           11,459.00              0.00            NaN              0.00   \n",
       "23685           51,818.00              0.00            NaN              0.00   \n",
       "23694            4,232.00              1.00         796.00              3.00   \n",
       "23696                 NaN               NaN            NaN               NaN   \n",
       "23698                 NaN               NaN            NaN               NaN   \n",
       "\n",
       "       ponds_nearest  days_exposition  \n",
       "0             755.00              NaN  \n",
       "7                NaN              NaN  \n",
       "44          1,152.00              NaN  \n",
       "45               NaN              NaN  \n",
       "46               NaN              NaN  \n",
       "...              ...              ...  \n",
       "23684            NaN              NaN  \n",
       "23685            NaN              NaN  \n",
       "23694         381.00              NaN  \n",
       "23696            NaN              NaN  \n",
       "23698            NaN              NaN  \n",
       "\n",
       "[3181 rows x 22 columns]"
      ]
     },
     "execution_count": 23,
     "metadata": {},
     "output_type": "execute_result"
    }
   ],
   "source": [
    "data[data['days_exposition'].isna()]"
   ]
  },
  {
   "cell_type": "markdown",
   "metadata": {},
   "source": [
    "имеются пропуски в 13 процентах данных, невозможно восстановить данные, поэтому оставляем пропуски как есть"
   ]
  },
  {
   "cell_type": "code",
   "execution_count": 24,
   "metadata": {
    "scrolled": false
   },
   "outputs": [
    {
     "name": "stdout",
     "output_type": "stream",
     "text": [
      "<class 'pandas.core.frame.DataFrame'>\n",
      "RangeIndex: 23699 entries, 0 to 23698\n",
      "Data columns (total 22 columns):\n",
      " #   Column                Non-Null Count  Dtype         \n",
      "---  ------                --------------  -----         \n",
      " 0   total_images          23699 non-null  int64         \n",
      " 1   last_price            23699 non-null  float64       \n",
      " 2   total_area            23699 non-null  float64       \n",
      " 3   first_day_exposition  23699 non-null  datetime64[ns]\n",
      " 4   rooms                 23699 non-null  int64         \n",
      " 5   ceiling_height        23699 non-null  float64       \n",
      " 6   floors_total          23613 non-null  float64       \n",
      " 7   living_area           21796 non-null  float64       \n",
      " 8   floor                 23699 non-null  int64         \n",
      " 9   is_apartment          23699 non-null  bool          \n",
      " 10  studio                23699 non-null  bool          \n",
      " 11  open_plan             23699 non-null  bool          \n",
      " 12  kitchen_area          21421 non-null  float64       \n",
      " 13  balcony               23699 non-null  int64         \n",
      " 14  locality_name         23650 non-null  object        \n",
      " 15  airports_nearest      18157 non-null  float64       \n",
      " 16  cityCenters_nearest   18180 non-null  float64       \n",
      " 17  parks_around3000      18181 non-null  float64       \n",
      " 18  parks_nearest         8079 non-null   float64       \n",
      " 19  ponds_around3000      18181 non-null  float64       \n",
      " 20  ponds_nearest         9110 non-null   float64       \n",
      " 21  days_exposition       20518 non-null  float64       \n",
      "dtypes: bool(3), datetime64[ns](1), float64(13), int64(4), object(1)\n",
      "memory usage: 3.5+ MB\n"
     ]
    }
   ],
   "source": [
    "data.info()"
   ]
  },
  {
   "cell_type": "markdown",
   "metadata": {},
   "source": [
    "## Расчёты и добавление результатов в таблицу"
   ]
  },
  {
   "cell_type": "markdown",
   "metadata": {},
   "source": [
    "добавим цену квадратного метра:"
   ]
  },
  {
   "cell_type": "code",
   "execution_count": 25,
   "metadata": {},
   "outputs": [],
   "source": [
    "data['price_square_meter'] = data['last_price'] / data['total_area']"
   ]
  },
  {
   "cell_type": "code",
   "execution_count": 26,
   "metadata": {},
   "outputs": [],
   "source": [
    "data['price_square_meter'] = data['price_square_meter'].astype('int')"
   ]
  },
  {
   "cell_type": "markdown",
   "metadata": {},
   "source": [
    "добавим столбец дня недели:"
   ]
  },
  {
   "cell_type": "code",
   "execution_count": 27,
   "metadata": {},
   "outputs": [],
   "source": [
    "data['weekday_exposition'] = data['first_day_exposition'].dt.weekday"
   ]
  },
  {
   "cell_type": "markdown",
   "metadata": {},
   "source": [
    "добавим столбец месяца:"
   ]
  },
  {
   "cell_type": "code",
   "execution_count": 28,
   "metadata": {},
   "outputs": [],
   "source": [
    "data['month_exposition'] = data['first_day_exposition'].dt.month"
   ]
  },
  {
   "cell_type": "markdown",
   "metadata": {},
   "source": [
    "добавим столбец года:"
   ]
  },
  {
   "cell_type": "code",
   "execution_count": 29,
   "metadata": {},
   "outputs": [],
   "source": [
    "data['year_exposition'] = data['first_day_exposition'].dt.year"
   ]
  },
  {
   "cell_type": "markdown",
   "metadata": {},
   "source": [
    "функция категоризации по этажам:"
   ]
  },
  {
   "cell_type": "code",
   "execution_count": 30,
   "metadata": {},
   "outputs": [],
   "source": [
    "def floor_category(row):\n",
    "    floors_total = row['floors_total']\n",
    "    floor = row['floor']\n",
    "    if floor == 1:\n",
    "        return 'первый'\n",
    "    elif floor == floors_total:\n",
    "        return 'последний'\n",
    "    elif 1 < floor < floors_total:\n",
    "        return 'другой'"
   ]
  },
  {
   "cell_type": "markdown",
   "metadata": {},
   "source": [
    "добавим столбец категорий по этажам"
   ]
  },
  {
   "cell_type": "code",
   "execution_count": 31,
   "metadata": {},
   "outputs": [],
   "source": [
    "data['floor_category'] = data.apply(floor_category, axis = 1)"
   ]
  },
  {
   "cell_type": "markdown",
   "metadata": {},
   "source": [
    "добавим столбец соотношения жилой площади к общей"
   ]
  },
  {
   "cell_type": "code",
   "execution_count": 32,
   "metadata": {},
   "outputs": [],
   "source": [
    "data['living_area_ratio'] = data['living_area'] / data['total_area']"
   ]
  },
  {
   "cell_type": "markdown",
   "metadata": {},
   "source": [
    "добавим столбец отношения площади кухни к общей"
   ]
  },
  {
   "cell_type": "code",
   "execution_count": 33,
   "metadata": {},
   "outputs": [],
   "source": [
    "data['kitchen_area_ratio'] = data['kitchen_area'] / data['total_area']"
   ]
  },
  {
   "cell_type": "markdown",
   "metadata": {},
   "source": [
    "## Исследовательский анализ данных"
   ]
  },
  {
   "cell_type": "markdown",
   "metadata": {},
   "source": [
    "Изучим следующие параметры: площадь, цена, число комнат, высота потолков и построим гистограммы для каждого параметра."
   ]
  },
  {
   "cell_type": "markdown",
   "metadata": {},
   "source": [
    "изучим общую площадь"
   ]
  },
  {
   "cell_type": "markdown",
   "metadata": {},
   "source": [
    "Большая часть квартир имеет площадь 30 кв.м. до 80 кв.м. Пик приходится на 45 кв.м. Квартир площадью более 100 кв.м. незначительное количество."
   ]
  },
  {
   "cell_type": "code",
   "execution_count": 34,
   "metadata": {},
   "outputs": [
    {
     "data": {
      "text/plain": [
       "count   23,699.00\n",
       "mean        60.35\n",
       "std         35.65\n",
       "min         12.00\n",
       "25%         40.00\n",
       "50%         52.00\n",
       "75%         69.90\n",
       "max        900.00\n",
       "Name: total_area, dtype: float64"
      ]
     },
     "execution_count": 34,
     "metadata": {},
     "output_type": "execute_result"
    },
    {
     "data": {
      "image/png": "[encoded data removed]",
      "text/plain": [
       "<Figure size 1080x360 with 1 Axes>"
      ]
     },
     "metadata": {
      "needs_background": "light"
     },
     "output_type": "display_data"
    }
   ],
   "source": [
    "data.plot(y = 'total_area', kind = 'hist', bins = 60, grid=True, figsize = (15,5), range = (0,300))\n",
    "data['total_area'].describe()"
   ]
  },
  {
   "cell_type": "code",
   "execution_count": 35,
   "metadata": {
    "scrolled": false
   },
   "outputs": [
    {
     "data": {
      "image/png": "[encoded data removed]",
      "text/plain": [
       "<Figure size 1080x360 with 1 Axes>"
      ]
     },
     "metadata": {
      "needs_background": "light"
     },
     "output_type": "display_data"
    }
   ],
   "source": [
    "data.plot(y = 'total_area', kind = 'hist', bins = 60, grid=True, figsize = (15,5), range = (30,80));"
   ]
  },
  {
   "cell_type": "markdown",
   "metadata": {},
   "source": [
    "изучим цену"
   ]
  },
  {
   "cell_type": "code",
   "execution_count": 36,
   "metadata": {
    "scrolled": false
   },
   "outputs": [
    {
     "data": {
      "text/plain": [
       "count        23,699.00\n",
       "mean      6,541,548.77\n",
       "std      10,887,013.27\n",
       "min          12,190.00\n",
       "25%       3,400,000.00\n",
       "50%       4,650,000.00\n",
       "75%       6,800,000.00\n",
       "max     763,000,000.00\n",
       "Name: last_price, dtype: float64"
      ]
     },
     "execution_count": 36,
     "metadata": {},
     "output_type": "execute_result"
    },
    {
     "data": {
      "image/png": "[encoded data removed]",
      "text/plain": [
       "<Figure size 1080x360 with 1 Axes>"
      ]
     },
     "metadata": {
      "needs_background": "light"
     },
     "output_type": "display_data"
    }
   ],
   "source": [
    "data.plot(y = 'last_price', kind = 'hist', bins = 60, grid=True, range = (0,20000000), figsize = (15,5))\n",
    "data['last_price'].describe()"
   ]
  },
  {
   "cell_type": "code",
   "execution_count": 37,
   "metadata": {},
   "outputs": [
    {
     "data": {
      "image/png": "[encoded data removed]",
      "text/plain": [
       "<Figure size 1080x360 with 1 Axes>"
      ]
     },
     "metadata": {
      "needs_background": "light"
     },
     "output_type": "display_data"
    }
   ],
   "source": [
    "data.plot(y = 'last_price', kind = 'hist', bins = 60, grid=True, range = (3000000,6000000), figsize = (15,5));"
   ]
  },
  {
   "cell_type": "markdown",
   "metadata": {},
   "source": [
    "Основная часть квартир имеет цену от 3 до 6 млн."
   ]
  },
  {
   "cell_type": "markdown",
   "metadata": {},
   "source": [
    "изучим число комнат"
   ]
  },
  {
   "cell_type": "code",
   "execution_count": 38,
   "metadata": {},
   "outputs": [
    {
     "data": {
      "text/plain": [
       "count   23,699.00\n",
       "mean         2.07\n",
       "std          1.08\n",
       "min          0.00\n",
       "25%          1.00\n",
       "50%          2.00\n",
       "75%          3.00\n",
       "max         19.00\n",
       "Name: rooms, dtype: float64"
      ]
     },
     "execution_count": 38,
     "metadata": {},
     "output_type": "execute_result"
    },
    {
     "data": {
      "image/png": "[encoded data removed]",
      "text/plain": [
       "<Figure size 1080x360 with 1 Axes>"
      ]
     },
     "metadata": {
      "needs_background": "light"
     },
     "output_type": "display_data"
    }
   ],
   "source": [
    "data.plot(y = 'rooms', kind = 'hist', bins = 60, grid=True, range = (0,10), figsize = (15,5))\n",
    "data['rooms'].describe()"
   ]
  },
  {
   "cell_type": "markdown",
   "metadata": {},
   "source": [
    "большинство квартир имеет 1 или 2 комнаты, чуть меньше 3 комнатных квартир, реже встречаются 4 комнатные, остальные случаи единичные"
   ]
  },
  {
   "cell_type": "markdown",
   "metadata": {},
   "source": [
    "изучим высоту потолков"
   ]
  },
  {
   "cell_type": "code",
   "execution_count": 39,
   "metadata": {
    "scrolled": false
   },
   "outputs": [
    {
     "data": {
      "text/plain": [
       "count   23,699.00\n",
       "mean         2.72\n",
       "std          0.99\n",
       "min          1.00\n",
       "25%          2.60\n",
       "50%          2.65\n",
       "75%          2.70\n",
       "max        100.00\n",
       "Name: ceiling_height, dtype: float64"
      ]
     },
     "execution_count": 39,
     "metadata": {},
     "output_type": "execute_result"
    },
    {
     "data": {
      "image/png": "[encoded data removed]",
      "text/plain": [
       "<Figure size 1080x360 with 1 Axes>"
      ]
     },
     "metadata": {
      "needs_background": "light"
     },
     "output_type": "display_data"
    }
   ],
   "source": [
    "data.plot(y = 'ceiling_height', kind = 'hist', bins = 60, range = (2,4), grid=True, figsize = (15,5))\n",
    "data['ceiling_height'].describe()"
   ]
  },
  {
   "cell_type": "code",
   "execution_count": 40,
   "metadata": {
    "scrolled": true
   },
   "outputs": [
    {
     "data": {
      "image/png": "[encoded data removed]",
      "text/plain": [
       "<Figure size 1080x360 with 1 Axes>"
      ]
     },
     "metadata": {
      "needs_background": "light"
     },
     "output_type": "display_data"
    }
   ],
   "source": [
    "data.plot(y = 'ceiling_height', kind = 'hist', bins = 60, range = (2.5,2.75), grid=True, figsize = (15,5));"
   ]
  },
  {
   "cell_type": "markdown",
   "metadata": {},
   "source": [
    "квартиры в большинстве случаев имеют потолки от 2,5-2,75.Пик на 2,65 обусловлен заполнением пропущенных данных медианным значением"
   ]
  },
  {
   "cell_type": "markdown",
   "metadata": {},
   "source": [
    "Изучим время продажи квартиры. Построим гистограмму. "
   ]
  },
  {
   "cell_type": "code",
   "execution_count": 41,
   "metadata": {},
   "outputs": [
    {
     "data": {
      "text/plain": [
       "count   20,518.00\n",
       "mean       180.89\n",
       "std        219.73\n",
       "min          1.00\n",
       "25%         45.00\n",
       "50%         95.00\n",
       "75%        232.00\n",
       "max      1,580.00\n",
       "Name: days_exposition, dtype: float64"
      ]
     },
     "execution_count": 41,
     "metadata": {},
     "output_type": "execute_result"
    },
    {
     "data": {
      "image/png": "[encoded data removed]",
      "text/plain": [
       "<Figure size 1080x360 with 1 Axes>"
      ]
     },
     "metadata": {
      "needs_background": "light"
     },
     "output_type": "display_data"
    }
   ],
   "source": [
    "data.plot(y = 'days_exposition', kind = 'hist', bins = 60, grid = True, range = (1,1500), figsize = (15,5))\n",
    "data['days_exposition'].describe()"
   ]
  },
  {
   "cell_type": "code",
   "execution_count": 42,
   "metadata": {},
   "outputs": [
    {
     "data": {
      "image/png": "[encoded data removed]",
      "text/plain": [
       "<Figure size 1080x360 with 1 Axes>"
      ]
     },
     "metadata": {
      "needs_background": "light"
     },
     "output_type": "display_data"
    }
   ],
   "source": [
    "data.plot(y = 'days_exposition', kind = 'hist', bins = 60, grid = True, range = (1,200), figsize = (15,5));"
   ]
  },
  {
   "cell_type": "markdown",
   "metadata": {},
   "source": [
    "Основная часть квартир продается меньше чем за 100 дней, но есть объявления которые размещены в течение нескольких лет, возможно эти вартиры были проданы но объявления не сняты"
   ]
  },
  {
   "cell_type": "markdown",
   "metadata": {},
   "source": [
    "По представленным выше показателям наблюдаются следующие редкие и выбивающиеся: <br/>\n",
    "total_area - представелены квартиры с площадью 150 кв. м. и больше, возможно при вводе вручную, были допущены ошибки <br/>\n",
    "rooms - представлены квартиры с количеством комнат 0, для студии и свободной планировки пользователи могли указывать 0 комнат <br/>\n",
    "days_exposition - представлены квартиры с временем продажи несколько лет, возможно квартиры были проданы но не удалены из поиска <br/>"
   ]
  },
  {
   "cell_type": "code",
   "execution_count": 43,
   "metadata": {
    "scrolled": false
   },
   "outputs": [
    {
     "data": {
      "text/plain": [
       "564"
      ]
     },
     "execution_count": 43,
     "metadata": {},
     "output_type": "execute_result"
    }
   ],
   "source": [
    "data.query('total_area > 150')['total_area'].count()"
   ]
  },
  {
   "cell_type": "code",
   "execution_count": 44,
   "metadata": {},
   "outputs": [],
   "source": [
    "data = data.query('total_area < 150')"
   ]
  },
  {
   "cell_type": "code",
   "execution_count": 45,
   "metadata": {
    "scrolled": false
   },
   "outputs": [
    {
     "data": {
      "text/plain": [
       "712"
      ]
     },
     "execution_count": 45,
     "metadata": {},
     "output_type": "execute_result"
    }
   ],
   "source": [
    "data.query('days_exposition > 730')['days_exposition'].count()"
   ]
  },
  {
   "cell_type": "code",
   "execution_count": 46,
   "metadata": {},
   "outputs": [],
   "source": [
    "data = data.query('days_exposition <= 730')"
   ]
  },
  {
   "cell_type": "markdown",
   "metadata": {},
   "source": [
    "Оставим только кваритры проданные меньше чем за 2 года"
   ]
  },
  {
   "cell_type": "code",
   "execution_count": 47,
   "metadata": {},
   "outputs": [
    {
     "name": "stdout",
     "output_type": "stream",
     "text": [
      "179\n",
      "179\n"
     ]
    }
   ],
   "source": [
    "print(data.query('rooms == 0')['rooms'].count())\n",
    "print(data.query('rooms == 0').query('open_plan == True or studio == True')['rooms'].count())"
   ]
  },
  {
   "cell_type": "markdown",
   "metadata": {},
   "source": [
    "количество комнат 0 указано для вариантов студии или свободной планировки, эти строки удалять не будем"
   ]
  },
  {
   "cell_type": "code",
   "execution_count": 48,
   "metadata": {
    "scrolled": false
   },
   "outputs": [
    {
     "data": {
      "text/plain": [
       "2.00      8\n",
       "27.00     7\n",
       "25.00     5\n",
       "2.30      4\n",
       "8.00      3\n",
       "14.00     1\n",
       "2.25      1\n",
       "1.20      1\n",
       "5.80      1\n",
       "5.30      1\n",
       "8.30      1\n",
       "100.00    1\n",
       "22.60     1\n",
       "2.34      1\n",
       "10.30     1\n",
       "1.75      1\n",
       "2.20      1\n",
       "26.00     1\n",
       "27.50     1\n",
       "24.00     1\n",
       "1.00      1\n",
       "Name: ceiling_height, dtype: int64"
      ]
     },
     "execution_count": 48,
     "metadata": {},
     "output_type": "execute_result"
    }
   ],
   "source": [
    "data.query('ceiling_height < 2.4 or ceiling_height > 5')['ceiling_height'].value_counts()"
   ]
  },
  {
   "cell_type": "markdown",
   "metadata": {},
   "source": [
    "Встречаются двузначные значения высоты потолков, судя по всему были допущены ошибки при ручном вводе(неверно поставлена запятая).</b> \n",
    "приближенными к реальности можно считать потолки в пределах от 2,25 до 5 метров</b> \n",
    "заменим двузначные значения на правильные</b> \n",
    "остальные удалим"
   ]
  },
  {
   "cell_type": "code",
   "execution_count": 49,
   "metadata": {},
   "outputs": [],
   "source": [
    "data['ceiling_height'] = np.where((data['ceiling_height'] < 50) & (data['ceiling_height'] > 22.5), data['ceiling_height'] / 10, data['ceiling_height'])"
   ]
  },
  {
   "cell_type": "code",
   "execution_count": 50,
   "metadata": {},
   "outputs": [],
   "source": [
    "data = data.query('ceiling_height < 5 and ceiling_height > 2.25')"
   ]
  },
  {
   "cell_type": "code",
   "execution_count": 51,
   "metadata": {},
   "outputs": [
    {
     "data": {
      "text/plain": [
       "450,000.00        4\n",
       "470,000.00        3\n",
       "490,000.00        2\n",
       "430,000.00        1\n",
       "12,190.00         1\n",
       "440,000.00        1\n",
       "124,000,000.00    1\n",
       "122,000,000.00    1\n",
       "480,000.00        1\n",
       "Name: last_price, dtype: int64"
      ]
     },
     "execution_count": 51,
     "metadata": {},
     "output_type": "execute_result"
    }
   ],
   "source": [
    "data.query('last_price < 500000 or last_price > 100000000')['last_price'].value_counts()"
   ]
  },
  {
   "cell_type": "markdown",
   "metadata": {},
   "source": [
    "встречаются цены меньше 500 000 и выше 100 000 000, по аналогии с высотой потолков, похоже что вызваны неверным ручным вводом</b> \n",
    "удалим эти значения"
   ]
  },
  {
   "cell_type": "code",
   "execution_count": 52,
   "metadata": {},
   "outputs": [],
   "source": [
    "data = data.query('last_price < 100000000 and last_price > 500000')"
   ]
  },
  {
   "cell_type": "markdown",
   "metadata": {},
   "source": [
    "удалено данных:"
   ]
  },
  {
   "cell_type": "code",
   "execution_count": 53,
   "metadata": {
    "scrolled": true
   },
   "outputs": [
    {
     "name": "stdout",
     "output_type": "stream",
     "text": [
      "18.4%\n"
     ]
    }
   ],
   "source": [
    "print('{:.1%}'.format(1 - len(data) / len(data_origin)))"
   ]
  },
  {
   "cell_type": "markdown",
   "metadata": {},
   "source": [
    "Проверим, зависит ли цена квадратного метра от общей площади квартиры, числа комнат, этажа (первого или последнего), удалённости от центра, от даты размещения: дня недели, месяца и года."
   ]
  },
  {
   "cell_type": "markdown",
   "metadata": {},
   "source": [
    "Изучим зависимость цены от общей площади"
   ]
  },
  {
   "cell_type": "markdown",
   "metadata": {},
   "source": [
    "pivot_table_total_area = data.pivot_table(index = 'total_area', values = 'last_price')\n",
    "pivot_table_total_area"
   ]
  },
  {
   "cell_type": "code",
   "execution_count": 55,
   "metadata": {},
   "outputs": [
    {
     "data": {
      "text/plain": [
       "0.7055759593440535"
      ]
     },
     "execution_count": 55,
     "metadata": {},
     "output_type": "execute_result"
    },
    {
     "data": {
      "image/png": "[encoded data removed]",
      "text/plain": [
       "<Figure size 1080x360 with 1 Axes>"
      ]
     },
     "metadata": {
      "needs_background": "light"
     },
     "output_type": "display_data"
    }
   ],
   "source": [
    "pivot_table_total_area.plot(style = 'o', figsize = (15,5))\n",
    "data['total_area'].corr(data['last_price'])"
   ]
  },
  {
   "cell_type": "markdown",
   "metadata": {},
   "source": [
    "чем выше общая площадь тем выше цена, наблюдаем сильную зависимость"
   ]
  },
  {
   "cell_type": "markdown",
   "metadata": {},
   "source": [
    "Изучим зависимость цены от числа комнат."
   ]
  },
  {
   "cell_type": "code",
   "execution_count": 56,
   "metadata": {},
   "outputs": [],
   "source": [
    "pivot_table_rooms = data.pivot_table(index = 'rooms', values = 'last_price')"
   ]
  },
  {
   "cell_type": "code",
   "execution_count": 57,
   "metadata": {},
   "outputs": [
    {
     "data": {
      "image/png": "[encoded data removed]",
      "text/plain": [
       "<Figure size 1080x360 with 1 Axes>"
      ]
     },
     "metadata": {
      "needs_background": "light"
     },
     "output_type": "display_data"
    }
   ],
   "source": [
    "pivot_table_rooms.plot(figsize = (15,5));"
   ]
  },
  {
   "cell_type": "markdown",
   "metadata": {},
   "source": [
    "Изучим зависимость цены от этажа (первого или последнего)."
   ]
  },
  {
   "cell_type": "code",
   "execution_count": 58,
   "metadata": {},
   "outputs": [],
   "source": [
    "pivot_table_floor_category = data.pivot_table(index = 'floor_category', values = 'last_price')"
   ]
  },
  {
   "cell_type": "code",
   "execution_count": 59,
   "metadata": {},
   "outputs": [
    {
     "data": {
      "text/html": [
       "<div>\n",
       "<style scoped>\n",
       "    .dataframe tbody tr th:only-of-type {\n",
       "        vertical-align: middle;\n",
       "    }\n",
       "\n",
       "    .dataframe tbody tr th {\n",
       "        vertical-align: top;\n",
       "    }\n",
       "\n",
       "    .dataframe thead th {\n",
       "        text-align: right;\n",
       "    }\n",
       "</style>\n",
       "<table border=\"1\" class=\"dataframe\">\n",
       "  <thead>\n",
       "    <tr style=\"text-align: right;\">\n",
       "      <th></th>\n",
       "      <th>last_price</th>\n",
       "    </tr>\n",
       "    <tr>\n",
       "      <th>floor_category</th>\n",
       "      <th></th>\n",
       "    </tr>\n",
       "  </thead>\n",
       "  <tbody>\n",
       "    <tr>\n",
       "      <th>другой</th>\n",
       "      <td>5,667,699.55</td>\n",
       "    </tr>\n",
       "    <tr>\n",
       "      <th>первый</th>\n",
       "      <td>4,269,802.56</td>\n",
       "    </tr>\n",
       "    <tr>\n",
       "      <th>последний</th>\n",
       "      <td>5,125,652.47</td>\n",
       "    </tr>\n",
       "  </tbody>\n",
       "</table>\n",
       "</div>"
      ],
      "text/plain": [
       "                 last_price\n",
       "floor_category             \n",
       "другой         5,667,699.55\n",
       "первый         4,269,802.56\n",
       "последний      5,125,652.47"
      ]
     },
     "execution_count": 59,
     "metadata": {},
     "output_type": "execute_result"
    }
   ],
   "source": [
    "pivot_table_floor_category"
   ]
  },
  {
   "cell_type": "markdown",
   "metadata": {},
   "source": [
    "на первом и последнем этажах квартиры самые дешевые. при этом квартиры на первом этаже дешевле чем на последнем"
   ]
  },
  {
   "cell_type": "markdown",
   "metadata": {},
   "source": [
    "Изучим зависимость цены от удалённости от центра."
   ]
  },
  {
   "cell_type": "code",
   "execution_count": 60,
   "metadata": {},
   "outputs": [
    {
     "data": {
      "text/plain": [
       "-0.3157842503275277"
      ]
     },
     "execution_count": 60,
     "metadata": {},
     "output_type": "execute_result"
    },
    {
     "data": {
      "image/png": "[encoded data removed]",
      "text/plain": [
       "<Figure size 1080x360 with 1 Axes>"
      ]
     },
     "metadata": {
      "needs_background": "light"
     },
     "output_type": "display_data"
    }
   ],
   "source": [
    "data.plot(kind = 'scatter', y = 'last_price', x = 'cityCenters_nearest', figsize = (15,5))\n",
    "data['cityCenters_nearest'].corr(data['last_price'])"
   ]
  },
  {
   "cell_type": "markdown",
   "metadata": {},
   "source": [
    "Самая дорогая стоимость квартир в радиусе 10 км от центра. в радиусе 20 км стоимость снижается по мере удаленности, далее изменения цены практически нет"
   ]
  },
  {
   "cell_type": "markdown",
   "metadata": {},
   "source": [
    "Изучим зависимость цены от даты размещения: дня недели."
   ]
  },
  {
   "cell_type": "code",
   "execution_count": 61,
   "metadata": {},
   "outputs": [],
   "source": [
    "pivot_table_weekday_exposition = data.pivot_table(index = 'weekday_exposition', values = 'last_price')"
   ]
  },
  {
   "cell_type": "code",
   "execution_count": 62,
   "metadata": {},
   "outputs": [
    {
     "data": {
      "image/png": "[encoded data removed]",
      "text/plain": [
       "<Figure size 1080x360 with 1 Axes>"
      ]
     },
     "metadata": {
      "needs_background": "light"
     },
     "output_type": "display_data"
    }
   ],
   "source": [
    "pivot_table_weekday_exposition.plot(figsize = (15,5));"
   ]
  },
  {
   "cell_type": "markdown",
   "metadata": {},
   "source": [
    "стоимость квартир в зависимости от дня недели растет к четвергу, затем снижается, и имеет минимум в воскресенье"
   ]
  },
  {
   "cell_type": "markdown",
   "metadata": {},
   "source": [
    "Изучим зависимость цены от даты размещения: месяца."
   ]
  },
  {
   "cell_type": "code",
   "execution_count": 63,
   "metadata": {},
   "outputs": [],
   "source": [
    "pivot_table_month_exposition = data.pivot_table(index = 'month_exposition', values = 'last_price')"
   ]
  },
  {
   "cell_type": "code",
   "execution_count": 64,
   "metadata": {},
   "outputs": [
    {
     "data": {
      "text/plain": [
       "<AxesSubplot:xlabel='month_exposition'>"
      ]
     },
     "execution_count": 64,
     "metadata": {},
     "output_type": "execute_result"
    },
    {
     "data": {
      "image/png": "[encoded data removed]",
      "text/plain": [
       "<Figure size 1080x360 with 1 Axes>"
      ]
     },
     "metadata": {
      "needs_background": "light"
     },
     "output_type": "display_data"
    }
   ],
   "source": [
    "pivot_table_month_exposition.plot(figsize = (15,5))"
   ]
  },
  {
   "cell_type": "markdown",
   "metadata": {},
   "source": [
    "в течение лета стоимость растет, самая высокая стоимость достигается к сентябрю, затем резкий спад и самая низкая стоимость наблюдается в октябре."
   ]
  },
  {
   "cell_type": "markdown",
   "metadata": {},
   "source": [
    "Изучим зависимость цены от даты размещения: года."
   ]
  },
  {
   "cell_type": "code",
   "execution_count": 65,
   "metadata": {},
   "outputs": [],
   "source": [
    "pivot_table_year_exposition = data.pivot_table(index = 'year_exposition', values = 'last_price')"
   ]
  },
  {
   "cell_type": "code",
   "execution_count": 66,
   "metadata": {},
   "outputs": [
    {
     "data": {
      "text/plain": [
       "<AxesSubplot:xlabel='year_exposition'>"
      ]
     },
     "execution_count": 66,
     "metadata": {},
     "output_type": "execute_result"
    },
    {
     "data": {
      "image/png": "[encoded data removed]",
      "text/plain": [
       "<Figure size 1080x360 with 1 Axes>"
      ]
     },
     "metadata": {
      "needs_background": "light"
     },
     "output_type": "display_data"
    }
   ],
   "source": [
    "pivot_table_year_exposition.plot(figsize = (15,5))"
   ]
  },
  {
   "cell_type": "markdown",
   "metadata": {},
   "source": [
    "с 2014 по 2016 год цена квадратного метра падала, далее до 2018 года падение замедлилось, с 2018до 2019 наблюдается начало роста цен."
   ]
  },
  {
   "cell_type": "markdown",
   "metadata": {},
   "source": [
    "Проанализируем 10 населённых пунктов с наибольшим числом объявлений. Посчитаем среднюю цену квадратного метра в этих населённых пунктах."
   ]
  },
  {
   "cell_type": "code",
   "execution_count": 67,
   "metadata": {},
   "outputs": [],
   "source": [
    "locality_pivot_table = data.pivot_table(index = 'locality_name', values = 'last_price', aggfunc=['count', 'mean'])"
   ]
  },
  {
   "cell_type": "code",
   "execution_count": 68,
   "metadata": {},
   "outputs": [],
   "source": [
    "locality_pivot_table.columns = ['count', 'mean']"
   ]
  },
  {
   "cell_type": "code",
   "execution_count": 69,
   "metadata": {},
   "outputs": [],
   "source": [
    "locality_pivot_table = locality_pivot_table.sort_values('count', ascending = False).head(10)"
   ]
  },
  {
   "cell_type": "code",
   "execution_count": 70,
   "metadata": {
    "scrolled": true
   },
   "outputs": [
    {
     "data": {
      "text/html": [
       "<div>\n",
       "<style scoped>\n",
       "    .dataframe tbody tr th:only-of-type {\n",
       "        vertical-align: middle;\n",
       "    }\n",
       "\n",
       "    .dataframe tbody tr th {\n",
       "        vertical-align: top;\n",
       "    }\n",
       "\n",
       "    .dataframe thead th {\n",
       "        text-align: right;\n",
       "    }\n",
       "</style>\n",
       "<table border=\"1\" class=\"dataframe\">\n",
       "  <thead>\n",
       "    <tr style=\"text-align: right;\">\n",
       "      <th></th>\n",
       "      <th>count</th>\n",
       "      <th>mean</th>\n",
       "    </tr>\n",
       "    <tr>\n",
       "      <th>locality_name</th>\n",
       "      <th></th>\n",
       "      <th></th>\n",
       "    </tr>\n",
       "  </thead>\n",
       "  <tbody>\n",
       "    <tr>\n",
       "      <th>Санкт-Петербург</th>\n",
       "      <td>12738</td>\n",
       "      <td>6,449,633.13</td>\n",
       "    </tr>\n",
       "    <tr>\n",
       "      <th>посёлок Мурино</th>\n",
       "      <td>499</td>\n",
       "      <td>3,649,668.30</td>\n",
       "    </tr>\n",
       "    <tr>\n",
       "      <th>посёлок Шушары</th>\n",
       "      <td>397</td>\n",
       "      <td>4,050,674.56</td>\n",
       "    </tr>\n",
       "    <tr>\n",
       "      <th>Всеволожск</th>\n",
       "      <td>326</td>\n",
       "      <td>3,689,731.29</td>\n",
       "    </tr>\n",
       "    <tr>\n",
       "      <th>Колпино</th>\n",
       "      <td>301</td>\n",
       "      <td>3,785,000.82</td>\n",
       "    </tr>\n",
       "    <tr>\n",
       "      <th>посёлок Парголово</th>\n",
       "      <td>294</td>\n",
       "      <td>4,388,246.46</td>\n",
       "    </tr>\n",
       "    <tr>\n",
       "      <th>Пушкин</th>\n",
       "      <td>286</td>\n",
       "      <td>5,750,728.55</td>\n",
       "    </tr>\n",
       "    <tr>\n",
       "      <th>деревня Кудрово</th>\n",
       "      <td>280</td>\n",
       "      <td>4,254,072.77</td>\n",
       "    </tr>\n",
       "    <tr>\n",
       "      <th>Гатчина</th>\n",
       "      <td>254</td>\n",
       "      <td>3,366,354.57</td>\n",
       "    </tr>\n",
       "    <tr>\n",
       "      <th>Выборг</th>\n",
       "      <td>198</td>\n",
       "      <td>3,041,126.26</td>\n",
       "    </tr>\n",
       "  </tbody>\n",
       "</table>\n",
       "</div>"
      ],
      "text/plain": [
       "                   count         mean\n",
       "locality_name                        \n",
       "Санкт-Петербург    12738 6,449,633.13\n",
       "посёлок Мурино       499 3,649,668.30\n",
       "посёлок Шушары       397 4,050,674.56\n",
       "Всеволожск           326 3,689,731.29\n",
       "Колпино              301 3,785,000.82\n",
       "посёлок Парголово    294 4,388,246.46\n",
       "Пушкин               286 5,750,728.55\n",
       "деревня Кудрово      280 4,254,072.77\n",
       "Гатчина              254 3,366,354.57\n",
       "Выборг               198 3,041,126.26"
      ]
     },
     "execution_count": 70,
     "metadata": {},
     "output_type": "execute_result"
    }
   ],
   "source": [
    "locality_pivot_table"
   ]
  },
  {
   "cell_type": "code",
   "execution_count": 71,
   "metadata": {},
   "outputs": [
    {
     "data": {
      "text/plain": [
       "<AxesSubplot:xlabel='locality_name'>"
      ]
     },
     "execution_count": 71,
     "metadata": {},
     "output_type": "execute_result"
    },
    {
     "data": {
      "image/png": "[encoded data removed]",
      "text/plain": [
       "<Figure size 1080x360 with 1 Axes>"
      ]
     },
     "metadata": {
      "needs_background": "light"
     },
     "output_type": "display_data"
    }
   ],
   "source": [
    "locality_pivot_table['mean'].plot(kind = 'bar', figsize = (15,5))"
   ]
  },
  {
   "cell_type": "markdown",
   "metadata": {},
   "source": [
    " самая высокая стоимость жилья в Санкт-Петербурге, самая низкая стоимость в Выборге. Чем крупнее населенный пункт(судя по количеству объявлений), тем выше цена жилья"
   ]
  },
  {
   "cell_type": "markdown",
   "metadata": {},
   "source": [
    "Выясним, какая область входит в центр. Построим график цены в зависимости от удалённости от центра."
   ]
  },
  {
   "cell_type": "code",
   "execution_count": 72,
   "metadata": {},
   "outputs": [],
   "source": [
    "data['cityCenters_nearest_km'] = data['cityCenters_nearest']/1000"
   ]
  },
  {
   "cell_type": "code",
   "execution_count": 73,
   "metadata": {},
   "outputs": [],
   "source": [
    "data['cityCenters_nearest_km'] = data['cityCenters_nearest_km'].fillna(0)"
   ]
  },
  {
   "cell_type": "code",
   "execution_count": 74,
   "metadata": {},
   "outputs": [],
   "source": [
    "data['cityCenters_nearest_km'] = data['cityCenters_nearest_km'].astype('int')"
   ]
  },
  {
   "cell_type": "code",
   "execution_count": 75,
   "metadata": {},
   "outputs": [],
   "source": [
    "pivot_table_km = data.query('locality_name == \"Санкт-Петербург\" and cityCenters_nearest_km > 0').pivot_table(index = 'cityCenters_nearest_km', values = 'price_square_meter', aggfunc = 'mean')"
   ]
  },
  {
   "cell_type": "code",
   "execution_count": 76,
   "metadata": {},
   "outputs": [
    {
     "data": {
      "text/html": [
       "<div>\n",
       "<style scoped>\n",
       "    .dataframe tbody tr th:only-of-type {\n",
       "        vertical-align: middle;\n",
       "    }\n",
       "\n",
       "    .dataframe tbody tr th {\n",
       "        vertical-align: top;\n",
       "    }\n",
       "\n",
       "    .dataframe thead th {\n",
       "        text-align: right;\n",
       "    }\n",
       "</style>\n",
       "<table border=\"1\" class=\"dataframe\">\n",
       "  <thead>\n",
       "    <tr style=\"text-align: right;\">\n",
       "      <th></th>\n",
       "      <th>price_square_meter</th>\n",
       "    </tr>\n",
       "    <tr>\n",
       "      <th>cityCenters_nearest_km</th>\n",
       "      <th></th>\n",
       "    </tr>\n",
       "  </thead>\n",
       "  <tbody>\n",
       "    <tr>\n",
       "      <th>1</th>\n",
       "      <td>135,367.13</td>\n",
       "    </tr>\n",
       "    <tr>\n",
       "      <th>2</th>\n",
       "      <td>130,335.86</td>\n",
       "    </tr>\n",
       "    <tr>\n",
       "      <th>3</th>\n",
       "      <td>117,915.03</td>\n",
       "    </tr>\n",
       "    <tr>\n",
       "      <th>4</th>\n",
       "      <td>133,913.56</td>\n",
       "    </tr>\n",
       "    <tr>\n",
       "      <th>5</th>\n",
       "      <td>135,869.02</td>\n",
       "    </tr>\n",
       "    <tr>\n",
       "      <th>6</th>\n",
       "      <td>137,358.51</td>\n",
       "    </tr>\n",
       "    <tr>\n",
       "      <th>7</th>\n",
       "      <td>133,076.74</td>\n",
       "    </tr>\n",
       "    <tr>\n",
       "      <th>8</th>\n",
       "      <td>116,540.50</td>\n",
       "    </tr>\n",
       "    <tr>\n",
       "      <th>9</th>\n",
       "      <td>108,727.68</td>\n",
       "    </tr>\n",
       "    <tr>\n",
       "      <th>10</th>\n",
       "      <td>108,865.03</td>\n",
       "    </tr>\n",
       "    <tr>\n",
       "      <th>11</th>\n",
       "      <td>104,712.45</td>\n",
       "    </tr>\n",
       "    <tr>\n",
       "      <th>12</th>\n",
       "      <td>106,987.51</td>\n",
       "    </tr>\n",
       "    <tr>\n",
       "      <th>13</th>\n",
       "      <td>105,753.97</td>\n",
       "    </tr>\n",
       "    <tr>\n",
       "      <th>14</th>\n",
       "      <td>102,909.80</td>\n",
       "    </tr>\n",
       "    <tr>\n",
       "      <th>15</th>\n",
       "      <td>99,882.83</td>\n",
       "    </tr>\n",
       "    <tr>\n",
       "      <th>16</th>\n",
       "      <td>98,903.91</td>\n",
       "    </tr>\n",
       "    <tr>\n",
       "      <th>17</th>\n",
       "      <td>93,941.33</td>\n",
       "    </tr>\n",
       "    <tr>\n",
       "      <th>18</th>\n",
       "      <td>93,641.74</td>\n",
       "    </tr>\n",
       "    <tr>\n",
       "      <th>19</th>\n",
       "      <td>96,799.88</td>\n",
       "    </tr>\n",
       "    <tr>\n",
       "      <th>20</th>\n",
       "      <td>102,635.86</td>\n",
       "    </tr>\n",
       "    <tr>\n",
       "      <th>21</th>\n",
       "      <td>90,578.08</td>\n",
       "    </tr>\n",
       "    <tr>\n",
       "      <th>22</th>\n",
       "      <td>86,621.63</td>\n",
       "    </tr>\n",
       "    <tr>\n",
       "      <th>23</th>\n",
       "      <td>91,569.54</td>\n",
       "    </tr>\n",
       "    <tr>\n",
       "      <th>24</th>\n",
       "      <td>82,439.91</td>\n",
       "    </tr>\n",
       "    <tr>\n",
       "      <th>25</th>\n",
       "      <td>91,199.57</td>\n",
       "    </tr>\n",
       "    <tr>\n",
       "      <th>26</th>\n",
       "      <td>75,171.33</td>\n",
       "    </tr>\n",
       "    <tr>\n",
       "      <th>27</th>\n",
       "      <td>132,115.00</td>\n",
       "    </tr>\n",
       "    <tr>\n",
       "      <th>28</th>\n",
       "      <td>82,056.89</td>\n",
       "    </tr>\n",
       "    <tr>\n",
       "      <th>29</th>\n",
       "      <td>65,459.50</td>\n",
       "    </tr>\n",
       "  </tbody>\n",
       "</table>\n",
       "</div>"
      ],
      "text/plain": [
       "                        price_square_meter\n",
       "cityCenters_nearest_km                    \n",
       "1                               135,367.13\n",
       "2                               130,335.86\n",
       "3                               117,915.03\n",
       "4                               133,913.56\n",
       "5                               135,869.02\n",
       "6                               137,358.51\n",
       "7                               133,076.74\n",
       "8                               116,540.50\n",
       "9                               108,727.68\n",
       "10                              108,865.03\n",
       "11                              104,712.45\n",
       "12                              106,987.51\n",
       "13                              105,753.97\n",
       "14                              102,909.80\n",
       "15                               99,882.83\n",
       "16                               98,903.91\n",
       "17                               93,941.33\n",
       "18                               93,641.74\n",
       "19                               96,799.88\n",
       "20                              102,635.86\n",
       "21                               90,578.08\n",
       "22                               86,621.63\n",
       "23                               91,569.54\n",
       "24                               82,439.91\n",
       "25                               91,199.57\n",
       "26                               75,171.33\n",
       "27                              132,115.00\n",
       "28                               82,056.89\n",
       "29                               65,459.50"
      ]
     },
     "execution_count": 76,
     "metadata": {},
     "output_type": "execute_result"
    }
   ],
   "source": [
    "pivot_table_km"
   ]
  },
  {
   "cell_type": "code",
   "execution_count": 77,
   "metadata": {},
   "outputs": [
    {
     "data": {
      "image/png": "[encoded data removed]",
      "text/plain": [
       "<Figure size 1080x360 with 1 Axes>"
      ]
     },
     "metadata": {
      "needs_background": "light"
     },
     "output_type": "display_data"
    }
   ],
   "source": [
    "pivot_table_km.plot(figsize = (15,5));"
   ]
  },
  {
   "cell_type": "markdown",
   "metadata": {},
   "source": [
    "падение цены на 16 процентов происходит при отдалении на расстояние более 7 км, следовательно этот радиус можно считать центральной зоной"
   ]
  },
  {
   "cell_type": "markdown",
   "metadata": {},
   "source": [
    "Изучим отличаются ли параметры квартир в центре от квартир по всему городу?"
   ]
  },
  {
   "cell_type": "markdown",
   "metadata": {},
   "source": [
    "выделим квартиры в центре в отдельный датафрейм"
   ]
  },
  {
   "cell_type": "code",
   "execution_count": 78,
   "metadata": {},
   "outputs": [],
   "source": [
    "center_spb_data = data.query('cityCenters_nearest_km <= 7 and locality_name == \"Санкт-Петербург\"')"
   ]
  },
  {
   "cell_type": "markdown",
   "metadata": {},
   "source": [
    "изучим общую площадь"
   ]
  },
  {
   "cell_type": "code",
   "execution_count": 79,
   "metadata": {
    "scrolled": false
   },
   "outputs": [
    {
     "data": {
      "text/plain": [
       "count   2,610.00\n",
       "mean       73.73\n",
       "std        28.34\n",
       "min        12.00\n",
       "25%        50.72\n",
       "50%        70.00\n",
       "75%        93.00\n",
       "max       149.20\n",
       "Name: total_area, dtype: float64"
      ]
     },
     "execution_count": 79,
     "metadata": {},
     "output_type": "execute_result"
    },
    {
     "data": {
      "image/png": "[encoded data removed]",
      "text/plain": [
       "<Figure size 1080x360 with 1 Axes>"
      ]
     },
     "metadata": {
      "needs_background": "light"
     },
     "output_type": "display_data"
    }
   ],
   "source": [
    "center_spb_data.plot(y = 'total_area', kind = 'hist', bins = 60, grid=True, figsize = (15,5), range = (0,300))\n",
    "center_spb_data['total_area'].describe()"
   ]
  },
  {
   "cell_type": "markdown",
   "metadata": {},
   "source": [
    "Большая часть квартир имеет площадь 40 кв.м. до 100 кв.м.<br>\n",
    "в средем площадь квартир больше чем по общей выборке"
   ]
  },
  {
   "cell_type": "code",
   "execution_count": 80,
   "metadata": {
    "scrolled": false
   },
   "outputs": [
    {
     "data": {
      "image/png": "[encoded data removed]",
      "text/plain": [
       "<Figure size 1080x360 with 1 Axes>"
      ]
     },
     "metadata": {
      "needs_background": "light"
     },
     "output_type": "display_data"
    }
   ],
   "source": [
    "center_spb_data.plot(y = 'total_area', kind = 'hist', bins = 60, grid=True, figsize = (15,5), range = (20,100));"
   ]
  },
  {
   "cell_type": "markdown",
   "metadata": {},
   "source": [
    "изучим цену"
   ]
  },
  {
   "cell_type": "code",
   "execution_count": 81,
   "metadata": {
    "scrolled": false
   },
   "outputs": [
    {
     "data": {
      "text/plain": [
       "count        2,610.00\n",
       "mean     9,922,234.29\n",
       "std      7,222,390.15\n",
       "min      1,600,000.00\n",
       "25%      6,000,000.00\n",
       "50%      8,000,000.00\n",
       "75%     11,300,000.00\n",
       "max     82,000,000.00\n",
       "Name: last_price, dtype: float64"
      ]
     },
     "execution_count": 81,
     "metadata": {},
     "output_type": "execute_result"
    },
    {
     "data": {
      "image/png": "[encoded data removed]",
      "text/plain": [
       "<Figure size 1080x360 with 1 Axes>"
      ]
     },
     "metadata": {
      "needs_background": "light"
     },
     "output_type": "display_data"
    }
   ],
   "source": [
    "center_spb_data.plot(y = 'last_price', kind = 'hist', bins = 60, grid=True, range = (0,20000000), figsize = (15,5))\n",
    "center_spb_data['last_price'].describe()"
   ]
  },
  {
   "cell_type": "code",
   "execution_count": 82,
   "metadata": {},
   "outputs": [
    {
     "data": {
      "image/png": "[encoded data removed]",
      "text/plain": [
       "<Figure size 1080x360 with 1 Axes>"
      ]
     },
     "metadata": {
      "needs_background": "light"
     },
     "output_type": "display_data"
    }
   ],
   "source": [
    "center_spb_data.plot(y = 'last_price', kind = 'hist', bins = 60, grid=True, range = (5000000,10000000), figsize = (15,5));"
   ]
  },
  {
   "cell_type": "markdown",
   "metadata": {},
   "source": [
    "Основная часть квартир имеет цену от 5 до 10 млн.\n",
    "в отличие от общей выборки квартиры стоят дороже( 3 до 6 млн.)"
   ]
  },
  {
   "cell_type": "markdown",
   "metadata": {},
   "source": [
    "изучим число комнат"
   ]
  },
  {
   "cell_type": "code",
   "execution_count": 83,
   "metadata": {},
   "outputs": [
    {
     "data": {
      "text/plain": [
       "count   2,610.00\n",
       "mean        2.47\n",
       "std         1.07\n",
       "min         0.00\n",
       "25%         2.00\n",
       "50%         2.00\n",
       "75%         3.00\n",
       "max         7.00\n",
       "Name: rooms, dtype: float64"
      ]
     },
     "execution_count": 83,
     "metadata": {},
     "output_type": "execute_result"
    },
    {
     "data": {
      "image/png": "[encoded data removed]",
      "text/plain": [
       "<Figure size 1080x360 with 1 Axes>"
      ]
     },
     "metadata": {
      "needs_background": "light"
     },
     "output_type": "display_data"
    }
   ],
   "source": [
    "center_spb_data.plot(y = 'rooms', kind = 'hist', bins = 60, grid=True, range = (0,10), figsize = (15,5))\n",
    "center_spb_data['rooms'].describe()"
   ]
  },
  {
   "cell_type": "markdown",
   "metadata": {},
   "source": [
    "большинство квартир имеет 1, 2, 3 комнатны, реже встречаются 4 комнатные, остальные случаи единичные<br>\n",
    "картина похожа, основная часть это 1,2,3 комнатыне квартиры"
   ]
  },
  {
   "cell_type": "markdown",
   "metadata": {},
   "source": [
    "изучим высоту потолков"
   ]
  },
  {
   "cell_type": "code",
   "execution_count": 84,
   "metadata": {
    "scrolled": false
   },
   "outputs": [
    {
     "data": {
      "text/plain": [
       "count   19,331.00\n",
       "mean         2.68\n",
       "std          0.19\n",
       "min          2.26\n",
       "25%          2.60\n",
       "50%          2.65\n",
       "75%          2.70\n",
       "max          4.80\n",
       "Name: ceiling_height, dtype: float64"
      ]
     },
     "execution_count": 84,
     "metadata": {},
     "output_type": "execute_result"
    },
    {
     "data": {
      "image/png": "[encoded data removed]",
      "text/plain": [
       "<Figure size 1080x360 with 1 Axes>"
      ]
     },
     "metadata": {
      "needs_background": "light"
     },
     "output_type": "display_data"
    }
   ],
   "source": [
    "center_spb_data.plot(y = 'ceiling_height', kind = 'hist', bins = 60, range = (2,4), grid=True, figsize = (15,5))\n",
    "data['ceiling_height'].describe()"
   ]
  },
  {
   "cell_type": "code",
   "execution_count": 85,
   "metadata": {
    "scrolled": false
   },
   "outputs": [
    {
     "data": {
      "image/png": "[encoded data removed]",
      "text/plain": [
       "<Figure size 1080x360 with 1 Axes>"
      ]
     },
     "metadata": {
      "needs_background": "light"
     },
     "output_type": "display_data"
    }
   ],
   "source": [
    "center_spb_data.plot(y = 'ceiling_height', kind = 'hist', bins = 60, range = (2.5,3.5), grid=True, figsize = (15,5));"
   ]
  },
  {
   "cell_type": "markdown",
   "metadata": {},
   "source": [
    "квартиры в большинстве случаев имеют потолки от 2,5-3,5м<br>\n",
    "Потолки в центральной части Петербурга в среднем выше чем по общей выборке"
   ]
  },
  {
   "cell_type": "markdown",
   "metadata": {},
   "source": [
    "Зависимость стоимости от общей площади."
   ]
  },
  {
   "cell_type": "code",
   "execution_count": 86,
   "metadata": {},
   "outputs": [],
   "source": [
    "pivot_table_total_area = center_spb_data.pivot_table(index = 'total_area', values = 'last_price')"
   ]
  },
  {
   "cell_type": "code",
   "execution_count": 87,
   "metadata": {
    "scrolled": false
   },
   "outputs": [
    {
     "data": {
      "text/plain": [
       "0.6197382910029822"
      ]
     },
     "execution_count": 87,
     "metadata": {},
     "output_type": "execute_result"
    },
    {
     "data": {
      "image/png": "[encoded data removed]",
      "text/plain": [
       "<Figure size 1080x360 with 1 Axes>"
      ]
     },
     "metadata": {
      "needs_background": "light"
     },
     "output_type": "display_data"
    }
   ],
   "source": [
    "pivot_table_total_area.plot(style = 'o', figsize = (15,5))\n",
    "center_spb_data['total_area'].corr(center_spb_data['last_price'])"
   ]
  },
  {
   "cell_type": "markdown",
   "metadata": {},
   "source": [
    "Картина аналогична общей выборке<br/>\n",
    "цена растет в зависимости от площади, но менее резко"
   ]
  },
  {
   "cell_type": "markdown",
   "metadata": {},
   "source": [
    "Зависимость стоимости от количества комнат."
   ]
  },
  {
   "cell_type": "code",
   "execution_count": 88,
   "metadata": {},
   "outputs": [],
   "source": [
    "pivot_table_rooms_center_spb_data = center_spb_data.pivot_table(index = 'rooms', values = 'last_price')  "
   ]
  },
  {
   "cell_type": "code",
   "execution_count": 89,
   "metadata": {},
   "outputs": [
    {
     "data": {
      "image/png": "[encoded data removed]",
      "text/plain": [
       "<Figure size 1080x360 with 1 Axes>"
      ]
     },
     "metadata": {
      "needs_background": "light"
     },
     "output_type": "display_data"
    }
   ],
   "source": [
    "pivot_table_rooms_center_spb_data.plot(figsize = (15,5));"
   ]
  },
  {
   "cell_type": "markdown",
   "metadata": {},
   "source": [
    "картина похожа на общую выборку<br/>\n",
    "только тут стоимость 4,5,6 комнатных квартир практически одинакова"
   ]
  },
  {
   "cell_type": "markdown",
   "metadata": {},
   "source": [
    "Зависимость стоимости от этажа."
   ]
  },
  {
   "cell_type": "code",
   "execution_count": 90,
   "metadata": {},
   "outputs": [
    {
     "data": {
      "text/html": [
       "<div>\n",
       "<style scoped>\n",
       "    .dataframe tbody tr th:only-of-type {\n",
       "        vertical-align: middle;\n",
       "    }\n",
       "\n",
       "    .dataframe tbody tr th {\n",
       "        vertical-align: top;\n",
       "    }\n",
       "\n",
       "    .dataframe thead th {\n",
       "        text-align: right;\n",
       "    }\n",
       "</style>\n",
       "<table border=\"1\" class=\"dataframe\">\n",
       "  <thead>\n",
       "    <tr style=\"text-align: right;\">\n",
       "      <th></th>\n",
       "      <th>last_price</th>\n",
       "    </tr>\n",
       "    <tr>\n",
       "      <th>floor_category</th>\n",
       "      <th></th>\n",
       "    </tr>\n",
       "  </thead>\n",
       "  <tbody>\n",
       "    <tr>\n",
       "      <th>другой</th>\n",
       "      <td>10,477,412.86</td>\n",
       "    </tr>\n",
       "    <tr>\n",
       "      <th>первый</th>\n",
       "      <td>7,173,739.70</td>\n",
       "    </tr>\n",
       "    <tr>\n",
       "      <th>последний</th>\n",
       "      <td>9,449,241.08</td>\n",
       "    </tr>\n",
       "  </tbody>\n",
       "</table>\n",
       "</div>"
      ],
      "text/plain": [
       "                  last_price\n",
       "floor_category              \n",
       "другой         10,477,412.86\n",
       "первый          7,173,739.70\n",
       "последний       9,449,241.08"
      ]
     },
     "execution_count": 90,
     "metadata": {},
     "output_type": "execute_result"
    }
   ],
   "source": [
    "center_spb_floor_category = center_spb_data.pivot_table(index = 'floor_category', values = 'last_price')\n",
    "center_spb_floor_category"
   ]
  },
  {
   "cell_type": "markdown",
   "metadata": {},
   "source": [
    "Закономерность такая же как в общей выборке, но квартиры на первом этаже в центральной части Петербурга стоят значительно ниже чем остальные."
   ]
  },
  {
   "cell_type": "markdown",
   "metadata": {},
   "source": [
    "Зависимость стоимости от удаленности от центра."
   ]
  },
  {
   "cell_type": "code",
   "execution_count": 91,
   "metadata": {},
   "outputs": [
    {
     "data": {
      "text/plain": [
       "-0.03803327434194898"
      ]
     },
     "execution_count": 91,
     "metadata": {},
     "output_type": "execute_result"
    },
    {
     "data": {
      "image/png": "[encoded data removed]",
      "text/plain": [
       "<Figure size 1080x360 with 1 Axes>"
      ]
     },
     "metadata": {
      "needs_background": "light"
     },
     "output_type": "display_data"
    }
   ],
   "source": [
    "center_spb_data.plot(kind = 'scatter', y = 'last_price', x = 'cityCenters_nearest', figsize = (15,5))\n",
    "center_spb_data['cityCenters_nearest'].corr(data['last_price'])"
   ]
  },
  {
   "cell_type": "markdown",
   "metadata": {},
   "source": [
    "Зависимости нет в отличии от общей выборки.<br/>\n",
    "В центральной части Петербурга стоимость схожих по параметрам квартир примерно одинакова"
   ]
  },
  {
   "cell_type": "markdown",
   "metadata": {},
   "source": [
    "Зависимость стоимости от дня недели размещения объявления."
   ]
  },
  {
   "cell_type": "code",
   "execution_count": 92,
   "metadata": {
    "scrolled": false
   },
   "outputs": [
    {
     "data": {
      "image/png": "[encoded data removed]",
      "text/plain": [
       "<Figure size 1080x360 with 1 Axes>"
      ]
     },
     "metadata": {
      "needs_background": "light"
     },
     "output_type": "display_data"
    }
   ],
   "source": [
    "center_spb_data.pivot_table(index = 'weekday_exposition', values = 'last_price').plot(figsize = (15,5));"
   ]
  },
  {
   "cell_type": "markdown",
   "metadata": {},
   "source": [
    "Также как и в общей выборке имеется рост к четвергу, оданко падение цен к воскресенью не такое сильное<br/>"
   ]
  },
  {
   "cell_type": "markdown",
   "metadata": {},
   "source": [
    "Зависимость стоимости от месяца размещения объявления."
   ]
  },
  {
   "cell_type": "code",
   "execution_count": 93,
   "metadata": {},
   "outputs": [
    {
     "data": {
      "image/png": "[encoded data removed]",
      "text/plain": [
       "<Figure size 1080x360 with 1 Axes>"
      ]
     },
     "metadata": {
      "needs_background": "light"
     },
     "output_type": "display_data"
    }
   ],
   "source": [
    "center_spb_data.pivot_table(index = 'month_exposition', values = 'last_price').plot(figsize = (15,5));"
   ]
  },
  {
   "cell_type": "markdown",
   "metadata": {},
   "source": [
    "в отличие от общей выборки стоимость более равномерно распределена по месяцам, за исключением пиков цен в июне, декабре-январе"
   ]
  },
  {
   "cell_type": "markdown",
   "metadata": {},
   "source": [
    "Зависимость стоимости от года размещения объявления."
   ]
  },
  {
   "cell_type": "code",
   "execution_count": 94,
   "metadata": {},
   "outputs": [
    {
     "data": {
      "image/png": "[encoded data removed]",
      "text/plain": [
       "<Figure size 1080x360 with 1 Axes>"
      ]
     },
     "metadata": {
      "needs_background": "light"
     },
     "output_type": "display_data"
    }
   ],
   "source": [
    "center_spb_data.pivot_table(index = 'year_exposition', values = 'last_price').plot(figsize = (15,5));"
   ]
  },
  {
   "cell_type": "markdown",
   "metadata": {},
   "source": [
    "В отличие от общей выборки нет начала роста цен с 2018 года"
   ]
  },
  {
   "cell_type": "markdown",
   "metadata": {},
   "source": [
    "## Общий вывод"
   ]
  },
  {
   "cell_type": "markdown",
   "metadata": {},
   "source": [
    "В ходе исследования были обработаны пропущенные значения, произведена замена типов данных, в общий датафрейм добавлены столбцы с ценой квадратного метра жилья, дня недели, месяца и года размещения объявлений, добавлены категории по этажам квартир. Были определены аномалии в данных параметрах.\n",
    "\n",
    "В ходе исследования, сделаны выводы о ценообразовании:<br/>\n",
    "Наибольшее значение на цену квадратного метра квартры оказывает то в каком населенном пункте она находится. Самые дорогие кваритры в Санкт петербурге, тогда как в выборге цена практически в 2 раза меньше. Чем меньше населенный пункт, тем ниже цена.<br/>\n",
    "В пределах каждого населенного пункта самые доргие квартиры располагаются в центральной части города.<br/>\n",
    "на первом и последнем этажах квартиры самые дешевые. при этом квартиры на первом этаже дешевле чем на последнем<br/>\n",
    "Метраж квартиры имеет прямое сильное влияение на цену<br/>\n",
    "Наблюдается начало роста цен начиная с 2018 года<br/>\n",
    "Наблюдается падение цен перед летним периодом и в начале осени в среднем на 5 процентов.<br/>\n",
    "Наиболее дорогой квадратный метр имеют 1 комнатные квартиры в центре Петербурга.<br/>\n",
    "<br/>\n",
    "Замечены следующие наблюдения:<br/>\n",
    "в выборке представелены квартиры с площадью 150 кв. м. и больше, возможно при вводе вручную, были допущены ошибки. <br/>\n",
    "представлены квартиры с временем продажи несколько лет, возможно квартиры были проданы но не удалены из поиска. <br/>\n",
    "большая часть квартир продается в пределах 100 дней<br/>\n",
    "<br/>\n",
    "Наибольшее влияение на цену в пределах одного рассматриваемого года, оказывает расположение квартиры относительно центра города (чем ближе к центру тем дороже), Город размещения квартиры (чем крупнее населенный пункт тем дороже), этаж кваритиры (1 этаж значительно ниже в цене), а также метраж квартиры.<br/>\n",
    "<br/>\n",
    "Аномальными значениями может считаться сильное отклонение от медианных цен на кв.м в конкретном населенном пункте, сгруппированных по расстоянию от центра, и по этажам.<br/>\n",
    "А также квартиры с площадью более 150 кв.м. и временем размещения более 1 года.\n"
   ]
  }
 ],
 "metadata": {
  "ExecuteTimeLog": [
   {
    "duration": 738,
    "start_time": "2022-05-18T18:29:01.257Z"
   },
   {
    "duration": 304,
    "start_time": "2022-05-18T18:29:03.438Z"
   },
   {
    "duration": 53,
    "start_time": "2022-05-18T18:29:15.901Z"
   },
   {
    "duration": 83,
    "start_time": "2022-05-18T18:29:34.245Z"
   },
   {
    "duration": 7,
    "start_time": "2022-05-18T18:29:36.495Z"
   },
   {
    "duration": 4,
    "start_time": "2022-05-18T18:29:48.518Z"
   },
   {
    "duration": 84,
    "start_time": "2022-05-18T18:29:52.150Z"
   },
   {
    "duration": 50,
    "start_time": "2022-05-18T18:29:54.477Z"
   },
   {
    "duration": 29,
    "start_time": "2022-05-18T18:30:06.726Z"
   },
   {
    "duration": 38,
    "start_time": "2022-05-18T18:30:14.278Z"
   },
   {
    "duration": 85,
    "start_time": "2022-05-18T18:30:18.085Z"
   },
   {
    "duration": 70,
    "start_time": "2022-05-18T18:34:06.504Z"
   },
   {
    "duration": 85,
    "start_time": "2022-05-18T18:35:36.712Z"
   },
   {
    "duration": 88,
    "start_time": "2022-05-18T18:36:18.617Z"
   },
   {
    "duration": 3,
    "start_time": "2022-05-18T18:36:29.649Z"
   },
   {
    "duration": 72,
    "start_time": "2022-05-18T18:36:31.353Z"
   },
   {
    "duration": 2,
    "start_time": "2022-05-18T18:38:06.321Z"
   },
   {
    "duration": 70,
    "start_time": "2022-05-18T18:38:11.464Z"
   },
   {
    "duration": 424,
    "start_time": "2022-05-18T18:38:38.617Z"
   },
   {
    "duration": 34,
    "start_time": "2022-05-18T18:39:14.473Z"
   },
   {
    "duration": 141,
    "start_time": "2022-05-18T18:52:30.875Z"
   },
   {
    "duration": 379,
    "start_time": "2022-05-18T18:52:38.432Z"
   },
   {
    "duration": 126,
    "start_time": "2022-05-18T18:52:40.370Z"
   },
   {
    "duration": 20,
    "start_time": "2022-05-18T18:53:06.657Z"
   },
   {
    "duration": 69,
    "start_time": "2022-05-18T18:58:15.917Z"
   },
   {
    "duration": 100,
    "start_time": "2022-05-18T19:00:54.350Z"
   },
   {
    "duration": 22,
    "start_time": "2022-05-18T19:01:43.725Z"
   },
   {
    "duration": 17,
    "start_time": "2022-05-18T19:02:04.803Z"
   },
   {
    "duration": 15,
    "start_time": "2022-05-18T19:02:15.480Z"
   },
   {
    "duration": 89,
    "start_time": "2022-05-18T19:06:26.931Z"
   },
   {
    "duration": 5,
    "start_time": "2022-05-18T19:23:42.345Z"
   },
   {
    "duration": 4,
    "start_time": "2022-05-18T19:26:51.593Z"
   },
   {
    "duration": 5,
    "start_time": "2022-05-18T19:27:20.224Z"
   },
   {
    "duration": 44,
    "start_time": "2022-05-18T19:28:48.776Z"
   },
   {
    "duration": 5,
    "start_time": "2022-05-18T19:28:57.297Z"
   },
   {
    "duration": 13,
    "start_time": "2022-05-18T19:29:11.272Z"
   },
   {
    "duration": 24,
    "start_time": "2022-05-18T19:29:36.346Z"
   },
   {
    "duration": 10,
    "start_time": "2022-05-18T19:29:59.122Z"
   },
   {
    "duration": 14,
    "start_time": "2022-05-18T19:30:06.034Z"
   },
   {
    "duration": 41,
    "start_time": "2022-05-18T19:31:36.547Z"
   },
   {
    "duration": 6,
    "start_time": "2022-05-18T19:31:47.362Z"
   },
   {
    "duration": 7,
    "start_time": "2022-05-18T19:31:49.490Z"
   },
   {
    "duration": 6,
    "start_time": "2022-05-18T19:32:08.362Z"
   },
   {
    "duration": 6,
    "start_time": "2022-05-18T19:32:11.882Z"
   },
   {
    "duration": 11,
    "start_time": "2022-05-18T19:34:22.571Z"
   },
   {
    "duration": 30,
    "start_time": "2022-05-18T19:34:29.338Z"
   },
   {
    "duration": 8,
    "start_time": "2022-05-18T19:34:52.268Z"
   },
   {
    "duration": 7,
    "start_time": "2022-05-18T19:35:03.116Z"
   },
   {
    "duration": 9,
    "start_time": "2022-05-18T19:36:21.868Z"
   },
   {
    "duration": 8,
    "start_time": "2022-05-18T19:36:27.492Z"
   },
   {
    "duration": 8,
    "start_time": "2022-05-18T19:36:34.475Z"
   },
   {
    "duration": 6,
    "start_time": "2022-05-18T19:37:00.000Z"
   },
   {
    "duration": 12,
    "start_time": "2022-05-18T19:38:37.233Z"
   },
   {
    "duration": 5,
    "start_time": "2022-05-18T19:38:44.189Z"
   },
   {
    "duration": 44,
    "start_time": "2022-05-18T19:39:02.846Z"
   },
   {
    "duration": 30,
    "start_time": "2022-05-18T19:39:19.870Z"
   },
   {
    "duration": 10,
    "start_time": "2022-05-18T19:39:27.222Z"
   },
   {
    "duration": 8,
    "start_time": "2022-05-18T19:39:41.494Z"
   },
   {
    "duration": 59,
    "start_time": "2022-05-18T19:41:03.751Z"
   },
   {
    "duration": 44,
    "start_time": "2022-05-18T19:41:24.095Z"
   },
   {
    "duration": 28,
    "start_time": "2022-05-18T19:41:35.471Z"
   },
   {
    "duration": 8,
    "start_time": "2022-05-18T19:41:58.787Z"
   },
   {
    "duration": 8,
    "start_time": "2022-05-18T19:42:36.073Z"
   },
   {
    "duration": 7,
    "start_time": "2022-05-18T19:42:47.048Z"
   },
   {
    "duration": 13,
    "start_time": "2022-05-18T19:43:00.080Z"
   },
   {
    "duration": 9,
    "start_time": "2022-05-18T19:43:09.960Z"
   },
   {
    "duration": 10,
    "start_time": "2022-05-18T19:43:31.656Z"
   },
   {
    "duration": 11,
    "start_time": "2022-05-18T19:43:37.985Z"
   },
   {
    "duration": 9,
    "start_time": "2022-05-18T19:44:31.512Z"
   },
   {
    "duration": 23,
    "start_time": "2022-05-18T19:44:57.297Z"
   },
   {
    "duration": 11,
    "start_time": "2022-05-18T19:45:05.865Z"
   },
   {
    "duration": 8,
    "start_time": "2022-05-18T19:49:52.191Z"
   },
   {
    "duration": 9,
    "start_time": "2022-05-18T19:50:16.196Z"
   },
   {
    "duration": 8,
    "start_time": "2022-05-18T19:53:00.070Z"
   },
   {
    "duration": 9,
    "start_time": "2022-05-18T19:54:48.918Z"
   },
   {
    "duration": 9,
    "start_time": "2022-05-18T19:54:59.294Z"
   },
   {
    "duration": 15,
    "start_time": "2022-05-18T20:01:03.210Z"
   },
   {
    "duration": 9,
    "start_time": "2022-05-18T20:01:17.705Z"
   },
   {
    "duration": 11,
    "start_time": "2022-05-18T20:01:26.294Z"
   },
   {
    "duration": 8,
    "start_time": "2022-05-18T20:02:39.849Z"
   },
   {
    "duration": 8,
    "start_time": "2022-05-18T20:02:44.257Z"
   },
   {
    "duration": 8,
    "start_time": "2022-05-18T20:03:46.729Z"
   },
   {
    "duration": 11,
    "start_time": "2022-05-18T20:03:51.692Z"
   },
   {
    "duration": 8,
    "start_time": "2022-05-18T20:03:56.018Z"
   },
   {
    "duration": 957,
    "start_time": "2022-05-19T17:11:25.327Z"
   },
   {
    "duration": 88,
    "start_time": "2022-05-19T17:14:06.015Z"
   },
   {
    "duration": 3,
    "start_time": "2022-05-19T17:14:12.856Z"
   },
   {
    "duration": 225,
    "start_time": "2022-05-19T17:14:12.861Z"
   },
   {
    "duration": 16,
    "start_time": "2022-05-19T17:14:13.088Z"
   },
   {
    "duration": 248,
    "start_time": "2022-05-19T17:14:13.106Z"
   },
   {
    "duration": 7,
    "start_time": "2022-05-19T17:14:13.355Z"
   },
   {
    "duration": 21,
    "start_time": "2022-05-19T17:14:13.364Z"
   },
   {
    "duration": 8,
    "start_time": "2022-05-19T17:14:16.238Z"
   },
   {
    "duration": 6,
    "start_time": "2022-05-19T17:14:43.543Z"
   },
   {
    "duration": 29,
    "start_time": "2022-05-19T17:15:24.096Z"
   },
   {
    "duration": 6,
    "start_time": "2022-05-19T17:15:37.401Z"
   },
   {
    "duration": 12,
    "start_time": "2022-05-19T17:15:49.171Z"
   },
   {
    "duration": 450,
    "start_time": "2022-05-19T17:16:37.629Z"
   },
   {
    "duration": 137,
    "start_time": "2022-05-19T17:16:38.081Z"
   },
   {
    "duration": 18,
    "start_time": "2022-05-19T17:16:38.219Z"
   },
   {
    "duration": 102,
    "start_time": "2022-05-19T17:16:38.241Z"
   },
   {
    "duration": 18,
    "start_time": "2022-05-19T17:16:38.346Z"
   },
   {
    "duration": 16,
    "start_time": "2022-05-19T17:16:38.367Z"
   },
   {
    "duration": 5,
    "start_time": "2022-05-19T17:16:41.042Z"
   },
   {
    "duration": 14,
    "start_time": "2022-05-19T17:16:53.276Z"
   },
   {
    "duration": 17,
    "start_time": "2022-05-19T17:17:04.776Z"
   },
   {
    "duration": 99,
    "start_time": "2022-05-19T17:18:40.884Z"
   },
   {
    "duration": 22,
    "start_time": "2022-05-19T17:20:48.641Z"
   },
   {
    "duration": 21,
    "start_time": "2022-05-19T17:20:54.101Z"
   },
   {
    "duration": 23,
    "start_time": "2022-05-19T17:20:59.279Z"
   },
   {
    "duration": 23,
    "start_time": "2022-05-19T17:21:04.437Z"
   },
   {
    "duration": 1051,
    "start_time": "2022-05-19T17:29:29.002Z"
   },
   {
    "duration": 200,
    "start_time": "2022-05-19T17:30:33.418Z"
   },
   {
    "duration": 13,
    "start_time": "2022-05-19T17:32:28.442Z"
   },
   {
    "duration": 50,
    "start_time": "2022-05-19T17:34:27.059Z"
   },
   {
    "duration": 10,
    "start_time": "2022-05-19T17:36:02.673Z"
   },
   {
    "duration": 165,
    "start_time": "2022-05-19T17:36:44.279Z"
   },
   {
    "duration": 93,
    "start_time": "2022-05-19T17:37:03.436Z"
   },
   {
    "duration": 65,
    "start_time": "2022-05-19T17:37:08.084Z"
   },
   {
    "duration": 48,
    "start_time": "2022-05-19T17:37:12.780Z"
   },
   {
    "duration": 191,
    "start_time": "2022-05-19T17:37:16.644Z"
   },
   {
    "duration": 204,
    "start_time": "2022-05-19T17:37:21.445Z"
   },
   {
    "duration": 205,
    "start_time": "2022-05-19T17:37:32.599Z"
   },
   {
    "duration": 233,
    "start_time": "2022-05-19T17:37:53.060Z"
   },
   {
    "duration": 193,
    "start_time": "2022-05-19T17:38:02.012Z"
   },
   {
    "duration": 191,
    "start_time": "2022-05-19T17:38:09.908Z"
   },
   {
    "duration": 172,
    "start_time": "2022-05-19T17:38:15.882Z"
   },
   {
    "duration": 248,
    "start_time": "2022-05-19T17:38:26.283Z"
   },
   {
    "duration": 175,
    "start_time": "2022-05-19T17:38:37.042Z"
   },
   {
    "duration": 6,
    "start_time": "2022-05-19T17:39:14.533Z"
   },
   {
    "duration": 5,
    "start_time": "2022-05-19T17:39:39.533Z"
   },
   {
    "duration": 37,
    "start_time": "2022-05-19T17:40:30.701Z"
   },
   {
    "duration": 6,
    "start_time": "2022-05-19T17:40:51.582Z"
   },
   {
    "duration": 6,
    "start_time": "2022-05-19T17:43:42.681Z"
   },
   {
    "duration": 210,
    "start_time": "2022-05-19T17:43:46.703Z"
   },
   {
    "duration": 5,
    "start_time": "2022-05-19T17:44:04.907Z"
   },
   {
    "duration": 134,
    "start_time": "2022-05-19T17:44:04.915Z"
   },
   {
    "duration": 34,
    "start_time": "2022-05-19T17:44:05.052Z"
   },
   {
    "duration": 109,
    "start_time": "2022-05-19T17:44:05.090Z"
   },
   {
    "duration": 10,
    "start_time": "2022-05-19T17:44:05.200Z"
   },
   {
    "duration": 14,
    "start_time": "2022-05-19T17:44:05.213Z"
   },
   {
    "duration": 38,
    "start_time": "2022-05-19T17:44:05.230Z"
   },
   {
    "duration": 9,
    "start_time": "2022-05-19T17:44:05.274Z"
   },
   {
    "duration": 6,
    "start_time": "2022-05-19T17:44:09.495Z"
   },
   {
    "duration": 5,
    "start_time": "2022-05-19T17:44:11.831Z"
   },
   {
    "duration": 241,
    "start_time": "2022-05-19T17:44:13.687Z"
   },
   {
    "duration": 10,
    "start_time": "2022-05-19T17:45:38.688Z"
   },
   {
    "duration": 4,
    "start_time": "2022-05-19T17:45:47.754Z"
   },
   {
    "duration": 149,
    "start_time": "2022-05-19T17:45:47.761Z"
   },
   {
    "duration": 22,
    "start_time": "2022-05-19T17:45:47.912Z"
   },
   {
    "duration": 120,
    "start_time": "2022-05-19T17:45:47.937Z"
   },
   {
    "duration": 23,
    "start_time": "2022-05-19T17:45:48.059Z"
   },
   {
    "duration": 10,
    "start_time": "2022-05-19T17:45:48.084Z"
   },
   {
    "duration": 10,
    "start_time": "2022-05-19T17:45:48.096Z"
   },
   {
    "duration": 7,
    "start_time": "2022-05-19T17:45:50.530Z"
   },
   {
    "duration": 191,
    "start_time": "2022-05-19T17:45:54.335Z"
   },
   {
    "duration": 10,
    "start_time": "2022-05-19T17:46:15.537Z"
   },
   {
    "duration": 6,
    "start_time": "2022-05-19T17:46:57.289Z"
   },
   {
    "duration": 11,
    "start_time": "2022-05-19T17:47:29.648Z"
   },
   {
    "duration": 16,
    "start_time": "2022-05-19T17:49:11.465Z"
   },
   {
    "duration": 14,
    "start_time": "2022-05-19T17:49:21.180Z"
   },
   {
    "duration": 13,
    "start_time": "2022-05-19T17:49:39.113Z"
   },
   {
    "duration": 10,
    "start_time": "2022-05-19T17:49:55.746Z"
   },
   {
    "duration": 8,
    "start_time": "2022-05-19T17:50:20.291Z"
   },
   {
    "duration": 4,
    "start_time": "2022-05-19T17:50:44.458Z"
   },
   {
    "duration": 8,
    "start_time": "2022-05-19T17:50:49.290Z"
   },
   {
    "duration": 8,
    "start_time": "2022-05-19T17:52:25.646Z"
   },
   {
    "duration": 15,
    "start_time": "2022-05-19T17:53:53.670Z"
   },
   {
    "duration": 8,
    "start_time": "2022-05-19T17:54:15.586Z"
   },
   {
    "duration": 4,
    "start_time": "2022-05-19T17:58:06.202Z"
   },
   {
    "duration": 5,
    "start_time": "2022-05-19T17:59:32.049Z"
   },
   {
    "duration": 471,
    "start_time": "2022-05-19T17:59:39.957Z"
   },
   {
    "duration": 140,
    "start_time": "2022-05-19T17:59:40.430Z"
   },
   {
    "duration": 21,
    "start_time": "2022-05-19T17:59:40.573Z"
   },
   {
    "duration": 107,
    "start_time": "2022-05-19T17:59:40.597Z"
   },
   {
    "duration": 10,
    "start_time": "2022-05-19T17:59:40.706Z"
   },
   {
    "duration": 13,
    "start_time": "2022-05-19T17:59:40.717Z"
   },
   {
    "duration": 22,
    "start_time": "2022-05-19T17:59:40.731Z"
   },
   {
    "duration": 10,
    "start_time": "2022-05-19T17:59:40.754Z"
   },
   {
    "duration": 20,
    "start_time": "2022-05-19T17:59:40.766Z"
   },
   {
    "duration": 11,
    "start_time": "2022-05-19T17:59:40.788Z"
   },
   {
    "duration": 6,
    "start_time": "2022-05-19T17:59:40.801Z"
   },
   {
    "duration": 6,
    "start_time": "2022-05-19T18:00:15.650Z"
   },
   {
    "duration": 31,
    "start_time": "2022-05-19T18:00:26.802Z"
   },
   {
    "duration": 5,
    "start_time": "2022-05-19T18:03:14.448Z"
   },
   {
    "duration": 9,
    "start_time": "2022-05-19T18:04:09.189Z"
   },
   {
    "duration": 7,
    "start_time": "2022-05-19T18:05:33.682Z"
   },
   {
    "duration": 415,
    "start_time": "2022-05-19T18:05:41.691Z"
   },
   {
    "duration": 132,
    "start_time": "2022-05-19T18:05:42.108Z"
   },
   {
    "duration": 23,
    "start_time": "2022-05-19T18:05:42.242Z"
   },
   {
    "duration": 103,
    "start_time": "2022-05-19T18:05:42.268Z"
   },
   {
    "duration": 7,
    "start_time": "2022-05-19T18:05:42.373Z"
   },
   {
    "duration": 11,
    "start_time": "2022-05-19T18:05:42.382Z"
   },
   {
    "duration": 14,
    "start_time": "2022-05-19T18:05:42.395Z"
   },
   {
    "duration": 6,
    "start_time": "2022-05-19T18:05:44.577Z"
   },
   {
    "duration": 9,
    "start_time": "2022-05-19T18:06:08.512Z"
   },
   {
    "duration": 6,
    "start_time": "2022-05-19T18:06:52.416Z"
   },
   {
    "duration": 5,
    "start_time": "2022-05-19T18:07:05.561Z"
   },
   {
    "duration": 7,
    "start_time": "2022-05-19T18:07:18.641Z"
   },
   {
    "duration": 9,
    "start_time": "2022-05-19T18:10:28.648Z"
   },
   {
    "duration": 89,
    "start_time": "2022-05-19T18:12:42.060Z"
   },
   {
    "duration": 9,
    "start_time": "2022-05-19T18:16:23.196Z"
   },
   {
    "duration": 11,
    "start_time": "2022-05-19T18:17:23.581Z"
   },
   {
    "duration": 7,
    "start_time": "2022-05-19T18:17:28.268Z"
   },
   {
    "duration": 27,
    "start_time": "2022-05-19T18:19:14.621Z"
   },
   {
    "duration": 29,
    "start_time": "2022-05-19T18:19:20.334Z"
   },
   {
    "duration": 7,
    "start_time": "2022-05-19T18:19:42.407Z"
   },
   {
    "duration": 29,
    "start_time": "2022-05-19T18:19:51.878Z"
   },
   {
    "duration": 27,
    "start_time": "2022-05-19T18:20:36.648Z"
   },
   {
    "duration": 15,
    "start_time": "2022-05-19T18:20:41.071Z"
   },
   {
    "duration": 14,
    "start_time": "2022-05-19T18:21:04.543Z"
   },
   {
    "duration": 10,
    "start_time": "2022-05-19T18:21:45.111Z"
   },
   {
    "duration": 6,
    "start_time": "2022-05-19T18:24:37.873Z"
   },
   {
    "duration": 14,
    "start_time": "2022-05-19T18:25:04.433Z"
   },
   {
    "duration": 9,
    "start_time": "2022-05-19T18:25:08.891Z"
   },
   {
    "duration": 6,
    "start_time": "2022-05-19T18:25:28.600Z"
   },
   {
    "duration": 6,
    "start_time": "2022-05-19T18:25:31.648Z"
   },
   {
    "duration": 7,
    "start_time": "2022-05-19T18:28:01.713Z"
   },
   {
    "duration": 5,
    "start_time": "2022-05-19T18:28:41.442Z"
   },
   {
    "duration": 6,
    "start_time": "2022-05-19T18:30:07.273Z"
   },
   {
    "duration": 7,
    "start_time": "2022-05-19T18:30:29.906Z"
   },
   {
    "duration": 7,
    "start_time": "2022-05-19T18:31:05.074Z"
   },
   {
    "duration": 6,
    "start_time": "2022-05-19T18:32:10.987Z"
   },
   {
    "duration": 7,
    "start_time": "2022-05-19T18:35:04.835Z"
   },
   {
    "duration": 45,
    "start_time": "2022-05-19T18:44:56.483Z"
   },
   {
    "duration": 18,
    "start_time": "2022-05-19T18:45:07.971Z"
   },
   {
    "duration": 18,
    "start_time": "2022-05-19T18:45:30.974Z"
   },
   {
    "duration": 13,
    "start_time": "2022-05-19T19:05:41.084Z"
   },
   {
    "duration": 13,
    "start_time": "2022-05-19T19:05:48.681Z"
   },
   {
    "duration": 11,
    "start_time": "2022-05-19T19:05:54.680Z"
   },
   {
    "duration": 25,
    "start_time": "2022-05-19T19:05:59.757Z"
   },
   {
    "duration": 561,
    "start_time": "2022-05-19T19:06:21.887Z"
   },
   {
    "duration": 174,
    "start_time": "2022-05-19T19:06:22.450Z"
   },
   {
    "duration": 16,
    "start_time": "2022-05-19T19:06:22.626Z"
   },
   {
    "duration": 98,
    "start_time": "2022-05-19T19:06:22.644Z"
   },
   {
    "duration": 9,
    "start_time": "2022-05-19T19:06:22.744Z"
   },
   {
    "duration": 13,
    "start_time": "2022-05-19T19:06:22.765Z"
   },
   {
    "duration": 12,
    "start_time": "2022-05-19T19:06:22.781Z"
   },
   {
    "duration": 6,
    "start_time": "2022-05-19T19:06:22.795Z"
   },
   {
    "duration": 5,
    "start_time": "2022-05-19T19:06:22.802Z"
   },
   {
    "duration": 8,
    "start_time": "2022-05-19T19:06:22.809Z"
   },
   {
    "duration": 4,
    "start_time": "2022-05-19T19:06:22.819Z"
   },
   {
    "duration": 6,
    "start_time": "2022-05-19T19:06:22.825Z"
   },
   {
    "duration": 9,
    "start_time": "2022-05-19T19:06:22.874Z"
   },
   {
    "duration": 7,
    "start_time": "2022-05-19T19:06:22.885Z"
   },
   {
    "duration": 7,
    "start_time": "2022-05-19T19:06:22.894Z"
   },
   {
    "duration": 5,
    "start_time": "2022-05-19T19:06:22.903Z"
   },
   {
    "duration": 0,
    "start_time": "2022-05-19T19:06:22.910Z"
   },
   {
    "duration": 0,
    "start_time": "2022-05-19T19:06:22.911Z"
   },
   {
    "duration": 0,
    "start_time": "2022-05-19T19:06:22.912Z"
   },
   {
    "duration": 0,
    "start_time": "2022-05-19T19:06:22.913Z"
   },
   {
    "duration": 0,
    "start_time": "2022-05-19T19:06:22.914Z"
   },
   {
    "duration": 0,
    "start_time": "2022-05-19T19:06:22.918Z"
   },
   {
    "duration": 5,
    "start_time": "2022-05-19T19:06:22.943Z"
   },
   {
    "duration": 6,
    "start_time": "2022-05-19T19:06:37.243Z"
   },
   {
    "duration": 6,
    "start_time": "2022-05-19T19:06:41.644Z"
   },
   {
    "duration": 5,
    "start_time": "2022-05-19T19:06:55.515Z"
   },
   {
    "duration": 6,
    "start_time": "2022-05-19T19:07:12.851Z"
   },
   {
    "duration": 5,
    "start_time": "2022-05-19T19:07:16.344Z"
   },
   {
    "duration": 6,
    "start_time": "2022-05-19T19:07:17.691Z"
   },
   {
    "duration": 41,
    "start_time": "2022-05-19T19:07:19.163Z"
   },
   {
    "duration": 90,
    "start_time": "2022-05-19T19:07:26.019Z"
   },
   {
    "duration": 24,
    "start_time": "2022-05-19T19:08:23.269Z"
   },
   {
    "duration": 390,
    "start_time": "2022-05-19T19:08:40.512Z"
   },
   {
    "duration": 127,
    "start_time": "2022-05-19T19:08:40.904Z"
   },
   {
    "duration": 16,
    "start_time": "2022-05-19T19:08:41.033Z"
   },
   {
    "duration": 93,
    "start_time": "2022-05-19T19:08:41.051Z"
   },
   {
    "duration": 20,
    "start_time": "2022-05-19T19:08:41.146Z"
   },
   {
    "duration": 10,
    "start_time": "2022-05-19T19:08:41.168Z"
   },
   {
    "duration": 8,
    "start_time": "2022-05-19T19:08:41.180Z"
   },
   {
    "duration": 6,
    "start_time": "2022-05-19T19:08:41.190Z"
   },
   {
    "duration": 5,
    "start_time": "2022-05-19T19:08:41.198Z"
   },
   {
    "duration": 10,
    "start_time": "2022-05-19T19:08:41.206Z"
   },
   {
    "duration": 4,
    "start_time": "2022-05-19T19:08:41.218Z"
   },
   {
    "duration": 6,
    "start_time": "2022-05-19T19:08:41.224Z"
   },
   {
    "duration": 8,
    "start_time": "2022-05-19T19:08:41.264Z"
   },
   {
    "duration": 8,
    "start_time": "2022-05-19T19:08:41.274Z"
   },
   {
    "duration": 11,
    "start_time": "2022-05-19T19:08:41.284Z"
   },
   {
    "duration": 13,
    "start_time": "2022-05-19T19:08:41.297Z"
   },
   {
    "duration": 9,
    "start_time": "2022-05-19T19:08:41.312Z"
   },
   {
    "duration": 7,
    "start_time": "2022-05-19T19:08:41.323Z"
   },
   {
    "duration": 7,
    "start_time": "2022-05-19T19:08:41.331Z"
   },
   {
    "duration": 7,
    "start_time": "2022-05-19T19:08:45.092Z"
   },
   {
    "duration": 27,
    "start_time": "2022-05-19T19:08:49.491Z"
   },
   {
    "duration": 297,
    "start_time": "2022-05-19T19:10:15.444Z"
   },
   {
    "duration": 1591,
    "start_time": "2022-05-19T19:11:24.676Z"
   },
   {
    "duration": 675,
    "start_time": "2022-05-19T19:14:24.684Z"
   },
   {
    "duration": 0,
    "start_time": "2022-05-19T19:14:25.361Z"
   },
   {
    "duration": 612,
    "start_time": "2022-05-19T19:14:33.545Z"
   },
   {
    "duration": 195,
    "start_time": "2022-05-19T19:14:34.160Z"
   },
   {
    "duration": 25,
    "start_time": "2022-05-19T19:14:34.357Z"
   },
   {
    "duration": 136,
    "start_time": "2022-05-19T19:14:34.384Z"
   },
   {
    "duration": 10,
    "start_time": "2022-05-19T19:14:34.522Z"
   },
   {
    "duration": 30,
    "start_time": "2022-05-19T19:14:34.534Z"
   },
   {
    "duration": 11,
    "start_time": "2022-05-19T19:14:34.567Z"
   },
   {
    "duration": 17,
    "start_time": "2022-05-19T19:14:34.580Z"
   },
   {
    "duration": 14,
    "start_time": "2022-05-19T19:14:34.600Z"
   },
   {
    "duration": 27,
    "start_time": "2022-05-19T19:14:34.618Z"
   },
   {
    "duration": 25,
    "start_time": "2022-05-19T19:14:34.648Z"
   },
   {
    "duration": 10,
    "start_time": "2022-05-19T19:14:34.675Z"
   },
   {
    "duration": 19,
    "start_time": "2022-05-19T19:14:34.687Z"
   },
   {
    "duration": 16,
    "start_time": "2022-05-19T19:14:34.707Z"
   },
   {
    "duration": 11,
    "start_time": "2022-05-19T19:14:34.725Z"
   },
   {
    "duration": 9,
    "start_time": "2022-05-19T19:14:34.738Z"
   },
   {
    "duration": 16,
    "start_time": "2022-05-19T19:14:34.749Z"
   },
   {
    "duration": 14,
    "start_time": "2022-05-19T19:14:34.770Z"
   },
   {
    "duration": 13,
    "start_time": "2022-05-19T19:14:34.786Z"
   },
   {
    "duration": 18,
    "start_time": "2022-05-19T19:14:34.801Z"
   },
   {
    "duration": 8,
    "start_time": "2022-05-19T19:14:34.821Z"
   },
   {
    "duration": 10,
    "start_time": "2022-05-19T19:14:34.832Z"
   },
   {
    "duration": 24,
    "start_time": "2022-05-19T19:14:34.844Z"
   },
   {
    "duration": 32,
    "start_time": "2022-05-19T19:14:34.872Z"
   },
   {
    "duration": 20,
    "start_time": "2022-05-19T19:14:34.906Z"
   },
   {
    "duration": 19,
    "start_time": "2022-05-19T19:14:34.928Z"
   },
   {
    "duration": 9,
    "start_time": "2022-05-19T19:14:34.950Z"
   },
   {
    "duration": 479,
    "start_time": "2022-05-19T19:14:34.963Z"
   },
   {
    "duration": 1529,
    "start_time": "2022-05-19T19:14:35.444Z"
   },
   {
    "duration": 10,
    "start_time": "2022-05-19T19:52:51.812Z"
   },
   {
    "duration": 5,
    "start_time": "2022-05-19T19:55:55.399Z"
   },
   {
    "duration": 6,
    "start_time": "2022-05-19T20:01:40.091Z"
   },
   {
    "duration": 24,
    "start_time": "2022-05-19T20:02:01.954Z"
   },
   {
    "duration": 87,
    "start_time": "2022-05-19T20:04:39.766Z"
   },
   {
    "duration": 82,
    "start_time": "2022-05-19T20:04:48.594Z"
   },
   {
    "duration": 8,
    "start_time": "2022-05-19T20:05:03.283Z"
   },
   {
    "duration": 4,
    "start_time": "2022-05-19T20:05:13.802Z"
   },
   {
    "duration": 16,
    "start_time": "2022-05-19T20:05:24.339Z"
   },
   {
    "duration": 16,
    "start_time": "2022-05-19T20:06:02.412Z"
   },
   {
    "duration": 9,
    "start_time": "2022-05-19T20:06:11.811Z"
   },
   {
    "duration": 16,
    "start_time": "2022-05-19T20:06:23.004Z"
   },
   {
    "duration": 3,
    "start_time": "2022-05-19T20:10:43.640Z"
   },
   {
    "duration": 170,
    "start_time": "2022-05-19T20:10:43.645Z"
   },
   {
    "duration": 16,
    "start_time": "2022-05-19T20:10:43.817Z"
   },
   {
    "duration": 158,
    "start_time": "2022-05-19T20:10:43.836Z"
   },
   {
    "duration": 10,
    "start_time": "2022-05-19T20:10:43.996Z"
   },
   {
    "duration": 12,
    "start_time": "2022-05-19T20:10:44.009Z"
   },
   {
    "duration": 8,
    "start_time": "2022-05-19T20:10:44.022Z"
   },
   {
    "duration": 34,
    "start_time": "2022-05-19T20:10:44.032Z"
   },
   {
    "duration": 6,
    "start_time": "2022-05-19T20:10:44.068Z"
   },
   {
    "duration": 11,
    "start_time": "2022-05-19T20:10:44.077Z"
   },
   {
    "duration": 9,
    "start_time": "2022-05-19T20:10:44.090Z"
   },
   {
    "duration": 11,
    "start_time": "2022-05-19T20:10:44.101Z"
   },
   {
    "duration": 9,
    "start_time": "2022-05-19T20:10:44.114Z"
   },
   {
    "duration": 5,
    "start_time": "2022-05-19T20:10:44.125Z"
   },
   {
    "duration": 7,
    "start_time": "2022-05-19T20:10:44.167Z"
   },
   {
    "duration": 11,
    "start_time": "2022-05-19T20:10:44.176Z"
   },
   {
    "duration": 6,
    "start_time": "2022-05-19T20:10:44.189Z"
   },
   {
    "duration": 6,
    "start_time": "2022-05-19T20:10:44.197Z"
   },
   {
    "duration": 8,
    "start_time": "2022-05-19T20:10:44.205Z"
   },
   {
    "duration": 8,
    "start_time": "2022-05-19T20:10:44.215Z"
   },
   {
    "duration": 7,
    "start_time": "2022-05-19T20:10:44.266Z"
   },
   {
    "duration": 6,
    "start_time": "2022-05-19T20:10:44.275Z"
   },
   {
    "duration": 6,
    "start_time": "2022-05-19T20:10:44.284Z"
   },
   {
    "duration": 17,
    "start_time": "2022-05-19T20:10:44.292Z"
   },
   {
    "duration": 3,
    "start_time": "2022-05-19T20:10:44.311Z"
   },
   {
    "duration": 6,
    "start_time": "2022-05-19T20:10:44.316Z"
   },
   {
    "duration": 7,
    "start_time": "2022-05-19T20:10:44.364Z"
   },
   {
    "duration": 6,
    "start_time": "2022-05-19T20:10:44.378Z"
   },
   {
    "duration": 8,
    "start_time": "2022-05-19T20:10:44.444Z"
   },
   {
    "duration": 3,
    "start_time": "2022-05-19T20:10:44.492Z"
   },
   {
    "duration": 496,
    "start_time": "2022-05-19T20:10:44.565Z"
   },
   {
    "duration": 6,
    "start_time": "2022-05-19T20:10:45.063Z"
   },
   {
    "duration": 18,
    "start_time": "2022-05-19T20:10:45.071Z"
   },
   {
    "duration": 1140,
    "start_time": "2022-05-19T20:10:45.092Z"
   },
   {
    "duration": 444,
    "start_time": "2022-05-19T20:11:46.068Z"
   },
   {
    "duration": 468,
    "start_time": "2022-05-19T20:12:15.116Z"
   },
   {
    "duration": 358,
    "start_time": "2022-05-19T20:12:21.041Z"
   },
   {
    "duration": 375,
    "start_time": "2022-05-19T20:12:32.213Z"
   },
   {
    "duration": 359,
    "start_time": "2022-05-19T20:12:44.964Z"
   },
   {
    "duration": 292,
    "start_time": "2022-05-19T20:13:49.045Z"
   },
   {
    "duration": 222,
    "start_time": "2022-05-19T20:17:35.335Z"
   },
   {
    "duration": 247,
    "start_time": "2022-05-19T20:17:41.761Z"
   },
   {
    "duration": 266,
    "start_time": "2022-05-19T20:17:54.265Z"
   },
   {
    "duration": 346,
    "start_time": "2022-05-19T20:18:00.520Z"
   },
   {
    "duration": 218,
    "start_time": "2022-05-19T20:19:07.561Z"
   },
   {
    "duration": 287,
    "start_time": "2022-05-19T20:20:14.155Z"
   },
   {
    "duration": 242,
    "start_time": "2022-05-19T20:20:34.450Z"
   },
   {
    "duration": 146,
    "start_time": "2022-05-19T20:20:55.144Z"
   },
   {
    "duration": 216,
    "start_time": "2022-05-19T20:21:06.514Z"
   },
   {
    "duration": 55,
    "start_time": "2022-05-21T07:40:40.388Z"
   },
   {
    "duration": 764,
    "start_time": "2022-05-21T07:40:43.529Z"
   },
   {
    "duration": 183,
    "start_time": "2022-05-21T07:40:44.295Z"
   },
   {
    "duration": 14,
    "start_time": "2022-05-21T07:40:44.480Z"
   },
   {
    "duration": 119,
    "start_time": "2022-05-21T07:40:44.496Z"
   },
   {
    "duration": 10,
    "start_time": "2022-05-21T07:40:44.618Z"
   },
   {
    "duration": 70,
    "start_time": "2022-05-21T07:40:44.630Z"
   },
   {
    "duration": 55,
    "start_time": "2022-05-21T07:40:44.703Z"
   },
   {
    "duration": 26,
    "start_time": "2022-05-21T07:40:44.760Z"
   },
   {
    "duration": 38,
    "start_time": "2022-05-21T07:40:44.788Z"
   },
   {
    "duration": 47,
    "start_time": "2022-05-21T07:40:44.829Z"
   },
   {
    "duration": 36,
    "start_time": "2022-05-21T07:40:44.878Z"
   },
   {
    "duration": 30,
    "start_time": "2022-05-21T07:40:44.915Z"
   },
   {
    "duration": 61,
    "start_time": "2022-05-21T07:40:44.947Z"
   },
   {
    "duration": 61,
    "start_time": "2022-05-21T07:40:45.010Z"
   },
   {
    "duration": 57,
    "start_time": "2022-05-21T07:40:45.072Z"
   },
   {
    "duration": 30,
    "start_time": "2022-05-21T07:40:45.131Z"
   },
   {
    "duration": 68,
    "start_time": "2022-05-21T07:40:45.163Z"
   },
   {
    "duration": 52,
    "start_time": "2022-05-21T07:40:45.233Z"
   },
   {
    "duration": 32,
    "start_time": "2022-05-21T07:40:45.287Z"
   },
   {
    "duration": 79,
    "start_time": "2022-05-21T07:40:45.321Z"
   },
   {
    "duration": 140,
    "start_time": "2022-05-21T07:40:45.402Z"
   },
   {
    "duration": 73,
    "start_time": "2022-05-21T07:40:45.544Z"
   },
   {
    "duration": 31,
    "start_time": "2022-05-21T07:40:45.619Z"
   },
   {
    "duration": 48,
    "start_time": "2022-05-21T07:40:45.657Z"
   },
   {
    "duration": 64,
    "start_time": "2022-05-21T07:40:45.707Z"
   },
   {
    "duration": 36,
    "start_time": "2022-05-21T07:40:45.773Z"
   },
   {
    "duration": 46,
    "start_time": "2022-05-21T07:40:45.811Z"
   },
   {
    "duration": 36,
    "start_time": "2022-05-21T07:40:45.875Z"
   },
   {
    "duration": 63,
    "start_time": "2022-05-21T07:40:45.912Z"
   },
   {
    "duration": 23,
    "start_time": "2022-05-21T07:40:45.977Z"
   },
   {
    "duration": 341,
    "start_time": "2022-05-21T07:40:46.002Z"
   },
   {
    "duration": 22,
    "start_time": "2022-05-21T07:40:46.345Z"
   },
   {
    "duration": 28,
    "start_time": "2022-05-21T07:40:46.368Z"
   },
   {
    "duration": 862,
    "start_time": "2022-05-21T07:40:46.397Z"
   },
   {
    "duration": 325,
    "start_time": "2022-05-21T07:40:56.530Z"
   },
   {
    "duration": 415,
    "start_time": "2022-05-21T07:41:03.878Z"
   },
   {
    "duration": 341,
    "start_time": "2022-05-21T07:41:09.129Z"
   },
   {
    "duration": 362,
    "start_time": "2022-05-21T07:41:13.882Z"
   },
   {
    "duration": 354,
    "start_time": "2022-05-21T07:41:21.082Z"
   },
   {
    "duration": 347,
    "start_time": "2022-05-21T07:41:25.181Z"
   },
   {
    "duration": 271,
    "start_time": "2022-05-21T07:42:15.379Z"
   },
   {
    "duration": 165,
    "start_time": "2022-05-21T07:42:19.507Z"
   },
   {
    "duration": 288,
    "start_time": "2022-05-21T07:42:23.818Z"
   },
   {
    "duration": 221,
    "start_time": "2022-05-21T07:42:28.391Z"
   },
   {
    "duration": 259,
    "start_time": "2022-05-21T07:42:38.026Z"
   },
   {
    "duration": 412,
    "start_time": "2022-05-21T07:43:01.715Z"
   },
   {
    "duration": 274,
    "start_time": "2022-05-21T07:43:16.193Z"
   },
   {
    "duration": 278,
    "start_time": "2022-05-21T07:46:39.489Z"
   },
   {
    "duration": 279,
    "start_time": "2022-05-21T07:53:09.527Z"
   },
   {
    "duration": 342,
    "start_time": "2022-05-21T07:53:49.665Z"
   },
   {
    "duration": 214,
    "start_time": "2022-05-21T07:53:57.112Z"
   },
   {
    "duration": 199,
    "start_time": "2022-05-21T07:54:00.297Z"
   },
   {
    "duration": 189,
    "start_time": "2022-05-21T07:54:07.800Z"
   },
   {
    "duration": 195,
    "start_time": "2022-05-21T07:54:14.313Z"
   },
   {
    "duration": 258,
    "start_time": "2022-05-21T07:54:25.107Z"
   },
   {
    "duration": 224,
    "start_time": "2022-05-21T07:54:29.231Z"
   },
   {
    "duration": 204,
    "start_time": "2022-05-21T07:54:34.203Z"
   },
   {
    "duration": 223,
    "start_time": "2022-05-21T07:54:59.617Z"
   },
   {
    "duration": 251,
    "start_time": "2022-05-21T07:55:10.307Z"
   },
   {
    "duration": 324,
    "start_time": "2022-05-21T07:55:22.916Z"
   },
   {
    "duration": 189,
    "start_time": "2022-05-21T07:55:28.899Z"
   },
   {
    "duration": 188,
    "start_time": "2022-05-21T07:55:33.388Z"
   },
   {
    "duration": 187,
    "start_time": "2022-05-21T07:55:36.465Z"
   },
   {
    "duration": 208,
    "start_time": "2022-05-21T07:55:40.689Z"
   },
   {
    "duration": 251,
    "start_time": "2022-05-21T07:55:44.908Z"
   },
   {
    "duration": 224,
    "start_time": "2022-05-21T07:55:51.877Z"
   },
   {
    "duration": 203,
    "start_time": "2022-05-21T07:55:56.927Z"
   },
   {
    "duration": 290,
    "start_time": "2022-05-21T07:56:26.469Z"
   },
   {
    "duration": 32,
    "start_time": "2022-05-21T07:56:48.808Z"
   },
   {
    "duration": 271,
    "start_time": "2022-05-21T07:57:04.207Z"
   },
   {
    "duration": 351,
    "start_time": "2022-05-21T07:57:14.530Z"
   },
   {
    "duration": 247,
    "start_time": "2022-05-21T07:59:47.627Z"
   },
   {
    "duration": 266,
    "start_time": "2022-05-21T08:01:00.301Z"
   },
   {
    "duration": 270,
    "start_time": "2022-05-21T08:01:09.819Z"
   },
   {
    "duration": 272,
    "start_time": "2022-05-21T08:01:14.923Z"
   },
   {
    "duration": 315,
    "start_time": "2022-05-21T08:01:19.613Z"
   },
   {
    "duration": 221,
    "start_time": "2022-05-21T08:01:32.521Z"
   },
   {
    "duration": 188,
    "start_time": "2022-05-21T08:01:36.991Z"
   },
   {
    "duration": 257,
    "start_time": "2022-05-21T08:01:43.410Z"
   },
   {
    "duration": 217,
    "start_time": "2022-05-21T08:03:16.004Z"
   },
   {
    "duration": 194,
    "start_time": "2022-05-21T08:03:32.816Z"
   },
   {
    "duration": 299,
    "start_time": "2022-05-21T08:03:39.896Z"
   },
   {
    "duration": 276,
    "start_time": "2022-05-21T08:03:52.013Z"
   },
   {
    "duration": 296,
    "start_time": "2022-05-21T08:04:18.604Z"
   },
   {
    "duration": 220,
    "start_time": "2022-05-21T08:04:22.473Z"
   },
   {
    "duration": 10,
    "start_time": "2022-05-21T08:11:16.386Z"
   },
   {
    "duration": 9,
    "start_time": "2022-05-21T08:11:23.281Z"
   },
   {
    "duration": 11,
    "start_time": "2022-05-21T08:11:26.681Z"
   },
   {
    "duration": 246,
    "start_time": "2022-05-21T08:12:04.093Z"
   },
   {
    "duration": 258,
    "start_time": "2022-05-21T08:12:11.403Z"
   },
   {
    "duration": 278,
    "start_time": "2022-05-21T08:12:23.087Z"
   },
   {
    "duration": 271,
    "start_time": "2022-05-21T08:13:20.679Z"
   },
   {
    "duration": 3,
    "start_time": "2022-05-21T08:14:37.327Z"
   },
   {
    "duration": 193,
    "start_time": "2022-05-21T08:14:37.333Z"
   },
   {
    "duration": 31,
    "start_time": "2022-05-21T08:14:37.528Z"
   },
   {
    "duration": 85,
    "start_time": "2022-05-21T08:14:37.560Z"
   },
   {
    "duration": 18,
    "start_time": "2022-05-21T08:14:37.648Z"
   },
   {
    "duration": 16,
    "start_time": "2022-05-21T08:14:37.668Z"
   },
   {
    "duration": 9,
    "start_time": "2022-05-21T08:14:37.685Z"
   },
   {
    "duration": 12,
    "start_time": "2022-05-21T08:14:37.696Z"
   },
   {
    "duration": 7,
    "start_time": "2022-05-21T08:14:37.709Z"
   },
   {
    "duration": 10,
    "start_time": "2022-05-21T08:14:37.717Z"
   },
   {
    "duration": 4,
    "start_time": "2022-05-21T08:14:37.731Z"
   },
   {
    "duration": 25,
    "start_time": "2022-05-21T08:14:37.737Z"
   },
   {
    "duration": 13,
    "start_time": "2022-05-21T08:14:37.765Z"
   },
   {
    "duration": 5,
    "start_time": "2022-05-21T08:14:37.780Z"
   },
   {
    "duration": 9,
    "start_time": "2022-05-21T08:14:37.786Z"
   },
   {
    "duration": 7,
    "start_time": "2022-05-21T08:14:37.797Z"
   },
   {
    "duration": 22,
    "start_time": "2022-05-21T08:14:37.805Z"
   },
   {
    "duration": 15,
    "start_time": "2022-05-21T08:14:37.828Z"
   },
   {
    "duration": 22,
    "start_time": "2022-05-21T08:14:37.845Z"
   },
   {
    "duration": 14,
    "start_time": "2022-05-21T08:14:37.868Z"
   },
   {
    "duration": 28,
    "start_time": "2022-05-21T08:14:37.883Z"
   },
   {
    "duration": 21,
    "start_time": "2022-05-21T08:14:37.913Z"
   },
   {
    "duration": 33,
    "start_time": "2022-05-21T08:14:37.936Z"
   },
   {
    "duration": 18,
    "start_time": "2022-05-21T08:14:37.971Z"
   },
   {
    "duration": 9,
    "start_time": "2022-05-21T08:14:37.990Z"
   },
   {
    "duration": 9,
    "start_time": "2022-05-21T08:14:38.000Z"
   },
   {
    "duration": 14,
    "start_time": "2022-05-21T08:14:38.011Z"
   },
   {
    "duration": 7,
    "start_time": "2022-05-21T08:14:38.026Z"
   },
   {
    "duration": 3,
    "start_time": "2022-05-21T08:14:38.037Z"
   },
   {
    "duration": 398,
    "start_time": "2022-05-21T08:14:38.042Z"
   },
   {
    "duration": 4,
    "start_time": "2022-05-21T08:14:38.442Z"
   },
   {
    "duration": 20,
    "start_time": "2022-05-21T08:14:38.447Z"
   },
   {
    "duration": 266,
    "start_time": "2022-05-21T08:14:38.468Z"
   },
   {
    "duration": 281,
    "start_time": "2022-05-21T08:14:38.736Z"
   },
   {
    "duration": 295,
    "start_time": "2022-05-21T08:14:39.019Z"
   },
   {
    "duration": 236,
    "start_time": "2022-05-21T08:14:39.316Z"
   },
   {
    "duration": 306,
    "start_time": "2022-05-21T08:14:42.111Z"
   },
   {
    "duration": 391,
    "start_time": "2022-05-21T08:15:43.476Z"
   },
   {
    "duration": 291,
    "start_time": "2022-05-21T08:17:08.305Z"
   },
   {
    "duration": 269,
    "start_time": "2022-05-21T08:17:17.578Z"
   },
   {
    "duration": 64,
    "start_time": "2022-05-21T08:21:15.568Z"
   },
   {
    "duration": 17,
    "start_time": "2022-05-21T08:22:07.427Z"
   },
   {
    "duration": 2,
    "start_time": "2022-05-21T08:22:18.377Z"
   },
   {
    "duration": 112,
    "start_time": "2022-05-21T08:22:18.382Z"
   },
   {
    "duration": 15,
    "start_time": "2022-05-21T08:22:18.496Z"
   },
   {
    "duration": 103,
    "start_time": "2022-05-21T08:22:18.512Z"
   },
   {
    "duration": 7,
    "start_time": "2022-05-21T08:22:18.617Z"
   },
   {
    "duration": 9,
    "start_time": "2022-05-21T08:22:18.626Z"
   },
   {
    "duration": 25,
    "start_time": "2022-05-21T08:22:18.636Z"
   },
   {
    "duration": 17,
    "start_time": "2022-05-21T08:22:18.663Z"
   },
   {
    "duration": 8,
    "start_time": "2022-05-21T08:22:18.681Z"
   },
   {
    "duration": 12,
    "start_time": "2022-05-21T08:22:18.691Z"
   },
   {
    "duration": 5,
    "start_time": "2022-05-21T08:22:18.705Z"
   },
   {
    "duration": 8,
    "start_time": "2022-05-21T08:22:18.712Z"
   },
   {
    "duration": 9,
    "start_time": "2022-05-21T08:22:18.721Z"
   },
   {
    "duration": 37,
    "start_time": "2022-05-21T08:22:18.731Z"
   },
   {
    "duration": 5,
    "start_time": "2022-05-21T08:22:18.770Z"
   },
   {
    "duration": 8,
    "start_time": "2022-05-21T08:22:18.777Z"
   },
   {
    "duration": 6,
    "start_time": "2022-05-21T08:22:18.786Z"
   },
   {
    "duration": 7,
    "start_time": "2022-05-21T08:22:18.793Z"
   },
   {
    "duration": 9,
    "start_time": "2022-05-21T08:22:18.802Z"
   },
   {
    "duration": 8,
    "start_time": "2022-05-21T08:22:18.812Z"
   },
   {
    "duration": 11,
    "start_time": "2022-05-21T08:22:18.822Z"
   },
   {
    "duration": 5,
    "start_time": "2022-05-21T08:22:18.835Z"
   },
   {
    "duration": 13,
    "start_time": "2022-05-21T08:22:18.855Z"
   },
   {
    "duration": 7,
    "start_time": "2022-05-21T08:22:18.870Z"
   },
   {
    "duration": 7,
    "start_time": "2022-05-21T08:22:18.878Z"
   },
   {
    "duration": 7,
    "start_time": "2022-05-21T08:22:18.887Z"
   },
   {
    "duration": 9,
    "start_time": "2022-05-21T08:22:18.896Z"
   },
   {
    "duration": 6,
    "start_time": "2022-05-21T08:22:18.906Z"
   },
   {
    "duration": 4,
    "start_time": "2022-05-21T08:22:18.913Z"
   },
   {
    "duration": 310,
    "start_time": "2022-05-21T08:22:18.918Z"
   },
   {
    "duration": 4,
    "start_time": "2022-05-21T08:22:19.230Z"
   },
   {
    "duration": 7,
    "start_time": "2022-05-21T08:22:19.235Z"
   },
   {
    "duration": 273,
    "start_time": "2022-05-21T08:22:19.243Z"
   },
   {
    "duration": 387,
    "start_time": "2022-05-21T08:22:19.517Z"
   },
   {
    "duration": 306,
    "start_time": "2022-05-21T08:22:19.906Z"
   },
   {
    "duration": 227,
    "start_time": "2022-05-21T08:22:20.214Z"
   },
   {
    "duration": 278,
    "start_time": "2022-05-21T08:22:20.443Z"
   },
   {
    "duration": 604,
    "start_time": "2022-05-21T08:22:20.723Z"
   },
   {
    "duration": 93,
    "start_time": "2022-05-21T08:25:02.376Z"
   },
   {
    "duration": 172,
    "start_time": "2022-05-21T08:25:55.685Z"
   },
   {
    "duration": 194,
    "start_time": "2022-05-21T08:27:12.569Z"
   },
   {
    "duration": 262,
    "start_time": "2022-05-21T08:27:46.871Z"
   },
   {
    "duration": 224,
    "start_time": "2022-05-21T08:28:36.351Z"
   },
   {
    "duration": 213,
    "start_time": "2022-05-21T08:29:46.076Z"
   },
   {
    "duration": 155,
    "start_time": "2022-05-21T08:30:10.379Z"
   },
   {
    "duration": 226,
    "start_time": "2022-05-21T08:31:17.885Z"
   },
   {
    "duration": 232,
    "start_time": "2022-05-21T08:32:03.225Z"
   },
   {
    "duration": 34,
    "start_time": "2022-05-21T08:32:52.885Z"
   },
   {
    "duration": 8,
    "start_time": "2022-05-21T08:33:18.929Z"
   },
   {
    "duration": 28,
    "start_time": "2022-05-21T08:33:21.320Z"
   },
   {
    "duration": 8,
    "start_time": "2022-05-21T08:33:23.476Z"
   },
   {
    "duration": 246,
    "start_time": "2022-05-21T08:34:07.301Z"
   },
   {
    "duration": 10,
    "start_time": "2022-05-21T08:37:41.878Z"
   },
   {
    "duration": 234,
    "start_time": "2022-05-21T08:38:00.811Z"
   },
   {
    "duration": 206,
    "start_time": "2022-05-21T08:40:51.880Z"
   },
   {
    "duration": 219,
    "start_time": "2022-05-21T08:41:47.749Z"
   },
   {
    "duration": 176,
    "start_time": "2022-05-21T08:42:30.864Z"
   },
   {
    "duration": 215,
    "start_time": "2022-05-21T08:42:55.219Z"
   },
   {
    "duration": 69,
    "start_time": "2022-05-22T13:37:09.806Z"
   },
   {
    "duration": 1113,
    "start_time": "2022-05-22T13:37:14.666Z"
   },
   {
    "duration": 380,
    "start_time": "2022-05-22T13:37:15.781Z"
   },
   {
    "duration": 22,
    "start_time": "2022-05-22T13:37:16.163Z"
   },
   {
    "duration": 111,
    "start_time": "2022-05-22T13:37:16.187Z"
   },
   {
    "duration": 8,
    "start_time": "2022-05-22T13:37:16.299Z"
   },
   {
    "duration": 9,
    "start_time": "2022-05-22T13:37:16.308Z"
   },
   {
    "duration": 35,
    "start_time": "2022-05-22T13:37:16.318Z"
   },
   {
    "duration": 6,
    "start_time": "2022-05-22T13:37:16.358Z"
   },
   {
    "duration": 7,
    "start_time": "2022-05-22T13:37:16.365Z"
   },
   {
    "duration": 10,
    "start_time": "2022-05-22T13:37:16.374Z"
   },
   {
    "duration": 4,
    "start_time": "2022-05-22T13:37:16.386Z"
   },
   {
    "duration": 8,
    "start_time": "2022-05-22T13:37:16.391Z"
   },
   {
    "duration": 10,
    "start_time": "2022-05-22T13:37:16.400Z"
   },
   {
    "duration": 37,
    "start_time": "2022-05-22T13:37:16.412Z"
   },
   {
    "duration": 15,
    "start_time": "2022-05-22T13:37:16.450Z"
   },
   {
    "duration": 7,
    "start_time": "2022-05-22T13:37:16.467Z"
   },
   {
    "duration": 7,
    "start_time": "2022-05-22T13:37:16.476Z"
   },
   {
    "duration": 8,
    "start_time": "2022-05-22T13:37:16.484Z"
   },
   {
    "duration": 5,
    "start_time": "2022-05-22T13:37:16.494Z"
   },
   {
    "duration": 8,
    "start_time": "2022-05-22T13:37:16.500Z"
   },
   {
    "duration": 9,
    "start_time": "2022-05-22T13:37:16.509Z"
   },
   {
    "duration": 26,
    "start_time": "2022-05-22T13:37:16.520Z"
   },
   {
    "duration": 14,
    "start_time": "2022-05-22T13:37:16.552Z"
   },
   {
    "duration": 4,
    "start_time": "2022-05-22T13:37:16.568Z"
   },
   {
    "duration": 6,
    "start_time": "2022-05-22T13:37:16.573Z"
   },
   {
    "duration": 7,
    "start_time": "2022-05-22T13:37:16.581Z"
   },
   {
    "duration": 5,
    "start_time": "2022-05-22T13:37:16.590Z"
   },
   {
    "duration": 5,
    "start_time": "2022-05-22T13:37:16.599Z"
   },
   {
    "duration": 7,
    "start_time": "2022-05-22T13:37:16.605Z"
   },
   {
    "duration": 357,
    "start_time": "2022-05-22T13:37:16.613Z"
   },
   {
    "duration": 5,
    "start_time": "2022-05-22T13:37:16.972Z"
   },
   {
    "duration": 10,
    "start_time": "2022-05-22T13:37:16.979Z"
   },
   {
    "duration": 324,
    "start_time": "2022-05-22T13:37:16.991Z"
   },
   {
    "duration": 291,
    "start_time": "2022-05-22T13:37:17.317Z"
   },
   {
    "duration": 353,
    "start_time": "2022-05-22T13:37:17.610Z"
   },
   {
    "duration": 223,
    "start_time": "2022-05-22T13:37:17.964Z"
   },
   {
    "duration": 291,
    "start_time": "2022-05-22T13:37:18.189Z"
   },
   {
    "duration": 614,
    "start_time": "2022-05-22T13:37:18.482Z"
   },
   {
    "duration": 182,
    "start_time": "2022-05-22T13:37:19.098Z"
   },
   {
    "duration": 4,
    "start_time": "2022-05-22T13:37:19.282Z"
   },
   {
    "duration": 0,
    "start_time": "2022-05-22T13:37:19.288Z"
   },
   {
    "duration": 0,
    "start_time": "2022-05-22T13:37:19.289Z"
   },
   {
    "duration": 0,
    "start_time": "2022-05-22T13:37:19.290Z"
   },
   {
    "duration": 0,
    "start_time": "2022-05-22T13:37:19.291Z"
   },
   {
    "duration": 0,
    "start_time": "2022-05-22T13:37:19.292Z"
   },
   {
    "duration": 0,
    "start_time": "2022-05-22T13:37:19.293Z"
   },
   {
    "duration": 0,
    "start_time": "2022-05-22T13:37:19.294Z"
   },
   {
    "duration": 0,
    "start_time": "2022-05-22T13:37:19.295Z"
   },
   {
    "duration": 0,
    "start_time": "2022-05-22T13:37:19.296Z"
   },
   {
    "duration": 0,
    "start_time": "2022-05-22T13:37:19.297Z"
   },
   {
    "duration": 0,
    "start_time": "2022-05-22T13:37:19.298Z"
   },
   {
    "duration": 0,
    "start_time": "2022-05-22T13:37:19.300Z"
   },
   {
    "duration": 0,
    "start_time": "2022-05-22T13:37:19.301Z"
   },
   {
    "duration": 0,
    "start_time": "2022-05-22T13:37:19.302Z"
   },
   {
    "duration": 0,
    "start_time": "2022-05-22T13:37:19.303Z"
   },
   {
    "duration": 0,
    "start_time": "2022-05-22T13:37:19.341Z"
   },
   {
    "duration": 0,
    "start_time": "2022-05-22T13:37:19.342Z"
   },
   {
    "duration": 8,
    "start_time": "2022-05-22T13:37:33.323Z"
   },
   {
    "duration": 45,
    "start_time": "2022-05-22T13:44:03.570Z"
   },
   {
    "duration": 6,
    "start_time": "2022-05-22T13:44:19.677Z"
   },
   {
    "duration": 9,
    "start_time": "2022-05-22T13:44:35.173Z"
   },
   {
    "duration": 14,
    "start_time": "2022-05-22T13:44:57.751Z"
   },
   {
    "duration": 7,
    "start_time": "2022-05-22T13:45:33.256Z"
   },
   {
    "duration": 7,
    "start_time": "2022-05-22T13:45:43.901Z"
   },
   {
    "duration": 15,
    "start_time": "2022-05-22T13:46:11.173Z"
   },
   {
    "duration": 17,
    "start_time": "2022-05-22T13:46:36.903Z"
   },
   {
    "duration": 6,
    "start_time": "2022-05-22T13:48:15.598Z"
   },
   {
    "duration": 17,
    "start_time": "2022-05-22T13:48:24.302Z"
   },
   {
    "duration": 13,
    "start_time": "2022-05-22T13:49:32.678Z"
   },
   {
    "duration": 19,
    "start_time": "2022-05-22T13:49:49.928Z"
   },
   {
    "duration": 6,
    "start_time": "2022-05-22T13:49:53.155Z"
   },
   {
    "duration": 6,
    "start_time": "2022-05-22T13:52:59.009Z"
   },
   {
    "duration": 43,
    "start_time": "2022-05-22T13:53:45.490Z"
   },
   {
    "duration": 8,
    "start_time": "2022-05-22T13:55:03.504Z"
   },
   {
    "duration": 6,
    "start_time": "2022-05-22T13:55:21.561Z"
   },
   {
    "duration": 7,
    "start_time": "2022-05-22T13:55:28.289Z"
   },
   {
    "duration": 33,
    "start_time": "2022-05-22T13:58:11.053Z"
   },
   {
    "duration": 32,
    "start_time": "2022-05-22T13:58:30.193Z"
   },
   {
    "duration": 36,
    "start_time": "2022-05-22T13:58:53.930Z"
   },
   {
    "duration": 8,
    "start_time": "2022-05-22T14:03:20.264Z"
   },
   {
    "duration": 9,
    "start_time": "2022-05-22T14:03:45.420Z"
   },
   {
    "duration": 19,
    "start_time": "2022-05-22T14:03:51.843Z"
   },
   {
    "duration": 7,
    "start_time": "2022-05-22T14:03:57.420Z"
   },
   {
    "duration": 42,
    "start_time": "2022-05-22T14:04:02.096Z"
   },
   {
    "duration": 35,
    "start_time": "2022-05-22T14:04:19.605Z"
   },
   {
    "duration": 37,
    "start_time": "2022-05-22T14:04:44.333Z"
   },
   {
    "duration": 8,
    "start_time": "2022-05-22T14:05:37.924Z"
   },
   {
    "duration": 712,
    "start_time": "2022-05-22T14:06:15.179Z"
   },
   {
    "duration": 568,
    "start_time": "2022-05-22T14:06:24.388Z"
   },
   {
    "duration": 563,
    "start_time": "2022-05-22T14:06:27.438Z"
   },
   {
    "duration": 8,
    "start_time": "2022-05-22T14:06:35.780Z"
   },
   {
    "duration": 14,
    "start_time": "2022-05-22T14:07:25.259Z"
   },
   {
    "duration": 17,
    "start_time": "2022-05-22T14:08:42.502Z"
   },
   {
    "duration": 12,
    "start_time": "2022-05-22T14:09:45.423Z"
   },
   {
    "duration": 15,
    "start_time": "2022-05-22T14:09:54.902Z"
   },
   {
    "duration": 12,
    "start_time": "2022-05-22T14:12:19.711Z"
   },
   {
    "duration": 13,
    "start_time": "2022-05-22T14:12:46.488Z"
   },
   {
    "duration": 36,
    "start_time": "2022-05-22T14:12:51.468Z"
   },
   {
    "duration": 17,
    "start_time": "2022-05-22T14:13:55.988Z"
   },
   {
    "duration": 4,
    "start_time": "2022-05-22T14:14:09.463Z"
   },
   {
    "duration": 231,
    "start_time": "2022-05-22T14:14:09.469Z"
   },
   {
    "duration": 15,
    "start_time": "2022-05-22T14:14:09.702Z"
   },
   {
    "duration": 102,
    "start_time": "2022-05-22T14:14:09.719Z"
   },
   {
    "duration": 10,
    "start_time": "2022-05-22T14:14:09.823Z"
   },
   {
    "duration": 40,
    "start_time": "2022-05-22T14:14:09.842Z"
   },
   {
    "duration": 16,
    "start_time": "2022-05-22T14:14:09.884Z"
   },
   {
    "duration": 16,
    "start_time": "2022-05-22T14:14:09.903Z"
   },
   {
    "duration": 27,
    "start_time": "2022-05-22T14:14:09.921Z"
   },
   {
    "duration": 11,
    "start_time": "2022-05-22T14:14:09.950Z"
   },
   {
    "duration": 6,
    "start_time": "2022-05-22T14:14:10.093Z"
   },
   {
    "duration": 50,
    "start_time": "2022-05-22T14:14:10.101Z"
   },
   {
    "duration": 36,
    "start_time": "2022-05-22T14:14:13.688Z"
   },
   {
    "duration": 6,
    "start_time": "2022-05-22T14:14:45.919Z"
   },
   {
    "duration": 8,
    "start_time": "2022-05-22T14:14:57.968Z"
   },
   {
    "duration": 5,
    "start_time": "2022-05-22T14:15:52.504Z"
   },
   {
    "duration": 5,
    "start_time": "2022-05-22T14:16:24.297Z"
   },
   {
    "duration": 6,
    "start_time": "2022-05-22T14:16:34.256Z"
   },
   {
    "duration": 5,
    "start_time": "2022-05-22T14:16:37.832Z"
   },
   {
    "duration": 13,
    "start_time": "2022-05-22T14:24:12.572Z"
   },
   {
    "duration": 2,
    "start_time": "2022-05-22T14:24:19.173Z"
   },
   {
    "duration": 337,
    "start_time": "2022-05-22T14:24:19.177Z"
   },
   {
    "duration": 15,
    "start_time": "2022-05-22T14:24:19.516Z"
   },
   {
    "duration": 96,
    "start_time": "2022-05-22T14:24:19.532Z"
   },
   {
    "duration": 25,
    "start_time": "2022-05-22T14:24:19.630Z"
   },
   {
    "duration": 12,
    "start_time": "2022-05-22T14:24:19.657Z"
   },
   {
    "duration": 7,
    "start_time": "2022-05-22T14:24:19.670Z"
   },
   {
    "duration": 6,
    "start_time": "2022-05-22T14:24:19.679Z"
   },
   {
    "duration": 8,
    "start_time": "2022-05-22T14:24:19.687Z"
   },
   {
    "duration": 5,
    "start_time": "2022-05-22T14:24:19.697Z"
   },
   {
    "duration": 6,
    "start_time": "2022-05-22T14:24:19.704Z"
   },
   {
    "duration": 34,
    "start_time": "2022-05-22T14:24:19.745Z"
   },
   {
    "duration": 6,
    "start_time": "2022-05-22T14:24:19.780Z"
   },
   {
    "duration": 65,
    "start_time": "2022-05-22T14:24:19.788Z"
   },
   {
    "duration": 9,
    "start_time": "2022-05-22T14:24:19.856Z"
   },
   {
    "duration": 8,
    "start_time": "2022-05-22T14:24:19.867Z"
   },
   {
    "duration": 12,
    "start_time": "2022-05-22T14:24:19.877Z"
   },
   {
    "duration": 10,
    "start_time": "2022-05-22T14:24:19.890Z"
   },
   {
    "duration": 12,
    "start_time": "2022-05-22T14:24:19.907Z"
   },
   {
    "duration": 40,
    "start_time": "2022-05-22T14:28:03.357Z"
   },
   {
    "duration": 61,
    "start_time": "2022-05-22T14:41:41.811Z"
   },
   {
    "duration": 44,
    "start_time": "2022-05-22T14:46:51.624Z"
   },
   {
    "duration": 18,
    "start_time": "2022-05-22T14:48:00.066Z"
   },
   {
    "duration": 8,
    "start_time": "2022-05-22T14:50:57.768Z"
   },
   {
    "duration": 152,
    "start_time": "2022-05-22T14:50:57.779Z"
   },
   {
    "duration": 24,
    "start_time": "2022-05-22T14:50:57.932Z"
   },
   {
    "duration": 99,
    "start_time": "2022-05-22T14:50:57.965Z"
   },
   {
    "duration": 11,
    "start_time": "2022-05-22T14:50:58.066Z"
   },
   {
    "duration": 8,
    "start_time": "2022-05-22T14:50:58.079Z"
   },
   {
    "duration": 8,
    "start_time": "2022-05-22T14:50:58.089Z"
   },
   {
    "duration": 6,
    "start_time": "2022-05-22T14:50:58.098Z"
   },
   {
    "duration": 12,
    "start_time": "2022-05-22T14:50:58.105Z"
   },
   {
    "duration": 24,
    "start_time": "2022-05-22T14:50:58.118Z"
   },
   {
    "duration": 7,
    "start_time": "2022-05-22T14:50:58.144Z"
   },
   {
    "duration": 55,
    "start_time": "2022-05-22T14:50:58.152Z"
   },
   {
    "duration": 5,
    "start_time": "2022-05-22T14:50:58.208Z"
   },
   {
    "duration": 48,
    "start_time": "2022-05-22T14:50:58.216Z"
   },
   {
    "duration": 7,
    "start_time": "2022-05-22T14:50:58.266Z"
   },
   {
    "duration": 6,
    "start_time": "2022-05-22T14:50:58.275Z"
   },
   {
    "duration": 8,
    "start_time": "2022-05-22T14:50:58.283Z"
   },
   {
    "duration": 8,
    "start_time": "2022-05-22T14:50:58.293Z"
   },
   {
    "duration": 6,
    "start_time": "2022-05-22T14:50:58.303Z"
   },
   {
    "duration": 70,
    "start_time": "2022-05-22T14:50:58.310Z"
   },
   {
    "duration": 6,
    "start_time": "2022-05-22T14:50:58.381Z"
   },
   {
    "duration": 16,
    "start_time": "2022-05-22T14:50:58.389Z"
   },
   {
    "duration": 8,
    "start_time": "2022-05-22T14:50:58.407Z"
   },
   {
    "duration": 58,
    "start_time": "2022-05-22T14:50:58.417Z"
   },
   {
    "duration": 12,
    "start_time": "2022-05-22T14:50:58.479Z"
   },
   {
    "duration": 3,
    "start_time": "2022-05-22T14:50:58.493Z"
   },
   {
    "duration": 6,
    "start_time": "2022-05-22T14:50:58.498Z"
   },
   {
    "duration": 7,
    "start_time": "2022-05-22T14:50:58.505Z"
   },
   {
    "duration": 6,
    "start_time": "2022-05-22T14:50:58.513Z"
   },
   {
    "duration": 9,
    "start_time": "2022-05-22T14:50:58.541Z"
   },
   {
    "duration": 29,
    "start_time": "2022-05-22T14:50:58.552Z"
   },
   {
    "duration": 431,
    "start_time": "2022-05-22T14:50:58.583Z"
   },
   {
    "duration": 3,
    "start_time": "2022-05-22T14:50:59.018Z"
   },
   {
    "duration": 9,
    "start_time": "2022-05-22T14:50:59.023Z"
   },
   {
    "duration": 307,
    "start_time": "2022-05-22T14:50:59.034Z"
   },
   {
    "duration": 291,
    "start_time": "2022-05-22T14:50:59.342Z"
   },
   {
    "duration": 362,
    "start_time": "2022-05-22T14:50:59.635Z"
   },
   {
    "duration": 283,
    "start_time": "2022-05-22T14:51:00.001Z"
   },
   {
    "duration": 300,
    "start_time": "2022-05-22T14:51:00.286Z"
   },
   {
    "duration": 785,
    "start_time": "2022-05-22T14:51:00.593Z"
   },
   {
    "duration": 15,
    "start_time": "2022-05-22T14:51:01.380Z"
   },
   {
    "duration": 0,
    "start_time": "2022-05-22T14:51:01.397Z"
   },
   {
    "duration": 0,
    "start_time": "2022-05-22T14:51:01.399Z"
   },
   {
    "duration": 0,
    "start_time": "2022-05-22T14:51:01.400Z"
   },
   {
    "duration": 0,
    "start_time": "2022-05-22T14:51:01.401Z"
   },
   {
    "duration": 0,
    "start_time": "2022-05-22T14:51:01.402Z"
   },
   {
    "duration": 0,
    "start_time": "2022-05-22T14:51:01.403Z"
   },
   {
    "duration": 0,
    "start_time": "2022-05-22T14:51:01.404Z"
   },
   {
    "duration": 0,
    "start_time": "2022-05-22T14:51:01.405Z"
   },
   {
    "duration": 0,
    "start_time": "2022-05-22T14:51:01.406Z"
   },
   {
    "duration": 0,
    "start_time": "2022-05-22T14:51:01.407Z"
   },
   {
    "duration": 0,
    "start_time": "2022-05-22T14:51:01.408Z"
   },
   {
    "duration": 0,
    "start_time": "2022-05-22T14:51:01.409Z"
   },
   {
    "duration": 0,
    "start_time": "2022-05-22T14:51:01.409Z"
   },
   {
    "duration": 0,
    "start_time": "2022-05-22T14:51:01.410Z"
   },
   {
    "duration": 0,
    "start_time": "2022-05-22T14:51:01.411Z"
   },
   {
    "duration": 0,
    "start_time": "2022-05-22T14:51:01.446Z"
   },
   {
    "duration": 0,
    "start_time": "2022-05-22T14:51:01.451Z"
   },
   {
    "duration": 0,
    "start_time": "2022-05-22T14:51:01.452Z"
   },
   {
    "duration": 799,
    "start_time": "2022-05-22T14:51:16.789Z"
   },
   {
    "duration": 147,
    "start_time": "2022-05-22T14:51:17.590Z"
   },
   {
    "duration": 37,
    "start_time": "2022-05-22T14:51:17.738Z"
   },
   {
    "duration": 97,
    "start_time": "2022-05-22T14:51:17.778Z"
   },
   {
    "duration": 9,
    "start_time": "2022-05-22T14:51:17.876Z"
   },
   {
    "duration": 22,
    "start_time": "2022-05-22T14:51:17.886Z"
   },
   {
    "duration": 8,
    "start_time": "2022-05-22T14:51:17.910Z"
   },
   {
    "duration": 6,
    "start_time": "2022-05-22T14:51:17.920Z"
   },
   {
    "duration": 35,
    "start_time": "2022-05-22T14:51:17.928Z"
   },
   {
    "duration": 5,
    "start_time": "2022-05-22T14:51:17.966Z"
   },
   {
    "duration": 8,
    "start_time": "2022-05-22T14:51:17.973Z"
   },
   {
    "duration": 31,
    "start_time": "2022-05-22T14:51:17.983Z"
   },
   {
    "duration": 6,
    "start_time": "2022-05-22T14:51:18.015Z"
   },
   {
    "duration": 71,
    "start_time": "2022-05-22T14:51:18.022Z"
   },
   {
    "duration": 9,
    "start_time": "2022-05-22T14:51:18.095Z"
   },
   {
    "duration": 7,
    "start_time": "2022-05-22T14:51:18.106Z"
   },
   {
    "duration": 15,
    "start_time": "2022-05-22T14:51:18.115Z"
   },
   {
    "duration": 15,
    "start_time": "2022-05-22T14:51:18.132Z"
   },
   {
    "duration": 29,
    "start_time": "2022-05-22T14:51:18.148Z"
   },
   {
    "duration": 40,
    "start_time": "2022-05-22T14:51:18.179Z"
   },
   {
    "duration": 6,
    "start_time": "2022-05-22T14:51:18.221Z"
   },
   {
    "duration": 10,
    "start_time": "2022-05-22T14:51:18.228Z"
   },
   {
    "duration": 38,
    "start_time": "2022-05-22T14:51:18.240Z"
   },
   {
    "duration": 32,
    "start_time": "2022-05-22T14:51:18.279Z"
   },
   {
    "duration": 13,
    "start_time": "2022-05-22T14:51:18.313Z"
   },
   {
    "duration": 4,
    "start_time": "2022-05-22T14:51:18.328Z"
   },
   {
    "duration": 13,
    "start_time": "2022-05-22T14:51:18.334Z"
   },
   {
    "duration": 33,
    "start_time": "2022-05-22T14:51:18.353Z"
   },
   {
    "duration": 10,
    "start_time": "2022-05-22T14:51:18.388Z"
   },
   {
    "duration": 7,
    "start_time": "2022-05-22T14:51:18.400Z"
   },
   {
    "duration": 8,
    "start_time": "2022-05-22T14:51:18.408Z"
   },
   {
    "duration": 340,
    "start_time": "2022-05-22T14:51:18.417Z"
   },
   {
    "duration": 12,
    "start_time": "2022-05-22T14:51:18.760Z"
   },
   {
    "duration": 5,
    "start_time": "2022-05-22T14:51:18.774Z"
   },
   {
    "duration": 306,
    "start_time": "2022-05-22T14:51:18.780Z"
   },
   {
    "duration": 317,
    "start_time": "2022-05-22T14:51:19.088Z"
   },
   {
    "duration": 409,
    "start_time": "2022-05-22T14:51:19.407Z"
   },
   {
    "duration": 281,
    "start_time": "2022-05-22T14:51:19.818Z"
   },
   {
    "duration": 289,
    "start_time": "2022-05-22T14:51:20.101Z"
   },
   {
    "duration": 690,
    "start_time": "2022-05-22T14:51:20.391Z"
   },
   {
    "duration": 119,
    "start_time": "2022-05-22T14:51:21.083Z"
   },
   {
    "duration": 0,
    "start_time": "2022-05-22T14:51:21.203Z"
   },
   {
    "duration": 0,
    "start_time": "2022-05-22T14:51:21.205Z"
   },
   {
    "duration": 0,
    "start_time": "2022-05-22T14:51:21.206Z"
   },
   {
    "duration": 0,
    "start_time": "2022-05-22T14:51:21.207Z"
   },
   {
    "duration": 0,
    "start_time": "2022-05-22T14:51:21.208Z"
   },
   {
    "duration": 0,
    "start_time": "2022-05-22T14:51:21.209Z"
   },
   {
    "duration": 0,
    "start_time": "2022-05-22T14:51:21.210Z"
   },
   {
    "duration": 0,
    "start_time": "2022-05-22T14:51:21.212Z"
   },
   {
    "duration": 0,
    "start_time": "2022-05-22T14:51:21.213Z"
   },
   {
    "duration": 0,
    "start_time": "2022-05-22T14:51:21.214Z"
   },
   {
    "duration": 0,
    "start_time": "2022-05-22T14:51:21.215Z"
   },
   {
    "duration": 0,
    "start_time": "2022-05-22T14:51:21.249Z"
   },
   {
    "duration": 0,
    "start_time": "2022-05-22T14:51:21.253Z"
   },
   {
    "duration": 0,
    "start_time": "2022-05-22T14:51:21.253Z"
   },
   {
    "duration": 0,
    "start_time": "2022-05-22T14:51:21.254Z"
   },
   {
    "duration": 0,
    "start_time": "2022-05-22T14:51:21.255Z"
   },
   {
    "duration": 0,
    "start_time": "2022-05-22T14:51:21.256Z"
   },
   {
    "duration": 0,
    "start_time": "2022-05-22T14:51:21.257Z"
   },
   {
    "duration": 163,
    "start_time": "2022-05-22T14:51:52.080Z"
   },
   {
    "duration": 27,
    "start_time": "2022-05-22T14:52:27.982Z"
   },
   {
    "duration": 174,
    "start_time": "2022-05-22T14:52:32.725Z"
   },
   {
    "duration": 300,
    "start_time": "2022-05-22T14:54:10.870Z"
   },
   {
    "duration": 370,
    "start_time": "2022-05-22T14:55:06.364Z"
   },
   {
    "duration": 299,
    "start_time": "2022-05-22T14:55:15.468Z"
   },
   {
    "duration": 309,
    "start_time": "2022-05-22T14:55:19.199Z"
   },
   {
    "duration": 268,
    "start_time": "2022-05-22T14:55:28.777Z"
   },
   {
    "duration": 351,
    "start_time": "2022-05-22T14:57:50.266Z"
   },
   {
    "duration": 471,
    "start_time": "2022-05-22T14:58:26.904Z"
   },
   {
    "duration": 430,
    "start_time": "2022-05-22T15:00:56.891Z"
   },
   {
    "duration": 133,
    "start_time": "2022-05-22T15:01:16.629Z"
   },
   {
    "duration": 288,
    "start_time": "2022-05-22T15:01:55.512Z"
   },
   {
    "duration": 320,
    "start_time": "2022-05-22T15:02:23.385Z"
   },
   {
    "duration": 270,
    "start_time": "2022-05-22T15:03:23.967Z"
   },
   {
    "duration": 329,
    "start_time": "2022-05-22T15:03:36.985Z"
   },
   {
    "duration": 392,
    "start_time": "2022-05-22T15:03:43.269Z"
   },
   {
    "duration": 305,
    "start_time": "2022-05-22T15:04:00.513Z"
   },
   {
    "duration": 275,
    "start_time": "2022-05-22T15:04:05.258Z"
   },
   {
    "duration": 352,
    "start_time": "2022-05-22T15:04:12.000Z"
   },
   {
    "duration": 315,
    "start_time": "2022-05-22T15:04:21.069Z"
   },
   {
    "duration": 545,
    "start_time": "2022-05-22T15:04:44.506Z"
   },
   {
    "duration": 460,
    "start_time": "2022-05-22T15:04:57.098Z"
   },
   {
    "duration": 392,
    "start_time": "2022-05-22T15:05:41.776Z"
   },
   {
    "duration": 352,
    "start_time": "2022-05-22T15:09:16.168Z"
   },
   {
    "duration": 362,
    "start_time": "2022-05-22T15:09:30.028Z"
   },
   {
    "duration": 281,
    "start_time": "2022-05-22T15:19:07.468Z"
   },
   {
    "duration": 371,
    "start_time": "2022-05-22T15:19:51.863Z"
   },
   {
    "duration": 301,
    "start_time": "2022-05-22T15:20:27.725Z"
   },
   {
    "duration": 301,
    "start_time": "2022-05-22T15:20:55.518Z"
   },
   {
    "duration": 140,
    "start_time": "2022-05-22T15:21:23.358Z"
   },
   {
    "duration": 221,
    "start_time": "2022-05-22T15:21:32.179Z"
   },
   {
    "duration": 293,
    "start_time": "2022-05-22T15:21:48.910Z"
   },
   {
    "duration": 275,
    "start_time": "2022-05-22T15:22:04.057Z"
   },
   {
    "duration": 354,
    "start_time": "2022-05-22T15:23:17.970Z"
   },
   {
    "duration": 290,
    "start_time": "2022-05-22T15:27:21.941Z"
   },
   {
    "duration": 281,
    "start_time": "2022-05-22T15:27:25.867Z"
   },
   {
    "duration": 10,
    "start_time": "2022-05-22T15:37:06.304Z"
   },
   {
    "duration": 10,
    "start_time": "2022-05-22T15:37:29.204Z"
   },
   {
    "duration": 11,
    "start_time": "2022-05-22T15:37:39.362Z"
   },
   {
    "duration": 23,
    "start_time": "2022-05-22T15:37:49.935Z"
   },
   {
    "duration": 9,
    "start_time": "2022-05-22T15:37:55.830Z"
   },
   {
    "duration": 11,
    "start_time": "2022-05-22T15:38:22.231Z"
   },
   {
    "duration": 13,
    "start_time": "2022-05-22T15:38:34.193Z"
   },
   {
    "duration": 11,
    "start_time": "2022-05-22T15:38:46.365Z"
   },
   {
    "duration": 20,
    "start_time": "2022-05-22T15:38:51.843Z"
   },
   {
    "duration": 12,
    "start_time": "2022-05-22T15:39:01.605Z"
   },
   {
    "duration": 17,
    "start_time": "2022-05-22T15:39:14.267Z"
   },
   {
    "duration": 15,
    "start_time": "2022-05-22T15:39:23.444Z"
   },
   {
    "duration": 13,
    "start_time": "2022-05-22T15:39:27.875Z"
   },
   {
    "duration": 14,
    "start_time": "2022-05-22T15:39:39.990Z"
   },
   {
    "duration": 13,
    "start_time": "2022-05-22T15:40:38.910Z"
   },
   {
    "duration": 12,
    "start_time": "2022-05-22T15:40:44.405Z"
   },
   {
    "duration": 12,
    "start_time": "2022-05-22T15:40:59.390Z"
   },
   {
    "duration": 16,
    "start_time": "2022-05-22T15:41:09.181Z"
   },
   {
    "duration": 13,
    "start_time": "2022-05-22T15:48:11.310Z"
   },
   {
    "duration": 25,
    "start_time": "2022-05-22T15:48:18.062Z"
   },
   {
    "duration": 15,
    "start_time": "2022-05-22T16:25:31.812Z"
   },
   {
    "duration": 16,
    "start_time": "2022-05-22T16:25:38.552Z"
   },
   {
    "duration": 15,
    "start_time": "2022-05-22T16:26:56.223Z"
   },
   {
    "duration": 16,
    "start_time": "2022-05-22T16:33:52.135Z"
   },
   {
    "duration": 18,
    "start_time": "2022-05-22T16:34:01.214Z"
   },
   {
    "duration": 9,
    "start_time": "2022-05-22T16:40:57.817Z"
   },
   {
    "duration": 14,
    "start_time": "2022-05-22T16:41:03.415Z"
   },
   {
    "duration": 374,
    "start_time": "2022-05-22T16:45:02.626Z"
   },
   {
    "duration": 286,
    "start_time": "2022-05-22T16:45:42.963Z"
   },
   {
    "duration": 12,
    "start_time": "2022-05-22T16:47:15.941Z"
   },
   {
    "duration": 10,
    "start_time": "2022-05-22T16:51:52.832Z"
   },
   {
    "duration": 18,
    "start_time": "2022-05-22T16:52:48.085Z"
   },
   {
    "duration": 24,
    "start_time": "2022-05-22T16:54:09.562Z"
   },
   {
    "duration": 17,
    "start_time": "2022-05-22T16:54:20.015Z"
   },
   {
    "duration": 67,
    "start_time": "2022-05-22T16:54:31.622Z"
   },
   {
    "duration": 27,
    "start_time": "2022-05-22T16:54:36.686Z"
   },
   {
    "duration": 17,
    "start_time": "2022-05-22T16:54:48.760Z"
   },
   {
    "duration": 20,
    "start_time": "2022-05-22T16:58:05.415Z"
   },
   {
    "duration": 52,
    "start_time": "2022-05-22T16:59:46.553Z"
   },
   {
    "duration": 47,
    "start_time": "2022-05-22T17:00:17.114Z"
   },
   {
    "duration": 44,
    "start_time": "2022-05-22T17:00:27.366Z"
   },
   {
    "duration": 11,
    "start_time": "2022-05-22T17:01:06.380Z"
   },
   {
    "duration": 20,
    "start_time": "2022-05-22T17:01:47.074Z"
   },
   {
    "duration": 40,
    "start_time": "2022-05-22T17:01:54.785Z"
   },
   {
    "duration": 38,
    "start_time": "2022-05-22T17:02:34.662Z"
   },
   {
    "duration": 23,
    "start_time": "2022-05-22T17:03:00.754Z"
   },
   {
    "duration": 26,
    "start_time": "2022-05-22T17:03:14.706Z"
   },
   {
    "duration": 35,
    "start_time": "2022-05-22T17:04:16.713Z"
   },
   {
    "duration": 9,
    "start_time": "2022-05-22T17:04:42.491Z"
   },
   {
    "duration": 8,
    "start_time": "2022-05-22T17:05:02.667Z"
   },
   {
    "duration": 8,
    "start_time": "2022-05-22T17:05:13.483Z"
   },
   {
    "duration": 10,
    "start_time": "2022-05-22T17:05:21.018Z"
   },
   {
    "duration": 14,
    "start_time": "2022-05-22T17:07:15.533Z"
   },
   {
    "duration": 10,
    "start_time": "2022-05-22T17:07:23.372Z"
   },
   {
    "duration": 11,
    "start_time": "2022-05-22T17:07:40.180Z"
   },
   {
    "duration": 10,
    "start_time": "2022-05-22T17:07:54.628Z"
   },
   {
    "duration": 11,
    "start_time": "2022-05-22T17:08:13.204Z"
   },
   {
    "duration": 14,
    "start_time": "2022-05-22T17:08:36.708Z"
   },
   {
    "duration": 11,
    "start_time": "2022-05-22T17:09:09.395Z"
   },
   {
    "duration": 11,
    "start_time": "2022-05-22T17:09:21.877Z"
   },
   {
    "duration": 12,
    "start_time": "2022-05-22T17:09:33.892Z"
   },
   {
    "duration": 13,
    "start_time": "2022-05-22T17:09:39.470Z"
   },
   {
    "duration": 14,
    "start_time": "2022-05-22T17:09:52.676Z"
   },
   {
    "duration": 17,
    "start_time": "2022-05-22T17:09:57.436Z"
   },
   {
    "duration": 14,
    "start_time": "2022-05-22T17:10:06.759Z"
   },
   {
    "duration": 13,
    "start_time": "2022-05-22T17:10:11.866Z"
   },
   {
    "duration": 13,
    "start_time": "2022-05-22T17:10:38.293Z"
   },
   {
    "duration": 13,
    "start_time": "2022-05-22T17:10:56.398Z"
   },
   {
    "duration": 188,
    "start_time": "2022-05-22T17:14:04.721Z"
   },
   {
    "duration": 24,
    "start_time": "2022-05-22T17:15:42.699Z"
   },
   {
    "duration": 9,
    "start_time": "2022-05-22T17:15:44.169Z"
   },
   {
    "duration": 187,
    "start_time": "2022-05-22T17:15:44.791Z"
   },
   {
    "duration": 19,
    "start_time": "2022-05-22T17:15:46.040Z"
   },
   {
    "duration": 6,
    "start_time": "2022-05-22T17:15:50.406Z"
   },
   {
    "duration": 11,
    "start_time": "2022-05-22T17:17:48.769Z"
   },
   {
    "duration": 462,
    "start_time": "2022-05-22T17:17:57.450Z"
   },
   {
    "duration": 12,
    "start_time": "2022-05-22T17:18:18.712Z"
   },
   {
    "duration": 319,
    "start_time": "2022-05-22T17:18:21.591Z"
   },
   {
    "duration": 11,
    "start_time": "2022-05-22T17:18:54.913Z"
   },
   {
    "duration": 746,
    "start_time": "2022-05-22T17:19:16.233Z"
   },
   {
    "duration": 16,
    "start_time": "2022-05-22T17:19:42.253Z"
   },
   {
    "duration": 164,
    "start_time": "2022-05-22T17:19:45.061Z"
   },
   {
    "duration": 11,
    "start_time": "2022-05-22T17:19:54.273Z"
   },
   {
    "duration": 172,
    "start_time": "2022-05-22T17:20:11.602Z"
   },
   {
    "duration": 11,
    "start_time": "2022-05-22T17:20:24.009Z"
   },
   {
    "duration": 16,
    "start_time": "2022-05-22T17:20:25.843Z"
   },
   {
    "duration": 154,
    "start_time": "2022-05-22T17:20:28.297Z"
   },
   {
    "duration": 9,
    "start_time": "2022-05-22T17:20:39.009Z"
   },
   {
    "duration": 8,
    "start_time": "2022-05-22T17:20:44.225Z"
   },
   {
    "duration": 9,
    "start_time": "2022-05-22T17:21:06.074Z"
   },
   {
    "duration": 6,
    "start_time": "2022-05-22T17:22:04.557Z"
   },
   {
    "duration": 68,
    "start_time": "2022-05-22T17:22:13.121Z"
   },
   {
    "duration": 20,
    "start_time": "2022-05-22T17:22:41.782Z"
   },
   {
    "duration": 160,
    "start_time": "2022-05-22T17:23:02.938Z"
   },
   {
    "duration": 8,
    "start_time": "2022-05-22T17:23:06.294Z"
   },
   {
    "duration": 13,
    "start_time": "2022-05-22T17:23:14.498Z"
   },
   {
    "duration": 161,
    "start_time": "2022-05-22T17:23:16.350Z"
   },
   {
    "duration": 774,
    "start_time": "2022-05-22T17:23:27.132Z"
   },
   {
    "duration": 147,
    "start_time": "2022-05-22T17:23:27.908Z"
   },
   {
    "duration": 16,
    "start_time": "2022-05-22T17:23:28.057Z"
   },
   {
    "duration": 97,
    "start_time": "2022-05-22T17:23:28.075Z"
   },
   {
    "duration": 7,
    "start_time": "2022-05-22T17:23:28.174Z"
   },
   {
    "duration": 8,
    "start_time": "2022-05-22T17:23:28.183Z"
   },
   {
    "duration": 9,
    "start_time": "2022-05-22T17:23:28.192Z"
   },
   {
    "duration": 9,
    "start_time": "2022-05-22T17:23:28.202Z"
   },
   {
    "duration": 37,
    "start_time": "2022-05-22T17:23:28.213Z"
   },
   {
    "duration": 7,
    "start_time": "2022-05-22T17:23:28.258Z"
   },
   {
    "duration": 8,
    "start_time": "2022-05-22T17:23:28.268Z"
   },
   {
    "duration": 29,
    "start_time": "2022-05-22T17:23:28.277Z"
   },
   {
    "duration": 6,
    "start_time": "2022-05-22T17:23:28.308Z"
   },
   {
    "duration": 66,
    "start_time": "2022-05-22T17:23:28.316Z"
   },
   {
    "duration": 7,
    "start_time": "2022-05-22T17:23:28.383Z"
   },
   {
    "duration": 7,
    "start_time": "2022-05-22T17:23:28.391Z"
   },
   {
    "duration": 7,
    "start_time": "2022-05-22T17:23:28.400Z"
   },
   {
    "duration": 7,
    "start_time": "2022-05-22T17:23:28.408Z"
   },
   {
    "duration": 28,
    "start_time": "2022-05-22T17:23:28.416Z"
   },
   {
    "duration": 39,
    "start_time": "2022-05-22T17:23:28.455Z"
   },
   {
    "duration": 8,
    "start_time": "2022-05-22T17:23:28.496Z"
   },
   {
    "duration": 7,
    "start_time": "2022-05-22T17:23:28.505Z"
   },
   {
    "duration": 7,
    "start_time": "2022-05-22T17:23:28.513Z"
   },
   {
    "duration": 49,
    "start_time": "2022-05-22T17:23:28.522Z"
   },
   {
    "duration": 14,
    "start_time": "2022-05-22T17:23:28.572Z"
   },
   {
    "duration": 4,
    "start_time": "2022-05-22T17:23:28.588Z"
   },
   {
    "duration": 7,
    "start_time": "2022-05-22T17:23:28.593Z"
   },
   {
    "duration": 10,
    "start_time": "2022-05-22T17:23:28.603Z"
   },
   {
    "duration": 27,
    "start_time": "2022-05-22T17:23:28.615Z"
   },
   {
    "duration": 17,
    "start_time": "2022-05-22T17:23:28.648Z"
   },
   {
    "duration": 3,
    "start_time": "2022-05-22T17:23:28.667Z"
   },
   {
    "duration": 305,
    "start_time": "2022-05-22T17:23:28.672Z"
   },
   {
    "duration": 4,
    "start_time": "2022-05-22T17:23:28.979Z"
   },
   {
    "duration": 6,
    "start_time": "2022-05-22T17:23:28.984Z"
   },
   {
    "duration": 311,
    "start_time": "2022-05-22T17:23:28.992Z"
   },
   {
    "duration": 284,
    "start_time": "2022-05-22T17:23:29.305Z"
   },
   {
    "duration": 391,
    "start_time": "2022-05-22T17:23:29.591Z"
   },
   {
    "duration": 348,
    "start_time": "2022-05-22T17:23:29.984Z"
   },
   {
    "duration": 303,
    "start_time": "2022-05-22T17:23:30.334Z"
   },
   {
    "duration": 352,
    "start_time": "2022-05-22T17:23:30.639Z"
   },
   {
    "duration": 300,
    "start_time": "2022-05-22T17:23:30.993Z"
   },
   {
    "duration": 375,
    "start_time": "2022-05-22T17:23:31.294Z"
   },
   {
    "duration": 380,
    "start_time": "2022-05-22T17:23:31.671Z"
   },
   {
    "duration": 13,
    "start_time": "2022-05-22T17:23:32.059Z"
   },
   {
    "duration": 21,
    "start_time": "2022-05-22T17:23:32.074Z"
   },
   {
    "duration": 20,
    "start_time": "2022-05-22T17:23:32.097Z"
   },
   {
    "duration": 21,
    "start_time": "2022-05-22T17:23:32.118Z"
   },
   {
    "duration": 26,
    "start_time": "2022-05-22T17:23:32.141Z"
   },
   {
    "duration": 10,
    "start_time": "2022-05-22T17:23:32.169Z"
   },
   {
    "duration": 0,
    "start_time": "2022-05-22T17:23:32.182Z"
   },
   {
    "duration": 14,
    "start_time": "2022-05-22T17:23:40.067Z"
   },
   {
    "duration": 184,
    "start_time": "2022-05-22T17:23:41.693Z"
   },
   {
    "duration": 6,
    "start_time": "2022-05-22T17:23:48.468Z"
   },
   {
    "duration": 125,
    "start_time": "2022-05-22T17:30:26.922Z"
   },
   {
    "duration": 17,
    "start_time": "2022-05-22T17:31:00.968Z"
   },
   {
    "duration": 165,
    "start_time": "2022-05-22T17:31:40.561Z"
   },
   {
    "duration": 150,
    "start_time": "2022-05-22T17:31:56.056Z"
   },
   {
    "duration": 182,
    "start_time": "2022-05-22T17:34:50.625Z"
   },
   {
    "duration": 6,
    "start_time": "2022-05-22T17:35:19.520Z"
   },
   {
    "duration": 16,
    "start_time": "2022-05-22T17:37:43.352Z"
   },
   {
    "duration": 140,
    "start_time": "2022-05-22T17:37:52.234Z"
   },
   {
    "duration": 8,
    "start_time": "2022-05-22T17:38:12.389Z"
   },
   {
    "duration": 8,
    "start_time": "2022-05-22T17:38:36.931Z"
   },
   {
    "duration": 200,
    "start_time": "2022-05-22T17:39:44.258Z"
   },
   {
    "duration": 656,
    "start_time": "2022-05-22T17:39:47.914Z"
   },
   {
    "duration": 7,
    "start_time": "2022-05-22T17:39:52.763Z"
   },
   {
    "duration": 269,
    "start_time": "2022-05-22T17:41:08.211Z"
   },
   {
    "duration": 232,
    "start_time": "2022-05-22T17:42:04.332Z"
   },
   {
    "duration": 219,
    "start_time": "2022-05-22T17:42:13.972Z"
   },
   {
    "duration": 354,
    "start_time": "2022-05-22T17:43:06.832Z"
   },
   {
    "duration": 175,
    "start_time": "2022-05-22T17:43:22.485Z"
   },
   {
    "duration": 218,
    "start_time": "2022-05-22T17:43:28.276Z"
   },
   {
    "duration": 237,
    "start_time": "2022-05-22T17:43:43.397Z"
   },
   {
    "duration": 228,
    "start_time": "2022-05-22T17:43:49.493Z"
   },
   {
    "duration": 227,
    "start_time": "2022-05-22T17:43:58.864Z"
   },
   {
    "duration": 222,
    "start_time": "2022-05-22T17:44:06.187Z"
   },
   {
    "duration": 288,
    "start_time": "2022-05-22T17:44:11.650Z"
   },
   {
    "duration": 230,
    "start_time": "2022-05-22T17:44:33.365Z"
   },
   {
    "duration": 246,
    "start_time": "2022-05-22T17:44:53.774Z"
   },
   {
    "duration": 295,
    "start_time": "2022-05-22T17:45:05.309Z"
   },
   {
    "duration": 261,
    "start_time": "2022-05-22T17:45:09.630Z"
   },
   {
    "duration": 227,
    "start_time": "2022-05-22T17:45:15.621Z"
   },
   {
    "duration": 208,
    "start_time": "2022-05-22T17:46:03.373Z"
   },
   {
    "duration": 212,
    "start_time": "2022-05-22T17:46:19.120Z"
   },
   {
    "duration": 315,
    "start_time": "2022-05-22T17:51:47.457Z"
   },
   {
    "duration": 205,
    "start_time": "2022-05-22T17:54:18.517Z"
   },
   {
    "duration": 179,
    "start_time": "2022-05-22T17:57:35.434Z"
   },
   {
    "duration": 20,
    "start_time": "2022-05-22T17:57:42.308Z"
   },
   {
    "duration": 164,
    "start_time": "2022-05-22T17:57:47.396Z"
   },
   {
    "duration": 179,
    "start_time": "2022-05-22T17:58:59.036Z"
   },
   {
    "duration": 12,
    "start_time": "2022-05-22T18:02:32.278Z"
   },
   {
    "duration": 186,
    "start_time": "2022-05-22T18:02:34.742Z"
   },
   {
    "duration": 195,
    "start_time": "2022-05-22T18:02:48.837Z"
   },
   {
    "duration": 17,
    "start_time": "2022-05-22T18:04:00.615Z"
   },
   {
    "duration": 7,
    "start_time": "2022-05-22T18:04:03.549Z"
   },
   {
    "duration": 11,
    "start_time": "2022-05-22T18:04:14.630Z"
   },
   {
    "duration": 231,
    "start_time": "2022-05-22T18:04:16.806Z"
   },
   {
    "duration": 12,
    "start_time": "2022-05-22T18:04:33.543Z"
   },
   {
    "duration": 163,
    "start_time": "2022-05-22T18:04:35.606Z"
   },
   {
    "duration": 108,
    "start_time": "2022-05-22T18:05:28.871Z"
   },
   {
    "duration": 161,
    "start_time": "2022-05-22T18:05:41.471Z"
   },
   {
    "duration": 11,
    "start_time": "2022-05-22T18:06:21.428Z"
   },
   {
    "duration": 158,
    "start_time": "2022-05-22T18:06:22.519Z"
   },
   {
    "duration": 174,
    "start_time": "2022-05-22T18:06:42.919Z"
   },
   {
    "duration": 11,
    "start_time": "2022-05-22T18:06:50.327Z"
   },
   {
    "duration": 213,
    "start_time": "2022-05-22T18:06:50.919Z"
   },
   {
    "duration": 11,
    "start_time": "2022-05-22T18:07:30.576Z"
   },
   {
    "duration": 11,
    "start_time": "2022-05-22T18:10:14.196Z"
   },
   {
    "duration": 137,
    "start_time": "2022-05-22T18:10:14.818Z"
   },
   {
    "duration": 8,
    "start_time": "2022-05-22T18:10:16.753Z"
   },
   {
    "duration": 9,
    "start_time": "2022-05-22T18:10:22.017Z"
   },
   {
    "duration": 2,
    "start_time": "2022-05-22T18:11:02.604Z"
   },
   {
    "duration": 139,
    "start_time": "2022-05-22T18:11:02.609Z"
   },
   {
    "duration": 13,
    "start_time": "2022-05-22T18:11:02.750Z"
   },
   {
    "duration": 110,
    "start_time": "2022-05-22T18:11:02.764Z"
   },
   {
    "duration": 7,
    "start_time": "2022-05-22T18:11:02.876Z"
   },
   {
    "duration": 11,
    "start_time": "2022-05-22T18:11:02.885Z"
   },
   {
    "duration": 16,
    "start_time": "2022-05-22T18:11:02.897Z"
   },
   {
    "duration": 7,
    "start_time": "2022-05-22T18:11:02.915Z"
   },
   {
    "duration": 20,
    "start_time": "2022-05-22T18:11:02.924Z"
   },
   {
    "duration": 4,
    "start_time": "2022-05-22T18:11:02.946Z"
   },
   {
    "duration": 7,
    "start_time": "2022-05-22T18:11:02.953Z"
   },
   {
    "duration": 27,
    "start_time": "2022-05-22T18:11:02.961Z"
   },
   {
    "duration": 6,
    "start_time": "2022-05-22T18:11:02.989Z"
   },
   {
    "duration": 60,
    "start_time": "2022-05-22T18:11:02.996Z"
   },
   {
    "duration": 6,
    "start_time": "2022-05-22T18:11:03.057Z"
   },
   {
    "duration": 17,
    "start_time": "2022-05-22T18:11:03.065Z"
   },
   {
    "duration": 6,
    "start_time": "2022-05-22T18:11:03.083Z"
   },
   {
    "duration": 18,
    "start_time": "2022-05-22T18:11:03.091Z"
   },
   {
    "duration": 10,
    "start_time": "2022-05-22T18:11:03.111Z"
   },
   {
    "duration": 40,
    "start_time": "2022-05-22T18:11:03.123Z"
   },
   {
    "duration": 5,
    "start_time": "2022-05-22T18:11:03.165Z"
   },
   {
    "duration": 18,
    "start_time": "2022-05-22T18:11:03.171Z"
   },
   {
    "duration": 11,
    "start_time": "2022-05-22T18:11:03.190Z"
   },
   {
    "duration": 39,
    "start_time": "2022-05-22T18:11:03.203Z"
   },
   {
    "duration": 13,
    "start_time": "2022-05-22T18:11:03.244Z"
   },
   {
    "duration": 3,
    "start_time": "2022-05-22T18:11:03.258Z"
   },
   {
    "duration": 7,
    "start_time": "2022-05-22T18:11:03.263Z"
   },
   {
    "duration": 9,
    "start_time": "2022-05-22T18:11:03.272Z"
   },
   {
    "duration": 12,
    "start_time": "2022-05-22T18:11:03.284Z"
   },
   {
    "duration": 7,
    "start_time": "2022-05-22T18:11:03.298Z"
   },
   {
    "duration": 34,
    "start_time": "2022-05-22T18:11:03.307Z"
   },
   {
    "duration": 411,
    "start_time": "2022-05-22T18:11:03.343Z"
   },
   {
    "duration": 4,
    "start_time": "2022-05-22T18:11:03.756Z"
   },
   {
    "duration": 15,
    "start_time": "2022-05-22T18:11:03.761Z"
   },
   {
    "duration": 271,
    "start_time": "2022-05-22T18:11:03.778Z"
   },
   {
    "duration": 259,
    "start_time": "2022-05-22T18:11:04.050Z"
   },
   {
    "duration": 276,
    "start_time": "2022-05-22T18:11:04.310Z"
   },
   {
    "duration": 266,
    "start_time": "2022-05-22T18:11:04.588Z"
   },
   {
    "duration": 274,
    "start_time": "2022-05-22T18:11:04.856Z"
   },
   {
    "duration": 271,
    "start_time": "2022-05-22T18:11:05.132Z"
   },
   {
    "duration": 259,
    "start_time": "2022-05-22T18:11:05.405Z"
   },
   {
    "duration": 391,
    "start_time": "2022-05-22T18:11:05.666Z"
   },
   {
    "duration": 261,
    "start_time": "2022-05-22T18:11:06.059Z"
   },
   {
    "duration": 20,
    "start_time": "2022-05-22T18:11:06.322Z"
   },
   {
    "duration": 9,
    "start_time": "2022-05-22T18:11:06.343Z"
   },
   {
    "duration": 9,
    "start_time": "2022-05-22T18:11:06.353Z"
   },
   {
    "duration": 10,
    "start_time": "2022-05-22T18:11:06.364Z"
   },
   {
    "duration": 16,
    "start_time": "2022-05-22T18:11:06.376Z"
   },
   {
    "duration": 11,
    "start_time": "2022-05-22T18:11:06.394Z"
   },
   {
    "duration": 215,
    "start_time": "2022-05-22T18:11:06.407Z"
   },
   {
    "duration": 6,
    "start_time": "2022-05-22T18:11:06.623Z"
   },
   {
    "duration": 12,
    "start_time": "2022-05-22T18:11:06.641Z"
   },
   {
    "duration": 177,
    "start_time": "2022-05-22T18:11:06.655Z"
   },
   {
    "duration": 10,
    "start_time": "2022-05-22T18:11:06.835Z"
   },
   {
    "duration": 35,
    "start_time": "2022-05-22T18:11:06.850Z"
   },
   {
    "duration": 7,
    "start_time": "2022-05-22T18:11:06.887Z"
   },
   {
    "duration": 272,
    "start_time": "2022-05-22T18:11:06.896Z"
   },
   {
    "duration": 6,
    "start_time": "2022-05-22T18:11:07.171Z"
   },
   {
    "duration": 14,
    "start_time": "2022-05-22T18:11:07.179Z"
   },
   {
    "duration": 175,
    "start_time": "2022-05-22T18:11:07.196Z"
   },
   {
    "duration": 10,
    "start_time": "2022-05-22T18:11:07.373Z"
   },
   {
    "duration": 159,
    "start_time": "2022-05-22T18:11:07.385Z"
   },
   {
    "duration": 158,
    "start_time": "2022-05-22T18:14:21.591Z"
   },
   {
    "duration": 10,
    "start_time": "2022-05-22T18:14:28.435Z"
   },
   {
    "duration": 143,
    "start_time": "2022-05-22T18:14:30.283Z"
   },
   {
    "duration": 21,
    "start_time": "2022-05-22T18:18:50.896Z"
   },
   {
    "duration": 4,
    "start_time": "2022-05-22T18:18:51.429Z"
   },
   {
    "duration": 5,
    "start_time": "2022-05-22T18:18:51.981Z"
   },
   {
    "duration": 9,
    "start_time": "2022-05-22T18:18:52.637Z"
   },
   {
    "duration": 11,
    "start_time": "2022-05-22T18:19:08.661Z"
   },
   {
    "duration": 125,
    "start_time": "2022-05-22T18:19:10.693Z"
   },
   {
    "duration": 12,
    "start_time": "2022-05-22T18:19:17.367Z"
   },
   {
    "duration": 12,
    "start_time": "2022-05-22T18:19:18.828Z"
   },
   {
    "duration": 11,
    "start_time": "2022-05-22T18:19:37.791Z"
   },
   {
    "duration": 12,
    "start_time": "2022-05-22T18:19:49.889Z"
   },
   {
    "duration": 11,
    "start_time": "2022-05-22T18:20:05.333Z"
   },
   {
    "duration": 11,
    "start_time": "2022-05-22T18:20:07.301Z"
   },
   {
    "duration": 19,
    "start_time": "2022-05-22T18:20:35.556Z"
   },
   {
    "duration": 3,
    "start_time": "2022-05-22T18:20:35.951Z"
   },
   {
    "duration": 4,
    "start_time": "2022-05-22T18:20:36.429Z"
   },
   {
    "duration": 11,
    "start_time": "2022-05-22T18:20:37.021Z"
   },
   {
    "duration": 4,
    "start_time": "2022-05-22T18:22:26.165Z"
   },
   {
    "duration": 7,
    "start_time": "2022-05-22T18:22:26.992Z"
   },
   {
    "duration": 5,
    "start_time": "2022-05-22T18:22:27.535Z"
   },
   {
    "duration": 20,
    "start_time": "2022-05-22T18:22:28.470Z"
   },
   {
    "duration": 17,
    "start_time": "2022-05-22T18:22:38.157Z"
   },
   {
    "duration": 151,
    "start_time": "2022-05-22T18:22:46.606Z"
   },
   {
    "duration": 6,
    "start_time": "2022-05-22T18:23:34.096Z"
   },
   {
    "duration": 25,
    "start_time": "2022-05-22T18:23:35.215Z"
   },
   {
    "duration": 5,
    "start_time": "2022-05-22T18:23:54.992Z"
   },
   {
    "duration": 5,
    "start_time": "2022-05-22T18:23:57.356Z"
   },
   {
    "duration": 25,
    "start_time": "2022-05-22T18:23:58.759Z"
   },
   {
    "duration": 208,
    "start_time": "2022-05-22T18:24:02.807Z"
   },
   {
    "duration": 13,
    "start_time": "2022-05-22T18:24:27.124Z"
   },
   {
    "duration": 3,
    "start_time": "2022-05-22T18:24:28.776Z"
   },
   {
    "duration": 17,
    "start_time": "2022-05-22T18:24:30.192Z"
   },
   {
    "duration": 183,
    "start_time": "2022-05-22T18:24:31.920Z"
   },
   {
    "duration": 4,
    "start_time": "2022-05-22T18:24:45.705Z"
   },
   {
    "duration": 3,
    "start_time": "2022-05-22T18:25:03.210Z"
   },
   {
    "duration": 165,
    "start_time": "2022-05-22T18:25:03.216Z"
   },
   {
    "duration": 23,
    "start_time": "2022-05-22T18:25:03.384Z"
   },
   {
    "duration": 117,
    "start_time": "2022-05-22T18:25:03.409Z"
   },
   {
    "duration": 19,
    "start_time": "2022-05-22T18:25:03.529Z"
   },
   {
    "duration": 12,
    "start_time": "2022-05-22T18:25:03.550Z"
   },
   {
    "duration": 15,
    "start_time": "2022-05-22T18:25:03.564Z"
   },
   {
    "duration": 6,
    "start_time": "2022-05-22T18:25:03.582Z"
   },
   {
    "duration": 13,
    "start_time": "2022-05-22T18:25:03.590Z"
   },
   {
    "duration": 8,
    "start_time": "2022-05-22T18:25:03.605Z"
   },
   {
    "duration": 8,
    "start_time": "2022-05-22T18:25:03.641Z"
   },
   {
    "duration": 41,
    "start_time": "2022-05-22T18:25:03.651Z"
   },
   {
    "duration": 6,
    "start_time": "2022-05-22T18:25:03.694Z"
   },
   {
    "duration": 80,
    "start_time": "2022-05-22T18:25:03.703Z"
   },
   {
    "duration": 12,
    "start_time": "2022-05-22T18:25:03.785Z"
   },
   {
    "duration": 12,
    "start_time": "2022-05-22T18:25:03.799Z"
   },
   {
    "duration": 13,
    "start_time": "2022-05-22T18:25:03.813Z"
   },
   {
    "duration": 7,
    "start_time": "2022-05-22T18:25:03.841Z"
   },
   {
    "duration": 7,
    "start_time": "2022-05-22T18:25:03.849Z"
   },
   {
    "duration": 36,
    "start_time": "2022-05-22T18:25:03.857Z"
   },
   {
    "duration": 7,
    "start_time": "2022-05-22T18:25:03.895Z"
   },
   {
    "duration": 42,
    "start_time": "2022-05-22T18:25:03.904Z"
   },
   {
    "duration": 9,
    "start_time": "2022-05-22T18:25:03.948Z"
   },
   {
    "duration": 34,
    "start_time": "2022-05-22T18:25:03.959Z"
   },
   {
    "duration": 14,
    "start_time": "2022-05-22T18:25:03.994Z"
   },
   {
    "duration": 33,
    "start_time": "2022-05-22T18:25:04.009Z"
   },
   {
    "duration": 5,
    "start_time": "2022-05-22T18:25:04.044Z"
   },
   {
    "duration": 14,
    "start_time": "2022-05-22T18:25:04.050Z"
   },
   {
    "duration": 9,
    "start_time": "2022-05-22T18:25:04.068Z"
   },
   {
    "duration": 19,
    "start_time": "2022-05-22T18:25:04.079Z"
   },
   {
    "duration": 9,
    "start_time": "2022-05-22T18:25:04.101Z"
   },
   {
    "duration": 452,
    "start_time": "2022-05-22T18:25:04.112Z"
   },
   {
    "duration": 4,
    "start_time": "2022-05-22T18:25:04.566Z"
   },
   {
    "duration": 7,
    "start_time": "2022-05-22T18:25:04.572Z"
   },
   {
    "duration": 288,
    "start_time": "2022-05-22T18:25:04.581Z"
   },
   {
    "duration": 313,
    "start_time": "2022-05-22T18:25:04.870Z"
   },
   {
    "duration": 293,
    "start_time": "2022-05-22T18:25:05.185Z"
   },
   {
    "duration": 278,
    "start_time": "2022-05-22T18:25:05.480Z"
   },
   {
    "duration": 273,
    "start_time": "2022-05-22T18:25:05.760Z"
   },
   {
    "duration": 279,
    "start_time": "2022-05-22T18:25:06.035Z"
   },
   {
    "duration": 270,
    "start_time": "2022-05-22T18:25:06.316Z"
   },
   {
    "duration": 322,
    "start_time": "2022-05-22T18:25:06.588Z"
   },
   {
    "duration": 355,
    "start_time": "2022-05-22T18:25:06.913Z"
   },
   {
    "duration": 12,
    "start_time": "2022-05-22T18:25:07.270Z"
   },
   {
    "duration": 13,
    "start_time": "2022-05-22T18:25:07.283Z"
   },
   {
    "duration": 12,
    "start_time": "2022-05-22T18:25:07.297Z"
   },
   {
    "duration": 32,
    "start_time": "2022-05-22T18:25:07.310Z"
   },
   {
    "duration": 16,
    "start_time": "2022-05-22T18:25:07.344Z"
   },
   {
    "duration": 12,
    "start_time": "2022-05-22T18:25:07.363Z"
   },
   {
    "duration": 217,
    "start_time": "2022-05-22T18:25:07.377Z"
   },
   {
    "duration": 6,
    "start_time": "2022-05-22T18:25:07.596Z"
   },
   {
    "duration": 11,
    "start_time": "2022-05-22T18:25:07.604Z"
   },
   {
    "duration": 435,
    "start_time": "2022-05-22T18:25:07.617Z"
   },
   {
    "duration": 6,
    "start_time": "2022-05-22T18:25:08.054Z"
   },
   {
    "duration": 14,
    "start_time": "2022-05-22T18:25:08.062Z"
   },
   {
    "duration": 6,
    "start_time": "2022-05-22T18:25:08.078Z"
   },
   {
    "duration": 241,
    "start_time": "2022-05-22T18:25:08.086Z"
   },
   {
    "duration": 15,
    "start_time": "2022-05-22T18:25:08.328Z"
   },
   {
    "duration": 12,
    "start_time": "2022-05-22T18:25:08.345Z"
   },
   {
    "duration": 192,
    "start_time": "2022-05-22T18:25:08.359Z"
   },
   {
    "duration": 12,
    "start_time": "2022-05-22T18:25:08.552Z"
   },
   {
    "duration": 219,
    "start_time": "2022-05-22T18:25:08.565Z"
   },
   {
    "duration": 42,
    "start_time": "2022-05-22T18:25:08.785Z"
   },
   {
    "duration": 0,
    "start_time": "2022-05-22T18:25:08.829Z"
   },
   {
    "duration": 0,
    "start_time": "2022-05-22T18:25:08.830Z"
   },
   {
    "duration": 0,
    "start_time": "2022-05-22T18:25:08.831Z"
   },
   {
    "duration": 0,
    "start_time": "2022-05-22T18:25:08.833Z"
   },
   {
    "duration": 0,
    "start_time": "2022-05-22T18:25:08.835Z"
   },
   {
    "duration": 0,
    "start_time": "2022-05-22T18:25:08.836Z"
   },
   {
    "duration": 0,
    "start_time": "2022-05-22T18:25:08.837Z"
   },
   {
    "duration": 11,
    "start_time": "2022-05-22T18:25:22.154Z"
   },
   {
    "duration": 185,
    "start_time": "2022-05-22T18:25:22.640Z"
   },
   {
    "duration": 19,
    "start_time": "2022-05-22T18:25:32.358Z"
   },
   {
    "duration": 4,
    "start_time": "2022-05-22T18:25:32.794Z"
   },
   {
    "duration": 4,
    "start_time": "2022-05-22T18:25:33.234Z"
   },
   {
    "duration": 8,
    "start_time": "2022-05-22T18:25:33.672Z"
   },
   {
    "duration": 444,
    "start_time": "2022-05-22T18:26:03.355Z"
   },
   {
    "duration": 4,
    "start_time": "2022-05-22T18:26:11.385Z"
   },
   {
    "duration": 7,
    "start_time": "2022-05-22T18:26:14.761Z"
   },
   {
    "duration": 7,
    "start_time": "2022-05-22T18:27:30.193Z"
   },
   {
    "duration": 14,
    "start_time": "2022-05-22T18:27:33.063Z"
   },
   {
    "duration": 6,
    "start_time": "2022-05-22T18:28:06.611Z"
   },
   {
    "duration": 6,
    "start_time": "2022-05-22T18:28:12.642Z"
   },
   {
    "duration": 5,
    "start_time": "2022-05-22T18:28:14.602Z"
   },
   {
    "duration": 17,
    "start_time": "2022-05-22T18:28:17.195Z"
   },
   {
    "duration": 20,
    "start_time": "2022-05-22T18:32:16.872Z"
   },
   {
    "duration": 32,
    "start_time": "2022-05-22T18:32:28.517Z"
   },
   {
    "duration": 199,
    "start_time": "2022-05-22T18:32:29.174Z"
   },
   {
    "duration": 5,
    "start_time": "2022-05-22T18:33:06.249Z"
   },
   {
    "duration": 6,
    "start_time": "2022-05-22T18:33:06.613Z"
   },
   {
    "duration": 11,
    "start_time": "2022-05-22T18:33:07.013Z"
   },
   {
    "duration": 25,
    "start_time": "2022-05-22T18:33:08.494Z"
   },
   {
    "duration": 171,
    "start_time": "2022-05-22T18:33:09.806Z"
   },
   {
    "duration": 4,
    "start_time": "2022-05-22T18:33:17.741Z"
   },
   {
    "duration": 135,
    "start_time": "2022-05-22T18:33:17.760Z"
   },
   {
    "duration": 53,
    "start_time": "2022-05-22T18:33:17.897Z"
   },
   {
    "duration": 125,
    "start_time": "2022-05-22T18:33:17.953Z"
   },
   {
    "duration": 11,
    "start_time": "2022-05-22T18:33:18.082Z"
   },
   {
    "duration": 21,
    "start_time": "2022-05-22T18:33:18.097Z"
   },
   {
    "duration": 27,
    "start_time": "2022-05-22T18:33:18.122Z"
   },
   {
    "duration": 27,
    "start_time": "2022-05-22T18:33:18.151Z"
   },
   {
    "duration": 15,
    "start_time": "2022-05-22T18:33:18.180Z"
   },
   {
    "duration": 14,
    "start_time": "2022-05-22T18:33:18.197Z"
   },
   {
    "duration": 9,
    "start_time": "2022-05-22T18:33:18.214Z"
   },
   {
    "duration": 54,
    "start_time": "2022-05-22T18:33:18.225Z"
   },
   {
    "duration": 7,
    "start_time": "2022-05-22T18:33:18.281Z"
   },
   {
    "duration": 55,
    "start_time": "2022-05-22T18:33:18.290Z"
   },
   {
    "duration": 7,
    "start_time": "2022-05-22T18:33:18.348Z"
   },
   {
    "duration": 10,
    "start_time": "2022-05-22T18:33:18.358Z"
   },
   {
    "duration": 14,
    "start_time": "2022-05-22T18:33:18.371Z"
   },
   {
    "duration": 12,
    "start_time": "2022-05-22T18:33:18.387Z"
   },
   {
    "duration": 8,
    "start_time": "2022-05-22T18:33:18.401Z"
   },
   {
    "duration": 61,
    "start_time": "2022-05-22T18:33:18.412Z"
   },
   {
    "duration": 6,
    "start_time": "2022-05-22T18:33:18.475Z"
   },
   {
    "duration": 9,
    "start_time": "2022-05-22T18:33:18.483Z"
   },
   {
    "duration": 10,
    "start_time": "2022-05-22T18:33:18.494Z"
   },
   {
    "duration": 60,
    "start_time": "2022-05-22T18:33:18.506Z"
   },
   {
    "duration": 16,
    "start_time": "2022-05-22T18:33:18.569Z"
   },
   {
    "duration": 6,
    "start_time": "2022-05-22T18:33:18.587Z"
   },
   {
    "duration": 11,
    "start_time": "2022-05-22T18:33:18.595Z"
   },
   {
    "duration": 16,
    "start_time": "2022-05-22T18:33:18.607Z"
   },
   {
    "duration": 6,
    "start_time": "2022-05-22T18:33:18.642Z"
   },
   {
    "duration": 12,
    "start_time": "2022-05-22T18:33:18.650Z"
   },
   {
    "duration": 3,
    "start_time": "2022-05-22T18:33:18.664Z"
   },
   {
    "duration": 332,
    "start_time": "2022-05-22T18:33:18.669Z"
   },
   {
    "duration": 6,
    "start_time": "2022-05-22T18:33:19.003Z"
   },
   {
    "duration": 11,
    "start_time": "2022-05-22T18:33:19.011Z"
   },
   {
    "duration": 368,
    "start_time": "2022-05-22T18:33:19.024Z"
   },
   {
    "duration": 348,
    "start_time": "2022-05-22T18:33:19.395Z"
   },
   {
    "duration": 356,
    "start_time": "2022-05-22T18:33:19.745Z"
   },
   {
    "duration": 361,
    "start_time": "2022-05-22T18:33:20.103Z"
   },
   {
    "duration": 498,
    "start_time": "2022-05-22T18:33:20.466Z"
   },
   {
    "duration": 318,
    "start_time": "2022-05-22T18:33:20.966Z"
   },
   {
    "duration": 341,
    "start_time": "2022-05-22T18:33:21.286Z"
   },
   {
    "duration": 343,
    "start_time": "2022-05-22T18:33:21.631Z"
   },
   {
    "duration": 309,
    "start_time": "2022-05-22T18:33:21.976Z"
   },
   {
    "duration": 18,
    "start_time": "2022-05-22T18:33:22.287Z"
   },
   {
    "duration": 15,
    "start_time": "2022-05-22T18:33:22.308Z"
   },
   {
    "duration": 13,
    "start_time": "2022-05-22T18:33:22.341Z"
   },
   {
    "duration": 12,
    "start_time": "2022-05-22T18:33:22.356Z"
   },
   {
    "duration": 27,
    "start_time": "2022-05-22T18:33:22.371Z"
   },
   {
    "duration": 41,
    "start_time": "2022-05-22T18:33:22.400Z"
   },
   {
    "duration": 252,
    "start_time": "2022-05-22T18:33:22.444Z"
   },
   {
    "duration": 10,
    "start_time": "2022-05-22T18:33:22.698Z"
   },
   {
    "duration": 16,
    "start_time": "2022-05-22T18:33:22.710Z"
   },
   {
    "duration": 204,
    "start_time": "2022-05-22T18:33:22.742Z"
   },
   {
    "duration": 8,
    "start_time": "2022-05-22T18:33:22.949Z"
   },
   {
    "duration": 22,
    "start_time": "2022-05-22T18:33:22.959Z"
   },
   {
    "duration": 9,
    "start_time": "2022-05-22T18:33:22.984Z"
   },
   {
    "duration": 319,
    "start_time": "2022-05-22T18:33:22.995Z"
   },
   {
    "duration": 7,
    "start_time": "2022-05-22T18:33:23.317Z"
   },
   {
    "duration": 31,
    "start_time": "2022-05-22T18:33:23.326Z"
   },
   {
    "duration": 176,
    "start_time": "2022-05-22T18:33:23.359Z"
   },
   {
    "duration": 12,
    "start_time": "2022-05-22T18:33:23.539Z"
   },
   {
    "duration": 171,
    "start_time": "2022-05-22T18:33:23.553Z"
   },
   {
    "duration": 21,
    "start_time": "2022-05-22T18:33:23.727Z"
   },
   {
    "duration": 169,
    "start_time": "2022-05-22T18:33:23.750Z"
   },
   {
    "duration": 33,
    "start_time": "2022-05-22T18:33:23.921Z"
   },
   {
    "duration": 3,
    "start_time": "2022-05-22T18:33:23.956Z"
   },
   {
    "duration": 7,
    "start_time": "2022-05-22T18:33:23.961Z"
   },
   {
    "duration": 17,
    "start_time": "2022-05-22T18:33:23.970Z"
   },
   {
    "duration": 466,
    "start_time": "2022-05-22T18:33:28.813Z"
   },
   {
    "duration": 5,
    "start_time": "2022-05-22T18:33:36.501Z"
   },
   {
    "duration": 20,
    "start_time": "2022-05-22T18:33:39.829Z"
   },
   {
    "duration": 20,
    "start_time": "2022-05-22T18:34:35.989Z"
   },
   {
    "duration": 27,
    "start_time": "2022-05-22T18:38:20.132Z"
   },
   {
    "duration": 17,
    "start_time": "2022-05-22T18:38:36.288Z"
   },
   {
    "duration": 108,
    "start_time": "2022-05-22T18:38:41.785Z"
   },
   {
    "duration": 11,
    "start_time": "2022-05-22T18:39:56.185Z"
   },
   {
    "duration": 12,
    "start_time": "2022-05-22T18:40:06.968Z"
   },
   {
    "duration": 10,
    "start_time": "2022-05-22T18:40:14.056Z"
   },
   {
    "duration": 9,
    "start_time": "2022-05-22T18:40:42.706Z"
   },
   {
    "duration": 6,
    "start_time": "2022-05-22T18:40:49.866Z"
   },
   {
    "duration": 279,
    "start_time": "2022-05-22T18:40:50.905Z"
   },
   {
    "duration": 222,
    "start_time": "2022-05-22T18:41:18.274Z"
   },
   {
    "duration": 4,
    "start_time": "2022-05-22T18:41:57.460Z"
   },
   {
    "duration": 134,
    "start_time": "2022-05-22T18:41:57.466Z"
   },
   {
    "duration": 41,
    "start_time": "2022-05-22T18:41:57.602Z"
   },
   {
    "duration": 133,
    "start_time": "2022-05-22T18:41:57.645Z"
   },
   {
    "duration": 11,
    "start_time": "2022-05-22T18:41:57.781Z"
   },
   {
    "duration": 13,
    "start_time": "2022-05-22T18:41:57.794Z"
   },
   {
    "duration": 11,
    "start_time": "2022-05-22T18:41:57.810Z"
   },
   {
    "duration": 6,
    "start_time": "2022-05-22T18:41:57.842Z"
   },
   {
    "duration": 15,
    "start_time": "2022-05-22T18:41:57.850Z"
   },
   {
    "duration": 7,
    "start_time": "2022-05-22T18:41:57.867Z"
   },
   {
    "duration": 14,
    "start_time": "2022-05-22T18:41:57.877Z"
   },
   {
    "duration": 67,
    "start_time": "2022-05-22T18:41:57.893Z"
   },
   {
    "duration": 7,
    "start_time": "2022-05-22T18:41:57.962Z"
   },
   {
    "duration": 41,
    "start_time": "2022-05-22T18:41:57.972Z"
   },
   {
    "duration": 31,
    "start_time": "2022-05-22T18:41:58.015Z"
   },
   {
    "duration": 14,
    "start_time": "2022-05-22T18:41:58.048Z"
   },
   {
    "duration": 12,
    "start_time": "2022-05-22T18:41:58.064Z"
   },
   {
    "duration": 12,
    "start_time": "2022-05-22T18:41:58.078Z"
   },
   {
    "duration": 8,
    "start_time": "2022-05-22T18:41:58.092Z"
   },
   {
    "duration": 60,
    "start_time": "2022-05-22T18:41:58.102Z"
   },
   {
    "duration": 6,
    "start_time": "2022-05-22T18:41:58.163Z"
   },
   {
    "duration": 16,
    "start_time": "2022-05-22T18:41:58.172Z"
   },
   {
    "duration": 10,
    "start_time": "2022-05-22T18:41:58.189Z"
   },
   {
    "duration": 50,
    "start_time": "2022-05-22T18:41:58.201Z"
   },
   {
    "duration": 16,
    "start_time": "2022-05-22T18:41:58.253Z"
   },
   {
    "duration": 5,
    "start_time": "2022-05-22T18:41:58.271Z"
   },
   {
    "duration": 12,
    "start_time": "2022-05-22T18:41:58.278Z"
   },
   {
    "duration": 12,
    "start_time": "2022-05-22T18:41:58.291Z"
   },
   {
    "duration": 34,
    "start_time": "2022-05-22T18:41:58.307Z"
   },
   {
    "duration": 6,
    "start_time": "2022-05-22T18:41:58.343Z"
   },
   {
    "duration": 5,
    "start_time": "2022-05-22T18:41:58.351Z"
   },
   {
    "duration": 305,
    "start_time": "2022-05-22T18:41:58.358Z"
   },
   {
    "duration": 5,
    "start_time": "2022-05-22T18:41:58.664Z"
   },
   {
    "duration": 9,
    "start_time": "2022-05-22T18:41:58.671Z"
   },
   {
    "duration": 286,
    "start_time": "2022-05-22T18:41:58.682Z"
   },
   {
    "duration": 298,
    "start_time": "2022-05-22T18:41:58.970Z"
   },
   {
    "duration": 501,
    "start_time": "2022-05-22T18:41:59.270Z"
   },
   {
    "duration": 325,
    "start_time": "2022-05-22T18:41:59.773Z"
   },
   {
    "duration": 318,
    "start_time": "2022-05-22T18:42:00.101Z"
   },
   {
    "duration": 282,
    "start_time": "2022-05-22T18:42:00.421Z"
   },
   {
    "duration": 286,
    "start_time": "2022-05-22T18:42:00.706Z"
   },
   {
    "duration": 297,
    "start_time": "2022-05-22T18:42:00.994Z"
   },
   {
    "duration": 299,
    "start_time": "2022-05-22T18:42:01.293Z"
   },
   {
    "duration": 12,
    "start_time": "2022-05-22T18:42:01.594Z"
   },
   {
    "duration": 12,
    "start_time": "2022-05-22T18:42:01.608Z"
   },
   {
    "duration": 25,
    "start_time": "2022-05-22T18:42:01.622Z"
   },
   {
    "duration": 11,
    "start_time": "2022-05-22T18:42:01.649Z"
   },
   {
    "duration": 19,
    "start_time": "2022-05-22T18:42:01.662Z"
   },
   {
    "duration": 12,
    "start_time": "2022-05-22T18:42:01.682Z"
   },
   {
    "duration": 248,
    "start_time": "2022-05-22T18:42:01.696Z"
   },
   {
    "duration": 8,
    "start_time": "2022-05-22T18:42:01.947Z"
   },
   {
    "duration": 37,
    "start_time": "2022-05-22T18:42:01.957Z"
   },
   {
    "duration": 222,
    "start_time": "2022-05-22T18:42:01.996Z"
   },
   {
    "duration": 6,
    "start_time": "2022-05-22T18:42:02.221Z"
   },
   {
    "duration": 37,
    "start_time": "2022-05-22T18:42:02.230Z"
   },
   {
    "duration": 8,
    "start_time": "2022-05-22T18:42:02.268Z"
   },
   {
    "duration": 226,
    "start_time": "2022-05-22T18:42:02.277Z"
   },
   {
    "duration": 7,
    "start_time": "2022-05-22T18:42:02.505Z"
   },
   {
    "duration": 27,
    "start_time": "2022-05-22T18:42:02.514Z"
   },
   {
    "duration": 180,
    "start_time": "2022-05-22T18:42:02.543Z"
   },
   {
    "duration": 23,
    "start_time": "2022-05-22T18:42:02.725Z"
   },
   {
    "duration": 159,
    "start_time": "2022-05-22T18:42:02.749Z"
   },
   {
    "duration": 11,
    "start_time": "2022-05-22T18:42:02.911Z"
   },
   {
    "duration": 228,
    "start_time": "2022-05-22T18:42:02.924Z"
   },
   {
    "duration": 30,
    "start_time": "2022-05-22T18:42:03.154Z"
   },
   {
    "duration": 23,
    "start_time": "2022-05-22T18:42:03.187Z"
   },
   {
    "duration": 29,
    "start_time": "2022-05-22T18:42:03.212Z"
   },
   {
    "duration": 57,
    "start_time": "2022-05-22T18:42:03.244Z"
   },
   {
    "duration": 22,
    "start_time": "2022-05-22T18:42:03.303Z"
   },
   {
    "duration": 5,
    "start_time": "2022-05-22T18:43:42.802Z"
   },
   {
    "duration": 5,
    "start_time": "2022-05-22T18:43:43.465Z"
   },
   {
    "duration": 5,
    "start_time": "2022-05-22T18:43:45.256Z"
   },
   {
    "duration": 20,
    "start_time": "2022-05-22T18:43:46.562Z"
   },
   {
    "duration": 51,
    "start_time": "2022-05-22T18:44:06.985Z"
   },
   {
    "duration": 16,
    "start_time": "2022-05-22T18:44:24.819Z"
   },
   {
    "duration": 4,
    "start_time": "2022-05-22T18:45:02.188Z"
   },
   {
    "duration": 170,
    "start_time": "2022-05-22T18:45:02.194Z"
   },
   {
    "duration": 15,
    "start_time": "2022-05-22T18:45:02.366Z"
   },
   {
    "duration": 123,
    "start_time": "2022-05-22T18:45:02.384Z"
   },
   {
    "duration": 9,
    "start_time": "2022-05-22T18:45:02.509Z"
   },
   {
    "duration": 27,
    "start_time": "2022-05-22T18:45:02.519Z"
   },
   {
    "duration": 11,
    "start_time": "2022-05-22T18:45:02.548Z"
   },
   {
    "duration": 16,
    "start_time": "2022-05-22T18:45:02.562Z"
   },
   {
    "duration": 10,
    "start_time": "2022-05-22T18:45:02.580Z"
   },
   {
    "duration": 24,
    "start_time": "2022-05-22T18:45:02.591Z"
   },
   {
    "duration": 11,
    "start_time": "2022-05-22T18:45:02.618Z"
   },
   {
    "duration": 41,
    "start_time": "2022-05-22T18:45:02.630Z"
   },
   {
    "duration": 6,
    "start_time": "2022-05-22T18:45:02.673Z"
   },
   {
    "duration": 51,
    "start_time": "2022-05-22T18:45:02.680Z"
   },
   {
    "duration": 9,
    "start_time": "2022-05-22T18:45:02.733Z"
   },
   {
    "duration": 15,
    "start_time": "2022-05-22T18:45:02.744Z"
   },
   {
    "duration": 15,
    "start_time": "2022-05-22T18:45:02.761Z"
   },
   {
    "duration": 18,
    "start_time": "2022-05-22T18:45:02.778Z"
   },
   {
    "duration": 16,
    "start_time": "2022-05-22T18:45:02.798Z"
   },
   {
    "duration": 39,
    "start_time": "2022-05-22T18:45:02.816Z"
   },
   {
    "duration": 6,
    "start_time": "2022-05-22T18:45:02.856Z"
   },
   {
    "duration": 16,
    "start_time": "2022-05-22T18:45:02.863Z"
   },
   {
    "duration": 16,
    "start_time": "2022-05-22T18:45:02.880Z"
   },
   {
    "duration": 55,
    "start_time": "2022-05-22T18:45:02.898Z"
   },
   {
    "duration": 60,
    "start_time": "2022-05-22T18:45:02.954Z"
   },
   {
    "duration": 39,
    "start_time": "2022-05-22T18:45:03.016Z"
   },
   {
    "duration": 32,
    "start_time": "2022-05-22T18:45:03.056Z"
   },
   {
    "duration": 19,
    "start_time": "2022-05-22T18:45:03.090Z"
   },
   {
    "duration": 6,
    "start_time": "2022-05-22T18:45:03.113Z"
   },
   {
    "duration": 20,
    "start_time": "2022-05-22T18:45:03.121Z"
   },
   {
    "duration": 9,
    "start_time": "2022-05-22T18:45:03.143Z"
   },
   {
    "duration": 516,
    "start_time": "2022-05-22T18:45:03.153Z"
   },
   {
    "duration": 5,
    "start_time": "2022-05-22T18:45:03.672Z"
   },
   {
    "duration": 11,
    "start_time": "2022-05-22T18:45:03.679Z"
   },
   {
    "duration": 283,
    "start_time": "2022-05-22T18:45:03.692Z"
   },
   {
    "duration": 272,
    "start_time": "2022-05-22T18:45:03.976Z"
   },
   {
    "duration": 316,
    "start_time": "2022-05-22T18:45:04.250Z"
   },
   {
    "duration": 278,
    "start_time": "2022-05-22T18:45:04.568Z"
   },
   {
    "duration": 277,
    "start_time": "2022-05-22T18:45:04.848Z"
   },
   {
    "duration": 283,
    "start_time": "2022-05-22T18:45:05.127Z"
   },
   {
    "duration": 278,
    "start_time": "2022-05-22T18:45:05.412Z"
   },
   {
    "duration": 281,
    "start_time": "2022-05-22T18:45:05.692Z"
   },
   {
    "duration": 274,
    "start_time": "2022-05-22T18:45:05.975Z"
   },
   {
    "duration": 16,
    "start_time": "2022-05-22T18:45:06.251Z"
   },
   {
    "duration": 8,
    "start_time": "2022-05-22T18:45:06.269Z"
   },
   {
    "duration": 10,
    "start_time": "2022-05-22T18:45:06.279Z"
   },
   {
    "duration": 11,
    "start_time": "2022-05-22T18:45:06.291Z"
   },
   {
    "duration": 47,
    "start_time": "2022-05-22T18:45:06.304Z"
   },
   {
    "duration": 13,
    "start_time": "2022-05-22T18:45:06.353Z"
   },
   {
    "duration": 198,
    "start_time": "2022-05-22T18:45:06.367Z"
   },
   {
    "duration": 5,
    "start_time": "2022-05-22T18:45:06.567Z"
   },
   {
    "duration": 12,
    "start_time": "2022-05-22T18:45:06.574Z"
   },
   {
    "duration": 181,
    "start_time": "2022-05-22T18:45:06.588Z"
   },
   {
    "duration": 7,
    "start_time": "2022-05-22T18:45:06.771Z"
   },
   {
    "duration": 27,
    "start_time": "2022-05-22T18:45:06.780Z"
   },
   {
    "duration": 7,
    "start_time": "2022-05-22T18:45:06.808Z"
   },
   {
    "duration": 330,
    "start_time": "2022-05-22T18:45:06.817Z"
   },
   {
    "duration": 6,
    "start_time": "2022-05-22T18:45:07.149Z"
   },
   {
    "duration": 11,
    "start_time": "2022-05-22T18:45:07.157Z"
   },
   {
    "duration": 184,
    "start_time": "2022-05-22T18:45:07.171Z"
   },
   {
    "duration": 11,
    "start_time": "2022-05-22T18:45:07.357Z"
   },
   {
    "duration": 166,
    "start_time": "2022-05-22T18:45:07.370Z"
   },
   {
    "duration": 12,
    "start_time": "2022-05-22T18:45:07.540Z"
   },
   {
    "duration": 156,
    "start_time": "2022-05-22T18:45:07.554Z"
   },
   {
    "duration": 30,
    "start_time": "2022-05-22T18:45:07.712Z"
   },
   {
    "duration": 3,
    "start_time": "2022-05-22T18:45:07.744Z"
   },
   {
    "duration": 7,
    "start_time": "2022-05-22T18:45:07.749Z"
   },
   {
    "duration": 10,
    "start_time": "2022-05-22T18:45:07.758Z"
   },
   {
    "duration": 5,
    "start_time": "2022-05-22T18:45:10.060Z"
   },
   {
    "duration": 33,
    "start_time": "2022-05-22T18:45:13.956Z"
   },
   {
    "duration": 4,
    "start_time": "2022-05-22T18:45:59.699Z"
   },
   {
    "duration": 6,
    "start_time": "2022-05-22T18:46:00.676Z"
   },
   {
    "duration": 18,
    "start_time": "2022-05-22T18:46:21.361Z"
   },
   {
    "duration": 142,
    "start_time": "2022-05-22T18:46:23.204Z"
   },
   {
    "duration": 134,
    "start_time": "2022-05-22T18:47:21.316Z"
   },
   {
    "duration": 9,
    "start_time": "2022-05-22T18:53:38.559Z"
   },
   {
    "duration": 13,
    "start_time": "2022-05-22T18:53:41.959Z"
   },
   {
    "duration": 10,
    "start_time": "2022-05-22T18:53:43.357Z"
   },
   {
    "duration": 9,
    "start_time": "2022-05-22T18:53:44.103Z"
   },
   {
    "duration": 555,
    "start_time": "2022-05-22T18:53:45.968Z"
   },
   {
    "duration": 9,
    "start_time": "2022-05-22T18:56:59.464Z"
   },
   {
    "duration": 169,
    "start_time": "2022-05-22T18:57:00.064Z"
   },
   {
    "duration": 145,
    "start_time": "2022-05-22T19:04:08.759Z"
   },
   {
    "duration": 17,
    "start_time": "2022-05-22T19:04:19.484Z"
   },
   {
    "duration": 175,
    "start_time": "2022-05-22T19:08:02.427Z"
   },
   {
    "duration": 177,
    "start_time": "2022-05-22T19:11:42.085Z"
   },
   {
    "duration": 225,
    "start_time": "2022-05-22T19:13:17.043Z"
   },
   {
    "duration": 434,
    "start_time": "2022-05-22T19:13:34.401Z"
   },
   {
    "duration": 920,
    "start_time": "2022-05-23T18:31:08.958Z"
   },
   {
    "duration": 202,
    "start_time": "2022-05-23T18:31:09.881Z"
   },
   {
    "duration": 16,
    "start_time": "2022-05-23T18:31:10.085Z"
   },
   {
    "duration": 93,
    "start_time": "2022-05-23T18:31:10.103Z"
   },
   {
    "duration": 8,
    "start_time": "2022-05-23T18:31:10.198Z"
   },
   {
    "duration": 9,
    "start_time": "2022-05-23T18:31:10.207Z"
   },
   {
    "duration": 27,
    "start_time": "2022-05-23T18:31:10.217Z"
   },
   {
    "duration": 7,
    "start_time": "2022-05-23T18:31:10.246Z"
   },
   {
    "duration": 9,
    "start_time": "2022-05-23T18:31:10.255Z"
   },
   {
    "duration": 4,
    "start_time": "2022-05-23T18:31:10.267Z"
   },
   {
    "duration": 6,
    "start_time": "2022-05-23T18:31:10.272Z"
   },
   {
    "duration": 68,
    "start_time": "2022-05-23T18:31:10.280Z"
   },
   {
    "duration": 5,
    "start_time": "2022-05-23T18:31:10.350Z"
   },
   {
    "duration": 45,
    "start_time": "2022-05-23T18:31:10.357Z"
   },
   {
    "duration": 6,
    "start_time": "2022-05-23T18:31:10.404Z"
   },
   {
    "duration": 31,
    "start_time": "2022-05-23T18:31:10.412Z"
   },
   {
    "duration": 5,
    "start_time": "2022-05-23T18:31:10.445Z"
   },
   {
    "duration": 8,
    "start_time": "2022-05-23T18:31:10.452Z"
   },
   {
    "duration": 7,
    "start_time": "2022-05-23T18:31:10.461Z"
   },
   {
    "duration": 36,
    "start_time": "2022-05-23T18:31:10.469Z"
   },
   {
    "duration": 39,
    "start_time": "2022-05-23T18:31:10.507Z"
   },
   {
    "duration": 8,
    "start_time": "2022-05-23T18:31:10.547Z"
   },
   {
    "duration": 8,
    "start_time": "2022-05-23T18:31:10.557Z"
   },
   {
    "duration": 38,
    "start_time": "2022-05-23T18:31:10.566Z"
   },
   {
    "duration": 44,
    "start_time": "2022-05-23T18:31:10.607Z"
   },
   {
    "duration": 4,
    "start_time": "2022-05-23T18:31:10.653Z"
   },
   {
    "duration": 8,
    "start_time": "2022-05-23T18:31:10.659Z"
   },
   {
    "duration": 7,
    "start_time": "2022-05-23T18:31:10.673Z"
   },
   {
    "duration": 9,
    "start_time": "2022-05-23T18:31:10.683Z"
   },
   {
    "duration": 8,
    "start_time": "2022-05-23T18:31:10.694Z"
   },
   {
    "duration": 4,
    "start_time": "2022-05-23T18:31:10.704Z"
   },
   {
    "duration": 318,
    "start_time": "2022-05-23T18:31:10.710Z"
   },
   {
    "duration": 11,
    "start_time": "2022-05-23T18:31:11.030Z"
   },
   {
    "duration": 5,
    "start_time": "2022-05-23T18:31:11.042Z"
   },
   {
    "duration": 298,
    "start_time": "2022-05-23T18:31:11.048Z"
   },
   {
    "duration": 264,
    "start_time": "2022-05-23T18:31:11.348Z"
   },
   {
    "duration": 352,
    "start_time": "2022-05-23T18:31:11.614Z"
   },
   {
    "duration": 314,
    "start_time": "2022-05-23T18:31:11.968Z"
   },
   {
    "duration": 270,
    "start_time": "2022-05-23T18:31:12.284Z"
   },
   {
    "duration": 273,
    "start_time": "2022-05-23T18:31:12.556Z"
   },
   {
    "duration": 249,
    "start_time": "2022-05-23T18:31:12.831Z"
   },
   {
    "duration": 280,
    "start_time": "2022-05-23T18:31:13.082Z"
   },
   {
    "duration": 351,
    "start_time": "2022-05-23T18:31:13.364Z"
   },
   {
    "duration": 25,
    "start_time": "2022-05-23T18:31:13.717Z"
   },
   {
    "duration": 9,
    "start_time": "2022-05-23T18:31:13.744Z"
   },
   {
    "duration": 13,
    "start_time": "2022-05-23T18:31:13.754Z"
   },
   {
    "duration": 9,
    "start_time": "2022-05-23T18:31:13.769Z"
   },
   {
    "duration": 15,
    "start_time": "2022-05-23T18:31:13.780Z"
   },
   {
    "duration": 11,
    "start_time": "2022-05-23T18:31:13.797Z"
   },
   {
    "duration": 214,
    "start_time": "2022-05-23T18:31:13.810Z"
   },
   {
    "duration": 6,
    "start_time": "2022-05-23T18:31:14.025Z"
   },
   {
    "duration": 11,
    "start_time": "2022-05-23T18:31:14.042Z"
   },
   {
    "duration": 190,
    "start_time": "2022-05-23T18:31:14.055Z"
   },
   {
    "duration": 5,
    "start_time": "2022-05-23T18:31:14.247Z"
   },
   {
    "duration": 24,
    "start_time": "2022-05-23T18:31:14.253Z"
   },
   {
    "duration": 8,
    "start_time": "2022-05-23T18:31:14.278Z"
   },
   {
    "duration": 223,
    "start_time": "2022-05-23T18:31:14.288Z"
   },
   {
    "duration": 5,
    "start_time": "2022-05-23T18:31:14.513Z"
   },
   {
    "duration": 23,
    "start_time": "2022-05-23T18:31:14.520Z"
   },
   {
    "duration": 163,
    "start_time": "2022-05-23T18:31:14.545Z"
   },
   {
    "duration": 11,
    "start_time": "2022-05-23T18:31:14.709Z"
   },
   {
    "duration": 175,
    "start_time": "2022-05-23T18:31:14.722Z"
   },
   {
    "duration": 10,
    "start_time": "2022-05-23T18:31:14.899Z"
   },
   {
    "duration": 165,
    "start_time": "2022-05-23T18:31:14.911Z"
   },
   {
    "duration": 20,
    "start_time": "2022-05-23T18:31:15.077Z"
   },
   {
    "duration": 3,
    "start_time": "2022-05-23T18:31:15.099Z"
   },
   {
    "duration": 14,
    "start_time": "2022-05-23T18:31:15.104Z"
   },
   {
    "duration": 26,
    "start_time": "2022-05-23T18:31:15.119Z"
   },
   {
    "duration": 6,
    "start_time": "2022-05-23T18:31:15.147Z"
   },
   {
    "duration": 19,
    "start_time": "2022-05-23T18:31:15.155Z"
   },
   {
    "duration": 8,
    "start_time": "2022-05-23T18:31:15.176Z"
   },
   {
    "duration": 20,
    "start_time": "2022-05-23T18:31:15.185Z"
   },
   {
    "duration": 160,
    "start_time": "2022-05-23T18:31:15.207Z"
   },
   {
    "duration": 9,
    "start_time": "2022-05-23T18:31:15.368Z"
   },
   {
    "duration": 16,
    "start_time": "2022-05-23T18:31:15.379Z"
   },
   {
    "duration": 189,
    "start_time": "2022-05-23T18:31:15.397Z"
   },
   {
    "duration": 18,
    "start_time": "2022-05-23T18:31:15.588Z"
   },
   {
    "duration": 220,
    "start_time": "2022-05-23T18:31:15.607Z"
   },
   {
    "duration": 27,
    "start_time": "2022-05-23T18:31:15.830Z"
   },
   {
    "duration": 0,
    "start_time": "2022-05-23T18:31:15.859Z"
   },
   {
    "duration": 0,
    "start_time": "2022-05-23T18:31:15.860Z"
   },
   {
    "duration": 0,
    "start_time": "2022-05-23T18:31:15.861Z"
   },
   {
    "duration": 0,
    "start_time": "2022-05-23T18:31:15.862Z"
   },
   {
    "duration": 275,
    "start_time": "2022-05-23T18:33:29.818Z"
   },
   {
    "duration": 193,
    "start_time": "2022-05-23T18:35:00.073Z"
   },
   {
    "duration": 163,
    "start_time": "2022-05-23T18:36:20.416Z"
   },
   {
    "duration": 228,
    "start_time": "2022-05-23T18:37:31.777Z"
   },
   {
    "duration": 204,
    "start_time": "2022-05-23T18:38:22.873Z"
   },
   {
    "duration": 185,
    "start_time": "2022-05-23T18:40:03.874Z"
   },
   {
    "duration": 182,
    "start_time": "2022-05-23T18:43:09.383Z"
   },
   {
    "duration": 10,
    "start_time": "2022-05-23T18:43:11.667Z"
   },
   {
    "duration": 172,
    "start_time": "2022-05-23T18:43:13.261Z"
   },
   {
    "duration": 8,
    "start_time": "2022-05-23T18:50:36.262Z"
   },
   {
    "duration": 159,
    "start_time": "2022-05-23T18:56:23.981Z"
   },
   {
    "duration": 754,
    "start_time": "2022-05-23T20:01:16.969Z"
   },
   {
    "duration": 188,
    "start_time": "2022-05-23T20:01:17.725Z"
   },
   {
    "duration": 26,
    "start_time": "2022-05-23T20:01:17.915Z"
   },
   {
    "duration": 117,
    "start_time": "2022-05-23T20:01:17.944Z"
   },
   {
    "duration": 8,
    "start_time": "2022-05-23T20:01:18.063Z"
   },
   {
    "duration": 22,
    "start_time": "2022-05-23T20:01:18.073Z"
   },
   {
    "duration": 8,
    "start_time": "2022-05-23T20:01:18.097Z"
   },
   {
    "duration": 6,
    "start_time": "2022-05-23T20:01:18.107Z"
   },
   {
    "duration": 30,
    "start_time": "2022-05-23T20:01:18.115Z"
   },
   {
    "duration": 7,
    "start_time": "2022-05-23T20:01:18.149Z"
   },
   {
    "duration": 7,
    "start_time": "2022-05-23T20:01:18.158Z"
   },
   {
    "duration": 30,
    "start_time": "2022-05-23T20:01:18.167Z"
   },
   {
    "duration": 6,
    "start_time": "2022-05-23T20:01:18.199Z"
   },
   {
    "duration": 74,
    "start_time": "2022-05-23T20:01:18.207Z"
   },
   {
    "duration": 7,
    "start_time": "2022-05-23T20:01:18.283Z"
   },
   {
    "duration": 7,
    "start_time": "2022-05-23T20:01:18.292Z"
   },
   {
    "duration": 6,
    "start_time": "2022-05-23T20:01:18.301Z"
   },
   {
    "duration": 34,
    "start_time": "2022-05-23T20:01:18.309Z"
   },
   {
    "duration": 10,
    "start_time": "2022-05-23T20:01:18.345Z"
   },
   {
    "duration": 39,
    "start_time": "2022-05-23T20:01:18.357Z"
   },
   {
    "duration": 7,
    "start_time": "2022-05-23T20:01:18.398Z"
   },
   {
    "duration": 6,
    "start_time": "2022-05-23T20:01:18.407Z"
   },
   {
    "duration": 27,
    "start_time": "2022-05-23T20:01:18.415Z"
   },
   {
    "duration": 30,
    "start_time": "2022-05-23T20:01:18.445Z"
   },
   {
    "duration": 14,
    "start_time": "2022-05-23T20:01:18.477Z"
   },
   {
    "duration": 4,
    "start_time": "2022-05-23T20:01:18.493Z"
   },
   {
    "duration": 9,
    "start_time": "2022-05-23T20:01:18.499Z"
   },
   {
    "duration": 8,
    "start_time": "2022-05-23T20:01:18.544Z"
   },
   {
    "duration": 9,
    "start_time": "2022-05-23T20:01:18.554Z"
   },
   {
    "duration": 6,
    "start_time": "2022-05-23T20:01:18.566Z"
   },
   {
    "duration": 9,
    "start_time": "2022-05-23T20:01:18.574Z"
   },
   {
    "duration": 302,
    "start_time": "2022-05-23T20:01:18.585Z"
   },
   {
    "duration": 4,
    "start_time": "2022-05-23T20:01:18.889Z"
   },
   {
    "duration": 8,
    "start_time": "2022-05-23T20:01:18.894Z"
   },
   {
    "duration": 278,
    "start_time": "2022-05-23T20:01:18.904Z"
   },
   {
    "duration": 261,
    "start_time": "2022-05-23T20:01:19.183Z"
   },
   {
    "duration": 335,
    "start_time": "2022-05-23T20:01:19.445Z"
   },
   {
    "duration": 310,
    "start_time": "2022-05-23T20:01:19.782Z"
   },
   {
    "duration": 263,
    "start_time": "2022-05-23T20:01:20.094Z"
   },
   {
    "duration": 266,
    "start_time": "2022-05-23T20:01:20.360Z"
   },
   {
    "duration": 246,
    "start_time": "2022-05-23T20:01:20.628Z"
   },
   {
    "duration": 308,
    "start_time": "2022-05-23T20:01:20.876Z"
   },
   {
    "duration": 342,
    "start_time": "2022-05-23T20:01:21.185Z"
   },
   {
    "duration": 19,
    "start_time": "2022-05-23T20:01:21.529Z"
   },
   {
    "duration": 9,
    "start_time": "2022-05-23T20:01:21.550Z"
   },
   {
    "duration": 10,
    "start_time": "2022-05-23T20:01:21.560Z"
   },
   {
    "duration": 9,
    "start_time": "2022-05-23T20:01:21.571Z"
   },
   {
    "duration": 14,
    "start_time": "2022-05-23T20:01:21.582Z"
   },
   {
    "duration": 50,
    "start_time": "2022-05-23T20:01:21.598Z"
   },
   {
    "duration": 183,
    "start_time": "2022-05-23T20:01:21.650Z"
   },
   {
    "duration": 15,
    "start_time": "2022-05-23T20:01:21.835Z"
   },
   {
    "duration": 198,
    "start_time": "2022-05-23T20:01:21.852Z"
   },
   {
    "duration": 5,
    "start_time": "2022-05-23T20:01:22.052Z"
   },
   {
    "duration": 16,
    "start_time": "2022-05-23T20:01:22.059Z"
   },
   {
    "duration": 7,
    "start_time": "2022-05-23T20:01:22.077Z"
   },
   {
    "duration": 241,
    "start_time": "2022-05-23T20:01:22.085Z"
   },
   {
    "duration": 21,
    "start_time": "2022-05-23T20:01:22.327Z"
   },
   {
    "duration": 194,
    "start_time": "2022-05-23T20:01:22.349Z"
   },
   {
    "duration": 11,
    "start_time": "2022-05-23T20:01:22.545Z"
   },
   {
    "duration": 175,
    "start_time": "2022-05-23T20:01:22.558Z"
   },
   {
    "duration": 11,
    "start_time": "2022-05-23T20:01:22.734Z"
   },
   {
    "duration": 147,
    "start_time": "2022-05-23T20:01:22.746Z"
   },
   {
    "duration": 17,
    "start_time": "2022-05-23T20:01:22.894Z"
   },
   {
    "duration": 2,
    "start_time": "2022-05-23T20:01:22.913Z"
   },
   {
    "duration": 14,
    "start_time": "2022-05-23T20:01:22.917Z"
   },
   {
    "duration": 12,
    "start_time": "2022-05-23T20:01:22.932Z"
   },
   {
    "duration": 10,
    "start_time": "2022-05-23T20:01:22.945Z"
   },
   {
    "duration": 6,
    "start_time": "2022-05-23T20:01:22.957Z"
   },
   {
    "duration": 5,
    "start_time": "2022-05-23T20:01:22.964Z"
   },
   {
    "duration": 20,
    "start_time": "2022-05-23T20:01:22.971Z"
   },
   {
    "duration": 6,
    "start_time": "2022-05-23T20:01:22.993Z"
   },
   {
    "duration": 12,
    "start_time": "2022-05-23T20:01:23.001Z"
   },
   {
    "duration": 30,
    "start_time": "2022-05-23T20:01:23.015Z"
   },
   {
    "duration": 182,
    "start_time": "2022-05-23T20:01:23.047Z"
   },
   {
    "duration": 13,
    "start_time": "2022-05-23T20:01:23.231Z"
   },
   {
    "duration": 174,
    "start_time": "2022-05-23T20:01:23.246Z"
   },
   {
    "duration": 26,
    "start_time": "2022-05-23T20:01:23.425Z"
   },
   {
    "duration": 207,
    "start_time": "2022-05-23T20:01:23.453Z"
   },
   {
    "duration": 265,
    "start_time": "2022-05-23T20:01:23.662Z"
   },
   {
    "duration": 201,
    "start_time": "2022-05-23T20:01:23.929Z"
   },
   {
    "duration": 181,
    "start_time": "2022-05-23T20:01:24.132Z"
   },
   {
    "duration": 11,
    "start_time": "2022-05-23T20:11:01.539Z"
   },
   {
    "duration": 8,
    "start_time": "2022-05-23T20:11:12.690Z"
   },
   {
    "duration": 8,
    "start_time": "2022-05-23T20:12:37.354Z"
   },
   {
    "duration": 7,
    "start_time": "2022-05-23T20:12:49.256Z"
   },
   {
    "duration": 675,
    "start_time": "2022-05-23T20:31:52.682Z"
   },
   {
    "duration": 131,
    "start_time": "2022-05-23T20:31:53.359Z"
   },
   {
    "duration": 15,
    "start_time": "2022-05-23T20:31:53.492Z"
   },
   {
    "duration": 91,
    "start_time": "2022-05-23T20:31:53.509Z"
   },
   {
    "duration": 7,
    "start_time": "2022-05-23T20:31:53.601Z"
   },
   {
    "duration": 10,
    "start_time": "2022-05-23T20:31:53.610Z"
   },
   {
    "duration": 20,
    "start_time": "2022-05-23T20:31:53.622Z"
   },
   {
    "duration": 5,
    "start_time": "2022-05-23T20:31:53.643Z"
   },
   {
    "duration": 12,
    "start_time": "2022-05-23T20:31:53.649Z"
   },
   {
    "duration": 4,
    "start_time": "2022-05-23T20:31:53.664Z"
   },
   {
    "duration": 7,
    "start_time": "2022-05-23T20:31:53.669Z"
   },
   {
    "duration": 27,
    "start_time": "2022-05-23T20:31:53.677Z"
   },
   {
    "duration": 6,
    "start_time": "2022-05-23T20:31:53.706Z"
   },
   {
    "duration": 41,
    "start_time": "2022-05-23T20:31:53.741Z"
   },
   {
    "duration": 7,
    "start_time": "2022-05-23T20:31:53.784Z"
   },
   {
    "duration": 10,
    "start_time": "2022-05-23T20:31:53.793Z"
   },
   {
    "duration": 10,
    "start_time": "2022-05-23T20:31:53.804Z"
   },
   {
    "duration": 26,
    "start_time": "2022-05-23T20:31:53.816Z"
   },
   {
    "duration": 35,
    "start_time": "2022-05-23T20:31:53.844Z"
   },
   {
    "duration": 8,
    "start_time": "2022-05-23T20:31:53.881Z"
   },
   {
    "duration": 7,
    "start_time": "2022-05-23T20:31:53.890Z"
   },
   {
    "duration": 5,
    "start_time": "2022-05-23T20:31:53.899Z"
   },
   {
    "duration": 62,
    "start_time": "2022-05-23T20:31:53.906Z"
   },
   {
    "duration": 13,
    "start_time": "2022-05-23T20:31:53.969Z"
   },
   {
    "duration": 3,
    "start_time": "2022-05-23T20:31:53.984Z"
   },
   {
    "duration": 6,
    "start_time": "2022-05-23T20:31:53.989Z"
   },
   {
    "duration": 7,
    "start_time": "2022-05-23T20:31:53.996Z"
   },
   {
    "duration": 34,
    "start_time": "2022-05-23T20:31:54.007Z"
   },
   {
    "duration": 6,
    "start_time": "2022-05-23T20:31:54.043Z"
   },
   {
    "duration": 4,
    "start_time": "2022-05-23T20:31:54.050Z"
   },
   {
    "duration": 290,
    "start_time": "2022-05-23T20:31:54.055Z"
   },
   {
    "duration": 4,
    "start_time": "2022-05-23T20:31:54.348Z"
   },
   {
    "duration": 15,
    "start_time": "2022-05-23T20:31:54.354Z"
   },
   {
    "duration": 255,
    "start_time": "2022-05-23T20:31:54.371Z"
   },
   {
    "duration": 265,
    "start_time": "2022-05-23T20:31:54.628Z"
   },
   {
    "duration": 363,
    "start_time": "2022-05-23T20:31:54.895Z"
   },
   {
    "duration": 273,
    "start_time": "2022-05-23T20:31:55.260Z"
   },
   {
    "duration": 279,
    "start_time": "2022-05-23T20:31:55.534Z"
   },
   {
    "duration": 266,
    "start_time": "2022-05-23T20:31:55.814Z"
   },
   {
    "duration": 252,
    "start_time": "2022-05-23T20:31:56.082Z"
   },
   {
    "duration": 270,
    "start_time": "2022-05-23T20:31:56.336Z"
   },
   {
    "duration": 385,
    "start_time": "2022-05-23T20:31:56.607Z"
   },
   {
    "duration": 13,
    "start_time": "2022-05-23T20:31:56.994Z"
   },
   {
    "duration": 11,
    "start_time": "2022-05-23T20:31:57.009Z"
   },
   {
    "duration": 31,
    "start_time": "2022-05-23T20:31:57.022Z"
   },
   {
    "duration": 13,
    "start_time": "2022-05-23T20:31:57.055Z"
   },
   {
    "duration": 24,
    "start_time": "2022-05-23T20:31:57.071Z"
   },
   {
    "duration": 14,
    "start_time": "2022-05-23T20:31:57.097Z"
   },
   {
    "duration": 196,
    "start_time": "2022-05-23T20:31:57.112Z"
   },
   {
    "duration": 10,
    "start_time": "2022-05-23T20:31:57.310Z"
   },
   {
    "duration": 179,
    "start_time": "2022-05-23T20:31:57.322Z"
   },
   {
    "duration": 14,
    "start_time": "2022-05-23T20:31:57.503Z"
   },
   {
    "duration": 8,
    "start_time": "2022-05-23T20:31:57.518Z"
   },
   {
    "duration": 194,
    "start_time": "2022-05-23T20:31:57.542Z"
   },
   {
    "duration": 9,
    "start_time": "2022-05-23T20:31:57.741Z"
   },
   {
    "duration": 178,
    "start_time": "2022-05-23T20:31:57.752Z"
   },
   {
    "duration": 16,
    "start_time": "2022-05-23T20:31:57.932Z"
   },
   {
    "duration": 165,
    "start_time": "2022-05-23T20:31:57.949Z"
   },
   {
    "duration": 9,
    "start_time": "2022-05-23T20:31:58.116Z"
   },
   {
    "duration": 144,
    "start_time": "2022-05-23T20:31:58.127Z"
   },
   {
    "duration": 18,
    "start_time": "2022-05-23T20:31:58.272Z"
   },
   {
    "duration": 3,
    "start_time": "2022-05-23T20:31:58.291Z"
   },
   {
    "duration": 6,
    "start_time": "2022-05-23T20:31:58.295Z"
   },
   {
    "duration": 9,
    "start_time": "2022-05-23T20:31:58.302Z"
   },
   {
    "duration": 4,
    "start_time": "2022-05-23T20:31:58.313Z"
   },
   {
    "duration": 23,
    "start_time": "2022-05-23T20:31:58.319Z"
   },
   {
    "duration": 5,
    "start_time": "2022-05-23T20:31:58.344Z"
   },
   {
    "duration": 18,
    "start_time": "2022-05-23T20:31:58.351Z"
   },
   {
    "duration": 7,
    "start_time": "2022-05-23T20:31:58.370Z"
   },
   {
    "duration": 9,
    "start_time": "2022-05-23T20:31:58.378Z"
   },
   {
    "duration": 14,
    "start_time": "2022-05-23T20:31:58.388Z"
   },
   {
    "duration": 190,
    "start_time": "2022-05-23T20:31:58.404Z"
   },
   {
    "duration": 10,
    "start_time": "2022-05-23T20:31:58.595Z"
   },
   {
    "duration": 166,
    "start_time": "2022-05-23T20:31:58.606Z"
   },
   {
    "duration": 17,
    "start_time": "2022-05-23T20:31:58.773Z"
   },
   {
    "duration": 192,
    "start_time": "2022-05-23T20:31:58.791Z"
   },
   {
    "duration": 248,
    "start_time": "2022-05-23T20:31:58.985Z"
   },
   {
    "duration": 162,
    "start_time": "2022-05-23T20:31:59.235Z"
   },
   {
    "duration": 168,
    "start_time": "2022-05-23T20:31:59.399Z"
   },
   {
    "duration": 155,
    "start_time": "2022-05-23T20:32:26.620Z"
   },
   {
    "duration": 736,
    "start_time": "2022-05-23T20:32:40.308Z"
   },
   {
    "duration": 131,
    "start_time": "2022-05-23T20:32:41.046Z"
   },
   {
    "duration": 16,
    "start_time": "2022-05-23T20:32:41.178Z"
   },
   {
    "duration": 103,
    "start_time": "2022-05-23T20:32:41.196Z"
   },
   {
    "duration": 8,
    "start_time": "2022-05-23T20:32:41.301Z"
   },
   {
    "duration": 9,
    "start_time": "2022-05-23T20:32:41.311Z"
   },
   {
    "duration": 20,
    "start_time": "2022-05-23T20:32:41.322Z"
   },
   {
    "duration": 5,
    "start_time": "2022-05-23T20:32:41.344Z"
   },
   {
    "duration": 8,
    "start_time": "2022-05-23T20:32:41.351Z"
   },
   {
    "duration": 5,
    "start_time": "2022-05-23T20:32:41.362Z"
   },
   {
    "duration": 6,
    "start_time": "2022-05-23T20:32:41.369Z"
   },
   {
    "duration": 64,
    "start_time": "2022-05-23T20:32:41.377Z"
   },
   {
    "duration": 6,
    "start_time": "2022-05-23T20:32:41.443Z"
   },
   {
    "duration": 47,
    "start_time": "2022-05-23T20:32:41.451Z"
   },
   {
    "duration": 7,
    "start_time": "2022-05-23T20:32:41.499Z"
   },
   {
    "duration": 11,
    "start_time": "2022-05-23T20:32:41.507Z"
   },
   {
    "duration": 6,
    "start_time": "2022-05-23T20:32:41.541Z"
   },
   {
    "duration": 7,
    "start_time": "2022-05-23T20:32:41.548Z"
   },
   {
    "duration": 43,
    "start_time": "2022-05-23T20:32:41.557Z"
   },
   {
    "duration": 7,
    "start_time": "2022-05-23T20:32:41.601Z"
   },
   {
    "duration": 14,
    "start_time": "2022-05-23T20:32:41.610Z"
   },
   {
    "duration": 5,
    "start_time": "2022-05-23T20:32:41.642Z"
   },
   {
    "duration": 32,
    "start_time": "2022-05-23T20:32:41.649Z"
   },
   {
    "duration": 13,
    "start_time": "2022-05-23T20:32:41.682Z"
   },
   {
    "duration": 3,
    "start_time": "2022-05-23T20:32:41.696Z"
   },
   {
    "duration": 4,
    "start_time": "2022-05-23T20:32:41.701Z"
   },
   {
    "duration": 35,
    "start_time": "2022-05-23T20:32:41.706Z"
   },
   {
    "duration": 5,
    "start_time": "2022-05-23T20:32:41.746Z"
   },
   {
    "duration": 9,
    "start_time": "2022-05-23T20:32:41.753Z"
   },
   {
    "duration": 4,
    "start_time": "2022-05-23T20:32:41.764Z"
   },
   {
    "duration": 304,
    "start_time": "2022-05-23T20:32:41.770Z"
   },
   {
    "duration": 3,
    "start_time": "2022-05-23T20:32:42.076Z"
   },
   {
    "duration": 7,
    "start_time": "2022-05-23T20:32:42.081Z"
   },
   {
    "duration": 290,
    "start_time": "2022-05-23T20:32:42.090Z"
   },
   {
    "duration": 252,
    "start_time": "2022-05-23T20:32:42.382Z"
   },
   {
    "duration": 346,
    "start_time": "2022-05-23T20:32:42.641Z"
   },
   {
    "duration": 275,
    "start_time": "2022-05-23T20:32:42.988Z"
   },
   {
    "duration": 269,
    "start_time": "2022-05-23T20:32:43.264Z"
   },
   {
    "duration": 268,
    "start_time": "2022-05-23T20:32:43.540Z"
   },
   {
    "duration": 290,
    "start_time": "2022-05-23T20:32:43.810Z"
   },
   {
    "duration": 294,
    "start_time": "2022-05-23T20:32:44.101Z"
   },
   {
    "duration": 335,
    "start_time": "2022-05-23T20:32:44.397Z"
   },
   {
    "duration": 16,
    "start_time": "2022-05-23T20:32:44.734Z"
   },
   {
    "duration": 8,
    "start_time": "2022-05-23T20:32:44.752Z"
   },
   {
    "duration": 8,
    "start_time": "2022-05-23T20:32:44.762Z"
   },
   {
    "duration": 11,
    "start_time": "2022-05-23T20:32:44.772Z"
   },
   {
    "duration": 14,
    "start_time": "2022-05-23T20:32:44.784Z"
   },
   {
    "duration": 41,
    "start_time": "2022-05-23T20:32:44.800Z"
   },
   {
    "duration": 188,
    "start_time": "2022-05-23T20:32:44.843Z"
   },
   {
    "duration": 16,
    "start_time": "2022-05-23T20:32:45.033Z"
   },
   {
    "duration": 185,
    "start_time": "2022-05-23T20:32:45.051Z"
   },
   {
    "duration": 17,
    "start_time": "2022-05-23T20:32:45.237Z"
   },
   {
    "duration": 7,
    "start_time": "2022-05-23T20:32:45.255Z"
   },
   {
    "duration": 214,
    "start_time": "2022-05-23T20:32:45.263Z"
   },
   {
    "duration": 10,
    "start_time": "2022-05-23T20:32:45.478Z"
   },
   {
    "duration": 174,
    "start_time": "2022-05-23T20:32:45.490Z"
   },
   {
    "duration": 11,
    "start_time": "2022-05-23T20:32:45.665Z"
   },
   {
    "duration": 176,
    "start_time": "2022-05-23T20:32:45.678Z"
   },
   {
    "duration": 9,
    "start_time": "2022-05-23T20:32:45.856Z"
   },
   {
    "duration": 174,
    "start_time": "2022-05-23T20:32:45.867Z"
   },
   {
    "duration": 20,
    "start_time": "2022-05-23T20:32:46.043Z"
   },
   {
    "duration": 6,
    "start_time": "2022-05-23T20:32:46.065Z"
   },
   {
    "duration": 10,
    "start_time": "2022-05-23T20:32:46.073Z"
   },
   {
    "duration": 19,
    "start_time": "2022-05-23T20:32:46.085Z"
   },
   {
    "duration": 13,
    "start_time": "2022-05-23T20:32:46.105Z"
   },
   {
    "duration": 10,
    "start_time": "2022-05-23T20:32:46.119Z"
   },
   {
    "duration": 8,
    "start_time": "2022-05-23T20:32:46.131Z"
   },
   {
    "duration": 23,
    "start_time": "2022-05-23T20:32:46.140Z"
   },
   {
    "duration": 7,
    "start_time": "2022-05-23T20:32:46.165Z"
   },
   {
    "duration": 11,
    "start_time": "2022-05-23T20:32:46.173Z"
   },
   {
    "duration": 10,
    "start_time": "2022-05-23T20:32:46.185Z"
   },
   {
    "duration": 176,
    "start_time": "2022-05-23T20:32:46.197Z"
   },
   {
    "duration": 9,
    "start_time": "2022-05-23T20:32:46.375Z"
   },
   {
    "duration": 172,
    "start_time": "2022-05-23T20:32:46.386Z"
   },
   {
    "duration": 18,
    "start_time": "2022-05-23T20:32:46.560Z"
   },
   {
    "duration": 196,
    "start_time": "2022-05-23T20:32:46.580Z"
   },
   {
    "duration": 299,
    "start_time": "2022-05-23T20:32:46.778Z"
   },
   {
    "duration": 182,
    "start_time": "2022-05-23T20:32:47.078Z"
   },
   {
    "duration": 173,
    "start_time": "2022-05-23T20:32:47.262Z"
   },
   {
    "duration": 882,
    "start_time": "2022-05-24T01:38:22.188Z"
   },
   {
    "duration": 393,
    "start_time": "2022-05-24T01:38:23.072Z"
   },
   {
    "duration": 14,
    "start_time": "2022-05-24T01:38:23.467Z"
   },
   {
    "duration": 84,
    "start_time": "2022-05-24T01:38:23.482Z"
   },
   {
    "duration": 7,
    "start_time": "2022-05-24T01:38:23.567Z"
   },
   {
    "duration": 10,
    "start_time": "2022-05-24T01:38:23.575Z"
   },
   {
    "duration": 7,
    "start_time": "2022-05-24T01:38:23.586Z"
   },
   {
    "duration": 7,
    "start_time": "2022-05-24T01:38:23.594Z"
   },
   {
    "duration": 27,
    "start_time": "2022-05-24T01:38:23.602Z"
   },
   {
    "duration": 5,
    "start_time": "2022-05-24T01:38:23.631Z"
   },
   {
    "duration": 11,
    "start_time": "2022-05-24T01:38:23.637Z"
   },
   {
    "duration": 28,
    "start_time": "2022-05-24T01:38:23.650Z"
   },
   {
    "duration": 4,
    "start_time": "2022-05-24T01:38:23.680Z"
   },
   {
    "duration": 63,
    "start_time": "2022-05-24T01:38:23.686Z"
   },
   {
    "duration": 6,
    "start_time": "2022-05-24T01:38:23.751Z"
   },
   {
    "duration": 9,
    "start_time": "2022-05-24T01:38:23.759Z"
   },
   {
    "duration": 10,
    "start_time": "2022-05-24T01:38:23.769Z"
   },
   {
    "duration": 10,
    "start_time": "2022-05-24T01:38:23.781Z"
   },
   {
    "duration": 52,
    "start_time": "2022-05-24T01:38:23.793Z"
   },
   {
    "duration": 6,
    "start_time": "2022-05-24T01:38:23.847Z"
   },
   {
    "duration": 10,
    "start_time": "2022-05-24T01:38:23.855Z"
   },
   {
    "duration": 11,
    "start_time": "2022-05-24T01:38:23.866Z"
   },
   {
    "duration": 35,
    "start_time": "2022-05-24T01:38:23.878Z"
   },
   {
    "duration": 22,
    "start_time": "2022-05-24T01:38:23.914Z"
   },
   {
    "duration": 3,
    "start_time": "2022-05-24T01:38:23.938Z"
   },
   {
    "duration": 9,
    "start_time": "2022-05-24T01:38:23.943Z"
   },
   {
    "duration": 16,
    "start_time": "2022-05-24T01:38:23.954Z"
   },
   {
    "duration": 6,
    "start_time": "2022-05-24T01:38:23.977Z"
   },
   {
    "duration": 7,
    "start_time": "2022-05-24T01:38:23.985Z"
   },
   {
    "duration": 4,
    "start_time": "2022-05-24T01:38:23.994Z"
   },
   {
    "duration": 309,
    "start_time": "2022-05-24T01:38:23.999Z"
   },
   {
    "duration": 4,
    "start_time": "2022-05-24T01:38:24.310Z"
   },
   {
    "duration": 12,
    "start_time": "2022-05-24T01:38:24.315Z"
   },
   {
    "duration": 280,
    "start_time": "2022-05-24T01:38:24.328Z"
   },
   {
    "duration": 235,
    "start_time": "2022-05-24T01:38:24.609Z"
   },
   {
    "duration": 327,
    "start_time": "2022-05-24T01:38:24.846Z"
   },
   {
    "duration": 244,
    "start_time": "2022-05-24T01:38:25.175Z"
   },
   {
    "duration": 241,
    "start_time": "2022-05-24T01:38:25.421Z"
   },
   {
    "duration": 246,
    "start_time": "2022-05-24T01:38:25.663Z"
   },
   {
    "duration": 229,
    "start_time": "2022-05-24T01:38:25.911Z"
   },
   {
    "duration": 332,
    "start_time": "2022-05-24T01:38:26.141Z"
   },
   {
    "duration": 244,
    "start_time": "2022-05-24T01:38:26.475Z"
   },
   {
    "duration": 15,
    "start_time": "2022-05-24T01:38:26.720Z"
   },
   {
    "duration": 12,
    "start_time": "2022-05-24T01:38:26.737Z"
   },
   {
    "duration": 10,
    "start_time": "2022-05-24T01:38:26.751Z"
   },
   {
    "duration": 9,
    "start_time": "2022-05-24T01:38:26.762Z"
   },
   {
    "duration": 13,
    "start_time": "2022-05-24T01:38:26.773Z"
   },
   {
    "duration": 10,
    "start_time": "2022-05-24T01:38:26.787Z"
   },
   {
    "duration": 165,
    "start_time": "2022-05-24T01:38:26.826Z"
   },
   {
    "duration": 10,
    "start_time": "2022-05-24T01:38:26.993Z"
   },
   {
    "duration": 160,
    "start_time": "2022-05-24T01:38:27.004Z"
   },
   {
    "duration": 13,
    "start_time": "2022-05-24T01:38:27.166Z"
   },
   {
    "duration": 5,
    "start_time": "2022-05-24T01:38:27.181Z"
   },
   {
    "duration": 195,
    "start_time": "2022-05-24T01:38:27.188Z"
   },
   {
    "duration": 9,
    "start_time": "2022-05-24T01:38:27.385Z"
   },
   {
    "duration": 161,
    "start_time": "2022-05-24T01:38:27.396Z"
   },
   {
    "duration": 9,
    "start_time": "2022-05-24T01:38:27.558Z"
   },
   {
    "duration": 154,
    "start_time": "2022-05-24T01:38:27.569Z"
   },
   {
    "duration": 10,
    "start_time": "2022-05-24T01:38:27.726Z"
   },
   {
    "duration": 156,
    "start_time": "2022-05-24T01:38:27.737Z"
   },
   {
    "duration": 18,
    "start_time": "2022-05-24T01:38:27.894Z"
   },
   {
    "duration": 3,
    "start_time": "2022-05-24T01:38:27.925Z"
   },
   {
    "duration": 7,
    "start_time": "2022-05-24T01:38:27.929Z"
   },
   {
    "duration": 11,
    "start_time": "2022-05-24T01:38:27.938Z"
   },
   {
    "duration": 6,
    "start_time": "2022-05-24T01:38:27.950Z"
   },
   {
    "duration": 9,
    "start_time": "2022-05-24T01:38:27.958Z"
   },
   {
    "duration": 6,
    "start_time": "2022-05-24T01:38:27.968Z"
   },
   {
    "duration": 22,
    "start_time": "2022-05-24T01:38:27.975Z"
   },
   {
    "duration": 7,
    "start_time": "2022-05-24T01:38:27.998Z"
   },
   {
    "duration": 21,
    "start_time": "2022-05-24T01:38:28.006Z"
   },
   {
    "duration": 9,
    "start_time": "2022-05-24T01:38:28.029Z"
   },
   {
    "duration": 173,
    "start_time": "2022-05-24T01:38:28.039Z"
   },
   {
    "duration": 17,
    "start_time": "2022-05-24T01:38:28.214Z"
   },
   {
    "duration": 151,
    "start_time": "2022-05-24T01:38:28.233Z"
   },
   {
    "duration": 17,
    "start_time": "2022-05-24T01:38:28.385Z"
   },
   {
    "duration": 173,
    "start_time": "2022-05-24T01:38:28.403Z"
   },
   {
    "duration": 251,
    "start_time": "2022-05-24T01:38:28.577Z"
   },
   {
    "duration": 158,
    "start_time": "2022-05-24T01:38:28.829Z"
   },
   {
    "duration": 160,
    "start_time": "2022-05-24T01:38:28.988Z"
   },
   {
    "duration": 8,
    "start_time": "2022-05-24T01:54:44.466Z"
   },
   {
    "duration": 177,
    "start_time": "2022-05-24T02:05:27.638Z"
   },
   {
    "duration": 325,
    "start_time": "2022-05-24T02:05:34.263Z"
   },
   {
    "duration": 170,
    "start_time": "2022-05-24T02:06:16.442Z"
   },
   {
    "duration": 253,
    "start_time": "2022-05-24T02:06:24.147Z"
   },
   {
    "duration": 288,
    "start_time": "2022-05-24T02:06:32.065Z"
   },
   {
    "duration": 374,
    "start_time": "2022-05-24T02:06:35.462Z"
   },
   {
    "duration": 57,
    "start_time": "2022-05-24T02:07:21.251Z"
   },
   {
    "duration": 305,
    "start_time": "2022-05-24T02:10:40.207Z"
   },
   {
    "duration": 243,
    "start_time": "2022-05-24T02:10:48.849Z"
   },
   {
    "duration": 27,
    "start_time": "2022-05-24T02:44:26.276Z"
   },
   {
    "duration": 9,
    "start_time": "2022-05-24T02:51:51.957Z"
   },
   {
    "duration": 55,
    "start_time": "2022-05-25T16:57:49.662Z"
   },
   {
    "duration": 910,
    "start_time": "2022-05-25T16:57:52.905Z"
   },
   {
    "duration": 356,
    "start_time": "2022-05-25T16:57:53.818Z"
   },
   {
    "duration": 169,
    "start_time": "2022-05-25T17:03:05.553Z"
   },
   {
    "duration": 49,
    "start_time": "2022-05-25T17:03:51.005Z"
   },
   {
    "duration": 5,
    "start_time": "2022-05-25T17:04:53.724Z"
   },
   {
    "duration": 12,
    "start_time": "2022-05-25T17:05:37.132Z"
   },
   {
    "duration": 10,
    "start_time": "2022-05-25T17:05:42.420Z"
   },
   {
    "duration": 4,
    "start_time": "2022-05-25T17:06:10.845Z"
   },
   {
    "duration": 4,
    "start_time": "2022-05-25T17:06:26.324Z"
   },
   {
    "duration": 33,
    "start_time": "2022-05-25T17:07:53.778Z"
   },
   {
    "duration": 4,
    "start_time": "2022-05-25T17:08:04.949Z"
   },
   {
    "duration": 4,
    "start_time": "2022-05-25T17:08:13.095Z"
   },
   {
    "duration": 45,
    "start_time": "2022-05-25T17:08:18.332Z"
   },
   {
    "duration": 4,
    "start_time": "2022-05-25T17:08:35.038Z"
   },
   {
    "duration": 4,
    "start_time": "2022-05-25T17:08:46.271Z"
   },
   {
    "duration": 3,
    "start_time": "2022-05-25T17:08:59.906Z"
   },
   {
    "duration": 9,
    "start_time": "2022-05-25T17:09:08.759Z"
   },
   {
    "duration": 4,
    "start_time": "2022-05-25T17:09:11.951Z"
   },
   {
    "duration": 4,
    "start_time": "2022-05-25T17:09:18.985Z"
   },
   {
    "duration": 164,
    "start_time": "2022-05-25T17:12:48.496Z"
   },
   {
    "duration": 14,
    "start_time": "2022-05-25T17:13:23.886Z"
   },
   {
    "duration": 34,
    "start_time": "2022-05-25T17:13:36.808Z"
   },
   {
    "duration": 7,
    "start_time": "2022-05-25T17:14:01.819Z"
   },
   {
    "duration": 9,
    "start_time": "2022-05-25T17:15:07.905Z"
   },
   {
    "duration": 9,
    "start_time": "2022-05-25T17:15:14.655Z"
   },
   {
    "duration": 8,
    "start_time": "2022-05-25T17:15:17.590Z"
   },
   {
    "duration": 10,
    "start_time": "2022-05-25T17:16:41.655Z"
   },
   {
    "duration": 8,
    "start_time": "2022-05-25T17:16:44.761Z"
   },
   {
    "duration": 9,
    "start_time": "2022-05-25T17:29:24.312Z"
   },
   {
    "duration": 3,
    "start_time": "2022-05-25T17:29:31.587Z"
   },
   {
    "duration": 10,
    "start_time": "2022-05-25T17:29:50.654Z"
   },
   {
    "duration": 13,
    "start_time": "2022-05-25T17:31:47.199Z"
   },
   {
    "duration": 7,
    "start_time": "2022-05-25T17:31:48.215Z"
   },
   {
    "duration": 13,
    "start_time": "2022-05-25T17:31:54.334Z"
   },
   {
    "duration": 10,
    "start_time": "2022-05-25T17:32:03.334Z"
   },
   {
    "duration": 15,
    "start_time": "2022-05-25T17:38:13.074Z"
   },
   {
    "duration": 9,
    "start_time": "2022-05-25T17:39:27.218Z"
   },
   {
    "duration": 5,
    "start_time": "2022-05-25T17:39:44.619Z"
   },
   {
    "duration": 11,
    "start_time": "2022-05-25T17:39:55.338Z"
   },
   {
    "duration": 519,
    "start_time": "2022-05-25T17:41:25.746Z"
   },
   {
    "duration": 256,
    "start_time": "2022-05-25T17:41:34.297Z"
   },
   {
    "duration": 264,
    "start_time": "2022-05-25T17:41:44.104Z"
   },
   {
    "duration": 10,
    "start_time": "2022-05-25T17:42:20.620Z"
   },
   {
    "duration": 11,
    "start_time": "2022-05-25T17:42:42.993Z"
   },
   {
    "duration": 12,
    "start_time": "2022-05-25T17:42:47.199Z"
   },
   {
    "duration": 9,
    "start_time": "2022-05-25T17:43:13.970Z"
   },
   {
    "duration": 12,
    "start_time": "2022-05-25T17:43:22.375Z"
   },
   {
    "duration": 8,
    "start_time": "2022-05-25T17:45:21.683Z"
   },
   {
    "duration": 8,
    "start_time": "2022-05-25T17:45:24.955Z"
   },
   {
    "duration": 3,
    "start_time": "2022-05-25T17:47:43.945Z"
   },
   {
    "duration": 182,
    "start_time": "2022-05-25T17:47:43.950Z"
   },
   {
    "duration": 17,
    "start_time": "2022-05-25T17:47:44.134Z"
   },
   {
    "duration": 108,
    "start_time": "2022-05-25T17:47:44.153Z"
   },
   {
    "duration": 7,
    "start_time": "2022-05-25T17:47:44.263Z"
   },
   {
    "duration": 10,
    "start_time": "2022-05-25T17:47:44.272Z"
   },
   {
    "duration": 11,
    "start_time": "2022-05-25T17:47:44.284Z"
   },
   {
    "duration": 27,
    "start_time": "2022-05-25T17:47:44.296Z"
   },
   {
    "duration": 15,
    "start_time": "2022-05-25T17:47:44.324Z"
   },
   {
    "duration": 15,
    "start_time": "2022-05-25T17:47:44.340Z"
   },
   {
    "duration": 7,
    "start_time": "2022-05-25T17:47:44.358Z"
   },
   {
    "duration": 31,
    "start_time": "2022-05-25T17:47:44.366Z"
   },
   {
    "duration": 5,
    "start_time": "2022-05-25T17:47:44.399Z"
   },
   {
    "duration": 50,
    "start_time": "2022-05-25T17:47:44.405Z"
   },
   {
    "duration": 6,
    "start_time": "2022-05-25T17:47:44.457Z"
   },
   {
    "duration": 13,
    "start_time": "2022-05-25T17:47:44.464Z"
   },
   {
    "duration": 10,
    "start_time": "2022-05-25T17:47:44.478Z"
   },
   {
    "duration": 6,
    "start_time": "2022-05-25T17:47:44.489Z"
   },
   {
    "duration": 48,
    "start_time": "2022-05-25T17:47:44.496Z"
   },
   {
    "duration": 4,
    "start_time": "2022-05-25T17:47:44.546Z"
   },
   {
    "duration": 16,
    "start_time": "2022-05-25T17:47:44.551Z"
   },
   {
    "duration": 11,
    "start_time": "2022-05-25T17:47:44.568Z"
   },
   {
    "duration": 31,
    "start_time": "2022-05-25T17:47:44.581Z"
   },
   {
    "duration": 18,
    "start_time": "2022-05-25T17:47:44.614Z"
   },
   {
    "duration": 3,
    "start_time": "2022-05-25T17:47:44.634Z"
   },
   {
    "duration": 12,
    "start_time": "2022-05-25T17:47:44.639Z"
   },
   {
    "duration": 27,
    "start_time": "2022-05-25T17:47:44.653Z"
   },
   {
    "duration": 14,
    "start_time": "2022-05-25T17:47:44.682Z"
   },
   {
    "duration": 10,
    "start_time": "2022-05-25T17:47:44.699Z"
   },
   {
    "duration": 3,
    "start_time": "2022-05-25T17:47:44.710Z"
   },
   {
    "duration": 354,
    "start_time": "2022-05-25T17:47:44.715Z"
   },
   {
    "duration": 4,
    "start_time": "2022-05-25T17:47:45.071Z"
   },
   {
    "duration": 22,
    "start_time": "2022-05-25T17:47:45.076Z"
   },
   {
    "duration": 268,
    "start_time": "2022-05-25T17:47:45.099Z"
   },
   {
    "duration": 235,
    "start_time": "2022-05-25T17:47:45.369Z"
   },
   {
    "duration": 266,
    "start_time": "2022-05-25T17:47:45.605Z"
   },
   {
    "duration": 255,
    "start_time": "2022-05-25T17:47:45.872Z"
   },
   {
    "duration": 341,
    "start_time": "2022-05-25T17:47:46.129Z"
   },
   {
    "duration": 265,
    "start_time": "2022-05-25T17:47:46.471Z"
   },
   {
    "duration": 249,
    "start_time": "2022-05-25T17:47:46.737Z"
   },
   {
    "duration": 301,
    "start_time": "2022-05-25T17:47:46.988Z"
   },
   {
    "duration": 264,
    "start_time": "2022-05-25T17:47:47.290Z"
   },
   {
    "duration": 13,
    "start_time": "2022-05-25T17:47:47.556Z"
   },
   {
    "duration": 19,
    "start_time": "2022-05-25T17:47:47.571Z"
   },
   {
    "duration": 10,
    "start_time": "2022-05-25T17:47:47.592Z"
   },
   {
    "duration": 34,
    "start_time": "2022-05-25T17:47:47.604Z"
   },
   {
    "duration": 31,
    "start_time": "2022-05-25T17:47:47.640Z"
   },
   {
    "duration": 11,
    "start_time": "2022-05-25T17:47:47.673Z"
   },
   {
    "duration": 12,
    "start_time": "2022-05-25T17:47:47.685Z"
   },
   {
    "duration": 17,
    "start_time": "2022-05-25T17:47:47.699Z"
   },
   {
    "duration": 9,
    "start_time": "2022-05-25T17:47:47.720Z"
   },
   {
    "duration": 15,
    "start_time": "2022-05-25T17:47:47.731Z"
   },
   {
    "duration": 178,
    "start_time": "2022-05-25T17:47:47.747Z"
   },
   {
    "duration": 11,
    "start_time": "2022-05-25T17:47:47.926Z"
   },
   {
    "duration": 171,
    "start_time": "2022-05-25T17:47:47.939Z"
   },
   {
    "duration": 20,
    "start_time": "2022-05-25T17:47:48.112Z"
   },
   {
    "duration": 6,
    "start_time": "2022-05-25T17:47:48.134Z"
   },
   {
    "duration": 291,
    "start_time": "2022-05-25T17:47:48.141Z"
   },
   {
    "duration": 10,
    "start_time": "2022-05-25T17:47:48.434Z"
   },
   {
    "duration": 177,
    "start_time": "2022-05-25T17:47:48.446Z"
   },
   {
    "duration": 13,
    "start_time": "2022-05-25T17:47:48.625Z"
   },
   {
    "duration": 157,
    "start_time": "2022-05-25T17:47:48.640Z"
   },
   {
    "duration": 9,
    "start_time": "2022-05-25T17:47:48.799Z"
   },
   {
    "duration": 165,
    "start_time": "2022-05-25T17:47:48.823Z"
   },
   {
    "duration": 19,
    "start_time": "2022-05-25T17:47:48.990Z"
   },
   {
    "duration": 13,
    "start_time": "2022-05-25T17:47:49.010Z"
   },
   {
    "duration": 7,
    "start_time": "2022-05-25T17:47:49.026Z"
   },
   {
    "duration": 11,
    "start_time": "2022-05-25T17:47:49.034Z"
   },
   {
    "duration": 8,
    "start_time": "2022-05-25T17:47:49.046Z"
   },
   {
    "duration": 5,
    "start_time": "2022-05-25T17:47:49.055Z"
   },
   {
    "duration": 6,
    "start_time": "2022-05-25T17:47:49.061Z"
   },
   {
    "duration": 18,
    "start_time": "2022-05-25T17:47:49.068Z"
   },
   {
    "duration": 6,
    "start_time": "2022-05-25T17:47:49.088Z"
   },
   {
    "duration": 8,
    "start_time": "2022-05-25T17:47:49.123Z"
   },
   {
    "duration": 10,
    "start_time": "2022-05-25T17:47:49.132Z"
   },
   {
    "duration": 185,
    "start_time": "2022-05-25T17:47:49.143Z"
   },
   {
    "duration": 9,
    "start_time": "2022-05-25T17:47:49.330Z"
   },
   {
    "duration": 165,
    "start_time": "2022-05-25T17:47:49.341Z"
   },
   {
    "duration": 24,
    "start_time": "2022-05-25T17:47:49.508Z"
   },
   {
    "duration": 169,
    "start_time": "2022-05-25T17:47:49.533Z"
   },
   {
    "duration": 158,
    "start_time": "2022-05-25T17:47:49.703Z"
   },
   {
    "duration": 178,
    "start_time": "2022-05-25T17:47:49.863Z"
   },
   {
    "duration": 166,
    "start_time": "2022-05-25T17:47:50.043Z"
   },
   {
    "duration": 9,
    "start_time": "2022-05-25T17:50:53.099Z"
   },
   {
    "duration": 18,
    "start_time": "2022-05-25T17:51:11.135Z"
   },
   {
    "duration": 13,
    "start_time": "2022-05-25T17:51:20.631Z"
   },
   {
    "duration": 4,
    "start_time": "2022-05-25T17:51:50.599Z"
   },
   {
    "duration": 7,
    "start_time": "2022-05-25T17:53:08.753Z"
   },
   {
    "duration": 13,
    "start_time": "2022-05-25T17:53:11.022Z"
   },
   {
    "duration": 10,
    "start_time": "2022-05-25T17:53:14.358Z"
   },
   {
    "duration": 4,
    "start_time": "2022-05-25T17:53:16.950Z"
   },
   {
    "duration": 4,
    "start_time": "2022-05-25T17:54:41.893Z"
   },
   {
    "duration": 14,
    "start_time": "2022-05-25T17:57:15.153Z"
   },
   {
    "duration": 4,
    "start_time": "2022-05-25T17:57:28.752Z"
   },
   {
    "duration": 198,
    "start_time": "2022-05-25T17:57:28.758Z"
   },
   {
    "duration": 15,
    "start_time": "2022-05-25T17:57:28.958Z"
   },
   {
    "duration": 106,
    "start_time": "2022-05-25T17:57:28.974Z"
   },
   {
    "duration": 8,
    "start_time": "2022-05-25T17:57:29.082Z"
   },
   {
    "duration": 9,
    "start_time": "2022-05-25T17:57:29.091Z"
   },
   {
    "duration": 24,
    "start_time": "2022-05-25T17:57:29.102Z"
   },
   {
    "duration": 6,
    "start_time": "2022-05-25T17:57:29.127Z"
   },
   {
    "duration": 9,
    "start_time": "2022-05-25T17:57:29.135Z"
   },
   {
    "duration": 4,
    "start_time": "2022-05-25T17:57:29.146Z"
   },
   {
    "duration": 5,
    "start_time": "2022-05-25T17:57:29.152Z"
   },
   {
    "duration": 30,
    "start_time": "2022-05-25T17:57:29.158Z"
   },
   {
    "duration": 6,
    "start_time": "2022-05-25T17:57:29.224Z"
   },
   {
    "duration": 45,
    "start_time": "2022-05-25T17:57:29.231Z"
   },
   {
    "duration": 8,
    "start_time": "2022-05-25T17:57:29.278Z"
   },
   {
    "duration": 12,
    "start_time": "2022-05-25T17:57:29.288Z"
   },
   {
    "duration": 6,
    "start_time": "2022-05-25T17:57:29.322Z"
   },
   {
    "duration": 16,
    "start_time": "2022-05-25T17:57:29.330Z"
   },
   {
    "duration": 49,
    "start_time": "2022-05-25T17:57:29.347Z"
   },
   {
    "duration": 6,
    "start_time": "2022-05-25T17:57:29.398Z"
   },
   {
    "duration": 9,
    "start_time": "2022-05-25T17:57:29.405Z"
   },
   {
    "duration": 12,
    "start_time": "2022-05-25T17:57:29.416Z"
   },
   {
    "duration": 45,
    "start_time": "2022-05-25T17:57:29.430Z"
   },
   {
    "duration": 19,
    "start_time": "2022-05-25T17:57:29.477Z"
   },
   {
    "duration": 26,
    "start_time": "2022-05-25T17:57:29.497Z"
   },
   {
    "duration": 5,
    "start_time": "2022-05-25T17:57:29.525Z"
   },
   {
    "duration": 22,
    "start_time": "2022-05-25T17:57:29.532Z"
   },
   {
    "duration": 7,
    "start_time": "2022-05-25T17:57:29.556Z"
   },
   {
    "duration": 9,
    "start_time": "2022-05-25T17:57:29.566Z"
   },
   {
    "duration": 9,
    "start_time": "2022-05-25T17:57:29.577Z"
   },
   {
    "duration": 358,
    "start_time": "2022-05-25T17:57:29.588Z"
   },
   {
    "duration": 4,
    "start_time": "2022-05-25T17:57:29.948Z"
   },
   {
    "duration": 7,
    "start_time": "2022-05-25T17:57:29.954Z"
   },
   {
    "duration": 265,
    "start_time": "2022-05-25T17:57:29.962Z"
   },
   {
    "duration": 242,
    "start_time": "2022-05-25T17:57:30.229Z"
   },
   {
    "duration": 269,
    "start_time": "2022-05-25T17:57:30.473Z"
   },
   {
    "duration": 256,
    "start_time": "2022-05-25T17:57:30.743Z"
   },
   {
    "duration": 264,
    "start_time": "2022-05-25T17:57:31.000Z"
   },
   {
    "duration": 367,
    "start_time": "2022-05-25T17:57:31.265Z"
   },
   {
    "duration": 244,
    "start_time": "2022-05-25T17:57:31.634Z"
   },
   {
    "duration": 272,
    "start_time": "2022-05-25T17:57:31.880Z"
   },
   {
    "duration": 240,
    "start_time": "2022-05-25T17:57:32.153Z"
   },
   {
    "duration": 11,
    "start_time": "2022-05-25T17:57:32.395Z"
   },
   {
    "duration": 21,
    "start_time": "2022-05-25T17:57:32.408Z"
   },
   {
    "duration": 8,
    "start_time": "2022-05-25T17:57:32.431Z"
   },
   {
    "duration": 11,
    "start_time": "2022-05-25T17:57:32.441Z"
   },
   {
    "duration": 14,
    "start_time": "2022-05-25T17:57:32.454Z"
   },
   {
    "duration": 8,
    "start_time": "2022-05-25T17:57:32.470Z"
   },
   {
    "duration": 6,
    "start_time": "2022-05-25T17:57:32.480Z"
   },
   {
    "duration": 41,
    "start_time": "2022-05-25T17:57:32.488Z"
   },
   {
    "duration": 12,
    "start_time": "2022-05-25T17:57:36.809Z"
   },
   {
    "duration": 8,
    "start_time": "2022-05-25T17:57:47.799Z"
   },
   {
    "duration": 11,
    "start_time": "2022-05-25T17:57:57.320Z"
   },
   {
    "duration": 11,
    "start_time": "2022-05-25T17:58:11.569Z"
   },
   {
    "duration": 12,
    "start_time": "2022-05-25T17:58:22.011Z"
   },
   {
    "duration": 8,
    "start_time": "2022-05-25T17:59:00.459Z"
   },
   {
    "duration": 10,
    "start_time": "2022-05-25T17:59:03.659Z"
   },
   {
    "duration": 11,
    "start_time": "2022-05-25T17:59:28.898Z"
   },
   {
    "duration": 11,
    "start_time": "2022-05-25T17:59:33.659Z"
   },
   {
    "duration": 9,
    "start_time": "2022-05-25T17:59:38.563Z"
   },
   {
    "duration": 8,
    "start_time": "2022-05-25T17:59:58.116Z"
   },
   {
    "duration": 3,
    "start_time": "2022-05-25T18:00:00.163Z"
   },
   {
    "duration": 10,
    "start_time": "2022-05-25T18:00:05.530Z"
   },
   {
    "duration": 11,
    "start_time": "2022-05-25T18:01:04.228Z"
   },
   {
    "duration": 10,
    "start_time": "2022-05-25T18:02:01.557Z"
   },
   {
    "duration": 6,
    "start_time": "2022-05-25T18:02:03.013Z"
   },
   {
    "duration": 10,
    "start_time": "2022-05-25T18:02:17.201Z"
   },
   {
    "duration": 6,
    "start_time": "2022-05-25T18:02:18.089Z"
   },
   {
    "duration": 12,
    "start_time": "2022-05-25T18:02:39.580Z"
   },
   {
    "duration": 176,
    "start_time": "2022-05-25T18:02:41.468Z"
   },
   {
    "duration": 10,
    "start_time": "2022-05-25T18:03:24.030Z"
   },
   {
    "duration": 165,
    "start_time": "2022-05-25T18:03:25.270Z"
   },
   {
    "duration": 12,
    "start_time": "2022-05-25T18:04:44.918Z"
   },
   {
    "duration": 160,
    "start_time": "2022-05-25T18:04:46.053Z"
   },
   {
    "duration": 9,
    "start_time": "2022-05-25T18:04:49.380Z"
   },
   {
    "duration": 153,
    "start_time": "2022-05-25T18:04:49.503Z"
   },
   {
    "duration": 12,
    "start_time": "2022-05-25T18:04:51.507Z"
   },
   {
    "duration": 8,
    "start_time": "2022-05-25T18:04:52.301Z"
   },
   {
    "duration": 345,
    "start_time": "2022-05-25T18:05:01.687Z"
   },
   {
    "duration": 10,
    "start_time": "2022-05-25T18:05:05.262Z"
   },
   {
    "duration": 169,
    "start_time": "2022-05-25T18:05:05.785Z"
   },
   {
    "duration": 9,
    "start_time": "2022-05-25T18:05:07.469Z"
   },
   {
    "duration": 162,
    "start_time": "2022-05-25T18:05:08.159Z"
   },
   {
    "duration": 9,
    "start_time": "2022-05-25T18:05:10.037Z"
   },
   {
    "duration": 172,
    "start_time": "2022-05-25T18:05:10.614Z"
   },
   {
    "duration": 6,
    "start_time": "2022-05-25T18:42:44.237Z"
   },
   {
    "duration": 13,
    "start_time": "2022-05-25T18:43:54.817Z"
   },
   {
    "duration": 7,
    "start_time": "2022-05-25T18:43:55.656Z"
   },
   {
    "duration": 190,
    "start_time": "2022-05-25T18:45:05.006Z"
   },
   {
    "duration": 9,
    "start_time": "2022-05-25T18:46:01.104Z"
   },
   {
    "duration": 209,
    "start_time": "2022-05-25T18:46:02.538Z"
   },
   {
    "duration": 166,
    "start_time": "2022-05-25T18:47:37.941Z"
   },
   {
    "duration": 16,
    "start_time": "2022-05-25T18:48:24.720Z"
   },
   {
    "duration": 156,
    "start_time": "2022-05-25T18:48:27.280Z"
   },
   {
    "duration": 16,
    "start_time": "2022-05-25T18:49:59.754Z"
   },
   {
    "duration": 3,
    "start_time": "2022-05-25T18:50:00.354Z"
   },
   {
    "duration": 4,
    "start_time": "2022-05-25T18:50:00.889Z"
   },
   {
    "duration": 8,
    "start_time": "2022-05-25T18:50:02.489Z"
   },
   {
    "duration": 506,
    "start_time": "2022-05-25T18:51:40.554Z"
   },
   {
    "duration": 215,
    "start_time": "2022-05-25T18:51:52.980Z"
   },
   {
    "duration": 189,
    "start_time": "2022-05-25T18:52:25.371Z"
   },
   {
    "duration": 32,
    "start_time": "2022-05-25T18:53:16.177Z"
   },
   {
    "duration": 4,
    "start_time": "2022-05-25T18:53:20.475Z"
   },
   {
    "duration": 4,
    "start_time": "2022-05-25T18:53:21.049Z"
   },
   {
    "duration": 4,
    "start_time": "2022-05-25T18:53:21.696Z"
   },
   {
    "duration": 15,
    "start_time": "2022-05-25T18:53:23.869Z"
   },
   {
    "duration": 7,
    "start_time": "2022-05-25T18:53:26.171Z"
   },
   {
    "duration": 169,
    "start_time": "2022-05-25T18:54:30.838Z"
   },
   {
    "duration": 193,
    "start_time": "2022-05-25T18:55:06.548Z"
   },
   {
    "duration": 21,
    "start_time": "2022-05-25T18:55:58.659Z"
   },
   {
    "duration": 10,
    "start_time": "2022-05-25T18:55:59.423Z"
   },
   {
    "duration": 204,
    "start_time": "2022-05-25T18:56:06.364Z"
   },
   {
    "duration": 10,
    "start_time": "2022-05-25T18:57:35.236Z"
   },
   {
    "duration": 10,
    "start_time": "2022-05-25T18:57:35.796Z"
   },
   {
    "duration": 10,
    "start_time": "2022-05-25T18:57:40.803Z"
   },
   {
    "duration": 3,
    "start_time": "2022-05-25T18:57:42.461Z"
   },
   {
    "duration": 179,
    "start_time": "2022-05-25T18:58:00.590Z"
   },
   {
    "duration": 12,
    "start_time": "2022-05-25T18:59:07.917Z"
   },
   {
    "duration": 10,
    "start_time": "2022-05-25T18:59:12.695Z"
   },
   {
    "duration": 181,
    "start_time": "2022-05-25T18:59:13.892Z"
   },
   {
    "duration": 13,
    "start_time": "2022-05-25T19:00:23.654Z"
   },
   {
    "duration": 185,
    "start_time": "2022-05-25T19:01:32.927Z"
   },
   {
    "duration": 184,
    "start_time": "2022-05-25T19:02:05.748Z"
   },
   {
    "duration": 308,
    "start_time": "2022-05-25T19:03:20.436Z"
   },
   {
    "duration": 179,
    "start_time": "2022-05-25T19:05:18.108Z"
   },
   {
    "duration": 165,
    "start_time": "2022-05-25T19:07:15.715Z"
   },
   {
    "duration": 29,
    "start_time": "2022-05-25T19:13:51.587Z"
   },
   {
    "duration": 184,
    "start_time": "2022-05-25T19:14:30.706Z"
   },
   {
    "duration": 166,
    "start_time": "2022-05-25T19:14:36.839Z"
   },
   {
    "duration": 159,
    "start_time": "2022-05-25T19:15:55.754Z"
   },
   {
    "duration": 168,
    "start_time": "2022-05-25T19:17:01.115Z"
   },
   {
    "duration": 295,
    "start_time": "2022-05-25T19:22:21.520Z"
   },
   {
    "duration": 373,
    "start_time": "2022-05-25T19:22:25.813Z"
   },
   {
    "duration": 284,
    "start_time": "2022-05-25T19:26:11.321Z"
   },
   {
    "duration": 270,
    "start_time": "2022-05-25T19:26:50.082Z"
   },
   {
    "duration": 492,
    "start_time": "2022-05-25T19:27:18.088Z"
   },
   {
    "duration": 321,
    "start_time": "2022-05-25T19:27:42.497Z"
   },
   {
    "duration": 356,
    "start_time": "2022-05-25T19:27:52.451Z"
   },
   {
    "duration": 301,
    "start_time": "2022-05-25T19:27:57.304Z"
   },
   {
    "duration": 307,
    "start_time": "2022-05-25T19:29:47.945Z"
   },
   {
    "duration": 303,
    "start_time": "2022-05-25T19:29:57.209Z"
   },
   {
    "duration": 318,
    "start_time": "2022-05-25T19:30:17.841Z"
   },
   {
    "duration": 301,
    "start_time": "2022-05-25T19:30:20.200Z"
   },
   {
    "duration": 457,
    "start_time": "2022-05-25T19:31:00.938Z"
   },
   {
    "duration": 336,
    "start_time": "2022-05-25T19:32:48.513Z"
   },
   {
    "duration": 334,
    "start_time": "2022-05-25T19:32:51.756Z"
   },
   {
    "duration": 789,
    "start_time": "2022-05-25T19:36:40.687Z"
   },
   {
    "duration": 447,
    "start_time": "2022-05-25T19:36:41.478Z"
   },
   {
    "duration": 22,
    "start_time": "2022-05-25T19:36:41.927Z"
   },
   {
    "duration": 105,
    "start_time": "2022-05-25T19:36:41.952Z"
   },
   {
    "duration": 7,
    "start_time": "2022-05-25T19:36:42.059Z"
   },
   {
    "duration": 16,
    "start_time": "2022-05-25T19:36:42.067Z"
   },
   {
    "duration": 28,
    "start_time": "2022-05-25T19:36:42.084Z"
   },
   {
    "duration": 30,
    "start_time": "2022-05-25T19:36:42.113Z"
   },
   {
    "duration": 29,
    "start_time": "2022-05-25T19:36:42.145Z"
   },
   {
    "duration": 4,
    "start_time": "2022-05-25T19:36:42.177Z"
   },
   {
    "duration": 8,
    "start_time": "2022-05-25T19:36:42.183Z"
   },
   {
    "duration": 27,
    "start_time": "2022-05-25T19:36:42.192Z"
   },
   {
    "duration": 15,
    "start_time": "2022-05-25T19:36:42.220Z"
   },
   {
    "duration": 56,
    "start_time": "2022-05-25T19:36:42.237Z"
   },
   {
    "duration": 7,
    "start_time": "2022-05-25T19:36:42.295Z"
   },
   {
    "duration": 19,
    "start_time": "2022-05-25T19:36:42.304Z"
   },
   {
    "duration": 30,
    "start_time": "2022-05-25T19:36:42.326Z"
   },
   {
    "duration": 15,
    "start_time": "2022-05-25T19:36:42.358Z"
   },
   {
    "duration": 63,
    "start_time": "2022-05-25T19:36:42.375Z"
   },
   {
    "duration": 7,
    "start_time": "2022-05-25T19:36:42.440Z"
   },
   {
    "duration": 9,
    "start_time": "2022-05-25T19:36:42.449Z"
   },
   {
    "duration": 11,
    "start_time": "2022-05-25T19:36:42.460Z"
   },
   {
    "duration": 34,
    "start_time": "2022-05-25T19:36:42.473Z"
   },
   {
    "duration": 25,
    "start_time": "2022-05-25T19:36:42.509Z"
   },
   {
    "duration": 7,
    "start_time": "2022-05-25T19:36:42.537Z"
   },
   {
    "duration": 41,
    "start_time": "2022-05-25T19:36:42.546Z"
   },
   {
    "duration": 19,
    "start_time": "2022-05-25T19:36:42.590Z"
   },
   {
    "duration": 10,
    "start_time": "2022-05-25T19:36:42.615Z"
   },
   {
    "duration": 33,
    "start_time": "2022-05-25T19:36:42.627Z"
   },
   {
    "duration": 13,
    "start_time": "2022-05-25T19:36:42.662Z"
   },
   {
    "duration": 340,
    "start_time": "2022-05-25T19:36:42.678Z"
   },
   {
    "duration": 6,
    "start_time": "2022-05-25T19:36:43.020Z"
   },
   {
    "duration": 16,
    "start_time": "2022-05-25T19:36:43.028Z"
   },
   {
    "duration": 303,
    "start_time": "2022-05-25T19:36:43.046Z"
   },
   {
    "duration": 275,
    "start_time": "2022-05-25T19:36:43.351Z"
   },
   {
    "duration": 390,
    "start_time": "2022-05-25T19:36:43.628Z"
   },
   {
    "duration": 280,
    "start_time": "2022-05-25T19:36:44.022Z"
   },
   {
    "duration": 295,
    "start_time": "2022-05-25T19:36:44.305Z"
   },
   {
    "duration": 301,
    "start_time": "2022-05-25T19:36:44.602Z"
   },
   {
    "duration": 265,
    "start_time": "2022-05-25T19:36:44.905Z"
   },
   {
    "duration": 284,
    "start_time": "2022-05-25T19:36:45.172Z"
   },
   {
    "duration": 416,
    "start_time": "2022-05-25T19:36:45.458Z"
   },
   {
    "duration": 12,
    "start_time": "2022-05-25T19:36:45.876Z"
   },
   {
    "duration": 8,
    "start_time": "2022-05-25T19:36:45.890Z"
   },
   {
    "duration": 32,
    "start_time": "2022-05-25T19:36:45.900Z"
   },
   {
    "duration": 17,
    "start_time": "2022-05-25T19:36:45.935Z"
   },
   {
    "duration": 15,
    "start_time": "2022-05-25T19:36:45.954Z"
   },
   {
    "duration": 10,
    "start_time": "2022-05-25T19:36:45.971Z"
   },
   {
    "duration": 13,
    "start_time": "2022-05-25T19:36:45.983Z"
   },
   {
    "duration": 29,
    "start_time": "2022-05-25T19:36:45.999Z"
   },
   {
    "duration": 29,
    "start_time": "2022-05-25T19:36:46.031Z"
   },
   {
    "duration": 9,
    "start_time": "2022-05-25T19:36:46.062Z"
   },
   {
    "duration": 4,
    "start_time": "2022-05-25T19:36:46.073Z"
   },
   {
    "duration": 12,
    "start_time": "2022-05-25T19:36:46.079Z"
   },
   {
    "duration": 223,
    "start_time": "2022-05-25T19:36:46.092Z"
   },
   {
    "duration": 18,
    "start_time": "2022-05-25T19:36:46.316Z"
   },
   {
    "duration": 182,
    "start_time": "2022-05-25T19:36:46.336Z"
   },
   {
    "duration": 16,
    "start_time": "2022-05-25T19:36:46.523Z"
   },
   {
    "duration": 9,
    "start_time": "2022-05-25T19:36:46.541Z"
   },
   {
    "duration": 247,
    "start_time": "2022-05-25T19:36:46.552Z"
   },
   {
    "duration": 10,
    "start_time": "2022-05-25T19:36:46.801Z"
   },
   {
    "duration": 183,
    "start_time": "2022-05-25T19:36:46.824Z"
   },
   {
    "duration": 102,
    "start_time": "2022-05-25T19:36:47.012Z"
   },
   {
    "duration": 0,
    "start_time": "2022-05-25T19:36:47.117Z"
   },
   {
    "duration": 0,
    "start_time": "2022-05-25T19:36:47.117Z"
   },
   {
    "duration": 0,
    "start_time": "2022-05-25T19:36:47.118Z"
   },
   {
    "duration": 0,
    "start_time": "2022-05-25T19:36:47.123Z"
   },
   {
    "duration": 0,
    "start_time": "2022-05-25T19:36:47.124Z"
   },
   {
    "duration": 0,
    "start_time": "2022-05-25T19:36:47.126Z"
   },
   {
    "duration": 0,
    "start_time": "2022-05-25T19:36:47.128Z"
   },
   {
    "duration": 0,
    "start_time": "2022-05-25T19:36:47.129Z"
   },
   {
    "duration": 0,
    "start_time": "2022-05-25T19:36:47.131Z"
   },
   {
    "duration": 0,
    "start_time": "2022-05-25T19:36:47.132Z"
   },
   {
    "duration": 0,
    "start_time": "2022-05-25T19:36:47.133Z"
   },
   {
    "duration": 0,
    "start_time": "2022-05-25T19:36:47.135Z"
   },
   {
    "duration": 0,
    "start_time": "2022-05-25T19:36:47.136Z"
   },
   {
    "duration": 0,
    "start_time": "2022-05-25T19:36:47.138Z"
   },
   {
    "duration": 0,
    "start_time": "2022-05-25T19:36:47.140Z"
   },
   {
    "duration": 0,
    "start_time": "2022-05-25T19:36:47.141Z"
   },
   {
    "duration": 0,
    "start_time": "2022-05-25T19:36:47.143Z"
   },
   {
    "duration": 0,
    "start_time": "2022-05-25T19:36:47.144Z"
   },
   {
    "duration": 0,
    "start_time": "2022-05-25T19:36:47.145Z"
   },
   {
    "duration": 0,
    "start_time": "2022-05-25T19:36:47.146Z"
   },
   {
    "duration": 0,
    "start_time": "2022-05-25T19:36:47.147Z"
   },
   {
    "duration": 0,
    "start_time": "2022-05-25T19:36:47.148Z"
   },
   {
    "duration": 0,
    "start_time": "2022-05-25T19:36:47.149Z"
   },
   {
    "duration": 0,
    "start_time": "2022-05-25T19:36:47.151Z"
   },
   {
    "duration": 0,
    "start_time": "2022-05-25T19:36:47.152Z"
   },
   {
    "duration": 0,
    "start_time": "2022-05-25T19:36:47.154Z"
   },
   {
    "duration": 0,
    "start_time": "2022-05-25T19:36:47.156Z"
   },
   {
    "duration": 1,
    "start_time": "2022-05-25T19:36:47.157Z"
   },
   {
    "duration": 0,
    "start_time": "2022-05-25T19:36:47.159Z"
   },
   {
    "duration": 0,
    "start_time": "2022-05-25T19:36:47.161Z"
   },
   {
    "duration": 8,
    "start_time": "2022-05-25T19:37:13.088Z"
   },
   {
    "duration": 13,
    "start_time": "2022-05-25T19:37:27.086Z"
   },
   {
    "duration": 206,
    "start_time": "2022-05-25T19:37:27.510Z"
   },
   {
    "duration": 787,
    "start_time": "2022-05-25T19:37:54.540Z"
   },
   {
    "duration": 199,
    "start_time": "2022-05-25T19:37:55.331Z"
   },
   {
    "duration": 20,
    "start_time": "2022-05-25T19:37:55.533Z"
   },
   {
    "duration": 112,
    "start_time": "2022-05-25T19:37:55.555Z"
   },
   {
    "duration": 9,
    "start_time": "2022-05-25T19:37:55.670Z"
   },
   {
    "duration": 13,
    "start_time": "2022-05-25T19:37:55.681Z"
   },
   {
    "duration": 6,
    "start_time": "2022-05-25T19:37:55.696Z"
   },
   {
    "duration": 7,
    "start_time": "2022-05-25T19:37:55.723Z"
   },
   {
    "duration": 17,
    "start_time": "2022-05-25T19:37:55.732Z"
   },
   {
    "duration": 6,
    "start_time": "2022-05-25T19:37:55.750Z"
   },
   {
    "duration": 7,
    "start_time": "2022-05-25T19:37:55.757Z"
   },
   {
    "duration": 44,
    "start_time": "2022-05-25T19:37:55.765Z"
   },
   {
    "duration": 9,
    "start_time": "2022-05-25T19:37:55.823Z"
   },
   {
    "duration": 53,
    "start_time": "2022-05-25T19:37:55.837Z"
   },
   {
    "duration": 7,
    "start_time": "2022-05-25T19:37:55.891Z"
   },
   {
    "duration": 25,
    "start_time": "2022-05-25T19:37:55.899Z"
   },
   {
    "duration": 24,
    "start_time": "2022-05-25T19:37:55.926Z"
   },
   {
    "duration": 5,
    "start_time": "2022-05-25T19:37:55.952Z"
   },
   {
    "duration": 45,
    "start_time": "2022-05-25T19:37:55.959Z"
   },
   {
    "duration": 20,
    "start_time": "2022-05-25T19:37:56.006Z"
   },
   {
    "duration": 13,
    "start_time": "2022-05-25T19:37:56.029Z"
   },
   {
    "duration": 8,
    "start_time": "2022-05-25T19:37:56.045Z"
   },
   {
    "duration": 32,
    "start_time": "2022-05-25T19:37:56.054Z"
   },
   {
    "duration": 36,
    "start_time": "2022-05-25T19:37:56.088Z"
   },
   {
    "duration": 7,
    "start_time": "2022-05-25T19:37:56.127Z"
   },
   {
    "duration": 16,
    "start_time": "2022-05-25T19:37:56.136Z"
   },
   {
    "duration": 12,
    "start_time": "2022-05-25T19:37:56.153Z"
   },
   {
    "duration": 8,
    "start_time": "2022-05-25T19:37:56.166Z"
   },
   {
    "duration": 10,
    "start_time": "2022-05-25T19:37:56.175Z"
   },
   {
    "duration": 4,
    "start_time": "2022-05-25T19:37:56.187Z"
   },
   {
    "duration": 320,
    "start_time": "2022-05-25T19:37:56.193Z"
   },
   {
    "duration": 9,
    "start_time": "2022-05-25T19:37:56.515Z"
   },
   {
    "duration": 14,
    "start_time": "2022-05-25T19:37:56.527Z"
   },
   {
    "duration": 305,
    "start_time": "2022-05-25T19:37:56.543Z"
   },
   {
    "duration": 305,
    "start_time": "2022-05-25T19:37:56.849Z"
   },
   {
    "duration": 429,
    "start_time": "2022-05-25T19:37:57.155Z"
   },
   {
    "duration": 311,
    "start_time": "2022-05-25T19:37:57.586Z"
   },
   {
    "duration": 314,
    "start_time": "2022-05-25T19:37:57.899Z"
   },
   {
    "duration": 298,
    "start_time": "2022-05-25T19:37:58.215Z"
   },
   {
    "duration": 280,
    "start_time": "2022-05-25T19:37:58.515Z"
   },
   {
    "duration": 339,
    "start_time": "2022-05-25T19:37:58.801Z"
   },
   {
    "duration": 401,
    "start_time": "2022-05-25T19:37:59.141Z"
   },
   {
    "duration": 13,
    "start_time": "2022-05-25T19:37:59.544Z"
   },
   {
    "duration": 11,
    "start_time": "2022-05-25T19:37:59.559Z"
   },
   {
    "duration": 12,
    "start_time": "2022-05-25T19:37:59.572Z"
   },
   {
    "duration": 11,
    "start_time": "2022-05-25T19:37:59.586Z"
   },
   {
    "duration": 22,
    "start_time": "2022-05-25T19:37:59.623Z"
   },
   {
    "duration": 13,
    "start_time": "2022-05-25T19:37:59.647Z"
   },
   {
    "duration": 5,
    "start_time": "2022-05-25T19:37:59.662Z"
   },
   {
    "duration": 17,
    "start_time": "2022-05-25T19:37:59.669Z"
   },
   {
    "duration": 10,
    "start_time": "2022-05-25T19:37:59.687Z"
   },
   {
    "duration": 16,
    "start_time": "2022-05-25T19:37:59.726Z"
   },
   {
    "duration": 5,
    "start_time": "2022-05-25T19:37:59.744Z"
   },
   {
    "duration": 14,
    "start_time": "2022-05-25T19:37:59.751Z"
   },
   {
    "duration": 229,
    "start_time": "2022-05-25T19:37:59.767Z"
   },
   {
    "duration": 10,
    "start_time": "2022-05-25T19:37:59.997Z"
   },
   {
    "duration": 196,
    "start_time": "2022-05-25T19:38:00.008Z"
   },
   {
    "duration": 18,
    "start_time": "2022-05-25T19:38:00.205Z"
   },
   {
    "duration": 27,
    "start_time": "2022-05-25T19:38:00.226Z"
   },
   {
    "duration": 232,
    "start_time": "2022-05-25T19:38:00.254Z"
   },
   {
    "duration": 12,
    "start_time": "2022-05-25T19:38:00.488Z"
   },
   {
    "duration": 187,
    "start_time": "2022-05-25T19:38:00.502Z"
   },
   {
    "duration": 10,
    "start_time": "2022-05-25T19:38:00.691Z"
   },
   {
    "duration": 192,
    "start_time": "2022-05-25T19:38:00.703Z"
   },
   {
    "duration": 12,
    "start_time": "2022-05-25T19:38:00.897Z"
   },
   {
    "duration": 201,
    "start_time": "2022-05-25T19:38:00.911Z"
   },
   {
    "duration": 30,
    "start_time": "2022-05-25T19:38:01.115Z"
   },
   {
    "duration": 8,
    "start_time": "2022-05-25T19:38:01.148Z"
   },
   {
    "duration": 23,
    "start_time": "2022-05-25T19:38:01.158Z"
   },
   {
    "duration": 30,
    "start_time": "2022-05-25T19:38:01.185Z"
   },
   {
    "duration": 240,
    "start_time": "2022-05-25T19:38:01.218Z"
   },
   {
    "duration": 5,
    "start_time": "2022-05-25T19:38:01.459Z"
   },
   {
    "duration": 21,
    "start_time": "2022-05-25T19:38:01.465Z"
   },
   {
    "duration": 28,
    "start_time": "2022-05-25T19:38:01.488Z"
   },
   {
    "duration": 77,
    "start_time": "2022-05-25T19:38:01.517Z"
   },
   {
    "duration": 50,
    "start_time": "2022-05-25T19:38:01.595Z"
   },
   {
    "duration": 189,
    "start_time": "2022-05-25T19:38:01.647Z"
   },
   {
    "duration": 10,
    "start_time": "2022-05-25T19:38:01.840Z"
   },
   {
    "duration": 387,
    "start_time": "2022-05-25T19:38:01.852Z"
   },
   {
    "duration": 279,
    "start_time": "2022-05-25T19:38:02.241Z"
   },
   {
    "duration": 378,
    "start_time": "2022-05-25T19:38:02.523Z"
   },
   {
    "duration": 298,
    "start_time": "2022-05-25T19:38:02.903Z"
   },
   {
    "duration": 273,
    "start_time": "2022-05-25T19:38:03.202Z"
   },
   {
    "duration": 276,
    "start_time": "2022-05-25T19:38:03.477Z"
   },
   {
    "duration": 372,
    "start_time": "2022-05-25T19:38:03.755Z"
   },
   {
    "duration": 14,
    "start_time": "2022-05-25T19:38:04.129Z"
   },
   {
    "duration": 200,
    "start_time": "2022-05-25T19:38:04.144Z"
   },
   {
    "duration": 8,
    "start_time": "2022-05-25T19:38:04.346Z"
   },
   {
    "duration": 185,
    "start_time": "2022-05-25T19:38:04.356Z"
   },
   {
    "duration": 13,
    "start_time": "2022-05-25T19:38:04.543Z"
   },
   {
    "duration": 216,
    "start_time": "2022-05-25T19:38:04.558Z"
   },
   {
    "duration": 186,
    "start_time": "2022-05-25T19:38:04.776Z"
   },
   {
    "duration": 188,
    "start_time": "2022-05-25T19:38:04.963Z"
   },
   {
    "duration": 185,
    "start_time": "2022-05-25T19:38:05.153Z"
   },
   {
    "duration": 311,
    "start_time": "2022-05-25T19:45:02.420Z"
   },
   {
    "duration": 815,
    "start_time": "2022-05-25T19:46:01.792Z"
   },
   {
    "duration": 253,
    "start_time": "2022-05-25T19:46:02.609Z"
   },
   {
    "duration": 18,
    "start_time": "2022-05-25T19:46:02.864Z"
   },
   {
    "duration": 113,
    "start_time": "2022-05-25T19:46:02.886Z"
   },
   {
    "duration": 8,
    "start_time": "2022-05-25T19:46:03.001Z"
   },
   {
    "duration": 19,
    "start_time": "2022-05-25T19:46:03.010Z"
   },
   {
    "duration": 23,
    "start_time": "2022-05-25T19:46:03.031Z"
   },
   {
    "duration": 7,
    "start_time": "2022-05-25T19:46:03.056Z"
   },
   {
    "duration": 11,
    "start_time": "2022-05-25T19:46:03.065Z"
   },
   {
    "duration": 4,
    "start_time": "2022-05-25T19:46:03.079Z"
   },
   {
    "duration": 6,
    "start_time": "2022-05-25T19:46:03.084Z"
   },
   {
    "duration": 51,
    "start_time": "2022-05-25T19:46:03.092Z"
   },
   {
    "duration": 7,
    "start_time": "2022-05-25T19:46:03.145Z"
   },
   {
    "duration": 59,
    "start_time": "2022-05-25T19:46:03.154Z"
   },
   {
    "duration": 19,
    "start_time": "2022-05-25T19:46:03.215Z"
   },
   {
    "duration": 16,
    "start_time": "2022-05-25T19:46:03.236Z"
   },
   {
    "duration": 7,
    "start_time": "2022-05-25T19:46:03.254Z"
   },
   {
    "duration": 7,
    "start_time": "2022-05-25T19:46:03.262Z"
   },
   {
    "duration": 38,
    "start_time": "2022-05-25T19:46:03.271Z"
   },
   {
    "duration": 12,
    "start_time": "2022-05-25T19:46:03.311Z"
   },
   {
    "duration": 26,
    "start_time": "2022-05-25T19:46:03.325Z"
   },
   {
    "duration": 11,
    "start_time": "2022-05-25T19:46:03.353Z"
   },
   {
    "duration": 39,
    "start_time": "2022-05-25T19:46:03.367Z"
   },
   {
    "duration": 16,
    "start_time": "2022-05-25T19:46:03.407Z"
   },
   {
    "duration": 5,
    "start_time": "2022-05-25T19:46:03.424Z"
   },
   {
    "duration": 17,
    "start_time": "2022-05-25T19:46:03.431Z"
   },
   {
    "duration": 8,
    "start_time": "2022-05-25T19:46:03.450Z"
   },
   {
    "duration": 6,
    "start_time": "2022-05-25T19:46:03.464Z"
   },
   {
    "duration": 6,
    "start_time": "2022-05-25T19:46:03.473Z"
   },
   {
    "duration": 4,
    "start_time": "2022-05-25T19:46:03.481Z"
   },
   {
    "duration": 332,
    "start_time": "2022-05-25T19:46:03.486Z"
   },
   {
    "duration": 5,
    "start_time": "2022-05-25T19:46:03.819Z"
   },
   {
    "duration": 22,
    "start_time": "2022-05-25T19:46:03.826Z"
   },
   {
    "duration": 296,
    "start_time": "2022-05-25T19:46:03.850Z"
   },
   {
    "duration": 260,
    "start_time": "2022-05-25T19:46:04.148Z"
   },
   {
    "duration": 388,
    "start_time": "2022-05-25T19:46:04.410Z"
   },
   {
    "duration": 290,
    "start_time": "2022-05-25T19:46:04.800Z"
   },
   {
    "duration": 274,
    "start_time": "2022-05-25T19:46:05.092Z"
   },
   {
    "duration": 318,
    "start_time": "2022-05-25T19:46:05.368Z"
   },
   {
    "duration": 262,
    "start_time": "2022-05-25T19:46:05.688Z"
   },
   {
    "duration": 306,
    "start_time": "2022-05-25T19:46:05.952Z"
   },
   {
    "duration": 395,
    "start_time": "2022-05-25T19:46:06.259Z"
   },
   {
    "duration": 13,
    "start_time": "2022-05-25T19:46:06.655Z"
   },
   {
    "duration": 10,
    "start_time": "2022-05-25T19:46:06.670Z"
   },
   {
    "duration": 9,
    "start_time": "2022-05-25T19:46:06.682Z"
   },
   {
    "duration": 40,
    "start_time": "2022-05-25T19:46:06.693Z"
   },
   {
    "duration": 18,
    "start_time": "2022-05-25T19:46:06.736Z"
   },
   {
    "duration": 9,
    "start_time": "2022-05-25T19:46:06.756Z"
   },
   {
    "duration": 6,
    "start_time": "2022-05-25T19:46:06.767Z"
   },
   {
    "duration": 10,
    "start_time": "2022-05-25T19:46:06.775Z"
   },
   {
    "duration": 42,
    "start_time": "2022-05-25T19:46:06.787Z"
   },
   {
    "duration": 10,
    "start_time": "2022-05-25T19:46:06.831Z"
   },
   {
    "duration": 4,
    "start_time": "2022-05-25T19:46:06.843Z"
   },
   {
    "duration": 11,
    "start_time": "2022-05-25T19:46:06.848Z"
   },
   {
    "duration": 223,
    "start_time": "2022-05-25T19:46:06.861Z"
   },
   {
    "duration": 9,
    "start_time": "2022-05-25T19:46:07.086Z"
   },
   {
    "duration": 207,
    "start_time": "2022-05-25T19:46:07.097Z"
   },
   {
    "duration": 23,
    "start_time": "2022-05-25T19:46:07.307Z"
   },
   {
    "duration": 23,
    "start_time": "2022-05-25T19:46:07.332Z"
   },
   {
    "duration": 247,
    "start_time": "2022-05-25T19:46:07.357Z"
   },
   {
    "duration": 10,
    "start_time": "2022-05-25T19:46:07.605Z"
   },
   {
    "duration": 172,
    "start_time": "2022-05-25T19:46:07.623Z"
   },
   {
    "duration": 10,
    "start_time": "2022-05-25T19:46:07.797Z"
   },
   {
    "duration": 206,
    "start_time": "2022-05-25T19:46:07.809Z"
   },
   {
    "duration": 13,
    "start_time": "2022-05-25T19:46:08.018Z"
   },
   {
    "duration": 186,
    "start_time": "2022-05-25T19:46:08.033Z"
   },
   {
    "duration": 23,
    "start_time": "2022-05-25T19:46:08.222Z"
   },
   {
    "duration": 3,
    "start_time": "2022-05-25T19:46:08.247Z"
   },
   {
    "duration": 6,
    "start_time": "2022-05-25T19:46:08.251Z"
   },
   {
    "duration": 9,
    "start_time": "2022-05-25T19:46:08.258Z"
   },
   {
    "duration": 216,
    "start_time": "2022-05-25T19:46:08.268Z"
   },
   {
    "duration": 5,
    "start_time": "2022-05-25T19:46:08.485Z"
   },
   {
    "duration": 7,
    "start_time": "2022-05-25T19:46:08.492Z"
   },
   {
    "duration": 7,
    "start_time": "2022-05-25T19:46:08.501Z"
   },
   {
    "duration": 35,
    "start_time": "2022-05-25T19:46:08.510Z"
   },
   {
    "duration": 8,
    "start_time": "2022-05-25T19:46:08.546Z"
   },
   {
    "duration": 199,
    "start_time": "2022-05-25T19:46:08.556Z"
   },
   {
    "duration": 9,
    "start_time": "2022-05-25T19:46:08.757Z"
   },
   {
    "duration": 412,
    "start_time": "2022-05-25T19:46:08.768Z"
   },
   {
    "duration": 300,
    "start_time": "2022-05-25T19:46:09.181Z"
   },
   {
    "duration": 300,
    "start_time": "2022-05-25T19:46:09.487Z"
   },
   {
    "duration": 286,
    "start_time": "2022-05-25T19:46:09.792Z"
   },
   {
    "duration": 284,
    "start_time": "2022-05-25T19:46:10.080Z"
   },
   {
    "duration": 299,
    "start_time": "2022-05-25T19:46:10.367Z"
   },
   {
    "duration": 382,
    "start_time": "2022-05-25T19:46:10.667Z"
   },
   {
    "duration": 9,
    "start_time": "2022-05-25T19:46:11.051Z"
   },
   {
    "duration": 207,
    "start_time": "2022-05-25T19:46:11.062Z"
   },
   {
    "duration": 10,
    "start_time": "2022-05-25T19:46:11.271Z"
   },
   {
    "duration": 222,
    "start_time": "2022-05-25T19:46:11.283Z"
   },
   {
    "duration": 19,
    "start_time": "2022-05-25T19:46:11.506Z"
   },
   {
    "duration": 242,
    "start_time": "2022-05-25T19:46:11.528Z"
   },
   {
    "duration": 177,
    "start_time": "2022-05-25T19:46:11.772Z"
   },
   {
    "duration": 185,
    "start_time": "2022-05-25T19:46:11.951Z"
   },
   {
    "duration": 174,
    "start_time": "2022-05-25T19:46:12.138Z"
   },
   {
    "duration": 63,
    "start_time": "2022-05-30T19:48:10.864Z"
   }
  ],
  "kernelspec": {
   "display_name": "Python 3 (ipykernel)",
   "language": "python",
   "name": "python3"
  },
  "language_info": {
   "codemirror_mode": {
    "name": "ipython",
    "version": 3
   },
   "file_extension": ".py",
   "mimetype": "text/x-python",
   "name": "python",
   "nbconvert_exporter": "python",
   "pygments_lexer": "ipython3",
   "version": "3.9.7"
  },
  "toc": {
   "base_numbering": 1,
   "nav_menu": {},
   "number_sections": true,
   "sideBar": true,
   "skip_h1_title": true,
   "title_cell": "Содержание",
   "title_sidebar": "Contents",
   "toc_cell": true,
   "toc_position": {
    "height": "calc(100% - 180px)",
    "left": "10px",
    "top": "150px",
    "width": "173px"
   },
   "toc_section_display": true,
   "toc_window_display": true
  }
 },
 "nbformat": 4,
 "nbformat_minor": 4
}
