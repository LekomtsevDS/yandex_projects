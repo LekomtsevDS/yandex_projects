{
 "cells": [
  {
   "cell_type": "markdown",
   "metadata": {
    "id": "sIfNaMOxgFyK"
   },
   "source": [
    "## Исследование данных о российском кинопрокате\n",
    "\n"
   ]
  },
  {
   "cell_type": "markdown",
   "metadata": {
    "id": "3bSlkCsbgFyL"
   },
   "source": [
    "### Описание проекта\n",
    "Заказчик исследования — Министерство культуры Российской Федерации.\n",
    "В ходе исследования был изучен рынок российского кинопроката, выявлены текущие тренды. \n",
    "\n",
    "С целью рекомендации для выбора фильмов для государственной поддержки."
   ]
  },
  {
   "cell_type": "markdown",
   "metadata": {},
   "source": [
    "Описание данных\n",
    "- Таблица mkrf_movies содержит информацию из реестра прокатных удостоверений. У одного фильма может быть несколько прокатных удостоверений.\n",
    "- title — название фильма;\n",
    "- puNumber — номер прокатного удостоверения;\n",
    "- show_start_date — дата премьеры фильма;\n",
    "- type — тип фильма;\n",
    "- film_studio — студия-производитель;\n",
    "- production_country — страна-производитель;\n",
    "- director — режиссёр;\n",
    "- producer — продюсер;\n",
    "- age_restriction — возрастная категория;\n",
    "- refundable_support — объём возвратных средств государственной поддержки;\n",
    "- nonrefundable_support — объём невозвратных средств государственной поддержки;\n",
    "- financing_source — источник государственного финансирования;\n",
    "- budget — общий бюджет фильма;\n",
    "- ratings — рейтинг фильма на КиноПоиске;\n",
    "- genres — жанр фильма.\n",
    "- Таблица mkrf_shows содержит сведения о показах фильмов в российских кинотеатрах.\n",
    "- puNumber — номер прокатного удостоверения;\n",
    "- box_office — сборы в рублях."
   ]
  },
  {
   "cell_type": "markdown",
   "metadata": {},
   "source": [
    "Импортируем библиотеки, загрузим данные и просмотрим их:"
   ]
  },
  {
   "cell_type": "code",
   "execution_count": 1,
   "metadata": {
    "id": "dw87FlzMgFyM"
   },
   "outputs": [],
   "source": [
    "import pandas as pd\n",
    "import numpy as np\n",
    "import matplotlib.pyplot as plt\n",
    "\n",
    "pd.options.display.float_format = '{:,.2f}'.format\n",
    "pd.set_option('display.max_columns', None)"
   ]
  },
  {
   "cell_type": "code",
   "execution_count": 2,
   "metadata": {
    "scrolled": false
   },
   "outputs": [
    {
     "data": {
      "text/html": [
       "<div>\n",
       "<style scoped>\n",
       "    .dataframe tbody tr th:only-of-type {\n",
       "        vertical-align: middle;\n",
       "    }\n",
       "\n",
       "    .dataframe tbody tr th {\n",
       "        vertical-align: top;\n",
       "    }\n",
       "\n",
       "    .dataframe thead th {\n",
       "        text-align: right;\n",
       "    }\n",
       "</style>\n",
       "<table border=\"1\" class=\"dataframe\">\n",
       "  <thead>\n",
       "    <tr style=\"text-align: right;\">\n",
       "      <th></th>\n",
       "      <th>title</th>\n",
       "      <th>puNumber</th>\n",
       "      <th>show_start_date</th>\n",
       "      <th>type</th>\n",
       "      <th>film_studio</th>\n",
       "      <th>production_country</th>\n",
       "      <th>director</th>\n",
       "      <th>producer</th>\n",
       "      <th>age_restriction</th>\n",
       "      <th>refundable_support</th>\n",
       "      <th>nonrefundable_support</th>\n",
       "      <th>budget</th>\n",
       "      <th>financing_source</th>\n",
       "      <th>ratings</th>\n",
       "      <th>genres</th>\n",
       "    </tr>\n",
       "  </thead>\n",
       "  <tbody>\n",
       "    <tr>\n",
       "      <th>0</th>\n",
       "      <td>Открытый простор</td>\n",
       "      <td>221048915</td>\n",
       "      <td>2015-11-27T12:00:00.000Z</td>\n",
       "      <td>Художественный</td>\n",
       "      <td>Тачстоун Пикчерз, Кобальт Пикчерз, Бикон Пикче...</td>\n",
       "      <td>США</td>\n",
       "      <td>Кевин Костнер</td>\n",
       "      <td>Дэвид Валдес, Кевин Костнер, Джейк Эбертс</td>\n",
       "      <td>«18+» - запрещено для детей</td>\n",
       "      <td>NaN</td>\n",
       "      <td>NaN</td>\n",
       "      <td>NaN</td>\n",
       "      <td>NaN</td>\n",
       "      <td>7.2</td>\n",
       "      <td>боевик,драма,мелодрама</td>\n",
       "    </tr>\n",
       "    <tr>\n",
       "      <th>1</th>\n",
       "      <td>Особо важное задание</td>\n",
       "      <td>111013716</td>\n",
       "      <td>2016-09-13T12:00:00.000Z</td>\n",
       "      <td>Художественный</td>\n",
       "      <td>Киностудия \"Мосфильм\"</td>\n",
       "      <td>СССР</td>\n",
       "      <td>Е.Матвеев</td>\n",
       "      <td>NaN</td>\n",
       "      <td>«6+» - для детей старше 6 лет</td>\n",
       "      <td>NaN</td>\n",
       "      <td>NaN</td>\n",
       "      <td>NaN</td>\n",
       "      <td>NaN</td>\n",
       "      <td>6.6</td>\n",
       "      <td>драма,военный</td>\n",
       "    </tr>\n",
       "    <tr>\n",
       "      <th>2</th>\n",
       "      <td>Особо опасен</td>\n",
       "      <td>221038416</td>\n",
       "      <td>2016-10-10T12:00:00.000Z</td>\n",
       "      <td>Художественный</td>\n",
       "      <td>Юниверсал Пикчерз, Кикстарт Продакшнз, Марк Пл...</td>\n",
       "      <td>США</td>\n",
       "      <td>Тимур Бекмамбетов</td>\n",
       "      <td>Джим Лемли, Джейсон Нетер, Марк Е.Платт, Яйн Смит</td>\n",
       "      <td>«18+» - запрещено для детей</td>\n",
       "      <td>NaN</td>\n",
       "      <td>NaN</td>\n",
       "      <td>NaN</td>\n",
       "      <td>NaN</td>\n",
       "      <td>6.8</td>\n",
       "      <td>фантастика,боевик,триллер</td>\n",
       "    </tr>\n",
       "    <tr>\n",
       "      <th>3</th>\n",
       "      <td>Особо опасен</td>\n",
       "      <td>221026916</td>\n",
       "      <td>2016-06-10T12:00:00.000Z</td>\n",
       "      <td>Художественный</td>\n",
       "      <td>Юниверсал Пикчерз, Кикстарт Продакшнз, Марк Пл...</td>\n",
       "      <td>США</td>\n",
       "      <td>Тимур Бекмамбетов</td>\n",
       "      <td>Джим Лемли, Джейсон Нетер, Марк Е.Платт, Яйн Смит</td>\n",
       "      <td>«18+» - запрещено для детей</td>\n",
       "      <td>NaN</td>\n",
       "      <td>NaN</td>\n",
       "      <td>NaN</td>\n",
       "      <td>NaN</td>\n",
       "      <td>6.8</td>\n",
       "      <td>фантастика,боевик,триллер</td>\n",
       "    </tr>\n",
       "    <tr>\n",
       "      <th>4</th>\n",
       "      <td>Особо опасен</td>\n",
       "      <td>221030815</td>\n",
       "      <td>2015-07-29T12:00:00.000Z</td>\n",
       "      <td>Художественный</td>\n",
       "      <td>Юниверсал Пикчерз, Кикстарт Продакшнз, Марк Пл...</td>\n",
       "      <td>США</td>\n",
       "      <td>Тимур Бекмамбетов</td>\n",
       "      <td>Джим Лемли, Джейсон Нетер, Марк Е.Платт, Яйн Смит</td>\n",
       "      <td>«18+» - запрещено для детей</td>\n",
       "      <td>NaN</td>\n",
       "      <td>NaN</td>\n",
       "      <td>NaN</td>\n",
       "      <td>NaN</td>\n",
       "      <td>6.8</td>\n",
       "      <td>фантастика,боевик,триллер</td>\n",
       "    </tr>\n",
       "  </tbody>\n",
       "</table>\n",
       "</div>"
      ],
      "text/plain": [
       "                  title   puNumber           show_start_date            type  \\\n",
       "0      Открытый простор  221048915  2015-11-27T12:00:00.000Z  Художественный   \n",
       "1  Особо важное задание  111013716  2016-09-13T12:00:00.000Z  Художественный   \n",
       "2          Особо опасен  221038416  2016-10-10T12:00:00.000Z  Художественный   \n",
       "3          Особо опасен  221026916  2016-06-10T12:00:00.000Z  Художественный   \n",
       "4          Особо опасен  221030815  2015-07-29T12:00:00.000Z  Художественный   \n",
       "\n",
       "                                         film_studio production_country  \\\n",
       "0  Тачстоун Пикчерз, Кобальт Пикчерз, Бикон Пикче...                США   \n",
       "1                              Киностудия \"Мосфильм\"               СССР   \n",
       "2  Юниверсал Пикчерз, Кикстарт Продакшнз, Марк Пл...                США   \n",
       "3  Юниверсал Пикчерз, Кикстарт Продакшнз, Марк Пл...                США   \n",
       "4  Юниверсал Пикчерз, Кикстарт Продакшнз, Марк Пл...                США   \n",
       "\n",
       "            director                                           producer  \\\n",
       "0      Кевин Костнер          Дэвид Валдес, Кевин Костнер, Джейк Эбертс   \n",
       "1          Е.Матвеев                                                NaN   \n",
       "2  Тимур Бекмамбетов  Джим Лемли, Джейсон Нетер, Марк Е.Платт, Яйн Смит   \n",
       "3  Тимур Бекмамбетов  Джим Лемли, Джейсон Нетер, Марк Е.Платт, Яйн Смит   \n",
       "4  Тимур Бекмамбетов  Джим Лемли, Джейсон Нетер, Марк Е.Платт, Яйн Смит   \n",
       "\n",
       "                 age_restriction  refundable_support  nonrefundable_support  \\\n",
       "0    «18+» - запрещено для детей                 NaN                    NaN   \n",
       "1  «6+» - для детей старше 6 лет                 NaN                    NaN   \n",
       "2    «18+» - запрещено для детей                 NaN                    NaN   \n",
       "3    «18+» - запрещено для детей                 NaN                    NaN   \n",
       "4    «18+» - запрещено для детей                 NaN                    NaN   \n",
       "\n",
       "   budget financing_source ratings                     genres  \n",
       "0     NaN              NaN     7.2     боевик,драма,мелодрама  \n",
       "1     NaN              NaN     6.6              драма,военный  \n",
       "2     NaN              NaN     6.8  фантастика,боевик,триллер  \n",
       "3     NaN              NaN     6.8  фантастика,боевик,триллер  \n",
       "4     NaN              NaN     6.8  фантастика,боевик,триллер  "
      ]
     },
     "execution_count": 2,
     "metadata": {},
     "output_type": "execute_result"
    }
   ],
   "source": [
    "movies = pd.read_csv('/datasets/mkrf_movies.csv')\n",
    "movies.head()"
   ]
  },
  {
   "cell_type": "code",
   "execution_count": 3,
   "metadata": {
    "scrolled": false
   },
   "outputs": [
    {
     "name": "stdout",
     "output_type": "stream",
     "text": [
      "<class 'pandas.core.frame.DataFrame'>\n",
      "RangeIndex: 7486 entries, 0 to 7485\n",
      "Data columns (total 15 columns):\n",
      " #   Column                 Non-Null Count  Dtype  \n",
      "---  ------                 --------------  -----  \n",
      " 0   title                  7486 non-null   object \n",
      " 1   puNumber               7486 non-null   object \n",
      " 2   show_start_date        7486 non-null   object \n",
      " 3   type                   7486 non-null   object \n",
      " 4   film_studio            7468 non-null   object \n",
      " 5   production_country     7484 non-null   object \n",
      " 6   director               7477 non-null   object \n",
      " 7   producer               6918 non-null   object \n",
      " 8   age_restriction        7486 non-null   object \n",
      " 9   refundable_support     332 non-null    float64\n",
      " 10  nonrefundable_support  332 non-null    float64\n",
      " 11  budget                 332 non-null    float64\n",
      " 12  financing_source       332 non-null    object \n",
      " 13  ratings                6519 non-null   object \n",
      " 14  genres                 6510 non-null   object \n",
      "dtypes: float64(3), object(12)\n",
      "memory usage: 877.4+ KB\n"
     ]
    }
   ],
   "source": [
    "movies.info()"
   ]
  },
  {
   "cell_type": "code",
   "execution_count": 4,
   "metadata": {},
   "outputs": [],
   "source": [
    "movies['puNumber'] = pd.to_numeric(movies['puNumber'], errors='coerce').fillna(0).astype('int')"
   ]
  },
  {
   "cell_type": "code",
   "execution_count": 5,
   "metadata": {
    "scrolled": true
   },
   "outputs": [
    {
     "data": {
      "text/html": [
       "<div>\n",
       "<style scoped>\n",
       "    .dataframe tbody tr th:only-of-type {\n",
       "        vertical-align: middle;\n",
       "    }\n",
       "\n",
       "    .dataframe tbody tr th {\n",
       "        vertical-align: top;\n",
       "    }\n",
       "\n",
       "    .dataframe thead th {\n",
       "        text-align: right;\n",
       "    }\n",
       "</style>\n",
       "<table border=\"1\" class=\"dataframe\">\n",
       "  <thead>\n",
       "    <tr style=\"text-align: right;\">\n",
       "      <th></th>\n",
       "      <th>puNumber</th>\n",
       "      <th>box_office</th>\n",
       "    </tr>\n",
       "  </thead>\n",
       "  <tbody>\n",
       "    <tr>\n",
       "      <th>0</th>\n",
       "      <td>111000113</td>\n",
       "      <td>2,450.00</td>\n",
       "    </tr>\n",
       "    <tr>\n",
       "      <th>1</th>\n",
       "      <td>111000115</td>\n",
       "      <td>61,040.00</td>\n",
       "    </tr>\n",
       "    <tr>\n",
       "      <th>2</th>\n",
       "      <td>111000116</td>\n",
       "      <td>153,030,013.40</td>\n",
       "    </tr>\n",
       "    <tr>\n",
       "      <th>3</th>\n",
       "      <td>111000117</td>\n",
       "      <td>12,260,956.00</td>\n",
       "    </tr>\n",
       "    <tr>\n",
       "      <th>4</th>\n",
       "      <td>111000118</td>\n",
       "      <td>163,684,057.79</td>\n",
       "    </tr>\n",
       "  </tbody>\n",
       "</table>\n",
       "</div>"
      ],
      "text/plain": [
       "    puNumber     box_office\n",
       "0  111000113       2,450.00\n",
       "1  111000115      61,040.00\n",
       "2  111000116 153,030,013.40\n",
       "3  111000117  12,260,956.00\n",
       "4  111000118 163,684,057.79"
      ]
     },
     "execution_count": 5,
     "metadata": {},
     "output_type": "execute_result"
    }
   ],
   "source": [
    "movies_box_office = pd.read_csv('/datasets/mkrf_shows.csv')\n",
    "movies_box_office.head()"
   ]
  },
  {
   "cell_type": "code",
   "execution_count": 6,
   "metadata": {},
   "outputs": [
    {
     "name": "stdout",
     "output_type": "stream",
     "text": [
      "<class 'pandas.core.frame.DataFrame'>\n",
      "RangeIndex: 3158 entries, 0 to 3157\n",
      "Data columns (total 2 columns):\n",
      " #   Column      Non-Null Count  Dtype  \n",
      "---  ------      --------------  -----  \n",
      " 0   puNumber    3158 non-null   int64  \n",
      " 1   box_office  3158 non-null   float64\n",
      "dtypes: float64(1), int64(1)\n",
      "memory usage: 49.5 KB\n"
     ]
    }
   ],
   "source": [
    "movies_box_office.info()"
   ]
  },
  {
   "cell_type": "markdown",
   "metadata": {},
   "source": [
    "Приведем puNumber к единому типу данных и объединим таблиы"
   ]
  },
  {
   "cell_type": "code",
   "execution_count": 7,
   "metadata": {},
   "outputs": [],
   "source": [
    "data = movies.merge(movies_box_office, on='puNumber', how='left')"
   ]
  },
  {
   "cell_type": "code",
   "execution_count": 8,
   "metadata": {},
   "outputs": [
    {
     "name": "stdout",
     "output_type": "stream",
     "text": [
      "<class 'pandas.core.frame.DataFrame'>\n",
      "Int64Index: 7486 entries, 0 to 7485\n",
      "Data columns (total 16 columns):\n",
      " #   Column                 Non-Null Count  Dtype  \n",
      "---  ------                 --------------  -----  \n",
      " 0   title                  7486 non-null   object \n",
      " 1   puNumber               7486 non-null   int64  \n",
      " 2   show_start_date        7486 non-null   object \n",
      " 3   type                   7486 non-null   object \n",
      " 4   film_studio            7468 non-null   object \n",
      " 5   production_country     7484 non-null   object \n",
      " 6   director               7477 non-null   object \n",
      " 7   producer               6918 non-null   object \n",
      " 8   age_restriction        7486 non-null   object \n",
      " 9   refundable_support     332 non-null    float64\n",
      " 10  nonrefundable_support  332 non-null    float64\n",
      " 11  budget                 332 non-null    float64\n",
      " 12  financing_source       332 non-null    object \n",
      " 13  ratings                6519 non-null   object \n",
      " 14  genres                 6510 non-null   object \n",
      " 15  box_office             3158 non-null   float64\n",
      "dtypes: float64(4), int64(1), object(11)\n",
      "memory usage: 994.2+ KB\n"
     ]
    }
   ],
   "source": [
    "data.info()"
   ]
  },
  {
   "cell_type": "markdown",
   "metadata": {
    "id": "KLDGpPG0gFyM"
   },
   "source": [
    "### Предобработка данных"
   ]
  },
  {
   "cell_type": "markdown",
   "metadata": {
    "id": "ssWwKXsxgFyO"
   },
   "source": [
    "проверим типы данных в датафрейме и преобразуем их там, где это необходимо."
   ]
  },
  {
   "cell_type": "code",
   "execution_count": 9,
   "metadata": {
    "id": "kVGSplJOgFyO",
    "scrolled": false
   },
   "outputs": [
    {
     "name": "stdout",
     "output_type": "stream",
     "text": [
      "<class 'pandas.core.frame.DataFrame'>\n",
      "Int64Index: 7486 entries, 0 to 7485\n",
      "Data columns (total 16 columns):\n",
      " #   Column                 Non-Null Count  Dtype  \n",
      "---  ------                 --------------  -----  \n",
      " 0   title                  7486 non-null   object \n",
      " 1   puNumber               7486 non-null   int64  \n",
      " 2   show_start_date        7486 non-null   object \n",
      " 3   type                   7486 non-null   object \n",
      " 4   film_studio            7468 non-null   object \n",
      " 5   production_country     7484 non-null   object \n",
      " 6   director               7477 non-null   object \n",
      " 7   producer               6918 non-null   object \n",
      " 8   age_restriction        7486 non-null   object \n",
      " 9   refundable_support     332 non-null    float64\n",
      " 10  nonrefundable_support  332 non-null    float64\n",
      " 11  budget                 332 non-null    float64\n",
      " 12  financing_source       332 non-null    object \n",
      " 13  ratings                6519 non-null   object \n",
      " 14  genres                 6510 non-null   object \n",
      " 15  box_office             3158 non-null   float64\n",
      "dtypes: float64(4), int64(1), object(11)\n",
      "memory usage: 994.2+ KB\n"
     ]
    }
   ],
   "source": [
    "data.info()"
   ]
  },
  {
   "cell_type": "markdown",
   "metadata": {},
   "source": [
    " Требуется изменить тип данных: <br>\n",
    " show_start_date к типу datetime <br>\n",
    " ratings к float <br>"
   ]
  },
  {
   "cell_type": "code",
   "execution_count": 10,
   "metadata": {},
   "outputs": [],
   "source": [
    "data['show_start_date'] = pd.to_datetime(data['show_start_date'], format=\"%Y-%m-%d\")"
   ]
  },
  {
   "cell_type": "code",
   "execution_count": 11,
   "metadata": {},
   "outputs": [],
   "source": [
    "data['ratings'] = data['ratings'].str.replace('%', '').astype('float')"
   ]
  },
  {
   "cell_type": "code",
   "execution_count": 12,
   "metadata": {},
   "outputs": [],
   "source": [
    "data['ratings'] = np.where(data['ratings'] > 10, data['ratings'] / 10, data['ratings'])"
   ]
  },
  {
   "cell_type": "code",
   "execution_count": 13,
   "metadata": {},
   "outputs": [
    {
     "name": "stdout",
     "output_type": "stream",
     "text": [
      "<class 'pandas.core.frame.DataFrame'>\n",
      "Int64Index: 7486 entries, 0 to 7485\n",
      "Data columns (total 16 columns):\n",
      " #   Column                 Non-Null Count  Dtype              \n",
      "---  ------                 --------------  -----              \n",
      " 0   title                  7486 non-null   object             \n",
      " 1   puNumber               7486 non-null   int64              \n",
      " 2   show_start_date        7486 non-null   datetime64[ns, UTC]\n",
      " 3   type                   7486 non-null   object             \n",
      " 4   film_studio            7468 non-null   object             \n",
      " 5   production_country     7484 non-null   object             \n",
      " 6   director               7477 non-null   object             \n",
      " 7   producer               6918 non-null   object             \n",
      " 8   age_restriction        7486 non-null   object             \n",
      " 9   refundable_support     332 non-null    float64            \n",
      " 10  nonrefundable_support  332 non-null    float64            \n",
      " 11  budget                 332 non-null    float64            \n",
      " 12  financing_source       332 non-null    object             \n",
      " 13  ratings                6519 non-null   float64            \n",
      " 14  genres                 6510 non-null   object             \n",
      " 15  box_office             3158 non-null   float64            \n",
      "dtypes: datetime64[ns, UTC](1), float64(5), int64(1), object(9)\n",
      "memory usage: 994.2+ KB\n"
     ]
    }
   ],
   "source": [
    "data.info()"
   ]
  },
  {
   "cell_type": "markdown",
   "metadata": {},
   "source": [
    "Имеются пропуски в следующих столбцах: <br>\n",
    "<br>\n",
    "film_studio <br>\n",
    "production_country <br>\n",
    "director <br>\n",
    "producer <br>\n",
    "Эти данные не понадобятся нам для исследования, поэтому пропуски в них не будм заполнять <br>\n",
    "<br>\n",
    "refundable_support <br>\n",
    "nonrefundable_support <br>\n",
    "financing_source <br>\n",
    "Данные в этих столбцах указаны только для тех фильмов, которые получили государственную поддержку, пропуски в них можно заполнить значением 0 <br>\n",
    "<br>\n",
    "budget <br>\n",
    "Представлены данные только для фильмов с господдержкой, для анализа показателей по другим фильмам требуется запросить дополнительные данные. Самостоятельно пропуски заполнить мы не можем <br>\n",
    "<br>\n",
    "ratings<br>\n",
    "genres<br>\n",
    "Эти данные нужны для исследования фильмов с господдержкой отсутствуют данные в 16 строках из 332, пропусков незначителдьное количество, оставим их без изменений\n",
    "<br>\n",
    "box_office <br>\n",
    "для заполнения этих пропусков требуется запросить дополнительные данные. Самостоятельно пропуски заполнить мы не можем <br>"
   ]
  },
  {
   "cell_type": "code",
   "execution_count": 14,
   "metadata": {},
   "outputs": [],
   "source": [
    "data['refundable_support'] = data['refundable_support'].fillna(0)\n",
    "data['nonrefundable_support'] = data['nonrefundable_support'].fillna(0)\n",
    "data['financing_source'] = data['financing_source'].fillna(0)"
   ]
  },
  {
   "cell_type": "code",
   "execution_count": 15,
   "metadata": {},
   "outputs": [
    {
     "data": {
      "text/html": [
       "<div>\n",
       "<style scoped>\n",
       "    .dataframe tbody tr th:only-of-type {\n",
       "        vertical-align: middle;\n",
       "    }\n",
       "\n",
       "    .dataframe tbody tr th {\n",
       "        vertical-align: top;\n",
       "    }\n",
       "\n",
       "    .dataframe thead th {\n",
       "        text-align: right;\n",
       "    }\n",
       "</style>\n",
       "<table border=\"1\" class=\"dataframe\">\n",
       "  <thead>\n",
       "    <tr style=\"text-align: right;\">\n",
       "      <th></th>\n",
       "      <th>title</th>\n",
       "      <th>ratings</th>\n",
       "      <th>genres</th>\n",
       "    </tr>\n",
       "  </thead>\n",
       "  <tbody>\n",
       "    <tr>\n",
       "      <th>1448</th>\n",
       "      <td>Бесславные придурки</td>\n",
       "      <td>NaN</td>\n",
       "      <td>NaN</td>\n",
       "    </tr>\n",
       "    <tr>\n",
       "      <th>2150</th>\n",
       "      <td>РЕВЕРБЕРАЦИЯ</td>\n",
       "      <td>NaN</td>\n",
       "      <td>NaN</td>\n",
       "    </tr>\n",
       "    <tr>\n",
       "      <th>2451</th>\n",
       "      <td>ПРАЗДНИК НЕПОСЛУШАНИЯ</td>\n",
       "      <td>NaN</td>\n",
       "      <td>NaN</td>\n",
       "    </tr>\n",
       "    <tr>\n",
       "      <th>2817</th>\n",
       "      <td>Иерей-Сан. Исповедь самурая. ПОСТАНОВЛЕНИЕМ СУ...</td>\n",
       "      <td>NaN</td>\n",
       "      <td>NaN</td>\n",
       "    </tr>\n",
       "    <tr>\n",
       "      <th>2999</th>\n",
       "      <td>Жили-были мы</td>\n",
       "      <td>NaN</td>\n",
       "      <td>NaN</td>\n",
       "    </tr>\n",
       "    <tr>\n",
       "      <th>3061</th>\n",
       "      <td>Первая Мировая война WWI</td>\n",
       "      <td>NaN</td>\n",
       "      <td>NaN</td>\n",
       "    </tr>\n",
       "    <tr>\n",
       "      <th>3385</th>\n",
       "      <td>О любви (2017)</td>\n",
       "      <td>NaN</td>\n",
       "      <td>NaN</td>\n",
       "    </tr>\n",
       "    <tr>\n",
       "      <th>3389</th>\n",
       "      <td>Как Витька Чеснок вёз Лёху штыря в дом инвалидов</td>\n",
       "      <td>NaN</td>\n",
       "      <td>NaN</td>\n",
       "    </tr>\n",
       "    <tr>\n",
       "      <th>3614</th>\n",
       "      <td>Три сестры</td>\n",
       "      <td>NaN</td>\n",
       "      <td>NaN</td>\n",
       "    </tr>\n",
       "    <tr>\n",
       "      <th>3655</th>\n",
       "      <td>О чем молчат французы</td>\n",
       "      <td>NaN</td>\n",
       "      <td>NaN</td>\n",
       "    </tr>\n",
       "    <tr>\n",
       "      <th>5708</th>\n",
       "      <td>Лёд</td>\n",
       "      <td>NaN</td>\n",
       "      <td>NaN</td>\n",
       "    </tr>\n",
       "    <tr>\n",
       "      <th>6245</th>\n",
       "      <td>Смотри Мою Любовь</td>\n",
       "      <td>NaN</td>\n",
       "      <td>NaN</td>\n",
       "    </tr>\n",
       "    <tr>\n",
       "      <th>6323</th>\n",
       "      <td>Баба Яга</td>\n",
       "      <td>NaN</td>\n",
       "      <td>NaN</td>\n",
       "    </tr>\n",
       "    <tr>\n",
       "      <th>6910</th>\n",
       "      <td>ВЕСУРИ</td>\n",
       "      <td>NaN</td>\n",
       "      <td>NaN</td>\n",
       "    </tr>\n",
       "    <tr>\n",
       "      <th>7209</th>\n",
       "      <td>Дикая Лига (авторская версия)</td>\n",
       "      <td>NaN</td>\n",
       "      <td>NaN</td>\n",
       "    </tr>\n",
       "    <tr>\n",
       "      <th>7344</th>\n",
       "      <td>Кроличья лапа</td>\n",
       "      <td>NaN</td>\n",
       "      <td>NaN</td>\n",
       "    </tr>\n",
       "  </tbody>\n",
       "</table>\n",
       "</div>"
      ],
      "text/plain": [
       "                                                  title  ratings genres\n",
       "1448                                Бесславные придурки      NaN    NaN\n",
       "2150                                       РЕВЕРБЕРАЦИЯ      NaN    NaN\n",
       "2451                              ПРАЗДНИК НЕПОСЛУШАНИЯ      NaN    NaN\n",
       "2817  Иерей-Сан. Исповедь самурая. ПОСТАНОВЛЕНИЕМ СУ...      NaN    NaN\n",
       "2999                                       Жили-были мы      NaN    NaN\n",
       "3061                           Первая Мировая война WWI      NaN    NaN\n",
       "3385                                     О любви (2017)      NaN    NaN\n",
       "3389   Как Витька Чеснок вёз Лёху штыря в дом инвалидов      NaN    NaN\n",
       "3614                                         Три сестры      NaN    NaN\n",
       "3655                              О чем молчат французы      NaN    NaN\n",
       "5708                                                Лёд      NaN    NaN\n",
       "6245                                  Смотри Мою Любовь      NaN    NaN\n",
       "6323                                           Баба Яга      NaN    NaN\n",
       "6910                                             ВЕСУРИ      NaN    NaN\n",
       "7209                      Дикая Лига (авторская версия)      NaN    NaN\n",
       "7344                                      Кроличья лапа      NaN    NaN"
      ]
     },
     "execution_count": 15,
     "metadata": {},
     "output_type": "execute_result"
    }
   ],
   "source": [
    "data.query('(not budget.isna() and (ratings.isna() or genres.isna()))')[['title','ratings', 'genres']]"
   ]
  },
  {
   "cell_type": "markdown",
   "metadata": {},
   "source": [
    "некоторые фильмы записаны в разных регистрах, приведем все к строчным символам"
   ]
  },
  {
   "cell_type": "code",
   "execution_count": 16,
   "metadata": {},
   "outputs": [],
   "source": [
    "data['title'] = data['title'].str.lower()"
   ]
  },
  {
   "cell_type": "markdown",
   "metadata": {},
   "source": [
    "Проверка на дубликаты puNumber"
   ]
  },
  {
   "cell_type": "code",
   "execution_count": 17,
   "metadata": {},
   "outputs": [
    {
     "data": {
      "text/plain": [
       "2"
      ]
     },
     "execution_count": 17,
     "metadata": {},
     "output_type": "execute_result"
    }
   ],
   "source": [
    "data.duplicated(subset='puNumber').sum()"
   ]
  },
  {
   "cell_type": "code",
   "execution_count": 18,
   "metadata": {
    "scrolled": false
   },
   "outputs": [
    {
     "data": {
      "text/html": [
       "<div>\n",
       "<style scoped>\n",
       "    .dataframe tbody tr th:only-of-type {\n",
       "        vertical-align: middle;\n",
       "    }\n",
       "\n",
       "    .dataframe tbody tr th {\n",
       "        vertical-align: top;\n",
       "    }\n",
       "\n",
       "    .dataframe thead th {\n",
       "        text-align: right;\n",
       "    }\n",
       "</style>\n",
       "<table border=\"1\" class=\"dataframe\">\n",
       "  <thead>\n",
       "    <tr style=\"text-align: right;\">\n",
       "      <th></th>\n",
       "      <th>title</th>\n",
       "      <th>puNumber</th>\n",
       "      <th>show_start_date</th>\n",
       "      <th>type</th>\n",
       "      <th>film_studio</th>\n",
       "      <th>production_country</th>\n",
       "      <th>director</th>\n",
       "      <th>producer</th>\n",
       "      <th>age_restriction</th>\n",
       "      <th>refundable_support</th>\n",
       "      <th>nonrefundable_support</th>\n",
       "      <th>budget</th>\n",
       "      <th>financing_source</th>\n",
       "      <th>ratings</th>\n",
       "      <th>genres</th>\n",
       "      <th>box_office</th>\n",
       "    </tr>\n",
       "  </thead>\n",
       "  <tbody>\n",
       "    <tr>\n",
       "      <th>4638</th>\n",
       "      <td>как жениться и остаться холостым</td>\n",
       "      <td>221154310</td>\n",
       "      <td>2010-12-17 12:00:00+00:00</td>\n",
       "      <td>Художественный</td>\n",
       "      <td>Ше Вам, Скрипт Ассосье, Тэ Фэ 1 Фильм Продюксь...</td>\n",
       "      <td>Франция</td>\n",
       "      <td>Эрик Лартиго</td>\n",
       "      <td>Амандин Било, Алан Шаба</td>\n",
       "      <td>«16+» - для детей старше 16 лет</td>\n",
       "      <td>0.00</td>\n",
       "      <td>0.00</td>\n",
       "      <td>NaN</td>\n",
       "      <td>0</td>\n",
       "      <td>7.00</td>\n",
       "      <td>мелодрама,комедия</td>\n",
       "      <td>NaN</td>\n",
       "    </tr>\n",
       "    <tr>\n",
       "      <th>4639</th>\n",
       "      <td>иоанна - женщина на папском престоле /по роман...</td>\n",
       "      <td>221154310</td>\n",
       "      <td>2010-12-17 12:00:00+00:00</td>\n",
       "      <td>Художественный</td>\n",
       "      <td>Константин Фильм, А Эр Ди Дегето Фильм, Дюне ...</td>\n",
       "      <td>Германия - Великобритания - Италия - Испания</td>\n",
       "      <td>Зенке Вортманн</td>\n",
       "      <td>Оливер Бербен, Дорис Д.Хайнце, Фарук Элтан</td>\n",
       "      <td>«16+» - для детей старше 16 лет</td>\n",
       "      <td>0.00</td>\n",
       "      <td>0.00</td>\n",
       "      <td>NaN</td>\n",
       "      <td>0</td>\n",
       "      <td>7.60</td>\n",
       "      <td>драма,мелодрама,история</td>\n",
       "      <td>NaN</td>\n",
       "    </tr>\n",
       "    <tr>\n",
       "      <th>5067</th>\n",
       "      <td>анализируй это!</td>\n",
       "      <td>221054410</td>\n",
       "      <td>2010-05-25 12:00:00+00:00</td>\n",
       "      <td>Художественный</td>\n",
       "      <td>Уорнер Бразерс, Вилладж Роудшоу Филмз ЛТД</td>\n",
       "      <td>США-Австралия</td>\n",
       "      <td>ХЭрольд Рэмис</td>\n",
       "      <td>Джейн Розенталь, Пола Уейнстейн</td>\n",
       "      <td>«16+» - для детей старше 16 лет</td>\n",
       "      <td>0.00</td>\n",
       "      <td>0.00</td>\n",
       "      <td>NaN</td>\n",
       "      <td>0</td>\n",
       "      <td>7.40</td>\n",
       "      <td>комедия,криминал</td>\n",
       "      <td>NaN</td>\n",
       "    </tr>\n",
       "    <tr>\n",
       "      <th>5068</th>\n",
       "      <td>анализируй то!</td>\n",
       "      <td>221054410</td>\n",
       "      <td>2010-05-25 12:00:00+00:00</td>\n",
       "      <td>Художественный</td>\n",
       "      <td>Уорнер Бразерс, Виллидж Роадшоу Пикчерз, Эн-Пи...</td>\n",
       "      <td>США</td>\n",
       "      <td>Гарольд Реймис</td>\n",
       "      <td>Джейн Розенталь, Паул Уэйнстейн</td>\n",
       "      <td>«12+» - для детей старше 12 лет</td>\n",
       "      <td>0.00</td>\n",
       "      <td>0.00</td>\n",
       "      <td>NaN</td>\n",
       "      <td>0</td>\n",
       "      <td>6.80</td>\n",
       "      <td>комедия,криминал</td>\n",
       "      <td>NaN</td>\n",
       "    </tr>\n",
       "  </tbody>\n",
       "</table>\n",
       "</div>"
      ],
      "text/plain": [
       "                                                  title   puNumber  \\\n",
       "4638                   как жениться и остаться холостым  221154310   \n",
       "4639  иоанна - женщина на папском престоле /по роман...  221154310   \n",
       "5067                                    анализируй это!  221054410   \n",
       "5068                                     анализируй то!  221054410   \n",
       "\n",
       "               show_start_date            type  \\\n",
       "4638 2010-12-17 12:00:00+00:00  Художественный   \n",
       "4639 2010-12-17 12:00:00+00:00  Художественный   \n",
       "5067 2010-05-25 12:00:00+00:00  Художественный   \n",
       "5068 2010-05-25 12:00:00+00:00  Художественный   \n",
       "\n",
       "                                            film_studio  \\\n",
       "4638  Ше Вам, Скрипт Ассосье, Тэ Фэ 1 Фильм Продюксь...   \n",
       "4639   Константин Фильм, А Эр Ди Дегето Фильм, Дюне ...   \n",
       "5067          Уорнер Бразерс, Вилладж Роудшоу Филмз ЛТД   \n",
       "5068  Уорнер Бразерс, Виллидж Роадшоу Пикчерз, Эн-Пи...   \n",
       "\n",
       "                                production_country        director  \\\n",
       "4638                                       Франция    Эрик Лартиго   \n",
       "4639  Германия - Великобритания - Италия - Испания  Зенке Вортманн   \n",
       "5067                                 США-Австралия   ХЭрольд Рэмис   \n",
       "5068                                           США  Гарольд Реймис   \n",
       "\n",
       "                                        producer  \\\n",
       "4638                     Амандин Било, Алан Шаба   \n",
       "4639  Оливер Бербен, Дорис Д.Хайнце, Фарук Элтан   \n",
       "5067             Джейн Розенталь, Пола Уейнстейн   \n",
       "5068             Джейн Розенталь, Паул Уэйнстейн   \n",
       "\n",
       "                      age_restriction  refundable_support  \\\n",
       "4638  «16+» - для детей старше 16 лет                0.00   \n",
       "4639  «16+» - для детей старше 16 лет                0.00   \n",
       "5067  «16+» - для детей старше 16 лет                0.00   \n",
       "5068  «12+» - для детей старше 12 лет                0.00   \n",
       "\n",
       "      nonrefundable_support  budget financing_source  ratings  \\\n",
       "4638                   0.00     NaN                0     7.00   \n",
       "4639                   0.00     NaN                0     7.60   \n",
       "5067                   0.00     NaN                0     7.40   \n",
       "5068                   0.00     NaN                0     6.80   \n",
       "\n",
       "                       genres  box_office  \n",
       "4638        мелодрама,комедия         NaN  \n",
       "4639  драма,мелодрама,история         NaN  \n",
       "5067         комедия,криминал         NaN  \n",
       "5068         комедия,криминал         NaN  "
      ]
     },
     "execution_count": 18,
     "metadata": {},
     "output_type": "execute_result"
    }
   ],
   "source": [
    "data[data.duplicated(keep=False, subset='puNumber')]"
   ]
  },
  {
   "cell_type": "code",
   "execution_count": 19,
   "metadata": {},
   "outputs": [],
   "source": [
    "data = data.drop_duplicates(subset='puNumber')"
   ]
  },
  {
   "cell_type": "markdown",
   "metadata": {},
   "source": [
    "Обнаружены дубликаты в столбце puNumber: <br>\n",
    "для первого случая неверно указаны номера прокатного удостоверния, так как не может быть одинакового номера у 2 разных фильмов<br>\n",
    "во втором случае имеется неявный дубликат из за разного написания фамилии режисера<br>\n",
    "<br>\n",
    "поскольку дубликатов незначительное количестов и для данных фильмов нет информации по сборам и по бюджету, большой пользы для исследования они не принесут, поэтому просто удалим эти дубликаты."
   ]
  },
  {
   "cell_type": "markdown",
   "metadata": {},
   "source": [
    "Проверка на дубликаты puNumber title"
   ]
  },
  {
   "cell_type": "code",
   "execution_count": 20,
   "metadata": {},
   "outputs": [
    {
     "data": {
      "text/plain": [
       "723"
      ]
     },
     "execution_count": 20,
     "metadata": {},
     "output_type": "execute_result"
    }
   ],
   "source": [
    "data.duplicated(subset='title').sum()"
   ]
  },
  {
   "cell_type": "code",
   "execution_count": 21,
   "metadata": {},
   "outputs": [
    {
     "data": {
      "text/html": [
       "<div>\n",
       "<style scoped>\n",
       "    .dataframe tbody tr th:only-of-type {\n",
       "        vertical-align: middle;\n",
       "    }\n",
       "\n",
       "    .dataframe tbody tr th {\n",
       "        vertical-align: top;\n",
       "    }\n",
       "\n",
       "    .dataframe thead th {\n",
       "        text-align: right;\n",
       "    }\n",
       "</style>\n",
       "<table border=\"1\" class=\"dataframe\">\n",
       "  <thead>\n",
       "    <tr style=\"text-align: right;\">\n",
       "      <th></th>\n",
       "      <th>title</th>\n",
       "      <th>puNumber</th>\n",
       "      <th>show_start_date</th>\n",
       "      <th>type</th>\n",
       "      <th>film_studio</th>\n",
       "      <th>production_country</th>\n",
       "      <th>director</th>\n",
       "      <th>producer</th>\n",
       "      <th>age_restriction</th>\n",
       "      <th>refundable_support</th>\n",
       "      <th>nonrefundable_support</th>\n",
       "      <th>budget</th>\n",
       "      <th>financing_source</th>\n",
       "      <th>ratings</th>\n",
       "      <th>genres</th>\n",
       "      <th>box_office</th>\n",
       "    </tr>\n",
       "  </thead>\n",
       "  <tbody>\n",
       "    <tr>\n",
       "      <th>2</th>\n",
       "      <td>особо опасен</td>\n",
       "      <td>221038416</td>\n",
       "      <td>2016-10-10 12:00:00+00:00</td>\n",
       "      <td>Художественный</td>\n",
       "      <td>Юниверсал Пикчерз, Кикстарт Продакшнз, Марк Пл...</td>\n",
       "      <td>США</td>\n",
       "      <td>Тимур Бекмамбетов</td>\n",
       "      <td>Джим Лемли, Джейсон Нетер, Марк Е.Платт, Яйн Смит</td>\n",
       "      <td>«18+» - запрещено для детей</td>\n",
       "      <td>0.00</td>\n",
       "      <td>0.00</td>\n",
       "      <td>NaN</td>\n",
       "      <td>0</td>\n",
       "      <td>6.80</td>\n",
       "      <td>фантастика,боевик,триллер</td>\n",
       "      <td>NaN</td>\n",
       "    </tr>\n",
       "    <tr>\n",
       "      <th>3</th>\n",
       "      <td>особо опасен</td>\n",
       "      <td>221026916</td>\n",
       "      <td>2016-06-10 12:00:00+00:00</td>\n",
       "      <td>Художественный</td>\n",
       "      <td>Юниверсал Пикчерз, Кикстарт Продакшнз, Марк Пл...</td>\n",
       "      <td>США</td>\n",
       "      <td>Тимур Бекмамбетов</td>\n",
       "      <td>Джим Лемли, Джейсон Нетер, Марк Е.Платт, Яйн Смит</td>\n",
       "      <td>«18+» - запрещено для детей</td>\n",
       "      <td>0.00</td>\n",
       "      <td>0.00</td>\n",
       "      <td>NaN</td>\n",
       "      <td>0</td>\n",
       "      <td>6.80</td>\n",
       "      <td>фантастика,боевик,триллер</td>\n",
       "      <td>NaN</td>\n",
       "    </tr>\n",
       "    <tr>\n",
       "      <th>4</th>\n",
       "      <td>особо опасен</td>\n",
       "      <td>221030815</td>\n",
       "      <td>2015-07-29 12:00:00+00:00</td>\n",
       "      <td>Художественный</td>\n",
       "      <td>Юниверсал Пикчерз, Кикстарт Продакшнз, Марк Пл...</td>\n",
       "      <td>США</td>\n",
       "      <td>Тимур Бекмамбетов</td>\n",
       "      <td>Джим Лемли, Джейсон Нетер, Марк Е.Платт, Яйн Смит</td>\n",
       "      <td>«18+» - запрещено для детей</td>\n",
       "      <td>0.00</td>\n",
       "      <td>0.00</td>\n",
       "      <td>NaN</td>\n",
       "      <td>0</td>\n",
       "      <td>6.80</td>\n",
       "      <td>фантастика,боевик,триллер</td>\n",
       "      <td>NaN</td>\n",
       "    </tr>\n",
       "    <tr>\n",
       "      <th>12</th>\n",
       "      <td>малышка на миллион /по мотивам рассказов ф.х.т...</td>\n",
       "      <td>221011415</td>\n",
       "      <td>2015-04-03 12:00:00+00:00</td>\n",
       "      <td>Художественный</td>\n",
       "      <td>Уорнер Бразерс, Лейкшор Интертейнмент, Малпасо...</td>\n",
       "      <td>США</td>\n",
       "      <td>Клинт Иствуд</td>\n",
       "      <td>Клинт Иствуд, Том Розенберг, Альберт С.Рудди, ...</td>\n",
       "      <td>«16+» - для детей старше 16 лет</td>\n",
       "      <td>0.00</td>\n",
       "      <td>0.00</td>\n",
       "      <td>NaN</td>\n",
       "      <td>0</td>\n",
       "      <td>8.10</td>\n",
       "      <td>драма,спорт</td>\n",
       "      <td>NaN</td>\n",
       "    </tr>\n",
       "    <tr>\n",
       "      <th>26</th>\n",
       "      <td>оружейный барон</td>\n",
       "      <td>221012515</td>\n",
       "      <td>2015-04-03 12:00:00+00:00</td>\n",
       "      <td>Художественный</td>\n",
       "      <td>Вэ И Пэ Медиенфондс 3, Асендант Пикчерз, Сатур...</td>\n",
       "      <td>США - Франция - Турция</td>\n",
       "      <td>Эндрю Никкол</td>\n",
       "      <td>Норман Голуайтли, Энди Грош, Николас Кейдж, Эн...</td>\n",
       "      <td>«18+» - запрещено для детей</td>\n",
       "      <td>0.00</td>\n",
       "      <td>0.00</td>\n",
       "      <td>NaN</td>\n",
       "      <td>0</td>\n",
       "      <td>7.70</td>\n",
       "      <td>боевик,драма,криминал</td>\n",
       "      <td>NaN</td>\n",
       "    </tr>\n",
       "  </tbody>\n",
       "</table>\n",
       "</div>"
      ],
      "text/plain": [
       "                                                title   puNumber  \\\n",
       "2                                        особо опасен  221038416   \n",
       "3                                        особо опасен  221026916   \n",
       "4                                        особо опасен  221030815   \n",
       "12  малышка на миллион /по мотивам рассказов ф.х.т...  221011415   \n",
       "26                                    оружейный барон  221012515   \n",
       "\n",
       "             show_start_date            type  \\\n",
       "2  2016-10-10 12:00:00+00:00  Художественный   \n",
       "3  2016-06-10 12:00:00+00:00  Художественный   \n",
       "4  2015-07-29 12:00:00+00:00  Художественный   \n",
       "12 2015-04-03 12:00:00+00:00  Художественный   \n",
       "26 2015-04-03 12:00:00+00:00  Художественный   \n",
       "\n",
       "                                          film_studio      production_country  \\\n",
       "2   Юниверсал Пикчерз, Кикстарт Продакшнз, Марк Пл...                     США   \n",
       "3   Юниверсал Пикчерз, Кикстарт Продакшнз, Марк Пл...                     США   \n",
       "4   Юниверсал Пикчерз, Кикстарт Продакшнз, Марк Пл...                     США   \n",
       "12  Уорнер Бразерс, Лейкшор Интертейнмент, Малпасо...                     США   \n",
       "26  Вэ И Пэ Медиенфондс 3, Асендант Пикчерз, Сатур...  США - Франция - Турция   \n",
       "\n",
       "             director                                           producer  \\\n",
       "2   Тимур Бекмамбетов  Джим Лемли, Джейсон Нетер, Марк Е.Платт, Яйн Смит   \n",
       "3   Тимур Бекмамбетов  Джим Лемли, Джейсон Нетер, Марк Е.Платт, Яйн Смит   \n",
       "4   Тимур Бекмамбетов  Джим Лемли, Джейсон Нетер, Марк Е.Платт, Яйн Смит   \n",
       "12       Клинт Иствуд  Клинт Иствуд, Том Розенберг, Альберт С.Рудди, ...   \n",
       "26       Эндрю Никкол  Норман Голуайтли, Энди Грош, Николас Кейдж, Эн...   \n",
       "\n",
       "                    age_restriction  refundable_support  \\\n",
       "2       «18+» - запрещено для детей                0.00   \n",
       "3       «18+» - запрещено для детей                0.00   \n",
       "4       «18+» - запрещено для детей                0.00   \n",
       "12  «16+» - для детей старше 16 лет                0.00   \n",
       "26      «18+» - запрещено для детей                0.00   \n",
       "\n",
       "    nonrefundable_support  budget financing_source  ratings  \\\n",
       "2                    0.00     NaN                0     6.80   \n",
       "3                    0.00     NaN                0     6.80   \n",
       "4                    0.00     NaN                0     6.80   \n",
       "12                   0.00     NaN                0     8.10   \n",
       "26                   0.00     NaN                0     7.70   \n",
       "\n",
       "                       genres  box_office  \n",
       "2   фантастика,боевик,триллер         NaN  \n",
       "3   фантастика,боевик,триллер         NaN  \n",
       "4   фантастика,боевик,триллер         NaN  \n",
       "12                драма,спорт         NaN  \n",
       "26      боевик,драма,криминал         NaN  "
      ]
     },
     "execution_count": 21,
     "metadata": {},
     "output_type": "execute_result"
    }
   ],
   "source": [
    "data[data.duplicated(keep=False, subset='title')].head()"
   ]
  },
  {
   "cell_type": "markdown",
   "metadata": {},
   "source": [
    "дуликаты присутствуют из за того что одинаковые фильмы имеют разыне прокатные удостоверения и показывались в разные даты<br>\n",
    "для ананлиза сборов и показов это не помешает, поэтому оставляем все без изменений<br>\n",
    "для оценки финансирования и бюджетов проверим сколько таких фильмов содержат известные данные по финансированию"
   ]
  },
  {
   "cell_type": "code",
   "execution_count": 22,
   "metadata": {
    "scrolled": false
   },
   "outputs": [
    {
     "data": {
      "text/html": [
       "<div>\n",
       "<style scoped>\n",
       "    .dataframe tbody tr th:only-of-type {\n",
       "        vertical-align: middle;\n",
       "    }\n",
       "\n",
       "    .dataframe tbody tr th {\n",
       "        vertical-align: top;\n",
       "    }\n",
       "\n",
       "    .dataframe thead th {\n",
       "        text-align: right;\n",
       "    }\n",
       "</style>\n",
       "<table border=\"1\" class=\"dataframe\">\n",
       "  <thead>\n",
       "    <tr style=\"text-align: right;\">\n",
       "      <th></th>\n",
       "      <th>title</th>\n",
       "      <th>puNumber</th>\n",
       "      <th>show_start_date</th>\n",
       "      <th>type</th>\n",
       "      <th>film_studio</th>\n",
       "      <th>production_country</th>\n",
       "      <th>director</th>\n",
       "      <th>producer</th>\n",
       "      <th>age_restriction</th>\n",
       "      <th>refundable_support</th>\n",
       "      <th>nonrefundable_support</th>\n",
       "      <th>budget</th>\n",
       "      <th>financing_source</th>\n",
       "      <th>ratings</th>\n",
       "      <th>genres</th>\n",
       "      <th>box_office</th>\n",
       "    </tr>\n",
       "  </thead>\n",
       "  <tbody>\n",
       "    <tr>\n",
       "      <th>3333</th>\n",
       "      <td>тень</td>\n",
       "      <td>111011316</td>\n",
       "      <td>2016-07-12 12:00:00+00:00</td>\n",
       "      <td>Художественный</td>\n",
       "      <td>ООО \"Студия АСДС\"</td>\n",
       "      <td>Россия</td>\n",
       "      <td>Д.Светозаров</td>\n",
       "      <td>Д.Светозаров, А.Сигле</td>\n",
       "      <td>«16+» - для детей старше 16 лет</td>\n",
       "      <td>0.00</td>\n",
       "      <td>30,000,000.00</td>\n",
       "      <td>46,195,427.00</td>\n",
       "      <td>Министерство культуры</td>\n",
       "      <td>7.10</td>\n",
       "      <td>фэнтези,боевик,драма</td>\n",
       "      <td>322,155.00</td>\n",
       "    </tr>\n",
       "    <tr>\n",
       "      <th>3614</th>\n",
       "      <td>три сестры</td>\n",
       "      <td>111004417</td>\n",
       "      <td>2017-06-09 12:00:00+00:00</td>\n",
       "      <td>Художественный</td>\n",
       "      <td>ООО \"РТВ\", АО \"ТПО \"Киностудия им. М.Горького\"...</td>\n",
       "      <td>Россия</td>\n",
       "      <td>Ю.Грымов</td>\n",
       "      <td>Ю.Грымов, С.Зернов</td>\n",
       "      <td>«16+» - для детей старше 16 лет</td>\n",
       "      <td>0.00</td>\n",
       "      <td>25,000,000.00</td>\n",
       "      <td>37,878,787.00</td>\n",
       "      <td>Министерство культуры</td>\n",
       "      <td>NaN</td>\n",
       "      <td>NaN</td>\n",
       "      <td>1,067,649.00</td>\n",
       "    </tr>\n",
       "    <tr>\n",
       "      <th>3761</th>\n",
       "      <td>хороший мальчик</td>\n",
       "      <td>111009816</td>\n",
       "      <td>2016-06-07 12:00:00+00:00</td>\n",
       "      <td>Художественный</td>\n",
       "      <td>ООО \"2Д Целлулоид\", ООО \"Арт Пикчерс Студия\"</td>\n",
       "      <td>Россия</td>\n",
       "      <td>О.Карас</td>\n",
       "      <td>В.Соловьев, Ю.Храпов, А.Пескова, Д.Рудовский, ...</td>\n",
       "      <td>«12+» - для детей старше 12 лет</td>\n",
       "      <td>0.00</td>\n",
       "      <td>35,000,000.00</td>\n",
       "      <td>54,000,000.00</td>\n",
       "      <td>Министерство культуры</td>\n",
       "      <td>6.60</td>\n",
       "      <td>комедия</td>\n",
       "      <td>71,955,528.89</td>\n",
       "    </tr>\n",
       "    <tr>\n",
       "      <th>5829</th>\n",
       "      <td>прощаться не будем</td>\n",
       "      <td>111003418</td>\n",
       "      <td>2018-06-21 12:00:00+00:00</td>\n",
       "      <td>Художественный</td>\n",
       "      <td>ООО \"РФГ Корп\", ООО \"Студия \"МОСТ\"</td>\n",
       "      <td>Россия</td>\n",
       "      <td>П.Дроздов</td>\n",
       "      <td>А.Петрухин</td>\n",
       "      <td>«6+» - для детей старше 6 лет</td>\n",
       "      <td>0.00</td>\n",
       "      <td>35,000,000.00</td>\n",
       "      <td>109,814,241.00</td>\n",
       "      <td>Министерство культуры</td>\n",
       "      <td>5.80</td>\n",
       "      <td>военный,драма,история</td>\n",
       "      <td>5,539,973.15</td>\n",
       "    </tr>\n",
       "    <tr>\n",
       "      <th>6898</th>\n",
       "      <td>мысленный волк</td>\n",
       "      <td>111007419</td>\n",
       "      <td>2019-06-09 12:00:00+00:00</td>\n",
       "      <td>Художественный</td>\n",
       "      <td>ООО \"САГА\"</td>\n",
       "      <td>Россия</td>\n",
       "      <td>Валерия Гай Германика</td>\n",
       "      <td>А.Савельев, А.Васильев, Валерия Гай Германика</td>\n",
       "      <td>«16+» - для детей старше 16 лет</td>\n",
       "      <td>0.00</td>\n",
       "      <td>30,000,000.00</td>\n",
       "      <td>48,000,000.00</td>\n",
       "      <td>Министерство культуры</td>\n",
       "      <td>5.30</td>\n",
       "      <td>фэнтези,драма,фильм-нуар</td>\n",
       "      <td>2,258,384.00</td>\n",
       "    </tr>\n",
       "    <tr>\n",
       "      <th>7322</th>\n",
       "      <td>успех</td>\n",
       "      <td>111018519</td>\n",
       "      <td>2019-11-04 12:00:00+00:00</td>\n",
       "      <td>Художественный</td>\n",
       "      <td>ООО \"Кинодом\"</td>\n",
       "      <td>Россия</td>\n",
       "      <td>П.Руминов</td>\n",
       "      <td>С.Бобза, Г.Малков, В.Поляков, М.Кучмент</td>\n",
       "      <td>«12+» - для детей старше 12 лет</td>\n",
       "      <td>5,000,000.00</td>\n",
       "      <td>20,000,000.00</td>\n",
       "      <td>75,000,000.00</td>\n",
       "      <td>Фонд кино</td>\n",
       "      <td>7.80</td>\n",
       "      <td>драма</td>\n",
       "      <td>3,181,218.00</td>\n",
       "    </tr>\n",
       "    <tr>\n",
       "      <th>7474</th>\n",
       "      <td>вторжение</td>\n",
       "      <td>111022519</td>\n",
       "      <td>2019-12-23 12:00:00+00:00</td>\n",
       "      <td>Художественный</td>\n",
       "      <td>ООО \"Арт Пикчерс Студия\", ООО \"Водород 2011\"</td>\n",
       "      <td>Россия</td>\n",
       "      <td>Ф.Бондарчук</td>\n",
       "      <td>Ф.Бондарчук, М.Врубель, А.Андрющенко, Д.Рудовский</td>\n",
       "      <td>«12+» - для детей старше 12 лет</td>\n",
       "      <td>100,000,000.00</td>\n",
       "      <td>400,000,000.00</td>\n",
       "      <td>944,000,000.00</td>\n",
       "      <td>Фонд кино</td>\n",
       "      <td>5.70</td>\n",
       "      <td>фантастика,боевик</td>\n",
       "      <td>NaN</td>\n",
       "    </tr>\n",
       "  </tbody>\n",
       "</table>\n",
       "</div>"
      ],
      "text/plain": [
       "                   title   puNumber           show_start_date  \\\n",
       "3333                тень  111011316 2016-07-12 12:00:00+00:00   \n",
       "3614          три сестры  111004417 2017-06-09 12:00:00+00:00   \n",
       "3761     хороший мальчик  111009816 2016-06-07 12:00:00+00:00   \n",
       "5829  прощаться не будем  111003418 2018-06-21 12:00:00+00:00   \n",
       "6898      мысленный волк  111007419 2019-06-09 12:00:00+00:00   \n",
       "7322               успех  111018519 2019-11-04 12:00:00+00:00   \n",
       "7474           вторжение  111022519 2019-12-23 12:00:00+00:00   \n",
       "\n",
       "                 type                                        film_studio  \\\n",
       "3333   Художественный                                  ООО \"Студия АСДС\"   \n",
       "3614   Художественный  ООО \"РТВ\", АО \"ТПО \"Киностудия им. М.Горького\"...   \n",
       "3761   Художественный       ООО \"2Д Целлулоид\", ООО \"Арт Пикчерс Студия\"   \n",
       "5829   Художественный                 ООО \"РФГ Корп\", ООО \"Студия \"МОСТ\"   \n",
       "6898   Художественный                                         ООО \"САГА\"   \n",
       "7322   Художественный                                      ООО \"Кинодом\"   \n",
       "7474   Художественный       ООО \"Арт Пикчерс Студия\", ООО \"Водород 2011\"   \n",
       "\n",
       "     production_country               director  \\\n",
       "3333             Россия           Д.Светозаров   \n",
       "3614             Россия               Ю.Грымов   \n",
       "3761             Россия                О.Карас   \n",
       "5829             Россия              П.Дроздов   \n",
       "6898             Россия  Валерия Гай Германика   \n",
       "7322             Россия              П.Руминов   \n",
       "7474             Россия            Ф.Бондарчук   \n",
       "\n",
       "                                               producer  \\\n",
       "3333                              Д.Светозаров, А.Сигле   \n",
       "3614                                 Ю.Грымов, С.Зернов   \n",
       "3761  В.Соловьев, Ю.Храпов, А.Пескова, Д.Рудовский, ...   \n",
       "5829                                         А.Петрухин   \n",
       "6898      А.Савельев, А.Васильев, Валерия Гай Германика   \n",
       "7322            С.Бобза, Г.Малков, В.Поляков, М.Кучмент   \n",
       "7474  Ф.Бондарчук, М.Врубель, А.Андрющенко, Д.Рудовский   \n",
       "\n",
       "                      age_restriction  refundable_support  \\\n",
       "3333  «16+» - для детей старше 16 лет                0.00   \n",
       "3614  «16+» - для детей старше 16 лет                0.00   \n",
       "3761  «12+» - для детей старше 12 лет                0.00   \n",
       "5829    «6+» - для детей старше 6 лет                0.00   \n",
       "6898  «16+» - для детей старше 16 лет                0.00   \n",
       "7322  «12+» - для детей старше 12 лет        5,000,000.00   \n",
       "7474  «12+» - для детей старше 12 лет      100,000,000.00   \n",
       "\n",
       "      nonrefundable_support         budget       financing_source  ratings  \\\n",
       "3333          30,000,000.00  46,195,427.00  Министерство культуры     7.10   \n",
       "3614          25,000,000.00  37,878,787.00  Министерство культуры      NaN   \n",
       "3761          35,000,000.00  54,000,000.00  Министерство культуры     6.60   \n",
       "5829          35,000,000.00 109,814,241.00  Министерство культуры     5.80   \n",
       "6898          30,000,000.00  48,000,000.00  Министерство культуры     5.30   \n",
       "7322          20,000,000.00  75,000,000.00              Фонд кино     7.80   \n",
       "7474         400,000,000.00 944,000,000.00              Фонд кино     5.70   \n",
       "\n",
       "                        genres    box_office  \n",
       "3333      фэнтези,боевик,драма    322,155.00  \n",
       "3614                       NaN  1,067,649.00  \n",
       "3761                   комедия 71,955,528.89  \n",
       "5829     военный,драма,история  5,539,973.15  \n",
       "6898  фэнтези,драма,фильм-нуар  2,258,384.00  \n",
       "7322                     драма  3,181,218.00  \n",
       "7474         фантастика,боевик           NaN  "
      ]
     },
     "execution_count": 22,
     "metadata": {},
     "output_type": "execute_result"
    }
   ],
   "source": [
    "data[data.duplicated(subset='title', keep=False) & data['budget'] ]"
   ]
  },
  {
   "cell_type": "code",
   "execution_count": 23,
   "metadata": {},
   "outputs": [
    {
     "data": {
      "text/plain": [
       "0"
      ]
     },
     "execution_count": 23,
     "metadata": {},
     "output_type": "execute_result"
    }
   ],
   "source": [
    "data.query('not budget.isna()').duplicated(subset='title', keep=False).sum()"
   ]
  },
  {
   "cell_type": "markdown",
   "metadata": {},
   "source": [
    "несмотря на то что указано несколько прокатных удостоверений на один фильм, данные по финансированию указаны единожды для каждого фильма, поэтому также оставляем без изменений  "
   ]
  },
  {
   "cell_type": "markdown",
   "metadata": {
    "id": "52fOPrEBgFyQ"
   },
   "source": [
    "\n",
    "Посмотрим, какая общая проблема встречается почти во всех категориальных столбцах и исправим ее\n"
   ]
  },
  {
   "cell_type": "code",
   "execution_count": 24,
   "metadata": {
    "id": "PnXKIVdFgFyR"
   },
   "outputs": [
    {
     "data": {
      "text/plain": [
       "array(['Художественный', 'Анимационный', 'Прочие', 'Документальный',\n",
       "       'Научно-популярный', ' Художественный', ' Анимационный',\n",
       "       'Музыкально-развлекательный'], dtype=object)"
      ]
     },
     "execution_count": 24,
     "metadata": {},
     "output_type": "execute_result"
    }
   ],
   "source": [
    "data['type'].unique()"
   ]
  },
  {
   "cell_type": "code",
   "execution_count": 25,
   "metadata": {},
   "outputs": [
    {
     "data": {
      "text/plain": [
       "array(['«18+» - запрещено для детей', '«6+» - для детей старше 6 лет',\n",
       "       '«12+» - для детей старше 12 лет',\n",
       "       '«16+» - для детей старше 16 лет',\n",
       "       '«0+» - для любой зрительской аудитории'], dtype=object)"
      ]
     },
     "execution_count": 25,
     "metadata": {},
     "output_type": "execute_result"
    }
   ],
   "source": [
    "data['age_restriction'].unique()"
   ]
  },
  {
   "cell_type": "code",
   "execution_count": 26,
   "metadata": {},
   "outputs": [
    {
     "data": {
      "text/plain": [
       "array([0, 'Министерство культуры', 'Фонд кино',\n",
       "       'Министерство культуры, Фонд кино'], dtype=object)"
      ]
     },
     "execution_count": 26,
     "metadata": {},
     "output_type": "execute_result"
    }
   ],
   "source": [
    "data['financing_source'].unique()"
   ]
  },
  {
   "cell_type": "markdown",
   "metadata": {},
   "source": [
    "В столбце type присутствуют пробелы перед названием, уберем их <br>\n",
    "в остальных столбцах все в порядке"
   ]
  },
  {
   "cell_type": "code",
   "execution_count": 27,
   "metadata": {},
   "outputs": [],
   "source": [
    "data['type'] = data['type'].str.strip()"
   ]
  },
  {
   "cell_type": "code",
   "execution_count": 28,
   "metadata": {},
   "outputs": [],
   "source": [
    "data['ratings'] = np.where(data['ratings'] > 10, data['ratings'] / 10, data['ratings'])"
   ]
  },
  {
   "cell_type": "code",
   "execution_count": 29,
   "metadata": {},
   "outputs": [],
   "source": [
    "data['ratings'] = np.where(data['ratings'] > 10, data['ratings'] / 10, data['ratings'])"
   ]
  },
  {
   "cell_type": "code",
   "execution_count": 30,
   "metadata": {},
   "outputs": [],
   "source": [
    "data['ratings'] = np.where(data['ratings'] > 10, data['ratings'] / 10, data['ratings'])"
   ]
  },
  {
   "cell_type": "markdown",
   "metadata": {
    "id": "XFSN5lrEgFyR"
   },
   "source": [
    "#### Шаг 2.5. Проверьте количественные значения\n",
    "\n",
    "Проверим, есть ли в количественных столбцах подозрительные данные."
   ]
  },
  {
   "cell_type": "code",
   "execution_count": 31,
   "metadata": {
    "scrolled": true
   },
   "outputs": [
    {
     "data": {
      "text/html": [
       "<div>\n",
       "<style scoped>\n",
       "    .dataframe tbody tr th:only-of-type {\n",
       "        vertical-align: middle;\n",
       "    }\n",
       "\n",
       "    .dataframe tbody tr th {\n",
       "        vertical-align: top;\n",
       "    }\n",
       "\n",
       "    .dataframe thead th {\n",
       "        text-align: right;\n",
       "    }\n",
       "</style>\n",
       "<table border=\"1\" class=\"dataframe\">\n",
       "  <thead>\n",
       "    <tr style=\"text-align: right;\">\n",
       "      <th></th>\n",
       "      <th>puNumber</th>\n",
       "      <th>refundable_support</th>\n",
       "      <th>nonrefundable_support</th>\n",
       "      <th>budget</th>\n",
       "      <th>ratings</th>\n",
       "      <th>box_office</th>\n",
       "    </tr>\n",
       "  </thead>\n",
       "  <tbody>\n",
       "    <tr>\n",
       "      <th>count</th>\n",
       "      <td>7,484.00</td>\n",
       "      <td>7,484.00</td>\n",
       "      <td>7,484.00</td>\n",
       "      <td>332.00</td>\n",
       "      <td>6,517.00</td>\n",
       "      <td>3,158.00</td>\n",
       "    </tr>\n",
       "    <tr>\n",
       "      <th>mean</th>\n",
       "      <td>135,155,565.09</td>\n",
       "      <td>526,322.82</td>\n",
       "      <td>2,172,860.54</td>\n",
       "      <td>127,229,716.68</td>\n",
       "      <td>6.49</td>\n",
       "      <td>76,478,696.16</td>\n",
       "    </tr>\n",
       "    <tr>\n",
       "      <th>std</th>\n",
       "      <td>38,361,587.81</td>\n",
       "      <td>5,781,874.20</td>\n",
       "      <td>16,151,054.33</td>\n",
       "      <td>188,588,333.12</td>\n",
       "      <td>1.11</td>\n",
       "      <td>240,353,122.82</td>\n",
       "    </tr>\n",
       "    <tr>\n",
       "      <th>min</th>\n",
       "      <td>0.00</td>\n",
       "      <td>0.00</td>\n",
       "      <td>0.00</td>\n",
       "      <td>0.00</td>\n",
       "      <td>1.00</td>\n",
       "      <td>0.00</td>\n",
       "    </tr>\n",
       "    <tr>\n",
       "      <th>25%</th>\n",
       "      <td>112,024,993.00</td>\n",
       "      <td>0.00</td>\n",
       "      <td>0.00</td>\n",
       "      <td>42,000,000.00</td>\n",
       "      <td>5.90</td>\n",
       "      <td>86,239.00</td>\n",
       "    </tr>\n",
       "    <tr>\n",
       "      <th>50%</th>\n",
       "      <td>121,015,418.50</td>\n",
       "      <td>0.00</td>\n",
       "      <td>0.00</td>\n",
       "      <td>68,649,916.00</td>\n",
       "      <td>6.60</td>\n",
       "      <td>2,327,987.55</td>\n",
       "    </tr>\n",
       "    <tr>\n",
       "      <th>75%</th>\n",
       "      <td>124,003,312.25</td>\n",
       "      <td>0.00</td>\n",
       "      <td>0.00</td>\n",
       "      <td>141,985,319.50</td>\n",
       "      <td>7.20</td>\n",
       "      <td>23,979,671.02</td>\n",
       "    </tr>\n",
       "    <tr>\n",
       "      <th>max</th>\n",
       "      <td>231,001,111.00</td>\n",
       "      <td>180,000,000.00</td>\n",
       "      <td>400,000,000.00</td>\n",
       "      <td>2,305,074,303.00</td>\n",
       "      <td>9.90</td>\n",
       "      <td>3,073,568,690.79</td>\n",
       "    </tr>\n",
       "  </tbody>\n",
       "</table>\n",
       "</div>"
      ],
      "text/plain": [
       "            puNumber  refundable_support  nonrefundable_support  \\\n",
       "count       7,484.00            7,484.00               7,484.00   \n",
       "mean  135,155,565.09          526,322.82           2,172,860.54   \n",
       "std    38,361,587.81        5,781,874.20          16,151,054.33   \n",
       "min             0.00                0.00                   0.00   \n",
       "25%   112,024,993.00                0.00                   0.00   \n",
       "50%   121,015,418.50                0.00                   0.00   \n",
       "75%   124,003,312.25                0.00                   0.00   \n",
       "max   231,001,111.00      180,000,000.00         400,000,000.00   \n",
       "\n",
       "                budget  ratings       box_office  \n",
       "count           332.00 6,517.00         3,158.00  \n",
       "mean    127,229,716.68     6.49    76,478,696.16  \n",
       "std     188,588,333.12     1.11   240,353,122.82  \n",
       "min               0.00     1.00             0.00  \n",
       "25%      42,000,000.00     5.90        86,239.00  \n",
       "50%      68,649,916.00     6.60     2,327,987.55  \n",
       "75%     141,985,319.50     7.20    23,979,671.02  \n",
       "max   2,305,074,303.00     9.90 3,073,568,690.79  "
      ]
     },
     "execution_count": 31,
     "metadata": {},
     "output_type": "execute_result"
    }
   ],
   "source": [
    "data.describe()"
   ]
  },
  {
   "cell_type": "markdown",
   "metadata": {},
   "source": [
    "выделяются данные, которые в 10 раз меньше средних, проверим их <br>\n",
    "в столбце бюджет есть нулевые значения"
   ]
  },
  {
   "cell_type": "code",
   "execution_count": 32,
   "metadata": {
    "scrolled": false
   },
   "outputs": [
    {
     "data": {
      "text/html": [
       "<div>\n",
       "<style scoped>\n",
       "    .dataframe tbody tr th:only-of-type {\n",
       "        vertical-align: middle;\n",
       "    }\n",
       "\n",
       "    .dataframe tbody tr th {\n",
       "        vertical-align: top;\n",
       "    }\n",
       "\n",
       "    .dataframe thead th {\n",
       "        text-align: right;\n",
       "    }\n",
       "</style>\n",
       "<table border=\"1\" class=\"dataframe\">\n",
       "  <thead>\n",
       "    <tr style=\"text-align: right;\">\n",
       "      <th></th>\n",
       "      <th>title</th>\n",
       "      <th>puNumber</th>\n",
       "      <th>show_start_date</th>\n",
       "      <th>type</th>\n",
       "      <th>film_studio</th>\n",
       "      <th>production_country</th>\n",
       "      <th>director</th>\n",
       "      <th>producer</th>\n",
       "      <th>age_restriction</th>\n",
       "      <th>refundable_support</th>\n",
       "      <th>nonrefundable_support</th>\n",
       "      <th>budget</th>\n",
       "      <th>financing_source</th>\n",
       "      <th>ratings</th>\n",
       "      <th>genres</th>\n",
       "      <th>box_office</th>\n",
       "    </tr>\n",
       "  </thead>\n",
       "  <tbody>\n",
       "    <tr>\n",
       "      <th>2920</th>\n",
       "      <td>экипаж .</td>\n",
       "      <td>111005416</td>\n",
       "      <td>2016-03-21 12:00:00+00:00</td>\n",
       "      <td>Художественный</td>\n",
       "      <td>ООО \"Студия \"ТРИТЭ\" Никиты Михалкова\"</td>\n",
       "      <td>Россия</td>\n",
       "      <td>Н.Лебедев</td>\n",
       "      <td>Л.Верещагин, А.Златопольский, Н.Михалков, ООО ...</td>\n",
       "      <td>«6+» - для детей старше 6 лет</td>\n",
       "      <td>50,000,000.00</td>\n",
       "      <td>392,104,482.00</td>\n",
       "      <td>635,283,867.00</td>\n",
       "      <td>Фонд кино</td>\n",
       "      <td>7.60</td>\n",
       "      <td>драма,триллер,приключения</td>\n",
       "      <td>1,402,255,390.00</td>\n",
       "    </tr>\n",
       "    <tr>\n",
       "      <th>3255</th>\n",
       "      <td>время первых (2017)</td>\n",
       "      <td>111001317</td>\n",
       "      <td>2017-02-21 12:00:00+00:00</td>\n",
       "      <td>Художественный</td>\n",
       "      <td>ООО \"ТаББаК\", ООО \"Студия Третий Рим\"</td>\n",
       "      <td>Россия</td>\n",
       "      <td>Д.Киселев</td>\n",
       "      <td>Т.Бекмамбетов, Е.Миронов</td>\n",
       "      <td>«6+» - для детей старше 6 лет</td>\n",
       "      <td>75,000,000.00</td>\n",
       "      <td>175,000,000.00</td>\n",
       "      <td>528,441,977.00</td>\n",
       "      <td>Фонд кино</td>\n",
       "      <td>7.50</td>\n",
       "      <td>приключения,триллер,биография</td>\n",
       "      <td>544,332,260.00</td>\n",
       "    </tr>\n",
       "    <tr>\n",
       "      <th>3351</th>\n",
       "      <td>дуэлянт</td>\n",
       "      <td>111015416</td>\n",
       "      <td>2016-09-14 12:00:00+00:00</td>\n",
       "      <td>Художественный</td>\n",
       "      <td>ООО \"Нон-Стоп Продакшн\"</td>\n",
       "      <td>Россия</td>\n",
       "      <td>А.Мизгирев</td>\n",
       "      <td>А.Роднянский, С.Мелькумов</td>\n",
       "      <td>«16+» - для детей старше 16 лет</td>\n",
       "      <td>150,000,000.00</td>\n",
       "      <td>300,000,000.00</td>\n",
       "      <td>684,200,536.00</td>\n",
       "      <td>Фонд кино</td>\n",
       "      <td>6.60</td>\n",
       "      <td>драма</td>\n",
       "      <td>364,285,139.60</td>\n",
       "    </tr>\n",
       "    <tr>\n",
       "      <th>5437</th>\n",
       "      <td>матильда</td>\n",
       "      <td>111005717</td>\n",
       "      <td>2017-08-17 12:00:00+00:00</td>\n",
       "      <td>Художественный</td>\n",
       "      <td>ООО \"ТПО \"РОК\", ООО \"Матильда\"</td>\n",
       "      <td>Россия</td>\n",
       "      <td>А.Учитель</td>\n",
       "      <td>А.Учитель, А.Достман, В.Винокур</td>\n",
       "      <td>«16+» - для детей старше 16 лет</td>\n",
       "      <td>110,000,000.00</td>\n",
       "      <td>190,000,000.00</td>\n",
       "      <td>1,032,905,957.00</td>\n",
       "      <td>Фонд кино</td>\n",
       "      <td>7.70</td>\n",
       "      <td>фэнтези,комедия,семейный</td>\n",
       "      <td>511,775,548.00</td>\n",
       "    </tr>\n",
       "    <tr>\n",
       "      <th>5569</th>\n",
       "      <td>легенда о коловрате</td>\n",
       "      <td>111007617</td>\n",
       "      <td>2017-11-30 12:00:00+00:00</td>\n",
       "      <td>Художественный</td>\n",
       "      <td>ООО \"Продюсерский центр ИВАН\"</td>\n",
       "      <td>Россия</td>\n",
       "      <td>И.Шурховецкий</td>\n",
       "      <td>ООО \"Централ Партнершип\",              АО \"Тел...</td>\n",
       "      <td>«12+» - для детей старше 12 лет</td>\n",
       "      <td>100,000,000.00</td>\n",
       "      <td>250,000,000.00</td>\n",
       "      <td>500,012,729.00</td>\n",
       "      <td>Фонд кино</td>\n",
       "      <td>6.40</td>\n",
       "      <td>история,боевик,фэнтези</td>\n",
       "      <td>590,405,065.00</td>\n",
       "    </tr>\n",
       "    <tr>\n",
       "      <th>5653</th>\n",
       "      <td>движение вверх</td>\n",
       "      <td>111011817</td>\n",
       "      <td>2017-12-21 12:00:00+00:00</td>\n",
       "      <td>Художественный</td>\n",
       "      <td>ООО \"Студия \"ТРИТЭ\" Никиты Михалкова\"</td>\n",
       "      <td>Россия</td>\n",
       "      <td>А.Мегердичев</td>\n",
       "      <td>Л.Верещагин, А.Златопольский, Н.Михалков, ООО ...</td>\n",
       "      <td>«6+» - для детей старше 6 лет</td>\n",
       "      <td>0.00</td>\n",
       "      <td>400,000,000.00</td>\n",
       "      <td>590,192,191.00</td>\n",
       "      <td>Фонд кино</td>\n",
       "      <td>7.50</td>\n",
       "      <td>спорт,драма</td>\n",
       "      <td>2,779,686,144.00</td>\n",
       "    </tr>\n",
       "    <tr>\n",
       "      <th>6549</th>\n",
       "      <td>т-34</td>\n",
       "      <td>111024918</td>\n",
       "      <td>2018-12-21 12:00:00+00:00</td>\n",
       "      <td>Художественный</td>\n",
       "      <td>ООО \"Кинокомпания МАРС-фильм\" по заказу ООО \"М...</td>\n",
       "      <td>Россия</td>\n",
       "      <td>А.Сидоров</td>\n",
       "      <td>А.Златопольский, Р.Дишдишян, Л.Блаватник, Н.Яр...</td>\n",
       "      <td>«12+» - для детей старше 12 лет</td>\n",
       "      <td>60,000,000.00</td>\n",
       "      <td>120,000,000.00</td>\n",
       "      <td>563,784,717.00</td>\n",
       "      <td>Фонд кино</td>\n",
       "      <td>6.50</td>\n",
       "      <td>драма,военный,боевик</td>\n",
       "      <td>2,271,754,004.52</td>\n",
       "    </tr>\n",
       "    <tr>\n",
       "      <th>7114</th>\n",
       "      <td>тайна печати дракона</td>\n",
       "      <td>111012819</td>\n",
       "      <td>2019-09-12 12:00:00+00:00</td>\n",
       "      <td>Художественный</td>\n",
       "      <td>ООО \"Кинокомпания \"СТВ\"; ООО \"РФГ Корп\"; ООО \"...</td>\n",
       "      <td>Россия-Китай</td>\n",
       "      <td>О.Степченко</td>\n",
       "      <td>С.Сельянов, А.Петрухин</td>\n",
       "      <td>«6+» - для детей старше 6 лет</td>\n",
       "      <td>180,000,000.00</td>\n",
       "      <td>90,000,000.00</td>\n",
       "      <td>2,305,074,303.00</td>\n",
       "      <td>Фонд кино</td>\n",
       "      <td>5.80</td>\n",
       "      <td>приключения,фэнтези</td>\n",
       "      <td>333,597,059.59</td>\n",
       "    </tr>\n",
       "    <tr>\n",
       "      <th>7171</th>\n",
       "      <td>грех</td>\n",
       "      <td>111014419</td>\n",
       "      <td>2019-08-31 12:00:00+00:00</td>\n",
       "      <td>Художественный</td>\n",
       "      <td>НО Фонд Андрея Кончаловского по поддержке кино...</td>\n",
       "      <td>Россия, Италия</td>\n",
       "      <td>А.Михалков (псевдоним А.Кончаловский)</td>\n",
       "      <td>НО Фонд Андрея Кончаловского по поддержке кино...</td>\n",
       "      <td>«16+» - для детей старше 16 лет</td>\n",
       "      <td>0.00</td>\n",
       "      <td>60,000,000.00</td>\n",
       "      <td>779,941,965.00</td>\n",
       "      <td>Министерство культуры</td>\n",
       "      <td>6.90</td>\n",
       "      <td>драма,биография,история</td>\n",
       "      <td>54,243,202.71</td>\n",
       "    </tr>\n",
       "    <tr>\n",
       "      <th>7464</th>\n",
       "      <td>союз спасения</td>\n",
       "      <td>111022019</td>\n",
       "      <td>2019-12-26 12:00:00+00:00</td>\n",
       "      <td>Художественный</td>\n",
       "      <td>ЗАО \"Дирекция кино\"</td>\n",
       "      <td>Россия</td>\n",
       "      <td>А.Кравчук</td>\n",
       "      <td>А.Максимов, К.Эрнст</td>\n",
       "      <td>«12+» - для детей старше 12 лет</td>\n",
       "      <td>100,000,000.00</td>\n",
       "      <td>400,000,000.00</td>\n",
       "      <td>980,000,000.00</td>\n",
       "      <td>Фонд кино</td>\n",
       "      <td>6.00</td>\n",
       "      <td>история,биография,драма</td>\n",
       "      <td>717,703,185.53</td>\n",
       "    </tr>\n",
       "    <tr>\n",
       "      <th>7474</th>\n",
       "      <td>вторжение</td>\n",
       "      <td>111022519</td>\n",
       "      <td>2019-12-23 12:00:00+00:00</td>\n",
       "      <td>Художественный</td>\n",
       "      <td>ООО \"Арт Пикчерс Студия\", ООО \"Водород 2011\"</td>\n",
       "      <td>Россия</td>\n",
       "      <td>Ф.Бондарчук</td>\n",
       "      <td>Ф.Бондарчук, М.Врубель, А.Андрющенко, Д.Рудовский</td>\n",
       "      <td>«12+» - для детей старше 12 лет</td>\n",
       "      <td>100,000,000.00</td>\n",
       "      <td>400,000,000.00</td>\n",
       "      <td>944,000,000.00</td>\n",
       "      <td>Фонд кино</td>\n",
       "      <td>5.70</td>\n",
       "      <td>фантастика,боевик</td>\n",
       "      <td>NaN</td>\n",
       "    </tr>\n",
       "  </tbody>\n",
       "</table>\n",
       "</div>"
      ],
      "text/plain": [
       "                     title   puNumber           show_start_date  \\\n",
       "2920              экипаж .  111005416 2016-03-21 12:00:00+00:00   \n",
       "3255   время первых (2017)  111001317 2017-02-21 12:00:00+00:00   \n",
       "3351               дуэлянт  111015416 2016-09-14 12:00:00+00:00   \n",
       "5437              матильда  111005717 2017-08-17 12:00:00+00:00   \n",
       "5569   легенда о коловрате  111007617 2017-11-30 12:00:00+00:00   \n",
       "5653        движение вверх  111011817 2017-12-21 12:00:00+00:00   \n",
       "6549                  т-34  111024918 2018-12-21 12:00:00+00:00   \n",
       "7114  тайна печати дракона  111012819 2019-09-12 12:00:00+00:00   \n",
       "7171                  грех  111014419 2019-08-31 12:00:00+00:00   \n",
       "7464         союз спасения  111022019 2019-12-26 12:00:00+00:00   \n",
       "7474             вторжение  111022519 2019-12-23 12:00:00+00:00   \n",
       "\n",
       "                type                                        film_studio  \\\n",
       "2920  Художественный              ООО \"Студия \"ТРИТЭ\" Никиты Михалкова\"   \n",
       "3255  Художественный              ООО \"ТаББаК\", ООО \"Студия Третий Рим\"   \n",
       "3351  Художественный                            ООО \"Нон-Стоп Продакшн\"   \n",
       "5437  Художественный                     ООО \"ТПО \"РОК\", ООО \"Матильда\"   \n",
       "5569  Художественный                      ООО \"Продюсерский центр ИВАН\"   \n",
       "5653  Художественный              ООО \"Студия \"ТРИТЭ\" Никиты Михалкова\"   \n",
       "6549  Художественный  ООО \"Кинокомпания МАРС-фильм\" по заказу ООО \"М...   \n",
       "7114  Художественный  ООО \"Кинокомпания \"СТВ\"; ООО \"РФГ Корп\"; ООО \"...   \n",
       "7171  Художественный  НО Фонд Андрея Кончаловского по поддержке кино...   \n",
       "7464  Художественный                                ЗАО \"Дирекция кино\"   \n",
       "7474  Художественный       ООО \"Арт Пикчерс Студия\", ООО \"Водород 2011\"   \n",
       "\n",
       "     production_country                               director  \\\n",
       "2920             Россия                              Н.Лебедев   \n",
       "3255             Россия                              Д.Киселев   \n",
       "3351             Россия                             А.Мизгирев   \n",
       "5437             Россия                              А.Учитель   \n",
       "5569             Россия                          И.Шурховецкий   \n",
       "5653             Россия                           А.Мегердичев   \n",
       "6549             Россия                              А.Сидоров   \n",
       "7114       Россия-Китай                            О.Степченко   \n",
       "7171     Россия, Италия  А.Михалков (псевдоним А.Кончаловский)   \n",
       "7464             Россия                              А.Кравчук   \n",
       "7474             Россия                            Ф.Бондарчук   \n",
       "\n",
       "                                               producer  \\\n",
       "2920  Л.Верещагин, А.Златопольский, Н.Михалков, ООО ...   \n",
       "3255                           Т.Бекмамбетов, Е.Миронов   \n",
       "3351                          А.Роднянский, С.Мелькумов   \n",
       "5437                    А.Учитель, А.Достман, В.Винокур   \n",
       "5569  ООО \"Централ Партнершип\",              АО \"Тел...   \n",
       "5653  Л.Верещагин, А.Златопольский, Н.Михалков, ООО ...   \n",
       "6549  А.Златопольский, Р.Дишдишян, Л.Блаватник, Н.Яр...   \n",
       "7114                             С.Сельянов, А.Петрухин   \n",
       "7171  НО Фонд Андрея Кончаловского по поддержке кино...   \n",
       "7464                                А.Максимов, К.Эрнст   \n",
       "7474  Ф.Бондарчук, М.Врубель, А.Андрющенко, Д.Рудовский   \n",
       "\n",
       "                      age_restriction  refundable_support  \\\n",
       "2920    «6+» - для детей старше 6 лет       50,000,000.00   \n",
       "3255    «6+» - для детей старше 6 лет       75,000,000.00   \n",
       "3351  «16+» - для детей старше 16 лет      150,000,000.00   \n",
       "5437  «16+» - для детей старше 16 лет      110,000,000.00   \n",
       "5569  «12+» - для детей старше 12 лет      100,000,000.00   \n",
       "5653    «6+» - для детей старше 6 лет                0.00   \n",
       "6549  «12+» - для детей старше 12 лет       60,000,000.00   \n",
       "7114    «6+» - для детей старше 6 лет      180,000,000.00   \n",
       "7171  «16+» - для детей старше 16 лет                0.00   \n",
       "7464  «12+» - для детей старше 12 лет      100,000,000.00   \n",
       "7474  «12+» - для детей старше 12 лет      100,000,000.00   \n",
       "\n",
       "      nonrefundable_support           budget       financing_source  ratings  \\\n",
       "2920         392,104,482.00   635,283,867.00              Фонд кино     7.60   \n",
       "3255         175,000,000.00   528,441,977.00              Фонд кино     7.50   \n",
       "3351         300,000,000.00   684,200,536.00              Фонд кино     6.60   \n",
       "5437         190,000,000.00 1,032,905,957.00              Фонд кино     7.70   \n",
       "5569         250,000,000.00   500,012,729.00              Фонд кино     6.40   \n",
       "5653         400,000,000.00   590,192,191.00              Фонд кино     7.50   \n",
       "6549         120,000,000.00   563,784,717.00              Фонд кино     6.50   \n",
       "7114          90,000,000.00 2,305,074,303.00              Фонд кино     5.80   \n",
       "7171          60,000,000.00   779,941,965.00  Министерство культуры     6.90   \n",
       "7464         400,000,000.00   980,000,000.00              Фонд кино     6.00   \n",
       "7474         400,000,000.00   944,000,000.00              Фонд кино     5.70   \n",
       "\n",
       "                             genres       box_office  \n",
       "2920      драма,триллер,приключения 1,402,255,390.00  \n",
       "3255  приключения,триллер,биография   544,332,260.00  \n",
       "3351                          драма   364,285,139.60  \n",
       "5437       фэнтези,комедия,семейный   511,775,548.00  \n",
       "5569         история,боевик,фэнтези   590,405,065.00  \n",
       "5653                    спорт,драма 2,779,686,144.00  \n",
       "6549           драма,военный,боевик 2,271,754,004.52  \n",
       "7114            приключения,фэнтези   333,597,059.59  \n",
       "7171        драма,биография,история    54,243,202.71  \n",
       "7464        история,биография,драма   717,703,185.53  \n",
       "7474              фантастика,боевик              NaN  "
      ]
     },
     "execution_count": 32,
     "metadata": {},
     "output_type": "execute_result"
    }
   ],
   "source": [
    "data.query('budget > 500000000')"
   ]
  },
  {
   "cell_type": "code",
   "execution_count": 33,
   "metadata": {},
   "outputs": [
    {
     "data": {
      "text/html": [
       "<div>\n",
       "<style scoped>\n",
       "    .dataframe tbody tr th:only-of-type {\n",
       "        vertical-align: middle;\n",
       "    }\n",
       "\n",
       "    .dataframe tbody tr th {\n",
       "        vertical-align: top;\n",
       "    }\n",
       "\n",
       "    .dataframe thead th {\n",
       "        text-align: right;\n",
       "    }\n",
       "</style>\n",
       "<table border=\"1\" class=\"dataframe\">\n",
       "  <thead>\n",
       "    <tr style=\"text-align: right;\">\n",
       "      <th></th>\n",
       "      <th>title</th>\n",
       "      <th>puNumber</th>\n",
       "      <th>show_start_date</th>\n",
       "      <th>type</th>\n",
       "      <th>film_studio</th>\n",
       "      <th>production_country</th>\n",
       "      <th>director</th>\n",
       "      <th>producer</th>\n",
       "      <th>age_restriction</th>\n",
       "      <th>refundable_support</th>\n",
       "      <th>nonrefundable_support</th>\n",
       "      <th>budget</th>\n",
       "      <th>financing_source</th>\n",
       "      <th>ratings</th>\n",
       "      <th>genres</th>\n",
       "      <th>box_office</th>\n",
       "    </tr>\n",
       "  </thead>\n",
       "  <tbody>\n",
       "    <tr>\n",
       "      <th>3164</th>\n",
       "      <td>герой (2015)</td>\n",
       "      <td>111000416</td>\n",
       "      <td>2016-01-22 12:00:00+00:00</td>\n",
       "      <td>Художественный</td>\n",
       "      <td>ООО \"Студия 25\", ООО \"Медиа Арт Студио\", ООО ...</td>\n",
       "      <td>Россия</td>\n",
       "      <td>Ю.Васильев</td>\n",
       "      <td>Э.Айнулова, Н.Дорошкевич, М.Журомская</td>\n",
       "      <td>«12+» - для детей старше 12 лет</td>\n",
       "      <td>110,000,000.00</td>\n",
       "      <td>30,000,000.00</td>\n",
       "      <td>222,177,790.00</td>\n",
       "      <td>Министерство культуры, Фонд кино</td>\n",
       "      <td>7.10</td>\n",
       "      <td>мюзикл,боевик,драма</td>\n",
       "      <td>81,430,626.82</td>\n",
       "    </tr>\n",
       "    <tr>\n",
       "      <th>3351</th>\n",
       "      <td>дуэлянт</td>\n",
       "      <td>111015416</td>\n",
       "      <td>2016-09-14 12:00:00+00:00</td>\n",
       "      <td>Художественный</td>\n",
       "      <td>ООО \"Нон-Стоп Продакшн\"</td>\n",
       "      <td>Россия</td>\n",
       "      <td>А.Мизгирев</td>\n",
       "      <td>А.Роднянский, С.Мелькумов</td>\n",
       "      <td>«16+» - для детей старше 16 лет</td>\n",
       "      <td>150,000,000.00</td>\n",
       "      <td>300,000,000.00</td>\n",
       "      <td>684,200,536.00</td>\n",
       "      <td>Фонд кино</td>\n",
       "      <td>6.60</td>\n",
       "      <td>драма</td>\n",
       "      <td>364,285,139.60</td>\n",
       "    </tr>\n",
       "    <tr>\n",
       "      <th>5437</th>\n",
       "      <td>матильда</td>\n",
       "      <td>111005717</td>\n",
       "      <td>2017-08-17 12:00:00+00:00</td>\n",
       "      <td>Художественный</td>\n",
       "      <td>ООО \"ТПО \"РОК\", ООО \"Матильда\"</td>\n",
       "      <td>Россия</td>\n",
       "      <td>А.Учитель</td>\n",
       "      <td>А.Учитель, А.Достман, В.Винокур</td>\n",
       "      <td>«16+» - для детей старше 16 лет</td>\n",
       "      <td>110,000,000.00</td>\n",
       "      <td>190,000,000.00</td>\n",
       "      <td>1,032,905,957.00</td>\n",
       "      <td>Фонд кино</td>\n",
       "      <td>7.70</td>\n",
       "      <td>фэнтези,комедия,семейный</td>\n",
       "      <td>511,775,548.00</td>\n",
       "    </tr>\n",
       "    <tr>\n",
       "      <th>6472</th>\n",
       "      <td>три богатыря и наследница престола</td>\n",
       "      <td>114008818</td>\n",
       "      <td>2018-12-15 12:00:00+00:00</td>\n",
       "      <td>Анимационный</td>\n",
       "      <td>ООО \"Студия анимационного кино \"Мельница\"</td>\n",
       "      <td>Россия</td>\n",
       "      <td>К.Бронзит</td>\n",
       "      <td>С.Сельянов, А.Боярский</td>\n",
       "      <td>«6+» - для детей старше 6 лет</td>\n",
       "      <td>115,000,000.00</td>\n",
       "      <td>0.00</td>\n",
       "      <td>185,500,705.00</td>\n",
       "      <td>Фонд кино</td>\n",
       "      <td>6.50</td>\n",
       "      <td>мультфильм,приключения,семейный</td>\n",
       "      <td>577,368,853.25</td>\n",
       "    </tr>\n",
       "    <tr>\n",
       "      <th>7114</th>\n",
       "      <td>тайна печати дракона</td>\n",
       "      <td>111012819</td>\n",
       "      <td>2019-09-12 12:00:00+00:00</td>\n",
       "      <td>Художественный</td>\n",
       "      <td>ООО \"Кинокомпания \"СТВ\"; ООО \"РФГ Корп\"; ООО \"...</td>\n",
       "      <td>Россия-Китай</td>\n",
       "      <td>О.Степченко</td>\n",
       "      <td>С.Сельянов, А.Петрухин</td>\n",
       "      <td>«6+» - для детей старше 6 лет</td>\n",
       "      <td>180,000,000.00</td>\n",
       "      <td>90,000,000.00</td>\n",
       "      <td>2,305,074,303.00</td>\n",
       "      <td>Фонд кино</td>\n",
       "      <td>5.80</td>\n",
       "      <td>приключения,фэнтези</td>\n",
       "      <td>333,597,059.59</td>\n",
       "    </tr>\n",
       "  </tbody>\n",
       "</table>\n",
       "</div>"
      ],
      "text/plain": [
       "                                   title   puNumber           show_start_date  \\\n",
       "3164                        герой (2015)  111000416 2016-01-22 12:00:00+00:00   \n",
       "3351                             дуэлянт  111015416 2016-09-14 12:00:00+00:00   \n",
       "5437                            матильда  111005717 2017-08-17 12:00:00+00:00   \n",
       "6472  три богатыря и наследница престола  114008818 2018-12-15 12:00:00+00:00   \n",
       "7114                тайна печати дракона  111012819 2019-09-12 12:00:00+00:00   \n",
       "\n",
       "                type                                        film_studio  \\\n",
       "3164  Художественный   ООО \"Студия 25\", ООО \"Медиа Арт Студио\", ООО ...   \n",
       "3351  Художественный                            ООО \"Нон-Стоп Продакшн\"   \n",
       "5437  Художественный                     ООО \"ТПО \"РОК\", ООО \"Матильда\"   \n",
       "6472    Анимационный          ООО \"Студия анимационного кино \"Мельница\"   \n",
       "7114  Художественный  ООО \"Кинокомпания \"СТВ\"; ООО \"РФГ Корп\"; ООО \"...   \n",
       "\n",
       "     production_country     director                               producer  \\\n",
       "3164             Россия   Ю.Васильев  Э.Айнулова, Н.Дорошкевич, М.Журомская   \n",
       "3351             Россия   А.Мизгирев              А.Роднянский, С.Мелькумов   \n",
       "5437             Россия    А.Учитель        А.Учитель, А.Достман, В.Винокур   \n",
       "6472             Россия    К.Бронзит                 С.Сельянов, А.Боярский   \n",
       "7114       Россия-Китай  О.Степченко                 С.Сельянов, А.Петрухин   \n",
       "\n",
       "                      age_restriction  refundable_support  \\\n",
       "3164  «12+» - для детей старше 12 лет      110,000,000.00   \n",
       "3351  «16+» - для детей старше 16 лет      150,000,000.00   \n",
       "5437  «16+» - для детей старше 16 лет      110,000,000.00   \n",
       "6472    «6+» - для детей старше 6 лет      115,000,000.00   \n",
       "7114    «6+» - для детей старше 6 лет      180,000,000.00   \n",
       "\n",
       "      nonrefundable_support           budget  \\\n",
       "3164          30,000,000.00   222,177,790.00   \n",
       "3351         300,000,000.00   684,200,536.00   \n",
       "5437         190,000,000.00 1,032,905,957.00   \n",
       "6472                   0.00   185,500,705.00   \n",
       "7114          90,000,000.00 2,305,074,303.00   \n",
       "\n",
       "                      financing_source  ratings  \\\n",
       "3164  Министерство культуры, Фонд кино     7.10   \n",
       "3351                         Фонд кино     6.60   \n",
       "5437                         Фонд кино     7.70   \n",
       "6472                         Фонд кино     6.50   \n",
       "7114                         Фонд кино     5.80   \n",
       "\n",
       "                               genres     box_office  \n",
       "3164              мюзикл,боевик,драма  81,430,626.82  \n",
       "3351                            драма 364,285,139.60  \n",
       "5437         фэнтези,комедия,семейный 511,775,548.00  \n",
       "6472  мультфильм,приключения,семейный 577,368,853.25  \n",
       "7114              приключения,фэнтези 333,597,059.59  "
      ]
     },
     "execution_count": 33,
     "metadata": {},
     "output_type": "execute_result"
    }
   ],
   "source": [
    "data.query('refundable_support > 100000000')"
   ]
  },
  {
   "cell_type": "code",
   "execution_count": 34,
   "metadata": {},
   "outputs": [
    {
     "data": {
      "text/html": [
       "<div>\n",
       "<style scoped>\n",
       "    .dataframe tbody tr th:only-of-type {\n",
       "        vertical-align: middle;\n",
       "    }\n",
       "\n",
       "    .dataframe tbody tr th {\n",
       "        vertical-align: top;\n",
       "    }\n",
       "\n",
       "    .dataframe thead th {\n",
       "        text-align: right;\n",
       "    }\n",
       "</style>\n",
       "<table border=\"1\" class=\"dataframe\">\n",
       "  <thead>\n",
       "    <tr style=\"text-align: right;\">\n",
       "      <th></th>\n",
       "      <th>title</th>\n",
       "      <th>puNumber</th>\n",
       "      <th>show_start_date</th>\n",
       "      <th>type</th>\n",
       "      <th>film_studio</th>\n",
       "      <th>production_country</th>\n",
       "      <th>director</th>\n",
       "      <th>producer</th>\n",
       "      <th>age_restriction</th>\n",
       "      <th>refundable_support</th>\n",
       "      <th>nonrefundable_support</th>\n",
       "      <th>budget</th>\n",
       "      <th>financing_source</th>\n",
       "      <th>ratings</th>\n",
       "      <th>genres</th>\n",
       "      <th>box_office</th>\n",
       "    </tr>\n",
       "  </thead>\n",
       "  <tbody>\n",
       "    <tr>\n",
       "      <th>2920</th>\n",
       "      <td>экипаж .</td>\n",
       "      <td>111005416</td>\n",
       "      <td>2016-03-21 12:00:00+00:00</td>\n",
       "      <td>Художественный</td>\n",
       "      <td>ООО \"Студия \"ТРИТЭ\" Никиты Михалкова\"</td>\n",
       "      <td>Россия</td>\n",
       "      <td>Н.Лебедев</td>\n",
       "      <td>Л.Верещагин, А.Златопольский, Н.Михалков, ООО ...</td>\n",
       "      <td>«6+» - для детей старше 6 лет</td>\n",
       "      <td>50,000,000.00</td>\n",
       "      <td>392,104,482.00</td>\n",
       "      <td>635,283,867.00</td>\n",
       "      <td>Фонд кино</td>\n",
       "      <td>7.60</td>\n",
       "      <td>драма,триллер,приключения</td>\n",
       "      <td>1,402,255,390.00</td>\n",
       "    </tr>\n",
       "    <tr>\n",
       "      <th>5653</th>\n",
       "      <td>движение вверх</td>\n",
       "      <td>111011817</td>\n",
       "      <td>2017-12-21 12:00:00+00:00</td>\n",
       "      <td>Художественный</td>\n",
       "      <td>ООО \"Студия \"ТРИТЭ\" Никиты Михалкова\"</td>\n",
       "      <td>Россия</td>\n",
       "      <td>А.Мегердичев</td>\n",
       "      <td>Л.Верещагин, А.Златопольский, Н.Михалков, ООО ...</td>\n",
       "      <td>«6+» - для детей старше 6 лет</td>\n",
       "      <td>0.00</td>\n",
       "      <td>400,000,000.00</td>\n",
       "      <td>590,192,191.00</td>\n",
       "      <td>Фонд кино</td>\n",
       "      <td>7.50</td>\n",
       "      <td>спорт,драма</td>\n",
       "      <td>2,779,686,144.00</td>\n",
       "    </tr>\n",
       "    <tr>\n",
       "      <th>7464</th>\n",
       "      <td>союз спасения</td>\n",
       "      <td>111022019</td>\n",
       "      <td>2019-12-26 12:00:00+00:00</td>\n",
       "      <td>Художественный</td>\n",
       "      <td>ЗАО \"Дирекция кино\"</td>\n",
       "      <td>Россия</td>\n",
       "      <td>А.Кравчук</td>\n",
       "      <td>А.Максимов, К.Эрнст</td>\n",
       "      <td>«12+» - для детей старше 12 лет</td>\n",
       "      <td>100,000,000.00</td>\n",
       "      <td>400,000,000.00</td>\n",
       "      <td>980,000,000.00</td>\n",
       "      <td>Фонд кино</td>\n",
       "      <td>6.00</td>\n",
       "      <td>история,биография,драма</td>\n",
       "      <td>717,703,185.53</td>\n",
       "    </tr>\n",
       "    <tr>\n",
       "      <th>7474</th>\n",
       "      <td>вторжение</td>\n",
       "      <td>111022519</td>\n",
       "      <td>2019-12-23 12:00:00+00:00</td>\n",
       "      <td>Художественный</td>\n",
       "      <td>ООО \"Арт Пикчерс Студия\", ООО \"Водород 2011\"</td>\n",
       "      <td>Россия</td>\n",
       "      <td>Ф.Бондарчук</td>\n",
       "      <td>Ф.Бондарчук, М.Врубель, А.Андрющенко, Д.Рудовский</td>\n",
       "      <td>«12+» - для детей старше 12 лет</td>\n",
       "      <td>100,000,000.00</td>\n",
       "      <td>400,000,000.00</td>\n",
       "      <td>944,000,000.00</td>\n",
       "      <td>Фонд кино</td>\n",
       "      <td>5.70</td>\n",
       "      <td>фантастика,боевик</td>\n",
       "      <td>NaN</td>\n",
       "    </tr>\n",
       "  </tbody>\n",
       "</table>\n",
       "</div>"
      ],
      "text/plain": [
       "               title   puNumber           show_start_date            type  \\\n",
       "2920        экипаж .  111005416 2016-03-21 12:00:00+00:00  Художественный   \n",
       "5653  движение вверх  111011817 2017-12-21 12:00:00+00:00  Художественный   \n",
       "7464   союз спасения  111022019 2019-12-26 12:00:00+00:00  Художественный   \n",
       "7474       вторжение  111022519 2019-12-23 12:00:00+00:00  Художественный   \n",
       "\n",
       "                                       film_studio production_country  \\\n",
       "2920         ООО \"Студия \"ТРИТЭ\" Никиты Михалкова\"             Россия   \n",
       "5653         ООО \"Студия \"ТРИТЭ\" Никиты Михалкова\"             Россия   \n",
       "7464                           ЗАО \"Дирекция кино\"             Россия   \n",
       "7474  ООО \"Арт Пикчерс Студия\", ООО \"Водород 2011\"             Россия   \n",
       "\n",
       "          director                                           producer  \\\n",
       "2920     Н.Лебедев  Л.Верещагин, А.Златопольский, Н.Михалков, ООО ...   \n",
       "5653  А.Мегердичев  Л.Верещагин, А.Златопольский, Н.Михалков, ООО ...   \n",
       "7464     А.Кравчук                                А.Максимов, К.Эрнст   \n",
       "7474   Ф.Бондарчук  Ф.Бондарчук, М.Врубель, А.Андрющенко, Д.Рудовский   \n",
       "\n",
       "                      age_restriction  refundable_support  \\\n",
       "2920    «6+» - для детей старше 6 лет       50,000,000.00   \n",
       "5653    «6+» - для детей старше 6 лет                0.00   \n",
       "7464  «12+» - для детей старше 12 лет      100,000,000.00   \n",
       "7474  «12+» - для детей старше 12 лет      100,000,000.00   \n",
       "\n",
       "      nonrefundable_support         budget financing_source  ratings  \\\n",
       "2920         392,104,482.00 635,283,867.00        Фонд кино     7.60   \n",
       "5653         400,000,000.00 590,192,191.00        Фонд кино     7.50   \n",
       "7464         400,000,000.00 980,000,000.00        Фонд кино     6.00   \n",
       "7474         400,000,000.00 944,000,000.00        Фонд кино     5.70   \n",
       "\n",
       "                         genres       box_office  \n",
       "2920  драма,триллер,приключения 1,402,255,390.00  \n",
       "5653                спорт,драма 2,779,686,144.00  \n",
       "7464    история,биография,драма   717,703,185.53  \n",
       "7474          фантастика,боевик              NaN  "
      ]
     },
     "execution_count": 34,
     "metadata": {},
     "output_type": "execute_result"
    }
   ],
   "source": [
    "data.query('nonrefundable_support > 300000000')"
   ]
  },
  {
   "cell_type": "code",
   "execution_count": 35,
   "metadata": {
    "scrolled": false
   },
   "outputs": [
    {
     "data": {
      "text/html": [
       "<div>\n",
       "<style scoped>\n",
       "    .dataframe tbody tr th:only-of-type {\n",
       "        vertical-align: middle;\n",
       "    }\n",
       "\n",
       "    .dataframe tbody tr th {\n",
       "        vertical-align: top;\n",
       "    }\n",
       "\n",
       "    .dataframe thead th {\n",
       "        text-align: right;\n",
       "    }\n",
       "</style>\n",
       "<table border=\"1\" class=\"dataframe\">\n",
       "  <thead>\n",
       "    <tr style=\"text-align: right;\">\n",
       "      <th></th>\n",
       "      <th>title</th>\n",
       "      <th>puNumber</th>\n",
       "      <th>show_start_date</th>\n",
       "      <th>type</th>\n",
       "      <th>film_studio</th>\n",
       "      <th>production_country</th>\n",
       "      <th>director</th>\n",
       "      <th>producer</th>\n",
       "      <th>age_restriction</th>\n",
       "      <th>refundable_support</th>\n",
       "      <th>nonrefundable_support</th>\n",
       "      <th>budget</th>\n",
       "      <th>financing_source</th>\n",
       "      <th>ratings</th>\n",
       "      <th>genres</th>\n",
       "      <th>box_office</th>\n",
       "    </tr>\n",
       "  </thead>\n",
       "  <tbody>\n",
       "    <tr>\n",
       "      <th>2859</th>\n",
       "      <td>зверополис</td>\n",
       "      <td>124000316</td>\n",
       "      <td>2016-02-15 12:00:00+00:00</td>\n",
       "      <td>Анимационный</td>\n",
       "      <td>Уолт Дисней Анимейшн Студиос, Уолт Дисней Пикчерз</td>\n",
       "      <td>США</td>\n",
       "      <td>Рич Мур, Байрон Ховард</td>\n",
       "      <td>Кларк Спенсер</td>\n",
       "      <td>«6+» - для детей старше 6 лет</td>\n",
       "      <td>0.00</td>\n",
       "      <td>0.00</td>\n",
       "      <td>NaN</td>\n",
       "      <td>0</td>\n",
       "      <td>8.30</td>\n",
       "      <td>мультфильм,комедия,криминал</td>\n",
       "      <td>2,048,126,108.00</td>\n",
       "    </tr>\n",
       "    <tr>\n",
       "      <th>3488</th>\n",
       "      <td>пираты карибского моря: мертвецы не рассказыва...</td>\n",
       "      <td>121009217</td>\n",
       "      <td>2017-05-17 12:00:00+00:00</td>\n",
       "      <td>Художественный</td>\n",
       "      <td>Джерри Брукхаймер Филмз, Уолт Дисней Пикчерз, ...</td>\n",
       "      <td>США</td>\n",
       "      <td>Йоаким Реннинг, Эспен Сандберг</td>\n",
       "      <td>Джерри Брукхаймер</td>\n",
       "      <td>«16+» - для детей старше 16 лет</td>\n",
       "      <td>0.00</td>\n",
       "      <td>0.00</td>\n",
       "      <td>NaN</td>\n",
       "      <td>0</td>\n",
       "      <td>6.60</td>\n",
       "      <td>фэнтези,боевик,комедия</td>\n",
       "      <td>2,118,396,119.00</td>\n",
       "    </tr>\n",
       "    <tr>\n",
       "      <th>5653</th>\n",
       "      <td>движение вверх</td>\n",
       "      <td>111011817</td>\n",
       "      <td>2017-12-21 12:00:00+00:00</td>\n",
       "      <td>Художественный</td>\n",
       "      <td>ООО \"Студия \"ТРИТЭ\" Никиты Михалкова\"</td>\n",
       "      <td>Россия</td>\n",
       "      <td>А.Мегердичев</td>\n",
       "      <td>Л.Верещагин, А.Златопольский, Н.Михалков, ООО ...</td>\n",
       "      <td>«6+» - для детей старше 6 лет</td>\n",
       "      <td>0.00</td>\n",
       "      <td>400,000,000.00</td>\n",
       "      <td>590,192,191.00</td>\n",
       "      <td>Фонд кино</td>\n",
       "      <td>7.50</td>\n",
       "      <td>спорт,драма</td>\n",
       "      <td>2,779,686,144.00</td>\n",
       "    </tr>\n",
       "    <tr>\n",
       "      <th>6549</th>\n",
       "      <td>т-34</td>\n",
       "      <td>111024918</td>\n",
       "      <td>2018-12-21 12:00:00+00:00</td>\n",
       "      <td>Художественный</td>\n",
       "      <td>ООО \"Кинокомпания МАРС-фильм\" по заказу ООО \"М...</td>\n",
       "      <td>Россия</td>\n",
       "      <td>А.Сидоров</td>\n",
       "      <td>А.Златопольский, Р.Дишдишян, Л.Блаватник, Н.Яр...</td>\n",
       "      <td>«12+» - для детей старше 12 лет</td>\n",
       "      <td>60,000,000.00</td>\n",
       "      <td>120,000,000.00</td>\n",
       "      <td>563,784,717.00</td>\n",
       "      <td>Фонд кино</td>\n",
       "      <td>6.50</td>\n",
       "      <td>драма,военный,боевик</td>\n",
       "      <td>2,271,754,004.52</td>\n",
       "    </tr>\n",
       "    <tr>\n",
       "      <th>6820</th>\n",
       "      <td>мстители: финал</td>\n",
       "      <td>121005519</td>\n",
       "      <td>2019-04-29 12:00:00+00:00</td>\n",
       "      <td>Художественный</td>\n",
       "      <td>Марвел Студиос</td>\n",
       "      <td>США</td>\n",
       "      <td>Джо Руссо, Энтони Руссо</td>\n",
       "      <td>Кевин Фейги</td>\n",
       "      <td>«16+» - для детей старше 16 лет</td>\n",
       "      <td>0.00</td>\n",
       "      <td>0.00</td>\n",
       "      <td>NaN</td>\n",
       "      <td>0</td>\n",
       "      <td>7.60</td>\n",
       "      <td>фантастика,боевик,драма</td>\n",
       "      <td>2,576,613,776.83</td>\n",
       "    </tr>\n",
       "    <tr>\n",
       "      <th>7456</th>\n",
       "      <td>холоп</td>\n",
       "      <td>111021719</td>\n",
       "      <td>2019-12-19 12:00:00+00:00</td>\n",
       "      <td>Художественный</td>\n",
       "      <td>ООО \"МЕМ-МЕДИА\" по заказу АО \"ВБД Груп\"</td>\n",
       "      <td>Россия</td>\n",
       "      <td>К.Шипенко</td>\n",
       "      <td>Э.Илоян, Д.Жалинский, В.Дусмухаметов, Т.Бадзие...</td>\n",
       "      <td>«12+» - для детей старше 12 лет</td>\n",
       "      <td>25,000,000.00</td>\n",
       "      <td>35,000,000.00</td>\n",
       "      <td>160,000,000.00</td>\n",
       "      <td>Фонд кино</td>\n",
       "      <td>6.80</td>\n",
       "      <td>комедия</td>\n",
       "      <td>3,073,568,690.79</td>\n",
       "    </tr>\n",
       "  </tbody>\n",
       "</table>\n",
       "</div>"
      ],
      "text/plain": [
       "                                                  title   puNumber  \\\n",
       "2859                                         зверополис  124000316   \n",
       "3488  пираты карибского моря: мертвецы не рассказыва...  121009217   \n",
       "5653                                     движение вверх  111011817   \n",
       "6549                                               т-34  111024918   \n",
       "6820                                    мстители: финал  121005519   \n",
       "7456                                              холоп  111021719   \n",
       "\n",
       "               show_start_date            type  \\\n",
       "2859 2016-02-15 12:00:00+00:00    Анимационный   \n",
       "3488 2017-05-17 12:00:00+00:00  Художественный   \n",
       "5653 2017-12-21 12:00:00+00:00  Художественный   \n",
       "6549 2018-12-21 12:00:00+00:00  Художественный   \n",
       "6820 2019-04-29 12:00:00+00:00  Художественный   \n",
       "7456 2019-12-19 12:00:00+00:00  Художественный   \n",
       "\n",
       "                                            film_studio production_country  \\\n",
       "2859  Уолт Дисней Анимейшн Студиос, Уолт Дисней Пикчерз                США   \n",
       "3488  Джерри Брукхаймер Филмз, Уолт Дисней Пикчерз, ...                США   \n",
       "5653              ООО \"Студия \"ТРИТЭ\" Никиты Михалкова\"             Россия   \n",
       "6549  ООО \"Кинокомпания МАРС-фильм\" по заказу ООО \"М...             Россия   \n",
       "6820                                     Марвел Студиос                США   \n",
       "7456            ООО \"МЕМ-МЕДИА\" по заказу АО \"ВБД Груп\"             Россия   \n",
       "\n",
       "                            director  \\\n",
       "2859          Рич Мур, Байрон Ховард   \n",
       "3488  Йоаким Реннинг, Эспен Сандберг   \n",
       "5653                    А.Мегердичев   \n",
       "6549                       А.Сидоров   \n",
       "6820         Джо Руссо, Энтони Руссо   \n",
       "7456                       К.Шипенко   \n",
       "\n",
       "                                               producer  \\\n",
       "2859                                      Кларк Спенсер   \n",
       "3488                                  Джерри Брукхаймер   \n",
       "5653  Л.Верещагин, А.Златопольский, Н.Михалков, ООО ...   \n",
       "6549  А.Златопольский, Р.Дишдишян, Л.Блаватник, Н.Яр...   \n",
       "6820                                        Кевин Фейги   \n",
       "7456  Э.Илоян, Д.Жалинский, В.Дусмухаметов, Т.Бадзие...   \n",
       "\n",
       "                      age_restriction  refundable_support  \\\n",
       "2859    «6+» - для детей старше 6 лет                0.00   \n",
       "3488  «16+» - для детей старше 16 лет                0.00   \n",
       "5653    «6+» - для детей старше 6 лет                0.00   \n",
       "6549  «12+» - для детей старше 12 лет       60,000,000.00   \n",
       "6820  «16+» - для детей старше 16 лет                0.00   \n",
       "7456  «12+» - для детей старше 12 лет       25,000,000.00   \n",
       "\n",
       "      nonrefundable_support         budget financing_source  ratings  \\\n",
       "2859                   0.00            NaN                0     8.30   \n",
       "3488                   0.00            NaN                0     6.60   \n",
       "5653         400,000,000.00 590,192,191.00        Фонд кино     7.50   \n",
       "6549         120,000,000.00 563,784,717.00        Фонд кино     6.50   \n",
       "6820                   0.00            NaN                0     7.60   \n",
       "7456          35,000,000.00 160,000,000.00        Фонд кино     6.80   \n",
       "\n",
       "                           genres       box_office  \n",
       "2859  мультфильм,комедия,криминал 2,048,126,108.00  \n",
       "3488       фэнтези,боевик,комедия 2,118,396,119.00  \n",
       "5653                  спорт,драма 2,779,686,144.00  \n",
       "6549         драма,военный,боевик 2,271,754,004.52  \n",
       "6820      фантастика,боевик,драма 2,576,613,776.83  \n",
       "7456                      комедия 3,073,568,690.79  "
      ]
     },
     "execution_count": 35,
     "metadata": {},
     "output_type": "execute_result"
    }
   ],
   "source": [
    "data.query('box_office > 2000000000')"
   ]
  },
  {
   "cell_type": "markdown",
   "metadata": {},
   "source": [
    "Сильные отклонения от средних значений можно объяснить популярностью фильмов, соответсвенно выше сборы и выше бюджет. оставим эти значения без изменений."
   ]
  },
  {
   "cell_type": "code",
   "execution_count": 36,
   "metadata": {
    "scrolled": false
   },
   "outputs": [
    {
     "data": {
      "text/html": [
       "<div>\n",
       "<style scoped>\n",
       "    .dataframe tbody tr th:only-of-type {\n",
       "        vertical-align: middle;\n",
       "    }\n",
       "\n",
       "    .dataframe tbody tr th {\n",
       "        vertical-align: top;\n",
       "    }\n",
       "\n",
       "    .dataframe thead th {\n",
       "        text-align: right;\n",
       "    }\n",
       "</style>\n",
       "<table border=\"1\" class=\"dataframe\">\n",
       "  <thead>\n",
       "    <tr style=\"text-align: right;\">\n",
       "      <th></th>\n",
       "      <th>title</th>\n",
       "      <th>puNumber</th>\n",
       "      <th>show_start_date</th>\n",
       "      <th>type</th>\n",
       "      <th>film_studio</th>\n",
       "      <th>production_country</th>\n",
       "      <th>director</th>\n",
       "      <th>producer</th>\n",
       "      <th>age_restriction</th>\n",
       "      <th>refundable_support</th>\n",
       "      <th>nonrefundable_support</th>\n",
       "      <th>budget</th>\n",
       "      <th>financing_source</th>\n",
       "      <th>ratings</th>\n",
       "      <th>genres</th>\n",
       "      <th>box_office</th>\n",
       "    </tr>\n",
       "  </thead>\n",
       "  <tbody>\n",
       "    <tr>\n",
       "      <th>2053</th>\n",
       "      <td>14+</td>\n",
       "      <td>111023614</td>\n",
       "      <td>2014-12-19 12:00:00+00:00</td>\n",
       "      <td>Художественный</td>\n",
       "      <td>ООО Киностудия  \"Сентябрь\"</td>\n",
       "      <td>Россия</td>\n",
       "      <td>А.Зайцев</td>\n",
       "      <td>О.Гранина, А.Зайцев</td>\n",
       "      <td>«16+» - для детей старше 16 лет</td>\n",
       "      <td>0.00</td>\n",
       "      <td>23,000,000.00</td>\n",
       "      <td>0.00</td>\n",
       "      <td>Министерство культуры, Фонд кино</td>\n",
       "      <td>6.60</td>\n",
       "      <td>мелодрама</td>\n",
       "      <td>10,234,016.10</td>\n",
       "    </tr>\n",
       "    <tr>\n",
       "      <th>2058</th>\n",
       "      <td>дуxless 2</td>\n",
       "      <td>111000415</td>\n",
       "      <td>2015-01-26 12:00:00+00:00</td>\n",
       "      <td>Художественный</td>\n",
       "      <td>ООО \"Киностудия \"Слово\", ООО \"Арт Пикчерс Студия\"</td>\n",
       "      <td>Россия</td>\n",
       "      <td>Р.Прыгунов</td>\n",
       "      <td>П.Ануров, Ф.Бондарчук, Д.Рудовский</td>\n",
       "      <td>«16+» - для детей старше 16 лет</td>\n",
       "      <td>0.00</td>\n",
       "      <td>75,000,000.00</td>\n",
       "      <td>0.00</td>\n",
       "      <td>Фонд кино</td>\n",
       "      <td>6.60</td>\n",
       "      <td>драма</td>\n",
       "      <td>446,163,511.00</td>\n",
       "    </tr>\n",
       "    <tr>\n",
       "      <th>2472</th>\n",
       "      <td>воин (2015)</td>\n",
       "      <td>111017315</td>\n",
       "      <td>2015-09-28 12:00:00+00:00</td>\n",
       "      <td>Художественный</td>\n",
       "      <td>ООО \"Форпост Продакшн\", ООО \"Арт Пикчерс Студия\"</td>\n",
       "      <td>Россия</td>\n",
       "      <td>А.Андрианов</td>\n",
       "      <td>ООО \"Арт Пикчерс Студия\"</td>\n",
       "      <td>«12+» - для детей старше 12 лет</td>\n",
       "      <td>10,000,000.00</td>\n",
       "      <td>70,000,000.00</td>\n",
       "      <td>0.00</td>\n",
       "      <td>Фонд кино</td>\n",
       "      <td>7.80</td>\n",
       "      <td>боевик,драма,криминал</td>\n",
       "      <td>196,572,438.40</td>\n",
       "    </tr>\n",
       "    <tr>\n",
       "      <th>2532</th>\n",
       "      <td>бармен.</td>\n",
       "      <td>111009615</td>\n",
       "      <td>2015-05-26 12:00:00+00:00</td>\n",
       "      <td>Художественный</td>\n",
       "      <td>АО \"ВайТ Медиа\", ООО \"Арт Пикчерс Студия\"</td>\n",
       "      <td>Россия</td>\n",
       "      <td>Д.Штурманова</td>\n",
       "      <td>Т.Вайнштейн</td>\n",
       "      <td>«16+» - для детей старше 16 лет</td>\n",
       "      <td>20,000,000.00</td>\n",
       "      <td>0.00</td>\n",
       "      <td>0.00</td>\n",
       "      <td>Фонд кино</td>\n",
       "      <td>6.20</td>\n",
       "      <td>комедия,фэнтези</td>\n",
       "      <td>67,418,974.80</td>\n",
       "    </tr>\n",
       "    <tr>\n",
       "      <th>2615</th>\n",
       "      <td>савва. сердце воина</td>\n",
       "      <td>114001715</td>\n",
       "      <td>2015-07-21 12:00:00+00:00</td>\n",
       "      <td>Анимационный</td>\n",
       "      <td>ООО \"Глюкоза Продакшн\", ООО \"Арт Пикчерс Студия\"</td>\n",
       "      <td>Россия</td>\n",
       "      <td>М.Фадеев</td>\n",
       "      <td>А.Чистяков</td>\n",
       "      <td>«6+» - для детей старше 6 лет</td>\n",
       "      <td>60,000,000.00</td>\n",
       "      <td>100,000,000.00</td>\n",
       "      <td>0.00</td>\n",
       "      <td>Фонд кино</td>\n",
       "      <td>4.60</td>\n",
       "      <td>мультфильм,приключения,фэнтези</td>\n",
       "      <td>184,487,551.40</td>\n",
       "    </tr>\n",
       "    <tr>\n",
       "      <th>2684</th>\n",
       "      <td>тряпичный союз</td>\n",
       "      <td>111010215</td>\n",
       "      <td>2015-06-08 12:00:00+00:00</td>\n",
       "      <td>Художественный</td>\n",
       "      <td>ООО \"Кинокомпания \"КОКТЕБЕЛЬ\"</td>\n",
       "      <td>Россия</td>\n",
       "      <td>М.Местецкий</td>\n",
       "      <td>Р.Борисевич, А.Кушаев</td>\n",
       "      <td>«18+» - запрещено для детей</td>\n",
       "      <td>0.00</td>\n",
       "      <td>59,000,000.00</td>\n",
       "      <td>0.00</td>\n",
       "      <td>Фонд кино</td>\n",
       "      <td>6.30</td>\n",
       "      <td>комедия,драма</td>\n",
       "      <td>1,957,738.51</td>\n",
       "    </tr>\n",
       "    <tr>\n",
       "      <th>2788</th>\n",
       "      <td>срочно выйду замуж</td>\n",
       "      <td>111017115</td>\n",
       "      <td>2015-09-30 12:00:00+00:00</td>\n",
       "      <td>Художественный</td>\n",
       "      <td>АО \"ВайТ Медиа\", ООО \"Арт Пикчерс Студия\"</td>\n",
       "      <td>Россия</td>\n",
       "      <td>С Чекалов</td>\n",
       "      <td>Ф.Бондарчук, Т.Вайнштейн, Д.Рудовский</td>\n",
       "      <td>«16+» - для детей старше 16 лет</td>\n",
       "      <td>0.00</td>\n",
       "      <td>35,000,000.00</td>\n",
       "      <td>0.00</td>\n",
       "      <td>Фонд кино</td>\n",
       "      <td>5.10</td>\n",
       "      <td>комедия,мелодрама</td>\n",
       "      <td>72,937,783.20</td>\n",
       "    </tr>\n",
       "    <tr>\n",
       "      <th>2874</th>\n",
       "      <td>помню - не помню!</td>\n",
       "      <td>111004916</td>\n",
       "      <td>2016-03-01 12:00:00+00:00</td>\n",
       "      <td>Художественный</td>\n",
       "      <td>ООО \"КиноФирма\"</td>\n",
       "      <td>Россия</td>\n",
       "      <td>В.Ровенский</td>\n",
       "      <td>ООО \"КиноФирма\"</td>\n",
       "      <td>«12+» - для детей старше 12 лет</td>\n",
       "      <td>0.00</td>\n",
       "      <td>6,000,000.00</td>\n",
       "      <td>0.00</td>\n",
       "      <td>Министерство культуры</td>\n",
       "      <td>4.30</td>\n",
       "      <td>комедия</td>\n",
       "      <td>15,362,931.43</td>\n",
       "    </tr>\n",
       "    <tr>\n",
       "      <th>3047</th>\n",
       "      <td>любовь с ограничениями</td>\n",
       "      <td>111008216</td>\n",
       "      <td>2016-04-29 12:00:00+00:00</td>\n",
       "      <td>Художественный</td>\n",
       "      <td>АО \"ВайТ Медиа\", ООО \"Арт Пикчерс Студия\"</td>\n",
       "      <td>Россия</td>\n",
       "      <td>Д.Тюрин</td>\n",
       "      <td>Ф.Бондарчук, Т.Вайнштейн, Д.Рудовский</td>\n",
       "      <td>«16+» - для детей старше 16 лет</td>\n",
       "      <td>19,000,000.00</td>\n",
       "      <td>51,000,000.00</td>\n",
       "      <td>0.00</td>\n",
       "      <td>Фонд кино</td>\n",
       "      <td>6.30</td>\n",
       "      <td>комедия,мелодрама</td>\n",
       "      <td>70,299,052.00</td>\n",
       "    </tr>\n",
       "    <tr>\n",
       "      <th>3565</th>\n",
       "      <td>притяжение (2016)</td>\n",
       "      <td>111018116</td>\n",
       "      <td>2016-12-16 12:00:00+00:00</td>\n",
       "      <td>Художественный</td>\n",
       "      <td>ООО \"Водород 2011\",  ООО \"Арт Пикчерс Студия\"</td>\n",
       "      <td>Россия</td>\n",
       "      <td>Ф.Бондарчук</td>\n",
       "      <td>ООО \"Арт Пикчерс Студия\"</td>\n",
       "      <td>«12+» - для детей старше 12 лет</td>\n",
       "      <td>0.00</td>\n",
       "      <td>250,000,000.00</td>\n",
       "      <td>0.00</td>\n",
       "      <td>Фонд кино</td>\n",
       "      <td>5.60</td>\n",
       "      <td>фантастика</td>\n",
       "      <td>1,038,321,489.00</td>\n",
       "    </tr>\n",
       "    <tr>\n",
       "      <th>3675</th>\n",
       "      <td>чудо-юдо</td>\n",
       "      <td>114001817</td>\n",
       "      <td>2017-06-27 12:00:00+00:00</td>\n",
       "      <td>Анимационный</td>\n",
       "      <td>ООО \"КиноФирма\"</td>\n",
       "      <td>Россия</td>\n",
       "      <td>А.Лукичев</td>\n",
       "      <td>ООО \"КиноФирма\"</td>\n",
       "      <td>«6+» - для детей старше 6 лет</td>\n",
       "      <td>20,000,000.00</td>\n",
       "      <td>20,000,000.00</td>\n",
       "      <td>0.00</td>\n",
       "      <td>Фонд кино</td>\n",
       "      <td>5.20</td>\n",
       "      <td>мультфильм,фэнтези,семейный</td>\n",
       "      <td>55,108,014.76</td>\n",
       "    </tr>\n",
       "    <tr>\n",
       "      <th>3739</th>\n",
       "      <td>мифы</td>\n",
       "      <td>111004317</td>\n",
       "      <td>2017-06-07 12:00:00+00:00</td>\n",
       "      <td>Художественный</td>\n",
       "      <td>ООО \"ХАЙПФИЛМ\", ООО \"Арт Пикчерс Студия\"</td>\n",
       "      <td>Россия</td>\n",
       "      <td>А.Молочников</td>\n",
       "      <td>Ф.Бондарчук, Д.Рудовский, И.Стюарт, М.Османн, ...</td>\n",
       "      <td>«16+» - для детей старше 16 лет</td>\n",
       "      <td>25,000,000.00</td>\n",
       "      <td>20,000,000.00</td>\n",
       "      <td>0.00</td>\n",
       "      <td>Фонд кино</td>\n",
       "      <td>4.80</td>\n",
       "      <td>комедия</td>\n",
       "      <td>50,451,949.00</td>\n",
       "    </tr>\n",
       "    <tr>\n",
       "      <th>5673</th>\n",
       "      <td>селфи</td>\n",
       "      <td>111012117</td>\n",
       "      <td>2018-02-01 12:00:00+00:00</td>\n",
       "      <td>Художественный</td>\n",
       "      <td>ООО \"Киностудия \"Слово\", ООО \"Арт Пикчерс Студия\"</td>\n",
       "      <td>Россия</td>\n",
       "      <td>Н.Хомерики</td>\n",
       "      <td>П.Ануров, Ф.Бондарчук, Д.Рудовский</td>\n",
       "      <td>«16+» - для детей старше 16 лет</td>\n",
       "      <td>20,000,000.00</td>\n",
       "      <td>40,000,000.00</td>\n",
       "      <td>0.00</td>\n",
       "      <td>Фонд кино</td>\n",
       "      <td>5.80</td>\n",
       "      <td>триллер,драма</td>\n",
       "      <td>225,196,400.03</td>\n",
       "    </tr>\n",
       "    <tr>\n",
       "      <th>5806</th>\n",
       "      <td>два хвоста</td>\n",
       "      <td>114001018</td>\n",
       "      <td>2018-05-31 12:00:00+00:00</td>\n",
       "      <td>Анимационный</td>\n",
       "      <td>ООО \"ЛИЦЕНЗИОННЫЕ БРЕНДЫ\"</td>\n",
       "      <td>Россия</td>\n",
       "      <td>В.Ровенский, Н.Лопато, В.Азеев</td>\n",
       "      <td>ООО \"ЛИЦЕНЗИОННЫЕ БРЕНДЫ\"</td>\n",
       "      <td>«6+» - для детей старше 6 лет</td>\n",
       "      <td>10,000,000.00</td>\n",
       "      <td>60,000,000.00</td>\n",
       "      <td>0.00</td>\n",
       "      <td>Фонд кино</td>\n",
       "      <td>5.00</td>\n",
       "      <td>мультфильм,детский</td>\n",
       "      <td>106,514,301.03</td>\n",
       "    </tr>\n",
       "    <tr>\n",
       "      <th>6008</th>\n",
       "      <td>принцесса и дракон</td>\n",
       "      <td>114003018</td>\n",
       "      <td>2018-08-23 12:00:00+00:00</td>\n",
       "      <td>Анимационный</td>\n",
       "      <td>ООО \"ЛИЦЕНЗИОННЫЕ БРЕНДЫ\"</td>\n",
       "      <td>Россия</td>\n",
       "      <td>М.Нефедова</td>\n",
       "      <td>ООО \"ЛИЦЕНЗИОННЫЕ БРЕНДЫ\"</td>\n",
       "      <td>«6+» - для детей старше 6 лет</td>\n",
       "      <td>40,000,000.00</td>\n",
       "      <td>40,000,000.00</td>\n",
       "      <td>0.00</td>\n",
       "      <td>Фонд кино</td>\n",
       "      <td>5.20</td>\n",
       "      <td>мультфильм,фэнтези,детский</td>\n",
       "      <td>83,366,328.66</td>\n",
       "    </tr>\n",
       "    <tr>\n",
       "      <th>6323</th>\n",
       "      <td>баба яга</td>\n",
       "      <td>114006518</td>\n",
       "      <td>2018-11-08 12:00:00+00:00</td>\n",
       "      <td>Анимационный</td>\n",
       "      <td>ООО \"Арт Пикчерс Студия\"</td>\n",
       "      <td>Россия</td>\n",
       "      <td>В.Саков</td>\n",
       "      <td>ООО \"Арт Пикчерс Студия\", ООО \"КРИЭЙТИВ АНИМЭЙ...</td>\n",
       "      <td>«6+» - для детей старше 6 лет</td>\n",
       "      <td>0.00</td>\n",
       "      <td>138,969,465.00</td>\n",
       "      <td>0.00</td>\n",
       "      <td>Фонд кино</td>\n",
       "      <td>NaN</td>\n",
       "      <td>NaN</td>\n",
       "      <td>1,334,699.40</td>\n",
       "    </tr>\n",
       "    <tr>\n",
       "      <th>6823</th>\n",
       "      <td>большое путешествие</td>\n",
       "      <td>114002419</td>\n",
       "      <td>2019-04-20 12:00:00+00:00</td>\n",
       "      <td>Анимационный</td>\n",
       "      <td>ООО \"ЛИЦЕНЗИОННЫЕ БРЕНДЫ\"</td>\n",
       "      <td>Россия</td>\n",
       "      <td>Н.Лопато, В.Ровенский</td>\n",
       "      <td>ООО \"ЛИЦЕНЗИОННЫЕ БРЕНДЫ\"</td>\n",
       "      <td>«6+» - для детей старше 6 лет</td>\n",
       "      <td>60,000,000.00</td>\n",
       "      <td>120,000,000.00</td>\n",
       "      <td>0.00</td>\n",
       "      <td>Фонд кино</td>\n",
       "      <td>6.20</td>\n",
       "      <td>мультфильм,комедия,приключения</td>\n",
       "      <td>147,606,826.51</td>\n",
       "    </tr>\n",
       "  </tbody>\n",
       "</table>\n",
       "</div>"
      ],
      "text/plain": [
       "                       title   puNumber           show_start_date  \\\n",
       "2053                     14+  111023614 2014-12-19 12:00:00+00:00   \n",
       "2058               дуxless 2  111000415 2015-01-26 12:00:00+00:00   \n",
       "2472             воин (2015)  111017315 2015-09-28 12:00:00+00:00   \n",
       "2532                 бармен.  111009615 2015-05-26 12:00:00+00:00   \n",
       "2615     савва. сердце воина  114001715 2015-07-21 12:00:00+00:00   \n",
       "2684          тряпичный союз  111010215 2015-06-08 12:00:00+00:00   \n",
       "2788      срочно выйду замуж  111017115 2015-09-30 12:00:00+00:00   \n",
       "2874       помню - не помню!  111004916 2016-03-01 12:00:00+00:00   \n",
       "3047  любовь с ограничениями  111008216 2016-04-29 12:00:00+00:00   \n",
       "3565       притяжение (2016)  111018116 2016-12-16 12:00:00+00:00   \n",
       "3675                чудо-юдо  114001817 2017-06-27 12:00:00+00:00   \n",
       "3739                    мифы  111004317 2017-06-07 12:00:00+00:00   \n",
       "5673                   селфи  111012117 2018-02-01 12:00:00+00:00   \n",
       "5806              два хвоста  114001018 2018-05-31 12:00:00+00:00   \n",
       "6008      принцесса и дракон  114003018 2018-08-23 12:00:00+00:00   \n",
       "6323                баба яга  114006518 2018-11-08 12:00:00+00:00   \n",
       "6823     большое путешествие  114002419 2019-04-20 12:00:00+00:00   \n",
       "\n",
       "                type                                        film_studio  \\\n",
       "2053  Художественный                         ООО Киностудия  \"Сентябрь\"   \n",
       "2058  Художественный  ООО \"Киностудия \"Слово\", ООО \"Арт Пикчерс Студия\"   \n",
       "2472  Художественный   ООО \"Форпост Продакшн\", ООО \"Арт Пикчерс Студия\"   \n",
       "2532  Художественный          АО \"ВайТ Медиа\", ООО \"Арт Пикчерс Студия\"   \n",
       "2615    Анимационный   ООО \"Глюкоза Продакшн\", ООО \"Арт Пикчерс Студия\"   \n",
       "2684  Художественный                      ООО \"Кинокомпания \"КОКТЕБЕЛЬ\"   \n",
       "2788  Художественный          АО \"ВайТ Медиа\", ООО \"Арт Пикчерс Студия\"   \n",
       "2874  Художественный                                    ООО \"КиноФирма\"   \n",
       "3047  Художественный          АО \"ВайТ Медиа\", ООО \"Арт Пикчерс Студия\"   \n",
       "3565  Художественный      ООО \"Водород 2011\",  ООО \"Арт Пикчерс Студия\"   \n",
       "3675    Анимационный                                    ООО \"КиноФирма\"   \n",
       "3739  Художественный           ООО \"ХАЙПФИЛМ\", ООО \"Арт Пикчерс Студия\"   \n",
       "5673  Художественный  ООО \"Киностудия \"Слово\", ООО \"Арт Пикчерс Студия\"   \n",
       "5806    Анимационный                          ООО \"ЛИЦЕНЗИОННЫЕ БРЕНДЫ\"   \n",
       "6008    Анимационный                          ООО \"ЛИЦЕНЗИОННЫЕ БРЕНДЫ\"   \n",
       "6323    Анимационный                           ООО \"Арт Пикчерс Студия\"   \n",
       "6823    Анимационный                          ООО \"ЛИЦЕНЗИОННЫЕ БРЕНДЫ\"   \n",
       "\n",
       "     production_country                        director  \\\n",
       "2053             Россия                        А.Зайцев   \n",
       "2058             Россия                      Р.Прыгунов   \n",
       "2472             Россия                     А.Андрианов   \n",
       "2532             Россия                    Д.Штурманова   \n",
       "2615             Россия                        М.Фадеев   \n",
       "2684             Россия                     М.Местецкий   \n",
       "2788             Россия                       С Чекалов   \n",
       "2874             Россия                     В.Ровенский   \n",
       "3047             Россия                         Д.Тюрин   \n",
       "3565             Россия                     Ф.Бондарчук   \n",
       "3675             Россия                       А.Лукичев   \n",
       "3739             Россия                    А.Молочников   \n",
       "5673             Россия                      Н.Хомерики   \n",
       "5806             Россия  В.Ровенский, Н.Лопато, В.Азеев   \n",
       "6008             Россия                      М.Нефедова   \n",
       "6323             Россия                         В.Саков   \n",
       "6823             Россия           Н.Лопато, В.Ровенский   \n",
       "\n",
       "                                               producer  \\\n",
       "2053                                О.Гранина, А.Зайцев   \n",
       "2058                 П.Ануров, Ф.Бондарчук, Д.Рудовский   \n",
       "2472                           ООО \"Арт Пикчерс Студия\"   \n",
       "2532                                        Т.Вайнштейн   \n",
       "2615                                         А.Чистяков   \n",
       "2684                              Р.Борисевич, А.Кушаев   \n",
       "2788              Ф.Бондарчук, Т.Вайнштейн, Д.Рудовский   \n",
       "2874                                    ООО \"КиноФирма\"   \n",
       "3047              Ф.Бондарчук, Т.Вайнштейн, Д.Рудовский   \n",
       "3565                           ООО \"Арт Пикчерс Студия\"   \n",
       "3675                                    ООО \"КиноФирма\"   \n",
       "3739  Ф.Бондарчук, Д.Рудовский, И.Стюарт, М.Османн, ...   \n",
       "5673                 П.Ануров, Ф.Бондарчук, Д.Рудовский   \n",
       "5806                          ООО \"ЛИЦЕНЗИОННЫЕ БРЕНДЫ\"   \n",
       "6008                          ООО \"ЛИЦЕНЗИОННЫЕ БРЕНДЫ\"   \n",
       "6323  ООО \"Арт Пикчерс Студия\", ООО \"КРИЭЙТИВ АНИМЭЙ...   \n",
       "6823                          ООО \"ЛИЦЕНЗИОННЫЕ БРЕНДЫ\"   \n",
       "\n",
       "                      age_restriction  refundable_support  \\\n",
       "2053  «16+» - для детей старше 16 лет                0.00   \n",
       "2058  «16+» - для детей старше 16 лет                0.00   \n",
       "2472  «12+» - для детей старше 12 лет       10,000,000.00   \n",
       "2532  «16+» - для детей старше 16 лет       20,000,000.00   \n",
       "2615    «6+» - для детей старше 6 лет       60,000,000.00   \n",
       "2684      «18+» - запрещено для детей                0.00   \n",
       "2788  «16+» - для детей старше 16 лет                0.00   \n",
       "2874  «12+» - для детей старше 12 лет                0.00   \n",
       "3047  «16+» - для детей старше 16 лет       19,000,000.00   \n",
       "3565  «12+» - для детей старше 12 лет                0.00   \n",
       "3675    «6+» - для детей старше 6 лет       20,000,000.00   \n",
       "3739  «16+» - для детей старше 16 лет       25,000,000.00   \n",
       "5673  «16+» - для детей старше 16 лет       20,000,000.00   \n",
       "5806    «6+» - для детей старше 6 лет       10,000,000.00   \n",
       "6008    «6+» - для детей старше 6 лет       40,000,000.00   \n",
       "6323    «6+» - для детей старше 6 лет                0.00   \n",
       "6823    «6+» - для детей старше 6 лет       60,000,000.00   \n",
       "\n",
       "      nonrefundable_support  budget                  financing_source  \\\n",
       "2053          23,000,000.00    0.00  Министерство культуры, Фонд кино   \n",
       "2058          75,000,000.00    0.00                         Фонд кино   \n",
       "2472          70,000,000.00    0.00                         Фонд кино   \n",
       "2532                   0.00    0.00                         Фонд кино   \n",
       "2615         100,000,000.00    0.00                         Фонд кино   \n",
       "2684          59,000,000.00    0.00                         Фонд кино   \n",
       "2788          35,000,000.00    0.00                         Фонд кино   \n",
       "2874           6,000,000.00    0.00             Министерство культуры   \n",
       "3047          51,000,000.00    0.00                         Фонд кино   \n",
       "3565         250,000,000.00    0.00                         Фонд кино   \n",
       "3675          20,000,000.00    0.00                         Фонд кино   \n",
       "3739          20,000,000.00    0.00                         Фонд кино   \n",
       "5673          40,000,000.00    0.00                         Фонд кино   \n",
       "5806          60,000,000.00    0.00                         Фонд кино   \n",
       "6008          40,000,000.00    0.00                         Фонд кино   \n",
       "6323         138,969,465.00    0.00                         Фонд кино   \n",
       "6823         120,000,000.00    0.00                         Фонд кино   \n",
       "\n",
       "      ratings                          genres       box_office  \n",
       "2053     6.60                       мелодрама    10,234,016.10  \n",
       "2058     6.60                           драма   446,163,511.00  \n",
       "2472     7.80           боевик,драма,криминал   196,572,438.40  \n",
       "2532     6.20                 комедия,фэнтези    67,418,974.80  \n",
       "2615     4.60  мультфильм,приключения,фэнтези   184,487,551.40  \n",
       "2684     6.30                   комедия,драма     1,957,738.51  \n",
       "2788     5.10               комедия,мелодрама    72,937,783.20  \n",
       "2874     4.30                         комедия    15,362,931.43  \n",
       "3047     6.30               комедия,мелодрама    70,299,052.00  \n",
       "3565     5.60                      фантастика 1,038,321,489.00  \n",
       "3675     5.20     мультфильм,фэнтези,семейный    55,108,014.76  \n",
       "3739     4.80                         комедия    50,451,949.00  \n",
       "5673     5.80                   триллер,драма   225,196,400.03  \n",
       "5806     5.00              мультфильм,детский   106,514,301.03  \n",
       "6008     5.20      мультфильм,фэнтези,детский    83,366,328.66  \n",
       "6323      NaN                             NaN     1,334,699.40  \n",
       "6823     6.20  мультфильм,комедия,приключения   147,606,826.51  "
      ]
     },
     "execution_count": 36,
     "metadata": {},
     "output_type": "execute_result"
    }
   ],
   "source": [
    "data.query('budget == 0')"
   ]
  },
  {
   "cell_type": "markdown",
   "metadata": {},
   "source": [
    "Есть строки где бюджет равен 0 при этом изестны возвратные и невозвратные средства, заполним эти значения бюджета минимально возможным известным значением (возвратные + невозвратные) с учетом медианного значения доли средств господержки.<br>"
   ]
  },
  {
   "cell_type": "code",
   "execution_count": 37,
   "metadata": {},
   "outputs": [],
   "source": [
    "data['state_percent'] = ((data['refundable_support'] + data['nonrefundable_support']) / data['budget'])*100"
   ]
  },
  {
   "cell_type": "code",
   "execution_count": 38,
   "metadata": {},
   "outputs": [],
   "source": [
    "data['budget'] = np.where(data['budget'] == 0, (data['refundable_support'] + data['nonrefundable_support'])/(data['state_percent'].median())*100, data['budget'])"
   ]
  },
  {
   "cell_type": "markdown",
   "metadata": {},
   "source": [
    "проверка: превышает ли где-то сумма государственной поддержки бюджет фильма"
   ]
  },
  {
   "cell_type": "code",
   "execution_count": 39,
   "metadata": {
    "scrolled": true
   },
   "outputs": [
    {
     "data": {
      "text/plain": [
       "0"
      ]
     },
     "execution_count": 39,
     "metadata": {},
     "output_type": "execute_result"
    }
   ],
   "source": [
    "data[data['budget'] < data['refundable_support'] + data['nonrefundable_support']].shape[0]"
   ]
  },
  {
   "cell_type": "markdown",
   "metadata": {
    "id": "7GgW-UpAgFyS"
   },
   "source": [
    "Создадим новый столбец с информацией о годе проката."
   ]
  },
  {
   "cell_type": "code",
   "execution_count": 40,
   "metadata": {
    "id": "I-yd1DkWgFyT"
   },
   "outputs": [],
   "source": [
    "data['show_year'] = data['show_start_date'].dt.year"
   ]
  },
  {
   "cell_type": "markdown",
   "metadata": {
    "id": "nFTDLDYOgFyT"
   },
   "source": [
    "- Создайте два столбца: с именем и фамилией главного режиссёра и основным жанром фильма. В столбцы войдут первые значения из списка режиссёров и жанров соответственно.\n",
    "\n",
    "<div id=\"accordion\">\n",
    "    <div class=\"card\">\n",
    "        <div class=\"card-header\" id=\"headingThree\">\n",
    "            <button class=\"btn btn-link collapsed\" data-toggle=\"collapse\" data-target=\"#collapseHint_2\" aria-expanded=\"false\" aria-controls=\"collapseHint_2\">Подсказка</button>\n",
    "        </div>\n",
    "        <div id=\"collapseHint_2\" class=\"collapse\" aria-labelledby=\"headingThree\" data-parent=\"#accordion\">\n",
    "            <div class=\"card-body\">\n",
    "Чтобы создать такие столбцы, лучше всего использовать собственную функцию. Эту функцию можно применить к двум столбцам сразу. \n",
    "            </div>\n",
    "        </div>\n",
    "    </div>\n",
    "</div>"
   ]
  },
  {
   "cell_type": "code",
   "execution_count": 41,
   "metadata": {
    "id": "LSbRZKbMgFyU"
   },
   "outputs": [],
   "source": [
    "def split (row):\n",
    "    cell = row.split(sep = ',')\n",
    "    return cell[0]"
   ]
  },
  {
   "cell_type": "code",
   "execution_count": 42,
   "metadata": {},
   "outputs": [],
   "source": [
    "data['main_director'] = data.query('not director.isna()')['director'].apply(split)"
   ]
  },
  {
   "cell_type": "code",
   "execution_count": 43,
   "metadata": {},
   "outputs": [],
   "source": [
    "data['main_genres'] = data.query('not genres.isna()')['genres'].apply(split)"
   ]
  },
  {
   "cell_type": "markdown",
   "metadata": {},
   "source": [
    "Доля господдержки от общего бюджета фильма:"
   ]
  },
  {
   "cell_type": "code",
   "execution_count": 45,
   "metadata": {},
   "outputs": [
    {
     "data": {
      "text/plain": [
       "1281   33.37\n",
       "1448   70.00\n",
       "1498   61.27\n",
       "1524   69.01\n",
       "1792   62.48\n",
       "        ... \n",
       "7464   51.02\n",
       "7466   52.63\n",
       "7474   52.97\n",
       "7476   65.00\n",
       "7478   66.60\n",
       "Name: state_percent, Length: 332, dtype: float64"
      ]
     },
     "execution_count": 45,
     "metadata": {},
     "output_type": "execute_result"
    }
   ],
   "source": [
    "data.query('not state_percent.isna()')['state_percent']"
   ]
  },
  {
   "cell_type": "markdown",
   "metadata": {
    "id": "6t4EukPLgFyV"
   },
   "source": [
    "### Исследовательский анализ данных\n"
   ]
  },
  {
   "cell_type": "markdown",
   "metadata": {
    "id": "vAH8WCzugFyV"
   },
   "source": [
    "Выясним сколько фильмов выходило в прокат каждый год и какую долю составляют фильмы с указанной информацией о прокате в кинотеатрах."
   ]
  },
  {
   "cell_type": "code",
   "execution_count": 46,
   "metadata": {},
   "outputs": [
    {
     "data": {
      "text/html": [
       "<div>\n",
       "<style scoped>\n",
       "    .dataframe tbody tr th:only-of-type {\n",
       "        vertical-align: middle;\n",
       "    }\n",
       "\n",
       "    .dataframe tbody tr th {\n",
       "        vertical-align: top;\n",
       "    }\n",
       "\n",
       "    .dataframe thead tr th {\n",
       "        text-align: left;\n",
       "    }\n",
       "\n",
       "    .dataframe thead tr:last-of-type th {\n",
       "        text-align: right;\n",
       "    }\n",
       "</style>\n",
       "<table border=\"1\" class=\"dataframe\">\n",
       "  <thead>\n",
       "    <tr>\n",
       "      <th></th>\n",
       "      <th>count</th>\n",
       "    </tr>\n",
       "    <tr>\n",
       "      <th></th>\n",
       "      <th>puNumber</th>\n",
       "    </tr>\n",
       "    <tr>\n",
       "      <th>show_year</th>\n",
       "      <th></th>\n",
       "    </tr>\n",
       "  </thead>\n",
       "  <tbody>\n",
       "    <tr>\n",
       "      <th>2010</th>\n",
       "      <td>983</td>\n",
       "    </tr>\n",
       "    <tr>\n",
       "      <th>2011</th>\n",
       "      <td>622</td>\n",
       "    </tr>\n",
       "    <tr>\n",
       "      <th>2012</th>\n",
       "      <td>593</td>\n",
       "    </tr>\n",
       "    <tr>\n",
       "      <th>2013</th>\n",
       "      <td>630</td>\n",
       "    </tr>\n",
       "    <tr>\n",
       "      <th>2014</th>\n",
       "      <td>807</td>\n",
       "    </tr>\n",
       "    <tr>\n",
       "      <th>2015</th>\n",
       "      <td>705</td>\n",
       "    </tr>\n",
       "    <tr>\n",
       "      <th>2016</th>\n",
       "      <td>818</td>\n",
       "    </tr>\n",
       "    <tr>\n",
       "      <th>2017</th>\n",
       "      <td>505</td>\n",
       "    </tr>\n",
       "    <tr>\n",
       "      <th>2018</th>\n",
       "      <td>891</td>\n",
       "    </tr>\n",
       "    <tr>\n",
       "      <th>2019</th>\n",
       "      <td>930</td>\n",
       "    </tr>\n",
       "  </tbody>\n",
       "</table>\n",
       "</div>"
      ],
      "text/plain": [
       "             count\n",
       "          puNumber\n",
       "show_year         \n",
       "2010           983\n",
       "2011           622\n",
       "2012           593\n",
       "2013           630\n",
       "2014           807\n",
       "2015           705\n",
       "2016           818\n",
       "2017           505\n",
       "2018           891\n",
       "2019           930"
      ]
     },
     "execution_count": 46,
     "metadata": {},
     "output_type": "execute_result"
    },
    {
     "data": {
      "image/png": "[encoded data removed]",
      "text/plain": [
       "<Figure size 1080x360 with 1 Axes>"
      ]
     },
     "metadata": {
      "needs_background": "light"
     },
     "output_type": "display_data"
    }
   ],
   "source": [
    "data.pivot_table(index = 'show_year', values = ['puNumber'], aggfunc=['count']).plot(style = '-', figsize = (15,5))\n",
    "data.pivot_table(index = 'show_year', values = ['puNumber'], aggfunc=['count'])"
   ]
  },
  {
   "cell_type": "code",
   "execution_count": 47,
   "metadata": {
    "id": "ABeV47y7gFyW",
    "scrolled": false
   },
   "outputs": [
    {
     "data": {
      "text/html": [
       "<div>\n",
       "<style scoped>\n",
       "    .dataframe tbody tr th:only-of-type {\n",
       "        vertical-align: middle;\n",
       "    }\n",
       "\n",
       "    .dataframe tbody tr th {\n",
       "        vertical-align: top;\n",
       "    }\n",
       "\n",
       "    .dataframe thead th {\n",
       "        text-align: right;\n",
       "    }\n",
       "</style>\n",
       "<table border=\"1\" class=\"dataframe\">\n",
       "  <thead>\n",
       "    <tr style=\"text-align: right;\">\n",
       "      <th></th>\n",
       "      <th>count</th>\n",
       "    </tr>\n",
       "    <tr>\n",
       "      <th>show_year</th>\n",
       "      <th></th>\n",
       "    </tr>\n",
       "  </thead>\n",
       "  <tbody>\n",
       "    <tr>\n",
       "      <th>2010</th>\n",
       "      <td>10.68</td>\n",
       "    </tr>\n",
       "    <tr>\n",
       "      <th>2011</th>\n",
       "      <td>17.52</td>\n",
       "    </tr>\n",
       "    <tr>\n",
       "      <th>2012</th>\n",
       "      <td>21.59</td>\n",
       "    </tr>\n",
       "    <tr>\n",
       "      <th>2013</th>\n",
       "      <td>29.21</td>\n",
       "    </tr>\n",
       "    <tr>\n",
       "      <th>2014</th>\n",
       "      <td>34.57</td>\n",
       "    </tr>\n",
       "    <tr>\n",
       "      <th>2015</th>\n",
       "      <td>65.96</td>\n",
       "    </tr>\n",
       "    <tr>\n",
       "      <th>2016</th>\n",
       "      <td>64.30</td>\n",
       "    </tr>\n",
       "    <tr>\n",
       "      <th>2017</th>\n",
       "      <td>70.69</td>\n",
       "    </tr>\n",
       "    <tr>\n",
       "      <th>2018</th>\n",
       "      <td>53.31</td>\n",
       "    </tr>\n",
       "    <tr>\n",
       "      <th>2019</th>\n",
       "      <td>56.99</td>\n",
       "    </tr>\n",
       "  </tbody>\n",
       "</table>\n",
       "</div>"
      ],
      "text/plain": [
       "           count\n",
       "show_year       \n",
       "2010       10.68\n",
       "2011       17.52\n",
       "2012       21.59\n",
       "2013       29.21\n",
       "2014       34.57\n",
       "2015       65.96\n",
       "2016       64.30\n",
       "2017       70.69\n",
       "2018       53.31\n",
       "2019       56.99"
      ]
     },
     "execution_count": 47,
     "metadata": {},
     "output_type": "execute_result"
    },
    {
     "data": {
      "image/png": "[encoded data removed]",
      "text/plain": [
       "<Figure size 1080x360 with 1 Axes>"
      ]
     },
     "metadata": {
      "needs_background": "light"
     },
     "output_type": "display_data"
    }
   ],
   "source": [
    "b = data.pivot_table(index = 'show_year', values = ['puNumber'], aggfunc=['count'])\n",
    "a = data.pivot_table(index = 'show_year', values = ['box_office'], aggfunc=['count'])\n",
    "a.columns = ['count']\n",
    "b.columns = ['count']\n",
    "((a / b)*100).plot(style = '-', figsize = (15,5))\n",
    "((a / b)*100)"
   ]
  },
  {
   "cell_type": "markdown",
   "metadata": {},
   "source": [
    "в период с 2010 по 2019 год выходит от 505 до 985 фильмов.<br>\n",
    "наибольшее количество фильмов было выпущено в 2010 и в 2019 году<br>\n",
    "в 2017 был спад, было выпущено в 1,5 раза меньше фильмов чем за соседние даты<br>\n",
    "процент известных данных о прокате возрастает с каждым годом, с 10% в 2010 до 70% в 2017<br>\n",
    "известных жанных о прокате за 2018 - 2019 годы ~ 55%"
   ]
  },
  {
   "cell_type": "markdown",
   "metadata": {
    "id": "BEOdcIrIgFyW"
   },
   "source": [
    "Изменение динамики проката по годам."
   ]
  },
  {
   "cell_type": "code",
   "execution_count": 48,
   "metadata": {
    "id": "tfEhofYvgFyX",
    "scrolled": false
   },
   "outputs": [
    {
     "data": {
      "text/html": [
       "<div>\n",
       "<style scoped>\n",
       "    .dataframe tbody tr th:only-of-type {\n",
       "        vertical-align: middle;\n",
       "    }\n",
       "\n",
       "    .dataframe tbody tr th {\n",
       "        vertical-align: top;\n",
       "    }\n",
       "\n",
       "    .dataframe thead tr th {\n",
       "        text-align: left;\n",
       "    }\n",
       "\n",
       "    .dataframe thead tr:last-of-type th {\n",
       "        text-align: right;\n",
       "    }\n",
       "</style>\n",
       "<table border=\"1\" class=\"dataframe\">\n",
       "  <thead>\n",
       "    <tr>\n",
       "      <th></th>\n",
       "      <th>sum</th>\n",
       "      <th>count</th>\n",
       "    </tr>\n",
       "    <tr>\n",
       "      <th></th>\n",
       "      <th>box_office</th>\n",
       "      <th>box_office</th>\n",
       "    </tr>\n",
       "    <tr>\n",
       "      <th>show_year</th>\n",
       "      <th></th>\n",
       "      <th></th>\n",
       "    </tr>\n",
       "  </thead>\n",
       "  <tbody>\n",
       "    <tr>\n",
       "      <th>2010</th>\n",
       "      <td>2,428,654.00</td>\n",
       "      <td>105</td>\n",
       "    </tr>\n",
       "    <tr>\n",
       "      <th>2011</th>\n",
       "      <td>14,102,765.00</td>\n",
       "      <td>109</td>\n",
       "    </tr>\n",
       "    <tr>\n",
       "      <th>2012</th>\n",
       "      <td>6,955,423.00</td>\n",
       "      <td>128</td>\n",
       "    </tr>\n",
       "    <tr>\n",
       "      <th>2013</th>\n",
       "      <td>29,799,706.20</td>\n",
       "      <td>184</td>\n",
       "    </tr>\n",
       "    <tr>\n",
       "      <th>2014</th>\n",
       "      <td>7,444,951,859.20</td>\n",
       "      <td>279</td>\n",
       "    </tr>\n",
       "    <tr>\n",
       "      <th>2015</th>\n",
       "      <td>39,497,365,196.40</td>\n",
       "      <td>465</td>\n",
       "    </tr>\n",
       "    <tr>\n",
       "      <th>2016</th>\n",
       "      <td>47,866,299,741.91</td>\n",
       "      <td>526</td>\n",
       "    </tr>\n",
       "    <tr>\n",
       "      <th>2017</th>\n",
       "      <td>48,563,707,217.51</td>\n",
       "      <td>357</td>\n",
       "    </tr>\n",
       "    <tr>\n",
       "      <th>2018</th>\n",
       "      <td>49,668,403,134.32</td>\n",
       "      <td>475</td>\n",
       "    </tr>\n",
       "    <tr>\n",
       "      <th>2019</th>\n",
       "      <td>48,425,708,779.59</td>\n",
       "      <td>530</td>\n",
       "    </tr>\n",
       "  </tbody>\n",
       "</table>\n",
       "</div>"
      ],
      "text/plain": [
       "                        sum      count\n",
       "                 box_office box_office\n",
       "show_year                             \n",
       "2010           2,428,654.00        105\n",
       "2011          14,102,765.00        109\n",
       "2012           6,955,423.00        128\n",
       "2013          29,799,706.20        184\n",
       "2014       7,444,951,859.20        279\n",
       "2015      39,497,365,196.40        465\n",
       "2016      47,866,299,741.91        526\n",
       "2017      48,563,707,217.51        357\n",
       "2018      49,668,403,134.32        475\n",
       "2019      48,425,708,779.59        530"
      ]
     },
     "execution_count": 48,
     "metadata": {},
     "output_type": "execute_result"
    },
    {
     "data": {
      "image/png": "[encoded data removed]",
      "text/plain": [
       "<Figure size 1080x360 with 1 Axes>"
      ]
     },
     "metadata": {
      "needs_background": "light"
     },
     "output_type": "display_data"
    }
   ],
   "source": [
    "data.pivot_table(index = 'show_year', values = ['box_office'], aggfunc=['sum']).plot(style = '-', figsize = (15,5))\n",
    "data.pivot_table(index = 'show_year', values = ['box_office'], aggfunc=['sum','count'])"
   ]
  },
  {
   "cell_type": "markdown",
   "metadata": {},
   "source": [
    "основная масса фильмов с известными данными о прокате была выпущена с 2015 по 2019 годы, за этот период минимальные сборы были в 2014 году, в дальнейшем сумма сборов не менялась за последующие годы, несмотря на то что выходило разное число фильмов<br>"
   ]
  },
  {
   "cell_type": "markdown",
   "metadata": {
    "id": "G-7qS-N-gFyY"
   },
   "source": [
    "Средняя и медианная сумма сборов для каждого года."
   ]
  },
  {
   "cell_type": "code",
   "execution_count": 49,
   "metadata": {
    "id": "jmp-rgg9gFyY",
    "scrolled": true
   },
   "outputs": [
    {
     "data": {
      "text/html": [
       "<div>\n",
       "<style scoped>\n",
       "    .dataframe tbody tr th:only-of-type {\n",
       "        vertical-align: middle;\n",
       "    }\n",
       "\n",
       "    .dataframe tbody tr th {\n",
       "        vertical-align: top;\n",
       "    }\n",
       "\n",
       "    .dataframe thead tr th {\n",
       "        text-align: left;\n",
       "    }\n",
       "\n",
       "    .dataframe thead tr:last-of-type th {\n",
       "        text-align: right;\n",
       "    }\n",
       "</style>\n",
       "<table border=\"1\" class=\"dataframe\">\n",
       "  <thead>\n",
       "    <tr>\n",
       "      <th></th>\n",
       "      <th>mean</th>\n",
       "      <th>median</th>\n",
       "      <th>count</th>\n",
       "    </tr>\n",
       "    <tr>\n",
       "      <th></th>\n",
       "      <th>box_office</th>\n",
       "      <th>box_office</th>\n",
       "      <th>box_office</th>\n",
       "    </tr>\n",
       "    <tr>\n",
       "      <th>show_year</th>\n",
       "      <th></th>\n",
       "      <th></th>\n",
       "      <th></th>\n",
       "    </tr>\n",
       "  </thead>\n",
       "  <tbody>\n",
       "    <tr>\n",
       "      <th>2010</th>\n",
       "      <td>23,130.04</td>\n",
       "      <td>1,700.00</td>\n",
       "      <td>105</td>\n",
       "    </tr>\n",
       "    <tr>\n",
       "      <th>2011</th>\n",
       "      <td>129,383.17</td>\n",
       "      <td>3,000.00</td>\n",
       "      <td>109</td>\n",
       "    </tr>\n",
       "    <tr>\n",
       "      <th>2012</th>\n",
       "      <td>54,339.24</td>\n",
       "      <td>5,660.00</td>\n",
       "      <td>128</td>\n",
       "    </tr>\n",
       "    <tr>\n",
       "      <th>2013</th>\n",
       "      <td>161,954.92</td>\n",
       "      <td>3,522.50</td>\n",
       "      <td>184</td>\n",
       "    </tr>\n",
       "    <tr>\n",
       "      <th>2014</th>\n",
       "      <td>26,684,415.27</td>\n",
       "      <td>18,160.00</td>\n",
       "      <td>279</td>\n",
       "    </tr>\n",
       "    <tr>\n",
       "      <th>2015</th>\n",
       "      <td>84,940,570.31</td>\n",
       "      <td>4,920,933.00</td>\n",
       "      <td>465</td>\n",
       "    </tr>\n",
       "    <tr>\n",
       "      <th>2016</th>\n",
       "      <td>91,000,569.85</td>\n",
       "      <td>3,846,679.41</td>\n",
       "      <td>526</td>\n",
       "    </tr>\n",
       "    <tr>\n",
       "      <th>2017</th>\n",
       "      <td>136,032,793.33</td>\n",
       "      <td>9,968,340.00</td>\n",
       "      <td>357</td>\n",
       "    </tr>\n",
       "    <tr>\n",
       "      <th>2018</th>\n",
       "      <td>104,565,059.23</td>\n",
       "      <td>8,891,102.21</td>\n",
       "      <td>475</td>\n",
       "    </tr>\n",
       "    <tr>\n",
       "      <th>2019</th>\n",
       "      <td>91,369,261.85</td>\n",
       "      <td>4,627,798.34</td>\n",
       "      <td>530</td>\n",
       "    </tr>\n",
       "  </tbody>\n",
       "</table>\n",
       "</div>"
      ],
      "text/plain": [
       "                    mean       median      count\n",
       "              box_office   box_office box_office\n",
       "show_year                                       \n",
       "2010           23,130.04     1,700.00        105\n",
       "2011          129,383.17     3,000.00        109\n",
       "2012           54,339.24     5,660.00        128\n",
       "2013          161,954.92     3,522.50        184\n",
       "2014       26,684,415.27    18,160.00        279\n",
       "2015       84,940,570.31 4,920,933.00        465\n",
       "2016       91,000,569.85 3,846,679.41        526\n",
       "2017      136,032,793.33 9,968,340.00        357\n",
       "2018      104,565,059.23 8,891,102.21        475\n",
       "2019       91,369,261.85 4,627,798.34        530"
      ]
     },
     "execution_count": 49,
     "metadata": {},
     "output_type": "execute_result"
    }
   ],
   "source": [
    "data.pivot_table(index = 'show_year', values = ['box_office'], aggfunc=['mean','median','count'])"
   ]
  },
  {
   "cell_type": "markdown",
   "metadata": {},
   "source": [
    "медианная сумма сборов, за 2016 и 2019 примерно в 2 раза меньше чем за 2017 и 2018<br>\n",
    "при этом средние значения не так сильно отличаются, во видимому в 2016 и 2019, выходили блокбастеры, с большими сборами, что и определило высокие сборы за год<br>"
   ]
  },
  {
   "cell_type": "markdown",
   "metadata": {
    "id": "Ok89WFwJgFyZ"
   },
   "source": [
    "Зависимсость сборов от возрастных ограничений"
   ]
  },
  {
   "cell_type": "code",
   "execution_count": 50,
   "metadata": {
    "id": "jsSbEqfjgFya",
    "scrolled": false
   },
   "outputs": [
    {
     "data": {
      "text/html": [
       "<div>\n",
       "<style scoped>\n",
       "    .dataframe tbody tr th:only-of-type {\n",
       "        vertical-align: middle;\n",
       "    }\n",
       "\n",
       "    .dataframe tbody tr th {\n",
       "        vertical-align: top;\n",
       "    }\n",
       "\n",
       "    .dataframe thead tr th {\n",
       "        text-align: left;\n",
       "    }\n",
       "\n",
       "    .dataframe thead tr:last-of-type th {\n",
       "        text-align: right;\n",
       "    }\n",
       "</style>\n",
       "<table border=\"1\" class=\"dataframe\">\n",
       "  <thead>\n",
       "    <tr>\n",
       "      <th></th>\n",
       "      <th colspan=\"5\" halign=\"left\">sum</th>\n",
       "      <th colspan=\"5\" halign=\"left\">count</th>\n",
       "    </tr>\n",
       "    <tr>\n",
       "      <th></th>\n",
       "      <th colspan=\"5\" halign=\"left\">box_office</th>\n",
       "      <th colspan=\"5\" halign=\"left\">box_office</th>\n",
       "    </tr>\n",
       "    <tr>\n",
       "      <th>age_restriction</th>\n",
       "      <th>«0+» - для любой зрительской аудитории</th>\n",
       "      <th>«12+» - для детей старше 12 лет</th>\n",
       "      <th>«16+» - для детей старше 16 лет</th>\n",
       "      <th>«18+» - запрещено для детей</th>\n",
       "      <th>«6+» - для детей старше 6 лет</th>\n",
       "      <th>«0+» - для любой зрительской аудитории</th>\n",
       "      <th>«12+» - для детей старше 12 лет</th>\n",
       "      <th>«16+» - для детей старше 16 лет</th>\n",
       "      <th>«18+» - запрещено для детей</th>\n",
       "      <th>«6+» - для детей старше 6 лет</th>\n",
       "    </tr>\n",
       "    <tr>\n",
       "      <th>show_year</th>\n",
       "      <th></th>\n",
       "      <th></th>\n",
       "      <th></th>\n",
       "      <th></th>\n",
       "      <th></th>\n",
       "      <th></th>\n",
       "      <th></th>\n",
       "      <th></th>\n",
       "      <th></th>\n",
       "      <th></th>\n",
       "    </tr>\n",
       "  </thead>\n",
       "  <tbody>\n",
       "    <tr>\n",
       "      <th>2015</th>\n",
       "      <td>379,054,578.37</td>\n",
       "      <td>13,616,082,008.91</td>\n",
       "      <td>11,368,120,870.27</td>\n",
       "      <td>5,432,308,367.44</td>\n",
       "      <td>8,701,799,371.41</td>\n",
       "      <td>39</td>\n",
       "      <td>73</td>\n",
       "      <td>168</td>\n",
       "      <td>132</td>\n",
       "      <td>53</td>\n",
       "    </tr>\n",
       "    <tr>\n",
       "      <th>2016</th>\n",
       "      <td>150,228,848.67</td>\n",
       "      <td>12,204,446,524.39</td>\n",
       "      <td>16,664,548,541.74</td>\n",
       "      <td>6,793,929,818.87</td>\n",
       "      <td>12,053,146,008.24</td>\n",
       "      <td>41</td>\n",
       "      <td>82</td>\n",
       "      <td>182</td>\n",
       "      <td>151</td>\n",
       "      <td>70</td>\n",
       "    </tr>\n",
       "    <tr>\n",
       "      <th>2017</th>\n",
       "      <td>229,598,930.00</td>\n",
       "      <td>7,851,427,660.67</td>\n",
       "      <td>18,745,042,900.06</td>\n",
       "      <td>9,651,495,581.02</td>\n",
       "      <td>12,086,142,145.76</td>\n",
       "      <td>3</td>\n",
       "      <td>41</td>\n",
       "      <td>121</td>\n",
       "      <td>147</td>\n",
       "      <td>45</td>\n",
       "    </tr>\n",
       "    <tr>\n",
       "      <th>2018</th>\n",
       "      <td>32,449,002.11</td>\n",
       "      <td>14,267,291,660.69</td>\n",
       "      <td>16,503,602,346.96</td>\n",
       "      <td>8,760,085,501.15</td>\n",
       "      <td>10,104,974,623.41</td>\n",
       "      <td>5</td>\n",
       "      <td>67</td>\n",
       "      <td>156</td>\n",
       "      <td>179</td>\n",
       "      <td>68</td>\n",
       "    </tr>\n",
       "    <tr>\n",
       "      <th>2019</th>\n",
       "      <td>17,746,066.82</td>\n",
       "      <td>12,680,198,773.67</td>\n",
       "      <td>12,753,418,984.60</td>\n",
       "      <td>10,121,796,303.64</td>\n",
       "      <td>12,852,548,650.86</td>\n",
       "      <td>3</td>\n",
       "      <td>85</td>\n",
       "      <td>178</td>\n",
       "      <td>183</td>\n",
       "      <td>81</td>\n",
       "    </tr>\n",
       "  </tbody>\n",
       "</table>\n",
       "</div>"
      ],
      "text/plain": [
       "                                                   sum  \\\n",
       "                                            box_office   \n",
       "age_restriction «0+» - для любой зрительской аудитории   \n",
       "show_year                                                \n",
       "2015                                    379,054,578.37   \n",
       "2016                                    150,228,848.67   \n",
       "2017                                    229,598,930.00   \n",
       "2018                                     32,449,002.11   \n",
       "2019                                     17,746,066.82   \n",
       "\n",
       "                                                 \\\n",
       "                                                  \n",
       "age_restriction «12+» - для детей старше 12 лет   \n",
       "show_year                                         \n",
       "2015                          13,616,082,008.91   \n",
       "2016                          12,204,446,524.39   \n",
       "2017                           7,851,427,660.67   \n",
       "2018                          14,267,291,660.69   \n",
       "2019                          12,680,198,773.67   \n",
       "\n",
       "                                                                             \\\n",
       "                                                                              \n",
       "age_restriction «16+» - для детей старше 16 лет «18+» - запрещено для детей   \n",
       "show_year                                                                     \n",
       "2015                          11,368,120,870.27            5,432,308,367.44   \n",
       "2016                          16,664,548,541.74            6,793,929,818.87   \n",
       "2017                          18,745,042,900.06            9,651,495,581.02   \n",
       "2018                          16,503,602,346.96            8,760,085,501.15   \n",
       "2019                          12,753,418,984.60           10,121,796,303.64   \n",
       "\n",
       "                                               \\\n",
       "                                                \n",
       "age_restriction «6+» - для детей старше 6 лет   \n",
       "show_year                                       \n",
       "2015                         8,701,799,371.41   \n",
       "2016                        12,053,146,008.24   \n",
       "2017                        12,086,142,145.76   \n",
       "2018                        10,104,974,623.41   \n",
       "2019                        12,852,548,650.86   \n",
       "\n",
       "                                                 count  \\\n",
       "                                            box_office   \n",
       "age_restriction «0+» - для любой зрительской аудитории   \n",
       "show_year                                                \n",
       "2015                                                39   \n",
       "2016                                                41   \n",
       "2017                                                 3   \n",
       "2018                                                 5   \n",
       "2019                                                 3   \n",
       "\n",
       "                                                 \\\n",
       "                                                  \n",
       "age_restriction «12+» - для детей старше 12 лет   \n",
       "show_year                                         \n",
       "2015                                         73   \n",
       "2016                                         82   \n",
       "2017                                         41   \n",
       "2018                                         67   \n",
       "2019                                         85   \n",
       "\n",
       "                                                                             \\\n",
       "                                                                              \n",
       "age_restriction «16+» - для детей старше 16 лет «18+» - запрещено для детей   \n",
       "show_year                                                                     \n",
       "2015                                        168                         132   \n",
       "2016                                        182                         151   \n",
       "2017                                        121                         147   \n",
       "2018                                        156                         179   \n",
       "2019                                        178                         183   \n",
       "\n",
       "                                               \n",
       "                                               \n",
       "age_restriction «6+» - для детей старше 6 лет  \n",
       "show_year                                      \n",
       "2015                                       53  \n",
       "2016                                       70  \n",
       "2017                                       45  \n",
       "2018                                       68  \n",
       "2019                                       81  "
      ]
     },
     "execution_count": 50,
     "metadata": {},
     "output_type": "execute_result"
    }
   ],
   "source": [
    "data.query('show_year >= 2015').pivot_table(index = 'show_year', columns='age_restriction', values = ['box_office'], aggfunc=['sum', 'count'])"
   ]
  },
  {
   "cell_type": "code",
   "execution_count": 51,
   "metadata": {},
   "outputs": [
    {
     "data": {
      "text/plain": [
       "                 age_restriction                       \n",
       "sum  box_office  «0+» - для любой зрительской аудитории      809,077,425.97\n",
       "                 «12+» - для детей старше 12 лет          60,619,446,628.33\n",
       "                 «16+» - для детей старше 16 лет          76,034,733,643.63\n",
       "                 «18+» - запрещено для детей              40,759,615,572.12\n",
       "                 «6+» - для детей старше 6 лет            55,798,610,799.68\n",
       "dtype: float64"
      ]
     },
     "execution_count": 51,
     "metadata": {},
     "output_type": "execute_result"
    }
   ],
   "source": [
    "data.query('show_year >= 2015').pivot_table(index = 'show_year', columns='age_restriction', values = ['box_office'], aggfunc=['sum']).sum()"
   ]
  },
  {
   "cell_type": "code",
   "execution_count": 52,
   "metadata": {
    "scrolled": false
   },
   "outputs": [
    {
     "data": {
      "text/plain": [
       "count            91.00\n",
       "mean      8,890,960.72\n",
       "std      29,003,523.95\n",
       "min               0.00\n",
       "25%         353,599.00\n",
       "50%       2,943,318.70\n",
       "75%       4,511,473.97\n",
       "max     206,478,186.00\n",
       "Name: box_office, dtype: float64"
      ]
     },
     "execution_count": 52,
     "metadata": {},
     "output_type": "execute_result"
    },
    {
     "data": {
      "image/png": "[encoded data removed]",
      "text/plain": [
       "<Figure size 576x576 with 1 Axes>"
      ]
     },
     "metadata": {
      "needs_background": "light"
     },
     "output_type": "display_data"
    }
   ],
   "source": [
    "data.query('age_restriction == \"«0+» - для любой зрительской аудитории\" and show_year >= 2015').boxplot('box_office', figsize=(8, 8)).set_ylim(0, 10000000)\n",
    "data.query('age_restriction == \"«0+» - для любой зрительской аудитории\"and show_year >= 2015')['box_office'].describe()"
   ]
  },
  {
   "cell_type": "code",
   "execution_count": 53,
   "metadata": {},
   "outputs": [
    {
     "data": {
      "text/plain": [
       "count             348.00\n",
       "mean      174,193,812.15\n",
       "std       380,149,277.52\n",
       "min                 0.00\n",
       "25%           615,594.25\n",
       "50%         5,065,044.25\n",
       "75%       134,070,320.07\n",
       "max     3,073,568,690.79\n",
       "Name: box_office, dtype: float64"
      ]
     },
     "execution_count": 53,
     "metadata": {},
     "output_type": "execute_result"
    },
    {
     "data": {
      "image/png": "[encoded data removed]",
      "text/plain": [
       "<Figure size 576x576 with 1 Axes>"
      ]
     },
     "metadata": {
      "needs_background": "light"
     },
     "output_type": "display_data"
    }
   ],
   "source": [
    "data.query('age_restriction == \"«12+» - для детей старше 12 лет\" and show_year >= 2015').boxplot('box_office', figsize=(8, 8)).set_ylim(0, 100000000)\n",
    "data.query('age_restriction == \"«12+» - для детей старше 12 лет\" and show_year >= 2015')['box_office'].describe()"
   ]
  },
  {
   "cell_type": "code",
   "execution_count": 54,
   "metadata": {},
   "outputs": [
    {
     "data": {
      "text/plain": [
       "count             805.00\n",
       "mean       94,453,085.27\n",
       "std       254,406,434.04\n",
       "min                 0.00\n",
       "25%         1,097,314.00\n",
       "50%         5,600,007.00\n",
       "75%        43,922,035.70\n",
       "max     2,576,613,776.83\n",
       "Name: box_office, dtype: float64"
      ]
     },
     "execution_count": 54,
     "metadata": {},
     "output_type": "execute_result"
    },
    {
     "data": {
      "image/png": "[encoded data removed]",
      "text/plain": [
       "<Figure size 576x576 with 1 Axes>"
      ]
     },
     "metadata": {
      "needs_background": "light"
     },
     "output_type": "display_data"
    }
   ],
   "source": [
    "data.query('age_restriction == \"«16+» - для детей старше 16 лет\" and show_year >= 2015').boxplot('box_office', figsize=(8, 8)).set_ylim(0, 100000000)\n",
    "data.query('age_restriction == \"«16+» - для детей старше 16 лет\" and show_year >= 2015')['box_office'].describe()"
   ]
  },
  {
   "cell_type": "code",
   "execution_count": 55,
   "metadata": {},
   "outputs": [
    {
     "data": {
      "text/plain": [
       "count             792.00\n",
       "mean       51,464,161.08\n",
       "std       153,449,857.06\n",
       "min               600.00\n",
       "25%         1,559,032.38\n",
       "50%         6,154,439.17\n",
       "75%        31,200,768.72\n",
       "max     1,890,368,076.47\n",
       "Name: box_office, dtype: float64"
      ]
     },
     "execution_count": 55,
     "metadata": {},
     "output_type": "execute_result"
    },
    {
     "data": {
      "image/png": "[encoded data removed]",
      "text/plain": [
       "<Figure size 576x576 with 1 Axes>"
      ]
     },
     "metadata": {
      "needs_background": "light"
     },
     "output_type": "display_data"
    }
   ],
   "source": [
    "data.query('age_restriction == \"«18+» - запрещено для детей\" and show_year >= 2015').boxplot('box_office', figsize=(8, 8)).set_ylim(0, 100000000)\n",
    "data.query('age_restriction == \"«18+» - запрещено для детей\" and show_year >= 2015')['box_office'].describe()"
   ]
  },
  {
   "cell_type": "code",
   "execution_count": 56,
   "metadata": {},
   "outputs": [
    {
     "data": {
      "text/plain": [
       "count             317.00\n",
       "mean      176,020,854.26\n",
       "std       381,635,082.85\n",
       "min               200.00\n",
       "25%         1,834,079.50\n",
       "50%        13,736,207.98\n",
       "75%       120,700,156.00\n",
       "max     2,779,686,144.00\n",
       "Name: box_office, dtype: float64"
      ]
     },
     "execution_count": 56,
     "metadata": {},
     "output_type": "execute_result"
    },
    {
     "data": {
      "image/png": "[encoded data removed]",
      "text/plain": [
       "<Figure size 576x576 with 1 Axes>"
      ]
     },
     "metadata": {
      "needs_background": "light"
     },
     "output_type": "display_data"
    }
   ],
   "source": [
    "data.query('age_restriction == \"«6+» - для детей старше 6 лет\" and show_year >= 2015').boxplot('box_office', figsize=(8, 8)).set_ylim(0, 300000000)\n",
    "data.query('age_restriction == \"«6+» - для детей старше 6 лет\" and show_year >= 2015')['box_office'].describe()"
   ]
  },
  {
   "cell_type": "code",
   "execution_count": 57,
   "metadata": {},
   "outputs": [
    {
     "data": {
      "text/plain": [
       "                    age_restriction                       \n",
       "mean    box_office  «0+» - для любой зрительской аудитории    20,464,319.82\n",
       "                    «12+» - для детей старше 12 лет          177,795,616.29\n",
       "                    «16+» - для детей старше 16 лет           98,317,858.72\n",
       "                    «18+» - запрещено для детей               51,210,516.79\n",
       "                    «6+» - для детей старше 6 лет            182,445,927.72\n",
       "median  box_office  «0+» - для любой зрительской аудитории     7,039,188.12\n",
       "                    «12+» - для детей старше 12 лет            8,278,051.43\n",
       "                    «16+» - для детей старше 16 лет            6,346,654.92\n",
       "                    «18+» - запрещено для детей                6,343,795.20\n",
       "                    «6+» - для детей старше 6 лет             20,592,708.40\n",
       "dtype: float64"
      ]
     },
     "execution_count": 57,
     "metadata": {},
     "output_type": "execute_result"
    }
   ],
   "source": [
    "data.query('show_year >= 2015').pivot_table(index = 'show_year', columns='age_restriction', values = ['box_office'], aggfunc=['mean', 'median']).mean()"
   ]
  },
  {
   "cell_type": "markdown",
   "metadata": {},
   "source": [
    "наименьшие сборы у фильмов «0+», кроме того после 2016 года филмы такой категории практически перестали выпускать<br>\n",
    "наиболее успешные по сборам за каждый фильм - фильмы категории «12+»<br>\n",
    "наибольшая сумма сборову фильмов «16+» в связи с тем что в этой категории выпускается больше фильмов<br>\n",
    "филмьмы 18+ с каждым годом собирают все больше и больше (рост в 2 раза с 2015 года)<br>\n",
    "по остальным категориям явных тенденций изменения суммы сборов по годам нет\n",
    "\n",
    "самое большое медианное значение сборов имеют фильмы 6+ (21 млрд), без учета блокбастеров, фильмы этой категории являются самыми успешными в прокате\n",
    "средние значения сборов для фильмов 12+ в 20 раз превышают медианные, что может свидетельствовать о том, что в этой возрастной категории снимается большинство блокбастеров."
   ]
  },
  {
   "cell_type": "markdown",
   "metadata": {
    "id": "l_Kg6Ku4gFya"
   },
   "source": [
    "### Исследование фильмов, которые получили государственную поддержку\n"
   ]
  },
  {
   "cell_type": "markdown",
   "metadata": {},
   "source": [
    "Создадим отдельный датафрейм для анализа фильмов с господдержкой"
   ]
  },
  {
   "cell_type": "code",
   "execution_count": 58,
   "metadata": {
    "id": "W9QKpjUdgFyb"
   },
   "outputs": [],
   "source": [
    "data_support = data.query('not budget.isna()')"
   ]
  },
  {
   "cell_type": "code",
   "execution_count": 59,
   "metadata": {
    "scrolled": false
   },
   "outputs": [
    {
     "name": "stdout",
     "output_type": "stream",
     "text": [
      "<class 'pandas.core.frame.DataFrame'>\n",
      "Int64Index: 332 entries, 1281 to 7478\n",
      "Data columns (total 20 columns):\n",
      " #   Column                 Non-Null Count  Dtype              \n",
      "---  ------                 --------------  -----              \n",
      " 0   title                  332 non-null    object             \n",
      " 1   puNumber               332 non-null    int64              \n",
      " 2   show_start_date        332 non-null    datetime64[ns, UTC]\n",
      " 3   type                   332 non-null    object             \n",
      " 4   film_studio            332 non-null    object             \n",
      " 5   production_country     332 non-null    object             \n",
      " 6   director               332 non-null    object             \n",
      " 7   producer               330 non-null    object             \n",
      " 8   age_restriction        332 non-null    object             \n",
      " 9   refundable_support     332 non-null    float64            \n",
      " 10  nonrefundable_support  332 non-null    float64            \n",
      " 11  budget                 332 non-null    float64            \n",
      " 12  financing_source       332 non-null    object             \n",
      " 13  ratings                316 non-null    float64            \n",
      " 14  genres                 316 non-null    object             \n",
      " 15  box_office             318 non-null    float64            \n",
      " 16  state_percent          332 non-null    float64            \n",
      " 17  show_year              332 non-null    int64              \n",
      " 18  main_director          332 non-null    object             \n",
      " 19  main_genres            316 non-null    object             \n",
      "dtypes: datetime64[ns, UTC](1), float64(6), int64(2), object(11)\n",
      "memory usage: 54.5+ KB\n"
     ]
    }
   ],
   "source": [
    "data_support.info()"
   ]
  },
  {
   "cell_type": "code",
   "execution_count": 60,
   "metadata": {},
   "outputs": [],
   "source": [
    "data_support = data_support.dropna()"
   ]
  },
  {
   "cell_type": "code",
   "execution_count": 61,
   "metadata": {
    "scrolled": true
   },
   "outputs": [
    {
     "name": "stdout",
     "output_type": "stream",
     "text": [
      "-9.9%\n"
     ]
    }
   ],
   "source": [
    "print('{:.1%}'.format(1- movies.query('not budget.isna()').shape[0] / data_support.shape[0]))"
   ]
  },
  {
   "cell_type": "markdown",
   "metadata": {},
   "source": [
    "всего, было исключено 9.9% данных о фильмах с господдержкой"
   ]
  },
  {
   "cell_type": "code",
   "execution_count": 62,
   "metadata": {},
   "outputs": [
    {
     "data": {
      "text/html": [
       "<div>\n",
       "<style scoped>\n",
       "    .dataframe tbody tr th:only-of-type {\n",
       "        vertical-align: middle;\n",
       "    }\n",
       "\n",
       "    .dataframe tbody tr th {\n",
       "        vertical-align: top;\n",
       "    }\n",
       "\n",
       "    .dataframe thead th {\n",
       "        text-align: right;\n",
       "    }\n",
       "</style>\n",
       "<table border=\"1\" class=\"dataframe\">\n",
       "  <thead>\n",
       "    <tr style=\"text-align: right;\">\n",
       "      <th></th>\n",
       "      <th>puNumber</th>\n",
       "      <th>refundable_support</th>\n",
       "      <th>nonrefundable_support</th>\n",
       "      <th>budget</th>\n",
       "      <th>ratings</th>\n",
       "      <th>box_office</th>\n",
       "      <th>state_percent</th>\n",
       "      <th>show_year</th>\n",
       "    </tr>\n",
       "  </thead>\n",
       "  <tbody>\n",
       "    <tr>\n",
       "      <th>count</th>\n",
       "      <td>302.00</td>\n",
       "      <td>302.00</td>\n",
       "      <td>302.00</td>\n",
       "      <td>302.00</td>\n",
       "      <td>302.00</td>\n",
       "      <td>302.00</td>\n",
       "      <td>302.00</td>\n",
       "      <td>302.00</td>\n",
       "    </tr>\n",
       "    <tr>\n",
       "      <th>mean</th>\n",
       "      <td>111,297,387.49</td>\n",
       "      <td>12,182,119.21</td>\n",
       "      <td>49,083,439.89</td>\n",
       "      <td>137,453,456.68</td>\n",
       "      <td>6.01</td>\n",
       "      <td>133,717,198.95</td>\n",
       "      <td>inf</td>\n",
       "      <td>2,016.66</td>\n",
       "    </tr>\n",
       "    <tr>\n",
       "      <th>std</th>\n",
       "      <td>883,317.65</td>\n",
       "      <td>25,233,947.05</td>\n",
       "      <td>58,850,821.52</td>\n",
       "      <td>189,448,628.55</td>\n",
       "      <td>1.15</td>\n",
       "      <td>333,937,156.90</td>\n",
       "      <td>NaN</td>\n",
       "      <td>1.63</td>\n",
       "    </tr>\n",
       "    <tr>\n",
       "      <th>min</th>\n",
       "      <td>111,000,115.00</td>\n",
       "      <td>0.00</td>\n",
       "      <td>0.00</td>\n",
       "      <td>9,771,388.14</td>\n",
       "      <td>1.00</td>\n",
       "      <td>1,550.00</td>\n",
       "      <td>4.40</td>\n",
       "      <td>2,013.00</td>\n",
       "    </tr>\n",
       "    <tr>\n",
       "      <th>25%</th>\n",
       "      <td>111,004,916.50</td>\n",
       "      <td>0.00</td>\n",
       "      <td>25,000,000.00</td>\n",
       "      <td>46,735,204.00</td>\n",
       "      <td>5.33</td>\n",
       "      <td>1,338,858.13</td>\n",
       "      <td>37.33</td>\n",
       "      <td>2,015.00</td>\n",
       "    </tr>\n",
       "    <tr>\n",
       "      <th>50%</th>\n",
       "      <td>111,010,267.00</td>\n",
       "      <td>0.00</td>\n",
       "      <td>30,000,000.00</td>\n",
       "      <td>78,388,683.00</td>\n",
       "      <td>6.20</td>\n",
       "      <td>18,712,773.28</td>\n",
       "      <td>59.68</td>\n",
       "      <td>2,016.00</td>\n",
       "    </tr>\n",
       "    <tr>\n",
       "      <th>75%</th>\n",
       "      <td>111,017,265.00</td>\n",
       "      <td>15,000,000.00</td>\n",
       "      <td>44,125,000.00</td>\n",
       "      <td>156,017,924.50</td>\n",
       "      <td>6.70</td>\n",
       "      <td>109,677,395.42</td>\n",
       "      <td>66.18</td>\n",
       "      <td>2,018.00</td>\n",
       "    </tr>\n",
       "    <tr>\n",
       "      <th>max</th>\n",
       "      <td>114,010,018.00</td>\n",
       "      <td>180,000,000.00</td>\n",
       "      <td>400,000,000.00</td>\n",
       "      <td>2,305,074,303.00</td>\n",
       "      <td>9.40</td>\n",
       "      <td>3,073,568,690.79</td>\n",
       "      <td>inf</td>\n",
       "      <td>2,019.00</td>\n",
       "    </tr>\n",
       "  </tbody>\n",
       "</table>\n",
       "</div>"
      ],
      "text/plain": [
       "            puNumber  refundable_support  nonrefundable_support  \\\n",
       "count         302.00              302.00                 302.00   \n",
       "mean  111,297,387.49       12,182,119.21          49,083,439.89   \n",
       "std       883,317.65       25,233,947.05          58,850,821.52   \n",
       "min   111,000,115.00                0.00                   0.00   \n",
       "25%   111,004,916.50                0.00          25,000,000.00   \n",
       "50%   111,010,267.00                0.00          30,000,000.00   \n",
       "75%   111,017,265.00       15,000,000.00          44,125,000.00   \n",
       "max   114,010,018.00      180,000,000.00         400,000,000.00   \n",
       "\n",
       "                budget  ratings       box_office  state_percent  show_year  \n",
       "count           302.00   302.00           302.00         302.00     302.00  \n",
       "mean    137,453,456.68     6.01   133,717,198.95            inf   2,016.66  \n",
       "std     189,448,628.55     1.15   333,937,156.90            NaN       1.63  \n",
       "min       9,771,388.14     1.00         1,550.00           4.40   2,013.00  \n",
       "25%      46,735,204.00     5.33     1,338,858.13          37.33   2,015.00  \n",
       "50%      78,388,683.00     6.20    18,712,773.28          59.68   2,016.00  \n",
       "75%     156,017,924.50     6.70   109,677,395.42          66.18   2,018.00  \n",
       "max   2,305,074,303.00     9.40 3,073,568,690.79            inf   2,019.00  "
      ]
     },
     "execution_count": 62,
     "metadata": {},
     "output_type": "execute_result"
    }
   ],
   "source": [
    "data_support.describe()"
   ]
  },
  {
   "cell_type": "markdown",
   "metadata": {},
   "source": [
    "Оценим бюджет, выделяемый на фильмы по годам"
   ]
  },
  {
   "cell_type": "code",
   "execution_count": 63,
   "metadata": {
    "scrolled": true
   },
   "outputs": [
    {
     "data": {
      "text/html": [
       "<div>\n",
       "<style scoped>\n",
       "    .dataframe tbody tr th:only-of-type {\n",
       "        vertical-align: middle;\n",
       "    }\n",
       "\n",
       "    .dataframe tbody tr th {\n",
       "        vertical-align: top;\n",
       "    }\n",
       "\n",
       "    .dataframe thead tr th {\n",
       "        text-align: left;\n",
       "    }\n",
       "\n",
       "    .dataframe thead tr:last-of-type th {\n",
       "        text-align: right;\n",
       "    }\n",
       "</style>\n",
       "<table border=\"1\" class=\"dataframe\">\n",
       "  <thead>\n",
       "    <tr>\n",
       "      <th></th>\n",
       "      <th>sum</th>\n",
       "      <th>count</th>\n",
       "      <th>mean</th>\n",
       "      <th>median</th>\n",
       "    </tr>\n",
       "    <tr>\n",
       "      <th></th>\n",
       "      <th>budget</th>\n",
       "      <th>budget</th>\n",
       "      <th>budget</th>\n",
       "      <th>budget</th>\n",
       "    </tr>\n",
       "    <tr>\n",
       "      <th>show_year</th>\n",
       "      <th></th>\n",
       "      <th></th>\n",
       "      <th></th>\n",
       "      <th></th>\n",
       "    </tr>\n",
       "  </thead>\n",
       "  <tbody>\n",
       "    <tr>\n",
       "      <th>2013</th>\n",
       "      <td>255,435,390.00</td>\n",
       "      <td>2</td>\n",
       "      <td>127,717,695.00</td>\n",
       "      <td>127,717,695.00</td>\n",
       "    </tr>\n",
       "    <tr>\n",
       "      <th>2014</th>\n",
       "      <td>1,279,798,913.87</td>\n",
       "      <td>15</td>\n",
       "      <td>85,319,927.59</td>\n",
       "      <td>70,876,172.00</td>\n",
       "    </tr>\n",
       "    <tr>\n",
       "      <th>2015</th>\n",
       "      <td>7,585,221,473.02</td>\n",
       "      <td>81</td>\n",
       "      <td>93,644,709.54</td>\n",
       "      <td>58,078,451.00</td>\n",
       "    </tr>\n",
       "    <tr>\n",
       "      <th>2016</th>\n",
       "      <td>7,509,486,726.95</td>\n",
       "      <td>56</td>\n",
       "      <td>134,097,977.27</td>\n",
       "      <td>72,500,067.50</td>\n",
       "    </tr>\n",
       "    <tr>\n",
       "      <th>2017</th>\n",
       "      <td>6,928,621,779.65</td>\n",
       "      <td>37</td>\n",
       "      <td>187,260,048.10</td>\n",
       "      <td>83,553,412.00</td>\n",
       "    </tr>\n",
       "    <tr>\n",
       "      <th>2018</th>\n",
       "      <td>6,798,184,220.91</td>\n",
       "      <td>53</td>\n",
       "      <td>128,267,626.81</td>\n",
       "      <td>97,713,881.40</td>\n",
       "    </tr>\n",
       "    <tr>\n",
       "      <th>2019</th>\n",
       "      <td>11,154,195,412.21</td>\n",
       "      <td>58</td>\n",
       "      <td>192,313,714.00</td>\n",
       "      <td>90,731,848.00</td>\n",
       "    </tr>\n",
       "  </tbody>\n",
       "</table>\n",
       "</div>"
      ],
      "text/plain": [
       "                        sum  count           mean         median\n",
       "                     budget budget         budget         budget\n",
       "show_year                                                       \n",
       "2013         255,435,390.00      2 127,717,695.00 127,717,695.00\n",
       "2014       1,279,798,913.87     15  85,319,927.59  70,876,172.00\n",
       "2015       7,585,221,473.02     81  93,644,709.54  58,078,451.00\n",
       "2016       7,509,486,726.95     56 134,097,977.27  72,500,067.50\n",
       "2017       6,928,621,779.65     37 187,260,048.10  83,553,412.00\n",
       "2018       6,798,184,220.91     53 128,267,626.81  97,713,881.40\n",
       "2019      11,154,195,412.21     58 192,313,714.00  90,731,848.00"
      ]
     },
     "execution_count": 63,
     "metadata": {},
     "output_type": "execute_result"
    }
   ],
   "source": [
    "data_support.pivot_table(index = 'show_year', values = 'budget', aggfunc=['sum', 'count', 'mean', 'median'])"
   ]
  },
  {
   "cell_type": "markdown",
   "metadata": {},
   "source": [
    "медианный бюджет фильмов с гос поддержкой увеличивался с 2015 по 2018 годы<br>\n",
    "в 2019 году сумма бюджетов выросла практически в 2 раза по сравнению с предыдущим годом, при этом медианный бюджет снизился на 10 процентов"
   ]
  },
  {
   "cell_type": "markdown",
   "metadata": {},
   "source": [
    "Оценим долю гос поддержки в фильмах по годам"
   ]
  },
  {
   "cell_type": "code",
   "execution_count": 64,
   "metadata": {
    "scrolled": false
   },
   "outputs": [
    {
     "data": {
      "text/html": [
       "<div>\n",
       "<style scoped>\n",
       "    .dataframe tbody tr th:only-of-type {\n",
       "        vertical-align: middle;\n",
       "    }\n",
       "\n",
       "    .dataframe tbody tr th {\n",
       "        vertical-align: top;\n",
       "    }\n",
       "\n",
       "    .dataframe thead tr th {\n",
       "        text-align: left;\n",
       "    }\n",
       "\n",
       "    .dataframe thead tr:last-of-type th {\n",
       "        text-align: right;\n",
       "    }\n",
       "</style>\n",
       "<table border=\"1\" class=\"dataframe\">\n",
       "  <thead>\n",
       "    <tr>\n",
       "      <th></th>\n",
       "      <th>count</th>\n",
       "      <th>median</th>\n",
       "    </tr>\n",
       "    <tr>\n",
       "      <th></th>\n",
       "      <th>state_percent</th>\n",
       "      <th>state_percent</th>\n",
       "    </tr>\n",
       "    <tr>\n",
       "      <th>show_year</th>\n",
       "      <th></th>\n",
       "      <th></th>\n",
       "    </tr>\n",
       "  </thead>\n",
       "  <tbody>\n",
       "    <tr>\n",
       "      <th>2013</th>\n",
       "      <td>2</td>\n",
       "      <td>47.32</td>\n",
       "    </tr>\n",
       "    <tr>\n",
       "      <th>2014</th>\n",
       "      <td>15</td>\n",
       "      <td>53.94</td>\n",
       "    </tr>\n",
       "    <tr>\n",
       "      <th>2015</th>\n",
       "      <td>81</td>\n",
       "      <td>62.29</td>\n",
       "    </tr>\n",
       "    <tr>\n",
       "      <th>2016</th>\n",
       "      <td>56</td>\n",
       "      <td>63.94</td>\n",
       "    </tr>\n",
       "    <tr>\n",
       "      <th>2017</th>\n",
       "      <td>37</td>\n",
       "      <td>47.70</td>\n",
       "    </tr>\n",
       "    <tr>\n",
       "      <th>2018</th>\n",
       "      <td>53</td>\n",
       "      <td>55.65</td>\n",
       "    </tr>\n",
       "    <tr>\n",
       "      <th>2019</th>\n",
       "      <td>58</td>\n",
       "      <td>56.19</td>\n",
       "    </tr>\n",
       "  </tbody>\n",
       "</table>\n",
       "</div>"
      ],
      "text/plain": [
       "                  count        median\n",
       "          state_percent state_percent\n",
       "show_year                            \n",
       "2013                  2         47.32\n",
       "2014                 15         53.94\n",
       "2015                 81         62.29\n",
       "2016                 56         63.94\n",
       "2017                 37         47.70\n",
       "2018                 53         55.65\n",
       "2019                 58         56.19"
      ]
     },
     "execution_count": 64,
     "metadata": {},
     "output_type": "execute_result"
    }
   ],
   "source": [
    "data_support.pivot_table(index = 'show_year', values = 'state_percent', aggfunc=['count', 'median'])"
   ]
  },
  {
   "cell_type": "markdown",
   "metadata": {},
   "source": [
    "каждый год, доля гос поддержки в фильмах 50-60 процентов"
   ]
  },
  {
   "cell_type": "markdown",
   "metadata": {},
   "source": [
    "оценим сборы филмов по годам"
   ]
  },
  {
   "cell_type": "code",
   "execution_count": 65,
   "metadata": {
    "scrolled": true
   },
   "outputs": [
    {
     "data": {
      "text/html": [
       "<div>\n",
       "<style scoped>\n",
       "    .dataframe tbody tr th:only-of-type {\n",
       "        vertical-align: middle;\n",
       "    }\n",
       "\n",
       "    .dataframe tbody tr th {\n",
       "        vertical-align: top;\n",
       "    }\n",
       "\n",
       "    .dataframe thead tr th {\n",
       "        text-align: left;\n",
       "    }\n",
       "\n",
       "    .dataframe thead tr:last-of-type th {\n",
       "        text-align: right;\n",
       "    }\n",
       "</style>\n",
       "<table border=\"1\" class=\"dataframe\">\n",
       "  <thead>\n",
       "    <tr>\n",
       "      <th></th>\n",
       "      <th>sum</th>\n",
       "      <th>count</th>\n",
       "      <th>mean</th>\n",
       "      <th>median</th>\n",
       "    </tr>\n",
       "    <tr>\n",
       "      <th></th>\n",
       "      <th>box_office</th>\n",
       "      <th>box_office</th>\n",
       "      <th>box_office</th>\n",
       "      <th>box_office</th>\n",
       "    </tr>\n",
       "    <tr>\n",
       "      <th>show_year</th>\n",
       "      <th></th>\n",
       "      <th></th>\n",
       "      <th></th>\n",
       "      <th></th>\n",
       "    </tr>\n",
       "  </thead>\n",
       "  <tbody>\n",
       "    <tr>\n",
       "      <th>2013</th>\n",
       "      <td>20,322,385.10</td>\n",
       "      <td>2</td>\n",
       "      <td>10,161,192.55</td>\n",
       "      <td>10,161,192.55</td>\n",
       "    </tr>\n",
       "    <tr>\n",
       "      <th>2014</th>\n",
       "      <td>1,017,394,026.60</td>\n",
       "      <td>15</td>\n",
       "      <td>67,826,268.44</td>\n",
       "      <td>6,277,796.20</td>\n",
       "    </tr>\n",
       "    <tr>\n",
       "      <th>2015</th>\n",
       "      <td>5,524,904,506.14</td>\n",
       "      <td>81</td>\n",
       "      <td>68,208,697.61</td>\n",
       "      <td>9,200,824.50</td>\n",
       "    </tr>\n",
       "    <tr>\n",
       "      <th>2016</th>\n",
       "      <td>6,069,533,097.10</td>\n",
       "      <td>56</td>\n",
       "      <td>108,384,519.59</td>\n",
       "      <td>20,861,320.67</td>\n",
       "    </tr>\n",
       "    <tr>\n",
       "      <th>2017</th>\n",
       "      <td>10,858,503,776.96</td>\n",
       "      <td>37</td>\n",
       "      <td>293,473,075.05</td>\n",
       "      <td>55,108,014.76</td>\n",
       "    </tr>\n",
       "    <tr>\n",
       "      <th>2018</th>\n",
       "      <td>8,485,786,739.46</td>\n",
       "      <td>53</td>\n",
       "      <td>160,109,183.76</td>\n",
       "      <td>30,325,879.15</td>\n",
       "    </tr>\n",
       "    <tr>\n",
       "      <th>2019</th>\n",
       "      <td>8,406,149,551.08</td>\n",
       "      <td>58</td>\n",
       "      <td>144,933,612.95</td>\n",
       "      <td>30,287,238.83</td>\n",
       "    </tr>\n",
       "  </tbody>\n",
       "</table>\n",
       "</div>"
      ],
      "text/plain": [
       "                        sum      count           mean        median\n",
       "                 box_office box_office     box_office    box_office\n",
       "show_year                                                          \n",
       "2013          20,322,385.10          2  10,161,192.55 10,161,192.55\n",
       "2014       1,017,394,026.60         15  67,826,268.44  6,277,796.20\n",
       "2015       5,524,904,506.14         81  68,208,697.61  9,200,824.50\n",
       "2016       6,069,533,097.10         56 108,384,519.59 20,861,320.67\n",
       "2017      10,858,503,776.96         37 293,473,075.05 55,108,014.76\n",
       "2018       8,485,786,739.46         53 160,109,183.76 30,325,879.15\n",
       "2019       8,406,149,551.08         58 144,933,612.95 30,287,238.83"
      ]
     },
     "execution_count": 65,
     "metadata": {},
     "output_type": "execute_result"
    }
   ],
   "source": [
    "data_support.pivot_table(index = 'show_year', values = 'box_office', aggfunc=['sum', 'count', 'mean', 'median'])"
   ]
  },
  {
   "cell_type": "markdown",
   "metadata": {},
   "source": [
    "общие сборы росли с 2013 по 2017 годы, затем за 2018 и 2019 года были одинаковыми, и снизились на 30 процентов от 2017 года<br>"
   ]
  },
  {
   "cell_type": "markdown",
   "metadata": {},
   "source": [
    "оценим средний рейтинг фильмов"
   ]
  },
  {
   "cell_type": "code",
   "execution_count": 66,
   "metadata": {
    "scrolled": false
   },
   "outputs": [
    {
     "data": {
      "text/html": [
       "<div>\n",
       "<style scoped>\n",
       "    .dataframe tbody tr th:only-of-type {\n",
       "        vertical-align: middle;\n",
       "    }\n",
       "\n",
       "    .dataframe tbody tr th {\n",
       "        vertical-align: top;\n",
       "    }\n",
       "\n",
       "    .dataframe thead tr th {\n",
       "        text-align: left;\n",
       "    }\n",
       "\n",
       "    .dataframe thead tr:last-of-type th {\n",
       "        text-align: right;\n",
       "    }\n",
       "</style>\n",
       "<table border=\"1\" class=\"dataframe\">\n",
       "  <thead>\n",
       "    <tr>\n",
       "      <th></th>\n",
       "      <th>count</th>\n",
       "      <th>mean</th>\n",
       "    </tr>\n",
       "    <tr>\n",
       "      <th></th>\n",
       "      <th>ratings</th>\n",
       "      <th>ratings</th>\n",
       "    </tr>\n",
       "    <tr>\n",
       "      <th>show_year</th>\n",
       "      <th></th>\n",
       "      <th></th>\n",
       "    </tr>\n",
       "  </thead>\n",
       "  <tbody>\n",
       "    <tr>\n",
       "      <th>2013</th>\n",
       "      <td>2</td>\n",
       "      <td>6.70</td>\n",
       "    </tr>\n",
       "    <tr>\n",
       "      <th>2014</th>\n",
       "      <td>15</td>\n",
       "      <td>6.01</td>\n",
       "    </tr>\n",
       "    <tr>\n",
       "      <th>2015</th>\n",
       "      <td>81</td>\n",
       "      <td>6.11</td>\n",
       "    </tr>\n",
       "    <tr>\n",
       "      <th>2016</th>\n",
       "      <td>56</td>\n",
       "      <td>5.65</td>\n",
       "    </tr>\n",
       "    <tr>\n",
       "      <th>2017</th>\n",
       "      <td>37</td>\n",
       "      <td>5.99</td>\n",
       "    </tr>\n",
       "    <tr>\n",
       "      <th>2018</th>\n",
       "      <td>53</td>\n",
       "      <td>6.00</td>\n",
       "    </tr>\n",
       "    <tr>\n",
       "      <th>2019</th>\n",
       "      <td>58</td>\n",
       "      <td>6.23</td>\n",
       "    </tr>\n",
       "  </tbody>\n",
       "</table>\n",
       "</div>"
      ],
      "text/plain": [
       "            count    mean\n",
       "          ratings ratings\n",
       "show_year                \n",
       "2013            2    6.70\n",
       "2014           15    6.01\n",
       "2015           81    6.11\n",
       "2016           56    5.65\n",
       "2017           37    5.99\n",
       "2018           53    6.00\n",
       "2019           58    6.23"
      ]
     },
     "execution_count": 66,
     "metadata": {},
     "output_type": "execute_result"
    }
   ],
   "source": [
    "data_support.pivot_table(index = 'show_year', values = 'ratings', aggfunc=['count', 'mean'])"
   ]
  },
  {
   "cell_type": "markdown",
   "metadata": {},
   "source": [
    "средний рейтинг по годам держится в рйоне 6 баллов"
   ]
  },
  {
   "cell_type": "markdown",
   "metadata": {},
   "source": [
    "зависимость рейтинга от сборов"
   ]
  },
  {
   "cell_type": "code",
   "execution_count": 67,
   "metadata": {
    "scrolled": false
   },
   "outputs": [
    {
     "data": {
      "text/plain": [
       "0.14241706503663154"
      ]
     },
     "execution_count": 67,
     "metadata": {},
     "output_type": "execute_result"
    },
    {
     "data": {
      "image/png": "[encoded data removed]",
      "text/plain": [
       "<Figure size 1080x360 with 1 Axes>"
      ]
     },
     "metadata": {
      "needs_background": "light"
     },
     "output_type": "display_data"
    }
   ],
   "source": [
    "data_support.pivot_table(index = 'ratings', values = 'box_office').plot(style = 'o', figsize = (15,5))\n",
    "data_support['ratings'].corr(data_support['box_office'])"
   ]
  },
  {
   "cell_type": "markdown",
   "metadata": {},
   "source": [
    "наблюдается небольшая корреляция, филмьмы с большим рейтингом получают больше сборов"
   ]
  },
  {
   "cell_type": "markdown",
   "metadata": {},
   "source": [
    "оценим прибыльность фильмов"
   ]
  },
  {
   "cell_type": "code",
   "execution_count": 68,
   "metadata": {},
   "outputs": [
    {
     "data": {
      "text/plain": [
       "count              302.00\n",
       "mean        -3,736,257.73\n",
       "std        313,787,033.72\n",
       "min     -1,971,477,243.41\n",
       "25%        -73,670,053.92\n",
       "50%        -41,254,152.52\n",
       "75%         -7,993,141.16\n",
       "max      2,913,568,690.79\n",
       "Name: profit, dtype: float64"
      ]
     },
     "execution_count": 68,
     "metadata": {},
     "output_type": "execute_result"
    }
   ],
   "source": [
    "data_support['profit'] = data_support['box_office'] - data_support['budget']\n",
    "data_support['profit'].describe()"
   ]
  },
  {
   "cell_type": "code",
   "execution_count": 69,
   "metadata": {
    "scrolled": false
   },
   "outputs": [
    {
     "data": {
      "text/plain": [
       "71"
      ]
     },
     "execution_count": 69,
     "metadata": {},
     "output_type": "execute_result"
    }
   ],
   "source": [
    "data_support.query('profit > 0')['profit'].count()"
   ]
  },
  {
   "cell_type": "markdown",
   "metadata": {},
   "source": [
    "из 302 филмов окупились только 80"
   ]
  },
  {
   "cell_type": "code",
   "execution_count": 70,
   "metadata": {
    "scrolled": true
   },
   "outputs": [
    {
     "data": {
      "text/html": [
       "<div>\n",
       "<style scoped>\n",
       "    .dataframe tbody tr th:only-of-type {\n",
       "        vertical-align: middle;\n",
       "    }\n",
       "\n",
       "    .dataframe tbody tr th {\n",
       "        vertical-align: top;\n",
       "    }\n",
       "\n",
       "    .dataframe thead tr th {\n",
       "        text-align: left;\n",
       "    }\n",
       "\n",
       "    .dataframe thead tr:last-of-type th {\n",
       "        text-align: right;\n",
       "    }\n",
       "</style>\n",
       "<table border=\"1\" class=\"dataframe\">\n",
       "  <thead>\n",
       "    <tr>\n",
       "      <th></th>\n",
       "      <th>sum</th>\n",
       "    </tr>\n",
       "    <tr>\n",
       "      <th></th>\n",
       "      <th>profit</th>\n",
       "    </tr>\n",
       "    <tr>\n",
       "      <th>show_year</th>\n",
       "      <th></th>\n",
       "    </tr>\n",
       "  </thead>\n",
       "  <tbody>\n",
       "    <tr>\n",
       "      <th>2013</th>\n",
       "      <td>-235,113,004.90</td>\n",
       "    </tr>\n",
       "    <tr>\n",
       "      <th>2014</th>\n",
       "      <td>-262,404,887.27</td>\n",
       "    </tr>\n",
       "    <tr>\n",
       "      <th>2015</th>\n",
       "      <td>-2,060,316,966.88</td>\n",
       "    </tr>\n",
       "    <tr>\n",
       "      <th>2016</th>\n",
       "      <td>-1,439,953,629.85</td>\n",
       "    </tr>\n",
       "    <tr>\n",
       "      <th>2017</th>\n",
       "      <td>3,929,881,997.31</td>\n",
       "    </tr>\n",
       "    <tr>\n",
       "      <th>2018</th>\n",
       "      <td>1,687,602,518.55</td>\n",
       "    </tr>\n",
       "    <tr>\n",
       "      <th>2019</th>\n",
       "      <td>-2,748,045,861.13</td>\n",
       "    </tr>\n",
       "  </tbody>\n",
       "</table>\n",
       "</div>"
      ],
      "text/plain": [
       "                        sum\n",
       "                     profit\n",
       "show_year                  \n",
       "2013        -235,113,004.90\n",
       "2014        -262,404,887.27\n",
       "2015      -2,060,316,966.88\n",
       "2016      -1,439,953,629.85\n",
       "2017       3,929,881,997.31\n",
       "2018       1,687,602,518.55\n",
       "2019      -2,748,045,861.13"
      ]
     },
     "metadata": {},
     "output_type": "display_data"
    },
    {
     "data": {
      "text/plain": [
       "sum  profit   -1,128,349,834.17\n",
       "dtype: float64"
      ]
     },
     "execution_count": 70,
     "metadata": {},
     "output_type": "execute_result"
    }
   ],
   "source": [
    "display(data_support.pivot_table(index = 'show_year', values = 'profit', aggfunc=['sum']))\n",
    "data_support.pivot_table(index = 'show_year', values = 'profit', aggfunc=['sum']).sum()"
   ]
  },
  {
   "cell_type": "markdown",
   "metadata": {},
   "source": [
    "прибыльными для филмьов были только 2017 и 2018 годы"
   ]
  },
  {
   "cell_type": "code",
   "execution_count": 71,
   "metadata": {},
   "outputs": [
    {
     "data": {
      "text/html": [
       "<div>\n",
       "<style scoped>\n",
       "    .dataframe tbody tr th:only-of-type {\n",
       "        vertical-align: middle;\n",
       "    }\n",
       "\n",
       "    .dataframe tbody tr th {\n",
       "        vertical-align: top;\n",
       "    }\n",
       "\n",
       "    .dataframe thead tr th {\n",
       "        text-align: left;\n",
       "    }\n",
       "\n",
       "    .dataframe thead tr:last-of-type th {\n",
       "        text-align: right;\n",
       "    }\n",
       "</style>\n",
       "<table border=\"1\" class=\"dataframe\">\n",
       "  <thead>\n",
       "    <tr>\n",
       "      <th></th>\n",
       "      <th>sum</th>\n",
       "    </tr>\n",
       "    <tr>\n",
       "      <th></th>\n",
       "      <th>nonrefundable_support</th>\n",
       "    </tr>\n",
       "    <tr>\n",
       "      <th>show_year</th>\n",
       "      <th></th>\n",
       "    </tr>\n",
       "  </thead>\n",
       "  <tbody>\n",
       "    <tr>\n",
       "      <th>2013</th>\n",
       "      <td>134,347,945.00</td>\n",
       "    </tr>\n",
       "    <tr>\n",
       "      <th>2014</th>\n",
       "      <td>475,002,299.00</td>\n",
       "    </tr>\n",
       "    <tr>\n",
       "      <th>2015</th>\n",
       "      <td>2,820,088,340.00</td>\n",
       "    </tr>\n",
       "    <tr>\n",
       "      <th>2016</th>\n",
       "      <td>3,240,135,482.00</td>\n",
       "    </tr>\n",
       "    <tr>\n",
       "      <th>2017</th>\n",
       "      <td>2,379,624,781.00</td>\n",
       "    </tr>\n",
       "    <tr>\n",
       "      <th>2018</th>\n",
       "      <td>2,556,000,000.00</td>\n",
       "    </tr>\n",
       "    <tr>\n",
       "      <th>2019</th>\n",
       "      <td>3,218,000,000.00</td>\n",
       "    </tr>\n",
       "  </tbody>\n",
       "</table>\n",
       "</div>"
      ],
      "text/plain": [
       "                            sum\n",
       "          nonrefundable_support\n",
       "show_year                      \n",
       "2013             134,347,945.00\n",
       "2014             475,002,299.00\n",
       "2015           2,820,088,340.00\n",
       "2016           3,240,135,482.00\n",
       "2017           2,379,624,781.00\n",
       "2018           2,556,000,000.00\n",
       "2019           3,218,000,000.00"
      ]
     },
     "metadata": {},
     "output_type": "display_data"
    },
    {
     "data": {
      "text/plain": [
       "sum  nonrefundable_support   14,823,198,847.00\n",
       "dtype: float64"
      ]
     },
     "execution_count": 71,
     "metadata": {},
     "output_type": "execute_result"
    }
   ],
   "source": [
    "display(data_support.pivot_table(index = 'show_year', values = 'nonrefundable_support', aggfunc=['sum']))\n",
    "data_support.pivot_table(index = 'show_year', values = 'nonrefundable_support', aggfunc=['sum']).sum()"
   ]
  },
  {
   "cell_type": "markdown",
   "metadata": {},
   "source": [
    "при этом выделяемые невозвратные средства за каждый из 2015-2019 годов выделялись примерно на одном уровне (3 000 000 000)"
   ]
  },
  {
   "cell_type": "markdown",
   "metadata": {},
   "source": [
    "Оценим прибыльностьфилмьов по годам:"
   ]
  },
  {
   "cell_type": "code",
   "execution_count": 72,
   "metadata": {
    "scrolled": true
   },
   "outputs": [
    {
     "data": {
      "image/png": "[encoded data removed]",
      "text/plain": [
       "<Figure size 1080x360 with 1 Axes>"
      ]
     },
     "metadata": {
      "needs_background": "light"
     },
     "output_type": "display_data"
    }
   ],
   "source": [
    "data_support.query('show_year == 2015')['profit'].plot(kind='hist',bins = 40, figsize = (15,5));"
   ]
  },
  {
   "cell_type": "code",
   "execution_count": 73,
   "metadata": {},
   "outputs": [
    {
     "data": {
      "image/png": "[encoded data removed]",
      "text/plain": [
       "<Figure size 1080x360 with 1 Axes>"
      ]
     },
     "metadata": {
      "needs_background": "light"
     },
     "output_type": "display_data"
    }
   ],
   "source": [
    "data_support.query('show_year == 2015')['profit'].plot(kind='hist',bins = 40, figsize = (15,5), range = (-200000000, 200000000));"
   ]
  },
  {
   "cell_type": "code",
   "execution_count": 74,
   "metadata": {},
   "outputs": [
    {
     "data": {
      "text/html": [
       "<div>\n",
       "<style scoped>\n",
       "    .dataframe tbody tr th:only-of-type {\n",
       "        vertical-align: middle;\n",
       "    }\n",
       "\n",
       "    .dataframe tbody tr th {\n",
       "        vertical-align: top;\n",
       "    }\n",
       "\n",
       "    .dataframe thead th {\n",
       "        text-align: right;\n",
       "    }\n",
       "</style>\n",
       "<table border=\"1\" class=\"dataframe\">\n",
       "  <thead>\n",
       "    <tr style=\"text-align: right;\">\n",
       "      <th></th>\n",
       "      <th>title</th>\n",
       "      <th>refundable_support</th>\n",
       "      <th>nonrefundable_support</th>\n",
       "      <th>budget</th>\n",
       "      <th>ratings</th>\n",
       "      <th>box_office</th>\n",
       "      <th>profit</th>\n",
       "    </tr>\n",
       "  </thead>\n",
       "  <tbody>\n",
       "    <tr>\n",
       "      <th>1903</th>\n",
       "      <td>призрак_.</td>\n",
       "      <td>0.00</td>\n",
       "      <td>75,000,000.00</td>\n",
       "      <td>139,551,503.00</td>\n",
       "      <td>7.00</td>\n",
       "      <td>352,804,320.40</td>\n",
       "      <td>213,252,817.40</td>\n",
       "    </tr>\n",
       "    <tr>\n",
       "      <th>2058</th>\n",
       "      <td>дуxless 2</td>\n",
       "      <td>0.00</td>\n",
       "      <td>75,000,000.00</td>\n",
       "      <td>122,142,351.75</td>\n",
       "      <td>6.60</td>\n",
       "      <td>446,163,511.00</td>\n",
       "      <td>324,021,159.25</td>\n",
       "    </tr>\n",
       "    <tr>\n",
       "      <th>2132</th>\n",
       "      <td>битва за севастополь</td>\n",
       "      <td>0.00</td>\n",
       "      <td>27,510,000.00</td>\n",
       "      <td>131,000,000.00</td>\n",
       "      <td>7.50</td>\n",
       "      <td>401,804,461.90</td>\n",
       "      <td>270,804,461.90</td>\n",
       "    </tr>\n",
       "    <tr>\n",
       "      <th>2142</th>\n",
       "      <td>территория</td>\n",
       "      <td>30,000,000.00</td>\n",
       "      <td>30,000,000.00</td>\n",
       "      <td>500,000,000.00</td>\n",
       "      <td>6.80</td>\n",
       "      <td>72,578,317.40</td>\n",
       "      <td>-427,421,682.60</td>\n",
       "    </tr>\n",
       "    <tr>\n",
       "      <th>2699</th>\n",
       "      <td>он - дракон</td>\n",
       "      <td>0.00</td>\n",
       "      <td>250,000,000.00</td>\n",
       "      <td>360,000,000.00</td>\n",
       "      <td>6.80</td>\n",
       "      <td>110,171,448.50</td>\n",
       "      <td>-249,828,551.50</td>\n",
       "    </tr>\n",
       "    <tr>\n",
       "      <th>2701</th>\n",
       "      <td>самый лучший день</td>\n",
       "      <td>29,000,000.00</td>\n",
       "      <td>34,000,000.00</td>\n",
       "      <td>130,619,336.00</td>\n",
       "      <td>4.70</td>\n",
       "      <td>683,029,061.40</td>\n",
       "      <td>552,409,725.40</td>\n",
       "    </tr>\n",
       "    <tr>\n",
       "      <th>3042</th>\n",
       "      <td>крякнутые каникулы</td>\n",
       "      <td>40,000,000.00</td>\n",
       "      <td>0.00</td>\n",
       "      <td>399,075,326.00</td>\n",
       "      <td>5.40</td>\n",
       "      <td>69,693,747.93</td>\n",
       "      <td>-329,381,578.07</td>\n",
       "    </tr>\n",
       "    <tr>\n",
       "      <th>3105</th>\n",
       "      <td>иван царевич и серый волк 3</td>\n",
       "      <td>0.00</td>\n",
       "      <td>40,000,000.00</td>\n",
       "      <td>179,257,987.00</td>\n",
       "      <td>6.20</td>\n",
       "      <td>704,928,216.00</td>\n",
       "      <td>525,670,229.00</td>\n",
       "    </tr>\n",
       "    <tr>\n",
       "      <th>3142</th>\n",
       "      <td>тайна снежной королевы</td>\n",
       "      <td>20,000,000.00</td>\n",
       "      <td>5,300,000.00</td>\n",
       "      <td>215,860,000.00</td>\n",
       "      <td>7.20</td>\n",
       "      <td>1,434,072.50</td>\n",
       "      <td>-214,425,927.50</td>\n",
       "    </tr>\n",
       "  </tbody>\n",
       "</table>\n",
       "</div>"
      ],
      "text/plain": [
       "                            title  refundable_support  nonrefundable_support  \\\n",
       "1903                    призрак_.                0.00          75,000,000.00   \n",
       "2058                    дуxless 2                0.00          75,000,000.00   \n",
       "2132         битва за севастополь                0.00          27,510,000.00   \n",
       "2142                   территория       30,000,000.00          30,000,000.00   \n",
       "2699                  он - дракон                0.00         250,000,000.00   \n",
       "2701            самый лучший день       29,000,000.00          34,000,000.00   \n",
       "3042           крякнутые каникулы       40,000,000.00                   0.00   \n",
       "3105  иван царевич и серый волк 3                0.00          40,000,000.00   \n",
       "3142       тайна снежной королевы       20,000,000.00           5,300,000.00   \n",
       "\n",
       "             budget  ratings     box_office          profit  \n",
       "1903 139,551,503.00     7.00 352,804,320.40  213,252,817.40  \n",
       "2058 122,142,351.75     6.60 446,163,511.00  324,021,159.25  \n",
       "2132 131,000,000.00     7.50 401,804,461.90  270,804,461.90  \n",
       "2142 500,000,000.00     6.80  72,578,317.40 -427,421,682.60  \n",
       "2699 360,000,000.00     6.80 110,171,448.50 -249,828,551.50  \n",
       "2701 130,619,336.00     4.70 683,029,061.40  552,409,725.40  \n",
       "3042 399,075,326.00     5.40  69,693,747.93 -329,381,578.07  \n",
       "3105 179,257,987.00     6.20 704,928,216.00  525,670,229.00  \n",
       "3142 215,860,000.00     7.20   1,434,072.50 -214,425,927.50  "
      ]
     },
     "execution_count": 74,
     "metadata": {},
     "output_type": "execute_result"
    }
   ],
   "source": [
    "data_support.query('show_year == 2015 and (profit >= 200000000 or profit <= -200000000)')[['title', 'refundable_support', 'nonrefundable_support', 'budget', 'ratings', 'box_office','profit']]"
   ]
  },
  {
   "cell_type": "code",
   "execution_count": 75,
   "metadata": {
    "scrolled": true
   },
   "outputs": [
    {
     "data": {
      "image/png": "[encoded data removed]",
      "text/plain": [
       "<Figure size 1080x360 with 1 Axes>"
      ]
     },
     "metadata": {
      "needs_background": "light"
     },
     "output_type": "display_data"
    }
   ],
   "source": [
    "data_support.query('show_year == 2016')['profit'].plot(kind='hist',bins = 40, figsize = (15,5));"
   ]
  },
  {
   "cell_type": "code",
   "execution_count": 76,
   "metadata": {},
   "outputs": [
    {
     "data": {
      "image/png": "[encoded data removed]",
      "text/plain": [
       "<Figure size 1080x360 with 1 Axes>"
      ]
     },
     "metadata": {
      "needs_background": "light"
     },
     "output_type": "display_data"
    }
   ],
   "source": [
    "data_support.query('show_year == 2016')['profit'].plot(kind='hist',bins = 40, figsize = (15,5), range = (-200000000, 200000000));"
   ]
  },
  {
   "cell_type": "code",
   "execution_count": 77,
   "metadata": {},
   "outputs": [
    {
     "data": {
      "text/html": [
       "<div>\n",
       "<style scoped>\n",
       "    .dataframe tbody tr th:only-of-type {\n",
       "        vertical-align: middle;\n",
       "    }\n",
       "\n",
       "    .dataframe tbody tr th {\n",
       "        vertical-align: top;\n",
       "    }\n",
       "\n",
       "    .dataframe thead th {\n",
       "        text-align: right;\n",
       "    }\n",
       "</style>\n",
       "<table border=\"1\" class=\"dataframe\">\n",
       "  <thead>\n",
       "    <tr style=\"text-align: right;\">\n",
       "      <th></th>\n",
       "      <th>title</th>\n",
       "      <th>refundable_support</th>\n",
       "      <th>nonrefundable_support</th>\n",
       "      <th>budget</th>\n",
       "      <th>ratings</th>\n",
       "      <th>box_office</th>\n",
       "      <th>profit</th>\n",
       "    </tr>\n",
       "  </thead>\n",
       "  <tbody>\n",
       "    <tr>\n",
       "      <th>2858</th>\n",
       "      <td>28 панфиловцев</td>\n",
       "      <td>0.00</td>\n",
       "      <td>30,000,000.00</td>\n",
       "      <td>85,384,000.00</td>\n",
       "      <td>7.50</td>\n",
       "      <td>363,622,804.90</td>\n",
       "      <td>278,238,804.90</td>\n",
       "    </tr>\n",
       "    <tr>\n",
       "      <th>2920</th>\n",
       "      <td>экипаж .</td>\n",
       "      <td>50,000,000.00</td>\n",
       "      <td>392,104,482.00</td>\n",
       "      <td>635,283,867.00</td>\n",
       "      <td>7.60</td>\n",
       "      <td>1,402,255,390.00</td>\n",
       "      <td>766,971,523.00</td>\n",
       "    </tr>\n",
       "    <tr>\n",
       "      <th>3229</th>\n",
       "      <td>гуляй, вася !</td>\n",
       "      <td>0.00</td>\n",
       "      <td>25,345,000.00</td>\n",
       "      <td>39,000,000.00</td>\n",
       "      <td>6.50</td>\n",
       "      <td>259,099,078.00</td>\n",
       "      <td>220,099,078.00</td>\n",
       "    </tr>\n",
       "    <tr>\n",
       "      <th>3351</th>\n",
       "      <td>дуэлянт</td>\n",
       "      <td>150,000,000.00</td>\n",
       "      <td>300,000,000.00</td>\n",
       "      <td>684,200,536.00</td>\n",
       "      <td>6.60</td>\n",
       "      <td>364,285,139.60</td>\n",
       "      <td>-319,915,396.40</td>\n",
       "    </tr>\n",
       "    <tr>\n",
       "      <th>3352</th>\n",
       "      <td>рай (2016)</td>\n",
       "      <td>0.00</td>\n",
       "      <td>35,000,000.00</td>\n",
       "      <td>287,802,711.00</td>\n",
       "      <td>6.80</td>\n",
       "      <td>51,704,986.00</td>\n",
       "      <td>-236,097,725.00</td>\n",
       "    </tr>\n",
       "    <tr>\n",
       "      <th>3558</th>\n",
       "      <td>снежная королева 3. огонь и лёд</td>\n",
       "      <td>60,000,000.00</td>\n",
       "      <td>100,000,000.00</td>\n",
       "      <td>243,122,945.00</td>\n",
       "      <td>6.10</td>\n",
       "      <td>31,517,776.73</td>\n",
       "      <td>-211,605,168.27</td>\n",
       "    </tr>\n",
       "    <tr>\n",
       "      <th>3565</th>\n",
       "      <td>притяжение (2016)</td>\n",
       "      <td>0.00</td>\n",
       "      <td>250,000,000.00</td>\n",
       "      <td>407,141,172.51</td>\n",
       "      <td>5.60</td>\n",
       "      <td>1,038,321,489.00</td>\n",
       "      <td>631,180,316.49</td>\n",
       "    </tr>\n",
       "  </tbody>\n",
       "</table>\n",
       "</div>"
      ],
      "text/plain": [
       "                                title  refundable_support  \\\n",
       "2858                   28 панфиловцев                0.00   \n",
       "2920                         экипаж .       50,000,000.00   \n",
       "3229                    гуляй, вася !                0.00   \n",
       "3351                          дуэлянт      150,000,000.00   \n",
       "3352                       рай (2016)                0.00   \n",
       "3558  снежная королева 3. огонь и лёд       60,000,000.00   \n",
       "3565                притяжение (2016)                0.00   \n",
       "\n",
       "      nonrefundable_support         budget  ratings       box_office  \\\n",
       "2858          30,000,000.00  85,384,000.00     7.50   363,622,804.90   \n",
       "2920         392,104,482.00 635,283,867.00     7.60 1,402,255,390.00   \n",
       "3229          25,345,000.00  39,000,000.00     6.50   259,099,078.00   \n",
       "3351         300,000,000.00 684,200,536.00     6.60   364,285,139.60   \n",
       "3352          35,000,000.00 287,802,711.00     6.80    51,704,986.00   \n",
       "3558         100,000,000.00 243,122,945.00     6.10    31,517,776.73   \n",
       "3565         250,000,000.00 407,141,172.51     5.60 1,038,321,489.00   \n",
       "\n",
       "              profit  \n",
       "2858  278,238,804.90  \n",
       "2920  766,971,523.00  \n",
       "3229  220,099,078.00  \n",
       "3351 -319,915,396.40  \n",
       "3352 -236,097,725.00  \n",
       "3558 -211,605,168.27  \n",
       "3565  631,180,316.49  "
      ]
     },
     "execution_count": 77,
     "metadata": {},
     "output_type": "execute_result"
    }
   ],
   "source": [
    "data_support.query('show_year == 2016 and (profit >= 200000000 or profit <= -200000000)')[['title', 'refundable_support', 'nonrefundable_support', 'budget', 'ratings', 'box_office','profit']]"
   ]
  },
  {
   "cell_type": "code",
   "execution_count": 78,
   "metadata": {
    "scrolled": true
   },
   "outputs": [
    {
     "data": {
      "image/png": "[encoded data removed]",
      "text/plain": [
       "<Figure size 1080x360 with 1 Axes>"
      ]
     },
     "metadata": {
      "needs_background": "light"
     },
     "output_type": "display_data"
    }
   ],
   "source": [
    "data_support.query('show_year == 2017')['profit'].plot(kind='hist',bins = 40, figsize = (15,5));"
   ]
  },
  {
   "cell_type": "code",
   "execution_count": 79,
   "metadata": {},
   "outputs": [
    {
     "data": {
      "image/png": "[encoded data removed]",
      "text/plain": [
       "<Figure size 1080x360 with 1 Axes>"
      ]
     },
     "metadata": {
      "needs_background": "light"
     },
     "output_type": "display_data"
    }
   ],
   "source": [
    "data_support.query('show_year == 2017')['profit'].plot(kind='hist',bins = 40, figsize = (15,5), range = (-200000000, 200000000));"
   ]
  },
  {
   "cell_type": "code",
   "execution_count": 80,
   "metadata": {},
   "outputs": [],
   "source": [
    "data_support.query('show_year == 2017 and (profit >= 200000000 or profit <= -200000000)')[['title', 'refundable_support', 'nonrefundable_support', 'budget', 'ratings', 'box_office','profit']];"
   ]
  },
  {
   "cell_type": "code",
   "execution_count": 81,
   "metadata": {
    "scrolled": true
   },
   "outputs": [
    {
     "data": {
      "image/png": "[encoded data removed]",
      "text/plain": [
       "<Figure size 1080x360 with 1 Axes>"
      ]
     },
     "metadata": {
      "needs_background": "light"
     },
     "output_type": "display_data"
    }
   ],
   "source": [
    "data_support.query('show_year == 2018')['profit'].plot(kind='hist',bins = 40, figsize = (15,5));"
   ]
  },
  {
   "cell_type": "code",
   "execution_count": 82,
   "metadata": {},
   "outputs": [
    {
     "data": {
      "image/png": "[encoded data removed]",
      "text/plain": [
       "<Figure size 1080x360 with 1 Axes>"
      ]
     },
     "metadata": {
      "needs_background": "light"
     },
     "output_type": "display_data"
    }
   ],
   "source": [
    "data_support.query('show_year == 2018')['profit'].plot(kind='hist',bins = 40, figsize = (15,5), range = (-200000000, 200000000));"
   ]
  },
  {
   "cell_type": "code",
   "execution_count": 83,
   "metadata": {},
   "outputs": [
    {
     "data": {
      "text/html": [
       "<div>\n",
       "<style scoped>\n",
       "    .dataframe tbody tr th:only-of-type {\n",
       "        vertical-align: middle;\n",
       "    }\n",
       "\n",
       "    .dataframe tbody tr th {\n",
       "        vertical-align: top;\n",
       "    }\n",
       "\n",
       "    .dataframe thead th {\n",
       "        text-align: right;\n",
       "    }\n",
       "</style>\n",
       "<table border=\"1\" class=\"dataframe\">\n",
       "  <thead>\n",
       "    <tr style=\"text-align: right;\">\n",
       "      <th></th>\n",
       "      <th>title</th>\n",
       "      <th>refundable_support</th>\n",
       "      <th>nonrefundable_support</th>\n",
       "      <th>budget</th>\n",
       "      <th>ratings</th>\n",
       "      <th>box_office</th>\n",
       "      <th>profit</th>\n",
       "    </tr>\n",
       "  </thead>\n",
       "  <tbody>\n",
       "    <tr>\n",
       "      <th>5690</th>\n",
       "      <td>рубеж</td>\n",
       "      <td>0.00</td>\n",
       "      <td>200,000,000.00</td>\n",
       "      <td>292,412,422.00</td>\n",
       "      <td>6.20</td>\n",
       "      <td>87,707,397.08</td>\n",
       "      <td>-204,705,024.92</td>\n",
       "    </tr>\n",
       "    <tr>\n",
       "      <th>5731</th>\n",
       "      <td>о чем говорят мужчины. продолжение</td>\n",
       "      <td>0.00</td>\n",
       "      <td>50,000,000.00</td>\n",
       "      <td>109,609,029.00</td>\n",
       "      <td>6.70</td>\n",
       "      <td>389,818,769.03</td>\n",
       "      <td>280,209,740.03</td>\n",
       "    </tr>\n",
       "    <tr>\n",
       "      <th>5749</th>\n",
       "      <td>я худею</td>\n",
       "      <td>0.00</td>\n",
       "      <td>30,000,000.00</td>\n",
       "      <td>87,649,127.00</td>\n",
       "      <td>6.90</td>\n",
       "      <td>633,462,266.74</td>\n",
       "      <td>545,813,139.74</td>\n",
       "    </tr>\n",
       "    <tr>\n",
       "      <th>5826</th>\n",
       "      <td>тренер</td>\n",
       "      <td>0.00</td>\n",
       "      <td>260,000,000.00</td>\n",
       "      <td>390,191,139.00</td>\n",
       "      <td>6.80</td>\n",
       "      <td>820,528,005.21</td>\n",
       "      <td>430,336,866.21</td>\n",
       "    </tr>\n",
       "    <tr>\n",
       "      <th>5914</th>\n",
       "      <td>гурвинек. волшебная игра</td>\n",
       "      <td>30,000,000.00</td>\n",
       "      <td>30,000,000.00</td>\n",
       "      <td>385,000,000.00</td>\n",
       "      <td>3.50</td>\n",
       "      <td>30,325,879.15</td>\n",
       "      <td>-354,674,120.85</td>\n",
       "    </tr>\n",
       "    <tr>\n",
       "      <th>6178</th>\n",
       "      <td>непрощенный</td>\n",
       "      <td>0.00</td>\n",
       "      <td>40,000,000.00</td>\n",
       "      <td>82,496,889.00</td>\n",
       "      <td>6.70</td>\n",
       "      <td>393,279,629.43</td>\n",
       "      <td>310,782,740.43</td>\n",
       "    </tr>\n",
       "    <tr>\n",
       "      <th>6472</th>\n",
       "      <td>три богатыря и наследница престола</td>\n",
       "      <td>115,000,000.00</td>\n",
       "      <td>0.00</td>\n",
       "      <td>185,500,705.00</td>\n",
       "      <td>6.50</td>\n",
       "      <td>577,368,853.25</td>\n",
       "      <td>391,868,148.25</td>\n",
       "    </tr>\n",
       "    <tr>\n",
       "      <th>6509</th>\n",
       "      <td>ёлки последние</td>\n",
       "      <td>75,000,000.00</td>\n",
       "      <td>25,000,000.00</td>\n",
       "      <td>179,708,770.00</td>\n",
       "      <td>6.90</td>\n",
       "      <td>701,507,030.27</td>\n",
       "      <td>521,798,260.27</td>\n",
       "    </tr>\n",
       "    <tr>\n",
       "      <th>6549</th>\n",
       "      <td>т-34</td>\n",
       "      <td>60,000,000.00</td>\n",
       "      <td>120,000,000.00</td>\n",
       "      <td>563,784,717.00</td>\n",
       "      <td>6.50</td>\n",
       "      <td>2,271,754,004.52</td>\n",
       "      <td>1,707,969,287.52</td>\n",
       "    </tr>\n",
       "  </tbody>\n",
       "</table>\n",
       "</div>"
      ],
      "text/plain": [
       "                                   title  refundable_support  \\\n",
       "5690                               рубеж                0.00   \n",
       "5731  о чем говорят мужчины. продолжение                0.00   \n",
       "5749                             я худею                0.00   \n",
       "5826                              тренер                0.00   \n",
       "5914            гурвинек. волшебная игра       30,000,000.00   \n",
       "6178                         непрощенный                0.00   \n",
       "6472  три богатыря и наследница престола      115,000,000.00   \n",
       "6509                      ёлки последние       75,000,000.00   \n",
       "6549                                т-34       60,000,000.00   \n",
       "\n",
       "      nonrefundable_support         budget  ratings       box_office  \\\n",
       "5690         200,000,000.00 292,412,422.00     6.20    87,707,397.08   \n",
       "5731          50,000,000.00 109,609,029.00     6.70   389,818,769.03   \n",
       "5749          30,000,000.00  87,649,127.00     6.90   633,462,266.74   \n",
       "5826         260,000,000.00 390,191,139.00     6.80   820,528,005.21   \n",
       "5914          30,000,000.00 385,000,000.00     3.50    30,325,879.15   \n",
       "6178          40,000,000.00  82,496,889.00     6.70   393,279,629.43   \n",
       "6472                   0.00 185,500,705.00     6.50   577,368,853.25   \n",
       "6509          25,000,000.00 179,708,770.00     6.90   701,507,030.27   \n",
       "6549         120,000,000.00 563,784,717.00     6.50 2,271,754,004.52   \n",
       "\n",
       "               profit  \n",
       "5690  -204,705,024.92  \n",
       "5731   280,209,740.03  \n",
       "5749   545,813,139.74  \n",
       "5826   430,336,866.21  \n",
       "5914  -354,674,120.85  \n",
       "6178   310,782,740.43  \n",
       "6472   391,868,148.25  \n",
       "6509   521,798,260.27  \n",
       "6549 1,707,969,287.52  "
      ]
     },
     "execution_count": 83,
     "metadata": {},
     "output_type": "execute_result"
    }
   ],
   "source": [
    "data_support.query('show_year == 2018 and (profit >= 200000000 or profit <= -200000000)')[['title', 'refundable_support', 'nonrefundable_support', 'budget', 'ratings', 'box_office','profit']]"
   ]
  },
  {
   "cell_type": "code",
   "execution_count": 84,
   "metadata": {
    "scrolled": false
   },
   "outputs": [
    {
     "data": {
      "image/png": "[encoded data removed]",
      "text/plain": [
       "<Figure size 1080x360 with 1 Axes>"
      ]
     },
     "metadata": {
      "needs_background": "light"
     },
     "output_type": "display_data"
    }
   ],
   "source": [
    "data_support.query('show_year == 2019')['profit'].plot(kind='hist',bins = 40, figsize = (15,5));"
   ]
  },
  {
   "cell_type": "code",
   "execution_count": 85,
   "metadata": {},
   "outputs": [
    {
     "data": {
      "image/png": "[encoded data removed]",
      "text/plain": [
       "<Figure size 1080x360 with 1 Axes>"
      ]
     },
     "metadata": {
      "needs_background": "light"
     },
     "output_type": "display_data"
    }
   ],
   "source": [
    "data_support.query('show_year == 2019')['profit'].plot(kind='hist',bins = 40, figsize = (15,5), range = (-200000000, 200000000));"
   ]
  },
  {
   "cell_type": "code",
   "execution_count": 86,
   "metadata": {},
   "outputs": [],
   "source": [
    "data_support.query('show_year == 2019 and (profit >= 200000000 or profit <= -200000000)')[['title', 'refundable_support', 'nonrefundable_support', 'budget', 'ratings', 'box_office','profit']];"
   ]
  },
  {
   "cell_type": "code",
   "execution_count": 87,
   "metadata": {
    "scrolled": true
   },
   "outputs": [
    {
     "data": {
      "text/html": [
       "<div>\n",
       "<style scoped>\n",
       "    .dataframe tbody tr th:only-of-type {\n",
       "        vertical-align: middle;\n",
       "    }\n",
       "\n",
       "    .dataframe tbody tr th {\n",
       "        vertical-align: top;\n",
       "    }\n",
       "\n",
       "    .dataframe thead th {\n",
       "        text-align: right;\n",
       "    }\n",
       "</style>\n",
       "<table border=\"1\" class=\"dataframe\">\n",
       "  <thead>\n",
       "    <tr style=\"text-align: right;\">\n",
       "      <th></th>\n",
       "      <th>title</th>\n",
       "      <th>puNumber</th>\n",
       "      <th>show_start_date</th>\n",
       "      <th>type</th>\n",
       "      <th>film_studio</th>\n",
       "      <th>production_country</th>\n",
       "      <th>director</th>\n",
       "      <th>producer</th>\n",
       "      <th>age_restriction</th>\n",
       "      <th>refundable_support</th>\n",
       "      <th>nonrefundable_support</th>\n",
       "      <th>budget</th>\n",
       "      <th>financing_source</th>\n",
       "      <th>ratings</th>\n",
       "      <th>genres</th>\n",
       "      <th>box_office</th>\n",
       "      <th>state_percent</th>\n",
       "      <th>show_year</th>\n",
       "      <th>main_director</th>\n",
       "      <th>main_genres</th>\n",
       "      <th>profit</th>\n",
       "    </tr>\n",
       "  </thead>\n",
       "  <tbody>\n",
       "    <tr>\n",
       "      <th>2701</th>\n",
       "      <td>самый лучший день</td>\n",
       "      <td>111017815</td>\n",
       "      <td>2015-10-14 12:00:00+00:00</td>\n",
       "      <td>Художественный</td>\n",
       "      <td>ООО \"ТаББаК\"</td>\n",
       "      <td>Россия</td>\n",
       "      <td>А.Першин (псевдоним Ж.Крыжовников)</td>\n",
       "      <td>Т.Бекмамбетов, А.Першин (псевдоним Ж.Крыжовник...</td>\n",
       "      <td>«16+» - для детей старше 16 лет</td>\n",
       "      <td>29,000,000.00</td>\n",
       "      <td>34,000,000.00</td>\n",
       "      <td>130,619,336.00</td>\n",
       "      <td>Фонд кино</td>\n",
       "      <td>4.70</td>\n",
       "      <td>комедия,музыка</td>\n",
       "      <td>683,029,061.40</td>\n",
       "      <td>48.23</td>\n",
       "      <td>2015</td>\n",
       "      <td>А.Першин (псевдоним Ж.Крыжовников)</td>\n",
       "      <td>комедия</td>\n",
       "      <td>552,409,725.40</td>\n",
       "    </tr>\n",
       "    <tr>\n",
       "      <th>2920</th>\n",
       "      <td>экипаж .</td>\n",
       "      <td>111005416</td>\n",
       "      <td>2016-03-21 12:00:00+00:00</td>\n",
       "      <td>Художественный</td>\n",
       "      <td>ООО \"Студия \"ТРИТЭ\" Никиты Михалкова\"</td>\n",
       "      <td>Россия</td>\n",
       "      <td>Н.Лебедев</td>\n",
       "      <td>Л.Верещагин, А.Златопольский, Н.Михалков, ООО ...</td>\n",
       "      <td>«6+» - для детей старше 6 лет</td>\n",
       "      <td>50,000,000.00</td>\n",
       "      <td>392,104,482.00</td>\n",
       "      <td>635,283,867.00</td>\n",
       "      <td>Фонд кино</td>\n",
       "      <td>7.60</td>\n",
       "      <td>драма,триллер,приключения</td>\n",
       "      <td>1,402,255,390.00</td>\n",
       "      <td>69.59</td>\n",
       "      <td>2016</td>\n",
       "      <td>Н.Лебедев</td>\n",
       "      <td>драма</td>\n",
       "      <td>766,971,523.00</td>\n",
       "    </tr>\n",
       "    <tr>\n",
       "      <th>3105</th>\n",
       "      <td>иван царевич и серый волк 3</td>\n",
       "      <td>114004115</td>\n",
       "      <td>2015-12-24 12:00:00+00:00</td>\n",
       "      <td>Анимационный</td>\n",
       "      <td>ООО \"Студия анимационного кино \"Мельница\"</td>\n",
       "      <td>Россия</td>\n",
       "      <td>Д.Шмидт</td>\n",
       "      <td>С.Сельянов, А.Боярский</td>\n",
       "      <td>«6+» - для детей старше 6 лет</td>\n",
       "      <td>0.00</td>\n",
       "      <td>40,000,000.00</td>\n",
       "      <td>179,257,987.00</td>\n",
       "      <td>Фонд кино</td>\n",
       "      <td>6.20</td>\n",
       "      <td>мультфильм,приключения,семейный</td>\n",
       "      <td>704,928,216.00</td>\n",
       "      <td>22.31</td>\n",
       "      <td>2015</td>\n",
       "      <td>Д.Шмидт</td>\n",
       "      <td>мультфильм</td>\n",
       "      <td>525,670,229.00</td>\n",
       "    </tr>\n",
       "    <tr>\n",
       "      <th>3565</th>\n",
       "      <td>притяжение (2016)</td>\n",
       "      <td>111018116</td>\n",
       "      <td>2016-12-16 12:00:00+00:00</td>\n",
       "      <td>Художественный</td>\n",
       "      <td>ООО \"Водород 2011\",  ООО \"Арт Пикчерс Студия\"</td>\n",
       "      <td>Россия</td>\n",
       "      <td>Ф.Бондарчук</td>\n",
       "      <td>ООО \"Арт Пикчерс Студия\"</td>\n",
       "      <td>«12+» - для детей старше 12 лет</td>\n",
       "      <td>0.00</td>\n",
       "      <td>250,000,000.00</td>\n",
       "      <td>407,141,172.51</td>\n",
       "      <td>Фонд кино</td>\n",
       "      <td>5.60</td>\n",
       "      <td>фантастика</td>\n",
       "      <td>1,038,321,489.00</td>\n",
       "      <td>inf</td>\n",
       "      <td>2016</td>\n",
       "      <td>Ф.Бондарчук</td>\n",
       "      <td>фантастика</td>\n",
       "      <td>631,180,316.49</td>\n",
       "    </tr>\n",
       "    <tr>\n",
       "      <th>5437</th>\n",
       "      <td>матильда</td>\n",
       "      <td>111005717</td>\n",
       "      <td>2017-08-17 12:00:00+00:00</td>\n",
       "      <td>Художественный</td>\n",
       "      <td>ООО \"ТПО \"РОК\", ООО \"Матильда\"</td>\n",
       "      <td>Россия</td>\n",
       "      <td>А.Учитель</td>\n",
       "      <td>А.Учитель, А.Достман, В.Винокур</td>\n",
       "      <td>«16+» - для детей старше 16 лет</td>\n",
       "      <td>110,000,000.00</td>\n",
       "      <td>190,000,000.00</td>\n",
       "      <td>1,032,905,957.00</td>\n",
       "      <td>Фонд кино</td>\n",
       "      <td>7.70</td>\n",
       "      <td>фэнтези,комедия,семейный</td>\n",
       "      <td>511,775,548.00</td>\n",
       "      <td>29.04</td>\n",
       "      <td>2017</td>\n",
       "      <td>А.Учитель</td>\n",
       "      <td>фэнтези</td>\n",
       "      <td>-521,130,409.00</td>\n",
       "    </tr>\n",
       "    <tr>\n",
       "      <th>5505</th>\n",
       "      <td>последний богатырь</td>\n",
       "      <td>111007017</td>\n",
       "      <td>2017-10-19 12:00:00+00:00</td>\n",
       "      <td>Художественный</td>\n",
       "      <td>ООО \"Киностудия \"Слово\" по заказу ООО \"Уолт Ди...</td>\n",
       "      <td>Россия</td>\n",
       "      <td>Д.Дьяченко</td>\n",
       "      <td>Э.Илоян, Д.Жалинский, М.Озкан, А.Троцюк, В.Шляппо</td>\n",
       "      <td>«12+» - для детей старше 12 лет</td>\n",
       "      <td>50,000,000.00</td>\n",
       "      <td>50,000,000.00</td>\n",
       "      <td>352,477,575.00</td>\n",
       "      <td>Фонд кино</td>\n",
       "      <td>6.80</td>\n",
       "      <td>комедия,фэнтези,приключения</td>\n",
       "      <td>1,655,037,688.00</td>\n",
       "      <td>28.37</td>\n",
       "      <td>2017</td>\n",
       "      <td>Д.Дьяченко</td>\n",
       "      <td>комедия</td>\n",
       "      <td>1,302,560,113.00</td>\n",
       "    </tr>\n",
       "    <tr>\n",
       "      <th>5641</th>\n",
       "      <td>ёлки новые</td>\n",
       "      <td>111011617</td>\n",
       "      <td>2017-12-21 12:00:00+00:00</td>\n",
       "      <td>Художественный</td>\n",
       "      <td>ООО \"ТаББаК\"</td>\n",
       "      <td>Россия</td>\n",
       "      <td>Д.Киселев, А.Першин (Ж.Крыжовников), А.Карпило...</td>\n",
       "      <td>Т.Бекмамбетов, Г.Стрижевская</td>\n",
       "      <td>«6+» - для детей старше 6 лет</td>\n",
       "      <td>50,000,000.00</td>\n",
       "      <td>50,000,000.00</td>\n",
       "      <td>174,381,922.00</td>\n",
       "      <td>Фонд кино</td>\n",
       "      <td>5.80</td>\n",
       "      <td>комедия,мелодрама</td>\n",
       "      <td>855,451,052.00</td>\n",
       "      <td>57.35</td>\n",
       "      <td>2017</td>\n",
       "      <td>Д.Киселев</td>\n",
       "      <td>комедия</td>\n",
       "      <td>681,069,130.00</td>\n",
       "    </tr>\n",
       "    <tr>\n",
       "      <th>5653</th>\n",
       "      <td>движение вверх</td>\n",
       "      <td>111011817</td>\n",
       "      <td>2017-12-21 12:00:00+00:00</td>\n",
       "      <td>Художественный</td>\n",
       "      <td>ООО \"Студия \"ТРИТЭ\" Никиты Михалкова\"</td>\n",
       "      <td>Россия</td>\n",
       "      <td>А.Мегердичев</td>\n",
       "      <td>Л.Верещагин, А.Златопольский, Н.Михалков, ООО ...</td>\n",
       "      <td>«6+» - для детей старше 6 лет</td>\n",
       "      <td>0.00</td>\n",
       "      <td>400,000,000.00</td>\n",
       "      <td>590,192,191.00</td>\n",
       "      <td>Фонд кино</td>\n",
       "      <td>7.50</td>\n",
       "      <td>спорт,драма</td>\n",
       "      <td>2,779,686,144.00</td>\n",
       "      <td>67.77</td>\n",
       "      <td>2017</td>\n",
       "      <td>А.Мегердичев</td>\n",
       "      <td>спорт</td>\n",
       "      <td>2,189,493,953.00</td>\n",
       "    </tr>\n",
       "    <tr>\n",
       "      <th>5659</th>\n",
       "      <td>три богатыря и принцесса египта</td>\n",
       "      <td>114003317</td>\n",
       "      <td>2017-12-21 12:00:00+00:00</td>\n",
       "      <td>Анимационный</td>\n",
       "      <td>ООО \"Студия анимационного кино \"Мельница\"</td>\n",
       "      <td>Россия</td>\n",
       "      <td>К.Феоктистов</td>\n",
       "      <td>С.Сельянов, А.Боярский</td>\n",
       "      <td>«6+» - для детей старше 6 лет</td>\n",
       "      <td>50,000,000.00</td>\n",
       "      <td>0.00</td>\n",
       "      <td>174,464,395.00</td>\n",
       "      <td>Фонд кино</td>\n",
       "      <td>5.50</td>\n",
       "      <td>мультфильм,приключения,семейный</td>\n",
       "      <td>759,226,773.00</td>\n",
       "      <td>28.66</td>\n",
       "      <td>2017</td>\n",
       "      <td>К.Феоктистов</td>\n",
       "      <td>мультфильм</td>\n",
       "      <td>584,762,378.00</td>\n",
       "    </tr>\n",
       "    <tr>\n",
       "      <th>5749</th>\n",
       "      <td>я худею</td>\n",
       "      <td>111001618</td>\n",
       "      <td>2018-03-07 12:00:00+00:00</td>\n",
       "      <td>Художественный</td>\n",
       "      <td>ООО \"Друг Друга\", ООО \"Ди Пи Джи\"</td>\n",
       "      <td>Россия</td>\n",
       "      <td>А.Черномазов (псевдоним Алексей Нужный)</td>\n",
       "      <td>С.Корнихин, Н.Куликов, А.Черномазов, А.Кремер,...</td>\n",
       "      <td>«16+» - для детей старше 16 лет</td>\n",
       "      <td>0.00</td>\n",
       "      <td>30,000,000.00</td>\n",
       "      <td>87,649,127.00</td>\n",
       "      <td>Министерство культуры</td>\n",
       "      <td>6.90</td>\n",
       "      <td>комедия</td>\n",
       "      <td>633,462,266.74</td>\n",
       "      <td>34.23</td>\n",
       "      <td>2018</td>\n",
       "      <td>А.Черномазов (псевдоним Алексей Нужный)</td>\n",
       "      <td>комедия</td>\n",
       "      <td>545,813,139.74</td>\n",
       "    </tr>\n",
       "    <tr>\n",
       "      <th>6509</th>\n",
       "      <td>ёлки последние</td>\n",
       "      <td>111023918</td>\n",
       "      <td>2018-12-10 12:00:00+00:00</td>\n",
       "      <td>Художественный</td>\n",
       "      <td>ООО \"ТаББаК\"</td>\n",
       "      <td>Россия</td>\n",
       "      <td>Т.Бекмамбетов, А.Першин (псевдоним Ж.Крыжовник...</td>\n",
       "      <td>Т.Бекмамбетов, Г.Стрижевская</td>\n",
       "      <td>«6+» - для детей старше 6 лет</td>\n",
       "      <td>75,000,000.00</td>\n",
       "      <td>25,000,000.00</td>\n",
       "      <td>179,708,770.00</td>\n",
       "      <td>Фонд кино</td>\n",
       "      <td>6.90</td>\n",
       "      <td>комедия</td>\n",
       "      <td>701,507,030.27</td>\n",
       "      <td>55.65</td>\n",
       "      <td>2018</td>\n",
       "      <td>Т.Бекмамбетов</td>\n",
       "      <td>комедия</td>\n",
       "      <td>521,798,260.27</td>\n",
       "    </tr>\n",
       "    <tr>\n",
       "      <th>6549</th>\n",
       "      <td>т-34</td>\n",
       "      <td>111024918</td>\n",
       "      <td>2018-12-21 12:00:00+00:00</td>\n",
       "      <td>Художественный</td>\n",
       "      <td>ООО \"Кинокомпания МАРС-фильм\" по заказу ООО \"М...</td>\n",
       "      <td>Россия</td>\n",
       "      <td>А.Сидоров</td>\n",
       "      <td>А.Златопольский, Р.Дишдишян, Л.Блаватник, Н.Яр...</td>\n",
       "      <td>«12+» - для детей старше 12 лет</td>\n",
       "      <td>60,000,000.00</td>\n",
       "      <td>120,000,000.00</td>\n",
       "      <td>563,784,717.00</td>\n",
       "      <td>Фонд кино</td>\n",
       "      <td>6.50</td>\n",
       "      <td>драма,военный,боевик</td>\n",
       "      <td>2,271,754,004.52</td>\n",
       "      <td>31.93</td>\n",
       "      <td>2018</td>\n",
       "      <td>А.Сидоров</td>\n",
       "      <td>драма</td>\n",
       "      <td>1,707,969,287.52</td>\n",
       "    </tr>\n",
       "    <tr>\n",
       "      <th>7114</th>\n",
       "      <td>тайна печати дракона</td>\n",
       "      <td>111012819</td>\n",
       "      <td>2019-09-12 12:00:00+00:00</td>\n",
       "      <td>Художественный</td>\n",
       "      <td>ООО \"Кинокомпания \"СТВ\"; ООО \"РФГ Корп\"; ООО \"...</td>\n",
       "      <td>Россия-Китай</td>\n",
       "      <td>О.Степченко</td>\n",
       "      <td>С.Сельянов, А.Петрухин</td>\n",
       "      <td>«6+» - для детей старше 6 лет</td>\n",
       "      <td>180,000,000.00</td>\n",
       "      <td>90,000,000.00</td>\n",
       "      <td>2,305,074,303.00</td>\n",
       "      <td>Фонд кино</td>\n",
       "      <td>5.80</td>\n",
       "      <td>приключения,фэнтези</td>\n",
       "      <td>333,597,059.59</td>\n",
       "      <td>11.71</td>\n",
       "      <td>2019</td>\n",
       "      <td>О.Степченко</td>\n",
       "      <td>приключения</td>\n",
       "      <td>-1,971,477,243.41</td>\n",
       "    </tr>\n",
       "    <tr>\n",
       "      <th>7171</th>\n",
       "      <td>грех</td>\n",
       "      <td>111014419</td>\n",
       "      <td>2019-08-31 12:00:00+00:00</td>\n",
       "      <td>Художественный</td>\n",
       "      <td>НО Фонд Андрея Кончаловского по поддержке кино...</td>\n",
       "      <td>Россия, Италия</td>\n",
       "      <td>А.Михалков (псевдоним А.Кончаловский)</td>\n",
       "      <td>НО Фонд Андрея Кончаловского по поддержке кино...</td>\n",
       "      <td>«16+» - для детей старше 16 лет</td>\n",
       "      <td>0.00</td>\n",
       "      <td>60,000,000.00</td>\n",
       "      <td>779,941,965.00</td>\n",
       "      <td>Министерство культуры</td>\n",
       "      <td>6.90</td>\n",
       "      <td>драма,биография,история</td>\n",
       "      <td>54,243,202.71</td>\n",
       "      <td>7.69</td>\n",
       "      <td>2019</td>\n",
       "      <td>А.Михалков (псевдоним А.Кончаловский)</td>\n",
       "      <td>драма</td>\n",
       "      <td>-725,698,762.29</td>\n",
       "    </tr>\n",
       "    <tr>\n",
       "      <th>7456</th>\n",
       "      <td>холоп</td>\n",
       "      <td>111021719</td>\n",
       "      <td>2019-12-19 12:00:00+00:00</td>\n",
       "      <td>Художественный</td>\n",
       "      <td>ООО \"МЕМ-МЕДИА\" по заказу АО \"ВБД Груп\"</td>\n",
       "      <td>Россия</td>\n",
       "      <td>К.Шипенко</td>\n",
       "      <td>Э.Илоян, Д.Жалинский, В.Дусмухаметов, Т.Бадзие...</td>\n",
       "      <td>«12+» - для детей старше 12 лет</td>\n",
       "      <td>25,000,000.00</td>\n",
       "      <td>35,000,000.00</td>\n",
       "      <td>160,000,000.00</td>\n",
       "      <td>Фонд кино</td>\n",
       "      <td>6.80</td>\n",
       "      <td>комедия</td>\n",
       "      <td>3,073,568,690.79</td>\n",
       "      <td>37.50</td>\n",
       "      <td>2019</td>\n",
       "      <td>К.Шипенко</td>\n",
       "      <td>комедия</td>\n",
       "      <td>2,913,568,690.79</td>\n",
       "    </tr>\n",
       "  </tbody>\n",
       "</table>\n",
       "</div>"
      ],
      "text/plain": [
       "                                title   puNumber           show_start_date  \\\n",
       "2701                самый лучший день  111017815 2015-10-14 12:00:00+00:00   \n",
       "2920                         экипаж .  111005416 2016-03-21 12:00:00+00:00   \n",
       "3105      иван царевич и серый волк 3  114004115 2015-12-24 12:00:00+00:00   \n",
       "3565                притяжение (2016)  111018116 2016-12-16 12:00:00+00:00   \n",
       "5437                         матильда  111005717 2017-08-17 12:00:00+00:00   \n",
       "5505               последний богатырь  111007017 2017-10-19 12:00:00+00:00   \n",
       "5641                       ёлки новые  111011617 2017-12-21 12:00:00+00:00   \n",
       "5653                   движение вверх  111011817 2017-12-21 12:00:00+00:00   \n",
       "5659  три богатыря и принцесса египта  114003317 2017-12-21 12:00:00+00:00   \n",
       "5749                          я худею  111001618 2018-03-07 12:00:00+00:00   \n",
       "6509                   ёлки последние  111023918 2018-12-10 12:00:00+00:00   \n",
       "6549                             т-34  111024918 2018-12-21 12:00:00+00:00   \n",
       "7114             тайна печати дракона  111012819 2019-09-12 12:00:00+00:00   \n",
       "7171                             грех  111014419 2019-08-31 12:00:00+00:00   \n",
       "7456                            холоп  111021719 2019-12-19 12:00:00+00:00   \n",
       "\n",
       "                type                                        film_studio  \\\n",
       "2701  Художественный                                       ООО \"ТаББаК\"   \n",
       "2920  Художественный              ООО \"Студия \"ТРИТЭ\" Никиты Михалкова\"   \n",
       "3105    Анимационный          ООО \"Студия анимационного кино \"Мельница\"   \n",
       "3565  Художественный      ООО \"Водород 2011\",  ООО \"Арт Пикчерс Студия\"   \n",
       "5437  Художественный                     ООО \"ТПО \"РОК\", ООО \"Матильда\"   \n",
       "5505  Художественный  ООО \"Киностудия \"Слово\" по заказу ООО \"Уолт Ди...   \n",
       "5641  Художественный                                       ООО \"ТаББаК\"   \n",
       "5653  Художественный              ООО \"Студия \"ТРИТЭ\" Никиты Михалкова\"   \n",
       "5659    Анимационный          ООО \"Студия анимационного кино \"Мельница\"   \n",
       "5749  Художественный                  ООО \"Друг Друга\", ООО \"Ди Пи Джи\"   \n",
       "6509  Художественный                                       ООО \"ТаББаК\"   \n",
       "6549  Художественный  ООО \"Кинокомпания МАРС-фильм\" по заказу ООО \"М...   \n",
       "7114  Художественный  ООО \"Кинокомпания \"СТВ\"; ООО \"РФГ Корп\"; ООО \"...   \n",
       "7171  Художественный  НО Фонд Андрея Кончаловского по поддержке кино...   \n",
       "7456  Художественный            ООО \"МЕМ-МЕДИА\" по заказу АО \"ВБД Груп\"   \n",
       "\n",
       "     production_country                                           director  \\\n",
       "2701             Россия                 А.Першин (псевдоним Ж.Крыжовников)   \n",
       "2920             Россия                                          Н.Лебедев   \n",
       "3105             Россия                                            Д.Шмидт   \n",
       "3565             Россия                                        Ф.Бондарчук   \n",
       "5437             Россия                                          А.Учитель   \n",
       "5505             Россия                                         Д.Дьяченко   \n",
       "5641             Россия  Д.Киселев, А.Першин (Ж.Крыжовников), А.Карпило...   \n",
       "5653             Россия                                       А.Мегердичев   \n",
       "5659             Россия                                       К.Феоктистов   \n",
       "5749             Россия            А.Черномазов (псевдоним Алексей Нужный)   \n",
       "6509             Россия  Т.Бекмамбетов, А.Першин (псевдоним Ж.Крыжовник...   \n",
       "6549             Россия                                          А.Сидоров   \n",
       "7114       Россия-Китай                                        О.Степченко   \n",
       "7171     Россия, Италия              А.Михалков (псевдоним А.Кончаловский)   \n",
       "7456             Россия                                          К.Шипенко   \n",
       "\n",
       "                                               producer  \\\n",
       "2701  Т.Бекмамбетов, А.Першин (псевдоним Ж.Крыжовник...   \n",
       "2920  Л.Верещагин, А.Златопольский, Н.Михалков, ООО ...   \n",
       "3105                             С.Сельянов, А.Боярский   \n",
       "3565                           ООО \"Арт Пикчерс Студия\"   \n",
       "5437                    А.Учитель, А.Достман, В.Винокур   \n",
       "5505  Э.Илоян, Д.Жалинский, М.Озкан, А.Троцюк, В.Шляппо   \n",
       "5641                       Т.Бекмамбетов, Г.Стрижевская   \n",
       "5653  Л.Верещагин, А.Златопольский, Н.Михалков, ООО ...   \n",
       "5659                             С.Сельянов, А.Боярский   \n",
       "5749  С.Корнихин, Н.Куликов, А.Черномазов, А.Кремер,...   \n",
       "6509                       Т.Бекмамбетов, Г.Стрижевская   \n",
       "6549  А.Златопольский, Р.Дишдишян, Л.Блаватник, Н.Яр...   \n",
       "7114                             С.Сельянов, А.Петрухин   \n",
       "7171  НО Фонд Андрея Кончаловского по поддержке кино...   \n",
       "7456  Э.Илоян, Д.Жалинский, В.Дусмухаметов, Т.Бадзие...   \n",
       "\n",
       "                      age_restriction  refundable_support  \\\n",
       "2701  «16+» - для детей старше 16 лет       29,000,000.00   \n",
       "2920    «6+» - для детей старше 6 лет       50,000,000.00   \n",
       "3105    «6+» - для детей старше 6 лет                0.00   \n",
       "3565  «12+» - для детей старше 12 лет                0.00   \n",
       "5437  «16+» - для детей старше 16 лет      110,000,000.00   \n",
       "5505  «12+» - для детей старше 12 лет       50,000,000.00   \n",
       "5641    «6+» - для детей старше 6 лет       50,000,000.00   \n",
       "5653    «6+» - для детей старше 6 лет                0.00   \n",
       "5659    «6+» - для детей старше 6 лет       50,000,000.00   \n",
       "5749  «16+» - для детей старше 16 лет                0.00   \n",
       "6509    «6+» - для детей старше 6 лет       75,000,000.00   \n",
       "6549  «12+» - для детей старше 12 лет       60,000,000.00   \n",
       "7114    «6+» - для детей старше 6 лет      180,000,000.00   \n",
       "7171  «16+» - для детей старше 16 лет                0.00   \n",
       "7456  «12+» - для детей старше 12 лет       25,000,000.00   \n",
       "\n",
       "      nonrefundable_support           budget       financing_source  ratings  \\\n",
       "2701          34,000,000.00   130,619,336.00              Фонд кино     4.70   \n",
       "2920         392,104,482.00   635,283,867.00              Фонд кино     7.60   \n",
       "3105          40,000,000.00   179,257,987.00              Фонд кино     6.20   \n",
       "3565         250,000,000.00   407,141,172.51              Фонд кино     5.60   \n",
       "5437         190,000,000.00 1,032,905,957.00              Фонд кино     7.70   \n",
       "5505          50,000,000.00   352,477,575.00              Фонд кино     6.80   \n",
       "5641          50,000,000.00   174,381,922.00              Фонд кино     5.80   \n",
       "5653         400,000,000.00   590,192,191.00              Фонд кино     7.50   \n",
       "5659                   0.00   174,464,395.00              Фонд кино     5.50   \n",
       "5749          30,000,000.00    87,649,127.00  Министерство культуры     6.90   \n",
       "6509          25,000,000.00   179,708,770.00              Фонд кино     6.90   \n",
       "6549         120,000,000.00   563,784,717.00              Фонд кино     6.50   \n",
       "7114          90,000,000.00 2,305,074,303.00              Фонд кино     5.80   \n",
       "7171          60,000,000.00   779,941,965.00  Министерство культуры     6.90   \n",
       "7456          35,000,000.00   160,000,000.00              Фонд кино     6.80   \n",
       "\n",
       "                               genres       box_office  state_percent  \\\n",
       "2701                   комедия,музыка   683,029,061.40          48.23   \n",
       "2920        драма,триллер,приключения 1,402,255,390.00          69.59   \n",
       "3105  мультфильм,приключения,семейный   704,928,216.00          22.31   \n",
       "3565                       фантастика 1,038,321,489.00            inf   \n",
       "5437         фэнтези,комедия,семейный   511,775,548.00          29.04   \n",
       "5505      комедия,фэнтези,приключения 1,655,037,688.00          28.37   \n",
       "5641                комедия,мелодрама   855,451,052.00          57.35   \n",
       "5653                      спорт,драма 2,779,686,144.00          67.77   \n",
       "5659  мультфильм,приключения,семейный   759,226,773.00          28.66   \n",
       "5749                          комедия   633,462,266.74          34.23   \n",
       "6509                          комедия   701,507,030.27          55.65   \n",
       "6549             драма,военный,боевик 2,271,754,004.52          31.93   \n",
       "7114              приключения,фэнтези   333,597,059.59          11.71   \n",
       "7171          драма,биография,история    54,243,202.71           7.69   \n",
       "7456                          комедия 3,073,568,690.79          37.50   \n",
       "\n",
       "      show_year                            main_director  main_genres  \\\n",
       "2701       2015       А.Першин (псевдоним Ж.Крыжовников)      комедия   \n",
       "2920       2016                                Н.Лебедев        драма   \n",
       "3105       2015                                  Д.Шмидт   мультфильм   \n",
       "3565       2016                              Ф.Бондарчук   фантастика   \n",
       "5437       2017                                А.Учитель      фэнтези   \n",
       "5505       2017                               Д.Дьяченко      комедия   \n",
       "5641       2017                                Д.Киселев      комедия   \n",
       "5653       2017                             А.Мегердичев        спорт   \n",
       "5659       2017                             К.Феоктистов   мультфильм   \n",
       "5749       2018  А.Черномазов (псевдоним Алексей Нужный)      комедия   \n",
       "6509       2018                            Т.Бекмамбетов      комедия   \n",
       "6549       2018                                А.Сидоров        драма   \n",
       "7114       2019                              О.Степченко  приключения   \n",
       "7171       2019    А.Михалков (псевдоним А.Кончаловский)        драма   \n",
       "7456       2019                                К.Шипенко      комедия   \n",
       "\n",
       "                profit  \n",
       "2701    552,409,725.40  \n",
       "2920    766,971,523.00  \n",
       "3105    525,670,229.00  \n",
       "3565    631,180,316.49  \n",
       "5437   -521,130,409.00  \n",
       "5505  1,302,560,113.00  \n",
       "5641    681,069,130.00  \n",
       "5653  2,189,493,953.00  \n",
       "5659    584,762,378.00  \n",
       "5749    545,813,139.74  \n",
       "6509    521,798,260.27  \n",
       "6549  1,707,969,287.52  \n",
       "7114 -1,971,477,243.41  \n",
       "7171   -725,698,762.29  \n",
       "7456  2,913,568,690.79  "
      ]
     },
     "execution_count": 87,
     "metadata": {},
     "output_type": "execute_result"
    }
   ],
   "source": [
    "data_support.query('profit >= 500000000 or profit <= -500000000')"
   ]
  },
  {
   "cell_type": "code",
   "execution_count": 88,
   "metadata": {},
   "outputs": [
    {
     "data": {
      "text/html": [
       "<div>\n",
       "<style scoped>\n",
       "    .dataframe tbody tr th:only-of-type {\n",
       "        vertical-align: middle;\n",
       "    }\n",
       "\n",
       "    .dataframe tbody tr th {\n",
       "        vertical-align: top;\n",
       "    }\n",
       "\n",
       "    .dataframe thead th {\n",
       "        text-align: right;\n",
       "    }\n",
       "</style>\n",
       "<table border=\"1\" class=\"dataframe\">\n",
       "  <thead>\n",
       "    <tr style=\"text-align: right;\">\n",
       "      <th></th>\n",
       "      <th>title</th>\n",
       "      <th>puNumber</th>\n",
       "      <th>show_start_date</th>\n",
       "      <th>type</th>\n",
       "      <th>film_studio</th>\n",
       "      <th>production_country</th>\n",
       "      <th>director</th>\n",
       "      <th>producer</th>\n",
       "      <th>age_restriction</th>\n",
       "      <th>refundable_support</th>\n",
       "      <th>nonrefundable_support</th>\n",
       "      <th>budget</th>\n",
       "      <th>financing_source</th>\n",
       "      <th>ratings</th>\n",
       "      <th>genres</th>\n",
       "      <th>box_office</th>\n",
       "      <th>state_percent</th>\n",
       "      <th>show_year</th>\n",
       "      <th>main_director</th>\n",
       "      <th>main_genres</th>\n",
       "      <th>profit</th>\n",
       "    </tr>\n",
       "  </thead>\n",
       "  <tbody>\n",
       "    <tr>\n",
       "      <th>2142</th>\n",
       "      <td>территория</td>\n",
       "      <td>111000515</td>\n",
       "      <td>2015-01-27 12:00:00+00:00</td>\n",
       "      <td>Художественный</td>\n",
       "      <td>ООО \"Творческое объединение \"Кинокомпания \"Анд...</td>\n",
       "      <td>Россия</td>\n",
       "      <td>А.Мельник</td>\n",
       "      <td>А.Мельник</td>\n",
       "      <td>«12+» - для детей старше 12 лет</td>\n",
       "      <td>30,000,000.00</td>\n",
       "      <td>30,000,000.00</td>\n",
       "      <td>500,000,000.00</td>\n",
       "      <td>Фонд кино</td>\n",
       "      <td>6.80</td>\n",
       "      <td>детектив,фэнтези,триллер</td>\n",
       "      <td>72,578,317.40</td>\n",
       "      <td>12.00</td>\n",
       "      <td>2015</td>\n",
       "      <td>А.Мельник</td>\n",
       "      <td>детектив</td>\n",
       "      <td>-427,421,682.60</td>\n",
       "    </tr>\n",
       "    <tr>\n",
       "      <th>2920</th>\n",
       "      <td>экипаж .</td>\n",
       "      <td>111005416</td>\n",
       "      <td>2016-03-21 12:00:00+00:00</td>\n",
       "      <td>Художественный</td>\n",
       "      <td>ООО \"Студия \"ТРИТЭ\" Никиты Михалкова\"</td>\n",
       "      <td>Россия</td>\n",
       "      <td>Н.Лебедев</td>\n",
       "      <td>Л.Верещагин, А.Златопольский, Н.Михалков, ООО ...</td>\n",
       "      <td>«6+» - для детей старше 6 лет</td>\n",
       "      <td>50,000,000.00</td>\n",
       "      <td>392,104,482.00</td>\n",
       "      <td>635,283,867.00</td>\n",
       "      <td>Фонд кино</td>\n",
       "      <td>7.60</td>\n",
       "      <td>драма,триллер,приключения</td>\n",
       "      <td>1,402,255,390.00</td>\n",
       "      <td>69.59</td>\n",
       "      <td>2016</td>\n",
       "      <td>Н.Лебедев</td>\n",
       "      <td>драма</td>\n",
       "      <td>766,971,523.00</td>\n",
       "    </tr>\n",
       "    <tr>\n",
       "      <th>3255</th>\n",
       "      <td>время первых (2017)</td>\n",
       "      <td>111001317</td>\n",
       "      <td>2017-02-21 12:00:00+00:00</td>\n",
       "      <td>Художественный</td>\n",
       "      <td>ООО \"ТаББаК\", ООО \"Студия Третий Рим\"</td>\n",
       "      <td>Россия</td>\n",
       "      <td>Д.Киселев</td>\n",
       "      <td>Т.Бекмамбетов, Е.Миронов</td>\n",
       "      <td>«6+» - для детей старше 6 лет</td>\n",
       "      <td>75,000,000.00</td>\n",
       "      <td>175,000,000.00</td>\n",
       "      <td>528,441,977.00</td>\n",
       "      <td>Фонд кино</td>\n",
       "      <td>7.50</td>\n",
       "      <td>приключения,триллер,биография</td>\n",
       "      <td>544,332,260.00</td>\n",
       "      <td>47.31</td>\n",
       "      <td>2017</td>\n",
       "      <td>Д.Киселев</td>\n",
       "      <td>приключения</td>\n",
       "      <td>15,890,283.00</td>\n",
       "    </tr>\n",
       "    <tr>\n",
       "      <th>3351</th>\n",
       "      <td>дуэлянт</td>\n",
       "      <td>111015416</td>\n",
       "      <td>2016-09-14 12:00:00+00:00</td>\n",
       "      <td>Художественный</td>\n",
       "      <td>ООО \"Нон-Стоп Продакшн\"</td>\n",
       "      <td>Россия</td>\n",
       "      <td>А.Мизгирев</td>\n",
       "      <td>А.Роднянский, С.Мелькумов</td>\n",
       "      <td>«16+» - для детей старше 16 лет</td>\n",
       "      <td>150,000,000.00</td>\n",
       "      <td>300,000,000.00</td>\n",
       "      <td>684,200,536.00</td>\n",
       "      <td>Фонд кино</td>\n",
       "      <td>6.60</td>\n",
       "      <td>драма</td>\n",
       "      <td>364,285,139.60</td>\n",
       "      <td>65.77</td>\n",
       "      <td>2016</td>\n",
       "      <td>А.Мизгирев</td>\n",
       "      <td>драма</td>\n",
       "      <td>-319,915,396.40</td>\n",
       "    </tr>\n",
       "    <tr>\n",
       "      <th>5437</th>\n",
       "      <td>матильда</td>\n",
       "      <td>111005717</td>\n",
       "      <td>2017-08-17 12:00:00+00:00</td>\n",
       "      <td>Художественный</td>\n",
       "      <td>ООО \"ТПО \"РОК\", ООО \"Матильда\"</td>\n",
       "      <td>Россия</td>\n",
       "      <td>А.Учитель</td>\n",
       "      <td>А.Учитель, А.Достман, В.Винокур</td>\n",
       "      <td>«16+» - для детей старше 16 лет</td>\n",
       "      <td>110,000,000.00</td>\n",
       "      <td>190,000,000.00</td>\n",
       "      <td>1,032,905,957.00</td>\n",
       "      <td>Фонд кино</td>\n",
       "      <td>7.70</td>\n",
       "      <td>фэнтези,комедия,семейный</td>\n",
       "      <td>511,775,548.00</td>\n",
       "      <td>29.04</td>\n",
       "      <td>2017</td>\n",
       "      <td>А.Учитель</td>\n",
       "      <td>фэнтези</td>\n",
       "      <td>-521,130,409.00</td>\n",
       "    </tr>\n",
       "    <tr>\n",
       "      <th>5569</th>\n",
       "      <td>легенда о коловрате</td>\n",
       "      <td>111007617</td>\n",
       "      <td>2017-11-30 12:00:00+00:00</td>\n",
       "      <td>Художественный</td>\n",
       "      <td>ООО \"Продюсерский центр ИВАН\"</td>\n",
       "      <td>Россия</td>\n",
       "      <td>И.Шурховецкий</td>\n",
       "      <td>ООО \"Централ Партнершип\",              АО \"Тел...</td>\n",
       "      <td>«12+» - для детей старше 12 лет</td>\n",
       "      <td>100,000,000.00</td>\n",
       "      <td>250,000,000.00</td>\n",
       "      <td>500,012,729.00</td>\n",
       "      <td>Фонд кино</td>\n",
       "      <td>6.40</td>\n",
       "      <td>история,боевик,фэнтези</td>\n",
       "      <td>590,405,065.00</td>\n",
       "      <td>70.00</td>\n",
       "      <td>2017</td>\n",
       "      <td>И.Шурховецкий</td>\n",
       "      <td>история</td>\n",
       "      <td>90,392,336.00</td>\n",
       "    </tr>\n",
       "    <tr>\n",
       "      <th>5653</th>\n",
       "      <td>движение вверх</td>\n",
       "      <td>111011817</td>\n",
       "      <td>2017-12-21 12:00:00+00:00</td>\n",
       "      <td>Художественный</td>\n",
       "      <td>ООО \"Студия \"ТРИТЭ\" Никиты Михалкова\"</td>\n",
       "      <td>Россия</td>\n",
       "      <td>А.Мегердичев</td>\n",
       "      <td>Л.Верещагин, А.Златопольский, Н.Михалков, ООО ...</td>\n",
       "      <td>«6+» - для детей старше 6 лет</td>\n",
       "      <td>0.00</td>\n",
       "      <td>400,000,000.00</td>\n",
       "      <td>590,192,191.00</td>\n",
       "      <td>Фонд кино</td>\n",
       "      <td>7.50</td>\n",
       "      <td>спорт,драма</td>\n",
       "      <td>2,779,686,144.00</td>\n",
       "      <td>67.77</td>\n",
       "      <td>2017</td>\n",
       "      <td>А.Мегердичев</td>\n",
       "      <td>спорт</td>\n",
       "      <td>2,189,493,953.00</td>\n",
       "    </tr>\n",
       "    <tr>\n",
       "      <th>6549</th>\n",
       "      <td>т-34</td>\n",
       "      <td>111024918</td>\n",
       "      <td>2018-12-21 12:00:00+00:00</td>\n",
       "      <td>Художественный</td>\n",
       "      <td>ООО \"Кинокомпания МАРС-фильм\" по заказу ООО \"М...</td>\n",
       "      <td>Россия</td>\n",
       "      <td>А.Сидоров</td>\n",
       "      <td>А.Златопольский, Р.Дишдишян, Л.Блаватник, Н.Яр...</td>\n",
       "      <td>«12+» - для детей старше 12 лет</td>\n",
       "      <td>60,000,000.00</td>\n",
       "      <td>120,000,000.00</td>\n",
       "      <td>563,784,717.00</td>\n",
       "      <td>Фонд кино</td>\n",
       "      <td>6.50</td>\n",
       "      <td>драма,военный,боевик</td>\n",
       "      <td>2,271,754,004.52</td>\n",
       "      <td>31.93</td>\n",
       "      <td>2018</td>\n",
       "      <td>А.Сидоров</td>\n",
       "      <td>драма</td>\n",
       "      <td>1,707,969,287.52</td>\n",
       "    </tr>\n",
       "    <tr>\n",
       "      <th>7114</th>\n",
       "      <td>тайна печати дракона</td>\n",
       "      <td>111012819</td>\n",
       "      <td>2019-09-12 12:00:00+00:00</td>\n",
       "      <td>Художественный</td>\n",
       "      <td>ООО \"Кинокомпания \"СТВ\"; ООО \"РФГ Корп\"; ООО \"...</td>\n",
       "      <td>Россия-Китай</td>\n",
       "      <td>О.Степченко</td>\n",
       "      <td>С.Сельянов, А.Петрухин</td>\n",
       "      <td>«6+» - для детей старше 6 лет</td>\n",
       "      <td>180,000,000.00</td>\n",
       "      <td>90,000,000.00</td>\n",
       "      <td>2,305,074,303.00</td>\n",
       "      <td>Фонд кино</td>\n",
       "      <td>5.80</td>\n",
       "      <td>приключения,фэнтези</td>\n",
       "      <td>333,597,059.59</td>\n",
       "      <td>11.71</td>\n",
       "      <td>2019</td>\n",
       "      <td>О.Степченко</td>\n",
       "      <td>приключения</td>\n",
       "      <td>-1,971,477,243.41</td>\n",
       "    </tr>\n",
       "    <tr>\n",
       "      <th>7171</th>\n",
       "      <td>грех</td>\n",
       "      <td>111014419</td>\n",
       "      <td>2019-08-31 12:00:00+00:00</td>\n",
       "      <td>Художественный</td>\n",
       "      <td>НО Фонд Андрея Кончаловского по поддержке кино...</td>\n",
       "      <td>Россия, Италия</td>\n",
       "      <td>А.Михалков (псевдоним А.Кончаловский)</td>\n",
       "      <td>НО Фонд Андрея Кончаловского по поддержке кино...</td>\n",
       "      <td>«16+» - для детей старше 16 лет</td>\n",
       "      <td>0.00</td>\n",
       "      <td>60,000,000.00</td>\n",
       "      <td>779,941,965.00</td>\n",
       "      <td>Министерство культуры</td>\n",
       "      <td>6.90</td>\n",
       "      <td>драма,биография,история</td>\n",
       "      <td>54,243,202.71</td>\n",
       "      <td>7.69</td>\n",
       "      <td>2019</td>\n",
       "      <td>А.Михалков (псевдоним А.Кончаловский)</td>\n",
       "      <td>драма</td>\n",
       "      <td>-725,698,762.29</td>\n",
       "    </tr>\n",
       "    <tr>\n",
       "      <th>7464</th>\n",
       "      <td>союз спасения</td>\n",
       "      <td>111022019</td>\n",
       "      <td>2019-12-26 12:00:00+00:00</td>\n",
       "      <td>Художественный</td>\n",
       "      <td>ЗАО \"Дирекция кино\"</td>\n",
       "      <td>Россия</td>\n",
       "      <td>А.Кравчук</td>\n",
       "      <td>А.Максимов, К.Эрнст</td>\n",
       "      <td>«12+» - для детей старше 12 лет</td>\n",
       "      <td>100,000,000.00</td>\n",
       "      <td>400,000,000.00</td>\n",
       "      <td>980,000,000.00</td>\n",
       "      <td>Фонд кино</td>\n",
       "      <td>6.00</td>\n",
       "      <td>история,биография,драма</td>\n",
       "      <td>717,703,185.53</td>\n",
       "      <td>51.02</td>\n",
       "      <td>2019</td>\n",
       "      <td>А.Кравчук</td>\n",
       "      <td>история</td>\n",
       "      <td>-262,296,814.47</td>\n",
       "    </tr>\n",
       "  </tbody>\n",
       "</table>\n",
       "</div>"
      ],
      "text/plain": [
       "                     title   puNumber           show_start_date  \\\n",
       "2142            территория  111000515 2015-01-27 12:00:00+00:00   \n",
       "2920              экипаж .  111005416 2016-03-21 12:00:00+00:00   \n",
       "3255   время первых (2017)  111001317 2017-02-21 12:00:00+00:00   \n",
       "3351               дуэлянт  111015416 2016-09-14 12:00:00+00:00   \n",
       "5437              матильда  111005717 2017-08-17 12:00:00+00:00   \n",
       "5569   легенда о коловрате  111007617 2017-11-30 12:00:00+00:00   \n",
       "5653        движение вверх  111011817 2017-12-21 12:00:00+00:00   \n",
       "6549                  т-34  111024918 2018-12-21 12:00:00+00:00   \n",
       "7114  тайна печати дракона  111012819 2019-09-12 12:00:00+00:00   \n",
       "7171                  грех  111014419 2019-08-31 12:00:00+00:00   \n",
       "7464         союз спасения  111022019 2019-12-26 12:00:00+00:00   \n",
       "\n",
       "                type                                        film_studio  \\\n",
       "2142  Художественный  ООО \"Творческое объединение \"Кинокомпания \"Анд...   \n",
       "2920  Художественный              ООО \"Студия \"ТРИТЭ\" Никиты Михалкова\"   \n",
       "3255  Художественный              ООО \"ТаББаК\", ООО \"Студия Третий Рим\"   \n",
       "3351  Художественный                            ООО \"Нон-Стоп Продакшн\"   \n",
       "5437  Художественный                     ООО \"ТПО \"РОК\", ООО \"Матильда\"   \n",
       "5569  Художественный                      ООО \"Продюсерский центр ИВАН\"   \n",
       "5653  Художественный              ООО \"Студия \"ТРИТЭ\" Никиты Михалкова\"   \n",
       "6549  Художественный  ООО \"Кинокомпания МАРС-фильм\" по заказу ООО \"М...   \n",
       "7114  Художественный  ООО \"Кинокомпания \"СТВ\"; ООО \"РФГ Корп\"; ООО \"...   \n",
       "7171  Художественный  НО Фонд Андрея Кончаловского по поддержке кино...   \n",
       "7464  Художественный                                ЗАО \"Дирекция кино\"   \n",
       "\n",
       "     production_country                               director  \\\n",
       "2142             Россия                              А.Мельник   \n",
       "2920             Россия                              Н.Лебедев   \n",
       "3255             Россия                              Д.Киселев   \n",
       "3351             Россия                             А.Мизгирев   \n",
       "5437             Россия                              А.Учитель   \n",
       "5569             Россия                          И.Шурховецкий   \n",
       "5653             Россия                           А.Мегердичев   \n",
       "6549             Россия                              А.Сидоров   \n",
       "7114       Россия-Китай                            О.Степченко   \n",
       "7171     Россия, Италия  А.Михалков (псевдоним А.Кончаловский)   \n",
       "7464             Россия                              А.Кравчук   \n",
       "\n",
       "                                               producer  \\\n",
       "2142                                          А.Мельник   \n",
       "2920  Л.Верещагин, А.Златопольский, Н.Михалков, ООО ...   \n",
       "3255                           Т.Бекмамбетов, Е.Миронов   \n",
       "3351                          А.Роднянский, С.Мелькумов   \n",
       "5437                    А.Учитель, А.Достман, В.Винокур   \n",
       "5569  ООО \"Централ Партнершип\",              АО \"Тел...   \n",
       "5653  Л.Верещагин, А.Златопольский, Н.Михалков, ООО ...   \n",
       "6549  А.Златопольский, Р.Дишдишян, Л.Блаватник, Н.Яр...   \n",
       "7114                             С.Сельянов, А.Петрухин   \n",
       "7171  НО Фонд Андрея Кончаловского по поддержке кино...   \n",
       "7464                                А.Максимов, К.Эрнст   \n",
       "\n",
       "                      age_restriction  refundable_support  \\\n",
       "2142  «12+» - для детей старше 12 лет       30,000,000.00   \n",
       "2920    «6+» - для детей старше 6 лет       50,000,000.00   \n",
       "3255    «6+» - для детей старше 6 лет       75,000,000.00   \n",
       "3351  «16+» - для детей старше 16 лет      150,000,000.00   \n",
       "5437  «16+» - для детей старше 16 лет      110,000,000.00   \n",
       "5569  «12+» - для детей старше 12 лет      100,000,000.00   \n",
       "5653    «6+» - для детей старше 6 лет                0.00   \n",
       "6549  «12+» - для детей старше 12 лет       60,000,000.00   \n",
       "7114    «6+» - для детей старше 6 лет      180,000,000.00   \n",
       "7171  «16+» - для детей старше 16 лет                0.00   \n",
       "7464  «12+» - для детей старше 12 лет      100,000,000.00   \n",
       "\n",
       "      nonrefundable_support           budget       financing_source  ratings  \\\n",
       "2142          30,000,000.00   500,000,000.00              Фонд кино     6.80   \n",
       "2920         392,104,482.00   635,283,867.00              Фонд кино     7.60   \n",
       "3255         175,000,000.00   528,441,977.00              Фонд кино     7.50   \n",
       "3351         300,000,000.00   684,200,536.00              Фонд кино     6.60   \n",
       "5437         190,000,000.00 1,032,905,957.00              Фонд кино     7.70   \n",
       "5569         250,000,000.00   500,012,729.00              Фонд кино     6.40   \n",
       "5653         400,000,000.00   590,192,191.00              Фонд кино     7.50   \n",
       "6549         120,000,000.00   563,784,717.00              Фонд кино     6.50   \n",
       "7114          90,000,000.00 2,305,074,303.00              Фонд кино     5.80   \n",
       "7171          60,000,000.00   779,941,965.00  Министерство культуры     6.90   \n",
       "7464         400,000,000.00   980,000,000.00              Фонд кино     6.00   \n",
       "\n",
       "                             genres       box_office  state_percent  \\\n",
       "2142       детектив,фэнтези,триллер    72,578,317.40          12.00   \n",
       "2920      драма,триллер,приключения 1,402,255,390.00          69.59   \n",
       "3255  приключения,триллер,биография   544,332,260.00          47.31   \n",
       "3351                          драма   364,285,139.60          65.77   \n",
       "5437       фэнтези,комедия,семейный   511,775,548.00          29.04   \n",
       "5569         история,боевик,фэнтези   590,405,065.00          70.00   \n",
       "5653                    спорт,драма 2,779,686,144.00          67.77   \n",
       "6549           драма,военный,боевик 2,271,754,004.52          31.93   \n",
       "7114            приключения,фэнтези   333,597,059.59          11.71   \n",
       "7171        драма,биография,история    54,243,202.71           7.69   \n",
       "7464        история,биография,драма   717,703,185.53          51.02   \n",
       "\n",
       "      show_year                          main_director  main_genres  \\\n",
       "2142       2015                              А.Мельник     детектив   \n",
       "2920       2016                              Н.Лебедев        драма   \n",
       "3255       2017                              Д.Киселев  приключения   \n",
       "3351       2016                             А.Мизгирев        драма   \n",
       "5437       2017                              А.Учитель      фэнтези   \n",
       "5569       2017                          И.Шурховецкий      история   \n",
       "5653       2017                           А.Мегердичев        спорт   \n",
       "6549       2018                              А.Сидоров        драма   \n",
       "7114       2019                            О.Степченко  приключения   \n",
       "7171       2019  А.Михалков (псевдоним А.Кончаловский)        драма   \n",
       "7464       2019                              А.Кравчук      история   \n",
       "\n",
       "                profit  \n",
       "2142   -427,421,682.60  \n",
       "2920    766,971,523.00  \n",
       "3255     15,890,283.00  \n",
       "3351   -319,915,396.40  \n",
       "5437   -521,130,409.00  \n",
       "5569     90,392,336.00  \n",
       "5653  2,189,493,953.00  \n",
       "6549  1,707,969,287.52  \n",
       "7114 -1,971,477,243.41  \n",
       "7171   -725,698,762.29  \n",
       "7464   -262,296,814.47  "
      ]
     },
     "execution_count": 88,
     "metadata": {},
     "output_type": "execute_result"
    }
   ],
   "source": [
    "data_support.query('budget >= 500000000')"
   ]
  },
  {
   "cell_type": "markdown",
   "metadata": {},
   "source": [
    "В целом картина по каждому году похожа, основная часть фильмов не окупается в прокате<br>\n",
    "прибыльность фильмов по итогам гоад поределяется успешностью, или неуспешностью блокбастеров"
   ]
  },
  {
   "cell_type": "code",
   "execution_count": 89,
   "metadata": {},
   "outputs": [],
   "source": [
    "data_studios = data_support.pivot_table(index = 'film_studio', values = 'profit', aggfunc=['sum','count'])"
   ]
  },
  {
   "cell_type": "code",
   "execution_count": 90,
   "metadata": {
    "scrolled": true
   },
   "outputs": [
    {
     "data": {
      "text/html": [
       "<div>\n",
       "<style scoped>\n",
       "    .dataframe tbody tr th:only-of-type {\n",
       "        vertical-align: middle;\n",
       "    }\n",
       "\n",
       "    .dataframe tbody tr th {\n",
       "        vertical-align: top;\n",
       "    }\n",
       "\n",
       "    .dataframe thead th {\n",
       "        text-align: right;\n",
       "    }\n",
       "</style>\n",
       "<table border=\"1\" class=\"dataframe\">\n",
       "  <thead>\n",
       "    <tr style=\"text-align: right;\">\n",
       "      <th></th>\n",
       "      <th>sum</th>\n",
       "      <th>count</th>\n",
       "    </tr>\n",
       "    <tr>\n",
       "      <th>film_studio</th>\n",
       "      <th></th>\n",
       "      <th></th>\n",
       "    </tr>\n",
       "  </thead>\n",
       "  <tbody>\n",
       "    <tr>\n",
       "      <th>АО \"ВайТ Медиа\", ООО \"Арт Пикчерс Студия\"</th>\n",
       "      <td>7,085,223.75</td>\n",
       "      <td>3</td>\n",
       "    </tr>\n",
       "    <tr>\n",
       "      <th>ООО \"ВВП Альянс\"</th>\n",
       "      <td>-95,744,247.64</td>\n",
       "      <td>3</td>\n",
       "    </tr>\n",
       "    <tr>\n",
       "      <th>ООО \"ВИЗАРТ ФИЛЬМ\"</th>\n",
       "      <td>-549,208,997.55</td>\n",
       "      <td>4</td>\n",
       "    </tr>\n",
       "    <tr>\n",
       "      <th>ООО \"Каро Продакшн\"</th>\n",
       "      <td>-254,271,785.40</td>\n",
       "      <td>4</td>\n",
       "    </tr>\n",
       "    <tr>\n",
       "      <th>ООО \"Кинокомпания \"СТВ\"</th>\n",
       "      <td>-439,602,706.20</td>\n",
       "      <td>6</td>\n",
       "    </tr>\n",
       "    <tr>\n",
       "      <th>ООО \"Киностудия \"ВЕРТИКАЛЬ\"</th>\n",
       "      <td>-215,842,610.50</td>\n",
       "      <td>3</td>\n",
       "    </tr>\n",
       "    <tr>\n",
       "      <th>ООО \"Компания \"Новые люди\"</th>\n",
       "      <td>-93,597,982.95</td>\n",
       "      <td>3</td>\n",
       "    </tr>\n",
       "    <tr>\n",
       "      <th>ООО \"ЛИЦЕНЗИОННЫЕ БРЕНДЫ\"</th>\n",
       "      <td>-199,938,891.51</td>\n",
       "      <td>3</td>\n",
       "    </tr>\n",
       "    <tr>\n",
       "      <th>ООО \"Нон-Стоп Продакшн\"</th>\n",
       "      <td>-896,912,025.90</td>\n",
       "      <td>3</td>\n",
       "    </tr>\n",
       "    <tr>\n",
       "      <th>ООО \"Пиманов и партнеры\"</th>\n",
       "      <td>196,618,796.93</td>\n",
       "      <td>3</td>\n",
       "    </tr>\n",
       "    <tr>\n",
       "      <th>ООО \"Продюсерский центр \"Ленфильм\"</th>\n",
       "      <td>-241,799,475.54</td>\n",
       "      <td>4</td>\n",
       "    </tr>\n",
       "    <tr>\n",
       "      <th>ООО \"Студия \"СЛОН\"</th>\n",
       "      <td>-133,081,713.30</td>\n",
       "      <td>3</td>\n",
       "    </tr>\n",
       "    <tr>\n",
       "      <th>ООО \"Студия анимационного кино \"Мельница\"</th>\n",
       "      <td>1,377,915,789.22</td>\n",
       "      <td>7</td>\n",
       "    </tr>\n",
       "    <tr>\n",
       "      <th>ООО \"ТаББаК\"</th>\n",
       "      <td>1,569,995,138.87</td>\n",
       "      <td>6</td>\n",
       "    </tr>\n",
       "  </tbody>\n",
       "</table>\n",
       "</div>"
      ],
      "text/plain": [
       "                                                       sum  count\n",
       "film_studio                                                      \n",
       "АО \"ВайТ Медиа\", ООО \"Арт Пикчерс Студия\"     7,085,223.75      3\n",
       "ООО \"ВВП Альянс\"                            -95,744,247.64      3\n",
       "ООО \"ВИЗАРТ ФИЛЬМ\"                         -549,208,997.55      4\n",
       "ООО \"Каро Продакшн\"                        -254,271,785.40      4\n",
       "ООО \"Кинокомпания \"СТВ\"                    -439,602,706.20      6\n",
       "ООО \"Киностудия \"ВЕРТИКАЛЬ\"                -215,842,610.50      3\n",
       "ООО \"Компания \"Новые люди\"                  -93,597,982.95      3\n",
       "ООО \"ЛИЦЕНЗИОННЫЕ БРЕНДЫ\"                  -199,938,891.51      3\n",
       "ООО \"Нон-Стоп Продакшн\"                    -896,912,025.90      3\n",
       "ООО \"Пиманов и партнеры\"                    196,618,796.93      3\n",
       "ООО \"Продюсерский центр \"Ленфильм\"         -241,799,475.54      4\n",
       "ООО \"Студия \"СЛОН\"                         -133,081,713.30      3\n",
       "ООО \"Студия анимационного кино \"Мельница\" 1,377,915,789.22      7\n",
       "ООО \"ТаББаК\"                              1,569,995,138.87      6"
      ]
     },
     "execution_count": 90,
     "metadata": {},
     "output_type": "execute_result"
    }
   ],
   "source": [
    "data_studios.columns = ['sum', 'count']\n",
    "data_studios.query('count > 2')"
   ]
  },
  {
   "cell_type": "markdown",
   "metadata": {},
   "source": [
    "Среди студий с числом фильмов больше 2 наиболее прибыльными являются ООО \"Студия анимационного кино \"Мельница\" и ООО \"ТаББаК\""
   ]
  },
  {
   "cell_type": "markdown",
   "metadata": {},
   "source": [
    "Зависимость бюджета от прибыли"
   ]
  },
  {
   "cell_type": "code",
   "execution_count": 91,
   "metadata": {
    "scrolled": false
   },
   "outputs": [
    {
     "data": {
      "text/plain": [
       "-0.1920975307632652"
      ]
     },
     "execution_count": 91,
     "metadata": {},
     "output_type": "execute_result"
    },
    {
     "data": {
      "image/png": "[encoded data removed]",
      "text/plain": [
       "<Figure size 1080x360 with 1 Axes>"
      ]
     },
     "metadata": {
      "needs_background": "light"
     },
     "output_type": "display_data"
    }
   ],
   "source": [
    "data_support.pivot_table(index = 'budget', values = 'profit').plot(style = 'o', figsize = (15,5))\n",
    "data_support['budget'].corr(data_support['profit'])"
   ]
  },
  {
   "cell_type": "markdown",
   "metadata": {},
   "source": [
    "отрицательная корреляция -0,21, показывает что есть обратная зависимость между величиной бюджета и величиной сборов"
   ]
  },
  {
   "cell_type": "markdown",
   "metadata": {},
   "source": [
    "Исследование величины господдержки"
   ]
  },
  {
   "cell_type": "code",
   "execution_count": 92,
   "metadata": {
    "scrolled": false
   },
   "outputs": [
    {
     "data": {
      "image/png": "[encoded data removed]",
      "text/plain": [
       "<Figure size 1080x360 with 1 Axes>"
      ]
     },
     "metadata": {
      "needs_background": "light"
     },
     "output_type": "display_data"
    }
   ],
   "source": [
    "data_support['state_percent'].plot(kind='hist',bins = 40, figsize = (15,5), range = (0,100));"
   ]
  },
  {
   "cell_type": "markdown",
   "metadata": {},
   "source": [
    "большая часть фильмов получает 65-70 процентов господдержки"
   ]
  },
  {
   "cell_type": "code",
   "execution_count": 93,
   "metadata": {
    "scrolled": false
   },
   "outputs": [
    {
     "data": {
      "text/html": [
       "<div>\n",
       "<style scoped>\n",
       "    .dataframe tbody tr th:only-of-type {\n",
       "        vertical-align: middle;\n",
       "    }\n",
       "\n",
       "    .dataframe tbody tr th {\n",
       "        vertical-align: top;\n",
       "    }\n",
       "\n",
       "    .dataframe thead tr th {\n",
       "        text-align: left;\n",
       "    }\n",
       "\n",
       "    .dataframe thead tr:last-of-type th {\n",
       "        text-align: right;\n",
       "    }\n",
       "</style>\n",
       "<table border=\"1\" class=\"dataframe\">\n",
       "  <thead>\n",
       "    <tr>\n",
       "      <th></th>\n",
       "      <th>sum</th>\n",
       "      <th>count</th>\n",
       "    </tr>\n",
       "    <tr>\n",
       "      <th></th>\n",
       "      <th>profit</th>\n",
       "      <th>profit</th>\n",
       "    </tr>\n",
       "    <tr>\n",
       "      <th>main_genres</th>\n",
       "      <th></th>\n",
       "      <th></th>\n",
       "    </tr>\n",
       "  </thead>\n",
       "  <tbody>\n",
       "    <tr>\n",
       "      <th>биография</th>\n",
       "      <td>-12,050,599.36</td>\n",
       "      <td>3</td>\n",
       "    </tr>\n",
       "    <tr>\n",
       "      <th>боевик</th>\n",
       "      <td>-137,793,048.70</td>\n",
       "      <td>6</td>\n",
       "    </tr>\n",
       "    <tr>\n",
       "      <th>военный</th>\n",
       "      <td>-268,236,353.20</td>\n",
       "      <td>9</td>\n",
       "    </tr>\n",
       "    <tr>\n",
       "      <th>детектив</th>\n",
       "      <td>-1,059,674,785.60</td>\n",
       "      <td>5</td>\n",
       "    </tr>\n",
       "    <tr>\n",
       "      <th>детский</th>\n",
       "      <td>-136,284,352.00</td>\n",
       "      <td>3</td>\n",
       "    </tr>\n",
       "    <tr>\n",
       "      <th>драма</th>\n",
       "      <td>-1,414,729,163.41</td>\n",
       "      <td>86</td>\n",
       "    </tr>\n",
       "    <tr>\n",
       "      <th>история</th>\n",
       "      <td>-689,593,971.43</td>\n",
       "      <td>4</td>\n",
       "    </tr>\n",
       "    <tr>\n",
       "      <th>комедия</th>\n",
       "      <td>6,331,825,374.17</td>\n",
       "      <td>73</td>\n",
       "    </tr>\n",
       "    <tr>\n",
       "      <th>криминал</th>\n",
       "      <td>-186,800,918.00</td>\n",
       "      <td>3</td>\n",
       "    </tr>\n",
       "    <tr>\n",
       "      <th>мелодрама</th>\n",
       "      <td>-839,673,355.64</td>\n",
       "      <td>14</td>\n",
       "    </tr>\n",
       "    <tr>\n",
       "      <th>мультфильм</th>\n",
       "      <td>-507,918,538.06</td>\n",
       "      <td>30</td>\n",
       "    </tr>\n",
       "    <tr>\n",
       "      <th>мюзикл</th>\n",
       "      <td>-462,492,467.02</td>\n",
       "      <td>4</td>\n",
       "    </tr>\n",
       "    <tr>\n",
       "      <th>приключения</th>\n",
       "      <td>-2,111,269,212.38</td>\n",
       "      <td>6</td>\n",
       "    </tr>\n",
       "    <tr>\n",
       "      <th>реальное ТВ</th>\n",
       "      <td>-47,278,896.57</td>\n",
       "      <td>1</td>\n",
       "    </tr>\n",
       "    <tr>\n",
       "      <th>семейный</th>\n",
       "      <td>-19,375,037.35</td>\n",
       "      <td>6</td>\n",
       "    </tr>\n",
       "    <tr>\n",
       "      <th>спорт</th>\n",
       "      <td>2,257,299,422.44</td>\n",
       "      <td>3</td>\n",
       "    </tr>\n",
       "    <tr>\n",
       "      <th>триллер</th>\n",
       "      <td>-688,224,631.26</td>\n",
       "      <td>15</td>\n",
       "    </tr>\n",
       "    <tr>\n",
       "      <th>ужасы</th>\n",
       "      <td>146,245,564.35</td>\n",
       "      <td>10</td>\n",
       "    </tr>\n",
       "    <tr>\n",
       "      <th>фантастика</th>\n",
       "      <td>61,962,291.88</td>\n",
       "      <td>10</td>\n",
       "    </tr>\n",
       "    <tr>\n",
       "      <th>фэнтези</th>\n",
       "      <td>-1,344,287,157.03</td>\n",
       "      <td>11</td>\n",
       "    </tr>\n",
       "  </tbody>\n",
       "</table>\n",
       "</div>"
      ],
      "text/plain": [
       "                          sum  count\n",
       "                       profit profit\n",
       "main_genres                         \n",
       "биография      -12,050,599.36      3\n",
       "боевик        -137,793,048.70      6\n",
       "военный       -268,236,353.20      9\n",
       "детектив    -1,059,674,785.60      5\n",
       "детский       -136,284,352.00      3\n",
       "драма       -1,414,729,163.41     86\n",
       "история       -689,593,971.43      4\n",
       "комедия      6,331,825,374.17     73\n",
       "криминал      -186,800,918.00      3\n",
       "мелодрама     -839,673,355.64     14\n",
       "мультфильм    -507,918,538.06     30\n",
       "мюзикл        -462,492,467.02      4\n",
       "приключения -2,111,269,212.38      6\n",
       "реальное ТВ    -47,278,896.57      1\n",
       "семейный       -19,375,037.35      6\n",
       "спорт        2,257,299,422.44      3\n",
       "триллер       -688,224,631.26     15\n",
       "ужасы          146,245,564.35     10\n",
       "фантастика      61,962,291.88     10\n",
       "фэнтези     -1,344,287,157.03     11"
      ]
     },
     "execution_count": 93,
     "metadata": {},
     "output_type": "execute_result"
    }
   ],
   "source": [
    "data_support.pivot_table(index = 'main_genres', values = 'profit', aggfunc=['sum','count'])"
   ]
  },
  {
   "cell_type": "markdown",
   "metadata": {},
   "source": [
    "Наиболее прибыльными являются спортивные фильмы и комедии<br>\n",
    "Убыточные - детективы, драмы, приключения, фэнтэзи"
   ]
  },
  {
   "cell_type": "code",
   "execution_count": 94,
   "metadata": {},
   "outputs": [
    {
     "data": {
      "text/html": [
       "<div>\n",
       "<style scoped>\n",
       "    .dataframe tbody tr th:only-of-type {\n",
       "        vertical-align: middle;\n",
       "    }\n",
       "\n",
       "    .dataframe tbody tr th {\n",
       "        vertical-align: top;\n",
       "    }\n",
       "\n",
       "    .dataframe thead tr th {\n",
       "        text-align: left;\n",
       "    }\n",
       "\n",
       "    .dataframe thead tr:last-of-type th {\n",
       "        text-align: right;\n",
       "    }\n",
       "</style>\n",
       "<table border=\"1\" class=\"dataframe\">\n",
       "  <thead>\n",
       "    <tr>\n",
       "      <th></th>\n",
       "      <th>sum</th>\n",
       "      <th>count</th>\n",
       "    </tr>\n",
       "    <tr>\n",
       "      <th></th>\n",
       "      <th>profit</th>\n",
       "      <th>profit</th>\n",
       "    </tr>\n",
       "    <tr>\n",
       "      <th>financing_source</th>\n",
       "      <th></th>\n",
       "      <th></th>\n",
       "    </tr>\n",
       "  </thead>\n",
       "  <tbody>\n",
       "    <tr>\n",
       "      <th>Министерство культуры</th>\n",
       "      <td>-5,052,311,560.26</td>\n",
       "      <td>142</td>\n",
       "    </tr>\n",
       "    <tr>\n",
       "      <th>Министерство культуры, Фонд кино</th>\n",
       "      <td>-1,799,674,151.61</td>\n",
       "      <td>21</td>\n",
       "    </tr>\n",
       "    <tr>\n",
       "      <th>Фонд кино</th>\n",
       "      <td>5,723,635,877.70</td>\n",
       "      <td>139</td>\n",
       "    </tr>\n",
       "  </tbody>\n",
       "</table>\n",
       "</div>"
      ],
      "text/plain": [
       "                                               sum  count\n",
       "                                            profit profit\n",
       "financing_source                                         \n",
       "Министерство культуры            -5,052,311,560.26    142\n",
       "Министерство культуры, Фонд кино -1,799,674,151.61     21\n",
       "Фонд кино                         5,723,635,877.70    139"
      ]
     },
     "execution_count": 94,
     "metadata": {},
     "output_type": "execute_result"
    }
   ],
   "source": [
    "data_support.pivot_table(index = 'financing_source', values = 'profit', aggfunc=['sum','count'])"
   ]
  },
  {
   "cell_type": "markdown",
   "metadata": {},
   "source": [
    "фильмы спонсируемые министерством культуры суммарно за все годы были убыточными<br>\n",
    "Фильмы спонсируемые Фонд кино имели суммарную прибыль за рассматриваемый период"
   ]
  },
  {
   "cell_type": "markdown",
   "metadata": {
    "id": "V2gYwMcPgFyd"
   },
   "source": [
    "### Общий вывод"
   ]
  },
  {
   "cell_type": "markdown",
   "metadata": {},
   "source": [
    "Были проанализированы данные о прокатных удостоверениях, и данные о прокате в российских кинотеатрах.<br>\n",
    "Были обработным некорректные типы данных и аномальные значения.<br>\n",
    "<br>\n",
    "Выводы по анализу данных о прокате в российских кинотеатрах:<br>\n",
    "* в период с 2010 по 2019 год выходило от 505 до 985 фильмов в год. наибольшее количество фильмов было выпущено в 2010 (985) и в 2019(930) году, в 2017 наименьшее(505)<br>\n",
    "\n",
    "* процент известных данных о прокате возрастает с каждым годом, с 10% в 2010 до 70% в 2017, известных данных о прокате за 2018 - 2019 годы ~ 55%<br>\n",
    "\n",
    "* медианная сумма сборов, за 2016 и 2019 примерно в 2 раза меньше чем за 2017 и 2018 при этом средние значения не так сильно отличаются, по видимому в 2016 и 2019, выходили блокбастеры с большими сборами, что и определило высокие сборы за год<br>\n",
    "\n",
    "* наименьшие сборы у фильмов «0+», кроме того после 2016 года фильмы такой категории практически перестали выпускать наиболее успешные по сборам за каждый фильм - фильмы категории «12+» наибольшая сумма сборову фильмов «16+» в связи с тем что в этой категории выпускается больше фильмов\n",
    "\n",
    "* самое большое медианное значение сборов имеют фильмы 6+ (21 млрд), без учета блокбастеров, фильмы этой категории являются самыми успешными в прокате\n",
    "\n",
    "* средние значения сборов для фильмов 12+ в 20 раз превышают медианные, что может свидетельствовать о том, что в этой возрастной категории снимается большинство блокбастеров.\n",
    "\n",
    "\n",
    "Выполнен анализ фильмов с господдержкой.<br>\n",
    "Удалены cтроки с отсутствующими данными(9.9%)<br>\n",
    "Выводы по анализу данных фильмов с господдержкой:<br>\n",
    "\n",
    "* Медианный бюджет фильмов с гос поддержкой увеличивался с 2013 (255 млн.) по 2018(6,5 млрд.) годы, в 2019(10,8 млрд) году сумма бюджетов выросла практически в 2 раза по сравнению с предыдущим годом, при этом медианный бюджет снизился на 10 процентов(87 -> 80 млн), что может свидетельствовать о наибольшем количестве выпускаемых высокобюджетных фильмов в 2019 году.\n",
    "* каждый год, доля гос поддержки в фильмах составляла 50-60 процентов.\n",
    "* общие сборы росли с 2013(20 млн.)  по 2017(10,85 млрд)  годы, затем за 2018 и 2019 (8,5 млрд) года были одинаковыми, и снизились на 30 процентов от 2017 года\n",
    "* средний рейтинг по годам держится в рйоне 6 баллов\n",
    "* наблюдается небольшая корреляция, филмьмы с большим рейтингом получают больше сборов\n",
    "* из 302 филмов окупились только 80\n",
    "* прибыльными для филмьов были только 2017 и 2018 годы\n",
    "* при этом невозвратные средства за каждый из 2015-2019 годов выделялись примерно на одном уровне (3 млрд)\n",
    "* картина прибыльности фильмов по годам в целом схожа, основная часть фильмов не окупается в прокате, прибыльность по итогам года определяется успешностью, или не успешностью в прокате нескольких высокобюджетных фильмов.\n",
    "* Среди студий с числом фильмов больше 2 наиболее прибыльными являются ООО \"Студия анимационного кино \"Мельница\" и ООО \"ТаББаК\" (по ~1.4 млрд).\n",
    "* Отрицательная корреляция -0,21, показывает что есть обратная зависимость между величиной бюджета и величиной сборов\n",
    "* Наиболее прибыльными являются спортивные фильмы(2,25 млрд) и комедии(6,7 млрд), Убыточные – детективы(-1  млрд ), драмы(-1,2  млрд ), приключения(-2,1  млрд ), фэнтэзи (-1,3  млрд )\n",
    "* Фильмы спонсируемые министерством культуры суммарно за все годы были убыточными(-5  млрд ), Фильмы спонсируемые Фонд кино имели суммарную прибыль за рассматриваемый период(-5 млрд )"
   ]
  }
 ],
 "metadata": {
  "ExecuteTimeLog": [
   {
    "duration": 537,
    "start_time": "2021-07-07T10:12:08.634Z"
   },
   {
    "duration": 206,
    "start_time": "2021-07-07T10:12:30.191Z"
   },
   {
    "duration": 227,
    "start_time": "2021-07-07T10:12:33.078Z"
   },
   {
    "duration": 153,
    "start_time": "2021-07-07T10:13:42.146Z"
   },
   {
    "duration": 233,
    "start_time": "2021-07-07T10:30:09.252Z"
   },
   {
    "duration": 19,
    "start_time": "2021-07-07T10:30:15.577Z"
   },
   {
    "duration": 18,
    "start_time": "2021-07-07T10:30:57.348Z"
   },
   {
    "duration": 19,
    "start_time": "2021-07-07T10:31:17.452Z"
   },
   {
    "duration": 21,
    "start_time": "2021-07-07T10:31:32.227Z"
   },
   {
    "duration": 27,
    "start_time": "2021-07-07T10:32:06.588Z"
   },
   {
    "duration": 23,
    "start_time": "2021-07-07T10:32:43.645Z"
   },
   {
    "duration": 24,
    "start_time": "2021-07-07T10:33:06.948Z"
   },
   {
    "duration": 7,
    "start_time": "2021-07-07T10:33:28.558Z"
   },
   {
    "duration": 23,
    "start_time": "2021-07-07T10:33:43.761Z"
   },
   {
    "duration": 28,
    "start_time": "2021-07-07T10:34:13.466Z"
   },
   {
    "duration": 23,
    "start_time": "2021-07-07T10:35:56.187Z"
   },
   {
    "duration": 6,
    "start_time": "2021-07-07T10:36:48.182Z"
   },
   {
    "duration": 14,
    "start_time": "2021-07-07T10:37:49.641Z"
   },
   {
    "duration": 6,
    "start_time": "2021-07-07T10:38:06.694Z"
   },
   {
    "duration": 6,
    "start_time": "2021-07-07T10:38:13.493Z"
   },
   {
    "duration": 19,
    "start_time": "2021-07-07T10:38:44.056Z"
   },
   {
    "duration": 186,
    "start_time": "2021-07-07T10:48:35.618Z"
   },
   {
    "duration": 24,
    "start_time": "2021-07-07T10:48:51.498Z"
   },
   {
    "duration": 20,
    "start_time": "2021-07-07T10:48:59.415Z"
   },
   {
    "duration": 20,
    "start_time": "2021-07-07T10:53:02.195Z"
   },
   {
    "duration": 188,
    "start_time": "2021-07-07T10:54:40.486Z"
   },
   {
    "duration": 115,
    "start_time": "2021-07-07T10:54:52.552Z"
   },
   {
    "duration": 214,
    "start_time": "2021-07-07T10:54:56.354Z"
   },
   {
    "duration": 47,
    "start_time": "2021-07-07T10:54:58.282Z"
   },
   {
    "duration": 217,
    "start_time": "2021-07-07T10:59:16.075Z"
   },
   {
    "duration": 51,
    "start_time": "2021-07-07T10:59:16.243Z"
   },
   {
    "duration": 578,
    "start_time": "2021-07-07T10:59:18.774Z"
   },
   {
    "duration": 161,
    "start_time": "2021-07-07T10:59:21.238Z"
   },
   {
    "duration": 59,
    "start_time": "2021-07-07T10:59:21.453Z"
   },
   {
    "duration": 3,
    "start_time": "2021-07-07T11:02:10.786Z"
   },
   {
    "duration": 13,
    "start_time": "2021-07-07T11:07:07.722Z"
   },
   {
    "duration": 26,
    "start_time": "2021-07-07T11:07:17.958Z"
   },
   {
    "duration": 22,
    "start_time": "2021-07-07T11:08:17.939Z"
   },
   {
    "duration": 212,
    "start_time": "2021-07-07T11:08:19.665Z"
   },
   {
    "duration": 21,
    "start_time": "2021-07-07T11:08:29.945Z"
   },
   {
    "duration": 31,
    "start_time": "2021-07-07T11:08:38.899Z"
   },
   {
    "duration": 23,
    "start_time": "2021-07-07T11:08:54.527Z"
   },
   {
    "duration": 8,
    "start_time": "2021-07-07T11:18:55.974Z"
   },
   {
    "duration": 7,
    "start_time": "2021-07-07T11:19:03.639Z"
   },
   {
    "duration": 7,
    "start_time": "2021-07-07T11:19:06.444Z"
   },
   {
    "duration": 578,
    "start_time": "2021-07-07T12:09:59.576Z"
   },
   {
    "duration": 195,
    "start_time": "2021-07-07T12:10:00.156Z"
   },
   {
    "duration": 115,
    "start_time": "2021-07-07T12:10:00.353Z"
   },
   {
    "duration": 3,
    "start_time": "2021-07-07T12:10:00.470Z"
   },
   {
    "duration": 32,
    "start_time": "2021-07-07T12:10:00.474Z"
   },
   {
    "duration": 23,
    "start_time": "2021-07-07T12:10:00.508Z"
   },
   {
    "duration": 19,
    "start_time": "2021-07-07T12:10:00.533Z"
   },
   {
    "duration": 44,
    "start_time": "2021-07-07T12:10:00.553Z"
   },
   {
    "duration": 7,
    "start_time": "2021-07-07T12:10:00.600Z"
   },
   {
    "duration": 7,
    "start_time": "2021-07-07T12:19:45.761Z"
   },
   {
    "duration": 21,
    "start_time": "2021-07-07T12:21:35.482Z"
   },
   {
    "duration": 21,
    "start_time": "2021-07-07T12:29:23.569Z"
   },
   {
    "duration": 525,
    "start_time": "2021-07-07T12:29:44.542Z"
   },
   {
    "duration": 214,
    "start_time": "2021-07-07T12:29:45.069Z"
   },
   {
    "duration": 92,
    "start_time": "2021-07-07T12:29:45.285Z"
   },
   {
    "duration": 3,
    "start_time": "2021-07-07T12:29:45.379Z"
   },
   {
    "duration": 28,
    "start_time": "2021-07-07T12:29:45.384Z"
   },
   {
    "duration": 23,
    "start_time": "2021-07-07T12:29:45.413Z"
   },
   {
    "duration": 21,
    "start_time": "2021-07-07T12:29:45.437Z"
   },
   {
    "duration": 41,
    "start_time": "2021-07-07T12:29:45.460Z"
   },
   {
    "duration": 7,
    "start_time": "2021-07-07T12:29:45.502Z"
   },
   {
    "duration": 20,
    "start_time": "2021-07-07T12:29:45.511Z"
   },
   {
    "duration": 12,
    "start_time": "2021-07-07T12:34:02.800Z"
   },
   {
    "duration": 7,
    "start_time": "2021-07-07T12:35:10.479Z"
   },
   {
    "duration": 8,
    "start_time": "2021-07-07T12:35:22.440Z"
   },
   {
    "duration": 6,
    "start_time": "2021-07-07T12:35:35.649Z"
   },
   {
    "duration": 6,
    "start_time": "2021-07-07T12:35:43.107Z"
   },
   {
    "duration": 22,
    "start_time": "2021-07-07T12:38:03.029Z"
   },
   {
    "duration": 10,
    "start_time": "2021-07-07T12:38:06.592Z"
   },
   {
    "duration": 563,
    "start_time": "2021-07-07T12:38:46.493Z"
   },
   {
    "duration": 265,
    "start_time": "2021-07-07T12:38:47.058Z"
   },
   {
    "duration": 94,
    "start_time": "2021-07-07T12:38:47.325Z"
   },
   {
    "duration": 3,
    "start_time": "2021-07-07T12:38:47.422Z"
   },
   {
    "duration": 30,
    "start_time": "2021-07-07T12:38:47.427Z"
   },
   {
    "duration": 16,
    "start_time": "2021-07-07T12:38:53.305Z"
   },
   {
    "duration": 10,
    "start_time": "2021-07-07T12:38:53.499Z"
   },
   {
    "duration": 8,
    "start_time": "2021-07-07T12:39:48.161Z"
   },
   {
    "duration": 27,
    "start_time": "2021-07-07T12:41:17.629Z"
   },
   {
    "duration": 17,
    "start_time": "2021-07-07T12:41:17.867Z"
   },
   {
    "duration": 21,
    "start_time": "2021-07-07T12:41:19.310Z"
   },
   {
    "duration": 7,
    "start_time": "2021-07-07T12:41:19.544Z"
   },
   {
    "duration": 20,
    "start_time": "2021-07-07T12:41:20.504Z"
   },
   {
    "duration": 554,
    "start_time": "2021-07-07T12:56:23.696Z"
   },
   {
    "duration": 200,
    "start_time": "2021-07-07T12:56:25.234Z"
   },
   {
    "duration": 119,
    "start_time": "2021-07-07T12:56:25.480Z"
   },
   {
    "duration": 4,
    "start_time": "2021-07-07T12:56:25.762Z"
   },
   {
    "duration": 26,
    "start_time": "2021-07-07T12:56:27.172Z"
   },
   {
    "duration": 12,
    "start_time": "2021-07-07T12:56:29.051Z"
   },
   {
    "duration": 10,
    "start_time": "2021-07-07T12:56:29.291Z"
   },
   {
    "duration": 8,
    "start_time": "2021-07-07T12:56:29.623Z"
   },
   {
    "duration": 28,
    "start_time": "2021-07-07T12:56:32.137Z"
   },
   {
    "duration": 19,
    "start_time": "2021-07-07T12:56:39.785Z"
   },
   {
    "duration": 20,
    "start_time": "2021-07-07T12:56:44.297Z"
   },
   {
    "duration": 7,
    "start_time": "2021-07-07T12:56:45.392Z"
   },
   {
    "duration": 23,
    "start_time": "2021-07-07T12:56:46.615Z"
   },
   {
    "duration": 4,
    "start_time": "2021-07-07T12:57:06.625Z"
   },
   {
    "duration": 32,
    "start_time": "2021-07-07T12:57:36.690Z"
   },
   {
    "duration": 18,
    "start_time": "2021-07-07T12:58:00.149Z"
   },
   {
    "duration": 15,
    "start_time": "2021-07-07T12:59:16.793Z"
   },
   {
    "duration": 7,
    "start_time": "2021-07-07T13:19:22.624Z"
   },
   {
    "duration": 6,
    "start_time": "2021-07-07T14:17:33.527Z"
   },
   {
    "duration": 9,
    "start_time": "2021-07-07T14:17:48.409Z"
   },
   {
    "duration": 8,
    "start_time": "2021-07-07T14:20:13.060Z"
   },
   {
    "duration": 8,
    "start_time": "2021-07-07T14:20:37.957Z"
   },
   {
    "duration": 8,
    "start_time": "2021-07-07T14:20:47.470Z"
   },
   {
    "duration": 9,
    "start_time": "2021-07-07T14:20:54.503Z"
   },
   {
    "duration": 10,
    "start_time": "2021-07-07T14:28:57.763Z"
   },
   {
    "duration": 3,
    "start_time": "2021-07-07T14:30:23.377Z"
   },
   {
    "duration": 3,
    "start_time": "2021-07-07T14:30:36.489Z"
   },
   {
    "duration": 103,
    "start_time": "2021-07-07T14:30:52.351Z"
   },
   {
    "duration": 8,
    "start_time": "2021-07-07T14:30:54.763Z"
   },
   {
    "duration": 8,
    "start_time": "2021-07-07T14:31:29.301Z"
   },
   {
    "duration": 13,
    "start_time": "2021-07-07T14:31:44.516Z"
   },
   {
    "duration": 7,
    "start_time": "2021-07-07T14:33:10.972Z"
   },
   {
    "duration": 11,
    "start_time": "2021-07-07T14:33:27.780Z"
   },
   {
    "duration": 8,
    "start_time": "2021-07-07T14:34:44.588Z"
   },
   {
    "duration": 57,
    "start_time": "2021-07-07T14:35:59.042Z"
   },
   {
    "duration": 3,
    "start_time": "2021-07-07T14:36:28.168Z"
   },
   {
    "duration": 5,
    "start_time": "2021-07-07T14:36:46.254Z"
   },
   {
    "duration": 4,
    "start_time": "2021-07-07T14:36:52.714Z"
   },
   {
    "duration": 3,
    "start_time": "2021-07-07T14:36:56.612Z"
   },
   {
    "duration": 4,
    "start_time": "2021-07-07T14:36:57.049Z"
   },
   {
    "duration": 3,
    "start_time": "2021-07-07T14:39:21.214Z"
   },
   {
    "duration": 7,
    "start_time": "2021-07-07T14:39:52.406Z"
   },
   {
    "duration": 11,
    "start_time": "2021-07-07T14:39:58.576Z"
   },
   {
    "duration": 9,
    "start_time": "2021-07-07T14:40:26.301Z"
   },
   {
    "duration": 10,
    "start_time": "2021-07-07T14:40:31.704Z"
   },
   {
    "duration": 11,
    "start_time": "2021-07-07T14:40:36.249Z"
   },
   {
    "duration": 10,
    "start_time": "2021-07-07T14:40:39.783Z"
   },
   {
    "duration": 9,
    "start_time": "2021-07-07T14:40:48.558Z"
   },
   {
    "duration": 10,
    "start_time": "2021-07-07T14:40:57.143Z"
   },
   {
    "duration": 9,
    "start_time": "2021-07-07T14:41:06.074Z"
   },
   {
    "duration": 4324,
    "start_time": "2021-07-07T14:41:22.004Z"
   },
   {
    "duration": 11,
    "start_time": "2021-07-07T14:41:33.392Z"
   },
   {
    "duration": 9,
    "start_time": "2021-07-07T14:41:39.288Z"
   },
   {
    "duration": 569,
    "start_time": "2021-07-07T14:42:14.387Z"
   },
   {
    "duration": 197,
    "start_time": "2021-07-07T14:42:14.959Z"
   },
   {
    "duration": 84,
    "start_time": "2021-07-07T14:42:16.052Z"
   },
   {
    "duration": 4,
    "start_time": "2021-07-07T14:42:16.900Z"
   },
   {
    "duration": 27,
    "start_time": "2021-07-07T14:42:19.898Z"
   },
   {
    "duration": 12,
    "start_time": "2021-07-07T14:42:21.577Z"
   },
   {
    "duration": 9,
    "start_time": "2021-07-07T14:42:21.813Z"
   },
   {
    "duration": 9,
    "start_time": "2021-07-07T14:42:22.569Z"
   },
   {
    "duration": 29,
    "start_time": "2021-07-07T14:42:25.837Z"
   },
   {
    "duration": 20,
    "start_time": "2021-07-07T14:42:27.003Z"
   },
   {
    "duration": 21,
    "start_time": "2021-07-07T14:42:28.767Z"
   },
   {
    "duration": 7,
    "start_time": "2021-07-07T14:42:29.838Z"
   },
   {
    "duration": 4,
    "start_time": "2021-07-07T14:43:25.493Z"
   },
   {
    "duration": 7,
    "start_time": "2021-07-07T14:43:26.573Z"
   },
   {
    "duration": 10,
    "start_time": "2021-07-07T14:43:31.639Z"
   },
   {
    "duration": 9,
    "start_time": "2021-07-07T14:43:32.046Z"
   },
   {
    "duration": 10,
    "start_time": "2021-07-07T14:43:33.301Z"
   },
   {
    "duration": 12,
    "start_time": "2021-07-07T14:43:33.658Z"
   },
   {
    "duration": 8,
    "start_time": "2021-07-07T14:43:34.552Z"
   },
   {
    "duration": 9,
    "start_time": "2021-07-07T14:43:35.058Z"
   },
   {
    "duration": 12,
    "start_time": "2021-07-07T14:43:35.914Z"
   },
   {
    "duration": 17,
    "start_time": "2021-07-07T14:45:34.368Z"
   },
   {
    "duration": 512,
    "start_time": "2021-07-07T14:51:58.236Z"
   },
   {
    "duration": 223,
    "start_time": "2021-07-07T14:51:58.750Z"
   },
   {
    "duration": 93,
    "start_time": "2021-07-07T14:51:58.977Z"
   },
   {
    "duration": 4,
    "start_time": "2021-07-07T14:51:59.071Z"
   },
   {
    "duration": 37,
    "start_time": "2021-07-07T14:51:59.077Z"
   },
   {
    "duration": 18,
    "start_time": "2021-07-07T14:51:59.116Z"
   },
   {
    "duration": 10,
    "start_time": "2021-07-07T14:51:59.137Z"
   },
   {
    "duration": 8,
    "start_time": "2021-07-07T14:51:59.149Z"
   },
   {
    "duration": 54,
    "start_time": "2021-07-07T14:51:59.158Z"
   },
   {
    "duration": 18,
    "start_time": "2021-07-07T14:51:59.213Z"
   },
   {
    "duration": 22,
    "start_time": "2021-07-07T14:51:59.232Z"
   },
   {
    "duration": 36,
    "start_time": "2021-07-07T14:51:59.255Z"
   },
   {
    "duration": 7,
    "start_time": "2021-07-07T14:51:59.293Z"
   },
   {
    "duration": 10,
    "start_time": "2021-07-07T14:51:59.302Z"
   },
   {
    "duration": 9,
    "start_time": "2021-07-07T14:51:59.313Z"
   },
   {
    "duration": 11,
    "start_time": "2021-07-07T14:51:59.324Z"
   },
   {
    "duration": 8,
    "start_time": "2021-07-07T14:51:59.337Z"
   },
   {
    "duration": 46,
    "start_time": "2021-07-07T14:51:59.347Z"
   },
   {
    "duration": 22,
    "start_time": "2021-07-07T14:51:59.395Z"
   },
   {
    "duration": 24,
    "start_time": "2021-07-07T14:57:32.911Z"
   },
   {
    "duration": 7,
    "start_time": "2021-07-07T14:58:22.070Z"
   },
   {
    "duration": 4,
    "start_time": "2021-07-07T14:59:11.239Z"
   },
   {
    "duration": 25,
    "start_time": "2021-07-07T15:07:22.208Z"
   },
   {
    "duration": 16,
    "start_time": "2021-07-07T15:08:25.560Z"
   },
   {
    "duration": 15,
    "start_time": "2021-07-07T15:08:40.647Z"
   },
   {
    "duration": 14,
    "start_time": "2021-07-07T15:08:46.669Z"
   },
   {
    "duration": 533,
    "start_time": "2021-07-07T15:18:07.440Z"
   },
   {
    "duration": 173,
    "start_time": "2021-07-07T15:18:07.974Z"
   },
   {
    "duration": 84,
    "start_time": "2021-07-07T15:18:08.149Z"
   },
   {
    "duration": 3,
    "start_time": "2021-07-07T15:18:08.235Z"
   },
   {
    "duration": 30,
    "start_time": "2021-07-07T15:18:08.240Z"
   },
   {
    "duration": 22,
    "start_time": "2021-07-07T15:18:08.272Z"
   },
   {
    "duration": 11,
    "start_time": "2021-07-07T15:18:08.295Z"
   },
   {
    "duration": 11,
    "start_time": "2021-07-07T15:18:08.309Z"
   },
   {
    "duration": 40,
    "start_time": "2021-07-07T15:18:08.322Z"
   },
   {
    "duration": 42,
    "start_time": "2021-07-07T15:18:08.364Z"
   },
   {
    "duration": 22,
    "start_time": "2021-07-07T15:18:08.408Z"
   },
   {
    "duration": 5,
    "start_time": "2021-07-07T15:18:08.432Z"
   },
   {
    "duration": 13,
    "start_time": "2021-07-07T15:18:08.439Z"
   },
   {
    "duration": 9,
    "start_time": "2021-07-07T15:18:08.454Z"
   },
   {
    "duration": 32,
    "start_time": "2021-07-07T15:18:08.465Z"
   },
   {
    "duration": 10,
    "start_time": "2021-07-07T15:18:08.501Z"
   },
   {
    "duration": 7,
    "start_time": "2021-07-07T15:18:08.513Z"
   },
   {
    "duration": 11,
    "start_time": "2021-07-07T15:18:08.521Z"
   },
   {
    "duration": 17,
    "start_time": "2021-07-07T15:18:08.534Z"
   },
   {
    "duration": 44,
    "start_time": "2021-07-07T15:18:08.553Z"
   },
   {
    "duration": 22,
    "start_time": "2021-07-07T15:18:08.599Z"
   },
   {
    "duration": 61,
    "start_time": "2021-07-07T15:18:08.622Z"
   },
   {
    "duration": 7,
    "start_time": "2021-07-07T15:18:39.457Z"
   },
   {
    "duration": 5,
    "start_time": "2021-07-07T16:05:17.020Z"
   },
   {
    "duration": 5,
    "start_time": "2021-07-07T16:51:28.794Z"
   },
   {
    "duration": 546,
    "start_time": "2021-07-07T16:52:26.306Z"
   },
   {
    "duration": 203,
    "start_time": "2021-07-07T16:52:27.523Z"
   },
   {
    "duration": 85,
    "start_time": "2021-07-07T16:52:27.736Z"
   },
   {
    "duration": 4,
    "start_time": "2021-07-07T16:52:27.899Z"
   },
   {
    "duration": 25,
    "start_time": "2021-07-07T16:52:28.674Z"
   },
   {
    "duration": 8,
    "start_time": "2021-07-07T16:52:32.956Z"
   },
   {
    "duration": 18,
    "start_time": "2021-07-07T16:52:35.616Z"
   },
   {
    "duration": 6,
    "start_time": "2021-07-07T16:52:36.913Z"
   },
   {
    "duration": 11,
    "start_time": "2021-07-07T16:52:40.258Z"
   },
   {
    "duration": 10,
    "start_time": "2021-07-07T16:52:46.251Z"
   },
   {
    "duration": 8,
    "start_time": "2021-07-07T16:52:47.182Z"
   },
   {
    "duration": 27,
    "start_time": "2021-07-07T16:53:20.391Z"
   },
   {
    "duration": 20,
    "start_time": "2021-07-07T16:53:22.022Z"
   },
   {
    "duration": 23,
    "start_time": "2021-07-07T16:53:23.690Z"
   },
   {
    "duration": 8,
    "start_time": "2021-07-07T16:53:24.261Z"
   },
   {
    "duration": 4,
    "start_time": "2021-07-07T16:53:38.733Z"
   },
   {
    "duration": 7,
    "start_time": "2021-07-07T16:53:40.445Z"
   },
   {
    "duration": 11,
    "start_time": "2021-07-07T16:53:41.348Z"
   },
   {
    "duration": 13,
    "start_time": "2021-07-07T16:53:45.250Z"
   },
   {
    "duration": 12,
    "start_time": "2021-07-07T16:53:45.467Z"
   },
   {
    "duration": 4,
    "start_time": "2021-07-07T16:55:32.704Z"
   },
   {
    "duration": 12,
    "start_time": "2021-07-07T16:55:49.012Z"
   },
   {
    "duration": 18,
    "start_time": "2021-07-07T16:55:49.547Z"
   },
   {
    "duration": 611,
    "start_time": "2021-07-07T16:58:35.156Z"
   },
   {
    "duration": 200,
    "start_time": "2021-07-07T16:58:35.770Z"
   },
   {
    "duration": 86,
    "start_time": "2021-07-07T16:58:35.972Z"
   },
   {
    "duration": 3,
    "start_time": "2021-07-07T16:58:36.060Z"
   },
   {
    "duration": 27,
    "start_time": "2021-07-07T16:58:36.065Z"
   },
   {
    "duration": 8,
    "start_time": "2021-07-07T16:58:36.094Z"
   },
   {
    "duration": 17,
    "start_time": "2021-07-07T16:58:36.103Z"
   },
   {
    "duration": 5,
    "start_time": "2021-07-07T16:58:36.123Z"
   },
   {
    "duration": 11,
    "start_time": "2021-07-07T16:58:36.130Z"
   },
   {
    "duration": 7,
    "start_time": "2021-07-07T16:58:36.143Z"
   },
   {
    "duration": 37,
    "start_time": "2021-07-07T16:58:36.152Z"
   },
   {
    "duration": 27,
    "start_time": "2021-07-07T16:58:36.191Z"
   },
   {
    "duration": 19,
    "start_time": "2021-07-07T16:58:36.219Z"
   },
   {
    "duration": 49,
    "start_time": "2021-07-07T16:58:36.240Z"
   },
   {
    "duration": 6,
    "start_time": "2021-07-07T16:58:36.291Z"
   },
   {
    "duration": 3,
    "start_time": "2021-07-07T16:58:36.299Z"
   },
   {
    "duration": 13,
    "start_time": "2021-07-07T16:58:36.304Z"
   },
   {
    "duration": 10,
    "start_time": "2021-07-07T16:58:36.319Z"
   },
   {
    "duration": 10,
    "start_time": "2021-07-07T16:58:36.331Z"
   },
   {
    "duration": 44,
    "start_time": "2021-07-07T16:58:36.343Z"
   },
   {
    "duration": 4,
    "start_time": "2021-07-07T16:58:36.388Z"
   },
   {
    "duration": 13,
    "start_time": "2021-07-07T16:58:36.394Z"
   },
   {
    "duration": 16,
    "start_time": "2021-07-07T16:58:36.410Z"
   },
   {
    "duration": 8,
    "start_time": "2021-07-07T17:02:31.629Z"
   },
   {
    "duration": 8,
    "start_time": "2021-07-07T17:02:34.308Z"
   },
   {
    "duration": 6,
    "start_time": "2021-07-07T17:05:13.483Z"
   },
   {
    "duration": 17,
    "start_time": "2021-07-07T17:05:20.606Z"
   },
   {
    "duration": 7,
    "start_time": "2021-07-07T17:05:34.638Z"
   },
   {
    "duration": 3,
    "start_time": "2021-07-07T17:06:31.883Z"
   },
   {
    "duration": 570,
    "start_time": "2021-07-07T17:06:37.165Z"
   },
   {
    "duration": 174,
    "start_time": "2021-07-07T17:06:37.737Z"
   },
   {
    "duration": 47,
    "start_time": "2021-07-07T17:06:37.913Z"
   },
   {
    "duration": 3,
    "start_time": "2021-07-07T17:06:37.962Z"
   },
   {
    "duration": 27,
    "start_time": "2021-07-07T17:06:37.967Z"
   },
   {
    "duration": 7,
    "start_time": "2021-07-07T17:06:37.996Z"
   },
   {
    "duration": 16,
    "start_time": "2021-07-07T17:06:38.005Z"
   },
   {
    "duration": 6,
    "start_time": "2021-07-07T17:06:38.024Z"
   },
   {
    "duration": 12,
    "start_time": "2021-07-07T17:06:38.031Z"
   },
   {
    "duration": 41,
    "start_time": "2021-07-07T17:06:38.045Z"
   },
   {
    "duration": 8,
    "start_time": "2021-07-07T17:06:38.088Z"
   },
   {
    "duration": 26,
    "start_time": "2021-07-07T17:06:38.098Z"
   },
   {
    "duration": 17,
    "start_time": "2021-07-07T17:06:38.126Z"
   },
   {
    "duration": 43,
    "start_time": "2021-07-07T17:06:38.144Z"
   },
   {
    "duration": 6,
    "start_time": "2021-07-07T17:06:38.188Z"
   },
   {
    "duration": 5,
    "start_time": "2021-07-07T17:06:38.195Z"
   },
   {
    "duration": 9,
    "start_time": "2021-07-07T17:06:38.201Z"
   },
   {
    "duration": 12,
    "start_time": "2021-07-07T17:06:38.212Z"
   },
   {
    "duration": 11,
    "start_time": "2021-07-07T17:06:38.226Z"
   },
   {
    "duration": 47,
    "start_time": "2021-07-07T17:06:38.239Z"
   },
   {
    "duration": 4,
    "start_time": "2021-07-07T17:06:38.288Z"
   },
   {
    "duration": 13,
    "start_time": "2021-07-07T17:06:38.293Z"
   },
   {
    "duration": 5,
    "start_time": "2021-07-07T17:06:38.309Z"
   },
   {
    "duration": 18,
    "start_time": "2021-07-07T17:06:38.325Z"
   },
   {
    "duration": 20,
    "start_time": "2021-07-07T17:07:02.805Z"
   },
   {
    "duration": 19,
    "start_time": "2021-07-07T17:07:08.527Z"
   },
   {
    "duration": 19,
    "start_time": "2021-07-07T17:07:12.758Z"
   },
   {
    "duration": 22,
    "start_time": "2021-07-07T17:07:17.497Z"
   },
   {
    "duration": 19,
    "start_time": "2021-07-07T17:07:19.645Z"
   },
   {
    "duration": 10,
    "start_time": "2021-07-07T17:07:34.239Z"
   },
   {
    "duration": 17,
    "start_time": "2021-07-07T17:07:54.144Z"
   },
   {
    "duration": 14,
    "start_time": "2021-07-07T17:08:14.357Z"
   },
   {
    "duration": 616,
    "start_time": "2021-07-07T17:08:45.254Z"
   },
   {
    "duration": 178,
    "start_time": "2021-07-07T17:08:45.872Z"
   },
   {
    "duration": 60,
    "start_time": "2021-07-07T17:08:46.054Z"
   },
   {
    "duration": 3,
    "start_time": "2021-07-07T17:08:46.116Z"
   },
   {
    "duration": 26,
    "start_time": "2021-07-07T17:08:46.121Z"
   },
   {
    "duration": 7,
    "start_time": "2021-07-07T17:08:46.149Z"
   },
   {
    "duration": 17,
    "start_time": "2021-07-07T17:08:46.158Z"
   },
   {
    "duration": 14,
    "start_time": "2021-07-07T17:08:46.176Z"
   },
   {
    "duration": 17,
    "start_time": "2021-07-07T17:08:46.193Z"
   },
   {
    "duration": 9,
    "start_time": "2021-07-07T17:08:46.211Z"
   },
   {
    "duration": 21,
    "start_time": "2021-07-07T17:08:46.221Z"
   },
   {
    "duration": 49,
    "start_time": "2021-07-07T17:08:46.244Z"
   },
   {
    "duration": 24,
    "start_time": "2021-07-07T17:08:46.295Z"
   },
   {
    "duration": 22,
    "start_time": "2021-07-07T17:08:46.321Z"
   },
   {
    "duration": 6,
    "start_time": "2021-07-07T17:08:46.345Z"
   },
   {
    "duration": 5,
    "start_time": "2021-07-07T17:08:46.353Z"
   },
   {
    "duration": 13,
    "start_time": "2021-07-07T17:08:46.386Z"
   },
   {
    "duration": 12,
    "start_time": "2021-07-07T17:08:46.402Z"
   },
   {
    "duration": 10,
    "start_time": "2021-07-07T17:08:46.415Z"
   },
   {
    "duration": 7,
    "start_time": "2021-07-07T17:08:46.427Z"
   },
   {
    "duration": 8,
    "start_time": "2021-07-07T17:08:46.435Z"
   },
   {
    "duration": 68,
    "start_time": "2021-07-07T17:08:46.446Z"
   },
   {
    "duration": 13,
    "start_time": "2021-07-07T17:08:46.516Z"
   },
   {
    "duration": 78,
    "start_time": "2021-07-07T17:08:46.530Z"
   },
   {
    "duration": 40,
    "start_time": "2021-07-07T17:09:08.185Z"
   },
   {
    "duration": 16,
    "start_time": "2021-07-07T17:09:19.324Z"
   },
   {
    "duration": 21,
    "start_time": "2021-07-07T17:09:23.290Z"
   },
   {
    "duration": 13,
    "start_time": "2021-07-07T17:09:54.812Z"
   },
   {
    "duration": 13,
    "start_time": "2021-07-07T17:10:02.039Z"
   },
   {
    "duration": 10,
    "start_time": "2021-07-07T17:10:29.632Z"
   },
   {
    "duration": 13,
    "start_time": "2021-07-07T17:10:52.372Z"
   },
   {
    "duration": 13,
    "start_time": "2021-07-07T17:11:17.270Z"
   },
   {
    "duration": 13,
    "start_time": "2021-07-07T17:14:59.284Z"
   },
   {
    "duration": 547,
    "start_time": "2021-07-07T17:18:52.403Z"
   },
   {
    "duration": 163,
    "start_time": "2021-07-07T17:18:52.952Z"
   },
   {
    "duration": 44,
    "start_time": "2021-07-07T17:18:53.117Z"
   },
   {
    "duration": 3,
    "start_time": "2021-07-07T17:18:53.162Z"
   },
   {
    "duration": 26,
    "start_time": "2021-07-07T17:18:53.167Z"
   },
   {
    "duration": 6,
    "start_time": "2021-07-07T17:18:53.195Z"
   },
   {
    "duration": 15,
    "start_time": "2021-07-07T17:18:53.203Z"
   },
   {
    "duration": 5,
    "start_time": "2021-07-07T17:18:53.220Z"
   },
   {
    "duration": 11,
    "start_time": "2021-07-07T17:18:53.228Z"
   },
   {
    "duration": 9,
    "start_time": "2021-07-07T17:18:53.241Z"
   },
   {
    "duration": 41,
    "start_time": "2021-07-07T17:18:53.252Z"
   },
   {
    "duration": 33,
    "start_time": "2021-07-07T17:18:53.295Z"
   },
   {
    "duration": 19,
    "start_time": "2021-07-07T17:18:53.330Z"
   },
   {
    "duration": 49,
    "start_time": "2021-07-07T17:18:53.350Z"
   },
   {
    "duration": 5,
    "start_time": "2021-07-07T17:18:53.401Z"
   },
   {
    "duration": 5,
    "start_time": "2021-07-07T17:18:53.408Z"
   },
   {
    "duration": 11,
    "start_time": "2021-07-07T17:18:53.414Z"
   },
   {
    "duration": 9,
    "start_time": "2021-07-07T17:18:53.427Z"
   },
   {
    "duration": 10,
    "start_time": "2021-07-07T17:18:53.437Z"
   },
   {
    "duration": 39,
    "start_time": "2021-07-07T17:18:53.448Z"
   },
   {
    "duration": 26,
    "start_time": "2021-07-07T17:18:55.799Z"
   },
   {
    "duration": 598,
    "start_time": "2021-07-07T17:20:17.862Z"
   },
   {
    "duration": 161,
    "start_time": "2021-07-07T17:20:18.462Z"
   },
   {
    "duration": 45,
    "start_time": "2021-07-07T17:20:18.626Z"
   },
   {
    "duration": 4,
    "start_time": "2021-07-07T17:20:18.673Z"
   },
   {
    "duration": 38,
    "start_time": "2021-07-07T17:20:26.877Z"
   },
   {
    "duration": 7,
    "start_time": "2021-07-07T17:20:37.405Z"
   },
   {
    "duration": 19,
    "start_time": "2021-07-07T17:20:51.534Z"
   },
   {
    "duration": 5,
    "start_time": "2021-07-07T17:20:57.228Z"
   },
   {
    "duration": 7,
    "start_time": "2021-07-07T17:21:08.235Z"
   },
   {
    "duration": 19,
    "start_time": "2021-07-07T17:21:42.158Z"
   },
   {
    "duration": 14,
    "start_time": "2021-07-07T17:21:50.225Z"
   },
   {
    "duration": 22,
    "start_time": "2021-07-07T17:22:54.104Z"
   },
   {
    "duration": 5,
    "start_time": "2021-07-07T17:22:56.371Z"
   },
   {
    "duration": 14,
    "start_time": "2021-07-07T17:22:58.316Z"
   },
   {
    "duration": 5,
    "start_time": "2021-07-07T17:22:58.493Z"
   },
   {
    "duration": 35,
    "start_time": "2021-07-07T17:22:59.666Z"
   },
   {
    "duration": 6,
    "start_time": "2021-07-07T17:23:02.410Z"
   },
   {
    "duration": 611,
    "start_time": "2021-07-07T17:24:59.664Z"
   },
   {
    "duration": 178,
    "start_time": "2021-07-07T17:25:01.945Z"
   },
   {
    "duration": 47,
    "start_time": "2021-07-07T17:25:02.125Z"
   },
   {
    "duration": 2,
    "start_time": "2021-07-07T17:25:07.903Z"
   },
   {
    "duration": 254,
    "start_time": "2021-07-07T17:25:08.232Z"
   },
   {
    "duration": 182,
    "start_time": "2021-07-07T17:25:08.671Z"
   },
   {
    "duration": 6,
    "start_time": "2021-07-07T17:25:13.104Z"
   },
   {
    "duration": 36,
    "start_time": "2021-07-07T17:25:13.662Z"
   },
   {
    "duration": 7,
    "start_time": "2021-07-07T17:25:14.528Z"
   },
   {
    "duration": 24,
    "start_time": "2021-07-07T17:25:27.982Z"
   },
   {
    "duration": 3,
    "start_time": "2021-07-07T17:25:48.982Z"
   },
   {
    "duration": 165,
    "start_time": "2021-07-07T17:25:48.987Z"
   },
   {
    "duration": 50,
    "start_time": "2021-07-07T17:25:49.154Z"
   },
   {
    "duration": 4,
    "start_time": "2021-07-07T17:25:49.206Z"
   },
   {
    "duration": 26,
    "start_time": "2021-07-07T17:25:49.212Z"
   },
   {
    "duration": 7,
    "start_time": "2021-07-07T17:25:49.240Z"
   },
   {
    "duration": 16,
    "start_time": "2021-07-07T17:25:49.249Z"
   },
   {
    "duration": 22,
    "start_time": "2021-07-07T17:25:49.266Z"
   },
   {
    "duration": 16,
    "start_time": "2021-07-07T17:25:49.291Z"
   },
   {
    "duration": 9,
    "start_time": "2021-07-07T17:25:49.309Z"
   },
   {
    "duration": 7,
    "start_time": "2021-07-07T17:25:49.319Z"
   },
   {
    "duration": 28,
    "start_time": "2021-07-07T17:25:49.328Z"
   },
   {
    "duration": 44,
    "start_time": "2021-07-07T17:25:49.357Z"
   },
   {
    "duration": 22,
    "start_time": "2021-07-07T17:25:49.403Z"
   },
   {
    "duration": 7,
    "start_time": "2021-07-07T17:25:49.427Z"
   },
   {
    "duration": 3,
    "start_time": "2021-07-07T17:25:49.436Z"
   },
   {
    "duration": 44,
    "start_time": "2021-07-07T17:25:49.441Z"
   },
   {
    "duration": 12,
    "start_time": "2021-07-07T17:25:49.488Z"
   },
   {
    "duration": 13,
    "start_time": "2021-07-07T17:25:49.502Z"
   },
   {
    "duration": 10,
    "start_time": "2021-07-07T17:25:49.516Z"
   },
   {
    "duration": 62,
    "start_time": "2021-07-07T17:25:49.527Z"
   },
   {
    "duration": 26,
    "start_time": "2021-07-07T17:26:51.809Z"
   },
   {
    "duration": 26,
    "start_time": "2021-07-07T17:26:55.759Z"
   },
   {
    "duration": 26,
    "start_time": "2021-07-07T17:27:04.501Z"
   },
   {
    "duration": 25,
    "start_time": "2021-07-07T17:28:24.859Z"
   },
   {
    "duration": 21,
    "start_time": "2021-07-07T17:28:55.250Z"
   },
   {
    "duration": 21,
    "start_time": "2021-07-07T17:28:58.885Z"
   },
   {
    "duration": 7,
    "start_time": "2021-07-07T17:45:40.972Z"
   },
   {
    "duration": 13,
    "start_time": "2021-07-07T17:45:42.529Z"
   },
   {
    "duration": 27,
    "start_time": "2021-07-07T17:45:51.026Z"
   },
   {
    "duration": 518,
    "start_time": "2021-07-07T17:46:15.532Z"
   },
   {
    "duration": 235,
    "start_time": "2021-07-07T17:46:16.053Z"
   },
   {
    "duration": 80,
    "start_time": "2021-07-07T17:46:16.292Z"
   },
   {
    "duration": 5,
    "start_time": "2021-07-07T17:46:16.373Z"
   },
   {
    "duration": 26,
    "start_time": "2021-07-07T17:46:16.380Z"
   },
   {
    "duration": 7,
    "start_time": "2021-07-07T17:46:16.408Z"
   },
   {
    "duration": 16,
    "start_time": "2021-07-07T17:46:16.418Z"
   },
   {
    "duration": 5,
    "start_time": "2021-07-07T17:46:16.436Z"
   },
   {
    "duration": 13,
    "start_time": "2021-07-07T17:46:16.442Z"
   },
   {
    "duration": 35,
    "start_time": "2021-07-07T17:46:16.456Z"
   },
   {
    "duration": 8,
    "start_time": "2021-07-07T17:46:16.493Z"
   },
   {
    "duration": 28,
    "start_time": "2021-07-07T17:46:16.502Z"
   },
   {
    "duration": 17,
    "start_time": "2021-07-07T17:46:16.532Z"
   },
   {
    "duration": 44,
    "start_time": "2021-07-07T17:46:16.551Z"
   },
   {
    "duration": 6,
    "start_time": "2021-07-07T17:46:16.597Z"
   },
   {
    "duration": 4,
    "start_time": "2021-07-07T17:46:16.605Z"
   },
   {
    "duration": 9,
    "start_time": "2021-07-07T17:46:16.610Z"
   },
   {
    "duration": 9,
    "start_time": "2021-07-07T17:46:16.621Z"
   },
   {
    "duration": 10,
    "start_time": "2021-07-07T17:46:16.632Z"
   },
   {
    "duration": 43,
    "start_time": "2021-07-07T17:46:16.644Z"
   },
   {
    "duration": 26,
    "start_time": "2021-07-07T17:46:16.689Z"
   },
   {
    "duration": 19,
    "start_time": "2021-07-07T17:46:16.718Z"
   },
   {
    "duration": 8,
    "start_time": "2021-07-07T17:46:16.738Z"
   },
   {
    "duration": 43,
    "start_time": "2021-07-07T17:46:16.747Z"
   },
   {
    "duration": 19,
    "start_time": "2021-07-07T17:46:16.791Z"
   },
   {
    "duration": 9,
    "start_time": "2021-07-07T17:46:16.812Z"
   },
   {
    "duration": 60,
    "start_time": "2021-07-07T17:46:16.822Z"
   },
   {
    "duration": -8,
    "start_time": "2021-07-07T17:46:16.892Z"
   },
   {
    "duration": 12,
    "start_time": "2021-07-07T17:48:47.707Z"
   },
   {
    "duration": 553,
    "start_time": "2021-07-07T18:10:09.350Z"
   },
   {
    "duration": 230,
    "start_time": "2021-07-07T18:10:09.905Z"
   },
   {
    "duration": 97,
    "start_time": "2021-07-07T18:10:10.137Z"
   },
   {
    "duration": 5,
    "start_time": "2021-07-07T18:10:10.236Z"
   },
   {
    "duration": 29,
    "start_time": "2021-07-07T18:10:10.242Z"
   },
   {
    "duration": 7,
    "start_time": "2021-07-07T18:10:10.272Z"
   },
   {
    "duration": 15,
    "start_time": "2021-07-07T18:10:10.281Z"
   },
   {
    "duration": 4,
    "start_time": "2021-07-07T18:10:10.299Z"
   },
   {
    "duration": 14,
    "start_time": "2021-07-07T18:10:10.305Z"
   },
   {
    "duration": 8,
    "start_time": "2021-07-07T18:10:10.321Z"
   },
   {
    "duration": 8,
    "start_time": "2021-07-07T18:10:10.331Z"
   },
   {
    "duration": 56,
    "start_time": "2021-07-07T18:10:10.341Z"
   },
   {
    "duration": 19,
    "start_time": "2021-07-07T18:10:10.399Z"
   },
   {
    "duration": 23,
    "start_time": "2021-07-07T18:10:10.419Z"
   },
   {
    "duration": 6,
    "start_time": "2021-07-07T18:10:10.444Z"
   },
   {
    "duration": 9,
    "start_time": "2021-07-07T18:10:10.451Z"
   },
   {
    "duration": 30,
    "start_time": "2021-07-07T18:10:10.462Z"
   },
   {
    "duration": 9,
    "start_time": "2021-07-07T18:10:10.494Z"
   },
   {
    "duration": 14,
    "start_time": "2021-07-07T18:10:10.505Z"
   },
   {
    "duration": 7,
    "start_time": "2021-07-07T18:10:10.521Z"
   },
   {
    "duration": 26,
    "start_time": "2021-07-07T18:10:10.530Z"
   },
   {
    "duration": 44,
    "start_time": "2021-07-07T18:10:10.558Z"
   },
   {
    "duration": 7,
    "start_time": "2021-07-07T18:10:10.605Z"
   },
   {
    "duration": 11,
    "start_time": "2021-07-07T18:10:10.614Z"
   },
   {
    "duration": 19,
    "start_time": "2021-07-07T18:10:10.626Z"
   },
   {
    "duration": 44,
    "start_time": "2021-07-07T18:10:10.646Z"
   },
   {
    "duration": 516,
    "start_time": "2021-07-07T18:14:00.826Z"
   },
   {
    "duration": 230,
    "start_time": "2021-07-07T18:14:01.344Z"
   },
   {
    "duration": 105,
    "start_time": "2021-07-07T18:14:01.576Z"
   },
   {
    "duration": 5,
    "start_time": "2021-07-07T18:14:01.683Z"
   },
   {
    "duration": 46,
    "start_time": "2021-07-07T18:14:01.690Z"
   },
   {
    "duration": 7,
    "start_time": "2021-07-07T18:14:01.738Z"
   },
   {
    "duration": 20,
    "start_time": "2021-07-07T18:14:01.747Z"
   },
   {
    "duration": 16,
    "start_time": "2021-07-07T18:14:01.769Z"
   },
   {
    "duration": 14,
    "start_time": "2021-07-07T18:14:01.787Z"
   },
   {
    "duration": 15,
    "start_time": "2021-07-07T18:14:01.803Z"
   },
   {
    "duration": 12,
    "start_time": "2021-07-07T18:14:01.820Z"
   },
   {
    "duration": 35,
    "start_time": "2021-07-07T18:14:01.833Z"
   },
   {
    "duration": 31,
    "start_time": "2021-07-07T18:14:01.869Z"
   },
   {
    "duration": 37,
    "start_time": "2021-07-07T18:14:01.902Z"
   },
   {
    "duration": 8,
    "start_time": "2021-07-07T18:14:01.942Z"
   },
   {
    "duration": 16,
    "start_time": "2021-07-07T18:14:01.952Z"
   },
   {
    "duration": 13,
    "start_time": "2021-07-07T18:14:01.970Z"
   },
   {
    "duration": 32,
    "start_time": "2021-07-07T18:14:01.985Z"
   },
   {
    "duration": 11,
    "start_time": "2021-07-07T18:14:02.019Z"
   },
   {
    "duration": 22,
    "start_time": "2021-07-07T18:14:02.031Z"
   },
   {
    "duration": 27,
    "start_time": "2021-07-07T18:14:02.055Z"
   },
   {
    "duration": 18,
    "start_time": "2021-07-07T18:14:02.084Z"
   },
   {
    "duration": 18,
    "start_time": "2021-07-07T18:14:02.106Z"
   },
   {
    "duration": 11,
    "start_time": "2021-07-07T18:14:02.126Z"
   },
   {
    "duration": 21,
    "start_time": "2021-07-07T18:14:02.138Z"
   },
   {
    "duration": 32,
    "start_time": "2021-07-07T18:14:02.161Z"
   },
   {
    "duration": 28,
    "start_time": "2021-07-07T18:14:44.295Z"
   },
   {
    "duration": 6,
    "start_time": "2021-07-07T18:15:05.834Z"
   },
   {
    "duration": 511,
    "start_time": "2021-07-07T18:15:41.541Z"
   },
   {
    "duration": 183,
    "start_time": "2021-07-07T18:15:42.054Z"
   },
   {
    "duration": 50,
    "start_time": "2021-07-07T18:15:42.239Z"
   },
   {
    "duration": 5,
    "start_time": "2021-07-07T18:15:42.291Z"
   },
   {
    "duration": 48,
    "start_time": "2021-07-07T18:15:42.297Z"
   },
   {
    "duration": 8,
    "start_time": "2021-07-07T18:15:42.346Z"
   },
   {
    "duration": 17,
    "start_time": "2021-07-07T18:15:42.356Z"
   },
   {
    "duration": 15,
    "start_time": "2021-07-07T18:15:42.375Z"
   },
   {
    "duration": 12,
    "start_time": "2021-07-07T18:15:42.392Z"
   },
   {
    "duration": 7,
    "start_time": "2021-07-07T18:15:42.406Z"
   },
   {
    "duration": 7,
    "start_time": "2021-07-07T18:15:42.415Z"
   },
   {
    "duration": 29,
    "start_time": "2021-07-07T18:15:42.423Z"
   },
   {
    "duration": 43,
    "start_time": "2021-07-07T18:15:42.453Z"
   },
   {
    "duration": 18,
    "start_time": "2021-07-07T18:15:42.497Z"
   },
   {
    "duration": 6,
    "start_time": "2021-07-07T18:15:42.516Z"
   },
   {
    "duration": 3,
    "start_time": "2021-07-07T18:15:42.523Z"
   },
   {
    "duration": 18,
    "start_time": "2021-07-07T18:15:42.528Z"
   },
   {
    "duration": 10,
    "start_time": "2021-07-07T18:15:42.547Z"
   },
   {
    "duration": 36,
    "start_time": "2021-07-07T18:15:42.559Z"
   },
   {
    "duration": 8,
    "start_time": "2021-07-07T18:15:42.597Z"
   },
   {
    "duration": 28,
    "start_time": "2021-07-07T18:15:42.606Z"
   },
   {
    "duration": 52,
    "start_time": "2021-07-07T18:15:42.635Z"
   },
   {
    "duration": 7,
    "start_time": "2021-07-07T18:15:42.690Z"
   },
   {
    "duration": 10,
    "start_time": "2021-07-07T18:15:42.699Z"
   },
   {
    "duration": 19,
    "start_time": "2021-07-07T18:15:42.711Z"
   },
   {
    "duration": 9,
    "start_time": "2021-07-07T18:15:42.732Z"
   },
   {
    "duration": 5,
    "start_time": "2021-07-07T18:15:42.743Z"
   },
   {
    "duration": 1450,
    "start_time": "2021-07-07T18:15:51.984Z"
   },
   {
    "duration": 161,
    "start_time": "2021-07-07T18:15:53.435Z"
   },
   {
    "duration": 124,
    "start_time": "2021-07-07T18:15:53.598Z"
   },
   {
    "duration": 5,
    "start_time": "2021-07-07T18:15:53.724Z"
   },
   {
    "duration": 34,
    "start_time": "2021-07-07T18:15:53.730Z"
   },
   {
    "duration": 7,
    "start_time": "2021-07-07T18:15:53.765Z"
   },
   {
    "duration": 15,
    "start_time": "2021-07-07T18:15:53.773Z"
   },
   {
    "duration": 5,
    "start_time": "2021-07-07T18:15:53.791Z"
   },
   {
    "duration": 19,
    "start_time": "2021-07-07T18:15:53.798Z"
   },
   {
    "duration": 9,
    "start_time": "2021-07-07T18:15:53.818Z"
   },
   {
    "duration": 19,
    "start_time": "2021-07-07T18:15:53.828Z"
   },
   {
    "duration": 27,
    "start_time": "2021-07-07T18:15:53.848Z"
   },
   {
    "duration": 16,
    "start_time": "2021-07-07T18:15:53.884Z"
   },
   {
    "duration": 29,
    "start_time": "2021-07-07T18:15:53.901Z"
   },
   {
    "duration": 5,
    "start_time": "2021-07-07T18:15:53.932Z"
   },
   {
    "duration": 15,
    "start_time": "2021-07-07T18:15:53.939Z"
   },
   {
    "duration": 13,
    "start_time": "2021-07-07T18:15:53.956Z"
   },
   {
    "duration": 20,
    "start_time": "2021-07-07T18:15:53.971Z"
   },
   {
    "duration": 14,
    "start_time": "2021-07-07T18:15:53.992Z"
   },
   {
    "duration": 9,
    "start_time": "2021-07-07T18:15:54.009Z"
   },
   {
    "duration": 28,
    "start_time": "2021-07-07T18:15:54.020Z"
   },
   {
    "duration": 50,
    "start_time": "2021-07-07T18:15:54.051Z"
   },
   {
    "duration": 8,
    "start_time": "2021-07-07T18:15:54.105Z"
   },
   {
    "duration": 11,
    "start_time": "2021-07-07T18:15:54.115Z"
   },
   {
    "duration": 20,
    "start_time": "2021-07-07T18:15:54.128Z"
   },
   {
    "duration": 13,
    "start_time": "2021-07-07T18:15:54.184Z"
   },
   {
    "duration": 7,
    "start_time": "2021-07-07T18:15:54.199Z"
   },
   {
    "duration": 7,
    "start_time": "2021-07-07T18:17:08.042Z"
   },
   {
    "duration": 8,
    "start_time": "2021-07-07T18:17:21.008Z"
   },
   {
    "duration": 7,
    "start_time": "2021-07-07T18:17:29.003Z"
   },
   {
    "duration": 8,
    "start_time": "2021-07-07T18:17:32.492Z"
   },
   {
    "duration": 9,
    "start_time": "2021-07-07T18:17:41.758Z"
   },
   {
    "duration": 255,
    "start_time": "2021-07-07T18:20:20.897Z"
   },
   {
    "duration": 173,
    "start_time": "2021-07-07T18:20:26.636Z"
   },
   {
    "duration": 7,
    "start_time": "2021-07-07T18:21:47.164Z"
   },
   {
    "duration": 254,
    "start_time": "2021-07-07T18:23:08.703Z"
   },
   {
    "duration": 21,
    "start_time": "2021-07-07T18:23:22.506Z"
   },
   {
    "duration": 315,
    "start_time": "2021-07-07T18:25:54.801Z"
   },
   {
    "duration": 34,
    "start_time": "2021-07-07T18:26:51.817Z"
   },
   {
    "duration": 327,
    "start_time": "2021-07-07T18:26:56.147Z"
   },
   {
    "duration": 342,
    "start_time": "2021-07-07T18:27:15.887Z"
   },
   {
    "duration": 302,
    "start_time": "2021-07-07T18:28:18.569Z"
   },
   {
    "duration": 226,
    "start_time": "2021-07-07T18:29:20.879Z"
   },
   {
    "duration": 207,
    "start_time": "2021-07-07T18:29:58.114Z"
   },
   {
    "duration": 140,
    "start_time": "2021-07-07T18:32:04.372Z"
   },
   {
    "duration": 158,
    "start_time": "2021-07-07T18:32:32.508Z"
   },
   {
    "duration": 145,
    "start_time": "2021-07-07T18:32:41.365Z"
   },
   {
    "duration": 132,
    "start_time": "2021-07-07T18:32:45.199Z"
   },
   {
    "duration": 11,
    "start_time": "2021-07-07T18:35:24.679Z"
   },
   {
    "duration": 268,
    "start_time": "2021-07-07T18:36:16.145Z"
   },
   {
    "duration": 227,
    "start_time": "2021-07-07T18:37:04.918Z"
   },
   {
    "duration": 3,
    "start_time": "2021-07-07T18:37:33.012Z"
   },
   {
    "duration": 671,
    "start_time": "2021-07-07T18:37:38.295Z"
   },
   {
    "duration": 54,
    "start_time": "2021-07-07T18:37:53.406Z"
   },
   {
    "duration": 631,
    "start_time": "2021-07-07T18:37:56.463Z"
   },
   {
    "duration": 19,
    "start_time": "2021-07-07T18:39:40.535Z"
   },
   {
    "duration": 20,
    "start_time": "2021-07-07T18:40:12.236Z"
   },
   {
    "duration": 633,
    "start_time": "2021-07-07T18:42:00.398Z"
   },
   {
    "duration": 218,
    "start_time": "2021-07-07T18:42:01.033Z"
   },
   {
    "duration": 49,
    "start_time": "2021-07-07T18:42:01.253Z"
   },
   {
    "duration": 5,
    "start_time": "2021-07-07T18:42:01.303Z"
   },
   {
    "duration": 27,
    "start_time": "2021-07-07T18:42:01.310Z"
   },
   {
    "duration": 8,
    "start_time": "2021-07-07T18:42:01.339Z"
   },
   {
    "duration": 20,
    "start_time": "2021-07-07T18:42:01.348Z"
   },
   {
    "duration": 6,
    "start_time": "2021-07-07T18:42:01.386Z"
   },
   {
    "duration": 16,
    "start_time": "2021-07-07T18:42:01.394Z"
   },
   {
    "duration": 9,
    "start_time": "2021-07-07T18:42:01.411Z"
   },
   {
    "duration": 11,
    "start_time": "2021-07-07T18:42:01.421Z"
   },
   {
    "duration": 31,
    "start_time": "2021-07-07T18:42:01.434Z"
   },
   {
    "duration": 18,
    "start_time": "2021-07-07T18:42:01.485Z"
   },
   {
    "duration": 23,
    "start_time": "2021-07-07T18:42:01.505Z"
   },
   {
    "duration": 6,
    "start_time": "2021-07-07T18:42:01.530Z"
   },
   {
    "duration": 10,
    "start_time": "2021-07-07T18:42:01.538Z"
   },
   {
    "duration": 13,
    "start_time": "2021-07-07T18:42:01.550Z"
   },
   {
    "duration": 24,
    "start_time": "2021-07-07T18:42:01.564Z"
   },
   {
    "duration": 20,
    "start_time": "2021-07-07T18:42:01.590Z"
   },
   {
    "duration": 8,
    "start_time": "2021-07-07T18:42:01.611Z"
   },
   {
    "duration": 31,
    "start_time": "2021-07-07T18:42:01.620Z"
   },
   {
    "duration": 39,
    "start_time": "2021-07-07T18:42:01.653Z"
   },
   {
    "duration": 8,
    "start_time": "2021-07-07T18:42:01.696Z"
   },
   {
    "duration": 13,
    "start_time": "2021-07-07T18:42:01.705Z"
   },
   {
    "duration": 20,
    "start_time": "2021-07-07T18:42:01.720Z"
   },
   {
    "duration": 12,
    "start_time": "2021-07-07T18:42:01.741Z"
   },
   {
    "duration": 35,
    "start_time": "2021-07-07T18:42:01.755Z"
   },
   {
    "duration": 14,
    "start_time": "2021-07-07T18:42:01.792Z"
   },
   {
    "duration": 188,
    "start_time": "2021-07-07T18:42:01.808Z"
   },
   {
    "duration": 19,
    "start_time": "2021-07-07T18:42:01.998Z"
   },
   {
    "duration": 175,
    "start_time": "2021-07-07T18:42:02.019Z"
   },
   {
    "duration": 134,
    "start_time": "2021-07-07T18:42:02.196Z"
   },
   {
    "duration": 10,
    "start_time": "2021-07-07T18:42:02.331Z"
   },
   {
    "duration": 19,
    "start_time": "2021-07-07T18:42:02.343Z"
   },
   {
    "duration": 628,
    "start_time": "2021-07-07T18:46:30.701Z"
   },
   {
    "duration": 183,
    "start_time": "2021-07-07T18:46:31.331Z"
   },
   {
    "duration": 48,
    "start_time": "2021-07-07T18:46:31.516Z"
   },
   {
    "duration": 5,
    "start_time": "2021-07-07T18:46:31.566Z"
   },
   {
    "duration": 28,
    "start_time": "2021-07-07T18:46:31.572Z"
   },
   {
    "duration": 8,
    "start_time": "2021-07-07T18:46:31.602Z"
   },
   {
    "duration": 19,
    "start_time": "2021-07-07T18:46:31.611Z"
   },
   {
    "duration": 6,
    "start_time": "2021-07-07T18:46:31.633Z"
   },
   {
    "duration": 17,
    "start_time": "2021-07-07T18:46:31.642Z"
   },
   {
    "duration": 10,
    "start_time": "2021-07-07T18:46:31.684Z"
   },
   {
    "duration": 9,
    "start_time": "2021-07-07T18:46:31.695Z"
   },
   {
    "duration": 28,
    "start_time": "2021-07-07T18:46:31.705Z"
   },
   {
    "duration": 18,
    "start_time": "2021-07-07T18:46:31.735Z"
   },
   {
    "duration": 48,
    "start_time": "2021-07-07T18:46:31.755Z"
   },
   {
    "duration": 6,
    "start_time": "2021-07-07T18:46:31.804Z"
   },
   {
    "duration": 4,
    "start_time": "2021-07-07T18:46:31.812Z"
   },
   {
    "duration": 9,
    "start_time": "2021-07-07T18:46:31.817Z"
   },
   {
    "duration": 10,
    "start_time": "2021-07-07T18:46:31.827Z"
   },
   {
    "duration": 12,
    "start_time": "2021-07-07T18:46:31.838Z"
   },
   {
    "duration": 39,
    "start_time": "2021-07-07T18:46:31.851Z"
   },
   {
    "duration": 24,
    "start_time": "2021-07-07T18:46:31.892Z"
   },
   {
    "duration": 15,
    "start_time": "2021-07-07T18:46:31.918Z"
   },
   {
    "duration": 7,
    "start_time": "2021-07-07T18:46:31.936Z"
   },
   {
    "duration": 8,
    "start_time": "2021-07-07T18:46:31.944Z"
   },
   {
    "duration": 19,
    "start_time": "2021-07-07T18:46:31.984Z"
   },
   {
    "duration": 10,
    "start_time": "2021-07-07T18:46:32.004Z"
   },
   {
    "duration": 5,
    "start_time": "2021-07-07T18:46:32.016Z"
   },
   {
    "duration": 9,
    "start_time": "2021-07-07T18:46:32.023Z"
   },
   {
    "duration": 199,
    "start_time": "2021-07-07T18:46:32.033Z"
   },
   {
    "duration": 19,
    "start_time": "2021-07-07T18:46:32.234Z"
   },
   {
    "duration": 159,
    "start_time": "2021-07-07T18:46:32.255Z"
   },
   {
    "duration": 134,
    "start_time": "2021-07-07T18:46:32.416Z"
   },
   {
    "duration": 10,
    "start_time": "2021-07-07T18:46:32.552Z"
   },
   {
    "duration": 34,
    "start_time": "2021-07-07T18:46:32.563Z"
   },
   {
    "duration": 1039,
    "start_time": "2021-07-08T08:41:09.419Z"
   },
   {
    "duration": 333,
    "start_time": "2021-07-08T08:41:10.459Z"
   },
   {
    "duration": 173,
    "start_time": "2021-07-08T08:41:10.794Z"
   },
   {
    "duration": 5,
    "start_time": "2021-07-08T08:41:10.968Z"
   },
   {
    "duration": 25,
    "start_time": "2021-07-08T08:41:10.975Z"
   },
   {
    "duration": 9,
    "start_time": "2021-07-08T08:41:11.002Z"
   },
   {
    "duration": 18,
    "start_time": "2021-07-08T08:41:11.013Z"
   },
   {
    "duration": 6,
    "start_time": "2021-07-08T08:41:11.033Z"
   },
   {
    "duration": 44,
    "start_time": "2021-07-08T08:41:11.042Z"
   },
   {
    "duration": 10,
    "start_time": "2021-07-08T08:41:11.088Z"
   },
   {
    "duration": 9,
    "start_time": "2021-07-08T08:41:11.100Z"
   },
   {
    "duration": 27,
    "start_time": "2021-07-08T08:41:11.111Z"
   },
   {
    "duration": 46,
    "start_time": "2021-07-08T08:41:11.140Z"
   },
   {
    "duration": 17,
    "start_time": "2021-07-08T08:41:11.187Z"
   },
   {
    "duration": 6,
    "start_time": "2021-07-08T08:41:11.206Z"
   },
   {
    "duration": 5,
    "start_time": "2021-07-08T08:41:11.213Z"
   },
   {
    "duration": 10,
    "start_time": "2021-07-08T08:41:11.219Z"
   },
   {
    "duration": 9,
    "start_time": "2021-07-08T08:41:11.230Z"
   },
   {
    "duration": 45,
    "start_time": "2021-07-08T08:41:11.241Z"
   },
   {
    "duration": 7,
    "start_time": "2021-07-08T08:41:11.287Z"
   },
   {
    "duration": 24,
    "start_time": "2021-07-08T08:41:11.296Z"
   },
   {
    "duration": 16,
    "start_time": "2021-07-08T08:41:11.322Z"
   },
   {
    "duration": 7,
    "start_time": "2021-07-08T08:41:11.341Z"
   },
   {
    "duration": 41,
    "start_time": "2021-07-08T08:41:11.349Z"
   },
   {
    "duration": 17,
    "start_time": "2021-07-08T08:41:11.391Z"
   },
   {
    "duration": 9,
    "start_time": "2021-07-08T08:41:11.410Z"
   },
   {
    "duration": 5,
    "start_time": "2021-07-08T08:41:11.421Z"
   },
   {
    "duration": 6,
    "start_time": "2021-07-08T08:41:11.428Z"
   },
   {
    "duration": 198,
    "start_time": "2021-07-08T08:41:11.435Z"
   },
   {
    "duration": 18,
    "start_time": "2021-07-08T08:41:11.635Z"
   },
   {
    "duration": 155,
    "start_time": "2021-07-08T08:41:11.655Z"
   },
   {
    "duration": 138,
    "start_time": "2021-07-08T08:41:11.811Z"
   },
   {
    "duration": 10,
    "start_time": "2021-07-08T08:41:11.950Z"
   },
   {
    "duration": 29,
    "start_time": "2021-07-08T08:41:11.961Z"
   },
   {
    "duration": 171,
    "start_time": "2021-07-08T08:47:44.522Z"
   },
   {
    "duration": 124,
    "start_time": "2021-07-08T08:47:46.872Z"
   },
   {
    "duration": 191,
    "start_time": "2021-07-08T08:47:58.148Z"
   },
   {
    "duration": 191,
    "start_time": "2021-07-08T08:48:07.412Z"
   },
   {
    "duration": 261,
    "start_time": "2021-07-08T08:48:10.385Z"
   },
   {
    "duration": 255,
    "start_time": "2021-07-08T08:48:14.494Z"
   },
   {
    "duration": 219,
    "start_time": "2021-07-08T08:48:22.752Z"
   },
   {
    "duration": 173,
    "start_time": "2021-07-08T08:49:06.395Z"
   },
   {
    "duration": 180,
    "start_time": "2021-07-08T08:49:21.011Z"
   },
   {
    "duration": 6,
    "start_time": "2021-07-08T08:50:31.697Z"
   },
   {
    "duration": 10,
    "start_time": "2021-07-08T08:50:47.394Z"
   },
   {
    "duration": 11,
    "start_time": "2021-07-08T08:53:49.332Z"
   },
   {
    "duration": 171,
    "start_time": "2021-07-08T08:54:28.408Z"
   },
   {
    "duration": 636,
    "start_time": "2021-07-08T09:02:48.385Z"
   },
   {
    "duration": 227,
    "start_time": "2021-07-08T09:02:49.023Z"
   },
   {
    "duration": 104,
    "start_time": "2021-07-08T09:02:49.252Z"
   },
   {
    "duration": 5,
    "start_time": "2021-07-08T09:02:49.358Z"
   },
   {
    "duration": 27,
    "start_time": "2021-07-08T09:02:49.365Z"
   },
   {
    "duration": 8,
    "start_time": "2021-07-08T09:02:49.394Z"
   },
   {
    "duration": 18,
    "start_time": "2021-07-08T09:02:49.404Z"
   },
   {
    "duration": 6,
    "start_time": "2021-07-08T09:02:49.424Z"
   },
   {
    "duration": 11,
    "start_time": "2021-07-08T09:02:49.433Z"
   },
   {
    "duration": 13,
    "start_time": "2021-07-08T09:02:49.485Z"
   },
   {
    "duration": 9,
    "start_time": "2021-07-08T09:02:49.500Z"
   },
   {
    "duration": 38,
    "start_time": "2021-07-08T09:02:49.511Z"
   },
   {
    "duration": 42,
    "start_time": "2021-07-08T09:02:49.551Z"
   },
   {
    "duration": 21,
    "start_time": "2021-07-08T09:02:49.594Z"
   },
   {
    "duration": 6,
    "start_time": "2021-07-08T09:02:49.616Z"
   },
   {
    "duration": 3,
    "start_time": "2021-07-08T09:02:49.623Z"
   },
   {
    "duration": 9,
    "start_time": "2021-07-08T09:02:49.628Z"
   },
   {
    "duration": 52,
    "start_time": "2021-07-08T09:02:49.638Z"
   },
   {
    "duration": 11,
    "start_time": "2021-07-08T09:02:49.692Z"
   },
   {
    "duration": 8,
    "start_time": "2021-07-08T09:02:49.704Z"
   },
   {
    "duration": 27,
    "start_time": "2021-07-08T09:02:49.713Z"
   },
   {
    "duration": 59,
    "start_time": "2021-07-08T09:02:49.741Z"
   },
   {
    "duration": 8,
    "start_time": "2021-07-08T09:02:49.803Z"
   },
   {
    "duration": 14,
    "start_time": "2021-07-08T09:02:49.813Z"
   },
   {
    "duration": 20,
    "start_time": "2021-07-08T09:02:49.829Z"
   },
   {
    "duration": 44,
    "start_time": "2021-07-08T09:02:49.851Z"
   },
   {
    "duration": 14,
    "start_time": "2021-07-08T09:02:49.896Z"
   },
   {
    "duration": 221,
    "start_time": "2021-07-08T09:02:49.912Z"
   },
   {
    "duration": 6,
    "start_time": "2021-07-08T09:02:50.134Z"
   },
   {
    "duration": 206,
    "start_time": "2021-07-08T09:02:50.142Z"
   },
   {
    "duration": 19,
    "start_time": "2021-07-08T09:02:50.350Z"
   },
   {
    "duration": 21,
    "start_time": "2021-07-08T09:02:50.370Z"
   },
   {
    "duration": 20,
    "start_time": "2021-07-08T09:02:50.393Z"
   },
   {
    "duration": 5,
    "start_time": "2021-07-08T09:02:50.414Z"
   },
   {
    "duration": 5,
    "start_time": "2021-07-08T09:03:34.173Z"
   },
   {
    "duration": 6,
    "start_time": "2021-07-08T09:04:49.062Z"
   },
   {
    "duration": 9,
    "start_time": "2021-07-08T09:04:50.118Z"
   },
   {
    "duration": 14,
    "start_time": "2021-07-08T09:04:58.512Z"
   },
   {
    "duration": 9,
    "start_time": "2021-07-08T09:05:10.988Z"
   },
   {
    "duration": 11,
    "start_time": "2021-07-08T09:05:11.743Z"
   },
   {
    "duration": 7,
    "start_time": "2021-07-08T09:05:25.677Z"
   },
   {
    "duration": 13,
    "start_time": "2021-07-08T09:05:47.189Z"
   },
   {
    "duration": 13,
    "start_time": "2021-07-08T09:05:54.755Z"
   },
   {
    "duration": 4,
    "start_time": "2021-07-08T09:06:29.189Z"
   },
   {
    "duration": 244,
    "start_time": "2021-07-08T09:06:29.195Z"
   },
   {
    "duration": 91,
    "start_time": "2021-07-08T09:06:29.441Z"
   },
   {
    "duration": 4,
    "start_time": "2021-07-08T09:06:29.534Z"
   },
   {
    "duration": 28,
    "start_time": "2021-07-08T09:06:29.540Z"
   },
   {
    "duration": 6,
    "start_time": "2021-07-08T09:06:29.570Z"
   },
   {
    "duration": 18,
    "start_time": "2021-07-08T09:06:29.578Z"
   },
   {
    "duration": 5,
    "start_time": "2021-07-08T09:06:29.597Z"
   },
   {
    "duration": 13,
    "start_time": "2021-07-08T09:06:29.605Z"
   },
   {
    "duration": 8,
    "start_time": "2021-07-08T09:06:29.620Z"
   },
   {
    "duration": 7,
    "start_time": "2021-07-08T09:06:29.630Z"
   },
   {
    "duration": 63,
    "start_time": "2021-07-08T09:06:29.639Z"
   },
   {
    "duration": 17,
    "start_time": "2021-07-08T09:06:29.704Z"
   },
   {
    "duration": 20,
    "start_time": "2021-07-08T09:06:29.723Z"
   },
   {
    "duration": 6,
    "start_time": "2021-07-08T09:06:29.745Z"
   },
   {
    "duration": 3,
    "start_time": "2021-07-08T09:06:29.752Z"
   },
   {
    "duration": 7,
    "start_time": "2021-07-08T09:06:29.785Z"
   },
   {
    "duration": 11,
    "start_time": "2021-07-08T09:06:29.794Z"
   },
   {
    "duration": 15,
    "start_time": "2021-07-08T09:06:29.807Z"
   },
   {
    "duration": 8,
    "start_time": "2021-07-08T09:06:29.823Z"
   },
   {
    "duration": 70,
    "start_time": "2021-07-08T09:06:29.832Z"
   },
   {
    "duration": 17,
    "start_time": "2021-07-08T09:06:29.903Z"
   },
   {
    "duration": 9,
    "start_time": "2021-07-08T09:06:29.921Z"
   },
   {
    "duration": 9,
    "start_time": "2021-07-08T09:06:29.932Z"
   },
   {
    "duration": 57,
    "start_time": "2021-07-08T09:06:29.942Z"
   },
   {
    "duration": 11,
    "start_time": "2021-07-08T09:06:30.001Z"
   },
   {
    "duration": 19,
    "start_time": "2021-07-08T09:06:30.016Z"
   },
   {
    "duration": 217,
    "start_time": "2021-07-08T09:06:30.037Z"
   },
   {
    "duration": 6,
    "start_time": "2021-07-08T09:06:30.255Z"
   },
   {
    "duration": 205,
    "start_time": "2021-07-08T09:06:30.263Z"
   },
   {
    "duration": 27,
    "start_time": "2021-07-08T09:06:30.470Z"
   },
   {
    "duration": 11,
    "start_time": "2021-07-08T09:06:30.500Z"
   },
   {
    "duration": 31,
    "start_time": "2021-07-08T09:06:30.513Z"
   },
   {
    "duration": 18,
    "start_time": "2021-07-08T09:06:30.546Z"
   },
   {
    "duration": 11,
    "start_time": "2021-07-08T09:06:30.566Z"
   },
   {
    "duration": 19,
    "start_time": "2021-07-08T09:06:30.579Z"
   },
   {
    "duration": 20,
    "start_time": "2021-07-08T09:06:49.466Z"
   },
   {
    "duration": 9,
    "start_time": "2021-07-08T09:06:51.994Z"
   },
   {
    "duration": 20,
    "start_time": "2021-07-08T09:06:52.273Z"
   },
   {
    "duration": 246,
    "start_time": "2021-07-08T09:10:21.272Z"
   },
   {
    "duration": 84,
    "start_time": "2021-07-08T09:10:21.436Z"
   },
   {
    "duration": 7,
    "start_time": "2021-07-08T09:10:37.608Z"
   },
   {
    "duration": 189,
    "start_time": "2021-07-08T09:10:38.573Z"
   },
   {
    "duration": 185,
    "start_time": "2021-07-08T09:10:53.181Z"
   },
   {
    "duration": 11,
    "start_time": "2021-07-08T09:10:59.549Z"
   },
   {
    "duration": 42,
    "start_time": "2021-07-08T09:10:59.709Z"
   },
   {
    "duration": 12,
    "start_time": "2021-07-08T09:11:02.857Z"
   },
   {
    "duration": 28,
    "start_time": "2021-07-08T09:11:10.062Z"
   },
   {
    "duration": 249,
    "start_time": "2021-07-08T09:11:37.388Z"
   },
   {
    "duration": 232,
    "start_time": "2021-07-08T09:11:49.485Z"
   },
   {
    "duration": 453,
    "start_time": "2021-07-08T09:12:01.546Z"
   },
   {
    "duration": 440,
    "start_time": "2021-07-08T09:12:12.347Z"
   },
   {
    "duration": 213,
    "start_time": "2021-07-08T09:13:32.196Z"
   },
   {
    "duration": 172,
    "start_time": "2021-07-08T09:14:07.400Z"
   },
   {
    "duration": 185,
    "start_time": "2021-07-08T09:14:14.905Z"
   },
   {
    "duration": 209,
    "start_time": "2021-07-08T09:14:40.109Z"
   },
   {
    "duration": 201,
    "start_time": "2021-07-08T09:14:54.506Z"
   },
   {
    "duration": 622,
    "start_time": "2021-07-08T09:18:14.497Z"
   },
   {
    "duration": 220,
    "start_time": "2021-07-08T09:18:15.121Z"
   },
   {
    "duration": 79,
    "start_time": "2021-07-08T09:18:15.343Z"
   },
   {
    "duration": 4,
    "start_time": "2021-07-08T09:18:15.425Z"
   },
   {
    "duration": 24,
    "start_time": "2021-07-08T09:18:15.431Z"
   },
   {
    "duration": 8,
    "start_time": "2021-07-08T09:18:15.457Z"
   },
   {
    "duration": 16,
    "start_time": "2021-07-08T09:18:15.466Z"
   },
   {
    "duration": 5,
    "start_time": "2021-07-08T09:18:15.484Z"
   },
   {
    "duration": 10,
    "start_time": "2021-07-08T09:18:15.493Z"
   },
   {
    "duration": 8,
    "start_time": "2021-07-08T09:18:15.504Z"
   },
   {
    "duration": 7,
    "start_time": "2021-07-08T09:18:15.513Z"
   },
   {
    "duration": 26,
    "start_time": "2021-07-08T09:18:15.522Z"
   },
   {
    "duration": 49,
    "start_time": "2021-07-08T09:18:15.550Z"
   },
   {
    "duration": 21,
    "start_time": "2021-07-08T09:18:15.601Z"
   },
   {
    "duration": 8,
    "start_time": "2021-07-08T09:18:15.624Z"
   },
   {
    "duration": 3,
    "start_time": "2021-07-08T09:18:15.634Z"
   },
   {
    "duration": 8,
    "start_time": "2021-07-08T09:18:15.639Z"
   },
   {
    "duration": 45,
    "start_time": "2021-07-08T09:18:15.649Z"
   },
   {
    "duration": 13,
    "start_time": "2021-07-08T09:18:15.696Z"
   },
   {
    "duration": 10,
    "start_time": "2021-07-08T09:18:15.711Z"
   },
   {
    "duration": 64,
    "start_time": "2021-07-08T09:18:15.722Z"
   },
   {
    "duration": 19,
    "start_time": "2021-07-08T09:18:15.788Z"
   },
   {
    "duration": 9,
    "start_time": "2021-07-08T09:18:15.809Z"
   },
   {
    "duration": 9,
    "start_time": "2021-07-08T09:18:15.820Z"
   },
   {
    "duration": 18,
    "start_time": "2021-07-08T09:18:15.831Z"
   },
   {
    "duration": 43,
    "start_time": "2021-07-08T09:18:15.851Z"
   },
   {
    "duration": 12,
    "start_time": "2021-07-08T09:18:15.897Z"
   },
   {
    "duration": 219,
    "start_time": "2021-07-08T09:18:15.911Z"
   },
   {
    "duration": 8,
    "start_time": "2021-07-08T09:18:16.132Z"
   },
   {
    "duration": 199,
    "start_time": "2021-07-08T09:18:16.141Z"
   },
   {
    "duration": 18,
    "start_time": "2021-07-08T09:18:16.341Z"
   },
   {
    "duration": 24,
    "start_time": "2021-07-08T09:18:16.361Z"
   },
   {
    "duration": 24,
    "start_time": "2021-07-08T09:18:16.387Z"
   },
   {
    "duration": 211,
    "start_time": "2021-07-08T09:18:16.413Z"
   },
   {
    "duration": 18,
    "start_time": "2021-07-08T09:18:16.626Z"
   },
   {
    "duration": 596,
    "start_time": "2021-07-08T10:06:33.623Z"
   },
   {
    "duration": 181,
    "start_time": "2021-07-08T10:06:34.221Z"
   },
   {
    "duration": 176,
    "start_time": "2021-07-08T10:06:34.635Z"
   },
   {
    "duration": 239,
    "start_time": "2021-07-08T10:06:55.572Z"
   },
   {
    "duration": 6,
    "start_time": "2021-07-08T10:06:57.687Z"
   },
   {
    "duration": 4,
    "start_time": "2021-07-08T10:07:03.956Z"
   },
   {
    "duration": 4,
    "start_time": "2021-07-08T10:07:10.376Z"
   },
   {
    "duration": 4,
    "start_time": "2021-07-08T10:17:19.889Z"
   },
   {
    "duration": 3,
    "start_time": "2021-07-08T10:19:19.407Z"
   },
   {
    "duration": 197,
    "start_time": "2021-07-08T10:19:19.412Z"
   },
   {
    "duration": 127,
    "start_time": "2021-07-08T10:19:19.611Z"
   },
   {
    "duration": 4,
    "start_time": "2021-07-08T10:19:19.740Z"
   },
   {
    "duration": 27,
    "start_time": "2021-07-08T10:19:19.746Z"
   },
   {
    "duration": 7,
    "start_time": "2021-07-08T10:19:19.775Z"
   },
   {
    "duration": 30,
    "start_time": "2021-07-08T10:19:19.784Z"
   },
   {
    "duration": 7,
    "start_time": "2021-07-08T10:19:19.817Z"
   },
   {
    "duration": 26,
    "start_time": "2021-07-08T10:19:19.826Z"
   },
   {
    "duration": 18,
    "start_time": "2021-07-08T10:19:19.854Z"
   },
   {
    "duration": 14,
    "start_time": "2021-07-08T10:19:19.874Z"
   },
   {
    "duration": 48,
    "start_time": "2021-07-08T10:19:19.890Z"
   },
   {
    "duration": 17,
    "start_time": "2021-07-08T10:19:19.940Z"
   },
   {
    "duration": 38,
    "start_time": "2021-07-08T10:19:19.959Z"
   },
   {
    "duration": 8,
    "start_time": "2021-07-08T10:19:19.999Z"
   },
   {
    "duration": 15,
    "start_time": "2021-07-08T10:19:20.009Z"
   },
   {
    "duration": 22,
    "start_time": "2021-07-08T10:19:20.026Z"
   },
   {
    "duration": 10,
    "start_time": "2021-07-08T10:19:20.050Z"
   },
   {
    "duration": 10,
    "start_time": "2021-07-08T10:19:20.062Z"
   },
   {
    "duration": 20,
    "start_time": "2021-07-08T10:19:20.073Z"
   },
   {
    "duration": 29,
    "start_time": "2021-07-08T10:19:20.095Z"
   },
   {
    "duration": 17,
    "start_time": "2021-07-08T10:19:20.126Z"
   },
   {
    "duration": 40,
    "start_time": "2021-07-08T10:19:20.146Z"
   },
   {
    "duration": 15,
    "start_time": "2021-07-08T10:19:20.189Z"
   },
   {
    "duration": 19,
    "start_time": "2021-07-08T10:19:20.206Z"
   },
   {
    "duration": 10,
    "start_time": "2021-07-08T10:19:20.226Z"
   },
   {
    "duration": 11,
    "start_time": "2021-07-08T10:19:20.238Z"
   },
   {
    "duration": 297,
    "start_time": "2021-07-08T10:19:20.250Z"
   },
   {
    "duration": 6,
    "start_time": "2021-07-08T10:19:20.549Z"
   },
   {
    "duration": 191,
    "start_time": "2021-07-08T10:19:20.557Z"
   },
   {
    "duration": 19,
    "start_time": "2021-07-08T10:19:20.750Z"
   },
   {
    "duration": 20,
    "start_time": "2021-07-08T10:19:20.771Z"
   },
   {
    "duration": 15,
    "start_time": "2021-07-08T10:19:20.793Z"
   },
   {
    "duration": 222,
    "start_time": "2021-07-08T10:19:20.809Z"
   },
   {
    "duration": 20,
    "start_time": "2021-07-08T10:19:21.033Z"
   },
   {
    "duration": 27,
    "start_time": "2021-07-08T10:45:04.055Z"
   },
   {
    "duration": 8,
    "start_time": "2021-07-08T10:45:08.478Z"
   },
   {
    "duration": 8,
    "start_time": "2021-07-08T10:45:31.982Z"
   },
   {
    "duration": 10,
    "start_time": "2021-07-08T10:46:01.221Z"
   },
   {
    "duration": 17,
    "start_time": "2021-07-08T10:46:40.011Z"
   },
   {
    "duration": 193,
    "start_time": "2021-07-08T10:48:19.471Z"
   },
   {
    "duration": 225,
    "start_time": "2021-07-08T10:49:26.480Z"
   },
   {
    "duration": 204,
    "start_time": "2021-07-08T10:49:59.992Z"
   },
   {
    "duration": 435,
    "start_time": "2021-07-08T10:50:06.779Z"
   },
   {
    "duration": 199,
    "start_time": "2021-07-08T10:50:14.891Z"
   },
   {
    "duration": 204,
    "start_time": "2021-07-08T10:50:18.501Z"
   },
   {
    "duration": 244,
    "start_time": "2021-07-08T10:50:23.359Z"
   },
   {
    "duration": 192,
    "start_time": "2021-07-08T10:50:29.135Z"
   },
   {
    "duration": 218,
    "start_time": "2021-07-08T10:50:33.092Z"
   },
   {
    "duration": 207,
    "start_time": "2021-07-08T10:52:45.381Z"
   },
   {
    "duration": 5,
    "start_time": "2021-07-08T10:53:34.641Z"
   },
   {
    "duration": 196,
    "start_time": "2021-07-08T10:53:41.478Z"
   },
   {
    "duration": 43,
    "start_time": "2021-07-08T10:53:50.335Z"
   },
   {
    "duration": 32,
    "start_time": "2021-07-08T10:53:55.294Z"
   },
   {
    "duration": 55,
    "start_time": "2021-07-08T10:54:09.675Z"
   },
   {
    "duration": 16,
    "start_time": "2021-07-08T10:54:12.260Z"
   },
   {
    "duration": 15,
    "start_time": "2021-07-08T10:54:49.150Z"
   },
   {
    "duration": 20,
    "start_time": "2021-07-08T10:56:07.596Z"
   },
   {
    "duration": 16,
    "start_time": "2021-07-08T10:58:26.276Z"
   },
   {
    "duration": 22,
    "start_time": "2021-07-08T10:59:00.486Z"
   },
   {
    "duration": 18,
    "start_time": "2021-07-08T11:02:09.653Z"
   },
   {
    "duration": 10,
    "start_time": "2021-07-08T11:03:44.331Z"
   },
   {
    "duration": 10,
    "start_time": "2021-07-08T11:03:54.055Z"
   },
   {
    "duration": 12,
    "start_time": "2021-07-08T11:04:41.967Z"
   },
   {
    "duration": 24,
    "start_time": "2021-07-08T11:07:30.732Z"
   },
   {
    "duration": 6,
    "start_time": "2021-07-08T11:07:37.364Z"
   },
   {
    "duration": 16,
    "start_time": "2021-07-08T11:08:01.819Z"
   },
   {
    "duration": 17,
    "start_time": "2021-07-08T11:09:47.488Z"
   },
   {
    "duration": 246,
    "start_time": "2021-07-08T11:10:00.830Z"
   },
   {
    "duration": 18,
    "start_time": "2021-07-08T11:13:55.195Z"
   },
   {
    "duration": 204,
    "start_time": "2021-07-08T11:14:04.951Z"
   },
   {
    "duration": 19,
    "start_time": "2021-07-08T11:15:10.613Z"
   },
   {
    "duration": 680,
    "start_time": "2021-07-08T11:16:25.793Z"
   },
   {
    "duration": 451,
    "start_time": "2021-07-08T11:16:40.313Z"
   },
   {
    "duration": 469,
    "start_time": "2021-07-08T11:17:21.286Z"
   },
   {
    "duration": 20,
    "start_time": "2021-07-08T11:19:12.554Z"
   },
   {
    "duration": 35,
    "start_time": "2021-07-08T11:20:05.484Z"
   },
   {
    "duration": 53,
    "start_time": "2021-07-08T11:21:40.050Z"
   },
   {
    "duration": 13,
    "start_time": "2021-07-08T11:22:26.059Z"
   },
   {
    "duration": 19,
    "start_time": "2021-07-08T11:22:47.419Z"
   },
   {
    "duration": 25,
    "start_time": "2021-07-08T11:23:19.958Z"
   },
   {
    "duration": 29,
    "start_time": "2021-07-08T11:23:25.415Z"
   },
   {
    "duration": 10,
    "start_time": "2021-07-08T11:24:45.138Z"
   },
   {
    "duration": 19,
    "start_time": "2021-07-08T11:24:54.498Z"
   },
   {
    "duration": 12,
    "start_time": "2021-07-08T11:25:32.225Z"
   },
   {
    "duration": 19,
    "start_time": "2021-07-08T11:25:37.092Z"
   },
   {
    "duration": 17,
    "start_time": "2021-07-08T11:25:58.116Z"
   },
   {
    "duration": 15,
    "start_time": "2021-07-08T11:26:02.258Z"
   },
   {
    "duration": 8,
    "start_time": "2021-07-08T11:26:59.682Z"
   },
   {
    "duration": 184,
    "start_time": "2021-07-08T11:27:21.894Z"
   },
   {
    "duration": 8,
    "start_time": "2021-07-08T11:27:23.824Z"
   },
   {
    "duration": 202,
    "start_time": "2021-07-08T11:27:23.962Z"
   },
   {
    "duration": 360,
    "start_time": "2021-07-08T11:28:33.215Z"
   },
   {
    "duration": 231,
    "start_time": "2021-07-08T11:32:05.542Z"
   },
   {
    "duration": 607,
    "start_time": "2021-07-08T11:36:27.854Z"
   },
   {
    "duration": 241,
    "start_time": "2021-07-08T11:36:28.463Z"
   },
   {
    "duration": 67,
    "start_time": "2021-07-08T11:36:28.709Z"
   },
   {
    "duration": 5,
    "start_time": "2021-07-08T11:36:28.778Z"
   },
   {
    "duration": 32,
    "start_time": "2021-07-08T11:36:28.784Z"
   },
   {
    "duration": 11,
    "start_time": "2021-07-08T11:36:28.819Z"
   },
   {
    "duration": 20,
    "start_time": "2021-07-08T11:36:28.834Z"
   },
   {
    "duration": 36,
    "start_time": "2021-07-08T11:36:28.857Z"
   },
   {
    "duration": 16,
    "start_time": "2021-07-08T11:36:28.895Z"
   },
   {
    "duration": 14,
    "start_time": "2021-07-08T11:36:28.913Z"
   },
   {
    "duration": 9,
    "start_time": "2021-07-08T11:36:28.930Z"
   },
   {
    "duration": 55,
    "start_time": "2021-07-08T11:36:28.941Z"
   },
   {
    "duration": 27,
    "start_time": "2021-07-08T11:36:28.999Z"
   },
   {
    "duration": 30,
    "start_time": "2021-07-08T11:36:29.028Z"
   },
   {
    "duration": 31,
    "start_time": "2021-07-08T11:36:29.060Z"
   },
   {
    "duration": 3,
    "start_time": "2021-07-08T11:36:29.093Z"
   },
   {
    "duration": 12,
    "start_time": "2021-07-08T11:36:29.099Z"
   },
   {
    "duration": 11,
    "start_time": "2021-07-08T11:36:29.112Z"
   },
   {
    "duration": 12,
    "start_time": "2021-07-08T11:36:29.125Z"
   },
   {
    "duration": 9,
    "start_time": "2021-07-08T11:36:29.139Z"
   },
   {
    "duration": 31,
    "start_time": "2021-07-08T11:36:29.191Z"
   },
   {
    "duration": 17,
    "start_time": "2021-07-08T11:36:29.226Z"
   },
   {
    "duration": 7,
    "start_time": "2021-07-08T11:36:29.245Z"
   },
   {
    "duration": 10,
    "start_time": "2021-07-08T11:36:29.254Z"
   },
   {
    "duration": 30,
    "start_time": "2021-07-08T11:36:29.292Z"
   },
   {
    "duration": 11,
    "start_time": "2021-07-08T11:36:29.324Z"
   },
   {
    "duration": 11,
    "start_time": "2021-07-08T11:36:29.337Z"
   },
   {
    "duration": 230,
    "start_time": "2021-07-08T11:36:29.349Z"
   },
   {
    "duration": 13,
    "start_time": "2021-07-08T11:36:29.588Z"
   },
   {
    "duration": 205,
    "start_time": "2021-07-08T11:36:29.603Z"
   },
   {
    "duration": 20,
    "start_time": "2021-07-08T11:36:29.810Z"
   },
   {
    "duration": 9,
    "start_time": "2021-07-08T11:36:29.832Z"
   },
   {
    "duration": 16,
    "start_time": "2021-07-08T11:36:29.843Z"
   },
   {
    "duration": 283,
    "start_time": "2021-07-08T11:36:29.861Z"
   },
   {
    "duration": 50,
    "start_time": "2021-07-08T11:36:30.146Z"
   },
   {
    "duration": 14,
    "start_time": "2021-07-08T11:36:30.198Z"
   },
   {
    "duration": 11,
    "start_time": "2021-07-08T11:36:30.214Z"
   },
   {
    "duration": 245,
    "start_time": "2021-07-08T11:36:30.227Z"
   },
   {
    "duration": 439,
    "start_time": "2021-07-08T11:36:30.474Z"
   },
   {
    "duration": 210,
    "start_time": "2021-07-08T11:36:30.915Z"
   },
   {
    "duration": 15,
    "start_time": "2021-07-08T11:36:31.127Z"
   },
   {
    "duration": 17,
    "start_time": "2021-07-08T11:38:20.451Z"
   },
   {
    "duration": 642,
    "start_time": "2021-07-08T11:46:17.881Z"
   },
   {
    "duration": 210,
    "start_time": "2021-07-08T11:46:18.525Z"
   },
   {
    "duration": 104,
    "start_time": "2021-07-08T11:46:18.741Z"
   },
   {
    "duration": 8,
    "start_time": "2021-07-08T11:46:18.847Z"
   },
   {
    "duration": 25,
    "start_time": "2021-07-08T11:46:18.857Z"
   },
   {
    "duration": 14,
    "start_time": "2021-07-08T11:46:18.884Z"
   },
   {
    "duration": 22,
    "start_time": "2021-07-08T11:46:18.900Z"
   },
   {
    "duration": 5,
    "start_time": "2021-07-08T11:46:18.924Z"
   },
   {
    "duration": 13,
    "start_time": "2021-07-08T11:46:18.931Z"
   },
   {
    "duration": 45,
    "start_time": "2021-07-08T11:46:18.946Z"
   },
   {
    "duration": 12,
    "start_time": "2021-07-08T11:46:18.993Z"
   },
   {
    "duration": 38,
    "start_time": "2021-07-08T11:46:19.006Z"
   },
   {
    "duration": 50,
    "start_time": "2021-07-08T11:46:19.046Z"
   },
   {
    "duration": 29,
    "start_time": "2021-07-08T11:46:19.099Z"
   },
   {
    "duration": 7,
    "start_time": "2021-07-08T11:46:19.130Z"
   },
   {
    "duration": 3,
    "start_time": "2021-07-08T11:46:19.139Z"
   },
   {
    "duration": 11,
    "start_time": "2021-07-08T11:46:19.144Z"
   },
   {
    "duration": 40,
    "start_time": "2021-07-08T11:46:19.157Z"
   },
   {
    "duration": 15,
    "start_time": "2021-07-08T11:46:19.199Z"
   },
   {
    "duration": 10,
    "start_time": "2021-07-08T11:46:19.217Z"
   },
   {
    "duration": 68,
    "start_time": "2021-07-08T11:46:19.230Z"
   },
   {
    "duration": 17,
    "start_time": "2021-07-08T11:46:19.301Z"
   },
   {
    "duration": 7,
    "start_time": "2021-07-08T11:46:19.321Z"
   },
   {
    "duration": 11,
    "start_time": "2021-07-08T11:46:19.330Z"
   },
   {
    "duration": 59,
    "start_time": "2021-07-08T11:46:19.343Z"
   },
   {
    "duration": 17,
    "start_time": "2021-07-08T11:46:19.405Z"
   },
   {
    "duration": 16,
    "start_time": "2021-07-08T11:46:19.424Z"
   },
   {
    "duration": 252,
    "start_time": "2021-07-08T11:46:19.443Z"
   },
   {
    "duration": 9,
    "start_time": "2021-07-08T11:46:19.697Z"
   },
   {
    "duration": 224,
    "start_time": "2021-07-08T11:46:19.708Z"
   },
   {
    "duration": 21,
    "start_time": "2021-07-08T11:46:19.934Z"
   },
   {
    "duration": 9,
    "start_time": "2021-07-08T11:46:19.956Z"
   },
   {
    "duration": 32,
    "start_time": "2021-07-08T11:46:19.967Z"
   },
   {
    "duration": 288,
    "start_time": "2021-07-08T11:46:20.004Z"
   },
   {
    "duration": 23,
    "start_time": "2021-07-08T11:46:20.300Z"
   },
   {
    "duration": 11,
    "start_time": "2021-07-08T11:46:20.325Z"
   },
   {
    "duration": 11,
    "start_time": "2021-07-08T11:46:20.339Z"
   },
   {
    "duration": 259,
    "start_time": "2021-07-08T11:46:20.352Z"
   },
   {
    "duration": 438,
    "start_time": "2021-07-08T11:46:20.613Z"
   },
   {
    "duration": 207,
    "start_time": "2021-07-08T11:46:21.054Z"
   },
   {
    "duration": 27,
    "start_time": "2021-07-08T11:46:21.262Z"
   },
   {
    "duration": 19,
    "start_time": "2021-07-08T11:46:21.291Z"
   },
   {
    "duration": 820,
    "start_time": "2021-07-08T11:49:01.655Z"
   },
   {
    "duration": 372,
    "start_time": "2021-07-08T11:49:02.478Z"
   },
   {
    "duration": 98,
    "start_time": "2021-07-08T11:49:02.853Z"
   },
   {
    "duration": 6,
    "start_time": "2021-07-08T11:49:02.953Z"
   },
   {
    "duration": 39,
    "start_time": "2021-07-08T11:49:02.960Z"
   },
   {
    "duration": 9,
    "start_time": "2021-07-08T11:49:03.003Z"
   },
   {
    "duration": 23,
    "start_time": "2021-07-08T11:49:03.014Z"
   },
   {
    "duration": 6,
    "start_time": "2021-07-08T11:49:03.041Z"
   },
   {
    "duration": 20,
    "start_time": "2021-07-08T11:49:03.049Z"
   },
   {
    "duration": 18,
    "start_time": "2021-07-08T11:49:03.084Z"
   },
   {
    "duration": 14,
    "start_time": "2021-07-08T11:49:03.104Z"
   },
   {
    "duration": 39,
    "start_time": "2021-07-08T11:49:03.119Z"
   },
   {
    "duration": 38,
    "start_time": "2021-07-08T11:49:03.160Z"
   },
   {
    "duration": 26,
    "start_time": "2021-07-08T11:49:03.200Z"
   },
   {
    "duration": 7,
    "start_time": "2021-07-08T11:49:03.227Z"
   },
   {
    "duration": 4,
    "start_time": "2021-07-08T11:49:03.236Z"
   },
   {
    "duration": 15,
    "start_time": "2021-07-08T11:49:03.243Z"
   },
   {
    "duration": 21,
    "start_time": "2021-07-08T11:49:03.285Z"
   },
   {
    "duration": 17,
    "start_time": "2021-07-08T11:49:03.309Z"
   },
   {
    "duration": 10,
    "start_time": "2021-07-08T11:49:03.328Z"
   },
   {
    "duration": 65,
    "start_time": "2021-07-08T11:49:03.340Z"
   },
   {
    "duration": 18,
    "start_time": "2021-07-08T11:49:03.407Z"
   },
   {
    "duration": 8,
    "start_time": "2021-07-08T11:49:03.428Z"
   },
   {
    "duration": 15,
    "start_time": "2021-07-08T11:49:03.438Z"
   },
   {
    "duration": 40,
    "start_time": "2021-07-08T11:49:03.455Z"
   },
   {
    "duration": 12,
    "start_time": "2021-07-08T11:49:03.497Z"
   },
   {
    "duration": 29,
    "start_time": "2021-07-08T11:49:03.511Z"
   },
   {
    "duration": 285,
    "start_time": "2021-07-08T11:49:03.542Z"
   },
   {
    "duration": 8,
    "start_time": "2021-07-08T11:49:03.829Z"
   },
   {
    "duration": 227,
    "start_time": "2021-07-08T11:49:03.838Z"
   },
   {
    "duration": 40,
    "start_time": "2021-07-08T11:49:04.066Z"
   },
   {
    "duration": 10,
    "start_time": "2021-07-08T11:49:04.108Z"
   },
   {
    "duration": 26,
    "start_time": "2021-07-08T11:49:04.121Z"
   },
   {
    "duration": 290,
    "start_time": "2021-07-08T11:49:04.149Z"
   },
   {
    "duration": 26,
    "start_time": "2021-07-08T11:49:04.441Z"
   },
   {
    "duration": 31,
    "start_time": "2021-07-08T11:49:04.470Z"
   },
   {
    "duration": 14,
    "start_time": "2021-07-08T11:49:04.503Z"
   },
   {
    "duration": 259,
    "start_time": "2021-07-08T11:49:04.521Z"
   },
   {
    "duration": 480,
    "start_time": "2021-07-08T11:49:04.782Z"
   },
   {
    "duration": 225,
    "start_time": "2021-07-08T11:49:05.264Z"
   },
   {
    "duration": 22,
    "start_time": "2021-07-08T11:49:05.491Z"
   },
   {
    "duration": 24,
    "start_time": "2021-07-08T11:49:05.515Z"
   },
   {
    "duration": 634,
    "start_time": "2021-07-08T11:52:24.960Z"
   },
   {
    "duration": 199,
    "start_time": "2021-07-08T11:52:25.599Z"
   },
   {
    "duration": 106,
    "start_time": "2021-07-08T11:52:25.803Z"
   },
   {
    "duration": 7,
    "start_time": "2021-07-08T11:52:25.911Z"
   },
   {
    "duration": 29,
    "start_time": "2021-07-08T11:52:25.920Z"
   },
   {
    "duration": 7,
    "start_time": "2021-07-08T11:52:25.951Z"
   },
   {
    "duration": 26,
    "start_time": "2021-07-08T11:52:25.961Z"
   },
   {
    "duration": 11,
    "start_time": "2021-07-08T11:52:25.990Z"
   },
   {
    "duration": 29,
    "start_time": "2021-07-08T11:52:26.005Z"
   },
   {
    "duration": 9,
    "start_time": "2021-07-08T11:52:26.036Z"
   },
   {
    "duration": 8,
    "start_time": "2021-07-08T11:52:26.047Z"
   },
   {
    "duration": 63,
    "start_time": "2021-07-08T11:52:26.057Z"
   },
   {
    "duration": 17,
    "start_time": "2021-07-08T11:52:26.122Z"
   },
   {
    "duration": 43,
    "start_time": "2021-07-08T11:52:26.142Z"
   },
   {
    "duration": 17,
    "start_time": "2021-07-08T11:52:26.187Z"
   },
   {
    "duration": 5,
    "start_time": "2021-07-08T11:52:26.206Z"
   },
   {
    "duration": 12,
    "start_time": "2021-07-08T11:52:26.212Z"
   },
   {
    "duration": 11,
    "start_time": "2021-07-08T11:52:26.226Z"
   },
   {
    "duration": 12,
    "start_time": "2021-07-08T11:52:26.238Z"
   },
   {
    "duration": 38,
    "start_time": "2021-07-08T11:52:26.252Z"
   },
   {
    "duration": 40,
    "start_time": "2021-07-08T11:52:26.292Z"
   },
   {
    "duration": 17,
    "start_time": "2021-07-08T11:52:26.336Z"
   },
   {
    "duration": 39,
    "start_time": "2021-07-08T11:52:26.355Z"
   },
   {
    "duration": 11,
    "start_time": "2021-07-08T11:52:26.395Z"
   },
   {
    "duration": 23,
    "start_time": "2021-07-08T11:52:26.408Z"
   },
   {
    "duration": 12,
    "start_time": "2021-07-08T11:52:26.432Z"
   },
   {
    "duration": 41,
    "start_time": "2021-07-08T11:52:26.446Z"
   },
   {
    "duration": 215,
    "start_time": "2021-07-08T11:52:26.493Z"
   },
   {
    "duration": 8,
    "start_time": "2021-07-08T11:52:26.710Z"
   },
   {
    "duration": 228,
    "start_time": "2021-07-08T11:52:26.720Z"
   },
   {
    "duration": 18,
    "start_time": "2021-07-08T11:52:26.950Z"
   },
   {
    "duration": 35,
    "start_time": "2021-07-08T11:52:26.969Z"
   },
   {
    "duration": 23,
    "start_time": "2021-07-08T11:52:27.006Z"
   },
   {
    "duration": 258,
    "start_time": "2021-07-08T11:52:27.030Z"
   },
   {
    "duration": 24,
    "start_time": "2021-07-08T11:52:27.290Z"
   },
   {
    "duration": 12,
    "start_time": "2021-07-08T11:52:27.316Z"
   },
   {
    "duration": 10,
    "start_time": "2021-07-08T11:52:27.329Z"
   },
   {
    "duration": 298,
    "start_time": "2021-07-08T11:52:27.341Z"
   },
   {
    "duration": 436,
    "start_time": "2021-07-08T11:52:27.641Z"
   },
   {
    "duration": 216,
    "start_time": "2021-07-08T11:52:28.079Z"
   },
   {
    "duration": 20,
    "start_time": "2021-07-08T11:52:28.297Z"
   },
   {
    "duration": 17,
    "start_time": "2021-07-08T11:52:28.319Z"
   },
   {
    "duration": 1099,
    "start_time": "2022-05-29T12:29:03.489Z"
   },
   {
    "duration": 756,
    "start_time": "2022-05-29T12:29:04.590Z"
   },
   {
    "duration": 220,
    "start_time": "2022-05-29T12:29:05.349Z"
   },
   {
    "duration": 69,
    "start_time": "2022-05-29T12:36:29.924Z"
   },
   {
    "duration": 185,
    "start_time": "2022-05-29T12:36:33.096Z"
   },
   {
    "duration": 19,
    "start_time": "2022-05-29T12:36:55.569Z"
   },
   {
    "duration": 27,
    "start_time": "2022-05-29T12:37:02.984Z"
   },
   {
    "duration": 50,
    "start_time": "2022-05-29T12:37:08.521Z"
   },
   {
    "duration": 6,
    "start_time": "2022-05-29T12:42:30.746Z"
   },
   {
    "duration": 332,
    "start_time": "2022-05-29T12:43:13.843Z"
   },
   {
    "duration": 22,
    "start_time": "2022-05-29T12:45:04.387Z"
   },
   {
    "duration": 18,
    "start_time": "2022-05-29T12:48:42.719Z"
   },
   {
    "duration": 32,
    "start_time": "2022-05-29T12:50:08.218Z"
   },
   {
    "duration": 15,
    "start_time": "2022-05-29T12:50:17.579Z"
   },
   {
    "duration": 52,
    "start_time": "2022-05-29T12:50:27.883Z"
   },
   {
    "duration": 117,
    "start_time": "2022-05-29T12:50:57.242Z"
   },
   {
    "duration": 7,
    "start_time": "2022-05-29T12:51:03.558Z"
   },
   {
    "duration": 73,
    "start_time": "2022-05-29T12:51:04.356Z"
   },
   {
    "duration": 23,
    "start_time": "2022-05-29T12:51:06.950Z"
   },
   {
    "duration": 19,
    "start_time": "2022-05-29T12:58:28.975Z"
   },
   {
    "duration": 6,
    "start_time": "2022-05-29T12:59:03.502Z"
   },
   {
    "duration": 28,
    "start_time": "2022-05-29T12:59:10.783Z"
   },
   {
    "duration": 78,
    "start_time": "2022-05-29T12:59:18.474Z"
   },
   {
    "duration": 14,
    "start_time": "2022-05-29T13:05:55.665Z"
   },
   {
    "duration": 25,
    "start_time": "2022-05-29T13:06:18.481Z"
   },
   {
    "duration": 15,
    "start_time": "2022-05-29T13:06:58.745Z"
   },
   {
    "duration": 789,
    "start_time": "2022-05-29T13:07:45.970Z"
   },
   {
    "duration": 112,
    "start_time": "2022-05-29T13:07:46.762Z"
   },
   {
    "duration": 28,
    "start_time": "2022-05-29T13:07:46.876Z"
   },
   {
    "duration": 24,
    "start_time": "2022-05-29T13:07:46.907Z"
   },
   {
    "duration": 42,
    "start_time": "2022-05-29T13:07:46.933Z"
   },
   {
    "duration": 24,
    "start_time": "2022-05-29T13:07:46.978Z"
   },
   {
    "duration": 23,
    "start_time": "2022-05-29T13:07:47.010Z"
   },
   {
    "duration": 21,
    "start_time": "2022-05-29T13:07:47.035Z"
   },
   {
    "duration": 34,
    "start_time": "2022-05-29T13:10:43.348Z"
   },
   {
    "duration": 7,
    "start_time": "2022-05-29T13:11:53.882Z"
   },
   {
    "duration": 7,
    "start_time": "2022-05-29T13:12:02.568Z"
   },
   {
    "duration": 6,
    "start_time": "2022-05-29T13:19:06.457Z"
   },
   {
    "duration": 15,
    "start_time": "2022-05-29T13:19:08.490Z"
   },
   {
    "duration": 12,
    "start_time": "2022-05-29T13:20:43.362Z"
   },
   {
    "duration": 14,
    "start_time": "2022-05-29T13:20:45.875Z"
   },
   {
    "duration": 8,
    "start_time": "2022-05-29T13:20:46.339Z"
   },
   {
    "duration": 19,
    "start_time": "2022-05-29T13:21:15.126Z"
   },
   {
    "duration": 13,
    "start_time": "2022-05-29T13:22:42.842Z"
   },
   {
    "duration": 6,
    "start_time": "2022-05-29T13:22:43.722Z"
   },
   {
    "duration": 12,
    "start_time": "2022-05-29T13:24:17.379Z"
   },
   {
    "duration": 7,
    "start_time": "2022-05-29T13:24:18.084Z"
   },
   {
    "duration": 11,
    "start_time": "2022-05-29T13:24:22.611Z"
   },
   {
    "duration": 6,
    "start_time": "2022-05-29T13:24:23.723Z"
   },
   {
    "duration": 748,
    "start_time": "2022-05-29T13:24:36.491Z"
   },
   {
    "duration": 137,
    "start_time": "2022-05-29T13:24:37.242Z"
   },
   {
    "duration": 25,
    "start_time": "2022-05-29T13:24:37.381Z"
   },
   {
    "duration": 22,
    "start_time": "2022-05-29T13:24:37.409Z"
   },
   {
    "duration": 57,
    "start_time": "2022-05-29T13:24:37.434Z"
   },
   {
    "duration": 19,
    "start_time": "2022-05-29T13:24:37.493Z"
   },
   {
    "duration": 33,
    "start_time": "2022-05-29T13:24:37.514Z"
   },
   {
    "duration": 19,
    "start_time": "2022-05-29T13:24:37.549Z"
   },
   {
    "duration": 31,
    "start_time": "2022-05-29T13:24:37.570Z"
   },
   {
    "duration": 15,
    "start_time": "2022-05-29T13:24:37.604Z"
   },
   {
    "duration": 10,
    "start_time": "2022-05-29T13:26:29.377Z"
   },
   {
    "duration": 6,
    "start_time": "2022-05-29T13:26:30.243Z"
   },
   {
    "duration": 12,
    "start_time": "2022-05-29T13:26:45.338Z"
   },
   {
    "duration": 6,
    "start_time": "2022-05-29T13:26:46.162Z"
   },
   {
    "duration": 15,
    "start_time": "2022-05-29T13:30:16.980Z"
   },
   {
    "duration": 19,
    "start_time": "2022-05-29T13:30:26.081Z"
   },
   {
    "duration": 7,
    "start_time": "2022-05-29T13:30:26.582Z"
   },
   {
    "duration": 97,
    "start_time": "2022-05-29T13:31:51.606Z"
   },
   {
    "duration": 12,
    "start_time": "2022-05-29T13:33:13.973Z"
   },
   {
    "duration": 8,
    "start_time": "2022-05-29T13:33:17.210Z"
   },
   {
    "duration": 11,
    "start_time": "2022-05-29T13:33:31.857Z"
   },
   {
    "duration": 11,
    "start_time": "2022-05-29T13:34:05.777Z"
   },
   {
    "duration": 8,
    "start_time": "2022-05-29T13:34:06.912Z"
   },
   {
    "duration": 3,
    "start_time": "2022-05-29T13:34:34.824Z"
   },
   {
    "duration": 97,
    "start_time": "2022-05-29T13:34:35.675Z"
   },
   {
    "duration": 24,
    "start_time": "2022-05-29T13:34:36.810Z"
   },
   {
    "duration": 11,
    "start_time": "2022-05-29T13:34:38.280Z"
   },
   {
    "duration": 50,
    "start_time": "2022-05-29T13:34:39.173Z"
   },
   {
    "duration": 13,
    "start_time": "2022-05-29T13:34:39.729Z"
   },
   {
    "duration": 16,
    "start_time": "2022-05-29T13:34:40.784Z"
   },
   {
    "duration": 247,
    "start_time": "2022-05-29T13:34:56.217Z"
   },
   {
    "duration": 11,
    "start_time": "2022-05-29T13:38:28.162Z"
   },
   {
    "duration": 8,
    "start_time": "2022-05-29T13:38:29.074Z"
   },
   {
    "duration": 12,
    "start_time": "2022-05-29T13:38:42.840Z"
   },
   {
    "duration": 7,
    "start_time": "2022-05-29T13:38:44.474Z"
   },
   {
    "duration": 25,
    "start_time": "2022-05-29T13:39:58.379Z"
   },
   {
    "duration": 11,
    "start_time": "2022-05-29T13:40:08.280Z"
   },
   {
    "duration": 9,
    "start_time": "2022-05-29T13:40:48.512Z"
   },
   {
    "duration": 9,
    "start_time": "2022-05-29T13:40:54.764Z"
   },
   {
    "duration": 596,
    "start_time": "2022-05-29T13:41:56.414Z"
   },
   {
    "duration": 26,
    "start_time": "2022-05-29T13:42:05.610Z"
   },
   {
    "duration": 6,
    "start_time": "2022-05-29T13:47:44.667Z"
   },
   {
    "duration": 7,
    "start_time": "2022-05-29T13:47:51.153Z"
   },
   {
    "duration": 9,
    "start_time": "2022-05-29T13:48:04.674Z"
   },
   {
    "duration": 24,
    "start_time": "2022-05-29T13:48:49.269Z"
   },
   {
    "duration": 33,
    "start_time": "2022-05-29T13:56:51.393Z"
   },
   {
    "duration": 26,
    "start_time": "2022-05-29T13:58:18.845Z"
   },
   {
    "duration": 31,
    "start_time": "2022-05-29T13:59:11.138Z"
   },
   {
    "duration": 47,
    "start_time": "2022-05-29T14:00:11.881Z"
   },
   {
    "duration": 47,
    "start_time": "2022-05-29T14:00:30.016Z"
   },
   {
    "duration": 35,
    "start_time": "2022-05-29T14:00:56.901Z"
   },
   {
    "duration": 25,
    "start_time": "2022-05-29T14:01:09.116Z"
   },
   {
    "duration": 22,
    "start_time": "2022-05-29T14:01:30.793Z"
   },
   {
    "duration": 14,
    "start_time": "2022-05-29T14:02:17.988Z"
   },
   {
    "duration": 20,
    "start_time": "2022-05-29T14:02:20.345Z"
   },
   {
    "duration": 15,
    "start_time": "2022-05-29T14:02:26.081Z"
   },
   {
    "duration": 12,
    "start_time": "2022-05-29T14:07:14.545Z"
   },
   {
    "duration": 22,
    "start_time": "2022-05-29T14:07:17.329Z"
   },
   {
    "duration": 19,
    "start_time": "2022-05-29T14:07:23.644Z"
   },
   {
    "duration": 15,
    "start_time": "2022-05-29T14:11:55.819Z"
   },
   {
    "duration": 5,
    "start_time": "2022-05-29T14:12:00.982Z"
   },
   {
    "duration": 8,
    "start_time": "2022-05-29T14:15:48.478Z"
   },
   {
    "duration": 6,
    "start_time": "2022-05-29T14:17:39.574Z"
   },
   {
    "duration": 8,
    "start_time": "2022-05-29T14:18:45.826Z"
   },
   {
    "duration": 8,
    "start_time": "2022-05-29T14:19:09.818Z"
   },
   {
    "duration": 56,
    "start_time": "2022-05-30T17:03:34.363Z"
   },
   {
    "duration": 872,
    "start_time": "2022-05-30T17:03:41.050Z"
   },
   {
    "duration": 223,
    "start_time": "2022-05-30T17:03:41.925Z"
   },
   {
    "duration": 18,
    "start_time": "2022-05-30T17:03:42.150Z"
   },
   {
    "duration": 40,
    "start_time": "2022-05-30T17:03:42.170Z"
   },
   {
    "duration": 128,
    "start_time": "2022-05-30T17:03:42.212Z"
   },
   {
    "duration": 17,
    "start_time": "2022-05-30T17:03:42.344Z"
   },
   {
    "duration": 54,
    "start_time": "2022-05-30T17:03:42.364Z"
   },
   {
    "duration": 16,
    "start_time": "2022-05-30T17:03:42.777Z"
   },
   {
    "duration": 8,
    "start_time": "2022-05-30T17:03:44.601Z"
   },
   {
    "duration": 6,
    "start_time": "2022-05-30T17:03:45.217Z"
   },
   {
    "duration": 27,
    "start_time": "2022-05-30T17:03:56.154Z"
   },
   {
    "duration": 30,
    "start_time": "2022-05-30T17:04:05.074Z"
   },
   {
    "duration": 34,
    "start_time": "2022-05-30T17:04:20.521Z"
   },
   {
    "duration": 22,
    "start_time": "2022-05-30T17:04:24.604Z"
   },
   {
    "duration": 31,
    "start_time": "2022-05-30T17:04:28.464Z"
   },
   {
    "duration": 22,
    "start_time": "2022-05-30T17:04:32.618Z"
   },
   {
    "duration": 3,
    "start_time": "2022-05-30T17:04:43.034Z"
   },
   {
    "duration": 103,
    "start_time": "2022-05-30T17:04:51.111Z"
   },
   {
    "duration": 24,
    "start_time": "2022-05-30T17:05:03.545Z"
   },
   {
    "duration": 15,
    "start_time": "2022-05-30T17:06:13.155Z"
   },
   {
    "duration": 23,
    "start_time": "2022-05-30T17:06:13.713Z"
   },
   {
    "duration": 7,
    "start_time": "2022-05-30T17:06:19.402Z"
   },
   {
    "duration": 15,
    "start_time": "2022-05-30T17:07:09.355Z"
   },
   {
    "duration": 50,
    "start_time": "2022-05-30T17:07:43.483Z"
   },
   {
    "duration": 11,
    "start_time": "2022-05-30T17:07:49.315Z"
   },
   {
    "duration": 5,
    "start_time": "2022-05-30T17:08:09.835Z"
   },
   {
    "duration": 21,
    "start_time": "2022-05-30T17:24:28.058Z"
   },
   {
    "duration": 15,
    "start_time": "2022-05-30T17:26:19.558Z"
   },
   {
    "duration": 11,
    "start_time": "2022-05-30T17:26:23.556Z"
   },
   {
    "duration": 5,
    "start_time": "2022-05-30T17:26:32.890Z"
   },
   {
    "duration": 11,
    "start_time": "2022-05-30T17:26:42.810Z"
   },
   {
    "duration": 7,
    "start_time": "2022-05-30T17:26:53.181Z"
   },
   {
    "duration": 9,
    "start_time": "2022-05-30T17:27:57.484Z"
   },
   {
    "duration": 6,
    "start_time": "2022-05-30T17:28:04.075Z"
   },
   {
    "duration": 7,
    "start_time": "2022-05-30T17:28:12.143Z"
   },
   {
    "duration": 6,
    "start_time": "2022-05-30T17:28:14.579Z"
   },
   {
    "duration": 4,
    "start_time": "2022-05-30T17:28:55.796Z"
   },
   {
    "duration": 4,
    "start_time": "2022-05-30T17:28:57.734Z"
   },
   {
    "duration": 60,
    "start_time": "2022-05-30T17:30:29.983Z"
   },
   {
    "duration": 676,
    "start_time": "2022-05-30T17:30:34.607Z"
   },
   {
    "duration": 111,
    "start_time": "2022-05-30T17:30:35.286Z"
   },
   {
    "duration": 16,
    "start_time": "2022-05-30T17:30:35.399Z"
   },
   {
    "duration": 10,
    "start_time": "2022-05-30T17:30:35.418Z"
   },
   {
    "duration": 54,
    "start_time": "2022-05-30T17:30:35.429Z"
   },
   {
    "duration": 16,
    "start_time": "2022-05-30T17:30:35.485Z"
   },
   {
    "duration": 19,
    "start_time": "2022-05-30T17:30:35.503Z"
   },
   {
    "duration": 30,
    "start_time": "2022-05-30T17:30:35.524Z"
   },
   {
    "duration": 6,
    "start_time": "2022-05-30T17:30:35.558Z"
   },
   {
    "duration": 12,
    "start_time": "2022-05-30T17:30:35.567Z"
   },
   {
    "duration": 15,
    "start_time": "2022-05-30T17:30:35.581Z"
   },
   {
    "duration": 6,
    "start_time": "2022-05-30T17:30:35.598Z"
   },
   {
    "duration": 13,
    "start_time": "2022-05-30T17:30:35.606Z"
   },
   {
    "duration": 6,
    "start_time": "2022-05-30T17:30:52.784Z"
   },
   {
    "duration": 8,
    "start_time": "2022-05-30T17:31:04.196Z"
   },
   {
    "duration": 11,
    "start_time": "2022-05-30T17:31:20.027Z"
   },
   {
    "duration": 8,
    "start_time": "2022-05-30T17:31:30.414Z"
   },
   {
    "duration": 8,
    "start_time": "2022-05-30T17:31:31.805Z"
   },
   {
    "duration": 4,
    "start_time": "2022-05-30T17:31:36.081Z"
   },
   {
    "duration": 10,
    "start_time": "2022-05-30T17:31:37.381Z"
   },
   {
    "duration": 4,
    "start_time": "2022-05-30T17:33:27.197Z"
   },
   {
    "duration": 8,
    "start_time": "2022-05-30T17:33:28.005Z"
   },
   {
    "duration": 5,
    "start_time": "2022-05-30T17:33:30.613Z"
   },
   {
    "duration": 7,
    "start_time": "2022-05-30T17:33:36.822Z"
   },
   {
    "duration": 9,
    "start_time": "2022-05-30T17:33:45.014Z"
   },
   {
    "duration": 9,
    "start_time": "2022-05-30T17:33:49.221Z"
   },
   {
    "duration": 46,
    "start_time": "2022-05-30T17:34:16.389Z"
   },
   {
    "duration": 39,
    "start_time": "2022-05-30T17:34:37.582Z"
   },
   {
    "duration": 26,
    "start_time": "2022-05-30T17:36:33.423Z"
   },
   {
    "duration": 9,
    "start_time": "2022-05-30T17:37:11.511Z"
   },
   {
    "duration": 11,
    "start_time": "2022-05-30T17:37:18.238Z"
   },
   {
    "duration": 9,
    "start_time": "2022-05-30T17:37:34.775Z"
   },
   {
    "duration": 8,
    "start_time": "2022-05-30T17:38:08.360Z"
   },
   {
    "duration": 5,
    "start_time": "2022-05-30T17:38:18.874Z"
   },
   {
    "duration": 7,
    "start_time": "2022-05-30T17:38:23.430Z"
   },
   {
    "duration": 7,
    "start_time": "2022-05-30T17:38:34.471Z"
   },
   {
    "duration": 8,
    "start_time": "2022-05-30T17:57:05.943Z"
   },
   {
    "duration": 10,
    "start_time": "2022-05-30T18:00:53.642Z"
   },
   {
    "duration": 23,
    "start_time": "2022-05-30T18:04:16.595Z"
   },
   {
    "duration": 36,
    "start_time": "2022-05-30T18:05:26.359Z"
   },
   {
    "duration": 5,
    "start_time": "2022-05-30T18:05:41.819Z"
   },
   {
    "duration": 8,
    "start_time": "2022-05-30T18:05:54.500Z"
   },
   {
    "duration": 9,
    "start_time": "2022-05-30T18:06:09.595Z"
   },
   {
    "duration": 9,
    "start_time": "2022-05-30T18:06:28.361Z"
   },
   {
    "duration": 5,
    "start_time": "2022-05-30T18:06:42.582Z"
   },
   {
    "duration": 6,
    "start_time": "2022-05-30T18:07:12.981Z"
   },
   {
    "duration": 8,
    "start_time": "2022-05-30T18:07:37.108Z"
   },
   {
    "duration": 5,
    "start_time": "2022-05-30T18:07:59.395Z"
   },
   {
    "duration": 5,
    "start_time": "2022-05-30T18:08:01.692Z"
   },
   {
    "duration": 5,
    "start_time": "2022-05-30T18:08:14.707Z"
   },
   {
    "duration": 4,
    "start_time": "2022-05-30T18:08:39.613Z"
   },
   {
    "duration": 4,
    "start_time": "2022-05-30T18:08:59.942Z"
   },
   {
    "duration": 6,
    "start_time": "2022-05-30T18:09:01.963Z"
   },
   {
    "duration": 6,
    "start_time": "2022-05-30T18:09:39.102Z"
   },
   {
    "duration": 8,
    "start_time": "2022-05-30T18:09:43.365Z"
   },
   {
    "duration": 6,
    "start_time": "2022-05-30T18:14:09.911Z"
   },
   {
    "duration": 5,
    "start_time": "2022-05-30T18:14:11.666Z"
   },
   {
    "duration": 29,
    "start_time": "2022-05-30T18:15:11.360Z"
   },
   {
    "duration": 23,
    "start_time": "2022-05-30T18:15:52.000Z"
   },
   {
    "duration": 6,
    "start_time": "2022-05-30T18:16:23.497Z"
   },
   {
    "duration": 12,
    "start_time": "2022-05-30T18:16:27.271Z"
   },
   {
    "duration": 102,
    "start_time": "2022-05-30T18:16:40.691Z"
   },
   {
    "duration": 17,
    "start_time": "2022-05-30T18:16:43.591Z"
   },
   {
    "duration": 8,
    "start_time": "2022-05-30T18:16:43.784Z"
   },
   {
    "duration": 50,
    "start_time": "2022-05-30T18:16:43.983Z"
   },
   {
    "duration": 13,
    "start_time": "2022-05-30T18:16:44.191Z"
   },
   {
    "duration": 18,
    "start_time": "2022-05-30T18:16:45.068Z"
   },
   {
    "duration": 26,
    "start_time": "2022-05-30T18:16:45.799Z"
   },
   {
    "duration": 7,
    "start_time": "2022-05-30T18:16:47.688Z"
   },
   {
    "duration": 5,
    "start_time": "2022-05-30T18:16:49.711Z"
   },
   {
    "duration": 7,
    "start_time": "2022-05-30T18:16:59.400Z"
   },
   {
    "duration": 6,
    "start_time": "2022-05-30T18:17:02.273Z"
   },
   {
    "duration": 7,
    "start_time": "2022-05-30T18:18:17.753Z"
   },
   {
    "duration": 7,
    "start_time": "2022-05-30T18:18:20.193Z"
   },
   {
    "duration": 12,
    "start_time": "2022-05-30T18:18:31.137Z"
   },
   {
    "duration": 11,
    "start_time": "2022-05-30T18:18:34.669Z"
   },
   {
    "duration": 21,
    "start_time": "2022-05-30T18:18:39.977Z"
   },
   {
    "duration": 14,
    "start_time": "2022-05-30T18:19:03.746Z"
   },
   {
    "duration": 12,
    "start_time": "2022-05-30T18:19:52.729Z"
   },
   {
    "duration": 16,
    "start_time": "2022-05-30T18:19:58.106Z"
   },
   {
    "duration": 30,
    "start_time": "2022-05-30T18:20:10.728Z"
   },
   {
    "duration": 11,
    "start_time": "2022-05-30T18:20:15.432Z"
   },
   {
    "duration": 12,
    "start_time": "2022-05-30T18:20:48.153Z"
   },
   {
    "duration": 7,
    "start_time": "2022-05-30T18:21:41.377Z"
   },
   {
    "duration": 4,
    "start_time": "2022-05-30T18:21:48.634Z"
   },
   {
    "duration": 18,
    "start_time": "2022-05-30T18:21:52.090Z"
   },
   {
    "duration": 15,
    "start_time": "2022-05-30T18:22:04.346Z"
   },
   {
    "duration": 4,
    "start_time": "2022-05-30T18:22:16.482Z"
   },
   {
    "duration": 95,
    "start_time": "2022-05-30T18:22:16.806Z"
   },
   {
    "duration": 15,
    "start_time": "2022-05-30T18:22:17.018Z"
   },
   {
    "duration": 8,
    "start_time": "2022-05-30T18:22:17.210Z"
   },
   {
    "duration": 43,
    "start_time": "2022-05-30T18:22:17.394Z"
   },
   {
    "duration": 16,
    "start_time": "2022-05-30T18:22:17.601Z"
   },
   {
    "duration": 19,
    "start_time": "2022-05-30T18:22:18.648Z"
   },
   {
    "duration": 26,
    "start_time": "2022-05-30T18:22:18.890Z"
   },
   {
    "duration": 9,
    "start_time": "2022-05-30T18:22:19.689Z"
   },
   {
    "duration": 21,
    "start_time": "2022-05-30T18:22:20.443Z"
   },
   {
    "duration": 9,
    "start_time": "2022-05-30T18:22:27.377Z"
   },
   {
    "duration": 6,
    "start_time": "2022-05-30T18:22:41.850Z"
   },
   {
    "duration": 4,
    "start_time": "2022-05-30T18:23:07.507Z"
   },
   {
    "duration": 101,
    "start_time": "2022-05-30T18:23:07.707Z"
   },
   {
    "duration": 22,
    "start_time": "2022-05-30T18:23:07.890Z"
   },
   {
    "duration": 10,
    "start_time": "2022-05-30T18:23:08.074Z"
   },
   {
    "duration": 40,
    "start_time": "2022-05-30T18:23:08.275Z"
   },
   {
    "duration": 12,
    "start_time": "2022-05-30T18:23:08.729Z"
   },
   {
    "duration": 18,
    "start_time": "2022-05-30T18:23:09.313Z"
   },
   {
    "duration": 29,
    "start_time": "2022-05-30T18:23:09.953Z"
   },
   {
    "duration": 10,
    "start_time": "2022-05-30T18:23:11.919Z"
   },
   {
    "duration": 20,
    "start_time": "2022-05-30T18:23:12.611Z"
   },
   {
    "duration": 11,
    "start_time": "2022-05-30T18:23:15.859Z"
   },
   {
    "duration": 6,
    "start_time": "2022-05-30T18:23:17.966Z"
   },
   {
    "duration": 11,
    "start_time": "2022-05-30T18:23:44.506Z"
   },
   {
    "duration": 10,
    "start_time": "2022-05-30T18:23:53.227Z"
   },
   {
    "duration": 22,
    "start_time": "2022-05-30T18:24:01.560Z"
   },
   {
    "duration": 10,
    "start_time": "2022-05-30T18:25:10.595Z"
   },
   {
    "duration": 8,
    "start_time": "2022-05-30T18:25:20.812Z"
   },
   {
    "duration": 50,
    "start_time": "2022-05-30T18:25:42.989Z"
   },
   {
    "duration": 7,
    "start_time": "2022-05-30T18:26:37.148Z"
   },
   {
    "duration": 7,
    "start_time": "2022-05-30T18:26:39.700Z"
   },
   {
    "duration": 14,
    "start_time": "2022-05-30T18:27:32.374Z"
   },
   {
    "duration": 11,
    "start_time": "2022-05-30T18:27:39.100Z"
   },
   {
    "duration": 14,
    "start_time": "2022-05-30T18:28:08.197Z"
   },
   {
    "duration": 5,
    "start_time": "2022-05-30T18:28:26.547Z"
   },
   {
    "duration": 113,
    "start_time": "2022-05-30T18:28:26.556Z"
   },
   {
    "duration": 16,
    "start_time": "2022-05-30T18:28:26.671Z"
   },
   {
    "duration": 8,
    "start_time": "2022-05-30T18:28:26.689Z"
   },
   {
    "duration": 44,
    "start_time": "2022-05-30T18:28:26.699Z"
   },
   {
    "duration": 19,
    "start_time": "2022-05-30T18:28:26.747Z"
   },
   {
    "duration": 17,
    "start_time": "2022-05-30T18:28:26.768Z"
   },
   {
    "duration": 31,
    "start_time": "2022-05-30T18:28:26.788Z"
   },
   {
    "duration": 35,
    "start_time": "2022-05-30T18:28:26.821Z"
   },
   {
    "duration": 8,
    "start_time": "2022-05-30T18:28:30.981Z"
   },
   {
    "duration": 8,
    "start_time": "2022-05-30T18:28:34.108Z"
   },
   {
    "duration": 5,
    "start_time": "2022-05-30T18:28:35.236Z"
   },
   {
    "duration": 3,
    "start_time": "2022-05-30T18:30:17.163Z"
   },
   {
    "duration": 127,
    "start_time": "2022-05-30T18:30:17.169Z"
   },
   {
    "duration": 18,
    "start_time": "2022-05-30T18:30:17.298Z"
   },
   {
    "duration": 14,
    "start_time": "2022-05-30T18:30:17.318Z"
   },
   {
    "duration": 58,
    "start_time": "2022-05-30T18:30:17.345Z"
   },
   {
    "duration": 12,
    "start_time": "2022-05-30T18:30:17.405Z"
   },
   {
    "duration": 22,
    "start_time": "2022-05-30T18:30:17.418Z"
   },
   {
    "duration": 55,
    "start_time": "2022-05-30T18:30:17.442Z"
   },
   {
    "duration": 8,
    "start_time": "2022-05-30T18:30:17.499Z"
   },
   {
    "duration": 16,
    "start_time": "2022-05-30T18:30:17.509Z"
   },
   {
    "duration": 8,
    "start_time": "2022-05-30T18:30:21.108Z"
   },
   {
    "duration": 6,
    "start_time": "2022-05-30T18:30:22.164Z"
   },
   {
    "duration": 7,
    "start_time": "2022-05-30T18:30:22.789Z"
   },
   {
    "duration": 29,
    "start_time": "2022-05-30T18:31:31.761Z"
   },
   {
    "duration": 4,
    "start_time": "2022-05-30T18:32:00.369Z"
   },
   {
    "duration": 125,
    "start_time": "2022-05-30T18:32:00.374Z"
   },
   {
    "duration": 15,
    "start_time": "2022-05-30T18:32:00.501Z"
   },
   {
    "duration": 16,
    "start_time": "2022-05-30T18:32:00.518Z"
   },
   {
    "duration": 74,
    "start_time": "2022-05-30T18:32:00.536Z"
   },
   {
    "duration": 12,
    "start_time": "2022-05-30T18:32:00.612Z"
   },
   {
    "duration": 39,
    "start_time": "2022-05-30T18:32:00.626Z"
   },
   {
    "duration": 41,
    "start_time": "2022-05-30T18:32:00.667Z"
   },
   {
    "duration": 24,
    "start_time": "2022-05-30T18:32:00.710Z"
   },
   {
    "duration": 39,
    "start_time": "2022-05-30T18:32:00.735Z"
   },
   {
    "duration": 13,
    "start_time": "2022-05-30T18:32:03.518Z"
   },
   {
    "duration": 6,
    "start_time": "2022-05-30T18:32:04.086Z"
   },
   {
    "duration": 7,
    "start_time": "2022-05-30T18:32:04.668Z"
   },
   {
    "duration": 10,
    "start_time": "2022-05-30T19:12:20.439Z"
   },
   {
    "duration": 34,
    "start_time": "2022-05-30T19:12:25.192Z"
   },
   {
    "duration": 8,
    "start_time": "2022-05-30T19:12:58.683Z"
   },
   {
    "duration": 29,
    "start_time": "2022-05-30T19:13:05.744Z"
   },
   {
    "duration": 5,
    "start_time": "2022-05-30T19:14:05.210Z"
   },
   {
    "duration": 6,
    "start_time": "2022-05-30T19:14:15.873Z"
   },
   {
    "duration": 7,
    "start_time": "2022-05-30T19:20:19.931Z"
   },
   {
    "duration": 371,
    "start_time": "2022-05-30T19:21:42.916Z"
   },
   {
    "duration": 18,
    "start_time": "2022-05-30T19:21:49.404Z"
   },
   {
    "duration": 12,
    "start_time": "2022-05-30T19:22:31.391Z"
   },
   {
    "duration": 10,
    "start_time": "2022-05-30T19:22:38.763Z"
   },
   {
    "duration": 11,
    "start_time": "2022-05-30T19:22:50.956Z"
   },
   {
    "duration": 12,
    "start_time": "2022-05-30T19:23:51.797Z"
   },
   {
    "duration": 14,
    "start_time": "2022-05-30T19:24:02.974Z"
   },
   {
    "duration": 13,
    "start_time": "2022-05-30T19:24:11.568Z"
   },
   {
    "duration": 43,
    "start_time": "2022-05-30T19:24:43.221Z"
   },
   {
    "duration": 39,
    "start_time": "2022-05-30T19:25:01.830Z"
   },
   {
    "duration": 149,
    "start_time": "2022-05-30T19:26:00.744Z"
   },
   {
    "duration": 18,
    "start_time": "2022-05-30T19:26:12.622Z"
   },
   {
    "duration": 31,
    "start_time": "2022-05-30T19:27:05.407Z"
   },
   {
    "duration": 16,
    "start_time": "2022-05-30T19:27:25.846Z"
   },
   {
    "duration": 13,
    "start_time": "2022-05-30T19:28:29.438Z"
   },
   {
    "duration": 15,
    "start_time": "2022-05-30T19:28:47.177Z"
   },
   {
    "duration": 6,
    "start_time": "2022-05-30T19:29:07.894Z"
   },
   {
    "duration": 12,
    "start_time": "2022-05-30T19:29:10.111Z"
   },
   {
    "duration": 10,
    "start_time": "2022-05-30T19:29:33.495Z"
   },
   {
    "duration": 11,
    "start_time": "2022-05-30T19:29:57.430Z"
   },
   {
    "duration": 27,
    "start_time": "2022-05-30T19:31:10.592Z"
   },
   {
    "duration": 19,
    "start_time": "2022-05-30T19:32:02.536Z"
   },
   {
    "duration": 29,
    "start_time": "2022-05-30T19:32:12.963Z"
   },
   {
    "duration": 13,
    "start_time": "2022-05-30T19:32:33.200Z"
   },
   {
    "duration": 10,
    "start_time": "2022-05-30T19:33:32.844Z"
   },
   {
    "duration": 12,
    "start_time": "2022-05-30T19:33:43.784Z"
   },
   {
    "duration": 13,
    "start_time": "2022-05-30T19:33:57.973Z"
   },
   {
    "duration": 14,
    "start_time": "2022-05-30T19:34:33.049Z"
   },
   {
    "duration": 15,
    "start_time": "2022-05-30T19:35:04.173Z"
   },
   {
    "duration": 15,
    "start_time": "2022-05-30T19:35:27.165Z"
   },
   {
    "duration": 11,
    "start_time": "2022-05-30T19:43:27.739Z"
   },
   {
    "duration": 11,
    "start_time": "2022-05-30T19:44:18.485Z"
   },
   {
    "duration": 19,
    "start_time": "2022-05-30T19:44:20.764Z"
   },
   {
    "duration": 20,
    "start_time": "2022-05-30T19:46:13.925Z"
   },
   {
    "duration": 7,
    "start_time": "2022-05-30T19:46:50.814Z"
   },
   {
    "duration": 19,
    "start_time": "2022-05-30T19:47:27.190Z"
   },
   {
    "duration": 19,
    "start_time": "2022-05-30T19:48:51.623Z"
   },
   {
    "duration": 18,
    "start_time": "2022-05-30T19:49:31.264Z"
   },
   {
    "duration": 4,
    "start_time": "2022-05-30T19:50:24.839Z"
   },
   {
    "duration": 16,
    "start_time": "2022-05-30T19:50:41.331Z"
   },
   {
    "duration": 14,
    "start_time": "2022-05-30T19:50:54.268Z"
   },
   {
    "duration": 29,
    "start_time": "2022-05-30T19:51:07.632Z"
   },
   {
    "duration": 19,
    "start_time": "2022-05-30T19:51:20.408Z"
   },
   {
    "duration": 21,
    "start_time": "2022-05-30T19:52:00.383Z"
   },
   {
    "duration": 29,
    "start_time": "2022-05-30T19:52:26.158Z"
   },
   {
    "duration": 23,
    "start_time": "2022-05-30T19:52:52.882Z"
   },
   {
    "duration": 26,
    "start_time": "2022-05-30T19:53:16.480Z"
   },
   {
    "duration": 24,
    "start_time": "2022-05-30T19:53:30.546Z"
   },
   {
    "duration": 19,
    "start_time": "2022-05-30T19:53:35.280Z"
   },
   {
    "duration": 14,
    "start_time": "2022-05-30T19:54:02.314Z"
   },
   {
    "duration": 9,
    "start_time": "2022-05-30T19:54:05.913Z"
   },
   {
    "duration": 14,
    "start_time": "2022-05-30T19:54:28.392Z"
   },
   {
    "duration": 6,
    "start_time": "2022-05-30T19:54:34.505Z"
   },
   {
    "duration": 9,
    "start_time": "2022-05-30T19:54:50.905Z"
   },
   {
    "duration": 18,
    "start_time": "2022-05-30T19:55:09.897Z"
   },
   {
    "duration": 7,
    "start_time": "2022-05-30T19:55:16.137Z"
   },
   {
    "duration": 5,
    "start_time": "2022-05-30T19:55:27.705Z"
   },
   {
    "duration": 19,
    "start_time": "2022-05-30T19:55:34.184Z"
   },
   {
    "duration": 6,
    "start_time": "2022-05-30T19:55:57.017Z"
   },
   {
    "duration": 26,
    "start_time": "2022-05-30T19:56:31.111Z"
   },
   {
    "duration": 18,
    "start_time": "2022-05-30T19:56:58.600Z"
   },
   {
    "duration": 16,
    "start_time": "2022-05-30T19:57:06.082Z"
   },
   {
    "duration": 16,
    "start_time": "2022-05-30T19:57:16.138Z"
   },
   {
    "duration": 16,
    "start_time": "2022-05-30T19:57:25.914Z"
   },
   {
    "duration": 16,
    "start_time": "2022-05-30T19:57:57.611Z"
   },
   {
    "duration": 15,
    "start_time": "2022-05-30T19:58:21.355Z"
   },
   {
    "duration": 31,
    "start_time": "2022-05-30T19:58:57.843Z"
   },
   {
    "duration": 16,
    "start_time": "2022-05-30T19:59:20.715Z"
   },
   {
    "duration": 13,
    "start_time": "2022-05-30T19:59:49.982Z"
   },
   {
    "duration": 16,
    "start_time": "2022-05-30T19:59:56.108Z"
   },
   {
    "duration": 16,
    "start_time": "2022-05-30T20:00:54.043Z"
   },
   {
    "duration": 11,
    "start_time": "2022-05-30T20:01:31.396Z"
   },
   {
    "duration": 11,
    "start_time": "2022-05-30T20:01:35.139Z"
   },
   {
    "duration": 17,
    "start_time": "2022-05-30T20:01:41.984Z"
   },
   {
    "duration": 16,
    "start_time": "2022-05-30T20:02:14.080Z"
   },
   {
    "duration": 24,
    "start_time": "2022-05-30T20:06:58.328Z"
   },
   {
    "duration": 16,
    "start_time": "2022-05-30T20:08:58.385Z"
   },
   {
    "duration": 53,
    "start_time": "2022-05-30T20:11:41.089Z"
   },
   {
    "duration": 37,
    "start_time": "2022-05-30T20:11:57.515Z"
   },
   {
    "duration": 23,
    "start_time": "2022-05-30T20:12:02.657Z"
   },
   {
    "duration": 12,
    "start_time": "2022-05-30T20:12:26.322Z"
   },
   {
    "duration": 11,
    "start_time": "2022-05-30T20:12:33.746Z"
   },
   {
    "duration": 10,
    "start_time": "2022-05-30T20:12:37.121Z"
   },
   {
    "duration": 27,
    "start_time": "2022-05-30T20:12:41.584Z"
   },
   {
    "duration": 186,
    "start_time": "2022-05-30T20:12:59.473Z"
   },
   {
    "duration": 17,
    "start_time": "2022-05-30T20:13:02.954Z"
   },
   {
    "duration": 17,
    "start_time": "2022-05-30T20:13:17.810Z"
   },
   {
    "duration": 33,
    "start_time": "2022-05-30T20:13:31.616Z"
   },
   {
    "duration": 22,
    "start_time": "2022-05-30T20:13:51.812Z"
   },
   {
    "duration": 17,
    "start_time": "2022-05-30T20:13:58.002Z"
   },
   {
    "duration": 23,
    "start_time": "2022-05-30T20:17:44.394Z"
   },
   {
    "duration": 30,
    "start_time": "2022-05-30T20:18:08.140Z"
   },
   {
    "duration": 20,
    "start_time": "2022-05-30T20:18:12.716Z"
   },
   {
    "duration": 28,
    "start_time": "2022-05-30T20:18:22.395Z"
   },
   {
    "duration": 19,
    "start_time": "2022-05-30T20:18:53.885Z"
   },
   {
    "duration": 22,
    "start_time": "2022-05-30T20:19:15.035Z"
   },
   {
    "duration": 13,
    "start_time": "2022-05-30T20:19:47.973Z"
   },
   {
    "duration": 18,
    "start_time": "2022-05-30T20:20:02.692Z"
   },
   {
    "duration": 18,
    "start_time": "2022-05-30T20:20:25.021Z"
   },
   {
    "duration": 14,
    "start_time": "2022-05-30T20:20:33.091Z"
   },
   {
    "duration": 40,
    "start_time": "2022-05-30T20:24:13.222Z"
   },
   {
    "duration": 37,
    "start_time": "2022-05-30T20:24:54.094Z"
   },
   {
    "duration": 12,
    "start_time": "2022-05-30T20:24:58.622Z"
   },
   {
    "duration": 8,
    "start_time": "2022-05-30T20:25:09.190Z"
   },
   {
    "duration": 30,
    "start_time": "2022-05-30T20:25:37.421Z"
   },
   {
    "duration": 3,
    "start_time": "2022-05-30T20:28:49.832Z"
   },
   {
    "duration": 13,
    "start_time": "2022-05-30T20:28:52.122Z"
   },
   {
    "duration": 11,
    "start_time": "2022-05-30T20:28:56.430Z"
   },
   {
    "duration": 29,
    "start_time": "2022-05-30T20:29:04.591Z"
   },
   {
    "duration": 9,
    "start_time": "2022-05-30T20:33:33.234Z"
   },
   {
    "duration": 6,
    "start_time": "2022-05-30T20:33:46.250Z"
   },
   {
    "duration": 7,
    "start_time": "2022-05-30T20:33:48.105Z"
   },
   {
    "duration": 7,
    "start_time": "2022-05-30T20:33:50.241Z"
   },
   {
    "duration": 11,
    "start_time": "2022-05-30T20:34:10.642Z"
   },
   {
    "duration": 5,
    "start_time": "2022-05-30T20:34:24.017Z"
   },
   {
    "duration": 5,
    "start_time": "2022-05-30T20:34:31.914Z"
   },
   {
    "duration": 6,
    "start_time": "2022-05-30T20:34:34.913Z"
   },
   {
    "duration": 6,
    "start_time": "2022-05-30T20:35:01.568Z"
   },
   {
    "duration": 6,
    "start_time": "2022-05-30T20:35:14.482Z"
   },
   {
    "duration": 4,
    "start_time": "2022-05-30T20:35:23.774Z"
   },
   {
    "duration": 5,
    "start_time": "2022-05-30T20:35:29.090Z"
   },
   {
    "duration": 5,
    "start_time": "2022-05-30T20:35:31.898Z"
   },
   {
    "duration": 3,
    "start_time": "2022-05-30T20:37:59.460Z"
   },
   {
    "duration": 5,
    "start_time": "2022-05-30T20:38:05.083Z"
   },
   {
    "duration": 11,
    "start_time": "2022-05-30T20:38:14.979Z"
   },
   {
    "duration": 5,
    "start_time": "2022-05-30T20:38:17.036Z"
   },
   {
    "duration": 5,
    "start_time": "2022-05-30T20:38:25.795Z"
   },
   {
    "duration": 3,
    "start_time": "2022-05-30T20:39:06.698Z"
   },
   {
    "duration": 103,
    "start_time": "2022-05-30T20:39:06.703Z"
   },
   {
    "duration": 16,
    "start_time": "2022-05-30T20:39:06.808Z"
   },
   {
    "duration": 10,
    "start_time": "2022-05-30T20:39:06.845Z"
   },
   {
    "duration": 45,
    "start_time": "2022-05-30T20:39:06.857Z"
   },
   {
    "duration": 15,
    "start_time": "2022-05-30T20:39:06.904Z"
   },
   {
    "duration": 19,
    "start_time": "2022-05-30T20:39:06.920Z"
   },
   {
    "duration": 35,
    "start_time": "2022-05-30T20:39:06.941Z"
   },
   {
    "duration": 20,
    "start_time": "2022-05-30T20:39:06.978Z"
   },
   {
    "duration": 32,
    "start_time": "2022-05-30T20:39:07.001Z"
   },
   {
    "duration": 39,
    "start_time": "2022-05-30T20:39:07.034Z"
   },
   {
    "duration": 34,
    "start_time": "2022-05-30T20:39:07.075Z"
   },
   {
    "duration": 23,
    "start_time": "2022-05-30T20:39:07.112Z"
   },
   {
    "duration": 4,
    "start_time": "2022-05-30T20:39:07.144Z"
   },
   {
    "duration": 10,
    "start_time": "2022-05-30T20:39:07.150Z"
   },
   {
    "duration": 16,
    "start_time": "2022-05-30T20:39:07.161Z"
   },
   {
    "duration": 12,
    "start_time": "2022-05-30T20:39:07.179Z"
   },
   {
    "duration": 8,
    "start_time": "2022-05-30T20:39:07.193Z"
   },
   {
    "duration": 14,
    "start_time": "2022-05-30T20:39:07.203Z"
   },
   {
    "duration": 38,
    "start_time": "2022-05-30T20:39:07.219Z"
   },
   {
    "duration": 56,
    "start_time": "2022-05-30T20:39:07.259Z"
   },
   {
    "duration": 0,
    "start_time": "2022-05-30T20:39:07.318Z"
   },
   {
    "duration": 0,
    "start_time": "2022-05-30T20:39:07.319Z"
   },
   {
    "duration": 0,
    "start_time": "2022-05-30T20:39:07.320Z"
   },
   {
    "duration": 0,
    "start_time": "2022-05-30T20:39:07.322Z"
   },
   {
    "duration": 9,
    "start_time": "2022-05-30T20:39:22.003Z"
   },
   {
    "duration": 20,
    "start_time": "2022-05-30T20:39:22.764Z"
   },
   {
    "duration": 5,
    "start_time": "2022-05-30T20:39:28.868Z"
   },
   {
    "duration": 5,
    "start_time": "2022-05-30T20:39:29.651Z"
   },
   {
    "duration": 4,
    "start_time": "2022-05-30T20:39:30.172Z"
   },
   {
    "duration": 9,
    "start_time": "2022-05-30T20:40:27.677Z"
   },
   {
    "duration": 5,
    "start_time": "2022-05-30T20:40:31.333Z"
   },
   {
    "duration": 5,
    "start_time": "2022-05-30T20:42:40.709Z"
   },
   {
    "duration": 25,
    "start_time": "2022-05-30T20:42:49.686Z"
   },
   {
    "duration": 9,
    "start_time": "2022-05-30T20:47:31.864Z"
   },
   {
    "duration": 6,
    "start_time": "2022-05-30T20:47:38.364Z"
   },
   {
    "duration": 5,
    "start_time": "2022-05-30T20:47:44.495Z"
   },
   {
    "duration": 12,
    "start_time": "2022-05-30T20:47:50.367Z"
   },
   {
    "duration": 4,
    "start_time": "2022-05-30T20:47:55.728Z"
   },
   {
    "duration": 7,
    "start_time": "2022-05-30T20:48:08.175Z"
   },
   {
    "duration": 7,
    "start_time": "2022-05-30T20:48:19.568Z"
   },
   {
    "duration": 7,
    "start_time": "2022-05-30T20:48:26.840Z"
   },
   {
    "duration": 5,
    "start_time": "2022-05-30T20:48:40.607Z"
   },
   {
    "duration": 7,
    "start_time": "2022-05-30T20:48:49.356Z"
   },
   {
    "duration": 5,
    "start_time": "2022-05-30T20:48:52.662Z"
   },
   {
    "duration": 5,
    "start_time": "2022-05-30T20:48:57.416Z"
   },
   {
    "duration": 5,
    "start_time": "2022-05-30T20:49:08.400Z"
   },
   {
    "duration": 5,
    "start_time": "2022-05-30T20:49:15.320Z"
   },
   {
    "duration": 6,
    "start_time": "2022-05-30T20:49:18.297Z"
   },
   {
    "duration": 5,
    "start_time": "2022-05-30T20:50:53.073Z"
   },
   {
    "duration": 7,
    "start_time": "2022-05-30T20:50:57.921Z"
   },
   {
    "duration": 5,
    "start_time": "2022-05-30T20:51:11.077Z"
   },
   {
    "duration": 4,
    "start_time": "2022-05-30T20:51:17.593Z"
   },
   {
    "duration": 5,
    "start_time": "2022-05-30T20:51:23.632Z"
   },
   {
    "duration": 5,
    "start_time": "2022-05-30T20:51:27.034Z"
   },
   {
    "duration": 9,
    "start_time": "2022-05-30T20:54:05.683Z"
   },
   {
    "duration": 39,
    "start_time": "2022-05-30T20:54:08.930Z"
   },
   {
    "duration": 11,
    "start_time": "2022-05-30T20:54:51.378Z"
   },
   {
    "duration": 11,
    "start_time": "2022-05-30T20:59:51.836Z"
   },
   {
    "duration": 5,
    "start_time": "2022-05-30T20:59:57.772Z"
   },
   {
    "duration": 445,
    "start_time": "2022-05-30T21:00:08.788Z"
   },
   {
    "duration": 5,
    "start_time": "2022-05-30T21:00:21.701Z"
   },
   {
    "duration": 9,
    "start_time": "2022-05-30T21:00:31.685Z"
   },
   {
    "duration": 4,
    "start_time": "2022-05-30T21:00:34.700Z"
   },
   {
    "duration": 3,
    "start_time": "2022-05-30T21:02:01.221Z"
   },
   {
    "duration": 87,
    "start_time": "2022-05-30T21:03:26.661Z"
   },
   {
    "duration": 4,
    "start_time": "2022-05-30T21:03:54.006Z"
   },
   {
    "duration": 105,
    "start_time": "2022-05-30T21:03:56.262Z"
   },
   {
    "duration": 3,
    "start_time": "2022-05-30T21:05:25.033Z"
   },
   {
    "duration": 266,
    "start_time": "2022-05-30T21:05:25.870Z"
   },
   {
    "duration": 7,
    "start_time": "2022-05-30T21:05:33.542Z"
   },
   {
    "duration": 100,
    "start_time": "2022-05-30T21:05:34.887Z"
   },
   {
    "duration": 3,
    "start_time": "2022-05-30T21:06:42.662Z"
   },
   {
    "duration": 101,
    "start_time": "2022-05-30T21:06:45.957Z"
   },
   {
    "duration": 3,
    "start_time": "2022-05-30T21:06:57.423Z"
   },
   {
    "duration": 122,
    "start_time": "2022-05-30T21:06:58.561Z"
   },
   {
    "duration": 4,
    "start_time": "2022-05-30T21:07:22.511Z"
   },
   {
    "duration": 130,
    "start_time": "2022-05-30T21:07:24.366Z"
   },
   {
    "duration": 6,
    "start_time": "2022-05-30T21:07:32.503Z"
   },
   {
    "duration": 6,
    "start_time": "2022-05-30T21:07:40.823Z"
   },
   {
    "duration": 101,
    "start_time": "2022-05-30T21:07:56.000Z"
   },
   {
    "duration": 4,
    "start_time": "2022-05-30T21:08:08.814Z"
   },
   {
    "duration": 3,
    "start_time": "2022-05-30T21:08:16.531Z"
   },
   {
    "duration": 133,
    "start_time": "2022-05-30T21:08:16.537Z"
   },
   {
    "duration": 14,
    "start_time": "2022-05-30T21:08:16.672Z"
   },
   {
    "duration": 10,
    "start_time": "2022-05-30T21:08:16.688Z"
   },
   {
    "duration": 47,
    "start_time": "2022-05-30T21:08:16.700Z"
   },
   {
    "duration": 14,
    "start_time": "2022-05-30T21:08:16.753Z"
   },
   {
    "duration": 21,
    "start_time": "2022-05-30T21:08:16.769Z"
   },
   {
    "duration": 29,
    "start_time": "2022-05-30T21:08:16.792Z"
   },
   {
    "duration": 40,
    "start_time": "2022-05-30T21:08:16.823Z"
   },
   {
    "duration": 16,
    "start_time": "2022-05-30T21:08:16.866Z"
   },
   {
    "duration": 19,
    "start_time": "2022-05-30T21:08:16.884Z"
   },
   {
    "duration": 18,
    "start_time": "2022-05-30T21:08:16.905Z"
   },
   {
    "duration": 56,
    "start_time": "2022-05-30T21:08:16.925Z"
   },
   {
    "duration": 11,
    "start_time": "2022-05-30T21:08:16.985Z"
   },
   {
    "duration": 24,
    "start_time": "2022-05-30T21:08:16.998Z"
   },
   {
    "duration": 33,
    "start_time": "2022-05-30T21:08:17.023Z"
   },
   {
    "duration": 29,
    "start_time": "2022-05-30T21:08:17.062Z"
   },
   {
    "duration": 31,
    "start_time": "2022-05-30T21:08:17.093Z"
   },
   {
    "duration": 11,
    "start_time": "2022-05-30T21:08:17.126Z"
   },
   {
    "duration": 31,
    "start_time": "2022-05-30T21:08:17.139Z"
   },
   {
    "duration": 12,
    "start_time": "2022-05-30T21:08:17.172Z"
   },
   {
    "duration": 50,
    "start_time": "2022-05-30T21:08:17.186Z"
   },
   {
    "duration": 4,
    "start_time": "2022-05-30T21:08:17.238Z"
   },
   {
    "duration": 26,
    "start_time": "2022-05-30T21:08:17.245Z"
   },
   {
    "duration": 22,
    "start_time": "2022-05-30T21:08:17.272Z"
   },
   {
    "duration": 17,
    "start_time": "2022-05-30T21:08:17.296Z"
   },
   {
    "duration": 8,
    "start_time": "2022-05-30T21:08:17.315Z"
   },
   {
    "duration": 26,
    "start_time": "2022-05-30T21:08:17.326Z"
   },
   {
    "duration": 3,
    "start_time": "2022-05-30T21:08:50.175Z"
   },
   {
    "duration": 14,
    "start_time": "2022-05-30T21:08:52.475Z"
   },
   {
    "duration": 114,
    "start_time": "2022-05-30T21:09:04.911Z"
   },
   {
    "duration": 9,
    "start_time": "2022-05-30T21:09:36.536Z"
   },
   {
    "duration": 15,
    "start_time": "2022-05-30T21:09:45.991Z"
   },
   {
    "duration": 6,
    "start_time": "2022-05-30T21:10:16.122Z"
   },
   {
    "duration": 4,
    "start_time": "2022-05-30T21:10:24.393Z"
   },
   {
    "duration": 3,
    "start_time": "2022-05-30T21:10:52.400Z"
   },
   {
    "duration": 4,
    "start_time": "2022-05-30T21:10:54.104Z"
   },
   {
    "duration": 161,
    "start_time": "2022-05-30T21:10:56.519Z"
   },
   {
    "duration": 8,
    "start_time": "2022-05-30T21:11:45.513Z"
   },
   {
    "duration": 6,
    "start_time": "2022-05-30T21:11:52.416Z"
   },
   {
    "duration": 4,
    "start_time": "2022-05-30T21:12:00.089Z"
   },
   {
    "duration": 3,
    "start_time": "2022-05-30T21:12:02.465Z"
   },
   {
    "duration": 3,
    "start_time": "2022-05-30T21:12:02.873Z"
   },
   {
    "duration": 6,
    "start_time": "2022-05-30T21:12:04.169Z"
   },
   {
    "duration": 4,
    "start_time": "2022-05-30T21:14:30.659Z"
   },
   {
    "duration": 5,
    "start_time": "2022-05-30T21:14:41.794Z"
   },
   {
    "duration": 40,
    "start_time": "2022-05-30T21:14:48.857Z"
   },
   {
    "duration": 14,
    "start_time": "2022-05-30T21:14:53.242Z"
   },
   {
    "duration": 4,
    "start_time": "2022-05-30T21:15:08.234Z"
   },
   {
    "duration": 3,
    "start_time": "2022-05-30T21:16:26.230Z"
   },
   {
    "duration": 105,
    "start_time": "2022-05-30T21:16:26.235Z"
   },
   {
    "duration": 20,
    "start_time": "2022-05-30T21:16:26.342Z"
   },
   {
    "duration": 28,
    "start_time": "2022-05-30T21:16:26.364Z"
   },
   {
    "duration": 72,
    "start_time": "2022-05-30T21:16:26.394Z"
   },
   {
    "duration": 18,
    "start_time": "2022-05-30T21:16:26.468Z"
   },
   {
    "duration": 44,
    "start_time": "2022-05-30T21:16:26.488Z"
   },
   {
    "duration": 49,
    "start_time": "2022-05-30T21:16:26.534Z"
   },
   {
    "duration": 44,
    "start_time": "2022-05-30T21:16:26.585Z"
   },
   {
    "duration": 41,
    "start_time": "2022-05-30T21:16:26.632Z"
   },
   {
    "duration": 17,
    "start_time": "2022-05-30T21:16:26.674Z"
   },
   {
    "duration": 48,
    "start_time": "2022-05-30T21:16:26.692Z"
   },
   {
    "duration": 55,
    "start_time": "2022-05-30T21:16:26.741Z"
   },
   {
    "duration": 41,
    "start_time": "2022-05-30T21:16:26.798Z"
   },
   {
    "duration": 41,
    "start_time": "2022-05-30T21:16:26.841Z"
   },
   {
    "duration": 35,
    "start_time": "2022-05-30T21:16:26.883Z"
   },
   {
    "duration": 19,
    "start_time": "2022-05-30T21:16:26.920Z"
   },
   {
    "duration": 41,
    "start_time": "2022-05-30T21:16:26.941Z"
   },
   {
    "duration": 31,
    "start_time": "2022-05-30T21:16:26.983Z"
   },
   {
    "duration": 29,
    "start_time": "2022-05-30T21:16:27.016Z"
   },
   {
    "duration": 34,
    "start_time": "2022-05-30T21:16:27.047Z"
   },
   {
    "duration": 50,
    "start_time": "2022-05-30T21:16:27.082Z"
   },
   {
    "duration": 15,
    "start_time": "2022-05-30T21:16:27.134Z"
   },
   {
    "duration": 46,
    "start_time": "2022-05-30T21:16:27.151Z"
   },
   {
    "duration": 23,
    "start_time": "2022-05-30T21:16:27.199Z"
   },
   {
    "duration": 46,
    "start_time": "2022-05-30T21:16:27.224Z"
   },
   {
    "duration": 42,
    "start_time": "2022-05-30T21:16:27.271Z"
   },
   {
    "duration": 5,
    "start_time": "2022-05-30T21:16:32.243Z"
   },
   {
    "duration": 4,
    "start_time": "2022-05-30T21:16:36.115Z"
   },
   {
    "duration": 4,
    "start_time": "2022-05-30T21:16:38.434Z"
   },
   {
    "duration": 102,
    "start_time": "2022-05-30T21:16:39.530Z"
   },
   {
    "duration": 27,
    "start_time": "2022-05-30T21:18:48.812Z"
   },
   {
    "duration": 17,
    "start_time": "2022-05-30T21:19:03.813Z"
   },
   {
    "duration": 14,
    "start_time": "2022-05-30T21:19:36.989Z"
   },
   {
    "duration": 13,
    "start_time": "2022-05-30T21:19:50.894Z"
   },
   {
    "duration": 18,
    "start_time": "2022-05-30T21:19:56.967Z"
   },
   {
    "duration": 16,
    "start_time": "2022-05-30T21:21:21.837Z"
   },
   {
    "duration": 17,
    "start_time": "2022-05-30T21:21:22.325Z"
   },
   {
    "duration": 9,
    "start_time": "2022-05-30T21:21:42.805Z"
   },
   {
    "duration": 9,
    "start_time": "2022-05-30T21:21:48.859Z"
   },
   {
    "duration": 26,
    "start_time": "2022-05-30T21:21:59.340Z"
   },
   {
    "duration": 10,
    "start_time": "2022-05-30T21:26:10.874Z"
   },
   {
    "duration": 9,
    "start_time": "2022-05-30T21:26:22.784Z"
   },
   {
    "duration": 7,
    "start_time": "2022-05-30T21:26:28.478Z"
   },
   {
    "duration": 22,
    "start_time": "2022-05-30T21:26:35.363Z"
   },
   {
    "duration": 6,
    "start_time": "2022-05-30T21:27:19.799Z"
   },
   {
    "duration": 39,
    "start_time": "2022-05-30T21:27:31.360Z"
   },
   {
    "duration": 7,
    "start_time": "2022-05-30T21:27:37.375Z"
   },
   {
    "duration": 21,
    "start_time": "2022-05-30T21:27:49.120Z"
   },
   {
    "duration": 8,
    "start_time": "2022-05-30T21:28:24.432Z"
   },
   {
    "duration": 32,
    "start_time": "2022-05-30T21:28:33.112Z"
   },
   {
    "duration": 20,
    "start_time": "2022-05-30T21:28:41.391Z"
   },
   {
    "duration": 9,
    "start_time": "2022-05-30T21:29:04.473Z"
   },
   {
    "duration": 4,
    "start_time": "2022-05-30T21:29:43.223Z"
   },
   {
    "duration": 10,
    "start_time": "2022-05-30T21:29:46.258Z"
   },
   {
    "duration": 8,
    "start_time": "2022-05-30T21:30:18.777Z"
   },
   {
    "duration": 10,
    "start_time": "2022-05-30T21:30:41.328Z"
   },
   {
    "duration": 9,
    "start_time": "2022-05-30T21:30:53.680Z"
   },
   {
    "duration": 4,
    "start_time": "2022-05-30T21:30:56.032Z"
   },
   {
    "duration": 18,
    "start_time": "2022-05-30T21:33:55.331Z"
   },
   {
    "duration": 14,
    "start_time": "2022-05-30T21:35:22.362Z"
   },
   {
    "duration": 1190,
    "start_time": "2022-05-30T21:37:38.172Z"
   },
   {
    "duration": 2826,
    "start_time": "2022-05-30T21:37:52.908Z"
   },
   {
    "duration": 15,
    "start_time": "2022-05-30T21:38:26.579Z"
   },
   {
    "duration": 16,
    "start_time": "2022-05-30T21:38:32.245Z"
   },
   {
    "duration": 18,
    "start_time": "2022-05-30T21:38:55.932Z"
   },
   {
    "duration": 8,
    "start_time": "2022-05-30T21:39:13.910Z"
   },
   {
    "duration": 14,
    "start_time": "2022-05-30T21:39:22.700Z"
   },
   {
    "duration": 13,
    "start_time": "2022-05-30T21:42:10.957Z"
   },
   {
    "duration": 15,
    "start_time": "2022-05-30T21:44:35.992Z"
   },
   {
    "duration": 28,
    "start_time": "2022-05-30T21:46:41.696Z"
   },
   {
    "duration": 29,
    "start_time": "2022-05-30T21:48:47.367Z"
   },
   {
    "duration": 15,
    "start_time": "2022-05-30T21:50:13.769Z"
   },
   {
    "duration": 15,
    "start_time": "2022-05-30T21:50:39.471Z"
   },
   {
    "duration": 15,
    "start_time": "2022-05-30T21:50:43.737Z"
   },
   {
    "duration": 17,
    "start_time": "2022-05-30T21:50:47.183Z"
   },
   {
    "duration": 1881,
    "start_time": "2022-05-30T21:51:43.521Z"
   },
   {
    "duration": 4416,
    "start_time": "2022-05-30T21:52:25.562Z"
   },
   {
    "duration": 13,
    "start_time": "2022-05-30T21:53:09.674Z"
   },
   {
    "duration": 12,
    "start_time": "2022-05-30T21:53:10.498Z"
   },
   {
    "duration": 13,
    "start_time": "2022-05-30T21:54:00.124Z"
   },
   {
    "duration": 13,
    "start_time": "2022-05-30T21:54:08.755Z"
   },
   {
    "duration": 13,
    "start_time": "2022-05-30T21:57:58.084Z"
   },
   {
    "duration": 12,
    "start_time": "2022-05-30T21:58:06.876Z"
   },
   {
    "duration": 16,
    "start_time": "2022-05-30T21:58:17.980Z"
   },
   {
    "duration": 15,
    "start_time": "2022-05-30T21:59:36.460Z"
   },
   {
    "duration": 14,
    "start_time": "2022-05-30T21:59:43.467Z"
   },
   {
    "duration": 21,
    "start_time": "2022-05-30T22:00:08.292Z"
   },
   {
    "duration": 16,
    "start_time": "2022-05-30T22:01:46.198Z"
   },
   {
    "duration": 14,
    "start_time": "2022-05-30T22:01:50.526Z"
   },
   {
    "duration": 43,
    "start_time": "2022-05-30T22:02:32.526Z"
   },
   {
    "duration": 31,
    "start_time": "2022-05-30T22:02:37.134Z"
   },
   {
    "duration": 21,
    "start_time": "2022-05-30T22:02:51.926Z"
   },
   {
    "duration": 22,
    "start_time": "2022-05-30T22:04:10.535Z"
   },
   {
    "duration": 1227,
    "start_time": "2022-06-01T18:19:20.130Z"
   },
   {
    "duration": 202,
    "start_time": "2022-06-01T18:19:21.360Z"
   },
   {
    "duration": 17,
    "start_time": "2022-06-01T18:19:21.563Z"
   },
   {
    "duration": 17,
    "start_time": "2022-06-01T18:19:21.583Z"
   },
   {
    "duration": 131,
    "start_time": "2022-06-01T18:19:21.602Z"
   },
   {
    "duration": 15,
    "start_time": "2022-06-01T18:19:21.735Z"
   },
   {
    "duration": 17,
    "start_time": "2022-06-01T18:19:21.751Z"
   },
   {
    "duration": 26,
    "start_time": "2022-06-01T18:19:21.770Z"
   },
   {
    "duration": 41,
    "start_time": "2022-06-01T18:19:21.797Z"
   },
   {
    "duration": 16,
    "start_time": "2022-06-01T18:19:21.841Z"
   },
   {
    "duration": 23,
    "start_time": "2022-06-01T18:19:21.859Z"
   },
   {
    "duration": 16,
    "start_time": "2022-06-01T18:19:21.884Z"
   },
   {
    "duration": 20,
    "start_time": "2022-06-01T18:19:21.926Z"
   },
   {
    "duration": 7,
    "start_time": "2022-06-01T18:19:21.948Z"
   },
   {
    "duration": 9,
    "start_time": "2022-06-01T18:19:21.957Z"
   },
   {
    "duration": 16,
    "start_time": "2022-06-01T18:19:21.967Z"
   },
   {
    "duration": 7,
    "start_time": "2022-06-01T18:19:21.985Z"
   },
   {
    "duration": 35,
    "start_time": "2022-06-01T18:19:21.994Z"
   },
   {
    "duration": 26,
    "start_time": "2022-06-01T18:19:22.031Z"
   },
   {
    "duration": 27,
    "start_time": "2022-06-01T18:19:22.059Z"
   },
   {
    "duration": 11,
    "start_time": "2022-06-01T18:19:22.089Z"
   },
   {
    "duration": 36,
    "start_time": "2022-06-01T18:19:22.102Z"
   },
   {
    "duration": 6,
    "start_time": "2022-06-01T18:19:22.139Z"
   },
   {
    "duration": 7,
    "start_time": "2022-06-01T18:19:22.147Z"
   },
   {
    "duration": 7,
    "start_time": "2022-06-01T18:19:22.156Z"
   },
   {
    "duration": 8,
    "start_time": "2022-06-01T18:19:22.165Z"
   },
   {
    "duration": 9,
    "start_time": "2022-06-01T18:19:22.175Z"
   },
   {
    "duration": 5,
    "start_time": "2022-06-01T18:19:22.187Z"
   },
   {
    "duration": 37,
    "start_time": "2022-06-01T18:19:22.194Z"
   },
   {
    "duration": 15,
    "start_time": "2022-06-01T18:19:22.233Z"
   },
   {
    "duration": 6,
    "start_time": "2022-06-01T18:19:22.250Z"
   },
   {
    "duration": 102,
    "start_time": "2022-06-01T18:19:22.257Z"
   },
   {
    "duration": 0,
    "start_time": "2022-06-01T18:19:22.361Z"
   },
   {
    "duration": 0,
    "start_time": "2022-06-01T18:19:22.363Z"
   },
   {
    "duration": 0,
    "start_time": "2022-06-01T18:19:22.364Z"
   },
   {
    "duration": 0,
    "start_time": "2022-06-01T18:19:22.366Z"
   },
   {
    "duration": 0,
    "start_time": "2022-06-01T18:19:22.366Z"
   },
   {
    "duration": 0,
    "start_time": "2022-06-01T18:19:22.368Z"
   },
   {
    "duration": 0,
    "start_time": "2022-06-01T18:19:22.369Z"
   },
   {
    "duration": 0,
    "start_time": "2022-06-01T18:19:22.372Z"
   },
   {
    "duration": 6,
    "start_time": "2022-06-01T18:21:08.250Z"
   },
   {
    "duration": 21,
    "start_time": "2022-06-01T18:21:08.882Z"
   },
   {
    "duration": 18,
    "start_time": "2022-06-01T18:21:40.601Z"
   },
   {
    "duration": 13,
    "start_time": "2022-06-01T18:21:41.122Z"
   },
   {
    "duration": 14,
    "start_time": "2022-06-01T18:21:42.269Z"
   },
   {
    "duration": 21,
    "start_time": "2022-06-01T18:21:43.138Z"
   },
   {
    "duration": 25,
    "start_time": "2022-06-01T18:21:43.553Z"
   },
   {
    "duration": 9,
    "start_time": "2022-06-01T18:21:44.442Z"
   },
   {
    "duration": 8,
    "start_time": "2022-06-01T18:21:57.963Z"
   },
   {
    "duration": 39,
    "start_time": "2022-06-01T18:22:10.979Z"
   },
   {
    "duration": 10,
    "start_time": "2022-06-01T18:22:23.674Z"
   },
   {
    "duration": 17,
    "start_time": "2022-06-01T18:22:30.107Z"
   },
   {
    "duration": 8,
    "start_time": "2022-06-01T18:22:33.946Z"
   },
   {
    "duration": 4,
    "start_time": "2022-06-01T18:23:14.443Z"
   },
   {
    "duration": 99,
    "start_time": "2022-06-01T18:23:14.448Z"
   },
   {
    "duration": 13,
    "start_time": "2022-06-01T18:23:14.549Z"
   },
   {
    "duration": 8,
    "start_time": "2022-06-01T18:23:14.564Z"
   },
   {
    "duration": 56,
    "start_time": "2022-06-01T18:23:14.574Z"
   },
   {
    "duration": 12,
    "start_time": "2022-06-01T18:23:14.632Z"
   },
   {
    "duration": 19,
    "start_time": "2022-06-01T18:23:14.646Z"
   },
   {
    "duration": 23,
    "start_time": "2022-06-01T18:23:14.666Z"
   },
   {
    "duration": 36,
    "start_time": "2022-06-01T18:23:14.691Z"
   },
   {
    "duration": 16,
    "start_time": "2022-06-01T18:23:14.728Z"
   },
   {
    "duration": 19,
    "start_time": "2022-06-01T18:23:14.746Z"
   },
   {
    "duration": 17,
    "start_time": "2022-06-01T18:23:14.767Z"
   },
   {
    "duration": 40,
    "start_time": "2022-06-01T18:23:14.786Z"
   },
   {
    "duration": 4,
    "start_time": "2022-06-01T18:23:14.827Z"
   },
   {
    "duration": 12,
    "start_time": "2022-06-01T18:23:14.833Z"
   },
   {
    "duration": 12,
    "start_time": "2022-06-01T18:23:14.847Z"
   },
   {
    "duration": 7,
    "start_time": "2022-06-01T18:23:14.861Z"
   },
   {
    "duration": 8,
    "start_time": "2022-06-01T18:23:14.870Z"
   },
   {
    "duration": 8,
    "start_time": "2022-06-01T18:23:14.880Z"
   },
   {
    "duration": 40,
    "start_time": "2022-06-01T18:23:14.890Z"
   },
   {
    "duration": 8,
    "start_time": "2022-06-01T18:23:14.932Z"
   },
   {
    "duration": 25,
    "start_time": "2022-06-01T18:23:14.942Z"
   },
   {
    "duration": 5,
    "start_time": "2022-06-01T18:23:14.969Z"
   },
   {
    "duration": 8,
    "start_time": "2022-06-01T18:23:14.976Z"
   },
   {
    "duration": 11,
    "start_time": "2022-06-01T18:23:14.986Z"
   },
   {
    "duration": 35,
    "start_time": "2022-06-01T18:23:14.999Z"
   },
   {
    "duration": 8,
    "start_time": "2022-06-01T18:23:15.036Z"
   },
   {
    "duration": 15,
    "start_time": "2022-06-01T18:23:15.046Z"
   },
   {
    "duration": 23,
    "start_time": "2022-06-01T18:23:15.064Z"
   },
   {
    "duration": 13,
    "start_time": "2022-06-01T18:23:15.089Z"
   },
   {
    "duration": 16,
    "start_time": "2022-06-01T18:23:15.103Z"
   },
   {
    "duration": 19,
    "start_time": "2022-06-01T18:23:15.121Z"
   },
   {
    "duration": 23,
    "start_time": "2022-06-01T18:23:15.141Z"
   },
   {
    "duration": 18,
    "start_time": "2022-06-01T18:23:15.165Z"
   },
   {
    "duration": 11,
    "start_time": "2022-06-01T18:23:15.184Z"
   },
   {
    "duration": 13,
    "start_time": "2022-06-01T18:23:15.196Z"
   },
   {
    "duration": 22,
    "start_time": "2022-06-01T18:23:15.210Z"
   },
   {
    "duration": 25,
    "start_time": "2022-06-01T18:23:15.233Z"
   },
   {
    "duration": 5,
    "start_time": "2022-06-01T18:23:15.259Z"
   },
   {
    "duration": 8,
    "start_time": "2022-06-01T18:23:15.266Z"
   },
   {
    "duration": 14,
    "start_time": "2022-06-01T18:24:33.123Z"
   },
   {
    "duration": 30,
    "start_time": "2022-06-01T18:24:38.971Z"
   },
   {
    "duration": 6,
    "start_time": "2022-06-01T18:24:48.269Z"
   },
   {
    "duration": 8,
    "start_time": "2022-06-01T18:24:54.555Z"
   },
   {
    "duration": 14,
    "start_time": "2022-06-01T18:25:02.355Z"
   },
   {
    "duration": 16,
    "start_time": "2022-06-01T18:30:01.629Z"
   },
   {
    "duration": 432,
    "start_time": "2022-06-01T18:30:05.838Z"
   },
   {
    "duration": 35,
    "start_time": "2022-06-01T18:31:22.510Z"
   },
   {
    "duration": 180,
    "start_time": "2022-06-01T18:33:01.345Z"
   },
   {
    "duration": 181,
    "start_time": "2022-06-01T18:33:24.391Z"
   },
   {
    "duration": 151,
    "start_time": "2022-06-01T18:33:34.088Z"
   },
   {
    "duration": 156,
    "start_time": "2022-06-01T18:33:39.871Z"
   },
   {
    "duration": 179,
    "start_time": "2022-06-01T18:33:48.408Z"
   },
   {
    "duration": 153,
    "start_time": "2022-06-01T18:33:53.672Z"
   },
   {
    "duration": 186,
    "start_time": "2022-06-01T18:34:21.800Z"
   },
   {
    "duration": 269,
    "start_time": "2022-06-01T18:34:27.048Z"
   },
   {
    "duration": 16,
    "start_time": "2022-06-01T18:38:04.378Z"
   },
   {
    "duration": 13,
    "start_time": "2022-06-01T18:38:44.178Z"
   },
   {
    "duration": 230,
    "start_time": "2022-06-01T18:39:01.715Z"
   },
   {
    "duration": 146,
    "start_time": "2022-06-01T18:39:49.330Z"
   },
   {
    "duration": 163,
    "start_time": "2022-06-01T18:40:13.361Z"
   },
   {
    "duration": 162,
    "start_time": "2022-06-01T18:40:20.129Z"
   },
   {
    "duration": 13,
    "start_time": "2022-06-01T18:40:27.274Z"
   },
   {
    "duration": 21,
    "start_time": "2022-06-01T18:41:23.346Z"
   },
   {
    "duration": 20,
    "start_time": "2022-06-01T18:41:33.730Z"
   },
   {
    "duration": 28,
    "start_time": "2022-06-01T18:41:49.082Z"
   },
   {
    "duration": 41,
    "start_time": "2022-06-01T18:42:14.418Z"
   },
   {
    "duration": 31,
    "start_time": "2022-06-01T18:43:50.259Z"
   },
   {
    "duration": 25,
    "start_time": "2022-06-01T18:43:57.779Z"
   },
   {
    "duration": 20,
    "start_time": "2022-06-01T18:44:08.780Z"
   },
   {
    "duration": 31,
    "start_time": "2022-06-01T18:47:13.685Z"
   },
   {
    "duration": 181,
    "start_time": "2022-06-01T18:48:21.926Z"
   },
   {
    "duration": 187,
    "start_time": "2022-06-01T18:49:31.766Z"
   },
   {
    "duration": 31,
    "start_time": "2022-06-01T18:49:58.031Z"
   },
   {
    "duration": 150,
    "start_time": "2022-06-01T18:50:50.671Z"
   },
   {
    "duration": 29,
    "start_time": "2022-06-01T18:53:29.496Z"
   },
   {
    "duration": 4,
    "start_time": "2022-06-01T18:53:34.511Z"
   },
   {
    "duration": 6,
    "start_time": "2022-06-01T18:53:39.655Z"
   },
   {
    "duration": 148,
    "start_time": "2022-06-01T18:54:03.312Z"
   },
   {
    "duration": 9,
    "start_time": "2022-06-01T18:54:36.135Z"
   },
   {
    "duration": 77,
    "start_time": "2022-06-01T18:55:28.025Z"
   },
   {
    "duration": 24,
    "start_time": "2022-06-01T18:55:37.481Z"
   },
   {
    "duration": 10,
    "start_time": "2022-06-01T18:55:47.232Z"
   },
   {
    "duration": 9,
    "start_time": "2022-06-01T18:57:14.817Z"
   },
   {
    "duration": 8,
    "start_time": "2022-06-01T18:57:22.505Z"
   },
   {
    "duration": 7,
    "start_time": "2022-06-01T18:57:31.882Z"
   },
   {
    "duration": 3,
    "start_time": "2022-06-01T19:24:24.663Z"
   },
   {
    "duration": 9,
    "start_time": "2022-06-01T19:24:31.070Z"
   },
   {
    "duration": 9,
    "start_time": "2022-06-01T19:24:39.726Z"
   },
   {
    "duration": 8,
    "start_time": "2022-06-01T19:24:47.295Z"
   },
   {
    "duration": 4,
    "start_time": "2022-06-01T19:29:26.345Z"
   },
   {
    "duration": 8,
    "start_time": "2022-06-01T19:29:27.576Z"
   },
   {
    "duration": 8,
    "start_time": "2022-06-01T19:29:29.001Z"
   },
   {
    "duration": 7,
    "start_time": "2022-06-01T19:29:29.879Z"
   },
   {
    "duration": 4,
    "start_time": "2022-06-01T19:29:54.065Z"
   },
   {
    "duration": 10,
    "start_time": "2022-06-01T19:29:54.480Z"
   },
   {
    "duration": 9,
    "start_time": "2022-06-01T19:29:55.088Z"
   },
   {
    "duration": 7,
    "start_time": "2022-06-01T19:29:55.565Z"
   },
   {
    "duration": 4,
    "start_time": "2022-06-01T19:30:33.433Z"
   },
   {
    "duration": 7,
    "start_time": "2022-06-01T19:30:33.857Z"
   },
   {
    "duration": 8,
    "start_time": "2022-06-01T19:30:34.793Z"
   },
   {
    "duration": 147,
    "start_time": "2022-06-01T19:30:42.870Z"
   },
   {
    "duration": 29,
    "start_time": "2022-06-01T19:31:39.106Z"
   },
   {
    "duration": 14,
    "start_time": "2022-06-01T19:32:05.506Z"
   },
   {
    "duration": 19,
    "start_time": "2022-06-01T19:32:23.164Z"
   },
   {
    "duration": 23,
    "start_time": "2022-06-01T19:32:35.986Z"
   },
   {
    "duration": 190,
    "start_time": "2022-06-01T19:36:11.010Z"
   },
   {
    "duration": 257,
    "start_time": "2022-06-01T19:36:49.765Z"
   },
   {
    "duration": 173,
    "start_time": "2022-06-01T19:37:00.875Z"
   },
   {
    "duration": 168,
    "start_time": "2022-06-01T19:37:07.844Z"
   },
   {
    "duration": 144,
    "start_time": "2022-06-01T19:38:10.842Z"
   },
   {
    "duration": 4,
    "start_time": "2022-06-01T19:38:21.065Z"
   },
   {
    "duration": 8,
    "start_time": "2022-06-01T19:38:21.685Z"
   },
   {
    "duration": 142,
    "start_time": "2022-06-01T19:38:36.372Z"
   },
   {
    "duration": 19,
    "start_time": "2022-06-01T19:39:44.116Z"
   },
   {
    "duration": 16,
    "start_time": "2022-06-01T19:40:04.836Z"
   },
   {
    "duration": 16,
    "start_time": "2022-06-01T19:40:08.566Z"
   },
   {
    "duration": 15,
    "start_time": "2022-06-01T19:40:18.204Z"
   },
   {
    "duration": 172,
    "start_time": "2022-06-01T19:40:38.795Z"
   },
   {
    "duration": 72,
    "start_time": "2022-06-01T19:42:15.785Z"
   },
   {
    "duration": 366,
    "start_time": "2022-06-01T19:42:56.429Z"
   },
   {
    "duration": 153,
    "start_time": "2022-06-01T19:43:14.621Z"
   },
   {
    "duration": 168,
    "start_time": "2022-06-01T19:44:19.200Z"
   },
   {
    "duration": 174,
    "start_time": "2022-06-01T19:44:24.467Z"
   },
   {
    "duration": 181,
    "start_time": "2022-06-01T19:45:03.685Z"
   },
   {
    "duration": 285,
    "start_time": "2022-06-01T19:45:04.117Z"
   },
   {
    "duration": 182,
    "start_time": "2022-06-01T19:45:04.896Z"
   },
   {
    "duration": 220,
    "start_time": "2022-06-01T19:45:05.579Z"
   },
   {
    "duration": 173,
    "start_time": "2022-06-01T19:45:06.668Z"
   },
   {
    "duration": 203,
    "start_time": "2022-06-01T19:46:56.793Z"
   },
   {
    "duration": 185,
    "start_time": "2022-06-01T19:47:14.433Z"
   },
   {
    "duration": 22,
    "start_time": "2022-06-01T19:47:18.868Z"
   },
   {
    "duration": 21,
    "start_time": "2022-06-01T19:47:28.964Z"
   },
   {
    "duration": 4,
    "start_time": "2022-06-01T19:47:39.264Z"
   },
   {
    "duration": 20,
    "start_time": "2022-06-01T19:47:57.903Z"
   },
   {
    "duration": 31,
    "start_time": "2022-06-01T19:49:00.921Z"
   },
   {
    "duration": 30,
    "start_time": "2022-06-01T19:50:06.980Z"
   },
   {
    "duration": 25,
    "start_time": "2022-06-01T19:50:19.921Z"
   },
   {
    "duration": 22,
    "start_time": "2022-06-01T19:50:26.994Z"
   },
   {
    "duration": 132,
    "start_time": "2022-06-01T19:51:45.097Z"
   },
   {
    "duration": 23,
    "start_time": "2022-06-01T19:51:45.280Z"
   },
   {
    "duration": 212,
    "start_time": "2022-06-01T19:51:45.690Z"
   },
   {
    "duration": 28,
    "start_time": "2022-06-01T19:51:45.904Z"
   },
   {
    "duration": 183,
    "start_time": "2022-06-01T19:51:46.057Z"
   },
   {
    "duration": 25,
    "start_time": "2022-06-01T19:51:46.242Z"
   },
   {
    "duration": 184,
    "start_time": "2022-06-01T19:51:46.417Z"
   },
   {
    "duration": 29,
    "start_time": "2022-06-01T19:51:46.604Z"
   },
   {
    "duration": 168,
    "start_time": "2022-06-01T19:51:46.800Z"
   },
   {
    "duration": 22,
    "start_time": "2022-06-01T19:51:46.986Z"
   },
   {
    "duration": 313,
    "start_time": "2022-06-01T19:51:47.192Z"
   },
   {
    "duration": 24,
    "start_time": "2022-06-01T19:51:48.461Z"
   },
   {
    "duration": 199,
    "start_time": "2022-06-01T19:54:02.969Z"
   },
   {
    "duration": 205,
    "start_time": "2022-06-01T19:54:10.560Z"
   },
   {
    "duration": 218,
    "start_time": "2022-06-01T19:54:20.252Z"
   },
   {
    "duration": 200,
    "start_time": "2022-06-01T19:54:55.845Z"
   },
   {
    "duration": 201,
    "start_time": "2022-06-01T19:55:11.396Z"
   },
   {
    "duration": 22,
    "start_time": "2022-06-01T19:56:18.303Z"
   },
   {
    "duration": 197,
    "start_time": "2022-06-01T19:56:18.906Z"
   },
   {
    "duration": 189,
    "start_time": "2022-06-01T19:56:20.153Z"
   },
   {
    "duration": 23,
    "start_time": "2022-06-01T19:56:21.052Z"
   },
   {
    "duration": 187,
    "start_time": "2022-06-01T19:56:21.566Z"
   },
   {
    "duration": 195,
    "start_time": "2022-06-01T19:56:21.788Z"
   },
   {
    "duration": 23,
    "start_time": "2022-06-01T19:56:21.985Z"
   },
   {
    "duration": 181,
    "start_time": "2022-06-01T19:56:22.152Z"
   },
   {
    "duration": 368,
    "start_time": "2022-06-01T19:56:22.336Z"
   },
   {
    "duration": 27,
    "start_time": "2022-06-01T19:56:22.706Z"
   },
   {
    "duration": 204,
    "start_time": "2022-06-01T19:56:22.735Z"
   },
   {
    "duration": 217,
    "start_time": "2022-06-01T19:56:22.941Z"
   },
   {
    "duration": 24,
    "start_time": "2022-06-01T19:56:23.160Z"
   },
   {
    "duration": 23,
    "start_time": "2022-06-01T20:00:33.009Z"
   },
   {
    "duration": 185,
    "start_time": "2022-06-01T20:00:33.618Z"
   },
   {
    "duration": 204,
    "start_time": "2022-06-01T20:00:33.905Z"
   },
   {
    "duration": 14,
    "start_time": "2022-06-01T20:00:34.196Z"
   },
   {
    "duration": 178,
    "start_time": "2022-06-01T20:00:34.510Z"
   },
   {
    "duration": 185,
    "start_time": "2022-06-01T20:00:34.785Z"
   },
   {
    "duration": 13,
    "start_time": "2022-06-01T20:00:35.088Z"
   },
   {
    "duration": 179,
    "start_time": "2022-06-01T20:00:35.780Z"
   },
   {
    "duration": 195,
    "start_time": "2022-06-01T20:00:35.984Z"
   },
   {
    "duration": 11,
    "start_time": "2022-06-01T20:00:36.183Z"
   },
   {
    "duration": 187,
    "start_time": "2022-06-01T20:00:36.403Z"
   },
   {
    "duration": 204,
    "start_time": "2022-06-01T20:00:36.592Z"
   },
   {
    "duration": 15,
    "start_time": "2022-06-01T20:00:36.798Z"
   },
   {
    "duration": 177,
    "start_time": "2022-06-01T20:00:36.957Z"
   },
   {
    "duration": 214,
    "start_time": "2022-06-01T20:00:37.139Z"
   },
   {
    "duration": 14,
    "start_time": "2022-06-01T20:00:37.355Z"
   },
   {
    "duration": 396,
    "start_time": "2022-06-01T20:05:08.196Z"
   },
   {
    "duration": 1,
    "start_time": "2022-06-01T20:05:08.593Z"
   },
   {
    "duration": 16,
    "start_time": "2022-06-01T20:05:08.644Z"
   },
   {
    "duration": 195,
    "start_time": "2022-06-01T20:05:08.842Z"
   },
   {
    "duration": 230,
    "start_time": "2022-06-01T20:05:09.039Z"
   },
   {
    "duration": 16,
    "start_time": "2022-06-01T20:05:09.271Z"
   },
   {
    "duration": 188,
    "start_time": "2022-06-01T20:05:09.442Z"
   },
   {
    "duration": 198,
    "start_time": "2022-06-01T20:05:09.798Z"
   },
   {
    "duration": 14,
    "start_time": "2022-06-01T20:05:21.708Z"
   },
   {
    "duration": 177,
    "start_time": "2022-06-01T20:05:21.938Z"
   },
   {
    "duration": 190,
    "start_time": "2022-06-01T20:05:22.161Z"
   },
   {
    "duration": 14,
    "start_time": "2022-06-01T20:05:22.423Z"
   },
   {
    "duration": 182,
    "start_time": "2022-06-01T20:05:22.498Z"
   },
   {
    "duration": 209,
    "start_time": "2022-06-01T20:05:22.682Z"
   },
   {
    "duration": 15,
    "start_time": "2022-06-01T20:05:22.893Z"
   },
   {
    "duration": 193,
    "start_time": "2022-06-01T20:05:49.177Z"
   },
   {
    "duration": 45,
    "start_time": "2022-06-01T20:07:24.263Z"
   },
   {
    "duration": 3,
    "start_time": "2022-06-01T20:14:39.796Z"
   },
   {
    "duration": 8,
    "start_time": "2022-06-01T20:14:40.427Z"
   },
   {
    "duration": 3,
    "start_time": "2022-06-01T20:15:18.612Z"
   },
   {
    "duration": 4,
    "start_time": "2022-06-01T20:15:32.264Z"
   },
   {
    "duration": 8,
    "start_time": "2022-06-01T20:15:34.188Z"
   },
   {
    "duration": 8,
    "start_time": "2022-06-01T20:16:02.972Z"
   },
   {
    "duration": 8,
    "start_time": "2022-06-01T20:16:41.589Z"
   },
   {
    "duration": 23,
    "start_time": "2022-06-01T20:16:44.526Z"
   },
   {
    "duration": 18,
    "start_time": "2022-06-01T20:17:29.440Z"
   },
   {
    "duration": 27,
    "start_time": "2022-06-01T20:17:39.165Z"
   },
   {
    "duration": 43,
    "start_time": "2022-06-01T20:17:40.685Z"
   },
   {
    "duration": 19,
    "start_time": "2022-06-01T20:17:57.727Z"
   },
   {
    "duration": 15,
    "start_time": "2022-06-01T20:18:09.071Z"
   },
   {
    "duration": 22,
    "start_time": "2022-06-01T20:18:23.408Z"
   },
   {
    "duration": 66,
    "start_time": "2022-06-01T20:19:26.985Z"
   },
   {
    "duration": 22,
    "start_time": "2022-06-01T20:20:19.591Z"
   },
   {
    "duration": 16,
    "start_time": "2022-06-01T20:20:20.382Z"
   },
   {
    "duration": 14,
    "start_time": "2022-06-01T20:20:27.926Z"
   },
   {
    "duration": 20,
    "start_time": "2022-06-01T20:22:16.461Z"
   },
   {
    "duration": 8,
    "start_time": "2022-06-01T20:22:50.383Z"
   },
   {
    "duration": 18,
    "start_time": "2022-06-01T20:23:01.535Z"
   },
   {
    "duration": 9,
    "start_time": "2022-06-01T20:23:13.134Z"
   },
   {
    "duration": 20,
    "start_time": "2022-06-01T20:23:35.904Z"
   },
   {
    "duration": 24,
    "start_time": "2022-06-01T20:23:50.952Z"
   },
   {
    "duration": 30,
    "start_time": "2022-06-01T20:27:13.234Z"
   },
   {
    "duration": 51,
    "start_time": "2022-06-01T20:27:33.628Z"
   },
   {
    "duration": 22,
    "start_time": "2022-06-01T20:28:15.906Z"
   },
   {
    "duration": 43,
    "start_time": "2022-06-01T20:28:35.129Z"
   },
   {
    "duration": 39,
    "start_time": "2022-06-01T20:29:27.437Z"
   },
   {
    "duration": 22,
    "start_time": "2022-06-01T20:29:32.105Z"
   },
   {
    "duration": 21,
    "start_time": "2022-06-01T20:30:53.092Z"
   },
   {
    "duration": 37,
    "start_time": "2022-06-01T20:31:21.652Z"
   },
   {
    "duration": 28,
    "start_time": "2022-06-01T20:31:37.339Z"
   },
   {
    "duration": 18,
    "start_time": "2022-06-01T20:32:54.035Z"
   },
   {
    "duration": 22,
    "start_time": "2022-06-01T20:33:05.404Z"
   },
   {
    "duration": 15,
    "start_time": "2022-06-01T20:33:09.348Z"
   },
   {
    "duration": 23,
    "start_time": "2022-06-01T20:33:13.364Z"
   },
   {
    "duration": 14,
    "start_time": "2022-06-01T20:33:28.188Z"
   },
   {
    "duration": 29,
    "start_time": "2022-06-01T20:33:53.419Z"
   },
   {
    "duration": 15,
    "start_time": "2022-06-01T20:33:55.716Z"
   },
   {
    "duration": 28,
    "start_time": "2022-06-01T20:33:56.581Z"
   },
   {
    "duration": 10,
    "start_time": "2022-06-01T20:34:20.678Z"
   },
   {
    "duration": 18,
    "start_time": "2022-06-01T20:38:32.667Z"
   },
   {
    "duration": 22,
    "start_time": "2022-06-01T20:38:37.903Z"
   },
   {
    "duration": 13,
    "start_time": "2022-06-01T20:39:16.992Z"
   },
   {
    "duration": 26,
    "start_time": "2022-06-01T20:39:22.319Z"
   },
   {
    "duration": 145,
    "start_time": "2022-06-01T20:42:07.925Z"
   },
   {
    "duration": 153,
    "start_time": "2022-06-01T20:42:39.763Z"
   },
   {
    "duration": 25,
    "start_time": "2022-06-01T20:43:56.639Z"
   },
   {
    "duration": 163,
    "start_time": "2022-06-01T20:55:16.423Z"
   },
   {
    "duration": 145,
    "start_time": "2022-06-01T20:55:21.505Z"
   },
   {
    "duration": 143,
    "start_time": "2022-06-01T20:55:40.760Z"
   },
   {
    "duration": 137,
    "start_time": "2022-06-01T20:56:10.647Z"
   },
   {
    "duration": 149,
    "start_time": "2022-06-01T20:56:17.130Z"
   },
   {
    "duration": 147,
    "start_time": "2022-06-01T20:57:23.600Z"
   },
   {
    "duration": 148,
    "start_time": "2022-06-01T20:57:46.488Z"
   },
   {
    "duration": 19,
    "start_time": "2022-06-01T20:58:06.129Z"
   },
   {
    "duration": 164,
    "start_time": "2022-06-01T20:58:17.033Z"
   },
   {
    "duration": 174,
    "start_time": "2022-06-01T20:58:32.888Z"
   },
   {
    "duration": 373,
    "start_time": "2022-06-01T21:05:02.639Z"
   },
   {
    "duration": 175,
    "start_time": "2022-06-01T21:05:49.822Z"
   },
   {
    "duration": 24,
    "start_time": "2022-06-01T21:08:14.902Z"
   },
   {
    "duration": 26,
    "start_time": "2022-06-01T21:09:22.550Z"
   },
   {
    "duration": 24,
    "start_time": "2022-06-01T21:10:20.046Z"
   },
   {
    "duration": 13,
    "start_time": "2022-06-01T21:11:47.552Z"
   },
   {
    "duration": 24,
    "start_time": "2022-06-01T21:11:55.256Z"
   },
   {
    "duration": 10,
    "start_time": "2022-06-01T21:15:04.256Z"
   },
   {
    "duration": 22,
    "start_time": "2022-06-01T21:17:32.609Z"
   },
   {
    "duration": 24,
    "start_time": "2022-06-01T21:17:39.249Z"
   },
   {
    "duration": 28,
    "start_time": "2022-06-01T21:20:29.955Z"
   },
   {
    "duration": 25,
    "start_time": "2022-06-01T21:20:46.162Z"
   },
   {
    "duration": 10,
    "start_time": "2022-06-01T21:23:33.092Z"
   },
   {
    "duration": 10,
    "start_time": "2022-06-01T21:23:47.724Z"
   },
   {
    "duration": 177,
    "start_time": "2022-06-01T21:23:51.941Z"
   },
   {
    "duration": 173,
    "start_time": "2022-06-01T21:24:10.292Z"
   },
   {
    "duration": 28,
    "start_time": "2022-06-01T21:24:24.660Z"
   },
   {
    "duration": 26,
    "start_time": "2022-06-01T21:24:40.509Z"
   },
   {
    "duration": 29,
    "start_time": "2022-06-01T21:24:56.277Z"
   },
   {
    "duration": 29,
    "start_time": "2022-06-01T21:25:32.684Z"
   },
   {
    "duration": 25,
    "start_time": "2022-06-01T21:26:26.613Z"
   },
   {
    "duration": 29,
    "start_time": "2022-06-01T21:26:44.478Z"
   },
   {
    "duration": 37,
    "start_time": "2022-06-01T21:27:05.630Z"
   },
   {
    "duration": 30,
    "start_time": "2022-06-01T21:27:19.446Z"
   },
   {
    "duration": 29,
    "start_time": "2022-06-01T21:27:23.621Z"
   },
   {
    "duration": 28,
    "start_time": "2022-06-01T21:27:31.054Z"
   },
   {
    "duration": 28,
    "start_time": "2022-06-01T21:27:39.182Z"
   },
   {
    "duration": 27,
    "start_time": "2022-06-01T21:27:57.622Z"
   },
   {
    "duration": 29,
    "start_time": "2022-06-01T21:28:05.998Z"
   },
   {
    "duration": 28,
    "start_time": "2022-06-01T21:28:15.790Z"
   },
   {
    "duration": 27,
    "start_time": "2022-06-01T21:28:34.229Z"
   },
   {
    "duration": 24,
    "start_time": "2022-06-01T21:28:38.653Z"
   },
   {
    "duration": 25,
    "start_time": "2022-06-01T21:29:03.886Z"
   },
   {
    "duration": 26,
    "start_time": "2022-06-01T21:29:38.270Z"
   },
   {
    "duration": 24,
    "start_time": "2022-06-01T21:29:42.790Z"
   },
   {
    "duration": 33,
    "start_time": "2022-06-01T21:29:45.671Z"
   },
   {
    "duration": 27,
    "start_time": "2022-06-01T21:29:58.534Z"
   },
   {
    "duration": 31,
    "start_time": "2022-06-01T21:30:19.039Z"
   },
   {
    "duration": 17,
    "start_time": "2022-06-01T21:30:43.485Z"
   },
   {
    "duration": 17,
    "start_time": "2022-06-01T21:31:05.407Z"
   },
   {
    "duration": 17,
    "start_time": "2022-06-01T21:31:26.847Z"
   },
   {
    "duration": 16,
    "start_time": "2022-06-01T21:31:41.928Z"
   },
   {
    "duration": 18,
    "start_time": "2022-06-01T21:31:46.751Z"
   },
   {
    "duration": 75,
    "start_time": "2022-06-04T07:37:06.296Z"
   },
   {
    "duration": 908,
    "start_time": "2022-06-04T07:37:09.907Z"
   },
   {
    "duration": 363,
    "start_time": "2022-06-04T07:37:10.817Z"
   },
   {
    "duration": 16,
    "start_time": "2022-06-04T07:37:11.182Z"
   },
   {
    "duration": 12,
    "start_time": "2022-06-04T07:37:11.200Z"
   },
   {
    "duration": 95,
    "start_time": "2022-06-04T07:37:11.214Z"
   },
   {
    "duration": 12,
    "start_time": "2022-06-04T07:37:11.404Z"
   },
   {
    "duration": 24,
    "start_time": "2022-06-04T07:37:12.313Z"
   },
   {
    "duration": 4,
    "start_time": "2022-06-04T07:37:14.751Z"
   },
   {
    "duration": 116,
    "start_time": "2022-06-04T07:37:14.758Z"
   },
   {
    "duration": 13,
    "start_time": "2022-06-04T07:37:14.876Z"
   },
   {
    "duration": 14,
    "start_time": "2022-06-04T07:37:14.891Z"
   },
   {
    "duration": 63,
    "start_time": "2022-06-04T07:37:14.907Z"
   },
   {
    "duration": 12,
    "start_time": "2022-06-04T07:37:14.972Z"
   },
   {
    "duration": 12,
    "start_time": "2022-06-04T07:37:14.985Z"
   },
   {
    "duration": 12,
    "start_time": "2022-06-04T07:37:14.999Z"
   },
   {
    "duration": 58,
    "start_time": "2022-06-04T07:37:15.012Z"
   },
   {
    "duration": 20,
    "start_time": "2022-06-04T07:37:15.072Z"
   },
   {
    "duration": 15,
    "start_time": "2022-06-04T07:37:15.095Z"
   },
   {
    "duration": 27,
    "start_time": "2022-06-04T07:37:15.112Z"
   },
   {
    "duration": 26,
    "start_time": "2022-06-04T07:37:15.142Z"
   },
   {
    "duration": 24,
    "start_time": "2022-06-04T07:37:15.171Z"
   },
   {
    "duration": 3,
    "start_time": "2022-06-04T07:37:15.196Z"
   },
   {
    "duration": 12,
    "start_time": "2022-06-04T07:37:15.201Z"
   },
   {
    "duration": 30,
    "start_time": "2022-06-04T07:37:15.215Z"
   },
   {
    "duration": 12,
    "start_time": "2022-06-04T07:37:15.247Z"
   },
   {
    "duration": 10,
    "start_time": "2022-06-04T07:37:15.261Z"
   },
   {
    "duration": 10,
    "start_time": "2022-06-04T07:37:15.273Z"
   },
   {
    "duration": 31,
    "start_time": "2022-06-04T07:37:15.285Z"
   },
   {
    "duration": 34,
    "start_time": "2022-06-04T07:37:15.319Z"
   },
   {
    "duration": 33,
    "start_time": "2022-06-04T07:37:15.355Z"
   },
   {
    "duration": 8,
    "start_time": "2022-06-04T07:37:15.390Z"
   },
   {
    "duration": 9,
    "start_time": "2022-06-04T07:37:15.399Z"
   },
   {
    "duration": 10,
    "start_time": "2022-06-04T07:37:15.410Z"
   },
   {
    "duration": 16,
    "start_time": "2022-06-04T07:37:15.422Z"
   },
   {
    "duration": 13,
    "start_time": "2022-06-04T07:37:15.440Z"
   },
   {
    "duration": 28,
    "start_time": "2022-06-04T07:37:15.462Z"
   },
   {
    "duration": 20,
    "start_time": "2022-06-04T07:37:15.492Z"
   },
   {
    "duration": 28,
    "start_time": "2022-06-04T07:37:15.514Z"
   },
   {
    "duration": 42,
    "start_time": "2022-06-04T07:37:15.549Z"
   },
   {
    "duration": 9,
    "start_time": "2022-06-04T07:37:15.593Z"
   },
   {
    "duration": 21,
    "start_time": "2022-06-04T07:37:15.604Z"
   },
   {
    "duration": 22,
    "start_time": "2022-06-04T07:37:15.627Z"
   },
   {
    "duration": 39,
    "start_time": "2022-06-04T07:37:15.652Z"
   },
   {
    "duration": 23,
    "start_time": "2022-06-04T07:37:15.693Z"
   },
   {
    "duration": 24,
    "start_time": "2022-06-04T07:37:15.718Z"
   },
   {
    "duration": 56,
    "start_time": "2022-06-04T07:37:15.744Z"
   },
   {
    "duration": 6,
    "start_time": "2022-06-04T07:37:15.802Z"
   },
   {
    "duration": 10,
    "start_time": "2022-06-04T07:37:15.810Z"
   },
   {
    "duration": 79,
    "start_time": "2022-06-04T07:37:15.821Z"
   },
   {
    "duration": 59,
    "start_time": "2022-06-04T07:37:15.902Z"
   },
   {
    "duration": 44,
    "start_time": "2022-06-04T07:37:15.966Z"
   },
   {
    "duration": 26,
    "start_time": "2022-06-04T07:37:16.011Z"
   },
   {
    "duration": 228,
    "start_time": "2022-06-04T07:37:16.047Z"
   },
   {
    "duration": 11,
    "start_time": "2022-06-04T07:37:16.278Z"
   },
   {
    "duration": 21,
    "start_time": "2022-06-04T07:37:16.290Z"
   },
   {
    "duration": 207,
    "start_time": "2022-06-04T07:37:16.313Z"
   },
   {
    "duration": 38,
    "start_time": "2022-06-04T07:37:16.522Z"
   },
   {
    "duration": 73,
    "start_time": "2022-06-04T07:37:16.562Z"
   },
   {
    "duration": 71,
    "start_time": "2022-06-04T07:37:16.637Z"
   },
   {
    "duration": 215,
    "start_time": "2022-06-04T07:37:16.710Z"
   },
   {
    "duration": 249,
    "start_time": "2022-06-04T07:37:16.926Z"
   },
   {
    "duration": 14,
    "start_time": "2022-06-04T07:37:17.180Z"
   },
   {
    "duration": 283,
    "start_time": "2022-06-04T07:37:17.196Z"
   },
   {
    "duration": 259,
    "start_time": "2022-06-04T07:37:17.482Z"
   },
   {
    "duration": 25,
    "start_time": "2022-06-04T07:37:17.747Z"
   },
   {
    "duration": 226,
    "start_time": "2022-06-04T07:37:17.774Z"
   },
   {
    "duration": 220,
    "start_time": "2022-06-04T07:37:18.001Z"
   },
   {
    "duration": 25,
    "start_time": "2022-06-04T07:37:18.223Z"
   },
   {
    "duration": 275,
    "start_time": "2022-06-04T07:37:18.250Z"
   },
   {
    "duration": 226,
    "start_time": "2022-06-04T07:37:18.526Z"
   },
   {
    "duration": 12,
    "start_time": "2022-06-04T07:37:18.754Z"
   },
   {
    "duration": 189,
    "start_time": "2022-06-04T07:37:18.768Z"
   },
   {
    "duration": 217,
    "start_time": "2022-06-04T07:37:18.959Z"
   },
   {
    "duration": 13,
    "start_time": "2022-06-04T07:37:19.178Z"
   },
   {
    "duration": 5,
    "start_time": "2022-06-04T07:37:19.193Z"
   },
   {
    "duration": 10,
    "start_time": "2022-06-04T07:37:19.199Z"
   },
   {
    "duration": 40,
    "start_time": "2022-06-04T07:37:19.230Z"
   },
   {
    "duration": 12,
    "start_time": "2022-06-04T07:37:19.272Z"
   },
   {
    "duration": 25,
    "start_time": "2022-06-04T07:37:19.285Z"
   },
   {
    "duration": 32,
    "start_time": "2022-06-04T07:37:19.312Z"
   },
   {
    "duration": 30,
    "start_time": "2022-06-04T07:37:19.349Z"
   },
   {
    "duration": 20,
    "start_time": "2022-06-04T07:37:19.381Z"
   },
   {
    "duration": 14,
    "start_time": "2022-06-04T07:37:19.402Z"
   },
   {
    "duration": 23,
    "start_time": "2022-06-04T07:37:19.417Z"
   },
   {
    "duration": 188,
    "start_time": "2022-06-04T07:37:19.441Z"
   },
   {
    "duration": 160,
    "start_time": "2022-06-04T07:37:19.633Z"
   },
   {
    "duration": 206,
    "start_time": "2022-06-04T07:37:19.794Z"
   },
   {
    "duration": 41,
    "start_time": "2022-06-04T07:37:20.002Z"
   },
   {
    "duration": 21,
    "start_time": "2022-06-04T07:37:20.045Z"
   },
   {
    "duration": 13,
    "start_time": "2022-06-04T07:38:49.000Z"
   },
   {
    "duration": 69,
    "start_time": "2022-06-04T07:45:00.912Z"
   },
   {
    "duration": 22,
    "start_time": "2022-06-04T07:45:10.224Z"
   },
   {
    "duration": 2,
    "start_time": "2022-06-04T07:45:55.892Z"
   },
   {
    "duration": 21,
    "start_time": "2022-06-04T07:47:24.436Z"
   },
   {
    "duration": 23,
    "start_time": "2022-06-04T07:53:37.528Z"
   },
   {
    "duration": 51,
    "start_time": "2022-06-04T07:56:04.100Z"
   },
   {
    "duration": 32,
    "start_time": "2022-06-04T07:57:25.407Z"
   },
   {
    "duration": 10,
    "start_time": "2022-06-04T07:57:46.943Z"
   },
   {
    "duration": 14,
    "start_time": "2022-06-04T07:58:04.738Z"
   },
   {
    "duration": 33,
    "start_time": "2022-06-04T07:58:17.108Z"
   },
   {
    "duration": 5,
    "start_time": "2022-06-04T08:01:44.995Z"
   },
   {
    "duration": 13,
    "start_time": "2022-06-04T08:03:35.635Z"
   },
   {
    "duration": 7,
    "start_time": "2022-06-04T08:05:34.903Z"
   },
   {
    "duration": 6,
    "start_time": "2022-06-04T08:06:24.426Z"
   },
   {
    "duration": 5,
    "start_time": "2022-06-04T08:06:36.407Z"
   },
   {
    "duration": 5,
    "start_time": "2022-06-04T08:06:39.716Z"
   },
   {
    "duration": 13,
    "start_time": "2022-06-04T08:06:52.856Z"
   },
   {
    "duration": 17,
    "start_time": "2022-06-04T08:07:30.532Z"
   },
   {
    "duration": 9,
    "start_time": "2022-06-04T08:07:38.107Z"
   },
   {
    "duration": 2,
    "start_time": "2022-06-04T08:08:14.854Z"
   },
   {
    "duration": 13,
    "start_time": "2022-06-04T08:08:16.323Z"
   },
   {
    "duration": 14,
    "start_time": "2022-06-04T08:09:15.050Z"
   },
   {
    "duration": 13,
    "start_time": "2022-06-04T08:09:24.408Z"
   },
   {
    "duration": 5,
    "start_time": "2022-06-04T08:09:48.103Z"
   },
   {
    "duration": 4,
    "start_time": "2022-06-04T08:09:58.603Z"
   },
   {
    "duration": 4,
    "start_time": "2022-06-04T08:11:43.666Z"
   },
   {
    "duration": 9,
    "start_time": "2022-06-04T08:20:28.760Z"
   },
   {
    "duration": 199,
    "start_time": "2022-06-04T08:20:32.423Z"
   },
   {
    "duration": 13,
    "start_time": "2022-06-04T08:20:47.120Z"
   },
   {
    "duration": 184,
    "start_time": "2022-06-04T08:20:56.407Z"
   },
   {
    "duration": 4,
    "start_time": "2022-06-04T08:21:06.259Z"
   },
   {
    "duration": 188,
    "start_time": "2022-06-04T08:21:07.099Z"
   },
   {
    "duration": 221,
    "start_time": "2022-06-04T08:22:28.196Z"
   },
   {
    "duration": 6,
    "start_time": "2022-06-04T08:23:10.811Z"
   },
   {
    "duration": 19,
    "start_time": "2022-06-04T08:23:11.455Z"
   },
   {
    "duration": 27,
    "start_time": "2022-06-04T08:23:43.714Z"
   },
   {
    "duration": 622,
    "start_time": "2022-06-04T08:24:41.766Z"
   },
   {
    "duration": 21,
    "start_time": "2022-06-04T08:24:53.727Z"
   },
   {
    "duration": 596,
    "start_time": "2022-06-04T08:24:54.599Z"
   },
   {
    "duration": 8,
    "start_time": "2022-06-04T08:25:12.783Z"
   },
   {
    "duration": 2316,
    "start_time": "2022-06-04T08:25:33.418Z"
   },
   {
    "duration": 13,
    "start_time": "2022-06-04T08:25:36.395Z"
   },
   {
    "duration": 2364,
    "start_time": "2022-06-04T08:25:42.557Z"
   },
   {
    "duration": 2497,
    "start_time": "2022-06-04T08:26:01.312Z"
   },
   {
    "duration": 9,
    "start_time": "2022-06-04T08:26:20.140Z"
   },
   {
    "duration": 2815,
    "start_time": "2022-06-04T08:26:21.306Z"
   },
   {
    "duration": 63,
    "start_time": "2022-06-04T08:26:50.795Z"
   },
   {
    "duration": 15,
    "start_time": "2022-06-04T08:27:00.959Z"
   },
   {
    "duration": 4,
    "start_time": "2022-06-04T08:27:21.103Z"
   },
   {
    "duration": 178,
    "start_time": "2022-06-04T08:27:21.109Z"
   },
   {
    "duration": 23,
    "start_time": "2022-06-04T08:27:21.289Z"
   },
   {
    "duration": 31,
    "start_time": "2022-06-04T08:27:21.314Z"
   },
   {
    "duration": 71,
    "start_time": "2022-06-04T08:27:21.347Z"
   },
   {
    "duration": 21,
    "start_time": "2022-06-04T08:27:21.419Z"
   },
   {
    "duration": 55,
    "start_time": "2022-06-04T08:27:21.442Z"
   },
   {
    "duration": 24,
    "start_time": "2022-06-04T08:27:21.499Z"
   },
   {
    "duration": 52,
    "start_time": "2022-06-04T08:27:21.525Z"
   },
   {
    "duration": 19,
    "start_time": "2022-06-04T08:27:21.581Z"
   },
   {
    "duration": 11,
    "start_time": "2022-06-04T08:27:21.602Z"
   },
   {
    "duration": 31,
    "start_time": "2022-06-04T08:27:21.616Z"
   },
   {
    "duration": 38,
    "start_time": "2022-06-04T08:27:21.651Z"
   },
   {
    "duration": 5,
    "start_time": "2022-06-04T08:27:21.691Z"
   },
   {
    "duration": 20,
    "start_time": "2022-06-04T08:27:21.698Z"
   },
   {
    "duration": 7,
    "start_time": "2022-06-04T08:27:21.720Z"
   },
   {
    "duration": 66,
    "start_time": "2022-06-04T08:27:21.734Z"
   },
   {
    "duration": 5,
    "start_time": "2022-06-04T08:27:21.801Z"
   },
   {
    "duration": 9,
    "start_time": "2022-06-04T08:27:21.807Z"
   },
   {
    "duration": 42,
    "start_time": "2022-06-04T08:27:21.818Z"
   },
   {
    "duration": 19,
    "start_time": "2022-06-04T08:27:21.868Z"
   },
   {
    "duration": 34,
    "start_time": "2022-06-04T08:27:21.889Z"
   },
   {
    "duration": 38,
    "start_time": "2022-06-04T08:27:21.925Z"
   },
   {
    "duration": 38,
    "start_time": "2022-06-04T08:27:21.965Z"
   },
   {
    "duration": 33,
    "start_time": "2022-06-04T08:27:22.006Z"
   },
   {
    "duration": 31,
    "start_time": "2022-06-04T08:27:22.043Z"
   },
   {
    "duration": 35,
    "start_time": "2022-06-04T08:27:22.077Z"
   },
   {
    "duration": 8,
    "start_time": "2022-06-04T08:27:22.114Z"
   },
   {
    "duration": 33,
    "start_time": "2022-06-04T08:27:22.128Z"
   },
   {
    "duration": 20,
    "start_time": "2022-06-04T08:27:22.169Z"
   },
   {
    "duration": 11,
    "start_time": "2022-06-04T08:27:22.190Z"
   },
   {
    "duration": 19,
    "start_time": "2022-06-04T08:27:22.203Z"
   },
   {
    "duration": 29,
    "start_time": "2022-06-04T08:27:22.224Z"
   },
   {
    "duration": 24,
    "start_time": "2022-06-04T08:27:22.255Z"
   },
   {
    "duration": 35,
    "start_time": "2022-06-04T08:27:22.280Z"
   },
   {
    "duration": 12,
    "start_time": "2022-06-04T08:27:29.495Z"
   },
   {
    "duration": 4,
    "start_time": "2022-06-04T08:28:20.718Z"
   },
   {
    "duration": 5,
    "start_time": "2022-06-04T08:28:24.265Z"
   },
   {
    "duration": 1795,
    "start_time": "2022-06-04T08:28:25.624Z"
   },
   {
    "duration": 2359,
    "start_time": "2022-06-04T08:29:05.735Z"
   },
   {
    "duration": 14,
    "start_time": "2022-06-04T08:31:16.562Z"
   },
   {
    "duration": 6,
    "start_time": "2022-06-04T08:31:58.115Z"
   },
   {
    "duration": 8,
    "start_time": "2022-06-04T08:33:20.749Z"
   },
   {
    "duration": 6,
    "start_time": "2022-06-04T08:34:00.291Z"
   },
   {
    "duration": 4,
    "start_time": "2022-06-04T08:34:16.295Z"
   },
   {
    "duration": 4,
    "start_time": "2022-06-04T08:34:21.010Z"
   },
   {
    "duration": 32,
    "start_time": "2022-06-04T08:35:18.532Z"
   },
   {
    "duration": 28,
    "start_time": "2022-06-04T08:37:10.322Z"
   },
   {
    "duration": 35,
    "start_time": "2022-06-04T08:39:27.891Z"
   },
   {
    "duration": 164,
    "start_time": "2022-06-04T08:39:39.148Z"
   },
   {
    "duration": 20,
    "start_time": "2022-06-04T08:39:46.498Z"
   },
   {
    "duration": 57,
    "start_time": "2022-06-04T08:40:21.402Z"
   },
   {
    "duration": 11,
    "start_time": "2022-06-04T08:40:33.674Z"
   },
   {
    "duration": 40,
    "start_time": "2022-06-04T08:40:34.821Z"
   },
   {
    "duration": 19,
    "start_time": "2022-06-04T08:40:36.620Z"
   },
   {
    "duration": 398,
    "start_time": "2022-06-04T08:40:57.956Z"
   },
   {
    "duration": 138,
    "start_time": "2022-06-04T08:41:07.812Z"
   },
   {
    "duration": 8,
    "start_time": "2022-06-04T08:41:11.614Z"
   },
   {
    "duration": 9,
    "start_time": "2022-06-04T08:41:27.910Z"
   },
   {
    "duration": 131,
    "start_time": "2022-06-04T08:41:52.690Z"
   },
   {
    "duration": 9,
    "start_time": "2022-06-04T08:42:05.186Z"
   },
   {
    "duration": 147,
    "start_time": "2022-06-04T08:42:07.143Z"
   },
   {
    "duration": 5,
    "start_time": "2022-06-04T08:42:17.037Z"
   },
   {
    "duration": 3,
    "start_time": "2022-06-04T08:42:22.710Z"
   },
   {
    "duration": 7,
    "start_time": "2022-06-04T08:42:29.440Z"
   },
   {
    "duration": 16,
    "start_time": "2022-06-04T08:42:36.498Z"
   },
   {
    "duration": 14,
    "start_time": "2022-06-04T08:43:16.040Z"
   },
   {
    "duration": 49,
    "start_time": "2022-06-04T08:43:40.306Z"
   },
   {
    "duration": 30,
    "start_time": "2022-06-04T08:43:48.709Z"
   },
   {
    "duration": 20,
    "start_time": "2022-06-04T08:44:01.202Z"
   },
   {
    "duration": 13,
    "start_time": "2022-06-04T08:44:06.759Z"
   },
   {
    "duration": 41,
    "start_time": "2022-06-04T08:44:12.127Z"
   },
   {
    "duration": 29,
    "start_time": "2022-06-04T08:44:19.545Z"
   },
   {
    "duration": 19,
    "start_time": "2022-06-04T08:53:19.761Z"
   },
   {
    "duration": 29,
    "start_time": "2022-06-04T08:57:53.912Z"
   },
   {
    "duration": 28,
    "start_time": "2022-06-04T09:00:50.114Z"
   },
   {
    "duration": 43,
    "start_time": "2022-06-04T09:01:56.723Z"
   },
   {
    "duration": 33,
    "start_time": "2022-06-04T09:05:48.663Z"
   },
   {
    "duration": 30,
    "start_time": "2022-06-04T09:06:05.954Z"
   },
   {
    "duration": 20,
    "start_time": "2022-06-04T09:06:12.957Z"
   },
   {
    "duration": 161,
    "start_time": "2022-06-04T09:06:34.214Z"
   },
   {
    "duration": 69,
    "start_time": "2022-06-04T09:06:39.323Z"
   },
   {
    "duration": 19,
    "start_time": "2022-06-04T09:06:44.968Z"
   },
   {
    "duration": 20,
    "start_time": "2022-06-04T09:06:55.207Z"
   },
   {
    "duration": 19,
    "start_time": "2022-06-04T09:07:02.856Z"
   },
   {
    "duration": 6,
    "start_time": "2022-06-04T09:12:17.698Z"
   },
   {
    "duration": 6,
    "start_time": "2022-06-04T09:14:25.461Z"
   },
   {
    "duration": 22,
    "start_time": "2022-06-04T09:14:51.248Z"
   },
   {
    "duration": 43,
    "start_time": "2022-06-04T09:15:18.110Z"
   },
   {
    "duration": 34,
    "start_time": "2022-06-04T09:15:33.257Z"
   },
   {
    "duration": 40,
    "start_time": "2022-06-04T09:18:33.306Z"
   },
   {
    "duration": 30,
    "start_time": "2022-06-04T09:19:08.455Z"
   },
   {
    "duration": 51,
    "start_time": "2022-06-04T09:19:16.121Z"
   },
   {
    "duration": 17,
    "start_time": "2022-06-04T09:19:34.309Z"
   },
   {
    "duration": 28,
    "start_time": "2022-06-04T09:21:11.293Z"
   },
   {
    "duration": 40,
    "start_time": "2022-06-04T09:25:04.310Z"
   },
   {
    "duration": 49,
    "start_time": "2022-06-04T09:25:12.917Z"
   },
   {
    "duration": 42,
    "start_time": "2022-06-04T09:25:18.813Z"
   },
   {
    "duration": 20,
    "start_time": "2022-06-04T09:27:26.148Z"
   },
   {
    "duration": 171,
    "start_time": "2022-06-04T09:28:40.329Z"
   },
   {
    "duration": 9,
    "start_time": "2022-06-04T09:28:44.001Z"
   },
   {
    "duration": 9,
    "start_time": "2022-06-04T09:30:32.297Z"
   },
   {
    "duration": 7,
    "start_time": "2022-06-04T09:30:33.293Z"
   },
   {
    "duration": 27,
    "start_time": "2022-06-04T09:32:11.852Z"
   },
   {
    "duration": 212,
    "start_time": "2022-06-04T09:37:09.056Z"
   },
   {
    "duration": 321,
    "start_time": "2022-06-04T09:37:10.604Z"
   },
   {
    "duration": 331,
    "start_time": "2022-06-04T09:37:19.411Z"
   },
   {
    "duration": 21,
    "start_time": "2022-06-04T09:37:37.612Z"
   },
   {
    "duration": 252,
    "start_time": "2022-06-04T09:37:41.819Z"
   },
   {
    "duration": 278,
    "start_time": "2022-06-04T09:37:42.692Z"
   },
   {
    "duration": 238,
    "start_time": "2022-06-04T09:37:47.249Z"
   },
   {
    "duration": 7,
    "start_time": "2022-06-04T09:38:23.481Z"
   },
   {
    "duration": 5,
    "start_time": "2022-06-04T09:38:24.420Z"
   },
   {
    "duration": 11,
    "start_time": "2022-06-04T09:38:25.605Z"
   },
   {
    "duration": 335,
    "start_time": "2022-06-04T09:38:44.502Z"
   },
   {
    "duration": 20,
    "start_time": "2022-06-04T09:45:34.287Z"
   },
   {
    "duration": 11,
    "start_time": "2022-06-04T09:45:40.391Z"
   },
   {
    "duration": 209,
    "start_time": "2022-06-04T09:45:48.224Z"
   },
   {
    "duration": 8,
    "start_time": "2022-06-04T09:48:16.396Z"
   },
   {
    "duration": 69,
    "start_time": "2022-06-04T09:48:23.647Z"
   },
   {
    "duration": 53,
    "start_time": "2022-06-04T09:48:44.651Z"
   },
   {
    "duration": 46,
    "start_time": "2022-06-04T09:48:54.809Z"
   },
   {
    "duration": 25,
    "start_time": "2022-06-04T09:48:59.253Z"
   },
   {
    "duration": 59,
    "start_time": "2022-06-04T10:12:50.783Z"
   },
   {
    "duration": 183,
    "start_time": "2022-06-04T10:13:07.711Z"
   },
   {
    "duration": 26,
    "start_time": "2022-06-04T10:18:43.510Z"
   },
   {
    "duration": 38,
    "start_time": "2022-06-04T10:18:51.918Z"
   },
   {
    "duration": 22,
    "start_time": "2022-06-04T10:20:18.265Z"
   },
   {
    "duration": 7,
    "start_time": "2022-06-04T10:28:28.792Z"
   },
   {
    "duration": 8,
    "start_time": "2022-06-04T10:28:46.153Z"
   },
   {
    "duration": 37,
    "start_time": "2022-06-04T10:29:23.997Z"
   },
   {
    "duration": 36,
    "start_time": "2022-06-04T10:30:01.290Z"
   },
   {
    "duration": 24,
    "start_time": "2022-06-04T10:30:10.423Z"
   },
   {
    "duration": 11,
    "start_time": "2022-06-04T10:30:16.889Z"
   },
   {
    "duration": 18,
    "start_time": "2022-06-04T10:30:35.288Z"
   },
   {
    "duration": 8,
    "start_time": "2022-06-04T10:30:51.700Z"
   },
   {
    "duration": 9,
    "start_time": "2022-06-04T10:31:03.192Z"
   },
   {
    "duration": 14,
    "start_time": "2022-06-04T10:31:49.055Z"
   },
   {
    "duration": 7,
    "start_time": "2022-06-04T10:31:59.918Z"
   },
   {
    "duration": 21,
    "start_time": "2022-06-04T10:33:32.000Z"
   },
   {
    "duration": 891,
    "start_time": "2022-06-04T11:13:05.130Z"
   },
   {
    "duration": 167,
    "start_time": "2022-06-04T11:13:06.023Z"
   },
   {
    "duration": 21,
    "start_time": "2022-06-04T11:13:06.192Z"
   },
   {
    "duration": 17,
    "start_time": "2022-06-04T11:13:06.215Z"
   },
   {
    "duration": 99,
    "start_time": "2022-06-04T11:13:06.234Z"
   },
   {
    "duration": 15,
    "start_time": "2022-06-04T11:13:06.335Z"
   },
   {
    "duration": 44,
    "start_time": "2022-06-04T11:13:06.352Z"
   },
   {
    "duration": 19,
    "start_time": "2022-06-04T11:13:06.399Z"
   },
   {
    "duration": 21,
    "start_time": "2022-06-04T11:13:06.420Z"
   },
   {
    "duration": 46,
    "start_time": "2022-06-04T11:13:06.444Z"
   },
   {
    "duration": 7,
    "start_time": "2022-06-04T11:13:06.493Z"
   },
   {
    "duration": 12,
    "start_time": "2022-06-04T11:13:06.502Z"
   },
   {
    "duration": 22,
    "start_time": "2022-06-04T11:13:06.516Z"
   },
   {
    "duration": 44,
    "start_time": "2022-06-04T11:13:06.540Z"
   },
   {
    "duration": 26,
    "start_time": "2022-06-04T11:13:06.586Z"
   },
   {
    "duration": 12,
    "start_time": "2022-06-04T11:13:06.614Z"
   },
   {
    "duration": 77,
    "start_time": "2022-06-04T11:13:06.628Z"
   },
   {
    "duration": 5,
    "start_time": "2022-06-04T11:13:06.707Z"
   },
   {
    "duration": 13,
    "start_time": "2022-06-04T11:13:06.714Z"
   },
   {
    "duration": 47,
    "start_time": "2022-06-04T11:13:06.734Z"
   },
   {
    "duration": 10,
    "start_time": "2022-06-04T11:13:06.783Z"
   },
   {
    "duration": 34,
    "start_time": "2022-06-04T11:13:06.794Z"
   },
   {
    "duration": 39,
    "start_time": "2022-06-04T11:13:06.830Z"
   },
   {
    "duration": 29,
    "start_time": "2022-06-04T11:13:06.880Z"
   },
   {
    "duration": 22,
    "start_time": "2022-06-04T11:13:06.911Z"
   },
   {
    "duration": 57,
    "start_time": "2022-06-04T11:13:06.934Z"
   },
   {
    "duration": 31,
    "start_time": "2022-06-04T11:13:06.993Z"
   },
   {
    "duration": 10,
    "start_time": "2022-06-04T11:13:07.032Z"
   },
   {
    "duration": 34,
    "start_time": "2022-06-04T11:13:07.044Z"
   },
   {
    "duration": 10,
    "start_time": "2022-06-04T11:13:07.080Z"
   },
   {
    "duration": 6,
    "start_time": "2022-06-04T11:13:07.092Z"
   },
   {
    "duration": 19,
    "start_time": "2022-06-04T11:13:07.100Z"
   },
   {
    "duration": 18,
    "start_time": "2022-06-04T11:13:07.121Z"
   },
   {
    "duration": 38,
    "start_time": "2022-06-04T11:13:07.140Z"
   },
   {
    "duration": 19,
    "start_time": "2022-06-04T11:13:07.181Z"
   },
   {
    "duration": 14,
    "start_time": "2022-06-04T11:13:07.202Z"
   },
   {
    "duration": 25,
    "start_time": "2022-06-04T11:13:07.218Z"
   },
   {
    "duration": 40,
    "start_time": "2022-06-04T11:13:07.245Z"
   },
   {
    "duration": 36,
    "start_time": "2022-06-04T11:13:07.287Z"
   },
   {
    "duration": 57,
    "start_time": "2022-06-04T11:13:07.324Z"
   },
   {
    "duration": 27,
    "start_time": "2022-06-04T11:13:07.383Z"
   },
   {
    "duration": 6,
    "start_time": "2022-06-04T11:13:07.412Z"
   },
   {
    "duration": 53,
    "start_time": "2022-06-04T11:13:07.420Z"
   },
   {
    "duration": 9,
    "start_time": "2022-06-04T11:13:07.475Z"
   },
   {
    "duration": 21,
    "start_time": "2022-06-04T11:13:07.486Z"
   },
   {
    "duration": 35,
    "start_time": "2022-06-04T11:13:07.509Z"
   },
   {
    "duration": 39,
    "start_time": "2022-06-04T11:13:07.546Z"
   },
   {
    "duration": 6,
    "start_time": "2022-06-04T11:13:07.587Z"
   },
   {
    "duration": 0,
    "start_time": "2022-06-04T11:13:07.595Z"
   },
   {
    "duration": 0,
    "start_time": "2022-06-04T11:13:07.598Z"
   },
   {
    "duration": 0,
    "start_time": "2022-06-04T11:13:07.599Z"
   },
   {
    "duration": 0,
    "start_time": "2022-06-04T11:13:07.599Z"
   },
   {
    "duration": 0,
    "start_time": "2022-06-04T11:13:07.600Z"
   },
   {
    "duration": 0,
    "start_time": "2022-06-04T11:13:07.601Z"
   },
   {
    "duration": 0,
    "start_time": "2022-06-04T11:13:07.601Z"
   },
   {
    "duration": 0,
    "start_time": "2022-06-04T11:13:07.602Z"
   },
   {
    "duration": 0,
    "start_time": "2022-06-04T11:13:07.603Z"
   },
   {
    "duration": 0,
    "start_time": "2022-06-04T11:13:07.604Z"
   },
   {
    "duration": 0,
    "start_time": "2022-06-04T11:13:07.606Z"
   },
   {
    "duration": 0,
    "start_time": "2022-06-04T11:13:07.628Z"
   },
   {
    "duration": 0,
    "start_time": "2022-06-04T11:13:07.629Z"
   },
   {
    "duration": 0,
    "start_time": "2022-06-04T11:13:07.630Z"
   },
   {
    "duration": 1,
    "start_time": "2022-06-04T11:13:07.630Z"
   },
   {
    "duration": 0,
    "start_time": "2022-06-04T11:13:07.631Z"
   },
   {
    "duration": 0,
    "start_time": "2022-06-04T11:13:07.636Z"
   },
   {
    "duration": 0,
    "start_time": "2022-06-04T11:13:07.638Z"
   },
   {
    "duration": 0,
    "start_time": "2022-06-04T11:13:07.639Z"
   },
   {
    "duration": 0,
    "start_time": "2022-06-04T11:13:07.640Z"
   },
   {
    "duration": 0,
    "start_time": "2022-06-04T11:13:07.641Z"
   },
   {
    "duration": 0,
    "start_time": "2022-06-04T11:13:07.642Z"
   },
   {
    "duration": 0,
    "start_time": "2022-06-04T11:13:07.644Z"
   },
   {
    "duration": 0,
    "start_time": "2022-06-04T11:13:07.645Z"
   },
   {
    "duration": 0,
    "start_time": "2022-06-04T11:13:07.646Z"
   },
   {
    "duration": 0,
    "start_time": "2022-06-04T11:13:07.649Z"
   },
   {
    "duration": 0,
    "start_time": "2022-06-04T11:13:07.650Z"
   },
   {
    "duration": 0,
    "start_time": "2022-06-04T11:13:07.651Z"
   },
   {
    "duration": 0,
    "start_time": "2022-06-04T11:13:07.653Z"
   },
   {
    "duration": 0,
    "start_time": "2022-06-04T11:13:07.655Z"
   },
   {
    "duration": 0,
    "start_time": "2022-06-04T11:13:07.656Z"
   },
   {
    "duration": 3,
    "start_time": "2022-06-04T11:13:23.212Z"
   },
   {
    "duration": 123,
    "start_time": "2022-06-04T11:13:23.217Z"
   },
   {
    "duration": 24,
    "start_time": "2022-06-04T11:13:23.342Z"
   },
   {
    "duration": 35,
    "start_time": "2022-06-04T11:13:23.369Z"
   },
   {
    "duration": 75,
    "start_time": "2022-06-04T11:13:23.406Z"
   },
   {
    "duration": 9,
    "start_time": "2022-06-04T11:13:23.483Z"
   },
   {
    "duration": 29,
    "start_time": "2022-06-04T11:13:23.494Z"
   },
   {
    "duration": 30,
    "start_time": "2022-06-04T11:13:23.525Z"
   },
   {
    "duration": 37,
    "start_time": "2022-06-04T11:13:23.557Z"
   },
   {
    "duration": 14,
    "start_time": "2022-06-04T11:13:23.596Z"
   },
   {
    "duration": 10,
    "start_time": "2022-06-04T11:13:23.612Z"
   },
   {
    "duration": 45,
    "start_time": "2022-06-04T11:13:23.624Z"
   },
   {
    "duration": 28,
    "start_time": "2022-06-04T11:13:23.671Z"
   },
   {
    "duration": 7,
    "start_time": "2022-06-04T11:13:23.703Z"
   },
   {
    "duration": 28,
    "start_time": "2022-06-04T11:13:23.712Z"
   },
   {
    "duration": 51,
    "start_time": "2022-06-04T11:13:23.742Z"
   },
   {
    "duration": 20,
    "start_time": "2022-06-04T11:13:23.797Z"
   },
   {
    "duration": 6,
    "start_time": "2022-06-04T11:13:23.818Z"
   },
   {
    "duration": 43,
    "start_time": "2022-06-04T11:13:23.826Z"
   },
   {
    "duration": 12,
    "start_time": "2022-06-04T11:13:23.871Z"
   },
   {
    "duration": 10,
    "start_time": "2022-06-04T11:13:23.885Z"
   },
   {
    "duration": 33,
    "start_time": "2022-06-04T11:13:23.897Z"
   },
   {
    "duration": 30,
    "start_time": "2022-06-04T11:13:23.931Z"
   },
   {
    "duration": 37,
    "start_time": "2022-06-04T11:13:23.963Z"
   },
   {
    "duration": 19,
    "start_time": "2022-06-04T11:13:24.002Z"
   },
   {
    "duration": 52,
    "start_time": "2022-06-04T11:13:24.023Z"
   },
   {
    "duration": 42,
    "start_time": "2022-06-04T11:13:24.077Z"
   },
   {
    "duration": 10,
    "start_time": "2022-06-04T11:13:24.122Z"
   },
   {
    "duration": 54,
    "start_time": "2022-06-04T11:13:24.134Z"
   },
   {
    "duration": 9,
    "start_time": "2022-06-04T11:13:24.190Z"
   },
   {
    "duration": 11,
    "start_time": "2022-06-04T11:13:24.201Z"
   },
   {
    "duration": 24,
    "start_time": "2022-06-04T11:13:24.214Z"
   },
   {
    "duration": 73,
    "start_time": "2022-06-04T11:13:24.240Z"
   },
   {
    "duration": 2,
    "start_time": "2022-06-04T11:13:24.316Z"
   },
   {
    "duration": 19,
    "start_time": "2022-06-04T11:13:24.320Z"
   },
   {
    "duration": 68,
    "start_time": "2022-06-04T11:13:24.340Z"
   },
   {
    "duration": 26,
    "start_time": "2022-06-04T11:13:24.410Z"
   },
   {
    "duration": 97,
    "start_time": "2022-06-04T11:13:24.438Z"
   },
   {
    "duration": 90,
    "start_time": "2022-06-04T11:13:24.537Z"
   },
   {
    "duration": 135,
    "start_time": "2022-06-04T11:13:24.629Z"
   },
   {
    "duration": 59,
    "start_time": "2022-06-04T11:13:24.773Z"
   },
   {
    "duration": 69,
    "start_time": "2022-06-04T11:13:24.834Z"
   },
   {
    "duration": 27,
    "start_time": "2022-06-04T11:13:24.905Z"
   },
   {
    "duration": 125,
    "start_time": "2022-06-04T11:13:24.934Z"
   },
   {
    "duration": 45,
    "start_time": "2022-06-04T11:13:25.061Z"
   },
   {
    "duration": 61,
    "start_time": "2022-06-04T11:13:25.109Z"
   },
   {
    "duration": 87,
    "start_time": "2022-06-04T11:13:25.172Z"
   },
   {
    "duration": 54,
    "start_time": "2022-06-04T11:13:25.261Z"
   },
   {
    "duration": 42,
    "start_time": "2022-06-04T11:13:25.317Z"
   },
   {
    "duration": 35,
    "start_time": "2022-06-04T11:13:25.361Z"
   },
   {
    "duration": 209,
    "start_time": "2022-06-04T11:13:25.398Z"
   },
   {
    "duration": 11,
    "start_time": "2022-06-04T11:13:25.609Z"
   },
   {
    "duration": 17,
    "start_time": "2022-06-04T11:13:25.621Z"
   },
   {
    "duration": 60,
    "start_time": "2022-06-04T11:13:25.640Z"
   },
   {
    "duration": 36,
    "start_time": "2022-06-04T11:13:25.702Z"
   },
   {
    "duration": 270,
    "start_time": "2022-06-04T11:13:25.742Z"
   },
   {
    "duration": 299,
    "start_time": "2022-06-04T11:13:26.014Z"
   },
   {
    "duration": 28,
    "start_time": "2022-06-04T11:13:26.315Z"
   },
   {
    "duration": 391,
    "start_time": "2022-06-04T11:13:26.346Z"
   },
   {
    "duration": 297,
    "start_time": "2022-06-04T11:13:26.738Z"
   },
   {
    "duration": 22,
    "start_time": "2022-06-04T11:13:27.036Z"
   },
   {
    "duration": 264,
    "start_time": "2022-06-04T11:13:27.061Z"
   },
   {
    "duration": 284,
    "start_time": "2022-06-04T11:13:27.327Z"
   },
   {
    "duration": 13,
    "start_time": "2022-06-04T11:13:27.618Z"
   },
   {
    "duration": 430,
    "start_time": "2022-06-04T11:13:27.634Z"
   },
   {
    "duration": 247,
    "start_time": "2022-06-04T11:13:28.066Z"
   },
   {
    "duration": 15,
    "start_time": "2022-06-04T11:13:28.314Z"
   },
   {
    "duration": 309,
    "start_time": "2022-06-04T11:13:28.334Z"
   },
   {
    "duration": 283,
    "start_time": "2022-06-04T11:13:28.648Z"
   },
   {
    "duration": 8,
    "start_time": "2022-06-04T11:13:28.932Z"
   },
   {
    "duration": 61,
    "start_time": "2022-06-04T11:13:28.942Z"
   },
   {
    "duration": 35,
    "start_time": "2022-06-04T11:13:29.005Z"
   },
   {
    "duration": 40,
    "start_time": "2022-06-04T11:13:29.042Z"
   },
   {
    "duration": 28,
    "start_time": "2022-06-04T11:13:29.084Z"
   },
   {
    "duration": 216,
    "start_time": "2022-06-04T11:13:29.114Z"
   },
   {
    "duration": 235,
    "start_time": "2022-06-04T11:13:29.338Z"
   },
   {
    "duration": 27,
    "start_time": "2022-06-04T11:13:29.579Z"
   },
   {
    "duration": 26,
    "start_time": "2022-06-04T11:13:29.608Z"
   },
   {
    "duration": 797,
    "start_time": "2022-06-04T11:19:31.516Z"
   },
   {
    "duration": 118,
    "start_time": "2022-06-04T11:19:32.315Z"
   },
   {
    "duration": 19,
    "start_time": "2022-06-04T11:19:32.435Z"
   },
   {
    "duration": 32,
    "start_time": "2022-06-04T11:19:32.456Z"
   },
   {
    "duration": 62,
    "start_time": "2022-06-04T11:19:32.491Z"
   },
   {
    "duration": 10,
    "start_time": "2022-06-04T11:19:32.555Z"
   },
   {
    "duration": 44,
    "start_time": "2022-06-04T11:19:32.566Z"
   },
   {
    "duration": 29,
    "start_time": "2022-06-04T11:19:32.613Z"
   },
   {
    "duration": 27,
    "start_time": "2022-06-04T11:19:32.646Z"
   },
   {
    "duration": 9,
    "start_time": "2022-06-04T11:19:32.675Z"
   },
   {
    "duration": 16,
    "start_time": "2022-06-04T11:19:32.685Z"
   },
   {
    "duration": 12,
    "start_time": "2022-06-04T11:19:32.703Z"
   },
   {
    "duration": 30,
    "start_time": "2022-06-04T11:19:32.717Z"
   },
   {
    "duration": 14,
    "start_time": "2022-06-04T11:19:32.752Z"
   },
   {
    "duration": 30,
    "start_time": "2022-06-04T11:19:32.768Z"
   },
   {
    "duration": 8,
    "start_time": "2022-06-04T11:19:32.800Z"
   },
   {
    "duration": 32,
    "start_time": "2022-06-04T11:19:32.810Z"
   },
   {
    "duration": 7,
    "start_time": "2022-06-04T11:19:32.846Z"
   },
   {
    "duration": 17,
    "start_time": "2022-06-04T11:19:32.857Z"
   },
   {
    "duration": 7,
    "start_time": "2022-06-04T11:19:32.876Z"
   },
   {
    "duration": 8,
    "start_time": "2022-06-04T11:19:32.885Z"
   },
   {
    "duration": 34,
    "start_time": "2022-06-04T11:19:32.895Z"
   },
   {
    "duration": 23,
    "start_time": "2022-06-04T11:19:32.931Z"
   },
   {
    "duration": 28,
    "start_time": "2022-06-04T11:19:32.955Z"
   },
   {
    "duration": 26,
    "start_time": "2022-06-04T11:19:32.985Z"
   },
   {
    "duration": 41,
    "start_time": "2022-06-04T11:19:33.013Z"
   },
   {
    "duration": 29,
    "start_time": "2022-06-04T11:19:33.059Z"
   },
   {
    "duration": 20,
    "start_time": "2022-06-04T11:19:33.090Z"
   },
   {
    "duration": 7,
    "start_time": "2022-06-04T11:19:33.113Z"
   },
   {
    "duration": 6,
    "start_time": "2022-06-04T11:19:33.122Z"
   },
   {
    "duration": 8,
    "start_time": "2022-06-04T11:19:33.133Z"
   },
   {
    "duration": 28,
    "start_time": "2022-06-04T11:19:33.146Z"
   },
   {
    "duration": 18,
    "start_time": "2022-06-04T11:19:33.176Z"
   },
   {
    "duration": 2,
    "start_time": "2022-06-04T11:19:33.196Z"
   },
   {
    "duration": 24,
    "start_time": "2022-06-04T11:19:33.200Z"
   },
   {
    "duration": 27,
    "start_time": "2022-06-04T11:19:33.226Z"
   },
   {
    "duration": 31,
    "start_time": "2022-06-04T11:19:33.254Z"
   },
   {
    "duration": 17,
    "start_time": "2022-06-04T11:19:33.287Z"
   },
   {
    "duration": 34,
    "start_time": "2022-06-04T11:19:33.306Z"
   },
   {
    "duration": 44,
    "start_time": "2022-06-04T11:19:33.341Z"
   },
   {
    "duration": 22,
    "start_time": "2022-06-04T11:19:33.391Z"
   },
   {
    "duration": 11,
    "start_time": "2022-06-04T11:19:33.429Z"
   },
   {
    "duration": 28,
    "start_time": "2022-06-04T11:19:33.441Z"
   },
   {
    "duration": 8,
    "start_time": "2022-06-04T11:19:33.471Z"
   },
   {
    "duration": 14,
    "start_time": "2022-06-04T11:19:33.481Z"
   },
   {
    "duration": 43,
    "start_time": "2022-06-04T11:19:33.497Z"
   },
   {
    "duration": 32,
    "start_time": "2022-06-04T11:19:33.548Z"
   },
   {
    "duration": 19,
    "start_time": "2022-06-04T11:19:33.582Z"
   },
   {
    "duration": 56,
    "start_time": "2022-06-04T11:19:33.602Z"
   },
   {
    "duration": 22,
    "start_time": "2022-06-04T11:19:33.660Z"
   },
   {
    "duration": 201,
    "start_time": "2022-06-04T11:19:33.684Z"
   },
   {
    "duration": 12,
    "start_time": "2022-06-04T11:19:33.887Z"
   },
   {
    "duration": 10,
    "start_time": "2022-06-04T11:19:33.901Z"
   },
   {
    "duration": 64,
    "start_time": "2022-06-04T11:19:33.913Z"
   },
   {
    "duration": 28,
    "start_time": "2022-06-04T11:19:33.979Z"
   },
   {
    "duration": 195,
    "start_time": "2022-06-04T11:19:34.009Z"
   },
   {
    "duration": 279,
    "start_time": "2022-06-04T11:19:34.206Z"
   },
   {
    "duration": 19,
    "start_time": "2022-06-04T11:19:34.490Z"
   },
   {
    "duration": 278,
    "start_time": "2022-06-04T11:19:34.511Z"
   },
   {
    "duration": 281,
    "start_time": "2022-06-04T11:19:34.791Z"
   },
   {
    "duration": 17,
    "start_time": "2022-06-04T11:19:35.075Z"
   },
   {
    "duration": 216,
    "start_time": "2022-06-04T11:19:35.093Z"
   },
   {
    "duration": 209,
    "start_time": "2022-06-04T11:19:35.310Z"
   },
   {
    "duration": 16,
    "start_time": "2022-06-04T11:19:35.520Z"
   },
   {
    "duration": 317,
    "start_time": "2022-06-04T11:19:35.541Z"
   },
   {
    "duration": 202,
    "start_time": "2022-06-04T11:19:35.860Z"
   },
   {
    "duration": 14,
    "start_time": "2022-06-04T11:19:36.064Z"
   },
   {
    "duration": 197,
    "start_time": "2022-06-04T11:19:36.080Z"
   },
   {
    "duration": 218,
    "start_time": "2022-06-04T11:19:36.279Z"
   },
   {
    "duration": 10,
    "start_time": "2022-06-04T11:19:36.499Z"
   },
   {
    "duration": 44,
    "start_time": "2022-06-04T11:19:36.511Z"
   },
   {
    "duration": 30,
    "start_time": "2022-06-04T11:19:36.557Z"
   },
   {
    "duration": 35,
    "start_time": "2022-06-04T11:19:36.589Z"
   },
   {
    "duration": 13,
    "start_time": "2022-06-04T11:19:36.626Z"
   },
   {
    "duration": 217,
    "start_time": "2022-06-04T11:19:36.641Z"
   },
   {
    "duration": 243,
    "start_time": "2022-06-04T11:19:36.860Z"
   },
   {
    "duration": 32,
    "start_time": "2022-06-04T11:19:37.105Z"
   },
   {
    "duration": 34,
    "start_time": "2022-06-04T11:19:37.142Z"
   },
   {
    "duration": 833,
    "start_time": "2022-06-04T11:43:51.252Z"
   },
   {
    "duration": 111,
    "start_time": "2022-06-04T11:43:52.087Z"
   },
   {
    "duration": 14,
    "start_time": "2022-06-04T11:43:52.200Z"
   },
   {
    "duration": 19,
    "start_time": "2022-06-04T11:43:52.216Z"
   },
   {
    "duration": 64,
    "start_time": "2022-06-04T11:43:52.237Z"
   },
   {
    "duration": 10,
    "start_time": "2022-06-04T11:43:52.302Z"
   },
   {
    "duration": 22,
    "start_time": "2022-06-04T11:43:52.314Z"
   },
   {
    "duration": 32,
    "start_time": "2022-06-04T11:43:52.337Z"
   },
   {
    "duration": 15,
    "start_time": "2022-06-04T11:43:52.371Z"
   },
   {
    "duration": 10,
    "start_time": "2022-06-04T11:43:52.389Z"
   },
   {
    "duration": 9,
    "start_time": "2022-06-04T11:43:52.401Z"
   },
   {
    "duration": 29,
    "start_time": "2022-06-04T11:43:52.412Z"
   },
   {
    "duration": 24,
    "start_time": "2022-06-04T11:43:52.443Z"
   },
   {
    "duration": 7,
    "start_time": "2022-06-04T11:43:52.469Z"
   },
   {
    "duration": 42,
    "start_time": "2022-06-04T11:43:52.477Z"
   },
   {
    "duration": 8,
    "start_time": "2022-06-04T11:43:52.520Z"
   },
   {
    "duration": 49,
    "start_time": "2022-06-04T11:43:52.534Z"
   },
   {
    "duration": 5,
    "start_time": "2022-06-04T11:43:52.584Z"
   },
   {
    "duration": 14,
    "start_time": "2022-06-04T11:43:52.591Z"
   },
   {
    "duration": 5,
    "start_time": "2022-06-04T11:43:52.606Z"
   },
   {
    "duration": 9,
    "start_time": "2022-06-04T11:43:52.612Z"
   },
   {
    "duration": 34,
    "start_time": "2022-06-04T11:43:52.623Z"
   },
   {
    "duration": 30,
    "start_time": "2022-06-04T11:43:52.659Z"
   },
   {
    "duration": 20,
    "start_time": "2022-06-04T11:43:52.691Z"
   },
   {
    "duration": 57,
    "start_time": "2022-06-04T11:43:52.713Z"
   },
   {
    "duration": 27,
    "start_time": "2022-06-04T11:43:52.772Z"
   },
   {
    "duration": 31,
    "start_time": "2022-06-04T11:43:52.800Z"
   },
   {
    "duration": 20,
    "start_time": "2022-06-04T11:43:52.839Z"
   },
   {
    "duration": 17,
    "start_time": "2022-06-04T11:43:52.861Z"
   },
   {
    "duration": 15,
    "start_time": "2022-06-04T11:43:52.880Z"
   },
   {
    "duration": 22,
    "start_time": "2022-06-04T11:43:52.897Z"
   },
   {
    "duration": 21,
    "start_time": "2022-06-04T11:43:52.921Z"
   },
   {
    "duration": 28,
    "start_time": "2022-06-04T11:43:52.948Z"
   },
   {
    "duration": 3,
    "start_time": "2022-06-04T11:43:52.978Z"
   },
   {
    "duration": 17,
    "start_time": "2022-06-04T11:43:52.983Z"
   },
   {
    "duration": 14,
    "start_time": "2022-06-04T11:43:53.002Z"
   },
   {
    "duration": 35,
    "start_time": "2022-06-04T11:43:53.030Z"
   },
   {
    "duration": 24,
    "start_time": "2022-06-04T11:43:53.067Z"
   },
   {
    "duration": 50,
    "start_time": "2022-06-04T11:43:53.093Z"
   },
   {
    "duration": 41,
    "start_time": "2022-06-04T11:43:53.145Z"
   },
   {
    "duration": 20,
    "start_time": "2022-06-04T11:43:53.187Z"
   },
   {
    "duration": 26,
    "start_time": "2022-06-04T11:43:53.209Z"
   },
   {
    "duration": 24,
    "start_time": "2022-06-04T11:43:53.237Z"
   },
   {
    "duration": 7,
    "start_time": "2022-06-04T11:43:53.262Z"
   },
   {
    "duration": 11,
    "start_time": "2022-06-04T11:43:53.270Z"
   },
   {
    "duration": 27,
    "start_time": "2022-06-04T11:43:53.283Z"
   },
   {
    "duration": 45,
    "start_time": "2022-06-04T11:43:53.312Z"
   },
   {
    "duration": 19,
    "start_time": "2022-06-04T11:43:53.358Z"
   },
   {
    "duration": 56,
    "start_time": "2022-06-04T11:43:53.378Z"
   },
   {
    "duration": 33,
    "start_time": "2022-06-04T11:43:53.436Z"
   },
   {
    "duration": 189,
    "start_time": "2022-06-04T11:43:53.471Z"
   },
   {
    "duration": 13,
    "start_time": "2022-06-04T11:43:53.662Z"
   },
   {
    "duration": 12,
    "start_time": "2022-06-04T11:43:53.676Z"
   },
   {
    "duration": 64,
    "start_time": "2022-06-04T11:43:53.691Z"
   },
   {
    "duration": 31,
    "start_time": "2022-06-04T11:43:53.757Z"
   },
   {
    "duration": 218,
    "start_time": "2022-06-04T11:43:53.790Z"
   },
   {
    "duration": 237,
    "start_time": "2022-06-04T11:43:54.011Z"
   },
   {
    "duration": 15,
    "start_time": "2022-06-04T11:43:54.250Z"
   },
   {
    "duration": 246,
    "start_time": "2022-06-04T11:43:54.267Z"
   },
   {
    "duration": 285,
    "start_time": "2022-06-04T11:43:54.515Z"
   },
   {
    "duration": 33,
    "start_time": "2022-06-04T11:43:54.802Z"
   },
   {
    "duration": 231,
    "start_time": "2022-06-04T11:43:54.837Z"
   },
   {
    "duration": 233,
    "start_time": "2022-06-04T11:43:55.070Z"
   },
   {
    "duration": 8,
    "start_time": "2022-06-04T11:43:55.305Z"
   },
   {
    "duration": 302,
    "start_time": "2022-06-04T11:43:55.315Z"
   },
   {
    "duration": 229,
    "start_time": "2022-06-04T11:43:55.619Z"
   },
   {
    "duration": 15,
    "start_time": "2022-06-04T11:43:55.851Z"
   },
   {
    "duration": 271,
    "start_time": "2022-06-04T11:43:55.868Z"
   },
   {
    "duration": 239,
    "start_time": "2022-06-04T11:43:56.145Z"
   },
   {
    "duration": 7,
    "start_time": "2022-06-04T11:43:56.385Z"
   },
   {
    "duration": 28,
    "start_time": "2022-06-04T11:43:56.394Z"
   },
   {
    "duration": 38,
    "start_time": "2022-06-04T11:43:56.424Z"
   },
   {
    "duration": 14,
    "start_time": "2022-06-04T11:43:56.464Z"
   },
   {
    "duration": 11,
    "start_time": "2022-06-04T11:43:56.480Z"
   },
   {
    "duration": 195,
    "start_time": "2022-06-04T11:43:56.493Z"
   },
   {
    "duration": 201,
    "start_time": "2022-06-04T11:43:56.689Z"
   },
   {
    "duration": 20,
    "start_time": "2022-06-04T11:43:56.892Z"
   },
   {
    "duration": 67,
    "start_time": "2022-06-04T11:43:56.913Z"
   },
   {
    "duration": 1128,
    "start_time": "2022-06-04T18:24:28.949Z"
   },
   {
    "duration": 382,
    "start_time": "2022-06-04T18:24:30.080Z"
   },
   {
    "duration": 21,
    "start_time": "2022-06-04T18:24:30.464Z"
   },
   {
    "duration": 20,
    "start_time": "2022-06-04T18:24:30.488Z"
   },
   {
    "duration": 137,
    "start_time": "2022-06-04T18:24:30.519Z"
   },
   {
    "duration": 12,
    "start_time": "2022-06-04T18:24:30.658Z"
   },
   {
    "duration": 41,
    "start_time": "2022-06-04T18:24:30.673Z"
   },
   {
    "duration": 32,
    "start_time": "2022-06-04T18:24:30.719Z"
   },
   {
    "duration": 25,
    "start_time": "2022-06-04T18:24:30.753Z"
   },
   {
    "duration": 15,
    "start_time": "2022-06-04T18:24:30.783Z"
   },
   {
    "duration": 62,
    "start_time": "2022-06-04T18:24:30.801Z"
   },
   {
    "duration": 29,
    "start_time": "2022-06-04T18:24:30.865Z"
   },
   {
    "duration": 60,
    "start_time": "2022-06-04T18:24:30.900Z"
   },
   {
    "duration": 6,
    "start_time": "2022-06-04T18:24:30.962Z"
   },
   {
    "duration": 33,
    "start_time": "2022-06-04T18:24:30.970Z"
   },
   {
    "duration": 38,
    "start_time": "2022-06-04T18:24:31.007Z"
   },
   {
    "duration": 34,
    "start_time": "2022-06-04T18:24:31.048Z"
   },
   {
    "duration": 5,
    "start_time": "2022-06-04T18:24:31.083Z"
   },
   {
    "duration": 20,
    "start_time": "2022-06-04T18:24:31.097Z"
   },
   {
    "duration": 22,
    "start_time": "2022-06-04T18:24:31.119Z"
   },
   {
    "duration": 13,
    "start_time": "2022-06-04T18:24:31.143Z"
   },
   {
    "duration": 46,
    "start_time": "2022-06-04T18:24:31.158Z"
   },
   {
    "duration": 40,
    "start_time": "2022-06-04T18:24:31.206Z"
   },
   {
    "duration": 38,
    "start_time": "2022-06-04T18:24:31.248Z"
   },
   {
    "duration": 69,
    "start_time": "2022-06-04T18:24:31.289Z"
   },
   {
    "duration": 21,
    "start_time": "2022-06-04T18:24:31.360Z"
   },
   {
    "duration": 82,
    "start_time": "2022-06-04T18:24:31.383Z"
   },
   {
    "duration": 18,
    "start_time": "2022-06-04T18:24:31.472Z"
   },
   {
    "duration": 39,
    "start_time": "2022-06-04T18:24:31.492Z"
   },
   {
    "duration": 13,
    "start_time": "2022-06-04T18:24:31.533Z"
   },
   {
    "duration": 14,
    "start_time": "2022-06-04T18:24:31.548Z"
   },
   {
    "duration": 37,
    "start_time": "2022-06-04T18:24:31.564Z"
   },
   {
    "duration": 44,
    "start_time": "2022-06-04T18:24:31.605Z"
   },
   {
    "duration": 3,
    "start_time": "2022-06-04T18:24:31.651Z"
   },
   {
    "duration": 39,
    "start_time": "2022-06-04T18:24:31.656Z"
   },
   {
    "duration": 38,
    "start_time": "2022-06-04T18:24:31.702Z"
   },
   {
    "duration": 31,
    "start_time": "2022-06-04T18:24:31.741Z"
   },
   {
    "duration": 35,
    "start_time": "2022-06-04T18:24:31.774Z"
   },
   {
    "duration": 70,
    "start_time": "2022-06-04T18:24:31.811Z"
   },
   {
    "duration": 61,
    "start_time": "2022-06-04T18:24:31.883Z"
   },
   {
    "duration": 31,
    "start_time": "2022-06-04T18:24:31.946Z"
   },
   {
    "duration": 11,
    "start_time": "2022-06-04T18:24:31.979Z"
   },
   {
    "duration": 65,
    "start_time": "2022-06-04T18:24:31.992Z"
   },
   {
    "duration": 20,
    "start_time": "2022-06-04T18:24:32.060Z"
   },
   {
    "duration": 51,
    "start_time": "2022-06-04T18:24:32.082Z"
   },
   {
    "duration": 50,
    "start_time": "2022-06-04T18:24:32.134Z"
   },
   {
    "duration": 63,
    "start_time": "2022-06-04T18:24:32.186Z"
   },
   {
    "duration": 32,
    "start_time": "2022-06-04T18:24:32.251Z"
   },
   {
    "duration": 91,
    "start_time": "2022-06-04T18:24:32.285Z"
   },
   {
    "duration": 26,
    "start_time": "2022-06-04T18:24:32.378Z"
   },
   {
    "duration": 262,
    "start_time": "2022-06-04T18:24:32.406Z"
   },
   {
    "duration": 27,
    "start_time": "2022-06-04T18:24:32.670Z"
   },
   {
    "duration": 41,
    "start_time": "2022-06-04T18:24:32.699Z"
   },
   {
    "duration": 36,
    "start_time": "2022-06-04T18:24:32.742Z"
   },
   {
    "duration": 41,
    "start_time": "2022-06-04T18:24:32.780Z"
   },
   {
    "duration": 252,
    "start_time": "2022-06-04T18:24:32.823Z"
   },
   {
    "duration": 296,
    "start_time": "2022-06-04T18:24:33.077Z"
   },
   {
    "duration": 29,
    "start_time": "2022-06-04T18:24:33.376Z"
   },
   {
    "duration": 281,
    "start_time": "2022-06-04T18:24:33.407Z"
   },
   {
    "duration": 289,
    "start_time": "2022-06-04T18:24:33.695Z"
   },
   {
    "duration": 43,
    "start_time": "2022-06-04T18:24:33.986Z"
   },
   {
    "duration": 247,
    "start_time": "2022-06-04T18:24:34.034Z"
   },
   {
    "duration": 281,
    "start_time": "2022-06-04T18:24:34.283Z"
   },
   {
    "duration": 8,
    "start_time": "2022-06-04T18:24:34.567Z"
   },
   {
    "duration": 348,
    "start_time": "2022-06-04T18:24:34.591Z"
   },
   {
    "duration": 282,
    "start_time": "2022-06-04T18:24:34.941Z"
   },
   {
    "duration": 22,
    "start_time": "2022-06-04T18:24:35.227Z"
   },
   {
    "duration": 299,
    "start_time": "2022-06-04T18:24:35.252Z"
   },
   {
    "duration": 297,
    "start_time": "2022-06-04T18:24:35.553Z"
   },
   {
    "duration": 8,
    "start_time": "2022-06-04T18:24:35.852Z"
   },
   {
    "duration": 65,
    "start_time": "2022-06-04T18:24:35.862Z"
   },
   {
    "duration": 28,
    "start_time": "2022-06-04T18:24:35.932Z"
   },
   {
    "duration": 20,
    "start_time": "2022-06-04T18:24:35.962Z"
   },
   {
    "duration": 25,
    "start_time": "2022-06-04T18:24:35.984Z"
   },
   {
    "duration": 220,
    "start_time": "2022-06-04T18:24:36.013Z"
   },
   {
    "duration": 273,
    "start_time": "2022-06-04T18:24:36.235Z"
   },
   {
    "duration": 26,
    "start_time": "2022-06-04T18:24:36.514Z"
   },
   {
    "duration": 30,
    "start_time": "2022-06-04T18:24:36.542Z"
   },
   {
    "duration": 7,
    "start_time": "2022-06-04T18:25:03.249Z"
   },
   {
    "duration": 7,
    "start_time": "2022-06-04T18:31:30.516Z"
   },
   {
    "duration": 40,
    "start_time": "2022-06-04T18:36:12.333Z"
   },
   {
    "duration": 796,
    "start_time": "2022-06-05T12:28:15.158Z"
   },
   {
    "duration": 219,
    "start_time": "2022-06-05T12:28:15.956Z"
   },
   {
    "duration": 14,
    "start_time": "2022-06-05T12:28:16.177Z"
   },
   {
    "duration": 10,
    "start_time": "2022-06-05T12:28:16.193Z"
   },
   {
    "duration": 129,
    "start_time": "2022-06-05T12:28:16.205Z"
   },
   {
    "duration": 10,
    "start_time": "2022-06-05T12:28:16.336Z"
   },
   {
    "duration": 15,
    "start_time": "2022-06-05T12:28:16.348Z"
   },
   {
    "duration": 17,
    "start_time": "2022-06-05T12:28:16.364Z"
   },
   {
    "duration": 15,
    "start_time": "2022-06-05T12:28:16.383Z"
   },
   {
    "duration": 12,
    "start_time": "2022-06-05T12:28:16.424Z"
   },
   {
    "duration": 8,
    "start_time": "2022-06-05T12:28:16.437Z"
   },
   {
    "duration": 7,
    "start_time": "2022-06-05T12:28:16.447Z"
   },
   {
    "duration": 15,
    "start_time": "2022-06-05T12:28:16.455Z"
   },
   {
    "duration": 7,
    "start_time": "2022-06-05T12:28:16.471Z"
   },
   {
    "duration": 55,
    "start_time": "2022-06-05T12:28:16.479Z"
   },
   {
    "duration": 9,
    "start_time": "2022-06-05T12:28:16.536Z"
   },
   {
    "duration": 86,
    "start_time": "2022-06-05T12:28:30.955Z"
   },
   {
    "duration": 5,
    "start_time": "2022-06-05T12:28:38.015Z"
   },
   {
    "duration": 16,
    "start_time": "2022-06-05T12:29:17.257Z"
   },
   {
    "duration": 34,
    "start_time": "2022-06-05T12:30:15.587Z"
   },
   {
    "duration": 33,
    "start_time": "2022-06-05T12:32:00.818Z"
   },
   {
    "duration": 39,
    "start_time": "2022-06-05T12:32:07.957Z"
   },
   {
    "duration": 60,
    "start_time": "2022-06-05T12:32:15.210Z"
   },
   {
    "duration": 5,
    "start_time": "2022-06-05T12:32:20.468Z"
   },
   {
    "duration": 17,
    "start_time": "2022-06-05T12:32:37.665Z"
   },
   {
    "duration": 24,
    "start_time": "2022-06-05T12:32:56.389Z"
   },
   {
    "duration": 26,
    "start_time": "2022-06-05T12:33:19.595Z"
   },
   {
    "duration": 23,
    "start_time": "2022-06-05T12:33:28.395Z"
   },
   {
    "duration": 19,
    "start_time": "2022-06-05T12:33:41.336Z"
   },
   {
    "duration": 13,
    "start_time": "2022-06-05T12:33:42.691Z"
   },
   {
    "duration": 17,
    "start_time": "2022-06-05T12:34:02.683Z"
   },
   {
    "duration": 4,
    "start_time": "2022-06-05T12:34:13.453Z"
   },
   {
    "duration": 142,
    "start_time": "2022-06-05T12:34:13.460Z"
   },
   {
    "duration": 50,
    "start_time": "2022-06-05T12:34:13.604Z"
   },
   {
    "duration": 12,
    "start_time": "2022-06-05T12:34:13.657Z"
   },
   {
    "duration": 70,
    "start_time": "2022-06-05T12:34:13.672Z"
   },
   {
    "duration": 13,
    "start_time": "2022-06-05T12:34:13.744Z"
   },
   {
    "duration": 21,
    "start_time": "2022-06-05T12:34:13.759Z"
   },
   {
    "duration": 25,
    "start_time": "2022-06-05T12:34:13.782Z"
   },
   {
    "duration": 45,
    "start_time": "2022-06-05T12:34:13.809Z"
   },
   {
    "duration": 12,
    "start_time": "2022-06-05T12:34:13.856Z"
   },
   {
    "duration": 9,
    "start_time": "2022-06-05T12:34:13.871Z"
   },
   {
    "duration": 7,
    "start_time": "2022-06-05T12:34:13.882Z"
   },
   {
    "duration": 52,
    "start_time": "2022-06-05T12:34:13.892Z"
   },
   {
    "duration": 9,
    "start_time": "2022-06-05T12:34:13.955Z"
   },
   {
    "duration": 34,
    "start_time": "2022-06-05T12:34:13.966Z"
   },
   {
    "duration": 10,
    "start_time": "2022-06-05T12:34:14.002Z"
   },
   {
    "duration": 21,
    "start_time": "2022-06-05T12:34:14.014Z"
   },
   {
    "duration": 0,
    "start_time": "2022-06-05T12:34:14.047Z"
   },
   {
    "duration": 0,
    "start_time": "2022-06-05T12:34:14.048Z"
   },
   {
    "duration": 0,
    "start_time": "2022-06-05T12:34:14.049Z"
   },
   {
    "duration": 0,
    "start_time": "2022-06-05T12:34:14.051Z"
   },
   {
    "duration": 0,
    "start_time": "2022-06-05T12:34:14.052Z"
   },
   {
    "duration": 0,
    "start_time": "2022-06-05T12:34:14.058Z"
   },
   {
    "duration": 0,
    "start_time": "2022-06-05T12:34:14.059Z"
   },
   {
    "duration": 0,
    "start_time": "2022-06-05T12:34:14.061Z"
   },
   {
    "duration": 0,
    "start_time": "2022-06-05T12:34:14.062Z"
   },
   {
    "duration": 0,
    "start_time": "2022-06-05T12:34:14.064Z"
   },
   {
    "duration": 0,
    "start_time": "2022-06-05T12:34:14.065Z"
   },
   {
    "duration": 0,
    "start_time": "2022-06-05T12:34:14.069Z"
   },
   {
    "duration": 0,
    "start_time": "2022-06-05T12:34:14.070Z"
   },
   {
    "duration": 0,
    "start_time": "2022-06-05T12:34:14.071Z"
   },
   {
    "duration": 0,
    "start_time": "2022-06-05T12:34:14.073Z"
   },
   {
    "duration": 0,
    "start_time": "2022-06-05T12:34:14.075Z"
   },
   {
    "duration": 0,
    "start_time": "2022-06-05T12:34:14.076Z"
   },
   {
    "duration": 0,
    "start_time": "2022-06-05T12:34:14.078Z"
   },
   {
    "duration": 0,
    "start_time": "2022-06-05T12:34:14.079Z"
   },
   {
    "duration": 0,
    "start_time": "2022-06-05T12:34:14.081Z"
   },
   {
    "duration": 1,
    "start_time": "2022-06-05T12:34:14.082Z"
   },
   {
    "duration": 0,
    "start_time": "2022-06-05T12:34:14.084Z"
   },
   {
    "duration": 0,
    "start_time": "2022-06-05T12:34:14.086Z"
   },
   {
    "duration": 0,
    "start_time": "2022-06-05T12:34:14.087Z"
   },
   {
    "duration": 0,
    "start_time": "2022-06-05T12:34:14.089Z"
   },
   {
    "duration": 0,
    "start_time": "2022-06-05T12:34:14.091Z"
   },
   {
    "duration": 0,
    "start_time": "2022-06-05T12:34:14.092Z"
   },
   {
    "duration": 0,
    "start_time": "2022-06-05T12:34:14.094Z"
   },
   {
    "duration": 0,
    "start_time": "2022-06-05T12:34:14.123Z"
   },
   {
    "duration": 0,
    "start_time": "2022-06-05T12:34:14.124Z"
   },
   {
    "duration": 0,
    "start_time": "2022-06-05T12:34:14.131Z"
   },
   {
    "duration": 0,
    "start_time": "2022-06-05T12:34:14.132Z"
   },
   {
    "duration": 0,
    "start_time": "2022-06-05T12:34:14.133Z"
   },
   {
    "duration": 0,
    "start_time": "2022-06-05T12:34:14.135Z"
   },
   {
    "duration": 0,
    "start_time": "2022-06-05T12:34:14.136Z"
   },
   {
    "duration": 0,
    "start_time": "2022-06-05T12:34:14.137Z"
   },
   {
    "duration": 0,
    "start_time": "2022-06-05T12:34:14.142Z"
   },
   {
    "duration": 0,
    "start_time": "2022-06-05T12:34:14.144Z"
   },
   {
    "duration": 0,
    "start_time": "2022-06-05T12:34:14.145Z"
   },
   {
    "duration": 0,
    "start_time": "2022-06-05T12:34:14.146Z"
   },
   {
    "duration": 0,
    "start_time": "2022-06-05T12:34:14.147Z"
   },
   {
    "duration": 0,
    "start_time": "2022-06-05T12:34:14.148Z"
   },
   {
    "duration": 0,
    "start_time": "2022-06-05T12:34:14.154Z"
   },
   {
    "duration": 0,
    "start_time": "2022-06-05T12:34:14.155Z"
   },
   {
    "duration": 0,
    "start_time": "2022-06-05T12:34:14.156Z"
   },
   {
    "duration": 0,
    "start_time": "2022-06-05T12:34:14.157Z"
   },
   {
    "duration": 0,
    "start_time": "2022-06-05T12:34:14.159Z"
   },
   {
    "duration": 0,
    "start_time": "2022-06-05T12:34:14.160Z"
   },
   {
    "duration": 0,
    "start_time": "2022-06-05T12:34:14.161Z"
   },
   {
    "duration": 0,
    "start_time": "2022-06-05T12:34:14.163Z"
   },
   {
    "duration": 1,
    "start_time": "2022-06-05T12:34:14.164Z"
   },
   {
    "duration": 0,
    "start_time": "2022-06-05T12:34:14.166Z"
   },
   {
    "duration": 0,
    "start_time": "2022-06-05T12:34:14.167Z"
   },
   {
    "duration": 0,
    "start_time": "2022-06-05T12:34:14.169Z"
   },
   {
    "duration": 0,
    "start_time": "2022-06-05T12:34:14.172Z"
   },
   {
    "duration": 0,
    "start_time": "2022-06-05T12:34:14.173Z"
   },
   {
    "duration": 0,
    "start_time": "2022-06-05T12:34:14.174Z"
   },
   {
    "duration": 0,
    "start_time": "2022-06-05T12:34:14.175Z"
   },
   {
    "duration": 0,
    "start_time": "2022-06-05T12:34:14.177Z"
   },
   {
    "duration": 0,
    "start_time": "2022-06-05T12:34:14.181Z"
   },
   {
    "duration": 0,
    "start_time": "2022-06-05T12:34:14.182Z"
   },
   {
    "duration": 0,
    "start_time": "2022-06-05T12:34:14.183Z"
   },
   {
    "duration": 0,
    "start_time": "2022-06-05T12:34:14.185Z"
   },
   {
    "duration": 0,
    "start_time": "2022-06-05T12:34:14.186Z"
   },
   {
    "duration": 4,
    "start_time": "2022-06-05T12:34:30.702Z"
   },
   {
    "duration": 143,
    "start_time": "2022-06-05T12:34:30.713Z"
   },
   {
    "duration": 21,
    "start_time": "2022-06-05T12:34:30.858Z"
   },
   {
    "duration": 54,
    "start_time": "2022-06-05T12:34:30.881Z"
   },
   {
    "duration": 88,
    "start_time": "2022-06-05T12:34:30.938Z"
   },
   {
    "duration": 23,
    "start_time": "2022-06-05T12:34:31.031Z"
   },
   {
    "duration": 37,
    "start_time": "2022-06-05T12:34:31.055Z"
   },
   {
    "duration": 20,
    "start_time": "2022-06-05T12:34:31.094Z"
   },
   {
    "duration": 38,
    "start_time": "2022-06-05T12:34:31.116Z"
   },
   {
    "duration": 7,
    "start_time": "2022-06-05T12:34:31.156Z"
   },
   {
    "duration": 23,
    "start_time": "2022-06-05T12:34:31.164Z"
   },
   {
    "duration": 20,
    "start_time": "2022-06-05T12:34:31.188Z"
   },
   {
    "duration": 38,
    "start_time": "2022-06-05T12:34:31.210Z"
   },
   {
    "duration": 11,
    "start_time": "2022-06-05T12:34:31.251Z"
   },
   {
    "duration": 36,
    "start_time": "2022-06-05T12:34:31.266Z"
   },
   {
    "duration": 20,
    "start_time": "2022-06-05T12:34:31.304Z"
   },
   {
    "duration": 24,
    "start_time": "2022-06-05T12:34:31.327Z"
   },
   {
    "duration": 449,
    "start_time": "2022-06-05T12:34:31.353Z"
   },
   {
    "duration": 0,
    "start_time": "2022-06-05T12:34:31.805Z"
   },
   {
    "duration": 0,
    "start_time": "2022-06-05T12:34:31.807Z"
   },
   {
    "duration": 0,
    "start_time": "2022-06-05T12:34:31.808Z"
   },
   {
    "duration": 0,
    "start_time": "2022-06-05T12:34:31.810Z"
   },
   {
    "duration": 0,
    "start_time": "2022-06-05T12:34:31.811Z"
   },
   {
    "duration": 0,
    "start_time": "2022-06-05T12:34:31.812Z"
   },
   {
    "duration": 0,
    "start_time": "2022-06-05T12:34:31.814Z"
   },
   {
    "duration": 0,
    "start_time": "2022-06-05T12:34:31.815Z"
   },
   {
    "duration": 0,
    "start_time": "2022-06-05T12:34:31.816Z"
   },
   {
    "duration": 0,
    "start_time": "2022-06-05T12:34:31.818Z"
   },
   {
    "duration": 0,
    "start_time": "2022-06-05T12:34:31.821Z"
   },
   {
    "duration": 0,
    "start_time": "2022-06-05T12:34:31.823Z"
   },
   {
    "duration": 0,
    "start_time": "2022-06-05T12:34:31.824Z"
   },
   {
    "duration": 0,
    "start_time": "2022-06-05T12:34:31.825Z"
   },
   {
    "duration": 0,
    "start_time": "2022-06-05T12:34:31.829Z"
   },
   {
    "duration": 0,
    "start_time": "2022-06-05T12:34:31.830Z"
   },
   {
    "duration": 0,
    "start_time": "2022-06-05T12:34:31.831Z"
   },
   {
    "duration": 0,
    "start_time": "2022-06-05T12:34:31.832Z"
   },
   {
    "duration": 0,
    "start_time": "2022-06-05T12:34:31.833Z"
   },
   {
    "duration": 0,
    "start_time": "2022-06-05T12:34:31.834Z"
   },
   {
    "duration": 0,
    "start_time": "2022-06-05T12:34:31.835Z"
   },
   {
    "duration": 0,
    "start_time": "2022-06-05T12:34:31.835Z"
   },
   {
    "duration": 0,
    "start_time": "2022-06-05T12:34:31.836Z"
   },
   {
    "duration": 0,
    "start_time": "2022-06-05T12:34:31.838Z"
   },
   {
    "duration": 0,
    "start_time": "2022-06-05T12:34:31.839Z"
   },
   {
    "duration": 0,
    "start_time": "2022-06-05T12:34:31.840Z"
   },
   {
    "duration": 0,
    "start_time": "2022-06-05T12:34:31.840Z"
   },
   {
    "duration": 0,
    "start_time": "2022-06-05T12:34:31.841Z"
   },
   {
    "duration": 0,
    "start_time": "2022-06-05T12:34:31.843Z"
   },
   {
    "duration": 0,
    "start_time": "2022-06-05T12:34:31.844Z"
   },
   {
    "duration": 0,
    "start_time": "2022-06-05T12:34:31.845Z"
   },
   {
    "duration": 0,
    "start_time": "2022-06-05T12:34:31.846Z"
   },
   {
    "duration": 0,
    "start_time": "2022-06-05T12:34:31.847Z"
   },
   {
    "duration": 0,
    "start_time": "2022-06-05T12:34:31.848Z"
   },
   {
    "duration": 0,
    "start_time": "2022-06-05T12:34:31.849Z"
   },
   {
    "duration": 0,
    "start_time": "2022-06-05T12:34:31.850Z"
   },
   {
    "duration": 0,
    "start_time": "2022-06-05T12:34:31.851Z"
   },
   {
    "duration": 0,
    "start_time": "2022-06-05T12:34:31.852Z"
   },
   {
    "duration": 0,
    "start_time": "2022-06-05T12:34:31.854Z"
   },
   {
    "duration": 0,
    "start_time": "2022-06-05T12:34:31.855Z"
   },
   {
    "duration": 0,
    "start_time": "2022-06-05T12:34:31.857Z"
   },
   {
    "duration": 0,
    "start_time": "2022-06-05T12:34:31.866Z"
   },
   {
    "duration": 0,
    "start_time": "2022-06-05T12:34:31.867Z"
   },
   {
    "duration": 0,
    "start_time": "2022-06-05T12:34:31.869Z"
   },
   {
    "duration": 0,
    "start_time": "2022-06-05T12:34:31.870Z"
   },
   {
    "duration": 0,
    "start_time": "2022-06-05T12:34:31.872Z"
   },
   {
    "duration": 0,
    "start_time": "2022-06-05T12:34:31.873Z"
   },
   {
    "duration": 0,
    "start_time": "2022-06-05T12:34:31.874Z"
   },
   {
    "duration": 0,
    "start_time": "2022-06-05T12:34:31.876Z"
   },
   {
    "duration": 0,
    "start_time": "2022-06-05T12:34:31.877Z"
   },
   {
    "duration": 0,
    "start_time": "2022-06-05T12:34:31.881Z"
   },
   {
    "duration": 0,
    "start_time": "2022-06-05T12:34:31.882Z"
   },
   {
    "duration": 0,
    "start_time": "2022-06-05T12:34:31.884Z"
   },
   {
    "duration": 0,
    "start_time": "2022-06-05T12:34:31.886Z"
   },
   {
    "duration": 0,
    "start_time": "2022-06-05T12:34:31.888Z"
   },
   {
    "duration": 0,
    "start_time": "2022-06-05T12:34:31.889Z"
   },
   {
    "duration": 0,
    "start_time": "2022-06-05T12:34:31.924Z"
   },
   {
    "duration": 0,
    "start_time": "2022-06-05T12:34:31.925Z"
   },
   {
    "duration": 0,
    "start_time": "2022-06-05T12:34:31.930Z"
   },
   {
    "duration": 0,
    "start_time": "2022-06-05T12:34:31.932Z"
   },
   {
    "duration": 0,
    "start_time": "2022-06-05T12:34:31.942Z"
   },
   {
    "duration": 0,
    "start_time": "2022-06-05T12:34:31.943Z"
   },
   {
    "duration": 0,
    "start_time": "2022-06-05T12:34:31.945Z"
   },
   {
    "duration": 3,
    "start_time": "2022-06-05T12:34:53.655Z"
   },
   {
    "duration": 138,
    "start_time": "2022-06-05T12:34:53.660Z"
   },
   {
    "duration": 45,
    "start_time": "2022-06-05T12:34:53.800Z"
   },
   {
    "duration": 19,
    "start_time": "2022-06-05T12:34:53.847Z"
   },
   {
    "duration": 60,
    "start_time": "2022-06-05T12:34:53.868Z"
   },
   {
    "duration": 10,
    "start_time": "2022-06-05T12:34:53.930Z"
   },
   {
    "duration": 14,
    "start_time": "2022-06-05T12:34:53.943Z"
   },
   {
    "duration": 24,
    "start_time": "2022-06-05T12:34:53.959Z"
   },
   {
    "duration": 57,
    "start_time": "2022-06-05T12:34:53.985Z"
   },
   {
    "duration": 39,
    "start_time": "2022-06-05T12:34:54.044Z"
   },
   {
    "duration": 27,
    "start_time": "2022-06-05T12:34:54.085Z"
   },
   {
    "duration": 39,
    "start_time": "2022-06-05T12:34:54.114Z"
   },
   {
    "duration": 33,
    "start_time": "2022-06-05T12:34:54.157Z"
   },
   {
    "duration": 24,
    "start_time": "2022-06-05T12:34:54.192Z"
   },
   {
    "duration": 32,
    "start_time": "2022-06-05T12:34:54.218Z"
   },
   {
    "duration": 21,
    "start_time": "2022-06-05T12:34:54.252Z"
   },
   {
    "duration": 24,
    "start_time": "2022-06-05T12:34:54.275Z"
   },
   {
    "duration": 24,
    "start_time": "2022-06-05T12:34:54.302Z"
   },
   {
    "duration": 28,
    "start_time": "2022-06-05T12:34:54.328Z"
   },
   {
    "duration": 19,
    "start_time": "2022-06-05T12:34:54.358Z"
   },
   {
    "duration": 28,
    "start_time": "2022-06-05T12:34:54.378Z"
   },
   {
    "duration": 18,
    "start_time": "2022-06-05T12:34:54.409Z"
   },
   {
    "duration": 65,
    "start_time": "2022-06-05T12:34:54.429Z"
   },
   {
    "duration": 38,
    "start_time": "2022-06-05T12:34:54.496Z"
   },
   {
    "duration": 53,
    "start_time": "2022-06-05T12:34:54.536Z"
   },
   {
    "duration": 39,
    "start_time": "2022-06-05T12:34:54.591Z"
   },
   {
    "duration": 53,
    "start_time": "2022-06-05T12:34:54.632Z"
   },
   {
    "duration": 42,
    "start_time": "2022-06-05T12:34:54.686Z"
   },
   {
    "duration": 74,
    "start_time": "2022-06-05T12:34:54.731Z"
   },
   {
    "duration": 47,
    "start_time": "2022-06-05T12:34:54.807Z"
   },
   {
    "duration": 30,
    "start_time": "2022-06-05T12:34:54.855Z"
   },
   {
    "duration": 40,
    "start_time": "2022-06-05T12:34:54.887Z"
   },
   {
    "duration": 36,
    "start_time": "2022-06-05T12:34:54.929Z"
   },
   {
    "duration": 28,
    "start_time": "2022-06-05T12:34:54.967Z"
   },
   {
    "duration": 25,
    "start_time": "2022-06-05T12:34:54.996Z"
   },
   {
    "duration": 51,
    "start_time": "2022-06-05T12:34:55.026Z"
   },
   {
    "duration": 8,
    "start_time": "2022-06-05T12:34:55.083Z"
   },
   {
    "duration": 39,
    "start_time": "2022-06-05T12:34:55.092Z"
   },
   {
    "duration": 38,
    "start_time": "2022-06-05T12:34:55.133Z"
   },
   {
    "duration": 39,
    "start_time": "2022-06-05T12:34:55.173Z"
   },
   {
    "duration": 52,
    "start_time": "2022-06-05T12:34:55.214Z"
   },
   {
    "duration": 30,
    "start_time": "2022-06-05T12:34:55.268Z"
   },
   {
    "duration": 63,
    "start_time": "2022-06-05T12:34:55.299Z"
   },
   {
    "duration": 36,
    "start_time": "2022-06-05T12:34:55.364Z"
   },
   {
    "duration": 31,
    "start_time": "2022-06-05T12:34:55.402Z"
   },
   {
    "duration": 42,
    "start_time": "2022-06-05T12:34:55.436Z"
   },
   {
    "duration": 35,
    "start_time": "2022-06-05T12:34:55.480Z"
   },
   {
    "duration": 27,
    "start_time": "2022-06-05T12:34:55.517Z"
   },
   {
    "duration": 61,
    "start_time": "2022-06-05T12:34:55.546Z"
   },
   {
    "duration": 76,
    "start_time": "2022-06-05T12:34:55.609Z"
   },
   {
    "duration": 19,
    "start_time": "2022-06-05T12:34:55.687Z"
   },
   {
    "duration": 57,
    "start_time": "2022-06-05T12:34:55.708Z"
   },
   {
    "duration": 27,
    "start_time": "2022-06-05T12:34:55.766Z"
   },
   {
    "duration": 253,
    "start_time": "2022-06-05T12:34:55.795Z"
   },
   {
    "duration": 10,
    "start_time": "2022-06-05T12:34:56.050Z"
   },
   {
    "duration": 31,
    "start_time": "2022-06-05T12:34:56.061Z"
   },
   {
    "duration": 53,
    "start_time": "2022-06-05T12:34:56.094Z"
   },
   {
    "duration": 55,
    "start_time": "2022-06-05T12:34:56.150Z"
   },
   {
    "duration": 204,
    "start_time": "2022-06-05T12:34:56.207Z"
   },
   {
    "duration": 231,
    "start_time": "2022-06-05T12:34:56.413Z"
   },
   {
    "duration": 15,
    "start_time": "2022-06-05T12:34:56.646Z"
   },
   {
    "duration": 297,
    "start_time": "2022-06-05T12:34:56.663Z"
   },
   {
    "duration": 246,
    "start_time": "2022-06-05T12:34:56.962Z"
   },
   {
    "duration": 32,
    "start_time": "2022-06-05T12:34:57.210Z"
   },
   {
    "duration": 298,
    "start_time": "2022-06-05T12:34:57.244Z"
   },
   {
    "duration": 247,
    "start_time": "2022-06-05T12:34:57.544Z"
   },
   {
    "duration": 10,
    "start_time": "2022-06-05T12:34:57.793Z"
   },
   {
    "duration": 361,
    "start_time": "2022-06-05T12:34:57.805Z"
   },
   {
    "duration": 244,
    "start_time": "2022-06-05T12:34:58.168Z"
   },
   {
    "duration": 23,
    "start_time": "2022-06-05T12:34:58.414Z"
   },
   {
    "duration": 227,
    "start_time": "2022-06-05T12:34:58.439Z"
   },
   {
    "duration": 232,
    "start_time": "2022-06-05T12:34:58.668Z"
   },
   {
    "duration": 8,
    "start_time": "2022-06-05T12:34:58.901Z"
   },
   {
    "duration": 117,
    "start_time": "2022-06-05T12:34:58.931Z"
   },
   {
    "duration": 67,
    "start_time": "2022-06-05T12:34:59.050Z"
   },
   {
    "duration": 68,
    "start_time": "2022-06-05T12:34:59.119Z"
   },
   {
    "duration": 58,
    "start_time": "2022-06-05T12:34:59.189Z"
   },
   {
    "duration": 213,
    "start_time": "2022-06-05T12:34:59.249Z"
   },
   {
    "duration": 213,
    "start_time": "2022-06-05T12:34:59.463Z"
   },
   {
    "duration": 21,
    "start_time": "2022-06-05T12:34:59.678Z"
   },
   {
    "duration": 43,
    "start_time": "2022-06-05T12:34:59.701Z"
   },
   {
    "duration": 14,
    "start_time": "2022-06-05T12:35:05.099Z"
   },
   {
    "duration": 6,
    "start_time": "2022-06-05T12:35:37.414Z"
   },
   {
    "duration": 15,
    "start_time": "2022-06-05T12:38:32.895Z"
   },
   {
    "duration": 14,
    "start_time": "2022-06-05T12:38:58.661Z"
   },
   {
    "duration": 25,
    "start_time": "2022-06-05T12:39:51.181Z"
   },
   {
    "duration": 32,
    "start_time": "2022-06-05T12:40:02.845Z"
   },
   {
    "duration": 13,
    "start_time": "2022-06-05T12:40:15.421Z"
   },
   {
    "duration": 35,
    "start_time": "2022-06-05T12:40:20.046Z"
   },
   {
    "duration": 17,
    "start_time": "2022-06-05T12:40:35.613Z"
   },
   {
    "duration": 11,
    "start_time": "2022-06-05T12:41:59.290Z"
   },
   {
    "duration": 28,
    "start_time": "2022-06-05T12:43:35.016Z"
   },
   {
    "duration": 27,
    "start_time": "2022-06-05T12:44:02.156Z"
   },
   {
    "duration": 16,
    "start_time": "2022-06-05T12:44:35.002Z"
   },
   {
    "duration": 6,
    "start_time": "2022-06-05T12:45:32.260Z"
   },
   {
    "duration": 5,
    "start_time": "2022-06-05T12:45:53.333Z"
   },
   {
    "duration": 3,
    "start_time": "2022-06-05T12:45:57.981Z"
   },
   {
    "duration": 22,
    "start_time": "2022-06-05T12:46:32.527Z"
   },
   {
    "duration": 18,
    "start_time": "2022-06-05T12:47:13.704Z"
   },
   {
    "duration": 16,
    "start_time": "2022-06-05T12:47:57.305Z"
   },
   {
    "duration": 17,
    "start_time": "2022-06-05T12:47:57.897Z"
   },
   {
    "duration": 18,
    "start_time": "2022-06-05T12:47:58.553Z"
   },
   {
    "duration": 9,
    "start_time": "2022-06-05T12:51:15.994Z"
   },
   {
    "duration": 19,
    "start_time": "2022-06-05T12:51:20.143Z"
   },
   {
    "duration": 27,
    "start_time": "2022-06-05T12:51:44.334Z"
   },
   {
    "duration": 15,
    "start_time": "2022-06-05T12:51:44.845Z"
   },
   {
    "duration": 12,
    "start_time": "2022-06-05T12:51:45.401Z"
   },
   {
    "duration": 20,
    "start_time": "2022-06-05T12:51:56.037Z"
   },
   {
    "duration": 24,
    "start_time": "2022-06-05T13:00:58.947Z"
   },
   {
    "duration": 412,
    "start_time": "2022-06-05T13:05:21.755Z"
   },
   {
    "duration": 6,
    "start_time": "2022-06-05T13:05:40.643Z"
   },
   {
    "duration": 6,
    "start_time": "2022-06-05T13:05:52.616Z"
   },
   {
    "duration": 18,
    "start_time": "2022-06-05T13:06:19.047Z"
   },
   {
    "duration": 17,
    "start_time": "2022-06-05T13:08:37.425Z"
   },
   {
    "duration": 12,
    "start_time": "2022-06-05T13:12:36.204Z"
   },
   {
    "duration": 10,
    "start_time": "2022-06-05T13:13:56.691Z"
   },
   {
    "duration": 3,
    "start_time": "2022-06-05T13:14:09.779Z"
   },
   {
    "duration": 14,
    "start_time": "2022-06-05T13:14:15.874Z"
   },
   {
    "duration": 4,
    "start_time": "2022-06-05T13:14:38.796Z"
   },
   {
    "duration": 6,
    "start_time": "2022-06-05T13:15:02.520Z"
   },
   {
    "duration": 3,
    "start_time": "2022-06-05T13:15:32.196Z"
   },
   {
    "duration": 3,
    "start_time": "2022-06-05T13:15:46.813Z"
   },
   {
    "duration": 4,
    "start_time": "2022-06-05T13:16:15.547Z"
   },
   {
    "duration": 3,
    "start_time": "2022-06-05T13:18:37.495Z"
   },
   {
    "duration": 3,
    "start_time": "2022-06-05T13:18:43.548Z"
   },
   {
    "duration": 4,
    "start_time": "2022-06-05T13:19:24.977Z"
   },
   {
    "duration": 3,
    "start_time": "2022-06-05T13:19:58.693Z"
   },
   {
    "duration": 4,
    "start_time": "2022-06-05T13:20:03.685Z"
   },
   {
    "duration": 3,
    "start_time": "2022-06-05T13:20:15.768Z"
   },
   {
    "duration": 34,
    "start_time": "2022-06-05T13:21:10.374Z"
   },
   {
    "duration": 7,
    "start_time": "2022-06-05T13:21:19.367Z"
   },
   {
    "duration": 5,
    "start_time": "2022-06-05T13:21:26.669Z"
   },
   {
    "duration": 6,
    "start_time": "2022-06-05T13:21:30.551Z"
   },
   {
    "duration": 11,
    "start_time": "2022-06-05T13:21:31.117Z"
   },
   {
    "duration": 3,
    "start_time": "2022-06-05T13:22:40.986Z"
   },
   {
    "duration": 165,
    "start_time": "2022-06-05T13:22:40.991Z"
   },
   {
    "duration": 13,
    "start_time": "2022-06-05T13:22:41.157Z"
   },
   {
    "duration": 32,
    "start_time": "2022-06-05T13:22:41.171Z"
   },
   {
    "duration": 60,
    "start_time": "2022-06-05T13:22:41.206Z"
   },
   {
    "duration": 9,
    "start_time": "2022-06-05T13:22:41.268Z"
   },
   {
    "duration": 20,
    "start_time": "2022-06-05T13:22:41.278Z"
   },
   {
    "duration": 33,
    "start_time": "2022-06-05T13:22:41.299Z"
   },
   {
    "duration": 28,
    "start_time": "2022-06-05T13:22:41.334Z"
   },
   {
    "duration": 6,
    "start_time": "2022-06-05T13:22:41.363Z"
   },
   {
    "duration": 8,
    "start_time": "2022-06-05T13:22:41.371Z"
   },
   {
    "duration": 5,
    "start_time": "2022-06-05T13:22:41.380Z"
   },
   {
    "duration": 14,
    "start_time": "2022-06-05T13:22:41.387Z"
   },
   {
    "duration": 20,
    "start_time": "2022-06-05T13:22:41.403Z"
   },
   {
    "duration": 18,
    "start_time": "2022-06-05T13:22:41.424Z"
   },
   {
    "duration": 6,
    "start_time": "2022-06-05T13:22:41.444Z"
   },
   {
    "duration": 5,
    "start_time": "2022-06-05T13:22:43.895Z"
   },
   {
    "duration": 15,
    "start_time": "2022-06-05T13:22:44.718Z"
   },
   {
    "duration": 5,
    "start_time": "2022-06-05T13:22:45.967Z"
   },
   {
    "duration": 3,
    "start_time": "2022-06-05T13:24:36.916Z"
   },
   {
    "duration": 116,
    "start_time": "2022-06-05T13:24:36.921Z"
   },
   {
    "duration": 13,
    "start_time": "2022-06-05T13:24:37.039Z"
   },
   {
    "duration": 8,
    "start_time": "2022-06-05T13:24:37.053Z"
   },
   {
    "duration": 53,
    "start_time": "2022-06-05T13:24:37.063Z"
   },
   {
    "duration": 9,
    "start_time": "2022-06-05T13:24:37.118Z"
   },
   {
    "duration": 14,
    "start_time": "2022-06-05T13:24:37.129Z"
   },
   {
    "duration": 14,
    "start_time": "2022-06-05T13:24:37.145Z"
   },
   {
    "duration": 15,
    "start_time": "2022-06-05T13:24:37.161Z"
   },
   {
    "duration": 6,
    "start_time": "2022-06-05T13:24:37.178Z"
   },
   {
    "duration": 39,
    "start_time": "2022-06-05T13:24:37.187Z"
   },
   {
    "duration": 4,
    "start_time": "2022-06-05T13:24:37.228Z"
   },
   {
    "duration": 17,
    "start_time": "2022-06-05T13:24:37.234Z"
   },
   {
    "duration": 6,
    "start_time": "2022-06-05T13:24:37.253Z"
   },
   {
    "duration": 21,
    "start_time": "2022-06-05T13:24:37.260Z"
   },
   {
    "duration": 40,
    "start_time": "2022-06-05T13:24:37.283Z"
   },
   {
    "duration": 15,
    "start_time": "2022-06-05T13:24:40.591Z"
   },
   {
    "duration": 9,
    "start_time": "2022-06-05T13:25:00.598Z"
   },
   {
    "duration": 4,
    "start_time": "2022-06-05T13:25:06.751Z"
   },
   {
    "duration": 15,
    "start_time": "2022-06-05T13:25:11.974Z"
   },
   {
    "duration": 316,
    "start_time": "2022-06-05T13:25:33.951Z"
   },
   {
    "duration": 4,
    "start_time": "2022-06-05T13:25:39.538Z"
   },
   {
    "duration": 4,
    "start_time": "2022-06-05T13:26:04.392Z"
   },
   {
    "duration": 15,
    "start_time": "2022-06-05T13:26:06.968Z"
   },
   {
    "duration": 12,
    "start_time": "2022-06-05T13:26:13.072Z"
   },
   {
    "duration": 14,
    "start_time": "2022-06-05T13:26:13.870Z"
   },
   {
    "duration": 5,
    "start_time": "2022-06-05T13:26:19.344Z"
   },
   {
    "duration": 8,
    "start_time": "2022-06-05T13:26:57.879Z"
   },
   {
    "duration": 15,
    "start_time": "2022-06-05T13:27:00.385Z"
   },
   {
    "duration": 3,
    "start_time": "2022-06-05T13:27:08.004Z"
   },
   {
    "duration": 99,
    "start_time": "2022-06-05T13:27:08.009Z"
   },
   {
    "duration": 16,
    "start_time": "2022-06-05T13:27:08.110Z"
   },
   {
    "duration": 12,
    "start_time": "2022-06-05T13:27:08.129Z"
   },
   {
    "duration": 48,
    "start_time": "2022-06-05T13:27:08.143Z"
   },
   {
    "duration": 12,
    "start_time": "2022-06-05T13:27:08.193Z"
   },
   {
    "duration": 13,
    "start_time": "2022-06-05T13:27:08.207Z"
   },
   {
    "duration": 15,
    "start_time": "2022-06-05T13:27:08.222Z"
   },
   {
    "duration": 14,
    "start_time": "2022-06-05T13:27:08.239Z"
   },
   {
    "duration": 6,
    "start_time": "2022-06-05T13:27:08.255Z"
   },
   {
    "duration": 11,
    "start_time": "2022-06-05T13:27:08.263Z"
   },
   {
    "duration": 6,
    "start_time": "2022-06-05T13:27:08.275Z"
   },
   {
    "duration": 45,
    "start_time": "2022-06-05T13:27:08.283Z"
   },
   {
    "duration": 5,
    "start_time": "2022-06-05T13:27:08.330Z"
   },
   {
    "duration": 21,
    "start_time": "2022-06-05T13:27:08.337Z"
   },
   {
    "duration": 8,
    "start_time": "2022-06-05T13:27:08.360Z"
   },
   {
    "duration": 7,
    "start_time": "2022-06-05T13:27:08.369Z"
   },
   {
    "duration": 16,
    "start_time": "2022-06-05T13:27:11.016Z"
   },
   {
    "duration": 8,
    "start_time": "2022-06-05T13:27:28.747Z"
   },
   {
    "duration": 15,
    "start_time": "2022-06-05T13:27:30.496Z"
   },
   {
    "duration": 4,
    "start_time": "2022-06-05T13:27:55.088Z"
   },
   {
    "duration": 19,
    "start_time": "2022-06-05T13:27:56.540Z"
   },
   {
    "duration": 4,
    "start_time": "2022-06-05T13:28:02.272Z"
   },
   {
    "duration": 15,
    "start_time": "2022-06-05T13:28:04.546Z"
   },
   {
    "duration": 4,
    "start_time": "2022-06-05T13:28:08.219Z"
   },
   {
    "duration": 103,
    "start_time": "2022-06-05T13:28:08.224Z"
   },
   {
    "duration": 15,
    "start_time": "2022-06-05T13:28:08.329Z"
   },
   {
    "duration": 11,
    "start_time": "2022-06-05T13:28:08.345Z"
   },
   {
    "duration": 42,
    "start_time": "2022-06-05T13:28:08.358Z"
   },
   {
    "duration": 10,
    "start_time": "2022-06-05T13:28:08.402Z"
   },
   {
    "duration": 17,
    "start_time": "2022-06-05T13:28:08.414Z"
   },
   {
    "duration": 21,
    "start_time": "2022-06-05T13:28:08.433Z"
   },
   {
    "duration": 14,
    "start_time": "2022-06-05T13:28:08.456Z"
   },
   {
    "duration": 7,
    "start_time": "2022-06-05T13:28:08.472Z"
   },
   {
    "duration": 42,
    "start_time": "2022-06-05T13:28:08.481Z"
   },
   {
    "duration": 7,
    "start_time": "2022-06-05T13:28:08.525Z"
   },
   {
    "duration": 23,
    "start_time": "2022-06-05T13:28:08.533Z"
   },
   {
    "duration": 6,
    "start_time": "2022-06-05T13:28:08.558Z"
   },
   {
    "duration": 18,
    "start_time": "2022-06-05T13:28:08.567Z"
   },
   {
    "duration": 8,
    "start_time": "2022-06-05T13:28:08.624Z"
   },
   {
    "duration": 25,
    "start_time": "2022-06-05T13:28:08.634Z"
   },
   {
    "duration": 39,
    "start_time": "2022-06-05T13:28:08.661Z"
   },
   {
    "duration": 13,
    "start_time": "2022-06-05T13:28:19.200Z"
   },
   {
    "duration": 15,
    "start_time": "2022-06-05T13:28:21.172Z"
   },
   {
    "duration": 11,
    "start_time": "2022-06-05T13:28:49.393Z"
   },
   {
    "duration": 19,
    "start_time": "2022-06-05T13:28:52.770Z"
   },
   {
    "duration": 21,
    "start_time": "2022-06-05T13:29:32.050Z"
   },
   {
    "duration": 36,
    "start_time": "2022-06-05T13:29:43.635Z"
   },
   {
    "duration": 8,
    "start_time": "2022-06-05T13:30:11.098Z"
   },
   {
    "duration": 4,
    "start_time": "2022-06-05T13:30:22.916Z"
   },
   {
    "duration": 4,
    "start_time": "2022-06-05T13:30:29.172Z"
   },
   {
    "duration": 17,
    "start_time": "2022-06-05T13:30:32.970Z"
   },
   {
    "duration": 6,
    "start_time": "2022-06-05T13:30:45.821Z"
   },
   {
    "duration": 4,
    "start_time": "2022-06-05T13:30:50.796Z"
   },
   {
    "duration": 107,
    "start_time": "2022-06-05T13:30:50.802Z"
   },
   {
    "duration": 15,
    "start_time": "2022-06-05T13:30:50.911Z"
   },
   {
    "duration": 8,
    "start_time": "2022-06-05T13:30:50.927Z"
   },
   {
    "duration": 44,
    "start_time": "2022-06-05T13:30:50.937Z"
   },
   {
    "duration": 12,
    "start_time": "2022-06-05T13:30:50.983Z"
   },
   {
    "duration": 12,
    "start_time": "2022-06-05T13:30:50.996Z"
   },
   {
    "duration": 15,
    "start_time": "2022-06-05T13:30:51.010Z"
   },
   {
    "duration": 20,
    "start_time": "2022-06-05T13:30:51.027Z"
   },
   {
    "duration": 7,
    "start_time": "2022-06-05T13:30:51.049Z"
   },
   {
    "duration": 16,
    "start_time": "2022-06-05T13:30:51.059Z"
   },
   {
    "duration": 8,
    "start_time": "2022-06-05T13:30:51.077Z"
   },
   {
    "duration": 43,
    "start_time": "2022-06-05T13:30:51.086Z"
   },
   {
    "duration": 5,
    "start_time": "2022-06-05T13:30:51.132Z"
   },
   {
    "duration": 22,
    "start_time": "2022-06-05T13:30:51.139Z"
   },
   {
    "duration": 8,
    "start_time": "2022-06-05T13:30:51.162Z"
   },
   {
    "duration": 20,
    "start_time": "2022-06-05T13:30:51.171Z"
   },
   {
    "duration": 13,
    "start_time": "2022-06-05T13:31:00.386Z"
   },
   {
    "duration": 24,
    "start_time": "2022-06-05T13:31:02.514Z"
   },
   {
    "duration": 4,
    "start_time": "2022-06-05T13:31:09.553Z"
   },
   {
    "duration": 18,
    "start_time": "2022-06-05T13:31:10.890Z"
   },
   {
    "duration": 7,
    "start_time": "2022-06-05T13:31:30.321Z"
   },
   {
    "duration": 15,
    "start_time": "2022-06-05T13:31:33.914Z"
   },
   {
    "duration": 3,
    "start_time": "2022-06-05T13:32:06.402Z"
   },
   {
    "duration": 16,
    "start_time": "2022-06-05T13:32:09.378Z"
   },
   {
    "duration": 4,
    "start_time": "2022-06-05T13:32:23.974Z"
   },
   {
    "duration": 98,
    "start_time": "2022-06-05T13:32:23.979Z"
   },
   {
    "duration": 16,
    "start_time": "2022-06-05T13:32:24.079Z"
   },
   {
    "duration": 25,
    "start_time": "2022-06-05T13:32:24.098Z"
   },
   {
    "duration": 49,
    "start_time": "2022-06-05T13:32:24.125Z"
   },
   {
    "duration": 12,
    "start_time": "2022-06-05T13:32:24.175Z"
   },
   {
    "duration": 25,
    "start_time": "2022-06-05T13:32:24.189Z"
   },
   {
    "duration": 17,
    "start_time": "2022-06-05T13:32:24.216Z"
   },
   {
    "duration": 15,
    "start_time": "2022-06-05T13:32:24.235Z"
   },
   {
    "duration": 16,
    "start_time": "2022-06-05T13:32:24.252Z"
   },
   {
    "duration": 9,
    "start_time": "2022-06-05T13:32:24.269Z"
   },
   {
    "duration": 9,
    "start_time": "2022-06-05T13:32:24.280Z"
   },
   {
    "duration": 17,
    "start_time": "2022-06-05T13:32:24.290Z"
   },
   {
    "duration": 7,
    "start_time": "2022-06-05T13:32:24.323Z"
   },
   {
    "duration": 17,
    "start_time": "2022-06-05T13:32:24.332Z"
   },
   {
    "duration": 7,
    "start_time": "2022-06-05T13:32:24.351Z"
   },
   {
    "duration": 8,
    "start_time": "2022-06-05T13:32:24.359Z"
   },
   {
    "duration": 15,
    "start_time": "2022-06-05T13:32:28.514Z"
   },
   {
    "duration": 8,
    "start_time": "2022-06-05T13:32:31.370Z"
   },
   {
    "duration": 16,
    "start_time": "2022-06-05T13:32:32.754Z"
   },
   {
    "duration": 4,
    "start_time": "2022-06-05T13:32:44.194Z"
   },
   {
    "duration": 4,
    "start_time": "2022-06-05T13:32:56.890Z"
   },
   {
    "duration": 461,
    "start_time": "2022-06-05T13:33:08.869Z"
   },
   {
    "duration": 579,
    "start_time": "2022-06-05T13:33:27.667Z"
   },
   {
    "duration": 509,
    "start_time": "2022-06-05T13:33:32.581Z"
   },
   {
    "duration": 343,
    "start_time": "2022-06-05T13:33:44.556Z"
   },
   {
    "duration": 4,
    "start_time": "2022-06-05T13:34:27.374Z"
   },
   {
    "duration": 14,
    "start_time": "2022-06-05T13:34:49.812Z"
   },
   {
    "duration": 387,
    "start_time": "2022-06-05T13:35:33.634Z"
   },
   {
    "duration": 5,
    "start_time": "2022-06-05T13:35:47.237Z"
   },
   {
    "duration": 4,
    "start_time": "2022-06-05T13:36:02.803Z"
   },
   {
    "duration": 386,
    "start_time": "2022-06-05T13:36:11.995Z"
   },
   {
    "duration": 4,
    "start_time": "2022-06-05T13:36:25.292Z"
   },
   {
    "duration": 3,
    "start_time": "2022-06-05T13:36:30.244Z"
   },
   {
    "duration": 4,
    "start_time": "2022-06-05T13:38:40.821Z"
   },
   {
    "duration": 8,
    "start_time": "2022-06-05T13:38:55.253Z"
   },
   {
    "duration": 12,
    "start_time": "2022-06-05T13:39:00.774Z"
   },
   {
    "duration": 15,
    "start_time": "2022-06-05T13:39:11.692Z"
   },
   {
    "duration": 2,
    "start_time": "2022-06-05T13:39:17.383Z"
   },
   {
    "duration": 125,
    "start_time": "2022-06-05T13:39:17.390Z"
   },
   {
    "duration": 21,
    "start_time": "2022-06-05T13:39:17.517Z"
   },
   {
    "duration": 12,
    "start_time": "2022-06-05T13:39:17.540Z"
   },
   {
    "duration": 57,
    "start_time": "2022-06-05T13:39:17.554Z"
   },
   {
    "duration": 12,
    "start_time": "2022-06-05T13:39:17.614Z"
   },
   {
    "duration": 21,
    "start_time": "2022-06-05T13:39:17.628Z"
   },
   {
    "duration": 16,
    "start_time": "2022-06-05T13:39:17.651Z"
   },
   {
    "duration": 14,
    "start_time": "2022-06-05T13:39:17.668Z"
   },
   {
    "duration": 8,
    "start_time": "2022-06-05T13:39:17.684Z"
   },
   {
    "duration": 35,
    "start_time": "2022-06-05T13:39:17.694Z"
   },
   {
    "duration": 8,
    "start_time": "2022-06-05T13:39:17.731Z"
   },
   {
    "duration": 25,
    "start_time": "2022-06-05T13:39:17.741Z"
   },
   {
    "duration": 8,
    "start_time": "2022-06-05T13:39:17.768Z"
   },
   {
    "duration": 57,
    "start_time": "2022-06-05T13:39:17.778Z"
   },
   {
    "duration": 13,
    "start_time": "2022-06-05T13:39:17.838Z"
   },
   {
    "duration": 11,
    "start_time": "2022-06-05T13:39:17.854Z"
   },
   {
    "duration": 20,
    "start_time": "2022-06-05T13:39:17.867Z"
   },
   {
    "duration": 15,
    "start_time": "2022-06-05T13:39:22.669Z"
   },
   {
    "duration": 11,
    "start_time": "2022-06-05T13:39:32.872Z"
   },
   {
    "duration": 12,
    "start_time": "2022-06-05T13:39:55.574Z"
   },
   {
    "duration": 4,
    "start_time": "2022-06-05T13:40:10.967Z"
   },
   {
    "duration": 4,
    "start_time": "2022-06-05T13:40:23.708Z"
   },
   {
    "duration": 5,
    "start_time": "2022-06-05T13:40:28.948Z"
   },
   {
    "duration": 4,
    "start_time": "2022-06-05T13:40:32.109Z"
   },
   {
    "duration": 4,
    "start_time": "2022-06-05T13:40:35.076Z"
   },
   {
    "duration": 12,
    "start_time": "2022-06-05T13:40:54.070Z"
   },
   {
    "duration": 29,
    "start_time": "2022-06-05T13:40:57.375Z"
   },
   {
    "duration": 9,
    "start_time": "2022-06-05T13:41:00.086Z"
   },
   {
    "duration": 4,
    "start_time": "2022-06-05T13:41:06.277Z"
   },
   {
    "duration": 4,
    "start_time": "2022-06-05T13:41:10.318Z"
   },
   {
    "duration": 5,
    "start_time": "2022-06-05T13:41:16.869Z"
   },
   {
    "duration": 5,
    "start_time": "2022-06-05T13:41:41.952Z"
   },
   {
    "duration": 19,
    "start_time": "2022-06-05T13:41:43.981Z"
   },
   {
    "duration": 4,
    "start_time": "2022-06-05T13:41:56.986Z"
   },
   {
    "duration": 115,
    "start_time": "2022-06-05T13:41:56.992Z"
   },
   {
    "duration": 22,
    "start_time": "2022-06-05T13:41:57.109Z"
   },
   {
    "duration": 7,
    "start_time": "2022-06-05T13:41:57.134Z"
   },
   {
    "duration": 48,
    "start_time": "2022-06-05T13:41:57.143Z"
   },
   {
    "duration": 9,
    "start_time": "2022-06-05T13:41:57.192Z"
   },
   {
    "duration": 12,
    "start_time": "2022-06-05T13:41:57.203Z"
   },
   {
    "duration": 15,
    "start_time": "2022-06-05T13:41:57.217Z"
   },
   {
    "duration": 16,
    "start_time": "2022-06-05T13:41:57.234Z"
   },
   {
    "duration": 6,
    "start_time": "2022-06-05T13:41:57.251Z"
   },
   {
    "duration": 11,
    "start_time": "2022-06-05T13:41:57.259Z"
   },
   {
    "duration": 6,
    "start_time": "2022-06-05T13:41:57.272Z"
   },
   {
    "duration": 60,
    "start_time": "2022-06-05T13:41:57.279Z"
   },
   {
    "duration": 7,
    "start_time": "2022-06-05T13:41:57.341Z"
   },
   {
    "duration": 22,
    "start_time": "2022-06-05T13:41:57.350Z"
   },
   {
    "duration": 7,
    "start_time": "2022-06-05T13:41:57.373Z"
   },
   {
    "duration": 9,
    "start_time": "2022-06-05T13:41:57.382Z"
   },
   {
    "duration": 16,
    "start_time": "2022-06-05T13:42:01.005Z"
   },
   {
    "duration": 6,
    "start_time": "2022-06-05T13:45:39.568Z"
   },
   {
    "duration": 20,
    "start_time": "2022-06-05T13:45:47.175Z"
   },
   {
    "duration": 18,
    "start_time": "2022-06-05T13:45:52.553Z"
   },
   {
    "duration": 20,
    "start_time": "2022-06-05T13:45:53.340Z"
   },
   {
    "duration": 5,
    "start_time": "2022-06-05T13:46:02.879Z"
   },
   {
    "duration": 7,
    "start_time": "2022-06-05T13:46:22.416Z"
   },
   {
    "duration": 6,
    "start_time": "2022-06-05T13:46:50.903Z"
   },
   {
    "duration": 6,
    "start_time": "2022-06-05T13:46:53.600Z"
   },
   {
    "duration": 20,
    "start_time": "2022-06-05T13:46:54.305Z"
   },
   {
    "duration": 3,
    "start_time": "2022-06-05T13:47:35.905Z"
   },
   {
    "duration": 103,
    "start_time": "2022-06-05T13:47:35.910Z"
   },
   {
    "duration": 19,
    "start_time": "2022-06-05T13:47:36.016Z"
   },
   {
    "duration": 13,
    "start_time": "2022-06-05T13:47:36.037Z"
   },
   {
    "duration": 41,
    "start_time": "2022-06-05T13:47:36.053Z"
   },
   {
    "duration": 11,
    "start_time": "2022-06-05T13:47:36.095Z"
   },
   {
    "duration": 18,
    "start_time": "2022-06-05T13:47:36.107Z"
   },
   {
    "duration": 21,
    "start_time": "2022-06-05T13:47:36.127Z"
   },
   {
    "duration": 15,
    "start_time": "2022-06-05T13:47:36.150Z"
   },
   {
    "duration": 6,
    "start_time": "2022-06-05T13:47:36.167Z"
   },
   {
    "duration": 9,
    "start_time": "2022-06-05T13:47:36.175Z"
   },
   {
    "duration": 7,
    "start_time": "2022-06-05T13:47:36.185Z"
   },
   {
    "duration": 43,
    "start_time": "2022-06-05T13:47:36.193Z"
   },
   {
    "duration": 9,
    "start_time": "2022-06-05T13:47:36.238Z"
   },
   {
    "duration": 24,
    "start_time": "2022-06-05T13:47:36.249Z"
   },
   {
    "duration": 11,
    "start_time": "2022-06-05T13:47:36.275Z"
   },
   {
    "duration": 36,
    "start_time": "2022-06-05T13:47:36.288Z"
   },
   {
    "duration": 6,
    "start_time": "2022-06-05T13:47:39.948Z"
   },
   {
    "duration": 7,
    "start_time": "2022-06-05T13:47:42.599Z"
   },
   {
    "duration": 18,
    "start_time": "2022-06-05T13:47:43.216Z"
   },
   {
    "duration": 5,
    "start_time": "2022-06-05T13:49:22.409Z"
   },
   {
    "duration": 163,
    "start_time": "2022-06-05T13:49:22.417Z"
   },
   {
    "duration": 21,
    "start_time": "2022-06-05T13:49:22.582Z"
   },
   {
    "duration": 22,
    "start_time": "2022-06-05T13:49:22.605Z"
   },
   {
    "duration": 67,
    "start_time": "2022-06-05T13:49:22.629Z"
   },
   {
    "duration": 14,
    "start_time": "2022-06-05T13:49:22.698Z"
   },
   {
    "duration": 25,
    "start_time": "2022-06-05T13:49:22.714Z"
   },
   {
    "duration": 32,
    "start_time": "2022-06-05T13:49:22.741Z"
   },
   {
    "duration": 32,
    "start_time": "2022-06-05T13:49:22.775Z"
   },
   {
    "duration": 11,
    "start_time": "2022-06-05T13:49:22.809Z"
   },
   {
    "duration": 19,
    "start_time": "2022-06-05T13:49:22.822Z"
   },
   {
    "duration": 10,
    "start_time": "2022-06-05T13:49:22.843Z"
   },
   {
    "duration": 23,
    "start_time": "2022-06-05T13:49:22.855Z"
   },
   {
    "duration": 5,
    "start_time": "2022-06-05T13:49:22.881Z"
   },
   {
    "duration": 18,
    "start_time": "2022-06-05T13:49:22.887Z"
   },
   {
    "duration": 7,
    "start_time": "2022-06-05T13:49:22.922Z"
   },
   {
    "duration": 8,
    "start_time": "2022-06-05T13:49:22.931Z"
   },
   {
    "duration": 5,
    "start_time": "2022-06-05T13:49:25.157Z"
   },
   {
    "duration": 5,
    "start_time": "2022-06-05T13:49:26.269Z"
   },
   {
    "duration": 17,
    "start_time": "2022-06-05T13:49:26.947Z"
   },
   {
    "duration": 7,
    "start_time": "2022-06-05T13:50:26.866Z"
   },
   {
    "duration": 9,
    "start_time": "2022-06-05T13:50:29.880Z"
   },
   {
    "duration": 6,
    "start_time": "2022-06-05T13:50:31.993Z"
   },
   {
    "duration": 17,
    "start_time": "2022-06-05T13:50:44.766Z"
   },
   {
    "duration": 8,
    "start_time": "2022-06-05T13:51:11.313Z"
   },
   {
    "duration": 18,
    "start_time": "2022-06-05T13:51:16.385Z"
   },
   {
    "duration": 7,
    "start_time": "2022-06-05T13:51:33.402Z"
   },
   {
    "duration": 4,
    "start_time": "2022-06-05T13:51:38.692Z"
   },
   {
    "duration": 125,
    "start_time": "2022-06-05T13:51:38.698Z"
   },
   {
    "duration": 19,
    "start_time": "2022-06-05T13:51:38.825Z"
   },
   {
    "duration": 24,
    "start_time": "2022-06-05T13:51:38.846Z"
   },
   {
    "duration": 72,
    "start_time": "2022-06-05T13:51:38.871Z"
   },
   {
    "duration": 13,
    "start_time": "2022-06-05T13:51:38.945Z"
   },
   {
    "duration": 47,
    "start_time": "2022-06-05T13:51:38.960Z"
   },
   {
    "duration": 24,
    "start_time": "2022-06-05T13:51:39.010Z"
   },
   {
    "duration": 22,
    "start_time": "2022-06-05T13:51:39.037Z"
   },
   {
    "duration": 9,
    "start_time": "2022-06-05T13:51:39.061Z"
   },
   {
    "duration": 14,
    "start_time": "2022-06-05T13:51:39.072Z"
   },
   {
    "duration": 14,
    "start_time": "2022-06-05T13:51:39.088Z"
   },
   {
    "duration": 45,
    "start_time": "2022-06-05T13:51:39.103Z"
   },
   {
    "duration": 5,
    "start_time": "2022-06-05T13:51:39.150Z"
   },
   {
    "duration": 28,
    "start_time": "2022-06-05T13:51:39.156Z"
   },
   {
    "duration": 18,
    "start_time": "2022-06-05T13:51:39.186Z"
   },
   {
    "duration": 49,
    "start_time": "2022-06-05T13:52:00.044Z"
   },
   {
    "duration": 5,
    "start_time": "2022-06-05T13:52:06.969Z"
   },
   {
    "duration": 7,
    "start_time": "2022-06-05T13:52:12.082Z"
   },
   {
    "duration": 25,
    "start_time": "2022-06-05T13:52:27.514Z"
   },
   {
    "duration": 11,
    "start_time": "2022-06-05T13:54:13.866Z"
   },
   {
    "duration": 8,
    "start_time": "2022-06-05T13:54:28.041Z"
   },
   {
    "duration": 14,
    "start_time": "2022-06-05T13:54:49.298Z"
   },
   {
    "duration": 23,
    "start_time": "2022-06-05T13:55:14.494Z"
   },
   {
    "duration": 18,
    "start_time": "2022-06-05T13:58:42.045Z"
   },
   {
    "duration": 7,
    "start_time": "2022-06-05T13:58:49.735Z"
   },
   {
    "duration": 14,
    "start_time": "2022-06-05T13:58:53.647Z"
   },
   {
    "duration": 8,
    "start_time": "2022-06-05T13:59:30.781Z"
   },
   {
    "duration": 26,
    "start_time": "2022-06-05T14:00:34.220Z"
   },
   {
    "duration": 18,
    "start_time": "2022-06-05T14:02:08.869Z"
   },
   {
    "duration": 22,
    "start_time": "2022-06-05T14:08:12.039Z"
   },
   {
    "duration": 18,
    "start_time": "2022-06-05T14:10:23.380Z"
   },
   {
    "duration": 19,
    "start_time": "2022-06-05T14:10:44.873Z"
   },
   {
    "duration": 21,
    "start_time": "2022-06-05T14:10:50.176Z"
   },
   {
    "duration": 17,
    "start_time": "2022-06-05T14:11:38.576Z"
   },
   {
    "duration": 11,
    "start_time": "2022-06-05T14:12:10.586Z"
   },
   {
    "duration": 26,
    "start_time": "2022-06-05T14:12:17.242Z"
   },
   {
    "duration": 26,
    "start_time": "2022-06-05T14:12:18.089Z"
   },
   {
    "duration": 24,
    "start_time": "2022-06-05T14:12:18.688Z"
   },
   {
    "duration": 27,
    "start_time": "2022-06-05T14:13:26.547Z"
   },
   {
    "duration": 19,
    "start_time": "2022-06-05T14:13:58.019Z"
   },
   {
    "duration": 9,
    "start_time": "2022-06-05T14:14:08.220Z"
   },
   {
    "duration": 19,
    "start_time": "2022-06-05T14:14:15.698Z"
   },
   {
    "duration": 46,
    "start_time": "2022-06-05T14:15:55.983Z"
   },
   {
    "duration": 29,
    "start_time": "2022-06-05T14:16:32.083Z"
   },
   {
    "duration": 53,
    "start_time": "2022-06-05T14:17:22.404Z"
   },
   {
    "duration": 19,
    "start_time": "2022-06-05T14:17:29.179Z"
   },
   {
    "duration": 23,
    "start_time": "2022-06-05T14:20:04.429Z"
   },
   {
    "duration": 13,
    "start_time": "2022-06-05T14:20:53.634Z"
   },
   {
    "duration": 11,
    "start_time": "2022-06-05T14:20:57.883Z"
   },
   {
    "duration": 22,
    "start_time": "2022-06-05T14:21:43.718Z"
   },
   {
    "duration": 20,
    "start_time": "2022-06-05T14:21:59.267Z"
   },
   {
    "duration": 9,
    "start_time": "2022-06-05T14:22:10.245Z"
   },
   {
    "duration": 10,
    "start_time": "2022-06-05T14:23:13.382Z"
   },
   {
    "duration": 11,
    "start_time": "2022-06-05T14:23:54.696Z"
   },
   {
    "duration": 11,
    "start_time": "2022-06-05T14:23:55.438Z"
   },
   {
    "duration": 31,
    "start_time": "2022-06-05T14:24:38.122Z"
   },
   {
    "duration": 35,
    "start_time": "2022-06-05T14:25:03.146Z"
   },
   {
    "duration": 19,
    "start_time": "2022-06-05T14:25:56.819Z"
   },
   {
    "duration": 424,
    "start_time": "2022-06-05T14:27:16.728Z"
   },
   {
    "duration": 375,
    "start_time": "2022-06-05T14:27:24.758Z"
   },
   {
    "duration": 12,
    "start_time": "2022-06-05T14:27:28.295Z"
   },
   {
    "duration": 8,
    "start_time": "2022-06-05T14:27:40.808Z"
   },
   {
    "duration": 6,
    "start_time": "2022-06-05T14:27:43.689Z"
   },
   {
    "duration": 19,
    "start_time": "2022-06-05T14:27:59.255Z"
   },
   {
    "duration": 44,
    "start_time": "2022-06-05T14:30:32.617Z"
   },
   {
    "duration": 22,
    "start_time": "2022-06-05T14:30:41.481Z"
   },
   {
    "duration": 27,
    "start_time": "2022-06-05T14:31:26.058Z"
   },
   {
    "duration": 12,
    "start_time": "2022-06-05T14:31:30.720Z"
   },
   {
    "duration": 21,
    "start_time": "2022-06-05T14:32:11.149Z"
   },
   {
    "duration": 16,
    "start_time": "2022-06-05T14:32:17.609Z"
   },
   {
    "duration": 21,
    "start_time": "2022-06-05T14:32:36.787Z"
   },
   {
    "duration": 28,
    "start_time": "2022-06-05T14:33:08.047Z"
   },
   {
    "duration": 29,
    "start_time": "2022-06-05T14:33:29.947Z"
   },
   {
    "duration": 27,
    "start_time": "2022-06-05T14:33:38.194Z"
   },
   {
    "duration": 28,
    "start_time": "2022-06-05T14:33:58.402Z"
   },
   {
    "duration": 27,
    "start_time": "2022-06-05T14:34:36.516Z"
   },
   {
    "duration": 28,
    "start_time": "2022-06-05T14:35:21.660Z"
   },
   {
    "duration": 19,
    "start_time": "2022-06-05T14:35:50.590Z"
   },
   {
    "duration": 11,
    "start_time": "2022-06-05T14:41:11.441Z"
   },
   {
    "duration": 15,
    "start_time": "2022-06-05T14:41:28.791Z"
   },
   {
    "duration": 3,
    "start_time": "2022-06-05T14:41:36.009Z"
   },
   {
    "duration": 99,
    "start_time": "2022-06-05T14:41:36.015Z"
   },
   {
    "duration": 16,
    "start_time": "2022-06-05T14:41:36.116Z"
   },
   {
    "duration": 10,
    "start_time": "2022-06-05T14:41:36.134Z"
   },
   {
    "duration": 43,
    "start_time": "2022-06-05T14:41:36.147Z"
   },
   {
    "duration": 9,
    "start_time": "2022-06-05T14:41:36.192Z"
   },
   {
    "duration": 14,
    "start_time": "2022-06-05T14:41:36.203Z"
   },
   {
    "duration": 16,
    "start_time": "2022-06-05T14:41:36.219Z"
   },
   {
    "duration": 14,
    "start_time": "2022-06-05T14:41:36.237Z"
   },
   {
    "duration": 9,
    "start_time": "2022-06-05T14:41:36.253Z"
   },
   {
    "duration": 17,
    "start_time": "2022-06-05T14:41:36.264Z"
   },
   {
    "duration": 7,
    "start_time": "2022-06-05T14:41:36.283Z"
   },
   {
    "duration": 43,
    "start_time": "2022-06-05T14:41:36.292Z"
   },
   {
    "duration": 18,
    "start_time": "2022-06-05T14:41:36.337Z"
   },
   {
    "duration": 32,
    "start_time": "2022-06-05T14:41:36.357Z"
   },
   {
    "duration": 11,
    "start_time": "2022-06-05T14:41:36.390Z"
   },
   {
    "duration": 21,
    "start_time": "2022-06-05T14:41:36.403Z"
   },
   {
    "duration": 20,
    "start_time": "2022-06-05T14:41:36.425Z"
   },
   {
    "duration": 6,
    "start_time": "2022-06-05T14:41:36.447Z"
   },
   {
    "duration": 13,
    "start_time": "2022-06-05T14:41:36.454Z"
   },
   {
    "duration": 20,
    "start_time": "2022-06-05T14:41:36.469Z"
   },
   {
    "duration": 20,
    "start_time": "2022-06-05T14:41:44.846Z"
   },
   {
    "duration": 17,
    "start_time": "2022-06-05T14:44:31.429Z"
   },
   {
    "duration": 13,
    "start_time": "2022-06-05T14:44:37.154Z"
   },
   {
    "duration": 11,
    "start_time": "2022-06-05T14:44:45.191Z"
   },
   {
    "duration": 7,
    "start_time": "2022-06-05T14:44:49.094Z"
   },
   {
    "duration": 8,
    "start_time": "2022-06-05T14:48:31.209Z"
   },
   {
    "duration": 8,
    "start_time": "2022-06-05T14:48:43.545Z"
   },
   {
    "duration": 11,
    "start_time": "2022-06-05T14:48:44.237Z"
   },
   {
    "duration": 4,
    "start_time": "2022-06-05T14:48:58.934Z"
   },
   {
    "duration": 135,
    "start_time": "2022-06-05T14:48:58.941Z"
   },
   {
    "duration": 16,
    "start_time": "2022-06-05T14:48:59.078Z"
   },
   {
    "duration": 16,
    "start_time": "2022-06-05T14:48:59.095Z"
   },
   {
    "duration": 44,
    "start_time": "2022-06-05T14:48:59.122Z"
   },
   {
    "duration": 10,
    "start_time": "2022-06-05T14:48:59.167Z"
   },
   {
    "duration": 19,
    "start_time": "2022-06-05T14:48:59.178Z"
   },
   {
    "duration": 25,
    "start_time": "2022-06-05T14:48:59.199Z"
   },
   {
    "duration": 17,
    "start_time": "2022-06-05T14:48:59.226Z"
   },
   {
    "duration": 27,
    "start_time": "2022-06-05T14:48:59.245Z"
   },
   {
    "duration": 19,
    "start_time": "2022-06-05T14:48:59.275Z"
   },
   {
    "duration": 20,
    "start_time": "2022-06-05T14:48:59.296Z"
   },
   {
    "duration": 31,
    "start_time": "2022-06-05T14:48:59.318Z"
   },
   {
    "duration": 7,
    "start_time": "2022-06-05T14:48:59.352Z"
   },
   {
    "duration": 23,
    "start_time": "2022-06-05T14:48:59.360Z"
   },
   {
    "duration": 8,
    "start_time": "2022-06-05T14:48:59.385Z"
   },
   {
    "duration": 9,
    "start_time": "2022-06-05T14:48:59.394Z"
   },
   {
    "duration": 26,
    "start_time": "2022-06-05T14:48:59.404Z"
   },
   {
    "duration": 9,
    "start_time": "2022-06-05T14:48:59.432Z"
   },
   {
    "duration": 10,
    "start_time": "2022-06-05T14:48:59.442Z"
   },
   {
    "duration": 18,
    "start_time": "2022-06-05T14:48:59.454Z"
   },
   {
    "duration": 7,
    "start_time": "2022-06-05T14:49:08.195Z"
   },
   {
    "duration": 19,
    "start_time": "2022-06-05T14:49:11.246Z"
   },
   {
    "duration": 21,
    "start_time": "2022-06-05T14:49:16.024Z"
   },
   {
    "duration": 28,
    "start_time": "2022-06-05T14:49:55.448Z"
   },
   {
    "duration": 13,
    "start_time": "2022-06-05T14:50:07.691Z"
   },
   {
    "duration": 12,
    "start_time": "2022-06-05T14:50:17.141Z"
   },
   {
    "duration": 19,
    "start_time": "2022-06-05T14:52:10.604Z"
   },
   {
    "duration": 12,
    "start_time": "2022-06-05T14:52:31.803Z"
   },
   {
    "duration": 8,
    "start_time": "2022-06-05T14:52:39.550Z"
   },
   {
    "duration": 6,
    "start_time": "2022-06-05T14:52:59.061Z"
   },
   {
    "duration": 6,
    "start_time": "2022-06-05T14:53:10.991Z"
   },
   {
    "duration": 9,
    "start_time": "2022-06-05T14:55:37.487Z"
   },
   {
    "duration": 11,
    "start_time": "2022-06-05T14:57:20.829Z"
   },
   {
    "duration": 11,
    "start_time": "2022-06-05T14:57:30.707Z"
   },
   {
    "duration": 21,
    "start_time": "2022-06-05T14:57:36.494Z"
   },
   {
    "duration": 347,
    "start_time": "2022-06-05T14:58:49.101Z"
   },
   {
    "duration": 4,
    "start_time": "2022-06-05T14:59:06.898Z"
   },
   {
    "duration": 102,
    "start_time": "2022-06-05T14:59:06.903Z"
   },
   {
    "duration": 18,
    "start_time": "2022-06-05T14:59:07.007Z"
   },
   {
    "duration": 11,
    "start_time": "2022-06-05T14:59:07.027Z"
   },
   {
    "duration": 45,
    "start_time": "2022-06-05T14:59:07.040Z"
   },
   {
    "duration": 10,
    "start_time": "2022-06-05T14:59:07.087Z"
   },
   {
    "duration": 10,
    "start_time": "2022-06-05T14:59:07.099Z"
   },
   {
    "duration": 14,
    "start_time": "2022-06-05T14:59:07.110Z"
   },
   {
    "duration": 12,
    "start_time": "2022-06-05T14:59:07.126Z"
   },
   {
    "duration": 7,
    "start_time": "2022-06-05T14:59:07.139Z"
   },
   {
    "duration": 11,
    "start_time": "2022-06-05T14:59:07.148Z"
   },
   {
    "duration": 6,
    "start_time": "2022-06-05T14:59:07.161Z"
   },
   {
    "duration": 18,
    "start_time": "2022-06-05T14:59:07.169Z"
   },
   {
    "duration": 34,
    "start_time": "2022-06-05T14:59:07.189Z"
   },
   {
    "duration": 18,
    "start_time": "2022-06-05T14:59:07.225Z"
   },
   {
    "duration": 8,
    "start_time": "2022-06-05T14:59:07.244Z"
   },
   {
    "duration": 18,
    "start_time": "2022-06-05T14:59:07.254Z"
   },
   {
    "duration": 22,
    "start_time": "2022-06-05T14:59:07.274Z"
   },
   {
    "duration": 7,
    "start_time": "2022-06-05T14:59:07.324Z"
   },
   {
    "duration": 12,
    "start_time": "2022-06-05T14:59:07.333Z"
   },
   {
    "duration": 25,
    "start_time": "2022-06-05T14:59:07.347Z"
   },
   {
    "duration": 60,
    "start_time": "2022-06-05T14:59:07.374Z"
   },
   {
    "duration": 12,
    "start_time": "2022-06-05T14:59:07.435Z"
   },
   {
    "duration": 5,
    "start_time": "2022-06-05T14:59:07.449Z"
   },
   {
    "duration": 8,
    "start_time": "2022-06-05T14:59:07.456Z"
   },
   {
    "duration": 7,
    "start_time": "2022-06-05T14:59:07.466Z"
   },
   {
    "duration": 13,
    "start_time": "2022-06-05T14:59:07.475Z"
   },
   {
    "duration": 35,
    "start_time": "2022-06-05T14:59:07.489Z"
   },
   {
    "duration": 4,
    "start_time": "2022-06-05T14:59:07.527Z"
   },
   {
    "duration": 8,
    "start_time": "2022-06-05T14:59:07.533Z"
   },
   {
    "duration": 27,
    "start_time": "2022-06-05T14:59:07.542Z"
   },
   {
    "duration": 18,
    "start_time": "2022-06-05T14:59:07.571Z"
   },
   {
    "duration": 47,
    "start_time": "2022-06-05T14:59:07.590Z"
   },
   {
    "duration": 19,
    "start_time": "2022-06-05T14:59:07.639Z"
   },
   {
    "duration": 17,
    "start_time": "2022-06-05T14:59:07.659Z"
   },
   {
    "duration": 58,
    "start_time": "2022-06-05T14:59:07.678Z"
   },
   {
    "duration": 4,
    "start_time": "2022-06-05T14:59:07.738Z"
   },
   {
    "duration": 7,
    "start_time": "2022-06-05T14:59:12.697Z"
   },
   {
    "duration": 11,
    "start_time": "2022-06-05T14:59:18.742Z"
   },
   {
    "duration": 5,
    "start_time": "2022-06-05T14:59:29.157Z"
   },
   {
    "duration": 6,
    "start_time": "2022-06-05T15:02:41.023Z"
   },
   {
    "duration": 14,
    "start_time": "2022-06-05T15:02:44.839Z"
   },
   {
    "duration": 6,
    "start_time": "2022-06-05T15:02:49.608Z"
   },
   {
    "duration": 21,
    "start_time": "2022-06-05T15:03:39.438Z"
   },
   {
    "duration": 12,
    "start_time": "2022-06-05T15:03:49.960Z"
   },
   {
    "duration": 6,
    "start_time": "2022-06-05T15:04:31.223Z"
   },
   {
    "duration": 13,
    "start_time": "2022-06-05T15:04:34.404Z"
   },
   {
    "duration": 5,
    "start_time": "2022-06-05T15:04:41.103Z"
   },
   {
    "duration": 12,
    "start_time": "2022-06-05T15:05:25.502Z"
   },
   {
    "duration": 22,
    "start_time": "2022-06-05T15:06:21.344Z"
   },
   {
    "duration": 33,
    "start_time": "2022-06-05T15:07:37.562Z"
   },
   {
    "duration": 20,
    "start_time": "2022-06-05T15:09:00.761Z"
   },
   {
    "duration": 5,
    "start_time": "2022-06-05T15:09:32.403Z"
   },
   {
    "duration": 6,
    "start_time": "2022-06-05T15:10:15.515Z"
   },
   {
    "duration": 5,
    "start_time": "2022-06-05T15:10:21.601Z"
   },
   {
    "duration": 7,
    "start_time": "2022-06-05T15:10:30.041Z"
   },
   {
    "duration": 7,
    "start_time": "2022-06-05T15:13:24.350Z"
   },
   {
    "duration": 8,
    "start_time": "2022-06-05T15:13:43.908Z"
   },
   {
    "duration": 9,
    "start_time": "2022-06-05T15:13:46.763Z"
   },
   {
    "duration": 6,
    "start_time": "2022-06-05T15:13:54.468Z"
   },
   {
    "duration": 4,
    "start_time": "2022-06-05T15:14:17.861Z"
   },
   {
    "duration": 6,
    "start_time": "2022-06-05T15:14:22.998Z"
   },
   {
    "duration": 3,
    "start_time": "2022-06-05T15:14:33.328Z"
   },
   {
    "duration": 130,
    "start_time": "2022-06-05T15:14:33.334Z"
   },
   {
    "duration": 20,
    "start_time": "2022-06-05T15:14:33.466Z"
   },
   {
    "duration": 12,
    "start_time": "2022-06-05T15:14:33.488Z"
   },
   {
    "duration": 49,
    "start_time": "2022-06-05T15:14:33.503Z"
   },
   {
    "duration": 17,
    "start_time": "2022-06-05T15:14:33.554Z"
   },
   {
    "duration": 25,
    "start_time": "2022-06-05T15:14:33.573Z"
   },
   {
    "duration": 24,
    "start_time": "2022-06-05T15:14:33.600Z"
   },
   {
    "duration": 14,
    "start_time": "2022-06-05T15:14:33.625Z"
   },
   {
    "duration": 8,
    "start_time": "2022-06-05T15:14:33.640Z"
   },
   {
    "duration": 9,
    "start_time": "2022-06-05T15:14:33.650Z"
   },
   {
    "duration": 6,
    "start_time": "2022-06-05T15:14:33.660Z"
   },
   {
    "duration": 19,
    "start_time": "2022-06-05T15:14:33.667Z"
   },
   {
    "duration": 39,
    "start_time": "2022-06-05T15:14:33.687Z"
   },
   {
    "duration": 17,
    "start_time": "2022-06-05T15:14:33.727Z"
   },
   {
    "duration": 7,
    "start_time": "2022-06-05T15:14:33.746Z"
   },
   {
    "duration": 15,
    "start_time": "2022-06-05T15:14:33.754Z"
   },
   {
    "duration": 22,
    "start_time": "2022-06-05T15:14:33.771Z"
   },
   {
    "duration": 33,
    "start_time": "2022-06-05T15:14:33.794Z"
   },
   {
    "duration": 11,
    "start_time": "2022-06-05T15:14:33.829Z"
   },
   {
    "duration": 27,
    "start_time": "2022-06-05T15:14:33.841Z"
   },
   {
    "duration": 17,
    "start_time": "2022-06-05T15:14:33.870Z"
   },
   {
    "duration": 42,
    "start_time": "2022-06-05T15:14:33.888Z"
   },
   {
    "duration": 23,
    "start_time": "2022-06-05T15:14:33.931Z"
   },
   {
    "duration": 11,
    "start_time": "2022-06-05T15:14:33.956Z"
   },
   {
    "duration": 14,
    "start_time": "2022-06-05T15:14:33.969Z"
   },
   {
    "duration": 18,
    "start_time": "2022-06-05T15:14:33.986Z"
   },
   {
    "duration": 18,
    "start_time": "2022-06-05T15:14:34.005Z"
   },
   {
    "duration": 7,
    "start_time": "2022-06-05T15:14:34.027Z"
   },
   {
    "duration": 10,
    "start_time": "2022-06-05T15:14:34.035Z"
   },
   {
    "duration": 35,
    "start_time": "2022-06-05T15:14:34.046Z"
   },
   {
    "duration": 27,
    "start_time": "2022-06-05T15:14:34.083Z"
   },
   {
    "duration": 32,
    "start_time": "2022-06-05T15:14:34.112Z"
   },
   {
    "duration": 16,
    "start_time": "2022-06-05T15:14:34.146Z"
   },
   {
    "duration": 20,
    "start_time": "2022-06-05T15:14:34.164Z"
   },
   {
    "duration": 48,
    "start_time": "2022-06-05T15:14:34.186Z"
   },
   {
    "duration": 5,
    "start_time": "2022-06-05T15:14:34.236Z"
   },
   {
    "duration": 12,
    "start_time": "2022-06-05T15:14:34.243Z"
   },
   {
    "duration": 29,
    "start_time": "2022-06-05T15:14:34.256Z"
   },
   {
    "duration": 37,
    "start_time": "2022-06-05T15:14:34.287Z"
   },
   {
    "duration": 7,
    "start_time": "2022-06-05T15:14:36.901Z"
   },
   {
    "duration": 5,
    "start_time": "2022-06-05T15:15:18.734Z"
   },
   {
    "duration": 7,
    "start_time": "2022-06-05T15:15:20.766Z"
   },
   {
    "duration": 37,
    "start_time": "2022-06-05T15:15:51.469Z"
   },
   {
    "duration": 4,
    "start_time": "2022-06-05T15:16:03.443Z"
   },
   {
    "duration": 7,
    "start_time": "2022-06-05T15:16:05.347Z"
   },
   {
    "duration": 6,
    "start_time": "2022-06-05T15:16:46.453Z"
   },
   {
    "duration": 7,
    "start_time": "2022-06-05T15:16:47.995Z"
   },
   {
    "duration": 8,
    "start_time": "2022-06-05T15:17:54.054Z"
   },
   {
    "duration": 6,
    "start_time": "2022-06-05T15:18:51.281Z"
   },
   {
    "duration": 9,
    "start_time": "2022-06-05T15:18:55.604Z"
   },
   {
    "duration": 24,
    "start_time": "2022-06-05T15:19:01.399Z"
   },
   {
    "duration": 14,
    "start_time": "2022-06-05T15:19:17.030Z"
   },
   {
    "duration": 14,
    "start_time": "2022-06-05T15:19:34.044Z"
   },
   {
    "duration": 6,
    "start_time": "2022-06-05T15:20:06.926Z"
   },
   {
    "duration": 6,
    "start_time": "2022-06-05T15:20:22.523Z"
   },
   {
    "duration": 13,
    "start_time": "2022-06-05T15:20:34.431Z"
   },
   {
    "duration": 6,
    "start_time": "2022-06-05T15:21:21.470Z"
   },
   {
    "duration": 10,
    "start_time": "2022-06-05T15:21:24.773Z"
   },
   {
    "duration": 4,
    "start_time": "2022-06-05T15:21:46.268Z"
   },
   {
    "duration": 130,
    "start_time": "2022-06-05T15:21:46.275Z"
   },
   {
    "duration": 17,
    "start_time": "2022-06-05T15:21:46.424Z"
   },
   {
    "duration": 18,
    "start_time": "2022-06-05T15:21:46.443Z"
   },
   {
    "duration": 48,
    "start_time": "2022-06-05T15:21:46.464Z"
   },
   {
    "duration": 12,
    "start_time": "2022-06-05T15:21:46.514Z"
   },
   {
    "duration": 19,
    "start_time": "2022-06-05T15:21:46.528Z"
   },
   {
    "duration": 15,
    "start_time": "2022-06-05T15:21:46.549Z"
   },
   {
    "duration": 14,
    "start_time": "2022-06-05T15:21:46.566Z"
   },
   {
    "duration": 42,
    "start_time": "2022-06-05T15:21:46.581Z"
   },
   {
    "duration": 11,
    "start_time": "2022-06-05T15:21:46.627Z"
   },
   {
    "duration": 10,
    "start_time": "2022-06-05T15:21:46.640Z"
   },
   {
    "duration": 28,
    "start_time": "2022-06-05T15:21:46.652Z"
   },
   {
    "duration": 6,
    "start_time": "2022-06-05T15:21:46.682Z"
   },
   {
    "duration": 44,
    "start_time": "2022-06-05T15:21:46.690Z"
   },
   {
    "duration": 10,
    "start_time": "2022-06-05T15:21:46.736Z"
   },
   {
    "duration": 13,
    "start_time": "2022-06-05T15:21:46.750Z"
   },
   {
    "duration": 24,
    "start_time": "2022-06-05T15:21:46.765Z"
   },
   {
    "duration": 32,
    "start_time": "2022-06-05T15:21:46.791Z"
   },
   {
    "duration": 10,
    "start_time": "2022-06-05T15:21:46.825Z"
   },
   {
    "duration": 24,
    "start_time": "2022-06-05T15:21:46.836Z"
   },
   {
    "duration": 20,
    "start_time": "2022-06-05T15:21:46.861Z"
   },
   {
    "duration": 49,
    "start_time": "2022-06-05T15:21:46.883Z"
   },
   {
    "duration": 16,
    "start_time": "2022-06-05T15:21:46.933Z"
   },
   {
    "duration": 10,
    "start_time": "2022-06-05T15:21:46.952Z"
   },
   {
    "duration": 6,
    "start_time": "2022-06-05T15:21:46.963Z"
   },
   {
    "duration": 7,
    "start_time": "2022-06-05T15:21:46.971Z"
   },
   {
    "duration": 12,
    "start_time": "2022-06-05T15:21:46.980Z"
   },
   {
    "duration": 5,
    "start_time": "2022-06-05T15:21:46.995Z"
   },
   {
    "duration": 25,
    "start_time": "2022-06-05T15:21:47.002Z"
   },
   {
    "duration": 41,
    "start_time": "2022-06-05T15:21:47.029Z"
   },
   {
    "duration": 28,
    "start_time": "2022-06-05T15:21:47.072Z"
   },
   {
    "duration": 24,
    "start_time": "2022-06-05T15:21:47.123Z"
   },
   {
    "duration": 36,
    "start_time": "2022-06-05T15:21:47.149Z"
   },
   {
    "duration": 36,
    "start_time": "2022-06-05T15:21:47.187Z"
   },
   {
    "duration": 28,
    "start_time": "2022-06-05T15:21:47.225Z"
   },
   {
    "duration": 17,
    "start_time": "2022-06-05T15:21:47.255Z"
   },
   {
    "duration": 12,
    "start_time": "2022-06-05T15:21:47.273Z"
   },
   {
    "duration": 13,
    "start_time": "2022-06-05T15:21:47.287Z"
   },
   {
    "duration": 12,
    "start_time": "2022-06-05T15:21:50.510Z"
   },
   {
    "duration": 6,
    "start_time": "2022-06-05T15:21:55.398Z"
   },
   {
    "duration": 10,
    "start_time": "2022-06-05T15:22:29.503Z"
   },
   {
    "duration": 31,
    "start_time": "2022-06-05T15:22:38.568Z"
   },
   {
    "duration": 6,
    "start_time": "2022-06-05T15:22:42.432Z"
   },
   {
    "duration": 212,
    "start_time": "2022-06-05T15:26:48.928Z"
   },
   {
    "duration": 16,
    "start_time": "2022-06-05T15:27:18.025Z"
   },
   {
    "duration": 14,
    "start_time": "2022-06-05T15:27:44.530Z"
   },
   {
    "duration": 15,
    "start_time": "2022-06-05T15:27:48.090Z"
   },
   {
    "duration": 3,
    "start_time": "2022-06-05T15:28:10.484Z"
   },
   {
    "duration": 104,
    "start_time": "2022-06-05T15:28:10.489Z"
   },
   {
    "duration": 31,
    "start_time": "2022-06-05T15:28:10.596Z"
   },
   {
    "duration": 8,
    "start_time": "2022-06-05T15:28:10.628Z"
   },
   {
    "duration": 42,
    "start_time": "2022-06-05T15:28:10.638Z"
   },
   {
    "duration": 8,
    "start_time": "2022-06-05T15:28:10.682Z"
   },
   {
    "duration": 16,
    "start_time": "2022-06-05T15:28:10.692Z"
   },
   {
    "duration": 22,
    "start_time": "2022-06-05T15:28:10.709Z"
   },
   {
    "duration": 14,
    "start_time": "2022-06-05T15:28:10.733Z"
   },
   {
    "duration": 6,
    "start_time": "2022-06-05T15:28:10.748Z"
   },
   {
    "duration": 8,
    "start_time": "2022-06-05T15:28:10.757Z"
   },
   {
    "duration": 5,
    "start_time": "2022-06-05T15:28:10.767Z"
   },
   {
    "duration": 53,
    "start_time": "2022-06-05T15:28:10.773Z"
   },
   {
    "duration": 5,
    "start_time": "2022-06-05T15:28:10.827Z"
   },
   {
    "duration": 24,
    "start_time": "2022-06-05T15:28:10.833Z"
   },
   {
    "duration": 7,
    "start_time": "2022-06-05T15:28:10.859Z"
   },
   {
    "duration": 9,
    "start_time": "2022-06-05T15:28:10.867Z"
   },
   {
    "duration": 49,
    "start_time": "2022-06-05T15:28:10.877Z"
   },
   {
    "duration": 6,
    "start_time": "2022-06-05T15:28:10.927Z"
   },
   {
    "duration": 9,
    "start_time": "2022-06-05T15:28:10.935Z"
   },
   {
    "duration": 20,
    "start_time": "2022-06-05T15:28:10.945Z"
   },
   {
    "duration": 57,
    "start_time": "2022-06-05T15:28:10.967Z"
   },
   {
    "duration": 14,
    "start_time": "2022-06-05T15:28:11.026Z"
   },
   {
    "duration": 5,
    "start_time": "2022-06-05T15:28:11.042Z"
   },
   {
    "duration": 7,
    "start_time": "2022-06-05T15:28:11.049Z"
   },
   {
    "duration": 6,
    "start_time": "2022-06-05T15:28:11.057Z"
   },
   {
    "duration": 14,
    "start_time": "2022-06-05T15:28:11.064Z"
   },
   {
    "duration": 44,
    "start_time": "2022-06-05T15:28:11.080Z"
   },
   {
    "duration": 4,
    "start_time": "2022-06-05T15:28:11.128Z"
   },
   {
    "duration": 23,
    "start_time": "2022-06-05T15:28:11.134Z"
   },
   {
    "duration": 42,
    "start_time": "2022-06-05T15:28:11.159Z"
   },
   {
    "duration": 26,
    "start_time": "2022-06-05T15:28:11.202Z"
   },
   {
    "duration": 34,
    "start_time": "2022-06-05T15:28:11.229Z"
   },
   {
    "duration": 41,
    "start_time": "2022-06-05T15:28:11.265Z"
   },
   {
    "duration": 16,
    "start_time": "2022-06-05T15:28:11.307Z"
   },
   {
    "duration": 22,
    "start_time": "2022-06-05T15:28:11.325Z"
   },
   {
    "duration": 4,
    "start_time": "2022-06-05T15:28:11.348Z"
   },
   {
    "duration": 14,
    "start_time": "2022-06-05T15:28:11.354Z"
   },
   {
    "duration": 21,
    "start_time": "2022-06-05T15:28:11.370Z"
   },
   {
    "duration": 19,
    "start_time": "2022-06-05T15:28:11.392Z"
   },
   {
    "duration": 19,
    "start_time": "2022-06-05T15:28:11.412Z"
   },
   {
    "duration": 16,
    "start_time": "2022-06-05T15:28:11.432Z"
   },
   {
    "duration": 16,
    "start_time": "2022-06-05T15:28:11.450Z"
   },
   {
    "duration": 3,
    "start_time": "2022-06-05T15:28:11.468Z"
   },
   {
    "duration": 43,
    "start_time": "2022-06-05T15:28:11.472Z"
   },
   {
    "duration": 35,
    "start_time": "2022-06-05T15:28:11.517Z"
   },
   {
    "duration": 41,
    "start_time": "2022-06-05T15:28:11.554Z"
   },
   {
    "duration": 25,
    "start_time": "2022-06-05T15:28:11.596Z"
   },
   {
    "duration": 24,
    "start_time": "2022-06-05T15:28:14.523Z"
   },
   {
    "duration": 13,
    "start_time": "2022-06-05T15:28:38.771Z"
   },
   {
    "duration": 90,
    "start_time": "2022-06-05T15:28:46.202Z"
   },
   {
    "duration": 162,
    "start_time": "2022-06-05T15:28:55.707Z"
   },
   {
    "duration": 123,
    "start_time": "2022-06-05T15:29:53.128Z"
   },
   {
    "duration": 128,
    "start_time": "2022-06-05T15:30:25.439Z"
   },
   {
    "duration": 85,
    "start_time": "2022-06-05T15:30:26.314Z"
   },
   {
    "duration": 234,
    "start_time": "2022-06-05T15:34:22.996Z"
   },
   {
    "duration": 208,
    "start_time": "2022-06-05T15:34:31.196Z"
   },
   {
    "duration": 151,
    "start_time": "2022-06-05T15:34:49.972Z"
   },
   {
    "duration": 146,
    "start_time": "2022-06-05T15:34:56.794Z"
   },
   {
    "duration": 142,
    "start_time": "2022-06-05T16:01:54.307Z"
   },
   {
    "duration": 228,
    "start_time": "2022-06-05T16:02:01.698Z"
   },
   {
    "duration": 154,
    "start_time": "2022-06-05T16:02:08.703Z"
   },
   {
    "duration": 39,
    "start_time": "2022-06-05T16:02:44.170Z"
   },
   {
    "duration": 134,
    "start_time": "2022-06-05T16:04:24.275Z"
   },
   {
    "duration": 137,
    "start_time": "2022-06-05T16:04:30.146Z"
   },
   {
    "duration": 133,
    "start_time": "2022-06-05T16:04:42.299Z"
   },
   {
    "duration": 15,
    "start_time": "2022-06-05T16:05:50.606Z"
   },
   {
    "duration": 4,
    "start_time": "2022-06-05T16:06:01.773Z"
   },
   {
    "duration": 148,
    "start_time": "2022-06-05T16:06:05.316Z"
   },
   {
    "duration": 14,
    "start_time": "2022-06-05T16:08:47.178Z"
   },
   {
    "duration": 40,
    "start_time": "2022-06-05T16:09:07.175Z"
   },
   {
    "duration": 22,
    "start_time": "2022-06-05T16:09:40.335Z"
   },
   {
    "duration": 13,
    "start_time": "2022-06-05T16:09:47.783Z"
   },
   {
    "duration": 133,
    "start_time": "2022-06-05T16:09:54.264Z"
   },
   {
    "duration": 216,
    "start_time": "2022-06-05T16:14:09.104Z"
   },
   {
    "duration": 28,
    "start_time": "2022-06-05T16:14:35.314Z"
   },
   {
    "duration": 11,
    "start_time": "2022-06-05T16:20:41.363Z"
   },
   {
    "duration": 8,
    "start_time": "2022-06-05T16:21:22.308Z"
   },
   {
    "duration": 9,
    "start_time": "2022-06-05T16:21:31.170Z"
   },
   {
    "duration": 9,
    "start_time": "2022-06-05T16:22:06.196Z"
   },
   {
    "duration": 187,
    "start_time": "2022-06-05T16:23:09.148Z"
   },
   {
    "duration": 12,
    "start_time": "2022-06-05T16:23:22.429Z"
   },
   {
    "duration": 175,
    "start_time": "2022-06-05T16:23:30.437Z"
   },
   {
    "duration": 13,
    "start_time": "2022-06-05T16:23:57.780Z"
   },
   {
    "duration": 148,
    "start_time": "2022-06-05T16:24:43.588Z"
   },
   {
    "duration": 246,
    "start_time": "2022-06-05T16:24:50.571Z"
   },
   {
    "duration": 154,
    "start_time": "2022-06-05T16:24:56.180Z"
   },
   {
    "duration": 156,
    "start_time": "2022-06-05T16:25:06.168Z"
   },
   {
    "duration": 27,
    "start_time": "2022-06-05T16:25:32.068Z"
   },
   {
    "duration": 142,
    "start_time": "2022-06-05T16:25:37.382Z"
   },
   {
    "duration": 152,
    "start_time": "2022-06-05T16:25:51.894Z"
   },
   {
    "duration": 149,
    "start_time": "2022-06-05T16:26:03.405Z"
   },
   {
    "duration": 196,
    "start_time": "2022-06-05T16:26:12.598Z"
   },
   {
    "duration": 160,
    "start_time": "2022-06-05T16:26:32.287Z"
   },
   {
    "duration": 175,
    "start_time": "2022-06-05T16:27:06.975Z"
   },
   {
    "duration": 172,
    "start_time": "2022-06-05T16:27:29.838Z"
   },
   {
    "duration": 37,
    "start_time": "2022-06-05T16:28:03.391Z"
   },
   {
    "duration": 117,
    "start_time": "2022-06-05T16:29:49.750Z"
   },
   {
    "duration": 22,
    "start_time": "2022-06-05T16:30:07.815Z"
   },
   {
    "duration": 252,
    "start_time": "2022-06-05T16:30:12.199Z"
   },
   {
    "duration": 90,
    "start_time": "2022-06-05T16:30:26.671Z"
   },
   {
    "duration": 19,
    "start_time": "2022-06-05T16:36:42.874Z"
   },
   {
    "duration": 143,
    "start_time": "2022-06-05T16:44:56.704Z"
   },
   {
    "duration": 109,
    "start_time": "2022-06-05T16:47:34.398Z"
   },
   {
    "duration": 104,
    "start_time": "2022-06-05T16:48:12.936Z"
   },
   {
    "duration": 156,
    "start_time": "2022-06-05T16:48:24.802Z"
   },
   {
    "duration": 145,
    "start_time": "2022-06-05T16:48:27.439Z"
   },
   {
    "duration": 136,
    "start_time": "2022-06-05T16:48:44.943Z"
   },
   {
    "duration": 111,
    "start_time": "2022-06-05T16:50:18.841Z"
   },
   {
    "duration": 101,
    "start_time": "2022-06-05T16:50:23.746Z"
   },
   {
    "duration": 108,
    "start_time": "2022-06-05T16:50:27.355Z"
   },
   {
    "duration": 104,
    "start_time": "2022-06-05T16:50:35.457Z"
   },
   {
    "duration": 106,
    "start_time": "2022-06-05T16:51:37.508Z"
   },
   {
    "duration": 18,
    "start_time": "2022-06-05T16:53:34.980Z"
   },
   {
    "duration": 113,
    "start_time": "2022-06-05T16:53:57.461Z"
   },
   {
    "duration": 110,
    "start_time": "2022-06-05T16:53:58.126Z"
   },
   {
    "duration": 222,
    "start_time": "2022-06-05T16:53:58.972Z"
   },
   {
    "duration": 128,
    "start_time": "2022-06-05T16:54:31.799Z"
   },
   {
    "duration": 11,
    "start_time": "2022-06-05T16:54:43.686Z"
   },
   {
    "duration": 115,
    "start_time": "2022-06-05T16:54:49.950Z"
   },
   {
    "duration": 29,
    "start_time": "2022-06-05T16:55:00.830Z"
   },
   {
    "duration": 125,
    "start_time": "2022-06-05T16:55:35.135Z"
   },
   {
    "duration": 133,
    "start_time": "2022-06-05T16:55:58.687Z"
   },
   {
    "duration": 133,
    "start_time": "2022-06-05T16:56:40.104Z"
   },
   {
    "duration": 124,
    "start_time": "2022-06-05T16:57:55.869Z"
   },
   {
    "duration": 4,
    "start_time": "2022-06-05T16:58:38.137Z"
   },
   {
    "duration": 94,
    "start_time": "2022-06-05T16:58:38.143Z"
   },
   {
    "duration": 14,
    "start_time": "2022-06-05T16:58:38.239Z"
   },
   {
    "duration": 10,
    "start_time": "2022-06-05T16:58:38.255Z"
   },
   {
    "duration": 42,
    "start_time": "2022-06-05T16:58:38.267Z"
   },
   {
    "duration": 16,
    "start_time": "2022-06-05T16:58:38.311Z"
   },
   {
    "duration": 13,
    "start_time": "2022-06-05T16:58:38.329Z"
   },
   {
    "duration": 13,
    "start_time": "2022-06-05T16:58:38.343Z"
   },
   {
    "duration": 13,
    "start_time": "2022-06-05T16:58:38.357Z"
   },
   {
    "duration": 6,
    "start_time": "2022-06-05T16:58:38.372Z"
   },
   {
    "duration": 43,
    "start_time": "2022-06-05T16:58:38.380Z"
   },
   {
    "duration": 4,
    "start_time": "2022-06-05T16:58:38.425Z"
   },
   {
    "duration": 19,
    "start_time": "2022-06-05T16:58:38.431Z"
   },
   {
    "duration": 6,
    "start_time": "2022-06-05T16:58:38.451Z"
   },
   {
    "duration": 31,
    "start_time": "2022-06-05T16:58:38.458Z"
   },
   {
    "duration": 37,
    "start_time": "2022-06-05T16:58:38.490Z"
   },
   {
    "duration": 26,
    "start_time": "2022-06-05T16:58:38.529Z"
   },
   {
    "duration": 24,
    "start_time": "2022-06-05T16:58:38.556Z"
   },
   {
    "duration": 14,
    "start_time": "2022-06-05T16:58:38.582Z"
   },
   {
    "duration": 11,
    "start_time": "2022-06-05T16:58:38.597Z"
   },
   {
    "duration": 23,
    "start_time": "2022-06-05T16:58:38.610Z"
   },
   {
    "duration": 18,
    "start_time": "2022-06-05T16:58:38.635Z"
   },
   {
    "duration": 9,
    "start_time": "2022-06-05T16:58:38.654Z"
   },
   {
    "duration": 11,
    "start_time": "2022-06-05T16:58:38.664Z"
   },
   {
    "duration": 8,
    "start_time": "2022-06-05T16:58:38.677Z"
   },
   {
    "duration": 6,
    "start_time": "2022-06-05T16:58:38.687Z"
   },
   {
    "duration": 32,
    "start_time": "2022-06-05T16:58:38.694Z"
   },
   {
    "duration": 10,
    "start_time": "2022-06-05T16:58:38.727Z"
   },
   {
    "duration": 7,
    "start_time": "2022-06-05T16:58:38.740Z"
   },
   {
    "duration": 18,
    "start_time": "2022-06-05T16:58:38.748Z"
   },
   {
    "duration": 36,
    "start_time": "2022-06-05T16:58:38.767Z"
   },
   {
    "duration": 18,
    "start_time": "2022-06-05T16:58:38.804Z"
   },
   {
    "duration": 23,
    "start_time": "2022-06-05T16:58:38.824Z"
   },
   {
    "duration": 16,
    "start_time": "2022-06-05T16:58:38.849Z"
   },
   {
    "duration": 15,
    "start_time": "2022-06-05T16:58:38.867Z"
   },
   {
    "duration": 43,
    "start_time": "2022-06-05T16:58:38.883Z"
   },
   {
    "duration": 8,
    "start_time": "2022-06-05T16:58:38.928Z"
   },
   {
    "duration": 18,
    "start_time": "2022-06-05T16:58:38.937Z"
   },
   {
    "duration": 11,
    "start_time": "2022-06-05T16:58:38.957Z"
   },
   {
    "duration": 9,
    "start_time": "2022-06-05T16:58:38.970Z"
   },
   {
    "duration": 15,
    "start_time": "2022-06-05T16:58:38.980Z"
   },
   {
    "duration": 26,
    "start_time": "2022-06-05T16:58:38.997Z"
   },
   {
    "duration": 19,
    "start_time": "2022-06-05T16:58:39.025Z"
   },
   {
    "duration": 5,
    "start_time": "2022-06-05T16:58:39.045Z"
   },
   {
    "duration": 16,
    "start_time": "2022-06-05T16:58:39.051Z"
   },
   {
    "duration": 189,
    "start_time": "2022-06-05T16:58:39.069Z"
   },
   {
    "duration": 186,
    "start_time": "2022-06-05T16:58:39.260Z"
   },
   {
    "duration": 181,
    "start_time": "2022-06-05T16:58:39.448Z"
   },
   {
    "duration": 23,
    "start_time": "2022-06-05T16:58:39.631Z"
   },
   {
    "duration": 41,
    "start_time": "2022-06-05T16:58:39.656Z"
   },
   {
    "duration": 143,
    "start_time": "2022-06-05T16:58:39.699Z"
   },
   {
    "duration": 135,
    "start_time": "2022-06-05T16:58:39.843Z"
   },
   {
    "duration": 130,
    "start_time": "2022-06-05T16:58:39.979Z"
   },
   {
    "duration": 123,
    "start_time": "2022-06-05T16:58:40.111Z"
   },
   {
    "duration": 244,
    "start_time": "2022-06-05T16:58:40.236Z"
   },
   {
    "duration": 19,
    "start_time": "2022-06-05T16:58:40.482Z"
   },
   {
    "duration": 23,
    "start_time": "2022-06-05T16:58:40.503Z"
   },
   {
    "duration": 18,
    "start_time": "2022-06-05T16:58:40.527Z"
   },
   {
    "duration": 8,
    "start_time": "2022-06-05T16:58:40.546Z"
   },
   {
    "duration": 12,
    "start_time": "2022-06-05T16:58:40.555Z"
   },
   {
    "duration": 30,
    "start_time": "2022-06-05T16:58:40.568Z"
   },
   {
    "duration": 43,
    "start_time": "2022-06-05T16:58:40.599Z"
   },
   {
    "duration": 17,
    "start_time": "2022-06-05T16:58:40.643Z"
   },
   {
    "duration": 27,
    "start_time": "2022-06-05T16:58:40.661Z"
   },
   {
    "duration": 43,
    "start_time": "2022-06-05T16:58:40.690Z"
   },
   {
    "duration": 155,
    "start_time": "2022-06-05T16:58:40.735Z"
   },
   {
    "duration": 9,
    "start_time": "2022-06-05T16:58:40.891Z"
   },
   {
    "duration": 23,
    "start_time": "2022-06-05T16:58:40.902Z"
   },
   {
    "duration": 24,
    "start_time": "2022-06-05T16:58:40.926Z"
   },
   {
    "duration": 22,
    "start_time": "2022-06-05T16:58:40.951Z"
   },
   {
    "duration": 207,
    "start_time": "2022-06-05T16:58:40.974Z"
   },
   {
    "duration": 212,
    "start_time": "2022-06-05T16:58:41.183Z"
   },
   {
    "duration": 14,
    "start_time": "2022-06-05T16:58:41.397Z"
   },
   {
    "duration": 191,
    "start_time": "2022-06-05T16:58:41.412Z"
   },
   {
    "duration": 197,
    "start_time": "2022-06-05T16:58:41.605Z"
   },
   {
    "duration": 13,
    "start_time": "2022-06-05T16:58:41.803Z"
   },
   {
    "duration": 188,
    "start_time": "2022-06-05T16:58:41.823Z"
   },
   {
    "duration": 197,
    "start_time": "2022-06-05T16:58:42.013Z"
   },
   {
    "duration": 13,
    "start_time": "2022-06-05T16:58:42.211Z"
   },
   {
    "duration": 179,
    "start_time": "2022-06-05T16:58:42.226Z"
   },
   {
    "duration": 236,
    "start_time": "2022-06-05T16:58:42.407Z"
   },
   {
    "duration": 16,
    "start_time": "2022-06-05T16:58:42.645Z"
   },
   {
    "duration": 233,
    "start_time": "2022-06-05T16:58:42.667Z"
   },
   {
    "duration": 331,
    "start_time": "2022-06-05T16:58:42.901Z"
   },
   {
    "duration": 7,
    "start_time": "2022-06-05T16:58:43.234Z"
   },
   {
    "duration": 28,
    "start_time": "2022-06-05T16:58:43.243Z"
   },
   {
    "duration": 30,
    "start_time": "2022-06-05T16:58:43.272Z"
   },
   {
    "duration": 33,
    "start_time": "2022-06-05T16:58:43.304Z"
   },
   {
    "duration": 21,
    "start_time": "2022-06-05T16:58:43.339Z"
   },
   {
    "duration": 178,
    "start_time": "2022-06-05T16:58:43.361Z"
   },
   {
    "duration": 193,
    "start_time": "2022-06-05T16:58:43.541Z"
   },
   {
    "duration": 22,
    "start_time": "2022-06-05T16:58:43.736Z"
   },
   {
    "duration": 20,
    "start_time": "2022-06-05T16:58:43.759Z"
   },
   {
    "duration": 4,
    "start_time": "2022-06-05T16:59:19.045Z"
   },
   {
    "duration": 116,
    "start_time": "2022-06-05T16:59:20.962Z"
   },
   {
    "duration": 136,
    "start_time": "2022-06-05T16:59:55.954Z"
   },
   {
    "duration": 126,
    "start_time": "2022-06-05T17:00:03.242Z"
   },
   {
    "duration": 170,
    "start_time": "2022-06-05T17:00:36.914Z"
   },
   {
    "duration": 25,
    "start_time": "2022-06-05T17:00:39.243Z"
   },
   {
    "duration": 41,
    "start_time": "2022-06-05T17:00:41.298Z"
   },
   {
    "duration": 121,
    "start_time": "2022-06-05T17:00:42.157Z"
   },
   {
    "duration": 159,
    "start_time": "2022-06-05T17:00:42.648Z"
   },
   {
    "duration": 113,
    "start_time": "2022-06-05T17:00:42.857Z"
   },
   {
    "duration": 113,
    "start_time": "2022-06-05T17:00:43.065Z"
   },
   {
    "duration": 108,
    "start_time": "2022-06-05T17:00:43.264Z"
   },
   {
    "duration": 19,
    "start_time": "2022-06-05T17:00:43.464Z"
   },
   {
    "duration": 126,
    "start_time": "2022-06-05T17:00:49.658Z"
   },
   {
    "duration": 213,
    "start_time": "2022-06-05T17:00:54.353Z"
   },
   {
    "duration": 128,
    "start_time": "2022-06-05T17:01:01.422Z"
   },
   {
    "duration": 117,
    "start_time": "2022-06-05T17:01:12.050Z"
   },
   {
    "duration": 38,
    "start_time": "2022-06-05T17:01:42.773Z"
   },
   {
    "duration": 22,
    "start_time": "2022-06-05T17:01:50.395Z"
   },
   {
    "duration": 19,
    "start_time": "2022-06-05T17:02:04.235Z"
   },
   {
    "duration": 115,
    "start_time": "2022-06-05T17:03:00.676Z"
   },
   {
    "duration": 22,
    "start_time": "2022-06-05T17:03:36.245Z"
   },
   {
    "duration": 18,
    "start_time": "2022-06-05T17:03:56.989Z"
   },
   {
    "duration": 110,
    "start_time": "2022-06-05T17:05:14.134Z"
   },
   {
    "duration": 114,
    "start_time": "2022-06-05T17:05:35.710Z"
   },
   {
    "duration": 133,
    "start_time": "2022-06-05T17:05:45.917Z"
   },
   {
    "duration": 112,
    "start_time": "2022-06-05T17:06:19.039Z"
   },
   {
    "duration": 35,
    "start_time": "2022-06-05T17:07:20.423Z"
   },
   {
    "duration": 39,
    "start_time": "2022-06-05T17:07:34.552Z"
   },
   {
    "duration": 43,
    "start_time": "2022-06-05T17:09:06.746Z"
   },
   {
    "duration": 21,
    "start_time": "2022-06-05T17:09:27.374Z"
   },
   {
    "duration": 31,
    "start_time": "2022-06-05T17:09:56.037Z"
   },
   {
    "duration": 24,
    "start_time": "2022-06-05T17:10:13.649Z"
   },
   {
    "duration": 179,
    "start_time": "2022-06-05T17:11:12.281Z"
   },
   {
    "duration": 25,
    "start_time": "2022-06-05T17:11:56.776Z"
   },
   {
    "duration": 29,
    "start_time": "2022-06-05T17:19:36.940Z"
   },
   {
    "duration": 34,
    "start_time": "2022-06-05T17:27:45.120Z"
   },
   {
    "duration": 24,
    "start_time": "2022-06-05T17:28:58.462Z"
   },
   {
    "duration": 32,
    "start_time": "2022-06-05T17:29:07.446Z"
   },
   {
    "duration": 23,
    "start_time": "2022-06-05T17:29:23.328Z"
   },
   {
    "duration": 19,
    "start_time": "2022-06-05T17:29:38.056Z"
   },
   {
    "duration": 764,
    "start_time": "2022-06-05T17:40:05.819Z"
   },
   {
    "duration": 110,
    "start_time": "2022-06-05T17:40:06.585Z"
   },
   {
    "duration": 17,
    "start_time": "2022-06-05T17:40:06.696Z"
   },
   {
    "duration": 20,
    "start_time": "2022-06-05T17:40:06.715Z"
   },
   {
    "duration": 49,
    "start_time": "2022-06-05T17:40:06.736Z"
   },
   {
    "duration": 11,
    "start_time": "2022-06-05T17:40:06.786Z"
   },
   {
    "duration": 28,
    "start_time": "2022-06-05T17:40:06.798Z"
   },
   {
    "duration": 20,
    "start_time": "2022-06-05T17:40:06.829Z"
   },
   {
    "duration": 15,
    "start_time": "2022-06-05T17:40:06.851Z"
   },
   {
    "duration": 8,
    "start_time": "2022-06-05T17:40:06.868Z"
   },
   {
    "duration": 13,
    "start_time": "2022-06-05T17:40:06.877Z"
   },
   {
    "duration": 8,
    "start_time": "2022-06-05T17:40:06.892Z"
   },
   {
    "duration": 32,
    "start_time": "2022-06-05T17:40:06.901Z"
   },
   {
    "duration": 6,
    "start_time": "2022-06-05T17:40:06.935Z"
   },
   {
    "duration": 21,
    "start_time": "2022-06-05T17:40:06.942Z"
   },
   {
    "duration": 7,
    "start_time": "2022-06-05T17:40:06.965Z"
   },
   {
    "duration": 10,
    "start_time": "2022-06-05T17:40:06.973Z"
   },
   {
    "duration": 18,
    "start_time": "2022-06-05T17:40:06.984Z"
   },
   {
    "duration": 31,
    "start_time": "2022-06-05T17:40:07.004Z"
   },
   {
    "duration": 15,
    "start_time": "2022-06-05T17:40:07.036Z"
   },
   {
    "duration": 20,
    "start_time": "2022-06-05T17:40:07.053Z"
   },
   {
    "duration": 19,
    "start_time": "2022-06-05T17:40:07.075Z"
   },
   {
    "duration": 39,
    "start_time": "2022-06-05T17:40:07.095Z"
   },
   {
    "duration": 5,
    "start_time": "2022-06-05T17:40:07.136Z"
   },
   {
    "duration": 9,
    "start_time": "2022-06-05T17:40:07.143Z"
   },
   {
    "duration": 6,
    "start_time": "2022-06-05T17:40:07.153Z"
   },
   {
    "duration": 9,
    "start_time": "2022-06-05T17:40:07.160Z"
   },
   {
    "duration": 10,
    "start_time": "2022-06-05T17:40:07.172Z"
   },
   {
    "duration": 7,
    "start_time": "2022-06-05T17:40:07.183Z"
   },
   {
    "duration": 6,
    "start_time": "2022-06-05T17:40:07.192Z"
   },
   {
    "duration": 46,
    "start_time": "2022-06-05T17:40:07.199Z"
   },
   {
    "duration": 19,
    "start_time": "2022-06-05T17:40:07.248Z"
   },
   {
    "duration": 19,
    "start_time": "2022-06-05T17:40:07.269Z"
   },
   {
    "duration": 18,
    "start_time": "2022-06-05T17:40:07.289Z"
   },
   {
    "duration": 42,
    "start_time": "2022-06-05T17:40:07.308Z"
   },
   {
    "duration": 20,
    "start_time": "2022-06-05T17:40:07.351Z"
   },
   {
    "duration": 6,
    "start_time": "2022-06-05T17:40:07.372Z"
   },
   {
    "duration": 9,
    "start_time": "2022-06-05T17:40:07.379Z"
   },
   {
    "duration": 9,
    "start_time": "2022-06-05T17:40:07.390Z"
   },
   {
    "duration": 7,
    "start_time": "2022-06-05T17:40:07.400Z"
   },
   {
    "duration": 30,
    "start_time": "2022-06-05T17:40:07.408Z"
   },
   {
    "duration": 18,
    "start_time": "2022-06-05T17:40:07.440Z"
   },
   {
    "duration": 14,
    "start_time": "2022-06-05T17:40:07.459Z"
   },
   {
    "duration": 2,
    "start_time": "2022-06-05T17:40:07.474Z"
   },
   {
    "duration": 15,
    "start_time": "2022-06-05T17:40:07.478Z"
   },
   {
    "duration": 186,
    "start_time": "2022-06-05T17:40:07.494Z"
   },
   {
    "duration": 176,
    "start_time": "2022-06-05T17:40:07.682Z"
   },
   {
    "duration": 191,
    "start_time": "2022-06-05T17:40:07.860Z"
   },
   {
    "duration": 25,
    "start_time": "2022-06-05T17:40:08.053Z"
   },
   {
    "duration": 61,
    "start_time": "2022-06-05T17:40:08.080Z"
   },
   {
    "duration": 29,
    "start_time": "2022-06-05T17:40:08.143Z"
   },
   {
    "duration": 142,
    "start_time": "2022-06-05T17:40:08.173Z"
   },
   {
    "duration": 136,
    "start_time": "2022-06-05T17:40:08.317Z"
   },
   {
    "duration": 126,
    "start_time": "2022-06-05T17:40:08.454Z"
   },
   {
    "duration": 130,
    "start_time": "2022-06-05T17:40:08.582Z"
   },
   {
    "duration": 140,
    "start_time": "2022-06-05T17:40:08.714Z"
   },
   {
    "duration": 26,
    "start_time": "2022-06-05T17:40:08.856Z"
   },
   {
    "duration": 6,
    "start_time": "2022-06-05T17:40:08.884Z"
   },
   {
    "duration": 14,
    "start_time": "2022-06-05T17:40:08.891Z"
   },
   {
    "duration": 15,
    "start_time": "2022-06-05T17:40:08.923Z"
   },
   {
    "duration": 94,
    "start_time": "2022-06-05T17:40:08.942Z"
   },
   {
    "duration": 28,
    "start_time": "2022-06-05T17:40:09.038Z"
   },
   {
    "duration": 28,
    "start_time": "2022-06-05T17:40:09.067Z"
   },
   {
    "duration": 40,
    "start_time": "2022-06-05T17:40:09.097Z"
   },
   {
    "duration": 29,
    "start_time": "2022-06-05T17:40:09.139Z"
   },
   {
    "duration": 19,
    "start_time": "2022-06-05T17:40:09.170Z"
   },
   {
    "duration": 188,
    "start_time": "2022-06-05T17:40:09.190Z"
   },
   {
    "duration": 10,
    "start_time": "2022-06-05T17:40:09.379Z"
   },
   {
    "duration": 13,
    "start_time": "2022-06-05T17:40:09.390Z"
   },
   {
    "duration": 40,
    "start_time": "2022-06-05T17:40:09.405Z"
   },
   {
    "duration": 23,
    "start_time": "2022-06-05T17:40:09.447Z"
   },
   {
    "duration": 192,
    "start_time": "2022-06-05T17:40:09.472Z"
   },
   {
    "duration": 208,
    "start_time": "2022-06-05T17:40:09.666Z"
   },
   {
    "duration": 14,
    "start_time": "2022-06-05T17:40:09.876Z"
   },
   {
    "duration": 199,
    "start_time": "2022-06-05T17:40:09.891Z"
   },
   {
    "duration": 200,
    "start_time": "2022-06-05T17:40:10.091Z"
   },
   {
    "duration": 12,
    "start_time": "2022-06-05T17:40:10.293Z"
   },
   {
    "duration": 190,
    "start_time": "2022-06-05T17:40:10.307Z"
   },
   {
    "duration": 188,
    "start_time": "2022-06-05T17:40:10.499Z"
   },
   {
    "duration": 8,
    "start_time": "2022-06-05T17:40:10.688Z"
   },
   {
    "duration": 193,
    "start_time": "2022-06-05T17:40:10.698Z"
   },
   {
    "duration": 200,
    "start_time": "2022-06-05T17:40:10.896Z"
   },
   {
    "duration": 14,
    "start_time": "2022-06-05T17:40:11.097Z"
   },
   {
    "duration": 201,
    "start_time": "2022-06-05T17:40:11.112Z"
   },
   {
    "duration": 200,
    "start_time": "2022-06-05T17:40:11.315Z"
   },
   {
    "duration": 18,
    "start_time": "2022-06-05T17:40:11.516Z"
   },
   {
    "duration": 27,
    "start_time": "2022-06-05T17:40:11.538Z"
   },
   {
    "duration": 22,
    "start_time": "2022-06-05T17:40:11.567Z"
   },
   {
    "duration": 16,
    "start_time": "2022-06-05T17:40:11.591Z"
   },
   {
    "duration": 23,
    "start_time": "2022-06-05T17:40:11.608Z"
   },
   {
    "duration": 260,
    "start_time": "2022-06-05T17:40:11.632Z"
   },
   {
    "duration": 192,
    "start_time": "2022-06-05T17:40:11.894Z"
   },
   {
    "duration": 19,
    "start_time": "2022-06-05T17:40:12.087Z"
   },
   {
    "duration": 31,
    "start_time": "2022-06-05T17:40:12.108Z"
   },
   {
    "duration": 769,
    "start_time": "2022-06-05T17:41:28.569Z"
   },
   {
    "duration": 98,
    "start_time": "2022-06-05T17:41:29.340Z"
   },
   {
    "duration": 15,
    "start_time": "2022-06-05T17:41:29.439Z"
   },
   {
    "duration": 9,
    "start_time": "2022-06-05T17:41:29.456Z"
   },
   {
    "duration": 46,
    "start_time": "2022-06-05T17:41:29.466Z"
   },
   {
    "duration": 16,
    "start_time": "2022-06-05T17:41:29.513Z"
   },
   {
    "duration": 22,
    "start_time": "2022-06-05T17:41:29.536Z"
   },
   {
    "duration": 15,
    "start_time": "2022-06-05T17:41:29.560Z"
   },
   {
    "duration": 14,
    "start_time": "2022-06-05T17:41:29.577Z"
   },
   {
    "duration": 7,
    "start_time": "2022-06-05T17:41:29.594Z"
   },
   {
    "duration": 8,
    "start_time": "2022-06-05T17:41:29.603Z"
   },
   {
    "duration": 24,
    "start_time": "2022-06-05T17:41:29.612Z"
   },
   {
    "duration": 16,
    "start_time": "2022-06-05T17:41:29.639Z"
   },
   {
    "duration": 4,
    "start_time": "2022-06-05T17:41:29.657Z"
   },
   {
    "duration": 18,
    "start_time": "2022-06-05T17:41:29.663Z"
   },
   {
    "duration": 7,
    "start_time": "2022-06-05T17:41:29.683Z"
   },
   {
    "duration": 12,
    "start_time": "2022-06-05T17:41:29.692Z"
   },
   {
    "duration": 49,
    "start_time": "2022-06-05T17:41:29.705Z"
   },
   {
    "duration": 6,
    "start_time": "2022-06-05T17:41:29.755Z"
   },
   {
    "duration": 13,
    "start_time": "2022-06-05T17:41:29.762Z"
   },
   {
    "duration": 23,
    "start_time": "2022-06-05T17:41:29.776Z"
   },
   {
    "duration": 17,
    "start_time": "2022-06-05T17:41:29.800Z"
   },
   {
    "duration": 16,
    "start_time": "2022-06-05T17:41:29.818Z"
   },
   {
    "duration": 21,
    "start_time": "2022-06-05T17:41:29.835Z"
   },
   {
    "duration": 16,
    "start_time": "2022-06-05T17:41:29.858Z"
   },
   {
    "duration": 12,
    "start_time": "2022-06-05T17:41:29.876Z"
   },
   {
    "duration": 16,
    "start_time": "2022-06-05T17:41:29.889Z"
   },
   {
    "duration": 11,
    "start_time": "2022-06-05T17:41:29.909Z"
   },
   {
    "duration": 32,
    "start_time": "2022-06-05T17:41:29.921Z"
   },
   {
    "duration": 16,
    "start_time": "2022-06-05T17:41:29.955Z"
   },
   {
    "duration": 43,
    "start_time": "2022-06-05T17:41:29.973Z"
   },
   {
    "duration": 33,
    "start_time": "2022-06-05T17:41:30.017Z"
   },
   {
    "duration": 39,
    "start_time": "2022-06-05T17:41:30.053Z"
   },
   {
    "duration": 27,
    "start_time": "2022-06-05T17:41:30.093Z"
   },
   {
    "duration": 40,
    "start_time": "2022-06-05T17:41:30.122Z"
   },
   {
    "duration": 41,
    "start_time": "2022-06-05T17:41:30.164Z"
   },
   {
    "duration": 20,
    "start_time": "2022-06-05T17:41:30.207Z"
   },
   {
    "duration": 26,
    "start_time": "2022-06-05T17:41:30.228Z"
   },
   {
    "duration": 35,
    "start_time": "2022-06-05T17:41:30.256Z"
   },
   {
    "duration": 21,
    "start_time": "2022-06-05T17:41:30.293Z"
   },
   {
    "duration": 37,
    "start_time": "2022-06-05T17:41:30.316Z"
   },
   {
    "duration": 26,
    "start_time": "2022-06-05T17:41:30.355Z"
   },
   {
    "duration": 22,
    "start_time": "2022-06-05T17:41:30.383Z"
   },
   {
    "duration": 36,
    "start_time": "2022-06-05T17:41:30.407Z"
   },
   {
    "duration": 34,
    "start_time": "2022-06-05T17:41:30.444Z"
   },
   {
    "duration": 198,
    "start_time": "2022-06-05T17:41:30.479Z"
   },
   {
    "duration": 177,
    "start_time": "2022-06-05T17:41:30.679Z"
   },
   {
    "duration": 189,
    "start_time": "2022-06-05T17:41:30.858Z"
   },
   {
    "duration": 23,
    "start_time": "2022-06-05T17:41:31.049Z"
   },
   {
    "duration": 53,
    "start_time": "2022-06-05T17:41:31.074Z"
   },
   {
    "duration": 21,
    "start_time": "2022-06-05T17:41:31.132Z"
   },
   {
    "duration": 133,
    "start_time": "2022-06-05T17:41:31.155Z"
   },
   {
    "duration": 123,
    "start_time": "2022-06-05T17:41:31.290Z"
   },
   {
    "duration": 133,
    "start_time": "2022-06-05T17:41:31.415Z"
   },
   {
    "duration": 147,
    "start_time": "2022-06-05T17:41:31.550Z"
   },
   {
    "duration": 147,
    "start_time": "2022-06-05T17:41:31.699Z"
   },
   {
    "duration": 36,
    "start_time": "2022-06-05T17:41:31.848Z"
   },
   {
    "duration": 8,
    "start_time": "2022-06-05T17:41:31.886Z"
   },
   {
    "duration": 34,
    "start_time": "2022-06-05T17:41:31.895Z"
   },
   {
    "duration": 25,
    "start_time": "2022-06-05T17:41:31.931Z"
   },
   {
    "duration": 105,
    "start_time": "2022-06-05T17:41:31.958Z"
   },
   {
    "duration": 29,
    "start_time": "2022-06-05T17:41:32.065Z"
   },
   {
    "duration": 47,
    "start_time": "2022-06-05T17:41:32.096Z"
   },
   {
    "duration": 21,
    "start_time": "2022-06-05T17:41:32.145Z"
   },
   {
    "duration": 31,
    "start_time": "2022-06-05T17:41:32.167Z"
   },
   {
    "duration": 39,
    "start_time": "2022-06-05T17:41:32.199Z"
   },
   {
    "duration": 160,
    "start_time": "2022-06-05T17:41:32.240Z"
   },
   {
    "duration": 9,
    "start_time": "2022-06-05T17:41:32.402Z"
   },
   {
    "duration": 12,
    "start_time": "2022-06-05T17:41:32.430Z"
   },
   {
    "duration": 21,
    "start_time": "2022-06-05T17:41:32.443Z"
   },
   {
    "duration": 23,
    "start_time": "2022-06-05T17:41:32.466Z"
   },
   {
    "duration": 238,
    "start_time": "2022-06-05T17:41:32.491Z"
   },
   {
    "duration": 236,
    "start_time": "2022-06-05T17:41:32.731Z"
   },
   {
    "duration": 13,
    "start_time": "2022-06-05T17:41:32.968Z"
   },
   {
    "duration": 210,
    "start_time": "2022-06-05T17:41:32.983Z"
   },
   {
    "duration": 212,
    "start_time": "2022-06-05T17:41:33.195Z"
   },
   {
    "duration": 17,
    "start_time": "2022-06-05T17:41:33.408Z"
   },
   {
    "duration": 195,
    "start_time": "2022-06-05T17:41:33.427Z"
   },
   {
    "duration": 191,
    "start_time": "2022-06-05T17:41:33.627Z"
   },
   {
    "duration": 16,
    "start_time": "2022-06-05T17:41:33.819Z"
   },
   {
    "duration": 176,
    "start_time": "2022-06-05T17:41:33.837Z"
   },
   {
    "duration": 193,
    "start_time": "2022-06-05T17:41:34.024Z"
   },
   {
    "duration": 26,
    "start_time": "2022-06-05T17:41:34.219Z"
   },
   {
    "duration": 183,
    "start_time": "2022-06-05T17:41:34.247Z"
   },
   {
    "duration": 186,
    "start_time": "2022-06-05T17:41:34.439Z"
   },
   {
    "duration": 11,
    "start_time": "2022-06-05T17:41:34.627Z"
   },
   {
    "duration": 22,
    "start_time": "2022-06-05T17:41:34.640Z"
   },
   {
    "duration": 23,
    "start_time": "2022-06-05T17:41:34.664Z"
   },
   {
    "duration": 22,
    "start_time": "2022-06-05T17:41:34.689Z"
   },
   {
    "duration": 25,
    "start_time": "2022-06-05T17:41:34.713Z"
   },
   {
    "duration": 238,
    "start_time": "2022-06-05T17:41:34.740Z"
   },
   {
    "duration": 181,
    "start_time": "2022-06-05T17:41:34.979Z"
   },
   {
    "duration": 20,
    "start_time": "2022-06-05T17:41:35.162Z"
   },
   {
    "duration": 19,
    "start_time": "2022-06-05T17:41:35.183Z"
   }
  ],
  "colab": {
   "name": "DA+. Сборный проект 1. Шаблон (1).ipynb",
   "provenance": []
  },
  "kernelspec": {
   "display_name": "Python 3 (ipykernel)",
   "language": "python",
   "name": "python3"
  },
  "language_info": {
   "codemirror_mode": {
    "name": "ipython",
    "version": 3
   },
   "file_extension": ".py",
   "mimetype": "text/x-python",
   "name": "python",
   "nbconvert_exporter": "python",
   "pygments_lexer": "ipython3",
   "version": "3.9.7"
  },
  "toc": {
   "base_numbering": 1,
   "nav_menu": {
    "height": "304px",
    "width": "570px"
   },
   "number_sections": true,
   "sideBar": true,
   "skip_h1_title": true,
   "title_cell": "Table of Contents",
   "title_sidebar": "Contents",
   "toc_cell": false,
   "toc_position": {
    "height": "calc(100% - 180px)",
    "left": "10px",
    "top": "150px",
    "width": "375.391px"
   },
   "toc_section_display": true,
   "toc_window_display": false
  }
 },
 "nbformat": 4,
 "nbformat_minor": 1
}
